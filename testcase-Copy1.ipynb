{
 "cells": [
  {
   "cell_type": "markdown",
   "id": "3e270096-ffed-4b9b-93f6-86ed97936a69",
   "metadata": {},
   "source": [
    "# Random incidence"
   ]
  },
  {
   "cell_type": "code",
   "execution_count": 97,
   "id": "c2842f25",
   "metadata": {
    "execution": {
     "iopub.execute_input": "2022-02-01T19:17:09.027732Z",
     "iopub.status.busy": "2022-02-01T19:17:09.026731Z",
     "iopub.status.idle": "2022-02-01T19:17:09.039728Z",
     "shell.execute_reply": "2022-02-01T19:17:09.038729Z",
     "shell.execute_reply.started": "2022-02-01T19:17:09.027732Z"
    },
    "tags": []
   },
   "outputs": [],
   "source": [
    "from inputresolver import resolve, invert_edges, flatten_order, reassigneq, direct_eqs, flatten_and_transform_condensation, default_in_raw, eqvars, reassign, default_in\n",
    "from representations import digraph_repr, draw_dsm, drawbipartite, draw, bipartite_repr, tree_incidence\n",
    "from datastructures import notation_from_tree"
   ]
  },
  {
   "cell_type": "code",
   "execution_count": 24,
   "id": "b0c7abfc-c9b4-4578-a7c7-76d75df4f158",
   "metadata": {
    "execution": {
     "iopub.execute_input": "2022-02-01T18:49:38.292327Z",
     "iopub.status.busy": "2022-02-01T18:49:38.291328Z",
     "iopub.status.idle": "2022-02-01T18:49:38.302327Z",
     "shell.execute_reply": "2022-02-01T18:49:38.301322Z",
     "shell.execute_reply.started": "2022-02-01T18:49:38.292327Z"
    },
    "tags": []
   },
   "outputs": [],
   "source": [
    "from compute import Var, adda, Model, RefNode"
   ]
  },
  {
   "cell_type": "code",
   "execution_count": 2,
   "id": "b1b0cabe",
   "metadata": {
    "execution": {
     "iopub.execute_input": "2022-02-01T18:42:43.843654Z",
     "iopub.status.busy": "2022-02-01T18:42:43.843654Z",
     "iopub.status.idle": "2022-02-01T18:42:43.851653Z",
     "shell.execute_reply": "2022-02-01T18:42:43.850654Z",
     "shell.execute_reply.started": "2022-02-01T18:42:43.843654Z"
    },
    "tags": []
   },
   "outputs": [],
   "source": [
    "import matplotlib.pyplot as plt\n",
    "import matplotlib.patches as patches"
   ]
  },
  {
   "cell_type": "code",
   "execution_count": 90,
   "id": "97264978",
   "metadata": {
    "execution": {
     "iopub.execute_input": "2022-02-01T19:14:26.555650Z",
     "iopub.status.busy": "2022-02-01T19:14:26.554654Z",
     "iopub.status.idle": "2022-02-01T19:14:26.563658Z",
     "shell.execute_reply": "2022-02-01T19:14:26.562654Z",
     "shell.execute_reply.started": "2022-02-01T19:14:26.555650Z"
    },
    "tags": []
   },
   "outputs": [],
   "source": [
    "from notation import generate_execution, mapping, default_sequence, make_acyclic, graphs_from_incidence"
   ]
  },
  {
   "cell_type": "code",
   "execution_count": 4,
   "id": "bbadde06",
   "metadata": {
    "execution": {
     "iopub.execute_input": "2022-02-01T18:42:46.164269Z",
     "iopub.status.busy": "2022-02-01T18:42:46.164269Z",
     "iopub.status.idle": "2022-02-01T18:42:46.176270Z",
     "shell.execute_reply": "2022-02-01T18:42:46.175272Z",
     "shell.execute_reply.started": "2022-02-01T18:42:46.164269Z"
    },
    "tags": []
   },
   "outputs": [],
   "source": [
    "from testproblems import generate_random_prob"
   ]
  },
  {
   "cell_type": "code",
   "execution_count": 5,
   "id": "e7f11b9e",
   "metadata": {
    "execution": {
     "iopub.execute_input": "2022-02-01T18:42:47.323187Z",
     "iopub.status.busy": "2022-02-01T18:42:47.321183Z",
     "iopub.status.idle": "2022-02-01T18:42:47.331186Z",
     "shell.execute_reply": "2022-02-01T18:42:47.329184Z",
     "shell.execute_reply.started": "2022-02-01T18:42:47.323187Z"
    },
    "tags": []
   },
   "outputs": [],
   "source": [
    "from random import Random, sample, randint\n",
    "import random\n",
    "import copy\n",
    "import sympy as sp\n",
    "import numpy as np\n",
    "from functools import reduce\n",
    "import networkx as nx"
   ]
  },
  {
   "cell_type": "code",
   "execution_count": 36,
   "id": "e222d317",
   "metadata": {
    "execution": {
     "iopub.execute_input": "2022-02-01T18:54:42.858254Z",
     "iopub.status.busy": "2022-02-01T18:54:42.857250Z",
     "iopub.status.idle": "2022-02-01T18:54:42.872250Z",
     "shell.execute_reply": "2022-02-01T18:54:42.871250Z",
     "shell.execute_reply.started": "2022-02-01T18:54:42.858254Z"
    },
    "tags": []
   },
   "outputs": [],
   "source": [
    "from functools import reduce\n",
    "import operator"
   ]
  },
  {
   "cell_type": "code",
   "execution_count": 6,
   "id": "adf1d36c",
   "metadata": {
    "execution": {
     "iopub.execute_input": "2022-02-01T18:42:49.317483Z",
     "iopub.status.busy": "2022-02-01T18:42:49.316477Z",
     "iopub.status.idle": "2022-02-01T18:42:49.337475Z",
     "shell.execute_reply": "2022-02-01T18:42:49.336477Z",
     "shell.execute_reply.started": "2022-02-01T18:42:49.317483Z"
    },
    "tags": []
   },
   "outputs": [],
   "source": [
    "n_eqs = 10\n",
    "n_vars = 13\n",
    "seed = 8#seed 10 is nice\n",
    "sparsity = 1.1 #1.7\n",
    "eqv, varinc, dout = generate_random_prob(n_eqs, n_vars, seed, sparsity)"
   ]
  },
  {
   "cell_type": "code",
   "execution_count": 7,
   "id": "a1f44a61",
   "metadata": {
    "execution": {
     "iopub.execute_input": "2022-02-01T18:42:49.939687Z",
     "iopub.status.busy": "2022-02-01T18:42:49.939157Z",
     "iopub.status.idle": "2022-02-01T18:42:49.952692Z",
     "shell.execute_reply": "2022-02-01T18:42:49.951682Z",
     "shell.execute_reply.started": "2022-02-01T18:42:49.939687Z"
    },
    "tags": []
   },
   "outputs": [
    {
     "data": {
      "text/plain": [
       "{0: 19, 7: 15, 3: 10, 6: 17, 9: 20, 5: 13, 8: 18, 1: 11, 2: 14, 4: 12}"
      ]
     },
     "execution_count": 7,
     "metadata": {},
     "output_type": "execute_result"
    }
   ],
   "source": [
    "dout"
   ]
  },
  {
   "cell_type": "code",
   "execution_count": 19,
   "id": "acf23d8f",
   "metadata": {
    "execution": {
     "iopub.execute_input": "2022-02-01T18:49:08.685755Z",
     "iopub.status.busy": "2022-02-01T18:49:08.684754Z",
     "iopub.status.idle": "2022-02-01T18:49:08.700754Z",
     "shell.execute_reply": "2022-02-01T18:49:08.699751Z",
     "shell.execute_reply.started": "2022-02-01T18:49:08.685755Z"
    },
    "tags": []
   },
   "outputs": [],
   "source": [
    "eqs=direct_eqs(eqv, dout)"
   ]
  },
  {
   "cell_type": "markdown",
   "id": "b8bb696b",
   "metadata": {},
   "source": [
    "# Generate test problem equations"
   ]
  },
  {
   "cell_type": "code",
   "execution_count": 57,
   "id": "4629665b",
   "metadata": {
    "execution": {
     "iopub.execute_input": "2022-02-01T19:02:09.751386Z",
     "iopub.status.busy": "2022-02-01T19:02:09.750422Z",
     "iopub.status.idle": "2022-02-01T19:02:09.763388Z",
     "shell.execute_reply": "2022-02-01T19:02:09.762380Z",
     "shell.execute_reply.started": "2022-02-01T19:02:09.751386Z"
    },
    "tags": []
   },
   "outputs": [],
   "source": [
    "rng = np.random.default_rng(12345)\n",
    "def smallrand(n=1):\n",
    "    newn = np.round(rng.uniform(low=-1, high=1),n)\n",
    "    if newn == 0.:\n",
    "        return smallrand()\n",
    "    return newn"
   ]
  },
  {
   "cell_type": "code",
   "execution_count": 58,
   "id": "ad0024b9",
   "metadata": {
    "execution": {
     "iopub.execute_input": "2022-02-01T19:02:09.943384Z",
     "iopub.status.busy": "2022-02-01T19:02:09.942387Z",
     "iopub.status.idle": "2022-02-01T19:02:09.953385Z",
     "shell.execute_reply": "2022-02-01T19:02:09.952387Z",
     "shell.execute_reply.started": "2022-02-01T19:02:09.943384Z"
    },
    "tags": []
   },
   "outputs": [],
   "source": [
    "def generate_partitions(vrs):\n",
    "    rvrs = copy.copy(list(vrs))\n",
    "    rng.shuffle(rvrs)\n",
    "    p = []\n",
    "    while len(rvrs) >= 3:\n",
    "        ri = rng.integers(2,4)\n",
    "        p.append((smallrand(), rvrs[:ri]))\n",
    "        rvrs = rvrs[ri:]\n",
    "    if rvrs:\n",
    "        p.append((smallrand(), rvrs))\n",
    "    return p"
   ]
  },
  {
   "cell_type": "code",
   "execution_count": 59,
   "id": "be01fc47-d819-44f7-8bc9-e1de8ac896cc",
   "metadata": {
    "execution": {
     "iopub.execute_input": "2022-02-01T19:02:10.129384Z",
     "iopub.status.busy": "2022-02-01T19:02:10.128391Z",
     "iopub.status.idle": "2022-02-01T19:02:10.144388Z",
     "shell.execute_reply": "2022-02-01T19:02:10.143409Z",
     "shell.execute_reply.started": "2022-02-01T19:02:10.129384Z"
    },
    "tags": []
   },
   "outputs": [],
   "source": [
    "def random_function(vrs, partition):\n",
    "    return sum([key*reduce(operator.mul, (vrs[var] for var in val)) for key, val in partition])+smallrand()"
   ]
  },
  {
   "cell_type": "code",
   "execution_count": 60,
   "id": "9e1b1d32",
   "metadata": {
    "execution": {
     "iopub.execute_input": "2022-02-01T19:02:10.325389Z",
     "iopub.status.busy": "2022-02-01T19:02:10.325389Z",
     "iopub.status.idle": "2022-02-01T19:02:10.349383Z",
     "shell.execute_reply": "2022-02-01T19:02:10.348382Z",
     "shell.execute_reply.started": "2022-02-01T19:02:10.325389Z"
    },
    "tags": []
   },
   "outputs": [],
   "source": [
    "partitions = {idx:generate_partitions(eqvars) for idx,eqvars in eqv.items()}"
   ]
  },
  {
   "cell_type": "code",
   "execution_count": 61,
   "id": "a7540aad-8437-4a93-bb3f-3fe549dfd82c",
   "metadata": {
    "execution": {
     "iopub.execute_input": "2022-02-01T19:02:10.801387Z",
     "iopub.status.busy": "2022-02-01T19:02:10.801387Z",
     "iopub.status.idle": "2022-02-01T19:02:10.809383Z",
     "shell.execute_reply": "2022-02-01T19:02:10.808387Z",
     "shell.execute_reply.started": "2022-02-01T19:02:10.801387Z"
    },
    "tags": []
   },
   "outputs": [],
   "source": [
    "vrs = {n_eqs+idx: Var('x_{{{}}}'.format(idx)) for idx in range(n_vars)}"
   ]
  },
  {
   "cell_type": "code",
   "execution_count": 62,
   "id": "aa20cb7d",
   "metadata": {
    "execution": {
     "iopub.execute_input": "2022-02-01T19:02:11.166936Z",
     "iopub.status.busy": "2022-02-01T19:02:11.165943Z",
     "iopub.status.idle": "2022-02-01T19:02:11.203938Z",
     "shell.execute_reply": "2022-02-01T19:02:11.202936Z",
     "shell.execute_reply.started": "2022-02-01T19:02:11.165943Z"
    },
    "tags": []
   },
   "outputs": [],
   "source": [
    "reseqs = {idx: random_function(vrs, partitions[idx])+smallrand() for idx,eqvars in eqv.items()}"
   ]
  },
  {
   "cell_type": "code",
   "execution_count": 65,
   "id": "f331886d-f58b-4ce0-9d03-d4e5ec4819b2",
   "metadata": {
    "execution": {
     "iopub.execute_input": "2022-02-01T19:04:48.978372Z",
     "iopub.status.busy": "2022-02-01T19:04:48.977371Z",
     "iopub.status.idle": "2022-02-01T19:04:49.011372Z",
     "shell.execute_reply": "2022-02-01T19:04:49.010377Z",
     "shell.execute_reply.started": "2022-02-01T19:04:48.977371Z"
    }
   },
   "outputs": [
    {
     "data": {
      "text/plain": [
       "{0: -0.4*x_{1}*x_{9} + 1.1,\n",
       " 1: 0.2*x_{11}*x_{5} - 0.3*x_{12}*x_{1}*x_{4} + 1.0,\n",
       " 2: -0.6*x_{1}*x_{4} + 0.4,\n",
       " 3: 0.3*x_{0} + 0.2,\n",
       " 4: 0.3*x_{10} + 0.9*x_{2}*x_{8} + 0.5,\n",
       " 5: -0.3*x_{12}*x_{3}*x_{5} + 0.4*x_{2}*x_{8} - 0.8,\n",
       " 6: -0.7*x_{0}*x_{7}*x_{9} - 0.3*x_{10}*x_{12} - 0.8,\n",
       " 7: 0.6*x_{0}*x_{5} - 0.6*x_{2} - 0.7,\n",
       " 8: 0.2*x_{3}*x_{8}*x_{9} + 0.2*x_{6}*x_{7} - 1.3,\n",
       " 9: 0.9*x_{10} - 0.4}"
      ]
     },
     "execution_count": 65,
     "metadata": {},
     "output_type": "execute_result"
    }
   ],
   "source": [
    "reseqs"
   ]
  },
  {
   "cell_type": "markdown",
   "id": "a08472e0-97e1-4008-ba11-f7b907eab3ed",
   "metadata": {},
   "source": [
    "# Default inputs"
   ]
  },
  {
   "cell_type": "code",
   "execution_count": 79,
   "id": "063ae21a-76a4-41e9-bec4-48fe8e325b52",
   "metadata": {
    "execution": {
     "iopub.execute_input": "2022-02-01T19:10:01.917891Z",
     "iopub.status.busy": "2022-02-01T19:10:01.916881Z",
     "iopub.status.idle": "2022-02-01T19:10:01.936881Z",
     "shell.execute_reply": "2022-02-01T19:10:01.935883Z",
     "shell.execute_reply.started": "2022-02-01T19:10:01.917891Z"
    },
    "tags": []
   },
   "outputs": [],
   "source": [
    "model = Model()\n",
    "m = RefNode(name='/', ref=model)"
   ]
  },
  {
   "cell_type": "code",
   "execution_count": 80,
   "id": "32fba95f-83d2-484b-adac-b9d6f0130c2d",
   "metadata": {
    "execution": {
     "iopub.execute_input": "2022-02-01T19:10:02.088883Z",
     "iopub.status.busy": "2022-02-01T19:10:02.088883Z",
     "iopub.status.idle": "2022-02-01T19:10:03.039879Z",
     "shell.execute_reply": "2022-02-01T19:10:03.038877Z",
     "shell.execute_reply.started": "2022-02-01T19:10:02.088883Z"
    },
    "tags": []
   },
   "outputs": [],
   "source": [
    "for idx, (left,_) in sorted(eqs.items()):\n",
    "    leftvar = vrs[left]\n",
    "    fxeq = sp.simplify(reassigneq(None, reseqs[idx], leftvar))\n",
    "    adda(m, leftvar, fxeq)"
   ]
  },
  {
   "cell_type": "code",
   "execution_count": 92,
   "id": "b46c601b-3a57-4961-b391-6f77765f0e5c",
   "metadata": {
    "execution": {
     "iopub.execute_input": "2022-02-01T19:14:31.480942Z",
     "iopub.status.busy": "2022-02-01T19:14:31.479940Z",
     "iopub.status.idle": "2022-02-01T19:14:31.512941Z",
     "shell.execute_reply": "2022-02-01T19:14:31.511937Z",
     "shell.execute_reply.started": "2022-02-01T19:14:31.480942Z"
    },
    "tags": []
   },
   "outputs": [],
   "source": [
    "G, graphs = graphs_from_incidence(m, from_root=True)\n",
    "m_ordered = make_acyclic(m, graphs)"
   ]
  },
  {
   "cell_type": "code",
   "execution_count": 93,
   "id": "7a0e9202-452c-4d48-ad24-005652558454",
   "metadata": {
    "execution": {
     "iopub.execute_input": "2022-02-01T19:14:57.062141Z",
     "iopub.status.busy": "2022-02-01T19:14:57.061139Z",
     "iopub.status.idle": "2022-02-01T19:14:58.729138Z",
     "shell.execute_reply": "2022-02-01T19:14:58.728138Z",
     "shell.execute_reply.started": "2022-02-01T19:14:57.062141Z"
    },
    "tags": []
   },
   "outputs": [
    {
     "data": {
      "image/png": "[encoded data removed]",
      "text/plain": [
       "<Figure size 720x720 with 1 Axes>"
      ]
     },
     "metadata": {
      "needs_background": "light"
     },
     "output_type": "display_data"
    }
   ],
   "source": [
    "tree_to_draw = m_ordered\n",
    "tree_incidence(tree_to_draw, eqvars(model.eqs), model.outset, default_sequence(tree_to_draw), figsize=(10,10));"
   ]
  },
  {
   "cell_type": "markdown",
   "id": "c0140078-0c12-4245-8b8e-2e3a801d095d",
   "metadata": {},
   "source": [
    "# Structurally optimized inputs"
   ]
  },
  {
   "cell_type": "code",
   "execution_count": 81,
   "id": "c74f96d6-7d1c-4d66-819b-d6a430b72a16",
   "metadata": {
    "execution": {
     "iopub.execute_input": "2022-02-01T19:10:05.378880Z",
     "iopub.status.busy": "2022-02-01T19:10:05.377896Z",
     "iopub.status.idle": "2022-02-01T19:10:05.386883Z",
     "shell.execute_reply": "2022-02-01T19:10:05.385883Z",
     "shell.execute_reply.started": "2022-02-01T19:10:05.378880Z"
    },
    "tags": []
   },
   "outputs": [],
   "source": [
    "newdout = {0: 11, 1: 21, 2: 14, 3: 10, 4: 18, 5: 13, 6: 22, 7: 15, 8: 16, 9: 20}\n",
    "nrev_lookup = {var:key for key,var in newdout.items()}"
   ]
  },
  {
   "cell_type": "code",
   "execution_count": 82,
   "id": "fb939f60-9387-4e88-9088-ce7afcfe26f4",
   "metadata": {
    "execution": {
     "iopub.execute_input": "2022-02-01T19:10:05.605882Z",
     "iopub.status.busy": "2022-02-01T19:10:05.605882Z",
     "iopub.status.idle": "2022-02-01T19:10:05.624880Z",
     "shell.execute_reply": "2022-02-01T19:10:05.623878Z",
     "shell.execute_reply.started": "2022-02-01T19:10:05.605882Z"
    },
    "tags": []
   },
   "outputs": [],
   "source": [
    "model_optinp = Model()\n",
    "m2 = RefNode(name='/', ref=model_optinp)"
   ]
  },
  {
   "cell_type": "code",
   "execution_count": 83,
   "id": "99fe3d70-089f-41d9-9a82-3a949b99b939",
   "metadata": {
    "execution": {
     "iopub.execute_input": "2022-02-01T19:10:06.176934Z",
     "iopub.status.busy": "2022-02-01T19:10:06.176934Z",
     "iopub.status.idle": "2022-02-01T19:10:06.869934Z",
     "shell.execute_reply": "2022-02-01T19:10:06.868931Z",
     "shell.execute_reply.started": "2022-02-01T19:10:06.176934Z"
    },
    "tags": []
   },
   "outputs": [],
   "source": [
    "for idx, eq in sorted(reseqs.items()):\n",
    "    left = newdout[idx]\n",
    "    leftvar = vrs[left]\n",
    "    fxeq = sp.simplify(reassigneq(None, eq, leftvar))\n",
    "    adda(m2, leftvar, fxeq)"
   ]
  },
  {
   "cell_type": "code",
   "execution_count": 94,
   "id": "29a7830b-337c-4fe4-96d4-e250ad122901",
   "metadata": {
    "execution": {
     "iopub.execute_input": "2022-02-01T19:15:25.088240Z",
     "iopub.status.busy": "2022-02-01T19:15:25.087230Z",
     "iopub.status.idle": "2022-02-01T19:15:25.119228Z",
     "shell.execute_reply": "2022-02-01T19:15:25.118224Z",
     "shell.execute_reply.started": "2022-02-01T19:15:25.088240Z"
    }
   },
   "outputs": [],
   "source": [
    "G, graphs = graphs_from_incidence(m2, from_root=True)\n",
    "m2_ordered = make_acyclic(m2, graphs)"
   ]
  },
  {
   "cell_type": "code",
   "execution_count": 96,
   "id": "54bf5771",
   "metadata": {
    "execution": {
     "iopub.execute_input": "2022-02-01T19:15:46.497014Z",
     "iopub.status.busy": "2022-02-01T19:15:46.497014Z",
     "iopub.status.idle": "2022-02-01T19:15:47.330902Z",
     "shell.execute_reply": "2022-02-01T19:15:47.329895Z",
     "shell.execute_reply.started": "2022-02-01T19:15:46.497014Z"
    },
    "tags": []
   },
   "outputs": [
    {
     "data": {
      "image/png": "[encoded data removed]",
      "text/plain": [
       "<Figure size 720x720 with 1 Axes>"
      ]
     },
     "metadata": {
      "needs_background": "light"
     },
     "output_type": "display_data"
    }
   ],
   "source": [
    "tree_to_draw = m2_ordered\n",
    "tree_incidence(tree_to_draw, eqvars(model_optinp.eqs), model_optinp.outset, default_sequence(tree_to_draw), figsize=(10,10));"
   ]
  },
  {
   "cell_type": "markdown",
   "id": "f2a7494a",
   "metadata": {},
   "source": [
    "### For polynomial testing eqs"
   ]
  },
  {
   "cell_type": "code",
   "execution_count": 495,
   "id": "22071b72",
   "metadata": {
    "execution": {
     "iopub.execute_input": "2021-12-06T20:22:36.036140Z",
     "iopub.status.busy": "2021-12-06T20:22:36.035142Z",
     "iopub.status.idle": "2021-12-06T20:22:36.080136Z",
     "shell.execute_reply": "2021-12-06T20:22:36.079136Z",
     "shell.execute_reply.started": "2021-12-06T20:22:36.036140Z"
    }
   },
   "outputs": [
    {
     "name": "stdout",
     "output_type": "stream",
     "text": [
      "@var x_10, x_11, x_12, x_13, x_14, x_15, x_16, x_17, x_18, x_19, x_20, x_21, x_22\n",
      "@var λ[1:10];\n",
      "h0=0.3*x_11*x_19 + 0.5;\n",
      "h1=-0.1*x_11*x_21*x_22 - 0.1*x_14*x_15 + 1.0;\n",
      "h2=-1.0*x_11*x_14 + 0.1;\n",
      "h3=0.6*x_10 + 0.9;\n",
      "h4=0.2*x_12*x_18 + 0.6*x_20 + 0.9;\n",
      "h5=0.1*x_12*x_13*x_22 + 0.5*x_15*x_18 - 0.6;\n",
      "h6=-0.8*x_10*x_17 - 0.1*x_19*x_20*x_22 - 0.9;\n",
      "h7=0.5*x_10*x_15 - 0.8*x_12 - 0.7;\n",
      "h8=-0.2*x_13*x_17 - 0.1*x_16*x_19 - 0.9*x_18 + 0.5;\n",
      "h9=0.2*x_20 - 0.5;\n",
      "vars=[x_10, x_11, x_12, x_13, x_14, x_15, x_16, x_17, x_18, x_19, x_20, x_21, x_22]\n",
      "dfdx=[0, 0, 0, 0, 0, 0, x_16, 0, 0, 0, 0, x_21, x_22]\n",
      "h=[h0, h1, h2, h3, h4, h5, h6, h7, h8, h9];\n"
     ]
    }
   ],
   "source": [
    "print('@var {}'.format(\", \".join(['x_{}'.format(vr) for vr in vrs])))\n",
    "print('@var λ[1:{}];'.format(n_eqs))\n",
    "for key, var in reseqs.items():\n",
    "    print('h{}={};'.format(key, var))\n",
    "print('vars=[{}]'.format(\", \".join(['x_{}'.format(vr) for vr in vrs])))\n",
    "print('dfdx=[{}]'.format(\", \".join([str(0) if vr not in [16, 22, 21] else 'x_{}'.format(vr) for vr in vrs])))\n",
    "print('h=[{}];'.format(\", \".join(['h{}'.format(eq) for eq in reseqs.keys()])))"
   ]
  },
  {
   "cell_type": "code",
   "execution_count": 447,
   "id": "93919954",
   "metadata": {
    "execution": {
     "iopub.execute_input": "2021-12-06T18:57:31.338399Z",
     "iopub.status.busy": "2021-12-06T18:57:31.338399Z",
     "iopub.status.idle": "2021-12-06T18:57:31.352392Z",
     "shell.execute_reply": "2021-12-06T18:57:31.351400Z",
     "shell.execute_reply.started": "2021-12-06T18:57:31.338399Z"
    }
   },
   "outputs": [],
   "source": [
    "rev_lookup = {var:key for key,var in dout.items()}"
   ]
  },
  {
   "cell_type": "code",
   "execution_count": 448,
   "id": "54955ce2",
   "metadata": {
    "execution": {
     "iopub.execute_input": "2021-12-06T18:57:31.837349Z",
     "iopub.status.busy": "2021-12-06T18:57:31.836347Z",
     "iopub.status.idle": "2021-12-06T18:57:32.779345Z",
     "shell.execute_reply": "2021-12-06T18:57:32.778342Z",
     "shell.execute_reply.started": "2021-12-06T18:57:31.837349Z"
    }
   },
   "outputs": [],
   "source": [
    "eqsfull = {idx: (sdict[dout[idx]], sp.simplify(reassigneq(None, eq, sdict[dout[idx]]))) for idx,eq in reseqs.items()}\n"
   ]
  },
  {
   "cell_type": "code",
   "execution_count": 449,
   "id": "79fddc46",
   "metadata": {
    "execution": {
     "iopub.execute_input": "2021-12-06T18:57:32.781346Z",
     "iopub.status.busy": "2021-12-06T18:57:32.780347Z",
     "iopub.status.idle": "2021-12-06T18:57:32.811346Z",
     "shell.execute_reply": "2021-12-06T18:57:32.810344Z",
     "shell.execute_reply.started": "2021-12-06T18:57:32.781346Z"
    }
   },
   "outputs": [
    {
     "data": {
      "text/plain": [
       "{0: (x_19, -1.66666666666667/x_11),\n",
       " 1: (x_11, (-x_14*x_15 + 10.0)/(x_21*x_22)),\n",
       " 2: (x_14, 0.1/x_11),\n",
       " 3: (x_10, -1.50000000000000),\n",
       " 4: (x_12, -(3.0*x_20 + 4.5)/x_18),\n",
       " 5: (x_13, (-5.0*x_15*x_18 + 6.0)/(x_12*x_22)),\n",
       " 6: (x_17, -(0.125*x_19*x_20*x_22 + 1.125)/x_10),\n",
       " 7: (x_15, (1.6*x_12 + 1.4)/x_10),\n",
       " 8: (x_18,\n",
       "  -0.222222222222222*x_13*x_17 - 0.111111111111111*x_16*x_19 + 0.555555555555556),\n",
       " 9: (x_20, 2.50000000000000)}"
      ]
     },
     "execution_count": 449,
     "metadata": {},
     "output_type": "execute_result"
    }
   ],
   "source": [
    "eqsfull"
   ]
  },
  {
   "cell_type": "markdown",
   "id": "64a3c371",
   "metadata": {},
   "source": [
    "## Workflow 1"
   ]
  },
  {
   "cell_type": "code",
   "execution_count": 675,
   "id": "2d261594",
   "metadata": {
    "execution": {
     "iopub.execute_input": "2021-12-07T00:03:15.012051Z",
     "iopub.status.busy": "2021-12-07T00:03:15.012051Z",
     "iopub.status.idle": "2021-12-07T00:03:15.031041Z",
     "shell.execute_reply": "2021-12-07T00:03:15.030044Z",
     "shell.execute_reply.started": "2021-12-07T00:03:15.012051Z"
    }
   },
   "outputs": [],
   "source": [
    "import openmdao.api as om\n",
    "from notationcompute import optsolver, solver, explicit\n",
    "from compute import buildidpvars, Expcomp, Evaluable"
   ]
  },
  {
   "cell_type": "code",
   "execution_count": 676,
   "id": "0ce65cf9",
   "metadata": {
    "execution": {
     "iopub.execute_input": "2021-12-07T00:03:16.191630Z",
     "iopub.status.busy": "2021-12-07T00:03:16.191630Z",
     "iopub.status.idle": "2021-12-07T00:03:16.240626Z",
     "shell.execute_reply": "2021-12-07T00:03:16.239626Z",
     "shell.execute_reply.started": "2021-12-07T00:03:16.191630Z"
    }
   },
   "outputs": [
    {
     "data": {
      "text/plain": [
       "[{16}, {10}, {20}, {22}, {21}, {11, 12, 13, 14, 15, 17, 18, 19}]"
      ]
     },
     "execution_count": 676,
     "metadata": {},
     "output_type": "execute_result"
    }
   ],
   "source": [
    "order2"
   ]
  },
  {
   "cell_type": "code",
   "execution_count": 677,
   "id": "97936b10",
   "metadata": {
    "execution": {
     "iopub.execute_input": "2021-12-07T00:03:16.640269Z",
     "iopub.status.busy": "2021-12-07T00:03:16.640269Z",
     "iopub.status.idle": "2021-12-07T00:03:16.651269Z",
     "shell.execute_reply": "2021-12-07T00:03:16.650271Z",
     "shell.execute_reply.started": "2021-12-07T00:03:16.640269Z"
    }
   },
   "outputs": [],
   "source": [
    "def scc_workflow(order, rev_lookup, sdict):\n",
    "    for sccelt in order:\n",
    "        if len(sccelt) == 1:\n",
    "            var = next(iter(sccelt))\n",
    "            if var in rev_lookup:\n",
    "                yield (sdict[var], rev_lookup[var])\n",
    "        else:\n",
    "            yield tuple(list(elt) for elt in zip(*[(sdict[var],rev_lookup[var]) for var in sccelt]))"
   ]
  },
  {
   "cell_type": "code",
   "execution_count": 678,
   "id": "37baeb60",
   "metadata": {
    "execution": {
     "iopub.execute_input": "2021-12-07T00:03:16.910489Z",
     "iopub.status.busy": "2021-12-07T00:03:16.910489Z",
     "iopub.status.idle": "2021-12-07T00:03:16.920470Z",
     "shell.execute_reply": "2021-12-07T00:03:16.919472Z",
     "shell.execute_reply.started": "2021-12-07T00:03:16.910489Z"
    }
   },
   "outputs": [],
   "source": [
    "notation = list(scc_workflow(order2, rev_lookup, sdict))"
   ]
  },
  {
   "cell_type": "code",
   "execution_count": 100,
   "id": "303e718f-5bd9-4768-9664-a36bfa6963dd",
   "metadata": {
    "execution": {
     "iopub.execute_input": "2022-02-01T19:17:55.831428Z",
     "iopub.status.busy": "2022-02-01T19:17:55.830426Z",
     "iopub.status.idle": "2022-02-01T19:17:55.844422Z",
     "shell.execute_reply": "2022-02-01T19:17:55.843423Z",
     "shell.execute_reply.started": "2022-02-01T19:17:55.830426Z"
    }
   },
   "outputs": [
    {
     "data": {
      "text/plain": [
       "[('exp', 0, x_{0}, 'f_{3}'),\n",
       " ('exp', 0, x_{10}, 'f_{9}'),\n",
       " ('solver',\n",
       "  0,\n",
       "  1,\n",
       "  [x_{5}, x_{1}, x_{8}, x_{4}, x_{9}, x_{7}, x_{3}, x_{2}],\n",
       "  ['f_{7}', 'f_{1}', 'f_{8}', 'f_{2}', 'f_{0}', 'f_{6}', 'f_{5}', 'f_{4}'])]"
      ]
     },
     "execution_count": 100,
     "metadata": {},
     "output_type": "execute_result"
    }
   ],
   "source": [
    "generate_execution(notation_from_tree(m_ordered, model.outset))"
   ]
  },
  {
   "cell_type": "code",
   "execution_count": 679,
   "id": "06672197",
   "metadata": {
    "execution": {
     "iopub.execute_input": "2021-12-07T00:03:17.404867Z",
     "iopub.status.busy": "2021-12-07T00:03:17.404867Z",
     "iopub.status.idle": "2021-12-07T00:03:17.423840Z",
     "shell.execute_reply": "2021-12-07T00:03:17.422839Z",
     "shell.execute_reply.started": "2021-12-07T00:03:17.404867Z"
    }
   },
   "outputs": [],
   "source": [
    "order = generate_execution(notation)"
   ]
  },
  {
   "cell_type": "code",
   "execution_count": 680,
   "id": "da84445e",
   "metadata": {
    "execution": {
     "iopub.execute_input": "2021-12-07T00:03:17.696079Z",
     "iopub.status.busy": "2021-12-07T00:03:17.696079Z",
     "iopub.status.idle": "2021-12-07T00:03:17.709079Z",
     "shell.execute_reply": "2021-12-07T00:03:17.708077Z",
     "shell.execute_reply.started": "2021-12-07T00:03:17.696079Z"
    }
   },
   "outputs": [
    {
     "data": {
      "text/plain": [
       "[('exp', 0, x_10, 3),\n",
       " ('exp', 0, x_20, 9),\n",
       " ('solver',\n",
       "  0,\n",
       "  1,\n",
       "  [x_11, x_12, x_13, x_14, x_15, x_17, x_18, x_19],\n",
       "  [1, 4, 5, 2, 7, 6, 8, 0])]"
      ]
     },
     "execution_count": 680,
     "metadata": {},
     "output_type": "execute_result"
    }
   ],
   "source": [
    "order"
   ]
  },
  {
   "cell_type": "code",
   "execution_count": 681,
   "id": "0567b510",
   "metadata": {
    "execution": {
     "iopub.execute_input": "2021-12-07T00:03:18.196438Z",
     "iopub.status.busy": "2021-12-07T00:03:18.195401Z",
     "iopub.status.idle": "2021-12-07T00:03:18.212400Z",
     "shell.execute_reply": "2021-12-07T00:03:18.211398Z",
     "shell.execute_reply.started": "2021-12-07T00:03:18.196438Z"
    }
   },
   "outputs": [],
   "source": [
    "optin = {key:(None, val) for key,val in reseqs.items()}\n",
    "optin['f'] = (None, (sdict[12]-1)**2+(sdict[17]-1)**2+(sdict[19]-1)**2)"
   ]
  },
  {
   "cell_type": "code",
   "execution_count": 964,
   "id": "e5cbffec",
   "metadata": {
    "execution": {
     "iopub.execute_input": "2021-12-09T14:09:44.855924Z",
     "iopub.status.busy": "2021-12-09T14:09:44.855924Z",
     "iopub.status.idle": "2021-12-09T14:09:44.876735Z",
     "shell.execute_reply": "2021-12-09T14:09:44.874734Z",
     "shell.execute_reply.started": "2021-12-09T14:09:44.855924Z"
    }
   },
   "outputs": [],
   "source": [
    "prob = om.Problem()\n",
    "model = prob.model\n",
    "groups = {0:model}"
   ]
  },
  {
   "cell_type": "code",
   "execution_count": 965,
   "id": "fc4c27d9",
   "metadata": {
    "execution": {
     "iopub.execute_input": "2021-12-09T14:09:45.452724Z",
     "iopub.status.busy": "2021-12-09T14:09:45.451742Z",
     "iopub.status.idle": "2021-12-09T14:09:45.488012Z",
     "shell.execute_reply": "2021-12-09T14:09:45.469046Z",
     "shell.execute_reply.started": "2021-12-09T14:09:45.452724Z"
    }
   },
   "outputs": [],
   "source": [
    "buildidpvars(['x_{}'.format(elt) for elt in din], model)\n",
    "#buildidpvars(['x_11', 'x_12', 'x_13', 'x_14', 'x_15', 'x_17', 'x_18', 'x_19']+['x_{}'.format(elt) for elt in din], model)"
   ]
  },
  {
   "cell_type": "code",
   "execution_count": 966,
   "id": "ab17abfb",
   "metadata": {
    "execution": {
     "iopub.execute_input": "2021-12-09T14:09:45.822475Z",
     "iopub.status.busy": "2021-12-09T14:09:45.821307Z",
     "iopub.status.idle": "2021-12-09T14:09:45.879375Z",
     "shell.execute_reply": "2021-12-09T14:09:45.877627Z",
     "shell.execute_reply.started": "2021-12-09T14:09:45.822475Z"
    }
   },
   "outputs": [],
   "source": [
    "for elt in order:\n",
    "    if elt[0] == 'exp':\n",
    "        _,parent_id, vout, eqid = elt\n",
    "        explicit(groups, eqsfull, parent_id, vout, eqid)\n",
    "    if elt[0] == 'solver':\n",
    "        _,parent_id, child_id, solvevars, res = elt\n",
    "        solver(groups, optin, parent_id, parent_id, solvevars, res)\n",
    "        #optsolver(groups, optin, parent_id, parent_id, solvevars+['x_{}'.format(elt) for elt in din], ([],res,['f']))\n",
    "optsolver(groups, optin, 0, 0, ['x_{}'.format(elt) for elt in din], ([],[],['f']))"
   ]
  },
  {
   "cell_type": "code",
   "execution_count": 979,
   "id": "5b74301d",
   "metadata": {
    "execution": {
     "iopub.execute_input": "2021-12-09T14:18:30.667832Z",
     "iopub.status.busy": "2021-12-09T14:18:30.666320Z",
     "iopub.status.idle": "2021-12-09T14:18:30.691219Z",
     "shell.execute_reply": "2021-12-09T14:18:30.689447Z",
     "shell.execute_reply.started": "2021-12-09T14:18:30.667832Z"
    }
   },
   "outputs": [],
   "source": [
    "prob.setup();"
   ]
  },
  {
   "cell_type": "code",
   "execution_count": 980,
   "id": "f61acc2f",
   "metadata": {
    "execution": {
     "iopub.execute_input": "2021-12-09T14:18:31.157112Z",
     "iopub.status.busy": "2021-12-09T14:18:31.157112Z",
     "iopub.status.idle": "2021-12-09T14:18:31.166588Z",
     "shell.execute_reply": "2021-12-09T14:18:31.165278Z",
     "shell.execute_reply.started": "2021-12-09T14:18:31.157112Z"
    }
   },
   "outputs": [],
   "source": [
    "# for elt in ['x_11', 'x_12', 'x_13', 'x_14', 'x_15', 'x_17', 'x_18', 'x_19']:\n",
    "#     prob.set_val(elt,np.random.randint(-10,10))"
   ]
  },
  {
   "cell_type": "code",
   "execution_count": 981,
   "id": "cda259b0",
   "metadata": {
    "execution": {
     "iopub.execute_input": "2021-12-09T14:18:32.130628Z",
     "iopub.status.busy": "2021-12-09T14:18:32.130628Z",
     "iopub.status.idle": "2021-12-09T14:18:32.151376Z",
     "shell.execute_reply": "2021-12-09T14:18:32.150509Z",
     "shell.execute_reply.started": "2021-12-09T14:18:32.130628Z"
    }
   },
   "outputs": [],
   "source": [
    "for elt in ['x_11', 'x_12', 'x_13', 'x_14', 'x_15', 'x_17', 'x_18', 'x_19', 'x_16', 'x_21', 'x_22']:\n",
    "    prob.set_val(elt,10*optres[elt])"
   ]
  },
  {
   "cell_type": "code",
   "execution_count": 982,
   "id": "0896ec93",
   "metadata": {
    "execution": {
     "iopub.execute_input": "2021-12-09T14:18:32.781249Z",
     "iopub.status.busy": "2021-12-09T14:18:32.781249Z",
     "iopub.status.idle": "2021-12-09T14:18:38.285122Z",
     "shell.execute_reply": "2021-12-09T14:18:38.284124Z",
     "shell.execute_reply.started": "2021-12-09T14:18:32.781249Z"
    }
   },
   "outputs": [
    {
     "name": "stdout",
     "output_type": "stream",
     "text": [
      "\n",
      "======\n",
      "group0\n",
      "======\n",
      "NL: NewtonSolver 'NL: Newton' on system 'group0' failed to converge in 20 iterations.\n",
      "\n",
      "======\n",
      "group0\n",
      "======\n",
      "NL: NewtonSolver 'NL: Newton' on system 'group0' failed to converge in 20 iterations.\n",
      "\n",
      "======\n",
      "group0\n",
      "======\n",
      "NL: NewtonSolver 'NL: Newton' on system 'group0' failed to converge in 20 iterations.\n",
      "\n",
      "======\n",
      "group0\n",
      "======\n",
      "NL: NewtonSolver 'NL: Newton' on system 'group0' failed to converge in 20 iterations.\n",
      "\n",
      "======\n",
      "group0\n",
      "======\n",
      "NL: Newton Converged in 5 iterations\n",
      "\n",
      "======\n",
      "group0\n",
      "======\n",
      "NL: NewtonSolver 'NL: Newton' on system 'group0' failed to converge in 20 iterations.\n",
      "\n",
      "======\n",
      "group0\n",
      "======\n",
      "NL: Newton Converged in 13 iterations\n",
      "\n",
      "======\n",
      "group0\n",
      "======\n",
      "NL: NewtonSolver 'NL: Newton' on system 'group0' failed to converge in 20 iterations.\n",
      "\n",
      "======\n",
      "group0\n",
      "======\n",
      "NL: NewtonSolver 'NL: Newton' on system 'group0' failed to converge in 20 iterations.\n",
      "\n",
      "======\n",
      "group0\n",
      "======\n",
      "NL: NewtonSolver 'NL: Newton' on system 'group0' failed to converge in 20 iterations.\n",
      "\n",
      "======\n",
      "group0\n",
      "======\n",
      "NL: NewtonSolver 'NL: Newton' on system 'group0' failed to converge in 20 iterations.\n",
      "\n",
      "======\n",
      "group0\n",
      "======\n",
      "NL: NewtonSolver 'NL: Newton' on system 'group0' failed to converge in 20 iterations.\n",
      "\n",
      "======\n",
      "group0\n",
      "======\n",
      "NL: NewtonSolver 'NL: Newton' on system 'group0' failed to converge in 20 iterations.\n",
      "\n",
      "======\n",
      "group0\n",
      "======\n",
      "NL: NewtonSolver 'NL: Newton' on system 'group0' failed to converge in 20 iterations.\n",
      "\n",
      "======\n",
      "group0\n",
      "======\n",
      "NL: NewtonSolver 'NL: Newton' on system 'group0' failed to converge in 20 iterations.\n",
      "\n",
      "======\n",
      "group0\n",
      "======\n",
      "NL: NewtonSolver 'NL: Newton' on system 'group0' failed to converge in 20 iterations.\n",
      "\n",
      "======\n",
      "group0\n",
      "======\n",
      "NL: NewtonSolver 'NL: Newton' on system 'group0' failed to converge in 20 iterations.\n",
      "Inequality constraints incompatible    (Exit mode 4)\n",
      "            Current function value: [-1.70701507e+74]\n",
      "            Iterations: 4\n",
      "            Function evaluations: 16\n",
      "            Gradient evaluations: 4\n",
      "Optimization FAILED.\n",
      "Inequality constraints incompatible\n",
      "-----------------------------------\n"
     ]
    }
   ],
   "source": [
    "prob.set_solver_print(level=1)\n",
    "prob.driver = om.ScipyOptimizeDriver()\n",
    "# prob.driver.options['optimizer'] = 'differential_evolution'\n",
    "prob.driver.options['maxiter'] = 300 \n",
    "prob.run_driver();"
   ]
  },
  {
   "cell_type": "code",
   "execution_count": 974,
   "id": "1b1add9c",
   "metadata": {
    "execution": {
     "iopub.execute_input": "2021-12-09T14:10:56.584582Z",
     "iopub.status.busy": "2021-12-09T14:10:56.584031Z",
     "iopub.status.idle": "2021-12-09T14:10:56.617087Z",
     "shell.execute_reply": "2021-12-09T14:10:56.616220Z",
     "shell.execute_reply.started": "2021-12-09T14:10:56.584582Z"
    }
   },
   "outputs": [
    {
     "name": "stdout",
     "output_type": "stream",
     "text": [
      "6 Explicit Output(s) in 'model'\n",
      "\n",
      "varname  val             \n",
      "-------  ----------------\n",
      "inp\n",
      "  x_16   [306.02994936]  \n",
      "  x_21   [-4.98485971]   \n",
      "  x_22   [1.1874655]     \n",
      "eq3\n",
      "  x_10   [-1.5]          \n",
      "eq9\n",
      "  x_20   [2.5]           \n",
      "group0\n",
      "  eqf\n",
      "    f0f  [1.94470283e-05]\n",
      "\n",
      "\n",
      "8 Implicit Output(s) in 'model'\n",
      "\n",
      "varname        val           \n",
      "-------------  --------------\n",
      "group0\n",
      "  res14527680\n",
      "    x_11       [-1.66916396] \n",
      "    x_12       [0.99711567]  \n",
      "    x_13       [-96.41730568]\n",
      "    x_14       [-0.05991023] \n",
      "    x_15       [-1.99692338] \n",
      "    x_17       [0.99701852]  \n",
      "    x_18       [-12.03471212]\n",
      "    x_19       [0.99850387]  \n",
      "\n",
      "\n"
     ]
    }
   ],
   "source": [
    "model.list_outputs();"
   ]
  },
  {
   "cell_type": "markdown",
   "id": "2aa8c9e3",
   "metadata": {},
   "source": [
    "# Workflow 2"
   ]
  },
  {
   "cell_type": "code",
   "execution_count": 651,
   "id": "f8e85bce",
   "metadata": {
    "execution": {
     "iopub.execute_input": "2021-12-07T00:00:27.737059Z",
     "iopub.status.busy": "2021-12-07T00:00:27.737059Z",
     "iopub.status.idle": "2021-12-07T00:00:27.781064Z",
     "shell.execute_reply": "2021-12-07T00:00:27.780057Z",
     "shell.execute_reply.started": "2021-12-07T00:00:27.737059Z"
    }
   },
   "outputs": [],
   "source": [
    "class Expcomp(om.ExplicitComponent):\n",
    "    def initialize(self):\n",
    "        self.options.declare('equation')\n",
    "        self.options.declare('output_name')\n",
    "        self.options.declare('debug')\n",
    "\n",
    "    def setup(self):\n",
    "        equation = self.options['equation']\n",
    "        output_name = self.options['output_name']\n",
    "        self.add_output(output_name, val=0.1)\n",
    "        for name in equation.input_names:\n",
    "            self.add_input(name, val=0.1) # add them in the order we lambdify\n",
    "        self.declare_partials(output_name, equation.input_names)\n",
    "            \n",
    "    def compute(self, inputs, outputs):\n",
    "        equation = self.options['equation']\n",
    "        output_name = self.options['output_name']\n",
    "        debug = self.options['debug']\n",
    "        outputs[output_name] = equation.evaldict(inputs)\n",
    "        if debug:\n",
    "            print(output_name, outputs[output_name])\n",
    "\n",
    "    def compute_partials(self, inputs, partials, discrete_inputs=None):\n",
    "        equation = self.options['equation']\n",
    "        output_name = self.options['output_name']\n",
    "        J = equation.graddict(inputs)\n",
    "        for idx, input_name in enumerate(equation.input_names):\n",
    "            partials[output_name,input_name] = J[idx]"
   ]
  },
  {
   "cell_type": "code",
   "execution_count": 652,
   "id": "50ae1130",
   "metadata": {
    "execution": {
     "iopub.execute_input": "2021-12-07T00:00:28.400062Z",
     "iopub.status.busy": "2021-12-07T00:00:28.400062Z",
     "iopub.status.idle": "2021-12-07T00:00:28.423058Z",
     "shell.execute_reply": "2021-12-07T00:00:28.422056Z",
     "shell.execute_reply.started": "2021-12-07T00:00:28.400062Z"
    }
   },
   "outputs": [],
   "source": [
    "def explicit(groups, eqs, parentid, var, eqn):\n",
    "    cmp = Expcomp(output_name=str(var), equation=Evaluable.fromsympy(eqs[eqn][1]), debug=False)\n",
    "    parent = groups[parentid]\n",
    "    parent.add_subsystem(\"eq{}\".format(eqn), cmp, promotes=['*'])"
   ]
  },
  {
   "cell_type": "code",
   "execution_count": 653,
   "id": "14ab35cb",
   "metadata": {
    "execution": {
     "iopub.execute_input": "2021-12-07T00:00:28.713058Z",
     "iopub.status.busy": "2021-12-07T00:00:28.713058Z",
     "iopub.status.idle": "2021-12-07T00:00:28.736064Z",
     "shell.execute_reply": "2021-12-07T00:00:28.735056Z",
     "shell.execute_reply.started": "2021-12-07T00:00:28.713058Z"
    }
   },
   "outputs": [],
   "source": [
    "def optsolver(groups, eqs, parentid, childid, solvevars, res):\n",
    "    parent = groups[parentid]\n",
    "    childid= 0\n",
    "    child = groups[childid]# = parent.add_subsystem('group{}'.format(childid), \n",
    "        #om.Group(), promotes=['*'])\n",
    "    for vr in solvevars:\n",
    "        child.add_design_var(str(vr))\n",
    "    ineqlts, eqlts, obj = res\n",
    "    constraintnames = {\n",
    "        'g{}'.format(childid): (ineqlts, {'upper':0.}),\n",
    "        'h{}'.format(childid): (eqlts, {'upper':0., 'lower':0.}),\n",
    "        'f{}'.format(childid): (obj, 'obj'),\n",
    "    }\n",
    "    for constraintname, (equations, bnd) in constraintnames.items():\n",
    "        for eqn in equations:\n",
    "            outname = constraintname+str(eqn)\n",
    "            cmp = Expcomp(output_name=outname, equation=Evaluable.fromsympy(eqs[eqn][1]), debug=False)\n",
    "            child.add_subsystem(\"eq{}\".format(eqn), cmp, promotes=['*'])\n",
    "            if bnd != 'obj':\n",
    "                print('adding constraint')\n",
    "                child.add_constraint('{}{}'.format(constraintname, eqn), **bnd)\n",
    "            else:\n",
    "                child.add_objective(outname)"
   ]
  },
  {
   "cell_type": "code",
   "execution_count": 102,
   "id": "c931ed2d-940b-4ab8-a46e-2f4bbf95ece6",
   "metadata": {
    "execution": {
     "iopub.execute_input": "2022-02-01T19:19:25.179454Z",
     "iopub.status.busy": "2022-02-01T19:19:25.178456Z",
     "iopub.status.idle": "2022-02-01T19:19:25.195454Z",
     "shell.execute_reply": "2022-02-01T19:19:25.194458Z",
     "shell.execute_reply.started": "2022-02-01T19:19:25.179454Z"
    },
    "tags": []
   },
   "outputs": [
    {
     "data": {
      "text/plain": [
       "[('exp', 0, x_{0}, 'f_{3}'),\n",
       " ('exp', 0, x_{10}, 'f_{9}'),\n",
       " ('exp', 0, x_{1}, 'f_{0}'),\n",
       " ('exp', 0, x_{5}, 'f_{7}'),\n",
       " ('exp', 0, x_{8}, 'f_{4}'),\n",
       " ('exp', 0, x_{12}, 'f_{6}'),\n",
       " ('exp', 0, x_{4}, 'f_{2}'),\n",
       " ('exp', 0, x_{3}, 'f_{5}'),\n",
       " ('exp', 0, x_{11}, 'f_{1}'),\n",
       " ('exp', 0, x_{6}, 'f_{8}')]"
      ]
     },
     "execution_count": 102,
     "metadata": {},
     "output_type": "execute_result"
    }
   ],
   "source": [
    "generate_execution(notation_from_tree(m2_ordered, model_optinp.outset))"
   ]
  },
  {
   "cell_type": "code",
   "execution_count": 937,
   "id": "3bd7c18c",
   "metadata": {
    "execution": {
     "iopub.execute_input": "2021-12-08T18:42:07.315567Z",
     "iopub.status.busy": "2021-12-08T18:42:07.314567Z",
     "iopub.status.idle": "2021-12-08T18:42:07.346566Z",
     "shell.execute_reply": "2021-12-08T18:42:07.345568Z",
     "shell.execute_reply.started": "2021-12-08T18:42:07.315567Z"
    }
   },
   "outputs": [],
   "source": [
    "prob = om.Problem()\n",
    "model = prob.model\n",
    "groups = {0:model}"
   ]
  },
  {
   "cell_type": "code",
   "execution_count": 938,
   "id": "693aec01",
   "metadata": {
    "execution": {
     "iopub.execute_input": "2021-12-08T18:42:07.663504Z",
     "iopub.status.busy": "2021-12-08T18:42:07.663504Z",
     "iopub.status.idle": "2021-12-08T18:42:07.961975Z",
     "shell.execute_reply": "2021-12-08T18:42:07.959981Z",
     "shell.execute_reply.started": "2021-12-08T18:42:07.663504Z"
    }
   },
   "outputs": [],
   "source": [
    "solvefor = ['x_12', 'x_17', 'x_19']\n",
    "scceqs = [3, 7, 9, 4, 6, 5, 8, 0, 2, 1]\n",
    "buildidpvars(solvefor, model)\n",
    "for idx in scceqs:\n",
    "    explicit(groups, neqsfull, 0, neqsfull[idx][0], idx)\n",
    "optsolver(groups, optin, 0, 1, solvefor, ([],[],['f']))"
   ]
  },
  {
   "cell_type": "code",
   "execution_count": 939,
   "id": "6a55e295",
   "metadata": {
    "execution": {
     "iopub.execute_input": "2021-12-08T18:42:08.094973Z",
     "iopub.status.busy": "2021-12-08T18:42:08.094973Z",
     "iopub.status.idle": "2021-12-08T18:42:08.120977Z",
     "shell.execute_reply": "2021-12-08T18:42:08.118973Z",
     "shell.execute_reply.started": "2021-12-08T18:42:08.094973Z"
    }
   },
   "outputs": [],
   "source": [
    "prob.setup();"
   ]
  },
  {
   "cell_type": "code",
   "execution_count": 940,
   "id": "a01873e2",
   "metadata": {
    "execution": {
     "iopub.execute_input": "2021-12-08T18:42:12.888820Z",
     "iopub.status.busy": "2021-12-08T18:42:12.887820Z",
     "iopub.status.idle": "2021-12-08T18:42:12.900821Z",
     "shell.execute_reply": "2021-12-08T18:42:12.899822Z",
     "shell.execute_reply.started": "2021-12-08T18:42:12.888820Z"
    }
   },
   "outputs": [],
   "source": [
    "for elt in ['x_11', 'x_12', 'x_13', 'x_14', 'x_15', 'x_17', 'x_18', 'x_19', 'x_16', 'x_21', 'x_22']:\n",
    "    prob.set_val(elt,100*optres[elt])"
   ]
  },
  {
   "cell_type": "code",
   "execution_count": 740,
   "id": "d08dcdec",
   "metadata": {
    "execution": {
     "iopub.execute_input": "2021-12-07T00:06:31.822546Z",
     "iopub.status.busy": "2021-12-07T00:06:31.821549Z",
     "iopub.status.idle": "2021-12-07T00:06:31.839546Z",
     "shell.execute_reply": "2021-12-07T00:06:31.837546Z",
     "shell.execute_reply.started": "2021-12-07T00:06:31.822546Z"
    }
   },
   "outputs": [],
   "source": [
    "for elt in ['x_12', 'x_17','x_19']:\n",
    "    prob.set_val(elt,np.random.randint(-500,500))"
   ]
  },
  {
   "cell_type": "code",
   "execution_count": 741,
   "id": "da5cd832",
   "metadata": {
    "execution": {
     "iopub.execute_input": "2021-12-07T00:06:32.800551Z",
     "iopub.status.busy": "2021-12-07T00:06:32.800551Z",
     "iopub.status.idle": "2021-12-07T00:06:32.822546Z",
     "shell.execute_reply": "2021-12-07T00:06:32.820547Z",
     "shell.execute_reply.started": "2021-12-07T00:06:32.800551Z"
    }
   },
   "outputs": [],
   "source": [
    "for elt in ['x_21','x_16','x_22','x_11', 'x_13', 'x_14', 'x_15', 'x_18']:\n",
    "    prob.set_val(elt,np.random.randint(-100,100))"
   ]
  },
  {
   "cell_type": "code",
   "execution_count": 742,
   "id": "8e06dea4",
   "metadata": {
    "execution": {
     "iopub.execute_input": "2021-12-07T00:06:34.398711Z",
     "iopub.status.busy": "2021-12-07T00:06:34.398711Z",
     "iopub.status.idle": "2021-12-07T00:06:34.409706Z",
     "shell.execute_reply": "2021-12-07T00:06:34.408701Z",
     "shell.execute_reply.started": "2021-12-07T00:06:34.398711Z"
    }
   },
   "outputs": [],
   "source": [
    "# prob.set_val('x_12', -42.7)\n",
    "# prob.set_val('x_17', 0.7499595596608876)\n",
    "# prob.set_val('x_19', -0.0002)"
   ]
  },
  {
   "cell_type": "code",
   "execution_count": 743,
   "id": "3728fefc",
   "metadata": {
    "execution": {
     "iopub.execute_input": "2021-12-07T00:06:34.582703Z",
     "iopub.status.busy": "2021-12-07T00:06:34.582703Z",
     "iopub.status.idle": "2021-12-07T00:06:34.614704Z",
     "shell.execute_reply": "2021-12-07T00:06:34.613702Z",
     "shell.execute_reply.started": "2021-12-07T00:06:34.582703Z"
    }
   },
   "outputs": [
    {
     "name": "stdout",
     "output_type": "stream",
     "text": [
      "14 Explicit Output(s) in 'model'\n",
      "\n",
      "varname  val         \n",
      "-------  ------------\n",
      "inp\n",
      "  x_12   [0.22199317]\n",
      "  x_17   [0.87073231]\n",
      "  x_19   [0.20671916]\n",
      "eq3\n",
      "  x_10   [1.]        \n",
      "eq7\n",
      "  x_15   [1.]        \n",
      "eq9\n",
      "  x_20   [1.]        \n",
      "eq4\n",
      "  x_18   [1.]        \n",
      "eq6\n",
      "  x_22   [1.]        \n",
      "eq5\n",
      "  x_13   [1.]        \n",
      "eq8\n",
      "  x_16   [1.]        \n",
      "eq0\n",
      "  x_11   [1.]        \n",
      "eq2\n",
      "  x_14   [1.]        \n",
      "eq1\n",
      "  x_21   [1.]        \n",
      "eqf\n",
      "  f0f    [1.]        \n",
      "\n",
      "\n",
      "0 Implicit Output(s) in 'model'\n",
      "\n",
      "\n"
     ]
    }
   ],
   "source": [
    "model.list_outputs();"
   ]
  },
  {
   "cell_type": "code",
   "execution_count": 744,
   "id": "b2d4b1c5",
   "metadata": {
    "execution": {
     "iopub.execute_input": "2021-12-07T00:06:36.261732Z",
     "iopub.status.busy": "2021-12-07T00:06:36.261732Z",
     "iopub.status.idle": "2021-12-07T00:06:36.303732Z",
     "shell.execute_reply": "2021-12-07T00:06:36.302729Z",
     "shell.execute_reply.started": "2021-12-07T00:06:36.261732Z"
    }
   },
   "outputs": [],
   "source": [
    "prob.run_model()"
   ]
  },
  {
   "cell_type": "code",
   "execution_count": 941,
   "id": "7281074d",
   "metadata": {
    "execution": {
     "iopub.execute_input": "2021-12-08T18:42:20.026729Z",
     "iopub.status.busy": "2021-12-08T18:42:20.026729Z",
     "iopub.status.idle": "2021-12-08T18:42:20.094722Z",
     "shell.execute_reply": "2021-12-08T18:42:20.093718Z",
     "shell.execute_reply.started": "2021-12-08T18:42:20.026729Z"
    }
   },
   "outputs": [
    {
     "name": "stdout",
     "output_type": "stream",
     "text": [
      "Optimization terminated successfully    (Exit mode 0)\n",
      "            Current function value: [0.]\n",
      "            Iterations: 2\n",
      "            Function evaluations: 3\n",
      "            Gradient evaluations: 2\n",
      "Optimization Complete\n",
      "-----------------------------------\n"
     ]
    }
   ],
   "source": [
    "prob.set_solver_print(level=1)\n",
    "prob.driver = om.ScipyOptimizeDriver()\n",
    "prob.driver.options['maxiter'] = 300 \n",
    "prob.run_driver();"
   ]
  },
  {
   "cell_type": "code",
   "execution_count": 746,
   "id": "a54971c6",
   "metadata": {
    "execution": {
     "iopub.execute_input": "2021-12-07T00:06:39.798791Z",
     "iopub.status.busy": "2021-12-07T00:06:39.797788Z",
     "iopub.status.idle": "2021-12-07T00:06:39.807781Z",
     "shell.execute_reply": "2021-12-07T00:06:39.806785Z",
     "shell.execute_reply.started": "2021-12-07T00:06:39.798791Z"
    }
   },
   "outputs": [],
   "source": [
    "optres = {key: prob.get_val(key)[0] for key in ['x_11', 'x_12', 'x_13', 'x_14', 'x_15', 'x_17', 'x_18', 'x_19', 'x_16', 'x_21', 'x_22']}"
   ]
  },
  {
   "cell_type": "code",
   "execution_count": 747,
   "id": "3676676a",
   "metadata": {
    "execution": {
     "iopub.execute_input": "2021-12-07T00:06:39.963781Z",
     "iopub.status.busy": "2021-12-07T00:06:39.962782Z",
     "iopub.status.idle": "2021-12-07T00:06:40.097786Z",
     "shell.execute_reply": "2021-12-07T00:06:40.091794Z",
     "shell.execute_reply.started": "2021-12-07T00:06:39.963781Z"
    }
   },
   "outputs": [
    {
     "data": {
      "text/plain": [
       "{'x_11': -1.66666666666667,\n",
       " 'x_12': 1.0,\n",
       " 'x_13': -95.0,\n",
       " 'x_14': -0.05999999999999988,\n",
       " 'x_15': -2.0,\n",
       " 'x_17': 1.0,\n",
       " 'x_18': -12.0,\n",
       " 'x_19': 1.0,\n",
       " 'x_16': 303.0,\n",
       " 'x_21': -4.939999999999991,\n",
       " 'x_22': 1.2}"
      ]
     },
     "execution_count": 747,
     "metadata": {},
     "output_type": "execute_result"
    }
   ],
   "source": [
    "optres"
   ]
  },
  {
   "cell_type": "code",
   "execution_count": null,
   "id": "0489f99f",
   "metadata": {},
   "outputs": [],
   "source": []
  }
 ],
 "metadata": {
  "kernelspec": {
   "display_name": "mdo",
   "language": "python",
   "name": "mdo"
  },
  "language_info": {
   "codemirror_mode": {
    "name": "ipython",
    "version": 3
   },
   "file_extension": ".py",
   "mimetype": "text/x-python",
   "name": "python",
   "nbconvert_exporter": "python",
   "pygments_lexer": "ipython3",
   "version": "3.8.12"
  }
 },
 "nbformat": 4,
 "nbformat_minor": 5
}
