{
 "cells": [
  {
   "cell_type": "markdown",
   "id": "9aac92eb-ee42-49f5-b830-06e9e2505881",
   "metadata": {},
   "source": [
    "Based on ds_tree.ipynb"
   ]
  },
  {
   "cell_type": "markdown",
   "id": "5a5b6670-3fd9-4958-b381-a49d9c3ff0c0",
   "metadata": {},
   "source": [
    "This is the data structure based on the theory section of the thesis, which tries to be as minimal as possible.\n",
    "We then have:\n",
    "- constructor functions that can build this data structure. E.g:\n",
    "    - random networks\n",
    "    - sympy equation builder\n",
    "    - manual solver structure builder\n",
    "- mapping functions that can associate additional information with each datastructure. E.g:\n",
    "    - openMDAO namer(or any other renamer)\n",
    "    - mapping to actualy functions(that need to have the correct data shape for input and output)\n",
    "- processing functions that extract useful information based on the datastructures. E.g:\n",
    "    - returning all variables\n",
    "    - get input variables\n",
    "    - get output variables"
   ]
  },
  {
   "cell_type": "markdown",
   "id": "a2ae8668-0c92-4ad6-8e44-0a62a38ed087",
   "metadata": {
    "tags": []
   },
   "source": [
    "# Example data structure\n",
    "## Directed Graph"
   ]
  },
  {
   "cell_type": "code",
   "execution_count": 52,
   "id": "7ba4d9d5-0b6b-4176-8c3b-221dc87d9675",
   "metadata": {
    "execution": {
     "iopub.execute_input": "2022-02-28T21:16:05.439065Z",
     "iopub.status.busy": "2022-02-28T21:16:05.438066Z",
     "iopub.status.idle": "2022-02-28T21:16:13.334236Z",
     "shell.execute_reply": "2022-02-28T21:16:13.331226Z",
     "shell.execute_reply.started": "2022-02-28T21:16:05.439065Z"
    },
    "tags": []
   },
   "outputs": [],
   "source": [
    "from collections import OrderedDict, defaultdict\n",
    "import itertools\n",
    "import networkx as nx\n",
    "from representations import draw"
   ]
  },
  {
   "cell_type": "code",
   "execution_count": 106,
   "id": "f8976120-9e3b-4016-8da7-efd9a4d4fb99",
   "metadata": {
    "execution": {
     "iopub.execute_input": "2022-02-28T21:32:26.865926Z",
     "iopub.status.busy": "2022-02-28T21:32:26.864925Z",
     "iopub.status.idle": "2022-02-28T21:32:26.881925Z",
     "shell.execute_reply": "2022-02-28T21:32:26.880922Z",
     "shell.execute_reply.started": "2022-02-28T21:32:26.865926Z"
    },
    "tags": []
   },
   "outputs": [],
   "source": [
    "Ein = {\n",
    "    1: (7,),\n",
    "    2: (3,6),\n",
    "    3: (1,),\n",
    "    4: (2,4),\n",
    "    5: (3,2)\n",
    "}\n",
    "# IMPORTANT: Need to enforce that each output variable \n",
    "# can only be connected to one function\n",
    "Eout = {\n",
    "    1: (6,),\n",
    "    2: (1,),\n",
    "    3: (2,),\n",
    "    4: (None,),\n",
    "    5: (5,), # Use None to indicate the size of the output\n",
    "}    "
   ]
  },
  {
   "cell_type": "code",
   "execution_count": 107,
   "id": "7d4d23a6-4524-4b85-abff-c8780a93cc3f",
   "metadata": {
    "execution": {
     "iopub.execute_input": "2022-02-28T21:32:27.211923Z",
     "iopub.status.busy": "2022-02-28T21:32:27.211923Z",
     "iopub.status.idle": "2022-02-28T21:32:27.224923Z",
     "shell.execute_reply": "2022-02-28T21:32:27.223927Z",
     "shell.execute_reply.started": "2022-02-28T21:32:27.211923Z"
    },
    "tags": []
   },
   "outputs": [],
   "source": [
    "strnode = lambda var,fx, reverse=False: ('f_{}'.format(fx), 'x_{}'.format(var)) if reverse else ('x_{}'.format(var), 'f_{}'.format(fx)) "
   ]
  },
  {
   "cell_type": "code",
   "execution_count": 108,
   "id": "e308de9b-adf8-4090-b318-6790f7cb6acc",
   "metadata": {
    "execution": {
     "iopub.execute_input": "2022-02-28T21:32:27.785515Z",
     "iopub.status.busy": "2022-02-28T21:32:27.784505Z",
     "iopub.status.idle": "2022-02-28T21:32:27.799504Z",
     "shell.execute_reply": "2022-02-28T21:32:27.798505Z",
     "shell.execute_reply.started": "2022-02-28T21:32:27.785515Z"
    },
    "tags": []
   },
   "outputs": [],
   "source": [
    "G = nx.DiGraph([strnode(var,fx) for fx,vrs in Ein.items() for var in vrs]+[strnode(var, fx, True) for fx,vrs in Eout.items() for var in vrs if var])"
   ]
  },
  {
   "cell_type": "code",
   "execution_count": 110,
   "id": "651ae372-c017-478a-b9ff-c1be4580fd9f",
   "metadata": {
    "execution": {
     "iopub.execute_input": "2022-02-28T21:32:29.385880Z",
     "iopub.status.busy": "2022-02-28T21:32:29.384882Z",
     "iopub.status.idle": "2022-02-28T21:32:29.404877Z",
     "shell.execute_reply": "2022-02-28T21:32:29.403929Z",
     "shell.execute_reply.started": "2022-02-28T21:32:29.385880Z"
    },
    "tags": []
   },
   "outputs": [],
   "source": [
    "var_names = ['x_{}'.format(var) for var in all_variables(Ein, Eout)]"
   ]
  },
  {
   "cell_type": "code",
   "execution_count": 115,
   "id": "b70eece7-ddb5-485f-8525-feecfc1007b8",
   "metadata": {
    "execution": {
     "iopub.execute_input": "2022-02-28T21:33:03.529731Z",
     "iopub.status.busy": "2022-02-28T21:33:03.528735Z",
     "iopub.status.idle": "2022-02-28T21:33:04.239739Z",
     "shell.execute_reply": "2022-02-28T21:33:04.238752Z",
     "shell.execute_reply.started": "2022-02-28T21:33:03.529731Z"
    },
    "tags": []
   },
   "outputs": [
    {
     "data": {
      "image/png": "[encoded data removed]",
      "text/plain": [
       "<Figure size 432x432 with 1 Axes>"
      ]
     },
     "metadata": {},
     "output_type": "display_data"
    }
   ],
   "source": [
    "node_shapes = {elt:'o' if elt in var_names else 's' for elt in G.nodes()}\n",
    "draw(G, node_shape=node_shapes, prog='fdp');"
   ]
  },
  {
   "cell_type": "markdown",
   "id": "28d6fea7-11f3-47f2-bf6d-ff54cc65583a",
   "metadata": {},
   "source": [
    "## Ordered tree"
   ]
  },
  {
   "cell_type": "code",
   "execution_count": 132,
   "id": "6809beb2-839e-402e-96ad-85240accd6da",
   "metadata": {
    "execution": {
     "iopub.execute_input": "2022-02-28T23:45:17.996890Z",
     "iopub.status.busy": "2022-02-28T23:45:17.990890Z",
     "iopub.status.idle": "2022-02-28T23:45:18.056898Z",
     "shell.execute_reply": "2022-02-28T23:45:18.054894Z",
     "shell.execute_reply.started": "2022-02-28T23:45:17.996890Z"
    },
    "tags": []
   },
   "outputs": [],
   "source": [
    "Stree = {\n",
    "    2:1\n",
    "}\n",
    "Ftree = OrderedDict((\n",
    "    (1,1),\n",
    "    (2,2),\n",
    "    (3,2),\n",
    "    (4,1),\n",
    "    (5,1)\n",
    "))\n",
    "Vtree = {\n",
    "    4:1\n",
    "}"
   ]
  },
  {
   "cell_type": "markdown",
   "id": "91b96e5e-72da-4ed9-abf7-fcd3ccea2d06",
   "metadata": {},
   "source": [
    "## Functions"
   ]
  },
  {
   "cell_type": "code",
   "execution_count": 117,
   "id": "65051017-8d7d-45c8-8933-323086ca71bd",
   "metadata": {
    "execution": {
     "iopub.execute_input": "2022-02-28T21:33:14.138872Z",
     "iopub.status.busy": "2022-02-28T21:33:14.138872Z",
     "iopub.status.idle": "2022-02-28T21:33:14.159871Z",
     "shell.execute_reply": "2022-02-28T21:33:14.158901Z",
     "shell.execute_reply.started": "2022-02-28T21:33:14.138872Z"
    },
    "tags": []
   },
   "outputs": [],
   "source": [
    "f = {\n",
    "    1: lambda x,y: (x+y),\n",
    "    2: lambda x,y,z: (x+y+z),\n",
    "    3: lambda x,y: (x+y),\n",
    "    4: lambda x,y: (x+y),\n",
    "    5: lambda x,y,z: (x+y)\n",
    "}"
   ]
  },
  {
   "cell_type": "markdown",
   "id": "ace693b7-257a-46c3-8a93-5ef1e4501836",
   "metadata": {},
   "source": [
    "# Processing functions"
   ]
  },
  {
   "cell_type": "code",
   "execution_count": 118,
   "id": "a25eadc7-8e75-482d-afb6-bbcc480d2f57",
   "metadata": {
    "execution": {
     "iopub.execute_input": "2022-02-28T21:33:14.507617Z",
     "iopub.status.busy": "2022-02-28T21:33:14.506617Z",
     "iopub.status.idle": "2022-02-28T21:33:14.517616Z",
     "shell.execute_reply": "2022-02-28T21:33:14.516619Z",
     "shell.execute_reply.started": "2022-02-28T21:33:14.507617Z"
    },
    "tags": []
   },
   "outputs": [],
   "source": [
    "def all_varnodes(E, filterto=None):\n",
    "    return {var for key,val in E.items() if not filterto or key in filterto for var in val}"
   ]
  },
  {
   "cell_type": "code",
   "execution_count": 119,
   "id": "e6353272-5d71-45ff-a57c-8fc50cfb9c11",
   "metadata": {
    "execution": {
     "iopub.execute_input": "2022-02-28T21:33:14.686659Z",
     "iopub.status.busy": "2022-02-28T21:33:14.685663Z",
     "iopub.status.idle": "2022-02-28T21:33:14.704655Z",
     "shell.execute_reply": "2022-02-28T21:33:14.703655Z",
     "shell.execute_reply.started": "2022-02-28T21:33:14.686659Z"
    },
    "tags": []
   },
   "outputs": [],
   "source": [
    "def all_variables(Ein, Eout, filterto=None):\n",
    "    return all_varnodes(Ein, filterto).union(all_varnodes(Eout, filterto)-{None})"
   ]
  },
  {
   "cell_type": "code",
   "execution_count": 120,
   "id": "04766c18-b48e-45d8-9176-f598c27cd013",
   "metadata": {
    "execution": {
     "iopub.execute_input": "2022-02-28T21:33:14.930450Z",
     "iopub.status.busy": "2022-02-28T21:33:14.929458Z",
     "iopub.status.idle": "2022-02-28T21:33:14.938447Z",
     "shell.execute_reply": "2022-02-28T21:33:14.936450Z",
     "shell.execute_reply.started": "2022-02-28T21:33:14.930450Z"
    },
    "tags": []
   },
   "outputs": [],
   "source": [
    "def global_inputs(Ein, Eout, filterto=None):\n",
    "    return all_varnodes(Ein, filterto)-all_varnodes(Eout, filterto)"
   ]
  },
  {
   "cell_type": "code",
   "execution_count": 121,
   "id": "ef23d407-5a0a-4e52-aae7-37bc1edf3b76",
   "metadata": {
    "execution": {
     "iopub.execute_input": "2022-02-28T21:33:15.178451Z",
     "iopub.status.busy": "2022-02-28T21:33:15.177449Z",
     "iopub.status.idle": "2022-02-28T21:33:15.187450Z",
     "shell.execute_reply": "2022-02-28T21:33:15.186447Z",
     "shell.execute_reply.started": "2022-02-28T21:33:15.178451Z"
    },
    "tags": []
   },
   "outputs": [],
   "source": [
    "def global_outputs(Ein, Eout, filterto=None):\n",
    "    return all_varnodes(Eout, filterto)-all_varnodes(Ein, filterto)"
   ]
  },
  {
   "cell_type": "code",
   "execution_count": 122,
   "id": "c850ca0b-3961-4f1b-be26-3e26fb617122",
   "metadata": {
    "execution": {
     "iopub.execute_input": "2022-02-28T21:33:15.644451Z",
     "iopub.status.busy": "2022-02-28T21:33:15.644451Z",
     "iopub.status.idle": "2022-02-28T21:33:15.652447Z",
     "shell.execute_reply": "2022-02-28T21:33:15.651450Z",
     "shell.execute_reply.started": "2022-02-28T21:33:15.644451Z"
    },
    "tags": []
   },
   "outputs": [
    {
     "data": {
      "text/plain": [
       "{1, 2, 3, 4, 5, 6, 7}"
      ]
     },
     "execution_count": 122,
     "metadata": {},
     "output_type": "execute_result"
    }
   ],
   "source": [
    "all_variables(Ein, Eout)"
   ]
  },
  {
   "cell_type": "code",
   "execution_count": 123,
   "id": "928f627d-3f90-4553-b9c4-1d45a6f522a8",
   "metadata": {
    "execution": {
     "iopub.execute_input": "2022-02-28T21:33:16.438543Z",
     "iopub.status.busy": "2022-02-28T21:33:16.437545Z",
     "iopub.status.idle": "2022-02-28T21:33:16.448545Z",
     "shell.execute_reply": "2022-02-28T21:33:16.447546Z",
     "shell.execute_reply.started": "2022-02-28T21:33:16.438543Z"
    },
    "tags": []
   },
   "outputs": [
    {
     "data": {
      "text/plain": [
       "{3, 4, 7}"
      ]
     },
     "execution_count": 123,
     "metadata": {},
     "output_type": "execute_result"
    }
   ],
   "source": [
    "global_inputs(Ein, Eout)"
   ]
  },
  {
   "cell_type": "markdown",
   "id": "c24e5433-b876-4473-8ca6-7f30325b9260",
   "metadata": {},
   "source": [
    "# Generating workflows"
   ]
  },
  {
   "cell_type": "code",
   "execution_count": 124,
   "id": "a5744207-ca18-4561-8dda-6bb145b021b4",
   "metadata": {
    "execution": {
     "iopub.execute_input": "2022-02-28T21:33:18.795936Z",
     "iopub.status.busy": "2022-02-28T21:33:18.794936Z",
     "iopub.status.idle": "2022-02-28T21:33:18.815937Z",
     "shell.execute_reply": "2022-02-28T21:33:18.814933Z",
     "shell.execute_reply.started": "2022-02-28T21:33:18.795936Z"
    },
    "tags": []
   },
   "outputs": [
    {
     "data": {
      "text/plain": [
       "odict_keys([1, 2, 3, 4, 5])"
      ]
     },
     "execution_count": 124,
     "metadata": {},
     "output_type": "execute_result"
    }
   ],
   "source": [
    "Ntree.keys()"
   ]
  },
  {
   "cell_type": "code",
   "execution_count": 125,
   "id": "8ce69f80-026c-4892-abba-c678ba922761",
   "metadata": {
    "execution": {
     "iopub.execute_input": "2022-02-28T21:33:19.359490Z",
     "iopub.status.busy": "2022-02-28T21:33:19.359490Z",
     "iopub.status.idle": "2022-02-28T21:33:19.366488Z",
     "shell.execute_reply": "2022-02-28T21:33:19.365489Z",
     "shell.execute_reply.started": "2022-02-28T21:33:19.359490Z"
    },
    "tags": []
   },
   "outputs": [],
   "source": [
    "tree = {\n",
    "    2:1,\n",
    "}"
   ]
  },
  {
   "cell_type": "code",
   "execution_count": 126,
   "id": "ead8c36b-ef68-4bcf-ab18-8f523ab9b769",
   "metadata": {
    "execution": {
     "iopub.execute_input": "2022-02-28T21:33:19.706880Z",
     "iopub.status.busy": "2022-02-28T21:33:19.706880Z",
     "iopub.status.idle": "2022-02-28T21:33:19.727882Z",
     "shell.execute_reply": "2022-02-28T21:33:19.726875Z",
     "shell.execute_reply.started": "2022-02-28T21:33:19.706880Z"
    },
    "tags": []
   },
   "outputs": [],
   "source": [
    "def level_order_tree(tree, root=1):\n",
    "    level_order = [root]\n",
    "    next_dict = defaultdict(list)\n",
    "    for key,val in tree.items():\n",
    "        next_dict[val].append(key) \n",
    "    q = [root]\n",
    "    while q:\n",
    "        idx = q.pop()\n",
    "        elts = next_dict[idx]\n",
    "        level_order+=elts\n",
    "        q+=elts\n",
    "    return level_order"
   ]
  },
  {
   "cell_type": "code",
   "execution_count": 127,
   "id": "656d0d82-37bd-4279-8718-6c5cd3af2ca2",
   "metadata": {
    "execution": {
     "iopub.execute_input": "2022-02-28T21:33:20.097507Z",
     "iopub.status.busy": "2022-02-28T21:33:20.096508Z",
     "iopub.status.idle": "2022-02-28T21:33:20.119510Z",
     "shell.execute_reply": "2022-02-28T21:33:20.118548Z",
     "shell.execute_reply.started": "2022-02-28T21:33:20.097507Z"
    },
    "tags": []
   },
   "outputs": [
    {
     "data": {
      "text/plain": [
       "[1, 2]"
      ]
     },
     "execution_count": 127,
     "metadata": {},
     "output_type": "execute_result"
    }
   ],
   "source": [
    "level_order_tree(tree)"
   ]
  },
  {
   "cell_type": "markdown",
   "id": "d3d093d6-76cb-4c51-8fc4-b1fadd3c76e6",
   "metadata": {
    "tags": []
   },
   "source": [
    "## Merging"
   ]
  },
  {
   "cell_type": "code",
   "execution_count": 128,
   "id": "25723002-c442-45cf-a620-1b8c6354fa16",
   "metadata": {
    "execution": {
     "iopub.execute_input": "2022-02-28T21:33:44.439356Z",
     "iopub.status.busy": "2022-02-28T21:33:44.439356Z",
     "iopub.status.idle": "2022-02-28T21:33:44.450359Z",
     "shell.execute_reply": "2022-02-28T21:33:44.449352Z",
     "shell.execute_reply.started": "2022-02-28T21:33:44.439356Z"
    },
    "tags": []
   },
   "outputs": [],
   "source": [
    "mergelts = [2,3,4]"
   ]
  },
  {
   "cell_type": "code",
   "execution_count": 129,
   "id": "171529ae-c264-49c3-b0d8-fb1c9008eaf9",
   "metadata": {
    "execution": {
     "iopub.execute_input": "2022-02-28T21:33:45.131353Z",
     "iopub.status.busy": "2022-02-28T21:33:45.130353Z",
     "iopub.status.idle": "2022-02-28T21:33:45.152353Z",
     "shell.execute_reply": "2022-02-28T21:33:45.151354Z",
     "shell.execute_reply.started": "2022-02-28T21:33:45.130353Z"
    },
    "tags": []
   },
   "outputs": [],
   "source": [
    "solver_vars = global_inputs(Ein, Eout, mergelts).intersection(global_inputs(Ein,Eout))"
   ]
  },
  {
   "cell_type": "code",
   "execution_count": 133,
   "id": "fd9d1394-8ed9-4c74-8c8c-2d80cce6beee",
   "metadata": {
    "execution": {
     "iopub.execute_input": "2022-02-28T23:46:18.437360Z",
     "iopub.status.busy": "2022-02-28T23:46:18.437360Z",
     "iopub.status.idle": "2022-02-28T23:46:18.462356Z",
     "shell.execute_reply": "2022-02-28T23:46:18.461328Z",
     "shell.execute_reply.started": "2022-02-28T23:46:18.437360Z"
    },
    "tags": []
   },
   "outputs": [
    {
     "data": {
      "text/plain": [
       "{3, 4}"
      ]
     },
     "execution_count": 133,
     "metadata": {},
     "output_type": "execute_result"
    }
   ],
   "source": [
    "solver_vars # should actually be specified (but need to be part of allowable_solvevars)"
   ]
  },
  {
   "cell_type": "code",
   "execution_count": 49,
   "id": "68d645e8-16e3-45f0-90aa-b42699d0bfc1",
   "metadata": {
    "execution": {
     "iopub.execute_input": "2022-02-28T21:13:30.847429Z",
     "iopub.status.busy": "2022-02-28T21:13:30.846431Z",
     "iopub.status.idle": "2022-02-28T21:13:30.863428Z",
     "shell.execute_reply": "2022-02-28T21:13:30.862431Z",
     "shell.execute_reply.started": "2022-02-28T21:13:30.847429Z"
    },
    "tags": []
   },
   "outputs": [],
   "source": [
    "ins = global_inputs(Ein, Eout, mergelts)\n",
    "outs = global_outputs(Ein, Eout, mergelts)"
   ]
  },
  {
   "cell_type": "code",
   "execution_count": 50,
   "id": "94479339-eac1-47e4-aff0-cc6c035e4f54",
   "metadata": {
    "execution": {
     "iopub.execute_input": "2022-02-28T21:13:38.301556Z",
     "iopub.status.busy": "2022-02-28T21:13:38.300556Z",
     "iopub.status.idle": "2022-02-28T21:13:38.309560Z",
     "shell.execute_reply": "2022-02-28T21:13:38.308557Z",
     "shell.execute_reply.started": "2022-02-28T21:13:38.301556Z"
    }
   },
   "outputs": [
    {
     "data": {
      "text/plain": [
       "({3, 5, 6}, {None})"
      ]
     },
     "execution_count": 50,
     "metadata": {},
     "output_type": "execute_result"
    }
   ],
   "source": [
    "ins, outs"
   ]
  },
  {
   "cell_type": "code",
   "execution_count": null,
   "id": "9485e4bc-09b5-44e3-9d3b-92e5f9057118",
   "metadata": {},
   "outputs": [],
   "source": [
    "solvefor = [] if solvefor == None else solvefor\n",
    "allsolvevars = set()\n",
    "for elt in mergelts:\n",
    "    if elt.node_type == END and elt.ref in solvefor:\n",
    "        allsolvevars.add(solvefor[elt.ref])\n",
    "edges = G.edges()\n",
    "mergededges = [(fr,to) for fr,to in edges if fr in mergelts or to in mergelts]\n",
    "outs = {to for fr,to in edges if fr in mergelts and not all([elt in mergelts for elt in G.successors(to)])}\n",
    "outs = outs.union(allsolvevars) # for every terminal node can have one solvefor\n",
    "ins = {fr for fr,to in edges if (\n",
    "    to in mergelts \n",
    "    and not any([elt in mergelts for elt in G.predecessors(fr)]) \n",
    "    and fr not in allsolvevars)}\n",
    "newedges = [(fr, mergeinto) for fr in ins]+[(mergeinto, to) for to in outs]\n",
    "if mergewithold:\n",
    "    oldedges = [(fr, to) for fr,to in edges if fr not in mergelts and to not in mergelts]\n",
    "    newedges += oldedges\n",
    "# Tree\n",
    "newG = nx.DiGraph(newedges)\n",
    "childG = nx.DiGraph(mergededges)\n",
    "return newG, childG"
   ]
  },
  {
   "cell_type": "code",
   "execution_count": null,
   "id": "d3ed4c5c-8a0e-4fa4-92b1-c0f48c536af4",
   "metadata": {},
   "outputs": [],
   "source": [
    "m = branch_node.ref\n",
    "_,sparsity,dout,_ = m.data_structures()\n",
    "node_list = [tree_node for tree_node in PreOrderIter(branch_node) if tree_node.node_type in [INTER, END]]\n",
    "sparsity_treeref = {tree_node: sparsity[tree_node.ref] for tree_node in node_list}\n",
    "dout_treeref  = {tree_node: dout[tree_node.ref] for tree_node in node_list}\n",
    "G, _ = digraph_repr(sparsity_treeref, dout_treeref, intermediary=True)\n",
    "merge_order = solvers_bottom_up(branch_node, from_root)\n",
    "newG = G\n",
    "graphs = dict() \n",
    "for elt in merge_order:\n",
    "    newG, childG = merge_pure(newG, elt.children, elt, solvefor=m.outset)\n",
    "    graphs[elt] = childG\n",
    "return G, graphs"
   ]
  }
 ],
 "metadata": {
  "kernelspec": {
   "display_name": "mdo",
   "language": "python",
   "name": "mdo"
  },
  "language_info": {
   "codemirror_mode": {
    "name": "ipython",
    "version": 3
   },
   "file_extension": ".py",
   "mimetype": "text/x-python",
   "name": "python",
   "nbconvert_exporter": "python",
   "pygments_lexer": "ipython3",
   "version": "3.8.12"
  }
 },
 "nbformat": 4,
 "nbformat_minor": 5
}
