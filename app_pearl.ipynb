{
 "cells": [
  {
   "cell_type": "code",
   "execution_count": 1,
   "id": "b9a213ad",
   "metadata": {
    "execution": {
     "iopub.execute_input": "2021-11-24T10:22:45.285155Z",
     "iopub.status.busy": "2021-11-24T10:22:45.285155Z",
     "iopub.status.idle": "2021-11-24T10:22:48.145582Z",
     "shell.execute_reply": "2021-11-24T10:22:48.143705Z",
     "shell.execute_reply.started": "2021-11-24T10:22:45.285155Z"
    }
   },
   "outputs": [],
   "source": [
    "from compute import Var, Par, Model, adda, addf, ureg, Evaluable, buildidpvars, get_unit\n",
    "from scipy import interpolate\n",
    "import numpy as np\n",
    "import openmdao.api as om\n",
    "import sympy as sp"
   ]
  },
  {
   "cell_type": "code",
   "execution_count": 2,
   "id": "5610484b",
   "metadata": {
    "execution": {
     "iopub.execute_input": "2021-11-24T10:22:49.172558Z",
     "iopub.status.busy": "2021-11-24T10:22:49.172558Z",
     "iopub.status.idle": "2021-11-24T10:22:49.187557Z",
     "shell.execute_reply": "2021-11-24T10:22:49.186597Z",
     "shell.execute_reply.started": "2021-11-24T10:22:49.172558Z"
    }
   },
   "outputs": [],
   "source": [
    "db2dec = lambda x: 10**(x/10)\n",
    "dec2db = lambda x: 10*sp.log(sp.Abs(x), 10)"
   ]
  },
  {
   "cell_type": "code",
   "execution_count": 11,
   "id": "b7f66103",
   "metadata": {
    "execution": {
     "iopub.execute_input": "2021-11-24T10:37:58.597612Z",
     "iopub.status.busy": "2021-11-24T10:37:58.597612Z",
     "iopub.status.idle": "2021-11-24T10:37:59.011574Z",
     "shell.execute_reply": "2021-11-24T10:37:59.009570Z",
     "shell.execute_reply.started": "2021-11-24T10:37:58.597612Z"
    }
   },
   "outputs": [],
   "source": [
    "m = Model()\n",
    "\n",
    "# Geometry\n",
    "D_d = Var('D_d', 5, 'm')\n",
    "D_f = Var('D_f', 5, 'm')\n",
    "D_s = Var('D_s', 1, 'm')\n",
    "t_d = Var('t_d', 0.5, 'm')\n",
    "t_f = Var('t_f', 2, 'm')\n",
    "t_s = Var('t_s', 6, 'm')\n",
    "\n",
    "P_hotel = Par('P_hotel', 50, 'W')\n",
    "eta_s = Par('eta_s', 0.27)\n",
    "phi_s = Par('phi_s', 800, 'W/m**2')\n",
    "theta_bar = Par('theta_bar', 55, 'deg')\n",
    "I_d = Par('I_d', 0.9)\n",
    "D = Par('D', 0.005)\n",
    "L_s = Par('L_s', 10)\n",
    "t_r = Var('t_r', unit='hr')\n",
    "E_AUV = Par('E_AUV', 1.9, 'kW*hr')\n",
    "t_service = Par('t_service', 12, 'hr')\n",
    "t_comms = Par('t_comms', 1, 'hr')\n",
    "gamma = Par('gamma', 2)\n",
    "A_s = adda(m, 'A_s', 1.5*(D_f/2)**2, 'm**2')\n",
    "t_mission = Par('t_mission', 24, 'hr')\n",
    "\n",
    "# AUV recharging system\n",
    "P_recharge = adda(m, 'P_recharge', \n",
    "    eta_s * phi_s * sp.cos(theta_bar) * I_d * (1-D)**L_s * A_s, 'W')\n",
    "P_drawrecharge = adda(m, 'P_drawrecharge', P_hotel - P_recharge, 'W')\n",
    "E_recharge_gen = adda(m, 'E_recharge_gen', P_recharge * t_r, 'W*hr')\n",
    "E_service = adda(m, 'E_service', E_AUV * gamma, 'W*hr')\n",
    "P_service = adda(m, 'P_service', E_service / t_service, 'W')\n",
    "P_drawservice = adda(m, 'P_drawservice', P_hotel - P_service, 'W')\n",
    "\n",
    "# Propulsion\n",
    "rho = Par('rho', 1023.6, 'kg/m**3') # density of seawater [kg/m^3]\n",
    "C_d = Par('C_d', 1) # estimate drag coefficient (a square flat plate at 90 deg to the flow is 1.17)\n",
    "S_w = Par('S_w', 0.5, 'm**2') # will technically need to determine from A_solar and other structural needs... assume something for now\n",
    "v = Var('v', 0.3, 'm/s') # [m/s]\n",
    "eta_m = Par('eta_m', 0.75) # estimated, need to determine from motors?\n",
    "P_move = adda(m, 'P_move', rho*C_d*S_w*v**3/(2*eta_m), 'W')\n",
    "\n",
    "# Comms beginning\n",
    "P_comms = Var('P_c', unit='W')\n",
    "\n",
    "# Balances\n",
    "E_required = adda(m, 'E_required', E_service + \n",
    "    (P_hotel + P_move)*t_mission + P_comms*t_comms, 'W*hr')\n",
    "\n",
    "addf(m, E_recharge_gen-E_required)\n",
    "\n",
    "# Battery\n",
    "mu_batt = Par('mu_batt', 30, 'W*hr/kg')\n",
    "DOD = Par('DOD', 0.4)\n",
    "eta_trans = Par('eta_trans', 0.85)\n",
    "nu_batt = Par('nu_batt', 450, 'kW*hr/(m**3)')\n",
    "N = Par('N', 1)\n",
    "C = adda(m, 'C', E_service/(DOD*N*eta_trans), 'kW*hr')\n",
    "m_batt_zero = Par('m_batt_zero', 5, 'kg')\n",
    "m_batt = adda(m, 'm_batt', C/mu_batt + m_batt_zero, 'kg')\n",
    "V_batt = adda(m, 'V_batt', C/nu_batt, 'm**3')\n",
    "\n",
    "# Comms\n",
    "k = Par('k', 1.38065e-23, 'J/K')\n",
    "c = Par('c', 3e8, 'm/s')\n",
    "f = Par('f', 2.2, 'GHz')\n",
    "lambd = adda(m, 'lambd', c/f, 'm')\n",
    "eta_parab = Par('eta_parab', 0.55)\n",
    "theta_t = Par('theta_t', 32)\n",
    "error_t = Par('error_t', 27)\n",
    "G_pt_db = adda(m, 'G_pt', 44.3-dec2db(theta_t**2))\n",
    "L_pt_db = adda(m, 'L_pt_db', -12*(error_t/theta_t)**2)\n",
    "G_t = adda(m, 'G_t', db2dec(G_pt_db+L_pt_db))\n",
    "D_r = Par('D_r', 5.3, 'm')\n",
    "G_rp = adda(m, 'G_rp', eta_parab*(np.pi*D_r/lambd)**2)\n",
    "L_pr = Par('L_pr', db2dec(-0.1))\n",
    "G_r = adda(m, 'G_r', G_rp*L_pr)\n",
    "BER = Par('BER', 0.0001)\n",
    "R = Par('R', 10.625, 'MB/s')\n",
    "h = Par('h', 500, 'km')\n",
    "Re = Par('Re', 6378, 'km')\n",
    "T_s = Par('T_s', 135, 'K')\n",
    "S = adda(m, 'S', sp.sqrt(h*(h+2*Re)), 'km')\n",
    "L_a = Par('L_a', db2dec(-0.3))\n",
    "L_sp = adda(m, 'L_sp', (lambd/(4*np.pi*S))**2)\n",
    "L_l = Par('L_l', db2dec(-1))\n",
    "EN = adda(m, 'EN', P_comms*L_a*L_sp*L_l*L_pr*G_r*G_t/(k*T_s*R))\n",
    "EN_req = Par('EN_req', 30)\n",
    "\n",
    "addf(m, EN-EN_req)"
   ]
  },
  {
   "cell_type": "code",
   "execution_count": 12,
   "id": "fd56bbae",
   "metadata": {
    "execution": {
     "iopub.execute_input": "2021-11-24T10:37:59.556699Z",
     "iopub.status.busy": "2021-11-24T10:37:59.555700Z",
     "iopub.status.idle": "2021-11-24T10:37:59.572698Z",
     "shell.execute_reply": "2021-11-24T10:37:59.571696Z",
     "shell.execute_reply.started": "2021-11-24T10:37:59.556699Z"
    }
   },
   "outputs": [],
   "source": [
    "eqs, eqv, dout, dins = m.data_structures()"
   ]
  },
  {
   "cell_type": "code",
   "execution_count": 13,
   "id": "e8401477",
   "metadata": {
    "execution": {
     "iopub.execute_input": "2021-11-24T10:38:00.143399Z",
     "iopub.status.busy": "2021-11-24T10:38:00.142399Z",
     "iopub.status.idle": "2021-11-24T10:38:00.154399Z",
     "shell.execute_reply": "2021-11-24T10:38:00.152399Z",
     "shell.execute_reply.started": "2021-11-24T10:38:00.143399Z"
    }
   },
   "outputs": [
    {
     "data": {
      "text/plain": [
       "{D_f, P_c, t_r, v}"
      ]
     },
     "execution_count": 13,
     "metadata": {},
     "output_type": "execute_result"
    }
   ],
   "source": [
    "{elt for elt in dins if not elt.always_input}"
   ]
  },
  {
   "cell_type": "code",
   "execution_count": null,
   "id": "20fb57fe",
   "metadata": {},
   "outputs": [],
   "source": [
    "solver(groups, eqs, 0, 1, [t_r], [9])\n",
    "explicit(groups, eqs, 1, A0, 1)\n",
    "explicit(groups, eqs, 1, V0, 2)\n",
    "explicit(groups, eqs, 1, rho_LG0, 3)\n",
    "explicit(groups, eqs, 1, m_lg, 4)\n",
    "explicit(groups, eqs, 1, m_t, 0)\n",
    "explicit(groups, eqs, 1, L0, 5)\n",
    "explicit(groups, eqs, 1, W0, 6)\n",
    "explicit(groups, eqs, 1, D0, 7)"
   ]
  },
  {
   "cell_type": "code",
   "execution_count": 5,
   "id": "6ab696fa",
   "metadata": {
    "execution": {
     "iopub.execute_input": "2021-11-24T10:23:12.832363Z",
     "iopub.status.busy": "2021-11-24T10:23:12.832363Z",
     "iopub.status.idle": "2021-11-24T10:23:12.873356Z",
     "shell.execute_reply": "2021-11-24T10:23:12.872354Z",
     "shell.execute_reply.started": "2021-11-24T10:23:12.832363Z"
    }
   },
   "outputs": [
    {
     "data": {
      "text/plain": [
       "{0: (A_s, 0.375*D_f**2),\n",
       " 1: (P_recharge, I_d*eta_s*phi_s*A_s*(1 - D)**L_s*cos(theta_bar)),\n",
       " 2: (P_drawrecharge, P_hotel - P_recharge),\n",
       " 3: (E_recharge_gen, P_recharge*t_r),\n",
       " 4: (E_service, E_AUV*gamma),\n",
       " 5: (P_service, E_service/t_service),\n",
       " 6: (P_drawservice, P_hotel - P_service),\n",
       " 7: (P_move, C_d*rho*S_w*V**3/(2*eta_m)),\n",
       " 8: (E_required, t_comms*P_c + t_mission*(P_hotel + P_move) + E_service),\n",
       " 9: (None, E_recharge_gen - E_required),\n",
       " 10: (C, E_service/(DOD*N*eta_trans)),\n",
       " 11: (m_batt, m_batt_zero + C/mu_batt),\n",
       " 12: (V_batt, C/nu_batt),\n",
       " 13: (lambd, c/f),\n",
       " 14: (G_pt, -10*log(Abs(theta_t**2))/log(10) + 44.3),\n",
       " 15: (L_pt_db, -12*error_t**2/theta_t**2),\n",
       " 16: (G_t, 10**(G_pt/10 + L_pt_db/10)),\n",
       " 17: (G_rp, 9.86960440108936*D_r**2*eta_parab/lambd**2),\n",
       " 18: (G_r, L_pr*G_rp),\n",
       " 19: (S, sqrt(h*(2*Re + h))),\n",
       " 20: (L_sp, 0.00633257397764611*lambd**2/S**2),\n",
       " 21: (EN, L_a*L_l*L_pr*G_r*G_t*L_sp*P_c/(R*T_s*k)),\n",
       " 22: (None, -EN_req + EN)}"
      ]
     },
     "execution_count": 5,
     "metadata": {},
     "output_type": "execute_result"
    }
   ],
   "source": [
    "eqs"
   ]
  },
  {
   "cell_type": "code",
   "execution_count": 4,
   "id": "f169b0e8",
   "metadata": {
    "execution": {
     "iopub.execute_input": "2021-11-24T10:22:22.016118Z",
     "iopub.status.busy": "2021-11-24T10:22:22.015118Z",
     "iopub.status.idle": "2021-11-24T10:22:22.089120Z",
     "shell.execute_reply": "2021-11-24T10:22:22.088116Z",
     "shell.execute_reply.started": "2021-11-24T10:22:22.016118Z"
    }
   },
   "outputs": [],
   "source": [
    "\n",
    "# # Hydrodynamics\n",
    "# rho_s = var('rho_s', 650, 'kg/m**3')\n",
    "\n",
    "# h_f = var('h_f', \n",
    "#     t_f*rho_s/rho+((D_s/D_f)**2*t_s+(D_d/D_f)**2*t_d)*(rho_s/rho-1), 'm')\n",
    "# z_g = var('z_g', \n",
    "#     (t_f*D_f**2/2-t_s*D_s**2/2-(t_s+t_d/2)*D_d**2)/(D_f**2+D_f**2+D_s**2)-h_f, \n",
    "#     'm')\n",
    "# #Vol = var('Vol', np.pi/4*(h_f*D_f**2+t_s*D_s**2+t_d*D_d**2), 'm**3')\n",
    "# #GM = var('GM', D_f**4/(16*(D_f**2*h_f+D_s**2*t_s+D_d**2*t_d))-(h_f+t_s+t_d)/2, 'm')\n",
    "\n",
    "\n",
    "# def debugfx():\n",
    "#     print('stop')\n"
   ]
  }
 ],
 "metadata": {
  "kernelspec": {
   "display_name": "mdo",
   "language": "python",
   "name": "mdo"
  },
  "language_info": {
   "codemirror_mode": {
    "name": "ipython",
    "version": 3
   },
   "file_extension": ".py",
   "mimetype": "text/x-python",
   "name": "python",
   "nbconvert_exporter": "python",
   "pygments_lexer": "ipython3",
   "version": "3.8.10"
  }
 },
 "nbformat": 4,
 "nbformat_minor": 5
}
