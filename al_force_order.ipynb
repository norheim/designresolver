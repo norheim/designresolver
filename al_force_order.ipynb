{
 "cells": [
  {
   "cell_type": "code",
   "execution_count": 1,
   "id": "36c8c3db-73f1-40c6-99de-01a69da6332c",
   "metadata": {
    "execution": {
     "iopub.execute_input": "2022-01-31T22:29:28.165929Z",
     "iopub.status.busy": "2022-01-31T22:29:28.164934Z",
     "iopub.status.idle": "2022-01-31T22:29:39.512933Z",
     "shell.execute_reply": "2022-01-31T22:29:39.511942Z",
     "shell.execute_reply.started": "2022-01-31T22:29:28.165929Z"
    },
    "tags": []
   },
   "outputs": [],
   "source": [
    "from compute import Var, Par, Model, adda, addf, ureg, Evaluable, buildidpvars\n",
    "from compute import RefNode, SolverNode, addsolver, geteqs, END\n",
    "from representations import render_tree, digraph_repr, drawfull\n",
    "from notation import graphs_from_incidence, make_acyclic, solvers_bottom_up, generate_execution\n",
    "from datastructures import notation_from_tree\n",
    "from operators import merge_pure\n",
    "from anytree import LevelOrderIter\n",
    "import networkx as nx"
   ]
  },
  {
   "cell_type": "code",
   "execution_count": 2,
   "id": "335dc0cb-9433-4755-9746-bbe1721de8cc",
   "metadata": {
    "execution": {
     "iopub.execute_input": "2022-01-31T22:29:39.520927Z",
     "iopub.status.busy": "2022-01-31T22:29:39.519927Z",
     "iopub.status.idle": "2022-01-31T22:29:39.548928Z",
     "shell.execute_reply": "2022-01-31T22:29:39.546943Z",
     "shell.execute_reply.started": "2022-01-31T22:29:39.520927Z"
    },
    "tags": []
   },
   "outputs": [],
   "source": [
    "x,c,d = Var('x'), Var('c'), Var('d')"
   ]
  },
  {
   "cell_type": "code",
   "execution_count": 3,
   "id": "6655f23c-201c-4174-8c00-e67308c2404a",
   "metadata": {
    "execution": {
     "iopub.execute_input": "2022-01-31T22:29:39.558926Z",
     "iopub.status.busy": "2022-01-31T22:29:39.557933Z",
     "iopub.status.idle": "2022-01-31T22:29:39.927928Z",
     "shell.execute_reply": "2022-01-31T22:29:39.924927Z",
     "shell.execute_reply.started": "2022-01-31T22:29:39.558926Z"
    },
    "tags": []
   },
   "outputs": [],
   "source": [
    "model = Model()\n",
    "m = RefNode(name='/', ref=model)\n",
    "y = adda(m, 'y', x)\n",
    "a = adda(m, 'a', c+y)\n",
    "b = adda(m, 'b', a)\n",
    "r_3 = addf(m, b+d)\n",
    "r_4 = addf(m, a+d)\n",
    "s2 = addsolver(m, [], [(r_4, d)], name='s2')\n",
    "e = adda(m, 'e', c+b)"
   ]
  },
  {
   "cell_type": "code",
   "execution_count": 4,
   "id": "a229df83-cbe4-428e-8b99-bd9de309d2ba",
   "metadata": {
    "execution": {
     "iopub.execute_input": "2022-01-31T22:29:39.964940Z",
     "iopub.status.busy": "2022-01-31T22:29:39.963932Z",
     "iopub.status.idle": "2022-01-31T22:29:40.004929Z",
     "shell.execute_reply": "2022-01-31T22:29:40.001927Z",
     "shell.execute_reply.started": "2022-01-31T22:29:39.964940Z"
    },
    "tags": []
   },
   "outputs": [],
   "source": [
    "f_0, f_1, f_2 = geteqs(m, [y,a,b])\n",
    "s1 = addsolver(m, [f_0, f_1, f_2, s2], [(r_3, c)], name='s1') # could still be cyclic at this point"
   ]
  },
  {
   "cell_type": "code",
   "execution_count": 5,
   "id": "e9be6fbf-ec0c-4f46-9086-89d0c0c7e8f5",
   "metadata": {
    "execution": {
     "iopub.execute_input": "2022-01-31T22:29:40.035927Z",
     "iopub.status.busy": "2022-01-31T22:29:40.034928Z",
     "iopub.status.idle": "2022-01-31T22:29:40.192926Z",
     "shell.execute_reply": "2022-01-31T22:29:40.187928Z",
     "shell.execute_reply.started": "2022-01-31T22:29:40.035927Z"
    },
    "tags": []
   },
   "outputs": [
    {
     "name": "stdout",
     "output_type": "stream",
     "text": [
      "/               \n",
      "├── f_5, INTER  \n",
      "└── s1, SOLVER  \n",
      "    ├── f_0, INTER\n",
      "    ├── f_1, INTER\n",
      "    ├── f_2, INTER\n",
      "    ├── s2, SOLVER\n",
      "    │   └── r_4, END\n",
      "    └── r_3, END\n"
     ]
    }
   ],
   "source": [
    "render_tree(m, True)"
   ]
  },
  {
   "cell_type": "code",
   "execution_count": 7,
   "id": "2310b56f-e78c-435c-870f-bfe7d0617471",
   "metadata": {
    "execution": {
     "iopub.execute_input": "2022-01-31T22:29:57.727314Z",
     "iopub.status.busy": "2022-01-31T22:29:57.726316Z",
     "iopub.status.idle": "2022-01-31T22:29:57.745312Z",
     "shell.execute_reply": "2022-01-31T22:29:57.744310Z",
     "shell.execute_reply.started": "2022-01-31T22:29:57.727314Z"
    }
   },
   "outputs": [],
   "source": [
    "G, graphs = graphs_from_incidence(m, True)"
   ]
  },
  {
   "cell_type": "code",
   "execution_count": 8,
   "id": "520445b4-0b8e-4e1b-8125-a42272bb3025",
   "metadata": {
    "execution": {
     "iopub.execute_input": "2022-01-31T22:29:59.605313Z",
     "iopub.status.busy": "2022-01-31T22:29:59.604313Z",
     "iopub.status.idle": "2022-01-31T22:29:59.613314Z",
     "shell.execute_reply": "2022-01-31T22:29:59.612314Z",
     "shell.execute_reply.started": "2022-01-31T22:29:59.605313Z"
    },
    "tags": []
   },
   "outputs": [],
   "source": [
    "m2 = make_acyclic(m, graphs)"
   ]
  },
  {
   "cell_type": "code",
   "execution_count": 9,
   "id": "115a0282-66c9-4e90-9559-3eefe29cf289",
   "metadata": {
    "execution": {
     "iopub.execute_input": "2022-01-31T22:30:05.914035Z",
     "iopub.status.busy": "2022-01-31T22:30:05.914035Z",
     "iopub.status.idle": "2022-01-31T22:30:05.937031Z",
     "shell.execute_reply": "2022-01-31T22:30:05.935033Z",
     "shell.execute_reply.started": "2022-01-31T22:30:05.914035Z"
    }
   },
   "outputs": [
    {
     "name": "stdout",
     "output_type": "stream",
     "text": [
      "/               \n",
      "├── s1, SOLVER  \n",
      "│   ├── f_0, INTER\n",
      "│   ├── f_1, INTER\n",
      "│   ├── s2, SOLVER\n",
      "│   │   └── r_4, END\n",
      "│   ├── f_2, INTER\n",
      "│   └── r_3, END\n",
      "└── f_5, INTER  \n"
     ]
    }
   ],
   "source": [
    "render_tree(m2, True)"
   ]
  },
  {
   "cell_type": "markdown",
   "id": "9a451af7-153a-4a68-90d1-b916f68f661f",
   "metadata": {},
   "source": [
    "# Force order"
   ]
  },
  {
   "cell_type": "code",
   "execution_count": 8,
   "id": "8979ae40-ff4a-4fe6-8f57-96faf88d9e63",
   "metadata": {
    "execution": {
     "iopub.execute_input": "2022-01-31T22:07:52.517468Z",
     "iopub.status.busy": "2022-01-31T22:07:52.512478Z",
     "iopub.status.idle": "2022-01-31T22:07:52.574468Z",
     "shell.execute_reply": "2022-01-31T22:07:52.572486Z",
     "shell.execute_reply.started": "2022-01-31T22:07:52.516467Z"
    }
   },
   "outputs": [],
   "source": [
    "order=[f_2,f_1,s2,f_0]"
   ]
  },
  {
   "cell_type": "code",
   "execution_count": 9,
   "id": "87e1f8c8-0d8e-4421-a958-746785ee9b19",
   "metadata": {
    "execution": {
     "iopub.execute_input": "2022-01-31T22:08:50.186836Z",
     "iopub.status.busy": "2022-01-31T22:08:50.185839Z",
     "iopub.status.idle": "2022-01-31T22:08:50.330835Z",
     "shell.execute_reply": "2022-01-31T22:08:50.328833Z",
     "shell.execute_reply.started": "2022-01-31T22:08:50.185839Z"
    }
   },
   "outputs": [],
   "source": [
    "G, graphs = graphs_from_incidence(s1)"
   ]
  },
  {
   "cell_type": "code",
   "execution_count": 14,
   "id": "890febda-9fc1-4d76-bf92-505b5a7dccd7",
   "metadata": {
    "execution": {
     "iopub.execute_input": "2022-01-31T22:10:20.221099Z",
     "iopub.status.busy": "2022-01-31T22:10:20.220097Z",
     "iopub.status.idle": "2022-01-31T22:10:20.236099Z",
     "shell.execute_reply": "2022-01-31T22:10:20.235096Z",
     "shell.execute_reply.started": "2022-01-31T22:10:20.221099Z"
    }
   },
   "outputs": [],
   "source": [
    "G_order = graphs[s1]"
   ]
  },
  {
   "cell_type": "code",
   "execution_count": 15,
   "id": "0a855aed-64ee-4521-896d-aa5cde56b3af",
   "metadata": {
    "execution": {
     "iopub.execute_input": "2022-01-31T22:10:21.213532Z",
     "iopub.status.busy": "2022-01-31T22:10:21.212539Z",
     "iopub.status.idle": "2022-01-31T22:10:21.982539Z",
     "shell.execute_reply": "2022-01-31T22:10:21.981561Z",
     "shell.execute_reply.started": "2022-01-31T22:10:21.213532Z"
    },
    "tags": []
   },
   "outputs": [
    {
     "data": {
      "image/png": "[encoded data removed]",
      "text/plain": [
       "<Figure size 432x432 with 1 Axes>"
      ]
     },
     "metadata": {},
     "output_type": "display_data"
    }
   ],
   "source": [
    "drawfull(G_order, model.eqs)"
   ]
  },
  {
   "cell_type": "code",
   "execution_count": 26,
   "id": "bd405a51-1a1e-4f1c-9c2a-f6c12cdf314c",
   "metadata": {
    "execution": {
     "iopub.execute_input": "2022-01-31T22:17:23.590242Z",
     "iopub.status.busy": "2022-01-31T22:17:23.589232Z",
     "iopub.status.idle": "2022-01-31T22:17:23.614230Z",
     "shell.execute_reply": "2022-01-31T22:17:23.613231Z",
     "shell.execute_reply.started": "2022-01-31T22:17:23.590242Z"
    }
   },
   "outputs": [
    {
     "data": {
      "text/plain": [
       "AtlasView({b: {}})"
      ]
     },
     "execution_count": 26,
     "metadata": {},
     "output_type": "execute_result"
    }
   ],
   "source": [
    "G_order[f_2]"
   ]
  },
  {
   "cell_type": "code",
   "execution_count": 27,
   "id": "2a0b79ef-8b0c-4b5a-b7da-d5118032cb45",
   "metadata": {
    "execution": {
     "iopub.execute_input": "2022-01-31T22:17:55.698743Z",
     "iopub.status.busy": "2022-01-31T22:17:55.697740Z",
     "iopub.status.idle": "2022-01-31T22:17:55.706737Z",
     "shell.execute_reply": "2022-01-31T22:17:55.705736Z",
     "shell.execute_reply.started": "2022-01-31T22:17:55.698743Z"
    },
    "tags": []
   },
   "outputs": [],
   "source": [
    "outs = [node for elt in order for node in G_order.successors(elt)]"
   ]
  },
  {
   "cell_type": "code",
   "execution_count": 28,
   "id": "645d0100-cbe8-4a54-bb3a-7bd2a76509e9",
   "metadata": {
    "execution": {
     "iopub.execute_input": "2022-01-31T22:17:59.077436Z",
     "iopub.status.busy": "2022-01-31T22:17:59.076429Z",
     "iopub.status.idle": "2022-01-31T22:17:59.099342Z",
     "shell.execute_reply": "2022-01-31T22:17:59.098343Z",
     "shell.execute_reply.started": "2022-01-31T22:17:59.077436Z"
    }
   },
   "outputs": [
    {
     "data": {
      "text/plain": [
       "[b, a, d, y]"
      ]
     },
     "execution_count": 28,
     "metadata": {},
     "output_type": "execute_result"
    }
   ],
   "source": [
    "outs"
   ]
  },
  {
   "cell_type": "code",
   "execution_count": 38,
   "id": "01b73400-ce3f-4b69-8c75-14d02834cccb",
   "metadata": {
    "execution": {
     "iopub.execute_input": "2022-01-31T22:26:14.515757Z",
     "iopub.status.busy": "2022-01-31T22:26:14.514747Z",
     "iopub.status.idle": "2022-01-31T22:26:14.535749Z",
     "shell.execute_reply": "2022-01-31T22:26:14.534742Z",
     "shell.execute_reply.started": "2022-01-31T22:26:14.514747Z"
    },
    "tags": []
   },
   "outputs": [],
   "source": [
    "solvefor = dict()\n",
    "while order:\n",
    "    fx = order.pop(0)\n",
    "    outs = [node for elt in order for node in G_order.successors(elt)]\n",
    "    for var in G_order.predecessors(fx):\n",
    "        if var in outs:\n",
    "            solvefor[fx] = var"
   ]
  },
  {
   "cell_type": "code",
   "execution_count": 39,
   "id": "ea7aa833-6e9a-48b8-857a-64a1c15c5bd2",
   "metadata": {
    "execution": {
     "iopub.execute_input": "2022-01-31T22:26:15.901002Z",
     "iopub.status.busy": "2022-01-31T22:26:15.901002Z",
     "iopub.status.idle": "2022-01-31T22:26:15.920001Z",
     "shell.execute_reply": "2022-01-31T22:26:15.918026Z",
     "shell.execute_reply.started": "2022-01-31T22:26:15.901002Z"
    },
    "tags": []
   },
   "outputs": [
    {
     "data": {
      "text/plain": [
       "{<f_2>: a, <f_1>: y}"
      ]
     },
     "execution_count": 39,
     "metadata": {},
     "output_type": "execute_result"
    }
   ],
   "source": [
    "solvefor"
   ]
  },
  {
   "cell_type": "code",
   "execution_count": 40,
   "id": "ac195f9a-40bb-4907-b735-7f2dda67ca64",
   "metadata": {
    "execution": {
     "iopub.execute_input": "2022-01-31T22:27:00.566540Z",
     "iopub.status.busy": "2022-01-31T22:27:00.565539Z",
     "iopub.status.idle": "2022-01-31T22:27:00.586541Z",
     "shell.execute_reply": "2022-01-31T22:27:00.585542Z",
     "shell.execute_reply.started": "2022-01-31T22:27:00.565539Z"
    }
   },
   "outputs": [],
   "source": [
    "# need to convert these to end components"
   ]
  },
  {
   "cell_type": "code",
   "execution_count": null,
   "id": "59c3a1a9-884c-4904-86aa-d5da0ffb3a7e",
   "metadata": {},
   "outputs": [],
   "source": []
  }
 ],
 "metadata": {
  "kernelspec": {
   "display_name": "mdo",
   "language": "python",
   "name": "mdo"
  },
  "language_info": {
   "codemirror_mode": {
    "name": "ipython",
    "version": 3
   },
   "file_extension": ".py",
   "mimetype": "text/x-python",
   "name": "python",
   "nbconvert_exporter": "python",
   "pygments_lexer": "ipython3",
   "version": "3.8.12"
  }
 },
 "nbformat": 4,
 "nbformat_minor": 5
}
