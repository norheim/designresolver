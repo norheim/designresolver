{
 "cells": [
  {
   "cell_type": "markdown",
   "id": "762b53b5",
   "metadata": {},
   "source": [
    "Formerly called minreverse"
   ]
  },
  {
   "cell_type": "code",
   "execution_count": 1,
   "id": "5820d727",
   "metadata": {
    "execution": {
     "iopub.execute_input": "2021-07-28T09:53:12.115225Z",
     "iopub.status.busy": "2021-07-28T09:53:12.115225Z",
     "iopub.status.idle": "2021-07-28T09:53:12.165220Z",
     "shell.execute_reply": "2021-07-28T09:53:12.163219Z",
     "shell.execute_reply.started": "2021-07-28T09:53:12.115225Z"
    }
   },
   "outputs": [],
   "source": [
    "import gurobipy as gp\n",
    "from gurobipy import GRB"
   ]
  },
  {
   "cell_type": "code",
   "execution_count": 2,
   "id": "a077b393",
   "metadata": {
    "execution": {
     "iopub.execute_input": "2021-07-28T09:53:12.169222Z",
     "iopub.status.busy": "2021-07-28T09:53:12.169222Z",
     "iopub.status.idle": "2021-07-28T09:53:19.557231Z",
     "shell.execute_reply": "2021-07-28T09:53:19.556229Z",
     "shell.execute_reply.started": "2021-07-28T09:53:12.169222Z"
    }
   },
   "outputs": [
    {
     "name": "stdout",
     "output_type": "stream",
     "text": [
      "Unable to import mpi4py. Parallel processing unavailable.\n",
      "Unable to import petsc4py. Parallel processing unavailable.\n",
      "Unable to import petsc4py. Parallel processing unavailable.\n"
     ]
    }
   ],
   "source": [
    "from compute import Var, eqvar, Evaluable, ureg, coupled_run, buildidpvars, Impcomp\n",
    "from inputresolver import reassigneq, eqvars, eqsonly, default_out, mdf_order, getdofs, idx_eqlist, getallvars, invert_edges, var_matched_cons\n",
    "from inputresolver import reassign\n",
    "from compute_utils import get_outputs, check_eqs\n",
    "from representations import bipartite_repr, drawbipartite, digraph_repr\n",
    "from utils import invmap\n",
    "import openmdao.api as om\n",
    "import sympy as sp\n",
    "import networkx as nx\n",
    "from functools import reduce"
   ]
  },
  {
   "cell_type": "code",
   "execution_count": 3,
   "id": "5546da58",
   "metadata": {
    "execution": {
     "iopub.execute_input": "2021-07-28T09:53:19.561235Z",
     "iopub.status.busy": "2021-07-28T09:53:19.560231Z",
     "iopub.status.idle": "2021-07-28T09:53:19.589228Z",
     "shell.execute_reply": "2021-07-28T09:53:19.587229Z",
     "shell.execute_reply.started": "2021-07-28T09:53:19.561235Z"
    }
   },
   "outputs": [],
   "source": [
    "class Impcomp(om.ImplicitComponent):\n",
    "    def initialize(self):\n",
    "        self.options.declare('equation')\n",
    "        self.options.declare('output_name')\n",
    "        \n",
    "    def setup(self):\n",
    "        equation = self.options['equation']\n",
    "        output_name = self.options['output_name']\n",
    "        self.add_output(output_name)\n",
    "        original_inputs = [inp for inp in equation.input_names if inp != output_name]\n",
    "        for name in original_inputs:\n",
    "            self.add_input(name, val=1.) # add them in the order we lambdify\n",
    "        self.declare_partials(output_name, equation.input_names)\n",
    "\n",
    "    def apply_nonlinear(self, inputs, outputs, residuals):\n",
    "        equation = self.options['equation']\n",
    "        output_name = self.options['output_name']\n",
    "        residuals[output_name] = equation.evaldict({**inputs, **outputs})\n",
    "        \n",
    "    def linearize(self, inputs, outputs, partials):\n",
    "        equation = self.options['equation']\n",
    "        output_name = self.options['output_name']\n",
    "        J = equation.graddict({**inputs, **outputs})\n",
    "        for idx, input_name in enumerate(equation.input_names):\n",
    "            partials[output_name, input_name] = J[idx]"
   ]
  },
  {
   "cell_type": "code",
   "execution_count": 71,
   "id": "8c904194",
   "metadata": {
    "execution": {
     "iopub.execute_input": "2021-07-26T14:44:48.047706Z",
     "iopub.status.busy": "2021-07-26T14:44:48.046704Z",
     "iopub.status.idle": "2021-07-26T14:44:48.090273Z",
     "shell.execute_reply": "2021-07-26T14:44:48.089273Z",
     "shell.execute_reply.started": "2021-07-26T14:44:48.047706Z"
    }
   },
   "outputs": [
    {
     "data": {
      "text/plain": [
       "(b, c + 1)"
      ]
     },
     "execution_count": 71,
     "metadata": {},
     "output_type": "execute_result"
    }
   ],
   "source": [
    "eq = eqlist[0]\n",
    "eq"
   ]
  },
  {
   "cell_type": "code",
   "execution_count": 72,
   "id": "983a13c2",
   "metadata": {
    "execution": {
     "iopub.execute_input": "2021-07-26T14:44:48.675278Z",
     "iopub.status.busy": "2021-07-26T14:44:48.675278Z",
     "iopub.status.idle": "2021-07-26T14:44:48.692276Z",
     "shell.execute_reply": "2021-07-26T14:44:48.691275Z",
     "shell.execute_reply.started": "2021-07-26T14:44:48.675278Z"
    }
   },
   "outputs": [],
   "source": [
    "ev = Evaluable.fromsympy(eq[0]-eq[1])"
   ]
  },
  {
   "cell_type": "code",
   "execution_count": 73,
   "id": "5629fa2c",
   "metadata": {
    "execution": {
     "iopub.execute_input": "2021-07-26T14:44:49.590404Z",
     "iopub.status.busy": "2021-07-26T14:44:49.590404Z",
     "iopub.status.idle": "2021-07-26T14:44:49.602931Z",
     "shell.execute_reply": "2021-07-26T14:44:49.601936Z",
     "shell.execute_reply.started": "2021-07-26T14:44:49.590404Z"
    }
   },
   "outputs": [
    {
     "data": {
      "text/plain": [
       "['c', 'b']"
      ]
     },
     "execution_count": 73,
     "metadata": {},
     "output_type": "execute_result"
    }
   ],
   "source": [
    "ev.input_names"
   ]
  },
  {
   "cell_type": "code",
   "execution_count": 75,
   "id": "60c3d1d1",
   "metadata": {
    "execution": {
     "iopub.execute_input": "2021-07-26T14:45:38.996114Z",
     "iopub.status.busy": "2021-07-26T14:45:38.995114Z",
     "iopub.status.idle": "2021-07-26T14:45:39.039637Z",
     "shell.execute_reply": "2021-07-26T14:45:39.038637Z",
     "shell.execute_reply.started": "2021-07-26T14:45:38.996114Z"
    }
   },
   "outputs": [
    {
     "name": "stdout",
     "output_type": "stream",
     "text": [
      "NL: Newton Converged in 1 iterations\n",
      "[4.]\n"
     ]
    }
   ],
   "source": [
    "prob = om.Problem()\n",
    "model = prob.model\n",
    "\n",
    "model.add_subsystem('comp', Impcomp(equation = ev, output_name='b'), promotes=['*'])\n",
    "model.nonlinear_solver = om.NewtonSolver(solve_subsystems=False)\n",
    "model.linear_solver = om.ScipyKrylov()\n",
    "\n",
    "prob.setup()\n",
    "prob.set_val('c', 3.)\n",
    "prob.run_model()\n",
    "\n",
    "print(prob.get_val('comp.b'))"
   ]
  },
  {
   "cell_type": "code",
   "execution_count": 3,
   "id": "b1fdabac",
   "metadata": {
    "execution": {
     "iopub.execute_input": "2021-07-26T13:21:16.772046Z",
     "iopub.status.busy": "2021-07-26T13:21:16.771048Z",
     "iopub.status.idle": "2021-07-26T13:21:16.793044Z",
     "shell.execute_reply": "2021-07-26T13:21:16.792044Z",
     "shell.execute_reply.started": "2021-07-26T13:21:16.772046Z"
    }
   },
   "outputs": [],
   "source": [
    "a = Var('a')\n",
    "b = Var('b')\n",
    "c = Var('c')\n",
    "d = Var('d')"
   ]
  },
  {
   "cell_type": "code",
   "execution_count": 4,
   "id": "5b03f47d",
   "metadata": {
    "execution": {
     "iopub.execute_input": "2021-07-26T13:21:18.149046Z",
     "iopub.status.busy": "2021-07-26T13:21:18.148045Z",
     "iopub.status.idle": "2021-07-26T13:21:18.408045Z",
     "shell.execute_reply": "2021-07-26T13:21:18.407042Z",
     "shell.execute_reply.started": "2021-07-26T13:21:18.149046Z"
    }
   },
   "outputs": [],
   "source": [
    "eqlist = [(b,c+1),(a,b-2),(a,2*d+3)]"
   ]
  },
  {
   "cell_type": "code",
   "execution_count": 5,
   "id": "660e1d73",
   "metadata": {
    "execution": {
     "iopub.execute_input": "2021-07-26T13:21:32.782514Z",
     "iopub.status.busy": "2021-07-26T13:21:32.781517Z",
     "iopub.status.idle": "2021-07-26T13:21:32.792515Z",
     "shell.execute_reply": "2021-07-26T13:21:32.791511Z",
     "shell.execute_reply.started": "2021-07-26T13:21:32.782514Z"
    }
   },
   "outputs": [],
   "source": [
    "eqs = idx_eqlist(eqlist)\n",
    "eqv = eqvars(eqs)"
   ]
  },
  {
   "cell_type": "code",
   "execution_count": 51,
   "id": "03eb5f79",
   "metadata": {
    "execution": {
     "iopub.execute_input": "2021-07-26T13:59:26.804939Z",
     "iopub.status.busy": "2021-07-26T13:59:26.804939Z",
     "iopub.status.idle": "2021-07-26T13:59:26.856936Z",
     "shell.execute_reply": "2021-07-26T13:59:26.855933Z",
     "shell.execute_reply.started": "2021-07-26T13:59:26.804939Z"
    }
   },
   "outputs": [
    {
     "data": {
      "text/plain": [
       "{0: (b, c + 1), 1: (a, b - 2), 2: (a, 2*d + 3)}"
      ]
     },
     "execution_count": 51,
     "metadata": {},
     "output_type": "execute_result"
    }
   ],
   "source": [
    "eqs"
   ]
  },
  {
   "cell_type": "code",
   "execution_count": 8,
   "id": "90994f1a",
   "metadata": {
    "execution": {
     "iopub.execute_input": "2021-07-26T13:21:49.496384Z",
     "iopub.status.busy": "2021-07-26T13:21:49.496384Z",
     "iopub.status.idle": "2021-07-26T13:21:49.509908Z",
     "shell.execute_reply": "2021-07-26T13:21:49.508913Z",
     "shell.execute_reply.started": "2021-07-26T13:21:49.496384Z"
    }
   },
   "outputs": [
    {
     "data": {
      "text/plain": [
       "{0: {b, c}, 1: {a, b}, 2: {a, d}}"
      ]
     },
     "execution_count": 8,
     "metadata": {},
     "output_type": "execute_result"
    }
   ],
   "source": [
    "eqv"
   ]
  },
  {
   "cell_type": "code",
   "execution_count": 9,
   "id": "c46accc1",
   "metadata": {
    "execution": {
     "iopub.execute_input": "2021-07-26T13:21:59.101212Z",
     "iopub.status.busy": "2021-07-26T13:21:59.101212Z",
     "iopub.status.idle": "2021-07-26T13:21:59.119744Z",
     "shell.execute_reply": "2021-07-26T13:21:59.118777Z",
     "shell.execute_reply.started": "2021-07-26T13:21:59.101212Z"
    }
   },
   "outputs": [],
   "source": [
    "dout = default_out(eqs)"
   ]
  },
  {
   "cell_type": "code",
   "execution_count": 10,
   "id": "042bbfc3",
   "metadata": {
    "execution": {
     "iopub.execute_input": "2021-07-26T13:22:02.987319Z",
     "iopub.status.busy": "2021-07-26T13:22:02.986323Z",
     "iopub.status.idle": "2021-07-26T13:22:02.995317Z",
     "shell.execute_reply": "2021-07-26T13:22:02.994319Z",
     "shell.execute_reply.started": "2021-07-26T13:22:02.987319Z"
    }
   },
   "outputs": [
    {
     "data": {
      "text/plain": [
       "{0: b, 1: a, 2: a}"
      ]
     },
     "execution_count": 10,
     "metadata": {},
     "output_type": "execute_result"
    }
   ],
   "source": [
    "dout"
   ]
  },
  {
   "cell_type": "code",
   "execution_count": 16,
   "id": "480954d5",
   "metadata": {
    "execution": {
     "iopub.execute_input": "2021-07-26T13:26:36.893583Z",
     "iopub.status.busy": "2021-07-26T13:26:36.893583Z",
     "iopub.status.idle": "2021-07-26T13:26:36.908587Z",
     "shell.execute_reply": "2021-07-26T13:26:36.907641Z",
     "shell.execute_reply.started": "2021-07-26T13:26:36.893583Z"
    }
   },
   "outputs": [],
   "source": [
    "G, edges_original = bipartite_repr(eqv)\n",
    "vrs = getallvars(eqs)\n",
    "eqns = eqs.keys()\n",
    "edges = invert_edges(edges_original)"
   ]
  },
  {
   "cell_type": "code",
   "execution_count": 40,
   "id": "dc239eba",
   "metadata": {
    "execution": {
     "iopub.execute_input": "2021-07-26T13:42:19.664618Z",
     "iopub.status.busy": "2021-07-26T13:42:19.664618Z",
     "iopub.status.idle": "2021-07-26T13:42:19.679619Z",
     "shell.execute_reply": "2021-07-26T13:42:19.678620Z",
     "shell.execute_reply.started": "2021-07-26T13:42:19.664618Z"
    }
   },
   "outputs": [],
   "source": [
    "not_input = []\n",
    "n_eqs = len(eqns)"
   ]
  },
  {
   "cell_type": "code",
   "execution_count": 45,
   "id": "877f931f",
   "metadata": {
    "execution": {
     "iopub.execute_input": "2021-07-26T13:42:43.451451Z",
     "iopub.status.busy": "2021-07-26T13:42:43.451451Z",
     "iopub.status.idle": "2021-07-26T13:42:43.470426Z",
     "shell.execute_reply": "2021-07-26T13:42:43.469425Z",
     "shell.execute_reply.started": "2021-07-26T13:42:43.451451Z"
    }
   },
   "outputs": [],
   "source": [
    "m = gp.Model('minrevassign')\n",
    "m.setParam('OutputFlag', False )\n",
    "x = m.addVars(edges, name=\"assign\", vtype=GRB.BINARY)"
   ]
  },
  {
   "cell_type": "code",
   "execution_count": 46,
   "id": "5f7aa86c",
   "metadata": {
    "execution": {
     "iopub.execute_input": "2021-07-26T13:42:43.928005Z",
     "iopub.status.busy": "2021-07-26T13:42:43.925005Z",
     "iopub.status.idle": "2021-07-26T13:42:43.961545Z",
     "shell.execute_reply": "2021-07-26T13:42:43.958545Z",
     "shell.execute_reply.started": "2021-07-26T13:42:43.926998Z"
    }
   },
   "outputs": [],
   "source": [
    "# Matching eqs:\n",
    "fcons = m.addConstrs((x.sum(j,'*') == 1 for j in eqns), name='equations')\n",
    "varcons = m.addConstrs((var_matched_cons(x, j, not_input) for j in vrs), name='variables')\n",
    "m.setObjective(gp.quicksum([x[(key, var)] for key,var in dout.items()]), GRB.MAXIMIZE)\n",
    "#m.addConstr(gp.quicksum(x[(r,j)] for r,j in sol)<= n_eqs-1) "
   ]
  },
  {
   "cell_type": "code",
   "execution_count": 47,
   "id": "09745433",
   "metadata": {
    "execution": {
     "iopub.execute_input": "2021-07-26T13:42:44.582144Z",
     "iopub.status.busy": "2021-07-26T13:42:44.581149Z",
     "iopub.status.idle": "2021-07-26T13:42:44.604139Z",
     "shell.execute_reply": "2021-07-26T13:42:44.603137Z",
     "shell.execute_reply.started": "2021-07-26T13:42:44.581149Z"
    }
   },
   "outputs": [],
   "source": [
    "m.optimize()"
   ]
  },
  {
   "cell_type": "code",
   "execution_count": 48,
   "id": "02a62a7f",
   "metadata": {
    "execution": {
     "iopub.execute_input": "2021-07-26T13:42:45.543058Z",
     "iopub.status.busy": "2021-07-26T13:42:45.543058Z",
     "iopub.status.idle": "2021-07-26T13:42:45.557645Z",
     "shell.execute_reply": "2021-07-26T13:42:45.556640Z",
     "shell.execute_reply.started": "2021-07-26T13:42:45.543058Z"
    }
   },
   "outputs": [
    {
     "data": {
      "text/plain": [
       "2.0"
      ]
     },
     "execution_count": 48,
     "metadata": {},
     "output_type": "execute_result"
    }
   ],
   "source": [
    "m.objVal"
   ]
  },
  {
   "cell_type": "code",
   "execution_count": 49,
   "id": "58d47e82",
   "metadata": {
    "execution": {
     "iopub.execute_input": "2021-07-26T13:42:47.147380Z",
     "iopub.status.busy": "2021-07-26T13:42:47.146374Z",
     "iopub.status.idle": "2021-07-26T13:42:47.167035Z",
     "shell.execute_reply": "2021-07-26T13:42:47.166060Z",
     "shell.execute_reply.started": "2021-07-26T13:42:47.147380Z"
    }
   },
   "outputs": [],
   "source": [
    "sol = [(r,j) for (r, j) in edges if x[r,j].x>1e-6]"
   ]
  },
  {
   "cell_type": "code",
   "execution_count": 52,
   "id": "e21b3dfa",
   "metadata": {
    "execution": {
     "iopub.execute_input": "2021-07-26T14:00:06.310747Z",
     "iopub.status.busy": "2021-07-26T14:00:06.310747Z",
     "iopub.status.idle": "2021-07-26T14:00:06.324748Z",
     "shell.execute_reply": "2021-07-26T14:00:06.323750Z",
     "shell.execute_reply.started": "2021-07-26T14:00:06.310747Z"
    }
   },
   "outputs": [],
   "source": [
    "sol_outset = {key:val for key,val in sol}"
   ]
  },
  {
   "cell_type": "code",
   "execution_count": 53,
   "id": "b709d7e3",
   "metadata": {
    "execution": {
     "iopub.execute_input": "2021-07-26T14:00:08.619756Z",
     "iopub.status.busy": "2021-07-26T14:00:08.619756Z",
     "iopub.status.idle": "2021-07-26T14:00:08.638752Z",
     "shell.execute_reply": "2021-07-26T14:00:08.637752Z",
     "shell.execute_reply.started": "2021-07-26T14:00:08.619756Z"
    }
   },
   "outputs": [
    {
     "data": {
      "text/plain": [
       "{0: b, 1: a, 2: d}"
      ]
     },
     "execution_count": 53,
     "metadata": {},
     "output_type": "execute_result"
    }
   ],
   "source": [
    "sol_outset"
   ]
  },
  {
   "cell_type": "markdown",
   "id": "706c5a5a",
   "metadata": {},
   "source": [
    "## Coffee thesis example"
   ]
  },
  {
   "cell_type": "code",
   "execution_count": 4,
   "id": "daec79b1",
   "metadata": {
    "execution": {
     "iopub.execute_input": "2021-07-28T09:53:19.592233Z",
     "iopub.status.busy": "2021-07-28T09:53:19.592233Z",
     "iopub.status.idle": "2021-07-28T09:53:19.604229Z",
     "shell.execute_reply": "2021-07-28T09:53:19.602227Z",
     "shell.execute_reply.started": "2021-07-28T09:53:19.592233Z"
    }
   },
   "outputs": [],
   "source": [
    "ureg.define('USD = [currency] ')"
   ]
  },
  {
   "cell_type": "code",
   "execution_count": 5,
   "id": "ef8ecc40",
   "metadata": {
    "execution": {
     "iopub.execute_input": "2021-07-28T09:53:19.608231Z",
     "iopub.status.busy": "2021-07-28T09:53:19.608231Z",
     "iopub.status.idle": "2021-07-28T09:53:19.666229Z",
     "shell.execute_reply": "2021-07-28T09:53:19.665229Z",
     "shell.execute_reply.started": "2021-07-28T09:53:19.608231Z"
    }
   },
   "outputs": [],
   "source": [
    "# the force_input, force_output tags are for other algorithms, so probably makes little sense to include them here\n",
    "IFOV = Var('IFOV', 7.272e-5, 'rad') #force_output=True\n",
    "r = Var('r', 9.257e19, 'm')\n",
    "l = Var('lambda', 5e-7, 'm')\n",
    "d = Var('d', 3e-5, 'm')\n",
    "Q = Var('Q', 1.1)\n",
    "rho = Var('rho', 1.22, never_output=True) #force_input=True\n",
    "k = Var('k', 1.381e-23, 'J/K', never_output=True)\n",
    "T = Var('T', 5785, 'K')\n",
    "h = Var('h', 6.626e-34, 'J*s', never_output=True)\n",
    "c = Var('c', 2.998e8, 'm/s', never_output=True)\n",
    "tau = Var('tau', 1)\n",
    "dl = Var('Delta_lambda', 2e-6, 'm')\n",
    "R = Var('R', 6.96e8, 'm')\n",
    "dV = Var('Delta_V', 0, 'm/s')\n",
    "g = Var('g', 9.8, 'm/s^2', never_output=True)\n",
    "isp = Var('I_sp', 450, 's')\n",
    "ct = Var('c_t', 1163, 'USD/kg')\n",
    "ms = Var('m_s', 1175, 'kg/m^2')\n",
    "QE = Var('Q_E', 0.5)\n",
    "Nr = Var('N_r', 25)\n",
    "tau0 = Var('tau_0', 0.75)\n",
    "Ti = Var('T_i', 30, 's')\n",
    "a = Var('alpha', 50e3, 'USD/m^3')\n",
    "SNR = Var('SNR', 10, never_output=True)\n",
    "CT = Var('C_T', 1e6, 'USD', never_output=True)"
   ]
  },
  {
   "cell_type": "code",
   "execution_count": 6,
   "id": "1d768064",
   "metadata": {
    "execution": {
     "iopub.execute_input": "2021-07-28T09:53:19.670227Z",
     "iopub.status.busy": "2021-07-28T09:53:19.670227Z",
     "iopub.status.idle": "2021-07-28T09:53:20.313335Z",
     "shell.execute_reply": "2021-07-28T09:53:20.312341Z",
     "shell.execute_reply.started": "2021-07-28T09:53:19.670227Z"
    }
   },
   "outputs": [],
   "source": [
    "Y, eq1 = eqvar('Y', IFOV*r, 'm')\n",
    "f, eq2 = eqvar('f', r*d/Y, 'm')\n",
    "D, eq3 = eqvar('D', 2*rho*l*Q*f/d, 'm')\n",
    "tr, eq4 = eqvar('theta_r', rho*l/D, 'rad')\n",
    "mt, eq5 = eqvar('mt', ms*D**2, 'kg')\n",
    "mi, eq6 = eqvar('m_i', mt*sp.exp(dV/(g*isp)), 'kg')\n",
    "CD, eq7 = eqvar('C_D', a*D**3, 'USD')\n",
    "eq8 = (CT, CD+ct*mi)\n",
    "Hl, eq9 = eqvar('H_lambda', 2*sp.pi*h*c**2/l**5*1/(sp.exp(c*h/(k*T*l))-1), 'W/m^3')\n",
    "L, eq10 = eqvar('L', 1/4*R**2*Hl*tau*dl, 'W/sr')\n",
    "Pin, eq11 = eqvar('P_in', sp.pi*(D/(2*r))**2*L, 'W')\n",
    "Hi, eq12 = eqvar('H_i', Pin*tau0*Ti, 'J')\n",
    "Np, eq13 = eqvar('N_p', Hi*l/(h*c))\n",
    "#SNR, eq14 = eqvar('SNR', Np*QE/sp.sqrt(Nr**2+Np*QE))\n",
    "eq14 = (SNR, Np*QE/sp.sqrt(Nr**2+Np*QE))"
   ]
  },
  {
   "cell_type": "code",
   "execution_count": 7,
   "id": "f984c233",
   "metadata": {
    "execution": {
     "iopub.execute_input": "2021-07-28T09:53:20.316337Z",
     "iopub.status.busy": "2021-07-28T09:53:20.316337Z",
     "iopub.status.idle": "2021-07-28T09:53:20.326336Z",
     "shell.execute_reply": "2021-07-28T09:53:20.325334Z",
     "shell.execute_reply.started": "2021-07-28T09:53:20.316337Z"
    }
   },
   "outputs": [],
   "source": [
    "eqlist = [eq1, eq2, eq3, eq4, eq5, eq6, eq7, eq8, eq9, eq10, eq11, eq12, eq13, eq14]\n",
    "eqs = idx_eqlist(eqlist)\n",
    "eqv = eqvars(eqs)"
   ]
  },
  {
   "cell_type": "code",
   "execution_count": 8,
   "id": "be6c7659",
   "metadata": {
    "execution": {
     "iopub.execute_input": "2021-07-28T09:53:20.329335Z",
     "iopub.status.busy": "2021-07-28T09:53:20.329335Z",
     "iopub.status.idle": "2021-07-28T09:53:20.362336Z",
     "shell.execute_reply": "2021-07-28T09:53:20.359336Z",
     "shell.execute_reply.started": "2021-07-28T09:53:20.329335Z"
    }
   },
   "outputs": [],
   "source": [
    "dout = default_out(eqs)"
   ]
  },
  {
   "cell_type": "code",
   "execution_count": 122,
   "id": "5716faf7",
   "metadata": {
    "execution": {
     "iopub.execute_input": "2021-07-28T09:07:04.370810Z",
     "iopub.status.busy": "2021-07-28T09:07:04.369811Z",
     "iopub.status.idle": "2021-07-28T09:07:04.388807Z",
     "shell.execute_reply": "2021-07-28T09:07:04.387805Z",
     "shell.execute_reply.started": "2021-07-28T09:07:04.369811Z"
    }
   },
   "outputs": [],
   "source": [
    "outnotpossible = {\n",
    "    13: {Nr, QE}\n",
    "}"
   ]
  },
  {
   "cell_type": "code",
   "execution_count": 124,
   "id": "f8061a76",
   "metadata": {
    "execution": {
     "iopub.execute_input": "2021-07-28T09:07:05.302811Z",
     "iopub.status.busy": "2021-07-28T09:07:05.302811Z",
     "iopub.status.idle": "2021-07-28T09:07:05.322836Z",
     "shell.execute_reply": "2021-07-28T09:07:05.321836Z",
     "shell.execute_reply.started": "2021-07-28T09:07:05.302811Z"
    }
   },
   "outputs": [
    {
     "data": {
      "text/plain": [
       "{0: Y,\n",
       " 1: f,\n",
       " 2: D,\n",
       " 3: theta_r,\n",
       " 4: mt,\n",
       " 5: m_i,\n",
       " 6: C_D,\n",
       " 7: C_T,\n",
       " 8: H_lambda,\n",
       " 9: L,\n",
       " 10: P_in,\n",
       " 11: H_i,\n",
       " 12: N_p,\n",
       " 13: SNR}"
      ]
     },
     "execution_count": 124,
     "metadata": {},
     "output_type": "execute_result"
    }
   ],
   "source": [
    "dout"
   ]
  },
  {
   "cell_type": "code",
   "execution_count": 125,
   "id": "f7de32c5",
   "metadata": {
    "execution": {
     "iopub.execute_input": "2021-07-28T09:07:05.675840Z",
     "iopub.status.busy": "2021-07-28T09:07:05.674839Z",
     "iopub.status.idle": "2021-07-28T09:07:05.692838Z",
     "shell.execute_reply": "2021-07-28T09:07:05.691836Z",
     "shell.execute_reply.started": "2021-07-28T09:07:05.675840Z"
    }
   },
   "outputs": [],
   "source": [
    "eqvcst = {key: {elt for elt in outsetposs if not elt.never_output and elt not in outnotpossible.get(key,[])}\n",
    "        for key, outsetposs in eqv.items()}"
   ]
  },
  {
   "cell_type": "code",
   "execution_count": 126,
   "id": "3f9da9c0",
   "metadata": {
    "execution": {
     "iopub.execute_input": "2021-07-28T09:07:06.257491Z",
     "iopub.status.busy": "2021-07-28T09:07:06.256489Z",
     "iopub.status.idle": "2021-07-28T09:07:06.271487Z",
     "shell.execute_reply": "2021-07-28T09:07:06.270487Z",
     "shell.execute_reply.started": "2021-07-28T09:07:06.257491Z"
    }
   },
   "outputs": [],
   "source": [
    "G, edges_original = bipartite_repr(eqvcst)\n",
    "vrs = getallvars(eqs)\n",
    "eqns = eqs.keys()\n",
    "edges = invert_edges(edges_original)"
   ]
  },
  {
   "cell_type": "code",
   "execution_count": 127,
   "id": "facf8fc0",
   "metadata": {
    "execution": {
     "iopub.execute_input": "2021-07-28T09:07:06.601532Z",
     "iopub.status.busy": "2021-07-28T09:07:06.601532Z",
     "iopub.status.idle": "2021-07-28T09:07:06.614532Z",
     "shell.execute_reply": "2021-07-28T09:07:06.612533Z",
     "shell.execute_reply.started": "2021-07-28T09:07:06.601532Z"
    }
   },
   "outputs": [],
   "source": [
    "not_input = [IFOV, Ti]"
   ]
  },
  {
   "cell_type": "code",
   "execution_count": 128,
   "id": "8794e242",
   "metadata": {
    "execution": {
     "iopub.execute_input": "2021-07-28T09:07:07.037048Z",
     "iopub.status.busy": "2021-07-28T09:07:07.037048Z",
     "iopub.status.idle": "2021-07-28T09:07:07.051047Z",
     "shell.execute_reply": "2021-07-28T09:07:07.050051Z",
     "shell.execute_reply.started": "2021-07-28T09:07:07.037048Z"
    }
   },
   "outputs": [],
   "source": [
    "n_eqs = len(eqns)"
   ]
  },
  {
   "cell_type": "code",
   "execution_count": 129,
   "id": "22cc15eb",
   "metadata": {
    "execution": {
     "iopub.execute_input": "2021-07-28T09:07:07.623143Z",
     "iopub.status.busy": "2021-07-28T09:07:07.622142Z",
     "iopub.status.idle": "2021-07-28T09:07:07.645660Z",
     "shell.execute_reply": "2021-07-28T09:07:07.644661Z",
     "shell.execute_reply.started": "2021-07-28T09:07:07.623143Z"
    }
   },
   "outputs": [
    {
     "data": {
      "text/plain": [
       "{0: {IFOV, Y, r},\n",
       " 1: {Y, d, f, r},\n",
       " 2: {D, Q, d, f, lambda},\n",
       " 3: {D, lambda, theta_r},\n",
       " 4: {D, m_s, mt},\n",
       " 5: {Delta_V, I_sp, m_i, mt},\n",
       " 6: {C_D, D, alpha},\n",
       " 7: {C_D, c_t, m_i},\n",
       " 8: {H_lambda, T, h, lambda},\n",
       " 9: {Delta_lambda, H_lambda, L, R, tau},\n",
       " 10: {D, L, P_in, r},\n",
       " 11: {H_i, P_in, T_i, tau_0},\n",
       " 12: {H_i, N_p, h, lambda},\n",
       " 13: {N_p}}"
      ]
     },
     "execution_count": 129,
     "metadata": {},
     "output_type": "execute_result"
    }
   ],
   "source": [
    "eqvcst"
   ]
  },
  {
   "cell_type": "code",
   "execution_count": 130,
   "id": "62d581d6",
   "metadata": {
    "execution": {
     "iopub.execute_input": "2021-07-28T09:07:11.356314Z",
     "iopub.status.busy": "2021-07-28T09:07:11.355312Z",
     "iopub.status.idle": "2021-07-28T09:07:11.388840Z",
     "shell.execute_reply": "2021-07-28T09:07:11.387835Z",
     "shell.execute_reply.started": "2021-07-28T09:07:11.356314Z"
    }
   },
   "outputs": [],
   "source": [
    "m = gp.Model('minrevassign')\n",
    "m.setParam('OutputFlag', False )\n",
    "x = m.addVars(edges, name=\"assign\", vtype=GRB.BINARY)\n",
    "# Matching eqs:\n",
    "fcons = m.addConstrs((x.sum(j,'*') == 1 for j in eqns), name='equations')\n",
    "varcons = m.addConstrs((var_matched_cons(x, j, not_input) for j in vrs), name='variables')\n",
    "m.setObjective(gp.quicksum([x[(key, var)] for key,var in dout.items() if var in eqvcst[key]]), GRB.MAXIMIZE)"
   ]
  },
  {
   "cell_type": "code",
   "execution_count": 131,
   "id": "c1547c41",
   "metadata": {
    "execution": {
     "iopub.execute_input": "2021-07-28T09:07:11.862851Z",
     "iopub.status.busy": "2021-07-28T09:07:11.862851Z",
     "iopub.status.idle": "2021-07-28T09:07:11.883366Z",
     "shell.execute_reply": "2021-07-28T09:07:11.882365Z",
     "shell.execute_reply.started": "2021-07-28T09:07:11.862851Z"
    }
   },
   "outputs": [],
   "source": [
    "#m.addConstr(gp.quicksum(x[(r,j)] for r,j in sol)<= n_eqs-1)\n",
    "m.optimize()"
   ]
  },
  {
   "cell_type": "code",
   "execution_count": 132,
   "id": "075ae34e",
   "metadata": {
    "execution": {
     "iopub.execute_input": "2021-07-28T09:07:12.285367Z",
     "iopub.status.busy": "2021-07-28T09:07:12.284367Z",
     "iopub.status.idle": "2021-07-28T09:07:12.300904Z",
     "shell.execute_reply": "2021-07-28T09:07:12.299899Z",
     "shell.execute_reply.started": "2021-07-28T09:07:12.285367Z"
    }
   },
   "outputs": [
    {
     "data": {
      "text/plain": [
       "9.0"
      ]
     },
     "execution_count": 132,
     "metadata": {},
     "output_type": "execute_result"
    }
   ],
   "source": [
    "m.objVal"
   ]
  },
  {
   "cell_type": "code",
   "execution_count": 133,
   "id": "c1495f3a",
   "metadata": {
    "execution": {
     "iopub.execute_input": "2021-07-28T09:07:13.053899Z",
     "iopub.status.busy": "2021-07-28T09:07:13.053899Z",
     "iopub.status.idle": "2021-07-28T09:07:13.072900Z",
     "shell.execute_reply": "2021-07-28T09:07:13.070899Z",
     "shell.execute_reply.started": "2021-07-28T09:07:13.053899Z"
    }
   },
   "outputs": [
    {
     "data": {
      "text/plain": [
       "{0: IFOV,\n",
       " 1: f,\n",
       " 2: D,\n",
       " 3: theta_r,\n",
       " 4: mt,\n",
       " 5: m_i,\n",
       " 6: C_D,\n",
       " 7: c_t,\n",
       " 8: H_lambda,\n",
       " 9: L,\n",
       " 10: P_in,\n",
       " 11: T_i,\n",
       " 12: h,\n",
       " 13: N_p}"
      ]
     },
     "execution_count": 133,
     "metadata": {},
     "output_type": "execute_result"
    }
   ],
   "source": [
    "sol = [(r,j) for (r, j) in edges if x[r,j].x>1e-6]\n",
    "sol_outset = {key:val for key,val in sol}\n",
    "sol_outset"
   ]
  },
  {
   "cell_type": "code",
   "execution_count": 134,
   "id": "8a652963",
   "metadata": {
    "execution": {
     "iopub.execute_input": "2021-07-28T09:07:16.225812Z",
     "iopub.status.busy": "2021-07-28T09:07:16.225812Z",
     "iopub.status.idle": "2021-07-28T09:07:16.237810Z",
     "shell.execute_reply": "2021-07-28T09:07:16.236811Z",
     "shell.execute_reply.started": "2021-07-28T09:07:16.225812Z"
    }
   },
   "outputs": [],
   "source": [
    "#new_eqs=reassign(eqs, dict(sol_outset))\n",
    "#new_ins = getdofs(new_eqs)\n",
    "d = dict(sol_outset)\n",
    "#d = dout\n",
    "order = mdf_order(eqv, d)"
   ]
  },
  {
   "cell_type": "code",
   "execution_count": 135,
   "id": "2cef8cf1",
   "metadata": {
    "execution": {
     "iopub.execute_input": "2021-07-28T09:07:16.634813Z",
     "iopub.status.busy": "2021-07-28T09:07:16.634813Z",
     "iopub.status.idle": "2021-07-28T09:07:16.658813Z",
     "shell.execute_reply": "2021-07-28T09:07:16.657806Z",
     "shell.execute_reply.started": "2021-07-28T09:07:16.634813Z"
    }
   },
   "outputs": [
    {
     "data": {
      "text/plain": [
       "[13, 12, 8, 9, 1, 2, 10, 11, 6, 4, 5, 7, 3, 0]"
      ]
     },
     "execution_count": 135,
     "metadata": {},
     "output_type": "execute_result"
    }
   ],
   "source": [
    "order"
   ]
  },
  {
   "cell_type": "code",
   "execution_count": 136,
   "id": "c0b18941",
   "metadata": {
    "execution": {
     "iopub.execute_input": "2021-07-28T09:07:18.699802Z",
     "iopub.status.busy": "2021-07-28T09:07:18.699802Z",
     "iopub.status.idle": "2021-07-28T09:07:18.705813Z",
     "shell.execute_reply": "2021-07-28T09:07:18.704803Z",
     "shell.execute_reply.started": "2021-07-28T09:07:18.699802Z"
    }
   },
   "outputs": [],
   "source": [
    "ins = reduce(set.union, eqv.values()) - set(d.values())"
   ]
  },
  {
   "cell_type": "markdown",
   "id": "9c63bf68",
   "metadata": {},
   "source": [
    "## Debug"
   ]
  },
  {
   "cell_type": "code",
   "execution_count": 115,
   "id": "8de05154",
   "metadata": {
    "execution": {
     "iopub.execute_input": "2021-07-28T09:03:13.279188Z",
     "iopub.status.busy": "2021-07-28T09:03:13.278188Z",
     "iopub.status.idle": "2021-07-28T09:03:13.319186Z",
     "shell.execute_reply": "2021-07-28T09:03:13.318189Z",
     "shell.execute_reply.started": "2021-07-28T09:03:13.278188Z"
    }
   },
   "outputs": [],
   "source": [
    "ev = Evaluable.fromsympy(eq14[0]-eq14[1])"
   ]
  },
  {
   "cell_type": "code",
   "execution_count": 116,
   "id": "a5c9b088",
   "metadata": {
    "execution": {
     "iopub.execute_input": "2021-07-28T09:03:14.077705Z",
     "iopub.status.busy": "2021-07-28T09:03:14.077705Z",
     "iopub.status.idle": "2021-07-28T09:03:14.089711Z",
     "shell.execute_reply": "2021-07-28T09:03:14.088706Z",
     "shell.execute_reply.started": "2021-07-28T09:03:14.077705Z"
    }
   },
   "outputs": [],
   "source": [
    "evrt = Evaluable.fromsympy(eq14[1])"
   ]
  },
  {
   "cell_type": "code",
   "execution_count": 93,
   "id": "43f93e67",
   "metadata": {
    "execution": {
     "iopub.execute_input": "2021-07-28T07:58:56.917745Z",
     "iopub.status.busy": "2021-07-28T07:58:56.875750Z",
     "iopub.status.idle": "2021-07-28T07:58:57.171746Z",
     "shell.execute_reply": "2021-07-28T07:58:57.168745Z",
     "shell.execute_reply.started": "2021-07-28T07:58:56.915746Z"
    }
   },
   "outputs": [
    {
     "data": {
      "text/plain": [
       "(SNR, N_p*Q_E/sqrt(N_p*Q_E + N_r**2))"
      ]
     },
     "execution_count": 93,
     "metadata": {},
     "output_type": "execute_result"
    }
   ],
   "source": [
    "eq14"
   ]
  },
  {
   "cell_type": "code",
   "execution_count": 81,
   "id": "80053e1b",
   "metadata": {
    "execution": {
     "iopub.execute_input": "2021-07-27T16:23:05.698578Z",
     "iopub.status.busy": "2021-07-27T16:23:05.698578Z",
     "iopub.status.idle": "2021-07-27T16:23:05.714535Z",
     "shell.execute_reply": "2021-07-27T16:23:05.713539Z",
     "shell.execute_reply.started": "2021-07-27T16:23:05.698578Z"
    }
   },
   "outputs": [
    {
     "data": {
      "text/plain": [
       "(['N_p', 'Q_E', 'N_r'], None, 0.5, 25)"
      ]
     },
     "execution_count": 81,
     "metadata": {},
     "output_type": "execute_result"
    }
   ],
   "source": [
    "evrt.input_names, Np.varval, QE.varval, Nr.varval"
   ]
  },
  {
   "cell_type": "code",
   "execution_count": 92,
   "id": "1a1e4cfb",
   "metadata": {
    "execution": {
     "iopub.execute_input": "2021-07-27T16:24:50.938076Z",
     "iopub.status.busy": "2021-07-27T16:24:50.938076Z",
     "iopub.status.idle": "2021-07-27T16:24:50.956452Z",
     "shell.execute_reply": "2021-07-27T16:24:50.955478Z",
     "shell.execute_reply.started": "2021-07-27T16:24:50.938076Z"
    }
   },
   "outputs": [
    {
     "data": {
      "text/plain": [
       "(SNR, N_p*Q_E/sqrt(N_p*Q_E + N_r**2))"
      ]
     },
     "execution_count": 92,
     "metadata": {},
     "output_type": "execute_result"
    }
   ],
   "source": [
    "eq14"
   ]
  },
  {
   "cell_type": "code",
   "execution_count": 96,
   "id": "83d33017",
   "metadata": {
    "execution": {
     "iopub.execute_input": "2021-07-28T08:37:43.820207Z",
     "iopub.status.busy": "2021-07-28T08:37:43.819207Z",
     "iopub.status.idle": "2021-07-28T08:37:43.844744Z",
     "shell.execute_reply": "2021-07-28T08:37:43.843751Z",
     "shell.execute_reply.started": "2021-07-28T08:37:43.820207Z"
    }
   },
   "outputs": [
    {
     "data": {
      "text/plain": [
       "4.0833305544009846e-05"
      ]
     },
     "execution_count": 96,
     "metadata": {},
     "output_type": "execute_result"
    }
   ],
   "source": [
    "evrt.fx(2.45e-3, 0.5, 30)"
   ]
  },
  {
   "cell_type": "code",
   "execution_count": 66,
   "id": "cae2f5c1",
   "metadata": {
    "execution": {
     "iopub.execute_input": "2021-07-27T16:19:45.492128Z",
     "iopub.status.busy": "2021-07-27T16:19:45.492128Z",
     "iopub.status.idle": "2021-07-27T16:19:45.503125Z",
     "shell.execute_reply": "2021-07-27T16:19:45.502125Z",
     "shell.execute_reply.started": "2021-07-27T16:19:45.492128Z"
    }
   },
   "outputs": [
    {
     "data": {
      "text/plain": [
       "9.965000001428571"
      ]
     },
     "execution_count": 66,
     "metadata": {},
     "output_type": "execute_result"
    }
   ],
   "source": [
    "ev.fx(2.45e-3, QE.varval, SNR.varval, 0.00001)"
   ]
  },
  {
   "cell_type": "code",
   "execution_count": 34,
   "id": "06ff94c9",
   "metadata": {
    "execution": {
     "iopub.execute_input": "2021-07-27T15:26:26.145743Z",
     "iopub.status.busy": "2021-07-27T15:26:26.145743Z",
     "iopub.status.idle": "2021-07-27T15:26:26.162743Z",
     "shell.execute_reply": "2021-07-27T15:26:26.161746Z",
     "shell.execute_reply.started": "2021-07-27T15:26:26.145743Z"
    }
   },
   "outputs": [],
   "source": [
    "Np.varval"
   ]
  },
  {
   "cell_type": "code",
   "execution_count": 48,
   "id": "9c36c638",
   "metadata": {
    "execution": {
     "iopub.execute_input": "2021-07-27T16:16:07.275586Z",
     "iopub.status.busy": "2021-07-27T16:16:07.275586Z",
     "iopub.status.idle": "2021-07-27T16:16:07.340110Z",
     "shell.execute_reply": "2021-07-27T16:16:07.339123Z",
     "shell.execute_reply.started": "2021-07-27T16:16:07.275586Z"
    }
   },
   "outputs": [
    {
     "name": "stdout",
     "output_type": "stream",
     "text": [
      "NL: NewtonSolver 'NL: Newton' on system '' failed to converge in 10 iterations.\n",
      "[-1.14022952e+122]\n"
     ]
    }
   ],
   "source": [
    "prob = om.Problem()\n",
    "model = prob.model\n",
    "\n",
    "buildidpvars({Np, QE, SNR}, model)\n",
    "model.add_subsystem('comp', Impcomp(equation = ev, output_name='N_r'), promotes=['*'])\n",
    "model.nonlinear_solver = om.NewtonSolver(solve_subsystems=False)\n",
    "model.linear_solver = om.ScipyKrylov()\n",
    "\n",
    "prob.setup()\n",
    "prob.set_val('N_p', 2.45e-3)\n",
    "prob.run_model()\n",
    "\n",
    "print(prob.get_val('N_r'))"
   ]
  },
  {
   "cell_type": "code",
   "execution_count": 44,
   "id": "4b892dcf",
   "metadata": {
    "execution": {
     "iopub.execute_input": "2021-07-27T15:29:03.556860Z",
     "iopub.status.busy": "2021-07-27T15:29:03.555850Z",
     "iopub.status.idle": "2021-07-27T15:29:03.575846Z",
     "shell.execute_reply": "2021-07-27T15:29:03.574847Z",
     "shell.execute_reply.started": "2021-07-27T15:29:03.556860Z"
    }
   },
   "outputs": [
    {
     "name": "stdout",
     "output_type": "stream",
     "text": [
      "3 Input(s) in 'model'\n",
      "\n",
      "varname  value    \n",
      "-------  ---------\n",
      "comp\n",
      "  N_p    [0.00245]\n",
      "  Q_E    [0.5]    \n",
      "  SNR    [10.]    \n",
      "\n",
      "\n"
     ]
    },
    {
     "data": {
      "text/plain": [
       "[('comp.N_p', {'value': array([0.00245])}),\n",
       " ('comp.Q_E', {'value': array([0.5])}),\n",
       " ('comp.SNR', {'value': array([10.])})]"
      ]
     },
     "execution_count": 44,
     "metadata": {},
     "output_type": "execute_result"
    }
   ],
   "source": [
    "model.list_inputs()"
   ]
  },
  {
   "cell_type": "code",
   "execution_count": 137,
   "id": "6283f8ef",
   "metadata": {
    "execution": {
     "iopub.execute_input": "2021-07-28T09:07:23.952052Z",
     "iopub.status.busy": "2021-07-28T09:07:23.952052Z",
     "iopub.status.idle": "2021-07-28T09:07:24.205048Z",
     "shell.execute_reply": "2021-07-28T09:07:24.202048Z",
     "shell.execute_reply.started": "2021-07-28T09:07:23.952052Z"
    }
   },
   "outputs": [
    {
     "name": "stdout",
     "output_type": "stream",
     "text": [
      "eq13 SNR N_p*Q_E/sqrt(N_p*Q_E + N_r**2) N_p\n",
      "eq12 N_p H_i*lambda/(c*h) h\n",
      "eq8 H_lambda 2*pi*c**2*h/(lambda**5*(exp(c*h/(T*k*lambda)) - 1)) H_lambda\n",
      "eq9 L 0.25*Delta_lambda*H_lambda*R**2*tau L\n",
      "eq1 f d*r/Y f\n",
      "eq2 D 2*Q*f*lambda*rho/d D\n",
      "eq10 P_in pi*D**2*L/(4*r**2) P_in\n",
      "eq11 H_i P_in*T_i*tau_0 T_i\n",
      "eq6 C_D D**3*alpha C_D\n",
      "eq4 mt D**2*m_s mt\n",
      "eq5 m_i mt*exp(Delta_V/(I_sp*g)) m_i\n",
      "eq7 C_T C_D + c_t*m_i c_t\n",
      "eq3 theta_r lambda*rho/D theta_r\n",
      "eq0 Y IFOV*r IFOV\n",
      "\n",
      "===========\n",
      "group1.eq13\n",
      "===========\n",
      "NL: Newton Converged in 4 iterations\n",
      "\n",
      "===========\n",
      "group1.eq12\n",
      "===========\n"
     ]
    },
    {
     "name": "stderr",
     "output_type": "stream",
     "text": [
      "C:\\Users\\johan\\Miniconda2\\envs\\mdo\\lib\\site-packages\\autograd\\numpy\\numpy_vjps.py:53: RuntimeWarning: overflow encountered in square\n",
      "  lambda ans, x, y : unbroadcast_f(y, lambda g: - g * x / y**2))\n"
     ]
    },
    {
     "ename": "RuntimeError",
     "evalue": "Singular entry found in 'group1.eq12' <class Impcomp> for row associated with state/residual 'h' ('group1.eq12.h') index 0.",
     "output_type": "error",
     "traceback": [
      "\u001b[1;31m---------------------------------------------------------------------------\u001b[0m",
      "\u001b[1;31mRuntimeError\u001b[0m                              Traceback (most recent call last)",
      "\u001b[1;32m~\\Miniconda2\\envs\\mdo\\lib\\site-packages\\openmdao\\solvers\\linear\\direct.py\u001b[0m in \u001b[0;36m_linearize\u001b[1;34m(self)\u001b[0m\n\u001b[0;32m    276\u001b[0m                 \u001b[1;32mtry\u001b[0m\u001b[1;33m:\u001b[0m\u001b[1;33m\u001b[0m\u001b[1;33m\u001b[0m\u001b[0m\n\u001b[1;32m--> 277\u001b[1;33m                     \u001b[0mself\u001b[0m\u001b[1;33m.\u001b[0m\u001b[0m_lu\u001b[0m \u001b[1;33m=\u001b[0m \u001b[0mscipy\u001b[0m\u001b[1;33m.\u001b[0m\u001b[0msparse\u001b[0m\u001b[1;33m.\u001b[0m\u001b[0mlinalg\u001b[0m\u001b[1;33m.\u001b[0m\u001b[0msplu\u001b[0m\u001b[1;33m(\u001b[0m\u001b[0mmatrix\u001b[0m\u001b[1;33m)\u001b[0m\u001b[1;33m\u001b[0m\u001b[1;33m\u001b[0m\u001b[0m\n\u001b[0m\u001b[0;32m    278\u001b[0m                 \u001b[1;32mexcept\u001b[0m \u001b[0mRuntimeError\u001b[0m \u001b[1;32mas\u001b[0m \u001b[0merr\u001b[0m\u001b[1;33m:\u001b[0m\u001b[1;33m\u001b[0m\u001b[1;33m\u001b[0m\u001b[0m\n",
      "\u001b[1;32m~\\Miniconda2\\envs\\mdo\\lib\\site-packages\\scipy\\sparse\\linalg\\dsolve\\linsolve.py\u001b[0m in \u001b[0;36msplu\u001b[1;34m(A, permc_spec, diag_pivot_thresh, relax, panel_size, options)\u001b[0m\n\u001b[0;32m    336\u001b[0m \u001b[1;33m\u001b[0m\u001b[0m\n\u001b[1;32m--> 337\u001b[1;33m     return _superlu.gstrf(N, A.nnz, A.data, A.indices, A.indptr,\n\u001b[0m\u001b[0;32m    338\u001b[0m                           \u001b[0mcsc_construct_func\u001b[0m\u001b[1;33m=\u001b[0m\u001b[0mcsc_construct_func\u001b[0m\u001b[1;33m,\u001b[0m\u001b[1;33m\u001b[0m\u001b[1;33m\u001b[0m\u001b[0m\n",
      "\u001b[1;31mRuntimeError\u001b[0m: Factor is exactly singular",
      "\nDuring handling of the above exception, another exception occurred:\n",
      "\u001b[1;31mRuntimeError\u001b[0m                              Traceback (most recent call last)",
      "\u001b[1;32m<ipython-input-137-179cf44e328b>\u001b[0m in \u001b[0;36m<module>\u001b[1;34m\u001b[0m\n\u001b[0;32m      4\u001b[0m \u001b[0mcounter\u001b[0m \u001b[1;33m=\u001b[0m \u001b[0mcoupled_run\u001b[0m\u001b[1;33m(\u001b[0m\u001b[0meqs\u001b[0m\u001b[1;33m,\u001b[0m \u001b[0morder\u001b[0m\u001b[1;33m,\u001b[0m \u001b[1;33m(\u001b[0m\u001b[1;33m)\u001b[0m\u001b[1;33m,\u001b[0m \u001b[0mmodel\u001b[0m\u001b[1;33m,\u001b[0m \u001b[0mmodel\u001b[0m\u001b[1;33m,\u001b[0m \u001b[0md\u001b[0m\u001b[1;33m)\u001b[0m\u001b[1;33m\u001b[0m\u001b[1;33m\u001b[0m\u001b[0m\n\u001b[0;32m      5\u001b[0m \u001b[0mprob\u001b[0m\u001b[1;33m.\u001b[0m\u001b[0msetup\u001b[0m\u001b[1;33m(\u001b[0m\u001b[1;33m)\u001b[0m\u001b[1;33m\u001b[0m\u001b[1;33m\u001b[0m\u001b[0m\n\u001b[1;32m----> 6\u001b[1;33m \u001b[0mprob\u001b[0m\u001b[1;33m.\u001b[0m\u001b[0mrun_model\u001b[0m\u001b[1;33m(\u001b[0m\u001b[1;33m)\u001b[0m\u001b[1;33m\u001b[0m\u001b[1;33m\u001b[0m\u001b[0m\n\u001b[0m",
      "\u001b[1;32m~\\Miniconda2\\envs\\mdo\\lib\\site-packages\\openmdao\\core\\problem.py\u001b[0m in \u001b[0;36mrun_model\u001b[1;34m(self, case_prefix, reset_iter_counts)\u001b[0m\n\u001b[0;32m    623\u001b[0m \u001b[1;33m\u001b[0m\u001b[0m\n\u001b[0;32m    624\u001b[0m         \u001b[0mself\u001b[0m\u001b[1;33m.\u001b[0m\u001b[0mmodel\u001b[0m\u001b[1;33m.\u001b[0m\u001b[0m_clear_iprint\u001b[0m\u001b[1;33m(\u001b[0m\u001b[1;33m)\u001b[0m\u001b[1;33m\u001b[0m\u001b[1;33m\u001b[0m\u001b[0m\n\u001b[1;32m--> 625\u001b[1;33m         \u001b[0mself\u001b[0m\u001b[1;33m.\u001b[0m\u001b[0mmodel\u001b[0m\u001b[1;33m.\u001b[0m\u001b[0mrun_solve_nonlinear\u001b[0m\u001b[1;33m(\u001b[0m\u001b[1;33m)\u001b[0m\u001b[1;33m\u001b[0m\u001b[1;33m\u001b[0m\u001b[0m\n\u001b[0m\u001b[0;32m    626\u001b[0m \u001b[1;33m\u001b[0m\u001b[0m\n\u001b[0;32m    627\u001b[0m     \u001b[1;32mdef\u001b[0m \u001b[0mrun_driver\u001b[0m\u001b[1;33m(\u001b[0m\u001b[0mself\u001b[0m\u001b[1;33m,\u001b[0m \u001b[0mcase_prefix\u001b[0m\u001b[1;33m=\u001b[0m\u001b[1;32mNone\u001b[0m\u001b[1;33m,\u001b[0m \u001b[0mreset_iter_counts\u001b[0m\u001b[1;33m=\u001b[0m\u001b[1;32mTrue\u001b[0m\u001b[1;33m)\u001b[0m\u001b[1;33m:\u001b[0m\u001b[1;33m\u001b[0m\u001b[1;33m\u001b[0m\u001b[0m\n",
      "\u001b[1;32m~\\Miniconda2\\envs\\mdo\\lib\\site-packages\\openmdao\\core\\system.py\u001b[0m in \u001b[0;36mrun_solve_nonlinear\u001b[1;34m(self)\u001b[0m\n\u001b[0;32m   3770\u001b[0m         \"\"\"\n\u001b[0;32m   3771\u001b[0m         \u001b[1;32mwith\u001b[0m \u001b[0mself\u001b[0m\u001b[1;33m.\u001b[0m\u001b[0m_scaled_context_all\u001b[0m\u001b[1;33m(\u001b[0m\u001b[1;33m)\u001b[0m\u001b[1;33m:\u001b[0m\u001b[1;33m\u001b[0m\u001b[1;33m\u001b[0m\u001b[0m\n\u001b[1;32m-> 3772\u001b[1;33m             \u001b[0mself\u001b[0m\u001b[1;33m.\u001b[0m\u001b[0m_solve_nonlinear\u001b[0m\u001b[1;33m(\u001b[0m\u001b[1;33m)\u001b[0m\u001b[1;33m\u001b[0m\u001b[1;33m\u001b[0m\u001b[0m\n\u001b[0m\u001b[0;32m   3773\u001b[0m \u001b[1;33m\u001b[0m\u001b[0m\n\u001b[0;32m   3774\u001b[0m     \u001b[1;32mdef\u001b[0m \u001b[0mrun_apply_linear\u001b[0m\u001b[1;33m(\u001b[0m\u001b[0mself\u001b[0m\u001b[1;33m,\u001b[0m \u001b[0mvec_names\u001b[0m\u001b[1;33m,\u001b[0m \u001b[0mmode\u001b[0m\u001b[1;33m,\u001b[0m \u001b[0mscope_out\u001b[0m\u001b[1;33m=\u001b[0m\u001b[1;32mNone\u001b[0m\u001b[1;33m,\u001b[0m \u001b[0mscope_in\u001b[0m\u001b[1;33m=\u001b[0m\u001b[1;32mNone\u001b[0m\u001b[1;33m)\u001b[0m\u001b[1;33m:\u001b[0m\u001b[1;33m\u001b[0m\u001b[1;33m\u001b[0m\u001b[0m\n",
      "\u001b[1;32m~\\Miniconda2\\envs\\mdo\\lib\\site-packages\\openmdao\\core\\group.py\u001b[0m in \u001b[0;36m_solve_nonlinear\u001b[1;34m(self)\u001b[0m\n\u001b[0;32m   2634\u001b[0m \u001b[1;33m\u001b[0m\u001b[0m\n\u001b[0;32m   2635\u001b[0m         \u001b[1;32mwith\u001b[0m \u001b[0mRecording\u001b[0m\u001b[1;33m(\u001b[0m\u001b[0mname\u001b[0m \u001b[1;33m+\u001b[0m \u001b[1;34m'._solve_nonlinear'\u001b[0m\u001b[1;33m,\u001b[0m \u001b[0mself\u001b[0m\u001b[1;33m.\u001b[0m\u001b[0miter_count\u001b[0m\u001b[1;33m,\u001b[0m \u001b[0mself\u001b[0m\u001b[1;33m)\u001b[0m\u001b[1;33m:\u001b[0m\u001b[1;33m\u001b[0m\u001b[1;33m\u001b[0m\u001b[0m\n\u001b[1;32m-> 2636\u001b[1;33m             \u001b[0mself\u001b[0m\u001b[1;33m.\u001b[0m\u001b[0m_nonlinear_solver\u001b[0m\u001b[1;33m.\u001b[0m\u001b[0msolve\u001b[0m\u001b[1;33m(\u001b[0m\u001b[1;33m)\u001b[0m\u001b[1;33m\u001b[0m\u001b[1;33m\u001b[0m\u001b[0m\n\u001b[0m\u001b[0;32m   2637\u001b[0m \u001b[1;33m\u001b[0m\u001b[0m\n\u001b[0;32m   2638\u001b[0m         \u001b[1;31m# Iteration counter is incremented in the Recording context manager at exit.\u001b[0m\u001b[1;33m\u001b[0m\u001b[1;33m\u001b[0m\u001b[1;33m\u001b[0m\u001b[0m\n",
      "\u001b[1;32m~\\Miniconda2\\envs\\mdo\\lib\\site-packages\\openmdao\\solvers\\nonlinear\\nonlinear_runonce.py\u001b[0m in \u001b[0;36msolve\u001b[1;34m(self)\u001b[0m\n\u001b[0;32m     35\u001b[0m             \u001b[1;31m# If this is not a parallel group, transfer for each subsystem just prior to running it.\u001b[0m\u001b[1;33m\u001b[0m\u001b[1;33m\u001b[0m\u001b[1;33m\u001b[0m\u001b[0m\n\u001b[0;32m     36\u001b[0m             \u001b[1;32melse\u001b[0m\u001b[1;33m:\u001b[0m\u001b[1;33m\u001b[0m\u001b[1;33m\u001b[0m\u001b[0m\n\u001b[1;32m---> 37\u001b[1;33m                 \u001b[0mself\u001b[0m\u001b[1;33m.\u001b[0m\u001b[0m_gs_iter\u001b[0m\u001b[1;33m(\u001b[0m\u001b[1;33m)\u001b[0m\u001b[1;33m\u001b[0m\u001b[1;33m\u001b[0m\u001b[0m\n\u001b[0m\u001b[0;32m     38\u001b[0m \u001b[1;33m\u001b[0m\u001b[0m\n\u001b[0;32m     39\u001b[0m             \u001b[0mrec\u001b[0m\u001b[1;33m.\u001b[0m\u001b[0mabs\u001b[0m \u001b[1;33m=\u001b[0m \u001b[1;36m0.0\u001b[0m\u001b[1;33m\u001b[0m\u001b[1;33m\u001b[0m\u001b[0m\n",
      "\u001b[1;32m~\\Miniconda2\\envs\\mdo\\lib\\site-packages\\openmdao\\solvers\\solver.py\u001b[0m in \u001b[0;36m_gs_iter\u001b[1;34m(self)\u001b[0m\n\u001b[0;32m    762\u001b[0m             \u001b[1;32mif\u001b[0m \u001b[0msubsys\u001b[0m\u001b[1;33m.\u001b[0m\u001b[0m_is_local\u001b[0m\u001b[1;33m:\u001b[0m\u001b[1;33m\u001b[0m\u001b[1;33m\u001b[0m\u001b[0m\n\u001b[0;32m    763\u001b[0m                 \u001b[1;32mtry\u001b[0m\u001b[1;33m:\u001b[0m\u001b[1;33m\u001b[0m\u001b[1;33m\u001b[0m\u001b[0m\n\u001b[1;32m--> 764\u001b[1;33m                     \u001b[0msubsys\u001b[0m\u001b[1;33m.\u001b[0m\u001b[0m_solve_nonlinear\u001b[0m\u001b[1;33m(\u001b[0m\u001b[1;33m)\u001b[0m\u001b[1;33m\u001b[0m\u001b[1;33m\u001b[0m\u001b[0m\n\u001b[0m\u001b[0;32m    765\u001b[0m                 \u001b[1;32mexcept\u001b[0m \u001b[0mAnalysisError\u001b[0m \u001b[1;32mas\u001b[0m \u001b[0merr\u001b[0m\u001b[1;33m:\u001b[0m\u001b[1;33m\u001b[0m\u001b[1;33m\u001b[0m\u001b[0m\n\u001b[0;32m    766\u001b[0m                     \u001b[1;32mif\u001b[0m \u001b[1;34m'reraise_child_analysiserror'\u001b[0m \u001b[1;32mnot\u001b[0m \u001b[1;32min\u001b[0m \u001b[0mself\u001b[0m\u001b[1;33m.\u001b[0m\u001b[0moptions\u001b[0m \u001b[1;32mor\u001b[0m\u001b[0;31m \u001b[0m\u001b[0;31m\\\u001b[0m\u001b[1;33m\u001b[0m\u001b[1;33m\u001b[0m\u001b[0m\n",
      "\u001b[1;32m~\\Miniconda2\\envs\\mdo\\lib\\site-packages\\openmdao\\core\\group.py\u001b[0m in \u001b[0;36m_solve_nonlinear\u001b[1;34m(self)\u001b[0m\n\u001b[0;32m   2634\u001b[0m \u001b[1;33m\u001b[0m\u001b[0m\n\u001b[0;32m   2635\u001b[0m         \u001b[1;32mwith\u001b[0m \u001b[0mRecording\u001b[0m\u001b[1;33m(\u001b[0m\u001b[0mname\u001b[0m \u001b[1;33m+\u001b[0m \u001b[1;34m'._solve_nonlinear'\u001b[0m\u001b[1;33m,\u001b[0m \u001b[0mself\u001b[0m\u001b[1;33m.\u001b[0m\u001b[0miter_count\u001b[0m\u001b[1;33m,\u001b[0m \u001b[0mself\u001b[0m\u001b[1;33m)\u001b[0m\u001b[1;33m:\u001b[0m\u001b[1;33m\u001b[0m\u001b[1;33m\u001b[0m\u001b[0m\n\u001b[1;32m-> 2636\u001b[1;33m             \u001b[0mself\u001b[0m\u001b[1;33m.\u001b[0m\u001b[0m_nonlinear_solver\u001b[0m\u001b[1;33m.\u001b[0m\u001b[0msolve\u001b[0m\u001b[1;33m(\u001b[0m\u001b[1;33m)\u001b[0m\u001b[1;33m\u001b[0m\u001b[1;33m\u001b[0m\u001b[0m\n\u001b[0m\u001b[0;32m   2637\u001b[0m \u001b[1;33m\u001b[0m\u001b[0m\n\u001b[0;32m   2638\u001b[0m         \u001b[1;31m# Iteration counter is incremented in the Recording context manager at exit.\u001b[0m\u001b[1;33m\u001b[0m\u001b[1;33m\u001b[0m\u001b[1;33m\u001b[0m\u001b[0m\n",
      "\u001b[1;32m~\\Miniconda2\\envs\\mdo\\lib\\site-packages\\openmdao\\solvers\\nonlinear\\nonlinear_runonce.py\u001b[0m in \u001b[0;36msolve\u001b[1;34m(self)\u001b[0m\n\u001b[0;32m     35\u001b[0m             \u001b[1;31m# If this is not a parallel group, transfer for each subsystem just prior to running it.\u001b[0m\u001b[1;33m\u001b[0m\u001b[1;33m\u001b[0m\u001b[1;33m\u001b[0m\u001b[0m\n\u001b[0;32m     36\u001b[0m             \u001b[1;32melse\u001b[0m\u001b[1;33m:\u001b[0m\u001b[1;33m\u001b[0m\u001b[1;33m\u001b[0m\u001b[0m\n\u001b[1;32m---> 37\u001b[1;33m                 \u001b[0mself\u001b[0m\u001b[1;33m.\u001b[0m\u001b[0m_gs_iter\u001b[0m\u001b[1;33m(\u001b[0m\u001b[1;33m)\u001b[0m\u001b[1;33m\u001b[0m\u001b[1;33m\u001b[0m\u001b[0m\n\u001b[0m\u001b[0;32m     38\u001b[0m \u001b[1;33m\u001b[0m\u001b[0m\n\u001b[0;32m     39\u001b[0m             \u001b[0mrec\u001b[0m\u001b[1;33m.\u001b[0m\u001b[0mabs\u001b[0m \u001b[1;33m=\u001b[0m \u001b[1;36m0.0\u001b[0m\u001b[1;33m\u001b[0m\u001b[1;33m\u001b[0m\u001b[0m\n",
      "\u001b[1;32m~\\Miniconda2\\envs\\mdo\\lib\\site-packages\\openmdao\\solvers\\solver.py\u001b[0m in \u001b[0;36m_gs_iter\u001b[1;34m(self)\u001b[0m\n\u001b[0;32m    762\u001b[0m             \u001b[1;32mif\u001b[0m \u001b[0msubsys\u001b[0m\u001b[1;33m.\u001b[0m\u001b[0m_is_local\u001b[0m\u001b[1;33m:\u001b[0m\u001b[1;33m\u001b[0m\u001b[1;33m\u001b[0m\u001b[0m\n\u001b[0;32m    763\u001b[0m                 \u001b[1;32mtry\u001b[0m\u001b[1;33m:\u001b[0m\u001b[1;33m\u001b[0m\u001b[1;33m\u001b[0m\u001b[0m\n\u001b[1;32m--> 764\u001b[1;33m                     \u001b[0msubsys\u001b[0m\u001b[1;33m.\u001b[0m\u001b[0m_solve_nonlinear\u001b[0m\u001b[1;33m(\u001b[0m\u001b[1;33m)\u001b[0m\u001b[1;33m\u001b[0m\u001b[1;33m\u001b[0m\u001b[0m\n\u001b[0m\u001b[0;32m    765\u001b[0m                 \u001b[1;32mexcept\u001b[0m \u001b[0mAnalysisError\u001b[0m \u001b[1;32mas\u001b[0m \u001b[0merr\u001b[0m\u001b[1;33m:\u001b[0m\u001b[1;33m\u001b[0m\u001b[1;33m\u001b[0m\u001b[0m\n\u001b[0;32m    766\u001b[0m                     \u001b[1;32mif\u001b[0m \u001b[1;34m'reraise_child_analysiserror'\u001b[0m \u001b[1;32mnot\u001b[0m \u001b[1;32min\u001b[0m \u001b[0mself\u001b[0m\u001b[1;33m.\u001b[0m\u001b[0moptions\u001b[0m \u001b[1;32mor\u001b[0m\u001b[0;31m \u001b[0m\u001b[0;31m\\\u001b[0m\u001b[1;33m\u001b[0m\u001b[1;33m\u001b[0m\u001b[0m\n",
      "\u001b[1;32m~\\Miniconda2\\envs\\mdo\\lib\\site-packages\\openmdao\\core\\implicitcomponent.py\u001b[0m in \u001b[0;36m_solve_nonlinear\u001b[1;34m(self)\u001b[0m\n\u001b[0;32m     82\u001b[0m         \u001b[1;32mif\u001b[0m \u001b[0mself\u001b[0m\u001b[1;33m.\u001b[0m\u001b[0m_nonlinear_solver\u001b[0m \u001b[1;32mis\u001b[0m \u001b[1;32mnot\u001b[0m \u001b[1;32mNone\u001b[0m\u001b[1;33m:\u001b[0m\u001b[1;33m\u001b[0m\u001b[1;33m\u001b[0m\u001b[0m\n\u001b[0;32m     83\u001b[0m             \u001b[1;32mwith\u001b[0m \u001b[0mRecording\u001b[0m\u001b[1;33m(\u001b[0m\u001b[0mself\u001b[0m\u001b[1;33m.\u001b[0m\u001b[0mpathname\u001b[0m \u001b[1;33m+\u001b[0m \u001b[1;34m'._solve_nonlinear'\u001b[0m\u001b[1;33m,\u001b[0m \u001b[0mself\u001b[0m\u001b[1;33m.\u001b[0m\u001b[0miter_count\u001b[0m\u001b[1;33m,\u001b[0m \u001b[0mself\u001b[0m\u001b[1;33m)\u001b[0m\u001b[1;33m:\u001b[0m\u001b[1;33m\u001b[0m\u001b[1;33m\u001b[0m\u001b[0m\n\u001b[1;32m---> 84\u001b[1;33m                 \u001b[0mself\u001b[0m\u001b[1;33m.\u001b[0m\u001b[0m_nonlinear_solver\u001b[0m\u001b[1;33m.\u001b[0m\u001b[0msolve\u001b[0m\u001b[1;33m(\u001b[0m\u001b[1;33m)\u001b[0m\u001b[1;33m\u001b[0m\u001b[1;33m\u001b[0m\u001b[0m\n\u001b[0m\u001b[0;32m     85\u001b[0m         \u001b[1;32melse\u001b[0m\u001b[1;33m:\u001b[0m\u001b[1;33m\u001b[0m\u001b[1;33m\u001b[0m\u001b[0m\n\u001b[0;32m     86\u001b[0m             \u001b[1;32mwith\u001b[0m \u001b[0mself\u001b[0m\u001b[1;33m.\u001b[0m\u001b[0m_unscaled_context\u001b[0m\u001b[1;33m(\u001b[0m\u001b[0moutputs\u001b[0m\u001b[1;33m=\u001b[0m\u001b[1;33m[\u001b[0m\u001b[0mself\u001b[0m\u001b[1;33m.\u001b[0m\u001b[0m_outputs\u001b[0m\u001b[1;33m]\u001b[0m\u001b[1;33m)\u001b[0m\u001b[1;33m:\u001b[0m\u001b[1;33m\u001b[0m\u001b[1;33m\u001b[0m\u001b[0m\n",
      "\u001b[1;32m~\\Miniconda2\\envs\\mdo\\lib\\site-packages\\openmdao\\solvers\\solver.py\u001b[0m in \u001b[0;36msolve\u001b[1;34m(self)\u001b[0m\n\u001b[0;32m    557\u001b[0m             \u001b[1;32mif\u001b[0m \u001b[0mself\u001b[0m\u001b[1;33m.\u001b[0m\u001b[0moptions\u001b[0m\u001b[1;33m[\u001b[0m\u001b[1;34m'debug_print'\u001b[0m\u001b[1;33m]\u001b[0m\u001b[1;33m:\u001b[0m\u001b[1;33m\u001b[0m\u001b[1;33m\u001b[0m\u001b[0m\n\u001b[0;32m    558\u001b[0m                 \u001b[0mself\u001b[0m\u001b[1;33m.\u001b[0m\u001b[0m_print_exc_debug_info\u001b[0m\u001b[1;33m(\u001b[0m\u001b[1;33m)\u001b[0m\u001b[1;33m\u001b[0m\u001b[1;33m\u001b[0m\u001b[0m\n\u001b[1;32m--> 559\u001b[1;33m             \u001b[1;32mraise\u001b[0m \u001b[0merr\u001b[0m\u001b[1;33m\u001b[0m\u001b[1;33m\u001b[0m\u001b[0m\n\u001b[0m\u001b[0;32m    560\u001b[0m \u001b[1;33m\u001b[0m\u001b[0m\n\u001b[0;32m    561\u001b[0m     \u001b[1;32mdef\u001b[0m \u001b[0m_iter_initialize\u001b[0m\u001b[1;33m(\u001b[0m\u001b[0mself\u001b[0m\u001b[1;33m)\u001b[0m\u001b[1;33m:\u001b[0m\u001b[1;33m\u001b[0m\u001b[1;33m\u001b[0m\u001b[0m\n",
      "\u001b[1;32m~\\Miniconda2\\envs\\mdo\\lib\\site-packages\\openmdao\\solvers\\solver.py\u001b[0m in \u001b[0;36msolve\u001b[1;34m(self)\u001b[0m\n\u001b[0;32m    553\u001b[0m         \"\"\"\n\u001b[0;32m    554\u001b[0m         \u001b[1;32mtry\u001b[0m\u001b[1;33m:\u001b[0m\u001b[1;33m\u001b[0m\u001b[1;33m\u001b[0m\u001b[0m\n\u001b[1;32m--> 555\u001b[1;33m             \u001b[0mself\u001b[0m\u001b[1;33m.\u001b[0m\u001b[0m_solve\u001b[0m\u001b[1;33m(\u001b[0m\u001b[1;33m)\u001b[0m\u001b[1;33m\u001b[0m\u001b[1;33m\u001b[0m\u001b[0m\n\u001b[0m\u001b[0;32m    556\u001b[0m         \u001b[1;32mexcept\u001b[0m \u001b[0mException\u001b[0m \u001b[1;32mas\u001b[0m \u001b[0merr\u001b[0m\u001b[1;33m:\u001b[0m\u001b[1;33m\u001b[0m\u001b[1;33m\u001b[0m\u001b[0m\n\u001b[0;32m    557\u001b[0m             \u001b[1;32mif\u001b[0m \u001b[0mself\u001b[0m\u001b[1;33m.\u001b[0m\u001b[0moptions\u001b[0m\u001b[1;33m[\u001b[0m\u001b[1;34m'debug_print'\u001b[0m\u001b[1;33m]\u001b[0m\u001b[1;33m:\u001b[0m\u001b[1;33m\u001b[0m\u001b[1;33m\u001b[0m\u001b[0m\n",
      "\u001b[1;32m~\\Miniconda2\\envs\\mdo\\lib\\site-packages\\openmdao\\solvers\\solver.py\u001b[0m in \u001b[0;36m_solve\u001b[1;34m(self)\u001b[0m\n\u001b[0;32m    630\u001b[0m                     \u001b[0mself\u001b[0m\u001b[1;33m.\u001b[0m\u001b[0mlinesearch\u001b[0m\u001b[1;33m.\u001b[0m\u001b[0moptions\u001b[0m\u001b[1;33m[\u001b[0m\u001b[1;34m'print_bound_enforce'\u001b[0m\u001b[1;33m]\u001b[0m \u001b[1;33m=\u001b[0m \u001b[1;32mFalse\u001b[0m\u001b[1;33m\u001b[0m\u001b[1;33m\u001b[0m\u001b[0m\n\u001b[0;32m    631\u001b[0m                 \u001b[1;32melse\u001b[0m\u001b[1;33m:\u001b[0m\u001b[1;33m\u001b[0m\u001b[1;33m\u001b[0m\u001b[0m\n\u001b[1;32m--> 632\u001b[1;33m                     \u001b[0mself\u001b[0m\u001b[1;33m.\u001b[0m\u001b[0m_single_iteration\u001b[0m\u001b[1;33m(\u001b[0m\u001b[1;33m)\u001b[0m\u001b[1;33m\u001b[0m\u001b[1;33m\u001b[0m\u001b[0m\n\u001b[0m\u001b[0;32m    633\u001b[0m \u001b[1;33m\u001b[0m\u001b[0m\n\u001b[0;32m    634\u001b[0m                 \u001b[0mself\u001b[0m\u001b[1;33m.\u001b[0m\u001b[0m_iter_count\u001b[0m \u001b[1;33m+=\u001b[0m \u001b[1;36m1\u001b[0m\u001b[1;33m\u001b[0m\u001b[1;33m\u001b[0m\u001b[0m\n",
      "\u001b[1;32m~\\Miniconda2\\envs\\mdo\\lib\\site-packages\\openmdao\\solvers\\nonlinear\\newton.py\u001b[0m in \u001b[0;36m_single_iteration\u001b[1;34m(self)\u001b[0m\n\u001b[0;32m    229\u001b[0m             \u001b[0mmy_asm_jac\u001b[0m\u001b[1;33m.\u001b[0m\u001b[0m_update\u001b[0m\u001b[1;33m(\u001b[0m\u001b[0msystem\u001b[0m\u001b[1;33m)\u001b[0m\u001b[1;33m\u001b[0m\u001b[1;33m\u001b[0m\u001b[0m\n\u001b[0;32m    230\u001b[0m \u001b[1;33m\u001b[0m\u001b[0m\n\u001b[1;32m--> 231\u001b[1;33m         \u001b[0mself\u001b[0m\u001b[1;33m.\u001b[0m\u001b[0m_linearize\u001b[0m\u001b[1;33m(\u001b[0m\u001b[1;33m)\u001b[0m\u001b[1;33m\u001b[0m\u001b[1;33m\u001b[0m\u001b[0m\n\u001b[0m\u001b[0;32m    232\u001b[0m \u001b[1;33m\u001b[0m\u001b[0m\n\u001b[0;32m    233\u001b[0m         \u001b[0mself\u001b[0m\u001b[1;33m.\u001b[0m\u001b[0mlinear_solver\u001b[0m\u001b[1;33m.\u001b[0m\u001b[0msolve\u001b[0m\u001b[1;33m(\u001b[0m\u001b[1;33m[\u001b[0m\u001b[1;34m'linear'\u001b[0m\u001b[1;33m]\u001b[0m\u001b[1;33m,\u001b[0m \u001b[1;34m'fwd'\u001b[0m\u001b[1;33m)\u001b[0m\u001b[1;33m\u001b[0m\u001b[1;33m\u001b[0m\u001b[0m\n",
      "\u001b[1;32m~\\Miniconda2\\envs\\mdo\\lib\\site-packages\\openmdao\\solvers\\nonlinear\\newton.py\u001b[0m in \u001b[0;36m_linearize\u001b[1;34m(self)\u001b[0m\n\u001b[0;32m    159\u001b[0m         \"\"\"\n\u001b[0;32m    160\u001b[0m         \u001b[1;32mif\u001b[0m \u001b[0mself\u001b[0m\u001b[1;33m.\u001b[0m\u001b[0mlinear_solver\u001b[0m \u001b[1;32mis\u001b[0m \u001b[1;32mnot\u001b[0m \u001b[1;32mNone\u001b[0m\u001b[1;33m:\u001b[0m\u001b[1;33m\u001b[0m\u001b[1;33m\u001b[0m\u001b[0m\n\u001b[1;32m--> 161\u001b[1;33m             \u001b[0mself\u001b[0m\u001b[1;33m.\u001b[0m\u001b[0mlinear_solver\u001b[0m\u001b[1;33m.\u001b[0m\u001b[0m_linearize\u001b[0m\u001b[1;33m(\u001b[0m\u001b[1;33m)\u001b[0m\u001b[1;33m\u001b[0m\u001b[1;33m\u001b[0m\u001b[0m\n\u001b[0m\u001b[0;32m    162\u001b[0m \u001b[1;33m\u001b[0m\u001b[0m\n\u001b[0;32m    163\u001b[0m         \u001b[1;32mif\u001b[0m \u001b[0mself\u001b[0m\u001b[1;33m.\u001b[0m\u001b[0mlinesearch\u001b[0m \u001b[1;32mis\u001b[0m \u001b[1;32mnot\u001b[0m \u001b[1;32mNone\u001b[0m\u001b[1;33m:\u001b[0m\u001b[1;33m\u001b[0m\u001b[1;33m\u001b[0m\u001b[0m\n",
      "\u001b[1;32m~\\Miniconda2\\envs\\mdo\\lib\\site-packages\\openmdao\\solvers\\linear\\direct.py\u001b[0m in \u001b[0;36m_linearize\u001b[1;34m(self)\u001b[0m\n\u001b[0;32m    278\u001b[0m                 \u001b[1;32mexcept\u001b[0m \u001b[0mRuntimeError\u001b[0m \u001b[1;32mas\u001b[0m \u001b[0merr\u001b[0m\u001b[1;33m:\u001b[0m\u001b[1;33m\u001b[0m\u001b[1;33m\u001b[0m\u001b[0m\n\u001b[0;32m    279\u001b[0m                     \u001b[1;32mif\u001b[0m \u001b[1;34m'exactly singular'\u001b[0m \u001b[1;32min\u001b[0m \u001b[0mstr\u001b[0m\u001b[1;33m(\u001b[0m\u001b[0merr\u001b[0m\u001b[1;33m)\u001b[0m\u001b[1;33m:\u001b[0m\u001b[1;33m\u001b[0m\u001b[1;33m\u001b[0m\u001b[0m\n\u001b[1;32m--> 280\u001b[1;33m                         \u001b[1;32mraise\u001b[0m \u001b[0mRuntimeError\u001b[0m\u001b[1;33m(\u001b[0m\u001b[0mformat_singular_error\u001b[0m\u001b[1;33m(\u001b[0m\u001b[0msystem\u001b[0m\u001b[1;33m,\u001b[0m \u001b[0mmatrix\u001b[0m\u001b[1;33m)\u001b[0m\u001b[1;33m)\u001b[0m\u001b[1;33m\u001b[0m\u001b[1;33m\u001b[0m\u001b[0m\n\u001b[0m\u001b[0;32m    281\u001b[0m                     \u001b[1;32melse\u001b[0m\u001b[1;33m:\u001b[0m\u001b[1;33m\u001b[0m\u001b[1;33m\u001b[0m\u001b[0m\n\u001b[0;32m    282\u001b[0m                         \u001b[1;32mraise\u001b[0m \u001b[0merr\u001b[0m\u001b[1;33m\u001b[0m\u001b[1;33m\u001b[0m\u001b[0m\n",
      "\u001b[1;31mRuntimeError\u001b[0m: Singular entry found in 'group1.eq12' <class Impcomp> for row associated with state/residual 'h' ('group1.eq12.h') index 0."
     ]
    }
   ],
   "source": [
    "prob = om.Problem()\n",
    "model = prob.model\n",
    "buildidpvars(ins, model)\n",
    "counter = coupled_run(eqs, order, (), model, model, d)\n",
    "prob.setup()\n",
    "prob.run_model()"
   ]
  },
  {
   "cell_type": "code",
   "execution_count": 118,
   "id": "eba7d033",
   "metadata": {
    "execution": {
     "iopub.execute_input": "2021-07-28T09:03:43.214831Z",
     "iopub.status.busy": "2021-07-28T09:03:43.213836Z",
     "iopub.status.idle": "2021-07-28T09:03:43.237364Z",
     "shell.execute_reply": "2021-07-28T09:03:43.236390Z",
     "shell.execute_reply.started": "2021-07-28T09:03:43.214831Z"
    }
   },
   "outputs": [],
   "source": [
    "#prob.set_val('lambda', 2.1e-1)\n",
    "#prob.run_model()"
   ]
  },
  {
   "cell_type": "code",
   "execution_count": 119,
   "id": "efcbc6dc",
   "metadata": {
    "execution": {
     "iopub.execute_input": "2021-07-28T09:03:43.559884Z",
     "iopub.status.busy": "2021-07-28T09:03:43.559884Z",
     "iopub.status.idle": "2021-07-28T09:03:43.592884Z",
     "shell.execute_reply": "2021-07-28T09:03:43.591886Z",
     "shell.execute_reply.started": "2021-07-28T09:03:43.559884Z"
    }
   },
   "outputs": [
    {
     "name": "stdout",
     "output_type": "stream",
     "text": [
      "33 Explicit Output(s) in 'model'\n",
      "\n",
      "varname         value           \n",
      "--------------  ----------------\n",
      "inp\n",
      "  k             [1.381e-23]     \n",
      "  c             [2.998e+08]     \n",
      "  Y             [0.22199317]    \n",
      "  Delta_lambda  [2.e-06]        \n",
      "  Delta_V       [0.87073231]    \n",
      "  r             [9.257e+19]     \n",
      "  C_T           [1000000.]      \n",
      "  h             [6.626e-34]     \n",
      "  SNR           [10.]           \n",
      "  N_r           [25.]           \n",
      "  lambda        [5.e-07]        \n",
      "  tau_0         [0.75]          \n",
      "  tau           [1.]            \n",
      "  d             [3.e-05]        \n",
      "  H_i           [0.20671916]    \n",
      "  rho           [1.22]          \n",
      "  alpha         [50000.]        \n",
      "  I_sp          [450.]          \n",
      "  Q             [1.1]           \n",
      "  T             [5785.]         \n",
      "  g             [9.8]           \n",
      "  m_s           [1175.]         \n",
      "  R             [6.96e+08]      \n",
      "group1\n",
      "  eq12\n",
      "    N_p         [5.20316581e+17]\n",
      "  eq8\n",
      "    H_lambda    [8.34693659e+13]\n",
      "  eq9\n",
      "    L           [2.02169482e+25]\n",
      "  eq1\n",
      "    f           [1.25098443e+16]\n",
      "  eq2\n",
      "    D           [5.59607034e+14]\n",
      "  eq10\n",
      "    P_in        [5.80271554e+14]\n",
      "  eq6\n",
      "    C_D         [8.76232784e+48]\n",
      "  eq4\n",
      "    mt          [3.67963038e+32]\n",
      "  eq5\n",
      "    m_i         [3.68035698e+32]\n",
      "  eq3\n",
      "    theta_r     [1.09005063e-21]\n",
      "\n",
      "\n",
      "4 Implicit Output(s) in 'model'\n",
      "\n",
      "varname   value           \n",
      "--------  ----------------\n",
      "group1\n",
      "  eq13\n",
      "    Q_E   [-0.99999997]   \n",
      "  eq11\n",
      "    T_i   [4.4408921e-16] \n",
      "  eq7\n",
      "    c_t   [-2.3808364e+16]\n",
      "  eq0\n",
      "    IFOV  [0.]            \n",
      "\n",
      "\n"
     ]
    }
   ],
   "source": [
    "model.list_outputs();"
   ]
  },
  {
   "cell_type": "code",
   "execution_count": 120,
   "id": "b7f825b6",
   "metadata": {
    "execution": {
     "iopub.execute_input": "2021-07-28T09:03:56.922390Z",
     "iopub.status.busy": "2021-07-28T09:03:56.921393Z",
     "iopub.status.idle": "2021-07-28T09:03:56.967465Z",
     "shell.execute_reply": "2021-07-28T09:03:56.966468Z",
     "shell.execute_reply.started": "2021-07-28T09:03:56.922390Z"
    }
   },
   "outputs": [],
   "source": [
    "out = get_outputs(eqs, model)\n",
    "easytoread = {key: '{:.2f~}'.format((val*key.varunit).to_compact()) for key,val in out.items()}"
   ]
  },
  {
   "cell_type": "code",
   "execution_count": 121,
   "id": "4ad408b9",
   "metadata": {
    "execution": {
     "iopub.execute_input": "2021-07-28T09:04:00.694073Z",
     "iopub.status.busy": "2021-07-28T09:04:00.694073Z",
     "iopub.status.idle": "2021-07-28T09:04:00.719174Z",
     "shell.execute_reply": "2021-07-28T09:04:00.718172Z",
     "shell.execute_reply.started": "2021-07-28T09:04:00.694073Z"
    }
   },
   "outputs": [
    {
     "data": {
      "text/plain": [
       "{k: '13.81 yJ / K',\n",
       " Y: '221.99 mm',\n",
       " c: '299.80 Mm / s',\n",
       " Delta_lambda: '2.00 µm',\n",
       " m_i: '368035697565.58 Yg',\n",
       " r: '92.57 Em',\n",
       " Delta_V: '870.73 mm / s',\n",
       " C_T: '1.00 MUSD',\n",
       " h: '0.00 s * yJ',\n",
       " T_i: '444.09 as',\n",
       " N_p: '520316581261001664.00',\n",
       " SNR: '10.00',\n",
       " N_r: '25.00',\n",
       " lambda: '500.00 nm',\n",
       " Q_E: '-1.00',\n",
       " D: '559.61 Tm',\n",
       " tau_0: '0.75',\n",
       " C_D: '8762327838955676884795392.00 YUSD',\n",
       " theta_r: '1.09 zrad',\n",
       " P_in: '580.27 TW',\n",
       " H_lambda: '83.47 TW / m ** 3',\n",
       " tau: '1.00',\n",
       " d: '30.00 µm',\n",
       " IFOV: '0.00 rad',\n",
       " H_i: '206.72 mJ',\n",
       " rho: '1.22',\n",
       " alpha: '50.00 kUSD / m ** 3',\n",
       " I_sp: '450.00 s',\n",
       " Q: '1.10',\n",
       " T: '5.79 kK',\n",
       " g: '9.80 m / s ** 2',\n",
       " c_t: '-23.81 TUSD / g',\n",
       " L: '20.22 YW / sr',\n",
       " m_s: '1.18 Mg / m ** 2',\n",
       " mt: '367963037942.65 Yg',\n",
       " f: '12.51 Pm',\n",
       " R: '696.00 Mm'}"
      ]
     },
     "execution_count": 121,
     "metadata": {},
     "output_type": "execute_result"
    }
   ],
   "source": [
    "easytoread"
   ]
  },
  {
   "cell_type": "markdown",
   "id": "844f0bb6",
   "metadata": {},
   "source": [
    "## Thomas v2"
   ]
  },
  {
   "cell_type": "code",
   "execution_count": 9,
   "id": "efece7a8",
   "metadata": {
    "execution": {
     "iopub.execute_input": "2021-07-28T09:53:24.617841Z",
     "iopub.status.busy": "2021-07-28T09:53:24.617841Z",
     "iopub.status.idle": "2021-07-28T09:53:24.631840Z",
     "shell.execute_reply": "2021-07-28T09:53:24.630845Z",
     "shell.execute_reply.started": "2021-07-28T09:53:24.617841Z"
    }
   },
   "outputs": [],
   "source": [
    "original_ins = getdofs(eqs)"
   ]
  },
  {
   "cell_type": "code",
   "execution_count": 10,
   "id": "267816e0",
   "metadata": {
    "execution": {
     "iopub.execute_input": "2021-07-28T09:53:24.635839Z",
     "iopub.status.busy": "2021-07-28T09:53:24.634842Z",
     "iopub.status.idle": "2021-07-28T09:53:24.664840Z",
     "shell.execute_reply": "2021-07-28T09:53:24.662840Z",
     "shell.execute_reply.started": "2021-07-28T09:53:24.635839Z"
    }
   },
   "outputs": [
    {
     "data": {
      "text/plain": [
       "{Delta_V,\n",
       " Delta_lambda,\n",
       " IFOV,\n",
       " I_sp,\n",
       " N_r,\n",
       " Q,\n",
       " Q_E,\n",
       " R,\n",
       " T,\n",
       " T_i,\n",
       " alpha,\n",
       " c,\n",
       " c_t,\n",
       " d,\n",
       " g,\n",
       " h,\n",
       " k,\n",
       " lambda,\n",
       " m_s,\n",
       " r,\n",
       " rho,\n",
       " tau,\n",
       " tau_0}"
      ]
     },
     "execution_count": 10,
     "metadata": {},
     "output_type": "execute_result"
    }
   ],
   "source": [
    "original_ins"
   ]
  },
  {
   "cell_type": "code",
   "execution_count": 11,
   "id": "20a256d0",
   "metadata": {
    "execution": {
     "iopub.execute_input": "2021-07-28T09:53:26.600299Z",
     "iopub.status.busy": "2021-07-28T09:53:26.599288Z",
     "iopub.status.idle": "2021-07-28T09:53:26.619811Z",
     "shell.execute_reply": "2021-07-28T09:53:26.618814Z",
     "shell.execute_reply.started": "2021-07-28T09:53:26.600299Z"
    }
   },
   "outputs": [],
   "source": [
    "force_input = [SNR, CT]\n",
    "not_input = [IFOV, Ti] #what happens when these are not specified? we might then have freedom of chosing them"
   ]
  },
  {
   "cell_type": "code",
   "execution_count": 12,
   "id": "2b3a24d4",
   "metadata": {
    "execution": {
     "iopub.execute_input": "2021-07-28T09:53:27.125812Z",
     "iopub.status.busy": "2021-07-28T09:53:27.124813Z",
     "iopub.status.idle": "2021-07-28T09:53:27.145809Z",
     "shell.execute_reply": "2021-07-28T09:53:27.144811Z",
     "shell.execute_reply.started": "2021-07-28T09:53:27.125812Z"
    }
   },
   "outputs": [],
   "source": [
    "new_ins = original_ins.union(force_input) - set(not_input)"
   ]
  },
  {
   "cell_type": "code",
   "execution_count": 13,
   "id": "fa05dd02",
   "metadata": {
    "execution": {
     "iopub.execute_input": "2021-07-28T09:53:27.744340Z",
     "iopub.status.busy": "2021-07-28T09:53:27.743345Z",
     "iopub.status.idle": "2021-07-28T09:53:27.754337Z",
     "shell.execute_reply": "2021-07-28T09:53:27.753066Z",
     "shell.execute_reply.started": "2021-07-28T09:53:27.744340Z"
    }
   },
   "outputs": [],
   "source": [
    "eqvcst = {key: {elt for elt in outsetposs if not elt in new_ins}\n",
    "        for key, outsetposs in eqv.items()}\n",
    "G, edges_original = bipartite_repr(eqvcst)\n",
    "vrs = getallvars(eqs)\n",
    "eqns = eqs.keys()\n",
    "edges = invert_edges(edges_original)"
   ]
  },
  {
   "cell_type": "code",
   "execution_count": 14,
   "id": "26d13f22",
   "metadata": {
    "execution": {
     "iopub.execute_input": "2021-07-28T09:53:28.282397Z",
     "iopub.status.busy": "2021-07-28T09:53:28.282397Z",
     "iopub.status.idle": "2021-07-28T09:53:28.303394Z",
     "shell.execute_reply": "2021-07-28T09:53:28.301394Z",
     "shell.execute_reply.started": "2021-07-28T09:53:28.282397Z"
    }
   },
   "outputs": [
    {
     "data": {
      "text/plain": [
       "{0: {IFOV, Y},\n",
       " 1: {Y, f},\n",
       " 2: {D, f},\n",
       " 3: {D, theta_r},\n",
       " 4: {D, mt},\n",
       " 5: {m_i, mt},\n",
       " 6: {C_D, D},\n",
       " 7: {C_D, m_i},\n",
       " 8: {H_lambda},\n",
       " 9: {H_lambda, L},\n",
       " 10: {D, L, P_in},\n",
       " 11: {H_i, P_in, T_i},\n",
       " 12: {H_i, N_p},\n",
       " 13: {N_p}}"
      ]
     },
     "execution_count": 14,
     "metadata": {},
     "output_type": "execute_result"
    }
   ],
   "source": [
    "eqvcst"
   ]
  },
  {
   "cell_type": "code",
   "execution_count": 25,
   "id": "74d263a4",
   "metadata": {
    "execution": {
     "iopub.execute_input": "2021-07-28T10:01:58.806482Z",
     "iopub.status.busy": "2021-07-28T10:01:58.806482Z",
     "iopub.status.idle": "2021-07-28T10:01:58.812480Z",
     "shell.execute_reply": "2021-07-28T10:01:58.811481Z",
     "shell.execute_reply.started": "2021-07-28T10:01:58.806482Z"
    }
   },
   "outputs": [],
   "source": [
    "# is the solution to the problem unique anyways, so it makes no sense to optimize?"
   ]
  },
  {
   "cell_type": "code",
   "execution_count": 15,
   "id": "0d95b08e",
   "metadata": {
    "execution": {
     "iopub.execute_input": "2021-07-28T09:53:30.119422Z",
     "iopub.status.busy": "2021-07-28T09:53:30.118416Z",
     "iopub.status.idle": "2021-07-28T09:53:30.160415Z",
     "shell.execute_reply": "2021-07-28T09:53:30.159415Z",
     "shell.execute_reply.started": "2021-07-28T09:53:30.119422Z"
    }
   },
   "outputs": [
    {
     "name": "stdout",
     "output_type": "stream",
     "text": [
      "Using license file C:\\Users\\johan\\gurobi.lic\n",
      "Academic license - for non-commercial use only - expires 2021-09-23\n",
      "Warning: Gurobi version mismatch between Python 9.1.1 and C library 9.1.0\n"
     ]
    }
   ],
   "source": [
    "m = gp.Model('minrevassign')\n",
    "m.setParam('OutputFlag', False )\n",
    "x = m.addVars(edges, name=\"assign\", vtype=GRB.BINARY)\n",
    "# Matching eqs:\n",
    "fcons = m.addConstrs((x.sum(j,'*') == 1 for j in eqns), name='equations')\n",
    "varcons = m.addConstrs((var_matched_cons(x, j, not_input) for j in vrs), name='variables')\n",
    "m.setObjective(gp.quicksum([x[(key, var)] for key,var in dout.items() if var in eqvcst[key]]), GRB.MAXIMIZE)"
   ]
  },
  {
   "cell_type": "code",
   "execution_count": 16,
   "id": "b3b5d016",
   "metadata": {
    "execution": {
     "iopub.execute_input": "2021-07-28T09:53:31.386416Z",
     "iopub.status.busy": "2021-07-28T09:53:31.385419Z",
     "iopub.status.idle": "2021-07-28T09:53:31.392415Z",
     "shell.execute_reply": "2021-07-28T09:53:31.391418Z",
     "shell.execute_reply.started": "2021-07-28T09:53:31.386416Z"
    }
   },
   "outputs": [],
   "source": [
    "#m.addConstr(gp.quicksum(x[(r,j)] for r,j in sol)<= n_eqs-1)\n",
    "m.optimize()"
   ]
  },
  {
   "cell_type": "code",
   "execution_count": 17,
   "id": "43967329",
   "metadata": {
    "execution": {
     "iopub.execute_input": "2021-07-28T09:53:31.893413Z",
     "iopub.status.busy": "2021-07-28T09:53:31.892415Z",
     "iopub.status.idle": "2021-07-28T09:53:31.907944Z",
     "shell.execute_reply": "2021-07-28T09:53:31.906943Z",
     "shell.execute_reply.started": "2021-07-28T09:53:31.893413Z"
    }
   },
   "outputs": [
    {
     "data": {
      "text/plain": [
       "6.0"
      ]
     },
     "execution_count": 17,
     "metadata": {},
     "output_type": "execute_result"
    }
   ],
   "source": [
    "m.objVal"
   ]
  },
  {
   "cell_type": "code",
   "execution_count": 18,
   "id": "1148c71c",
   "metadata": {
    "execution": {
     "iopub.execute_input": "2021-07-28T09:53:33.105538Z",
     "iopub.status.busy": "2021-07-28T09:53:33.104540Z",
     "iopub.status.idle": "2021-07-28T09:53:33.118540Z",
     "shell.execute_reply": "2021-07-28T09:53:33.116538Z",
     "shell.execute_reply.started": "2021-07-28T09:53:33.104540Z"
    }
   },
   "outputs": [
    {
     "data": {
      "text/plain": [
       "{0: IFOV,\n",
       " 1: Y,\n",
       " 2: f,\n",
       " 3: theta_r,\n",
       " 4: mt,\n",
       " 5: m_i,\n",
       " 6: D,\n",
       " 7: C_D,\n",
       " 8: H_lambda,\n",
       " 9: L,\n",
       " 10: P_in,\n",
       " 11: T_i,\n",
       " 12: H_i,\n",
       " 13: N_p}"
      ]
     },
     "execution_count": 18,
     "metadata": {},
     "output_type": "execute_result"
    }
   ],
   "source": [
    "sol = [(r,j) for (r, j) in edges if x[r,j].x>1e-6]\n",
    "sol_outset = {key:val for key,val in sol}\n",
    "sol_outset"
   ]
  },
  {
   "cell_type": "code",
   "execution_count": 19,
   "id": "27668025",
   "metadata": {
    "execution": {
     "iopub.execute_input": "2021-07-28T09:53:35.129109Z",
     "iopub.status.busy": "2021-07-28T09:53:35.128107Z",
     "iopub.status.idle": "2021-07-28T09:53:38.158684Z",
     "shell.execute_reply": "2021-07-28T09:53:38.157681Z",
     "shell.execute_reply.started": "2021-07-28T09:53:35.129109Z"
    }
   },
   "outputs": [],
   "source": [
    "d = dict(sol_outset)\n",
    "new_eqs=reassign(eqs, d)\n",
    "new_eqv = eqvars(new_eqs)\n",
    "#new_ins = getdofs(new_eqs)\n",
    "#d = dout\n",
    "order = mdf_order(new_eqv, d)\n",
    "ins = reduce(set.union, new_eqv.values()) - set(d.values())"
   ]
  },
  {
   "cell_type": "code",
   "execution_count": 28,
   "id": "f2ebed06",
   "metadata": {
    "execution": {
     "iopub.execute_input": "2021-07-28T15:14:34.698285Z",
     "iopub.status.busy": "2021-07-28T15:14:34.697285Z",
     "iopub.status.idle": "2021-07-28T15:14:34.733283Z",
     "shell.execute_reply": "2021-07-28T15:14:34.732279Z",
     "shell.execute_reply.started": "2021-07-28T15:14:34.698285Z"
    }
   },
   "outputs": [
    {
     "data": {
      "text/plain": [
       "{0: (IFOV, Y/r),\n",
       " 1: (Y, d*r/f),\n",
       " 2: (f, D*d/(2*Q*lambda*rho)),\n",
       " 3: (theta_r, lambda*rho/D),\n",
       " 4: (mt, D**2*m_s),\n",
       " 5: (m_i, mt*exp(Delta_V/(I_sp*g))),\n",
       " 6: (D, (C_D/alpha)**(1/3)),\n",
       " 7: (C_D, C_T - c_t*m_i),\n",
       " 8: (H_lambda, 2*pi*c**2*h/(lambda**5*(exp(c*h/(T*k*lambda)) - 1))),\n",
       " 9: (L, 0.25*Delta_lambda*H_lambda*R**2*tau),\n",
       " 10: (P_in, pi*D**2*L/(4*r**2)),\n",
       " 11: (T_i, H_i/(P_in*tau_0)),\n",
       " 12: (H_i, N_p*c*h/lambda),\n",
       " 13: (N_p, SNR*(SNR + sqrt(4*N_r**2 + SNR**2))/(2*Q_E))}"
      ]
     },
     "execution_count": 28,
     "metadata": {},
     "output_type": "execute_result"
    }
   ],
   "source": [
    "new_eqs"
   ]
  },
  {
   "cell_type": "code",
   "execution_count": 27,
   "id": "2850da1c",
   "metadata": {
    "execution": {
     "iopub.execute_input": "2021-07-28T15:14:02.240215Z",
     "iopub.status.busy": "2021-07-28T15:14:02.240215Z",
     "iopub.status.idle": "2021-07-28T15:14:02.258216Z",
     "shell.execute_reply": "2021-07-28T15:14:02.257217Z",
     "shell.execute_reply.started": "2021-07-28T15:14:02.240215Z"
    }
   },
   "outputs": [
    {
     "data": {
      "text/plain": [
       "[13, (4, 7, 5, 6), 12, 8, 9, 3, 2, 10, 11, 1, 0]"
      ]
     },
     "execution_count": 27,
     "metadata": {},
     "output_type": "execute_result"
    }
   ],
   "source": [
    "order"
   ]
  },
  {
   "cell_type": "code",
   "execution_count": 20,
   "id": "f6edddd4",
   "metadata": {
    "execution": {
     "iopub.execute_input": "2021-07-28T09:53:39.102685Z",
     "iopub.status.busy": "2021-07-28T09:53:39.101686Z",
     "iopub.status.idle": "2021-07-28T09:53:39.555201Z",
     "shell.execute_reply": "2021-07-28T09:53:39.553201Z",
     "shell.execute_reply.started": "2021-07-28T09:53:39.102685Z"
    }
   },
   "outputs": [
    {
     "name": "stdout",
     "output_type": "stream",
     "text": [
      "eq13 N_p SNR*(SNR + sqrt(4*N_r**2 + SNR**2))/(2*Q_E) N_p\n",
      "eq4 mt D**2*m_s mt\n",
      "eq7 C_D C_T - c_t*m_i C_D\n",
      "eq5 m_i mt*exp(Delta_V/(I_sp*g)) m_i\n",
      "eq6 D (C_D/alpha)**(1/3) D\n",
      "eq12 H_i N_p*c*h/lambda H_i\n",
      "eq8 H_lambda 2*pi*c**2*h/(lambda**5*(exp(c*h/(T*k*lambda)) - 1)) H_lambda\n",
      "eq9 L 0.25*Delta_lambda*H_lambda*R**2*tau L\n",
      "eq3 theta_r lambda*rho/D theta_r\n",
      "eq2 f D*d/(2*Q*lambda*rho) f\n",
      "eq10 P_in pi*D**2*L/(4*r**2) P_in\n",
      "eq11 T_i H_i/(P_in*tau_0) T_i\n",
      "eq1 Y d*r/f Y\n",
      "eq0 IFOV Y/r IFOV\n",
      "\n",
      "=============\n",
      "group1.group2\n",
      "=============\n",
      "NL: Newton Converged in 6 iterations\n"
     ]
    }
   ],
   "source": [
    "prob = om.Problem()\n",
    "model = prob.model\n",
    "buildidpvars(ins, model)\n",
    "counter = coupled_run(new_eqs, order, (), model, model, d)\n",
    "prob.setup()\n",
    "prob.run_model()"
   ]
  },
  {
   "cell_type": "code",
   "execution_count": 21,
   "id": "34caefe2",
   "metadata": {
    "execution": {
     "iopub.execute_input": "2021-07-28T09:53:41.112777Z",
     "iopub.status.busy": "2021-07-28T09:53:41.111776Z",
     "iopub.status.idle": "2021-07-28T09:53:41.171303Z",
     "shell.execute_reply": "2021-07-28T09:53:41.169304Z",
     "shell.execute_reply.started": "2021-07-28T09:53:41.112777Z"
    }
   },
   "outputs": [],
   "source": [
    "out = get_outputs(eqs, model)\n",
    "easytoread = {key: '{:.2f~}'.format((val*key.varunit).to_compact()) for key,val in out.items()}"
   ]
  },
  {
   "cell_type": "code",
   "execution_count": 24,
   "id": "238786aa",
   "metadata": {
    "execution": {
     "iopub.execute_input": "2021-07-28T09:54:24.440242Z",
     "iopub.status.busy": "2021-07-28T09:54:24.440242Z",
     "iopub.status.idle": "2021-07-28T09:54:24.458241Z",
     "shell.execute_reply": "2021-07-28T09:54:24.457267Z",
     "shell.execute_reply.started": "2021-07-28T09:54:24.440242Z"
    }
   },
   "outputs": [
    {
     "data": {
      "text/plain": [
       "{IFOV: 1.592811429113105e-06,\n",
       " Delta_lambda: 2e-06,\n",
       " P_in: 1.3153497814036748e-15,\n",
       " g: 9.8,\n",
       " Delta_V: 0.22199317108973948,\n",
       " D: 0.8425353908637134,\n",
       " k: 1.381e-23,\n",
       " d: 3e-05,\n",
       " N_r: 25.0,\n",
       " c_t: 1163.0,\n",
       " mt: 834.0923619355436,\n",
       " theta_r: 7.240051950514114e-07,\n",
       " r: 9.257e+19,\n",
       " m_s: 1175.0,\n",
       " Y: 147446553993000.12,\n",
       " T: 5785.0,\n",
       " Q: 1.1,\n",
       " N_p: 609.9019513592784,\n",
       " R: 696000000.0,\n",
       " h: 6.626e-34,\n",
       " Q_E: 0.5,\n",
       " I_sp: 450.0,\n",
       " H_lambda: 83469365924049.05,\n",
       " tau: 1.0,\n",
       " rho: 1.22,\n",
       " tau_0: 0.75,\n",
       " C_D: 29901.750922401738,\n",
       " alpha: 50000.0,\n",
       " c: 299800000.0,\n",
       " T_i: 0.24562386349748425,\n",
       " SNR: 10.0,\n",
       " L: 2.0216948181732074e+25,\n",
       " f: 18.834621256267813,\n",
       " lambda: 5e-07,\n",
       " C_T: 1000000.0,\n",
       " H_i: 2.4231097136920646e-16,\n",
       " m_i: 834.1343500237302}"
      ]
     },
     "execution_count": 24,
     "metadata": {},
     "output_type": "execute_result"
    }
   ],
   "source": [
    "out"
   ]
  },
  {
   "cell_type": "code",
   "execution_count": null,
   "id": "ef63b545",
   "metadata": {},
   "outputs": [],
   "source": []
  }
 ],
 "metadata": {
  "kernelspec": {
   "display_name": "mdo",
   "language": "python",
   "name": "mdo"
  },
  "language_info": {
   "codemirror_mode": {
    "name": "ipython",
    "version": 3
   },
   "file_extension": ".py",
   "mimetype": "text/x-python",
   "name": "python",
   "nbconvert_exporter": "python",
   "pygments_lexer": "ipython3",
   "version": "3.8.10"
  }
 },
 "nbformat": 4,
 "nbformat_minor": 5
}
