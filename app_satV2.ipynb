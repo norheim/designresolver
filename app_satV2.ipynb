{
 "cells": [
  {
   "cell_type": "code",
   "execution_count": 34,
   "id": "be29e181-532c-4cab-964d-c4acae654188",
   "metadata": {
    "execution": {
     "iopub.execute_input": "2022-02-02T13:11:06.000042Z",
     "iopub.status.busy": "2022-02-02T13:11:05.999046Z",
     "iopub.status.idle": "2022-02-02T13:11:06.023043Z",
     "shell.execute_reply": "2022-02-02T13:11:06.022044Z",
     "shell.execute_reply.started": "2022-02-02T13:11:06.000042Z"
    },
    "tags": []
   },
   "outputs": [],
   "source": [
    "from compute import Var, Par, Model, adda, addf, ureg, Evaluable, buildidpvars\n",
    "from compute import RefNode, SolverNode, addsolver, geteqs\n",
    "from operators import merge\n",
    "from anytree import Node\n",
    "from constants import μ, R, Q, k, c, G, H_int, ρ_int\n",
    "from representations import render_tree, digraph_repr, drawfull, tree_incidence\n",
    "from notation import graphs_from_incidence, make_acyclic, solvers_bottom_up, generate_execution, default_sequence\n",
    "from datastructures import notation_from_tree\n",
    "import numpy as np\n",
    "import sympy as sp\n",
    "import networkx as nx\n",
    "from sympy.utilities.lambdify import implemented_function\n",
    "import matplotlib.pyplot as plt"
   ]
  },
  {
   "cell_type": "markdown",
   "id": "266adce2-75d1-4106-a28c-767dbfe86e85",
   "metadata": {},
   "source": [
    "# Parameters"
   ]
  },
  {
   "cell_type": "code",
   "execution_count": 2,
   "id": "f1c212a7-9963-4b07-a6e9-7f0ea1217b52",
   "metadata": {
    "execution": {
     "iopub.execute_input": "2022-02-02T13:07:25.990575Z",
     "iopub.status.busy": "2022-02-02T13:07:25.990575Z",
     "iopub.status.idle": "2022-02-02T13:07:26.019548Z",
     "shell.execute_reply": "2022-02-02T13:07:26.017552Z",
     "shell.execute_reply.started": "2022-02-02T13:07:25.990575Z"
    },
    "tags": []
   },
   "outputs": [],
   "source": [
    "#EN = Var('EN', 10) #\n",
    "D_r = Par('D_r', 5.3, 'm')\n",
    "L = Par('L', 9.77)\n",
    "T_s = Par('T_s', 135, 'K')\n",
    "B = Par('B', 8, 'bit')\n",
    "N = Par('N', 2e3, '')\n",
    "eta = Par('eta', 0.55)\n",
    "l_v = Par('l_v', 500, 'nm')\n",
    "f = Par('f', 2.2, 'GHz')\n",
    "rho_T = Par('rho_T', 500e3, 'kg*m')\n",
    "rho_P = Par('rho_P', 0.002e-3, 'kg/J')\n",
    "P_l = Par('P_l', 12, 'W')\n",
    "m_c = Par('m_c', 0.2, 'kg')\n",
    "C_D = Par('C_D', 2.2)\n",
    "I_sp = Par('Isp', 70, 's')\n",
    "w_W = Par('w_W', 1000, 'rad/s')\n",
    "c_W = Par('c_W', 1)\n",
    "rho_M = Par('rho_M', 11.4)\n",
    "rho_P2 = Par('rho_P2', 9/0.1)\n",
    "M_B = Par('M_B', 7.96e15)\n",
    "kp = Par('kp', 0.0002)"
   ]
  },
  {
   "cell_type": "code",
   "execution_count": 16,
   "id": "c3d73208-2030-40c0-b4fb-c06eaf97a423",
   "metadata": {
    "execution": {
     "iopub.execute_input": "2022-02-02T13:08:27.120972Z",
     "iopub.status.busy": "2022-02-02T13:08:27.120972Z",
     "iopub.status.idle": "2022-02-02T13:08:27.136976Z",
     "shell.execute_reply": "2022-02-02T13:08:27.135973Z",
     "shell.execute_reply.started": "2022-02-02T13:08:27.120972Z"
    },
    "tags": []
   },
   "outputs": [],
   "source": [
    "model = Model()\n",
    "m = RefNode(name='/', ref=model)"
   ]
  },
  {
   "cell_type": "markdown",
   "id": "63f99e9e-8233-4653-ac64-fedde7039039",
   "metadata": {},
   "source": [
    "### 1. Orbit"
   ]
  },
  {
   "cell_type": "code",
   "execution_count": 17,
   "id": "66dc9e13-a363-46d9-a9d8-0c40a9410eac",
   "metadata": {
    "execution": {
     "iopub.execute_input": "2022-02-02T13:08:27.669974Z",
     "iopub.status.busy": "2022-02-02T13:08:27.668982Z",
     "iopub.status.idle": "2022-02-02T13:08:27.716972Z",
     "shell.execute_reply": "2022-02-02T13:08:27.714972Z",
     "shell.execute_reply.started": "2022-02-02T13:08:27.669974Z"
    },
    "tags": []
   },
   "outputs": [],
   "source": [
    "h = Var('h', 400, 'km') #\n",
    "a = adda(m, 'a', h + R, unit='km')\n",
    "T = adda(m, 'T', 2*np.pi*(a**3/μ)**0.5, unit='min')\n",
    "g = adda(m, 'g', 1/np.pi*sp.acos(R/a), unit='')\n",
    "d = adda(m, 'd', g+0.5)\n",
    "r = adda(m, 'r', (h**2+2*R*h)**0.5)"
   ]
  },
  {
   "cell_type": "code",
   "execution_count": 18,
   "id": "096bcec6-cdab-455a-bb7e-777509b8b9c0",
   "metadata": {
    "execution": {
     "iopub.execute_input": "2022-02-02T13:08:28.240974Z",
     "iopub.status.busy": "2022-02-02T13:08:28.239977Z",
     "iopub.status.idle": "2022-02-02T13:08:28.251975Z",
     "shell.execute_reply": "2022-02-02T13:08:28.250971Z",
     "shell.execute_reply.started": "2022-02-02T13:08:28.240974Z"
    },
    "tags": []
   },
   "outputs": [],
   "source": [
    "orbit = addsolver(m, geteqs(m, [a,T,g,d,r]), [], name='orbit')"
   ]
  },
  {
   "cell_type": "markdown",
   "id": "62fbeca4-cfd3-44c4-9b11-fb74ec1f0b59",
   "metadata": {},
   "source": [
    "### 2. Power"
   ]
  },
  {
   "cell_type": "code",
   "execution_count": 19,
   "id": "72ede195-4fe3-4d48-9740-e7657f94f92a",
   "metadata": {
    "execution": {
     "iopub.execute_input": "2022-02-02T13:08:38.313821Z",
     "iopub.status.busy": "2022-02-02T13:08:38.312821Z",
     "iopub.status.idle": "2022-02-02T13:08:38.357823Z",
     "shell.execute_reply": "2022-02-02T13:08:38.355821Z",
     "shell.execute_reply.started": "2022-02-02T13:08:38.313821Z"
    },
    "tags": []
   },
   "outputs": [],
   "source": [
    "eta_A = Par('eta_A', 0.3)\n",
    "rho_A = Par('rho_A', 10, 'kg/m^2') #\n",
    "#ρ_A, η_A = ρ_Ai[solar], η_Ai[solar]\n",
    "A = Var('A', 0.05, unit='m^2')\n",
    "m_A = adda(m, 'm_A', rho_A*A)\n",
    "P_c = adda(m, 'P_c', d*A*Q*eta_A, unit='W')\n",
    "P_T = adda(m, 'P_T', P_c-P_l) #hack\n",
    "E_b = adda(m, 'E_b', P_c*T/d)\n",
    "rho_b = Par('rho_b', 0.002, 'kg/kJ')\n",
    "m_b = adda(m, 'm_b', rho_b*E_b, unit='kg')\n",
    "#E_b, m_b = E_bi[bat], m_bi[bat]"
   ]
  },
  {
   "cell_type": "code",
   "execution_count": 20,
   "id": "1b1aaa20-3ecc-405e-830b-5eb82301260a",
   "metadata": {
    "execution": {
     "iopub.execute_input": "2022-02-02T13:08:38.931822Z",
     "iopub.status.busy": "2022-02-02T13:08:38.930823Z",
     "iopub.status.idle": "2022-02-02T13:08:38.946821Z",
     "shell.execute_reply": "2022-02-02T13:08:38.945821Z",
     "shell.execute_reply.started": "2022-02-02T13:08:38.931822Z"
    },
    "tags": []
   },
   "outputs": [],
   "source": [
    "power = addsolver(m, geteqs(m, [m_A, P_c, P_T, E_b, m_b]), [], name='power')"
   ]
  },
  {
   "cell_type": "markdown",
   "id": "51855427-b668-42eb-beb4-cf99cfeff29b",
   "metadata": {},
   "source": [
    "### 3. Payload"
   ]
  },
  {
   "cell_type": "code",
   "execution_count": 21,
   "id": "47b296c5-43f3-4575-aafc-16548576cd88",
   "metadata": {
    "execution": {
     "iopub.execute_input": "2022-02-02T13:08:49.502444Z",
     "iopub.status.busy": "2022-02-02T13:08:49.501459Z",
     "iopub.status.idle": "2022-02-02T13:08:49.548444Z",
     "shell.execute_reply": "2022-02-02T13:08:49.547451Z",
     "shell.execute_reply.started": "2022-02-02T13:08:49.502444Z"
    },
    "tags": []
   },
   "outputs": [],
   "source": [
    "X_r = Var('X_r', 5, 'm')\n",
    "D_p = adda(m, 'D_p', 1.22*l_v*h/X_r)\n",
    "D = adda(m, 'D', 2*np.pi*R*B*N/X_r, unit='MB')\n",
    "rho_p = Par('rho_p', 2, 'kg/m^1.5') \n",
    "#D_p, m_p = D_pi[payload], m_pi[payload]\n",
    "m_p = adda(m, 'm_p', rho_p*D_p**1.5, unit='kg')"
   ]
  },
  {
   "cell_type": "code",
   "execution_count": 22,
   "id": "827027db-fe00-4f17-9c5b-fc323673b0c1",
   "metadata": {
    "execution": {
     "iopub.execute_input": "2022-02-02T13:08:52.346445Z",
     "iopub.status.busy": "2022-02-02T13:08:52.344447Z",
     "iopub.status.idle": "2022-02-02T13:08:52.360445Z",
     "shell.execute_reply": "2022-02-02T13:08:52.359444Z",
     "shell.execute_reply.started": "2022-02-02T13:08:52.346445Z"
    },
    "tags": []
   },
   "outputs": [],
   "source": [
    "payload = addsolver(m, geteqs(m, [D_p, D, m_p]), [], name='payload')"
   ]
  },
  {
   "cell_type": "markdown",
   "id": "87cbc428-558e-449a-88c5-2f6d0b802cce",
   "metadata": {},
   "source": [
    "### 4. Comms"
   ]
  },
  {
   "cell_type": "code",
   "execution_count": 23,
   "id": "38eecc0d-6b88-4d03-8221-457d361a5052",
   "metadata": {
    "execution": {
     "iopub.execute_input": "2022-02-02T13:09:10.933663Z",
     "iopub.status.busy": "2022-02-02T13:09:10.932663Z",
     "iopub.status.idle": "2022-02-02T13:09:11.034662Z",
     "shell.execute_reply": "2022-02-02T13:09:11.033659Z",
     "shell.execute_reply.started": "2022-02-02T13:09:10.933663Z"
    },
    "tags": []
   },
   "outputs": [],
   "source": [
    "dBtoLinear = lambda db: 10**(db/10)\n",
    "b = adda(m, 'b', D/T, unit='MB/s')\n",
    "λ_c = adda(m, 'l_c', c/f, unit='cm')\n",
    "G_T = Par('G_T', dBtoLinear(16.5), '')\n",
    "D_T = adda(m, 'D_T', λ_c*(G_T/eta)**0.5/np.pi, unit='m')\n",
    "rho_T = Par('rho_T', 0.2, 'kg/m^1.5')\n",
    "m_T = adda(m, 'm_T', rho_T*D_T**1.5, unit='kg')\n",
    "#m_T, P_T, G_T = m_Ti[comms], P_Ti[comms], G_Ti[comms]\n",
    "G_r = adda(m, 'G_r', eta*(np.pi*D_r/λ_c)**2)\n",
    "EN = adda(m, 'EN', P_T*G_r*G_T/(L*k*T_s*b)*(λ_c/(4*np.pi*r))**2, unit='')"
   ]
  },
  {
   "cell_type": "code",
   "execution_count": 24,
   "id": "a6e2e8e7-9227-4e62-bc03-8d6801afc7a7",
   "metadata": {
    "execution": {
     "iopub.execute_input": "2022-02-02T13:09:11.578662Z",
     "iopub.status.busy": "2022-02-02T13:09:11.577663Z",
     "iopub.status.idle": "2022-02-02T13:09:11.594666Z",
     "shell.execute_reply": "2022-02-02T13:09:11.593660Z",
     "shell.execute_reply.started": "2022-02-02T13:09:11.578662Z"
    },
    "tags": []
   },
   "outputs": [],
   "source": [
    "comms = addsolver(m, geteqs(m, [b, λ_c, D_T, m_T, G_r, EN]), [], name='payload')"
   ]
  },
  {
   "cell_type": "markdown",
   "id": "9d167992-9c25-4a84-9e66-fd9428ae0e3d",
   "metadata": {},
   "source": [
    "### 5. Mass and struct"
   ]
  },
  {
   "cell_type": "code",
   "execution_count": 25,
   "id": "31b1491a-8558-4ee6-a3c1-0ea6f7aa0a19",
   "metadata": {
    "execution": {
     "iopub.execute_input": "2022-02-02T13:09:14.617546Z",
     "iopub.status.busy": "2022-02-02T13:09:14.616543Z",
     "iopub.status.idle": "2022-02-02T13:09:14.627544Z",
     "shell.execute_reply": "2022-02-02T13:09:14.626543Z",
     "shell.execute_reply.started": "2022-02-02T13:09:14.617546Z"
    },
    "tags": []
   },
   "outputs": [],
   "source": [
    "mt = Var('mt', unit='kg')\n",
    "eta_S = Par('eta_S', 0.2)\n",
    "m_s = adda(m, 'm_s', eta_S*mt)\n",
    "adda(m, mt, m_T+m_p+m_b+m_A+m_s)"
   ]
  },
  {
   "cell_type": "code",
   "execution_count": 26,
   "id": "268607d8-ba96-43ac-a703-c03a04df4c2c",
   "metadata": {
    "execution": {
     "iopub.execute_input": "2022-02-02T13:09:24.139240Z",
     "iopub.status.busy": "2022-02-02T13:09:24.138242Z",
     "iopub.status.idle": "2022-02-02T13:09:24.159242Z",
     "shell.execute_reply": "2022-02-02T13:09:24.158240Z",
     "shell.execute_reply.started": "2022-02-02T13:09:24.139240Z"
    },
    "tags": []
   },
   "outputs": [],
   "source": [
    "struct = addsolver(m, geteqs(m, [m_s]), [], name='struct')\n",
    "mass = addsolver(m, geteqs(m, [mt]), [], name='mass')"
   ]
  },
  {
   "cell_type": "markdown",
   "id": "b5363441-ceca-4883-a9a1-ffd6ef5448b7",
   "metadata": {},
   "source": [
    "### 6. Propulsion"
   ]
  },
  {
   "cell_type": "code",
   "execution_count": 27,
   "id": "36319b2c-b387-4bd7-8833-c8bb838a42a8",
   "metadata": {
    "execution": {
     "iopub.execute_input": "2022-02-02T13:09:25.827998Z",
     "iopub.status.busy": "2022-02-02T13:09:25.826002Z",
     "iopub.status.idle": "2022-02-02T13:09:25.845994Z",
     "shell.execute_reply": "2022-02-02T13:09:25.844997Z",
     "shell.execute_reply.started": "2022-02-02T13:09:25.827998Z"
    },
    "tags": []
   },
   "outputs": [],
   "source": [
    "H = implemented_function(sp.Function('H'), H_int)\n",
    "rho = implemented_function(sp.Function('rho'),  ρ_int)"
   ]
  },
  {
   "cell_type": "code",
   "execution_count": 28,
   "id": "235ea58f-2d31-41af-954f-bc24b1fb1f21",
   "metadata": {
    "execution": {
     "iopub.execute_input": "2022-02-02T13:09:30.608969Z",
     "iopub.status.busy": "2022-02-02T13:09:30.607969Z",
     "iopub.status.idle": "2022-02-02T13:09:30.689949Z",
     "shell.execute_reply": "2022-02-02T13:09:30.688949Z",
     "shell.execute_reply.started": "2022-02-02T13:09:30.608969Z"
    },
    "tags": []
   },
   "outputs": [],
   "source": [
    "L_min = Var('L_min', 5, 'yr')\n",
    "m_pr = Var('m_pr', 0.5, unit='kg')\n",
    "Hval = adda(m, 'H_val', H(h*1e3), unit='m', forceunit=True)\n",
    "rhoval= adda(m, 'rho_val', rho(h*1e3), unit='kg/m**3', forceunit=True)\n",
    "Ln = adda(m, 'L_n', Hval*mt/(2*np.pi*C_D*A*rhoval*a**2)*T, unit='yr')\n",
    "Lp = adda(m, 'L_p', m_pr*I_sp*G*a/(0.5*C_D*A*rhoval*μ), unit='yr')\n",
    "Lt = adda(m, 'L_t', Ln+Lp, unit='yr')"
   ]
  },
  {
   "cell_type": "code",
   "execution_count": 29,
   "id": "cb34f71c-125f-41dd-aea9-1b40fc774611",
   "metadata": {
    "execution": {
     "iopub.execute_input": "2022-02-02T13:09:33.274632Z",
     "iopub.status.busy": "2022-02-02T13:09:33.273630Z",
     "iopub.status.idle": "2022-02-02T13:09:33.293617Z",
     "shell.execute_reply": "2022-02-02T13:09:33.291620Z",
     "shell.execute_reply.started": "2022-02-02T13:09:33.274632Z"
    },
    "tags": []
   },
   "outputs": [],
   "source": [
    "prop = addsolver(m, geteqs(m, [Hval, rhoval, Ln, Lp, Lt]), [], name='prop')"
   ]
  },
  {
   "cell_type": "code",
   "execution_count": 30,
   "id": "c4996937-e0b8-430f-aee9-4d270a312a33",
   "metadata": {
    "execution": {
     "iopub.execute_input": "2022-02-02T13:09:34.413187Z",
     "iopub.status.busy": "2022-02-02T13:09:34.413187Z",
     "iopub.status.idle": "2022-02-02T13:09:34.439182Z",
     "shell.execute_reply": "2022-02-02T13:09:34.437181Z",
     "shell.execute_reply.started": "2022-02-02T13:09:34.413187Z"
    },
    "tags": []
   },
   "outputs": [
    {
     "name": "stdout",
     "output_type": "stream",
     "text": [
      "/               \n",
      "├── orbit       \n",
      "│   ├── f_{0}   \n",
      "│   ├── f_{1}   \n",
      "│   ├── f_{2}   \n",
      "│   ├── f_{3}   \n",
      "│   └── f_{4}   \n",
      "├── power       \n",
      "│   ├── f_{5}   \n",
      "│   ├── f_{6}   \n",
      "│   ├── f_{7}   \n",
      "│   ├── f_{8}   \n",
      "│   └── f_{9}   \n",
      "├── payload     \n",
      "│   ├── f_{10}  \n",
      "│   ├── f_{11}  \n",
      "│   └── f_{12}  \n",
      "├── payload     \n",
      "│   ├── f_{13}  \n",
      "│   ├── f_{14}  \n",
      "│   ├── f_{15}  \n",
      "│   ├── f_{16}  \n",
      "│   ├── f_{17}  \n",
      "│   └── f_{18}  \n",
      "├── struct      \n",
      "│   └── f_{19}  \n",
      "├── mass        \n",
      "│   └── f_{20}  \n",
      "└── prop        \n",
      "    ├── f_{21}  \n",
      "    ├── f_{22}  \n",
      "    ├── f_{23}  \n",
      "    ├── f_{24}  \n",
      "    └── f_{25}  \n"
     ]
    }
   ],
   "source": [
    "render_tree(m)"
   ]
  },
  {
   "cell_type": "code",
   "execution_count": 36,
   "id": "5b347d67-1ff7-4b75-bcaf-9483154274e9",
   "metadata": {
    "execution": {
     "iopub.execute_input": "2022-02-02T13:11:26.429359Z",
     "iopub.status.busy": "2022-02-02T13:11:26.428359Z",
     "iopub.status.idle": "2022-02-02T13:11:26.449357Z",
     "shell.execute_reply": "2022-02-02T13:11:26.448383Z",
     "shell.execute_reply.started": "2022-02-02T13:11:26.429359Z"
    }
   },
   "outputs": [],
   "source": [
    "eqs, eqv, dout, dins = model.data_structures()"
   ]
  },
  {
   "cell_type": "code",
   "execution_count": 33,
   "id": "c6f5640f-06e4-4ba4-b1ff-c188f27db84b",
   "metadata": {
    "execution": {
     "iopub.execute_input": "2022-02-02T13:10:59.308541Z",
     "iopub.status.busy": "2022-02-02T13:10:59.307540Z",
     "iopub.status.idle": "2022-02-02T13:10:59.322540Z",
     "shell.execute_reply": "2022-02-02T13:10:59.321537Z",
     "shell.execute_reply.started": "2022-02-02T13:10:59.308541Z"
    },
    "tags": []
   },
   "outputs": [],
   "source": [
    "sequence_m = default_sequence(m)"
   ]
  },
  {
   "cell_type": "code",
   "execution_count": 37,
   "id": "103f9654-4960-4b39-b89d-869c994baf7b",
   "metadata": {
    "execution": {
     "iopub.execute_input": "2022-02-02T13:11:28.444486Z",
     "iopub.status.busy": "2022-02-02T13:11:28.444486Z",
     "iopub.status.idle": "2022-02-02T13:11:37.088268Z",
     "shell.execute_reply": "2022-02-02T13:11:37.087268Z",
     "shell.execute_reply.started": "2022-02-02T13:11:28.444486Z"
    },
    "tags": []
   },
   "outputs": [
    {
     "data": {
      "image/png": "[encoded data removed]",
      "text/plain": [
       "<Figure size 720x720 with 1 Axes>"
      ]
     },
     "metadata": {
      "needs_background": "light"
     },
     "output_type": "display_data"
    }
   ],
   "source": [
    "fig, ax = tree_incidence(m, eqv, model.outset, sequence_m, figsize=(10,10));\n",
    "plt.sca(ax)\n",
    "plt.savefig('figures/sat.png', dpi=600, bbox_inches='tight')"
   ]
  },
  {
   "cell_type": "markdown",
   "id": "bc3cffd1-f948-45ec-9b60-e1ac57512d99",
   "metadata": {},
   "source": [
    "### Tree & Graph"
   ]
  },
  {
   "cell_type": "code",
   "execution_count": 18,
   "id": "aec3d81c-dd81-4612-8649-6c098bf5ad02",
   "metadata": {
    "execution": {
     "iopub.execute_input": "2022-01-31T21:03:17.614678Z",
     "iopub.status.busy": "2022-01-31T21:03:17.613668Z",
     "iopub.status.idle": "2022-01-31T21:03:17.802667Z",
     "shell.execute_reply": "2022-01-31T21:03:17.801665Z",
     "shell.execute_reply.started": "2022-01-31T21:03:17.614678Z"
    },
    "tags": []
   },
   "outputs": [],
   "source": [
    "G, graphs = graphs_from_incidence(m, from_root=True)"
   ]
  },
  {
   "cell_type": "code",
   "execution_count": 19,
   "id": "6d5c113e-b5e4-43cc-be51-579a11d0bd27",
   "metadata": {
    "execution": {
     "iopub.execute_input": "2022-01-31T21:03:17.810666Z",
     "iopub.status.busy": "2022-01-31T21:03:17.810666Z",
     "iopub.status.idle": "2022-01-31T21:03:21.919668Z",
     "shell.execute_reply": "2022-01-31T21:03:21.917665Z",
     "shell.execute_reply.started": "2022-01-31T21:03:17.810666Z"
    },
    "tags": []
   },
   "outputs": [
    {
     "data": {
      "image/png": "[encoded data removed]",
      "text/plain": [
       "<Figure size 720x720 with 1 Axes>"
      ]
     },
     "metadata": {},
     "output_type": "display_data"
    }
   ],
   "source": [
    "drawfull(graphs[m], model.eqs, figsize=(10,10))"
   ]
  },
  {
   "cell_type": "code",
   "execution_count": 20,
   "id": "20d8472b-f2f8-45d8-b03e-3914df6c57ab",
   "metadata": {
    "execution": {
     "iopub.execute_input": "2022-01-31T21:03:28.196670Z",
     "iopub.status.busy": "2022-01-31T21:03:28.195666Z",
     "iopub.status.idle": "2022-01-31T21:03:28.233667Z",
     "shell.execute_reply": "2022-01-31T21:03:28.232665Z",
     "shell.execute_reply.started": "2022-01-31T21:03:28.196670Z"
    },
    "tags": []
   },
   "outputs": [],
   "source": [
    "m2 = make_acyclic(m, graphs)"
   ]
  },
  {
   "cell_type": "code",
   "execution_count": 21,
   "id": "9c5dc26d-9d89-4a89-9649-aa335bca43d3",
   "metadata": {
    "execution": {
     "iopub.execute_input": "2022-01-31T21:03:28.954670Z",
     "iopub.status.busy": "2022-01-31T21:03:28.954670Z",
     "iopub.status.idle": "2022-01-31T21:03:28.972671Z",
     "shell.execute_reply": "2022-01-31T21:03:28.971666Z",
     "shell.execute_reply.started": "2022-01-31T21:03:28.954670Z"
    },
    "tags": []
   },
   "outputs": [
    {
     "name": "stdout",
     "output_type": "stream",
     "text": [
      "/               \n",
      "├── orbit, SOLVER\n",
      "│   ├── f_0, INTER\n",
      "│   ├── f_4, INTER\n",
      "│   ├── f_1, INTER\n",
      "│   ├── f_2, INTER\n",
      "│   └── f_3, INTER\n",
      "├── power, SOLVER\n",
      "│   ├── f_5, INTER\n",
      "│   ├── f_6, INTER\n",
      "│   ├── f_7, INTER\n",
      "│   ├── f_8, INTER\n",
      "│   └── f_9, INTER\n",
      "├── payload, SOLVER\n",
      "│   ├── f_10, INTER\n",
      "│   ├── f_11, INTER\n",
      "│   └── f_12, INTER\n",
      "├── payload, SOLVER\n",
      "│   ├── f_13, INTER\n",
      "│   ├── f_14, INTER\n",
      "│   ├── f_15, INTER\n",
      "│   ├── f_17, INTER\n",
      "│   ├── f_16, INTER\n",
      "│   └── f_18, INTER\n",
      "├── prop, SOLVER\n",
      "│   ├── f_21, INTER\n",
      "│   ├── f_22, INTER\n",
      "│   ├── f_23, INTER\n",
      "│   ├── f_24, INTER\n",
      "│   └── f_25, INTER\n",
      "└── ., SOLVER   \n",
      "    ├── f_19, END\n",
      "    └── f_20, END\n"
     ]
    }
   ],
   "source": [
    "render_tree(m2, display_type=True)"
   ]
  },
  {
   "cell_type": "code",
   "execution_count": 29,
   "id": "7fb361d2-cea2-49e8-83e5-6ec7a7561e35",
   "metadata": {
    "execution": {
     "iopub.execute_input": "2022-01-31T21:06:25.374729Z",
     "iopub.status.busy": "2022-01-31T21:06:25.373730Z",
     "iopub.status.idle": "2022-01-31T21:06:25.380726Z",
     "shell.execute_reply": "2022-01-31T21:06:25.379722Z",
     "shell.execute_reply.started": "2022-01-31T21:06:25.374729Z"
    },
    "tags": []
   },
   "outputs": [],
   "source": [
    "notation = notation_from_tree(m2, model.outset)"
   ]
  },
  {
   "cell_type": "markdown",
   "id": "82de8fb7-2ea2-4fdd-8794-f7821ca09f79",
   "metadata": {},
   "source": [
    "# Execution order"
   ]
  },
  {
   "cell_type": "code",
   "execution_count": 33,
   "id": "7117004d-1eba-4d09-be05-3ad9b6b01499",
   "metadata": {
    "execution": {
     "iopub.execute_input": "2022-01-31T21:07:47.817259Z",
     "iopub.status.busy": "2022-01-31T21:07:47.816252Z",
     "iopub.status.idle": "2022-01-31T21:07:47.846251Z",
     "shell.execute_reply": "2022-01-31T21:07:47.845252Z",
     "shell.execute_reply.started": "2022-01-31T21:07:47.817259Z"
    },
    "tags": []
   },
   "outputs": [
    {
     "data": {
      "text/plain": [
       "[('exp', 0, a, 'f_0'),\n",
       " ('exp', 0, r, 'f_4'),\n",
       " ('exp', 0, T, 'f_1'),\n",
       " ('exp', 0, g, 'f_2'),\n",
       " ('exp', 0, d, 'f_3'),\n",
       " ('exp', 0, m_A, 'f_5'),\n",
       " ('exp', 0, P_c, 'f_6'),\n",
       " ('exp', 0, P_T, 'f_7'),\n",
       " ('exp', 0, E_b, 'f_8'),\n",
       " ('exp', 0, m_b, 'f_9'),\n",
       " ('exp', 0, D_p, 'f_10'),\n",
       " ('exp', 0, D, 'f_11'),\n",
       " ('exp', 0, m_p, 'f_12'),\n",
       " ('exp', 0, b, 'f_13'),\n",
       " ('exp', 0, l_c, 'f_14'),\n",
       " ('exp', 0, D_T, 'f_15'),\n",
       " ('exp', 0, G_r, 'f_17'),\n",
       " ('exp', 0, m_T, 'f_16'),\n",
       " ('exp', 0, EN, 'f_18'),\n",
       " ('exp', 0, H_val, 'f_21'),\n",
       " ('exp', 0, rho_val, 'f_22'),\n",
       " ('exp', 0, L_n, 'f_23'),\n",
       " ('exp', 0, L_p, 'f_24'),\n",
       " ('exp', 0, L_t, 'f_25'),\n",
       " ('solver', 0, 1, [m_s, mt], ['f_19', 'f_20'])]"
      ]
     },
     "execution_count": 33,
     "metadata": {},
     "output_type": "execute_result"
    }
   ],
   "source": [
    "execorder = generate_execution([notation])\n",
    "execorder"
   ]
  }
 ],
 "metadata": {
  "kernelspec": {
   "display_name": "mdo",
   "language": "python",
   "name": "mdo"
  },
  "language_info": {
   "codemirror_mode": {
    "name": "ipython",
    "version": 3
   },
   "file_extension": ".py",
   "mimetype": "text/x-python",
   "name": "python",
   "nbconvert_exporter": "python",
   "pygments_lexer": "ipython3",
   "version": "3.8.12"
  }
 },
 "nbformat": 4,
 "nbformat_minor": 5
}
