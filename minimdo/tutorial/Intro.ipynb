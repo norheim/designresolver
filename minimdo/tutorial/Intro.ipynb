{
 "cells": [
  {
   "cell_type": "markdown",
   "id": "bc39673f-2f4b-4136-ab9d-acf88d437a64",
   "metadata": {},
   "source": [
    "# As a calculator"
   ]
  },
  {
   "cell_type": "code",
   "execution_count": 1,
   "id": "2ded1189-7f09-4bdf-9a86-d35de77a6e5d",
   "metadata": {
    "execution": {
     "iopub.execute_input": "2022-07-16T23:25:50.979393Z",
     "iopub.status.busy": "2022-07-16T23:25:50.979393Z",
     "iopub.status.idle": "2022-07-16T23:25:53.183548Z",
     "shell.execute_reply": "2022-07-16T23:25:53.183548Z",
     "shell.execute_reply.started": "2022-07-16T23:25:50.979393Z"
    },
    "tags": []
   },
   "outputs": [],
   "source": [
    "from compute import Var, Par\n",
    "from datastructures.api import Model, adda"
   ]
  },
  {
   "cell_type": "code",
   "execution_count": 2,
   "id": "15116f17-149f-454a-828d-5dcde107e4fd",
   "metadata": {
    "execution": {
     "iopub.execute_input": "2022-07-16T23:25:53.185533Z",
     "iopub.status.busy": "2022-07-16T23:25:53.184532Z",
     "iopub.status.idle": "2022-07-16T23:25:53.199611Z",
     "shell.execute_reply": "2022-07-16T23:25:53.198727Z",
     "shell.execute_reply.started": "2022-07-16T23:25:53.185533Z"
    },
    "tags": []
   },
   "outputs": [],
   "source": [
    "m = Var('m', unit='kg')\n",
    "g = Par('g', 9.81, unit='m/s^2')"
   ]
  },
  {
   "cell_type": "code",
   "execution_count": 3,
   "id": "707f1cf4-b68e-4f82-92c9-3eb4d6ccb42e",
   "metadata": {
    "execution": {
     "iopub.execute_input": "2022-07-16T23:25:53.201325Z",
     "iopub.status.busy": "2022-07-16T23:25:53.200319Z",
     "iopub.status.idle": "2022-07-16T23:25:53.309102Z",
     "shell.execute_reply": "2022-07-16T23:25:53.308199Z",
     "shell.execute_reply.started": "2022-07-16T23:25:53.201325Z"
    },
    "tags": []
   },
   "outputs": [
    {
     "data": {
      "text/latex": [
       "$F=9.81\\ \\mathrm{kg} \\cdot \\mathrm{m}/\\mathrm{s}^{2}\\ (m=1 )$"
      ],
      "text/plain": [
       "F"
      ]
     },
     "execution_count": 3,
     "metadata": {},
     "output_type": "execute_result"
    }
   ],
   "source": [
    "model = Model()\n",
    "F = adda(model.root, 'F', m*g)\n",
    "F"
   ]
  },
  {
   "cell_type": "markdown",
   "id": "57f2670d-6b3e-45b1-9ca4-86e004658ffa",
   "metadata": {
    "execution": {
     "iopub.execute_input": "2022-07-16T22:49:16.883757Z",
     "iopub.status.busy": "2022-07-16T22:49:16.883362Z",
     "iopub.status.idle": "2022-07-16T22:49:16.896603Z",
     "shell.execute_reply": "2022-07-16T22:49:16.896136Z",
     "shell.execute_reply.started": "2022-07-16T22:49:16.883757Z"
    },
    "tags": []
   },
   "source": [
    "Note that if we update the value of m, the value of F does not change; thing of variables as temporary storage. This means that we could have out of synch information like below, if we manually set the value of F."
   ]
  },
  {
   "cell_type": "code",
   "execution_count": 4,
   "id": "02e68c00-701b-401a-8623-ac8a9dc23fd0",
   "metadata": {
    "execution": {
     "iopub.execute_input": "2022-07-16T23:25:53.310102Z",
     "iopub.status.busy": "2022-07-16T23:25:53.310102Z",
     "iopub.status.idle": "2022-07-16T23:25:53.325024Z",
     "shell.execute_reply": "2022-07-16T23:25:53.323828Z",
     "shell.execute_reply.started": "2022-07-16T23:25:53.310102Z"
    },
    "tags": []
   },
   "outputs": [],
   "source": [
    "F.varval = 20"
   ]
  },
  {
   "cell_type": "code",
   "execution_count": 5,
   "id": "afa8720c-e416-4064-9e4e-f659246e4a01",
   "metadata": {
    "execution": {
     "iopub.execute_input": "2022-07-16T23:25:53.326388Z",
     "iopub.status.busy": "2022-07-16T23:25:53.325955Z",
     "iopub.status.idle": "2022-07-16T23:25:53.339349Z",
     "shell.execute_reply": "2022-07-16T23:25:53.339349Z",
     "shell.execute_reply.started": "2022-07-16T23:25:53.326388Z"
    },
    "tags": []
   },
   "outputs": [
    {
     "data": {
      "text/latex": [
       "$F=20\\ \\mathrm{kg} \\cdot \\mathrm{m}/\\mathrm{s}^{2}\\ (m=1 )$"
      ],
      "text/plain": [
       "F"
      ]
     },
     "execution_count": 5,
     "metadata": {},
     "output_type": "execute_result"
    }
   ],
   "source": [
    "F"
   ]
  },
  {
   "cell_type": "markdown",
   "id": "3b2478a2-2222-4f55-961c-c8c923e29954",
   "metadata": {},
   "source": [
    "# Visualizing the incidence structure"
   ]
  },
  {
   "cell_type": "code",
   "execution_count": 8,
   "id": "f5466afb-c822-4b53-9576-ba49b2b97ef0",
   "metadata": {
    "execution": {
     "iopub.execute_input": "2022-07-16T23:26:19.930007Z",
     "iopub.status.busy": "2022-07-16T23:26:19.930007Z",
     "iopub.status.idle": "2022-07-16T23:26:19.950575Z",
     "shell.execute_reply": "2022-07-16T23:26:19.949662Z",
     "shell.execute_reply.started": "2022-07-16T23:26:19.930007Z"
    },
    "tags": []
   },
   "outputs": [],
   "source": [
    "from datastructures.rendering import render_incidence"
   ]
  },
  {
   "cell_type": "code",
   "execution_count": 12,
   "id": "b8e3919d-433e-43c9-9f65-527b0481d102",
   "metadata": {
    "execution": {
     "iopub.execute_input": "2022-07-16T23:26:47.431775Z",
     "iopub.status.busy": "2022-07-16T23:26:47.431775Z",
     "iopub.status.idle": "2022-07-16T23:26:47.497455Z",
     "shell.execute_reply": "2022-07-16T23:26:47.496515Z",
     "shell.execute_reply.started": "2022-07-16T23:26:47.431775Z"
    },
    "tags": []
   },
   "outputs": [],
   "source": [
    "model = Model()\n",
    "m = model.root\n",
    "Pbus = Var('P_{bus}')\n",
    "A = Var('A', 0.5)\n",
    "Pcomms = adda(m, 'P_{comms}', 483.3*A-Pbus)\n",
    "adda(m, Pbus, 10*Pcomms**0.5)\n",
    "h = Var('h', 400e3)\n",
    "D = Var('D', 0.1)\n",
    "R = adda(m, 'R', Pcomms*D**2/h**2*1e18/(8e6))\n",
    "C = adda(m, 'C', 2500*D**2+12000*(A+1)+100*Pbus)"
   ]
  },
  {
   "cell_type": "code",
   "execution_count": 13,
   "id": "dff742c5-3a5f-4ce6-a068-6d0c6e2d8c68",
   "metadata": {
    "execution": {
     "iopub.execute_input": "2022-07-16T23:26:48.267986Z",
     "iopub.status.busy": "2022-07-16T23:26:48.267986Z",
     "iopub.status.idle": "2022-07-16T23:26:48.280398Z",
     "shell.execute_reply": "2022-07-16T23:26:48.279498Z",
     "shell.execute_reply.started": "2022-07-16T23:26:48.267986Z"
    },
    "tags": []
   },
   "outputs": [],
   "source": [
    "edges, tree = model.generate_formulation()"
   ]
  },
  {
   "cell_type": "code",
   "execution_count": 14,
   "id": "eb73d144-e312-4b02-b2c5-5836610c1b4a",
   "metadata": {
    "execution": {
     "iopub.execute_input": "2022-07-16T23:26:49.462918Z",
     "iopub.status.busy": "2022-07-16T23:26:49.461919Z",
     "iopub.status.idle": "2022-07-16T23:26:49.672257Z",
     "shell.execute_reply": "2022-07-16T23:26:49.671243Z",
     "shell.execute_reply.started": "2022-07-16T23:26:49.462918Z"
    },
    "tags": []
   },
   "outputs": [
    {
     "data": {
      "image/png": "[encoded data removed]",
      "text/plain": [
       "<Figure size 432x288 with 1 Axes>"
      ]
     },
     "metadata": {
      "needs_background": "light"
     },
     "output_type": "display_data"
    }
   ],
   "source": [
    "render_incidence(edges, tree, rawvariablename=True);"
   ]
  }
 ],
 "metadata": {
  "kernelspec": {
   "display_name": "Python [conda env:minimdo]",
   "language": "python",
   "name": "conda-env-minimdo-py"
  },
  "language_info": {
   "codemirror_mode": {
    "name": "ipython",
    "version": 3
   },
   "file_extension": ".py",
   "mimetype": "text/x-python",
   "name": "python",
   "nbconvert_exporter": "python",
   "pygments_lexer": "ipython3",
   "version": "3.9.12"
  }
 },
 "nbformat": 4,
 "nbformat_minor": 5
}
