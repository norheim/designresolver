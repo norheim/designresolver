{
 "cells": [
  {
   "cell_type": "code",
   "execution_count": 1,
   "id": "ebd7b293-ea5f-484d-8f7f-b69db7a802dd",
   "metadata": {
    "execution": {
     "iopub.execute_input": "2022-06-30T02:08:35.094524Z",
     "iopub.status.busy": "2022-06-30T02:08:35.094524Z",
     "iopub.status.idle": "2022-06-30T02:08:36.949254Z",
     "shell.execute_reply": "2022-06-30T02:08:36.949254Z",
     "shell.execute_reply.started": "2022-06-30T02:08:35.094524Z"
    },
    "tags": []
   },
   "outputs": [],
   "source": [
    "from datastructures.graphutils import draw_graph_graphical_props, flat_graph_formulation, Node, VAR, COMP, SOLVER, merge_edges, sources\n",
    "from datastructures.graphutils import nested_sources, all_variables, edges_to_Ein_Eout, namefromid\n",
    "from datastructures.nestedgraph import build_typedgraph\n",
    "from compute import Var\n",
    "from datastructures.api import Model, adda, addf, addsolver, setsolvefor, addobj, addineq\n",
    "from datastructures.execution import edges_from_components, generate_components_and_residuals, Component\n",
    "from datastructures.operators import sort_scc, reorder_merge_solve\n",
    "from datastructures.nestedgraph import build_typedgraph\n",
    "from datastructures.workflow import get_f, implicit_comp_name, SOLVE, OPT, EQ, NEQ, OBJ, IMPL, EXPL, order_from_tree, ENDCOMP, default_solver_options\n",
    "from datastructures.workflow import order_from_tree, default_solver_options, mdao_workflow\n",
    "from datastructures.workflow_mdao import mdao_workflow_with_args\n",
    "from datastructures.assembly import architecture_mappings, buildidpvars, build_archi, root_sources\n",
    "from datastructures.runpipeline import nestedform_to_mdao"
   ]
  },
  {
   "cell_type": "code",
   "execution_count": 2,
   "id": "6d843366-c73a-4ecb-b5c8-7867b791b175",
   "metadata": {
    "execution": {
     "iopub.execute_input": "2022-06-30T02:08:36.949254Z",
     "iopub.status.busy": "2022-06-30T02:08:36.949254Z",
     "iopub.status.idle": "2022-06-30T02:08:36.965456Z",
     "shell.execute_reply": "2022-06-30T02:08:36.965456Z",
     "shell.execute_reply.started": "2022-06-30T02:08:36.949254Z"
    },
    "tags": []
   },
   "outputs": [],
   "source": [
    "from datastructures.nestedgraph import flat_graph_formulation\n",
    "from datastructures.graphutils import root_solver"
   ]
  },
  {
   "cell_type": "code",
   "execution_count": 3,
   "id": "323008fa-9f0f-4c38-b4c0-651500c7d780",
   "metadata": {
    "execution": {
     "iopub.execute_input": "2022-06-30T02:08:36.967690Z",
     "iopub.status.busy": "2022-06-30T02:08:36.967690Z",
     "iopub.status.idle": "2022-06-30T02:08:36.999287Z",
     "shell.execute_reply": "2022-06-30T02:08:36.999287Z",
     "shell.execute_reply.started": "2022-06-30T02:08:36.967690Z"
    },
    "tags": []
   },
   "outputs": [],
   "source": [
    "import openmdao.api as om"
   ]
  },
  {
   "cell_type": "code",
   "execution_count": 4,
   "id": "c6dacddb-2870-432b-8bc2-219b520338c8",
   "metadata": {
    "execution": {
     "iopub.execute_input": "2022-06-30T02:08:36.999287Z",
     "iopub.status.busy": "2022-06-30T02:08:36.999287Z",
     "iopub.status.idle": "2022-06-30T02:08:37.135581Z",
     "shell.execute_reply": "2022-06-30T02:08:37.135581Z",
     "shell.execute_reply.started": "2022-06-30T02:08:36.999287Z"
    },
    "tags": []
   },
   "outputs": [],
   "source": [
    "model = Model()\n",
    "m = model.root\n",
    "x = Var('x')\n",
    "a = adda(m, 'a', x+2)\n",
    "#a = Var('a', 1)\n",
    "adda(m, x, 3*a-10);"
   ]
  },
  {
   "cell_type": "code",
   "execution_count": 5,
   "id": "a16d8c5c-f50a-4808-a39f-f20450eb173e",
   "metadata": {
    "execution": {
     "iopub.execute_input": "2022-06-30T02:08:37.135581Z",
     "iopub.status.busy": "2022-06-30T02:08:37.135581Z",
     "iopub.status.idle": "2022-06-30T02:08:37.151076Z",
     "shell.execute_reply": "2022-06-30T02:08:37.151076Z",
     "shell.execute_reply.started": "2022-06-30T02:08:37.135581Z"
    },
    "tags": []
   },
   "outputs": [],
   "source": [
    "edges = edges_from_components(model.components)\n",
    "tree = model.Ftree, model.Stree, model.Vtree"
   ]
  },
  {
   "cell_type": "code",
   "execution_count": 6,
   "id": "c7176c0b-dcdf-4294-b427-17904942d609",
   "metadata": {
    "execution": {
     "iopub.execute_input": "2022-06-30T02:08:37.419616Z",
     "iopub.status.busy": "2022-06-30T02:08:37.419616Z",
     "iopub.status.idle": "2022-06-30T02:08:37.427972Z",
     "shell.execute_reply": "2022-06-30T02:08:37.427972Z",
     "shell.execute_reply.started": "2022-06-30T02:08:37.419616Z"
    },
    "tags": []
   },
   "outputs": [
    {
     "data": {
      "text/plain": [
       "({0: ('x',), 1: ('a',)}, {0: ('a',), 1: ('x',)}, {})"
      ]
     },
     "execution_count": 6,
     "metadata": {},
     "output_type": "execute_result"
    }
   ],
   "source": [
    "edges"
   ]
  },
  {
   "cell_type": "code",
   "execution_count": 7,
   "id": "c1bc9f15-7c24-4543-ab5e-6c3f9e40c904",
   "metadata": {
    "execution": {
     "iopub.execute_input": "2022-06-30T02:08:37.689132Z",
     "iopub.status.busy": "2022-06-30T02:08:37.689132Z",
     "iopub.status.idle": "2022-06-30T02:08:37.712735Z",
     "shell.execute_reply": "2022-06-30T02:08:37.712735Z",
     "shell.execute_reply.started": "2022-06-30T02:08:37.689132Z"
    },
    "tags": []
   },
   "outputs": [],
   "source": [
    "G = flat_graph_formulation(*edges)\n",
    "#merge_order = sort_scc(G)\n",
    "#merge_parent = root_solver(tree) # all merged components will have this solver as the parent\n",
    "#ordered_edges, ordered_tree = reorder_merge_solve(edges, tree, merge_order, merge_parent, True)"
   ]
  },
  {
   "cell_type": "code",
   "execution_count": 12,
   "id": "41beefd0-8cf1-47a6-a971-7121da40104a",
   "metadata": {
    "execution": {
     "iopub.execute_input": "2022-06-30T02:10:05.104260Z",
     "iopub.status.busy": "2022-06-30T02:10:05.104260Z",
     "iopub.status.idle": "2022-06-30T02:10:05.126417Z",
     "shell.execute_reply": "2022-06-30T02:10:05.125413Z",
     "shell.execute_reply.started": "2022-06-30T02:10:05.104260Z"
    }
   },
   "outputs": [],
   "source": [
    "ordered_edges = edges\n",
    "ordered_tree = tree"
   ]
  },
  {
   "cell_type": "code",
   "execution_count": 13,
   "id": "a0427ade-f19a-4893-b96a-f31974e5541d",
   "metadata": {
    "execution": {
     "iopub.execute_input": "2022-06-30T02:10:06.182960Z",
     "iopub.status.busy": "2022-06-30T02:10:06.182960Z",
     "iopub.status.idle": "2022-06-30T02:10:06.206929Z",
     "shell.execute_reply": "2022-06-30T02:10:06.205499Z",
     "shell.execute_reply.started": "2022-06-30T02:10:06.182960Z"
    },
    "tags": []
   },
   "outputs": [],
   "source": [
    "comp_options = model.comp_options\n",
    "var_options = model.var_options\n",
    "solvers_options = model.solvers_options"
   ]
  },
  {
   "cell_type": "code",
   "execution_count": 14,
   "id": "8e1f4f19-31c9-43ec-b9d7-a39b0904716b",
   "metadata": {
    "execution": {
     "iopub.execute_input": "2022-06-30T02:10:06.398856Z",
     "iopub.status.busy": "2022-06-30T02:10:06.398856Z",
     "iopub.status.idle": "2022-06-30T02:10:06.426688Z",
     "shell.execute_reply": "2022-06-30T02:10:06.425365Z",
     "shell.execute_reply.started": "2022-06-30T02:10:06.398856Z"
    },
    "tags": []
   },
   "outputs": [],
   "source": [
    "nodetyperepr = {VAR: '{}', COMP: 'f_{}', SOLVER: 's_{}'}\n",
    "namingfunc = namefromid(nodetyperepr)\n",
    "sequence = order_from_tree(ordered_tree[0], ordered_tree[1], ordered_edges[1])\n",
    "solvers_options = default_solver_options(ordered_tree, solvers_options)\n",
    "wf = mdao_workflow(sequence, solvers_options, comp_options, var_options)\n",
    "components = model.components\n",
    "lookup_f = get_f(components, ordered_edges)\n",
    "wfmdao = mdao_workflow_with_args(wf, lookup_f, namingfunc)"
   ]
  },
  {
   "cell_type": "code",
   "execution_count": 15,
   "id": "130abb55-23ae-4834-bfab-379a60245d39",
   "metadata": {
    "execution": {
     "iopub.execute_input": "2022-06-30T02:10:13.221495Z",
     "iopub.status.busy": "2022-06-30T02:10:13.221165Z",
     "iopub.status.idle": "2022-06-30T02:10:13.231314Z",
     "shell.execute_reply": "2022-06-30T02:10:13.229992Z",
     "shell.execute_reply.started": "2022-06-30T02:10:13.221495Z"
    },
    "tags": []
   },
   "outputs": [],
   "source": [
    "from datastructures.nestedgraph import sources, edges_to_Ein_Eout"
   ]
  },
  {
   "cell_type": "code",
   "execution_count": 16,
   "id": "04f1804a-6723-4fed-925d-bf1fa41c051f",
   "metadata": {
    "execution": {
     "iopub.execute_input": "2022-06-30T02:10:14.084908Z",
     "iopub.status.busy": "2022-06-30T02:10:14.084908Z",
     "iopub.status.idle": "2022-06-30T02:10:14.125829Z",
     "shell.execute_reply": "2022-06-30T02:10:14.124782Z",
     "shell.execute_reply.started": "2022-06-30T02:10:14.084908Z"
    },
    "tags": []
   },
   "outputs": [
    {
     "ename": "RuntimeError",
     "evalue": "'inp' <class IndepVarComp>: No outputs (independent variables) have been declared. They must either be declared during instantiation or by calling add_output or add_discrete_output afterwards.",
     "output_type": "error",
     "traceback": [
      "\u001b[1;31m---------------------------------------------------------------------------\u001b[0m",
      "\u001b[1;31mRuntimeError\u001b[0m                              Traceback (most recent call last)",
      "\u001b[1;32m~\\AppData\\Local\\Temp/ipykernel_26752/3716416220.py\u001b[0m in \u001b[0;36m<module>\u001b[1;34m\u001b[0m\n\u001b[1;32m----> 1\u001b[1;33m \u001b[0mprob\u001b[0m\u001b[1;33m,\u001b[0m \u001b[0mmdao_in\u001b[0m\u001b[1;33m,\u001b[0m \u001b[0mgroups\u001b[0m \u001b[1;33m=\u001b[0m \u001b[0mbuild_archi\u001b[0m\u001b[1;33m(\u001b[0m\u001b[0mordered_edges\u001b[0m\u001b[1;33m,\u001b[0m \u001b[0mordered_tree\u001b[0m\u001b[1;33m,\u001b[0m \u001b[0mwfmdao\u001b[0m\u001b[1;33m,\u001b[0m \u001b[0mnamingfunc\u001b[0m\u001b[1;33m,\u001b[0m \u001b[0mmodel\u001b[0m\u001b[1;33m.\u001b[0m\u001b[0midmapping\u001b[0m\u001b[1;33m)\u001b[0m\u001b[1;33m\u001b[0m\u001b[1;33m\u001b[0m\u001b[0m\n\u001b[0m",
      "\u001b[1;32mc:\\users\\johan\\github\\designresolver\\minimdo\\datastructures\\assembly.py\u001b[0m in \u001b[0;36mbuild_archi\u001b[1;34m(edges, tree, workflow, namingfunc, idmapping)\u001b[0m\n\u001b[0;32m     43\u001b[0m \u001b[1;33m\u001b[0m\u001b[0m\n\u001b[0;32m     44\u001b[0m     \u001b[1;31m#mdo_model.nonlinear_solver = om.NewtonSolver(solve_subsystems=True)\u001b[0m\u001b[1;33m\u001b[0m\u001b[1;33m\u001b[0m\u001b[0m\n\u001b[1;32m---> 45\u001b[1;33m     \u001b[0mprob\u001b[0m\u001b[1;33m.\u001b[0m\u001b[0msetup\u001b[0m\u001b[1;33m(\u001b[0m\u001b[1;33m)\u001b[0m\u001b[1;33m;\u001b[0m\u001b[1;33m\u001b[0m\u001b[1;33m\u001b[0m\u001b[0m\n\u001b[0m\u001b[0;32m     46\u001b[0m     \u001b[1;32mreturn\u001b[0m \u001b[0mprob\u001b[0m\u001b[1;33m,\u001b[0m \u001b[0mmdao_in_ids\u001b[0m\u001b[1;33m,\u001b[0m \u001b[0mgroups\u001b[0m\u001b[1;33m\u001b[0m\u001b[1;33m\u001b[0m\u001b[0m\n",
      "\u001b[1;32m~\\miniconda3\\envs\\mdo\\lib\\site-packages\\openmdao\\core\\problem.py\u001b[0m in \u001b[0;36msetup\u001b[1;34m(self, check, logger, mode, force_alloc_complex, distributed_vector_class, local_vector_class, derivatives)\u001b[0m\n\u001b[0;32m    969\u001b[0m             \u001b[1;34m'mode'\u001b[0m\u001b[1;33m:\u001b[0m \u001b[0mmode\u001b[0m\u001b[1;33m,\u001b[0m  \u001b[1;31m# mode (derivative direction) set by the user.  'auto' by default\u001b[0m\u001b[1;33m\u001b[0m\u001b[1;33m\u001b[0m\u001b[0m\n\u001b[0;32m    970\u001b[0m         }\n\u001b[1;32m--> 971\u001b[1;33m         \u001b[0mmodel\u001b[0m\u001b[1;33m.\u001b[0m\u001b[0m_setup\u001b[0m\u001b[1;33m(\u001b[0m\u001b[0mmodel_comm\u001b[0m\u001b[1;33m,\u001b[0m \u001b[0mmode\u001b[0m\u001b[1;33m,\u001b[0m \u001b[0mself\u001b[0m\u001b[1;33m.\u001b[0m\u001b[0m_metadata\u001b[0m\u001b[1;33m)\u001b[0m\u001b[1;33m\u001b[0m\u001b[1;33m\u001b[0m\u001b[0m\n\u001b[0m\u001b[0;32m    972\u001b[0m \u001b[1;33m\u001b[0m\u001b[0m\n\u001b[0;32m    973\u001b[0m         \u001b[1;31m# set static mode back to True in all systems in this Problem\u001b[0m\u001b[1;33m\u001b[0m\u001b[1;33m\u001b[0m\u001b[0m\n",
      "\u001b[1;32m~\\miniconda3\\envs\\mdo\\lib\\site-packages\\openmdao\\core\\system.py\u001b[0m in \u001b[0;36m_setup\u001b[1;34m(self, comm, mode, prob_meta)\u001b[0m\n\u001b[0;32m    840\u001b[0m             \u001b[0mprob_meta\u001b[0m\u001b[1;33m[\u001b[0m\u001b[1;34m'config_info'\u001b[0m\u001b[1;33m]\u001b[0m \u001b[1;33m=\u001b[0m \u001b[1;32mNone\u001b[0m\u001b[1;33m\u001b[0m\u001b[1;33m\u001b[0m\u001b[0m\n\u001b[0;32m    841\u001b[0m \u001b[1;33m\u001b[0m\u001b[0m\n\u001b[1;32m--> 842\u001b[1;33m         \u001b[0mself\u001b[0m\u001b[1;33m.\u001b[0m\u001b[0m_configure_check\u001b[0m\u001b[1;33m(\u001b[0m\u001b[1;33m)\u001b[0m\u001b[1;33m\u001b[0m\u001b[1;33m\u001b[0m\u001b[0m\n\u001b[0m\u001b[0;32m    843\u001b[0m \u001b[1;33m\u001b[0m\u001b[0m\n\u001b[0;32m    844\u001b[0m         \u001b[0mself\u001b[0m\u001b[1;33m.\u001b[0m\u001b[0m_setup_var_data\u001b[0m\u001b[1;33m(\u001b[0m\u001b[1;33m)\u001b[0m\u001b[1;33m\u001b[0m\u001b[1;33m\u001b[0m\u001b[0m\n",
      "\u001b[1;32m~\\miniconda3\\envs\\mdo\\lib\\site-packages\\openmdao\\core\\group.py\u001b[0m in \u001b[0;36m_configure_check\u001b[1;34m(self)\u001b[0m\n\u001b[0;32m    653\u001b[0m         \"\"\"\n\u001b[0;32m    654\u001b[0m         \u001b[1;32mfor\u001b[0m \u001b[0msubsys\u001b[0m \u001b[1;32min\u001b[0m \u001b[0mself\u001b[0m\u001b[1;33m.\u001b[0m\u001b[0m_subsystems_myproc\u001b[0m\u001b[1;33m:\u001b[0m\u001b[1;33m\u001b[0m\u001b[1;33m\u001b[0m\u001b[0m\n\u001b[1;32m--> 655\u001b[1;33m             \u001b[0msubsys\u001b[0m\u001b[1;33m.\u001b[0m\u001b[0m_configure_check\u001b[0m\u001b[1;33m(\u001b[0m\u001b[1;33m)\u001b[0m\u001b[1;33m\u001b[0m\u001b[1;33m\u001b[0m\u001b[0m\n\u001b[0m\u001b[0;32m    656\u001b[0m \u001b[1;33m\u001b[0m\u001b[0m\n\u001b[0;32m    657\u001b[0m         \u001b[0msuper\u001b[0m\u001b[1;33m(\u001b[0m\u001b[1;33m)\u001b[0m\u001b[1;33m.\u001b[0m\u001b[0m_configure_check\u001b[0m\u001b[1;33m(\u001b[0m\u001b[1;33m)\u001b[0m\u001b[1;33m\u001b[0m\u001b[1;33m\u001b[0m\u001b[0m\n",
      "\u001b[1;32m~\\miniconda3\\envs\\mdo\\lib\\site-packages\\openmdao\\core\\indepvarcomp.py\u001b[0m in \u001b[0;36m_configure_check\u001b[1;34m(self)\u001b[0m\n\u001b[0;32m    104\u001b[0m         \"\"\"\n\u001b[0;32m    105\u001b[0m         \u001b[1;32mif\u001b[0m \u001b[0mlen\u001b[0m\u001b[1;33m(\u001b[0m\u001b[0mself\u001b[0m\u001b[1;33m.\u001b[0m\u001b[0m_static_var_rel2meta\u001b[0m\u001b[1;33m)\u001b[0m \u001b[1;33m+\u001b[0m \u001b[0mlen\u001b[0m\u001b[1;33m(\u001b[0m\u001b[0mself\u001b[0m\u001b[1;33m.\u001b[0m\u001b[0m_var_rel2meta\u001b[0m\u001b[1;33m)\u001b[0m \u001b[1;33m==\u001b[0m \u001b[1;36m0\u001b[0m\u001b[1;33m:\u001b[0m\u001b[1;33m\u001b[0m\u001b[1;33m\u001b[0m\u001b[0m\n\u001b[1;32m--> 106\u001b[1;33m             raise RuntimeError(f\"{self.msginfo}: No outputs (independent variables) have been \"\n\u001b[0m\u001b[0;32m    107\u001b[0m                                \u001b[1;34m\"declared. They must either be declared during instantiation or \"\u001b[0m\u001b[1;33m\u001b[0m\u001b[1;33m\u001b[0m\u001b[0m\n\u001b[0;32m    108\u001b[0m                                \"by calling add_output or add_discrete_output afterwards.\")\n",
      "\u001b[1;31mRuntimeError\u001b[0m: 'inp' <class IndepVarComp>: No outputs (independent variables) have been declared. They must either be declared during instantiation or by calling add_output or add_discrete_output afterwards."
     ]
    }
   ],
   "source": [
    "prob, mdao_in, groups = build_archi(ordered_edges, ordered_tree, wfmdao, namingfunc, model.idmapping)"
   ]
  },
  {
   "cell_type": "code",
   "execution_count": 12,
   "id": "37bbd1f3-6a3c-41ba-b6f5-623c33cabdc5",
   "metadata": {
    "execution": {
     "iopub.execute_input": "2022-06-29T18:08:32.463843Z",
     "iopub.status.busy": "2022-06-29T18:08:32.463843Z",
     "iopub.status.idle": "2022-06-29T18:08:33.122322Z",
     "shell.execute_reply": "2022-06-29T18:08:33.122322Z",
     "shell.execute_reply.started": "2022-06-29T18:08:32.463843Z"
    },
    "tags": []
   },
   "outputs": [
    {
     "name": "stdout",
     "output_type": "stream",
     "text": [
      "('a',)\n",
      "<openmdao.jacobians.dictionary_jacobian.DictionaryJacobian object at 0x0000011CFC747820>\n",
      "('f',)\n",
      "<openmdao.jacobians.dictionary_jacobian.DictionaryJacobian object at 0x0000011CFC747790>\n",
      "('obj2',)\n",
      "<openmdao.jacobians.dictionary_jacobian.DictionaryJacobian object at 0x0000011CFC747760>\n",
      "('a',)\n",
      "<openmdao.jacobians.dictionary_jacobian.DictionaryJacobian object at 0x0000011CFC747820>\n",
      "('f',)\n",
      "<openmdao.jacobians.dictionary_jacobian.DictionaryJacobian object at 0x0000011CFC747790>\n",
      "('obj2',)\n",
      "<openmdao.jacobians.dictionary_jacobian.DictionaryJacobian object at 0x0000011CFC747760>\n",
      "Optimization terminated successfully    (Exit mode 0)\n",
      "            Current function value: [-2.]\n",
      "            Iterations: 2\n",
      "            Function evaluations: 3\n",
      "            Gradient evaluations: 2\n",
      "Optimization Complete\n",
      "-----------------------------------\n"
     ]
    }
   ],
   "source": [
    "prob.run_driver();"
   ]
  },
  {
   "cell_type": "code",
   "execution_count": null,
   "id": "1f175000-3f09-4dab-b8ff-ef038b266e23",
   "metadata": {},
   "outputs": [],
   "source": []
  }
 ],
 "metadata": {
  "kernelspec": {
   "display_name": "Python [conda env:mdo]",
   "language": "python",
   "name": "conda-env-mdo-py"
  },
  "language_info": {
   "codemirror_mode": {
    "name": "ipython",
    "version": 3
   },
   "file_extension": ".py",
   "mimetype": "text/x-python",
   "name": "python",
   "nbconvert_exporter": "python",
   "pygments_lexer": "ipython3",
   "version": "3.9.13"
  }
 },
 "nbformat": 4,
 "nbformat_minor": 5
}
