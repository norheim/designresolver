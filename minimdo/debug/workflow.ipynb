{
 "cells": [
  {
   "cell_type": "code",
   "execution_count": 1,
   "id": "85dd716d-dfb7-45d4-adf9-2d249f45205c",
   "metadata": {
    "execution": {
     "iopub.execute_input": "2022-06-28T18:54:23.651653Z",
     "iopub.status.busy": "2022-06-28T18:54:23.651653Z",
     "iopub.status.idle": "2022-06-28T18:54:23.666673Z",
     "shell.execute_reply": "2022-06-28T18:54:23.665664Z",
     "shell.execute_reply.started": "2022-06-28T18:54:23.651653Z"
    }
   },
   "outputs": [],
   "source": [
    "from collections import OrderedDict"
   ]
  },
  {
   "cell_type": "code",
   "execution_count": 6,
   "id": "ff4662d1-1200-4e4a-af1d-a97b4df558e3",
   "metadata": {
    "execution": {
     "iopub.execute_input": "2022-06-28T18:56:20.212180Z",
     "iopub.status.busy": "2022-06-28T18:56:20.211179Z",
     "iopub.status.idle": "2022-06-28T18:56:22.131080Z",
     "shell.execute_reply": "2022-06-28T18:56:22.130180Z",
     "shell.execute_reply.started": "2022-06-28T18:56:20.212180Z"
    },
    "tags": []
   },
   "outputs": [],
   "source": [
    "from datastructures.workflow import SOLVER, COMP, ENDCOMP, path\n",
    "from datastructures.graphutils import end_components, solver_children\n",
    "from collections import defaultdict"
   ]
  },
  {
   "cell_type": "markdown",
   "id": "1de1c073-6687-408e-86a2-2fc23fe32122",
   "metadata": {},
   "source": [
    "# Mock order from tree"
   ]
  },
  {
   "cell_type": "code",
   "execution_count": 3,
   "id": "f73aed7b-51bc-492b-a093-3471bc99fe1a",
   "metadata": {
    "execution": {
     "iopub.execute_input": "2022-06-28T18:55:47.364884Z",
     "iopub.status.busy": "2022-06-28T18:55:47.364884Z",
     "iopub.status.idle": "2022-06-28T18:55:47.383082Z",
     "shell.execute_reply": "2022-06-28T18:55:47.382966Z",
     "shell.execute_reply.started": "2022-06-28T18:55:47.364884Z"
    },
    "tags": []
   },
   "outputs": [],
   "source": [
    "Ftree = OrderedDict([(0,0), (1,1),(2,2),(3,2),(4,1,),(5,1),(6,1),(7,0),(8,0)])\n",
    "Stree = {2:1, 1:0}\n",
    "endcomponents = [0,2,5,7]\n",
    "Eout = {comp: (None,) if comp in [0,2,5,7] else (99,) for comp,_ in Ftree.items()}"
   ]
  },
  {
   "cell_type": "code",
   "execution_count": 4,
   "id": "0e18daba-3332-4ac0-8de0-652a71935883",
   "metadata": {
    "execution": {
     "iopub.execute_input": "2022-06-28T18:55:55.026590Z",
     "iopub.status.busy": "2022-06-28T18:55:55.026088Z",
     "iopub.status.idle": "2022-06-28T18:55:55.034590Z",
     "shell.execute_reply": "2022-06-28T18:55:55.034590Z",
     "shell.execute_reply.started": "2022-06-28T18:55:55.026590Z"
    }
   },
   "outputs": [],
   "source": [
    "includesolver = False\n",
    "mergeendcomp = False"
   ]
  },
  {
   "cell_type": "code",
   "execution_count": 7,
   "id": "a3f2e803-1c56-4daf-be6e-60c520f2e86b",
   "metadata": {
    "execution": {
     "iopub.execute_input": "2022-06-28T18:56:54.479671Z",
     "iopub.status.busy": "2022-06-28T18:56:54.479671Z",
     "iopub.status.idle": "2022-06-28T18:56:54.497697Z",
     "shell.execute_reply": "2022-06-28T18:56:54.497697Z",
     "shell.execute_reply.started": "2022-06-28T18:56:54.479671Z"
    },
    "tags": []
   },
   "outputs": [],
   "source": [
    "endcomps = {key: None in var for key,var in Eout.items()}\n",
    "visited_solvers = set()\n",
    "sequence = []\n",
    "endcompqueue = defaultdict(list)\n",
    "queue = list(Ftree.items())\n",
    "while queue:\n",
    "    component, parent = queue.pop(0)\n",
    "    ancestors = path(Stree, parent, visited_solvers)\n",
    "    reverse_ancestors = ancestors[::-1]\n",
    "    visited_solvers = visited_solvers.union(reverse_ancestors)\n",
    "    if includesolver:\n",
    "        sequence += [(SOLVER, solver, Stree.get(solver,None)) for solver in reverse_ancestors]\n",
    "    if endcomps[component]:\n",
    "        endcompqueue[parent].append(component)\n",
    "    else:\n",
    "        sequence += [(COMP, component, parent)]\n",
    "    remainingcomps = len([elt for elt in solver_children(dict(queue), parent)])\n",
    "    lastchildcomp = remainingcomps==0\n",
    "    if lastchildcomp:\n",
    "        if mergeendcomp:\n",
    "            sequence += [(ENDCOMP, endcompqueue[parent], parent)]\n",
    "        else:\n",
    "            sequence += [(ENDCOMP, endcomp, parent) for endcomp in endcompqueue[parent]]"
   ]
  },
  {
   "cell_type": "code",
   "execution_count": 8,
   "id": "4e71e314-ba42-4a71-86d5-dc97417492f0",
   "metadata": {
    "execution": {
     "iopub.execute_input": "2022-06-28T18:57:01.216969Z",
     "iopub.status.busy": "2022-06-28T18:57:01.215969Z",
     "iopub.status.idle": "2022-06-28T18:57:01.235313Z",
     "shell.execute_reply": "2022-06-28T18:57:01.235313Z",
     "shell.execute_reply.started": "2022-06-28T18:57:01.216969Z"
    }
   },
   "outputs": [
    {
     "data": {
      "text/plain": [
       "[(COMP, 1, 1),\n",
       " (COMP, 3, 2),\n",
       " (ENDCOMP, 2, 2),\n",
       " (COMP, 4, 1),\n",
       " (COMP, 6, 1),\n",
       " (ENDCOMP, 5, 1),\n",
       " (COMP, 8, 0),\n",
       " (ENDCOMP, 0, 0),\n",
       " (ENDCOMP, 7, 0)]"
      ]
     },
     "execution_count": 8,
     "metadata": {},
     "output_type": "execute_result"
    }
   ],
   "source": [
    "sequence"
   ]
  },
  {
   "cell_type": "code",
   "execution_count": null,
   "id": "dd527e20-3fca-44a6-81dc-0137c6c46f5a",
   "metadata": {},
   "outputs": [],
   "source": []
  }
 ],
 "metadata": {
  "kernelspec": {
   "display_name": "Python [conda env:mdo]",
   "language": "python",
   "name": "conda-env-mdo-py"
  },
  "language_info": {
   "codemirror_mode": {
    "name": "ipython",
    "version": 3
   },
   "file_extension": ".py",
   "mimetype": "text/x-python",
   "name": "python",
   "nbconvert_exporter": "python",
   "pygments_lexer": "ipython3",
   "version": "3.9.7"
  }
 },
 "nbformat": 4,
 "nbformat_minor": 5
}
