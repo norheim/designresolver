{
 "cells": [
  {
   "cell_type": "code",
   "execution_count": 38,
   "id": "55a4c3b0-dc0f-4d7c-a85c-2d94b753eef7",
   "metadata": {
    "execution": {
     "iopub.execute_input": "2022-07-12T13:50:00.230270Z",
     "iopub.status.busy": "2022-07-12T13:50:00.230270Z",
     "iopub.status.idle": "2022-07-12T13:50:00.234991Z",
     "shell.execute_reply": "2022-07-12T13:50:00.234471Z",
     "shell.execute_reply.started": "2022-07-12T13:50:00.230270Z"
    },
    "tags": []
   },
   "outputs": [],
   "source": [
    "import pandas as pd\n",
    "import seaborn as sns\n",
    "sns.set_theme(style=\"darkgrid\")\n",
    "import matplotlib.pyplot as plt\n",
    "import numpy as np"
   ]
  },
  {
   "cell_type": "code",
   "execution_count": 25,
   "id": "27a01a1b-9531-4abf-8749-4aa1cab8d84e",
   "metadata": {
    "execution": {
     "iopub.execute_input": "2022-07-12T13:47:52.647892Z",
     "iopub.status.busy": "2022-07-12T13:47:52.646882Z",
     "iopub.status.idle": "2022-07-12T13:47:52.668911Z",
     "shell.execute_reply": "2022-07-12T13:47:52.667765Z",
     "shell.execute_reply.started": "2022-07-12T13:47:52.647892Z"
    },
    "tags": []
   },
   "outputs": [],
   "source": [
    "df = pd.read_csv('full_experiments.csv', index_col=0)"
   ]
  },
  {
   "cell_type": "code",
   "execution_count": 135,
   "id": "e332d15e-e641-41ba-9a3d-b433a5ee1548",
   "metadata": {
    "execution": {
     "iopub.execute_input": "2022-07-12T14:54:39.558816Z",
     "iopub.status.busy": "2022-07-12T14:54:39.557817Z",
     "iopub.status.idle": "2022-07-12T14:54:39.566111Z",
     "shell.execute_reply": "2022-07-12T14:54:39.565817Z",
     "shell.execute_reply.started": "2022-07-12T14:54:39.558816Z"
    },
    "tags": []
   },
   "outputs": [],
   "source": [
    "dft = df#df.iloc[350:400]\n",
    "sparseL1 = dft[(dft['m']<=50) & (dft['sparsity']==.5)]#& (dft['ncoeff']==0.1) dft['sparsity']==1.) &"
   ]
  },
  {
   "cell_type": "code",
   "execution_count": 136,
   "id": "919759be-e6ee-4647-9a1e-f3c284f4e70c",
   "metadata": {
    "execution": {
     "iopub.execute_input": "2022-07-12T14:54:40.519636Z",
     "iopub.status.busy": "2022-07-12T14:54:40.519636Z",
     "iopub.status.idle": "2022-07-12T14:54:40.531179Z",
     "shell.execute_reply": "2022-07-12T14:54:40.530672Z",
     "shell.execute_reply.started": "2022-07-12T14:54:40.519636Z"
    },
    "tags": []
   },
   "outputs": [],
   "source": [
    "#sns.color_palette(\"binary\")"
   ]
  },
  {
   "cell_type": "code",
   "execution_count": 137,
   "id": "5bfa6065-46ca-44d9-9ea5-37dafa862c83",
   "metadata": {
    "execution": {
     "iopub.execute_input": "2022-07-12T14:54:41.040434Z",
     "iopub.status.busy": "2022-07-12T14:54:41.039039Z",
     "iopub.status.idle": "2022-07-12T14:54:41.047583Z",
     "shell.execute_reply": "2022-07-12T14:54:41.047097Z",
     "shell.execute_reply.started": "2022-07-12T14:54:41.040040Z"
    },
    "tags": []
   },
   "outputs": [],
   "source": [
    "plt.rcParams['text.usetex'] = False"
   ]
  },
  {
   "cell_type": "code",
   "execution_count": 138,
   "id": "77d9a739-4421-437d-9fd0-862fc028003d",
   "metadata": {
    "execution": {
     "iopub.execute_input": "2022-07-12T14:54:42.672561Z",
     "iopub.status.busy": "2022-07-12T14:54:42.671540Z",
     "iopub.status.idle": "2022-07-12T14:54:43.151521Z",
     "shell.execute_reply": "2022-07-12T14:54:43.150736Z",
     "shell.execute_reply.started": "2022-07-12T14:54:42.672561Z"
    },
    "tags": []
   },
   "outputs": [
    {
     "data": {
      "image/png": "[encoded data removed]",
      "text/plain": [
       "<Figure size 360x360 with 1 Axes>"
      ]
     },
     "metadata": {},
     "output_type": "display_data"
    }
   ],
   "source": [
    "#df[['ncoeff', 'sparsity']].apply(tuple, axis=1)\n",
    "#plt.style.use('grayscale')\n",
    "#fig, ax = plt.subplots()\n",
    "runs = [\n",
    "    (None,\"timetear\",'mintear_time.png',[10,20,30,50]),\n",
    "    (\"ncoeff\",\"timescc\",'minscc_time.png',[10,20,30]),\n",
    "    (\"ncoeff\",\"timeguess\",'minassign_time.png',[10,20,30]),\n",
    "]\n",
    "hue,y,filename,xticks = runs[0]\n",
    "sns.set(font_scale = 2)\n",
    "g = sns.relplot(data=sparseL1, x=\"m\",  y=y, col=\"sparsity\", hue=hue, palette=\"colorblind\", kind=\"line\");\n",
    "g = (g.set_axis_labels(\"\\# of components\",\"time (s)\")).set(xticks=(xticks))\n",
    "#g.set(yscale = 'log');\n",
    "plt.savefig(filename, dpi=200)"
   ]
  },
  {
   "cell_type": "code",
   "execution_count": 44,
   "id": "0bb89382-4f45-4a29-bcc9-23c5c16104b7",
   "metadata": {
    "execution": {
     "iopub.execute_input": "2022-07-12T13:51:31.224195Z",
     "iopub.status.busy": "2022-07-12T13:51:31.224195Z",
     "iopub.status.idle": "2022-07-12T13:51:31.234443Z",
     "shell.execute_reply": "2022-07-12T13:51:31.234291Z",
     "shell.execute_reply.started": "2022-07-12T13:51:31.224195Z"
    },
    "tags": []
   },
   "outputs": [],
   "source": [
    "sparseL1sq = sparseL1.copy()\n",
    "sparseL1sq[\"sqtimetear\"] = np.log(sparseL1sq[\"timetear\"])"
   ]
  },
  {
   "cell_type": "code",
   "execution_count": 168,
   "id": "3cf7b609-e44e-4558-847d-7d0561779718",
   "metadata": {
    "execution": {
     "iopub.execute_input": "2022-07-12T02:46:57.544542Z",
     "iopub.status.busy": "2022-07-12T02:46:57.543540Z",
     "iopub.status.idle": "2022-07-12T02:46:57.568593Z",
     "shell.execute_reply": "2022-07-12T02:46:57.567596Z",
     "shell.execute_reply.started": "2022-07-12T02:46:57.544542Z"
    },
    "tags": []
   },
   "outputs": [],
   "source": [
    "dfpost = df.copy()\n",
    "dfpost[\"deltascc\"] = dfpost['maxscc']-dfpost['minscc']\n",
    "dfpost[\"dguesstear\"] = dfpost['guess']-dfpost['minguess']"
   ]
  },
  {
   "cell_type": "code",
   "execution_count": 169,
   "id": "d6809812-d3cf-4bff-a8db-126f1481eac1",
   "metadata": {
    "execution": {
     "iopub.execute_input": "2022-07-12T02:46:57.822595Z",
     "iopub.status.busy": "2022-07-12T02:46:57.821596Z",
     "iopub.status.idle": "2022-07-12T02:46:57.834133Z",
     "shell.execute_reply": "2022-07-12T02:46:57.832600Z",
     "shell.execute_reply.started": "2022-07-12T02:46:57.822595Z"
    },
    "tags": []
   },
   "outputs": [],
   "source": [
    "dfclean = dfpost[(dfpost[\"dguesstear\"] >= 0)]\n",
    "#dfclean = dfclean[(dfclean['sparsity']==.5)]"
   ]
  },
  {
   "cell_type": "code",
   "execution_count": 170,
   "id": "5ca7feaa-a646-400b-8fbf-71aa17d70a49",
   "metadata": {
    "execution": {
     "iopub.execute_input": "2022-07-12T02:46:58.110839Z",
     "iopub.status.busy": "2022-07-12T02:46:58.109837Z",
     "iopub.status.idle": "2022-07-12T02:46:58.130443Z",
     "shell.execute_reply": "2022-07-12T02:46:58.129705Z",
     "shell.execute_reply.started": "2022-07-12T02:46:58.110839Z"
    },
    "tags": []
   },
   "outputs": [],
   "source": [
    "#dfclean[\"deltascc\"].sum()"
   ]
  },
  {
   "cell_type": "code",
   "execution_count": 194,
   "id": "34c4f9f5-ca63-4815-b3e7-bb8a4f4bec81",
   "metadata": {
    "execution": {
     "iopub.execute_input": "2022-07-12T02:54:50.948359Z",
     "iopub.status.busy": "2022-07-12T02:54:50.947360Z",
     "iopub.status.idle": "2022-07-12T02:54:51.753248Z",
     "shell.execute_reply": "2022-07-12T02:54:51.752746Z",
     "shell.execute_reply.started": "2022-07-12T02:54:50.948359Z"
    },
    "tags": []
   },
   "outputs": [
    {
     "data": {
      "image/png": "[encoded data removed]",
      "text/plain": [
       "<Figure size 576x360 with 1 Axes>"
      ]
     },
     "metadata": {},
     "output_type": "display_data"
    }
   ],
   "source": [
    "fig, ax = plt.subplots(figsize=(8,5))\n",
    "sns.histplot(data=dfclean, x=\"dguesstear\", hue=\"m\", palette=\"colorblind\", bins=20, multiple=\"stack\");\n",
    "ax.set_xlabel(r'$\\Delta$ in guess');"
   ]
  },
  {
   "cell_type": "code",
   "execution_count": 195,
   "id": "93f08a37-3203-47ae-a681-4be9df871fed",
   "metadata": {
    "execution": {
     "iopub.execute_input": "2022-07-12T02:56:37.588716Z",
     "iopub.status.busy": "2022-07-12T02:56:37.588716Z",
     "iopub.status.idle": "2022-07-12T02:56:37.685007Z",
     "shell.execute_reply": "2022-07-12T02:56:37.684007Z",
     "shell.execute_reply.started": "2022-07-12T02:56:37.588716Z"
    }
   },
   "outputs": [
    {
     "data": {
      "text/plain": [
       "<Figure size 432x288 with 0 Axes>"
      ]
     },
     "metadata": {},
     "output_type": "display_data"
    }
   ],
   "source": [
    "plt.savefig('guess_distribution.png', dpi=200)"
   ]
  },
  {
   "cell_type": "code",
   "execution_count": null,
   "id": "2a7ae5b4-6f36-41de-b5dc-37d073417757",
   "metadata": {},
   "outputs": [],
   "source": []
  }
 ],
 "metadata": {
  "kernelspec": {
   "display_name": "Python [conda env:minimdo]",
   "language": "python",
   "name": "conda-env-minimdo-py"
  },
  "language_info": {
   "codemirror_mode": {
    "name": "ipython",
    "version": 3
   },
   "file_extension": ".py",
   "mimetype": "text/x-python",
   "name": "python",
   "nbconvert_exporter": "python",
   "pygments_lexer": "ipython3",
   "version": "3.9.12"
  }
 },
 "nbformat": 4,
 "nbformat_minor": 5
}
