{
 "cells": [
  {
   "cell_type": "code",
   "execution_count": 1,
   "id": "f746ba09-d2d1-466a-8c42-d6340de8676c",
   "metadata": {
    "execution": {
     "iopub.execute_input": "2022-06-28T17:46:48.709628Z",
     "iopub.status.busy": "2022-06-28T17:46:48.709628Z",
     "iopub.status.idle": "2022-06-28T17:46:50.659781Z",
     "shell.execute_reply": "2022-06-28T17:46:50.658897Z",
     "shell.execute_reply.started": "2022-06-28T17:46:48.709628Z"
    },
    "tags": []
   },
   "outputs": [],
   "source": [
    "from testproblems import generate_random_prob\n",
    "from representations import bipartite_repr\n",
    "from inputresolver import resolve,invert_edges,getallvars,direct_eqs\n",
    "from datastructures.polycasebuilder import eqv_to_edges_tree\n",
    "from datastructures.graphutils import flat_graph_formulation, draw_graph_graphical_props, VAR, COMP, SOLVER, Node, namefromid, copy_dicts\n",
    "from datastructures.operators import sort_scc, reorder_merge_solve\n",
    "#from networkx.algorithms.bipartite import random_graph as bipartite_random_graph"
   ]
  },
  {
   "cell_type": "code",
   "execution_count": 2,
   "id": "7c688e25-1259-4e6d-8ed5-2cc7e7eb50fc",
   "metadata": {
    "execution": {
     "iopub.execute_input": "2022-06-28T17:46:50.660869Z",
     "iopub.status.busy": "2022-06-28T17:46:50.660869Z",
     "iopub.status.idle": "2022-06-28T17:46:50.675090Z",
     "shell.execute_reply": "2022-06-28T17:46:50.674089Z",
     "shell.execute_reply.started": "2022-06-28T17:46:50.660869Z"
    },
    "tags": []
   },
   "outputs": [],
   "source": [
    "from datastructures.tearing import min_max_scc, dir_graph\n",
    "from datastructures.rendering import render_incidence, incidence_artifacts\n",
    "from datastructures.graphutils import all_edges, edges_to_Ein_Eout\n",
    "from collections import OrderedDict\n",
    "import matplotlib.pyplot as plt\n",
    "from itertools import chain"
   ]
  },
  {
   "cell_type": "markdown",
   "id": "d0cc8391-0e26-47a0-8b9c-c6fcab0186f9",
   "metadata": {},
   "source": [
    "# Parameters"
   ]
  },
  {
   "cell_type": "code",
   "execution_count": 3,
   "id": "9dff8736-3bce-467d-9532-b3ec48a1001b",
   "metadata": {
    "execution": {
     "iopub.execute_input": "2022-06-28T17:46:50.676088Z",
     "iopub.status.busy": "2022-06-28T17:46:50.676088Z",
     "iopub.status.idle": "2022-06-28T17:46:50.691087Z",
     "shell.execute_reply": "2022-06-28T17:46:50.690085Z",
     "shell.execute_reply.started": "2022-06-28T17:46:50.676088Z"
    },
    "tags": []
   },
   "outputs": [],
   "source": [
    "n_eqs = 10\n",
    "n_vars = 13\n",
    "seed = 10#8 is triang#seed 10 is nice 42\n",
    "sparsity = 1.7#0.87#0.8 1.1 #1.7 1.3"
   ]
  },
  {
   "cell_type": "markdown",
   "id": "36b98b5d-9309-4cdc-a728-76f0fce461e6",
   "metadata": {},
   "source": [
    "# Setup"
   ]
  },
  {
   "cell_type": "code",
   "execution_count": 4,
   "id": "1d679176-1454-4d4d-8757-90bf205f1b6f",
   "metadata": {
    "execution": {
     "iopub.execute_input": "2022-06-28T17:46:50.692086Z",
     "iopub.status.busy": "2022-06-28T17:46:50.692086Z",
     "iopub.status.idle": "2022-06-28T17:46:50.706248Z",
     "shell.execute_reply": "2022-06-28T17:46:50.705248Z",
     "shell.execute_reply.started": "2022-06-28T17:46:50.692086Z"
    },
    "tags": []
   },
   "outputs": [],
   "source": [
    "nodetyperepr = {VAR: 'x_{{{}}}', COMP: 'f_{{{}}}', SOLVER: '{}'}"
   ]
  },
  {
   "cell_type": "code",
   "execution_count": 5,
   "id": "ee0bb9d3-8781-4128-8eb9-b91ea850ac3c",
   "metadata": {
    "execution": {
     "iopub.execute_input": "2022-06-28T17:46:50.707247Z",
     "iopub.status.busy": "2022-06-28T17:46:50.707247Z",
     "iopub.status.idle": "2022-06-28T17:46:50.721695Z",
     "shell.execute_reply": "2022-06-28T17:46:50.721080Z",
     "shell.execute_reply.started": "2022-06-28T17:46:50.707247Z"
    },
    "tags": []
   },
   "outputs": [],
   "source": [
    "namingfunc = namefromid(nodetyperepr)"
   ]
  },
  {
   "cell_type": "markdown",
   "id": "44c3f0b2-1adb-49d4-8412-7da5328cdc4e",
   "metadata": {},
   "source": [
    "# Original indexation"
   ]
  },
  {
   "cell_type": "code",
   "execution_count": 6,
   "id": "b39627a7-ec13-460b-b2da-eb13e8e8d502",
   "metadata": {
    "execution": {
     "iopub.execute_input": "2022-06-28T17:46:50.722731Z",
     "iopub.status.busy": "2022-06-28T17:46:50.722731Z",
     "iopub.status.idle": "2022-06-28T17:46:50.737762Z",
     "shell.execute_reply": "2022-06-28T17:46:50.736765Z",
     "shell.execute_reply.started": "2022-06-28T17:46:50.722731Z"
    },
    "tags": []
   },
   "outputs": [],
   "source": [
    "eqv, varinc, output_idx = generate_random_prob(n_eqs, n_vars, seed, sparsity)\n",
    "_, edges_original = bipartite_repr(eqv)\n",
    "eqs = direct_eqs(eqv, output_idx)\n",
    "varidxs = getallvars(eqs, sympy=False)\n",
    "eqnidxs = set(eqs.keys())"
   ]
  },
  {
   "cell_type": "markdown",
   "id": "7620ce7b-08fd-4328-8cdd-ab369f792064",
   "metadata": {},
   "source": [
    "# Pretty indexation"
   ]
  },
  {
   "cell_type": "code",
   "execution_count": 7,
   "id": "5617aad9-11bd-492f-9d2b-db2b6f32c7d2",
   "metadata": {
    "execution": {
     "iopub.execute_input": "2022-06-28T17:46:50.738759Z",
     "iopub.status.busy": "2022-06-28T17:46:50.738759Z",
     "iopub.status.idle": "2022-06-28T17:46:50.752766Z",
     "shell.execute_reply": "2022-06-28T17:46:50.751898Z",
     "shell.execute_reply.started": "2022-06-28T17:46:50.738759Z"
    },
    "tags": []
   },
   "outputs": [],
   "source": [
    "output_reidx = {key:var-n_eqs for key,var in output_idx.items()}\n",
    "edges, tree = eqv_to_edges_tree(eqv, output_reidx, n_eqs)"
   ]
  },
  {
   "cell_type": "markdown",
   "id": "1f89ca07-e8df-47cc-9e7b-cf4a8827ca1f",
   "metadata": {},
   "source": [
    "# Original"
   ]
  },
  {
   "cell_type": "code",
   "execution_count": 8,
   "id": "dddc91ed-368e-46b8-a528-8592bc23ef87",
   "metadata": {
    "execution": {
     "iopub.execute_input": "2022-06-28T17:46:50.910261Z",
     "iopub.status.busy": "2022-06-28T17:46:50.910261Z",
     "iopub.status.idle": "2022-06-28T17:46:50.916762Z",
     "shell.execute_reply": "2022-06-28T17:46:50.916260Z",
     "shell.execute_reply.started": "2022-06-28T17:46:50.910261Z"
    },
    "tags": []
   },
   "outputs": [],
   "source": [
    "G = flat_graph_formulation(*edges)\n",
    "merge_order = sort_scc(G)\n",
    "maxscc = max([len(elt) for elt in merge_order])"
   ]
  },
  {
   "cell_type": "markdown",
   "id": "f0a1e020-c370-4dff-a583-76e29d177827",
   "metadata": {},
   "source": [
    "# Optimal scc"
   ]
  },
  {
   "cell_type": "code",
   "execution_count": 9,
   "id": "c95b4d6a-f35f-4da2-a1a9-fe35e79a701a",
   "metadata": {
    "execution": {
     "iopub.execute_input": "2022-06-28T17:46:51.430221Z",
     "iopub.status.busy": "2022-06-28T17:46:51.430221Z",
     "iopub.status.idle": "2022-06-28T17:46:51.440224Z",
     "shell.execute_reply": "2022-06-28T17:46:51.439222Z",
     "shell.execute_reply.started": "2022-06-28T17:46:51.430221Z"
    },
    "tags": []
   },
   "outputs": [],
   "source": [
    "optim_edges = list(dir_graph(edges_original, varidxs))"
   ]
  },
  {
   "cell_type": "code",
   "execution_count": 10,
   "id": "a53853e2-988e-49d6-8bc8-ab575c5991f5",
   "metadata": {
    "execution": {
     "iopub.execute_input": "2022-06-28T17:46:51.645993Z",
     "iopub.status.busy": "2022-06-28T17:46:51.645993Z",
     "iopub.status.idle": "2022-06-28T17:46:51.663990Z",
     "shell.execute_reply": "2022-06-28T17:46:51.662990Z",
     "shell.execute_reply.started": "2022-06-28T17:46:51.645993Z"
    },
    "tags": []
   },
   "outputs": [
    {
     "name": "stdout",
     "output_type": "stream",
     "text": [
      "Set parameter Username\n",
      "Academic license - for non-commercial use only - expires 2023-02-25\n"
     ]
    }
   ],
   "source": [
    "maxl, xsol, m = min_max_scc(optim_edges, varidxs, eqnidxs)"
   ]
  },
  {
   "cell_type": "code",
   "execution_count": 11,
   "id": "3263aa0d-a1a1-4c03-8e2c-e9d21c32b9de",
   "metadata": {
    "execution": {
     "iopub.execute_input": "2022-06-28T17:46:52.007278Z",
     "iopub.status.busy": "2022-06-28T17:46:52.007278Z",
     "iopub.status.idle": "2022-06-28T17:46:52.020946Z",
     "shell.execute_reply": "2022-06-28T17:46:52.019947Z",
     "shell.execute_reply.started": "2022-06-28T17:46:52.007278Z"
    },
    "tags": []
   },
   "outputs": [
    {
     "data": {
      "text/plain": [
       "2.0"
      ]
     },
     "execution_count": 11,
     "metadata": {},
     "output_type": "execute_result"
    }
   ],
   "source": [
    "maxl"
   ]
  },
  {
   "cell_type": "code",
   "execution_count": 12,
   "id": "192e73f3-6e49-4471-ae7b-2dfd9feac3c3",
   "metadata": {
    "execution": {
     "iopub.execute_input": "2022-06-28T17:46:52.805931Z",
     "iopub.status.busy": "2022-06-28T17:46:52.805931Z",
     "iopub.status.idle": "2022-06-28T17:46:52.813839Z",
     "shell.execute_reply": "2022-06-28T17:46:52.812841Z",
     "shell.execute_reply.started": "2022-06-28T17:46:52.805931Z"
    },
    "tags": []
   },
   "outputs": [],
   "source": [
    "selected = dict((left, right-n_eqs) for left, right in optim_edges if xsol[left, right] > 0.5)"
   ]
  },
  {
   "cell_type": "code",
   "execution_count": 13,
   "id": "2419208c-98c3-48d4-992a-da19f77c44bd",
   "metadata": {
    "execution": {
     "iopub.execute_input": "2022-06-28T17:46:53.982587Z",
     "iopub.status.busy": "2022-06-28T17:46:53.982587Z",
     "iopub.status.idle": "2022-06-28T17:46:53.990198Z",
     "shell.execute_reply": "2022-06-28T17:46:53.990093Z",
     "shell.execute_reply.started": "2022-06-28T17:46:53.982587Z"
    },
    "tags": []
   },
   "outputs": [
    {
     "data": {
      "text/plain": [
       "{0: 4, 1: 0, 2: 8, 3: 5, 4: 1, 5: 6, 6: 3, 7: 11, 8: 10, 9: 7}"
      ]
     },
     "execution_count": 13,
     "metadata": {},
     "output_type": "execute_result"
    }
   ],
   "source": [
    "selected"
   ]
  },
  {
   "cell_type": "code",
   "execution_count": 14,
   "id": "68871f3a-a944-40d8-825f-2e1c42c31b8c",
   "metadata": {
    "execution": {
     "iopub.execute_input": "2022-06-28T17:46:57.565280Z",
     "iopub.status.busy": "2022-06-28T17:46:57.565280Z",
     "iopub.status.idle": "2022-06-28T17:46:57.582275Z",
     "shell.execute_reply": "2022-06-28T17:46:57.582275Z",
     "shell.execute_reply.started": "2022-06-28T17:46:57.565280Z"
    },
    "tags": []
   },
   "outputs": [],
   "source": [
    "Ein, Eout, Rin = copy_dicts(edges)\n",
    "_, Stree, Vtree = copy_dicts(tree)\n",
    "Eout_minassign = Eout.copy()\n",
    "Ein_minassign = Ein.copy()\n",
    "for comp in Eout.keys():\n",
    "    if comp in selected:\n",
    "        var = selected[comp]\n",
    "        Eout_minassign[comp] = (var,)\n",
    "        Ein_minassign[comp] = tuple(elt for elt in chain(Ein[comp],Eout[comp]) if elt!=var)\n",
    "    else:\n",
    "        old_out_var = Eout[comp][0]\n",
    "        Eout_minassign[comp] = (None,)\n",
    "        Ein_minassign[comp] = tuple(elt for elt in chain(Ein[comp],Eout[comp]))"
   ]
  },
  {
   "cell_type": "code",
   "execution_count": 15,
   "id": "cd48e185-9bb6-4f2d-848a-1a2dba292869",
   "metadata": {
    "execution": {
     "iopub.execute_input": "2022-06-28T17:46:57.925977Z",
     "iopub.status.busy": "2022-06-28T17:46:57.924972Z",
     "iopub.status.idle": "2022-06-28T17:46:57.941968Z",
     "shell.execute_reply": "2022-06-28T17:46:57.940972Z",
     "shell.execute_reply.started": "2022-06-28T17:46:57.925977Z"
    },
    "tags": []
   },
   "outputs": [],
   "source": [
    "nodetyperepr = {VAR: 'x_{{{}}}', COMP: 'f_{{{}}}', SOLVER: '{}'}\n",
    "edges_minassign = Ein_minassign, Eout_minassign, dict()\n",
    "G2 = flat_graph_formulation(*edges_minassign, nodetyperepr=nodetyperepr)"
   ]
  },
  {
   "cell_type": "code",
   "execution_count": 16,
   "id": "3996a670-b489-4b5d-99d9-6f6f25ba5219",
   "metadata": {
    "execution": {
     "iopub.execute_input": "2022-06-28T17:46:59.636908Z",
     "iopub.status.busy": "2022-06-28T17:46:59.636908Z",
     "iopub.status.idle": "2022-06-28T17:46:59.650125Z",
     "shell.execute_reply": "2022-06-28T17:46:59.649368Z",
     "shell.execute_reply.started": "2022-06-28T17:46:59.636908Z"
    },
    "tags": []
   },
   "outputs": [],
   "source": [
    "minassign_order = sort_scc(G2)"
   ]
  },
  {
   "cell_type": "code",
   "execution_count": 17,
   "id": "5239b9a7-0d39-4da5-a788-12aba3435fc3",
   "metadata": {
    "execution": {
     "iopub.execute_input": "2022-06-28T17:47:02.092204Z",
     "iopub.status.busy": "2022-06-28T17:47:02.092204Z",
     "iopub.status.idle": "2022-06-28T17:47:02.107317Z",
     "shell.execute_reply": "2022-06-28T17:47:02.107317Z",
     "shell.execute_reply.started": "2022-06-28T17:47:02.092204Z"
    }
   },
   "outputs": [
    {
     "data": {
      "text/plain": [
       "[{f_{3}},\n",
       " {f_{9}},\n",
       " {f_{7}},\n",
       " {f_{2}, f_{4}},\n",
       " {f_{0}},\n",
       " {f_{1}},\n",
       " {f_{6}},\n",
       " {f_{8}},\n",
       " {f_{5}}]"
      ]
     },
     "execution_count": 17,
     "metadata": {},
     "output_type": "execute_result"
    }
   ],
   "source": [
    "minassign_order"
   ]
  },
  {
   "cell_type": "code",
   "execution_count": 18,
   "id": "69735208-b443-4a18-86e4-43d65f1d6477",
   "metadata": {
    "execution": {
     "iopub.execute_input": "2022-06-28T17:47:10.230736Z",
     "iopub.status.busy": "2022-06-28T17:47:10.230736Z",
     "iopub.status.idle": "2022-06-28T17:47:10.237736Z",
     "shell.execute_reply": "2022-06-28T17:47:10.236736Z",
     "shell.execute_reply.started": "2022-06-28T17:47:10.230736Z"
    },
    "tags": []
   },
   "outputs": [],
   "source": [
    "nedges, ntree = reorder_merge_solve(edges_minassign, tree, minassign_order, 1)"
   ]
  },
  {
   "cell_type": "code",
   "execution_count": 19,
   "id": "640e1161-2e7b-4cdb-8566-7f5822baaa7b",
   "metadata": {
    "execution": {
     "iopub.execute_input": "2022-06-28T17:47:10.614143Z",
     "iopub.status.busy": "2022-06-28T17:47:10.614143Z",
     "iopub.status.idle": "2022-06-28T17:47:10.630278Z",
     "shell.execute_reply": "2022-06-28T17:47:10.630278Z",
     "shell.execute_reply.started": "2022-06-28T17:47:10.614143Z"
    },
    "tags": []
   },
   "outputs": [],
   "source": [
    "#Ftree_mina = OrderedDict([(elt.name,'solver') for comp in minassign_order for elt in comp])"
   ]
  },
  {
   "cell_type": "code",
   "execution_count": 20,
   "id": "46065408-4372-4949-940f-c257f065e24f",
   "metadata": {
    "execution": {
     "iopub.execute_input": "2022-06-28T17:47:10.816432Z",
     "iopub.status.busy": "2022-06-28T17:47:10.816432Z",
     "iopub.status.idle": "2022-06-28T17:47:10.832425Z",
     "shell.execute_reply": "2022-06-28T17:47:10.831430Z",
     "shell.execute_reply.started": "2022-06-28T17:47:10.816432Z"
    },
    "tags": []
   },
   "outputs": [
    {
     "data": {
      "text/plain": [
       "(OrderedDict([(3, 1),\n",
       "              (9, 1),\n",
       "              (7, 1),\n",
       "              (4, 2),\n",
       "              (2, 2),\n",
       "              (0, 1),\n",
       "              (1, 1),\n",
       "              (6, 1),\n",
       "              (8, 1),\n",
       "              (5, 1)]),\n",
       " {2: 1},\n",
       " {1: 2, 8: 2})"
      ]
     },
     "execution_count": 20,
     "metadata": {},
     "output_type": "execute_result"
    }
   ],
   "source": [
    "ntree"
   ]
  },
  {
   "cell_type": "markdown",
   "id": "23ce7ed9-1912-4479-8de8-5db6f822185d",
   "metadata": {},
   "source": [
    "## Visualize"
   ]
  },
  {
   "cell_type": "code",
   "execution_count": 90,
   "id": "b39d9542-ee14-4018-a7d5-2681173d9a54",
   "metadata": {
    "execution": {
     "iopub.execute_input": "2022-06-28T18:40:12.193573Z",
     "iopub.status.busy": "2022-06-28T18:40:12.193573Z",
     "iopub.status.idle": "2022-06-28T18:40:12.211592Z",
     "shell.execute_reply": "2022-06-28T18:40:12.210593Z",
     "shell.execute_reply.started": "2022-06-28T18:40:12.193573Z"
    },
    "tags": []
   },
   "outputs": [],
   "source": [
    "from datastructures.workflow import order_from_tree, SOLVER, COMP, ENDCOMP, path\n",
    "from datastructures.graphutils import end_components, solver_children\n",
    "from collections import defaultdict"
   ]
  },
  {
   "cell_type": "code",
   "execution_count": 72,
   "id": "57fd6175-53b1-41c8-a760-7388c567ed0c",
   "metadata": {
    "execution": {
     "iopub.execute_input": "2022-06-28T18:32:59.231776Z",
     "iopub.status.busy": "2022-06-28T18:32:59.230776Z",
     "iopub.status.idle": "2022-06-28T18:32:59.240757Z",
     "shell.execute_reply": "2022-06-28T18:32:59.239780Z",
     "shell.execute_reply.started": "2022-06-28T18:32:59.231776Z"
    }
   },
   "outputs": [],
   "source": [
    "def handle_component(allendcomps, queue, component, parent, endcompqueue, mergeendcomp=True):\n",
    "    remainingcomps = len([elt for elt in solver_children(queue, parent)])\n",
    "    lastchildcomp = remainingcomps==0\n",
    "    if lastchildcomp:\n",
    "        if mergeendcomp:\n",
    "            lastcomponent = [component] if component in allendcomps else []\n",
    "            endcomps_ids = endcompqueue+lastcomponent\n",
    "            if endcomps_ids:\n",
    "                endcomps = [(ENDCOMP, endcomps_ids, parent)]\n",
    "            else:\n",
    "                endcomps = []\n",
    "        else:\n",
    "            lastcomponent = [(ENDCOMP, component, parent)] if component in allendcomps else []\n",
    "            endcomps = [(ENDCOMP, comps, parent) for comps in endcompqueue]+lastcomponent\n",
    "        if component not in allendcomps:\n",
    "            return [(COMP, component, parent)] + endcomps, []\n",
    "        else:\n",
    "            return endcomps, []\n",
    "    if component not in allendcomps: \n",
    "           return [(COMP, component, parent)], endcompqueue\n",
    "    else:\n",
    "        return None, endcompqueue+[component]"
   ]
  },
  {
   "cell_type": "code",
   "execution_count": 84,
   "id": "1a70f417-fa8d-4d69-a230-9476459ece4c",
   "metadata": {
    "execution": {
     "iopub.execute_input": "2022-06-28T18:38:24.036495Z",
     "iopub.status.busy": "2022-06-28T18:38:24.036495Z",
     "iopub.status.idle": "2022-06-28T18:38:24.040729Z",
     "shell.execute_reply": "2022-06-28T18:38:24.040729Z",
     "shell.execute_reply.started": "2022-06-28T18:38:24.036495Z"
    },
    "tags": []
   },
   "outputs": [],
   "source": [
    "Ftree = [(0,0), (1,1),(2,2),(3,2),(4,1,),(5,1),(6,1),(7,0),(8,0)]\n",
    "Stree = {2:1, 1:0}\n",
    "endcomps = {comp: comp in [0,2,5,6] for comp,_ in Ftree}"
   ]
  },
  {
   "cell_type": "code",
   "execution_count": 101,
   "id": "76b92264-a13c-4b33-b3b2-dbbbf892cfcc",
   "metadata": {
    "execution": {
     "iopub.execute_input": "2022-06-28T18:47:46.395197Z",
     "iopub.status.busy": "2022-06-28T18:47:46.395197Z",
     "iopub.status.idle": "2022-06-28T18:47:46.402976Z",
     "shell.execute_reply": "2022-06-28T18:47:46.401197Z",
     "shell.execute_reply.started": "2022-06-28T18:47:46.395197Z"
    },
    "tags": []
   },
   "outputs": [],
   "source": [
    "includesolver = True\n",
    "mergeendcomp = True"
   ]
  },
  {
   "cell_type": "code",
   "execution_count": 102,
   "id": "270b0f2c-390e-4112-9367-2a2aba2554b6",
   "metadata": {
    "execution": {
     "iopub.execute_input": "2022-06-28T18:47:46.664261Z",
     "iopub.status.busy": "2022-06-28T18:47:46.663252Z",
     "iopub.status.idle": "2022-06-28T18:47:46.683238Z",
     "shell.execute_reply": "2022-06-28T18:47:46.683238Z",
     "shell.execute_reply.started": "2022-06-28T18:47:46.664261Z"
    },
    "tags": []
   },
   "outputs": [],
   "source": [
    "visited_solvers = set()\n",
    "sequence = []\n",
    "endcompqueue = defaultdict(list)\n",
    "queue = list(Ftree)\n",
    "while queue:\n",
    "    component, parent = queue.pop(0)\n",
    "    ancestors = path(Stree, parent, visited_solvers)\n",
    "    reverse_ancestors = ancestors[::-1]\n",
    "    visited_solvers = visited_solvers.union(reverse_ancestors)\n",
    "    if includesolver:\n",
    "        sequence += [(SOLVER, solver, Stree.get(solver,None)) for solver in reverse_ancestors]\n",
    "    if endcomps[component]:\n",
    "        endcompqueue[parent].append(component)\n",
    "    else:\n",
    "        sequence += [(COMP, component, parent)]\n",
    "    remainingcomps = len([elt for elt in solver_children(dict(queue), parent)])\n",
    "    lastchildcomp = remainingcomps==0\n",
    "    if lastchildcomp:\n",
    "        if mergeendcomp:\n",
    "            sequence += [(ENDCOMP, endcompqueue[parent], parent)]\n",
    "        else:\n",
    "            sequence += [(ENDCOMP, endcomp, parent) for endcomp in endcompqueue[parent]]"
   ]
  },
  {
   "cell_type": "code",
   "execution_count": 103,
   "id": "60eea70d-4982-4b43-91bb-fae9c820f595",
   "metadata": {
    "execution": {
     "iopub.execute_input": "2022-06-28T18:47:47.004605Z",
     "iopub.status.busy": "2022-06-28T18:47:47.004605Z",
     "iopub.status.idle": "2022-06-28T18:47:47.013673Z",
     "shell.execute_reply": "2022-06-28T18:47:47.013673Z",
     "shell.execute_reply.started": "2022-06-28T18:47:47.004605Z"
    },
    "tags": []
   },
   "outputs": [
    {
     "data": {
      "text/plain": [
       "[(SOLVER, 0, None),\n",
       " (SOLVER, 1, 0),\n",
       " (COMP, 1, 1),\n",
       " (SOLVER, 2, 1),\n",
       " (COMP, 3, 2),\n",
       " (ENDCOMP, [2], 2),\n",
       " (COMP, 4, 1),\n",
       " (ENDCOMP, [5, 6], 1),\n",
       " (COMP, 7, 0),\n",
       " (COMP, 8, 0),\n",
       " (ENDCOMP, [0], 0)]"
      ]
     },
     "execution_count": 103,
     "metadata": {},
     "output_type": "execute_result"
    }
   ],
   "source": [
    "sequence"
   ]
  },
  {
   "cell_type": "code",
   "execution_count": null,
   "id": "b73ebf8e-a087-4902-8f3d-f95aa5aab820",
   "metadata": {},
   "outputs": [],
   "source": [
    "order = []\n",
    "for elt in Ftree"
   ]
  },
  {
   "cell_type": "code",
   "execution_count": 68,
   "id": "254d62d2-864d-4edf-8298-82acff4bcbf0",
   "metadata": {
    "execution": {
     "iopub.execute_input": "2022-06-28T18:16:28.901932Z",
     "iopub.status.busy": "2022-06-28T18:16:28.901932Z",
     "iopub.status.idle": "2022-06-28T18:16:28.908935Z",
     "shell.execute_reply": "2022-06-28T18:16:28.908019Z",
     "shell.execute_reply.started": "2022-06-28T18:16:28.901932Z"
    },
    "tags": []
   },
   "outputs": [],
   "source": [
    "order = sorted((idx, solver, endcomps[comp], comp) for idx, (comp, solver) in enumerate(Ftree))"
   ]
  },
  {
   "cell_type": "code",
   "execution_count": null,
   "id": "50710b5f-6ffb-4106-b269-3abbcb48ea1d",
   "metadata": {},
   "outputs": [],
   "source": [
    "while "
   ]
  },
  {
   "cell_type": "code",
   "execution_count": 69,
   "id": "172deda9-158c-45bd-8ef4-9e0a84f99a75",
   "metadata": {
    "execution": {
     "iopub.execute_input": "2022-06-28T18:16:29.296640Z",
     "iopub.status.busy": "2022-06-28T18:16:29.296640Z",
     "iopub.status.idle": "2022-06-28T18:16:29.313006Z",
     "shell.execute_reply": "2022-06-28T18:16:29.313006Z",
     "shell.execute_reply.started": "2022-06-28T18:16:29.296640Z"
    },
    "tags": []
   },
   "outputs": [
    {
     "data": {
      "text/plain": [
       "[(0, 1, False, 'a'),\n",
       " (1, 2, True, 'b'),\n",
       " (2, 2, False, 'c'),\n",
       " (3, 1, False, 'd'),\n",
       " (4, 1, True, 'e'),\n",
       " (5, 1, True, 'f'),\n",
       " (6, 0, False, 'g'),\n",
       " (7, 0, False, 'h')]"
      ]
     },
     "execution_count": 69,
     "metadata": {},
     "output_type": "execute_result"
    }
   ],
   "source": [
    "order"
   ]
  },
  {
   "cell_type": "code",
   "execution_count": 33,
   "id": "6586381b-4c21-4e41-ad9d-08fd37ec8094",
   "metadata": {
    "execution": {
     "iopub.execute_input": "2022-06-28T18:02:43.221001Z",
     "iopub.status.busy": "2022-06-28T18:02:43.220001Z",
     "iopub.status.idle": "2022-06-28T18:02:43.232002Z",
     "shell.execute_reply": "2022-06-28T18:02:43.231087Z",
     "shell.execute_reply.started": "2022-06-28T18:02:43.221001Z"
    },
    "tags": []
   },
   "outputs": [],
   "source": [
    "endcomp = {key: None in var for key,var in nedges[1].items()}"
   ]
  },
  {
   "cell_type": "code",
   "execution_count": 34,
   "id": "f273fdc4-2e07-45cb-a9fe-867964d73eb2",
   "metadata": {
    "execution": {
     "iopub.execute_input": "2022-06-28T18:02:50.112967Z",
     "iopub.status.busy": "2022-06-28T18:02:50.112967Z",
     "iopub.status.idle": "2022-06-28T18:02:50.125964Z",
     "shell.execute_reply": "2022-06-28T18:02:50.124966Z",
     "shell.execute_reply.started": "2022-06-28T18:02:50.112967Z"
    }
   },
   "outputs": [
    {
     "data": {
      "text/plain": [
       "{1: False,\n",
       " 3: False,\n",
       " 2: True,\n",
       " 4: True,\n",
       " 7: False,\n",
       " 9: False,\n",
       " 5: False,\n",
       " 6: False,\n",
       " 0: False,\n",
       " 8: False}"
      ]
     },
     "execution_count": 34,
     "metadata": {},
     "output_type": "execute_result"
    }
   ],
   "source": [
    "endcomp"
   ]
  },
  {
   "cell_type": "code",
   "execution_count": 49,
   "id": "77c7f0f2-6e89-4e74-b4f9-765f17d773d1",
   "metadata": {
    "execution": {
     "iopub.execute_input": "2022-06-28T18:06:01.400214Z",
     "iopub.status.busy": "2022-06-28T18:06:01.400214Z",
     "iopub.status.idle": "2022-06-28T18:06:01.405337Z",
     "shell.execute_reply": "2022-06-28T18:06:01.405214Z",
     "shell.execute_reply.started": "2022-06-28T18:06:01.400214Z"
    },
    "tags": []
   },
   "outputs": [
    {
     "data": {
      "text/plain": [
       "[(0, 1, False, 3),\n",
       " (1, 1, False, 9),\n",
       " (2, 1, False, 7),\n",
       " (3, 2, True, 4),\n",
       " (4, 2, True, 2),\n",
       " (5, 1, False, 0),\n",
       " (6, 1, False, 1),\n",
       " (7, 1, False, 6),\n",
       " (8, 1, False, 8),\n",
       " (9, 1, False, 5)]"
      ]
     },
     "execution_count": 49,
     "metadata": {},
     "output_type": "execute_result"
    }
   ],
   "source": [
    "order"
   ]
  },
  {
   "cell_type": "code",
   "execution_count": 27,
   "id": "4999bc64-a01d-4d33-a163-dcaaf6846dc6",
   "metadata": {
    "execution": {
     "iopub.execute_input": "2022-06-28T18:01:09.284022Z",
     "iopub.status.busy": "2022-06-28T18:01:09.283163Z",
     "iopub.status.idle": "2022-06-28T18:01:09.291220Z",
     "shell.execute_reply": "2022-06-28T18:01:09.291042Z",
     "shell.execute_reply.started": "2022-06-28T18:01:09.284022Z"
    }
   },
   "outputs": [
    {
     "data": {
      "text/plain": [
       "{2: 1}"
      ]
     },
     "execution_count": 27,
     "metadata": {},
     "output_type": "execute_result"
    }
   ],
   "source": [
    "ntree[1]"
   ]
  },
  {
   "cell_type": "code",
   "execution_count": 95,
   "id": "44824ff5-320e-486e-b1ce-d69857f3470c",
   "metadata": {
    "execution": {
     "iopub.execute_input": "2022-06-28T18:44:39.534970Z",
     "iopub.status.busy": "2022-06-28T18:44:39.533973Z",
     "iopub.status.idle": "2022-06-28T18:44:39.539971Z",
     "shell.execute_reply": "2022-06-28T18:44:39.539971Z",
     "shell.execute_reply.started": "2022-06-28T18:44:39.533973Z"
    },
    "tags": []
   },
   "outputs": [
    {
     "data": {
      "text/plain": [
       "[(SOLVER, 1, None),\n",
       " (COMP, 3, 1),\n",
       " (COMP, 9, 1),\n",
       " (COMP, 7, 1),\n",
       " (COMP, 0, 1),\n",
       " (COMP, 1, 1),\n",
       " (COMP, 6, 1),\n",
       " (COMP, 8, 1),\n",
       " (COMP, 5, 1),\n",
       " (SOLVER, 2, 1),\n",
       " (ENDCOMP, [4, 2], 2)]"
      ]
     },
     "execution_count": 95,
     "metadata": {},
     "output_type": "execute_result"
    }
   ],
   "source": [
    "order_from_tree(ntree[0], ntree[1], nedges[1], includesolver=True, mergeendcomp=True)"
   ]
  },
  {
   "cell_type": "code",
   "execution_count": 42,
   "id": "1316fec7-9b78-4f7e-9eb9-5b53a677814a",
   "metadata": {
    "execution": {
     "iopub.execute_input": "2022-06-28T16:53:48.095629Z",
     "iopub.status.busy": "2022-06-28T16:53:48.095629Z",
     "iopub.status.idle": "2022-06-28T16:53:48.102617Z",
     "shell.execute_reply": "2022-06-28T16:53:48.101538Z",
     "shell.execute_reply.started": "2022-06-28T16:53:48.095629Z"
    },
    "tags": []
   },
   "outputs": [],
   "source": [
    "sequence, permutation, Ein, Eout, solver_iterator = incidence_artifacts(nedges, ntree, True)"
   ]
  },
  {
   "cell_type": "code",
   "execution_count": 44,
   "id": "de17f30f-d70a-4426-9e13-455799a06e9b",
   "metadata": {
    "execution": {
     "iopub.execute_input": "2022-06-28T17:36:48.101041Z",
     "iopub.status.busy": "2022-06-28T17:36:48.100557Z",
     "iopub.status.idle": "2022-06-28T17:36:48.618331Z",
     "shell.execute_reply": "2022-06-28T17:36:48.618331Z",
     "shell.execute_reply.started": "2022-06-28T17:36:48.101041Z"
    },
    "tags": []
   },
   "outputs": [
    {
     "data": {
      "image/png": "[encoded data removed]",
      "text/plain": [
       "<Figure size 432x288 with 1 Axes>"
      ]
     },
     "metadata": {
      "needs_background": "light"
     },
     "output_type": "display_data"
    }
   ],
   "source": [
    "_, ax = render_incidence(nedges, ntree, namingfunc, displaysolver=True)\n",
    "plt.sca(ax)\n",
    "plt.savefig(r'minscc_10x13.png', dpi=300, bbox_inches='tight')"
   ]
  },
  {
   "cell_type": "code",
   "execution_count": null,
   "id": "4575a266-c3c7-4b75-bb6f-eeec1dcddba7",
   "metadata": {},
   "outputs": [],
   "source": []
  }
 ],
 "metadata": {
  "kernelspec": {
   "display_name": "Python [conda env:mdo]",
   "language": "python",
   "name": "conda-env-mdo-py"
  },
  "language_info": {
   "codemirror_mode": {
    "name": "ipython",
    "version": 3
   },
   "file_extension": ".py",
   "mimetype": "text/x-python",
   "name": "python",
   "nbconvert_exporter": "python",
   "pygments_lexer": "ipython3",
   "version": "3.9.7"
  }
 },
 "nbformat": 4,
 "nbformat_minor": 5
}
