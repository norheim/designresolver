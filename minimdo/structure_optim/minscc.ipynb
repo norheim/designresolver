{
 "cells": [
  {
   "cell_type": "code",
   "execution_count": 1,
   "id": "f746ba09-d2d1-466a-8c42-d6340de8676c",
   "metadata": {
    "execution": {
     "iopub.execute_input": "2022-07-03T01:06:38.399405Z",
     "iopub.status.busy": "2022-07-03T01:06:38.399405Z",
     "iopub.status.idle": "2022-07-03T01:06:40.596759Z",
     "shell.execute_reply": "2022-07-03T01:06:40.596531Z",
     "shell.execute_reply.started": "2022-07-03T01:06:38.399405Z"
    },
    "tags": []
   },
   "outputs": [],
   "source": [
    "from testproblems import generate_random_prob\n",
    "from representations import bipartite_repr\n",
    "from inputresolver import resolve,invert_edges,getallvars,direct_eqs\n",
    "from datastructures.polycasebuilder import eqv_to_edges_tree\n",
    "from datastructures.graphutils import flat_graph_formulation, draw_graph_graphical_props, VAR, COMP, SOLVER, Node, namefromid, copy_dicts\n",
    "from datastructures.operators import sort_scc, reorder_merge_solve\n",
    "#from networkx.algorithms.bipartite import random_graph as bipartite_random_graph"
   ]
  },
  {
   "cell_type": "code",
   "execution_count": 9,
   "id": "7c688e25-1259-4e6d-8ed5-2cc7e7eb50fc",
   "metadata": {
    "execution": {
     "iopub.execute_input": "2022-07-03T01:07:14.134291Z",
     "iopub.status.busy": "2022-07-03T01:07:14.134291Z",
     "iopub.status.idle": "2022-07-03T01:07:14.148869Z",
     "shell.execute_reply": "2022-07-03T01:07:14.147946Z",
     "shell.execute_reply.started": "2022-07-03T01:07:14.134291Z"
    },
    "tags": []
   },
   "outputs": [],
   "source": [
    "from datastructures.tearing import min_max_scc, min_max_scc2, dir_graph\n",
    "from datastructures.rendering import render_incidence, incidence_artifacts\n",
    "from datastructures.graphutils import all_edges, edges_to_Ein_Eout\n",
    "from collections import OrderedDict\n",
    "import matplotlib.pyplot as plt\n",
    "from itertools import chain"
   ]
  },
  {
   "cell_type": "markdown",
   "id": "d0cc8391-0e26-47a0-8b9c-c6fcab0186f9",
   "metadata": {},
   "source": [
    "# Parameters"
   ]
  },
  {
   "cell_type": "code",
   "execution_count": 3,
   "id": "9dff8736-3bce-467d-9532-b3ec48a1001b",
   "metadata": {
    "execution": {
     "iopub.execute_input": "2022-07-03T01:06:40.613941Z",
     "iopub.status.busy": "2022-07-03T01:06:40.613941Z",
     "iopub.status.idle": "2022-07-03T01:06:40.627432Z",
     "shell.execute_reply": "2022-07-03T01:06:40.627286Z",
     "shell.execute_reply.started": "2022-07-03T01:06:40.613941Z"
    },
    "tags": []
   },
   "outputs": [],
   "source": [
    "n_eqs = 10\n",
    "n_vars = 13\n",
    "seed = 10#8 is triang#seed 10 is nice 42\n",
    "sparsity = 1.7#0.87#0.8 1.1 #1.7 1.3"
   ]
  },
  {
   "cell_type": "markdown",
   "id": "36b98b5d-9309-4cdc-a728-76f0fce461e6",
   "metadata": {},
   "source": [
    "# Setup"
   ]
  },
  {
   "cell_type": "code",
   "execution_count": 4,
   "id": "1d679176-1454-4d4d-8757-90bf205f1b6f",
   "metadata": {
    "execution": {
     "iopub.execute_input": "2022-07-03T01:06:40.629441Z",
     "iopub.status.busy": "2022-07-03T01:06:40.628439Z",
     "iopub.status.idle": "2022-07-03T01:06:40.642899Z",
     "shell.execute_reply": "2022-07-03T01:06:40.642553Z",
     "shell.execute_reply.started": "2022-07-03T01:06:40.629441Z"
    },
    "tags": []
   },
   "outputs": [],
   "source": [
    "nodetyperepr = {VAR: 'x_{{{}}}', COMP: 'f_{{{}}}', SOLVER: '{}'}"
   ]
  },
  {
   "cell_type": "code",
   "execution_count": 5,
   "id": "ee0bb9d3-8781-4128-8eb9-b91ea850ac3c",
   "metadata": {
    "execution": {
     "iopub.execute_input": "2022-07-03T01:06:40.644902Z",
     "iopub.status.busy": "2022-07-03T01:06:40.643757Z",
     "iopub.status.idle": "2022-07-03T01:06:40.657900Z",
     "shell.execute_reply": "2022-07-03T01:06:40.657900Z",
     "shell.execute_reply.started": "2022-07-03T01:06:40.643757Z"
    },
    "tags": []
   },
   "outputs": [],
   "source": [
    "namingfunc = namefromid(nodetyperepr)"
   ]
  },
  {
   "cell_type": "markdown",
   "id": "44c3f0b2-1adb-49d4-8412-7da5328cdc4e",
   "metadata": {},
   "source": [
    "# Original indexation"
   ]
  },
  {
   "cell_type": "code",
   "execution_count": 6,
   "id": "b39627a7-ec13-460b-b2da-eb13e8e8d502",
   "metadata": {
    "execution": {
     "iopub.execute_input": "2022-07-03T01:06:40.659875Z",
     "iopub.status.busy": "2022-07-03T01:06:40.658874Z",
     "iopub.status.idle": "2022-07-03T01:06:40.673805Z",
     "shell.execute_reply": "2022-07-03T01:06:40.673805Z",
     "shell.execute_reply.started": "2022-07-03T01:06:40.659875Z"
    },
    "tags": []
   },
   "outputs": [],
   "source": [
    "eqv, varinc, output_idx = generate_random_prob(n_eqs, n_vars, seed, sparsity)\n",
    "_, edges_original = bipartite_repr(eqv)\n",
    "eqs = direct_eqs(eqv, output_idx)\n",
    "varidxs = getallvars(eqs, sympy=False)\n",
    "eqnidxs = set(eqs.keys())"
   ]
  },
  {
   "cell_type": "markdown",
   "id": "7620ce7b-08fd-4328-8cdd-ab369f792064",
   "metadata": {},
   "source": [
    "# Pretty indexation"
   ]
  },
  {
   "cell_type": "code",
   "execution_count": 7,
   "id": "5617aad9-11bd-492f-9d2b-db2b6f32c7d2",
   "metadata": {
    "execution": {
     "iopub.execute_input": "2022-07-03T01:06:43.248498Z",
     "iopub.status.busy": "2022-07-03T01:06:43.247520Z",
     "iopub.status.idle": "2022-07-03T01:06:43.255793Z",
     "shell.execute_reply": "2022-07-03T01:06:43.254813Z",
     "shell.execute_reply.started": "2022-07-03T01:06:43.248498Z"
    },
    "tags": []
   },
   "outputs": [],
   "source": [
    "output_reidx = {key:var-n_eqs for key,var in output_idx.items()}\n",
    "edges, tree = eqv_to_edges_tree(eqv, output_reidx, n_eqs)"
   ]
  },
  {
   "cell_type": "markdown",
   "id": "1f89ca07-e8df-47cc-9e7b-cf4a8827ca1f",
   "metadata": {},
   "source": [
    "# Original"
   ]
  },
  {
   "cell_type": "code",
   "execution_count": 8,
   "id": "dddc91ed-368e-46b8-a528-8592bc23ef87",
   "metadata": {
    "execution": {
     "iopub.execute_input": "2022-07-03T01:06:43.959895Z",
     "iopub.status.busy": "2022-07-03T01:06:43.959895Z",
     "iopub.status.idle": "2022-07-03T01:06:43.973417Z",
     "shell.execute_reply": "2022-07-03T01:06:43.973417Z",
     "shell.execute_reply.started": "2022-07-03T01:06:43.959895Z"
    },
    "tags": []
   },
   "outputs": [],
   "source": [
    "G = flat_graph_formulation(*edges)\n",
    "merge_order = sort_scc(G)\n",
    "maxscc = max([len(elt) for elt in merge_order])"
   ]
  },
  {
   "cell_type": "markdown",
   "id": "f0a1e020-c370-4dff-a583-76e29d177827",
   "metadata": {},
   "source": [
    "# Optimal scc"
   ]
  },
  {
   "cell_type": "code",
   "execution_count": 14,
   "id": "5c5678a6-a9bd-4a61-8294-0654164f51b7",
   "metadata": {
    "execution": {
     "iopub.execute_input": "2022-07-03T01:07:32.757872Z",
     "iopub.status.busy": "2022-07-03T01:07:32.757872Z",
     "iopub.status.idle": "2022-07-03T01:07:32.764539Z",
     "shell.execute_reply": "2022-07-03T01:07:32.763870Z",
     "shell.execute_reply.started": "2022-07-03T01:07:32.757872Z"
    },
    "tags": []
   },
   "outputs": [],
   "source": [
    "import networkx as nx\n",
    "import gurobipy as gp\n",
    "from gurobipy import GRB"
   ]
  },
  {
   "cell_type": "code",
   "execution_count": 34,
   "id": "6e148a80-9fb8-4664-b55c-aeb0f499c8f7",
   "metadata": {
    "execution": {
     "iopub.execute_input": "2022-07-03T00:47:43.303107Z",
     "iopub.status.busy": "2022-07-03T00:47:43.303107Z",
     "iopub.status.idle": "2022-07-03T00:47:43.321688Z",
     "shell.execute_reply": "2022-07-03T00:47:43.321188Z",
     "shell.execute_reply.started": "2022-07-03T00:47:43.303107Z"
    },
    "tags": []
   },
   "outputs": [],
   "source": [
    "def get_scc(xval, xref, rightset):\n",
    "    edges_left_right = xref.keys()\n",
    "    selected = tuple((right, left) for left, right in edges_left_right if xval[left, right] > 0.5)\n",
    "    D = nx.DiGraph(dir_graph(edges_left_right, rightset, selected))\n",
    "    S = nx.strongly_connected_components(D)\n",
    "    scc = [elt for elt in S if len(elt)>1]\n",
    "    return scc, D\n",
    "\n",
    "def assignminscc(model, where):\n",
    "    if where == GRB.Callback.MIPSOL:\n",
    "        # make a list of edges selected in the solution\n",
    "        x_sol = model.cbGetSolution(model._x)\n",
    "        allscc, _ = get_scc(x_sol, model._x, model._rightset)\n",
    "        print(allscc)\n",
    "        for idx, scc in enumerate(allscc):\n",
    "            g = model._G.subgraph(scc)\n",
    "            model.cbLazy(gp.quicksum(model._x[edge] if edge in model._x else model._x[edge[::-1]] for edge in g.edges())<=model._c)"
   ]
  },
  {
   "cell_type": "code",
   "execution_count": 39,
   "id": "f5697c2e-393b-4df5-a63f-b1bafbcde119",
   "metadata": {
    "execution": {
     "iopub.execute_input": "2022-07-03T00:48:55.399267Z",
     "iopub.status.busy": "2022-07-03T00:48:55.398259Z",
     "iopub.status.idle": "2022-07-03T00:48:55.409140Z",
     "shell.execute_reply": "2022-07-03T00:48:55.408831Z",
     "shell.execute_reply.started": "2022-07-03T00:48:55.399267Z"
    },
    "tags": []
   },
   "outputs": [],
   "source": [
    "def var_matched_cons_reversed(x, i, not_input=None, not_output=None):\n",
    "    not_input = [] if not_input == None else not_input\n",
    "    not_output = [] if not_output == None else not_output\n",
    "    eqconstant = 1 if i not in not_output else 0\n",
    "    if i in not_input:\n",
    "        return x.sum(i, '*') == eqconstant\n",
    "    else:\n",
    "        return x.sum(i, '*') <= eqconstant"
   ]
  },
  {
   "cell_type": "code",
   "execution_count": 60,
   "id": "7c323b35-71a4-4918-9a7a-f2c7722175c3",
   "metadata": {
    "execution": {
     "iopub.execute_input": "2022-07-03T00:58:07.474690Z",
     "iopub.status.busy": "2022-07-03T00:58:07.474690Z",
     "iopub.status.idle": "2022-07-03T00:58:07.483222Z",
     "shell.execute_reply": "2022-07-03T00:58:07.483024Z",
     "shell.execute_reply.started": "2022-07-03T00:58:07.474690Z"
    },
    "tags": []
   },
   "outputs": [],
   "source": [
    "def min_max_scc2(edges_left_right, leftset, rightset, not_input=None, not_output=None):\n",
    "    G = nx.Graph(edges_left_right)\n",
    "    m = gp.Model('cycles')\n",
    "    m.setParam('OutputFlag', False )\n",
    "    m.setParam('TimeLimit', 10)\n",
    "    x = m.addVars(edges_left_right, name=\"assign\", vtype=GRB.BINARY)\n",
    "    c = m.addVar(lb=0.0)\n",
    "    # A variable node can have maximum one ouput edge (possibly of none)\n",
    "    m.addConstrs((x.sum('*',i) == 1 for i in rightset), name='equations') #needs to be equality\n",
    "    # An equation node shall have one output edge unless part of elimination set\n",
    "    m.addConstrs((var_matched_cons_reversed(x,i, not_input, not_output) for i in leftset), name='variables')\n",
    "    m.setObjective(c, GRB.MINIMIZE)\n",
    "    m._rightset = rightset\n",
    "    m._G = G\n",
    "    m._x = x\n",
    "    m._c = c\n",
    "    m.Params.lazyConstraints = 1\n",
    "    m.optimize(assignminscc)\n",
    "    return m.getAttr('x', x), m"
   ]
  },
  {
   "cell_type": "code",
   "execution_count": 61,
   "id": "fe26cd89-4e22-4268-a796-522277a025f7",
   "metadata": {
    "execution": {
     "iopub.execute_input": "2022-07-03T00:58:07.838221Z",
     "iopub.status.busy": "2022-07-03T00:58:07.838221Z",
     "iopub.status.idle": "2022-07-03T00:58:07.855590Z",
     "shell.execute_reply": "2022-07-03T00:58:07.854588Z",
     "shell.execute_reply.started": "2022-07-03T00:58:07.838221Z"
    },
    "tags": []
   },
   "outputs": [],
   "source": [
    "#edges_left_right = list(dir_graph(edges_original, eqnidxs, {})) # not needed, since order is correct already"
   ]
  },
  {
   "cell_type": "code",
   "execution_count": 10,
   "id": "dac79c05-1267-4a24-b332-d29ba9f9c030",
   "metadata": {
    "execution": {
     "iopub.execute_input": "2022-07-03T01:07:21.425964Z",
     "iopub.status.busy": "2022-07-03T01:07:21.425964Z",
     "iopub.status.idle": "2022-07-03T01:07:21.458647Z",
     "shell.execute_reply": "2022-07-03T01:07:21.457980Z",
     "shell.execute_reply.started": "2022-07-03T01:07:21.425964Z"
    },
    "tags": []
   },
   "outputs": [
    {
     "name": "stdout",
     "output_type": "stream",
     "text": [
      "Set parameter Username\n",
      "Academic license - for non-commercial use only - expires 2023-02-25\n"
     ]
    }
   ],
   "source": [
    "xsol, m = min_max_scc2(edges_original, varidxs, eqnidxs)"
   ]
  },
  {
   "cell_type": "code",
   "execution_count": 11,
   "id": "b982d7ad-c730-48d8-9ef4-7f5d37300a29",
   "metadata": {
    "execution": {
     "iopub.execute_input": "2022-07-03T01:07:22.611602Z",
     "iopub.status.busy": "2022-07-03T01:07:22.611602Z",
     "iopub.status.idle": "2022-07-03T01:07:22.629841Z",
     "shell.execute_reply": "2022-07-03T01:07:22.629222Z",
     "shell.execute_reply.started": "2022-07-03T01:07:22.611602Z"
    },
    "tags": []
   },
   "outputs": [
    {
     "data": {
      "text/plain": [
       "6.0"
      ]
     },
     "execution_count": 11,
     "metadata": {},
     "output_type": "execute_result"
    }
   ],
   "source": [
    "m.getObjective().getValue()"
   ]
  },
  {
   "cell_type": "code",
   "execution_count": 15,
   "id": "ce903560-5a73-4cd7-ae33-69868661bd52",
   "metadata": {
    "execution": {
     "iopub.execute_input": "2022-07-03T01:07:35.249559Z",
     "iopub.status.busy": "2022-07-03T01:07:35.249559Z",
     "iopub.status.idle": "2022-07-03T01:07:35.268176Z",
     "shell.execute_reply": "2022-07-03T01:07:35.267453Z",
     "shell.execute_reply.started": "2022-07-03T01:07:35.249559Z"
    },
    "tags": []
   },
   "outputs": [],
   "source": [
    "selected = tuple((right, left) for left, right in edges_original if xsol[left, right] > 0.5)"
   ]
  },
  {
   "cell_type": "code",
   "execution_count": 16,
   "id": "604b1f09-25e2-43fc-b91b-5f4ea8206b7f",
   "metadata": {
    "execution": {
     "iopub.execute_input": "2022-07-03T01:07:35.430592Z",
     "iopub.status.busy": "2022-07-03T01:07:35.430592Z",
     "iopub.status.idle": "2022-07-03T01:07:35.438178Z",
     "shell.execute_reply": "2022-07-03T01:07:35.437677Z",
     "shell.execute_reply.started": "2022-07-03T01:07:35.430592Z"
    },
    "tags": []
   },
   "outputs": [],
   "source": [
    "D = nx.DiGraph(dir_graph(edges_original, eqnidxs, selected))\n",
    "minassign_order = sort_scc(D, lambda x: x in eqnidxs)"
   ]
  },
  {
   "cell_type": "code",
   "execution_count": 17,
   "id": "775a0c04-ef6f-4361-959f-861b2574da02",
   "metadata": {
    "execution": {
     "iopub.execute_input": "2022-07-03T01:07:35.864983Z",
     "iopub.status.busy": "2022-07-03T01:07:35.863400Z",
     "iopub.status.idle": "2022-07-03T01:07:35.876902Z",
     "shell.execute_reply": "2022-07-03T01:07:35.875906Z",
     "shell.execute_reply.started": "2022-07-03T01:07:35.864983Z"
    },
    "tags": []
   },
   "outputs": [
    {
     "data": {
      "text/plain": [
       "[{3}, {9}, {7}, {2, 4}, {0}, {1}, {6}, {8}, {5}]"
      ]
     },
     "execution_count": 17,
     "metadata": {},
     "output_type": "execute_result"
    }
   ],
   "source": [
    "minassign_order"
   ]
  },
  {
   "cell_type": "code",
   "execution_count": 9,
   "id": "c95b4d6a-f35f-4da2-a1a9-fe35e79a701a",
   "metadata": {
    "execution": {
     "iopub.execute_input": "2022-06-28T18:52:36.651990Z",
     "iopub.status.busy": "2022-06-28T18:52:36.651990Z",
     "iopub.status.idle": "2022-06-28T18:52:36.667577Z",
     "shell.execute_reply": "2022-06-28T18:52:36.666616Z",
     "shell.execute_reply.started": "2022-06-28T18:52:36.651990Z"
    },
    "tags": []
   },
   "outputs": [],
   "source": [
    "optim_edges = list(dir_graph(edges_original, varidxs))"
   ]
  },
  {
   "cell_type": "code",
   "execution_count": 10,
   "id": "a53853e2-988e-49d6-8bc8-ab575c5991f5",
   "metadata": {
    "execution": {
     "iopub.execute_input": "2022-06-28T18:52:36.667577Z",
     "iopub.status.busy": "2022-06-28T18:52:36.667577Z",
     "iopub.status.idle": "2022-06-28T18:52:36.683627Z",
     "shell.execute_reply": "2022-06-28T18:52:36.682708Z",
     "shell.execute_reply.started": "2022-06-28T18:52:36.667577Z"
    },
    "tags": []
   },
   "outputs": [
    {
     "name": "stdout",
     "output_type": "stream",
     "text": [
      "Set parameter Username\n",
      "Academic license - for non-commercial use only - expires 2023-02-25\n"
     ]
    }
   ],
   "source": [
    "maxl, xsol, m = min_max_scc(optim_edges, varidxs, eqnidxs)"
   ]
  },
  {
   "cell_type": "code",
   "execution_count": 11,
   "id": "3263aa0d-a1a1-4c03-8e2c-e9d21c32b9de",
   "metadata": {
    "execution": {
     "iopub.execute_input": "2022-06-28T18:52:36.684715Z",
     "iopub.status.busy": "2022-06-28T18:52:36.683627Z",
     "iopub.status.idle": "2022-06-28T18:52:36.697626Z",
     "shell.execute_reply": "2022-06-28T18:52:36.697626Z",
     "shell.execute_reply.started": "2022-06-28T18:52:36.684715Z"
    },
    "tags": []
   },
   "outputs": [
    {
     "data": {
      "text/plain": [
       "2.0"
      ]
     },
     "execution_count": 11,
     "metadata": {},
     "output_type": "execute_result"
    }
   ],
   "source": [
    "maxl"
   ]
  },
  {
   "cell_type": "code",
   "execution_count": 12,
   "id": "192e73f3-6e49-4471-ae7b-2dfd9feac3c3",
   "metadata": {
    "execution": {
     "iopub.execute_input": "2022-06-28T18:52:37.881196Z",
     "iopub.status.busy": "2022-06-28T18:52:37.881196Z",
     "iopub.status.idle": "2022-06-28T18:52:37.885525Z",
     "shell.execute_reply": "2022-06-28T18:52:37.885216Z",
     "shell.execute_reply.started": "2022-06-28T18:52:37.881196Z"
    },
    "tags": []
   },
   "outputs": [],
   "source": [
    "selected = dict((left, right-n_eqs) for left, right in optim_edges if xsol[left, right] > 0.5)"
   ]
  },
  {
   "cell_type": "code",
   "execution_count": 13,
   "id": "2419208c-98c3-48d4-992a-da19f77c44bd",
   "metadata": {
    "execution": {
     "iopub.execute_input": "2022-06-28T18:52:38.075548Z",
     "iopub.status.busy": "2022-06-28T18:52:38.075548Z",
     "iopub.status.idle": "2022-06-28T18:52:38.088865Z",
     "shell.execute_reply": "2022-06-28T18:52:38.088653Z",
     "shell.execute_reply.started": "2022-06-28T18:52:38.075548Z"
    },
    "tags": []
   },
   "outputs": [
    {
     "data": {
      "text/plain": [
       "{0: 4, 1: 0, 2: 8, 3: 5, 4: 1, 5: 6, 6: 3, 7: 11, 8: 10, 9: 7}"
      ]
     },
     "execution_count": 13,
     "metadata": {},
     "output_type": "execute_result"
    }
   ],
   "source": [
    "selected"
   ]
  },
  {
   "cell_type": "code",
   "execution_count": 14,
   "id": "68871f3a-a944-40d8-825f-2e1c42c31b8c",
   "metadata": {
    "execution": {
     "iopub.execute_input": "2022-06-28T18:52:38.235692Z",
     "iopub.status.busy": "2022-06-28T18:52:38.235391Z",
     "iopub.status.idle": "2022-06-28T18:52:38.251692Z",
     "shell.execute_reply": "2022-06-28T18:52:38.250691Z",
     "shell.execute_reply.started": "2022-06-28T18:52:38.235391Z"
    },
    "tags": []
   },
   "outputs": [],
   "source": [
    "Ein, Eout, Rin = copy_dicts(edges)\n",
    "_, Stree, Vtree = copy_dicts(tree)\n",
    "Eout_minassign = Eout.copy()\n",
    "Ein_minassign = Ein.copy()\n",
    "for comp in Eout.keys():\n",
    "    if comp in selected:\n",
    "        var = selected[comp]\n",
    "        Eout_minassign[comp] = (var,)\n",
    "        Ein_minassign[comp] = tuple(elt for elt in chain(Ein[comp],Eout[comp]) if elt!=var)\n",
    "    else:\n",
    "        old_out_var = Eout[comp][0]\n",
    "        Eout_minassign[comp] = (None,)\n",
    "        Ein_minassign[comp] = tuple(elt for elt in chain(Ein[comp],Eout[comp]))"
   ]
  },
  {
   "cell_type": "code",
   "execution_count": 15,
   "id": "cd48e185-9bb6-4f2d-848a-1a2dba292869",
   "metadata": {
    "execution": {
     "iopub.execute_input": "2022-06-28T18:52:38.811197Z",
     "iopub.status.busy": "2022-06-28T18:52:38.811197Z",
     "iopub.status.idle": "2022-06-28T18:52:38.815695Z",
     "shell.execute_reply": "2022-06-28T18:52:38.815320Z",
     "shell.execute_reply.started": "2022-06-28T18:52:38.811197Z"
    },
    "tags": []
   },
   "outputs": [],
   "source": [
    "nodetyperepr = {VAR: 'x_{{{}}}', COMP: 'f_{{{}}}', SOLVER: '{}'}\n",
    "edges_minassign = Ein_minassign, Eout_minassign, dict()\n",
    "G2 = flat_graph_formulation(*edges_minassign, nodetyperepr=nodetyperepr)"
   ]
  },
  {
   "cell_type": "code",
   "execution_count": 16,
   "id": "3996a670-b489-4b5d-99d9-6f6f25ba5219",
   "metadata": {
    "execution": {
     "iopub.execute_input": "2022-06-28T18:52:39.274953Z",
     "iopub.status.busy": "2022-06-28T18:52:39.274953Z",
     "iopub.status.idle": "2022-06-28T18:52:39.281405Z",
     "shell.execute_reply": "2022-06-28T18:52:39.280950Z",
     "shell.execute_reply.started": "2022-06-28T18:52:39.274953Z"
    },
    "tags": []
   },
   "outputs": [],
   "source": [
    "minassign_order = sort_scc(G2)"
   ]
  },
  {
   "cell_type": "code",
   "execution_count": 17,
   "id": "5239b9a7-0d39-4da5-a788-12aba3435fc3",
   "metadata": {
    "execution": {
     "iopub.execute_input": "2022-06-28T18:52:39.468287Z",
     "iopub.status.busy": "2022-06-28T18:52:39.466944Z",
     "iopub.status.idle": "2022-06-28T18:52:39.483289Z",
     "shell.execute_reply": "2022-06-28T18:52:39.482279Z",
     "shell.execute_reply.started": "2022-06-28T18:52:39.468287Z"
    },
    "tags": []
   },
   "outputs": [
    {
     "data": {
      "text/plain": [
       "[{f_{3}},\n",
       " {f_{9}},\n",
       " {f_{7}},\n",
       " {f_{2}, f_{4}},\n",
       " {f_{0}},\n",
       " {f_{1}},\n",
       " {f_{6}},\n",
       " {f_{8}},\n",
       " {f_{5}}]"
      ]
     },
     "execution_count": 17,
     "metadata": {},
     "output_type": "execute_result"
    }
   ],
   "source": [
    "minassign_order"
   ]
  },
  {
   "cell_type": "code",
   "execution_count": 18,
   "id": "69735208-b443-4a18-86e4-43d65f1d6477",
   "metadata": {
    "execution": {
     "iopub.execute_input": "2022-06-28T18:52:39.922633Z",
     "iopub.status.busy": "2022-06-28T18:52:39.922633Z",
     "iopub.status.idle": "2022-06-28T18:52:39.931630Z",
     "shell.execute_reply": "2022-06-28T18:52:39.931130Z",
     "shell.execute_reply.started": "2022-06-28T18:52:39.922633Z"
    },
    "tags": []
   },
   "outputs": [],
   "source": [
    "nedges, ntree = reorder_merge_solve(edges_minassign, tree, minassign_order, 1)"
   ]
  },
  {
   "cell_type": "code",
   "execution_count": 19,
   "id": "640e1161-2e7b-4cdb-8566-7f5822baaa7b",
   "metadata": {
    "execution": {
     "iopub.execute_input": "2022-06-28T18:52:40.227045Z",
     "iopub.status.busy": "2022-06-28T18:52:40.227045Z",
     "iopub.status.idle": "2022-06-28T18:52:40.231045Z",
     "shell.execute_reply": "2022-06-28T18:52:40.231045Z",
     "shell.execute_reply.started": "2022-06-28T18:52:40.227045Z"
    },
    "tags": []
   },
   "outputs": [],
   "source": [
    "#Ftree_mina = OrderedDict([(elt.name,'solver') for comp in minassign_order for elt in comp])"
   ]
  },
  {
   "cell_type": "code",
   "execution_count": 20,
   "id": "46065408-4372-4949-940f-c257f065e24f",
   "metadata": {
    "execution": {
     "iopub.execute_input": "2022-06-28T18:52:41.078389Z",
     "iopub.status.busy": "2022-06-28T18:52:41.078389Z",
     "iopub.status.idle": "2022-06-28T18:52:41.088384Z",
     "shell.execute_reply": "2022-06-28T18:52:41.087384Z",
     "shell.execute_reply.started": "2022-06-28T18:52:41.078389Z"
    },
    "tags": []
   },
   "outputs": [
    {
     "data": {
      "text/plain": [
       "(OrderedDict([(3, 1),\n",
       "              (9, 1),\n",
       "              (7, 1),\n",
       "              (2, 2),\n",
       "              (4, 2),\n",
       "              (0, 1),\n",
       "              (1, 1),\n",
       "              (6, 1),\n",
       "              (8, 1),\n",
       "              (5, 1)]),\n",
       " {2: 1},\n",
       " {8: 2, 1: 2})"
      ]
     },
     "execution_count": 20,
     "metadata": {},
     "output_type": "execute_result"
    }
   ],
   "source": [
    "ntree"
   ]
  },
  {
   "cell_type": "markdown",
   "id": "23ce7ed9-1912-4479-8de8-5db6f822185d",
   "metadata": {},
   "source": [
    "## Visualize"
   ]
  },
  {
   "cell_type": "code",
   "execution_count": 42,
   "id": "1316fec7-9b78-4f7e-9eb9-5b53a677814a",
   "metadata": {
    "execution": {
     "iopub.execute_input": "2022-06-28T16:53:48.095629Z",
     "iopub.status.busy": "2022-06-28T16:53:48.095629Z",
     "iopub.status.idle": "2022-06-28T16:53:48.102617Z",
     "shell.execute_reply": "2022-06-28T16:53:48.101538Z",
     "shell.execute_reply.started": "2022-06-28T16:53:48.095629Z"
    },
    "tags": []
   },
   "outputs": [],
   "source": [
    "sequence, permutation, Ein, Eout, solver_iterator = incidence_artifacts(nedges, ntree, True)"
   ]
  },
  {
   "cell_type": "code",
   "execution_count": 21,
   "id": "de17f30f-d70a-4426-9e13-455799a06e9b",
   "metadata": {
    "execution": {
     "iopub.execute_input": "2022-06-28T18:52:46.624618Z",
     "iopub.status.busy": "2022-06-28T18:52:46.624618Z",
     "iopub.status.idle": "2022-06-28T18:52:47.348273Z",
     "shell.execute_reply": "2022-06-28T18:52:47.347395Z",
     "shell.execute_reply.started": "2022-06-28T18:52:46.624618Z"
    },
    "tags": []
   },
   "outputs": [
    {
     "data": {
      "image/png": "[encoded data removed]",
      "text/plain": [
       "<Figure size 432x288 with 1 Axes>"
      ]
     },
     "metadata": {
      "needs_background": "light"
     },
     "output_type": "display_data"
    }
   ],
   "source": [
    "_, ax = render_incidence(nedges, ntree, namingfunc, displaysolver=True)\n",
    "plt.sca(ax)\n",
    "plt.savefig(r'minscc_10x13.png', dpi=300, bbox_inches='tight')"
   ]
  },
  {
   "cell_type": "code",
   "execution_count": null,
   "id": "4575a266-c3c7-4b75-bb6f-eeec1dcddba7",
   "metadata": {},
   "outputs": [],
   "source": []
  }
 ],
 "metadata": {
  "kernelspec": {
   "display_name": "Python [conda env:mdo]",
   "language": "python",
   "name": "conda-env-mdo-py"
  },
  "language_info": {
   "codemirror_mode": {
    "name": "ipython",
    "version": 3
   },
   "file_extension": ".py",
   "mimetype": "text/x-python",
   "name": "python",
   "nbconvert_exporter": "python",
   "pygments_lexer": "ipython3",
   "version": "3.9.7"
  }
 },
 "nbformat": 4,
 "nbformat_minor": 5
}
