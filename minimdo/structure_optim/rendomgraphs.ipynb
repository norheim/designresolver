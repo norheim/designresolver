{
 "cells": [
  {
   "cell_type": "code",
   "execution_count": 2,
   "id": "b7eec287-101d-4518-b1ca-ac9dc8b01450",
   "metadata": {
    "execution": {
     "iopub.execute_input": "2022-07-21T17:08:54.286368Z",
     "iopub.status.busy": "2022-07-21T17:08:54.285351Z",
     "iopub.status.idle": "2022-07-21T17:08:59.927132Z",
     "shell.execute_reply": "2022-07-21T17:08:59.927132Z",
     "shell.execute_reply.started": "2022-07-21T17:08:54.286368Z"
    },
    "tags": []
   },
   "outputs": [],
   "source": [
    "from testproblems import generate_random_prob, random_problem_with_artifacts\n",
    "from datastructures.operators import invert_edges, sort_scc\n",
    "from datastructures.rendering import render_incidence\n",
    "from datastructures.tearing import min_arc_set_assign,dir_graph\n",
    "from datastructures.graphutils import edges_to_Ein_Eout, sources\n",
    "from datastructures.polycasebuilder import eqv_to_edges_tree\n",
    "import networkx as nx\n",
    "import numpy as np\n",
    "from itertools import chain"
   ]
  },
  {
   "cell_type": "code",
   "execution_count": 16,
   "id": "2ec2d369-316b-41f7-b6df-0c8fa604b1f9",
   "metadata": {
    "execution": {
     "iopub.execute_input": "2022-07-21T17:12:25.686379Z",
     "iopub.status.busy": "2022-07-21T17:12:25.686379Z",
     "iopub.status.idle": "2022-07-21T17:12:25.703949Z",
     "shell.execute_reply": "2022-07-21T17:12:25.703353Z",
     "shell.execute_reply.started": "2022-07-21T17:12:25.686379Z"
    },
    "tags": []
   },
   "outputs": [],
   "source": [
    "m = 6\n",
    "n = 8\n",
    "seed = 10\n",
    "sparsity = 1.\n",
    "runs = (\n",
    "    (0.5, 'sparsity_half.png'),\n",
    "    (1., 'sparsity_one.png'),\n",
    "    (1.5, 'sparsity_one_and_half.png')\n",
    ")\n",
    "sparsity, figname = runs[1]"
   ]
  },
  {
   "cell_type": "code",
   "execution_count": 17,
   "id": "b63f2f42-6573-4700-99bb-3bbab3d40262",
   "metadata": {
    "execution": {
     "iopub.execute_input": "2022-07-21T17:12:25.968818Z",
     "iopub.status.busy": "2022-07-21T17:12:25.967808Z",
     "iopub.status.idle": "2022-07-21T17:12:25.985377Z",
     "shell.execute_reply": "2022-07-21T17:12:25.984377Z",
     "shell.execute_reply.started": "2022-07-21T17:12:25.968818Z"
    },
    "tags": []
   },
   "outputs": [],
   "source": [
    "kwargs = random_problem_with_artifacts(m,n,seed,sparsity)"
   ]
  },
  {
   "cell_type": "code",
   "execution_count": 18,
   "id": "399d43a6-4ee9-4136-8cd2-8fcd0b1d0497",
   "metadata": {
    "execution": {
     "iopub.execute_input": "2022-07-21T17:12:26.350897Z",
     "iopub.status.busy": "2022-07-21T17:12:26.350897Z",
     "iopub.status.idle": "2022-07-21T17:12:26.362165Z",
     "shell.execute_reply": "2022-07-21T17:12:26.361418Z",
     "shell.execute_reply.started": "2022-07-21T17:12:26.350897Z"
    },
    "tags": []
   },
   "outputs": [],
   "source": [
    "eq_incidence,outset,eqnidxs,edges_varonleft,varidxs = map(kwargs.get, [\"eq_incidence\",\"outset\",\"eqnidxs\",\"edges_varonleft\",\"varidxs\"])"
   ]
  },
  {
   "cell_type": "code",
   "execution_count": 19,
   "id": "35ece373-e7d6-4e90-9a07-ff00ed0a2a5a",
   "metadata": {
    "execution": {
     "iopub.execute_input": "2022-07-21T17:12:26.543495Z",
     "iopub.status.busy": "2022-07-21T17:12:26.543495Z",
     "iopub.status.idle": "2022-07-21T17:12:26.562831Z",
     "shell.execute_reply": "2022-07-21T17:12:26.562831Z",
     "shell.execute_reply.started": "2022-07-21T17:12:26.543495Z"
    },
    "tags": []
   },
   "outputs": [],
   "source": [
    "edges_default,tree_default,new_outset = eqv_to_edges_tree(eq_incidence, outset, len(eqnidxs))"
   ]
  },
  {
   "cell_type": "code",
   "execution_count": 20,
   "id": "df7b4edb-1596-4afe-baf8-696c10a25393",
   "metadata": {
    "execution": {
     "iopub.execute_input": "2022-07-21T17:12:26.793981Z",
     "iopub.status.busy": "2022-07-21T17:12:26.793981Z",
     "iopub.status.idle": "2022-07-21T17:12:27.123147Z",
     "shell.execute_reply": "2022-07-21T17:12:27.114148Z",
     "shell.execute_reply.started": "2022-07-21T17:12:26.793981Z"
    },
    "tags": []
   },
   "outputs": [
    {
     "data": {
      "image/png": "[encoded data removed]",
      "text/plain": [
       "<Figure size 288x288 with 1 Axes>"
      ]
     },
     "metadata": {
      "needs_background": "light"
     },
     "output_type": "display_data"
    }
   ],
   "source": [
    "render_incidence(edges_default, tree_default, figname=figname, save=True, figsize=((4,4)));"
   ]
  },
  {
   "cell_type": "code",
   "execution_count": 21,
   "id": "8c43c93e-2c80-4b2c-b893-a14a1238de65",
   "metadata": {
    "execution": {
     "iopub.execute_input": "2022-07-21T17:12:39.795700Z",
     "iopub.status.busy": "2022-07-21T17:12:39.795700Z",
     "iopub.status.idle": "2022-07-21T17:12:39.819754Z",
     "shell.execute_reply": "2022-07-21T17:12:39.819248Z",
     "shell.execute_reply.started": "2022-07-21T17:12:39.795700Z"
    },
    "tags": []
   },
   "outputs": [],
   "source": [
    "xsol, m = min_arc_set_assign(edges_varonleft, varidxs, eqnidxs)\n",
    "outset_opt = dict((right, left) for left, right in edges_varonleft if xsol[left, right] > 0.5)"
   ]
  },
  {
   "cell_type": "code",
   "execution_count": 22,
   "id": "910c2719-a589-4722-89dc-8df270f4b5fb",
   "metadata": {
    "execution": {
     "iopub.execute_input": "2022-07-21T17:12:40.103229Z",
     "iopub.status.busy": "2022-07-21T17:12:40.102231Z",
     "iopub.status.idle": "2022-07-21T17:12:40.116167Z",
     "shell.execute_reply": "2022-07-21T17:12:40.115158Z",
     "shell.execute_reply.started": "2022-07-21T17:12:40.103229Z"
    },
    "tags": []
   },
   "outputs": [],
   "source": [
    "edges_opt,tree_opt,new_outset_opt = eqv_to_edges_tree(eq_incidence, outset_opt, len(eqnidxs))"
   ]
  },
  {
   "cell_type": "code",
   "execution_count": 23,
   "id": "88f8fde1-961d-47ca-8f6b-dda9d6b2776d",
   "metadata": {
    "execution": {
     "iopub.execute_input": "2022-07-21T17:12:40.486926Z",
     "iopub.status.busy": "2022-07-21T17:12:40.486926Z",
     "iopub.status.idle": "2022-07-21T17:12:40.503432Z",
     "shell.execute_reply": "2022-07-21T17:12:40.503432Z",
     "shell.execute_reply.started": "2022-07-21T17:12:40.486926Z"
    },
    "tags": []
   },
   "outputs": [],
   "source": [
    "inputids = sources(*edges_to_Ein_Eout(edges_opt))"
   ]
  },
  {
   "cell_type": "code",
   "execution_count": 24,
   "id": "2136afba-7111-4f53-8063-93d2bb96d2a8",
   "metadata": {
    "execution": {
     "iopub.execute_input": "2022-07-21T17:12:40.724683Z",
     "iopub.status.busy": "2022-07-21T17:12:40.723682Z",
     "iopub.status.idle": "2022-07-21T17:12:40.737683Z",
     "shell.execute_reply": "2022-07-21T17:12:40.736779Z",
     "shell.execute_reply.started": "2022-07-21T17:12:40.724683Z"
    },
    "tags": []
   },
   "outputs": [],
   "source": [
    "D = nx.DiGraph(dir_graph(edges_varonleft, eqnidxs, outset.items()))\n",
    "tree_opt = [{elt:2 for elt in chain(*sort_scc(D, lambda x: x in eqnidxs))},{2:1},{v:1 for v in inputids}]"
   ]
  },
  {
   "cell_type": "code",
   "execution_count": 25,
   "id": "3258ad16-2e42-4364-b197-71d7fe2495cb",
   "metadata": {
    "execution": {
     "iopub.execute_input": "2022-07-21T17:12:40.935829Z",
     "iopub.status.busy": "2022-07-21T17:12:40.935829Z",
     "iopub.status.idle": "2022-07-21T17:12:40.941063Z",
     "shell.execute_reply": "2022-07-21T17:12:40.939826Z",
     "shell.execute_reply.started": "2022-07-21T17:12:40.935829Z"
    },
    "tags": []
   },
   "outputs": [],
   "source": [
    "newidx = 'obj'"
   ]
  },
  {
   "cell_type": "code",
   "execution_count": 26,
   "id": "a884c78d-4712-4371-98ed-f1e76dc86625",
   "metadata": {
    "execution": {
     "iopub.execute_input": "2022-07-21T17:12:41.251998Z",
     "iopub.status.busy": "2022-07-21T17:12:41.251998Z",
     "iopub.status.idle": "2022-07-21T17:12:41.267992Z",
     "shell.execute_reply": "2022-07-21T17:12:41.267072Z",
     "shell.execute_reply.started": "2022-07-21T17:12:41.251998Z"
    },
    "tags": []
   },
   "outputs": [],
   "source": [
    "edges_opt[0][newidx] = tuple(inputids)\n",
    "edges_opt[1][newidx] = (None,)\n",
    "tree_opt[0][newidx] = 2"
   ]
  },
  {
   "cell_type": "code",
   "execution_count": 27,
   "id": "b96cf97a-2512-4e34-aea1-38e473db1c6f",
   "metadata": {
    "execution": {
     "iopub.execute_input": "2022-07-21T17:12:42.051174Z",
     "iopub.status.busy": "2022-07-21T17:12:42.050170Z",
     "iopub.status.idle": "2022-07-21T17:12:42.061169Z",
     "shell.execute_reply": "2022-07-21T17:12:42.061169Z",
     "shell.execute_reply.started": "2022-07-21T17:12:42.051174Z"
    },
    "tags": []
   },
   "outputs": [
    {
     "data": {
      "text/plain": [
       "[{5: 2, 1: 2, 0: 2, 2: 2, 4: 2, 3: 2, 'obj': 2}, {2: 1}, {4: 1, 5: 1}]"
      ]
     },
     "execution_count": 27,
     "metadata": {},
     "output_type": "execute_result"
    }
   ],
   "source": [
    "tree_opt"
   ]
  },
  {
   "cell_type": "code",
   "execution_count": 28,
   "id": "ac39b3f3-497b-413d-a66a-76cc5caec260",
   "metadata": {
    "execution": {
     "iopub.execute_input": "2022-07-21T17:12:42.257657Z",
     "iopub.status.busy": "2022-07-21T17:12:42.257657Z",
     "iopub.status.idle": "2022-07-21T17:12:42.704307Z",
     "shell.execute_reply": "2022-07-21T17:12:42.703208Z",
     "shell.execute_reply.started": "2022-07-21T17:12:42.257657Z"
    },
    "tags": []
   },
   "outputs": [
    {
     "data": {
      "image/png": "[encoded data removed]",
      "text/plain": [
       "<Figure size 288x288 with 1 Axes>"
      ]
     },
     "metadata": {
      "needs_background": "light"
     },
     "output_type": "display_data"
    }
   ],
   "source": [
    "render_incidence(edges_opt, tree_opt, figname=\"synthetic_example_opt.png\", save=True, figsize=((4,4)));"
   ]
  },
  {
   "cell_type": "code",
   "execution_count": 158,
   "id": "52b784b2-cb8f-4be1-9b39-6c683b1282e8",
   "metadata": {
    "execution": {
     "iopub.execute_input": "2022-07-12T18:27:16.754934Z",
     "iopub.status.busy": "2022-07-12T18:27:16.754934Z",
     "iopub.status.idle": "2022-07-12T18:27:16.762569Z",
     "shell.execute_reply": "2022-07-12T18:27:16.762402Z",
     "shell.execute_reply.started": "2022-07-12T18:27:16.754934Z"
    },
    "tags": []
   },
   "outputs": [],
   "source": [
    "tree_default = ({elt:2 for elt in eqnidxs},{2:1},{v:1 for v in inputids})\n",
    "edges_default[0][newidx] = tuple(inputids)\n",
    "edges_default[1][newidx] = (None,)"
   ]
  },
  {
   "cell_type": "code",
   "execution_count": 159,
   "id": "e78ade77-ab3f-4b70-895d-850028663f4e",
   "metadata": {
    "execution": {
     "iopub.execute_input": "2022-07-12T18:27:17.180164Z",
     "iopub.status.busy": "2022-07-12T18:27:17.180164Z",
     "iopub.status.idle": "2022-07-12T18:27:17.186200Z",
     "shell.execute_reply": "2022-07-12T18:27:17.185268Z",
     "shell.execute_reply.started": "2022-07-12T18:27:17.180164Z"
    },
    "tags": []
   },
   "outputs": [],
   "source": [
    "tree_default[0][newidx] = 2"
   ]
  },
  {
   "cell_type": "code",
   "execution_count": 160,
   "id": "a88cb0b1-97a9-4b7d-b4dc-484815b4dda0",
   "metadata": {
    "execution": {
     "iopub.execute_input": "2022-07-12T18:27:17.587880Z",
     "iopub.status.busy": "2022-07-12T18:27:17.587880Z",
     "iopub.status.idle": "2022-07-12T18:27:18.293890Z",
     "shell.execute_reply": "2022-07-12T18:27:18.292914Z",
     "shell.execute_reply.started": "2022-07-12T18:27:17.587880Z"
    },
    "tags": []
   },
   "outputs": [
    {
     "data": {
      "image/png": "[encoded data removed]",
      "text/plain": [
       "<Figure size 288x288 with 1 Axes>"
      ]
     },
     "metadata": {
      "needs_background": "light"
     },
     "output_type": "display_data"
    }
   ],
   "source": [
    "render_incidence(edges_default, tree_default, figname=\"synthetic_example_default.png\", save=True, figsize=((4,4)));"
   ]
  },
  {
   "cell_type": "code",
   "execution_count": null,
   "id": "bc603b22-e568-415a-a6e9-e49f88f561d9",
   "metadata": {},
   "outputs": [],
   "source": []
  }
 ],
 "metadata": {
  "kernelspec": {
   "display_name": "Python [conda env:minimdo]",
   "language": "python",
   "name": "conda-env-minimdo-py"
  },
  "language_info": {
   "codemirror_mode": {
    "name": "ipython",
    "version": 3
   },
   "file_extension": ".py",
   "mimetype": "text/x-python",
   "name": "python",
   "nbconvert_exporter": "python",
   "pygments_lexer": "ipython3",
   "version": "3.9.12"
  }
 },
 "nbformat": 4,
 "nbformat_minor": 5
}
