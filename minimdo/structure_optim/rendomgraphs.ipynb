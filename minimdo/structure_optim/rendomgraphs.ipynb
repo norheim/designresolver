{
 "cells": [
  {
   "cell_type": "code",
   "execution_count": 32,
   "id": "b7eec287-101d-4518-b1ca-ac9dc8b01450",
   "metadata": {
    "execution": {
     "iopub.execute_input": "2022-07-22T15:20:05.224698Z",
     "iopub.status.busy": "2022-07-22T15:20:05.223864Z",
     "iopub.status.idle": "2022-07-22T15:20:05.234413Z",
     "shell.execute_reply": "2022-07-22T15:20:05.234413Z",
     "shell.execute_reply.started": "2022-07-22T15:20:05.224698Z"
    },
    "tags": []
   },
   "outputs": [],
   "source": [
    "from testproblems import generate_random_prob, random_problem_with_artifacts\n",
    "from datastructures.operators import invert_edges, sort_scc, reformulate\n",
    "from datastructures.rendering import render_incidence\n",
    "from datastructures.tearing import min_arc_set_assign,dir_graph\n",
    "from datastructures.graphutils import edges_to_Ein_Eout, sources\n",
    "from datastructures.polycasebuilder import eqv_to_edges_tree\n",
    "import networkx as nx\n",
    "import numpy as np\n",
    "from itertools import chain"
   ]
  },
  {
   "cell_type": "code",
   "execution_count": 10,
   "id": "ff94a44e-da36-4451-9ae5-7bdedfda4a00",
   "metadata": {
    "execution": {
     "iopub.execute_input": "2022-07-22T15:12:05.670773Z",
     "iopub.status.busy": "2022-07-22T15:12:05.669775Z",
     "iopub.status.idle": "2022-07-22T15:12:05.681645Z",
     "shell.execute_reply": "2022-07-22T15:12:05.680782Z",
     "shell.execute_reply.started": "2022-07-22T15:12:05.670773Z"
    }
   },
   "outputs": [],
   "source": [
    "import matplotlib.pyplot as plt\n",
    "plt.rcParams['text.usetex'] = True"
   ]
  },
  {
   "cell_type": "code",
   "execution_count": 36,
   "id": "2ec2d369-316b-41f7-b6df-0c8fa604b1f9",
   "metadata": {
    "execution": {
     "iopub.execute_input": "2022-07-22T15:24:43.392422Z",
     "iopub.status.busy": "2022-07-22T15:24:43.390317Z",
     "iopub.status.idle": "2022-07-22T15:24:43.405302Z",
     "shell.execute_reply": "2022-07-22T15:24:43.405302Z",
     "shell.execute_reply.started": "2022-07-22T15:24:43.391419Z"
    },
    "tags": []
   },
   "outputs": [],
   "source": [
    "m = 3\n",
    "n = 5\n",
    "seed = 10\n",
    "sparsity = 1.\n",
    "runs = (\n",
    "    (0.5, 'sparsity_half.png'),\n",
    "    (1., 'sparsity_one.png'),\n",
    "    (1.5, 'sparsity_one_and_half.png')\n",
    ")\n",
    "sparsity, figname = runs[1]"
   ]
  },
  {
   "cell_type": "code",
   "execution_count": 37,
   "id": "b63f2f42-6573-4700-99bb-3bbab3d40262",
   "metadata": {
    "execution": {
     "iopub.execute_input": "2022-07-22T15:24:43.594464Z",
     "iopub.status.busy": "2022-07-22T15:24:43.593537Z",
     "iopub.status.idle": "2022-07-22T15:24:43.608562Z",
     "shell.execute_reply": "2022-07-22T15:24:43.608562Z",
     "shell.execute_reply.started": "2022-07-22T15:24:43.594464Z"
    },
    "tags": []
   },
   "outputs": [],
   "source": [
    "kwargs = random_problem_with_artifacts(m,n,seed,sparsity)"
   ]
  },
  {
   "cell_type": "code",
   "execution_count": 38,
   "id": "399d43a6-4ee9-4136-8cd2-8fcd0b1d0497",
   "metadata": {
    "execution": {
     "iopub.execute_input": "2022-07-22T15:24:43.751920Z",
     "iopub.status.busy": "2022-07-22T15:24:43.751920Z",
     "iopub.status.idle": "2022-07-22T15:24:43.765416Z",
     "shell.execute_reply": "2022-07-22T15:24:43.765416Z",
     "shell.execute_reply.started": "2022-07-22T15:24:43.751920Z"
    },
    "tags": []
   },
   "outputs": [],
   "source": [
    "eq_incidence,outset,eqnidxs,edges_varonleft,varidxs = map(kwargs.get, [\"eq_incidence\",\"outset\",\"eqnidxs\",\"edges_varonleft\",\"varidxs\"])"
   ]
  },
  {
   "cell_type": "code",
   "execution_count": 39,
   "id": "35ece373-e7d6-4e90-9a07-ff00ed0a2a5a",
   "metadata": {
    "execution": {
     "iopub.execute_input": "2022-07-22T15:24:44.109011Z",
     "iopub.status.busy": "2022-07-22T15:24:44.108603Z",
     "iopub.status.idle": "2022-07-22T15:24:44.125135Z",
     "shell.execute_reply": "2022-07-22T15:24:44.124095Z",
     "shell.execute_reply.started": "2022-07-22T15:24:44.109011Z"
    },
    "tags": []
   },
   "outputs": [],
   "source": [
    "edges_default,tree_default,new_outset = eqv_to_edges_tree(eq_incidence, outset, len(eqnidxs))"
   ]
  },
  {
   "cell_type": "code",
   "execution_count": 40,
   "id": "ac7d36b1-f701-4c64-b2c4-7a268e92cd72",
   "metadata": {
    "execution": {
     "iopub.execute_input": "2022-07-22T15:24:44.430135Z",
     "iopub.status.busy": "2022-07-22T15:24:44.430135Z",
     "iopub.status.idle": "2022-07-22T15:24:44.435091Z",
     "shell.execute_reply": "2022-07-22T15:24:44.434584Z",
     "shell.execute_reply.started": "2022-07-22T15:24:44.430135Z"
    },
    "tags": []
   },
   "outputs": [],
   "source": [
    "edges_undir,tree_undir,_ = eqv_to_edges_tree(eq_incidence, n_eqs=m)\n",
    "edges_dir,tree_dir,outset_adj = eqv_to_edges_tree(eq_incidence, outset, n_eqs=m)\n",
    "tree_undir[2].update({val:1 for val in outset_adj.values()})"
   ]
  },
  {
   "cell_type": "code",
   "execution_count": 41,
   "id": "df7b4edb-1596-4afe-baf8-696c10a25393",
   "metadata": {
    "execution": {
     "iopub.execute_input": "2022-07-22T15:24:45.258340Z",
     "iopub.status.busy": "2022-07-22T15:24:45.257379Z",
     "iopub.status.idle": "2022-07-22T15:24:45.398102Z",
     "shell.execute_reply": "2022-07-22T15:24:45.397099Z",
     "shell.execute_reply.started": "2022-07-22T15:24:45.258340Z"
    },
    "tags": []
   },
   "outputs": [
    {
     "data": {
      "image/png": "[encoded data removed]",
      "text/plain": [
       "<Figure size 216x216 with 1 Axes>"
      ]
     },
     "metadata": {
      "needs_background": "light"
     },
     "output_type": "display_data"
    }
   ],
   "source": [
    "render_incidence(edges_undir, tree_undir, figname='defense_synthetic_noobj.png', save=True, figsize=((3,3)), fontsize=22, rotation=0, hideticks=True, patchwidth=4);"
   ]
  },
  {
   "cell_type": "code",
   "execution_count": 12,
   "id": "8c43c93e-2c80-4b2c-b893-a14a1238de65",
   "metadata": {
    "execution": {
     "iopub.execute_input": "2022-07-22T15:12:20.009891Z",
     "iopub.status.busy": "2022-07-22T15:12:20.009891Z",
     "iopub.status.idle": "2022-07-22T15:12:20.028301Z",
     "shell.execute_reply": "2022-07-22T15:12:20.027084Z",
     "shell.execute_reply.started": "2022-07-22T15:12:20.009891Z"
    },
    "tags": []
   },
   "outputs": [
    {
     "name": "stdout",
     "output_type": "stream",
     "text": [
      "Set parameter Username\n",
      "Academic license - for non-commercial use only - expires 2023-02-25\n"
     ]
    }
   ],
   "source": [
    "xsol, m = min_arc_set_assign(edges_varonleft, varidxs, eqnidxs)\n",
    "outset_opt = dict((right, left) for left, right in edges_varonleft if xsol[left, right] > 0.5)"
   ]
  },
  {
   "cell_type": "code",
   "execution_count": 13,
   "id": "910c2719-a589-4722-89dc-8df270f4b5fb",
   "metadata": {
    "execution": {
     "iopub.execute_input": "2022-07-22T15:12:20.365007Z",
     "iopub.status.busy": "2022-07-22T15:12:20.365007Z",
     "iopub.status.idle": "2022-07-22T15:12:20.371806Z",
     "shell.execute_reply": "2022-07-22T15:12:20.370832Z",
     "shell.execute_reply.started": "2022-07-22T15:12:20.365007Z"
    },
    "tags": []
   },
   "outputs": [],
   "source": [
    "edges_opt,tree_opt,new_outset_opt = eqv_to_edges_tree(eq_incidence, outset_opt, len(eqnidxs))"
   ]
  },
  {
   "cell_type": "code",
   "execution_count": 14,
   "id": "88f8fde1-961d-47ca-8f6b-dda9d6b2776d",
   "metadata": {
    "execution": {
     "iopub.execute_input": "2022-07-22T15:12:20.693142Z",
     "iopub.status.busy": "2022-07-22T15:12:20.692078Z",
     "iopub.status.idle": "2022-07-22T15:12:20.699224Z",
     "shell.execute_reply": "2022-07-22T15:12:20.698291Z",
     "shell.execute_reply.started": "2022-07-22T15:12:20.693142Z"
    },
    "tags": []
   },
   "outputs": [],
   "source": [
    "inputids = sources(*edges_to_Ein_Eout(edges_opt))"
   ]
  },
  {
   "cell_type": "code",
   "execution_count": 15,
   "id": "2136afba-7111-4f53-8063-93d2bb96d2a8",
   "metadata": {
    "execution": {
     "iopub.execute_input": "2022-07-22T15:12:20.959892Z",
     "iopub.status.busy": "2022-07-22T15:12:20.958789Z",
     "iopub.status.idle": "2022-07-22T15:12:20.978685Z",
     "shell.execute_reply": "2022-07-22T15:12:20.978685Z",
     "shell.execute_reply.started": "2022-07-22T15:12:20.959892Z"
    },
    "tags": []
   },
   "outputs": [],
   "source": [
    "D = nx.DiGraph(dir_graph(edges_varonleft, eqnidxs, outset.items()))\n",
    "tree_opt = [{elt:2 for elt in chain(*sort_scc(D, lambda x: x in eqnidxs))},{2:1},{v:1 for v in inputids}]"
   ]
  },
  {
   "cell_type": "code",
   "execution_count": 16,
   "id": "3258ad16-2e42-4364-b197-71d7fe2495cb",
   "metadata": {
    "execution": {
     "iopub.execute_input": "2022-07-22T15:12:21.349778Z",
     "iopub.status.busy": "2022-07-22T15:12:21.349778Z",
     "iopub.status.idle": "2022-07-22T15:12:21.369765Z",
     "shell.execute_reply": "2022-07-22T15:12:21.368828Z",
     "shell.execute_reply.started": "2022-07-22T15:12:21.349778Z"
    },
    "tags": []
   },
   "outputs": [],
   "source": [
    "newidx = 'obj'"
   ]
  },
  {
   "cell_type": "code",
   "execution_count": 17,
   "id": "a884c78d-4712-4371-98ed-f1e76dc86625",
   "metadata": {
    "execution": {
     "iopub.execute_input": "2022-07-22T15:12:21.692284Z",
     "iopub.status.busy": "2022-07-22T15:12:21.692284Z",
     "iopub.status.idle": "2022-07-22T15:12:21.711903Z",
     "shell.execute_reply": "2022-07-22T15:12:21.711137Z",
     "shell.execute_reply.started": "2022-07-22T15:12:21.692284Z"
    },
    "tags": []
   },
   "outputs": [],
   "source": [
    "edges_opt[0][newidx] = tuple(inputids)\n",
    "edges_opt[1][newidx] = (None,)\n",
    "tree_opt[0][newidx] = 2"
   ]
  },
  {
   "cell_type": "code",
   "execution_count": 18,
   "id": "b96cf97a-2512-4e34-aea1-38e473db1c6f",
   "metadata": {
    "execution": {
     "iopub.execute_input": "2022-07-22T15:12:22.680978Z",
     "iopub.status.busy": "2022-07-22T15:12:22.680978Z",
     "iopub.status.idle": "2022-07-22T15:12:22.692387Z",
     "shell.execute_reply": "2022-07-22T15:12:22.692387Z",
     "shell.execute_reply.started": "2022-07-22T15:12:22.680978Z"
    },
    "tags": []
   },
   "outputs": [
    {
     "data": {
      "text/plain": [
       "[{0: 2, 1: 2, 2: 2, 'obj': 2}, {2: 1}, {2: 1, 4: 1}]"
      ]
     },
     "execution_count": 18,
     "metadata": {},
     "output_type": "execute_result"
    }
   ],
   "source": [
    "tree_opt"
   ]
  },
  {
   "cell_type": "code",
   "execution_count": 33,
   "id": "e58896a7-0006-41fa-945a-e7e21c199564",
   "metadata": {
    "execution": {
     "iopub.execute_input": "2022-07-22T15:20:15.044009Z",
     "iopub.status.busy": "2022-07-22T15:20:15.043010Z",
     "iopub.status.idle": "2022-07-22T15:20:15.054689Z",
     "shell.execute_reply": "2022-07-22T15:20:15.053804Z",
     "shell.execute_reply.started": "2022-07-22T15:20:15.044009Z"
    },
    "tags": []
   },
   "outputs": [],
   "source": [
    "formulation_opt = reformulate(edges_opt, tree_opt, root_solver_name=1)"
   ]
  },
  {
   "cell_type": "code",
   "execution_count": 34,
   "id": "ac39b3f3-497b-413d-a66a-76cc5caec260",
   "metadata": {
    "execution": {
     "iopub.execute_input": "2022-07-22T15:20:15.963380Z",
     "iopub.status.busy": "2022-07-22T15:20:15.962876Z",
     "iopub.status.idle": "2022-07-22T15:20:16.161790Z",
     "shell.execute_reply": "2022-07-22T15:20:16.160821Z",
     "shell.execute_reply.started": "2022-07-22T15:20:15.963380Z"
    },
    "tags": []
   },
   "outputs": [
    {
     "data": {
      "image/png": "[encoded data removed]",
      "text/plain": [
       "<Figure size 216x216 with 1 Axes>"
      ]
     },
     "metadata": {
      "needs_background": "light"
     },
     "output_type": "display_data"
    }
   ],
   "source": [
    "render_incidence(*formulation_opt, figname=\"defense_synthetic_opt.png\", save=True, figsize=((3,3)), fontsize=22, rotation=0, hideticks=True, patchwidth=4);"
   ]
  },
  {
   "cell_type": "code",
   "execution_count": 22,
   "id": "52b784b2-cb8f-4be1-9b39-6c683b1282e8",
   "metadata": {
    "execution": {
     "iopub.execute_input": "2022-07-22T15:13:05.725447Z",
     "iopub.status.busy": "2022-07-22T15:13:05.725447Z",
     "iopub.status.idle": "2022-07-22T15:13:05.744547Z",
     "shell.execute_reply": "2022-07-22T15:13:05.744547Z",
     "shell.execute_reply.started": "2022-07-22T15:13:05.725447Z"
    },
    "tags": []
   },
   "outputs": [],
   "source": [
    "tree_default = ({elt:2 for elt in eqnidxs},{2:1},{v:1 for v in inputids})\n",
    "edges_default[0][newidx] = tuple(inputids)\n",
    "edges_default[1][newidx] = (None,)"
   ]
  },
  {
   "cell_type": "code",
   "execution_count": 23,
   "id": "e78ade77-ab3f-4b70-895d-850028663f4e",
   "metadata": {
    "execution": {
     "iopub.execute_input": "2022-07-22T15:13:06.221288Z",
     "iopub.status.busy": "2022-07-22T15:13:06.220259Z",
     "iopub.status.idle": "2022-07-22T15:13:06.226375Z",
     "shell.execute_reply": "2022-07-22T15:13:06.226375Z",
     "shell.execute_reply.started": "2022-07-22T15:13:06.221288Z"
    },
    "tags": []
   },
   "outputs": [],
   "source": [
    "tree_default[0][newidx] = 2"
   ]
  },
  {
   "cell_type": "code",
   "execution_count": 24,
   "id": "a88cb0b1-97a9-4b7d-b4dc-484815b4dda0",
   "metadata": {
    "execution": {
     "iopub.execute_input": "2022-07-22T15:13:23.078525Z",
     "iopub.status.busy": "2022-07-22T15:13:23.078525Z",
     "iopub.status.idle": "2022-07-22T15:13:23.301935Z",
     "shell.execute_reply": "2022-07-22T15:13:23.301347Z",
     "shell.execute_reply.started": "2022-07-22T15:13:23.078525Z"
    },
    "tags": []
   },
   "outputs": [
    {
     "data": {
      "image/png": "[encoded data removed]",
      "text/plain": [
       "<Figure size 216x216 with 1 Axes>"
      ]
     },
     "metadata": {
      "needs_background": "light"
     },
     "output_type": "display_data"
    }
   ],
   "source": [
    "render_incidence(edges_default, tree_default, figname=\"defense_synthetic_init.png\", save=True, figsize=((3,3)), fontsize=22, rotation=0, hideticks=True, patchwidth=4);"
   ]
  },
  {
   "cell_type": "code",
   "execution_count": null,
   "id": "bc603b22-e568-415a-a6e9-e49f88f561d9",
   "metadata": {},
   "outputs": [],
   "source": []
  }
 ],
 "metadata": {
  "kernelspec": {
   "display_name": "Python [conda env:minimdo]",
   "language": "python",
   "name": "conda-env-minimdo-py"
  },
  "language_info": {
   "codemirror_mode": {
    "name": "ipython",
    "version": 3
   },
   "file_extension": ".py",
   "mimetype": "text/x-python",
   "name": "python",
   "nbconvert_exporter": "python",
   "pygments_lexer": "ipython3",
   "version": "3.9.12"
  }
 },
 "nbformat": 4,
 "nbformat_minor": 5
}
