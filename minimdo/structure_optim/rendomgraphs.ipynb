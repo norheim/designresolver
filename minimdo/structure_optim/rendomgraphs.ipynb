{
 "cells": [
  {
   "cell_type": "code",
   "execution_count": 9,
   "id": "b7eec287-101d-4518-b1ca-ac9dc8b01450",
   "metadata": {
    "execution": {
     "iopub.execute_input": "2022-07-12T15:02:15.925233Z",
     "iopub.status.busy": "2022-07-12T15:02:15.924233Z",
     "iopub.status.idle": "2022-07-12T15:02:15.942290Z",
     "shell.execute_reply": "2022-07-12T15:02:15.941432Z",
     "shell.execute_reply.started": "2022-07-12T15:02:15.925233Z"
    },
    "tags": []
   },
   "outputs": [],
   "source": [
    "from testproblems import generate_random_prob, random_problem_with_artifacts\n",
    "from datastructures.operators import invert_edges\n",
    "from datastructures.rendering import render_incidence"
   ]
  },
  {
   "cell_type": "code",
   "execution_count": 57,
   "id": "2ec2d369-316b-41f7-b6df-0c8fa604b1f9",
   "metadata": {
    "execution": {
     "iopub.execute_input": "2022-07-12T15:07:02.394429Z",
     "iopub.status.busy": "2022-07-12T15:07:02.393416Z",
     "iopub.status.idle": "2022-07-12T15:07:02.408699Z",
     "shell.execute_reply": "2022-07-12T15:07:02.408062Z",
     "shell.execute_reply.started": "2022-07-12T15:07:02.394429Z"
    },
    "tags": []
   },
   "outputs": [],
   "source": [
    "m = 10\n",
    "n = 13\n",
    "seed = 10#8 is triang#seed 10 is nice 42\n",
    "sparsity = 1.#0.87#0.8 1.1 #1.7 1.3\n",
    "runs = (\n",
    "    (0.5, 'sparsity_half.png'),\n",
    "    (1., 'sparsity_one.png'),\n",
    "    (1.5, 'sparsity_one_and_half.png')\n",
    ")\n",
    "sparsity, figname = runs[1]"
   ]
  },
  {
   "cell_type": "code",
   "execution_count": 58,
   "id": "b63f2f42-6573-4700-99bb-3bbab3d40262",
   "metadata": {
    "execution": {
     "iopub.execute_input": "2022-07-12T15:07:02.537809Z",
     "iopub.status.busy": "2022-07-12T15:07:02.537306Z",
     "iopub.status.idle": "2022-07-12T15:07:02.548590Z",
     "shell.execute_reply": "2022-07-12T15:07:02.548590Z",
     "shell.execute_reply.started": "2022-07-12T15:07:02.537809Z"
    },
    "tags": []
   },
   "outputs": [],
   "source": [
    "kwargs = random_problem_with_artifacts(m,n,seed,sparsity)"
   ]
  },
  {
   "cell_type": "code",
   "execution_count": 59,
   "id": "399d43a6-4ee9-4136-8cd2-8fcd0b1d0497",
   "metadata": {
    "execution": {
     "iopub.execute_input": "2022-07-12T15:07:02.680412Z",
     "iopub.status.busy": "2022-07-12T15:07:02.679907Z",
     "iopub.status.idle": "2022-07-12T15:07:02.688380Z",
     "shell.execute_reply": "2022-07-12T15:07:02.687879Z",
     "shell.execute_reply.started": "2022-07-12T15:07:02.680412Z"
    },
    "tags": []
   },
   "outputs": [],
   "source": [
    "eq_incidence,outset,eqnidxs = map(kwargs.get, [\"eq_incidence\",\"outset\",\"eqnidxs\"])"
   ]
  },
  {
   "cell_type": "code",
   "execution_count": 60,
   "id": "35ece373-e7d6-4e90-9a07-ff00ed0a2a5a",
   "metadata": {
    "execution": {
     "iopub.execute_input": "2022-07-12T15:07:02.826534Z",
     "iopub.status.busy": "2022-07-12T15:07:02.825870Z",
     "iopub.status.idle": "2022-07-12T15:07:02.843974Z",
     "shell.execute_reply": "2022-07-12T15:07:02.843974Z",
     "shell.execute_reply.started": "2022-07-12T15:07:02.826534Z"
    },
    "tags": []
   },
   "outputs": [],
   "source": [
    "edges_default = invert_edges(eq_incidence, newout=outset)\n",
    "tree_default = ({elt:1 for elt in eqnidxs},{},{})"
   ]
  },
  {
   "cell_type": "code",
   "execution_count": 61,
   "id": "df7b4edb-1596-4afe-baf8-696c10a25393",
   "metadata": {
    "execution": {
     "iopub.execute_input": "2022-07-12T15:07:02.978142Z",
     "iopub.status.busy": "2022-07-12T15:07:02.977139Z",
     "iopub.status.idle": "2022-07-12T15:07:03.949754Z",
     "shell.execute_reply": "2022-07-12T15:07:03.948567Z",
     "shell.execute_reply.started": "2022-07-12T15:07:02.978142Z"
    },
    "tags": []
   },
   "outputs": [
    {
     "data": {
      "image/png": "[encoded data removed]",
      "text/plain": [
       "<Figure size 288x288 with 1 Axes>"
      ]
     },
     "metadata": {
      "needs_background": "light"
     },
     "output_type": "display_data"
    }
   ],
   "source": [
    "render_incidence(edges_default, tree_default, figname=figname, save=True, figsize=((4,4)));"
   ]
  },
  {
   "cell_type": "code",
   "execution_count": null,
   "id": "88f8fde1-961d-47ca-8f6b-dda9d6b2776d",
   "metadata": {},
   "outputs": [],
   "source": []
  }
 ],
 "metadata": {
  "kernelspec": {
   "display_name": "Python [conda env:minimdo]",
   "language": "python",
   "name": "conda-env-minimdo-py"
  },
  "language_info": {
   "codemirror_mode": {
    "name": "ipython",
    "version": 3
   },
   "file_extension": ".py",
   "mimetype": "text/x-python",
   "name": "python",
   "nbconvert_exporter": "python",
   "pygments_lexer": "ipython3",
   "version": "3.9.12"
  }
 },
 "nbformat": 4,
 "nbformat_minor": 5
}
