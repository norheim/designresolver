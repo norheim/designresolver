{
 "cells": [
  {
   "cell_type": "code",
   "execution_count": 1,
   "id": "4ffe5287-95e9-4228-b3d2-fff430d1e4a8",
   "metadata": {
    "execution": {
     "iopub.execute_input": "2022-07-12T01:55:03.871130Z",
     "iopub.status.busy": "2022-07-12T01:55:03.870110Z",
     "iopub.status.idle": "2022-07-12T01:55:09.701501Z",
     "shell.execute_reply": "2022-07-12T01:55:09.700505Z",
     "shell.execute_reply.started": "2022-07-12T01:55:03.870110Z"
    },
    "tags": []
   },
   "outputs": [],
   "source": [
    "from testproblems import random_problem_with_artifacts\n",
    "from datastructures.api import OPT, VAR, COMP, SOLVER, OBJ\n",
    "from datastructures.graphutils import edges_E, all_components, all_variables, sources, edges_to_Ein_Eout, flat_graph_formulation, root_solver, namefromid\n",
    "from datastructures.operators import sort_scc, reorder_merge_solve\n",
    "from datastructures.workflow import get_f, order_from_tree, default_solver_options, mdao_workflow, implicit_comp_name\n",
    "from datastructures.workflow_mdao import mdao_workflow_with_args\n",
    "from datastructures.assembly import build_archi\n",
    "from datastructures.assembly import root_sources\n",
    "from datastructures.execution import Component\n",
    "from datastructures.runpipeline import nestedform_to_mdao\n",
    "from datastructures.tearing import min_max_scc2, dir_graph\n",
    "from datastructures.polycasebuilder import generate_random_polynomials, eqv_to_edges_tree\n",
    "import networkx as nx\n",
    "import numpy as np\n",
    "from datastructures.rendering import render_incidence\n",
    "import time\n",
    "import openmdao.api as om"
   ]
  },
  {
   "cell_type": "code",
   "execution_count": 2,
   "id": "b7cc90ba-0891-4d41-a993-09d90ac1f945",
   "metadata": {
    "execution": {
     "iopub.execute_input": "2022-07-12T01:55:09.714500Z",
     "iopub.status.busy": "2022-07-12T01:55:09.713501Z",
     "iopub.status.idle": "2022-07-12T01:55:09.733563Z",
     "shell.execute_reply": "2022-07-12T01:55:09.731795Z",
     "shell.execute_reply.started": "2022-07-12T01:55:09.714500Z"
    },
    "tags": []
   },
   "outputs": [],
   "source": [
    "def add_obj(inputids, var_mapping, edges, tree, components):\n",
    "    inputvars = [var_mapping[elt][0] for elt in inputids]\n",
    "    fobj = sum([(elt-1)**2 for elt in inputvars])\n",
    "    newidx = 'obj'#len(edges[1])\n",
    "    c = Component.fromsympy(fobj, component=newidx, arg_mapping=var_mapping)\n",
    "    edges[0][newidx] = c.inputs\n",
    "    edges[1][newidx] = c.outputs\n",
    "    tree[0][newidx] = 1\n",
    "    return components+[c], newidx"
   ]
  },
  {
   "cell_type": "code",
   "execution_count": 3,
   "id": "999a706e-debd-451b-b895-83b2498e9271",
   "metadata": {
    "execution": {
     "iopub.execute_input": "2022-07-12T01:55:09.744577Z",
     "iopub.status.busy": "2022-07-12T01:55:09.743575Z",
     "iopub.status.idle": "2022-07-12T01:55:09.764965Z",
     "shell.execute_reply": "2022-07-12T01:55:09.762756Z",
     "shell.execute_reply.started": "2022-07-12T01:55:09.743575Z"
    },
    "tags": []
   },
   "outputs": [],
   "source": [
    "def generate_mdao_prob(inputids, var_mapping, edges, tree, components, mdf=True):\n",
    "    components, newidx = add_obj(inputids, var_mapping, edges, tree, components) # mutates edges and tree aswell\n",
    "    solvers_options = {1: {'type': OPT, 'disp':False}, 2:{'maxiter':200}}\n",
    "    comp_options = {newidx:OBJ}\n",
    "    dv = root_sources(edges, tree)\n",
    "    for elt in dv:\n",
    "        tree[2][elt] = 1\n",
    "    var_options = {}\n",
    "    nodetyperepr = {VAR: 'x_{}', COMP: 'f_{}', SOLVER: 's_{}'}\n",
    "    prob, mdao_in, groups, formulation,merge_order = nestedform_to_mdao(edges, tree, components, solvers_options, comp_options, var_options, nodetyperepr, mdf)\n",
    "    return prob, groups, formulation, merge_order"
   ]
  },
  {
   "cell_type": "code",
   "execution_count": 4,
   "id": "fb09bae0-8e31-44a7-9cd7-76fed82d77ed",
   "metadata": {
    "execution": {
     "iopub.execute_input": "2022-07-12T01:55:09.772484Z",
     "iopub.status.busy": "2022-07-12T01:55:09.771484Z",
     "iopub.status.idle": "2022-07-12T01:55:09.795484Z",
     "shell.execute_reply": "2022-07-12T01:55:09.794485Z",
     "shell.execute_reply.started": "2022-07-12T01:55:09.772484Z"
    },
    "tags": []
   },
   "outputs": [],
   "source": [
    "def measure_optimization(prob, groups, Stree):\n",
    "    try:\n",
    "        prob.set_solver_print(-1)\n",
    "        tic = time.perf_counter()\n",
    "        prob.run_driver()\n",
    "        toc = time.perf_counter()\n",
    "        total_iters = 0\n",
    "        for key,var in Stree.items():\n",
    "            parent = groups['s_{}'.format(var)]\n",
    "            total_iters += getattr(parent, 's_{}'.format(key)).iter_count_apply\n",
    "        objiter = groups['s_1'].f_obj.iter_count\n",
    "        return prob.driver.result.fun, total_iters, objiter, toc-tic\n",
    "    except:\n",
    "        return 999, None, None, None"
   ]
  },
  {
   "cell_type": "code",
   "execution_count": 5,
   "id": "2cf6f900-d11d-4b5a-9ad3-5f3441b6a614",
   "metadata": {
    "execution": {
     "iopub.execute_input": "2022-07-12T01:55:09.799485Z",
     "iopub.status.busy": "2022-07-12T01:55:09.798484Z",
     "iopub.status.idle": "2022-07-12T01:55:09.810850Z",
     "shell.execute_reply": "2022-07-12T01:55:09.809399Z",
     "shell.execute_reply.started": "2022-07-12T01:55:09.799485Z"
    },
    "tags": []
   },
   "outputs": [],
   "source": [
    "inputids_store = {}"
   ]
  },
  {
   "cell_type": "code",
   "execution_count": 6,
   "id": "e910201d-bba6-4fb3-af9b-508909c155d1",
   "metadata": {
    "execution": {
     "iopub.execute_input": "2022-07-12T01:55:09.813850Z",
     "iopub.status.busy": "2022-07-12T01:55:09.812853Z",
     "iopub.status.idle": "2022-07-12T01:55:09.841094Z",
     "shell.execute_reply": "2022-07-12T01:55:09.840093Z",
     "shell.execute_reply.started": "2022-07-12T01:55:09.812853Z"
    },
    "tags": []
   },
   "outputs": [],
   "source": [
    "def min_max_scc_calculations(eq_incidence=None, edges_varonleft=None, varidxs=None, eqnidxs=None, outset=None, probtype=None, seed_poly=None, mdf=None, **kwargs):\n",
    "    if probtype == 2:\n",
    "        xsol, m = min_max_scc2(edges_varonleft, varidxs, eqnidxs, timeout=100)\n",
    "        if xsol:\n",
    "            outset = dict((right, left) for left, right in edges_varonleft if xsol[left, right] > 0.5)\n",
    "        else:\n",
    "            return 999, 999, None, None, None\n",
    "    D = nx.DiGraph(dir_graph(edges_varonleft, eqnidxs, outset.items()))\n",
    "    sccsize = max(len(elt) for elt in nx.strongly_connected_components(D))//2\n",
    "    rng = np.random.default_rng(seed_poly)\n",
    "    _, var_mapping, edges, tree, components = generate_random_polynomials(eq_incidence, outset, len(eqnidxs), rng)\n",
    "    identifier = (kwargs['m'], kwargs['n'], kwargs['sparsity'], kwargs['seed'])\n",
    "    if probtype == 2:\n",
    "        inputids = sources(*edges_to_Ein_Eout(edges))\n",
    "        inputids_store[identifier] = inputids\n",
    "    else:\n",
    "        inputids = inputids_store[identifier]\n",
    "    prob, groups, formulation,_ = generate_mdao_prob(inputids, var_mapping, edges, tree, components, mdf)\n",
    "    optim_results = measure_optimization(prob, groups, formulation[1][1])\n",
    "    return (sccsize,)+optim_results"
   ]
  },
  {
   "cell_type": "code",
   "execution_count": 7,
   "id": "5f52acf1-038a-48ed-b86b-66b0e99709c0",
   "metadata": {
    "execution": {
     "iopub.execute_input": "2022-07-12T01:55:09.848625Z",
     "iopub.status.busy": "2022-07-12T01:55:09.847607Z",
     "iopub.status.idle": "2022-07-12T01:55:09.873272Z",
     "shell.execute_reply": "2022-07-12T01:55:09.871717Z",
     "shell.execute_reply.started": "2022-07-12T01:55:09.848625Z"
    },
    "tags": []
   },
   "outputs": [],
   "source": [
    "def generate_artifacts(m,n,sparsity,seed,probtype,seed_poly,mdf):\n",
    "    kwargs = random_problem_with_artifacts(m,n,seed,sparsity)\n",
    "    kwargs.update({\n",
    "        \"seed_poly\": seed_poly,\n",
    "        \"probtype\": probtype,\n",
    "        \"mdf\": mdf\n",
    "    })\n",
    "    return kwargs"
   ]
  },
  {
   "cell_type": "markdown",
   "id": "177cc12b-beca-4fc0-b27f-8cef1b4d3287",
   "metadata": {},
   "source": [
    "## Testing"
   ]
  },
  {
   "cell_type": "code",
   "execution_count": 94,
   "id": "3f92a07e-4240-4885-80ba-63b368d4e285",
   "metadata": {
    "execution": {
     "iopub.execute_input": "2022-07-12T04:14:30.894540Z",
     "iopub.status.busy": "2022-07-12T04:14:30.894540Z",
     "iopub.status.idle": "2022-07-12T04:14:30.918996Z",
     "shell.execute_reply": "2022-07-12T04:14:30.917987Z",
     "shell.execute_reply.started": "2022-07-12T04:14:30.894540Z"
    },
    "tags": []
   },
   "outputs": [],
   "source": [
    "kwargs = generate_artifacts(10,13,1,1,1,0,False)"
   ]
  },
  {
   "cell_type": "code",
   "execution_count": 95,
   "id": "1359169b-411e-43a9-8399-30c50e204db2",
   "metadata": {
    "execution": {
     "iopub.execute_input": "2022-07-12T04:14:31.793937Z",
     "iopub.status.busy": "2022-07-12T04:14:31.793937Z",
     "iopub.status.idle": "2022-07-12T04:14:31.818666Z",
     "shell.execute_reply": "2022-07-12T04:14:31.817646Z",
     "shell.execute_reply.started": "2022-07-12T04:14:31.793937Z"
    },
    "tags": []
   },
   "outputs": [
    {
     "data": {
      "text/plain": [
       "{(20, 24, 1.0, 0): {0, 1, 17, 20}}"
      ]
     },
     "execution_count": 95,
     "metadata": {},
     "output_type": "execute_result"
    }
   ],
   "source": [
    "inputids_store"
   ]
  },
  {
   "cell_type": "code",
   "execution_count": 96,
   "id": "12e58255-06e1-4288-8fac-7b0cbc779df5",
   "metadata": {
    "execution": {
     "iopub.execute_input": "2022-07-12T04:14:33.275150Z",
     "iopub.status.busy": "2022-07-12T04:14:33.275150Z",
     "iopub.status.idle": "2022-07-12T04:14:33.291934Z",
     "shell.execute_reply": "2022-07-12T04:14:33.290410Z",
     "shell.execute_reply.started": "2022-07-12T04:14:33.275150Z"
    },
    "tags": []
   },
   "outputs": [],
   "source": [
    "#min_max_scc_calculations(**kwargs)"
   ]
  },
  {
   "cell_type": "code",
   "execution_count": 97,
   "id": "6ae0787a-508b-46db-8add-950f8b5460ad",
   "metadata": {
    "execution": {
     "iopub.execute_input": "2022-07-12T04:14:36.389292Z",
     "iopub.status.busy": "2022-07-12T04:14:36.389292Z",
     "iopub.status.idle": "2022-07-12T04:14:36.412394Z",
     "shell.execute_reply": "2022-07-12T04:14:36.411377Z",
     "shell.execute_reply.started": "2022-07-12T04:14:36.389292Z"
    },
    "tags": []
   },
   "outputs": [],
   "source": [
    "edges_varonleft, varidxs, eqnidxs = (kwargs[key] for key in ['edges_varonleft','varidxs','eqnidxs'])"
   ]
  },
  {
   "cell_type": "code",
   "execution_count": 108,
   "id": "2a1e2ee6-6113-4d9f-b985-41257234aab5",
   "metadata": {
    "execution": {
     "iopub.execute_input": "2022-07-12T04:17:34.228210Z",
     "iopub.status.busy": "2022-07-12T04:17:34.228210Z",
     "iopub.status.idle": "2022-07-12T04:17:34.268032Z",
     "shell.execute_reply": "2022-07-12T04:17:34.267531Z",
     "shell.execute_reply.started": "2022-07-12T04:17:34.228210Z"
    },
    "tags": []
   },
   "outputs": [],
   "source": [
    "xsol, m = min_max_scc2(edges_varonleft, varidxs, eqnidxs, timeout=100)\n",
    "outset = dict((right, left) for left, right in edges_varonleft if xsol[left, right] > 0.5)"
   ]
  },
  {
   "cell_type": "code",
   "execution_count": 82,
   "id": "1fe27390-993d-4188-a5a3-f513ccbdb4f0",
   "metadata": {
    "execution": {
     "iopub.execute_input": "2022-07-12T04:14:01.443402Z",
     "iopub.status.busy": "2022-07-12T04:14:01.443402Z",
     "iopub.status.idle": "2022-07-12T04:14:01.466613Z",
     "shell.execute_reply": "2022-07-12T04:14:01.465613Z",
     "shell.execute_reply.started": "2022-07-12T04:14:01.443402Z"
    },
    "tags": []
   },
   "outputs": [],
   "source": [
    "D = nx.DiGraph(dir_graph(edges_varonleft, eqnidxs, outset.items()))\n",
    "minssc = max(len(elt) for elt in nx.strongly_connected_components(D))//2"
   ]
  },
  {
   "cell_type": "code",
   "execution_count": 122,
   "id": "8476feba-f519-4dd1-8f69-7a0eddb9f41d",
   "metadata": {
    "execution": {
     "iopub.execute_input": "2022-07-12T04:18:41.115864Z",
     "iopub.status.busy": "2022-07-12T04:18:41.112905Z",
     "iopub.status.idle": "2022-07-12T04:18:41.133412Z",
     "shell.execute_reply": "2022-07-12T04:18:41.132494Z",
     "shell.execute_reply.started": "2022-07-12T04:18:41.115864Z"
    },
    "tags": []
   },
   "outputs": [],
   "source": [
    "outset=kwargs[\"outset\"]"
   ]
  },
  {
   "cell_type": "code",
   "execution_count": 125,
   "id": "5f64db1b-0cff-4ef9-9c47-990e2eac9054",
   "metadata": {
    "execution": {
     "iopub.execute_input": "2022-07-12T04:18:49.373615Z",
     "iopub.status.busy": "2022-07-12T04:18:49.373615Z",
     "iopub.status.idle": "2022-07-12T04:18:49.388925Z",
     "shell.execute_reply": "2022-07-12T04:18:49.387425Z",
     "shell.execute_reply.started": "2022-07-12T04:18:49.373615Z"
    },
    "tags": []
   },
   "outputs": [],
   "source": [
    "mdf = True"
   ]
  },
  {
   "cell_type": "code",
   "execution_count": 126,
   "id": "347a6f34-2a40-4c3d-8056-947a6793139f",
   "metadata": {
    "execution": {
     "iopub.execute_input": "2022-07-12T04:18:49.740718Z",
     "iopub.status.busy": "2022-07-12T04:18:49.740718Z",
     "iopub.status.idle": "2022-07-12T04:18:50.383425Z",
     "shell.execute_reply": "2022-07-12T04:18:50.382659Z",
     "shell.execute_reply.started": "2022-07-12T04:18:49.740718Z"
    },
    "tags": []
   },
   "outputs": [],
   "source": [
    "rng = np.random.default_rng(kwargs[\"seed_poly\"])\n",
    "polys, var_mapping, edges, tree, components = generate_random_polynomials(kwargs[\"eq_incidence\"], outset, len(kwargs[\"eqnidxs\"]), rng)\n",
    "#inputids = sources(*edges_to_Ein_Eout(edges))\n",
    "#identifier = (kwargs['m'], kwargs['n'], kwargs['sparsity'], kwargs['seed'])\n",
    "#inputids = inputids_store[identifier]"
   ]
  },
  {
   "cell_type": "code",
   "execution_count": 127,
   "id": "1cec7b54-6ba1-4e3f-ad8d-a4a1e849f38b",
   "metadata": {
    "execution": {
     "iopub.execute_input": "2022-07-12T04:18:51.811774Z",
     "iopub.status.busy": "2022-07-12T04:18:51.811774Z",
     "iopub.status.idle": "2022-07-12T04:18:51.836270Z",
     "shell.execute_reply": "2022-07-12T04:18:51.835274Z",
     "shell.execute_reply.started": "2022-07-12T04:18:51.811774Z"
    },
    "tags": []
   },
   "outputs": [],
   "source": [
    "components, newidx = add_obj(inputids, var_mapping, edges, tree, components) # mutates edges and tree aswell\n",
    "solvers_options = {1: {'type': OPT, 'disp':True}, 2:{'maxiter':30}}\n",
    "comp_options = {newidx:OBJ}\n",
    "dv = root_sources(edges, tree)\n",
    "for elt in dv:\n",
    "    tree[2][elt] = 1\n",
    "var_options = {}\n",
    "nodetyperepr = {VAR: 'x_{}', COMP: 'f_{}', SOLVER: 's_{}'}"
   ]
  },
  {
   "cell_type": "code",
   "execution_count": 128,
   "id": "25660b85-782a-48f8-b97f-68428693253f",
   "metadata": {
    "execution": {
     "iopub.execute_input": "2022-07-12T04:18:52.180509Z",
     "iopub.status.busy": "2022-07-12T04:18:52.180509Z",
     "iopub.status.idle": "2022-07-12T04:18:52.204741Z",
     "shell.execute_reply": "2022-07-12T04:18:52.203350Z",
     "shell.execute_reply.started": "2022-07-12T04:18:52.180509Z"
    },
    "tags": []
   },
   "outputs": [],
   "source": [
    "G = flat_graph_formulation(*edges)\n",
    "merge_order = sort_scc(G)\n",
    "merge_parent = root_solver(tree) # all merged components will have this solver as the parent\n",
    "ordered_edges, ordered_tree = reorder_merge_solve(edges, tree, merge_order, merge_parent, mdf)"
   ]
  },
  {
   "cell_type": "code",
   "execution_count": 129,
   "id": "6f6fda21-1d7e-4e5d-bfd7-9c1ecc58e12e",
   "metadata": {
    "execution": {
     "iopub.execute_input": "2022-07-12T04:18:52.491642Z",
     "iopub.status.busy": "2022-07-12T04:18:52.490641Z",
     "iopub.status.idle": "2022-07-12T04:18:52.530295Z",
     "shell.execute_reply": "2022-07-12T04:18:52.529296Z",
     "shell.execute_reply.started": "2022-07-12T04:18:52.491143Z"
    },
    "tags": []
   },
   "outputs": [],
   "source": [
    "namingfunc = namefromid(nodetyperepr)\n",
    "sequence = order_from_tree(ordered_tree[0], ordered_tree[1], ordered_edges[1])\n",
    "solvers_options = default_solver_options(ordered_tree, solvers_options)\n",
    "wf = mdao_workflow(sequence, solvers_options, comp_options, var_options)\n",
    "lookup_f = get_f(components, ordered_edges)\n",
    "wfmdao = mdao_workflow_with_args(wf, lookup_f, namingfunc)\n",
    "prob, mdao_in, groups = build_archi(ordered_edges, ordered_tree, wfmdao, namingfunc)"
   ]
  },
  {
   "cell_type": "code",
   "execution_count": 130,
   "id": "82d0548f-00ea-4cf0-a3ba-c769dbf3c682",
   "metadata": {
    "execution": {
     "iopub.execute_input": "2022-07-12T04:18:54.291314Z",
     "iopub.status.busy": "2022-07-12T04:18:54.291314Z",
     "iopub.status.idle": "2022-07-12T04:19:11.194517Z",
     "shell.execute_reply": "2022-07-12T04:19:11.194517Z",
     "shell.execute_reply.started": "2022-07-12T04:18:54.291314Z"
    },
    "tags": []
   },
   "outputs": [
    {
     "name": "stdout",
     "output_type": "stream",
     "text": [
      "\n",
      "===\n",
      "s_2\n",
      "===\n",
      "NL: Newton Converged in 20 iterations\n",
      "\n",
      "===\n",
      "s_2\n",
      "===\n",
      "NL: Newton Converged in 0 iterations\n",
      "\n",
      "===\n",
      "s_2\n",
      "===\n",
      "NL: Newton Converged in 4 iterations\n",
      "\n",
      "===\n",
      "s_2\n",
      "===\n",
      "NL: Newton Converged in 4 iterations\n",
      "\n",
      "===\n",
      "s_2\n",
      "===\n",
      "NL: Newton Converged in 4 iterations\n",
      "\n",
      "===\n",
      "s_2\n",
      "===\n",
      "NL: Newton Converged in 4 iterations\n",
      "\n",
      "===\n",
      "s_2\n",
      "===\n",
      "NL: Newton Converged in 4 iterations\n",
      "\n",
      "===\n",
      "s_2\n",
      "===\n",
      "NL: Newton Converged in 3 iterations\n",
      "\n",
      "===\n",
      "s_2\n",
      "===\n",
      "NL: Newton Converged in 3 iterations\n",
      "\n",
      "===\n",
      "s_2\n",
      "===\n",
      "NL: Newton Converged in 3 iterations\n",
      "\n",
      "===\n",
      "s_2\n",
      "===\n",
      "NL: Newton Converged in 3 iterations\n",
      "\n",
      "===\n",
      "s_2\n",
      "===\n",
      "NL: Newton Converged in 2 iterations\n",
      "Optimization terminated successfully    (Exit mode 0)\n",
      "            Current function value: [6.83836058e-09]\n",
      "            Iterations: 9\n",
      "            Function evaluations: 11\n",
      "            Gradient evaluations: 9\n",
      "Optimization Complete\n",
      "-----------------------------------\n"
     ]
    }
   ],
   "source": [
    "prob.run_driver();"
   ]
  },
  {
   "cell_type": "code",
   "execution_count": 131,
   "id": "4a852a12-ce08-4d12-87cc-d0d920677a42",
   "metadata": {
    "execution": {
     "iopub.execute_input": "2022-07-12T04:19:17.084025Z",
     "iopub.status.busy": "2022-07-12T04:19:17.084025Z",
     "iopub.status.idle": "2022-07-12T04:19:17.097070Z",
     "shell.execute_reply": "2022-07-12T04:19:17.096135Z",
     "shell.execute_reply.started": "2022-07-12T04:19:17.084025Z"
    },
    "tags": []
   },
   "outputs": [],
   "source": [
    "from utils import normalize_name"
   ]
  },
  {
   "cell_type": "code",
   "execution_count": 132,
   "id": "02062d11-f813-41a4-92b5-0ea4c19b6ff3",
   "metadata": {
    "execution": {
     "iopub.execute_input": "2022-07-12T04:19:17.400940Z",
     "iopub.status.busy": "2022-07-12T04:19:17.400940Z",
     "iopub.status.idle": "2022-07-12T04:19:17.426024Z",
     "shell.execute_reply": "2022-07-12T04:19:17.424668Z",
     "shell.execute_reply.started": "2022-07-12T04:19:17.400940Z"
    },
    "tags": []
   },
   "outputs": [
    {
     "name": "stdout",
     "output_type": "stream",
     "text": [
      "@var x_0, x_1, x_2, x_3, x_4, x_5, x_6, x_7, x_8, x_9, x_10, x_11, x_12\n",
      "@var λ[1:10];\n",
      "h0=-0.5*x_0*x_10 - 0.9;\n",
      "h1=0.8*x_11*x_5 + 0.2*x_7 + 0.5;\n",
      "h2=0.9*x_12*x_2*x_8 + 0.6;\n",
      "h3=-0.9*x_2*x_4*x_5 + 0.5*x_3 - 0.6;\n",
      "h4=-0.2*x_11 - 0.4*x_2*x_5 - 0.9;\n",
      "h5=0.2*x_0*x_1 + 0.3*x_12*x_5 - 0.2;\n",
      "h6=1.0*x_1*x_9 + 1.0;\n",
      "h7=0.3*x_3*x_6 + 0.4;\n",
      "h8=-0.4*x_1*x_2*x_9 + 0.4*x_3*x_4 + 0.8;\n",
      "h9=0.9*x_11*x_8 - 0.3;\n",
      "vars=[x_0, x_1, x_2, x_3, x_4, x_5, x_6, x_7, x_8, x_9, x_10, x_11, x_12]\n",
      "dfdx=[0, x_1, 0, x_3, x_4, 0, 0, 0, 0, 0, 0, 0, 0]\n",
      "h=[h0, h1, h2, h3, h4, h5, h6, h7, h8, h9];\n"
     ]
    }
   ],
   "source": [
    "vrs = list(range(len(kwargs[\"varidxs\"])))\n",
    "reqeqs = kwargs[\"eq_incidence\"]\n",
    "n_eqs = len(kwargs[\"eqnidxs\"])\n",
    "print('@var {}'.format(\", \".join(['x_{}'.format(vr) for vr in vrs])))\n",
    "print('@var λ[1:{}];'.format(n_eqs))\n",
    "for key, var in polys.items():\n",
    "    print('h{}={};'.format(key, normalize_name(str(var), keep_underscore=True)))\n",
    "print('vars=[{}]'.format(\", \".join(['x_{}'.format(vr) for vr in vrs])))\n",
    "print('dfdx=[{}]'.format(\", \".join([str(0) if vr not in inputids else 'x_{}'.format(vr) for vr in vrs])))\n",
    "print('h=[{}];'.format(\", \".join(['h{}'.format(eq) for eq in polys.keys()])))"
   ]
  },
  {
   "cell_type": "code",
   "execution_count": 120,
   "id": "c6c2326f-254d-4f62-888c-127a707da3ce",
   "metadata": {
    "execution": {
     "iopub.execute_input": "2022-07-12T04:18:05.744272Z",
     "iopub.status.busy": "2022-07-12T04:18:05.744272Z",
     "iopub.status.idle": "2022-07-12T04:18:05.777700Z",
     "shell.execute_reply": "2022-07-12T04:18:05.776333Z",
     "shell.execute_reply.started": "2022-07-12T04:18:05.744272Z"
    },
    "tags": []
   },
   "outputs": [
    {
     "name": "stdout",
     "output_type": "stream",
     "text": [
      "14 Explicit Output(s) in 'model'\n",
      "\n",
      "varname   val          \n",
      "--------  -------------\n",
      "inp\n",
      "  x_1     [1.]         \n",
      "  x_3     [1.]         \n",
      "  x_4     [1.]         \n",
      "f_7\n",
      "  x_6     [-1.33333333]\n",
      "f_6\n",
      "  x_9     [-1.]        \n",
      "f_8\n",
      "  x_2     [-3.]        \n",
      "f_3\n",
      "  x_5     [0.03703704] \n",
      "f_4\n",
      "  x_11    [-4.27777778]\n",
      "f_1\n",
      "  x_7     [-1.86625514]\n",
      "f_9\n",
      "  x_8     [-0.07792208]\n",
      "f_2\n",
      "  x_12    [-2.85185185]\n",
      "f_5\n",
      "  x_0     [1.15843621] \n",
      "f_0\n",
      "  x_10    [-1.55381883]\n",
      "f_obj\n",
      "  objobj  [0.]         \n",
      "\n",
      "\n",
      "0 Implicit Output(s) in 'model'\n",
      "\n",
      "\n"
     ]
    },
    {
     "data": {
      "text/plain": [
       "[('inp.x_1', {'val': array([1.])}),\n",
       " ('inp.x_3', {'val': array([1.])}),\n",
       " ('inp.x_4', {'val': array([1.])}),\n",
       " ('f_7.x_6', {'val': array([-1.33333333])}),\n",
       " ('f_6.x_9', {'val': array([-1.])}),\n",
       " ('f_8.x_2', {'val': array([-3.])}),\n",
       " ('f_3.x_5', {'val': array([0.03703704])}),\n",
       " ('f_4.x_11', {'val': array([-4.27777778])}),\n",
       " ('f_1.x_7', {'val': array([-1.86625514])}),\n",
       " ('f_9.x_8', {'val': array([-0.07792208])}),\n",
       " ('f_2.x_12', {'val': array([-2.85185185])}),\n",
       " ('f_5.x_0', {'val': array([1.15843621])}),\n",
       " ('f_0.x_10', {'val': array([-1.55381883])}),\n",
       " ('f_obj.objobj', {'val': array([0.])})]"
      ]
     },
     "execution_count": 120,
     "metadata": {},
     "output_type": "execute_result"
    }
   ],
   "source": [
    "prob.model.list_outputs()"
   ]
  },
  {
   "cell_type": "code",
   "execution_count": 133,
   "id": "e49b3c0c-f343-49d7-8d37-60a078c58ada",
   "metadata": {
    "execution": {
     "iopub.execute_input": "2022-07-12T04:19:27.038689Z",
     "iopub.status.busy": "2022-07-12T04:19:27.038689Z",
     "iopub.status.idle": "2022-07-12T04:19:27.054834Z",
     "shell.execute_reply": "2022-07-12T04:19:27.053791Z",
     "shell.execute_reply.started": "2022-07-12T04:19:27.038689Z"
    },
    "tags": []
   },
   "outputs": [
    {
     "name": "stdout",
     "output_type": "stream",
     "text": [
      "----------------\n",
      "Design Variables\n",
      "----------------\n",
      "name  val            size  \n",
      "----  -------------  ---- \n",
      "x_10  [-1.55389433]  1     \n",
      "x_3   [0.99999588]   1     \n",
      "x_4   [0.999947]     1     \n",
      "\n",
      "-----------\n",
      "Constraints\n",
      "-----------\n",
      "name  val  size  lower  upper  equals  \n",
      "----  ---  ----  -----  -----  ------ \n",
      "\n",
      "----------\n",
      "Objectives\n",
      "----------\n",
      "name    val               size  \n",
      "------  ----------------  ---- \n",
      "objobj  [6.83836058e-09]  1     \n",
      "\n"
     ]
    }
   ],
   "source": [
    "prob.list_problem_vars(cons_opts=['lower', 'upper', 'equals'])"
   ]
  },
  {
   "cell_type": "code",
   "execution_count": 134,
   "id": "84237dd8-d51e-4311-936d-b802336608bc",
   "metadata": {
    "execution": {
     "iopub.execute_input": "2022-07-12T04:19:48.653755Z",
     "iopub.status.busy": "2022-07-12T04:19:48.653755Z",
     "iopub.status.idle": "2022-07-12T04:19:49.505103Z",
     "shell.execute_reply": "2022-07-12T04:19:49.504595Z",
     "shell.execute_reply.started": "2022-07-12T04:19:48.653755Z"
    },
    "tags": []
   },
   "outputs": [
    {
     "data": {
      "image/png": "[encoded data removed]",
      "text/plain": [
       "<Figure size 576x576 with 1 Axes>"
      ]
     },
     "metadata": {
      "needs_background": "light"
     },
     "output_type": "display_data"
    }
   ],
   "source": [
    "render_incidence(ordered_edges, ordered_tree, figsize=((8,8)));"
   ]
  },
  {
   "cell_type": "markdown",
   "id": "c56fd270-3fab-4fa6-ab49-c551c7cb0aa4",
   "metadata": {},
   "source": [
    "## Full scale"
   ]
  },
  {
   "cell_type": "code",
   "execution_count": 135,
   "id": "290d5791-ff66-47b6-a54b-0277caf5267a",
   "metadata": {
    "execution": {
     "iopub.execute_input": "2022-07-12T04:20:03.784367Z",
     "iopub.status.busy": "2022-07-12T04:20:03.783791Z",
     "iopub.status.idle": "2022-07-12T04:20:03.793769Z",
     "shell.execute_reply": "2022-07-12T04:20:03.792592Z",
     "shell.execute_reply.started": "2022-07-12T04:20:03.784367Z"
    },
    "tags": []
   },
   "outputs": [],
   "source": [
    "from experimentutils import run_calculations\n",
    "from itertools import product\n",
    "import pandas as pd"
   ]
  },
  {
   "cell_type": "code",
   "execution_count": 136,
   "id": "59473d4f-35dc-4d77-bdc0-e6c42e5f6336",
   "metadata": {
    "execution": {
     "iopub.execute_input": "2022-07-12T04:20:06.172129Z",
     "iopub.status.busy": "2022-07-12T04:20:06.172129Z",
     "iopub.status.idle": "2022-07-12T04:20:06.196115Z",
     "shell.execute_reply": "2022-07-12T04:20:06.195114Z",
     "shell.execute_reply.started": "2022-07-12T04:20:06.172129Z"
    },
    "tags": []
   },
   "outputs": [],
   "source": [
    "def generate_problem(*args, df=None):\n",
    "    data = []\n",
    "    colnames = [\"m\", \"ncoeff\", \"n\", \"sparsity\", \"seed\", \"poly_seed\", \"prob_type\",\"mdf\"]\n",
    "    for m,ncoeff,sparsity,seed,poly_seed,prob_type,mdf in product(*args):\n",
    "        n=m+int(ncoeff*m)\n",
    "        if df is None or ((m, ncoeff, n, sparsity, seed, poly_seed, prob_type,mdf) not in df[colnames].itertuples(index=False)):\n",
    "            data.append([m, ncoeff, n, sparsity, seed, poly_seed, prob_type,mdf])\n",
    "    df2 = pd.DataFrame(data, columns=colnames)\n",
    "    if df is not None:\n",
    "        df2 = pd.concat([df, df2], ignore_index=True)\n",
    "    return df2"
   ]
  },
  {
   "cell_type": "code",
   "execution_count": 137,
   "id": "3db9ea78-4a71-49b4-88d6-261ffb78f33b",
   "metadata": {
    "execution": {
     "iopub.execute_input": "2022-07-12T04:20:20.512162Z",
     "iopub.status.busy": "2022-07-12T04:20:20.512162Z",
     "iopub.status.idle": "2022-07-12T04:20:20.528471Z",
     "shell.execute_reply": "2022-07-12T04:20:20.527421Z",
     "shell.execute_reply.started": "2022-07-12T04:20:20.512162Z"
    },
    "tags": []
   },
   "outputs": [],
   "source": [
    "df = generate_problem((10,),(0.5,),(1.,),range(10),range(10),(2,1),(True,False)) #df"
   ]
  },
  {
   "cell_type": "code",
   "execution_count": 147,
   "id": "16f0cf30-d4fb-4e29-bbc6-424f05611724",
   "metadata": {
    "execution": {
     "iopub.execute_input": "2022-07-12T14:30:35.161657Z",
     "iopub.status.busy": "2022-07-12T14:30:35.160657Z",
     "iopub.status.idle": "2022-07-12T14:30:35.194453Z",
     "shell.execute_reply": "2022-07-12T14:30:35.193952Z",
     "shell.execute_reply.started": "2022-07-12T14:30:35.161657Z"
    },
    "tags": []
   },
   "outputs": [
    {
     "data": {
      "text/html": [
       "<div>\n",
       "<style scoped>\n",
       "    .dataframe tbody tr th:only-of-type {\n",
       "        vertical-align: middle;\n",
       "    }\n",
       "\n",
       "    .dataframe tbody tr th {\n",
       "        vertical-align: top;\n",
       "    }\n",
       "\n",
       "    .dataframe thead th {\n",
       "        text-align: right;\n",
       "    }\n",
       "</style>\n",
       "<table border=\"1\" class=\"dataframe\">\n",
       "  <thead>\n",
       "    <tr style=\"text-align: right;\">\n",
       "      <th></th>\n",
       "      <th>m</th>\n",
       "      <th>ncoeff</th>\n",
       "      <th>n</th>\n",
       "      <th>sparsity</th>\n",
       "      <th>seed</th>\n",
       "      <th>poly_seed</th>\n",
       "      <th>prob_type</th>\n",
       "      <th>mdf</th>\n",
       "      <th>maxscc</th>\n",
       "      <th>fobj</th>\n",
       "      <th>solveriter</th>\n",
       "      <th>optiter</th>\n",
       "      <th>time</th>\n",
       "    </tr>\n",
       "  </thead>\n",
       "  <tbody>\n",
       "    <tr>\n",
       "      <th>20</th>\n",
       "      <td>10</td>\n",
       "      <td>0.5</td>\n",
       "      <td>15</td>\n",
       "      <td>1.0</td>\n",
       "      <td>0</td>\n",
       "      <td>5</td>\n",
       "      <td>2</td>\n",
       "      <td>True</td>\n",
       "      <td>0</td>\n",
       "      <td>[0.0]</td>\n",
       "      <td>0</td>\n",
       "      <td>4</td>\n",
       "      <td>0.604119</td>\n",
       "    </tr>\n",
       "    <tr>\n",
       "      <th>21</th>\n",
       "      <td>10</td>\n",
       "      <td>0.5</td>\n",
       "      <td>15</td>\n",
       "      <td>1.0</td>\n",
       "      <td>0</td>\n",
       "      <td>5</td>\n",
       "      <td>2</td>\n",
       "      <td>False</td>\n",
       "      <td>0</td>\n",
       "      <td>[0.0]</td>\n",
       "      <td>0</td>\n",
       "      <td>4</td>\n",
       "      <td>0.816994</td>\n",
       "    </tr>\n",
       "    <tr>\n",
       "      <th>22</th>\n",
       "      <td>10</td>\n",
       "      <td>0.5</td>\n",
       "      <td>15</td>\n",
       "      <td>1.0</td>\n",
       "      <td>0</td>\n",
       "      <td>5</td>\n",
       "      <td>1</td>\n",
       "      <td>True</td>\n",
       "      <td>5</td>\n",
       "      <td>999</td>\n",
       "      <td>None</td>\n",
       "      <td>None</td>\n",
       "      <td>None</td>\n",
       "    </tr>\n",
       "    <tr>\n",
       "      <th>23</th>\n",
       "      <td>10</td>\n",
       "      <td>0.5</td>\n",
       "      <td>15</td>\n",
       "      <td>1.0</td>\n",
       "      <td>0</td>\n",
       "      <td>5</td>\n",
       "      <td>1</td>\n",
       "      <td>False</td>\n",
       "      <td>5</td>\n",
       "      <td>[1319727.208588888]</td>\n",
       "      <td>0</td>\n",
       "      <td>167</td>\n",
       "      <td>15.012809</td>\n",
       "    </tr>\n",
       "    <tr>\n",
       "      <th>24</th>\n",
       "      <td>10</td>\n",
       "      <td>0.5</td>\n",
       "      <td>15</td>\n",
       "      <td>1.0</td>\n",
       "      <td>0</td>\n",
       "      <td>6</td>\n",
       "      <td>2</td>\n",
       "      <td>True</td>\n",
       "      <td>0</td>\n",
       "      <td>[0.0]</td>\n",
       "      <td>0</td>\n",
       "      <td>4</td>\n",
       "      <td>0.577884</td>\n",
       "    </tr>\n",
       "    <tr>\n",
       "      <th>25</th>\n",
       "      <td>10</td>\n",
       "      <td>0.5</td>\n",
       "      <td>15</td>\n",
       "      <td>1.0</td>\n",
       "      <td>0</td>\n",
       "      <td>6</td>\n",
       "      <td>2</td>\n",
       "      <td>False</td>\n",
       "      <td>0</td>\n",
       "      <td>[0.0]</td>\n",
       "      <td>0</td>\n",
       "      <td>4</td>\n",
       "      <td>0.607568</td>\n",
       "    </tr>\n",
       "    <tr>\n",
       "      <th>26</th>\n",
       "      <td>10</td>\n",
       "      <td>0.5</td>\n",
       "      <td>15</td>\n",
       "      <td>1.0</td>\n",
       "      <td>0</td>\n",
       "      <td>6</td>\n",
       "      <td>1</td>\n",
       "      <td>True</td>\n",
       "      <td>5</td>\n",
       "      <td>999</td>\n",
       "      <td>None</td>\n",
       "      <td>None</td>\n",
       "      <td>None</td>\n",
       "    </tr>\n",
       "    <tr>\n",
       "      <th>27</th>\n",
       "      <td>10</td>\n",
       "      <td>0.5</td>\n",
       "      <td>15</td>\n",
       "      <td>1.0</td>\n",
       "      <td>0</td>\n",
       "      <td>6</td>\n",
       "      <td>1</td>\n",
       "      <td>False</td>\n",
       "      <td>5</td>\n",
       "      <td>[1.0003061284728672]</td>\n",
       "      <td>0</td>\n",
       "      <td>269</td>\n",
       "      <td>48.579893</td>\n",
       "    </tr>\n",
       "    <tr>\n",
       "      <th>28</th>\n",
       "      <td>10</td>\n",
       "      <td>0.5</td>\n",
       "      <td>15</td>\n",
       "      <td>1.0</td>\n",
       "      <td>0</td>\n",
       "      <td>7</td>\n",
       "      <td>2</td>\n",
       "      <td>True</td>\n",
       "      <td>0</td>\n",
       "      <td>[0.0]</td>\n",
       "      <td>0</td>\n",
       "      <td>4</td>\n",
       "      <td>0.480348</td>\n",
       "    </tr>\n",
       "    <tr>\n",
       "      <th>29</th>\n",
       "      <td>10</td>\n",
       "      <td>0.5</td>\n",
       "      <td>15</td>\n",
       "      <td>1.0</td>\n",
       "      <td>0</td>\n",
       "      <td>7</td>\n",
       "      <td>2</td>\n",
       "      <td>False</td>\n",
       "      <td>0</td>\n",
       "      <td>[0.0]</td>\n",
       "      <td>0</td>\n",
       "      <td>4</td>\n",
       "      <td>0.537773</td>\n",
       "    </tr>\n",
       "    <tr>\n",
       "      <th>30</th>\n",
       "      <td>10</td>\n",
       "      <td>0.5</td>\n",
       "      <td>15</td>\n",
       "      <td>1.0</td>\n",
       "      <td>0</td>\n",
       "      <td>7</td>\n",
       "      <td>1</td>\n",
       "      <td>True</td>\n",
       "      <td>5</td>\n",
       "      <td>999</td>\n",
       "      <td>None</td>\n",
       "      <td>None</td>\n",
       "      <td>None</td>\n",
       "    </tr>\n",
       "    <tr>\n",
       "      <th>31</th>\n",
       "      <td>10</td>\n",
       "      <td>0.5</td>\n",
       "      <td>15</td>\n",
       "      <td>1.0</td>\n",
       "      <td>0</td>\n",
       "      <td>7</td>\n",
       "      <td>1</td>\n",
       "      <td>False</td>\n",
       "      <td>5</td>\n",
       "      <td>[19468.154953373043]</td>\n",
       "      <td>0</td>\n",
       "      <td>335</td>\n",
       "      <td>30.950259</td>\n",
       "    </tr>\n",
       "    <tr>\n",
       "      <th>32</th>\n",
       "      <td>10</td>\n",
       "      <td>0.5</td>\n",
       "      <td>15</td>\n",
       "      <td>1.0</td>\n",
       "      <td>0</td>\n",
       "      <td>8</td>\n",
       "      <td>2</td>\n",
       "      <td>True</td>\n",
       "      <td>0</td>\n",
       "      <td>[0.0]</td>\n",
       "      <td>0</td>\n",
       "      <td>4</td>\n",
       "      <td>0.49873</td>\n",
       "    </tr>\n",
       "    <tr>\n",
       "      <th>33</th>\n",
       "      <td>10</td>\n",
       "      <td>0.5</td>\n",
       "      <td>15</td>\n",
       "      <td>1.0</td>\n",
       "      <td>0</td>\n",
       "      <td>8</td>\n",
       "      <td>2</td>\n",
       "      <td>False</td>\n",
       "      <td>0</td>\n",
       "      <td>[0.0]</td>\n",
       "      <td>0</td>\n",
       "      <td>4</td>\n",
       "      <td>0.577071</td>\n",
       "    </tr>\n",
       "    <tr>\n",
       "      <th>34</th>\n",
       "      <td>10</td>\n",
       "      <td>0.5</td>\n",
       "      <td>15</td>\n",
       "      <td>1.0</td>\n",
       "      <td>0</td>\n",
       "      <td>8</td>\n",
       "      <td>1</td>\n",
       "      <td>True</td>\n",
       "      <td>5</td>\n",
       "      <td>999</td>\n",
       "      <td>None</td>\n",
       "      <td>None</td>\n",
       "      <td>None</td>\n",
       "    </tr>\n",
       "    <tr>\n",
       "      <th>35</th>\n",
       "      <td>10</td>\n",
       "      <td>0.5</td>\n",
       "      <td>15</td>\n",
       "      <td>1.0</td>\n",
       "      <td>0</td>\n",
       "      <td>8</td>\n",
       "      <td>1</td>\n",
       "      <td>False</td>\n",
       "      <td>5</td>\n",
       "      <td>[23322.291947112382]</td>\n",
       "      <td>0</td>\n",
       "      <td>97</td>\n",
       "      <td>10.322892</td>\n",
       "    </tr>\n",
       "    <tr>\n",
       "      <th>36</th>\n",
       "      <td>10</td>\n",
       "      <td>0.5</td>\n",
       "      <td>15</td>\n",
       "      <td>1.0</td>\n",
       "      <td>0</td>\n",
       "      <td>9</td>\n",
       "      <td>2</td>\n",
       "      <td>True</td>\n",
       "      <td>0</td>\n",
       "      <td>[0.0]</td>\n",
       "      <td>0</td>\n",
       "      <td>4</td>\n",
       "      <td>0.650864</td>\n",
       "    </tr>\n",
       "    <tr>\n",
       "      <th>37</th>\n",
       "      <td>10</td>\n",
       "      <td>0.5</td>\n",
       "      <td>15</td>\n",
       "      <td>1.0</td>\n",
       "      <td>0</td>\n",
       "      <td>9</td>\n",
       "      <td>2</td>\n",
       "      <td>False</td>\n",
       "      <td>0</td>\n",
       "      <td>[0.0]</td>\n",
       "      <td>0</td>\n",
       "      <td>4</td>\n",
       "      <td>0.665036</td>\n",
       "    </tr>\n",
       "    <tr>\n",
       "      <th>38</th>\n",
       "      <td>10</td>\n",
       "      <td>0.5</td>\n",
       "      <td>15</td>\n",
       "      <td>1.0</td>\n",
       "      <td>0</td>\n",
       "      <td>9</td>\n",
       "      <td>1</td>\n",
       "      <td>True</td>\n",
       "      <td>5</td>\n",
       "      <td>999</td>\n",
       "      <td>None</td>\n",
       "      <td>None</td>\n",
       "      <td>None</td>\n",
       "    </tr>\n",
       "    <tr>\n",
       "      <th>39</th>\n",
       "      <td>10</td>\n",
       "      <td>0.5</td>\n",
       "      <td>15</td>\n",
       "      <td>1.0</td>\n",
       "      <td>0</td>\n",
       "      <td>9</td>\n",
       "      <td>1</td>\n",
       "      <td>False</td>\n",
       "      <td>5</td>\n",
       "      <td>[73817498950258.31]</td>\n",
       "      <td>0</td>\n",
       "      <td>358</td>\n",
       "      <td>28.702827</td>\n",
       "    </tr>\n",
       "  </tbody>\n",
       "</table>\n",
       "</div>"
      ],
      "text/plain": [
       "     m  ncoeff   n  sparsity  seed  poly_seed  prob_type    mdf maxscc  \\\n",
       "20  10     0.5  15       1.0     0          5          2   True      0   \n",
       "21  10     0.5  15       1.0     0          5          2  False      0   \n",
       "22  10     0.5  15       1.0     0          5          1   True      5   \n",
       "23  10     0.5  15       1.0     0          5          1  False      5   \n",
       "24  10     0.5  15       1.0     0          6          2   True      0   \n",
       "25  10     0.5  15       1.0     0          6          2  False      0   \n",
       "26  10     0.5  15       1.0     0          6          1   True      5   \n",
       "27  10     0.5  15       1.0     0          6          1  False      5   \n",
       "28  10     0.5  15       1.0     0          7          2   True      0   \n",
       "29  10     0.5  15       1.0     0          7          2  False      0   \n",
       "30  10     0.5  15       1.0     0          7          1   True      5   \n",
       "31  10     0.5  15       1.0     0          7          1  False      5   \n",
       "32  10     0.5  15       1.0     0          8          2   True      0   \n",
       "33  10     0.5  15       1.0     0          8          2  False      0   \n",
       "34  10     0.5  15       1.0     0          8          1   True      5   \n",
       "35  10     0.5  15       1.0     0          8          1  False      5   \n",
       "36  10     0.5  15       1.0     0          9          2   True      0   \n",
       "37  10     0.5  15       1.0     0          9          2  False      0   \n",
       "38  10     0.5  15       1.0     0          9          1   True      5   \n",
       "39  10     0.5  15       1.0     0          9          1  False      5   \n",
       "\n",
       "                    fobj solveriter optiter       time  \n",
       "20                 [0.0]          0       4   0.604119  \n",
       "21                 [0.0]          0       4   0.816994  \n",
       "22                   999       None    None       None  \n",
       "23   [1319727.208588888]          0     167  15.012809  \n",
       "24                 [0.0]          0       4   0.577884  \n",
       "25                 [0.0]          0       4   0.607568  \n",
       "26                   999       None    None       None  \n",
       "27  [1.0003061284728672]          0     269  48.579893  \n",
       "28                 [0.0]          0       4   0.480348  \n",
       "29                 [0.0]          0       4   0.537773  \n",
       "30                   999       None    None       None  \n",
       "31  [19468.154953373043]          0     335  30.950259  \n",
       "32                 [0.0]          0       4    0.49873  \n",
       "33                 [0.0]          0       4   0.577071  \n",
       "34                   999       None    None       None  \n",
       "35  [23322.291947112382]          0      97  10.322892  \n",
       "36                 [0.0]          0       4   0.650864  \n",
       "37                 [0.0]          0       4   0.665036  \n",
       "38                   999       None    None       None  \n",
       "39   [73817498950258.31]          0     358  28.702827  "
      ]
     },
     "execution_count": 147,
     "metadata": {},
     "output_type": "execute_result"
    }
   ],
   "source": [
    "df.iloc[20:40]"
   ]
  },
  {
   "cell_type": "code",
   "execution_count": 139,
   "id": "c39f9707-cd44-4459-b270-bff294f181f1",
   "metadata": {
    "execution": {
     "iopub.execute_input": "2022-07-12T04:20:36.924767Z",
     "iopub.status.busy": "2022-07-12T04:20:36.924767Z",
     "iopub.status.idle": "2022-07-12T04:20:36.940797Z",
     "shell.execute_reply": "2022-07-12T04:20:36.939293Z",
     "shell.execute_reply.started": "2022-07-12T04:20:36.924767Z"
    },
    "tags": []
   },
   "outputs": [],
   "source": [
    "fxs = {('maxscc', 'fobj', 'solveriter', 'optiter', 'time'): min_max_scc_calculations}"
   ]
  },
  {
   "cell_type": "code",
   "execution_count": null,
   "id": "a019b9c3-9f23-4168-8d29-923049018235",
   "metadata": {
    "execution": {
     "iopub.execute_input": "2022-07-12T14:30:57.510071Z",
     "iopub.status.busy": "2022-07-12T14:30:57.510071Z"
    },
    "tags": []
   },
   "outputs": [
    {
     "data": {
      "application/vnd.jupyter.widget-view+json": {
       "model_id": "33fca352d1e44f619fc6467f362f1822",
       "version_major": 2,
       "version_minor": 0
      },
      "text/plain": [
       "IntProgress(value=0, max=400)"
      ]
     },
     "metadata": {},
     "output_type": "display_data"
    },
    {
     "name": "stderr",
     "output_type": "stream",
     "text": [
      "C:\\Users\\johan\\miniconda3\\envs\\minimdo\\lib\\site-packages\\openmdao\\solvers\\nonlinear\\newton.py:209: RuntimeWarning: invalid value encountered in double_scalars\n",
      "  rec.rel = norm / norm0\n",
      "C:\\Users\\johan\\miniconda3\\envs\\minimdo\\lib\\site-packages\\openmdao\\solvers\\solver.py:605: RuntimeWarning: invalid value encountered in double_scalars\n",
      "  self._mpi_print(self._iter_count, norm, norm / norm0)\n",
      "C:\\Users\\johan\\miniconda3\\envs\\minimdo\\lib\\site-packages\\openmdao\\solvers\\solver.py:612: RuntimeWarning: invalid value encountered in double_scalars\n",
      "  while self._iter_count < maxiter and norm > atol and norm / norm0 > rtol and not stalled:\n"
     ]
    },
    {
     "name": "stdout",
     "output_type": "stream",
     "text": [
      "Optimization FAILED.\n",
      "Inequality constraints incompatible\n",
      "-----------------------------------\n",
      "Optimization FAILED.\n",
      "Positive directional derivative for linesearch\n",
      "-----------------------------------\n",
      "Optimization FAILED.\n",
      "Iteration limit reached\n",
      "-----------------------------------\n",
      "Optimization FAILED.\n",
      "Positive directional derivative for linesearch\n",
      "-----------------------------------\n",
      "Optimization FAILED.\n",
      "Iteration limit reached\n",
      "-----------------------------------\n",
      "Optimization FAILED.\n",
      "Positive directional derivative for linesearch\n",
      "-----------------------------------\n",
      "Optimization FAILED.\n",
      "Inequality constraints incompatible\n",
      "-----------------------------------\n"
     ]
    },
    {
     "name": "stderr",
     "output_type": "stream",
     "text": [
      "C:\\Users\\johan\\miniconda3\\envs\\minimdo\\lib\\site-packages\\openmdao\\core\\total_jac.py:1596: DerivativesWarning:Design variables [('inp.x_4', inds=[0])] have no impact on the constraints or objective.\n"
     ]
    },
    {
     "name": "stdout",
     "output_type": "stream",
     "text": [
      "Optimization FAILED.\n",
      "Inequality constraints incompatible\n",
      "-----------------------------------\n",
      "Optimization FAILED.\n",
      "Inequality constraints incompatible\n",
      "-----------------------------------\n",
      "Optimization FAILED.\n",
      "Iteration limit reached\n",
      "-----------------------------------\n",
      "Optimization FAILED.\n",
      "Inequality constraints incompatible\n",
      "-----------------------------------\n",
      "Optimization FAILED.\n",
      "Positive directional derivative for linesearch\n",
      "-----------------------------------\n",
      "Optimization FAILED.\n",
      "Positive directional derivative for linesearch\n",
      "-----------------------------------\n",
      "Optimization FAILED.\n",
      "Inequality constraints incompatible\n",
      "-----------------------------------\n",
      "Optimization FAILED.\n",
      "Iteration limit reached\n",
      "-----------------------------------\n",
      "Optimization FAILED.\n",
      "Positive directional derivative for linesearch\n",
      "-----------------------------------\n"
     ]
    },
    {
     "name": "stderr",
     "output_type": "stream",
     "text": [
      "C:\\Users\\johan\\miniconda3\\envs\\minimdo\\lib\\site-packages\\openmdao\\core\\total_jac.py:1596: DerivativesWarning:Design variables [('inp.x_6', inds=[0]), ('inp.x_10', inds=[0])] have no impact on the constraints or objective.\n"
     ]
    },
    {
     "name": "stdout",
     "output_type": "stream",
     "text": [
      "Optimization FAILED.\n",
      "Inequality constraints incompatible\n",
      "-----------------------------------\n",
      "Optimization FAILED.\n",
      "Singular matrix E in LSQ subproblem\n",
      "-----------------------------------\n",
      "Optimization FAILED.\n",
      "Positive directional derivative for linesearch\n",
      "-----------------------------------\n",
      "Optimization FAILED.\n",
      "Iteration limit reached\n",
      "-----------------------------------\n",
      "Optimization FAILED.\n",
      "Positive directional derivative for linesearch\n",
      "-----------------------------------\n"
     ]
    }
   ],
   "source": [
    "run_calculations(df, fxs, iter_cycles=400, filename=None, commonartifacts=generate_artifacts, \n",
    "                 argnames=[\"m\", \"n\", \"sparsity\", \"seed\", \"prob_type\", \"poly_seed\", \"mdf\"])"
   ]
  },
  {
   "cell_type": "code",
   "execution_count": null,
   "id": "14efd546-3bf5-48c7-9b3b-67491d49aafd",
   "metadata": {},
   "outputs": [],
   "source": []
  }
 ],
 "metadata": {
  "kernelspec": {
   "display_name": "Python [conda env:minimdo]",
   "language": "python",
   "name": "conda-env-minimdo-py"
  },
  "language_info": {
   "codemirror_mode": {
    "name": "ipython",
    "version": 3
   },
   "file_extension": ".py",
   "mimetype": "text/x-python",
   "name": "python",
   "nbconvert_exporter": "python",
   "pygments_lexer": "ipython3",
   "version": "3.9.12"
  }
 },
 "nbformat": 4,
 "nbformat_minor": 5
}
