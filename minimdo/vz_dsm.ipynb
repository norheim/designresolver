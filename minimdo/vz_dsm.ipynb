{
 "cells": [
  {
   "cell_type": "code",
   "execution_count": 115,
   "id": "22adf08c-0fb2-49a9-bd03-83606e1a96d4",
   "metadata": {
    "execution": {
     "iopub.execute_input": "2022-01-18T23:10:13.113128Z",
     "iopub.status.busy": "2022-01-18T23:10:13.112126Z",
     "iopub.status.idle": "2022-01-18T23:10:13.142124Z",
     "shell.execute_reply": "2022-01-18T23:10:13.141152Z",
     "shell.execute_reply.started": "2022-01-18T23:10:13.113128Z"
    },
    "tags": []
   },
   "outputs": [],
   "source": [
    "from datastructures import all_vars_from_incidence\n",
    "from representations import generate_label\n",
    "import numpy as np\n",
    "import matplotlib.pyplot as plt\n",
    "import matplotlib.patches as patches\n",
    "from anytree import Node, PreOrderIter, RenderTree"
   ]
  },
  {
   "cell_type": "code",
   "execution_count": 39,
   "id": "3870b0a2-4de9-40b2-896f-ce395201d29d",
   "metadata": {
    "execution": {
     "iopub.execute_input": "2022-01-17T19:37:14.116072Z",
     "iopub.status.busy": "2022-01-17T19:37:14.115067Z",
     "iopub.status.idle": "2022-01-17T19:37:14.124070Z",
     "shell.execute_reply": "2022-01-17T19:37:14.123069Z",
     "shell.execute_reply.started": "2022-01-17T19:37:14.116072Z"
    },
    "tags": []
   },
   "outputs": [],
   "source": [
    "incstr = {\n",
    "    'f_0': ('x','y'),   \n",
    "    'f_1': ('a','c','y'),    # analysis f1(c, y)\n",
    "    'f_2': ('a','b'),    # analysis f2(a)\n",
    "    'r_1': ('b','d'),     # function \n",
    "    'f_3': ('e','c', 'b')\n",
    "         }"
   ]
  },
  {
   "cell_type": "code",
   "execution_count": 51,
   "id": "00be2b92-cfad-415a-acee-669b48955ebb",
   "metadata": {
    "execution": {
     "iopub.execute_input": "2022-01-17T19:42:35.478964Z",
     "iopub.status.busy": "2022-01-17T19:42:35.477967Z",
     "iopub.status.idle": "2022-01-17T19:42:35.491963Z",
     "shell.execute_reply": "2022-01-17T19:42:35.490963Z",
     "shell.execute_reply.started": "2022-01-17T19:42:35.477967Z"
    },
    "tags": []
   },
   "outputs": [],
   "source": [
    "solvefor = {\n",
    "    'f_0': 'y',   # should not be c, given that solvefor for r1 is c\n",
    "    'f_1': 'a',\n",
    "    'f_2': 'b',\n",
    "    'f_3': 'e',    # should not be c, given that solvefor for r1 is c\n",
    "    'r_1': 'c' #(? when not assigned) # for 'diagonalized' DSM should be 'd'\n",
    "    # note also that 'c' has to be an input upstream of 'r1', but if r1 is under a solver, then 'c' can not be an output of any node outside\n",
    "}"
   ]
  },
  {
   "cell_type": "code",
   "execution_count": 71,
   "id": "337e986e-d7a7-45b2-9d2f-dca2e5ac9cf5",
   "metadata": {
    "execution": {
     "iopub.execute_input": "2022-01-17T20:26:38.379632Z",
     "iopub.status.busy": "2022-01-17T20:26:38.379632Z",
     "iopub.status.idle": "2022-01-17T20:26:38.389629Z",
     "shell.execute_reply": "2022-01-17T20:26:38.388659Z",
     "shell.execute_reply.started": "2022-01-17T20:26:38.379632Z"
    },
    "tags": []
   },
   "outputs": [],
   "source": [
    "# only leafs are explicit\n",
    "root = Node('.')\n",
    "f0 = Node('f_0', parent=root)\n",
    "s1 = Node('.', parent=root)\n",
    "f3 = Node('f_3', parent=root)\n",
    "f1 = Node('f_1', parent=s1)\n",
    "f2 = Node('f_2', parent=s1)\n",
    "r1 = Node('r_1', end=True, parent=s1)"
   ]
  },
  {
   "cell_type": "code",
   "execution_count": 65,
   "id": "21050b1a-684e-4c3e-9970-073dc5103d44",
   "metadata": {
    "execution": {
     "iopub.execute_input": "2022-01-17T20:16:34.517136Z",
     "iopub.status.busy": "2022-01-17T20:16:34.496052Z",
     "iopub.status.idle": "2022-01-17T20:16:34.625490Z",
     "shell.execute_reply": "2022-01-17T20:16:34.623490Z",
     "shell.execute_reply.started": "2022-01-17T20:16:34.516090Z"
    },
    "tags": []
   },
   "outputs": [],
   "source": [
    "sequence = incstr.keys() # default\n",
    "sequence = ['f_0','f_1','f_2','r_1','f_3']"
   ]
  },
  {
   "cell_type": "code",
   "execution_count": 110,
   "id": "0393b8c8-5f10-4eee-8656-312099ec65c1",
   "metadata": {
    "execution": {
     "iopub.execute_input": "2022-01-17T20:39:16.879327Z",
     "iopub.status.busy": "2022-01-17T20:39:16.879327Z",
     "iopub.status.idle": "2022-01-17T20:39:16.892327Z",
     "shell.execute_reply": "2022-01-17T20:39:16.891329Z",
     "shell.execute_reply.started": "2022-01-17T20:39:16.879327Z"
    },
    "tags": []
   },
   "outputs": [],
   "source": [
    "def getpatchwindow(lst):\n",
    "    ulcorner = lst[0]\n",
    "    size = max(lst)-ulcorner+1\n",
    "    return ulcorner,size"
   ]
  },
  {
   "cell_type": "code",
   "execution_count": 111,
   "id": "ed6e7922-4fa5-4404-b8f6-36b1501d8cba",
   "metadata": {
    "execution": {
     "iopub.execute_input": "2022-01-17T20:39:17.282326Z",
     "iopub.status.busy": "2022-01-17T20:39:17.282326Z",
     "iopub.status.idle": "2022-01-17T20:39:17.304328Z",
     "shell.execute_reply": "2022-01-17T20:39:17.303323Z",
     "shell.execute_reply.started": "2022-01-17T20:39:17.282326Z"
    },
    "tags": []
   },
   "outputs": [],
   "source": [
    "allpatches = []\n",
    "for node in PreOrderIter(root):\n",
    "    if not node.is_leaf: #to speed things up a bit\n",
    "        patchparam = getpatchwindow([idx for idx,elt in enumerate(sequence) if elt in \n",
    "                                     [n.name for n in node.children]])\n",
    "        allpatches.append(patchparam)"
   ]
  },
  {
   "cell_type": "code",
   "execution_count": 66,
   "id": "16fe0e39-14a7-422c-996b-40db49d8cd27",
   "metadata": {
    "execution": {
     "iopub.execute_input": "2022-01-17T20:16:35.025186Z",
     "iopub.status.busy": "2022-01-17T20:16:35.024186Z",
     "iopub.status.idle": "2022-01-17T20:16:35.062013Z",
     "shell.execute_reply": "2022-01-17T20:16:35.061053Z",
     "shell.execute_reply.started": "2022-01-17T20:16:35.025186Z"
    },
    "tags": []
   },
   "outputs": [],
   "source": [
    "permutation = list(all_vars_from_incidence(incstr)) # default\n",
    "permutation = ['a','b','c','d','e','x','y'] # user specified\n",
    "sequence_based_permutation = [solvefor[eqname] for eqname in sequence]  # option that shows outputs\n",
    "permutation = sequence_based_permutation + [var for var in permutation if var not in sequence_based_permutation]"
   ]
  },
  {
   "cell_type": "code",
   "execution_count": 67,
   "id": "88bfaf0d-feb7-4a7c-af5c-b68790e9581a",
   "metadata": {
    "execution": {
     "iopub.execute_input": "2022-01-17T20:16:35.452458Z",
     "iopub.status.busy": "2022-01-17T20:16:35.451459Z",
     "iopub.status.idle": "2022-01-17T20:16:35.485460Z",
     "shell.execute_reply": "2022-01-17T20:16:35.484485Z",
     "shell.execute_reply.started": "2022-01-17T20:16:35.452458Z"
    },
    "tags": []
   },
   "outputs": [],
   "source": [
    "A = np.zeros((len(sequence), len(permutation)))\n",
    "for idx, eq in enumerate(sequence):\n",
    "    varsineq = list(incstr[eq])\n",
    "    for var in varsineq:\n",
    "        col = permutation.index(var)\n",
    "        color = 0.5 if idx == col else 1.\n",
    "        A[idx,col] = color"
   ]
  },
  {
   "cell_type": "code",
   "execution_count": 135,
   "id": "2e5896e4-31ce-448b-b0c2-fae5abebec3e",
   "metadata": {
    "execution": {
     "iopub.execute_input": "2022-01-18T23:17:01.279173Z",
     "iopub.status.busy": "2022-01-18T23:17:01.278178Z",
     "iopub.status.idle": "2022-01-18T23:17:01.298209Z",
     "shell.execute_reply": "2022-01-18T23:17:01.297169Z",
     "shell.execute_reply.started": "2022-01-18T23:17:01.279173Z"
    },
    "tags": []
   },
   "outputs": [],
   "source": [
    "tree_labels = {node.name: (r\"{}${}$\".format(pre, node.name)) for pre, _, node in RenderTree(root)}"
   ]
  },
  {
   "cell_type": "code",
   "execution_count": 138,
   "id": "a2e84f7d-f1ce-4cda-921b-71f79812daec",
   "metadata": {
    "execution": {
     "iopub.execute_input": "2022-01-19T22:34:00.339953Z",
     "iopub.status.busy": "2022-01-19T22:34:00.338953Z",
     "iopub.status.idle": "2022-01-19T22:34:01.349951Z",
     "shell.execute_reply": "2022-01-19T22:34:01.348948Z",
     "shell.execute_reply.started": "2022-01-19T22:34:00.339953Z"
    },
    "tags": []
   },
   "outputs": [
    {
     "data": {
      "image/png": "[encoded data removed]",
      "text/plain": [
       "<Figure size 432x288 with 1 Axes>"
      ]
     },
     "metadata": {
      "needs_background": "light"
     },
     "output_type": "display_data"
    }
   ],
   "source": [
    "fig = plt.pcolormesh(A, cmap='Greys', edgecolors='lightgray', linewidth=1, vmin=0, vmax=1.1)\n",
    "fontsize=16\n",
    "permute_labels = [generate_label(elt) for elt in permutation]\n",
    "xtickidx, xtags = zip(*enumerate(permute_labels))\n",
    "plt.xticks(np.array(xtickidx)+0.5,xtags, rotation = 60, fontsize=fontsize)\n",
    "sequence_labels = [tree_labels[elt] for elt in sequence]\n",
    "ytickidx, ytags = zip(*enumerate(sequence_labels))\n",
    "plt.yticks(np.array(ytickidx)+0.5,ytags, fontsize=fontsize, ha = 'left')\n",
    "ax.xaxis.tick_top()\n",
    "#neqs = len(sequence)\n",
    "ax = plt.gca()\n",
    "for ulcorner, size in allpatches:\n",
    "    rect = patches.Rectangle((ulcorner,ulcorner), size, size, linewidth=2, edgecolor='k', facecolor='none')\n",
    "    ax.add_patch(rect)\n",
    "ax.invert_yaxis()\n",
    "ax.xaxis.tick_top()\n",
    "yax = ax.get_yaxis()\n",
    "yax.set_tick_params(pad=100)\n",
    "ax.set_aspect('equal');\n",
    "plt.savefig('figures/nested_sm.png', dpi=600, bbox_inches='tight')"
   ]
  },
  {
   "cell_type": "code",
   "execution_count": null,
   "id": "6246a8ce-a6aa-452f-bf5d-038773bcc99f",
   "metadata": {},
   "outputs": [],
   "source": []
  }
 ],
 "metadata": {
  "kernelspec": {
   "display_name": "mdo",
   "language": "python",
   "name": "mdo"
  },
  "language_info": {
   "codemirror_mode": {
    "name": "ipython",
    "version": 3
   },
   "file_extension": ".py",
   "mimetype": "text/x-python",
   "name": "python",
   "nbconvert_exporter": "python",
   "pygments_lexer": "ipython3",
   "version": "3.8.12"
  }
 },
 "nbformat": 4,
 "nbformat_minor": 5
}
