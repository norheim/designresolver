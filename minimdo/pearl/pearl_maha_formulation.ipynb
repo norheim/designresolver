{
 "cells": [
  {
   "cell_type": "code",
   "execution_count": 1,
   "id": "933ed0e5-5dd9-44be-8954-5e8f56f2d1a7",
   "metadata": {
    "execution": {
     "iopub.execute_input": "2022-06-15T00:34:44.451130Z",
     "iopub.status.busy": "2022-06-15T00:34:44.451130Z",
     "iopub.status.idle": "2022-06-15T00:34:45.089394Z",
     "shell.execute_reply": "2022-06-15T00:34:45.088706Z",
     "shell.execute_reply.started": "2022-06-15T00:34:44.451130Z"
    },
    "tags": []
   },
   "outputs": [],
   "source": [
    "import jax\n",
    "jax.config.update('jax_platform_name', 'cpu')"
   ]
  },
  {
   "cell_type": "code",
   "execution_count": 2,
   "id": "52fc43ba-7ada-4ba4-934d-e8a705891e91",
   "metadata": {
    "execution": {
     "iopub.execute_input": "2022-06-15T00:34:45.089394Z",
     "iopub.status.busy": "2022-06-15T00:34:45.089394Z",
     "iopub.status.idle": "2022-06-15T00:34:46.590300Z",
     "shell.execute_reply": "2022-06-15T00:34:46.589536Z",
     "shell.execute_reply.started": "2022-06-15T00:34:45.089394Z"
    },
    "tags": []
   },
   "outputs": [],
   "source": [
    "from compute import Var, Par\n",
    "from datastructures.api import Model, adda, addf, addsolver, setsolvefor\n",
    "from datastructures.execution import edges_from_components\n",
    "from datastructures.graphutils import namefromsympy, dfs_tree, SOLVER, VAR, COMP, nested_sources, sources, edges_to_Ein_Eout, flat_graph_formulation, root_solver\n",
    "from datastructures.nestedgraph import root_sources\n",
    "from datastructures.execution import generate_components_and_residuals\n",
    "from datastructures.workflow import get_f, order_from_tree, default_solver_options, mdao_workflow, implicit_comp_name\n",
    "from datastructures.workflow_mdao import mdao_workflow_with_args\n",
    "from datastructures.operators import sort_scc, reorder_merge_solve\n",
    "from datastructures.assembly import build_archi\n",
    "import openmdao.api as om\n",
    "from datastructures.api import evalexpr"
   ]
  },
  {
   "cell_type": "code",
   "execution_count": 3,
   "id": "c81bd544-027e-4ab8-b9c9-5e8ec0eae14a",
   "metadata": {
    "execution": {
     "iopub.execute_input": "2022-06-15T00:34:46.590300Z",
     "iopub.status.busy": "2022-06-15T00:34:46.590300Z",
     "iopub.status.idle": "2022-06-15T00:34:46.605292Z",
     "shell.execute_reply": "2022-06-15T00:34:46.604866Z",
     "shell.execute_reply.started": "2022-06-15T00:34:46.590300Z"
    },
    "tags": []
   },
   "outputs": [],
   "source": [
    "from sympy import cos, pi"
   ]
  },
  {
   "cell_type": "markdown",
   "id": "a81c303f-fab7-4357-8ca2-5cf1140e9ace",
   "metadata": {
    "tags": []
   },
   "source": [
    "# Mahas formulation"
   ]
  },
  {
   "cell_type": "code",
   "execution_count": 4,
   "id": "99f9e1b2-9b16-4720-bb45-edfb3c1bef50",
   "metadata": {
    "execution": {
     "iopub.execute_input": "2022-06-15T00:34:46.606299Z",
     "iopub.status.busy": "2022-06-15T00:34:46.606299Z",
     "iopub.status.idle": "2022-06-15T00:34:46.620359Z",
     "shell.execute_reply": "2022-06-15T00:34:46.620359Z",
     "shell.execute_reply.started": "2022-06-15T00:34:46.606299Z"
    },
    "tags": []
   },
   "outputs": [],
   "source": [
    "Df = Var('D_f', 2, unit='m')\n",
    "Ds = Var('D_s', 1, unit='m')\n",
    "Dd = Var('D_d', 1.25, unit='m')\n",
    "tf = Var('t_f', 0.5, unit='m')\n",
    "ts = Var('t_s', 2, unit='m')\n",
    "td = Var('t_d', 0.5, unit='m')"
   ]
  },
  {
   "cell_type": "code",
   "execution_count": 5,
   "id": "1fb7aaf2-a4e9-4c0a-a057-caa9de84b017",
   "metadata": {
    "execution": {
     "iopub.execute_input": "2022-06-15T00:34:46.621328Z",
     "iopub.status.busy": "2022-06-15T00:34:46.621328Z",
     "iopub.status.idle": "2022-06-15T00:34:46.635901Z",
     "shell.execute_reply": "2022-06-15T00:34:46.635505Z",
     "shell.execute_reply.started": "2022-06-15T00:34:46.621328Z"
    },
    "tags": []
   },
   "outputs": [],
   "source": [
    "rhow = Par(r'\\rho_w', 1023.6, 'kg/m^3') # density of seawater [kg/m^3]\n",
    "rho = Var(r'\\rho', 700, 'kg/m^3')       # arbitrarily set\n",
    "rhoh = Var(r'\\rho_h', 2700, 'kg/m^3')   # arbitrarily set"
   ]
  },
  {
   "cell_type": "code",
   "execution_count": 6,
   "id": "132c5619-6613-4860-821b-0a4f97a5d60c",
   "metadata": {
    "execution": {
     "iopub.execute_input": "2022-06-15T00:34:46.636907Z",
     "iopub.status.busy": "2022-06-15T00:34:46.636907Z",
     "iopub.status.idle": "2022-06-15T00:34:46.651369Z",
     "shell.execute_reply": "2022-06-15T00:34:46.651369Z",
     "shell.execute_reply.started": "2022-06-15T00:34:46.636907Z"
    },
    "tags": []
   },
   "outputs": [],
   "source": [
    "model = Model()\n",
    "m = model.root"
   ]
  },
  {
   "cell_type": "markdown",
   "id": "bfca70cc-be16-4f87-b739-478313c807b2",
   "metadata": {},
   "source": [
    "## Mass budget"
   ]
  },
  {
   "cell_type": "code",
   "execution_count": 7,
   "id": "2a6914a4-51c9-4954-a2b1-41639862664a",
   "metadata": {
    "execution": {
     "iopub.execute_input": "2022-06-15T00:34:46.652363Z",
     "iopub.status.busy": "2022-06-15T00:34:46.652363Z",
     "iopub.status.idle": "2022-06-15T00:34:46.870479Z",
     "shell.execute_reply": "2022-06-15T00:34:46.869473Z",
     "shell.execute_reply.started": "2022-06-15T00:34:46.652363Z"
    },
    "tags": []
   },
   "outputs": [],
   "source": [
    "Vtot = adda(m, 'Vtot', pi/4*(Df**2*tf+Ds**2*ts+Dd**2*td))\n",
    "mstruct = adda(m, 'm_{struct}', pi/4*(Df**2*tf*rho+Ds**2*ts*rho+Dd**2*td*rhoh)) # mass of structure"
   ]
  },
  {
   "cell_type": "code",
   "execution_count": 8,
   "id": "8768f0b7-e955-44a0-be9a-1a60e915803a",
   "metadata": {
    "execution": {
     "iopub.execute_input": "2022-06-15T00:34:46.870479Z",
     "iopub.status.busy": "2022-06-15T00:34:46.870479Z",
     "iopub.status.idle": "2022-06-15T00:34:46.947697Z",
     "shell.execute_reply": "2022-06-15T00:34:46.946664Z",
     "shell.execute_reply.started": "2022-06-15T00:34:46.870479Z"
    },
    "tags": []
   },
   "outputs": [],
   "source": [
    "mbatt = Var('m_{batt}', unit='kg')\n",
    "eta_solar = Par(r'\\eta_{solar}', 10, 'kg/m^2')\n",
    "A_s = Var('A_{solar}', unit='m^2')\n",
    "msolar = adda(m, 'm_{solar}', eta_solar*A_s)\n",
    "mprop = Par('m_{prop}', 50, 'kg') # mass of propulsion\n",
    "mcomms = Par('m_{comms}', 50, 'kg') # mass of comms system\n",
    "mtot = adda(m, 'm_{platform}', mbatt+msolar+mcomms+mprop+mstruct) \n",
    "g = Par('g', 9.81, 'm/s^2')\n",
    "FW = adda(m, 'F_W', mtot*g)"
   ]
  },
  {
   "cell_type": "markdown",
   "id": "141020d8-f797-4e9d-b975-5e8cddc7605a",
   "metadata": {},
   "source": [
    "## Hydrostatic stability"
   ]
  },
  {
   "cell_type": "code",
   "execution_count": 9,
   "id": "58c956c7-bcf1-472c-8d84-09ad45ac69eb",
   "metadata": {
    "execution": {
     "iopub.execute_input": "2022-06-15T00:34:46.948706Z",
     "iopub.status.busy": "2022-06-15T00:34:46.948706Z",
     "iopub.status.idle": "2022-06-15T00:34:46.961908Z",
     "shell.execute_reply": "2022-06-15T00:34:46.961908Z",
     "shell.execute_reply.started": "2022-06-15T00:34:46.948706Z"
    },
    "tags": []
   },
   "outputs": [],
   "source": [
    "#hf = Var('h_f', 0.5, 'm')"
   ]
  },
  {
   "cell_type": "code",
   "execution_count": 10,
   "id": "6fd50404-9443-45bb-b78d-19f8db42e740",
   "metadata": {
    "execution": {
     "iopub.execute_input": "2022-06-15T00:34:46.963347Z",
     "iopub.status.busy": "2022-06-15T00:34:46.963347Z",
     "iopub.status.idle": "2022-06-15T00:34:46.994008Z",
     "shell.execute_reply": "2022-06-15T00:34:46.993479Z",
     "shell.execute_reply.started": "2022-06-15T00:34:46.963347Z"
    },
    "tags": []
   },
   "outputs": [],
   "source": [
    "#Vd = adda(m, 'Vd', pi/4*(Df**2*hf+Ds**2*ts+Dd**2*td))\n",
    "Vd = adda(m, 'Vd', mtot/rhow) #shortcut for now\n",
    "FB = adda(m, 'F_B', rhow*Vd)"
   ]
  },
  {
   "cell_type": "code",
   "execution_count": 11,
   "id": "9232c02c-3743-4a25-9215-3d471a4bb22c",
   "metadata": {
    "execution": {
     "iopub.execute_input": "2022-06-15T00:34:46.995023Z",
     "iopub.status.busy": "2022-06-15T00:34:46.995023Z",
     "iopub.status.idle": "2022-06-15T00:34:47.056402Z",
     "shell.execute_reply": "2022-06-15T00:34:47.055400Z",
     "shell.execute_reply.started": "2022-06-15T00:34:46.995023Z"
    },
    "tags": []
   },
   "outputs": [],
   "source": [
    "hf = adda(m, 'h_f', (4*Vd/pi-Ds**2*ts-Dd**2*td)/Df**2)"
   ]
  },
  {
   "cell_type": "code",
   "execution_count": 12,
   "id": "85435ab4-22c2-42a3-bebb-c9ee694eec3b",
   "metadata": {
    "execution": {
     "iopub.execute_input": "2022-06-15T00:34:47.059400Z",
     "iopub.status.busy": "2022-06-15T00:34:47.058400Z",
     "iopub.status.idle": "2022-06-15T00:34:47.070706Z",
     "shell.execute_reply": "2022-06-15T00:34:47.070706Z",
     "shell.execute_reply.started": "2022-06-15T00:34:47.058400Z"
    },
    "tags": []
   },
   "outputs": [
    {
     "data": {
      "text/latex": [
       "$\\displaystyle h_f=0.5382515361141078\\ \\mathrm{m}\\ (A_{solar}=1.0,m_{batt}=1.0)$"
      ],
      "text/plain": [
       "h_f"
      ]
     },
     "execution_count": 12,
     "metadata": {},
     "output_type": "execute_result"
    }
   ],
   "source": [
    "hf"
   ]
  },
  {
   "cell_type": "code",
   "execution_count": 13,
   "id": "23492c19-e6ec-4f3a-9e4c-2a06e2aeea52",
   "metadata": {
    "execution": {
     "iopub.execute_input": "2022-06-15T00:34:47.071687Z",
     "iopub.status.busy": "2022-06-15T00:34:47.071687Z",
     "iopub.status.idle": "2022-06-15T00:34:47.086846Z",
     "shell.execute_reply": "2022-06-15T00:34:47.086446Z",
     "shell.execute_reply.started": "2022-06-15T00:34:47.071687Z"
    },
    "tags": []
   },
   "outputs": [],
   "source": [
    "xd = td/2\n",
    "xs = td+ts/2\n",
    "xf1 = td+ts+hf/2\n",
    "xf2 = td+ts+tf/2\n",
    "totA1 = hf*Df+ts*Ds+td*Dd\n",
    "totA2 = tf*Df+ts*Ds+td*Dd"
   ]
  },
  {
   "cell_type": "code",
   "execution_count": 14,
   "id": "541f9c78-d7a2-480e-98a4-c93425cca7cc",
   "metadata": {
    "execution": {
     "iopub.execute_input": "2022-06-15T00:34:47.088854Z",
     "iopub.status.busy": "2022-06-15T00:34:47.087862Z",
     "iopub.status.idle": "2022-06-15T00:34:47.117949Z",
     "shell.execute_reply": "2022-06-15T00:34:47.117949Z",
     "shell.execute_reply.started": "2022-06-15T00:34:47.088854Z"
    },
    "tags": []
   },
   "outputs": [],
   "source": [
    "KB = adda(m, 'K_B', (hf*Df*xf1+ts*Ds*xs+td*Dd*xd)/totA1) # z_B"
   ]
  },
  {
   "cell_type": "code",
   "execution_count": 15,
   "id": "38ea227f-d93d-47d6-93f8-fe7176d9419e",
   "metadata": {
    "execution": {
     "iopub.execute_input": "2022-06-15T00:34:47.118957Z",
     "iopub.status.busy": "2022-06-15T00:34:47.118957Z",
     "iopub.status.idle": "2022-06-15T00:34:47.133535Z",
     "shell.execute_reply": "2022-06-15T00:34:47.133121Z",
     "shell.execute_reply.started": "2022-06-15T00:34:47.118957Z"
    },
    "tags": []
   },
   "outputs": [],
   "source": [
    "KG = adda(m, 'K_G', (tf*Df*xf2+ts*Ds*xs+td*Dd*xd)/totA2) \n",
    "#z_G = KG-hf-td-ts"
   ]
  },
  {
   "cell_type": "code",
   "execution_count": 16,
   "id": "bcbd1070-8a78-40d5-ab6a-0b91cc6e85d9",
   "metadata": {
    "execution": {
     "iopub.execute_input": "2022-06-15T00:34:47.134550Z",
     "iopub.status.busy": "2022-06-15T00:34:47.134550Z",
     "iopub.status.idle": "2022-06-15T00:34:47.149575Z",
     "shell.execute_reply": "2022-06-15T00:34:47.148866Z",
     "shell.execute_reply.started": "2022-06-15T00:34:47.134550Z"
    },
    "tags": []
   },
   "outputs": [
    {
     "data": {
      "text/latex": [
       "$\\displaystyle K_B=1.6580352027116583\\ \\mathrm{m}\\ (A_{solar}=1.0,m_{batt}=1.0)$"
      ],
      "text/plain": [
       "K_B"
      ]
     },
     "execution_count": 16,
     "metadata": {},
     "output_type": "execute_result"
    }
   ],
   "source": [
    "KB"
   ]
  },
  {
   "cell_type": "code",
   "execution_count": 17,
   "id": "e63dd277-735c-45b8-b717-e570792961ee",
   "metadata": {
    "execution": {
     "iopub.execute_input": "2022-06-15T00:34:47.150384Z",
     "iopub.status.busy": "2022-06-15T00:34:47.150384Z",
     "iopub.status.idle": "2022-06-15T00:34:47.164726Z",
     "shell.execute_reply": "2022-06-15T00:34:47.164392Z",
     "shell.execute_reply.started": "2022-06-15T00:34:47.150384Z"
    },
    "tags": []
   },
   "outputs": [
    {
     "data": {
      "text/latex": [
       "$\\displaystyle K_G=1.6293103448275863\\ \\mathrm{m}$"
      ],
      "text/plain": [
       "K_G"
      ]
     },
     "execution_count": 17,
     "metadata": {},
     "output_type": "execute_result"
    }
   ],
   "source": [
    "KG"
   ]
  },
  {
   "cell_type": "code",
   "execution_count": 18,
   "id": "b6ef7f9d-fa81-4d13-848c-8e94e102d13c",
   "metadata": {
    "execution": {
     "iopub.execute_input": "2022-06-15T00:34:47.166786Z",
     "iopub.status.busy": "2022-06-15T00:34:47.165786Z",
     "iopub.status.idle": "2022-06-15T00:34:47.258697Z",
     "shell.execute_reply": "2022-06-15T00:34:47.258195Z",
     "shell.execute_reply.started": "2022-06-15T00:34:47.166786Z"
    },
    "tags": []
   },
   "outputs": [],
   "source": [
    "I = adda(m, 'I', pi/64*Df**4)"
   ]
  },
  {
   "cell_type": "code",
   "execution_count": 19,
   "id": "a64217ce-7151-49ae-84da-d185da51ba26",
   "metadata": {
    "execution": {
     "iopub.execute_input": "2022-06-15T00:34:47.259713Z",
     "iopub.status.busy": "2022-06-15T00:34:47.259713Z",
     "iopub.status.idle": "2022-06-15T00:34:47.288983Z",
     "shell.execute_reply": "2022-06-15T00:34:47.288606Z",
     "shell.execute_reply.started": "2022-06-15T00:34:47.259713Z"
    },
    "tags": []
   },
   "outputs": [],
   "source": [
    "BM = adda(m, 'B_M', I/Vd)"
   ]
  },
  {
   "cell_type": "code",
   "execution_count": 20,
   "id": "5669f6fb-0f95-4e5c-ba48-5893647a5744",
   "metadata": {
    "execution": {
     "iopub.execute_input": "2022-06-15T00:34:47.291004Z",
     "iopub.status.busy": "2022-06-15T00:34:47.289991Z",
     "iopub.status.idle": "2022-06-15T00:34:47.304990Z",
     "shell.execute_reply": "2022-06-15T00:34:47.304136Z",
     "shell.execute_reply.started": "2022-06-15T00:34:47.291004Z"
    },
    "tags": []
   },
   "outputs": [
    {
     "data": {
      "text/latex": [
       "$\\displaystyle B_M=0.20266479297461812\\ \\mathrm{m}\\ (A_{solar}=1.0,m_{batt}=1.0)$"
      ],
      "text/plain": [
       "B_M"
      ]
     },
     "execution_count": 20,
     "metadata": {},
     "output_type": "execute_result"
    }
   ],
   "source": [
    "BM"
   ]
  },
  {
   "cell_type": "code",
   "execution_count": 21,
   "id": "a753ab52-a11a-4ee4-a846-b82985e2bae3",
   "metadata": {
    "execution": {
     "iopub.execute_input": "2022-06-15T00:34:47.305801Z",
     "iopub.status.busy": "2022-06-15T00:34:47.305801Z",
     "iopub.status.idle": "2022-06-15T00:34:47.351368Z",
     "shell.execute_reply": "2022-06-15T00:34:47.351201Z",
     "shell.execute_reply.started": "2022-06-15T00:34:47.305801Z"
    },
    "tags": []
   },
   "outputs": [],
   "source": [
    "GM = adda(m, \"G_M\", KB+BM-KG) #should be 3-5% according to http://web.mit.edu/13.012/www/handouts/Reading3.pdf"
   ]
  },
  {
   "cell_type": "code",
   "execution_count": 22,
   "id": "a2c9660c-8e00-4224-880d-363b70a743a3",
   "metadata": {
    "execution": {
     "iopub.execute_input": "2022-06-15T00:34:47.353823Z",
     "iopub.status.busy": "2022-06-15T00:34:47.352380Z",
     "iopub.status.idle": "2022-06-15T00:34:47.367697Z",
     "shell.execute_reply": "2022-06-15T00:34:47.366696Z",
     "shell.execute_reply.started": "2022-06-15T00:34:47.353376Z"
    },
    "tags": []
   },
   "outputs": [
    {
     "data": {
      "text/latex": [
       "$\\displaystyle G_M=0.23138965085869012\\ \\mathrm{m}\\ (A_{solar}=1.0,m_{batt}=1.0)$"
      ],
      "text/plain": [
       "G_M"
      ]
     },
     "execution_count": 22,
     "metadata": {},
     "output_type": "execute_result"
    }
   ],
   "source": [
    "GM"
   ]
  },
  {
   "cell_type": "code",
   "execution_count": 23,
   "id": "3d41940b-8699-41a5-9a58-ee841663c514",
   "metadata": {
    "execution": {
     "iopub.execute_input": "2022-06-15T00:34:47.368696Z",
     "iopub.status.busy": "2022-06-15T00:34:47.368696Z",
     "iopub.status.idle": "2022-06-15T00:34:47.382589Z",
     "shell.execute_reply": "2022-06-15T00:34:47.382589Z",
     "shell.execute_reply.started": "2022-06-15T00:34:47.368696Z"
    },
    "tags": []
   },
   "outputs": [],
   "source": [
    "#addf(m, GM-0.05*Df)\n",
    "#setsolvefor(m, [td])"
   ]
  },
  {
   "cell_type": "markdown",
   "id": "03eb2f1f-06d5-483c-b768-b3be6fc7300f",
   "metadata": {},
   "source": [
    "## Power recharge"
   ]
  },
  {
   "cell_type": "code",
   "execution_count": 24,
   "id": "11cf4da2-1093-462c-8cf2-31649d9facfb",
   "metadata": {
    "execution": {
     "iopub.execute_input": "2022-06-15T00:34:47.441390Z",
     "iopub.status.busy": "2022-06-15T00:34:47.441390Z",
     "iopub.status.idle": "2022-06-15T00:34:47.461828Z",
     "shell.execute_reply": "2022-06-15T00:34:47.460823Z",
     "shell.execute_reply.started": "2022-06-15T00:34:47.441390Z"
    },
    "tags": []
   },
   "outputs": [],
   "source": [
    "eta_A = Par(r'\\eta_A', 0.75) #coverage fraction for solar panels\n",
    "addf(m, A_s-eta_A*pi*(Df/2)**2)\n",
    "setsolvefor(m, [Df])"
   ]
  },
  {
   "cell_type": "code",
   "execution_count": 25,
   "id": "d8d040f3-b95a-417f-83e9-7c6d07d3fdb7",
   "metadata": {
    "execution": {
     "iopub.execute_input": "2022-06-15T00:34:47.579291Z",
     "iopub.status.busy": "2022-06-15T00:34:47.579291Z",
     "iopub.status.idle": "2022-06-15T00:34:47.587292Z",
     "shell.execute_reply": "2022-06-15T00:34:47.586373Z",
     "shell.execute_reply.started": "2022-06-15T00:34:47.579291Z"
    },
    "tags": []
   },
   "outputs": [],
   "source": [
    "eta_s = Par(r'\\eta_s', 0.27)\n",
    "phi_s = Par(r'\\phi_s', 800, 'W/m**2')\n",
    "theta_bar = Par(r'\\theta', 55, 'deg')\n",
    "Ideg = Par('I_{deg}', 0.9)\n",
    "ddeg = Par('d_{deg}', 0.005)\n",
    "Lsolar = Par('L_{solar}', 10) #lifetime in years, but units acts weirdly in powers"
   ]
  },
  {
   "cell_type": "code",
   "execution_count": 26,
   "id": "f0b93470-f200-4845-8dd2-d8cabdbb55ae",
   "metadata": {
    "execution": {
     "iopub.execute_input": "2022-06-15T00:34:47.721968Z",
     "iopub.status.busy": "2022-06-15T00:34:47.721968Z",
     "iopub.status.idle": "2022-06-15T00:34:47.897034Z",
     "shell.execute_reply": "2022-06-15T00:34:47.897034Z",
     "shell.execute_reply.started": "2022-06-15T00:34:47.721968Z"
    },
    "tags": []
   },
   "outputs": [],
   "source": [
    "P_recharge = adda(m, r'P_{recharge}', \n",
    "    eta_s * phi_s * cos(theta_bar) * Ideg * (1-ddeg)**Lsolar * A_s, unit='W', forceunit=True)"
   ]
  },
  {
   "cell_type": "code",
   "execution_count": 27,
   "id": "f93e6de6-5458-484c-a445-8276f2a1e372",
   "metadata": {
    "execution": {
     "iopub.execute_input": "2022-06-15T00:34:47.898160Z",
     "iopub.status.busy": "2022-06-15T00:34:47.898160Z",
     "iopub.status.idle": "2022-06-15T00:34:47.912202Z",
     "shell.execute_reply": "2022-06-15T00:34:47.912202Z",
     "shell.execute_reply.started": "2022-06-15T00:34:47.898160Z"
    },
    "tags": []
   },
   "outputs": [
    {
     "data": {
      "text/latex": [
       "$\\displaystyle P_{recharge}=106.05187943041155\\ \\mathrm{W}\\ (A_{solar}=1.0)$"
      ],
      "text/plain": [
       "P_{recharge}"
      ]
     },
     "execution_count": 27,
     "metadata": {},
     "output_type": "execute_result"
    }
   ],
   "source": [
    "P_recharge"
   ]
  },
  {
   "cell_type": "markdown",
   "id": "d16d5aac-22b8-4104-b8ea-21772e77af29",
   "metadata": {},
   "source": [
    "## Propulsion"
   ]
  },
  {
   "cell_type": "code",
   "execution_count": 28,
   "id": "b34a9157-1f79-4a3d-ae61-1c65701b99db",
   "metadata": {
    "execution": {
     "iopub.execute_input": "2022-06-15T00:34:48.138135Z",
     "iopub.status.busy": "2022-06-15T00:34:48.138135Z",
     "iopub.status.idle": "2022-06-15T00:34:48.179420Z",
     "shell.execute_reply": "2022-06-15T00:34:48.179420Z",
     "shell.execute_reply.started": "2022-06-15T00:34:48.138135Z"
    },
    "tags": []
   },
   "outputs": [],
   "source": [
    "C_d = Par('C_d', 1) # estimate drag coefficient (a square flat plate at 90 deg to the flow is 1.17)\n",
    "S_w = Par('S_w', 10, 'm**2') # wetted surface\n",
    "v = Var('v', unit='m/s') # [m/s]\n",
    "eta_m = Par(r'\\eta_m', 0.75) # estimated, need to determine from motors?\n",
    "P_move = adda(m, 'P_{move}', rhow*C_d*S_w*v**3/(2*eta_m), unit='W')"
   ]
  },
  {
   "cell_type": "code",
   "execution_count": 29,
   "id": "5b1f0cc9-b187-4758-bba7-bbdfd0e96011",
   "metadata": {
    "execution": {
     "iopub.execute_input": "2022-06-15T00:34:48.309077Z",
     "iopub.status.busy": "2022-06-15T00:34:48.309077Z",
     "iopub.status.idle": "2022-06-15T00:34:48.320398Z",
     "shell.execute_reply": "2022-06-15T00:34:48.319341Z",
     "shell.execute_reply.started": "2022-06-15T00:34:48.309077Z"
    },
    "tags": []
   },
   "outputs": [
    {
     "data": {
      "text/latex": [
       "$\\displaystyle P_{move}=6824.0\\ \\mathrm{W}\\ (v=1.0)$"
      ],
      "text/plain": [
       "P_{move}"
      ]
     },
     "execution_count": 29,
     "metadata": {},
     "output_type": "execute_result"
    }
   ],
   "source": [
    "P_move"
   ]
  },
  {
   "cell_type": "markdown",
   "id": "4202069f-8aa6-4ac4-a331-13a58c631fc0",
   "metadata": {},
   "source": [
    "## Energy budget"
   ]
  },
  {
   "cell_type": "code",
   "execution_count": 30,
   "id": "1fcbf85a-8aca-4fb8-acfc-fd8b5a9d6b25",
   "metadata": {
    "execution": {
     "iopub.execute_input": "2022-06-15T00:34:48.618460Z",
     "iopub.status.busy": "2022-06-15T00:34:48.618460Z",
     "iopub.status.idle": "2022-06-15T00:34:48.630454Z",
     "shell.execute_reply": "2022-06-15T00:34:48.629948Z",
     "shell.execute_reply.started": "2022-06-15T00:34:48.618460Z"
    },
    "tags": []
   },
   "outputs": [],
   "source": [
    "# should t_move, t_comms, t_service and t_recharge add up to 24 hours?\n",
    "t_mission = Par('t_{mission}', 24, 'hr')\n",
    "t_comms = Par('t_{comms}', 1, 'hr')\n",
    "t_move = Par('t_{move}', 1, 'hr')\n",
    "t_service = Par('t_{service}', 12, 'hr')\n",
    "t_recharge = Par('t_{recharge}', 12, 'hr')"
   ]
  },
  {
   "cell_type": "code",
   "execution_count": 31,
   "id": "4e00c929-cabd-4160-923a-3ec6809f36cc",
   "metadata": {
    "execution": {
     "iopub.execute_input": "2022-06-15T00:34:48.754365Z",
     "iopub.status.busy": "2022-06-15T00:34:48.754365Z",
     "iopub.status.idle": "2022-06-15T00:34:48.801871Z",
     "shell.execute_reply": "2022-06-15T00:34:48.801161Z",
     "shell.execute_reply.started": "2022-06-15T00:34:48.754365Z"
    },
    "tags": []
   },
   "outputs": [],
   "source": [
    "E_move = adda(m, 'E_{move}', P_move*t_move, unit='W*hr')\n",
    "P_hotel = Par('P_{hotel}', 50, 'W')\n",
    "E_hotel = adda(m, 'E_{hotel}', P_hotel*t_mission, unit='W*hr')\n",
    "Pcomms = Var('P_{comms}', 0.5, 'W')\n",
    "E_comms = adda(m, 'E_{comms}', Pcomms*t_comms, unit='W*hr')\n",
    "E_AUV = Par('E_{AUV}', 1.9, 'kW*hr') # AUV battery capacity (to be recharged), based on Bluefin-9\n",
    "gamma = Par(r'\\gamma', 1) # AUVs serviced per mission duration (aka in the time of t_mission)\n",
    "E_service = adda(m, 'E_{service}', E_AUV * gamma, unit='W*hr')\n",
    "P_service = adda(m, 'P_{service}', E_service/t_service)"
   ]
  },
  {
   "cell_type": "code",
   "execution_count": 32,
   "id": "dbcade0b-aab9-4faf-9bc2-1548f2079626",
   "metadata": {
    "execution": {
     "iopub.execute_input": "2022-06-15T00:34:48.901452Z",
     "iopub.status.busy": "2022-06-15T00:34:48.901452Z",
     "iopub.status.idle": "2022-06-15T00:34:48.942935Z",
     "shell.execute_reply": "2022-06-15T00:34:48.942637Z",
     "shell.execute_reply.started": "2022-06-15T00:34:48.901452Z"
    },
    "tags": []
   },
   "outputs": [],
   "source": [
    "E_required = adda(m, 'E_{required}', E_hotel+E_move+E_service+E_comms, unit='W*hr')\n",
    "E_recharge = adda(m, 'E_{recharge}', P_recharge * t_recharge, unit='W*hr')"
   ]
  },
  {
   "cell_type": "code",
   "execution_count": 33,
   "id": "008e92d9-02e8-43f7-b74b-3301d75ea5c2",
   "metadata": {
    "execution": {
     "iopub.execute_input": "2022-06-15T00:34:49.352542Z",
     "iopub.status.busy": "2022-06-15T00:34:49.352542Z",
     "iopub.status.idle": "2022-06-15T00:34:49.361058Z",
     "shell.execute_reply": "2022-06-15T00:34:49.361058Z",
     "shell.execute_reply.started": "2022-06-15T00:34:49.352542Z"
    },
    "tags": []
   },
   "outputs": [
    {
     "data": {
      "text/latex": [
       "$\\displaystyle E_{required}=9924.5\\ \\mathrm{W} \\cdot \\mathrm{hr}\\ (v=1.0)$"
      ],
      "text/plain": [
       "E_{required}"
      ]
     },
     "execution_count": 33,
     "metadata": {},
     "output_type": "execute_result"
    }
   ],
   "source": [
    "E_required"
   ]
  },
  {
   "cell_type": "code",
   "execution_count": 34,
   "id": "5d3ba00b-057f-4d0c-bb63-82bf4058efd4",
   "metadata": {
    "execution": {
     "iopub.execute_input": "2022-06-15T00:34:49.661281Z",
     "iopub.status.busy": "2022-06-15T00:34:49.661281Z",
     "iopub.status.idle": "2022-06-15T00:34:49.677814Z",
     "shell.execute_reply": "2022-06-15T00:34:49.677097Z",
     "shell.execute_reply.started": "2022-06-15T00:34:49.661281Z"
    },
    "tags": []
   },
   "outputs": [
    {
     "data": {
      "text/latex": [
       "$\\displaystyle E_{recharge}=1272.6225531649386\\ \\mathrm{W} \\cdot \\mathrm{hr}\\ (A_{solar}=1.0)$"
      ],
      "text/plain": [
       "E_{recharge}"
      ]
     },
     "execution_count": 34,
     "metadata": {},
     "output_type": "execute_result"
    }
   ],
   "source": [
    "E_recharge"
   ]
  },
  {
   "cell_type": "code",
   "execution_count": 35,
   "id": "ecbf261c-a87f-4871-bdf7-759aa6350146",
   "metadata": {
    "execution": {
     "iopub.execute_input": "2022-06-15T00:34:49.853033Z",
     "iopub.status.busy": "2022-06-15T00:34:49.853033Z",
     "iopub.status.idle": "2022-06-15T00:34:49.866439Z",
     "shell.execute_reply": "2022-06-15T00:34:49.865443Z",
     "shell.execute_reply.started": "2022-06-15T00:34:49.853033Z"
    },
    "tags": []
   },
   "outputs": [
    {
     "data": {
      "text/latex": [
       "$\\displaystyle A_{solar}$"
      ],
      "text/plain": [
       "A_{solar}"
      ]
     },
     "execution_count": 35,
     "metadata": {},
     "output_type": "execute_result"
    }
   ],
   "source": [
    "addf(m, E_required-E_recharge, A_s)"
   ]
  },
  {
   "cell_type": "code",
   "execution_count": 36,
   "id": "5132430f-22d5-4f91-a7fa-10257b519332",
   "metadata": {
    "execution": {
     "iopub.execute_input": "2022-06-15T00:34:50.037042Z",
     "iopub.status.busy": "2022-06-15T00:34:50.036031Z",
     "iopub.status.idle": "2022-06-15T00:34:50.039378Z",
     "shell.execute_reply": "2022-06-15T00:34:50.039029Z",
     "shell.execute_reply.started": "2022-06-15T00:34:50.037042Z"
    },
    "tags": []
   },
   "outputs": [],
   "source": [
    "setsolvefor(m, [A_s])"
   ]
  },
  {
   "cell_type": "code",
   "execution_count": 37,
   "id": "a49d0d9f-715b-4b2d-a693-5979c3422a38",
   "metadata": {
    "execution": {
     "iopub.execute_input": "2022-06-15T00:34:50.196263Z",
     "iopub.status.busy": "2022-06-15T00:34:50.196263Z",
     "iopub.status.idle": "2022-06-15T00:34:50.212207Z",
     "shell.execute_reply": "2022-06-15T00:34:50.211263Z",
     "shell.execute_reply.started": "2022-06-15T00:34:50.196263Z"
    },
    "tags": []
   },
   "outputs": [],
   "source": [
    "#P_drawrecharge = adda(m, 'P_{drawrecharge}', P_hotel - P_recharge) #can be negative\n",
    "#P_drawservice = adda(m, 'P_{drawservice}', P_hotel + P_service)\n",
    "#P_drawmove = adda(m, 'P_{drawmove}', P_hotel+P_move)\n",
    "#P_drawcomms = adda(m, 'P_{drawcomms}', P_hotel+P_comms)"
   ]
  },
  {
   "cell_type": "markdown",
   "id": "a1c42f91-8e50-4c4c-809c-6f4f0b3e2108",
   "metadata": {},
   "source": [
    "## Battery"
   ]
  },
  {
   "cell_type": "code",
   "execution_count": 38,
   "id": "fa2e8b07-8044-4ddf-a3dd-852f3dac757b",
   "metadata": {
    "execution": {
     "iopub.execute_input": "2022-06-15T00:34:50.519604Z",
     "iopub.status.busy": "2022-06-15T00:34:50.518592Z",
     "iopub.status.idle": "2022-06-15T00:34:50.569624Z",
     "shell.execute_reply": "2022-06-15T00:34:50.569624Z",
     "shell.execute_reply.started": "2022-06-15T00:34:50.518592Z"
    },
    "tags": []
   },
   "outputs": [
    {
     "data": {
      "text/latex": [
       "$\\displaystyle m_{batt}=88.39915966386553\\ \\mathrm{kg}\\ (v=1.0)$"
      ],
      "text/plain": [
       "m_{batt}"
      ]
     },
     "execution_count": 38,
     "metadata": {},
     "output_type": "execute_result"
    }
   ],
   "source": [
    "mu_batt = Par(r'\\mu_{battery}', 200, 'W*hr/kg') # Lithium ion\n",
    "DOD = Par('DOD', 0.7)\n",
    "eta_batt = Par(r'\\eta_{battery}', 0.85) # transmission efficiency\n",
    "nu_batt = Par(r'\\nu_{battery}', 450, 'kW*hr/(m**3)')\n",
    "N = Par('N', 1)\n",
    "C = adda(m, 'C', E_required/(DOD*N*eta_batt), unit='kW*hr')\n",
    "V_batt = adda(m, 'V_{batt}', C/nu_batt, unit='m**3')\n",
    "m_batt_zero = Par('m_{batt_zero}', 5, 'kg')\n",
    "adda(m, mbatt, C/mu_batt + m_batt_zero, unit='kg') # was already defined in the beginning"
   ]
  },
  {
   "cell_type": "markdown",
   "id": "61a2e1ac-26e0-464d-a7e1-40a00e9c850f",
   "metadata": {},
   "source": [
    "## Communication Systems"
   ]
  },
  {
   "cell_type": "code",
   "execution_count": 39,
   "id": "2f7a56c5-9751-49c5-bb72-951ab8d3c2b9",
   "metadata": {
    "execution": {
     "iopub.execute_input": "2022-06-15T00:34:50.929053Z",
     "iopub.status.busy": "2022-06-15T00:34:50.929053Z",
     "iopub.status.idle": "2022-06-15T00:34:50.943007Z",
     "shell.execute_reply": "2022-06-15T00:34:50.942628Z",
     "shell.execute_reply.started": "2022-06-15T00:34:50.929053Z"
    },
    "tags": []
   },
   "outputs": [],
   "source": [
    "import sympy as sp\n",
    "db2dec = lambda x: 10**(x/10)\n",
    "dec2db = lambda x: 10*sp.log(sp.Abs(x), 10)"
   ]
  },
  {
   "cell_type": "code",
   "execution_count": 40,
   "id": "1b8f5b6c-7a3d-46a9-bd05-75455fcee2b2",
   "metadata": {
    "execution": {
     "iopub.execute_input": "2022-06-15T00:34:51.101415Z",
     "iopub.status.busy": "2022-06-15T00:34:51.101415Z",
     "iopub.status.idle": "2022-06-15T00:34:51.112410Z",
     "shell.execute_reply": "2022-06-15T00:34:51.112410Z",
     "shell.execute_reply.started": "2022-06-15T00:34:51.101415Z"
    },
    "tags": []
   },
   "outputs": [],
   "source": [
    "k = Par('k', 1.38065e-23, 'J/K')\n",
    "c = Par('c', 3e8, 'm/s')\n",
    "f = Par('f', 2.2, 'GHz')"
   ]
  },
  {
   "cell_type": "code",
   "execution_count": 41,
   "id": "f27a82fb-1c92-4d52-b4f2-04456de30044",
   "metadata": {
    "execution": {
     "iopub.execute_input": "2022-06-15T00:34:51.245384Z",
     "iopub.status.busy": "2022-06-15T00:34:51.245384Z",
     "iopub.status.idle": "2022-06-15T00:34:51.253382Z",
     "shell.execute_reply": "2022-06-15T00:34:51.253382Z",
     "shell.execute_reply.started": "2022-06-15T00:34:51.245384Z"
    },
    "tags": []
   },
   "outputs": [],
   "source": [
    "Lambda = adda(m, r'\\lambda', c/f, unit='m')"
   ]
  },
  {
   "cell_type": "code",
   "execution_count": 42,
   "id": "eb819399-4b56-4b00-b99a-3400c9e74380",
   "metadata": {
    "execution": {
     "iopub.execute_input": "2022-06-15T00:34:51.395726Z",
     "iopub.status.busy": "2022-06-15T00:34:51.395726Z",
     "iopub.status.idle": "2022-06-15T00:34:51.409725Z",
     "shell.execute_reply": "2022-06-15T00:34:51.408727Z",
     "shell.execute_reply.started": "2022-06-15T00:34:51.395726Z"
    },
    "tags": []
   },
   "outputs": [],
   "source": [
    "eta_parab = Par(r'\\eta_{parab}', 0.55)\n",
    "theta_t = Par(r'\\theta_t', 32)\n",
    "error_t = Par('e_t', 27)"
   ]
  },
  {
   "cell_type": "code",
   "execution_count": 43,
   "id": "82aa89fc-70cc-40e8-aa34-ee359d962463",
   "metadata": {
    "execution": {
     "iopub.execute_input": "2022-06-15T00:34:51.548263Z",
     "iopub.status.busy": "2022-06-15T00:34:51.548263Z",
     "iopub.status.idle": "2022-06-15T00:34:51.642406Z",
     "shell.execute_reply": "2022-06-15T00:34:51.641781Z",
     "shell.execute_reply.started": "2022-06-15T00:34:51.548263Z"
    },
    "tags": []
   },
   "outputs": [],
   "source": [
    "G_pt_db = adda(m, 'G_{pt}', 44.3-dec2db(theta_t**2), forceunit=True)"
   ]
  },
  {
   "cell_type": "code",
   "execution_count": 44,
   "id": "20d1026d-b512-4a76-acb4-be2b5847c698",
   "metadata": {
    "execution": {
     "iopub.execute_input": "2022-06-15T00:34:51.707078Z",
     "iopub.status.busy": "2022-06-15T00:34:51.707078Z",
     "iopub.status.idle": "2022-06-15T00:34:51.765878Z",
     "shell.execute_reply": "2022-06-15T00:34:51.765580Z",
     "shell.execute_reply.started": "2022-06-15T00:34:51.707078Z"
    },
    "tags": []
   },
   "outputs": [],
   "source": [
    "L_pt_db = adda(m, 'L_{pt_db}', -12*(error_t/theta_t)**2)"
   ]
  },
  {
   "cell_type": "code",
   "execution_count": 45,
   "id": "cce8de61-adc1-4456-b84c-7c2635c5589e",
   "metadata": {
    "execution": {
     "iopub.execute_input": "2022-06-15T00:34:51.837937Z",
     "iopub.status.busy": "2022-06-15T00:34:51.837937Z",
     "iopub.status.idle": "2022-06-15T00:34:51.874815Z",
     "shell.execute_reply": "2022-06-15T00:34:51.874101Z",
     "shell.execute_reply.started": "2022-06-15T00:34:51.837937Z"
    },
    "tags": []
   },
   "outputs": [],
   "source": [
    "G_t = adda(m, 'G_t', db2dec(G_pt_db+L_pt_db))"
   ]
  },
  {
   "cell_type": "code",
   "execution_count": 46,
   "id": "17fc24c9-f9f3-4f63-a59e-6ab022190e7d",
   "metadata": {
    "execution": {
     "iopub.execute_input": "2022-06-15T00:34:51.979050Z",
     "iopub.status.busy": "2022-06-15T00:34:51.979050Z",
     "iopub.status.idle": "2022-06-15T00:34:51.999298Z",
     "shell.execute_reply": "2022-06-15T00:34:51.999055Z",
     "shell.execute_reply.started": "2022-06-15T00:34:51.979050Z"
    },
    "tags": []
   },
   "outputs": [],
   "source": [
    "D_r = Par('D_r', 5.3, 'm')\n",
    "G_r = adda(m, 'G_r', eta_parab*(pi*D_r/Lambda)**2)"
   ]
  },
  {
   "cell_type": "code",
   "execution_count": 47,
   "id": "3240ec86-b678-4df6-a377-76bb307f8084",
   "metadata": {
    "execution": {
     "iopub.execute_input": "2022-06-15T00:34:52.118856Z",
     "iopub.status.busy": "2022-06-15T00:34:52.118856Z",
     "iopub.status.idle": "2022-06-15T00:34:52.153654Z",
     "shell.execute_reply": "2022-06-15T00:34:52.153654Z",
     "shell.execute_reply.started": "2022-06-15T00:34:52.118856Z"
    },
    "tags": []
   },
   "outputs": [],
   "source": [
    "h = Par('h', 780, 'km')\n",
    "Re = Par('Re', 6378, 'km')\n",
    "S = adda(m, 'S', sp.sqrt(h*(h+2*Re)), unit='km', forceunit=True)"
   ]
  },
  {
   "cell_type": "code",
   "execution_count": 48,
   "id": "a2c4f111-b739-4af8-adaf-516c855abfcd",
   "metadata": {
    "execution": {
     "iopub.execute_input": "2022-06-15T00:34:52.240681Z",
     "iopub.status.busy": "2022-06-15T00:34:52.240681Z",
     "iopub.status.idle": "2022-06-15T00:34:52.264195Z",
     "shell.execute_reply": "2022-06-15T00:34:52.263190Z",
     "shell.execute_reply.started": "2022-06-15T00:34:52.240681Z"
    },
    "tags": []
   },
   "outputs": [],
   "source": [
    "L_s = adda(m, 'L_s', (Lambda/(4*pi*S))**2)"
   ]
  },
  {
   "cell_type": "code",
   "execution_count": 49,
   "id": "4de9442b-fd06-4132-bcd6-bd18f183ebab",
   "metadata": {
    "execution": {
     "iopub.execute_input": "2022-06-15T00:34:52.371140Z",
     "iopub.status.busy": "2022-06-15T00:34:52.371140Z",
     "iopub.status.idle": "2022-06-15T00:34:52.389477Z",
     "shell.execute_reply": "2022-06-15T00:34:52.388355Z",
     "shell.execute_reply.started": "2022-06-15T00:34:52.371140Z"
    },
    "tags": []
   },
   "outputs": [
    {
     "data": {
      "text/latex": [
       "$\\displaystyle L_s=1.1153019752733457e-17$"
      ],
      "text/plain": [
       "L_s"
      ]
     },
     "execution_count": 49,
     "metadata": {},
     "output_type": "execute_result"
    }
   ],
   "source": [
    "L_s"
   ]
  },
  {
   "cell_type": "code",
   "execution_count": 50,
   "id": "fbb9d83a-43cb-4755-b267-04fcb70a7b42",
   "metadata": {
    "execution": {
     "iopub.execute_input": "2022-06-15T00:34:52.538595Z",
     "iopub.status.busy": "2022-06-15T00:34:52.537594Z",
     "iopub.status.idle": "2022-06-15T00:34:52.590399Z",
     "shell.execute_reply": "2022-06-15T00:34:52.590112Z",
     "shell.execute_reply.started": "2022-06-15T00:34:52.538595Z"
    },
    "tags": []
   },
   "outputs": [],
   "source": [
    "BER = Par('BER', 0.0001)\n",
    "R = Var('R', 10, 'Mbit/s') # 1 per microseconds\n",
    "T_s = Par('T_s', 135, 'K')\n",
    "L_a = Par('L_a', db2dec(-0.3))\n",
    "L_l = Par('L_l', db2dec(-1))\n",
    "L_p = Par('L_p', db2dec(-0.1))\n",
    "EN = adda(m, 'EN', Pcomms*L_a*L_s*L_l*L_p*G_r*G_t/(k*T_s*R))"
   ]
  },
  {
   "cell_type": "code",
   "execution_count": 51,
   "id": "28082b75-29b5-4cc3-87c3-5f923b183055",
   "metadata": {
    "execution": {
     "iopub.execute_input": "2022-06-15T00:34:52.787415Z",
     "iopub.status.busy": "2022-06-15T00:34:52.787415Z",
     "iopub.status.idle": "2022-06-15T00:34:52.792635Z",
     "shell.execute_reply": "2022-06-15T00:34:52.792419Z",
     "shell.execute_reply.started": "2022-06-15T00:34:52.787415Z"
    },
    "tags": []
   },
   "outputs": [
    {
     "data": {
      "text/latex": [
       "$\\displaystyle EN=6.5337919971031235$"
      ],
      "text/plain": [
       "EN"
      ]
     },
     "execution_count": 51,
     "metadata": {},
     "output_type": "execute_result"
    }
   ],
   "source": [
    "EN"
   ]
  },
  {
   "cell_type": "markdown",
   "id": "3789f1da-4192-43cc-abe0-4420a721813f",
   "metadata": {},
   "source": [
    "## Hydrodynamics"
   ]
  },
  {
   "cell_type": "code",
   "execution_count": 52,
   "id": "bb5d2e28-0556-4ffe-9b57-6c3eb703833f",
   "metadata": {
    "execution": {
     "iopub.execute_input": "2022-06-15T00:34:53.385887Z",
     "iopub.status.busy": "2022-06-15T00:34:53.385887Z",
     "iopub.status.idle": "2022-06-15T00:34:53.399798Z",
     "shell.execute_reply": "2022-06-15T00:34:53.399677Z",
     "shell.execute_reply.started": "2022-06-15T00:34:53.385887Z"
    },
    "tags": []
   },
   "outputs": [],
   "source": [
    "C33 = adda(m, 'C_{33}', pi*rhow*g/4*Df**2)"
   ]
  },
  {
   "cell_type": "code",
   "execution_count": 53,
   "id": "99422504-e371-4595-a714-58223e86cf7d",
   "metadata": {
    "execution": {
     "iopub.execute_input": "2022-06-15T00:34:53.578899Z",
     "iopub.status.busy": "2022-06-15T00:34:53.578899Z",
     "iopub.status.idle": "2022-06-15T00:34:53.602099Z",
     "shell.execute_reply": "2022-06-15T00:34:53.601475Z",
     "shell.execute_reply.started": "2022-06-15T00:34:53.578899Z"
    },
    "tags": []
   },
   "outputs": [],
   "source": [
    "A33 = adda(m, 'A_{33}', 0.0525*pi*rhow*(Dd**3+Ds**3+Df**3))"
   ]
  },
  {
   "cell_type": "code",
   "execution_count": 54,
   "id": "ef793e10-e101-412c-b3f6-d44d1a3400d4",
   "metadata": {
    "execution": {
     "iopub.execute_input": "2022-06-15T00:34:53.938494Z",
     "iopub.status.busy": "2022-06-15T00:34:53.938494Z",
     "iopub.status.idle": "2022-06-15T00:34:53.945884Z",
     "shell.execute_reply": "2022-06-15T00:34:53.945573Z",
     "shell.execute_reply.started": "2022-06-15T00:34:53.938494Z"
    },
    "tags": []
   },
   "outputs": [],
   "source": [
    "omega0 = adda(m, r'\\omega_0', (C33/(A33+mtot))**1/2, unit='rad/s', forceunit=True)"
   ]
  },
  {
   "cell_type": "code",
   "execution_count": 55,
   "id": "2fd80f16-1dd0-4a32-8b09-d00a7cf54d96",
   "metadata": {
    "execution": {
     "iopub.execute_input": "2022-06-15T00:34:54.132116Z",
     "iopub.status.busy": "2022-06-15T00:34:54.132116Z",
     "iopub.status.idle": "2022-06-15T00:34:54.149274Z",
     "shell.execute_reply": "2022-06-15T00:34:54.149274Z",
     "shell.execute_reply.started": "2022-06-15T00:34:54.132116Z"
    },
    "tags": []
   },
   "outputs": [
    {
     "data": {
      "text/latex": [
       "$\\displaystyle \\omega_0=2.7120378173401294\\ \\mathrm{rad}/\\mathrm{s}\\ (A_{solar}=1.0,m_{batt}=88.39915966386553\\ \\mathrm{kg}\\ (v=1.0)=1.0)$"
      ],
      "text/plain": [
       "\\omega_0"
      ]
     },
     "execution_count": 55,
     "metadata": {},
     "output_type": "execute_result"
    }
   ],
   "source": [
    "omega0"
   ]
  },
  {
   "cell_type": "markdown",
   "id": "c8178de9-f957-4ed4-bdb3-2fb0cbe1160b",
   "metadata": {},
   "source": [
    "# Run"
   ]
  },
  {
   "cell_type": "code",
   "execution_count": 56,
   "id": "b614e2e9-7f6b-4ddf-b2a7-7e6781406def",
   "metadata": {
    "execution": {
     "iopub.execute_input": "2022-06-15T00:34:54.521765Z",
     "iopub.status.busy": "2022-06-15T00:34:54.521765Z",
     "iopub.status.idle": "2022-06-15T00:34:54.525811Z",
     "shell.execute_reply": "2022-06-15T00:34:54.525381Z",
     "shell.execute_reply.started": "2022-06-15T00:34:54.521765Z"
    },
    "tags": []
   },
   "outputs": [],
   "source": [
    "edges, tree = model.generate_formulation()"
   ]
  },
  {
   "cell_type": "code",
   "execution_count": 57,
   "id": "fa59b9aa-5f26-49cb-b6fd-738f9422e5a2",
   "metadata": {
    "execution": {
     "iopub.execute_input": "2022-06-15T00:34:54.724332Z",
     "iopub.status.busy": "2022-06-15T00:34:54.723328Z",
     "iopub.status.idle": "2022-06-15T00:34:54.744623Z",
     "shell.execute_reply": "2022-06-15T00:34:54.744518Z",
     "shell.execute_reply.started": "2022-06-15T00:34:54.724332Z"
    },
    "tags": []
   },
   "outputs": [],
   "source": [
    "DG = flat_graph_formulation(*edges)\n",
    "merge_order = sort_scc(DG)\n",
    "nedges, ntree = reorder_merge_solve(edges, tree, merge_order, 1, True)"
   ]
  },
  {
   "cell_type": "code",
   "execution_count": 58,
   "id": "99011d05-eb02-49ab-bb98-53a77fbf0360",
   "metadata": {
    "execution": {
     "iopub.execute_input": "2022-06-15T00:34:54.938521Z",
     "iopub.status.busy": "2022-06-15T00:34:54.938521Z",
     "iopub.status.idle": "2022-06-15T00:34:54.946999Z",
     "shell.execute_reply": "2022-06-15T00:34:54.946496Z",
     "shell.execute_reply.started": "2022-06-15T00:34:54.938521Z"
    },
    "tags": []
   },
   "outputs": [],
   "source": [
    "ordered_tree = ntree\n",
    "ordered_edges = nedges\n",
    "comp_options = model.comp_options\n",
    "var_options = model.var_options\n",
    "solvers_options = model.solvers_options\n",
    "solvers_options[1] = {'solver': 'N', 'maxiter':20}\n",
    "#solvers_options[2] = {'solver': 'N', 'maxiter':20}\n",
    "#solvers_options[3] = {'solver': 'N', 'maxiter':20}\n",
    "nodetyperepr = model.nametyperepr\n",
    "namingfunc = namefromsympy(nodetyperepr)\n",
    "sequence = order_from_tree(ordered_tree[0], ordered_tree[1], ordered_edges[1])\n",
    "solvers_options = default_solver_options(ordered_tree, solvers_options)\n",
    "wf = mdao_workflow(sequence, solvers_options, comp_options, var_options)"
   ]
  },
  {
   "cell_type": "code",
   "execution_count": 59,
   "id": "e3d229b6-3d89-4fb4-b41f-8399f860f99b",
   "metadata": {
    "execution": {
     "iopub.execute_input": "2022-06-15T00:34:55.155028Z",
     "iopub.status.busy": "2022-06-15T00:34:55.153986Z",
     "iopub.status.idle": "2022-06-15T00:34:55.161367Z",
     "shell.execute_reply": "2022-06-15T00:34:55.161284Z",
     "shell.execute_reply.started": "2022-06-15T00:34:55.155028Z"
    },
    "tags": []
   },
   "outputs": [],
   "source": [
    "components = model.components\n",
    "lookup_f = get_f(components, ordered_edges)\n",
    "wfmdao = mdao_workflow_with_args(wf, lookup_f, namingfunc)"
   ]
  },
  {
   "cell_type": "code",
   "execution_count": 60,
   "id": "8fa1a7bf-d96b-4d0a-ace2-a04979c7d1f7",
   "metadata": {
    "execution": {
     "iopub.execute_input": "2022-06-15T00:34:55.611016Z",
     "iopub.status.busy": "2022-06-15T00:34:55.610032Z",
     "iopub.status.idle": "2022-06-15T00:34:55.644856Z",
     "shell.execute_reply": "2022-06-15T00:34:55.644126Z",
     "shell.execute_reply.started": "2022-06-15T00:34:55.611016Z"
    },
    "tags": []
   },
   "outputs": [],
   "source": [
    "prob, mdao_in, groups = build_archi(ordered_edges, ordered_tree, wfmdao, namingfunc, model.idmapping)"
   ]
  },
  {
   "cell_type": "code",
   "execution_count": 61,
   "id": "b7e2b545-c587-451e-b35d-144260e01a9b",
   "metadata": {
    "execution": {
     "iopub.execute_input": "2022-06-15T00:34:55.810259Z",
     "iopub.status.busy": "2022-06-15T00:34:55.810259Z",
     "iopub.status.idle": "2022-06-15T00:35:03.725951Z",
     "shell.execute_reply": "2022-06-15T00:35:03.725951Z",
     "shell.execute_reply.started": "2022-06-15T00:34:55.810259Z"
    },
    "tags": []
   },
   "outputs": [
    {
     "name": "stdout",
     "output_type": "stream",
     "text": [
      "\n",
      "==\n",
      "s1\n",
      "==\n",
      "NL: Newton Converged in 5 iterations\n"
     ]
    }
   ],
   "source": [
    "prob.run_model()"
   ]
  },
  {
   "cell_type": "code",
   "execution_count": 62,
   "id": "a0d69cf9-4540-457d-b8e1-6d1f231ef973",
   "metadata": {
    "execution": {
     "iopub.execute_input": "2022-06-15T00:35:03.727965Z",
     "iopub.status.busy": "2022-06-15T00:35:03.727965Z",
     "iopub.status.idle": "2022-06-15T00:35:03.757471Z",
     "shell.execute_reply": "2022-06-15T00:35:03.757471Z",
     "shell.execute_reply.started": "2022-06-15T00:35:03.727965Z"
    },
    "tags": []
   },
   "outputs": [
    {
     "name": "stdout",
     "output_type": "stream",
     "text": [
      "88 Explicit Output(s) in 'model'\n",
      "\n",
      "varname         val             \n",
      "--------------  ----------------\n",
      "inp\n",
      "  L_a           [0.9332543]     \n",
      "  t_move        [1.]            \n",
      "  mu_battery    [200.]          \n",
      "  L_solar       [10.]           \n",
      "  t_service     [12.]           \n",
      "  t_recharge    [12.]           \n",
      "  c             [3.e+08]        \n",
      "  eta_solar     [10.]           \n",
      "  eta_s         [0.27]          \n",
      "  theta_t       [32.]           \n",
      "  T_s           [135.]          \n",
      "  t_mission     [24.]           \n",
      "  rho_w         [1023.6]        \n",
      "  t_s           [2.]            \n",
      "  m_prop        [50.]           \n",
      "  h             [780.]          \n",
      "  L_l           [0.79432823]    \n",
      "  t_comms       [1.]            \n",
      "  m_comms       [50.]           \n",
      "  P_hotel       [50.]           \n",
      "  t_f           [0.5]           \n",
      "  S_w           [10.]           \n",
      "  g             [9.81]          \n",
      "  eta_m         [0.75]          \n",
      "  E_AUV         [1.9]           \n",
      "  d_deg         [0.005]         \n",
      "  k             [1.38065e-23]   \n",
      "  D_r           [5.3]           \n",
      "  eta_battery   [0.85]          \n",
      "  phi_s         [800.]          \n",
      "  m_batt_zero   [5.]            \n",
      "  rho           [700.]          \n",
      "  D_s           [1.]            \n",
      "  P_comms       [0.5]           \n",
      "  Re            [6378.]         \n",
      "  gamma         [1.]            \n",
      "  R             [10.]           \n",
      "  L_p           [0.97723722]    \n",
      "  v             [0.22199317]    \n",
      "  C_d           [1.]            \n",
      "  nu_battery    [450.]          \n",
      "  e_t           [27.]           \n",
      "  D_d           [1.25]          \n",
      "  I_deg         [0.9]           \n",
      "  eta_parab     [0.55]          \n",
      "  eta_A         [0.75]          \n",
      "  DOD           [0.7]           \n",
      "  theta         [55.]           \n",
      "  t_d           [0.5]           \n",
      "  rho_h         [2700.]         \n",
      "  N             [1.]            \n",
      "  f             [2.2]           \n",
      "s1\n",
      "  f10\n",
      "    I           [0.88063956]    \n",
      "  f0\n",
      "    Vtot        [3.84770183]    \n",
      "  f9\n",
      "    K_G         [1.63821314]    \n",
      "  f1\n",
      "    m_struct    [3920.57591412] \n",
      "  f2\n",
      "    m_solar     [24.94969788]   \n",
      "  f35\n",
      "    C_33        [33404.37206217]\n",
      "  f36\n",
      "    A_33        [1970.23522124] \n",
      "  f14\n",
      "    P_recharge  [264.59623515]  \n",
      "  f15\n",
      "    P_move      [74.65482179]   \n",
      "  f17\n",
      "    E_hotel     [1200.]         \n",
      "  f18\n",
      "    E_comms     [0.5]           \n",
      "  f19\n",
      "    E_service   [1900.]         \n",
      "  f27\n",
      "    lambda      [0.13636364]    \n",
      "  f28\n",
      "    G_pt        [14.19700043]   \n",
      "  f29\n",
      "    L_pt_db     [-8.54296875]   \n",
      "  f32\n",
      "    S           [3249.31992885] \n",
      "  f22\n",
      "    E_recharge  [3175.15482179] \n",
      "  f16\n",
      "    E_move      [74.65482179]   \n",
      "  f20\n",
      "    P_service   [158.33333333]  \n",
      "  f31\n",
      "    G_r         [8200.05992736] \n",
      "  f30\n",
      "    G_t         [3.67623418]    \n",
      "  f33\n",
      "    L_s         [1.11530198e-17]\n",
      "  f21\n",
      "    E_required  [3175.15482179] \n",
      "  f34\n",
      "    EN          [6.533792]      \n",
      "  f24\n",
      "    C           [5.33639466]    \n",
      "  f25\n",
      "    V_batt      [0.01185865]    \n",
      "  f26\n",
      "    m_batt      [31.68197329]   \n",
      "  f3\n",
      "    m_platform  [4077.20758529] \n",
      "  f4\n",
      "    F_W         [39997.40641168]\n",
      "  f5\n",
      "    Vd          [3.98320397]    \n",
      "  f37\n",
      "    omega_0     [2.76185928]    \n",
      "  f6\n",
      "    F_B         [4077.20758529] \n",
      "  f7\n",
      "    h_f         [0.5407326]     \n",
      "  f11\n",
      "    B_M         [0.22108824]    \n",
      "  f8\n",
      "    K_B         [1.66921107]    \n",
      "  f12\n",
      "    G_M         [0.25208616]    \n",
      "\n",
      "\n",
      "2 Implicit Output(s) in 'model'\n",
      "\n",
      "varname            val         \n",
      "-----------------  ------------\n",
      "s1\n",
      "  res_f13_fAsolar\n",
      "    D_f            [2.05805546]\n",
      "    A_solar        [2.49496979]\n",
      "\n",
      "\n"
     ]
    }
   ],
   "source": [
    "prob.model.list_outputs();"
   ]
  },
  {
   "cell_type": "code",
   "execution_count": null,
   "id": "dc474071-d34d-4eda-ba7d-d675328d6d07",
   "metadata": {},
   "outputs": [],
   "source": []
  }
 ],
 "metadata": {
  "kernelspec": {
   "display_name": "Python [conda env:mdo]",
   "language": "python",
   "name": "conda-env-mdo-py"
  },
  "language_info": {
   "codemirror_mode": {
    "name": "ipython",
    "version": 3
   },
   "file_extension": ".py",
   "mimetype": "text/x-python",
   "name": "python",
   "nbconvert_exporter": "python",
   "pygments_lexer": "ipython3",
   "version": "3.9.7"
  }
 },
 "nbformat": 4,
 "nbformat_minor": 5
}
