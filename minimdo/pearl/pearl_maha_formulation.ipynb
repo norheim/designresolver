{
 "cells": [
  {
   "cell_type": "code",
   "execution_count": 1,
   "id": "933ed0e5-5dd9-44be-8954-5e8f56f2d1a7",
   "metadata": {
    "execution": {
     "iopub.execute_input": "2022-06-14T23:55:48.480745Z",
     "iopub.status.busy": "2022-06-14T23:55:48.480745Z",
     "iopub.status.idle": "2022-06-14T23:55:49.092028Z",
     "shell.execute_reply": "2022-06-14T23:55:49.092028Z",
     "shell.execute_reply.started": "2022-06-14T23:55:48.480745Z"
    },
    "tags": []
   },
   "outputs": [],
   "source": [
    "import jax\n",
    "jax.config.update('jax_platform_name', 'cpu')"
   ]
  },
  {
   "cell_type": "code",
   "execution_count": 2,
   "id": "52fc43ba-7ada-4ba4-934d-e8a705891e91",
   "metadata": {
    "execution": {
     "iopub.execute_input": "2022-06-14T23:55:49.093274Z",
     "iopub.status.busy": "2022-06-14T23:55:49.093274Z",
     "iopub.status.idle": "2022-06-14T23:55:50.699749Z",
     "shell.execute_reply": "2022-06-14T23:55:50.698990Z",
     "shell.execute_reply.started": "2022-06-14T23:55:49.093274Z"
    },
    "tags": []
   },
   "outputs": [],
   "source": [
    "from compute import Var, Par\n",
    "from datastructures.api import Model, adda, addf, addsolver, setsolvefor\n",
    "from datastructures.execution import edges_from_components\n",
    "from datastructures.graphutils import namefromsympy, dfs_tree, SOLVER, VAR, COMP, nested_sources, sources, edges_to_Ein_Eout, flat_graph_formulation, root_solver\n",
    "from datastructures.nestedgraph import root_sources\n",
    "from datastructures.execution import generate_components_and_residuals\n",
    "from datastructures.workflow import get_f, order_from_tree, default_solver_options, mdao_workflow, implicit_comp_name\n",
    "from datastructures.workflow_mdao import mdao_workflow_with_args\n",
    "from datastructures.operators import sort_scc, reorder_merge_solve\n",
    "from datastructures.assembly import build_archi\n",
    "import openmdao.api as om\n",
    "from datastructures.api import evalexpr"
   ]
  },
  {
   "cell_type": "code",
   "execution_count": 3,
   "id": "c81bd544-027e-4ab8-b9c9-5e8ec0eae14a",
   "metadata": {
    "execution": {
     "iopub.execute_input": "2022-06-14T23:55:50.701765Z",
     "iopub.status.busy": "2022-06-14T23:55:50.701765Z",
     "iopub.status.idle": "2022-06-14T23:55:50.715884Z",
     "shell.execute_reply": "2022-06-14T23:55:50.714890Z",
     "shell.execute_reply.started": "2022-06-14T23:55:50.701765Z"
    },
    "tags": []
   },
   "outputs": [],
   "source": [
    "from sympy import cos, pi"
   ]
  },
  {
   "cell_type": "markdown",
   "id": "a81c303f-fab7-4357-8ca2-5cf1140e9ace",
   "metadata": {
    "tags": []
   },
   "source": [
    "# Mahas formulation"
   ]
  },
  {
   "cell_type": "code",
   "execution_count": 4,
   "id": "99f9e1b2-9b16-4720-bb45-edfb3c1bef50",
   "metadata": {
    "execution": {
     "iopub.execute_input": "2022-06-14T23:55:50.717197Z",
     "iopub.status.busy": "2022-06-14T23:55:50.715884Z",
     "iopub.status.idle": "2022-06-14T23:55:50.730524Z",
     "shell.execute_reply": "2022-06-14T23:55:50.730205Z",
     "shell.execute_reply.started": "2022-06-14T23:55:50.717197Z"
    },
    "tags": []
   },
   "outputs": [],
   "source": [
    "Df = Var('D_f', 2, unit='m')\n",
    "Ds = Var('D_s', 1.25, unit='m')\n",
    "Dd = Var('D_d', 1, unit='m')\n",
    "tf = Var('t_f', 0.5, unit='m')\n",
    "ts = Var('t_s', 2, unit='m')\n",
    "td = Var('t_d', 0.5, unit='m')"
   ]
  },
  {
   "cell_type": "code",
   "execution_count": 5,
   "id": "1fb7aaf2-a4e9-4c0a-a057-caa9de84b017",
   "metadata": {
    "execution": {
     "iopub.execute_input": "2022-06-14T23:55:50.731555Z",
     "iopub.status.busy": "2022-06-14T23:55:50.731555Z",
     "iopub.status.idle": "2022-06-14T23:55:50.747299Z",
     "shell.execute_reply": "2022-06-14T23:55:50.746320Z",
     "shell.execute_reply.started": "2022-06-14T23:55:50.731555Z"
    },
    "tags": []
   },
   "outputs": [],
   "source": [
    "rhow = Par(r'\\rho_w', 1023.6, 'kg/m^3') # density of seawater [kg/m^3]\n",
    "rho = Var(r'\\rho', 750, 'kg/m^3')       # arbitrarily set\n",
    "rhoh = Var(r'\\rho_h', 2700, 'kg/m^3')   # arbitrarily set"
   ]
  },
  {
   "cell_type": "code",
   "execution_count": 6,
   "id": "132c5619-6613-4860-821b-0a4f97a5d60c",
   "metadata": {
    "execution": {
     "iopub.execute_input": "2022-06-14T23:55:50.747299Z",
     "iopub.status.busy": "2022-06-14T23:55:50.747299Z",
     "iopub.status.idle": "2022-06-14T23:55:50.761592Z",
     "shell.execute_reply": "2022-06-14T23:55:50.761592Z",
     "shell.execute_reply.started": "2022-06-14T23:55:50.747299Z"
    },
    "tags": []
   },
   "outputs": [],
   "source": [
    "model = Model()\n",
    "m = model.root"
   ]
  },
  {
   "cell_type": "markdown",
   "id": "bfca70cc-be16-4f87-b739-478313c807b2",
   "metadata": {},
   "source": [
    "## Mass budget"
   ]
  },
  {
   "cell_type": "code",
   "execution_count": 7,
   "id": "2a6914a4-51c9-4954-a2b1-41639862664a",
   "metadata": {
    "execution": {
     "iopub.execute_input": "2022-06-14T23:55:50.763592Z",
     "iopub.status.busy": "2022-06-14T23:55:50.763592Z",
     "iopub.status.idle": "2022-06-14T23:55:50.980061Z",
     "shell.execute_reply": "2022-06-14T23:55:50.978941Z",
     "shell.execute_reply.started": "2022-06-14T23:55:50.763592Z"
    },
    "tags": []
   },
   "outputs": [],
   "source": [
    "Vtot = adda(m, 'Vtot', pi/4*(Df**2*tf+Ds**2*ts+Dd**2*td))\n",
    "mstruct = adda(m, 'm_{struct}', pi/4*(Df**2*tf*rho+Ds**2*ts*rho+Dd**2*td*rhoh)) # mass of structure"
   ]
  },
  {
   "cell_type": "code",
   "execution_count": 8,
   "id": "8768f0b7-e955-44a0-be9a-1a60e915803a",
   "metadata": {
    "execution": {
     "iopub.execute_input": "2022-06-14T23:55:50.981310Z",
     "iopub.status.busy": "2022-06-14T23:55:50.980809Z",
     "iopub.status.idle": "2022-06-14T23:55:51.057041Z",
     "shell.execute_reply": "2022-06-14T23:55:51.056403Z",
     "shell.execute_reply.started": "2022-06-14T23:55:50.981310Z"
    },
    "tags": []
   },
   "outputs": [],
   "source": [
    "mbatt = Var('m_{batt}', unit='kg')\n",
    "eta_solar = Par(r'\\eta_{solar}', 10, 'kg/m^2')\n",
    "A_s = Var('A_{solar}', unit='m^2')\n",
    "msolar = adda(m, 'm_{solar}', eta_solar*A_s)\n",
    "mprop = Par('m_{prop}', 50, 'kg') # mass of propulsion\n",
    "mcomms = Par('m_{comms}', 50, 'kg') # mass of comms system\n",
    "mtot = adda(m, 'm_{platform}', mbatt+msolar+mcomms+mprop+mstruct) \n",
    "g = Par('g', 9.81, 'm/s^2')\n",
    "FW = adda(m, 'F_W', mtot*g)"
   ]
  },
  {
   "cell_type": "markdown",
   "id": "141020d8-f797-4e9d-b975-5e8cddc7605a",
   "metadata": {},
   "source": [
    "## Hydrostatic stability"
   ]
  },
  {
   "cell_type": "code",
   "execution_count": 9,
   "id": "58c956c7-bcf1-472c-8d84-09ad45ac69eb",
   "metadata": {
    "execution": {
     "iopub.execute_input": "2022-06-14T23:55:51.058047Z",
     "iopub.status.busy": "2022-06-14T23:55:51.058047Z",
     "iopub.status.idle": "2022-06-14T23:55:51.072069Z",
     "shell.execute_reply": "2022-06-14T23:55:51.072069Z",
     "shell.execute_reply.started": "2022-06-14T23:55:51.058047Z"
    },
    "tags": []
   },
   "outputs": [],
   "source": [
    "#hf = Var('h_f', 0.5, 'm')"
   ]
  },
  {
   "cell_type": "code",
   "execution_count": 10,
   "id": "6fd50404-9443-45bb-b78d-19f8db42e740",
   "metadata": {
    "execution": {
     "iopub.execute_input": "2022-06-14T23:55:51.073050Z",
     "iopub.status.busy": "2022-06-14T23:55:51.073050Z",
     "iopub.status.idle": "2022-06-14T23:55:51.104187Z",
     "shell.execute_reply": "2022-06-14T23:55:51.103270Z",
     "shell.execute_reply.started": "2022-06-14T23:55:51.073050Z"
    },
    "tags": []
   },
   "outputs": [],
   "source": [
    "#Vd = adda(m, 'Vd', pi/4*(Df**2*hf+Ds**2*ts+Dd**2*td))\n",
    "Vd = adda(m, 'Vd', mtot/rhow) #shortcut for now\n",
    "FB = adda(m, 'F_B', rhow*Vd)"
   ]
  },
  {
   "cell_type": "code",
   "execution_count": 11,
   "id": "9232c02c-3743-4a25-9215-3d471a4bb22c",
   "metadata": {
    "execution": {
     "iopub.execute_input": "2022-06-14T23:55:51.105184Z",
     "iopub.status.busy": "2022-06-14T23:55:51.105184Z",
     "iopub.status.idle": "2022-06-14T23:55:51.166482Z",
     "shell.execute_reply": "2022-06-14T23:55:51.165857Z",
     "shell.execute_reply.started": "2022-06-14T23:55:51.105184Z"
    },
    "tags": []
   },
   "outputs": [],
   "source": [
    "hf = adda(m, 'h_f', (4*Vd/pi-Ds**2*ts-Dd**2*td)/Df**2)"
   ]
  },
  {
   "cell_type": "code",
   "execution_count": 12,
   "id": "85435ab4-22c2-42a3-bebb-c9ee694eec3b",
   "metadata": {
    "execution": {
     "iopub.execute_input": "2022-06-14T23:55:51.168494Z",
     "iopub.status.busy": "2022-06-14T23:55:51.167491Z",
     "iopub.status.idle": "2022-06-14T23:55:51.182460Z",
     "shell.execute_reply": "2022-06-14T23:55:51.181624Z",
     "shell.execute_reply.started": "2022-06-14T23:55:51.168494Z"
    },
    "tags": []
   },
   "outputs": [
    {
     "data": {
      "text/latex": [
       "$\\displaystyle h_f=0.3967686570597897\\ \\mathrm{m}\\ (A_{solar}=1.0,m_{batt}=1.0)$"
      ],
      "text/plain": [
       "h_f"
      ]
     },
     "execution_count": 12,
     "metadata": {},
     "output_type": "execute_result"
    }
   ],
   "source": [
    "hf"
   ]
  },
  {
   "cell_type": "code",
   "execution_count": 13,
   "id": "23492c19-e6ec-4f3a-9e4c-2a06e2aeea52",
   "metadata": {
    "execution": {
     "iopub.execute_input": "2022-06-14T23:55:51.183858Z",
     "iopub.status.busy": "2022-06-14T23:55:51.182848Z",
     "iopub.status.idle": "2022-06-14T23:55:51.197169Z",
     "shell.execute_reply": "2022-06-14T23:55:51.197169Z",
     "shell.execute_reply.started": "2022-06-14T23:55:51.183858Z"
    },
    "tags": []
   },
   "outputs": [],
   "source": [
    "xd = td/2\n",
    "xs = td+ts/2\n",
    "xf1 = td+ts+hf/2\n",
    "xf2 = td+ts+tf/2\n",
    "totA1 = hf*Df+ts*Ds+td*Dd\n",
    "totA2 = tf*Df+ts*Ds+td*Dd"
   ]
  },
  {
   "cell_type": "code",
   "execution_count": 14,
   "id": "541f9c78-d7a2-480e-98a4-c93425cca7cc",
   "metadata": {
    "execution": {
     "iopub.execute_input": "2022-06-14T23:55:51.199192Z",
     "iopub.status.busy": "2022-06-14T23:55:51.199192Z",
     "iopub.status.idle": "2022-06-14T23:55:51.229616Z",
     "shell.execute_reply": "2022-06-14T23:55:51.229204Z",
     "shell.execute_reply.started": "2022-06-14T23:55:51.199192Z"
    },
    "tags": []
   },
   "outputs": [],
   "source": [
    "KB = adda(m, 'K_B', (hf*Df*xf1+ts*Ds*xs+td*Dd*xd)/totA1) # z_B"
   ]
  },
  {
   "cell_type": "code",
   "execution_count": 15,
   "id": "38ea227f-d93d-47d6-93f8-fe7176d9419e",
   "metadata": {
    "execution": {
     "iopub.execute_input": "2022-06-14T23:55:51.230782Z",
     "iopub.status.busy": "2022-06-14T23:55:51.230782Z",
     "iopub.status.idle": "2022-06-14T23:55:51.259966Z",
     "shell.execute_reply": "2022-06-14T23:55:51.259966Z",
     "shell.execute_reply.started": "2022-06-14T23:55:51.230782Z"
    },
    "tags": []
   },
   "outputs": [],
   "source": [
    "KG = adda(m, 'K_G', (tf*Df*xf2+ts*Ds*xs+td*Dd*xd)/totA2) \n",
    "#z_G = KG-hf-td-ts"
   ]
  },
  {
   "cell_type": "code",
   "execution_count": 16,
   "id": "bcbd1070-8a78-40d5-ab6a-0b91cc6e85d9",
   "metadata": {
    "execution": {
     "iopub.execute_input": "2022-06-14T23:55:51.261396Z",
     "iopub.status.busy": "2022-06-14T23:55:51.261396Z",
     "iopub.status.idle": "2022-06-14T23:55:51.275477Z",
     "shell.execute_reply": "2022-06-14T23:55:51.275477Z",
     "shell.execute_reply.started": "2022-06-14T23:55:51.261396Z"
    },
    "tags": []
   },
   "outputs": [
    {
     "data": {
      "text/latex": [
       "$\\displaystyle K_B=1.5859257875575317\\ \\mathrm{m}\\ (A_{solar}=1.0,m_{batt}=1.0)$"
      ],
      "text/plain": [
       "K_B"
      ]
     },
     "execution_count": 16,
     "metadata": {},
     "output_type": "execute_result"
    }
   ],
   "source": [
    "KB"
   ]
  },
  {
   "cell_type": "code",
   "execution_count": 17,
   "id": "e63dd277-735c-45b8-b717-e570792961ee",
   "metadata": {
    "execution": {
     "iopub.execute_input": "2022-06-14T23:55:51.277393Z",
     "iopub.status.busy": "2022-06-14T23:55:51.276392Z",
     "iopub.status.idle": "2022-06-14T23:55:51.291499Z",
     "shell.execute_reply": "2022-06-14T23:55:51.291499Z",
     "shell.execute_reply.started": "2022-06-14T23:55:51.277393Z"
    },
    "tags": []
   },
   "outputs": [
    {
     "data": {
      "text/latex": [
       "$\\displaystyle K_G=1.65625\\ \\mathrm{m}$"
      ],
      "text/plain": [
       "K_G"
      ]
     },
     "execution_count": 17,
     "metadata": {},
     "output_type": "execute_result"
    }
   ],
   "source": [
    "KG"
   ]
  },
  {
   "cell_type": "code",
   "execution_count": 18,
   "id": "b6ef7f9d-fa81-4d13-848c-8e94e102d13c",
   "metadata": {
    "execution": {
     "iopub.execute_input": "2022-06-14T23:55:51.293720Z",
     "iopub.status.busy": "2022-06-14T23:55:51.292720Z",
     "iopub.status.idle": "2022-06-14T23:55:51.384596Z",
     "shell.execute_reply": "2022-06-14T23:55:51.384596Z",
     "shell.execute_reply.started": "2022-06-14T23:55:51.292720Z"
    },
    "tags": []
   },
   "outputs": [],
   "source": [
    "I = adda(m, 'I', pi/64*Df**4)"
   ]
  },
  {
   "cell_type": "code",
   "execution_count": 19,
   "id": "a64217ce-7151-49ae-84da-d185da51ba26",
   "metadata": {
    "execution": {
     "iopub.execute_input": "2022-06-14T23:55:51.386718Z",
     "iopub.status.busy": "2022-06-14T23:55:51.385748Z",
     "iopub.status.idle": "2022-06-14T23:55:51.415754Z",
     "shell.execute_reply": "2022-06-14T23:55:51.415290Z",
     "shell.execute_reply.started": "2022-06-14T23:55:51.386718Z"
    },
    "tags": []
   },
   "outputs": [],
   "source": [
    "BM = adda(m, 'B_M', I/Vd)"
   ]
  },
  {
   "cell_type": "code",
   "execution_count": 20,
   "id": "5669f6fb-0f95-4e5c-ba48-5893647a5744",
   "metadata": {
    "execution": {
     "iopub.execute_input": "2022-06-14T23:55:51.418832Z",
     "iopub.status.busy": "2022-06-14T23:55:51.417764Z",
     "iopub.status.idle": "2022-06-14T23:55:51.432294Z",
     "shell.execute_reply": "2022-06-14T23:55:51.431294Z",
     "shell.execute_reply.started": "2022-06-14T23:55:51.418832Z"
    },
    "tags": []
   },
   "outputs": [
    {
     "data": {
      "text/latex": [
       "$\\displaystyle B_M=0.19186217990471077\\ \\mathrm{m}\\ (A_{solar}=1.0,m_{batt}=1.0)$"
      ],
      "text/plain": [
       "B_M"
      ]
     },
     "execution_count": 20,
     "metadata": {},
     "output_type": "execute_result"
    }
   ],
   "source": [
    "BM"
   ]
  },
  {
   "cell_type": "code",
   "execution_count": 21,
   "id": "a753ab52-a11a-4ee4-a846-b82985e2bae3",
   "metadata": {
    "execution": {
     "iopub.execute_input": "2022-06-14T23:55:51.433019Z",
     "iopub.status.busy": "2022-06-14T23:55:51.433019Z",
     "iopub.status.idle": "2022-06-14T23:55:51.478798Z",
     "shell.execute_reply": "2022-06-14T23:55:51.478612Z",
     "shell.execute_reply.started": "2022-06-14T23:55:51.433019Z"
    },
    "tags": []
   },
   "outputs": [],
   "source": [
    "GM = adda(m, \"G_M\", KB+BM-KG) #should be 3-5% according to http://web.mit.edu/13.012/www/handouts/Reading3.pdf"
   ]
  },
  {
   "cell_type": "code",
   "execution_count": 22,
   "id": "a2c9660c-8e00-4224-880d-363b70a743a3",
   "metadata": {
    "execution": {
     "iopub.execute_input": "2022-06-14T23:55:51.553684Z",
     "iopub.status.busy": "2022-06-14T23:55:51.553684Z",
     "iopub.status.idle": "2022-06-14T23:55:51.573080Z",
     "shell.execute_reply": "2022-06-14T23:55:51.572172Z",
     "shell.execute_reply.started": "2022-06-14T23:55:51.553684Z"
    },
    "tags": []
   },
   "outputs": [
    {
     "data": {
      "text/latex": [
       "$\\displaystyle G_M=0.12153796746224232\\ \\mathrm{m}\\ (A_{solar}=1.0,m_{batt}=1.0)$"
      ],
      "text/plain": [
       "G_M"
      ]
     },
     "execution_count": 22,
     "metadata": {},
     "output_type": "execute_result"
    }
   ],
   "source": [
    "GM"
   ]
  },
  {
   "cell_type": "markdown",
   "id": "03eb2f1f-06d5-483c-b768-b3be6fc7300f",
   "metadata": {},
   "source": [
    "## Power recharge"
   ]
  },
  {
   "cell_type": "code",
   "execution_count": 23,
   "id": "11cf4da2-1093-462c-8cf2-31649d9facfb",
   "metadata": {
    "execution": {
     "iopub.execute_input": "2022-06-14T23:55:51.852316Z",
     "iopub.status.busy": "2022-06-14T23:55:51.852316Z",
     "iopub.status.idle": "2022-06-14T23:55:51.867634Z",
     "shell.execute_reply": "2022-06-14T23:55:51.866608Z",
     "shell.execute_reply.started": "2022-06-14T23:55:51.852316Z"
    },
    "tags": []
   },
   "outputs": [],
   "source": [
    "addf(m, A_s-0.5*(Df/2)**2)\n",
    "setsolvefor(m, [Df])"
   ]
  },
  {
   "cell_type": "code",
   "execution_count": 24,
   "id": "d8d040f3-b95a-417f-83e9-7c6d07d3fdb7",
   "metadata": {
    "execution": {
     "iopub.execute_input": "2022-06-14T23:55:52.028157Z",
     "iopub.status.busy": "2022-06-14T23:55:52.028157Z",
     "iopub.status.idle": "2022-06-14T23:55:52.039890Z",
     "shell.execute_reply": "2022-06-14T23:55:52.039239Z",
     "shell.execute_reply.started": "2022-06-14T23:55:52.028157Z"
    },
    "tags": []
   },
   "outputs": [],
   "source": [
    "eta_s = Par(r'\\eta_s', 0.27)\n",
    "phi_s = Par(r'\\phi_s', 800, 'W/m**2')\n",
    "theta_bar = Par(r'\\theta', 55, 'deg')\n",
    "Ideg = Par('I_{deg}', 0.9)\n",
    "ddeg = Par('d_{deg}', 0.005)\n",
    "Lsolar = Par('L_{solar}', 10) #lifetime in years, but units acts weirdly in powers"
   ]
  },
  {
   "cell_type": "code",
   "execution_count": 25,
   "id": "f0b93470-f200-4845-8dd2-d8cabdbb55ae",
   "metadata": {
    "execution": {
     "iopub.execute_input": "2022-06-14T23:55:52.189528Z",
     "iopub.status.busy": "2022-06-14T23:55:52.189042Z",
     "iopub.status.idle": "2022-06-14T23:55:52.361935Z",
     "shell.execute_reply": "2022-06-14T23:55:52.361935Z",
     "shell.execute_reply.started": "2022-06-14T23:55:52.189528Z"
    },
    "tags": []
   },
   "outputs": [],
   "source": [
    "P_recharge = adda(m, r'P_{recharge}', \n",
    "    eta_s * phi_s * cos(theta_bar) * Ideg * (1-ddeg)**Lsolar * A_s, unit='W', forceunit=True)"
   ]
  },
  {
   "cell_type": "code",
   "execution_count": 26,
   "id": "f93e6de6-5458-484c-a445-8276f2a1e372",
   "metadata": {
    "execution": {
     "iopub.execute_input": "2022-06-14T23:55:52.363904Z",
     "iopub.status.busy": "2022-06-14T23:55:52.363904Z",
     "iopub.status.idle": "2022-06-14T23:55:52.377465Z",
     "shell.execute_reply": "2022-06-14T23:55:52.377465Z",
     "shell.execute_reply.started": "2022-06-14T23:55:52.363904Z"
    },
    "tags": []
   },
   "outputs": [
    {
     "data": {
      "text/latex": [
       "$\\displaystyle P_{recharge}=106.05187943041155\\ \\mathrm{W}\\ (A_{solar}=1.0)$"
      ],
      "text/plain": [
       "P_{recharge}"
      ]
     },
     "execution_count": 26,
     "metadata": {},
     "output_type": "execute_result"
    }
   ],
   "source": [
    "P_recharge"
   ]
  },
  {
   "cell_type": "markdown",
   "id": "d16d5aac-22b8-4104-b8ea-21772e77af29",
   "metadata": {},
   "source": [
    "## Propulsion"
   ]
  },
  {
   "cell_type": "code",
   "execution_count": 27,
   "id": "b34a9157-1f79-4a3d-ae61-1c65701b99db",
   "metadata": {
    "execution": {
     "iopub.execute_input": "2022-06-14T23:55:52.634906Z",
     "iopub.status.busy": "2022-06-14T23:55:52.634906Z",
     "iopub.status.idle": "2022-06-14T23:55:52.672301Z",
     "shell.execute_reply": "2022-06-14T23:55:52.672301Z",
     "shell.execute_reply.started": "2022-06-14T23:55:52.634906Z"
    },
    "tags": []
   },
   "outputs": [],
   "source": [
    "C_d = Par('C_d', 1) # estimate drag coefficient (a square flat plate at 90 deg to the flow is 1.17)\n",
    "S_w = Par('S_w', 10, 'm**2') # wetted surface\n",
    "v = Var('v', unit='m/s') # [m/s]\n",
    "eta_m = Par(r'\\eta_m', 0.75) # estimated, need to determine from motors?\n",
    "P_move = adda(m, 'P_{move}', rhow*C_d*S_w*v**3/(2*eta_m), unit='W')"
   ]
  },
  {
   "cell_type": "code",
   "execution_count": 28,
   "id": "5b1f0cc9-b187-4758-bba7-bbdfd0e96011",
   "metadata": {
    "execution": {
     "iopub.execute_input": "2022-06-14T23:55:52.716446Z",
     "iopub.status.busy": "2022-06-14T23:55:52.716446Z",
     "iopub.status.idle": "2022-06-14T23:55:52.720777Z",
     "shell.execute_reply": "2022-06-14T23:55:52.720302Z",
     "shell.execute_reply.started": "2022-06-14T23:55:52.716446Z"
    },
    "tags": []
   },
   "outputs": [
    {
     "data": {
      "text/latex": [
       "$\\displaystyle P_{move}=6824.0\\ \\mathrm{W}\\ (v=1.0)$"
      ],
      "text/plain": [
       "P_{move}"
      ]
     },
     "execution_count": 28,
     "metadata": {},
     "output_type": "execute_result"
    }
   ],
   "source": [
    "P_move"
   ]
  },
  {
   "cell_type": "markdown",
   "id": "4202069f-8aa6-4ac4-a331-13a58c631fc0",
   "metadata": {},
   "source": [
    "## Energy budget"
   ]
  },
  {
   "cell_type": "code",
   "execution_count": 29,
   "id": "1fcbf85a-8aca-4fb8-acfc-fd8b5a9d6b25",
   "metadata": {
    "execution": {
     "iopub.execute_input": "2022-06-14T23:55:53.028500Z",
     "iopub.status.busy": "2022-06-14T23:55:53.028500Z",
     "iopub.status.idle": "2022-06-14T23:55:53.034960Z",
     "shell.execute_reply": "2022-06-14T23:55:53.034529Z",
     "shell.execute_reply.started": "2022-06-14T23:55:53.028500Z"
    },
    "tags": []
   },
   "outputs": [],
   "source": [
    "# should t_move, t_comms, t_service and t_recharge add up to 24 hours?\n",
    "t_mission = Par('t_{mission}', 24, 'hr')\n",
    "t_comms = Par('t_{comms}', 1, 'hr')\n",
    "t_move = Par('t_{move}', 1, 'hr')\n",
    "t_service = Par('t_{service}', 12, 'hr')\n",
    "t_recharge = Par('t_{recharge}', 12, 'hr')"
   ]
  },
  {
   "cell_type": "code",
   "execution_count": 30,
   "id": "4e00c929-cabd-4160-923a-3ec6809f36cc",
   "metadata": {
    "execution": {
     "iopub.execute_input": "2022-06-14T23:55:53.165495Z",
     "iopub.status.busy": "2022-06-14T23:55:53.165495Z",
     "iopub.status.idle": "2022-06-14T23:55:53.221178Z",
     "shell.execute_reply": "2022-06-14T23:55:53.220753Z",
     "shell.execute_reply.started": "2022-06-14T23:55:53.165495Z"
    },
    "tags": []
   },
   "outputs": [],
   "source": [
    "E_move = adda(m, 'E_{move}', P_move*t_move, unit='W*hr')\n",
    "P_hotel = Par('P_{hotel}', 50, 'W')\n",
    "E_hotel = adda(m, 'E_{hotel}', P_hotel*t_mission, unit='W*hr')\n",
    "Pcomms = Var('P_{comms}', 0.5, 'W')\n",
    "E_comms = adda(m, 'E_{comms}', Pcomms*t_comms, unit='W*hr')\n",
    "E_AUV = Par('E_{AUV}', 1.9, 'kW*hr') # AUV battery capacity (to be recharged), based on Bluefin-9\n",
    "gamma = Par(r'\\gamma', 1) # AUVs serviced per mission duration (aka in the time of t_mission)\n",
    "E_service = adda(m, 'E_{service}', E_AUV * gamma, unit='W*hr')\n",
    "P_service = adda(m, 'P_{service}', E_service/t_service)"
   ]
  },
  {
   "cell_type": "code",
   "execution_count": 31,
   "id": "dbcade0b-aab9-4faf-9bc2-1548f2079626",
   "metadata": {
    "execution": {
     "iopub.execute_input": "2022-06-14T23:55:53.293873Z",
     "iopub.status.busy": "2022-06-14T23:55:53.293873Z",
     "iopub.status.idle": "2022-06-14T23:55:53.329624Z",
     "shell.execute_reply": "2022-06-14T23:55:53.329144Z",
     "shell.execute_reply.started": "2022-06-14T23:55:53.293873Z"
    },
    "tags": []
   },
   "outputs": [],
   "source": [
    "E_required = adda(m, 'E_{required}', E_hotel+E_move+E_service+E_comms, unit='W*hr')\n",
    "E_recharge = adda(m, 'E_{recharge}', P_recharge * t_recharge, unit='W*hr')"
   ]
  },
  {
   "cell_type": "code",
   "execution_count": 32,
   "id": "008e92d9-02e8-43f7-b74b-3301d75ea5c2",
   "metadata": {
    "execution": {
     "iopub.execute_input": "2022-06-14T23:55:53.447404Z",
     "iopub.status.busy": "2022-06-14T23:55:53.447404Z",
     "iopub.status.idle": "2022-06-14T23:55:53.453175Z",
     "shell.execute_reply": "2022-06-14T23:55:53.452406Z",
     "shell.execute_reply.started": "2022-06-14T23:55:53.447404Z"
    },
    "tags": []
   },
   "outputs": [
    {
     "data": {
      "text/latex": [
       "$\\displaystyle E_{required}=9924.5\\ \\mathrm{W} \\cdot \\mathrm{hr}\\ (v=1.0)$"
      ],
      "text/plain": [
       "E_{required}"
      ]
     },
     "execution_count": 32,
     "metadata": {},
     "output_type": "execute_result"
    }
   ],
   "source": [
    "E_required"
   ]
  },
  {
   "cell_type": "code",
   "execution_count": 33,
   "id": "5d3ba00b-057f-4d0c-bb63-82bf4058efd4",
   "metadata": {
    "execution": {
     "iopub.execute_input": "2022-06-14T23:55:53.579523Z",
     "iopub.status.busy": "2022-06-14T23:55:53.578474Z",
     "iopub.status.idle": "2022-06-14T23:55:53.593021Z",
     "shell.execute_reply": "2022-06-14T23:55:53.592021Z",
     "shell.execute_reply.started": "2022-06-14T23:55:53.579523Z"
    },
    "tags": []
   },
   "outputs": [
    {
     "data": {
      "text/latex": [
       "$\\displaystyle E_{recharge}=1272.6225531649386\\ \\mathrm{W} \\cdot \\mathrm{hr}\\ (A_{solar}=1.0)$"
      ],
      "text/plain": [
       "E_{recharge}"
      ]
     },
     "execution_count": 33,
     "metadata": {},
     "output_type": "execute_result"
    }
   ],
   "source": [
    "E_recharge"
   ]
  },
  {
   "cell_type": "code",
   "execution_count": 34,
   "id": "ecbf261c-a87f-4871-bdf7-759aa6350146",
   "metadata": {
    "execution": {
     "iopub.execute_input": "2022-06-14T23:55:53.660449Z",
     "iopub.status.busy": "2022-06-14T23:55:53.660449Z",
     "iopub.status.idle": "2022-06-14T23:55:53.670714Z",
     "shell.execute_reply": "2022-06-14T23:55:53.670501Z",
     "shell.execute_reply.started": "2022-06-14T23:55:53.660449Z"
    },
    "tags": []
   },
   "outputs": [
    {
     "data": {
      "text/latex": [
       "$\\displaystyle A_{solar}$"
      ],
      "text/plain": [
       "A_{solar}"
      ]
     },
     "execution_count": 34,
     "metadata": {},
     "output_type": "execute_result"
    }
   ],
   "source": [
    "addf(m, E_required-E_recharge, A_s)"
   ]
  },
  {
   "cell_type": "code",
   "execution_count": 35,
   "id": "5132430f-22d5-4f91-a7fa-10257b519332",
   "metadata": {
    "execution": {
     "iopub.execute_input": "2022-06-14T23:55:53.845558Z",
     "iopub.status.busy": "2022-06-14T23:55:53.845558Z",
     "iopub.status.idle": "2022-06-14T23:55:53.859468Z",
     "shell.execute_reply": "2022-06-14T23:55:53.859468Z",
     "shell.execute_reply.started": "2022-06-14T23:55:53.845558Z"
    },
    "tags": []
   },
   "outputs": [],
   "source": [
    "setsolvefor(m, [A_s])"
   ]
  },
  {
   "cell_type": "code",
   "execution_count": 36,
   "id": "a49d0d9f-715b-4b2d-a693-5979c3422a38",
   "metadata": {
    "execution": {
     "iopub.execute_input": "2022-06-14T23:55:54.023857Z",
     "iopub.status.busy": "2022-06-14T23:55:54.023857Z",
     "iopub.status.idle": "2022-06-14T23:55:54.030062Z",
     "shell.execute_reply": "2022-06-14T23:55:54.029856Z",
     "shell.execute_reply.started": "2022-06-14T23:55:54.023857Z"
    },
    "tags": []
   },
   "outputs": [],
   "source": [
    "#P_drawrecharge = adda(m, 'P_{drawrecharge}', P_hotel - P_recharge) #can be negative\n",
    "#P_drawservice = adda(m, 'P_{drawservice}', P_hotel + P_service)\n",
    "#P_drawmove = adda(m, 'P_{drawmove}', P_hotel+P_move)\n",
    "#P_drawcomms = adda(m, 'P_{drawcomms}', P_hotel+P_comms)"
   ]
  },
  {
   "cell_type": "markdown",
   "id": "a1c42f91-8e50-4c4c-809c-6f4f0b3e2108",
   "metadata": {},
   "source": [
    "## Battery"
   ]
  },
  {
   "cell_type": "code",
   "execution_count": 37,
   "id": "fa2e8b07-8044-4ddf-a3dd-852f3dac757b",
   "metadata": {
    "execution": {
     "iopub.execute_input": "2022-06-14T23:55:54.378424Z",
     "iopub.status.busy": "2022-06-14T23:55:54.378424Z",
     "iopub.status.idle": "2022-06-14T23:55:54.421326Z",
     "shell.execute_reply": "2022-06-14T23:55:54.420371Z",
     "shell.execute_reply.started": "2022-06-14T23:55:54.378424Z"
    },
    "tags": []
   },
   "outputs": [
    {
     "data": {
      "text/latex": [
       "$\\displaystyle m_{batt}=88.39915966386553\\ \\mathrm{kg}\\ (v=1.0)$"
      ],
      "text/plain": [
       "m_{batt}"
      ]
     },
     "execution_count": 37,
     "metadata": {},
     "output_type": "execute_result"
    }
   ],
   "source": [
    "mu_batt = Par(r'\\mu_{battery}', 200, 'W*hr/kg') # Lithium ion\n",
    "DOD = Par('DOD', 0.7)\n",
    "eta_batt = Par(r'\\eta_{battery}', 0.85) # transmission efficiency\n",
    "nu_batt = Par(r'\\nu_{battery}', 450, 'kW*hr/(m**3)')\n",
    "N = Par('N', 1)\n",
    "C = adda(m, 'C', E_required/(DOD*N*eta_batt), unit='kW*hr')\n",
    "V_batt = adda(m, 'V_{batt}', C/nu_batt, unit='m**3')\n",
    "m_batt_zero = Par('m_{batt_zero}', 5, 'kg')\n",
    "adda(m, mbatt, C/mu_batt + m_batt_zero, unit='kg') # was already defined in the beginning"
   ]
  },
  {
   "cell_type": "markdown",
   "id": "61a2e1ac-26e0-464d-a7e1-40a00e9c850f",
   "metadata": {},
   "source": [
    "## Communication Systems"
   ]
  },
  {
   "cell_type": "code",
   "execution_count": 38,
   "id": "2f7a56c5-9751-49c5-bb72-951ab8d3c2b9",
   "metadata": {
    "execution": {
     "iopub.execute_input": "2022-06-14T23:55:54.745028Z",
     "iopub.status.busy": "2022-06-14T23:55:54.745028Z",
     "iopub.status.idle": "2022-06-14T23:55:54.763318Z",
     "shell.execute_reply": "2022-06-14T23:55:54.763318Z",
     "shell.execute_reply.started": "2022-06-14T23:55:54.745028Z"
    },
    "tags": []
   },
   "outputs": [],
   "source": [
    "import sympy as sp\n",
    "db2dec = lambda x: 10**(x/10)\n",
    "dec2db = lambda x: 10*sp.log(sp.Abs(x), 10)"
   ]
  },
  {
   "cell_type": "code",
   "execution_count": 39,
   "id": "1b8f5b6c-7a3d-46a9-bd05-75455fcee2b2",
   "metadata": {
    "execution": {
     "iopub.execute_input": "2022-06-14T23:55:54.916210Z",
     "iopub.status.busy": "2022-06-14T23:55:54.916210Z",
     "iopub.status.idle": "2022-06-14T23:55:54.934433Z",
     "shell.execute_reply": "2022-06-14T23:55:54.933907Z",
     "shell.execute_reply.started": "2022-06-14T23:55:54.916210Z"
    },
    "tags": []
   },
   "outputs": [],
   "source": [
    "k = Par('k', 1.38065e-23, 'J/K')\n",
    "c = Par('c', 3e8, 'm/s')\n",
    "f = Par('f', 2.2, 'GHz')"
   ]
  },
  {
   "cell_type": "code",
   "execution_count": 40,
   "id": "f27a82fb-1c92-4d52-b4f2-04456de30044",
   "metadata": {
    "execution": {
     "iopub.execute_input": "2022-06-14T23:55:55.075372Z",
     "iopub.status.busy": "2022-06-14T23:55:55.074337Z",
     "iopub.status.idle": "2022-06-14T23:55:55.088452Z",
     "shell.execute_reply": "2022-06-14T23:55:55.088452Z",
     "shell.execute_reply.started": "2022-06-14T23:55:55.075372Z"
    },
    "tags": []
   },
   "outputs": [],
   "source": [
    "Lambda = adda(m, r'\\lambda', c/f, unit='m')"
   ]
  },
  {
   "cell_type": "code",
   "execution_count": 41,
   "id": "eb819399-4b56-4b00-b99a-3400c9e74380",
   "metadata": {
    "execution": {
     "iopub.execute_input": "2022-06-14T23:55:55.244395Z",
     "iopub.status.busy": "2022-06-14T23:55:55.244395Z",
     "iopub.status.idle": "2022-06-14T23:55:55.259070Z",
     "shell.execute_reply": "2022-06-14T23:55:55.258819Z",
     "shell.execute_reply.started": "2022-06-14T23:55:55.244395Z"
    },
    "tags": []
   },
   "outputs": [],
   "source": [
    "eta_parab = Par(r'\\eta_{parab}', 0.55)\n",
    "theta_t = Par(r'\\theta_t', 32)\n",
    "error_t = Par('e_t', 27)"
   ]
  },
  {
   "cell_type": "code",
   "execution_count": 42,
   "id": "82aa89fc-70cc-40e8-aa34-ee359d962463",
   "metadata": {
    "execution": {
     "iopub.execute_input": "2022-06-14T23:55:55.532063Z",
     "iopub.status.busy": "2022-06-14T23:55:55.532063Z",
     "iopub.status.idle": "2022-06-14T23:55:55.617024Z",
     "shell.execute_reply": "2022-06-14T23:55:55.615942Z",
     "shell.execute_reply.started": "2022-06-14T23:55:55.532063Z"
    },
    "tags": []
   },
   "outputs": [],
   "source": [
    "G_pt_db = adda(m, 'G_{pt}', 44.3-dec2db(theta_t**2), forceunit=True)"
   ]
  },
  {
   "cell_type": "code",
   "execution_count": 43,
   "id": "20d1026d-b512-4a76-acb4-be2b5847c698",
   "metadata": {
    "execution": {
     "iopub.execute_input": "2022-06-14T23:55:55.662393Z",
     "iopub.status.busy": "2022-06-14T23:55:55.662393Z",
     "iopub.status.idle": "2022-06-14T23:55:55.723481Z",
     "shell.execute_reply": "2022-06-14T23:55:55.723481Z",
     "shell.execute_reply.started": "2022-06-14T23:55:55.662393Z"
    },
    "tags": []
   },
   "outputs": [],
   "source": [
    "L_pt_db = adda(m, 'L_{pt_db}', -12*(error_t/theta_t)**2)"
   ]
  },
  {
   "cell_type": "code",
   "execution_count": 44,
   "id": "cce8de61-adc1-4456-b84c-7c2635c5589e",
   "metadata": {
    "execution": {
     "iopub.execute_input": "2022-06-14T23:55:55.812227Z",
     "iopub.status.busy": "2022-06-14T23:55:55.812227Z",
     "iopub.status.idle": "2022-06-14T23:55:55.847227Z",
     "shell.execute_reply": "2022-06-14T23:55:55.847227Z",
     "shell.execute_reply.started": "2022-06-14T23:55:55.812227Z"
    },
    "tags": []
   },
   "outputs": [],
   "source": [
    "G_t = adda(m, 'G_t', db2dec(G_pt_db+L_pt_db))"
   ]
  },
  {
   "cell_type": "code",
   "execution_count": 45,
   "id": "17fc24c9-f9f3-4f63-a59e-6ab022190e7d",
   "metadata": {
    "execution": {
     "iopub.execute_input": "2022-06-14T23:55:55.949243Z",
     "iopub.status.busy": "2022-06-14T23:55:55.949243Z",
     "iopub.status.idle": "2022-06-14T23:55:55.971004Z",
     "shell.execute_reply": "2022-06-14T23:55:55.970826Z",
     "shell.execute_reply.started": "2022-06-14T23:55:55.949243Z"
    },
    "tags": []
   },
   "outputs": [],
   "source": [
    "D_r = Par('D_r', 5.3, 'm')\n",
    "G_r = adda(m, 'G_r', eta_parab*(pi*D_r/Lambda)**2)"
   ]
  },
  {
   "cell_type": "code",
   "execution_count": 46,
   "id": "3240ec86-b678-4df6-a377-76bb307f8084",
   "metadata": {
    "execution": {
     "iopub.execute_input": "2022-06-14T23:55:56.086133Z",
     "iopub.status.busy": "2022-06-14T23:55:56.086133Z",
     "iopub.status.idle": "2022-06-14T23:55:56.109742Z",
     "shell.execute_reply": "2022-06-14T23:55:56.109146Z",
     "shell.execute_reply.started": "2022-06-14T23:55:56.086133Z"
    },
    "tags": []
   },
   "outputs": [],
   "source": [
    "h = Par('h', 780, 'km')\n",
    "Re = Par('Re', 6378, 'km')\n",
    "S = adda(m, 'S', sp.sqrt(h*(h+2*Re)), unit='km', forceunit=True)"
   ]
  },
  {
   "cell_type": "code",
   "execution_count": 47,
   "id": "a2c4f111-b739-4af8-adaf-516c855abfcd",
   "metadata": {
    "execution": {
     "iopub.execute_input": "2022-06-14T23:55:56.236218Z",
     "iopub.status.busy": "2022-06-14T23:55:56.236218Z",
     "iopub.status.idle": "2022-06-14T23:55:56.249322Z",
     "shell.execute_reply": "2022-06-14T23:55:56.249222Z",
     "shell.execute_reply.started": "2022-06-14T23:55:56.236218Z"
    },
    "tags": []
   },
   "outputs": [],
   "source": [
    "L_s = adda(m, 'L_s', (Lambda/(4*pi*S))**2)"
   ]
  },
  {
   "cell_type": "code",
   "execution_count": 48,
   "id": "4de9442b-fd06-4132-bcd6-bd18f183ebab",
   "metadata": {
    "execution": {
     "iopub.execute_input": "2022-06-14T23:55:56.363244Z",
     "iopub.status.busy": "2022-06-14T23:55:56.363244Z",
     "iopub.status.idle": "2022-06-14T23:55:56.376242Z",
     "shell.execute_reply": "2022-06-14T23:55:56.375239Z",
     "shell.execute_reply.started": "2022-06-14T23:55:56.363244Z"
    },
    "tags": []
   },
   "outputs": [
    {
     "data": {
      "text/latex": [
       "$\\displaystyle L_s=1.1153019752733457e-17$"
      ],
      "text/plain": [
       "L_s"
      ]
     },
     "execution_count": 48,
     "metadata": {},
     "output_type": "execute_result"
    }
   ],
   "source": [
    "L_s"
   ]
  },
  {
   "cell_type": "code",
   "execution_count": 49,
   "id": "fbb9d83a-43cb-4755-b267-04fcb70a7b42",
   "metadata": {
    "execution": {
     "iopub.execute_input": "2022-06-14T23:55:56.502083Z",
     "iopub.status.busy": "2022-06-14T23:55:56.502083Z",
     "iopub.status.idle": "2022-06-14T23:55:56.549367Z",
     "shell.execute_reply": "2022-06-14T23:55:56.549102Z",
     "shell.execute_reply.started": "2022-06-14T23:55:56.502083Z"
    },
    "tags": []
   },
   "outputs": [],
   "source": [
    "BER = Par('BER', 0.0001)\n",
    "R = Var('R', 10, 'Mbit/s') # 1 per microseconds\n",
    "T_s = Par('T_s', 135, 'K')\n",
    "L_a = Par('L_a', db2dec(-0.3))\n",
    "L_l = Par('L_l', db2dec(-1))\n",
    "L_p = Par('L_p', db2dec(-0.1))\n",
    "EN = adda(m, 'EN', Pcomms*L_a*L_s*L_l*L_p*G_r*G_t/(k*T_s*R))"
   ]
  },
  {
   "cell_type": "code",
   "execution_count": 50,
   "id": "28082b75-29b5-4cc3-87c3-5f923b183055",
   "metadata": {
    "execution": {
     "iopub.execute_input": "2022-06-14T23:55:56.645617Z",
     "iopub.status.busy": "2022-06-14T23:55:56.645617Z",
     "iopub.status.idle": "2022-06-14T23:55:56.659405Z",
     "shell.execute_reply": "2022-06-14T23:55:56.658521Z",
     "shell.execute_reply.started": "2022-06-14T23:55:56.645617Z"
    },
    "tags": []
   },
   "outputs": [
    {
     "data": {
      "text/latex": [
       "$\\displaystyle EN=6.5337919971031235$"
      ],
      "text/plain": [
       "EN"
      ]
     },
     "execution_count": 50,
     "metadata": {},
     "output_type": "execute_result"
    }
   ],
   "source": [
    "EN"
   ]
  },
  {
   "cell_type": "markdown",
   "id": "3789f1da-4192-43cc-abe0-4420a721813f",
   "metadata": {},
   "source": [
    "## Hydrodynamics"
   ]
  },
  {
   "cell_type": "code",
   "execution_count": 51,
   "id": "bb5d2e28-0556-4ffe-9b57-6c3eb703833f",
   "metadata": {
    "execution": {
     "iopub.execute_input": "2022-06-14T23:55:57.005526Z",
     "iopub.status.busy": "2022-06-14T23:55:57.005526Z",
     "iopub.status.idle": "2022-06-14T23:55:57.018394Z",
     "shell.execute_reply": "2022-06-14T23:55:57.017845Z",
     "shell.execute_reply.started": "2022-06-14T23:55:57.005526Z"
    },
    "tags": []
   },
   "outputs": [],
   "source": [
    "C33 = adda(m, 'C_{33}', pi*rhow*g/4*Df**2)"
   ]
  },
  {
   "cell_type": "code",
   "execution_count": 52,
   "id": "99422504-e371-4595-a714-58223e86cf7d",
   "metadata": {
    "execution": {
     "iopub.execute_input": "2022-06-14T23:55:57.205287Z",
     "iopub.status.busy": "2022-06-14T23:55:57.205287Z",
     "iopub.status.idle": "2022-06-14T23:55:57.220813Z",
     "shell.execute_reply": "2022-06-14T23:55:57.220813Z",
     "shell.execute_reply.started": "2022-06-14T23:55:57.205287Z"
    },
    "tags": []
   },
   "outputs": [],
   "source": [
    "A33 = adda(m, 'A_{33}', 0.0525*pi*rhow*(Dd**3+Ds**3+Df**3))"
   ]
  },
  {
   "cell_type": "code",
   "execution_count": 53,
   "id": "ef793e10-e101-412c-b3f6-d44d1a3400d4",
   "metadata": {
    "execution": {
     "iopub.execute_input": "2022-06-14T23:55:57.405747Z",
     "iopub.status.busy": "2022-06-14T23:55:57.405747Z",
     "iopub.status.idle": "2022-06-14T23:55:57.422870Z",
     "shell.execute_reply": "2022-06-14T23:55:57.422870Z",
     "shell.execute_reply.started": "2022-06-14T23:55:57.405747Z"
    },
    "tags": []
   },
   "outputs": [],
   "source": [
    "omega0 = adda(m, r'\\omega_0', (C33/(A33+mtot))**1/2, unit='rad/s', forceunit=True)"
   ]
  },
  {
   "cell_type": "code",
   "execution_count": 54,
   "id": "2fd80f16-1dd0-4a32-8b09-d00a7cf54d96",
   "metadata": {
    "execution": {
     "iopub.execute_input": "2022-06-14T23:55:57.592400Z",
     "iopub.status.busy": "2022-06-14T23:55:57.592400Z",
     "iopub.status.idle": "2022-06-14T23:55:57.610704Z",
     "shell.execute_reply": "2022-06-14T23:55:57.610345Z",
     "shell.execute_reply.started": "2022-06-14T23:55:57.592400Z"
    },
    "tags": []
   },
   "outputs": [
    {
     "data": {
      "text/latex": [
       "$\\displaystyle \\omega_0=2.611740815479151\\ \\mathrm{rad}/\\mathrm{s}\\ (A_{solar}=1.0,m_{batt}=88.39915966386553\\ \\mathrm{kg}\\ (v=1.0)=1.0)$"
      ],
      "text/plain": [
       "\\omega_0"
      ]
     },
     "execution_count": 54,
     "metadata": {},
     "output_type": "execute_result"
    }
   ],
   "source": [
    "omega0"
   ]
  },
  {
   "cell_type": "markdown",
   "id": "c8178de9-f957-4ed4-bdb3-2fb0cbe1160b",
   "metadata": {},
   "source": [
    "# Run"
   ]
  },
  {
   "cell_type": "code",
   "execution_count": 55,
   "id": "b614e2e9-7f6b-4ddf-b2a7-7e6781406def",
   "metadata": {
    "execution": {
     "iopub.execute_input": "2022-06-14T23:55:57.910732Z",
     "iopub.status.busy": "2022-06-14T23:55:57.910732Z",
     "iopub.status.idle": "2022-06-14T23:55:57.923061Z",
     "shell.execute_reply": "2022-06-14T23:55:57.922542Z",
     "shell.execute_reply.started": "2022-06-14T23:55:57.910732Z"
    },
    "tags": []
   },
   "outputs": [],
   "source": [
    "edges, tree = model.generate_formulation()"
   ]
  },
  {
   "cell_type": "code",
   "execution_count": 56,
   "id": "fa59b9aa-5f26-49cb-b6fd-738f9422e5a2",
   "metadata": {
    "execution": {
     "iopub.execute_input": "2022-06-14T23:55:58.070188Z",
     "iopub.status.busy": "2022-06-14T23:55:58.070188Z",
     "iopub.status.idle": "2022-06-14T23:55:58.077873Z",
     "shell.execute_reply": "2022-06-14T23:55:58.077195Z",
     "shell.execute_reply.started": "2022-06-14T23:55:58.070188Z"
    },
    "tags": []
   },
   "outputs": [],
   "source": [
    "DG = flat_graph_formulation(*edges)\n",
    "merge_order = sort_scc(DG)\n",
    "nedges, ntree = reorder_merge_solve(edges, tree, merge_order, 1, True)"
   ]
  },
  {
   "cell_type": "code",
   "execution_count": 57,
   "id": "99011d05-eb02-49ab-bb98-53a77fbf0360",
   "metadata": {
    "execution": {
     "iopub.execute_input": "2022-06-14T23:55:58.215530Z",
     "iopub.status.busy": "2022-06-14T23:55:58.215530Z",
     "iopub.status.idle": "2022-06-14T23:55:58.234080Z",
     "shell.execute_reply": "2022-06-14T23:55:58.233426Z",
     "shell.execute_reply.started": "2022-06-14T23:55:58.215530Z"
    },
    "tags": []
   },
   "outputs": [],
   "source": [
    "ordered_tree = ntree\n",
    "ordered_edges = nedges\n",
    "comp_options = model.comp_options\n",
    "var_options = model.var_options\n",
    "solvers_options = model.solvers_options\n",
    "solvers_options[1] = {'solver': 'N', 'maxiter':20}\n",
    "#solvers_options[2] = {'solver': 'N', 'maxiter':20}\n",
    "#solvers_options[3] = {'solver': 'N', 'maxiter':20}\n",
    "nodetyperepr = model.nametyperepr\n",
    "namingfunc = namefromsympy(nodetyperepr)\n",
    "sequence = order_from_tree(ordered_tree[0], ordered_tree[1], ordered_edges[1])\n",
    "solvers_options = default_solver_options(ordered_tree, solvers_options)\n",
    "wf = mdao_workflow(sequence, solvers_options, comp_options, var_options)"
   ]
  },
  {
   "cell_type": "code",
   "execution_count": 58,
   "id": "e3d229b6-3d89-4fb4-b41f-8399f860f99b",
   "metadata": {
    "execution": {
     "iopub.execute_input": "2022-06-14T23:55:58.796898Z",
     "iopub.status.busy": "2022-06-14T23:55:58.796898Z",
     "iopub.status.idle": "2022-06-14T23:55:58.809401Z",
     "shell.execute_reply": "2022-06-14T23:55:58.808394Z",
     "shell.execute_reply.started": "2022-06-14T23:55:58.796898Z"
    },
    "tags": []
   },
   "outputs": [],
   "source": [
    "components = model.components\n",
    "lookup_f = get_f(components, ordered_edges)\n",
    "wfmdao = mdao_workflow_with_args(wf, lookup_f, namingfunc)"
   ]
  },
  {
   "cell_type": "code",
   "execution_count": 59,
   "id": "8fa1a7bf-d96b-4d0a-ace2-a04979c7d1f7",
   "metadata": {
    "execution": {
     "iopub.execute_input": "2022-06-14T23:55:59.116324Z",
     "iopub.status.busy": "2022-06-14T23:55:59.116324Z",
     "iopub.status.idle": "2022-06-14T23:55:59.135454Z",
     "shell.execute_reply": "2022-06-14T23:55:59.134800Z",
     "shell.execute_reply.started": "2022-06-14T23:55:59.116324Z"
    },
    "tags": []
   },
   "outputs": [],
   "source": [
    "prob, mdao_in, groups = build_archi(ordered_edges, ordered_tree, wfmdao, namingfunc, model.idmapping)"
   ]
  },
  {
   "cell_type": "code",
   "execution_count": 60,
   "id": "b7e2b545-c587-451e-b35d-144260e01a9b",
   "metadata": {
    "execution": {
     "iopub.execute_input": "2022-06-14T23:55:59.591392Z",
     "iopub.status.busy": "2022-06-14T23:55:59.590406Z",
     "iopub.status.idle": "2022-06-14T23:56:07.966368Z",
     "shell.execute_reply": "2022-06-14T23:56:07.965398Z",
     "shell.execute_reply.started": "2022-06-14T23:55:59.591392Z"
    },
    "tags": []
   },
   "outputs": [
    {
     "name": "stdout",
     "output_type": "stream",
     "text": [
      "\n",
      "==\n",
      "s1\n",
      "==\n",
      "NL: Newton Converged in 6 iterations\n"
     ]
    }
   ],
   "source": [
    "prob.run_model()"
   ]
  },
  {
   "cell_type": "code",
   "execution_count": 61,
   "id": "a0d69cf9-4540-457d-b8e1-6d1f231ef973",
   "metadata": {
    "execution": {
     "iopub.execute_input": "2022-06-14T23:56:09.112378Z",
     "iopub.status.busy": "2022-06-14T23:56:09.112378Z",
     "iopub.status.idle": "2022-06-14T23:56:09.145695Z",
     "shell.execute_reply": "2022-06-14T23:56:09.144695Z",
     "shell.execute_reply.started": "2022-06-14T23:56:09.112378Z"
    },
    "tags": []
   },
   "outputs": [
    {
     "name": "stdout",
     "output_type": "stream",
     "text": [
      "87 Explicit Output(s) in 'model'\n",
      "\n",
      "varname        val              \n",
      "-------------  -----------------\n",
      "inp\n",
      "  g            [9.81]           \n",
      "  h            [780.]           \n",
      "  thetat       [32.]            \n",
      "  trecharge    [12.]            \n",
      "  ts           [2.]             \n",
      "  etaparab     [0.55]           \n",
      "  Ds           [1.25]           \n",
      "  Sw           [10.]            \n",
      "  mubattery    [200.]           \n",
      "  DOD          [0.7]            \n",
      "  Ideg         [0.9]            \n",
      "  Re           [6378.]          \n",
      "  tcomms       [1.]             \n",
      "  f            [2.2]            \n",
      "  rho          [750.]           \n",
      "  nubattery    [450.]           \n",
      "  mcomms       [50.]            \n",
      "  Lp           [0.97723722]     \n",
      "  N            [1.]             \n",
      "  ddeg         [0.005]          \n",
      "  Pcomms       [0.5]            \n",
      "  etasolar     [10.]            \n",
      "  c            [3.e+08]         \n",
      "  EAUV         [1.9]            \n",
      "  tmission     [24.]            \n",
      "  mbattzero    [5.]             \n",
      "  k            [1.38065e-23]    \n",
      "  theta        [55.]            \n",
      "  tservice     [12.]            \n",
      "  Ll           [0.79432823]     \n",
      "  td           [0.5]            \n",
      "  rhow         [1023.6]         \n",
      "  et           [27.]            \n",
      "  Lsolar       [10.]            \n",
      "  Cd           [1.]             \n",
      "  Dr           [5.3]            \n",
      "  rhoh         [2700.]          \n",
      "  mprop        [50.]            \n",
      "  La           [0.9332543]      \n",
      "  etas         [0.27]           \n",
      "  v            [0.22199317]     \n",
      "  Ts           [135.]           \n",
      "  etabattery   [0.85]           \n",
      "  phis         [800.]           \n",
      "  tmove        [1.]             \n",
      "  tf           [0.5]            \n",
      "  Photel       [50.]            \n",
      "  gamma        [1.]             \n",
      "  R            [10.]            \n",
      "  Dd           [1.]             \n",
      "  etam         [0.75]           \n",
      "s1\n",
      "  f10\n",
      "    I          [19.55601919]    \n",
      "  f0\n",
      "    Vtot       [10.6852471]     \n",
      "  f9\n",
      "    KG         [1.91409004]     \n",
      "  f1\n",
      "    mstruct    [8779.69853395]  \n",
      "  f2\n",
      "    msolar     [24.94969788]    \n",
      "  f35\n",
      "    C33        [157414.39480258]\n",
      "  f36\n",
      "    A33        [15553.27360088] \n",
      "  f14\n",
      "    Precharge  [264.59623515]   \n",
      "  f15\n",
      "    Pmove      [74.65482179]    \n",
      "  f17\n",
      "    Ehotel     [1200.]          \n",
      "  f18\n",
      "    Ecomms     [0.5]            \n",
      "  f19\n",
      "    Eservice   [1900.]          \n",
      "  f27\n",
      "    lambda     [0.13636364]     \n",
      "  f28\n",
      "    Gpt        [14.19700043]    \n",
      "  f29\n",
      "    Lptdb      [-8.54296875]    \n",
      "  f32\n",
      "    S          [3249.31992885]  \n",
      "  f22\n",
      "    Erecharge  [3175.15482179]  \n",
      "  f16\n",
      "    Emove      [74.65482179]    \n",
      "  f20\n",
      "    Pservice   [158.33333333]   \n",
      "  f31\n",
      "    Gr         [8200.05992736]  \n",
      "  f30\n",
      "    Gt         [3.67623418]     \n",
      "  f33\n",
      "    Ls         [1.11530198e-17] \n",
      "  f21\n",
      "    Erequired  [3175.15482179]  \n",
      "  f34\n",
      "    EN         [6.533792]       \n",
      "  f24\n",
      "    C          [5.33639466]     \n",
      "  f25\n",
      "    Vbatt      [0.01185865]     \n",
      "  f26\n",
      "    mbatt      [31.68197329]    \n",
      "  f3\n",
      "    mplatform  [8936.33020512]  \n",
      "  f4\n",
      "    FW         [87665.39931226] \n",
      "  f5\n",
      "    Vd         [8.73029524]     \n",
      "  f37\n",
      "    omega0     [3.21390244]     \n",
      "  f6\n",
      "    FB         [8936.33020512]  \n",
      "  f7\n",
      "    hf         [0.37529298]     \n",
      "  f11\n",
      "    BM         [2.24001808]     \n",
      "  f8\n",
      "    KB         [1.79215081]     \n",
      "  f12\n",
      "    GM         [2.11807885]     \n",
      "\n",
      "\n",
      "2 Implicit Output(s) in 'model'\n",
      "\n",
      "varname            val         \n",
      "-----------------  ------------\n",
      "s1\n",
      "  res_f13_fAsolar\n",
      "    Df             [4.46763453]\n",
      "    Asolar         [2.49496979]\n",
      "\n",
      "\n"
     ]
    }
   ],
   "source": [
    "prob.model.list_outputs();"
   ]
  },
  {
   "cell_type": "code",
   "execution_count": null,
   "id": "b61cc234-fb5b-462e-acb7-1b0d2d704599",
   "metadata": {},
   "outputs": [],
   "source": []
  }
 ],
 "metadata": {
  "kernelspec": {
   "display_name": "Python [conda env:mdo]",
   "language": "python",
   "name": "conda-env-mdo-py"
  },
  "language_info": {
   "codemirror_mode": {
    "name": "ipython",
    "version": 3
   },
   "file_extension": ".py",
   "mimetype": "text/x-python",
   "name": "python",
   "nbconvert_exporter": "python",
   "pygments_lexer": "ipython3",
   "version": "3.9.7"
  }
 },
 "nbformat": 4,
 "nbformat_minor": 5
}
