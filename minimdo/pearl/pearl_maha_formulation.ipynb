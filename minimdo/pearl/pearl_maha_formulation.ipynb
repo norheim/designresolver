{
 "cells": [
  {
   "cell_type": "code",
   "execution_count": 1,
   "id": "933ed0e5-5dd9-44be-8954-5e8f56f2d1a7",
   "metadata": {
    "execution": {
     "iopub.execute_input": "2022-06-11T21:57:43.695064Z",
     "iopub.status.busy": "2022-06-11T21:57:43.695064Z",
     "iopub.status.idle": "2022-06-11T21:57:44.508505Z",
     "shell.execute_reply": "2022-06-11T21:57:44.508122Z",
     "shell.execute_reply.started": "2022-06-11T21:57:43.695064Z"
    },
    "tags": []
   },
   "outputs": [],
   "source": [
    "import jax\n",
    "jax.config.update('jax_platform_name', 'cpu')"
   ]
  },
  {
   "cell_type": "code",
   "execution_count": 2,
   "id": "52fc43ba-7ada-4ba4-934d-e8a705891e91",
   "metadata": {
    "execution": {
     "iopub.execute_input": "2022-06-11T21:57:44.612497Z",
     "iopub.status.busy": "2022-06-11T21:57:44.612497Z",
     "iopub.status.idle": "2022-06-11T21:57:46.538447Z",
     "shell.execute_reply": "2022-06-11T21:57:46.538447Z",
     "shell.execute_reply.started": "2022-06-11T21:57:44.612497Z"
    },
    "tags": []
   },
   "outputs": [],
   "source": [
    "from compute import Var, Par\n",
    "from datastructures.api import Model, adda, addf, addsolver, setsolvefor\n",
    "from datastructures.execution import edges_from_components\n",
    "from datastructures.graphutils import namefromid, dfs_tree, SOLVER, VAR, COMP, nested_sources, sources, edges_to_Ein_Eout, flat_graph_formulation, root_solver\n",
    "from datastructures.nestedgraph import root_sources\n",
    "from datastructures.execution import generate_components_and_residuals\n",
    "from datastructures.workflow import get_f, order_from_tree, default_solver_options, mdao_workflow, implicit_comp_name\n",
    "from datastructures.workflow_mdao import mdao_workflow_with_args\n",
    "from datastructures.operators import sort_scc, reorder_merge_solve\n",
    "from datastructures.assembly import build_archi\n",
    "import openmdao.api as om\n",
    "from datastructures.api import evalexpr"
   ]
  },
  {
   "cell_type": "code",
   "execution_count": 3,
   "id": "c81bd544-027e-4ab8-b9c9-5e8ec0eae14a",
   "metadata": {
    "execution": {
     "iopub.execute_input": "2022-06-11T21:57:46.540468Z",
     "iopub.status.busy": "2022-06-11T21:57:46.540468Z",
     "iopub.status.idle": "2022-06-11T21:57:46.555524Z",
     "shell.execute_reply": "2022-06-11T21:57:46.554342Z",
     "shell.execute_reply.started": "2022-06-11T21:57:46.540468Z"
    },
    "tags": []
   },
   "outputs": [],
   "source": [
    "from sympy import cos"
   ]
  },
  {
   "cell_type": "code",
   "execution_count": 4,
   "id": "132c5619-6613-4860-821b-0a4f97a5d60c",
   "metadata": {
    "execution": {
     "iopub.execute_input": "2022-06-11T21:57:47.133775Z",
     "iopub.status.busy": "2022-06-11T21:57:47.133775Z",
     "iopub.status.idle": "2022-06-11T21:57:47.144141Z",
     "shell.execute_reply": "2022-06-11T21:57:47.143787Z",
     "shell.execute_reply.started": "2022-06-11T21:57:47.133775Z"
    },
    "tags": []
   },
   "outputs": [],
   "source": [
    "model = Model()\n",
    "m = model.root"
   ]
  },
  {
   "cell_type": "code",
   "execution_count": 5,
   "id": "99f9e1b2-9b16-4720-bb45-edfb3c1bef50",
   "metadata": {
    "execution": {
     "iopub.execute_input": "2022-06-11T21:57:47.379626Z",
     "iopub.status.busy": "2022-06-11T21:57:47.379626Z",
     "iopub.status.idle": "2022-06-11T21:57:47.393682Z",
     "shell.execute_reply": "2022-06-11T21:57:47.392760Z",
     "shell.execute_reply.started": "2022-06-11T21:57:47.379626Z"
    },
    "tags": []
   },
   "outputs": [],
   "source": [
    "D_f = Var('D_f', unit='m')"
   ]
  },
  {
   "cell_type": "code",
   "execution_count": 7,
   "id": "11cf4da2-1093-462c-8cf2-31649d9facfb",
   "metadata": {
    "execution": {
     "iopub.execute_input": "2022-06-11T21:57:57.857670Z",
     "iopub.status.busy": "2022-06-11T21:57:57.856670Z",
     "iopub.status.idle": "2022-06-11T21:57:57.874302Z",
     "shell.execute_reply": "2022-06-11T21:57:57.873796Z",
     "shell.execute_reply.started": "2022-06-11T21:57:57.857670Z"
    },
    "tags": []
   },
   "outputs": [],
   "source": [
    "A_s = adda(m, 'A_s', 1.5*(D_f/2)**2, 'm**2')"
   ]
  },
  {
   "cell_type": "code",
   "execution_count": 8,
   "id": "d8d040f3-b95a-417f-83e9-7c6d07d3fdb7",
   "metadata": {
    "execution": {
     "iopub.execute_input": "2022-06-11T21:57:59.769263Z",
     "iopub.status.busy": "2022-06-11T21:57:59.769263Z",
     "iopub.status.idle": "2022-06-11T21:57:59.789109Z",
     "shell.execute_reply": "2022-06-11T21:57:59.788627Z",
     "shell.execute_reply.started": "2022-06-11T21:57:59.769263Z"
    },
    "tags": []
   },
   "outputs": [],
   "source": [
    "eta_s = Par(r'\\eta_s', 0.27)\n",
    "phi_s = Par(r'\\phi_s', 800, 'W/m**2')\n",
    "theta_bar = Par(r'\\theta', 55, 'deg')\n",
    "I_d = Par('I_d', 0.9)\n",
    "D = Par('D', 0.005)\n",
    "L_s = Par('L_s', 10)"
   ]
  },
  {
   "cell_type": "code",
   "execution_count": 10,
   "id": "f0b93470-f200-4845-8dd2-d8cabdbb55ae",
   "metadata": {
    "execution": {
     "iopub.execute_input": "2022-06-11T21:58:27.051636Z",
     "iopub.status.busy": "2022-06-11T21:58:27.051636Z",
     "iopub.status.idle": "2022-06-11T21:58:27.085929Z",
     "shell.execute_reply": "2022-06-11T21:58:27.085502Z",
     "shell.execute_reply.started": "2022-06-11T21:58:27.051636Z"
    },
    "tags": []
   },
   "outputs": [
    {
     "data": {
      "text/latex": [
       "$\\displaystyle 39.76945478640433\\ \\mathrm{W}\\ (D_f=1.0)$"
      ],
      "text/plain": [
       "P_recharge"
      ]
     },
     "execution_count": 10,
     "metadata": {},
     "output_type": "execute_result"
    }
   ],
   "source": [
    "adda(m, 'P_recharge', \n",
    "    eta_s * phi_s * cos(theta_bar) * I_d * (1-D)**L_s * A_s, unit='W', forceunit=True)"
   ]
  },
  {
   "cell_type": "markdown",
   "id": "a5f539a1-3c1c-4571-88da-262aeb42dcbb",
   "metadata": {},
   "source": [
    "# Parameters"
   ]
  },
  {
   "cell_type": "markdown",
   "id": "61a2e1ac-26e0-464d-a7e1-40a00e9c850f",
   "metadata": {},
   "source": [
    "## Mahas equations"
   ]
  },
  {
   "cell_type": "code",
   "execution_count": null,
   "id": "fbb9d83a-43cb-4755-b267-04fcb70a7b42",
   "metadata": {},
   "outputs": [],
   "source": [
    "model = Model()\n",
    "m = model.root\n",
    "D_d = Var('D_d', 5, 'm')\n",
    "D_f = Var('D_f', 5, 'm')\n",
    "D_s = Var('D_s', 1, 'm')\n",
    "t_d = Var('t_d', 0.5, 'm')\n",
    "t_f = Var('t_f', 2, 'm')\n",
    "t_s = Var('t_s', 6, 'm')\n",
    "\n",
    "P_hotel = Par('P_hotel', 50, 'W')\n",
    "eta_s = Par('eta_s', 0.27)\n",
    "phi_s = Par('phi_s', 800, 'W/m**2')\n",
    "theta_bar = Par('theta_bar', 55, 'deg')\n",
    "I_d = Par('I_d', 0.9)\n",
    "D = Par('D', 0.005)\n",
    "L_s = Par('L_s', 10)\n",
    "t_r = Var('t_r', unit='hr')\n",
    "E_AUV = Par('E_AUV', 1.9, 'kW*hr')\n",
    "t_service = Par('t_service', 12, 'hr')\n",
    "t_comms = Par('t_comms', 1, 'hr')\n",
    "gamma = Par('gamma', 2)\n",
    "A_s = adda(m, 'A_s', 1.5*(D_f/2)**2, 'm**2')\n",
    "t_mission = Par('t_mission', 24, 'hr')\n",
    "\n",
    "# AUV recharging system\n",
    "P_recharge = adda(m, 'P_recharge', \n",
    "    eta_s * phi_s * sp.cos(theta_bar) * I_d * (1-D)**L_s * A_s, unit='W')\n",
    "P_drawrecharge = adda(m, 'P_drawrecharge', P_hotel - P_recharge, unit='W')\n",
    "E_recharge_gen = adda(m, 'E_recharge_gen', P_recharge * t_r, unit='W*hr')\n",
    "E_service = adda(m, 'E_service', E_AUV * gamma, unit='W*hr')\n",
    "P_service = adda(m, 'P_service', E_service / t_service, unit='W')\n",
    "P_drawservice = adda(m, 'P_drawservice', P_hotel - P_service, unit='W')\n",
    "\n",
    "# Propulsion\n",
    "rho = Par('rho', 1023.6, 'kg/m**3') # density of seawater [kg/m^3]\n",
    "C_d = Par('C_d', 1) # estimate drag coefficient (a square flat plate at 90 deg to the flow is 1.17)\n",
    "S_w = Par('S_w', 0.5, 'm**2') # will technically need to determine from A_solar and other structural needs... assume something for now\n",
    "v = Var('v', 0.3, 'm/s') # [m/s]\n",
    "eta_m = Par('eta_m', 0.75) # estimated, need to determine from motors?\n",
    "P_move = adda(m, 'P_move', rho*C_d*S_w*v**3/(2*eta_m), unit='W')\n",
    "\n",
    "# Comms beginning\n",
    "P_comms = Var('P_c', unit='W')\n",
    "\n",
    "# Balances\n",
    "E_required = adda(m, 'E_required', E_service + \n",
    "    (P_hotel + P_move)*t_mission + P_comms*t_comms, unit='W*hr')\n",
    "\n",
    "R1 = addf(m, E_recharge_gen-E_required, name='R_1')\n",
    "\n",
    "# Battery\n",
    "mu_batt = Par('mu_batt', 30, 'W*hr/kg')\n",
    "DOD = Par('DOD', 0.4)\n",
    "eta_trans = Par('eta_trans', 0.85)\n",
    "nu_batt = Par('nu_batt', 450, 'kW*hr/(m**3)')\n",
    "N = Par('N', 1)\n",
    "C = adda(m, 'C', E_service/(DOD*N*eta_trans), unit='kW*hr')\n",
    "m_batt_zero = Par('m_batt_zero', 5, 'kg')\n",
    "m_batt = adda(m, 'm_batt', C/mu_batt + m_batt_zero, unit='kg')\n",
    "V_batt = adda(m, 'V_batt', C/nu_batt, unit='m**3')\n",
    "\n",
    "# Comms\n",
    "k = Par('k', 1.38065e-23, 'J/K')\n",
    "c = Par('c', 3e8, 'm/s')\n",
    "f = Par('f', 2.2, 'GHz')\n",
    "lambd = adda(m, '\\\\lambda', c/f, unit='m')\n",
    "eta_parab = Par('eta_parab', 0.55)\n",
    "theta_t = Par('theta_t', 32)\n",
    "error_t = Par('error_t', 27)\n",
    "G_pt_db = adda(m, 'G_pt', 44.3-dec2db(theta_t**2))\n",
    "L_pt_db = adda(m, 'L_pt_db', -12*(error_t/theta_t)**2)\n",
    "G_t = adda(m, 'G_t', db2dec(G_pt_db+L_pt_db))\n",
    "D_r = Par('D_r', 5.3, 'm')\n",
    "G_rp = adda(m, 'G_rp', eta_parab*(np.pi*D_r/lambd)**2)\n",
    "L_pr = Par('L_pr', db2dec(-0.1))\n",
    "G_r = adda(m, 'G_r', G_rp*L_pr)\n",
    "BER = Par('BER', 0.0001)\n",
    "R = Var('R', unit='1/micros')\n",
    "h = Par('h', 500, 'km')\n",
    "Re = Par('Re', 6378, 'km')\n",
    "T_s = Par('T_s', 135, 'K')\n",
    "S = adda(m, 'S', sp.sqrt(h*(h+2*Re)), unit='km')\n",
    "L_a = Par('L_a', db2dec(-0.3))\n",
    "L_sp = adda(m, 'L_sp', (lambd/(4*np.pi*S))**2)\n",
    "L_l = Par('L_l', db2dec(-1))\n",
    "EN = adda(m, 'EN', P_comms*L_a*L_sp*L_l*L_pr*G_r*G_t/(k*T_s*R))\n",
    "EN_req = Par('EN_{req}', 30)\n",
    "\n",
    "R2 = addf(m, EN-EN_req, name='R_2')"
   ]
  }
 ],
 "metadata": {
  "kernelspec": {
   "display_name": "Python [conda env:mdo]",
   "language": "python",
   "name": "conda-env-mdo-py"
  },
  "language_info": {
   "codemirror_mode": {
    "name": "ipython",
    "version": 3
   },
   "file_extension": ".py",
   "mimetype": "text/x-python",
   "name": "python",
   "nbconvert_exporter": "python",
   "pygments_lexer": "ipython3",
   "version": "3.9.7"
  }
 },
 "nbformat": 4,
 "nbformat_minor": 5
}
