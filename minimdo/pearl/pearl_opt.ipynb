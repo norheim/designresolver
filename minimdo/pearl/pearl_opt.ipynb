{
 "cells": [
  {
   "cell_type": "code",
   "execution_count": 11,
   "id": "8091570d-d595-4bdc-bedc-8984c18cdff3",
   "metadata": {
    "execution": {
     "iopub.execute_input": "2022-07-23T18:08:21.643424Z",
     "iopub.status.busy": "2022-07-23T18:08:21.642424Z",
     "iopub.status.idle": "2022-07-23T18:08:21.660643Z",
     "shell.execute_reply": "2022-07-23T18:08:21.660281Z",
     "shell.execute_reply.started": "2022-07-23T18:08:21.643424Z"
    },
    "tags": []
   },
   "outputs": [],
   "source": [
    "from pearl.pearl_initial_formulation import *\n",
    "from datastructures.graphutils import flatten_tree\n",
    "from datastructures.api import edges_no_param, addobj, addineq, OPT, SolverRef, merge\n",
    "from copy import deepcopy"
   ]
  },
  {
   "cell_type": "code",
   "execution_count": 2,
   "id": "45c49d34-17ee-4bab-bc0b-10f27503fcd0",
   "metadata": {
    "execution": {
     "iopub.execute_input": "2022-07-23T01:46:05.251841Z",
     "iopub.status.busy": "2022-07-23T01:46:05.251841Z",
     "iopub.status.idle": "2022-07-23T01:46:05.268404Z",
     "shell.execute_reply": "2022-07-23T01:46:05.267346Z",
     "shell.execute_reply.started": "2022-07-23T01:46:05.251841Z"
    },
    "tags": []
   },
   "outputs": [],
   "source": [
    "#nodetyperepr = {VAR: '{}', COMP: 'f_{{{}}}', SOLVER: '{}'}\n",
    "edges, tree = model.generate_formulation()"
   ]
  },
  {
   "cell_type": "code",
   "execution_count": null,
   "id": "7fe80d57-699b-4abb-941e-54695f31f4b6",
   "metadata": {},
   "outputs": [],
   "source": [
    "edges_for_solving = copy_dicts(edges_nopar)\n",
    "eqnidxs = list(edges_for_solving[1].keys())\n",
    "varidxs = all_variables(*edges_for_solving)\n",
    "graph_edges_minassign = all_edges(*edges_for_solving)\n",
    "edges_left_right = list(dir_graph(graph_edges_minassign, eqnidxs, {}))"
   ]
  },
  {
   "cell_type": "code",
   "execution_count": null,
   "id": "4d3ae2cf-5396-4ce5-98aa-25985f335b74",
   "metadata": {},
   "outputs": [],
   "source": [
    "not_input = [r'\\omega_0', 'E_{move}', 'A_{33}', 'B_M', 'K_G', 'I', 'E_{recharge}', 'm_{struct}']\n",
    "not_output = ['D_f', 'D_d', 'D_s', 't_s', 't_f', 't_d', 'P_{comms}', 'R'] #R\n",
    "xsol,_ = min_arc_set_assign(min_assign_edges, varidxs, eqnidxs, not_input, not_output)"
   ]
  },
  {
   "cell_type": "code",
   "execution_count": null,
   "id": "5db5505b-ee54-4366-9577-c0c63d461021",
   "metadata": {},
   "outputs": [],
   "source": [
    "selected = tuple((right, left) for left, right in edges_left_right if (left,right) in min_assign_edges and xsol[left, right] > 0.5)"
   ]
  },
  {
   "cell_type": "code",
   "execution_count": 3,
   "id": "8b90ec0a-4bb0-45b0-8e4b-dc58e34776a6",
   "metadata": {
    "execution": {
     "iopub.execute_input": "2022-07-23T01:46:05.882347Z",
     "iopub.status.busy": "2022-07-23T01:46:05.882347Z",
     "iopub.status.idle": "2022-07-23T01:46:05.948853Z",
     "shell.execute_reply": "2022-07-23T01:46:05.948730Z",
     "shell.execute_reply.started": "2022-07-23T01:46:05.882347Z"
    },
    "tags": []
   },
   "outputs": [],
   "source": [
    "opt = addsolver(m, name=\"opt\", idbyname=True)\n",
    "addobj(opt, mtot) # for optimization make sure to add OPT in model\n",
    "addineq(opt, -td)\n",
    "addineq(opt, hf-0.9*tf)\n",
    "addineq(opt, Ds-0.9*Df)\n",
    "addineq(opt, Ds-0.9*Dd)\n",
    "addineq(opt, Ds-0.9*Dd)\n",
    "addineq(opt, 0.1-P_move)\n",
    "setsolvefor(opt, [tf, ts, Ds, Dd, hf], {tf:[0,10], ts:[0,10], Ds:[0,10], Dd:[0,10], hf:[0,10]})"
   ]
  },
  {
   "cell_type": "code",
   "execution_count": 5,
   "id": "e43a0009-2863-4323-b695-eeec2eb4ace6",
   "metadata": {
    "execution": {
     "iopub.execute_input": "2022-07-23T01:46:11.668757Z",
     "iopub.status.busy": "2022-07-23T01:46:11.668757Z",
     "iopub.status.idle": "2022-07-23T01:46:11.675914Z",
     "shell.execute_reply": "2022-07-23T01:46:11.675914Z",
     "shell.execute_reply.started": "2022-07-23T01:46:11.668757Z"
    },
    "tags": []
   },
   "outputs": [],
   "source": [
    "edges_opt, tree_opt, comps_opt = merge(model, edges, tree)"
   ]
  },
  {
   "cell_type": "code",
   "execution_count": 6,
   "id": "461034cb-74fd-429b-a9b2-4dbde3e1fb58",
   "metadata": {
    "execution": {
     "iopub.execute_input": "2022-07-23T01:46:12.036193Z",
     "iopub.status.busy": "2022-07-23T01:46:12.036193Z",
     "iopub.status.idle": "2022-07-23T01:46:12.044178Z",
     "shell.execute_reply": "2022-07-23T01:46:12.044178Z",
     "shell.execute_reply.started": "2022-07-23T01:46:12.036193Z"
    },
    "tags": []
   },
   "outputs": [],
   "source": [
    "edges_opt_nopar = edges_no_param(model, edges_opt) # filter out variables that are parameters"
   ]
  },
  {
   "cell_type": "code",
   "execution_count": 9,
   "id": "3d0bf09e-02aa-4090-8179-e0a5eee81b76",
   "metadata": {
    "execution": {
     "iopub.execute_input": "2022-07-23T01:46:34.379671Z",
     "iopub.status.busy": "2022-07-23T01:46:34.379671Z",
     "iopub.status.idle": "2022-07-23T01:46:34.383497Z",
     "shell.execute_reply": "2022-07-23T01:46:34.383497Z",
     "shell.execute_reply.started": "2022-07-23T01:46:34.379671Z"
    },
    "tags": []
   },
   "outputs": [],
   "source": [
    "tree_opt = flatten_tree(tree, 'opt')"
   ]
  },
  {
   "cell_type": "code",
   "execution_count": null,
   "id": "fba79b93-ef00-4d4c-af19-d038ec42a0e5",
   "metadata": {},
   "outputs": [],
   "source": [
    "prob, mdao_in, groups, namingfunc = model_to_problem(model, formulation=(edges, tree))"
   ]
  }
 ],
 "metadata": {
  "kernelspec": {
   "display_name": "Python [conda env:minimdo]",
   "language": "python",
   "name": "conda-env-minimdo-py"
  },
  "language_info": {
   "codemirror_mode": {
    "name": "ipython",
    "version": 3
   },
   "file_extension": ".py",
   "mimetype": "text/x-python",
   "name": "python",
   "nbconvert_exporter": "python",
   "pygments_lexer": "ipython3",
   "version": "3.9.12"
  }
 },
 "nbformat": 4,
 "nbformat_minor": 5
}
