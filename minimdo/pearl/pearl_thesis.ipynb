{
 "cells": [
  {
   "cell_type": "code",
   "execution_count": 67,
   "id": "ec517324-3c19-41d4-b153-ccd607875310",
   "metadata": {
    "execution": {
     "iopub.execute_input": "2022-07-03T16:17:24.991704Z",
     "iopub.status.busy": "2022-07-03T16:17:24.991704Z",
     "iopub.status.idle": "2022-07-03T16:17:25.004390Z",
     "shell.execute_reply": "2022-07-03T16:17:25.004390Z",
     "shell.execute_reply.started": "2022-07-03T16:17:24.991704Z"
    },
    "tags": []
   },
   "outputs": [],
   "source": [
    "from compute import Var, Par\n",
    "from datastructures.api import Model, adda, addf, addsolver, setsolvefor, evalexpr\n",
    "from datastructures.execution import edges_from_components\n",
    "from datastructures.graphutils import namefromsympy, dfs_tree, SOLVER, VAR, COMP, nested_sources, sources, edges_to_Ein_Eout, flat_graph_formulation, root_solver\n",
    "from datastructures.nestedgraph import root_sources\n",
    "from datastructures.workflow import get_f, order_from_tree, default_solver_options, mdao_workflow\n",
    "from datastructures.workflow_mdao import mdao_workflow_with_args\n",
    "from datastructures.operators import sort_scc, reorder_merge_solve\n",
    "from datastructures.assembly import build_archi\n",
    "from collections import OrderedDict\n",
    "import matplotlib.pyplot as plt\n",
    "from sympy import cos, pi, log, sqrt\n",
    "import openmdao.api as om"
   ]
  },
  {
   "cell_type": "markdown",
   "id": "20f7cc23-9397-49fb-9abc-3fd4eb622697",
   "metadata": {},
   "source": [
    "# Model"
   ]
  },
  {
   "cell_type": "markdown",
   "id": "dfd14f30-747e-4175-b71c-c764aff567e8",
   "metadata": {},
   "source": [
    "## Variables"
   ]
  },
  {
   "cell_type": "code",
   "execution_count": 2,
   "id": "f412b5ca-cc22-4280-879f-b84bab672932",
   "metadata": {
    "execution": {
     "iopub.execute_input": "2022-07-03T15:41:09.993358Z",
     "iopub.status.busy": "2022-07-03T15:41:09.992201Z",
     "iopub.status.idle": "2022-07-03T15:41:10.009383Z",
     "shell.execute_reply": "2022-07-03T15:41:10.008465Z",
     "shell.execute_reply.started": "2022-07-03T15:41:09.993358Z"
    },
    "tags": []
   },
   "outputs": [],
   "source": [
    "Df = Var('D_f', 2, unit='m')\n",
    "Ds = Var('D_s', 1, unit='m')\n",
    "Dd = Var('D_d', 1.25, unit='m')\n",
    "tf = Var('t_f', 0.5, unit='m')\n",
    "ts = Var('t_s', 2, unit='m')\n",
    "td = Var('t_d', 0.5, unit='m')"
   ]
  },
  {
   "cell_type": "markdown",
   "id": "f5336e3c-c623-47c0-92ee-dde849927cfd",
   "metadata": {},
   "source": [
    "## Parameters"
   ]
  },
  {
   "cell_type": "code",
   "execution_count": 3,
   "id": "605826f0-4097-4e5b-9f1b-6dc957d15528",
   "metadata": {
    "execution": {
     "iopub.execute_input": "2022-07-03T15:41:10.445885Z",
     "iopub.status.busy": "2022-07-03T15:41:10.444864Z",
     "iopub.status.idle": "2022-07-03T15:41:10.461136Z",
     "shell.execute_reply": "2022-07-03T15:41:10.460213Z",
     "shell.execute_reply.started": "2022-07-03T15:41:10.445885Z"
    },
    "tags": []
   },
   "outputs": [],
   "source": [
    "rhow = Par(r'\\rho_w', 1023.6, 'kg/m^3') # density of seawater [kg/m^3]\n",
    "rho = Var(r'\\rho', 700, 'kg/m^3')       # arbitrarily set\n",
    "rhoh = Var(r'\\rho_h', 2700, 'kg/m^3')   # arbitrarily set"
   ]
  },
  {
   "cell_type": "code",
   "execution_count": 79,
   "id": "c3159274-fa62-4330-a60c-b8d2a5903ba3",
   "metadata": {
    "execution": {
     "iopub.execute_input": "2022-07-03T16:18:28.109301Z",
     "iopub.status.busy": "2022-07-03T16:18:28.108301Z",
     "iopub.status.idle": "2022-07-03T16:18:28.122900Z",
     "shell.execute_reply": "2022-07-03T16:18:28.120300Z",
     "shell.execute_reply.started": "2022-07-03T16:18:28.109301Z"
    },
    "tags": []
   },
   "outputs": [],
   "source": [
    "model = Model()\n",
    "m = model.root\n",
    "idbyname = True"
   ]
  },
  {
   "cell_type": "markdown",
   "id": "804a29a7-7d14-4ce9-a5d3-bb0c26756d77",
   "metadata": {},
   "source": [
    "## Geometry"
   ]
  },
  {
   "cell_type": "code",
   "execution_count": 80,
   "id": "ecd22c35-2e10-4fd7-a91f-4a6a5a174a64",
   "metadata": {
    "execution": {
     "iopub.execute_input": "2022-07-03T16:18:28.479779Z",
     "iopub.status.busy": "2022-07-03T16:18:28.478778Z",
     "iopub.status.idle": "2022-07-03T16:18:28.495792Z",
     "shell.execute_reply": "2022-07-03T16:18:28.495792Z",
     "shell.execute_reply.started": "2022-07-03T16:18:28.479779Z"
    },
    "tags": []
   },
   "outputs": [],
   "source": [
    "geometry = addsolver(m, name='geometry', idbyname=idbyname)"
   ]
  },
  {
   "cell_type": "code",
   "execution_count": 81,
   "id": "ad547067-1c5a-4701-93a1-9fe0199f04cc",
   "metadata": {
    "execution": {
     "iopub.execute_input": "2022-07-03T16:18:28.632695Z",
     "iopub.status.busy": "2022-07-03T16:18:28.632695Z",
     "iopub.status.idle": "2022-07-03T16:18:28.652709Z",
     "shell.execute_reply": "2022-07-03T16:18:28.652709Z",
     "shell.execute_reply.started": "2022-07-03T16:18:28.632695Z"
    },
    "tags": []
   },
   "outputs": [
    {
     "data": {
      "text/latex": [
       "$D_f=1.357\\ \\mathrm{m}\\ (A_{solar}=1 ,d=0.754 )$"
      ],
      "text/plain": [
       "D_f"
      ]
     },
     "execution_count": 81,
     "metadata": {},
     "output_type": "execute_result"
    }
   ],
   "source": [
    "A_s = Var('A_{solar}', unit='m^2')\n",
    "alpha = Par(r'\\alpha', 0.5)\n",
    "d = adda(geometry, 'd', alpha*Df)\n",
    "adda(geometry, Df, (4*abs(A_s)/pi+d**2)**0.5)"
   ]
  },
  {
   "cell_type": "markdown",
   "id": "6e88adb8-d757-4122-8129-803113c6a9be",
   "metadata": {},
   "source": [
    "## Hydrodynamics"
   ]
  },
  {
   "cell_type": "code",
   "execution_count": 82,
   "id": "dedf8daf-6d79-4626-8eb3-1c5bcde62d92",
   "metadata": {
    "execution": {
     "iopub.execute_input": "2022-07-03T16:18:28.934876Z",
     "iopub.status.busy": "2022-07-03T16:18:28.933958Z",
     "iopub.status.idle": "2022-07-03T16:18:28.950925Z",
     "shell.execute_reply": "2022-07-03T16:18:28.949928Z",
     "shell.execute_reply.started": "2022-07-03T16:18:28.933958Z"
    },
    "tags": []
   },
   "outputs": [],
   "source": [
    "hydro = addsolver(m, name='hydro', idbyname=idbyname)"
   ]
  },
  {
   "cell_type": "code",
   "execution_count": 83,
   "id": "5b6e3106-37f1-423d-aa09-02dfd7272d9b",
   "metadata": {
    "execution": {
     "iopub.execute_input": "2022-07-03T16:18:29.084528Z",
     "iopub.status.busy": "2022-07-03T16:18:29.084528Z",
     "iopub.status.idle": "2022-07-03T16:18:29.089548Z",
     "shell.execute_reply": "2022-07-03T16:18:29.089548Z",
     "shell.execute_reply.started": "2022-07-03T16:18:29.084528Z"
    },
    "tags": []
   },
   "outputs": [],
   "source": [
    "hf = Var('h_f', 0.5, 'm')\n",
    "g = Par('g', 9.81, 'm/s^2')"
   ]
  },
  {
   "cell_type": "code",
   "execution_count": 84,
   "id": "7550ccad-0418-485f-85ce-cde64796c4ae",
   "metadata": {
    "execution": {
     "iopub.execute_input": "2022-07-03T16:18:29.419149Z",
     "iopub.status.busy": "2022-07-03T16:18:29.419149Z",
     "iopub.status.idle": "2022-07-03T16:18:29.435509Z",
     "shell.execute_reply": "2022-07-03T16:18:29.435203Z",
     "shell.execute_reply.started": "2022-07-03T16:18:29.419149Z"
    },
    "tags": []
   },
   "outputs": [],
   "source": [
    "Vd = adda(hydro, 'Vd', pi/4*(Df**2*hf+Ds**2*ts+Dd**2*td))"
   ]
  },
  {
   "cell_type": "code",
   "execution_count": 85,
   "id": "7befd2d9-b386-497b-a253-2a410384644a",
   "metadata": {
    "execution": {
     "iopub.execute_input": "2022-07-03T16:18:29.546294Z",
     "iopub.status.busy": "2022-07-03T16:18:29.546294Z",
     "iopub.status.idle": "2022-07-03T16:18:29.561509Z",
     "shell.execute_reply": "2022-07-03T16:18:29.561380Z",
     "shell.execute_reply.started": "2022-07-03T16:18:29.546294Z"
    },
    "tags": []
   },
   "outputs": [],
   "source": [
    "FB = adda(hydro, 'F_B', rhow*Vd*g, unit='N')\n",
    "FW = adda(hydro, 'F_W', FB)"
   ]
  },
  {
   "cell_type": "code",
   "execution_count": 86,
   "id": "48c92a60-197f-4d13-8bce-846b67efe06e",
   "metadata": {
    "execution": {
     "iopub.execute_input": "2022-07-03T16:18:29.817432Z",
     "iopub.status.busy": "2022-07-03T16:18:29.817432Z",
     "iopub.status.idle": "2022-07-03T16:18:29.827869Z",
     "shell.execute_reply": "2022-07-03T16:18:29.826958Z",
     "shell.execute_reply.started": "2022-07-03T16:18:29.817432Z"
    },
    "tags": []
   },
   "outputs": [],
   "source": [
    "#hf = adda(hydro, 'h_f', (4*Vd/pi-Ds**2*ts-Dd**2*td)/Df**2)"
   ]
  },
  {
   "cell_type": "code",
   "execution_count": 87,
   "id": "67b033f0-a0ce-4fc3-8d62-45f8fd42ff5e",
   "metadata": {
    "execution": {
     "iopub.execute_input": "2022-07-03T16:18:30.206957Z",
     "iopub.status.busy": "2022-07-03T16:18:30.206957Z",
     "iopub.status.idle": "2022-07-03T16:18:30.216918Z",
     "shell.execute_reply": "2022-07-03T16:18:30.215999Z",
     "shell.execute_reply.started": "2022-07-03T16:18:30.206957Z"
    },
    "tags": []
   },
   "outputs": [],
   "source": [
    "xd = td/2\n",
    "xs = td+ts/2\n",
    "xf1 = td+ts+hf/2\n",
    "xf2 = td+ts+tf/2\n",
    "totA1 = hf*Df+ts*Ds+td*Dd\n",
    "totA2 = tf*Df+ts*Ds+td*Dd"
   ]
  },
  {
   "cell_type": "code",
   "execution_count": 88,
   "id": "7610c421-7980-44c8-976f-332bb42331da",
   "metadata": {
    "execution": {
     "iopub.execute_input": "2022-07-03T16:18:30.411671Z",
     "iopub.status.busy": "2022-07-03T16:18:30.411671Z",
     "iopub.status.idle": "2022-07-03T16:18:30.450157Z",
     "shell.execute_reply": "2022-07-03T16:18:30.449656Z",
     "shell.execute_reply.started": "2022-07-03T16:18:30.411671Z"
    },
    "tags": []
   },
   "outputs": [],
   "source": [
    "KB = adda(hydro, 'K_B', (hf*Df*xf1+ts*Ds*xs+td*Dd*xd)/totA1) # z_B\n",
    "KG = adda(hydro, 'K_G', (tf*Df*xf2+ts*Ds*xs+td*Dd*xd)/totA2) \n",
    "I = adda(m, 'I', pi/64*Df**4)\n",
    "BM = adda(m, 'B_M', I/Vd)\n",
    "#should be 3-5% according to http://web.mit.edu/13.012/www/handouts/Reading3.pdf\n",
    "GM = adda(hydro, 'G_M', KB+BM-KG) "
   ]
  },
  {
   "cell_type": "code",
   "execution_count": 89,
   "id": "48b77185-e959-40b1-9c22-2095e9fa7bea",
   "metadata": {
    "execution": {
     "iopub.execute_input": "2022-07-03T16:18:30.607922Z",
     "iopub.status.busy": "2022-07-03T16:18:30.606923Z",
     "iopub.status.idle": "2022-07-03T16:18:30.621923Z",
     "shell.execute_reply": "2022-07-03T16:18:30.620919Z",
     "shell.execute_reply.started": "2022-07-03T16:18:30.607922Z"
    },
    "tags": []
   },
   "outputs": [],
   "source": [
    "mtot = Var('m_{platform}', unit='kg')"
   ]
  },
  {
   "cell_type": "code",
   "execution_count": 90,
   "id": "13c0d4bc-83cb-4f87-b014-ad66cf2a8579",
   "metadata": {
    "execution": {
     "iopub.execute_input": "2022-07-03T16:18:30.995727Z",
     "iopub.status.busy": "2022-07-03T16:18:30.995727Z",
     "iopub.status.idle": "2022-07-03T16:18:31.026093Z",
     "shell.execute_reply": "2022-07-03T16:18:31.026093Z",
     "shell.execute_reply.started": "2022-07-03T16:18:30.995727Z"
    },
    "tags": []
   },
   "outputs": [],
   "source": [
    "C33 = adda(hydro, 'C_{33}', pi*rhow*g/4*Df**2)\n",
    "A33 = adda(hydro, 'A_{33}', 0.0525*pi*rhow*(Dd**3+Ds**3+Df**3))\n",
    "omega0 = adda(hydro, r'\\omega_0', (C33/(A33+mtot))**1/2, unit='rad/s', forceunit=True)"
   ]
  },
  {
   "cell_type": "markdown",
   "id": "b5fbc07a-94ad-4663-a021-d33ce23f2f55",
   "metadata": {
    "tags": []
   },
   "source": [
    "## Mass"
   ]
  },
  {
   "cell_type": "code",
   "execution_count": 91,
   "id": "285e954d-c224-4784-ac2d-f94d623c1615",
   "metadata": {
    "execution": {
     "iopub.execute_input": "2022-07-03T16:18:31.411924Z",
     "iopub.status.busy": "2022-07-03T16:18:31.410925Z",
     "iopub.status.idle": "2022-07-03T16:18:31.419438Z",
     "shell.execute_reply": "2022-07-03T16:18:31.418577Z",
     "shell.execute_reply.started": "2022-07-03T16:18:31.411924Z"
    },
    "tags": []
   },
   "outputs": [],
   "source": [
    "mass = addsolver(m, name='mass', idbyname=idbyname)"
   ]
  },
  {
   "cell_type": "code",
   "execution_count": 92,
   "id": "fa6b1c4c-1c24-4936-9a99-b901c0482e78",
   "metadata": {
    "execution": {
     "iopub.execute_input": "2022-07-03T16:18:31.620028Z",
     "iopub.status.busy": "2022-07-03T16:18:31.619031Z",
     "iopub.status.idle": "2022-07-03T16:18:31.652100Z",
     "shell.execute_reply": "2022-07-03T16:18:31.652100Z",
     "shell.execute_reply.started": "2022-07-03T16:18:31.620028Z"
    },
    "tags": []
   },
   "outputs": [
    {
     "data": {
      "text/latex": [
       "$t_d=0.314\\ \\mathrm{m}\\ (D_f=1.357 ,m_{struct}=3085.182 )$"
      ],
      "text/plain": [
       "t_d"
      ]
     },
     "execution_count": 92,
     "metadata": {},
     "output_type": "execute_result"
    }
   ],
   "source": [
    "adda(mass, mtot, FW/g, 'kg')\n",
    "mbatt = Var('m_{batt}', unit='kg')\n",
    "mprop = Par('m_{prop}', 50, 'kg') # mass of propulsion\n",
    "mcomms = Par('m_{comms}', 50, 'kg') # mass of comms system\n",
    "eta_solar = Par(r'\\eta_{solar}', 10, 'kg/m^2')\n",
    "msolar = adda(mass, 'm_{solar}', eta_solar*A_s)\n",
    "mstruct = adda(mass, 'm_{struct}', mtot-mbatt+msolar+mcomms+mprop) \n",
    "adda(mass, td, 4/pi*(mstruct-Df**2*tf*rho-Ds**2*ts*rho)/(Dd**2*rhoh))"
   ]
  },
  {
   "cell_type": "markdown",
   "id": "204d9eae-dfb3-43ac-9dee-a0f2e30d2ad9",
   "metadata": {},
   "source": [
    "## Propulsion"
   ]
  },
  {
   "cell_type": "code",
   "execution_count": 93,
   "id": "33fe13df-e518-4573-b5b8-e7408a5d856f",
   "metadata": {
    "execution": {
     "iopub.execute_input": "2022-07-03T16:18:32.165424Z",
     "iopub.status.busy": "2022-07-03T16:18:32.165424Z",
     "iopub.status.idle": "2022-07-03T16:18:32.184402Z",
     "shell.execute_reply": "2022-07-03T16:18:32.184154Z",
     "shell.execute_reply.started": "2022-07-03T16:18:32.165424Z"
    },
    "tags": []
   },
   "outputs": [],
   "source": [
    "prop = addsolver(m, name='prop', idbyname=idbyname)"
   ]
  },
  {
   "cell_type": "code",
   "execution_count": 94,
   "id": "d9078266-b4c3-4de6-8404-99c3b0bdadf9",
   "metadata": {
    "execution": {
     "iopub.execute_input": "2022-07-03T16:18:32.663639Z",
     "iopub.status.busy": "2022-07-03T16:18:32.663639Z",
     "iopub.status.idle": "2022-07-03T16:18:32.698390Z",
     "shell.execute_reply": "2022-07-03T16:18:32.698390Z",
     "shell.execute_reply.started": "2022-07-03T16:18:32.663639Z"
    },
    "tags": []
   },
   "outputs": [],
   "source": [
    "S_wd = pi*((Dd/2)**2-(Ds/2)**2+(Dd/2)**2+2*(Dd/2)*td)\n",
    "S_ws = 2*pi*(Ds/2)*ts\n",
    "S_wf = pi*((Df/2)**2-(Ds/2)**2+2*(Df/2)*hf)\n",
    "S_w = adda(prop, 'S_w', S_wd+S_ws+S_wf, 'm**2') # wetted surface\n",
    "C_d = Par('C_d', 1) # estimate drag coefficient (a square flat plate at 90 deg to the flow is 1.17)\n",
    "v = Var('v', 1, unit='m/s') # [m/s]\n",
    "eta_m = Par(r'\\eta_m', 0.75) # estimated, need to determine from motors?\n",
    "# D = rhow*C_d*S_w*v**2*0.5\n",
    "P_move = adda(prop, 'P_{move}', rhow*C_d*S_w*v**3/(2*eta_m), unit='W')"
   ]
  },
  {
   "cell_type": "markdown",
   "id": "6ceb5270-22d6-465b-a5a1-429d2b2d6869",
   "metadata": {},
   "source": [
    "## Communications"
   ]
  },
  {
   "cell_type": "code",
   "execution_count": 95,
   "id": "28cecee4-415a-4cd3-8967-3aac83cd9fcd",
   "metadata": {
    "execution": {
     "iopub.execute_input": "2022-07-03T16:18:33.296225Z",
     "iopub.status.busy": "2022-07-03T16:18:33.295196Z",
     "iopub.status.idle": "2022-07-03T16:18:33.304077Z",
     "shell.execute_reply": "2022-07-03T16:18:33.303572Z",
     "shell.execute_reply.started": "2022-07-03T16:18:33.295196Z"
    },
    "tags": []
   },
   "outputs": [],
   "source": [
    "comms = addsolver(m, name='comms', idbyname=idbyname)"
   ]
  },
  {
   "cell_type": "code",
   "execution_count": 96,
   "id": "070b95ad-bcf6-4960-a956-b4f5964b3cbe",
   "metadata": {
    "execution": {
     "iopub.execute_input": "2022-07-03T16:18:33.557767Z",
     "iopub.status.busy": "2022-07-03T16:18:33.556684Z",
     "iopub.status.idle": "2022-07-03T16:18:33.570199Z",
     "shell.execute_reply": "2022-07-03T16:18:33.569334Z",
     "shell.execute_reply.started": "2022-07-03T16:18:33.556684Z"
    },
    "tags": []
   },
   "outputs": [],
   "source": [
    "db2dec = lambda x: 10**(x/10)\n",
    "dec2db = lambda x: 10*log(abs(x), 10)"
   ]
  },
  {
   "cell_type": "code",
   "execution_count": 97,
   "id": "f9e1b63e-ffcf-4535-98c2-bb3627c528c6",
   "metadata": {
    "execution": {
     "iopub.execute_input": "2022-07-03T16:18:33.896258Z",
     "iopub.status.busy": "2022-07-03T16:18:33.896258Z",
     "iopub.status.idle": "2022-07-03T16:18:33.900910Z",
     "shell.execute_reply": "2022-07-03T16:18:33.900255Z",
     "shell.execute_reply.started": "2022-07-03T16:18:33.896258Z"
    },
    "tags": []
   },
   "outputs": [],
   "source": [
    "Pcomms = Var('P_{comms}', 0.5, 'W')"
   ]
  },
  {
   "cell_type": "code",
   "execution_count": 98,
   "id": "7de1deb0-003f-4331-bb92-484cf505de0f",
   "metadata": {
    "execution": {
     "iopub.execute_input": "2022-07-03T16:18:35.758554Z",
     "iopub.status.busy": "2022-07-03T16:18:35.758554Z",
     "iopub.status.idle": "2022-07-03T16:18:35.782123Z",
     "shell.execute_reply": "2022-07-03T16:18:35.781125Z",
     "shell.execute_reply.started": "2022-07-03T16:18:35.758554Z"
    },
    "tags": []
   },
   "outputs": [],
   "source": [
    "k = Par('k', 1.38065e-23, 'J/K')\n",
    "c = Par('c', 3e8, 'm/s')\n",
    "f = Par('f', 2.2, 'GHz')"
   ]
  },
  {
   "cell_type": "code",
   "execution_count": 99,
   "id": "2fc6053f-c973-47d9-9b20-8b0a0f236557",
   "metadata": {
    "execution": {
     "iopub.execute_input": "2022-07-03T16:18:36.082798Z",
     "iopub.status.busy": "2022-07-03T16:18:36.082798Z",
     "iopub.status.idle": "2022-07-03T16:18:36.090798Z",
     "shell.execute_reply": "2022-07-03T16:18:36.090798Z",
     "shell.execute_reply.started": "2022-07-03T16:18:36.082798Z"
    },
    "tags": []
   },
   "outputs": [],
   "source": [
    "Lambda = adda(comms, r'\\lambda', c/f, unit='m')"
   ]
  },
  {
   "cell_type": "code",
   "execution_count": 100,
   "id": "02024802-d82d-4734-827c-db864ed3a126",
   "metadata": {
    "execution": {
     "iopub.execute_input": "2022-07-03T16:18:36.341645Z",
     "iopub.status.busy": "2022-07-03T16:18:36.340717Z",
     "iopub.status.idle": "2022-07-03T16:18:36.357472Z",
     "shell.execute_reply": "2022-07-03T16:18:36.356579Z",
     "shell.execute_reply.started": "2022-07-03T16:18:36.341645Z"
    },
    "tags": []
   },
   "outputs": [],
   "source": [
    "eta_parab = Par(r'\\eta_{parab}', 0.55)\n",
    "theta_t = Par(r'\\theta_t', 32)\n",
    "error_t = Par('e_t', 27)"
   ]
  },
  {
   "cell_type": "code",
   "execution_count": 101,
   "id": "c3cfad90-5d94-4352-b1e0-a2257fe534fe",
   "metadata": {
    "execution": {
     "iopub.execute_input": "2022-07-03T16:18:36.562378Z",
     "iopub.status.busy": "2022-07-03T16:18:36.562378Z",
     "iopub.status.idle": "2022-07-03T16:18:36.605809Z",
     "shell.execute_reply": "2022-07-03T16:18:36.605809Z",
     "shell.execute_reply.started": "2022-07-03T16:18:36.562378Z"
    },
    "tags": []
   },
   "outputs": [],
   "source": [
    "G_pt_db = adda(comms, 'G_{pt}', 44.3-dec2db(theta_t**2), forceunit=True)\n",
    "L_pt_db = adda(comms, 'L_{pt_db}', -12*(error_t/theta_t)**2)\n",
    "G_t = adda(comms, 'G_t', db2dec(G_pt_db+L_pt_db))"
   ]
  },
  {
   "cell_type": "code",
   "execution_count": 102,
   "id": "f6923cc1-1427-4c03-8f11-03d7133dd227",
   "metadata": {
    "execution": {
     "iopub.execute_input": "2022-07-03T16:18:37.023550Z",
     "iopub.status.busy": "2022-07-03T16:18:37.023550Z",
     "iopub.status.idle": "2022-07-03T16:18:37.041917Z",
     "shell.execute_reply": "2022-07-03T16:18:37.041638Z",
     "shell.execute_reply.started": "2022-07-03T16:18:37.023550Z"
    },
    "tags": []
   },
   "outputs": [],
   "source": [
    "D_r = Par('D_r', 5.3, 'm')\n",
    "G_r = adda(comms, 'G_r', eta_parab*(pi*D_r/Lambda)**2)"
   ]
  },
  {
   "cell_type": "code",
   "execution_count": 103,
   "id": "2017c0fc-f409-4f55-8ef1-8f093235750f",
   "metadata": {
    "execution": {
     "iopub.execute_input": "2022-07-03T16:18:37.724577Z",
     "iopub.status.busy": "2022-07-03T16:18:37.723530Z",
     "iopub.status.idle": "2022-07-03T16:18:37.745071Z",
     "shell.execute_reply": "2022-07-03T16:18:37.744065Z",
     "shell.execute_reply.started": "2022-07-03T16:18:37.724577Z"
    },
    "tags": []
   },
   "outputs": [],
   "source": [
    "h = Par('h', 780, 'km')\n",
    "Re = Par('Re', 6378, 'km')\n",
    "S = adda(comms, 'S', sqrt(h*(h+2*Re)), unit='km', forceunit=True)"
   ]
  },
  {
   "cell_type": "code",
   "execution_count": 104,
   "id": "f4eb7fb4-9986-4990-83f8-5e9508827bbe",
   "metadata": {
    "execution": {
     "iopub.execute_input": "2022-07-03T16:18:38.219948Z",
     "iopub.status.busy": "2022-07-03T16:18:38.219948Z",
     "iopub.status.idle": "2022-07-03T16:18:38.227942Z",
     "shell.execute_reply": "2022-07-03T16:18:38.227942Z",
     "shell.execute_reply.started": "2022-07-03T16:18:38.219948Z"
    },
    "tags": []
   },
   "outputs": [],
   "source": [
    "L_s = adda(comms, 'L_s', (Lambda/(4*pi*S))**2)"
   ]
  },
  {
   "cell_type": "code",
   "execution_count": 105,
   "id": "b4d0bdce-4c9f-4426-8df3-7aa1f4a0f077",
   "metadata": {
    "execution": {
     "iopub.execute_input": "2022-07-03T16:18:38.759585Z",
     "iopub.status.busy": "2022-07-03T16:18:38.759585Z",
     "iopub.status.idle": "2022-07-03T16:18:38.774574Z",
     "shell.execute_reply": "2022-07-03T16:18:38.774353Z",
     "shell.execute_reply.started": "2022-07-03T16:18:38.759585Z"
    },
    "tags": []
   },
   "outputs": [],
   "source": [
    "BER = Par('BER', 0.0001)\n",
    "R = Var('R', 10, 'Mbit/s') # 1 per microseconds\n",
    "T_s = Par('T_s', 135, 'K')\n",
    "L_a = Par('L_a', db2dec(-0.3))\n",
    "L_l = Par('L_l', db2dec(-1))\n",
    "L_p = Par('L_p', db2dec(-0.1))\n",
    "EN = adda(comms, 'EN', Pcomms*L_a*L_s*L_l*L_p*G_r*G_t/(k*T_s*R))"
   ]
  },
  {
   "cell_type": "markdown",
   "id": "fbc606a2-8806-4b1d-bc9c-f9f8e1b62dea",
   "metadata": {},
   "source": [
    "## Power"
   ]
  },
  {
   "cell_type": "code",
   "execution_count": 107,
   "id": "bfeacf51-8726-4408-9e85-acbf11424d51",
   "metadata": {
    "execution": {
     "iopub.execute_input": "2022-07-03T16:18:48.357196Z",
     "iopub.status.busy": "2022-07-03T16:18:48.357196Z",
     "iopub.status.idle": "2022-07-03T16:18:48.368197Z",
     "shell.execute_reply": "2022-07-03T16:18:48.367299Z",
     "shell.execute_reply.started": "2022-07-03T16:18:48.357196Z"
    }
   },
   "outputs": [],
   "source": [
    "power = addsolver(m, name='power', idbyname=idbyname)"
   ]
  },
  {
   "cell_type": "markdown",
   "id": "fbb80c53-27ce-49b5-beed-c2b8f73d9962",
   "metadata": {},
   "source": [
    "### Energy budget"
   ]
  },
  {
   "cell_type": "code",
   "execution_count": 108,
   "id": "514cf06d-5d47-4fc6-ad41-ec18c66275fa",
   "metadata": {
    "execution": {
     "iopub.execute_input": "2022-07-03T16:18:52.472583Z",
     "iopub.status.busy": "2022-07-03T16:18:52.471581Z",
     "iopub.status.idle": "2022-07-03T16:18:52.482452Z",
     "shell.execute_reply": "2022-07-03T16:18:52.481364Z",
     "shell.execute_reply.started": "2022-07-03T16:18:52.472583Z"
    }
   },
   "outputs": [],
   "source": [
    "# should t_move, t_comms, t_service and t_recharge add up to 24 hours?\n",
    "t_mission = Par('t_{mission}', 24, 'hr')\n",
    "t_comms = Par('t_{comms}', 1, 'hr')\n",
    "t_move = Par('t_{move}', 1, 'hr')\n",
    "t_service = Par('t_{service}', 12, 'hr')\n",
    "t_recharge = Par('t_{recharge}', 12, 'hr')"
   ]
  },
  {
   "cell_type": "code",
   "execution_count": 109,
   "id": "420e55fc-5966-47ec-b804-14ba8d6e5a1d",
   "metadata": {
    "execution": {
     "iopub.execute_input": "2022-07-03T16:18:53.225550Z",
     "iopub.status.busy": "2022-07-03T16:18:53.224549Z",
     "iopub.status.idle": "2022-07-03T16:18:53.240882Z",
     "shell.execute_reply": "2022-07-03T16:18:53.240882Z",
     "shell.execute_reply.started": "2022-07-03T16:18:53.225550Z"
    }
   },
   "outputs": [],
   "source": [
    "P_hotel = Par('P_{hotel}', 50, 'W')\n",
    "E_AUV = Par('E_{AUV}', 1.9, 'kW*hr') # AUV battery capacity (to be recharged), based on Bluefin-9\n",
    "gamma = Par(r'\\gamma', 1) # AUVs serviced per mission duration (aka in the time of t_mission)"
   ]
  },
  {
   "cell_type": "code",
   "execution_count": 110,
   "id": "c0881f2c-8678-4ebc-93f9-a3a2d7cdd4d0",
   "metadata": {
    "execution": {
     "iopub.execute_input": "2022-07-03T16:18:53.810058Z",
     "iopub.status.busy": "2022-07-03T16:18:53.810058Z",
     "iopub.status.idle": "2022-07-03T16:18:53.848711Z",
     "shell.execute_reply": "2022-07-03T16:18:53.847812Z",
     "shell.execute_reply.started": "2022-07-03T16:18:53.810058Z"
    }
   },
   "outputs": [],
   "source": [
    "E_move = adda(power, 'E_{move}', P_move*t_move, unit='kW*hr')\n",
    "E_hotel = adda(power, 'E_{hotel}', P_hotel*t_mission, unit='kW*hr')\n",
    "E_comms = adda(power, 'E_{comms}', Pcomms*t_comms, unit='W*hr')\n",
    "E_service = adda(power, 'E_{service}', E_AUV * gamma, unit='kW*hr')\n",
    "P_service = adda(power, 'P_{service}', E_service/t_service, unit='W')"
   ]
  },
  {
   "cell_type": "code",
   "execution_count": 111,
   "id": "9755d714-039d-441d-8dcd-e61adfc6be3c",
   "metadata": {
    "execution": {
     "iopub.execute_input": "2022-07-03T16:18:54.446972Z",
     "iopub.status.busy": "2022-07-03T16:18:54.445876Z",
     "iopub.status.idle": "2022-07-03T16:18:54.469312Z",
     "shell.execute_reply": "2022-07-03T16:18:54.468483Z",
     "shell.execute_reply.started": "2022-07-03T16:18:54.446972Z"
    }
   },
   "outputs": [],
   "source": [
    "E_required = adda(power, 'E_{required}', E_hotel+E_move+E_service+E_comms, unit='kW*hr')"
   ]
  },
  {
   "cell_type": "markdown",
   "id": "5bc55f2d-aa8e-4c4f-9d09-8883edb99941",
   "metadata": {},
   "source": [
    "### Solar panel sizing"
   ]
  },
  {
   "cell_type": "code",
   "execution_count": 113,
   "id": "d92f3f70-0e50-4307-9d1d-df4b46c45425",
   "metadata": {
    "execution": {
     "iopub.execute_input": "2022-07-03T16:19:13.668086Z",
     "iopub.status.busy": "2022-07-03T16:19:13.667086Z",
     "iopub.status.idle": "2022-07-03T16:19:13.691380Z",
     "shell.execute_reply": "2022-07-03T16:19:13.690378Z",
     "shell.execute_reply.started": "2022-07-03T16:19:13.668086Z"
    }
   },
   "outputs": [],
   "source": [
    "E_recharge = adda(power, 'E_{recharge}', E_required, unit='kW*hr')\n",
    "P_recharge = adda(power, 'P_{recharge}', E_recharge / t_recharge, unit='W')"
   ]
  },
  {
   "cell_type": "code",
   "execution_count": 114,
   "id": "57acceac-85f6-4126-b247-58cb82470235",
   "metadata": {
    "execution": {
     "iopub.execute_input": "2022-07-03T16:19:18.889067Z",
     "iopub.status.busy": "2022-07-03T16:19:18.888067Z",
     "iopub.status.idle": "2022-07-03T16:19:18.901546Z",
     "shell.execute_reply": "2022-07-03T16:19:18.900627Z",
     "shell.execute_reply.started": "2022-07-03T16:19:18.889067Z"
    }
   },
   "outputs": [],
   "source": [
    "eta_s = Par(r'\\eta_s', 0.27)\n",
    "phi_s = Par(r'\\phi_s', 800, 'W/m**2')\n",
    "theta_bar = Par(r'\\theta', 55, 'deg')\n",
    "Ideg = Par('I_{deg}', 0.9)\n",
    "ddeg = Par('d_{deg}', 0.005)\n",
    "Lsolar = Par('L_{solar}', 10) #lifetime in years, but units act weirdly in powers"
   ]
  },
  {
   "cell_type": "code",
   "execution_count": 115,
   "id": "74c6aac8-a144-4024-9093-8f09dd93ff5f",
   "metadata": {
    "execution": {
     "iopub.execute_input": "2022-07-03T16:19:25.926170Z",
     "iopub.status.busy": "2022-07-03T16:19:25.926170Z",
     "iopub.status.idle": "2022-07-03T16:19:26.036672Z",
     "shell.execute_reply": "2022-07-03T16:19:26.036672Z",
     "shell.execute_reply.started": "2022-07-03T16:19:25.926170Z"
    }
   },
   "outputs": [
    {
     "data": {
      "text/latex": [
       "$A_{solar}=8.859\\ \\mathrm{m}^{2}\\ (P_{recharge}=939.529 )$"
      ],
      "text/plain": [
       "A_{solar}"
      ]
     },
     "execution_count": 115,
     "metadata": {},
     "output_type": "execute_result"
    }
   ],
   "source": [
    "adda(power, A_s, P_recharge / (eta_s * phi_s * cos(theta_bar) * Ideg * (1-ddeg)**Lsolar), unit='m^2', forceunit=True)"
   ]
  },
  {
   "cell_type": "markdown",
   "id": "fce8df72-0c6d-4608-9fd7-5c4339ee3919",
   "metadata": {},
   "source": [
    "### Battery sizing"
   ]
  },
  {
   "cell_type": "code",
   "execution_count": 116,
   "id": "780cc29f-c07b-47ca-adca-2ee7f1351a7b",
   "metadata": {
    "execution": {
     "iopub.execute_input": "2022-07-03T16:19:38.516880Z",
     "iopub.status.busy": "2022-07-03T16:19:38.516880Z",
     "iopub.status.idle": "2022-07-03T16:19:38.555893Z",
     "shell.execute_reply": "2022-07-03T16:19:38.555893Z",
     "shell.execute_reply.started": "2022-07-03T16:19:38.516880Z"
    }
   },
   "outputs": [
    {
     "data": {
      "text/latex": [
       "$m_{batt}=99.742\\ \\mathrm{kg}\\ (C=18.948 )$"
      ],
      "text/plain": [
       "m_{batt}"
      ]
     },
     "execution_count": 116,
     "metadata": {},
     "output_type": "execute_result"
    }
   ],
   "source": [
    "mu_batt = Par(r'\\mu_{battery}', 200, 'W*hr/kg') # Lithium ion\n",
    "DOD = Par('DOD', 0.7)\n",
    "eta_batt = Par(r'\\eta_{battery}', 0.85) # transmission efficiency\n",
    "nu_batt = Par(r'\\nu_{battery}', 450, 'kW*hr/(m**3)')\n",
    "N = Par('N', 1)\n",
    "C = adda(m, 'C', E_required/(DOD*N*eta_batt), unit='kW*hr')\n",
    "V_batt = adda(m, 'V_{batt}', C/nu_batt, unit='m**3')\n",
    "m_batt_zero = Par('m_{batt_zero}', 5, 'kg')\n",
    "adda(power, mbatt, C/mu_batt + m_batt_zero, unit='kg') # was already defined in the beginning"
   ]
  },
  {
   "cell_type": "code",
   "execution_count": null,
   "id": "80d472db-4de4-4e83-998e-92ef80dbb5fe",
   "metadata": {},
   "outputs": [],
   "source": []
  }
 ],
 "metadata": {
  "kernelspec": {
   "display_name": "Python [conda env:mdo]",
   "language": "python",
   "name": "conda-env-mdo-py"
  },
  "language_info": {
   "codemirror_mode": {
    "name": "ipython",
    "version": 3
   },
   "file_extension": ".py",
   "mimetype": "text/x-python",
   "name": "python",
   "nbconvert_exporter": "python",
   "pygments_lexer": "ipython3",
   "version": "3.9.7"
  }
 },
 "nbformat": 4,
 "nbformat_minor": 5
}
