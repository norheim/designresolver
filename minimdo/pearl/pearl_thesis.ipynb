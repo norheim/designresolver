{
 "cells": [
  {
   "cell_type": "code",
   "execution_count": 1,
   "id": "ec517324-3c19-41d4-b153-ccd607875310",
   "metadata": {
    "execution": {
     "iopub.execute_input": "2022-07-11T03:57:43.171144Z",
     "iopub.status.busy": "2022-07-11T03:57:43.170145Z",
     "iopub.status.idle": "2022-07-11T03:57:45.191399Z",
     "shell.execute_reply": "2022-07-11T03:57:45.190523Z",
     "shell.execute_reply.started": "2022-07-11T03:57:43.171144Z"
    },
    "tags": []
   },
   "outputs": [],
   "source": [
    "from compute import Var, Par\n",
    "from datastructures.api import Model, adda, addf, addsolver, setsolvefor, evalexpr, edges_no_param, addobj, addineq, OPT, SolverRef\n",
    "from datastructures.execution import edges_from_components\n",
    "from datastructures.graphutils import (namefromsympy, dfs_tree, SOLVER, VAR, COMP, nested_sources, \n",
    "sources, edges_to_Ein_Eout, flat_graph_formulation, root_solver, namefromid, copy_dicts, all_variables, all_edges)\n",
    "from datastructures.nestedgraph import root_sources, build_typedgraph\n",
    "from datastructures.workflow import get_f, order_from_tree, default_solver_options, mdao_workflow\n",
    "from datastructures.workflow_mdao import mdao_workflow_with_args\n",
    "from datastructures.operators import sort_scc, reorder_merge_solve\n",
    "from datastructures.assembly import build_archi\n",
    "from datastructures.runpipeline import model_to_problem\n",
    "from datastructures.postprocess import print_inputs, print_outputs\n",
    "from datastructures.rendering import render_incidence\n",
    "from datastructures.tearing import dir_graph, min_arc_set_assign, min_arc_set, min_max_scc, min_max_scc2\n",
    "from datastructures.transformations import transform_components\n",
    "from collections import OrderedDict\n",
    "import matplotlib.pyplot as plt\n",
    "from sympy import cos, pi, log, sqrt\n",
    "import openmdao.api as om\n",
    "import networkx as nx\n",
    "from itertools import chain"
   ]
  },
  {
   "cell_type": "code",
   "execution_count": 2,
   "id": "471d0565-5529-44d6-9e11-057efa2b47a4",
   "metadata": {
    "execution": {
     "iopub.execute_input": "2022-07-11T03:57:45.192398Z",
     "iopub.status.busy": "2022-07-11T03:57:45.191399Z",
     "iopub.status.idle": "2022-07-11T03:57:45.207398Z",
     "shell.execute_reply": "2022-07-11T03:57:45.206481Z",
     "shell.execute_reply.started": "2022-07-11T03:57:45.192398Z"
    },
    "tags": []
   },
   "outputs": [],
   "source": [
    "#from pearl_initial_formulation import *"
   ]
  },
  {
   "cell_type": "markdown",
   "id": "7463b12a-2011-43dc-bd8c-744d5bb51ce7",
   "metadata": {},
   "source": [
    "## Variables"
   ]
  },
  {
   "cell_type": "code",
   "execution_count": 3,
   "id": "f412b5ca-cc22-4280-879f-b84bab672932",
   "metadata": {
    "execution": {
     "iopub.execute_input": "2022-07-11T03:57:45.208397Z",
     "iopub.status.busy": "2022-07-11T03:57:45.208397Z",
     "iopub.status.idle": "2022-07-11T03:57:45.222487Z",
     "shell.execute_reply": "2022-07-11T03:57:45.222487Z",
     "shell.execute_reply.started": "2022-07-11T03:57:45.208397Z"
    },
    "tags": []
   },
   "outputs": [],
   "source": [
    "Df = Var('D_f', 2, unit='m')\n",
    "Ds = Var('D_s', 1, unit='m')\n",
    "Dd = Var('D_d', 1.25, unit='m')\n",
    "tf = Var('t_f', 0.5, unit='m')\n",
    "ts = Var('t_s', 2, unit='m')\n",
    "td = Var('t_d', 0.5, unit='m')"
   ]
  },
  {
   "cell_type": "markdown",
   "id": "f5336e3c-c623-47c0-92ee-dde849927cfd",
   "metadata": {},
   "source": [
    "## Parameters"
   ]
  },
  {
   "cell_type": "code",
   "execution_count": 4,
   "id": "605826f0-4097-4e5b-9f1b-6dc957d15528",
   "metadata": {
    "execution": {
     "iopub.execute_input": "2022-07-11T03:57:45.224495Z",
     "iopub.status.busy": "2022-07-11T03:57:45.223499Z",
     "iopub.status.idle": "2022-07-11T03:57:45.238647Z",
     "shell.execute_reply": "2022-07-11T03:57:45.238503Z",
     "shell.execute_reply.started": "2022-07-11T03:57:45.224495Z"
    },
    "tags": []
   },
   "outputs": [],
   "source": [
    "rhow = Par(r'\\rho_w', 1023.6, 'kg/m^3') # density of seawater [kg/m^3]\n",
    "rho = Par(r'\\rho', 700, 'kg/m^3')       # arbitrarily set\n",
    "rhoh = Par(r'\\rho_h', 2700, 'kg/m^3')   # arbitrarily set"
   ]
  },
  {
   "cell_type": "code",
   "execution_count": 5,
   "id": "c3159274-fa62-4330-a60c-b8d2a5903ba3",
   "metadata": {
    "execution": {
     "iopub.execute_input": "2022-07-11T03:57:45.239912Z",
     "iopub.status.busy": "2022-07-11T03:57:45.239912Z",
     "iopub.status.idle": "2022-07-11T03:57:45.254092Z",
     "shell.execute_reply": "2022-07-11T03:57:45.254092Z",
     "shell.execute_reply.started": "2022-07-11T03:57:45.239912Z"
    },
    "tags": []
   },
   "outputs": [],
   "source": [
    "idbyname = True\n",
    "model = Model(rootname='root')\n",
    "m = model.root\n",
    "#m = addsolver(model.root, name='mdf', idbyname=idbyname)"
   ]
  },
  {
   "cell_type": "markdown",
   "id": "804a29a7-7d14-4ce9-a5d3-bb0c26756d77",
   "metadata": {},
   "source": [
    "## Geometry"
   ]
  },
  {
   "cell_type": "code",
   "execution_count": 6,
   "id": "ecd22c35-2e10-4fd7-a91f-4a6a5a174a64",
   "metadata": {
    "execution": {
     "iopub.execute_input": "2022-07-11T03:57:45.256155Z",
     "iopub.status.busy": "2022-07-11T03:57:45.255140Z",
     "iopub.status.idle": "2022-07-11T03:57:45.269450Z",
     "shell.execute_reply": "2022-07-11T03:57:45.269314Z",
     "shell.execute_reply.started": "2022-07-11T03:57:45.256155Z"
    },
    "tags": []
   },
   "outputs": [],
   "source": [
    "geometry = m#addsolver(m, name='geometry', idbyname=idbyname)"
   ]
  },
  {
   "cell_type": "code",
   "execution_count": 7,
   "id": "ad547067-1c5a-4701-93a1-9fe0199f04cc",
   "metadata": {
    "execution": {
     "iopub.execute_input": "2022-07-11T03:57:45.270564Z",
     "iopub.status.busy": "2022-07-11T03:57:45.270564Z",
     "iopub.status.idle": "2022-07-11T03:57:45.487943Z",
     "shell.execute_reply": "2022-07-11T03:57:45.487001Z",
     "shell.execute_reply.started": "2022-07-11T03:57:45.270564Z"
    },
    "tags": []
   },
   "outputs": [],
   "source": [
    "A_s = Var('A_{solar}', unit='m^2')\n",
    "alpha = Par(r'\\alpha', 0.05)\n",
    "adda(geometry, Df, (4*abs(A_s)/(pi*(1-alpha)))**0.5)\n",
    "d = adda(geometry, 'd', alpha*Df)"
   ]
  },
  {
   "cell_type": "markdown",
   "id": "6e88adb8-d757-4122-8129-803113c6a9be",
   "metadata": {},
   "source": [
    "## Hydrodynamics"
   ]
  },
  {
   "cell_type": "code",
   "execution_count": 8,
   "id": "dedf8daf-6d79-4626-8eb3-1c5bcde62d92",
   "metadata": {
    "execution": {
     "iopub.execute_input": "2022-07-11T03:57:45.488940Z",
     "iopub.status.busy": "2022-07-11T03:57:45.488940Z",
     "iopub.status.idle": "2022-07-11T03:57:45.502551Z",
     "shell.execute_reply": "2022-07-11T03:57:45.502366Z",
     "shell.execute_reply.started": "2022-07-11T03:57:45.488940Z"
    },
    "tags": []
   },
   "outputs": [],
   "source": [
    "hydro = m#addsolver(m, name='hydro', idbyname=idbyname)"
   ]
  },
  {
   "cell_type": "code",
   "execution_count": 9,
   "id": "5b6e3106-37f1-423d-aa09-02dfd7272d9b",
   "metadata": {
    "execution": {
     "iopub.execute_input": "2022-07-11T03:57:45.504885Z",
     "iopub.status.busy": "2022-07-11T03:57:45.503884Z",
     "iopub.status.idle": "2022-07-11T03:57:45.518016Z",
     "shell.execute_reply": "2022-07-11T03:57:45.518016Z",
     "shell.execute_reply.started": "2022-07-11T03:57:45.504885Z"
    },
    "tags": []
   },
   "outputs": [],
   "source": [
    "hf = Var('h_f', 0.9*tf.varval, 'm')\n",
    "g = Par('g', 9.81, 'm/s^2')"
   ]
  },
  {
   "cell_type": "code",
   "execution_count": 10,
   "id": "7550ccad-0418-485f-85ce-cde64796c4ae",
   "metadata": {
    "execution": {
     "iopub.execute_input": "2022-07-11T03:57:45.520038Z",
     "iopub.status.busy": "2022-07-11T03:57:45.519038Z",
     "iopub.status.idle": "2022-07-11T03:57:45.595268Z",
     "shell.execute_reply": "2022-07-11T03:57:45.595268Z",
     "shell.execute_reply.started": "2022-07-11T03:57:45.519038Z"
    },
    "tags": []
   },
   "outputs": [],
   "source": [
    "Vd = adda(hydro, 'Vd', pi/4*(Df**2*hf+Ds**2*ts+Dd**2*td))"
   ]
  },
  {
   "cell_type": "code",
   "execution_count": 11,
   "id": "7befd2d9-b386-497b-a253-2a410384644a",
   "metadata": {
    "execution": {
     "iopub.execute_input": "2022-07-11T03:57:45.597263Z",
     "iopub.status.busy": "2022-07-11T03:57:45.596271Z",
     "iopub.status.idle": "2022-07-11T03:57:45.659585Z",
     "shell.execute_reply": "2022-07-11T03:57:45.658575Z",
     "shell.execute_reply.started": "2022-07-11T03:57:45.597263Z"
    },
    "tags": []
   },
   "outputs": [],
   "source": [
    "FB = adda(hydro, 'F_B', rhow*Vd*g, unit='N')\n",
    "FW = adda(hydro, 'F_W', FB)"
   ]
  },
  {
   "cell_type": "code",
   "execution_count": 12,
   "id": "48c92a60-197f-4d13-8bce-846b67efe06e",
   "metadata": {
    "execution": {
     "iopub.execute_input": "2022-07-11T03:57:45.661584Z",
     "iopub.status.busy": "2022-07-11T03:57:45.661584Z",
     "iopub.status.idle": "2022-07-11T03:57:45.674587Z",
     "shell.execute_reply": "2022-07-11T03:57:45.673585Z",
     "shell.execute_reply.started": "2022-07-11T03:57:45.661584Z"
    },
    "tags": []
   },
   "outputs": [],
   "source": [
    "#hf = adda(hydro, 'h_f', (4*Vd/pi-Ds**2*ts-Dd**2*td)/Df**2)"
   ]
  },
  {
   "cell_type": "code",
   "execution_count": 13,
   "id": "67b033f0-a0ce-4fc3-8d62-45f8fd42ff5e",
   "metadata": {
    "execution": {
     "iopub.execute_input": "2022-07-11T03:57:45.675586Z",
     "iopub.status.busy": "2022-07-11T03:57:45.675586Z",
     "iopub.status.idle": "2022-07-11T03:57:45.689584Z",
     "shell.execute_reply": "2022-07-11T03:57:45.689584Z",
     "shell.execute_reply.started": "2022-07-11T03:57:45.675586Z"
    },
    "tags": []
   },
   "outputs": [],
   "source": [
    "xd = td/2\n",
    "xs = td+ts/2\n",
    "xf1 = td+ts+hf/2\n",
    "xf2 = td+ts+tf/2\n",
    "totA1 = hf*Df+ts*Ds+td*Dd\n",
    "totA2 = tf*Df+ts*Ds+td*Dd"
   ]
  },
  {
   "cell_type": "code",
   "execution_count": 14,
   "id": "7610c421-7980-44c8-976f-332bb42331da",
   "metadata": {
    "execution": {
     "iopub.execute_input": "2022-07-11T03:57:45.691584Z",
     "iopub.status.busy": "2022-07-11T03:57:45.690584Z",
     "iopub.status.idle": "2022-07-11T03:57:45.798579Z",
     "shell.execute_reply": "2022-07-11T03:57:45.798579Z",
     "shell.execute_reply.started": "2022-07-11T03:57:45.691584Z"
    },
    "tags": []
   },
   "outputs": [],
   "source": [
    "KB = adda(hydro, 'K_B', (hf*Df*xf1+ts*Ds*xs+td*Dd*xd)/totA1) # z_B\n",
    "KG = adda(hydro, 'K_G', (tf*Df*xf2+ts*Ds*xs+td*Dd*xd)/totA2) \n",
    "I = adda(hydro, 'I', pi/64*Df**4)\n",
    "BM = adda(hydro, 'B_M', I/Vd)\n",
    "#should be 3-5% according to http://web.mit.edu/13.012/www/handouts/Reading3.pdf\n",
    "GM = adda(hydro, 'G_M', KB+BM-KG) "
   ]
  },
  {
   "cell_type": "code",
   "execution_count": 15,
   "id": "48b77185-e959-40b1-9c22-2095e9fa7bea",
   "metadata": {
    "execution": {
     "iopub.execute_input": "2022-07-11T03:57:45.799626Z",
     "iopub.status.busy": "2022-07-11T03:57:45.799626Z",
     "iopub.status.idle": "2022-07-11T03:57:45.814627Z",
     "shell.execute_reply": "2022-07-11T03:57:45.813709Z",
     "shell.execute_reply.started": "2022-07-11T03:57:45.799626Z"
    },
    "tags": []
   },
   "outputs": [],
   "source": [
    "mtot = Var('m_{platform}', unit='kg')"
   ]
  },
  {
   "cell_type": "code",
   "execution_count": 16,
   "id": "13c0d4bc-83cb-4f87-b014-ad66cf2a8579",
   "metadata": {
    "execution": {
     "iopub.execute_input": "2022-07-11T03:57:45.815628Z",
     "iopub.status.busy": "2022-07-11T03:57:45.815628Z",
     "iopub.status.idle": "2022-07-11T03:57:45.876461Z",
     "shell.execute_reply": "2022-07-11T03:57:45.875558Z",
     "shell.execute_reply.started": "2022-07-11T03:57:45.815628Z"
    },
    "tags": []
   },
   "outputs": [],
   "source": [
    "C33 = adda(hydro, 'C_{33}', pi*rhow*g/4*Df**2)\n",
    "A33 = adda(hydro, 'A_{33}', 0.0525*pi*rhow*(Dd**3+Ds**3+Df**3))\n",
    "omega0 = adda(hydro, r'\\omega_0', (C33/(A33+mtot))**1/2, unit='rad/s', forceunit=True)"
   ]
  },
  {
   "cell_type": "markdown",
   "id": "b5fbc07a-94ad-4663-a021-d33ce23f2f55",
   "metadata": {
    "tags": []
   },
   "source": [
    "## Mass"
   ]
  },
  {
   "cell_type": "code",
   "execution_count": 17,
   "id": "285e954d-c224-4784-ac2d-f94d623c1615",
   "metadata": {
    "execution": {
     "iopub.execute_input": "2022-07-11T03:57:45.877460Z",
     "iopub.status.busy": "2022-07-11T03:57:45.876461Z",
     "iopub.status.idle": "2022-07-11T03:57:45.891811Z",
     "shell.execute_reply": "2022-07-11T03:57:45.891230Z",
     "shell.execute_reply.started": "2022-07-11T03:57:45.877460Z"
    },
    "tags": []
   },
   "outputs": [],
   "source": [
    "mass = m#addsolver(m, name='mass', idbyname=idbyname)"
   ]
  },
  {
   "cell_type": "code",
   "execution_count": 18,
   "id": "fa6b1c4c-1c24-4936-9a99-b901c0482e78",
   "metadata": {
    "execution": {
     "iopub.execute_input": "2022-07-11T03:57:45.893377Z",
     "iopub.status.busy": "2022-07-11T03:57:45.893377Z",
     "iopub.status.idle": "2022-07-11T03:57:46.031548Z",
     "shell.execute_reply": "2022-07-11T03:57:46.031548Z",
     "shell.execute_reply.started": "2022-07-11T03:57:45.893377Z"
    },
    "tags": []
   },
   "outputs": [
    {
     "data": {
      "text/latex": [
       "$t_d=0.345\\ \\mathrm{m}\\ (D_f=1.158 ,m_{struct}=2609.803 )$"
      ],
      "text/plain": [
       "t_d"
      ]
     },
     "execution_count": 18,
     "metadata": {},
     "output_type": "execute_result"
    }
   ],
   "source": [
    "adda(mass, mtot, FW/g, 'kg')\n",
    "mbatt = Var('m_{batt}', unit='kg')\n",
    "mprop = Par('m_{prop}', 50, 'kg') # mass of propulsion\n",
    "mcomms = Par('m_{comms}', 50, 'kg') # mass of comms system\n",
    "eta_solar = Par(r'\\eta_{solar}', 10, 'kg/m^2')\n",
    "msolar = adda(mass, 'm_{solar}', eta_solar*A_s)\n",
    "mstruct = adda(mass, 'm_{struct}', mtot-mbatt-msolar-mcomms-mprop) \n",
    "adda(mass, td, (4/pi*mstruct-Df**2*tf*rho-Ds**2*ts*rho)/(Dd**2*rhoh))"
   ]
  },
  {
   "cell_type": "markdown",
   "id": "204d9eae-dfb3-43ac-9dee-a0f2e30d2ad9",
   "metadata": {},
   "source": [
    "## Propulsion"
   ]
  },
  {
   "cell_type": "code",
   "execution_count": 19,
   "id": "33fe13df-e518-4573-b5b8-e7408a5d856f",
   "metadata": {
    "execution": {
     "iopub.execute_input": "2022-07-11T03:57:46.032870Z",
     "iopub.status.busy": "2022-07-11T03:57:46.032870Z",
     "iopub.status.idle": "2022-07-11T03:57:46.047018Z",
     "shell.execute_reply": "2022-07-11T03:57:46.047018Z",
     "shell.execute_reply.started": "2022-07-11T03:57:46.032870Z"
    },
    "tags": []
   },
   "outputs": [],
   "source": [
    "prop = m#addsolver(m, name='prop', idbyname=idbyname)"
   ]
  },
  {
   "cell_type": "code",
   "execution_count": 20,
   "id": "d9078266-b4c3-4de6-8404-99c3b0bdadf9",
   "metadata": {
    "execution": {
     "iopub.execute_input": "2022-07-11T03:57:46.048147Z",
     "iopub.status.busy": "2022-07-11T03:57:46.048147Z",
     "iopub.status.idle": "2022-07-11T03:57:46.093223Z",
     "shell.execute_reply": "2022-07-11T03:57:46.093223Z",
     "shell.execute_reply.started": "2022-07-11T03:57:46.048147Z"
    },
    "tags": []
   },
   "outputs": [],
   "source": [
    "S_wd = pi*((Dd/2)**2-(Ds/2)**2+(Dd/2)**2+2*(Dd/2)*td)\n",
    "S_ws = 2*pi*(Ds/2)*ts\n",
    "S_wf = pi*((Df/2)**2-(Ds/2)**2+2*(Df/2)*hf)\n",
    "S_w = adda(prop, 'S_w', S_wd+S_ws+S_wf, 'm**2') # wetted surface\n",
    "C_d = Par('C_d', 1) # estimate drag coefficient (a square flat plate at 90 deg to the flow is 1.17)\n",
    "v = Var('v', 1, unit='m/s') # [m/s]\n",
    "eta_m = Par(r'\\eta_m', 0.75) # estimated, need to determine from motors?\n",
    "# D = rhow*C_d*S_w*v**2*0.5\n",
    "P_move = adda(prop, 'P_{move}', rhow*C_d*S_w*v**3/(2*eta_m), unit='W')"
   ]
  },
  {
   "cell_type": "markdown",
   "id": "6ceb5270-22d6-465b-a5a1-429d2b2d6869",
   "metadata": {},
   "source": [
    "## Communications"
   ]
  },
  {
   "cell_type": "code",
   "execution_count": 21,
   "id": "28cecee4-415a-4cd3-8967-3aac83cd9fcd",
   "metadata": {
    "execution": {
     "iopub.execute_input": "2022-07-11T03:57:46.094142Z",
     "iopub.status.busy": "2022-07-11T03:57:46.094142Z",
     "iopub.status.idle": "2022-07-11T03:57:46.110184Z",
     "shell.execute_reply": "2022-07-11T03:57:46.109228Z",
     "shell.execute_reply.started": "2022-07-11T03:57:46.094142Z"
    },
    "tags": []
   },
   "outputs": [],
   "source": [
    "comms = m#addsolver(m, name='comms', idbyname=idbyname)"
   ]
  },
  {
   "cell_type": "code",
   "execution_count": 22,
   "id": "070b95ad-bcf6-4960-a956-b4f5964b3cbe",
   "metadata": {
    "execution": {
     "iopub.execute_input": "2022-07-11T03:57:46.111177Z",
     "iopub.status.busy": "2022-07-11T03:57:46.111177Z",
     "iopub.status.idle": "2022-07-11T03:57:46.124366Z",
     "shell.execute_reply": "2022-07-11T03:57:46.124214Z",
     "shell.execute_reply.started": "2022-07-11T03:57:46.111177Z"
    },
    "tags": []
   },
   "outputs": [],
   "source": [
    "db2dec = lambda x: 10**(x/10)\n",
    "dec2db = lambda x: 10*log(abs(x), 10)"
   ]
  },
  {
   "cell_type": "code",
   "execution_count": 23,
   "id": "7de1deb0-003f-4331-bb92-484cf505de0f",
   "metadata": {
    "execution": {
     "iopub.execute_input": "2022-07-11T03:57:46.125718Z",
     "iopub.status.busy": "2022-07-11T03:57:46.125718Z",
     "iopub.status.idle": "2022-07-11T03:57:46.140201Z",
     "shell.execute_reply": "2022-07-11T03:57:46.140201Z",
     "shell.execute_reply.started": "2022-07-11T03:57:46.125718Z"
    },
    "tags": []
   },
   "outputs": [],
   "source": [
    "k = Par('k', 1.38065e-23, 'J/K')\n",
    "c = Par('c', 3e8, 'm/s')\n",
    "f = Par('f', 2.2, 'GHz')"
   ]
  },
  {
   "cell_type": "code",
   "execution_count": 24,
   "id": "2fc6053f-c973-47d9-9b20-8b0a0f236557",
   "metadata": {
    "execution": {
     "iopub.execute_input": "2022-07-11T03:57:46.141176Z",
     "iopub.status.busy": "2022-07-11T03:57:46.141176Z",
     "iopub.status.idle": "2022-07-11T03:57:46.157301Z",
     "shell.execute_reply": "2022-07-11T03:57:46.156295Z",
     "shell.execute_reply.started": "2022-07-11T03:57:46.141176Z"
    },
    "tags": []
   },
   "outputs": [],
   "source": [
    "Lambda = adda(comms, r'\\lambda', c/f, unit='m')"
   ]
  },
  {
   "cell_type": "code",
   "execution_count": 25,
   "id": "02024802-d82d-4734-827c-db864ed3a126",
   "metadata": {
    "execution": {
     "iopub.execute_input": "2022-07-11T03:57:46.158303Z",
     "iopub.status.busy": "2022-07-11T03:57:46.157301Z",
     "iopub.status.idle": "2022-07-11T03:57:46.172302Z",
     "shell.execute_reply": "2022-07-11T03:57:46.171386Z",
     "shell.execute_reply.started": "2022-07-11T03:57:46.158303Z"
    },
    "tags": []
   },
   "outputs": [],
   "source": [
    "eta_parab = Par(r'\\eta_{parab}', 0.55)\n",
    "theta_t = Par(r'\\theta_t', 32)\n",
    "error_t = Par('e_t', 27)"
   ]
  },
  {
   "cell_type": "code",
   "execution_count": 26,
   "id": "c3cfad90-5d94-4352-b1e0-a2257fe534fe",
   "metadata": {
    "execution": {
     "iopub.execute_input": "2022-07-11T03:57:46.172302Z",
     "iopub.status.busy": "2022-07-11T03:57:46.172302Z",
     "iopub.status.idle": "2022-07-11T03:57:46.250881Z",
     "shell.execute_reply": "2022-07-11T03:57:46.250721Z",
     "shell.execute_reply.started": "2022-07-11T03:57:46.172302Z"
    },
    "tags": []
   },
   "outputs": [],
   "source": [
    "#G_pt_db = adda(comms, 'G_{pt}', 44.3-dec2db(theta_t**2), forceunit=True)\n",
    "L_pt_db = adda(comms, 'L_{pt}', -12*(error_t/theta_t)**2)\n",
    "#G_t = adda(comms, 'G_t', db2dec(G_pt_db+L_pt_db))"
   ]
  },
  {
   "cell_type": "code",
   "execution_count": 27,
   "id": "a0ee18c2-f5e2-478e-80db-83d832e29678",
   "metadata": {
    "execution": {
     "iopub.execute_input": "2022-07-11T03:57:46.251909Z",
     "iopub.status.busy": "2022-07-11T03:57:46.251909Z",
     "iopub.status.idle": "2022-07-11T03:57:46.266155Z",
     "shell.execute_reply": "2022-07-11T03:57:46.265893Z",
     "shell.execute_reply.started": "2022-07-11T03:57:46.251909Z"
    },
    "tags": []
   },
   "outputs": [],
   "source": [
    "G_t = adda(comms, 'G_t', eta_parab*(pi*d/Lambda)**2)"
   ]
  },
  {
   "cell_type": "code",
   "execution_count": 28,
   "id": "f6923cc1-1427-4c03-8f11-03d7133dd227",
   "metadata": {
    "execution": {
     "iopub.execute_input": "2022-07-11T03:57:46.268162Z",
     "iopub.status.busy": "2022-07-11T03:57:46.267162Z",
     "iopub.status.idle": "2022-07-11T03:57:46.282163Z",
     "shell.execute_reply": "2022-07-11T03:57:46.281179Z",
     "shell.execute_reply.started": "2022-07-11T03:57:46.268162Z"
    },
    "tags": []
   },
   "outputs": [],
   "source": [
    "D_r = Par('D_r', 0.3, 'm')\n",
    "G_r = adda(comms, 'G_r', eta_parab*(pi*D_r/Lambda)**2)"
   ]
  },
  {
   "cell_type": "code",
   "execution_count": 29,
   "id": "2017c0fc-f409-4f55-8ef1-8f093235750f",
   "metadata": {
    "execution": {
     "iopub.execute_input": "2022-07-11T03:57:46.284163Z",
     "iopub.status.busy": "2022-07-11T03:57:46.283166Z",
     "iopub.status.idle": "2022-07-11T03:57:46.314169Z",
     "shell.execute_reply": "2022-07-11T03:57:46.313162Z",
     "shell.execute_reply.started": "2022-07-11T03:57:46.284163Z"
    },
    "tags": []
   },
   "outputs": [],
   "source": [
    "h = Par('h', 780, 'km')\n",
    "Re = Par('Re', 6378, 'km')\n",
    "S = adda(comms, 'S', sqrt(h*(h+2*Re)), unit='km', forceunit=True)"
   ]
  },
  {
   "cell_type": "code",
   "execution_count": 30,
   "id": "f4eb7fb4-9986-4990-83f8-5e9508827bbe",
   "metadata": {
    "execution": {
     "iopub.execute_input": "2022-07-11T03:57:46.315165Z",
     "iopub.status.busy": "2022-07-11T03:57:46.314169Z",
     "iopub.status.idle": "2022-07-11T03:57:46.330179Z",
     "shell.execute_reply": "2022-07-11T03:57:46.329168Z",
     "shell.execute_reply.started": "2022-07-11T03:57:46.315165Z"
    },
    "tags": []
   },
   "outputs": [],
   "source": [
    "L_s = adda(comms, 'L_s', (Lambda/(4*pi*S))**2)"
   ]
  },
  {
   "cell_type": "code",
   "execution_count": 31,
   "id": "b4d0bdce-4c9f-4426-8df3-7aa1f4a0f077",
   "metadata": {
    "execution": {
     "iopub.execute_input": "2022-07-11T03:57:46.331164Z",
     "iopub.status.busy": "2022-07-11T03:57:46.331164Z",
     "iopub.status.idle": "2022-07-11T03:57:46.393635Z",
     "shell.execute_reply": "2022-07-11T03:57:46.392634Z",
     "shell.execute_reply.started": "2022-07-11T03:57:46.331164Z"
    },
    "tags": []
   },
   "outputs": [],
   "source": [
    "BER = Par('BER', 0.0001)\n",
    "R = Var('R', 10, 'Mbit/s') # 1 per microseconds\n",
    "T_s = Par('T_s', 135, 'K')\n",
    "L_a = Par('L_a', db2dec(-0.3))\n",
    "L_l = Par('L_l', db2dec(-1))\n",
    "L_p = Par('L_p', db2dec(-0.1))\n",
    "EN = Var('EN', 10)\n",
    "Pcomms = adda(comms, 'P_{comms}', EN/(L_a*L_s*L_l*L_p*G_r*G_t)*(k*T_s*R), unit='W')"
   ]
  },
  {
   "cell_type": "markdown",
   "id": "fbc606a2-8806-4b1d-bc9c-f9f8e1b62dea",
   "metadata": {},
   "source": [
    "## Power"
   ]
  },
  {
   "cell_type": "code",
   "execution_count": 32,
   "id": "bfeacf51-8726-4408-9e85-acbf11424d51",
   "metadata": {
    "execution": {
     "iopub.execute_input": "2022-07-11T03:57:46.395653Z",
     "iopub.status.busy": "2022-07-11T03:57:46.394637Z",
     "iopub.status.idle": "2022-07-11T03:57:46.408291Z",
     "shell.execute_reply": "2022-07-11T03:57:46.407792Z",
     "shell.execute_reply.started": "2022-07-11T03:57:46.395653Z"
    },
    "tags": []
   },
   "outputs": [],
   "source": [
    "power = m#addsolver(m, name='power', idbyname=idbyname)"
   ]
  },
  {
   "cell_type": "markdown",
   "id": "fbb80c53-27ce-49b5-beed-c2b8f73d9962",
   "metadata": {},
   "source": [
    "### Energy budget"
   ]
  },
  {
   "cell_type": "code",
   "execution_count": 33,
   "id": "514cf06d-5d47-4fc6-ad41-ec18c66275fa",
   "metadata": {
    "execution": {
     "iopub.execute_input": "2022-07-11T03:57:46.670894Z",
     "iopub.status.busy": "2022-07-11T03:57:46.670894Z",
     "iopub.status.idle": "2022-07-11T03:57:46.689634Z",
     "shell.execute_reply": "2022-07-11T03:57:46.688656Z",
     "shell.execute_reply.started": "2022-07-11T03:57:46.670894Z"
    },
    "tags": []
   },
   "outputs": [],
   "source": [
    "# should t_move, t_comms, t_service and t_recharge add up to 24 hours?\n",
    "t_mission = Par('t_{mission}', 24, 'hr')\n",
    "t_comms = Par('t_{comms}', 1, 'hr')\n",
    "t_move = Par('t_{move}', 1, 'hr')\n",
    "t_service = Par('t_{service}', 12, 'hr')\n",
    "t_recharge = Par('t_{recharge}', 12, 'hr')"
   ]
  },
  {
   "cell_type": "code",
   "execution_count": 34,
   "id": "420e55fc-5966-47ec-b804-14ba8d6e5a1d",
   "metadata": {
    "execution": {
     "iopub.execute_input": "2022-07-11T03:57:46.801435Z",
     "iopub.status.busy": "2022-07-11T03:57:46.801435Z",
     "iopub.status.idle": "2022-07-11T03:57:46.813448Z",
     "shell.execute_reply": "2022-07-11T03:57:46.813448Z",
     "shell.execute_reply.started": "2022-07-11T03:57:46.801435Z"
    },
    "tags": []
   },
   "outputs": [],
   "source": [
    "P_hotel = Par('P_{hotel}', 50, 'W')\n",
    "E_AUV = Par('E_{AUV}', 1.9, 'kW*hr') # AUV battery capacity (to be recharged), based on Bluefin-9\n",
    "gamma = Par(r'\\gamma', 1) # AUVs serviced per mission duration (aka in the time of t_mission)"
   ]
  },
  {
   "cell_type": "code",
   "execution_count": 35,
   "id": "c0881f2c-8678-4ebc-93f9-a3a2d7cdd4d0",
   "metadata": {
    "execution": {
     "iopub.execute_input": "2022-07-11T03:57:47.102482Z",
     "iopub.status.busy": "2022-07-11T03:57:47.101570Z",
     "iopub.status.idle": "2022-07-11T03:57:47.127517Z",
     "shell.execute_reply": "2022-07-11T03:57:47.126513Z",
     "shell.execute_reply.started": "2022-07-11T03:57:47.102482Z"
    },
    "tags": []
   },
   "outputs": [],
   "source": [
    "E_move = adda(power, 'E_{move}', P_move*t_move, unit='kW*hr')\n",
    "E_hotel = adda(power, 'E_{hotel}', P_hotel*t_mission, unit='kW*hr')\n",
    "E_comms = adda(power, 'E_{comms}', Pcomms*t_comms, unit='W*hr')\n",
    "E_service = adda(power, 'E_{service}', E_AUV * gamma, unit='kW*hr')\n",
    "P_service = adda(power, 'P_{service}', E_service/t_service, unit='W')"
   ]
  },
  {
   "cell_type": "code",
   "execution_count": 36,
   "id": "9755d714-039d-441d-8dcd-e61adfc6be3c",
   "metadata": {
    "execution": {
     "iopub.execute_input": "2022-07-11T03:57:47.238250Z",
     "iopub.status.busy": "2022-07-11T03:57:47.237244Z",
     "iopub.status.idle": "2022-07-11T03:57:47.251847Z",
     "shell.execute_reply": "2022-07-11T03:57:47.251240Z",
     "shell.execute_reply.started": "2022-07-11T03:57:47.238250Z"
    },
    "tags": []
   },
   "outputs": [],
   "source": [
    "E_required = adda(power, 'E_{required}', E_hotel+E_move+E_service+E_comms, unit='kW*hr')"
   ]
  },
  {
   "cell_type": "markdown",
   "id": "5bc55f2d-aa8e-4c4f-9d09-8883edb99941",
   "metadata": {},
   "source": [
    "### Solar panel sizing"
   ]
  },
  {
   "cell_type": "code",
   "execution_count": 37,
   "id": "d92f3f70-0e50-4307-9d1d-df4b46c45425",
   "metadata": {
    "execution": {
     "iopub.execute_input": "2022-07-11T03:57:47.519771Z",
     "iopub.status.busy": "2022-07-11T03:57:47.519771Z",
     "iopub.status.idle": "2022-07-11T03:57:47.534142Z",
     "shell.execute_reply": "2022-07-11T03:57:47.534142Z",
     "shell.execute_reply.started": "2022-07-11T03:57:47.519771Z"
    },
    "tags": []
   },
   "outputs": [],
   "source": [
    "E_recharge = adda(power, 'E_{recharge}', E_required, unit='kW*hr')\n",
    "P_recharge = adda(power, 'P_{recharge}', E_recharge / t_recharge, unit='W')"
   ]
  },
  {
   "cell_type": "code",
   "execution_count": 38,
   "id": "57acceac-85f6-4126-b247-58cb82470235",
   "metadata": {
    "execution": {
     "iopub.execute_input": "2022-07-11T03:57:47.670720Z",
     "iopub.status.busy": "2022-07-11T03:57:47.670720Z",
     "iopub.status.idle": "2022-07-11T03:57:47.675414Z",
     "shell.execute_reply": "2022-07-11T03:57:47.674738Z",
     "shell.execute_reply.started": "2022-07-11T03:57:47.670720Z"
    },
    "tags": []
   },
   "outputs": [],
   "source": [
    "eta_s = Par(r'\\eta_s', 0.27)\n",
    "phi_s = Par(r'\\phi_s', 800, 'W/m**2')\n",
    "theta_bar = Par(r'\\theta', 55, 'deg')\n",
    "Ideg = Par('I_{deg}', 0.9)\n",
    "ddeg = Par('d_{deg}', 0.005)\n",
    "Lsolar = Par('L_{solar}', 10) #lifetime in years, but units act weirdly in powers"
   ]
  },
  {
   "cell_type": "code",
   "execution_count": 39,
   "id": "74c6aac8-a144-4024-9093-8f09dd93ff5f",
   "metadata": {
    "execution": {
     "iopub.execute_input": "2022-07-11T03:57:47.820402Z",
     "iopub.status.busy": "2022-07-11T03:57:47.820402Z",
     "iopub.status.idle": "2022-07-11T03:57:47.894870Z",
     "shell.execute_reply": "2022-07-11T03:57:47.894870Z",
     "shell.execute_reply.started": "2022-07-11T03:57:47.820402Z"
    },
    "tags": []
   },
   "outputs": [
    {
     "data": {
      "text/latex": [
       "$A_{solar}=9.152\\ \\mathrm{m}^{2}\\ (P_{recharge}=970.577 )$"
      ],
      "text/plain": [
       "A_{solar}"
      ]
     },
     "execution_count": 39,
     "metadata": {},
     "output_type": "execute_result"
    }
   ],
   "source": [
    "adda(power, A_s, P_recharge / (eta_s * phi_s * cos(theta_bar) * Ideg * (1-ddeg)**Lsolar), unit='m^2', forceunit=True)"
   ]
  },
  {
   "cell_type": "markdown",
   "id": "fce8df72-0c6d-4608-9fd7-5c4339ee3919",
   "metadata": {},
   "source": [
    "### Battery sizing"
   ]
  },
  {
   "cell_type": "code",
   "execution_count": 40,
   "id": "780cc29f-c07b-47ca-adca-2ee7f1351a7b",
   "metadata": {
    "execution": {
     "iopub.execute_input": "2022-07-11T03:57:48.290335Z",
     "iopub.status.busy": "2022-07-11T03:57:48.290335Z",
     "iopub.status.idle": "2022-07-11T03:57:48.315679Z",
     "shell.execute_reply": "2022-07-11T03:57:48.315679Z",
     "shell.execute_reply.started": "2022-07-11T03:57:48.290335Z"
    },
    "tags": []
   },
   "outputs": [
    {
     "data": {
      "text/latex": [
       "$m_{batt}=102.873\\ \\mathrm{kg}\\ (C=19.575 )$"
      ],
      "text/plain": [
       "m_{batt}"
      ]
     },
     "execution_count": 40,
     "metadata": {},
     "output_type": "execute_result"
    }
   ],
   "source": [
    "mu_batt = Par(r'\\mu_{battery}', 200, 'W*hr/kg') # Lithium ion\n",
    "DOD = Par('DOD', 0.7)\n",
    "eta_batt = Par(r'\\eta_{battery}', 0.85) # transmission efficiency\n",
    "#nu_batt = Par(r'\\nu_{battery}', 450, 'kW*hr/(m**3)')\n",
    "N = Par('N', 1)\n",
    "C = adda(power, 'C', E_required/(DOD*N*eta_batt), unit='kW*hr')\n",
    "#V_batt = adda(power, 'V_{batt}', C/nu_batt, unit='m**3')\n",
    "m_batt_zero = Par('m_{batt_zero}', 5, 'kg')\n",
    "adda(power, mbatt, C/mu_batt + m_batt_zero, unit='kg') # was already defined in the beginning"
   ]
  },
  {
   "cell_type": "markdown",
   "id": "91159655-389f-408d-af57-8e87448ea02a",
   "metadata": {},
   "source": [
    "# Visualize model"
   ]
  },
  {
   "cell_type": "code",
   "execution_count": 41,
   "id": "60ae9cf3-85b1-4966-97c1-0fa68ff33d5b",
   "metadata": {
    "execution": {
     "iopub.execute_input": "2022-07-11T03:57:49.246510Z",
     "iopub.status.busy": "2022-07-11T03:57:49.245522Z",
     "iopub.status.idle": "2022-07-11T03:57:49.257770Z",
     "shell.execute_reply": "2022-07-11T03:57:49.257635Z",
     "shell.execute_reply.started": "2022-07-11T03:57:49.246510Z"
    },
    "tags": []
   },
   "outputs": [],
   "source": [
    "nodetyperepr = {VAR: '{}', COMP: 'f_{{{}}}', SOLVER: '{}'}\n",
    "edges, tree = model.generate_formulation()\n",
    "edges_nopar = edges_no_param(model, edges) # filter out variables that are parameters"
   ]
  },
  {
   "cell_type": "code",
   "execution_count": 42,
   "id": "80d472db-4de4-4e83-998e-92ef80dbb5fe",
   "metadata": {
    "execution": {
     "iopub.execute_input": "2022-07-11T03:57:49.606308Z",
     "iopub.status.busy": "2022-07-11T03:57:49.605319Z",
     "iopub.status.idle": "2022-07-11T03:57:49.617317Z",
     "shell.execute_reply": "2022-07-11T03:57:49.617317Z",
     "shell.execute_reply.started": "2022-07-11T03:57:49.606308Z"
    },
    "tags": []
   },
   "outputs": [],
   "source": [
    "nodetyperepr_hsm = {VAR: '{}', COMP: 'f_{{{}}}', SOLVER: '{}'}\n",
    "namingfunc_hsm = namefromid(nodetyperepr_hsm)"
   ]
  },
  {
   "cell_type": "code",
   "execution_count": 43,
   "id": "7e3dc960-cb3e-4e3d-8339-60b5dd305f90",
   "metadata": {
    "execution": {
     "iopub.execute_input": "2022-07-11T03:57:50.296947Z",
     "iopub.status.busy": "2022-07-11T03:57:50.296947Z",
     "iopub.status.idle": "2022-07-11T03:57:51.991428Z",
     "shell.execute_reply": "2022-07-11T03:57:51.991428Z",
     "shell.execute_reply.started": "2022-07-11T03:57:50.296947Z"
    },
    "tags": []
   },
   "outputs": [
    {
     "data": {
      "image/png": "[encoded data removed]",
      "text/plain": [
       "<Figure size 576x576 with 1 Axes>"
      ]
     },
     "metadata": {
      "needs_background": "light"
     },
     "output_type": "display_data"
    }
   ],
   "source": [
    "_, ax = render_incidence(edges_nopar, tree, namingfunc_hsm, figsize=(8,8), figname=\"pearl_default_hsm.png\", save=False)"
   ]
  },
  {
   "cell_type": "markdown",
   "id": "7733b9e7-a6c4-498b-93d5-97425b8909a4",
   "metadata": {},
   "source": [
    "# Analysis of initial formulation"
   ]
  },
  {
   "cell_type": "code",
   "execution_count": 44,
   "id": "8b4c0ff3-1ef6-4c1f-ad0b-1affdff06412",
   "metadata": {
    "execution": {
     "iopub.execute_input": "2022-07-11T03:57:51.993429Z",
     "iopub.status.busy": "2022-07-11T03:57:51.992430Z",
     "iopub.status.idle": "2022-07-11T03:57:52.007428Z",
     "shell.execute_reply": "2022-07-11T03:57:52.007428Z",
     "shell.execute_reply.started": "2022-07-11T03:57:51.993429Z"
    },
    "tags": []
   },
   "outputs": [],
   "source": [
    "# opt = SolverRef('opt', model, 'opt')\n",
    "# addobj(opt, mtot) # for optimization make sure to add OPT in model\n",
    "# addineq(opt, -td)\n",
    "# addineq(opt, hf-0.9*tf)\n",
    "# solvefor = [tf, ts, Ds, Dd, hf]\n",
    "# varoptions = {tf:[0,10], ts:[0,10], Ds:[0,10], Dd:[0,10], hf:[0,10]}"
   ]
  },
  {
   "cell_type": "code",
   "execution_count": 45,
   "id": "3c9f432b-c7ef-40ea-b015-a65147220495",
   "metadata": {
    "execution": {
     "iopub.execute_input": "2022-07-11T03:57:52.134273Z",
     "iopub.status.busy": "2022-07-11T03:57:52.134273Z",
     "iopub.status.idle": "2022-07-11T03:57:52.146531Z",
     "shell.execute_reply": "2022-07-11T03:57:52.146375Z",
     "shell.execute_reply.started": "2022-07-11T03:57:52.134273Z"
    },
    "tags": []
   },
   "outputs": [],
   "source": [
    "edges, tree = model.generate_formulation()"
   ]
  },
  {
   "cell_type": "code",
   "execution_count": 46,
   "id": "2021c887-11f2-468e-8edf-51a0de0b5c63",
   "metadata": {
    "execution": {
     "iopub.execute_input": "2022-07-11T03:57:52.683988Z",
     "iopub.status.busy": "2022-07-11T03:57:52.682914Z",
     "iopub.status.idle": "2022-07-11T03:57:52.688982Z",
     "shell.execute_reply": "2022-07-11T03:57:52.688982Z",
     "shell.execute_reply.started": "2022-07-11T03:57:52.683988Z"
    },
    "tags": []
   },
   "outputs": [],
   "source": [
    "#tree = (tree[0], {'root':'opt'}, {elt.varid:'opt' for elt in solvefor})\n",
    "#model.var_options = {elt.varid:var for elt,var in varoptions.items()}"
   ]
  },
  {
   "cell_type": "code",
   "execution_count": 47,
   "id": "a1306380-c184-4e68-9c60-ef9de0d38a2d",
   "metadata": {
    "execution": {
     "iopub.execute_input": "2022-07-11T03:57:55.184161Z",
     "iopub.status.busy": "2022-07-11T03:57:55.184161Z",
     "iopub.status.idle": "2022-07-11T03:57:55.194651Z",
     "shell.execute_reply": "2022-07-11T03:57:55.194347Z",
     "shell.execute_reply.started": "2022-07-11T03:57:55.184161Z"
    },
    "tags": []
   },
   "outputs": [],
   "source": [
    "solvers_options = model.solvers_options\n",
    "#solvers_options['mdf'] = {'solver': 'N', 'maxiter':20}\n",
    "solvers_options['root'] = {'solver': 'N', 'maxiter':20}\n",
    "#solvers_options['opt'] = {'type': OPT, 'disp':True, 'optimizer': 'COBYLA'}\n",
    "nodetyperepr = model.nametyperepr\n",
    "nodetyperepr[SOLVER] = '{}'"
   ]
  },
  {
   "cell_type": "code",
   "execution_count": 48,
   "id": "e30e85bd-1a3c-4c87-b254-bbc697cd528b",
   "metadata": {
    "execution": {
     "iopub.execute_input": "2022-07-11T03:57:55.768394Z",
     "iopub.status.busy": "2022-07-11T03:57:55.767293Z",
     "iopub.status.idle": "2022-07-11T03:57:55.774038Z",
     "shell.execute_reply": "2022-07-11T03:57:55.773528Z",
     "shell.execute_reply.started": "2022-07-11T03:57:55.768394Z"
    },
    "tags": []
   },
   "outputs": [],
   "source": [
    "#edges, tree = model.generate_formulation()\n",
    "comp_options = model.comp_options\n",
    "var_options = model.var_options\n",
    "solvers_options = model.solvers_options\n",
    "components = model.components\n",
    "idmapping = model.idmapping # map from str to Var\n",
    "nodetyperepr = model.nametyperepr\n",
    "sequence = order_from_tree(tree[0], tree[1], edges[1])\n",
    "solvers_options = default_solver_options(tree, solvers_options)\n",
    "wf = mdao_workflow(sequence, solvers_options, comp_options, var_options)"
   ]
  },
  {
   "cell_type": "code",
   "execution_count": 49,
   "id": "11019e2b-4a27-4d47-aae8-cf9b8569e5e4",
   "metadata": {
    "execution": {
     "iopub.execute_input": "2022-07-11T03:57:57.857145Z",
     "iopub.status.busy": "2022-07-11T03:57:57.856150Z",
     "iopub.status.idle": "2022-07-11T03:57:57.890385Z",
     "shell.execute_reply": "2022-07-11T03:57:57.889382Z",
     "shell.execute_reply.started": "2022-07-11T03:57:57.857145Z"
    },
    "tags": []
   },
   "outputs": [],
   "source": [
    "prob, mdao_in, groups, namingfunc = model_to_problem(model, formulation=(edges, tree))"
   ]
  },
  {
   "cell_type": "code",
   "execution_count": 50,
   "id": "e27e6853-7c8e-4f46-919c-321ed62a7b28",
   "metadata": {
    "execution": {
     "iopub.execute_input": "2022-07-11T03:58:00.069686Z",
     "iopub.status.busy": "2022-07-11T03:58:00.069686Z",
     "iopub.status.idle": "2022-07-11T03:58:00.082976Z",
     "shell.execute_reply": "2022-07-11T03:58:00.082976Z",
     "shell.execute_reply.started": "2022-07-11T03:58:00.069686Z"
    },
    "tags": []
   },
   "outputs": [],
   "source": [
    "# prob.set_solver_print(level=0)\n",
    "# prob.set_solver_print(level=1, depth=1)\n",
    "# prob.setup();"
   ]
  },
  {
   "cell_type": "code",
   "execution_count": 51,
   "id": "33bd9c09-2a64-49bb-a9d0-81df73793737",
   "metadata": {
    "execution": {
     "iopub.execute_input": "2022-07-11T03:58:00.551209Z",
     "iopub.status.busy": "2022-07-11T03:58:00.550209Z",
     "iopub.status.idle": "2022-07-11T03:58:00.566389Z",
     "shell.execute_reply": "2022-07-11T03:58:00.566389Z",
     "shell.execute_reply.started": "2022-07-11T03:58:00.551209Z"
    },
    "tags": []
   },
   "outputs": [],
   "source": [
    "#prob.run_driver()"
   ]
  },
  {
   "cell_type": "code",
   "execution_count": 52,
   "id": "c21e57c3-9259-472d-be5e-5ce7c68760e8",
   "metadata": {
    "execution": {
     "iopub.execute_input": "2022-07-11T03:58:01.135460Z",
     "iopub.status.busy": "2022-07-11T03:58:01.135460Z",
     "iopub.status.idle": "2022-07-11T03:58:01.142776Z",
     "shell.execute_reply": "2022-07-11T03:58:01.142536Z",
     "shell.execute_reply.started": "2022-07-11T03:58:01.135460Z"
    },
    "tags": []
   },
   "outputs": [],
   "source": [
    "#print_inputs(model, prob, namingfunc, mdao_in)"
   ]
  },
  {
   "cell_type": "code",
   "execution_count": 53,
   "id": "2df12de8-5c5c-4bf5-90f4-734c11818edc",
   "metadata": {
    "execution": {
     "iopub.execute_input": "2022-07-11T03:58:05.192128Z",
     "iopub.status.busy": "2022-07-11T03:58:05.191207Z",
     "iopub.status.idle": "2022-07-11T03:58:05.199325Z",
     "shell.execute_reply": "2022-07-11T03:58:05.199325Z",
     "shell.execute_reply.started": "2022-07-11T03:58:05.192128Z"
    },
    "tags": []
   },
   "outputs": [],
   "source": [
    "prob.set_val('D_s', 0.1)\n",
    "prob.set_val('t_s', 0.2)\n",
    "prob.set_val('D_d', 1)\n",
    "tfval = 0.15\n",
    "prob.set_val('t_f', tfval)\n",
    "prob.set_val('h_f', 0.9*tfval)\n",
    "prob.set_val('rho', 600)"
   ]
  },
  {
   "cell_type": "code",
   "execution_count": 54,
   "id": "0cfa9b25-7fcd-4ebf-add3-0504c6111bb4",
   "metadata": {
    "execution": {
     "iopub.execute_input": "2022-07-11T03:58:08.092691Z",
     "iopub.status.busy": "2022-07-11T03:58:08.092691Z",
     "iopub.status.idle": "2022-07-11T03:58:15.229637Z",
     "shell.execute_reply": "2022-07-11T03:58:15.229637Z",
     "shell.execute_reply.started": "2022-07-11T03:58:08.092691Z"
    },
    "tags": []
   },
   "outputs": [
    {
     "name": "stdout",
     "output_type": "stream",
     "text": [
      "\n",
      "====\n",
      "root\n",
      "====\n",
      "NL: Newton Converged in 5 iterations\n"
     ]
    }
   ],
   "source": [
    "prob.run_model()"
   ]
  },
  {
   "cell_type": "code",
   "execution_count": 81,
   "id": "5d6c0ea9-7866-41b7-afb3-599594e6ed4c",
   "metadata": {
    "execution": {
     "iopub.execute_input": "2022-07-11T03:53:13.689896Z",
     "iopub.status.busy": "2022-07-11T03:53:13.689896Z",
     "iopub.status.idle": "2022-07-11T03:53:13.704199Z",
     "shell.execute_reply": "2022-07-11T03:53:13.704199Z",
     "shell.execute_reply.started": "2022-07-11T03:53:13.689896Z"
    },
    "tags": []
   },
   "outputs": [
    {
     "data": {
      "text/plain": [
       "array([0.15521238])"
      ]
     },
     "execution_count": 81,
     "metadata": {},
     "output_type": "execute_result"
    }
   ],
   "source": [
    "prob.get_val('t_d')"
   ]
  },
  {
   "cell_type": "code",
   "execution_count": 82,
   "id": "0c64e040-765e-4523-8f3f-659982ea8da4",
   "metadata": {
    "execution": {
     "iopub.execute_input": "2022-07-11T03:53:17.973183Z",
     "iopub.status.busy": "2022-07-11T03:53:17.972156Z",
     "iopub.status.idle": "2022-07-11T03:53:17.987673Z",
     "shell.execute_reply": "2022-07-11T03:53:17.987060Z",
     "shell.execute_reply.started": "2022-07-11T03:53:17.973183Z"
    },
    "tags": []
   },
   "outputs": [
    {
     "data": {
      "text/html": [
       "<style type=\"text/css\">\n",
       "</style>\n",
       "<table id=\"T_23eb7\">\n",
       "  <thead>\n",
       "  </thead>\n",
       "  <tbody>\n",
       "    <tr>\n",
       "      <td id=\"T_23eb7_row0_col0\" class=\"data row0 col0\" >$$D_s$$</td>\n",
       "      <td id=\"T_23eb7_row0_col1\" class=\"data row0 col1\" >0.1</td>\n",
       "      <td id=\"T_23eb7_row0_col2\" class=\"data row0 col2\" >m</td>\n",
       "    </tr>\n",
       "    <tr>\n",
       "      <td id=\"T_23eb7_row1_col0\" class=\"data row1 col0\" >$$t_s$$</td>\n",
       "      <td id=\"T_23eb7_row1_col1\" class=\"data row1 col1\" >0.2</td>\n",
       "      <td id=\"T_23eb7_row1_col2\" class=\"data row1 col2\" >m</td>\n",
       "    </tr>\n",
       "    <tr>\n",
       "      <td id=\"T_23eb7_row2_col0\" class=\"data row2 col0\" >$$t_f$$</td>\n",
       "      <td id=\"T_23eb7_row2_col1\" class=\"data row2 col1\" >0.15</td>\n",
       "      <td id=\"T_23eb7_row2_col2\" class=\"data row2 col2\" >m</td>\n",
       "    </tr>\n",
       "    <tr>\n",
       "      <td id=\"T_23eb7_row3_col0\" class=\"data row3 col0\" >$$R$$</td>\n",
       "      <td id=\"T_23eb7_row3_col1\" class=\"data row3 col1\" >10</td>\n",
       "      <td id=\"T_23eb7_row3_col2\" class=\"data row3 col2\" >Mbit/s</td>\n",
       "    </tr>\n",
       "    <tr>\n",
       "      <td id=\"T_23eb7_row4_col0\" class=\"data row4 col0\" >$$h_f$$</td>\n",
       "      <td id=\"T_23eb7_row4_col1\" class=\"data row4 col1\" >0.135</td>\n",
       "      <td id=\"T_23eb7_row4_col2\" class=\"data row4 col2\" >m</td>\n",
       "    </tr>\n",
       "    <tr>\n",
       "      <td id=\"T_23eb7_row5_col0\" class=\"data row5 col0\" >$$D_d$$</td>\n",
       "      <td id=\"T_23eb7_row5_col1\" class=\"data row5 col1\" >1</td>\n",
       "      <td id=\"T_23eb7_row5_col2\" class=\"data row5 col2\" >m</td>\n",
       "    </tr>\n",
       "    <tr>\n",
       "      <td id=\"T_23eb7_row6_col0\" class=\"data row6 col0\" >$$EN$$</td>\n",
       "      <td id=\"T_23eb7_row6_col1\" class=\"data row6 col1\" >10</td>\n",
       "      <td id=\"T_23eb7_row6_col2\" class=\"data row6 col2\" ></td>\n",
       "    </tr>\n",
       "    <tr>\n",
       "      <td id=\"T_23eb7_row7_col0\" class=\"data row7 col0\" >$$v$$</td>\n",
       "      <td id=\"T_23eb7_row7_col1\" class=\"data row7 col1\" >1</td>\n",
       "      <td id=\"T_23eb7_row7_col2\" class=\"data row7 col2\" >m/s</td>\n",
       "    </tr>\n",
       "  </tbody>\n",
       "</table>\n"
      ],
      "text/plain": [
       "<pandas.io.formats.style.Styler at 0x1e6b4ac5d30>"
      ]
     },
     "execution_count": 82,
     "metadata": {},
     "output_type": "execute_result"
    }
   ],
   "source": [
    "print_inputs(model, prob, namingfunc, mdao_in)"
   ]
  },
  {
   "cell_type": "code",
   "execution_count": 83,
   "id": "f6e20c2b-ee8b-4406-8f0b-6e835333d9bd",
   "metadata": {
    "execution": {
     "iopub.execute_input": "2022-07-11T03:53:19.315363Z",
     "iopub.status.busy": "2022-07-11T03:53:19.315363Z",
     "iopub.status.idle": "2022-07-11T03:53:19.340161Z",
     "shell.execute_reply": "2022-07-11T03:53:19.340161Z",
     "shell.execute_reply.started": "2022-07-11T03:53:19.315363Z"
    },
    "tags": []
   },
   "outputs": [
    {
     "data": {
      "text/html": [
       "<style type=\"text/css\">\n",
       "</style>\n",
       "<table id=\"T_dba48\">\n",
       "  <thead>\n",
       "  </thead>\n",
       "  <tbody>\n",
       "    <tr>\n",
       "      <td id=\"T_dba48_row0_col0\" class=\"data row0 col0\" >$$D_f$$</td>\n",
       "      <td id=\"T_dba48_row0_col1\" class=\"data row0 col1\" >3.712</td>\n",
       "      <td id=\"T_dba48_row0_col2\" class=\"data row0 col2\" >m</td>\n",
       "    </tr>\n",
       "    <tr>\n",
       "      <td id=\"T_dba48_row1_col0\" class=\"data row1 col0\" >$$d$$</td>\n",
       "      <td id=\"T_dba48_row1_col1\" class=\"data row1 col1\" >0.186</td>\n",
       "      <td id=\"T_dba48_row1_col2\" class=\"data row1 col2\" >m</td>\n",
       "    </tr>\n",
       "    <tr>\n",
       "      <td id=\"T_dba48_row2_col0\" class=\"data row2 col0\" >$$Vd$$</td>\n",
       "      <td id=\"T_dba48_row2_col1\" class=\"data row2 col1\" >1.584</td>\n",
       "      <td id=\"T_dba48_row2_col2\" class=\"data row2 col2\" >m³</td>\n",
       "    </tr>\n",
       "    <tr>\n",
       "      <td id=\"T_dba48_row3_col0\" class=\"data row3 col0\" >$$F_B$$</td>\n",
       "      <td id=\"T_dba48_row3_col1\" class=\"data row3 col1\" >1.591×10⁴</td>\n",
       "      <td id=\"T_dba48_row3_col2\" class=\"data row3 col2\" >N</td>\n",
       "    </tr>\n",
       "    <tr>\n",
       "      <td id=\"T_dba48_row4_col0\" class=\"data row4 col0\" >$$F_W$$</td>\n",
       "      <td id=\"T_dba48_row4_col1\" class=\"data row4 col1\" >1.591×10⁴</td>\n",
       "      <td id=\"T_dba48_row4_col2\" class=\"data row4 col2\" >kg·m/s²</td>\n",
       "    </tr>\n",
       "    <tr>\n",
       "      <td id=\"T_dba48_row5_col0\" class=\"data row5 col0\" >$$K_B$$</td>\n",
       "      <td id=\"T_dba48_row5_col1\" class=\"data row5 col1\" >0.339</td>\n",
       "      <td id=\"T_dba48_row5_col2\" class=\"data row5 col2\" >m</td>\n",
       "    </tr>\n",
       "    <tr>\n",
       "      <td id=\"T_dba48_row6_col0\" class=\"data row6 col0\" >$$K_G$$</td>\n",
       "      <td id=\"T_dba48_row6_col1\" class=\"data row6 col1\" >0.351</td>\n",
       "      <td id=\"T_dba48_row6_col2\" class=\"data row6 col2\" >m</td>\n",
       "    </tr>\n",
       "    <tr>\n",
       "      <td id=\"T_dba48_row7_col0\" class=\"data row7 col0\" >$$I$$</td>\n",
       "      <td id=\"T_dba48_row7_col1\" class=\"data row7 col1\" >9.319</td>\n",
       "      <td id=\"T_dba48_row7_col2\" class=\"data row7 col2\" >m⁴</td>\n",
       "    </tr>\n",
       "    <tr>\n",
       "      <td id=\"T_dba48_row8_col0\" class=\"data row8 col0\" >$$B_M$$</td>\n",
       "      <td id=\"T_dba48_row8_col1\" class=\"data row8 col1\" >5.882</td>\n",
       "      <td id=\"T_dba48_row8_col2\" class=\"data row8 col2\" >m</td>\n",
       "    </tr>\n",
       "    <tr>\n",
       "      <td id=\"T_dba48_row9_col0\" class=\"data row9 col0\" >$$G_M$$</td>\n",
       "      <td id=\"T_dba48_row9_col1\" class=\"data row9 col1\" >5.87</td>\n",
       "      <td id=\"T_dba48_row9_col2\" class=\"data row9 col2\" >m</td>\n",
       "    </tr>\n",
       "    <tr>\n",
       "      <td id=\"T_dba48_row10_col0\" class=\"data row10 col0\" >$$C_{33}$$</td>\n",
       "      <td id=\"T_dba48_row10_col1\" class=\"data row10 col1\" >1.087×10⁵</td>\n",
       "      <td id=\"T_dba48_row10_col2\" class=\"data row10 col2\" >kg/s²</td>\n",
       "    </tr>\n",
       "    <tr>\n",
       "      <td id=\"T_dba48_row11_col0\" class=\"data row11 col0\" >$$A_{33}$$</td>\n",
       "      <td id=\"T_dba48_row11_col1\" class=\"data row11 col1\" >8803.264</td>\n",
       "      <td id=\"T_dba48_row11_col2\" class=\"data row11 col2\" >kg</td>\n",
       "    </tr>\n",
       "    <tr>\n",
       "      <td id=\"T_dba48_row12_col0\" class=\"data row12 col0\" >$$\\omega_0$$</td>\n",
       "      <td id=\"T_dba48_row12_col1\" class=\"data row12 col1\" >5.212</td>\n",
       "      <td id=\"T_dba48_row12_col2\" class=\"data row12 col2\" >rad/s</td>\n",
       "    </tr>\n",
       "    <tr>\n",
       "      <td id=\"T_dba48_row13_col0\" class=\"data row13 col0\" >$$m_{platform}$$</td>\n",
       "      <td id=\"T_dba48_row13_col1\" class=\"data row13 col1\" >1621.745</td>\n",
       "      <td id=\"T_dba48_row13_col2\" class=\"data row13 col2\" >kg</td>\n",
       "    </tr>\n",
       "    <tr>\n",
       "      <td id=\"T_dba48_row14_col0\" class=\"data row14 col0\" >$$m_{solar}$$</td>\n",
       "      <td id=\"T_dba48_row14_col1\" class=\"data row14 col1\" >102.803</td>\n",
       "      <td id=\"T_dba48_row14_col2\" class=\"data row14 col2\" >kg</td>\n",
       "    </tr>\n",
       "    <tr>\n",
       "      <td id=\"T_dba48_row15_col0\" class=\"data row15 col0\" >$$m_{struct}$$</td>\n",
       "      <td id=\"T_dba48_row15_col1\" class=\"data row15 col1\" >1304.002</td>\n",
       "      <td id=\"T_dba48_row15_col2\" class=\"data row15 col2\" >kg</td>\n",
       "    </tr>\n",
       "    <tr>\n",
       "      <td id=\"T_dba48_row16_col0\" class=\"data row16 col0\" >$$t_d$$</td>\n",
       "      <td id=\"T_dba48_row16_col1\" class=\"data row16 col1\" >0.155</td>\n",
       "      <td id=\"T_dba48_row16_col2\" class=\"data row16 col2\" >m</td>\n",
       "    </tr>\n",
       "    <tr>\n",
       "      <td id=\"T_dba48_row17_col0\" class=\"data row17 col0\" >$$S_w$$</td>\n",
       "      <td id=\"T_dba48_row17_col1\" class=\"data row17 col1\" >14.501</td>\n",
       "      <td id=\"T_dba48_row17_col2\" class=\"data row17 col2\" >m²</td>\n",
       "    </tr>\n",
       "    <tr>\n",
       "      <td id=\"T_dba48_row18_col0\" class=\"data row18 col0\" >$$P_{move}$$</td>\n",
       "      <td id=\"T_dba48_row18_col1\" class=\"data row18 col1\" >9895.573</td>\n",
       "      <td id=\"T_dba48_row18_col2\" class=\"data row18 col2\" >W</td>\n",
       "    </tr>\n",
       "    <tr>\n",
       "      <td id=\"T_dba48_row19_col0\" class=\"data row19 col0\" >$$\\lambda$$</td>\n",
       "      <td id=\"T_dba48_row19_col1\" class=\"data row19 col1\" >0.136</td>\n",
       "      <td id=\"T_dba48_row19_col2\" class=\"data row19 col2\" >m</td>\n",
       "    </tr>\n",
       "    <tr>\n",
       "      <td id=\"T_dba48_row20_col0\" class=\"data row20 col0\" >$$L_{pt}$$</td>\n",
       "      <td id=\"T_dba48_row20_col1\" class=\"data row20 col1\" >-8.543e+00</td>\n",
       "      <td id=\"T_dba48_row20_col2\" class=\"data row20 col2\" ></td>\n",
       "    </tr>\n",
       "    <tr>\n",
       "      <td id=\"T_dba48_row21_col0\" class=\"data row21 col0\" >$$G_t$$</td>\n",
       "      <td id=\"T_dba48_row21_col1\" class=\"data row21 col1\" >10.055</td>\n",
       "      <td id=\"T_dba48_row21_col2\" class=\"data row21 col2\" ></td>\n",
       "    </tr>\n",
       "    <tr>\n",
       "      <td id=\"T_dba48_row22_col0\" class=\"data row22 col0\" >$$G_r$$</td>\n",
       "      <td id=\"T_dba48_row22_col1\" class=\"data row22 col1\" >26.273</td>\n",
       "      <td id=\"T_dba48_row22_col2\" class=\"data row22 col2\" ></td>\n",
       "    </tr>\n",
       "    <tr>\n",
       "      <td id=\"T_dba48_row23_col0\" class=\"data row23 col0\" >$$S$$</td>\n",
       "      <td id=\"T_dba48_row23_col1\" class=\"data row23 col1\" >3249.32</td>\n",
       "      <td id=\"T_dba48_row23_col2\" class=\"data row23 col2\" >km</td>\n",
       "    </tr>\n",
       "    <tr>\n",
       "      <td id=\"T_dba48_row24_col0\" class=\"data row24 col0\" >$$L_s$$</td>\n",
       "      <td id=\"T_dba48_row24_col1\" class=\"data row24 col1\" >1.115×10⁻¹⁷</td>\n",
       "      <td id=\"T_dba48_row24_col2\" class=\"data row24 col2\" ></td>\n",
       "    </tr>\n",
       "    <tr>\n",
       "      <td id=\"T_dba48_row25_col0\" class=\"data row25 col0\" >$$P_{comms}$$</td>\n",
       "      <td id=\"T_dba48_row25_col1\" class=\"data row25 col1\" >87.321</td>\n",
       "      <td id=\"T_dba48_row25_col2\" class=\"data row25 col2\" >W</td>\n",
       "    </tr>\n",
       "    <tr>\n",
       "      <td id=\"T_dba48_row26_col0\" class=\"data row26 col0\" >$$E_{move}$$</td>\n",
       "      <td id=\"T_dba48_row26_col1\" class=\"data row26 col1\" >9.896</td>\n",
       "      <td id=\"T_dba48_row26_col2\" class=\"data row26 col2\" >h·kW</td>\n",
       "    </tr>\n",
       "    <tr>\n",
       "      <td id=\"T_dba48_row27_col0\" class=\"data row27 col0\" >$$E_{hotel}$$</td>\n",
       "      <td id=\"T_dba48_row27_col1\" class=\"data row27 col1\" >1.2</td>\n",
       "      <td id=\"T_dba48_row27_col2\" class=\"data row27 col2\" >h·kW</td>\n",
       "    </tr>\n",
       "    <tr>\n",
       "      <td id=\"T_dba48_row28_col0\" class=\"data row28 col0\" >$$E_{comms}$$</td>\n",
       "      <td id=\"T_dba48_row28_col1\" class=\"data row28 col1\" >87.321</td>\n",
       "      <td id=\"T_dba48_row28_col2\" class=\"data row28 col2\" >W·h</td>\n",
       "    </tr>\n",
       "    <tr>\n",
       "      <td id=\"T_dba48_row29_col0\" class=\"data row29 col0\" >$$E_{service}$$</td>\n",
       "      <td id=\"T_dba48_row29_col1\" class=\"data row29 col1\" >1.9</td>\n",
       "      <td id=\"T_dba48_row29_col2\" class=\"data row29 col2\" >h·kW</td>\n",
       "    </tr>\n",
       "    <tr>\n",
       "      <td id=\"T_dba48_row30_col0\" class=\"data row30 col0\" >$$P_{service}$$</td>\n",
       "      <td id=\"T_dba48_row30_col1\" class=\"data row30 col1\" >158.333</td>\n",
       "      <td id=\"T_dba48_row30_col2\" class=\"data row30 col2\" >W</td>\n",
       "    </tr>\n",
       "    <tr>\n",
       "      <td id=\"T_dba48_row31_col0\" class=\"data row31 col0\" >$$E_{required}$$</td>\n",
       "      <td id=\"T_dba48_row31_col1\" class=\"data row31 col1\" >13.083</td>\n",
       "      <td id=\"T_dba48_row31_col2\" class=\"data row31 col2\" >h·kW</td>\n",
       "    </tr>\n",
       "    <tr>\n",
       "      <td id=\"T_dba48_row32_col0\" class=\"data row32 col0\" >$$E_{recharge}$$</td>\n",
       "      <td id=\"T_dba48_row32_col1\" class=\"data row32 col1\" >13.083</td>\n",
       "      <td id=\"T_dba48_row32_col2\" class=\"data row32 col2\" >h·kW</td>\n",
       "    </tr>\n",
       "    <tr>\n",
       "      <td id=\"T_dba48_row33_col0\" class=\"data row33 col0\" >$$P_{recharge}$$</td>\n",
       "      <td id=\"T_dba48_row33_col1\" class=\"data row33 col1\" >1090.241</td>\n",
       "      <td id=\"T_dba48_row33_col2\" class=\"data row33 col2\" >W</td>\n",
       "    </tr>\n",
       "    <tr>\n",
       "      <td id=\"T_dba48_row34_col0\" class=\"data row34 col0\" >$$A_{solar}$$</td>\n",
       "      <td id=\"T_dba48_row34_col1\" class=\"data row34 col1\" >10.28</td>\n",
       "      <td id=\"T_dba48_row34_col2\" class=\"data row34 col2\" >m²</td>\n",
       "    </tr>\n",
       "    <tr>\n",
       "      <td id=\"T_dba48_row35_col0\" class=\"data row35 col0\" >$$C$$</td>\n",
       "      <td id=\"T_dba48_row35_col1\" class=\"data row35 col1\" >21.988</td>\n",
       "      <td id=\"T_dba48_row35_col2\" class=\"data row35 col2\" >h·kW</td>\n",
       "    </tr>\n",
       "    <tr>\n",
       "      <td id=\"T_dba48_row36_col0\" class=\"data row36 col0\" >$$m_{batt}$$</td>\n",
       "      <td id=\"T_dba48_row36_col1\" class=\"data row36 col1\" >114.94</td>\n",
       "      <td id=\"T_dba48_row36_col2\" class=\"data row36 col2\" >kg</td>\n",
       "    </tr>\n",
       "  </tbody>\n",
       "</table>\n"
      ],
      "text/plain": [
       "<pandas.io.formats.style.Styler at 0x1e6b2cd9130>"
      ]
     },
     "execution_count": 83,
     "metadata": {},
     "output_type": "execute_result"
    }
   ],
   "source": [
    "print_outputs(model, prob, namingfunc, rounding=3)"
   ]
  },
  {
   "cell_type": "markdown",
   "id": "e167e8b3-be4b-48ac-8cd9-73543bcea007",
   "metadata": {
    "jp-MarkdownHeadingCollapsed": true,
    "tags": []
   },
   "source": [
    "## Graph of partitions (level 1) "
   ]
  },
  {
   "cell_type": "code",
   "execution_count": 58,
   "id": "61448414-9a42-4e93-be9d-e78a44c93d84",
   "metadata": {
    "execution": {
     "iopub.execute_input": "2022-07-08T02:55:34.762844Z",
     "iopub.status.busy": "2022-07-08T02:55:34.762844Z",
     "iopub.status.idle": "2022-07-08T02:55:34.776910Z",
     "shell.execute_reply": "2022-07-08T02:55:34.776910Z",
     "shell.execute_reply.started": "2022-07-08T02:55:34.762844Z"
    },
    "tags": []
   },
   "outputs": [],
   "source": [
    "from representations import draw"
   ]
  },
  {
   "cell_type": "code",
   "execution_count": 59,
   "id": "b19ac5c7-cda7-4927-8cd7-cd489cd4ff7d",
   "metadata": {
    "execution": {
     "iopub.execute_input": "2022-07-08T02:55:34.778843Z",
     "iopub.status.busy": "2022-07-08T02:55:34.778843Z",
     "iopub.status.idle": "2022-07-08T02:55:34.793827Z",
     "shell.execute_reply": "2022-07-08T02:55:34.792912Z",
     "shell.execute_reply.started": "2022-07-08T02:55:34.778843Z"
    },
    "tags": []
   },
   "outputs": [],
   "source": [
    "Ein_nopar, Eout_nopar = edges_to_Ein_Eout(edges_nopar)"
   ]
  },
  {
   "cell_type": "code",
   "execution_count": 60,
   "id": "57a9facc-8379-49bf-be85-d5c172cb75af",
   "metadata": {
    "execution": {
     "iopub.execute_input": "2022-07-08T02:55:34.794827Z",
     "iopub.status.busy": "2022-07-08T02:55:34.794827Z",
     "iopub.status.idle": "2022-07-08T02:55:34.809765Z",
     "shell.execute_reply": "2022-07-08T02:55:34.808759Z",
     "shell.execute_reply.started": "2022-07-08T02:55:34.794827Z"
    },
    "tags": []
   },
   "outputs": [],
   "source": [
    "srcs = sources(Ein_nopar, Eout_nopar)"
   ]
  },
  {
   "cell_type": "code",
   "execution_count": 61,
   "id": "1079d6ee-44c1-4636-b180-00902c17a377",
   "metadata": {
    "execution": {
     "iopub.execute_input": "2022-07-08T02:55:34.811442Z",
     "iopub.status.busy": "2022-07-08T02:55:34.810425Z",
     "iopub.status.idle": "2022-07-08T02:55:34.824685Z",
     "shell.execute_reply": "2022-07-08T02:55:34.824521Z",
     "shell.execute_reply.started": "2022-07-08T02:55:34.810425Z"
    },
    "tags": []
   },
   "outputs": [],
   "source": [
    "Ein_onlycouple = {comp: tuple(var for var in compvars if var not in srcs) for comp,compvars in Ein_nopar.items()}\n",
    "edges_nopar_nosrc = (Ein_onlycouple, Eout_nopar, {})"
   ]
  },
  {
   "cell_type": "code",
   "execution_count": 62,
   "id": "ffb01980-1308-47fe-8d3d-9a52960bd1af",
   "metadata": {
    "execution": {
     "iopub.execute_input": "2022-07-08T02:55:34.826724Z",
     "iopub.status.busy": "2022-07-08T02:55:34.826724Z",
     "iopub.status.idle": "2022-07-08T02:55:34.839963Z",
     "shell.execute_reply": "2022-07-08T02:55:34.839807Z",
     "shell.execute_reply.started": "2022-07-08T02:55:34.826724Z"
    },
    "tags": []
   },
   "outputs": [],
   "source": [
    "graphs = build_typedgraph(edges_nopar_nosrc, tree, nodetyperepr, exclude_unique_sources=False)"
   ]
  },
  {
   "cell_type": "code",
   "execution_count": 63,
   "id": "a1ad362e-ad1f-466a-b545-9bc6eb647c08",
   "metadata": {
    "execution": {
     "iopub.execute_input": "2022-07-08T02:55:34.842065Z",
     "iopub.status.busy": "2022-07-08T02:55:34.842065Z",
     "iopub.status.idle": "2022-07-08T02:55:34.855159Z",
     "shell.execute_reply": "2022-07-08T02:55:34.855159Z",
     "shell.execute_reply.started": "2022-07-08T02:55:34.842065Z"
    },
    "tags": []
   },
   "outputs": [],
   "source": [
    "import networkx as nx"
   ]
  },
  {
   "cell_type": "code",
   "execution_count": 64,
   "id": "06b70ab3-cce9-45bc-b49d-c5b99652ef6d",
   "metadata": {
    "execution": {
     "iopub.execute_input": "2022-07-08T02:55:34.856190Z",
     "iopub.status.busy": "2022-07-08T02:55:34.856190Z",
     "iopub.status.idle": "2022-07-08T02:55:35.618122Z",
     "shell.execute_reply": "2022-07-08T02:55:35.617125Z",
     "shell.execute_reply.started": "2022-07-08T02:55:34.856190Z"
    },
    "tags": []
   },
   "outputs": [
    {
     "ename": "NameError",
     "evalue": "name 'G' is not defined",
     "output_type": "error",
     "traceback": [
      "\u001b[1;31m---------------------------------------------------------------------------\u001b[0m",
      "\u001b[1;31mNameError\u001b[0m                                 Traceback (most recent call last)",
      "\u001b[1;32m~\\AppData\\Local\\Temp/ipykernel_43944/4024871685.py\u001b[0m in \u001b[0;36m<module>\u001b[1;34m\u001b[0m\n\u001b[1;32m----> 1\u001b[1;33m \u001b[0mpos\u001b[0m \u001b[1;33m=\u001b[0m \u001b[0mnx\u001b[0m\u001b[1;33m.\u001b[0m\u001b[0mplanar_layout\u001b[0m\u001b[1;33m(\u001b[0m\u001b[0mG\u001b[0m\u001b[1;33m)\u001b[0m\u001b[1;33m\u001b[0m\u001b[1;33m\u001b[0m\u001b[0m\n\u001b[0m",
      "\u001b[1;31mNameError\u001b[0m: name 'G' is not defined"
     ]
    }
   ],
   "source": [
    "pos = nx.planar_layout(G)"
   ]
  },
  {
   "cell_type": "code",
   "execution_count": null,
   "id": "bd26eb1b-d04b-4e1c-9dc0-73a36d75037b",
   "metadata": {
    "execution": {
     "iopub.status.busy": "2022-07-08T02:55:35.619121Z",
     "iopub.status.idle": "2022-07-08T02:55:35.619121Z",
     "shell.execute_reply": "2022-07-08T02:55:35.619121Z",
     "shell.execute_reply.started": "2022-07-08T02:55:35.619121Z"
    },
    "tags": []
   },
   "outputs": [],
   "source": [
    "level = 'root'\n",
    "G = graphs[level]\n",
    "var_names = [elt for elt in G.nodes() if elt.nodetype==VAR]\n",
    "node_shapes = {elt:'o' if elt in var_names else 's' for elt in G.nodes()}\n",
    "draw(G, node_shape='b', prog='fdp', latexlabels=False, figsize=(10,8));"
   ]
  },
  {
   "cell_type": "markdown",
   "id": "c04df068-bdec-4393-a671-ea99e4fb0654",
   "metadata": {},
   "source": [
    "# Rearrange"
   ]
  },
  {
   "cell_type": "code",
   "execution_count": 55,
   "id": "b566e9d9-ca85-40ff-99a5-24f34b7ff1f0",
   "metadata": {
    "execution": {
     "iopub.execute_input": "2022-07-11T03:58:15.231766Z",
     "iopub.status.busy": "2022-07-11T03:58:15.230664Z",
     "iopub.status.idle": "2022-07-11T03:58:15.244737Z",
     "shell.execute_reply": "2022-07-11T03:58:15.244737Z",
     "shell.execute_reply.started": "2022-07-11T03:58:15.231766Z"
    },
    "tags": []
   },
   "outputs": [],
   "source": [
    "edges_for_solving = copy_dicts(edges_nopar)"
   ]
  },
  {
   "cell_type": "code",
   "execution_count": 56,
   "id": "2a51c530-f2b3-4e3e-840f-b9ddb1d73057",
   "metadata": {
    "execution": {
     "iopub.execute_input": "2022-07-11T03:58:15.893179Z",
     "iopub.status.busy": "2022-07-11T03:58:15.893179Z",
     "iopub.status.idle": "2022-07-11T03:58:15.898439Z",
     "shell.execute_reply": "2022-07-11T03:58:15.898317Z",
     "shell.execute_reply.started": "2022-07-11T03:58:15.893179Z"
    },
    "tags": []
   },
   "outputs": [],
   "source": [
    "eqns = list(edges_for_solving[1].keys())\n",
    "allvrs = all_variables(*edges_for_solving)"
   ]
  },
  {
   "cell_type": "code",
   "execution_count": 57,
   "id": "4dab72b5-13e0-4906-b5ce-4c789cd56791",
   "metadata": {
    "execution": {
     "iopub.execute_input": "2022-07-11T03:58:16.154416Z",
     "iopub.status.busy": "2022-07-11T03:58:16.153506Z",
     "iopub.status.idle": "2022-07-11T03:58:16.162603Z",
     "shell.execute_reply": "2022-07-11T03:58:16.162603Z",
     "shell.execute_reply.started": "2022-07-11T03:58:16.154416Z"
    },
    "tags": []
   },
   "outputs": [],
   "source": [
    "graph_edges_minassign = all_edges(*edges_for_solving)"
   ]
  },
  {
   "cell_type": "code",
   "execution_count": 58,
   "id": "a3e2a666-caba-45c7-950c-5a0041597cea",
   "metadata": {
    "execution": {
     "iopub.execute_input": "2022-07-11T03:58:16.318990Z",
     "iopub.status.busy": "2022-07-11T03:58:16.318990Z",
     "iopub.status.idle": "2022-07-11T03:58:16.337998Z",
     "shell.execute_reply": "2022-07-11T03:58:16.336989Z",
     "shell.execute_reply.started": "2022-07-11T03:58:16.318990Z"
    },
    "tags": []
   },
   "outputs": [],
   "source": [
    "edges_left_right = list(dir_graph(graph_edges_minassign, eqns, {}))"
   ]
  },
  {
   "cell_type": "markdown",
   "id": "e2eb58ce-00be-4ce3-8bc5-32072c486df4",
   "metadata": {},
   "source": [
    "## Min arc assign"
   ]
  },
  {
   "cell_type": "code",
   "execution_count": 59,
   "id": "46b97c8a-ae2f-4669-814e-ee38e878c555",
   "metadata": {
    "execution": {
     "iopub.execute_input": "2022-07-11T03:58:16.702497Z",
     "iopub.status.busy": "2022-07-11T03:58:16.702497Z",
     "iopub.status.idle": "2022-07-11T03:58:16.714371Z",
     "shell.execute_reply": "2022-07-11T03:58:16.713865Z",
     "shell.execute_reply.started": "2022-07-11T03:58:16.702497Z"
    },
    "tags": []
   },
   "outputs": [],
   "source": [
    "min_assign_edges = edges_left_right"
   ]
  },
  {
   "cell_type": "code",
   "execution_count": 60,
   "id": "36f135bc-4a0a-4848-b5ff-ce1e22da200c",
   "metadata": {
    "execution": {
     "iopub.execute_input": "2022-07-11T03:58:16.857967Z",
     "iopub.status.busy": "2022-07-11T03:58:16.857018Z",
     "iopub.status.idle": "2022-07-11T03:58:16.871027Z",
     "shell.execute_reply": "2022-07-11T03:58:16.870038Z",
     "shell.execute_reply.started": "2022-07-11T03:58:16.857967Z"
    },
    "tags": []
   },
   "outputs": [],
   "source": [
    "not_input = [r'\\omega_0', 'E_{move}', 'A_{33}', 'B_M', 'K_G', 'I', 'E_{recharge}', 'm_{struct}']\n",
    "not_output = ['D_f', 'D_d', 'D_s', 't_s', 't_f', 't_d', 'P_{comms}', 'R'] #R"
   ]
  },
  {
   "cell_type": "code",
   "execution_count": 61,
   "id": "bd436822-d41d-4955-aff1-57161987dbad",
   "metadata": {
    "execution": {
     "iopub.execute_input": "2022-07-11T03:58:17.002160Z",
     "iopub.status.busy": "2022-07-11T03:58:17.001155Z",
     "iopub.status.idle": "2022-07-11T03:58:17.074127Z",
     "shell.execute_reply": "2022-07-11T03:58:17.074127Z",
     "shell.execute_reply.started": "2022-07-11T03:58:17.002160Z"
    },
    "tags": []
   },
   "outputs": [
    {
     "name": "stdout",
     "output_type": "stream",
     "text": [
      "Set parameter Username\n",
      "Academic license - for non-commercial use only - expires 2023-02-25\n"
     ]
    }
   ],
   "source": [
    "xsol,_ = min_arc_set_assign(min_assign_edges, allvrs, eqns, not_input, not_output)"
   ]
  },
  {
   "cell_type": "code",
   "execution_count": 62,
   "id": "f882964f-4c90-4893-9208-0eeba2eded6c",
   "metadata": {
    "execution": {
     "iopub.execute_input": "2022-07-11T03:58:17.151560Z",
     "iopub.status.busy": "2022-07-11T03:58:17.151560Z",
     "iopub.status.idle": "2022-07-11T03:58:17.169121Z",
     "shell.execute_reply": "2022-07-11T03:58:17.167842Z",
     "shell.execute_reply.started": "2022-07-11T03:58:17.151560Z"
    },
    "tags": []
   },
   "outputs": [],
   "source": [
    "selected = tuple((right, left) for left, right in edges_left_right if (left,right) in min_assign_edges and xsol[left, right] > 0.5)"
   ]
  },
  {
   "cell_type": "code",
   "execution_count": 63,
   "id": "84aa0379-40bc-4eca-a5e6-56f7b90e1a08",
   "metadata": {
    "execution": {
     "iopub.execute_input": "2022-07-11T03:58:17.319230Z",
     "iopub.status.busy": "2022-07-11T03:58:17.319230Z",
     "iopub.status.idle": "2022-07-11T03:58:17.324402Z",
     "shell.execute_reply": "2022-07-11T03:58:17.324229Z",
     "shell.execute_reply.started": "2022-07-11T03:58:17.319230Z"
    },
    "tags": []
   },
   "outputs": [
    {
     "data": {
      "text/plain": [
       "37"
      ]
     },
     "execution_count": 63,
     "metadata": {},
     "output_type": "execute_result"
    }
   ],
   "source": [
    "len(selected)"
   ]
  },
  {
   "cell_type": "code",
   "execution_count": 64,
   "id": "51b11ab1-e55f-4b70-a193-db96053b3b76",
   "metadata": {
    "execution": {
     "iopub.execute_input": "2022-07-11T03:58:17.549657Z",
     "iopub.status.busy": "2022-07-11T03:58:17.549657Z",
     "iopub.status.idle": "2022-07-11T03:58:17.560251Z",
     "shell.execute_reply": "2022-07-11T03:58:17.559340Z",
     "shell.execute_reply.started": "2022-07-11T03:58:17.549657Z"
    },
    "tags": []
   },
   "outputs": [],
   "source": [
    "# For topological sorting\n",
    "D = nx.DiGraph(dir_graph(edges_left_right, eqns, selected))\n",
    "minassign_order = sort_scc(D, lambda x: x in eqns)"
   ]
  },
  {
   "cell_type": "code",
   "execution_count": 65,
   "id": "ef1ed7af-3222-4159-84ff-8bb3ad6f8d78",
   "metadata": {
    "execution": {
     "iopub.execute_input": "2022-07-11T03:58:18.069255Z",
     "iopub.status.busy": "2022-07-11T03:58:18.069255Z",
     "iopub.status.idle": "2022-07-11T03:58:18.073332Z",
     "shell.execute_reply": "2022-07-11T03:58:18.073332Z",
     "shell.execute_reply.started": "2022-07-11T03:58:18.069255Z"
    },
    "tags": []
   },
   "outputs": [],
   "source": [
    "Ftree_mina = OrderedDict([(next(iter(comp)),'root') for comp in minassign_order])\n",
    "tree_mina = Ftree_mina, dict(), tree[2]"
   ]
  },
  {
   "cell_type": "code",
   "execution_count": 66,
   "id": "67f265d1-8227-44d3-8836-ce32edf5aeb2",
   "metadata": {
    "execution": {
     "iopub.execute_input": "2022-07-11T03:58:18.289918Z",
     "iopub.status.busy": "2022-07-11T03:58:18.288959Z",
     "iopub.status.idle": "2022-07-11T03:58:18.307203Z",
     "shell.execute_reply": "2022-07-11T03:58:18.306307Z",
     "shell.execute_reply.started": "2022-07-11T03:58:18.289918Z"
    },
    "tags": []
   },
   "outputs": [],
   "source": [
    "Ein, Eout, Rin = edges\n",
    "Eout_minassign = {}\n",
    "Ein_minassign = {}\n",
    "for comp,varname in selected:\n",
    "    Eout_minassign[comp] = (varname,)\n",
    "    Ein_minassign[comp] = tuple(varn for varn in chain(Ein[comp],Eout[comp]) if varn!=varname)\n",
    "edges_minassign = (Ein_minassign, Eout_minassign, Rin)\n",
    "edges_minassign_nopar = edges_no_param(model, edges_minassign)"
   ]
  },
  {
   "cell_type": "code",
   "execution_count": 67,
   "id": "a2e66b64-0029-4ad3-828a-1d56c33d9e7d",
   "metadata": {
    "execution": {
     "iopub.execute_input": "2022-07-11T03:58:18.471729Z",
     "iopub.status.busy": "2022-07-11T03:58:18.471729Z",
     "iopub.status.idle": "2022-07-11T03:58:20.100965Z",
     "shell.execute_reply": "2022-07-11T03:58:20.100965Z",
     "shell.execute_reply.started": "2022-07-11T03:58:18.471729Z"
    },
    "tags": []
   },
   "outputs": [
    {
     "data": {
      "image/png": "[encoded data removed]",
      "text/plain": [
       "<Figure size 1440x1080 with 1 Axes>"
      ]
     },
     "metadata": {
      "needs_background": "light"
     },
     "output_type": "display_data"
    }
   ],
   "source": [
    "_, ax = render_incidence(edges_minassign_nopar, tree_mina, namingfunc_hsm, figsize=(20,15), figname=\"pearl_minassign_hsm.png\", save=False)"
   ]
  },
  {
   "cell_type": "markdown",
   "id": "45cae474-71b9-480c-95be-738890bbe483",
   "metadata": {},
   "source": [
    "### Make new components"
   ]
  },
  {
   "cell_type": "code",
   "execution_count": 68,
   "id": "c5f091d3-4d60-4367-9aaa-05af2d3b7a1b",
   "metadata": {
    "execution": {
     "iopub.execute_input": "2022-07-11T03:58:20.622955Z",
     "iopub.status.busy": "2022-07-11T03:58:20.622955Z",
     "iopub.status.idle": "2022-07-11T03:58:21.086100Z",
     "shell.execute_reply": "2022-07-11T03:58:21.085215Z",
     "shell.execute_reply.started": "2022-07-11T03:58:20.622955Z"
    },
    "tags": []
   },
   "outputs": [],
   "source": [
    "newcomps = transform_components(edges, edges_minassign, model.components, model.idmapping)"
   ]
  },
  {
   "cell_type": "code",
   "execution_count": 138,
   "id": "1cd8559b-098c-4446-9422-35aeea441ade",
   "metadata": {
    "execution": {
     "iopub.execute_input": "2022-07-11T04:07:09.247513Z",
     "iopub.status.busy": "2022-07-11T04:07:09.247513Z",
     "iopub.status.idle": "2022-07-11T04:07:09.255119Z",
     "shell.execute_reply": "2022-07-11T04:07:09.255119Z",
     "shell.execute_reply.started": "2022-07-11T04:07:09.247513Z"
    }
   },
   "outputs": [
    {
     "data": {
      "text/plain": [
       "[(('D_f', '\\\\alpha'), 0, ('A_{solar}',), '-0.785398163397448*\\\\alpha*D_f**2 + 0.785398163397448*D_f**2'),\n",
       " (('t_s', 'D_d', 'D_f', 't_d', 'D_s', 'Vd'), 2, ('h_f',), '-D_d**2*t_d/D_f**2 - D_s**2*t_s/D_f**2 + 4*Vd/(pi*D_f**2)'),\n",
       " (('\\\\rho_w', 'F_B', 'g'), 3, ('Vd',), 'F_B/(\\\\rho_w*g)'),\n",
       " (('F_W',), 4, ('F_B',), 'F_W'),\n",
       " (('m_{platform}', 'g'), 13, ('F_W',), 'g*m_{platform}'),\n",
       " (('m_{batt}', 'm_{solar}', 'm_{comms}', 'm_{prop}', 'm_{struct}'), 15, ('m_{platform}',), 'm_{comms} + m_{prop} + m_{batt} + m_{solar} + m_{struct}'),\n",
       " (('\\\\rho_h', '\\\\rho', 'D_s', 't_f', 't_s', 'D_d', 'D_f', 't_d'), 16, ('m_{struct}',), '\\\\rho*pi*D_f**2*t_f/4 + \\\\rho*pi*D_s**2*t_s/4 + \\\\rho_h*pi*D_d**2*t_d/4'),\n",
       " (('\\\\rho_w', 'P_{move}', '\\\\eta_m', 'C_d', 'S_w'), 18, ('v',), '2**(1/3)*(\\\\eta_m*P_{move}/(C_d*\\\\rho_w*S_w))**(1/3)'),\n",
       " (('k', 'R', 'L_s', 'T_s', 'G_r', 'L_a', 'G_t', 'L_p', 'P_{comms}', 'L_l'), 25, ('EN',), 'L_a*L_l*L_p*G_r*G_t*L_s*P_{comms}/(T_s*k*R)'),\n",
       " (('E_{move}', 't_{move}'), 26, ('P_{move}',), 'E_{move}/t_{move}'),\n",
       " (('E_{service}', 'E_{required}', 'E_{comms}', 'E_{hotel}'), 31, ('E_{move}',), '-E_{comms} - E_{hotel} + E_{required} - E_{service}'),\n",
       " (('E_{recharge}',), 32, ('E_{required}',), 'E_{recharge}'),\n",
       " (('t_{recharge}', 'P_{recharge}'), 33, ('E_{recharge}',), 't_{recharge}*P_{recharge}'),\n",
       " (('A_{solar}', '\\\\theta', 'd_{deg}', '\\\\phi_s', 'I_{deg}', 'L_{solar}', '\\\\eta_s'), 34, ('P_{recharge}',), 'I_{deg}*\\\\eta_s*\\\\phi_s*A_{solar}*(1 - d_{deg})**L_{solar}*cos(\\\\theta)')]"
      ]
     },
     "execution_count": 138,
     "metadata": {},
     "output_type": "execute_result"
    }
   ],
   "source": [
    "newcomps"
   ]
  },
  {
   "cell_type": "code",
   "execution_count": 92,
   "id": "5221fb01-37bf-4b81-a4a6-30d8733292b9",
   "metadata": {
    "execution": {
     "iopub.execute_input": "2022-07-11T04:00:28.830537Z",
     "iopub.status.busy": "2022-07-11T04:00:28.830537Z",
     "iopub.status.idle": "2022-07-11T04:00:28.848291Z",
     "shell.execute_reply": "2022-07-11T04:00:28.848291Z",
     "shell.execute_reply.started": "2022-07-11T04:00:28.830537Z"
    },
    "tags": []
   },
   "outputs": [
    {
     "data": {
      "text/plain": [
       "(('t_s', 'D_d', 'D_f', 't_d', 'h_f', 'D_s'), 17, ('S_w',), 'pi*D_s*t_s + pi*(D_d**2/2 + D_d*t_d - D_s**2/4) + pi*(D_f**2/4 + D_f*h_f - D_s**2/4)')"
      ]
     },
     "execution_count": 92,
     "metadata": {},
     "output_type": "execute_result"
    }
   ],
   "source": [
    "model.components[17]"
   ]
  },
  {
   "cell_type": "markdown",
   "id": "db8cbad8-aeb6-407a-86d5-55618c0a76e0",
   "metadata": {},
   "source": [
    "## Optimization"
   ]
  },
  {
   "cell_type": "code",
   "execution_count": 70,
   "id": "b5a1fe8c-30cc-4599-94f0-be3196abd293",
   "metadata": {
    "execution": {
     "iopub.execute_input": "2022-07-11T03:58:24.020458Z",
     "iopub.status.busy": "2022-07-11T03:58:24.020458Z",
     "iopub.status.idle": "2022-07-11T03:58:24.035992Z",
     "shell.execute_reply": "2022-07-11T03:58:24.035193Z",
     "shell.execute_reply.started": "2022-07-11T03:58:24.020458Z"
    },
    "tags": []
   },
   "outputs": [],
   "source": [
    "#opt = SolverRef('opt', model, 'opt')\n",
    "addobj(m, mtot) # for optimization make sure to add OPT in model\n",
    "addineq(m, hf-0.9*tf)\n",
    "addineq(m, Ds-0.9*Df)\n",
    "addineq(m, Ds-0.9*Dd)\n",
    "addineq(m, -P_move)\n",
    "solvefor = [tf, ts, td, Ds, Dd, Df]"
   ]
  },
  {
   "cell_type": "code",
   "execution_count": 94,
   "id": "7be014bf-1367-4fa0-afc6-243acc44dc5e",
   "metadata": {
    "execution": {
     "iopub.execute_input": "2022-07-11T04:01:49.107335Z",
     "iopub.status.busy": "2022-07-11T04:01:49.107335Z",
     "iopub.status.idle": "2022-07-11T04:01:49.126376Z",
     "shell.execute_reply": "2022-07-11T04:01:49.126376Z",
     "shell.execute_reply.started": "2022-07-11T04:01:49.107335Z"
    }
   },
   "outputs": [],
   "source": [
    "addineq(m, Ds-0.9*Dd)"
   ]
  },
  {
   "cell_type": "code",
   "execution_count": 72,
   "id": "1d567fc8-d362-4d1f-9dba-165ad48f56ce",
   "metadata": {
    "execution": {
     "iopub.execute_input": "2022-07-11T03:58:42.557176Z",
     "iopub.status.busy": "2022-07-11T03:58:42.556075Z",
     "iopub.status.idle": "2022-07-11T03:58:42.573988Z",
     "shell.execute_reply": "2022-07-11T03:58:42.573066Z",
     "shell.execute_reply.started": "2022-07-11T03:58:42.557176Z"
    },
    "tags": []
   },
   "outputs": [],
   "source": [
    "varoptions = {tf:[0.1,10], ts:[0.1,10], td:[0.1,10], Ds:[0.1,10], Dd:[0.1,10], Df:[0.1,10]}"
   ]
  },
  {
   "cell_type": "code",
   "execution_count": 114,
   "id": "1fd0f5d3-e4c0-4752-a297-9ff243497b25",
   "metadata": {
    "execution": {
     "iopub.execute_input": "2022-07-11T04:03:32.924398Z",
     "iopub.status.busy": "2022-07-11T04:03:32.924398Z",
     "iopub.status.idle": "2022-07-11T04:03:32.936403Z",
     "shell.execute_reply": "2022-07-11T04:03:32.936403Z",
     "shell.execute_reply.started": "2022-07-11T04:03:32.924398Z"
    },
    "tags": []
   },
   "outputs": [],
   "source": [
    "Ein,Eout,Rin = edges_minassign\n",
    "Ein.update({37: ('m_{platform}',), 38: ('t_f','h_f'), 39: ('D_s','D_f'), 40: ('P_{move}',), 41:('D_s','D_d')}) \n",
    "Eout.update({37: (None,), 38: (None,), 39: (None,), 40:(None,), 41:(None,)})"
   ]
  },
  {
   "cell_type": "code",
   "execution_count": 115,
   "id": "822c2551-cff3-4ec6-8fc2-1d5a0cbea85e",
   "metadata": {
    "execution": {
     "iopub.execute_input": "2022-07-11T04:03:33.098213Z",
     "iopub.status.busy": "2022-07-11T04:03:33.097216Z",
     "iopub.status.idle": "2022-07-11T04:03:33.106388Z",
     "shell.execute_reply": "2022-07-11T04:03:33.106388Z",
     "shell.execute_reply.started": "2022-07-11T04:03:33.098213Z"
    },
    "tags": []
   },
   "outputs": [],
   "source": [
    "Ftree = tree_mina[0]\n",
    "Ftree[37] = 'root'\n",
    "Ftree[38] = 'root'\n",
    "Ftree[39] = 'root'\n",
    "Ftree[40] = 'root'\n",
    "Ftree[41] = 'root'"
   ]
  },
  {
   "cell_type": "code",
   "execution_count": 116,
   "id": "b584b754-0bdb-4b0b-a3b9-58a619574875",
   "metadata": {
    "execution": {
     "iopub.execute_input": "2022-07-11T04:03:33.293947Z",
     "iopub.status.busy": "2022-07-11T04:03:33.293947Z",
     "iopub.status.idle": "2022-07-11T04:03:33.308040Z",
     "shell.execute_reply": "2022-07-11T04:03:33.308040Z",
     "shell.execute_reply.started": "2022-07-11T04:03:33.293947Z"
    },
    "tags": []
   },
   "outputs": [],
   "source": [
    "tree_mina_opt = (tree_mina[0], {}, {elt.varid:'root' for elt in solvefor})\n",
    "model.var_options = {elt.varid:var for elt,var in varoptions.items()}"
   ]
  },
  {
   "cell_type": "code",
   "execution_count": 117,
   "id": "82160c33-5a99-48ce-afd8-7f7cd60b291f",
   "metadata": {
    "execution": {
     "iopub.execute_input": "2022-07-11T04:03:33.483068Z",
     "iopub.status.busy": "2022-07-11T04:03:33.482144Z",
     "iopub.status.idle": "2022-07-11T04:03:33.496177Z",
     "shell.execute_reply": "2022-07-11T04:03:33.496177Z",
     "shell.execute_reply.started": "2022-07-11T04:03:33.483068Z"
    },
    "tags": []
   },
   "outputs": [],
   "source": [
    "model.solvers_options['root'] = {'type': OPT, 'disp':True, 'optimizer': 'SLSQP', 'maxiter':200}"
   ]
  },
  {
   "cell_type": "code",
   "execution_count": 118,
   "id": "d0b70436-da58-4b73-b13b-b53c282ced01",
   "metadata": {
    "execution": {
     "iopub.execute_input": "2022-07-11T04:03:33.662779Z",
     "iopub.status.busy": "2022-07-11T04:03:33.662779Z",
     "iopub.status.idle": "2022-07-11T04:03:33.682463Z",
     "shell.execute_reply": "2022-07-11T04:03:33.681961Z",
     "shell.execute_reply.started": "2022-07-11T04:03:33.662779Z"
    },
    "tags": []
   },
   "outputs": [],
   "source": [
    "comp_options = model.comp_options\n",
    "var_options = model.var_options\n",
    "solvers_options = model.solvers_options\n",
    "components = model.components\n",
    "idmapping = model.idmapping # map from str to Var\n",
    "nodetyperepr = model.nametyperepr\n",
    "sequence = order_from_tree(tree_mina_opt[0], tree_mina_opt[1], edges_minassign[1])\n",
    "solvers_options = default_solver_options(tree_mina_opt, solvers_options)\n",
    "wf = mdao_workflow(sequence, solvers_options, comp_options, var_options)"
   ]
  },
  {
   "cell_type": "code",
   "execution_count": 119,
   "id": "f6249fee-894f-45a0-a456-d883a6ad42a5",
   "metadata": {
    "execution": {
     "iopub.execute_input": "2022-07-11T04:03:33.913324Z",
     "iopub.status.busy": "2022-07-11T04:03:33.913324Z",
     "iopub.status.idle": "2022-07-11T04:03:33.932250Z",
     "shell.execute_reply": "2022-07-11T04:03:33.931575Z",
     "shell.execute_reply.started": "2022-07-11T04:03:33.913324Z"
    },
    "tags": []
   },
   "outputs": [],
   "source": [
    "prob, mdao_in, groups, namingfunc = model_to_problem(model, formulation=(edges_minassign, tree_mina_opt), components=model.components+newcomps)"
   ]
  },
  {
   "cell_type": "code",
   "execution_count": 120,
   "id": "5c8ec60b-409d-485b-a9ae-7b5faa5ba789",
   "metadata": {
    "execution": {
     "iopub.execute_input": "2022-07-11T04:03:34.847472Z",
     "iopub.status.busy": "2022-07-11T04:03:34.847472Z",
     "iopub.status.idle": "2022-07-11T04:03:34.866151Z",
     "shell.execute_reply": "2022-07-11T04:03:34.865185Z",
     "shell.execute_reply.started": "2022-07-11T04:03:34.847472Z"
    },
    "tags": []
   },
   "outputs": [],
   "source": [
    "prob.set_val('t_f',0.15)\n",
    "prob.set_val('t_s',0.2)\n",
    "prob.set_val('t_d',0.011)\n",
    "prob.set_val('D_f', 3.713)\n",
    "prob.set_val('D_s', 0.1)\n",
    "prob.set_val('D_d', 1.)\n",
    "prob.set_val('P_comms', 87.312)"
   ]
  },
  {
   "cell_type": "code",
   "execution_count": 121,
   "id": "6a940bd3-67dd-4c0f-8eb9-c7d9dbe4234d",
   "metadata": {
    "execution": {
     "iopub.execute_input": "2022-07-11T04:03:36.568499Z",
     "iopub.status.busy": "2022-07-11T04:03:36.568499Z",
     "iopub.status.idle": "2022-07-11T04:03:36.689497Z",
     "shell.execute_reply": "2022-07-11T04:03:36.688586Z",
     "shell.execute_reply.started": "2022-07-11T04:03:36.568499Z"
    },
    "tags": []
   },
   "outputs": [],
   "source": [
    "prob.run_model()"
   ]
  },
  {
   "cell_type": "code",
   "execution_count": 129,
   "id": "dee9805e-f6aa-4983-b362-35fb588eaec1",
   "metadata": {
    "execution": {
     "iopub.execute_input": "2022-07-11T04:04:17.775679Z",
     "iopub.status.busy": "2022-07-11T04:04:17.775679Z",
     "iopub.status.idle": "2022-07-11T04:04:17.792063Z",
     "shell.execute_reply": "2022-07-11T04:04:17.791452Z",
     "shell.execute_reply.started": "2022-07-11T04:04:17.775679Z"
    },
    "tags": []
   },
   "outputs": [
    {
     "name": "stdout",
     "output_type": "stream",
     "text": [
      "----------------\n",
      "Design Variables\n",
      "----------------\n",
      "name  val           size  \n",
      "----  ------------  ---- \n",
      "t_f   [0.1]         1     \n",
      "t_s   [9.99999998]  1     \n",
      "t_d   [0.1]         1     \n",
      "D_s   [0.20348112]  1     \n",
      "D_d   [0.22609182]  1     \n",
      "D_f   [1.83212751]  1     \n",
      "\n",
      "-----------\n",
      "Constraints\n",
      "-----------\n",
      "name   val                size  lower   upper  equals  \n",
      "-----  -----------------  ----  ------  -----  ------ \n",
      "neq38  [6.00600809e-07]   1     -1e+30  0.0    None    \n",
      "neq39  [-1.44543364]      1     -1e+30  0.0    None    \n",
      "neq40  [0.00063404]       1     -1e+30  0.0    None    \n",
      "neq41  [-1.52133033e-06]  1     -1e+30  0.0    None    \n",
      "\n",
      "----------\n",
      "Objectives\n",
      "----------\n",
      "name   val             size  \n",
      "-----  --------------  ---- \n",
      "obj37  [579.84642186]  1     \n",
      "\n"
     ]
    }
   ],
   "source": [
    "prob.list_problem_vars(cons_opts=['lower', 'upper', 'equals'])"
   ]
  },
  {
   "cell_type": "code",
   "execution_count": 130,
   "id": "8f32a6c8-7396-436d-b294-972f26194207",
   "metadata": {
    "execution": {
     "iopub.execute_input": "2022-07-11T04:04:29.096668Z",
     "iopub.status.busy": "2022-07-11T04:04:29.095598Z",
     "iopub.status.idle": "2022-07-11T04:04:29.710477Z",
     "shell.execute_reply": "2022-07-11T04:04:29.710477Z",
     "shell.execute_reply.started": "2022-07-11T04:04:29.096668Z"
    },
    "tags": []
   },
   "outputs": [
    {
     "name": "stdout",
     "output_type": "stream",
     "text": [
      "Positive directional derivative for linesearch    (Exit mode 8)\n",
      "            Current function value: 579.8464218593278\n",
      "            Iterations: 5\n",
      "            Function evaluations: 1\n",
      "            Gradient evaluations: 1\n",
      "Optimization FAILED.\n",
      "Positive directional derivative for linesearch\n",
      "-----------------------------------\n"
     ]
    },
    {
     "data": {
      "text/plain": [
       "True"
      ]
     },
     "execution_count": 130,
     "metadata": {},
     "output_type": "execute_result"
    }
   ],
   "source": [
    "prob.run_driver()"
   ]
  },
  {
   "cell_type": "code",
   "execution_count": 131,
   "id": "48bb98da-c1b2-472f-b997-d071f0e2eef8",
   "metadata": {
    "execution": {
     "iopub.execute_input": "2022-07-11T04:04:30.832409Z",
     "iopub.status.busy": "2022-07-11T04:04:30.832409Z",
     "iopub.status.idle": "2022-07-11T04:04:30.847513Z",
     "shell.execute_reply": "2022-07-11T04:04:30.847513Z",
     "shell.execute_reply.started": "2022-07-11T04:04:30.832409Z"
    },
    "tags": []
   },
   "outputs": [],
   "source": [
    "#prob.set_val('m_platform', 4600)\n",
    "#prob.set_val('D_f', 2)"
   ]
  },
  {
   "cell_type": "code",
   "execution_count": 132,
   "id": "d1266b1e-ea01-42c3-ad96-91c0284aabd6",
   "metadata": {
    "execution": {
     "iopub.execute_input": "2022-07-11T04:04:31.265880Z",
     "iopub.status.busy": "2022-07-11T04:04:31.265880Z",
     "iopub.status.idle": "2022-07-11T04:04:31.284036Z",
     "shell.execute_reply": "2022-07-11T04:04:31.284036Z",
     "shell.execute_reply.started": "2022-07-11T04:04:31.265880Z"
    },
    "tags": []
   },
   "outputs": [],
   "source": [
    "#prob.set_val('P_comms', 10)"
   ]
  },
  {
   "cell_type": "code",
   "execution_count": 133,
   "id": "c64d5ed7-1843-493d-8eaa-4504154f75ed",
   "metadata": {
    "execution": {
     "iopub.execute_input": "2022-07-11T04:04:31.708659Z",
     "iopub.status.busy": "2022-07-11T04:04:31.707622Z",
     "iopub.status.idle": "2022-07-11T04:04:31.736992Z",
     "shell.execute_reply": "2022-07-11T04:04:31.736992Z",
     "shell.execute_reply.started": "2022-07-11T04:04:31.708659Z"
    },
    "tags": []
   },
   "outputs": [],
   "source": [
    "prob.run_model()"
   ]
  },
  {
   "cell_type": "code",
   "execution_count": 134,
   "id": "7ac414e2-02ad-4d61-97ed-54cbb9835dbd",
   "metadata": {
    "execution": {
     "iopub.execute_input": "2022-07-11T04:04:32.671101Z",
     "iopub.status.busy": "2022-07-11T04:04:32.670058Z",
     "iopub.status.idle": "2022-07-11T04:04:32.688023Z",
     "shell.execute_reply": "2022-07-11T04:04:32.687021Z",
     "shell.execute_reply.started": "2022-07-11T04:04:32.671101Z"
    },
    "tags": []
   },
   "outputs": [
    {
     "data": {
      "text/html": [
       "<style type=\"text/css\">\n",
       "</style>\n",
       "<table id=\"T_1ba96\">\n",
       "  <thead>\n",
       "  </thead>\n",
       "  <tbody>\n",
       "    <tr>\n",
       "      <td id=\"T_1ba96_row0_col0\" class=\"data row0 col0\" >$$D_s$$</td>\n",
       "      <td id=\"T_1ba96_row0_col1\" class=\"data row0 col1\" >0.203</td>\n",
       "      <td id=\"T_1ba96_row0_col2\" class=\"data row0 col2\" >m</td>\n",
       "    </tr>\n",
       "    <tr>\n",
       "      <td id=\"T_1ba96_row1_col0\" class=\"data row1 col0\" >$$t_f$$</td>\n",
       "      <td id=\"T_1ba96_row1_col1\" class=\"data row1 col1\" >0.1</td>\n",
       "      <td id=\"T_1ba96_row1_col2\" class=\"data row1 col2\" >m</td>\n",
       "    </tr>\n",
       "    <tr>\n",
       "      <td id=\"T_1ba96_row2_col0\" class=\"data row2 col0\" >$$t_d$$</td>\n",
       "      <td id=\"T_1ba96_row2_col1\" class=\"data row2 col1\" >0.1</td>\n",
       "      <td id=\"T_1ba96_row2_col2\" class=\"data row2 col2\" >m</td>\n",
       "    </tr>\n",
       "    <tr>\n",
       "      <td id=\"T_1ba96_row3_col0\" class=\"data row3 col0\" >$$t_s$$</td>\n",
       "      <td id=\"T_1ba96_row3_col1\" class=\"data row3 col1\" >10</td>\n",
       "      <td id=\"T_1ba96_row3_col2\" class=\"data row3 col2\" >m</td>\n",
       "    </tr>\n",
       "    <tr>\n",
       "      <td id=\"T_1ba96_row4_col0\" class=\"data row4 col0\" >$$P_{comms}$$</td>\n",
       "      <td id=\"T_1ba96_row4_col1\" class=\"data row4 col1\" >87.312</td>\n",
       "      <td id=\"T_1ba96_row4_col2\" class=\"data row4 col2\" >W</td>\n",
       "    </tr>\n",
       "    <tr>\n",
       "      <td id=\"T_1ba96_row5_col0\" class=\"data row5 col0\" >$$R$$</td>\n",
       "      <td id=\"T_1ba96_row5_col1\" class=\"data row5 col1\" >10</td>\n",
       "      <td id=\"T_1ba96_row5_col2\" class=\"data row5 col2\" >Mbit/s</td>\n",
       "    </tr>\n",
       "    <tr>\n",
       "      <td id=\"T_1ba96_row6_col0\" class=\"data row6 col0\" >$$D_f$$</td>\n",
       "      <td id=\"T_1ba96_row6_col1\" class=\"data row6 col1\" >1.832</td>\n",
       "      <td id=\"T_1ba96_row6_col2\" class=\"data row6 col2\" >m</td>\n",
       "    </tr>\n",
       "    <tr>\n",
       "      <td id=\"T_1ba96_row7_col0\" class=\"data row7 col0\" >$$D_d$$</td>\n",
       "      <td id=\"T_1ba96_row7_col1\" class=\"data row7 col1\" >0.226</td>\n",
       "      <td id=\"T_1ba96_row7_col2\" class=\"data row7 col2\" >m</td>\n",
       "    </tr>\n",
       "  </tbody>\n",
       "</table>\n"
      ],
      "text/plain": [
       "<pandas.io.formats.style.Styler at 0x2e272ef6400>"
      ]
     },
     "execution_count": 134,
     "metadata": {},
     "output_type": "execute_result"
    }
   ],
   "source": [
    "print_inputs(model, prob, namingfunc, mdao_in, filterparam=True)"
   ]
  },
  {
   "cell_type": "code",
   "execution_count": 139,
   "id": "05cc81f1-52f5-4e97-a833-85cc2f7a1dfa",
   "metadata": {
    "execution": {
     "iopub.execute_input": "2022-07-11T04:07:34.669265Z",
     "iopub.status.busy": "2022-07-11T04:07:34.669265Z",
     "iopub.status.idle": "2022-07-11T04:07:34.674266Z",
     "shell.execute_reply": "2022-07-11T04:07:34.674266Z",
     "shell.execute_reply.started": "2022-07-11T04:07:34.669265Z"
    }
   },
   "outputs": [
    {
     "data": {
      "text/plain": [
       "array([2.43597891])"
      ]
     },
     "execution_count": 139,
     "metadata": {},
     "output_type": "execute_result"
    }
   ],
   "source": [
    "prob.get_val('EN')"
   ]
  },
  {
   "cell_type": "code",
   "execution_count": 135,
   "id": "c07e29df-0f05-4e95-b561-51fbb9409af9",
   "metadata": {
    "execution": {
     "iopub.execute_input": "2022-07-11T04:04:33.035605Z",
     "iopub.status.busy": "2022-07-11T04:04:33.035605Z",
     "iopub.status.idle": "2022-07-11T04:04:33.049453Z",
     "shell.execute_reply": "2022-07-11T04:04:33.049453Z",
     "shell.execute_reply.started": "2022-07-11T04:04:33.035605Z"
    },
    "tags": []
   },
   "outputs": [
    {
     "data": {
      "text/html": [
       "<style type=\"text/css\">\n",
       "</style>\n",
       "<table id=\"T_af7bd\">\n",
       "  <thead>\n",
       "  </thead>\n",
       "  <tbody>\n",
       "    <tr>\n",
       "      <td id=\"T_af7bd_row0_col0\" class=\"data row0 col0\" >$$D_f$$</td>\n",
       "      <td id=\"T_af7bd_row0_col1\" class=\"data row0 col1\" >1.832</td>\n",
       "      <td id=\"T_af7bd_row0_col2\" class=\"data row0 col2\" >m</td>\n",
       "    </tr>\n",
       "    <tr>\n",
       "      <td id=\"T_af7bd_row1_col0\" class=\"data row1 col0\" >$$d$$</td>\n",
       "      <td id=\"T_af7bd_row1_col1\" class=\"data row1 col1\" >0.092</td>\n",
       "      <td id=\"T_af7bd_row1_col2\" class=\"data row1 col2\" >m</td>\n",
       "    </tr>\n",
       "    <tr>\n",
       "      <td id=\"T_af7bd_row2_col0\" class=\"data row2 col0\" >$$Vd$$</td>\n",
       "      <td id=\"T_af7bd_row2_col1\" class=\"data row2 col1\" >0.566</td>\n",
       "      <td id=\"T_af7bd_row2_col2\" class=\"data row2 col2\" >m³</td>\n",
       "    </tr>\n",
       "    <tr>\n",
       "      <td id=\"T_af7bd_row3_col0\" class=\"data row3 col0\" >$$F_B$$</td>\n",
       "      <td id=\"T_af7bd_row3_col1\" class=\"data row3 col1\" >5688.293</td>\n",
       "      <td id=\"T_af7bd_row3_col2\" class=\"data row3 col2\" >N</td>\n",
       "    </tr>\n",
       "    <tr>\n",
       "      <td id=\"T_af7bd_row4_col0\" class=\"data row4 col0\" >$$F_W$$</td>\n",
       "      <td id=\"T_af7bd_row4_col1\" class=\"data row4 col1\" >5688.293</td>\n",
       "      <td id=\"T_af7bd_row4_col2\" class=\"data row4 col2\" >kg·m/s²</td>\n",
       "    </tr>\n",
       "    <tr>\n",
       "      <td id=\"T_af7bd_row5_col0\" class=\"data row5 col0\" >$$K_B$$</td>\n",
       "      <td id=\"T_af7bd_row5_col1\" class=\"data row5 col1\" >5.423</td>\n",
       "      <td id=\"T_af7bd_row5_col2\" class=\"data row5 col2\" >m</td>\n",
       "    </tr>\n",
       "    <tr>\n",
       "      <td id=\"T_af7bd_row6_col0\" class=\"data row6 col0\" >$$K_G$$</td>\n",
       "      <td id=\"T_af7bd_row6_col1\" class=\"data row6 col1\" >5.462</td>\n",
       "      <td id=\"T_af7bd_row6_col2\" class=\"data row6 col2\" >m</td>\n",
       "    </tr>\n",
       "    <tr>\n",
       "      <td id=\"T_af7bd_row7_col0\" class=\"data row7 col0\" >$$I$$</td>\n",
       "      <td id=\"T_af7bd_row7_col1\" class=\"data row7 col1\" >0.553</td>\n",
       "      <td id=\"T_af7bd_row7_col2\" class=\"data row7 col2\" >m⁴</td>\n",
       "    </tr>\n",
       "    <tr>\n",
       "      <td id=\"T_af7bd_row8_col0\" class=\"data row8 col0\" >$$B_M$$</td>\n",
       "      <td id=\"T_af7bd_row8_col1\" class=\"data row8 col1\" >0.976</td>\n",
       "      <td id=\"T_af7bd_row8_col2\" class=\"data row8 col2\" >m</td>\n",
       "    </tr>\n",
       "    <tr>\n",
       "      <td id=\"T_af7bd_row9_col0\" class=\"data row9 col0\" >$$G_M$$</td>\n",
       "      <td id=\"T_af7bd_row9_col1\" class=\"data row9 col1\" >0.937</td>\n",
       "      <td id=\"T_af7bd_row9_col2\" class=\"data row9 col2\" >m</td>\n",
       "    </tr>\n",
       "    <tr>\n",
       "      <td id=\"T_af7bd_row10_col0\" class=\"data row10 col0\" >$$C_{33}$$</td>\n",
       "      <td id=\"T_af7bd_row10_col1\" class=\"data row10 col1\" >2.647×10⁴</td>\n",
       "      <td id=\"T_af7bd_row10_col2\" class=\"data row10 col2\" >kg/s²</td>\n",
       "    </tr>\n",
       "    <tr>\n",
       "      <td id=\"T_af7bd_row11_col0\" class=\"data row11 col0\" >$$A_{33}$$</td>\n",
       "      <td id=\"T_af7bd_row11_col1\" class=\"data row11 col1\" >1041.635</td>\n",
       "      <td id=\"T_af7bd_row11_col2\" class=\"data row11 col2\" >kg</td>\n",
       "    </tr>\n",
       "    <tr>\n",
       "      <td id=\"T_af7bd_row12_col0\" class=\"data row12 col0\" >$$\\omega_0$$</td>\n",
       "      <td id=\"T_af7bd_row12_col1\" class=\"data row12 col1\" >8.163</td>\n",
       "      <td id=\"T_af7bd_row12_col2\" class=\"data row12 col2\" >rad/s</td>\n",
       "    </tr>\n",
       "    <tr>\n",
       "      <td id=\"T_af7bd_row13_col0\" class=\"data row13 col0\" >$$m_{platform}$$</td>\n",
       "      <td id=\"T_af7bd_row13_col1\" class=\"data row13 col1\" >579.846</td>\n",
       "      <td id=\"T_af7bd_row13_col2\" class=\"data row13 col2\" >kg</td>\n",
       "    </tr>\n",
       "    <tr>\n",
       "      <td id=\"T_af7bd_row14_col0\" class=\"data row14 col0\" >$$m_{solar}$$</td>\n",
       "      <td id=\"T_af7bd_row14_col1\" class=\"data row14 col1\" >25.045</td>\n",
       "      <td id=\"T_af7bd_row14_col2\" class=\"data row14 col2\" >kg</td>\n",
       "    </tr>\n",
       "    <tr>\n",
       "      <td id=\"T_af7bd_row15_col0\" class=\"data row15 col0\" >$$m_{struct}$$</td>\n",
       "      <td id=\"T_af7bd_row15_col1\" class=\"data row15 col1\" >423.017</td>\n",
       "      <td id=\"T_af7bd_row15_col2\" class=\"data row15 col2\" >kg</td>\n",
       "    </tr>\n",
       "    <tr>\n",
       "      <td id=\"T_af7bd_row16_col0\" class=\"data row16 col0\" >$$t_d$$</td>\n",
       "      <td id=\"T_af7bd_row16_col1\" class=\"data row16 col1\" >0.1</td>\n",
       "      <td id=\"T_af7bd_row16_col2\" class=\"data row16 col2\" >m</td>\n",
       "    </tr>\n",
       "    <tr>\n",
       "      <td id=\"T_af7bd_row17_col0\" class=\"data row17 col0\" >$$S_w$$</td>\n",
       "      <td id=\"T_af7bd_row17_col1\" class=\"data row17 col1\" >9.633</td>\n",
       "      <td id=\"T_af7bd_row17_col2\" class=\"data row17 col2\" >m²</td>\n",
       "    </tr>\n",
       "    <tr>\n",
       "      <td id=\"T_af7bd_row18_col0\" class=\"data row18 col0\" >$$P_{move}$$</td>\n",
       "      <td id=\"T_af7bd_row18_col1\" class=\"data row18 col1\" >-6.340e-04</td>\n",
       "      <td id=\"T_af7bd_row18_col2\" class=\"data row18 col2\" >W</td>\n",
       "    </tr>\n",
       "    <tr>\n",
       "      <td id=\"T_af7bd_row19_col0\" class=\"data row19 col0\" >$$\\lambda$$</td>\n",
       "      <td id=\"T_af7bd_row19_col1\" class=\"data row19 col1\" >0.136</td>\n",
       "      <td id=\"T_af7bd_row19_col2\" class=\"data row19 col2\" >m</td>\n",
       "    </tr>\n",
       "    <tr>\n",
       "      <td id=\"T_af7bd_row20_col0\" class=\"data row20 col0\" >$$L_{pt}$$</td>\n",
       "      <td id=\"T_af7bd_row20_col1\" class=\"data row20 col1\" >-8.543e+00</td>\n",
       "      <td id=\"T_af7bd_row20_col2\" class=\"data row20 col2\" ></td>\n",
       "    </tr>\n",
       "    <tr>\n",
       "      <td id=\"T_af7bd_row21_col0\" class=\"data row21 col0\" >$$G_t$$</td>\n",
       "      <td id=\"T_af7bd_row21_col1\" class=\"data row21 col1\" >2.45</td>\n",
       "      <td id=\"T_af7bd_row21_col2\" class=\"data row21 col2\" ></td>\n",
       "    </tr>\n",
       "    <tr>\n",
       "      <td id=\"T_af7bd_row22_col0\" class=\"data row22 col0\" >$$G_r$$</td>\n",
       "      <td id=\"T_af7bd_row22_col1\" class=\"data row22 col1\" >26.273</td>\n",
       "      <td id=\"T_af7bd_row22_col2\" class=\"data row22 col2\" ></td>\n",
       "    </tr>\n",
       "    <tr>\n",
       "      <td id=\"T_af7bd_row23_col0\" class=\"data row23 col0\" >$$S$$</td>\n",
       "      <td id=\"T_af7bd_row23_col1\" class=\"data row23 col1\" >3249.32</td>\n",
       "      <td id=\"T_af7bd_row23_col2\" class=\"data row23 col2\" >km</td>\n",
       "    </tr>\n",
       "    <tr>\n",
       "      <td id=\"T_af7bd_row24_col0\" class=\"data row24 col0\" >$$L_s$$</td>\n",
       "      <td id=\"T_af7bd_row24_col1\" class=\"data row24 col1\" >1.115×10⁻¹⁷</td>\n",
       "      <td id=\"T_af7bd_row24_col2\" class=\"data row24 col2\" ></td>\n",
       "    </tr>\n",
       "    <tr>\n",
       "      <td id=\"T_af7bd_row25_col0\" class=\"data row25 col0\" >$$P_{comms}$$</td>\n",
       "      <td id=\"T_af7bd_row25_col1\" class=\"data row25 col1\" >87.312</td>\n",
       "      <td id=\"T_af7bd_row25_col2\" class=\"data row25 col2\" >W</td>\n",
       "    </tr>\n",
       "    <tr>\n",
       "      <td id=\"T_af7bd_row26_col0\" class=\"data row26 col0\" >$$E_{move}$$</td>\n",
       "      <td id=\"T_af7bd_row26_col1\" class=\"data row26 col1\" >-6.340e-07</td>\n",
       "      <td id=\"T_af7bd_row26_col2\" class=\"data row26 col2\" >h·kW</td>\n",
       "    </tr>\n",
       "    <tr>\n",
       "      <td id=\"T_af7bd_row27_col0\" class=\"data row27 col0\" >$$E_{hotel}$$</td>\n",
       "      <td id=\"T_af7bd_row27_col1\" class=\"data row27 col1\" >1.2</td>\n",
       "      <td id=\"T_af7bd_row27_col2\" class=\"data row27 col2\" >h·kW</td>\n",
       "    </tr>\n",
       "    <tr>\n",
       "      <td id=\"T_af7bd_row28_col0\" class=\"data row28 col0\" >$$E_{comms}$$</td>\n",
       "      <td id=\"T_af7bd_row28_col1\" class=\"data row28 col1\" >87.312</td>\n",
       "      <td id=\"T_af7bd_row28_col2\" class=\"data row28 col2\" >W·h</td>\n",
       "    </tr>\n",
       "    <tr>\n",
       "      <td id=\"T_af7bd_row29_col0\" class=\"data row29 col0\" >$$E_{service}$$</td>\n",
       "      <td id=\"T_af7bd_row29_col1\" class=\"data row29 col1\" >1.9</td>\n",
       "      <td id=\"T_af7bd_row29_col2\" class=\"data row29 col2\" >h·kW</td>\n",
       "    </tr>\n",
       "    <tr>\n",
       "      <td id=\"T_af7bd_row30_col0\" class=\"data row30 col0\" >$$P_{service}$$</td>\n",
       "      <td id=\"T_af7bd_row30_col1\" class=\"data row30 col1\" >158.333</td>\n",
       "      <td id=\"T_af7bd_row30_col2\" class=\"data row30 col2\" >W</td>\n",
       "    </tr>\n",
       "    <tr>\n",
       "      <td id=\"T_af7bd_row31_col0\" class=\"data row31 col0\" >$$E_{required}$$</td>\n",
       "      <td id=\"T_af7bd_row31_col1\" class=\"data row31 col1\" >3.187</td>\n",
       "      <td id=\"T_af7bd_row31_col2\" class=\"data row31 col2\" >h·kW</td>\n",
       "    </tr>\n",
       "    <tr>\n",
       "      <td id=\"T_af7bd_row32_col0\" class=\"data row32 col0\" >$$E_{recharge}$$</td>\n",
       "      <td id=\"T_af7bd_row32_col1\" class=\"data row32 col1\" >3.187</td>\n",
       "      <td id=\"T_af7bd_row32_col2\" class=\"data row32 col2\" >h·kW</td>\n",
       "    </tr>\n",
       "    <tr>\n",
       "      <td id=\"T_af7bd_row33_col0\" class=\"data row33 col0\" >$$P_{recharge}$$</td>\n",
       "      <td id=\"T_af7bd_row33_col1\" class=\"data row33 col1\" >265.609</td>\n",
       "      <td id=\"T_af7bd_row33_col2\" class=\"data row33 col2\" >W</td>\n",
       "    </tr>\n",
       "    <tr>\n",
       "      <td id=\"T_af7bd_row34_col0\" class=\"data row34 col0\" >$$A_{solar}$$</td>\n",
       "      <td id=\"T_af7bd_row34_col1\" class=\"data row34 col1\" >2.505</td>\n",
       "      <td id=\"T_af7bd_row34_col2\" class=\"data row34 col2\" >m²</td>\n",
       "    </tr>\n",
       "    <tr>\n",
       "      <td id=\"T_af7bd_row35_col0\" class=\"data row35 col0\" >$$C$$</td>\n",
       "      <td id=\"T_af7bd_row35_col1\" class=\"data row35 col1\" >5.357</td>\n",
       "      <td id=\"T_af7bd_row35_col2\" class=\"data row35 col2\" >h·kW</td>\n",
       "    </tr>\n",
       "    <tr>\n",
       "      <td id=\"T_af7bd_row36_col0\" class=\"data row36 col0\" >$$m_{batt}$$</td>\n",
       "      <td id=\"T_af7bd_row36_col1\" class=\"data row36 col1\" >31.784</td>\n",
       "      <td id=\"T_af7bd_row36_col2\" class=\"data row36 col2\" >kg</td>\n",
       "    </tr>\n",
       "  </tbody>\n",
       "</table>\n"
      ],
      "text/plain": [
       "<pandas.io.formats.style.Styler at 0x2e272205fd0>"
      ]
     },
     "execution_count": 135,
     "metadata": {},
     "output_type": "execute_result"
    }
   ],
   "source": [
    "print_outputs(model, prob, namingfunc)"
   ]
  },
  {
   "cell_type": "markdown",
   "id": "5492d1e0-b6aa-426b-ab74-d0f6f1b80b20",
   "metadata": {},
   "source": [
    "# Solve"
   ]
  },
  {
   "cell_type": "code",
   "execution_count": 41,
   "id": "6859547e-1c79-4372-b46d-b0792d9b08c0",
   "metadata": {
    "execution": {
     "iopub.execute_input": "2022-07-03T18:54:25.054567Z",
     "iopub.status.busy": "2022-07-03T18:54:25.053481Z",
     "iopub.status.idle": "2022-07-03T18:54:25.074057Z",
     "shell.execute_reply": "2022-07-03T18:54:25.073144Z",
     "shell.execute_reply.started": "2022-07-03T18:54:25.054567Z"
    },
    "tags": []
   },
   "outputs": [],
   "source": [
    "addobj(model.root, mtot) # for optimization make sure to add OPT in model\n",
    "addineq(model.root, -td+0.1)\n",
    "setsolvefor(model.root, [tf, Ds], {tf:[0,10], Ds:[0,10]})\n",
    "edges, tree = model.generate_formulation()"
   ]
  },
  {
   "cell_type": "code",
   "execution_count": 43,
   "id": "ad19a813-0e6f-4154-bbce-00a4cc418512",
   "metadata": {
    "execution": {
     "iopub.execute_input": "2022-07-07T17:55:41.404717Z",
     "iopub.status.busy": "2022-07-07T17:55:41.404717Z",
     "iopub.status.idle": "2022-07-07T17:55:41.415453Z",
     "shell.execute_reply": "2022-07-07T17:55:41.415287Z",
     "shell.execute_reply.started": "2022-07-07T17:55:41.404717Z"
    },
    "tags": []
   },
   "outputs": [],
   "source": [
    "ordered_tree = tree\n",
    "ordered_edges = edges"
   ]
  },
  {
   "cell_type": "code",
   "execution_count": 46,
   "id": "700c9cad-653f-4ae9-a50d-836e5f0b90a2",
   "metadata": {
    "execution": {
     "iopub.execute_input": "2022-07-07T17:55:54.494785Z",
     "iopub.status.busy": "2022-07-07T17:55:54.493865Z",
     "iopub.status.idle": "2022-07-07T17:55:54.504253Z",
     "shell.execute_reply": "2022-07-07T17:55:54.504253Z",
     "shell.execute_reply.started": "2022-07-07T17:55:54.494785Z"
    },
    "tags": []
   },
   "outputs": [],
   "source": [
    "nodetyperepr = model.nametyperepr\n",
    "nodetyperepr[SOLVER] = '{}'\n",
    "namingfunc = namefromsympy(nodetyperepr)"
   ]
  },
  {
   "cell_type": "code",
   "execution_count": 47,
   "id": "7d20bfb7-cec8-44c1-bdf5-d27a7da811b8",
   "metadata": {
    "execution": {
     "iopub.execute_input": "2022-07-07T17:55:55.094014Z",
     "iopub.status.busy": "2022-07-07T17:55:55.094014Z",
     "iopub.status.idle": "2022-07-07T17:55:55.112473Z",
     "shell.execute_reply": "2022-07-07T17:55:55.112473Z",
     "shell.execute_reply.started": "2022-07-07T17:55:55.094014Z"
    },
    "tags": []
   },
   "outputs": [],
   "source": [
    "components = model.components\n",
    "lookup_f = get_f(components, ordered_edges)\n",
    "wfmdao = mdao_workflow_with_args(wf, lookup_f, namingfunc)"
   ]
  },
  {
   "cell_type": "code",
   "execution_count": 48,
   "id": "4029744e-626a-46ad-accc-f62545e82643",
   "metadata": {
    "execution": {
     "iopub.execute_input": "2022-07-07T17:55:55.615824Z",
     "iopub.status.busy": "2022-07-07T17:55:55.614819Z",
     "iopub.status.idle": "2022-07-07T17:55:55.643869Z",
     "shell.execute_reply": "2022-07-07T17:55:55.642962Z",
     "shell.execute_reply.started": "2022-07-07T17:55:55.615824Z"
    },
    "tags": []
   },
   "outputs": [],
   "source": [
    "prob, mdao_in, groups = build_archi(ordered_edges, ordered_tree, wfmdao, namingfunc, model.idmapping)"
   ]
  },
  {
   "cell_type": "code",
   "execution_count": 49,
   "id": "cc3dd8dd-ef81-41a8-a7a1-3d6ad930a840",
   "metadata": {
    "execution": {
     "iopub.execute_input": "2022-07-07T17:55:56.873293Z",
     "iopub.status.busy": "2022-07-07T17:55:56.873293Z",
     "iopub.status.idle": "2022-07-07T17:55:56.900436Z",
     "shell.execute_reply": "2022-07-07T17:55:56.900436Z",
     "shell.execute_reply.started": "2022-07-07T17:55:56.873293Z"
    },
    "tags": []
   },
   "outputs": [],
   "source": [
    "prob.set_solver_print(level=0)\n",
    "#prob.set_solver_print(level=1, depth=1)\n",
    "prob.setup();"
   ]
  },
  {
   "cell_type": "code",
   "execution_count": 49,
   "id": "07ee1181-6026-41fb-a22b-c10fc0712018",
   "metadata": {
    "execution": {
     "iopub.execute_input": "2022-07-03T18:54:46.062539Z",
     "iopub.status.busy": "2022-07-03T18:54:46.061539Z",
     "iopub.status.idle": "2022-07-03T18:54:46.078408Z",
     "shell.execute_reply": "2022-07-03T18:54:46.078240Z",
     "shell.execute_reply.started": "2022-07-03T18:54:46.061539Z"
    },
    "tags": []
   },
   "outputs": [],
   "source": [
    "# prob.set_val('t_f', 0.5)\n",
    "# prob.set_val('h_f', 0.45)\n",
    "# prob.set_val('D_s', 0.5)"
   ]
  },
  {
   "cell_type": "code",
   "execution_count": 50,
   "id": "fe2886df-7476-4968-97c0-79ad918c5279",
   "metadata": {
    "execution": {
     "iopub.execute_input": "2022-07-03T18:54:50.383189Z",
     "iopub.status.busy": "2022-07-03T18:54:50.383189Z",
     "iopub.status.idle": "2022-07-03T18:56:05.570971Z",
     "shell.execute_reply": "2022-07-03T18:56:05.569957Z",
     "shell.execute_reply.started": "2022-07-03T18:54:50.383189Z"
    },
    "tags": []
   },
   "outputs": [
    {
     "name": "stdout",
     "output_type": "stream",
     "text": [
      "NL: NewtonSolver 'NL: Newton' on system 'mdf' failed to converge in 20 iterations.\n",
      "Positive directional derivative for linesearch    (Exit mode 8)\n",
      "            Current function value: [377.09111883]\n",
      "            Iterations: 13\n",
      "            Function evaluations: 41\n",
      "            Gradient evaluations: 9\n",
      "Optimization FAILED.\n",
      "Positive directional derivative for linesearch\n",
      "-----------------------------------\n"
     ]
    },
    {
     "data": {
      "text/plain": [
       "True"
      ]
     },
     "execution_count": 50,
     "metadata": {},
     "output_type": "execute_result"
    }
   ],
   "source": [
    "prob.run_driver()"
   ]
  },
  {
   "cell_type": "code",
   "execution_count": null,
   "id": "309ce490-4b14-451c-be0a-9a1944e4f7b8",
   "metadata": {},
   "outputs": [],
   "source": [
    "prob.set_val('t_f', 0.5)\n",
    "prob.set_val('h_f', 0.45)"
   ]
  },
  {
   "cell_type": "code",
   "execution_count": 50,
   "id": "425fb621-a2a0-4a97-be6d-402e436485b5",
   "metadata": {
    "execution": {
     "iopub.execute_input": "2022-07-07T17:56:03.919545Z",
     "iopub.status.busy": "2022-07-07T17:56:03.919545Z",
     "iopub.status.idle": "2022-07-07T17:56:12.139392Z",
     "shell.execute_reply": "2022-07-07T17:56:12.139392Z",
     "shell.execute_reply.started": "2022-07-07T17:56:03.919545Z"
    },
    "tags": []
   },
   "outputs": [],
   "source": [
    "prob.run_model()"
   ]
  },
  {
   "cell_type": "code",
   "execution_count": 54,
   "id": "de75a7bf-998e-4961-af10-c1d4f006cc78",
   "metadata": {
    "execution": {
     "iopub.execute_input": "2022-07-07T18:47:09.811257Z",
     "iopub.status.busy": "2022-07-07T18:47:09.810258Z",
     "iopub.status.idle": "2022-07-07T18:47:09.830221Z",
     "shell.execute_reply": "2022-07-07T18:47:09.830221Z",
     "shell.execute_reply.started": "2022-07-07T18:47:09.811257Z"
    },
    "tags": []
   },
   "outputs": [],
   "source": [
    "#print_inputs(model, prob, namingfunc, mdao_in, filterparam=False)"
   ]
  },
  {
   "cell_type": "markdown",
   "id": "7a95171c-9f31-4ae5-9aaa-6f1903f83b60",
   "metadata": {},
   "source": [
    "# Results"
   ]
  },
  {
   "cell_type": "code",
   "execution_count": 52,
   "id": "101f0738-85e0-4792-b880-ff876bc160ec",
   "metadata": {
    "execution": {
     "iopub.execute_input": "2022-07-03T18:57:37.393298Z",
     "iopub.status.busy": "2022-07-03T18:57:37.393298Z",
     "iopub.status.idle": "2022-07-03T18:57:37.458335Z",
     "shell.execute_reply": "2022-07-03T18:57:37.457449Z",
     "shell.execute_reply.started": "2022-07-03T18:57:37.393298Z"
    },
    "tags": []
   },
   "outputs": [
    {
     "data": {
      "text/html": [
       "<style type=\"text/css\">\n",
       "</style>\n",
       "<table id=\"T_daf62\">\n",
       "  <thead>\n",
       "  </thead>\n",
       "  <tbody>\n",
       "    <tr>\n",
       "      <td id=\"T_daf62_row0_col0\" class=\"data row0 col0\" >$$d$$</td>\n",
       "      <td id=\"T_daf62_row0_col1\" class=\"data row0 col1\" >1.419</td>\n",
       "      <td id=\"T_daf62_row0_col2\" class=\"data row0 col2\" >m</td>\n",
       "    </tr>\n",
       "    <tr>\n",
       "      <td id=\"T_daf62_row1_col0\" class=\"data row1 col0\" >$$D_f$$</td>\n",
       "      <td id=\"T_daf62_row1_col1\" class=\"data row1 col1\" >2.837</td>\n",
       "      <td id=\"T_daf62_row1_col2\" class=\"data row1 col2\" >m</td>\n",
       "    </tr>\n",
       "    <tr>\n",
       "      <td id=\"T_daf62_row2_col0\" class=\"data row2 col0\" >$$Vd$$</td>\n",
       "      <td id=\"T_daf62_row2_col1\" class=\"data row2 col1\" >0.368</td>\n",
       "      <td id=\"T_daf62_row2_col2\" class=\"data row2 col2\" >m³</td>\n",
       "    </tr>\n",
       "    <tr>\n",
       "      <td id=\"T_daf62_row3_col0\" class=\"data row3 col0\" >$$F_B$$</td>\n",
       "      <td id=\"T_daf62_row3_col1\" class=\"data row3 col1\" >3699.264</td>\n",
       "      <td id=\"T_daf62_row3_col2\" class=\"data row3 col2\" >N</td>\n",
       "    </tr>\n",
       "    <tr>\n",
       "      <td id=\"T_daf62_row4_col0\" class=\"data row4 col0\" >$$F_W$$</td>\n",
       "      <td id=\"T_daf62_row4_col1\" class=\"data row4 col1\" >3699.264</td>\n",
       "      <td id=\"T_daf62_row4_col2\" class=\"data row4 col2\" >kg·m/s²</td>\n",
       "    </tr>\n",
       "    <tr>\n",
       "      <td id=\"T_daf62_row5_col0\" class=\"data row5 col0\" >$$K_B$$</td>\n",
       "      <td id=\"T_daf62_row5_col1\" class=\"data row5 col1\" >-2.244e+00</td>\n",
       "      <td id=\"T_daf62_row5_col2\" class=\"data row5 col2\" >m</td>\n",
       "    </tr>\n",
       "    <tr>\n",
       "      <td id=\"T_daf62_row6_col0\" class=\"data row6 col0\" >$$K_G$$</td>\n",
       "      <td id=\"T_daf62_row6_col1\" class=\"data row6 col1\" >4.201</td>\n",
       "      <td id=\"T_daf62_row6_col2\" class=\"data row6 col2\" >m</td>\n",
       "    </tr>\n",
       "    <tr>\n",
       "      <td id=\"T_daf62_row7_col0\" class=\"data row7 col0\" >$$I$$</td>\n",
       "      <td id=\"T_daf62_row7_col1\" class=\"data row7 col1\" >3.18</td>\n",
       "      <td id=\"T_daf62_row7_col2\" class=\"data row7 col2\" >m⁴</td>\n",
       "    </tr>\n",
       "    <tr>\n",
       "      <td id=\"T_daf62_row8_col0\" class=\"data row8 col0\" >$$B_M$$</td>\n",
       "      <td id=\"T_daf62_row8_col1\" class=\"data row8 col1\" >8.632</td>\n",
       "      <td id=\"T_daf62_row8_col2\" class=\"data row8 col2\" >m</td>\n",
       "    </tr>\n",
       "    <tr>\n",
       "      <td id=\"T_daf62_row9_col0\" class=\"data row9 col0\" >$$G_M$$</td>\n",
       "      <td id=\"T_daf62_row9_col1\" class=\"data row9 col1\" >2.187</td>\n",
       "      <td id=\"T_daf62_row9_col2\" class=\"data row9 col2\" >m</td>\n",
       "    </tr>\n",
       "    <tr>\n",
       "      <td id=\"T_daf62_row10_col0\" class=\"data row10 col0\" >$$C_{33}$$</td>\n",
       "      <td id=\"T_daf62_row10_col1\" class=\"data row10 col1\" >6.348×10⁴</td>\n",
       "      <td id=\"T_daf62_row10_col2\" class=\"data row10 col2\" >kg/s²</td>\n",
       "    </tr>\n",
       "    <tr>\n",
       "      <td id=\"T_daf62_row11_col0\" class=\"data row11 col0\" >$$A_{33}$$</td>\n",
       "      <td id=\"T_daf62_row11_col1\" class=\"data row11 col1\" >4184.777</td>\n",
       "      <td id=\"T_daf62_row11_col2\" class=\"data row11 col2\" >kg</td>\n",
       "    </tr>\n",
       "    <tr>\n",
       "      <td id=\"T_daf62_row12_col0\" class=\"data row12 col0\" >$$\\omega_0$$</td>\n",
       "      <td id=\"T_daf62_row12_col1\" class=\"data row12 col1\" >6.957</td>\n",
       "      <td id=\"T_daf62_row12_col2\" class=\"data row12 col2\" >rad/s</td>\n",
       "    </tr>\n",
       "    <tr>\n",
       "      <td id=\"T_daf62_row13_col0\" class=\"data row13 col0\" >$$m_{platform}$$</td>\n",
       "      <td id=\"T_daf62_row13_col1\" class=\"data row13 col1\" >377.091</td>\n",
       "      <td id=\"T_daf62_row13_col2\" class=\"data row13 col2\" >kg</td>\n",
       "    </tr>\n",
       "    <tr>\n",
       "      <td id=\"T_daf62_row14_col0\" class=\"data row14 col0\" >$$m_{solar}$$</td>\n",
       "      <td id=\"T_daf62_row14_col1\" class=\"data row14 col1\" >47.411</td>\n",
       "      <td id=\"T_daf62_row14_col2\" class=\"data row14 col2\" >kg</td>\n",
       "    </tr>\n",
       "    <tr>\n",
       "      <td id=\"T_daf62_row15_col0\" class=\"data row15 col0\" >$$m_{struct}$$</td>\n",
       "      <td id=\"T_daf62_row15_col1\" class=\"data row15 col1\" >468.799</td>\n",
       "      <td id=\"T_daf62_row15_col2\" class=\"data row15 col2\" >kg</td>\n",
       "    </tr>\n",
       "    <tr>\n",
       "      <td id=\"T_daf62_row16_col0\" class=\"data row16 col0\" >$$t_d$$</td>\n",
       "      <td id=\"T_daf62_row16_col1\" class=\"data row16 col1\" >-2.275e+00</td>\n",
       "      <td id=\"T_daf62_row16_col2\" class=\"data row16 col2\" >m</td>\n",
       "    </tr>\n",
       "    <tr>\n",
       "      <td id=\"T_daf62_row17_col0\" class=\"data row17 col0\" >$$S_w$$</td>\n",
       "      <td id=\"T_daf62_row17_col1\" class=\"data row17 col1\" >4.297</td>\n",
       "      <td id=\"T_daf62_row17_col2\" class=\"data row17 col2\" >m²</td>\n",
       "    </tr>\n",
       "    <tr>\n",
       "      <td id=\"T_daf62_row18_col0\" class=\"data row18 col0\" >$$P_{move}$$</td>\n",
       "      <td id=\"T_daf62_row18_col1\" class=\"data row18 col1\" >2932.111</td>\n",
       "      <td id=\"T_daf62_row18_col2\" class=\"data row18 col2\" >W</td>\n",
       "    </tr>\n",
       "    <tr>\n",
       "      <td id=\"T_daf62_row19_col0\" class=\"data row19 col0\" >$$\\lambda$$</td>\n",
       "      <td id=\"T_daf62_row19_col1\" class=\"data row19 col1\" >0.136</td>\n",
       "      <td id=\"T_daf62_row19_col2\" class=\"data row19 col2\" >m</td>\n",
       "    </tr>\n",
       "    <tr>\n",
       "      <td id=\"T_daf62_row20_col0\" class=\"data row20 col0\" >$$L_{pt}$$</td>\n",
       "      <td id=\"T_daf62_row20_col1\" class=\"data row20 col1\" >-8.543e+00</td>\n",
       "      <td id=\"T_daf62_row20_col2\" class=\"data row20 col2\" ></td>\n",
       "    </tr>\n",
       "    <tr>\n",
       "      <td id=\"T_daf62_row21_col0\" class=\"data row21 col0\" >$$G_t$$</td>\n",
       "      <td id=\"T_daf62_row21_col1\" class=\"data row21 col1\" >587.397</td>\n",
       "      <td id=\"T_daf62_row21_col2\" class=\"data row21 col2\" ></td>\n",
       "    </tr>\n",
       "    <tr>\n",
       "      <td id=\"T_daf62_row22_col0\" class=\"data row22 col0\" >$$G_r$$</td>\n",
       "      <td id=\"T_daf62_row22_col1\" class=\"data row22 col1\" >26.273</td>\n",
       "      <td id=\"T_daf62_row22_col2\" class=\"data row22 col2\" ></td>\n",
       "    </tr>\n",
       "    <tr>\n",
       "      <td id=\"T_daf62_row23_col0\" class=\"data row23 col0\" >$$S$$</td>\n",
       "      <td id=\"T_daf62_row23_col1\" class=\"data row23 col1\" >3249.32</td>\n",
       "      <td id=\"T_daf62_row23_col2\" class=\"data row23 col2\" >km</td>\n",
       "    </tr>\n",
       "    <tr>\n",
       "      <td id=\"T_daf62_row24_col0\" class=\"data row24 col0\" >$$L_s$$</td>\n",
       "      <td id=\"T_daf62_row24_col1\" class=\"data row24 col1\" >1.115×10⁻¹⁷</td>\n",
       "      <td id=\"T_daf62_row24_col2\" class=\"data row24 col2\" ></td>\n",
       "    </tr>\n",
       "    <tr>\n",
       "      <td id=\"T_daf62_row25_col0\" class=\"data row25 col0\" >$$P_{comms}$$</td>\n",
       "      <td id=\"T_daf62_row25_col1\" class=\"data row25 col1\" >1.495</td>\n",
       "      <td id=\"T_daf62_row25_col2\" class=\"data row25 col2\" >W</td>\n",
       "    </tr>\n",
       "    <tr>\n",
       "      <td id=\"T_daf62_row26_col0\" class=\"data row26 col0\" >$$E_{move}$$</td>\n",
       "      <td id=\"T_daf62_row26_col1\" class=\"data row26 col1\" >2.932</td>\n",
       "      <td id=\"T_daf62_row26_col2\" class=\"data row26 col2\" >hr·kW</td>\n",
       "    </tr>\n",
       "    <tr>\n",
       "      <td id=\"T_daf62_row27_col0\" class=\"data row27 col0\" >$$E_{hotel}$$</td>\n",
       "      <td id=\"T_daf62_row27_col1\" class=\"data row27 col1\" >1.2</td>\n",
       "      <td id=\"T_daf62_row27_col2\" class=\"data row27 col2\" >hr·kW</td>\n",
       "    </tr>\n",
       "    <tr>\n",
       "      <td id=\"T_daf62_row28_col0\" class=\"data row28 col0\" >$$E_{comms}$$</td>\n",
       "      <td id=\"T_daf62_row28_col1\" class=\"data row28 col1\" >1.495</td>\n",
       "      <td id=\"T_daf62_row28_col2\" class=\"data row28 col2\" >W·hr</td>\n",
       "    </tr>\n",
       "    <tr>\n",
       "      <td id=\"T_daf62_row29_col0\" class=\"data row29 col0\" >$$E_{service}$$</td>\n",
       "      <td id=\"T_daf62_row29_col1\" class=\"data row29 col1\" >1.9</td>\n",
       "      <td id=\"T_daf62_row29_col2\" class=\"data row29 col2\" >hr·kW</td>\n",
       "    </tr>\n",
       "    <tr>\n",
       "      <td id=\"T_daf62_row30_col0\" class=\"data row30 col0\" >$$P_{service}$$</td>\n",
       "      <td id=\"T_daf62_row30_col1\" class=\"data row30 col1\" >158.333</td>\n",
       "      <td id=\"T_daf62_row30_col2\" class=\"data row30 col2\" >W</td>\n",
       "    </tr>\n",
       "    <tr>\n",
       "      <td id=\"T_daf62_row31_col0\" class=\"data row31 col0\" >$$E_{required}$$</td>\n",
       "      <td id=\"T_daf62_row31_col1\" class=\"data row31 col1\" >6.034</td>\n",
       "      <td id=\"T_daf62_row31_col2\" class=\"data row31 col2\" >hr·kW</td>\n",
       "    </tr>\n",
       "    <tr>\n",
       "      <td id=\"T_daf62_row32_col0\" class=\"data row32 col0\" >$$E_{recharge}$$</td>\n",
       "      <td id=\"T_daf62_row32_col1\" class=\"data row32 col1\" >6.034</td>\n",
       "      <td id=\"T_daf62_row32_col2\" class=\"data row32 col2\" >hr·kW</td>\n",
       "    </tr>\n",
       "    <tr>\n",
       "      <td id=\"T_daf62_row33_col0\" class=\"data row33 col0\" >$$P_{recharge}$$</td>\n",
       "      <td id=\"T_daf62_row33_col1\" class=\"data row33 col1\" >502.8</td>\n",
       "      <td id=\"T_daf62_row33_col2\" class=\"data row33 col2\" >W</td>\n",
       "    </tr>\n",
       "    <tr>\n",
       "      <td id=\"T_daf62_row34_col0\" class=\"data row34 col0\" >$$A_{solar}$$</td>\n",
       "      <td id=\"T_daf62_row34_col1\" class=\"data row34 col1\" >4.741</td>\n",
       "      <td id=\"T_daf62_row34_col2\" class=\"data row34 col2\" >m²</td>\n",
       "    </tr>\n",
       "    <tr>\n",
       "      <td id=\"T_daf62_row35_col0\" class=\"data row35 col0\" >$$C$$</td>\n",
       "      <td id=\"T_daf62_row35_col1\" class=\"data row35 col1\" >10.141</td>\n",
       "      <td id=\"T_daf62_row35_col2\" class=\"data row35 col2\" >hr·kW</td>\n",
       "    </tr>\n",
       "    <tr>\n",
       "      <td id=\"T_daf62_row36_col0\" class=\"data row36 col0\" >$$V_{batt}$$</td>\n",
       "      <td id=\"T_daf62_row36_col1\" class=\"data row36 col1\" >0.023</td>\n",
       "      <td id=\"T_daf62_row36_col2\" class=\"data row36 col2\" >m³</td>\n",
       "    </tr>\n",
       "    <tr>\n",
       "      <td id=\"T_daf62_row37_col0\" class=\"data row37 col0\" >$$m_{batt}$$</td>\n",
       "      <td id=\"T_daf62_row37_col1\" class=\"data row37 col1\" >55.703</td>\n",
       "      <td id=\"T_daf62_row37_col2\" class=\"data row37 col2\" >kg</td>\n",
       "    </tr>\n",
       "  </tbody>\n",
       "</table>\n"
      ],
      "text/plain": [
       "<pandas.io.formats.style.Styler at 0x221564c8cd0>"
      ]
     },
     "execution_count": 52,
     "metadata": {},
     "output_type": "execute_result"
    }
   ],
   "source": [
    "print_outputs(model, prob, namingfunc)"
   ]
  },
  {
   "cell_type": "code",
   "execution_count": null,
   "id": "35688f3a-e0d5-46a5-91d8-17efd431cd9d",
   "metadata": {},
   "outputs": [],
   "source": []
  }
 ],
 "metadata": {
  "kernelspec": {
   "display_name": "Python [conda env:minimdo]",
   "language": "python",
   "name": "conda-env-minimdo-py"
  },
  "language_info": {
   "codemirror_mode": {
    "name": "ipython",
    "version": 3
   },
   "file_extension": ".py",
   "mimetype": "text/x-python",
   "name": "python",
   "nbconvert_exporter": "python",
   "pygments_lexer": "ipython3",
   "version": "3.9.12"
  }
 },
 "nbformat": 4,
 "nbformat_minor": 5
}
