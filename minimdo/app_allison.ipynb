{
 "cells": [
  {
   "cell_type": "code",
   "execution_count": 1,
   "id": "01cfe78c",
   "metadata": {
    "execution": {
     "iopub.execute_input": "2022-05-04T13:51:05.821084Z",
     "iopub.status.busy": "2022-05-04T13:51:05.821084Z",
     "iopub.status.idle": "2022-05-04T13:51:07.243964Z",
     "shell.execute_reply": "2022-05-04T13:51:07.243048Z",
     "shell.execute_reply.started": "2022-05-04T13:51:05.821084Z"
    },
    "tags": []
   },
   "outputs": [
    {
     "ename": "ModuleNotFoundError",
     "evalue": "No module named 'api'",
     "output_type": "error",
     "traceback": [
      "\u001b[1;31m---------------------------------------------------------------------------\u001b[0m",
      "\u001b[1;31mModuleNotFoundError\u001b[0m                       Traceback (most recent call last)",
      "\u001b[1;32m~\\AppData\\Local\\Temp/ipykernel_26824/3287086272.py\u001b[0m in \u001b[0;36m<module>\u001b[1;34m\u001b[0m\n\u001b[0;32m      5\u001b[0m \u001b[1;31m#import networkx as nx\u001b[0m\u001b[1;33m\u001b[0m\u001b[1;33m\u001b[0m\u001b[0m\n\u001b[0;32m      6\u001b[0m \u001b[1;31m#from representations import draw, bipartite_repr, digraph_repr\u001b[0m\u001b[1;33m\u001b[0m\u001b[1;33m\u001b[0m\u001b[0m\n\u001b[1;32m----> 7\u001b[1;33m \u001b[1;32mfrom\u001b[0m \u001b[0mapi\u001b[0m \u001b[1;32mimport\u001b[0m \u001b[0mModel\u001b[0m\u001b[1;33m,\u001b[0m \u001b[0madda\u001b[0m\u001b[1;33m,\u001b[0m \u001b[0maddf\u001b[0m\u001b[1;33m,\u001b[0m \u001b[0maddsolver\u001b[0m\u001b[1;33m,\u001b[0m \u001b[0msetsolvefor\u001b[0m\u001b[1;33m,\u001b[0m \u001b[0maddobj\u001b[0m\u001b[1;33m,\u001b[0m \u001b[0maddineq\u001b[0m\u001b[1;33m\u001b[0m\u001b[1;33m\u001b[0m\u001b[0m\n\u001b[0m",
      "\u001b[1;31mModuleNotFoundError\u001b[0m: No module named 'api'"
     ]
    }
   ],
   "source": [
    "from compute import Var, eqvar\n",
    "#from inputresolver import reassigneq, eqvars, eqsonly, default_out, mdf_order, default_in, idx_eqlist\n",
    "import numpy as np\n",
    "import sympy as sp\n",
    "#import networkx as nx\n",
    "#from representations import draw, bipartite_repr, digraph_repr\n",
    "from api import Model, adda, addf, addsolver, setsolvefor, addobj, addineq"
   ]
  },
  {
   "cell_type": "code",
   "execution_count": null,
   "id": "dab6c9ad-62c3-4b2a-94e5-bb7f6ad37634",
   "metadata": {},
   "outputs": [],
   "source": []
  },
  {
   "cell_type": "code",
   "execution_count": 3,
   "id": "36a02fdb",
   "metadata": {
    "execution": {
     "iopub.execute_input": "2021-09-27T15:14:21.536262Z",
     "iopub.status.busy": "2021-09-27T15:14:21.536262Z",
     "iopub.status.idle": "2021-09-27T15:14:21.563261Z",
     "shell.execute_reply": "2021-09-27T15:14:21.561260Z",
     "shell.execute_reply.started": "2021-09-27T15:14:21.536262Z"
    }
   },
   "outputs": [],
   "source": [
    "from partitioner import default_out_condensation, merge"
   ]
  },
  {
   "cell_type": "code",
   "execution_count": 4,
   "id": "e0cc016d",
   "metadata": {
    "execution": {
     "iopub.execute_input": "2021-09-27T15:14:22.220260Z",
     "iopub.status.busy": "2021-09-27T15:14:22.219643Z",
     "iopub.status.idle": "2021-09-27T15:14:22.237259Z",
     "shell.execute_reply": "2021-09-27T15:14:22.235259Z",
     "shell.execute_reply.started": "2021-09-27T15:14:22.220260Z"
    }
   },
   "outputs": [],
   "source": [
    "b = [2, 2.5, 3]\n",
    "w = np.array([1.3, 1.5, 1.2])\n",
    "a1e = 0.2"
   ]
  },
  {
   "cell_type": "code",
   "execution_count": 49,
   "id": "cc217ab8",
   "metadata": {
    "execution": {
     "iopub.execute_input": "2021-09-27T15:27:35.278801Z",
     "iopub.status.busy": "2021-09-27T15:27:35.278801Z",
     "iopub.status.idle": "2021-09-27T15:27:35.325792Z",
     "shell.execute_reply": "2021-09-27T15:27:35.324835Z",
     "shell.execute_reply.started": "2021-09-27T15:27:35.278801Z"
    }
   },
   "outputs": [],
   "source": [
    "x1 = Var('x_1')\n",
    "x2 = Var('x_2')\n",
    "x3 = Var('x_3')\n",
    "a2 = Var('a_2')\n",
    "a3 = Var('a_3')\n",
    "a1, eq0 = eqvar('a_1', 0.1*x1*a2+0.8*x1*a3+b[0])\n",
    "eq1 = (a2, x2*a3+b[1])\n",
    "eq2 = (a3, 0.1*x3*a1+0.8*x3*a2+b[2])\n",
    "a4, eq3 = eqvar('a_4', (a1-a1e)**2+sp.Matrix([x1**2,x2**2,x3**2]).dot(w**2))"
   ]
  },
  {
   "cell_type": "code",
   "execution_count": 50,
   "id": "36157a43",
   "metadata": {
    "execution": {
     "iopub.execute_input": "2021-09-27T15:27:35.753327Z",
     "iopub.status.busy": "2021-09-27T15:27:35.752340Z",
     "iopub.status.idle": "2021-09-27T15:27:35.769325Z",
     "shell.execute_reply": "2021-09-27T15:27:35.768327Z",
     "shell.execute_reply.started": "2021-09-27T15:27:35.753327Z"
    }
   },
   "outputs": [
    {
     "data": {
      "text/plain": [
       "{0: {a_1, a_2, a_3, x_1},\n",
       " 1: {a_2, a_3, x_2},\n",
       " 2: {a_1, a_2, a_3, x_3},\n",
       " 3: {a_1, a_4, x_1, x_2, x_3}}"
      ]
     },
     "execution_count": 50,
     "metadata": {},
     "output_type": "execute_result"
    }
   ],
   "source": [
    "eq_list = [eq0, eq1, eq2, eq3]\n",
    "eqs = idx_eqlist(eq_list)\n",
    "eqv = eqvars(eqs)\n",
    "eqv"
   ]
  },
  {
   "cell_type": "code",
   "execution_count": 51,
   "id": "ee538311",
   "metadata": {
    "execution": {
     "iopub.execute_input": "2021-09-27T15:27:36.127330Z",
     "iopub.status.busy": "2021-09-27T15:27:36.126331Z",
     "iopub.status.idle": "2021-09-27T15:27:36.148331Z",
     "shell.execute_reply": "2021-09-27T15:27:36.147323Z",
     "shell.execute_reply.started": "2021-09-27T15:27:36.127330Z"
    }
   },
   "outputs": [],
   "source": [
    "def sel(eqs, idx):\n",
    "    return {k:v for k,v in eqs.items() if k in idx}"
   ]
  },
  {
   "cell_type": "code",
   "execution_count": 78,
   "id": "bfaa2f70",
   "metadata": {
    "execution": {
     "iopub.execute_input": "2021-09-27T15:33:15.353432Z",
     "iopub.status.busy": "2021-09-27T15:33:15.353432Z",
     "iopub.status.idle": "2021-09-27T15:33:15.370421Z",
     "shell.execute_reply": "2021-09-27T15:33:15.369462Z",
     "shell.execute_reply.started": "2021-09-27T15:33:15.353432Z"
    }
   },
   "outputs": [],
   "source": [
    "s1 = (1,2)\n",
    "eqvs1 = sel(eqv, s1)\n",
    "douts1 = default_out(sel(eqs, s1))"
   ]
  },
  {
   "cell_type": "code",
   "execution_count": 79,
   "id": "0e67493d",
   "metadata": {
    "execution": {
     "iopub.execute_input": "2021-09-27T15:33:15.815105Z",
     "iopub.status.busy": "2021-09-27T15:33:15.815105Z",
     "iopub.status.idle": "2021-09-27T15:33:15.835109Z",
     "shell.execute_reply": "2021-09-27T15:33:15.834103Z",
     "shell.execute_reply.started": "2021-09-27T15:33:15.815105Z"
    }
   },
   "outputs": [
    {
     "data": {
      "text/plain": [
       "({1: {a_2, a_3, x_2}, 2: {a_1, a_2, a_3, x_3}}, {1: a_2, 2: a_3})"
      ]
     },
     "execution_count": 79,
     "metadata": {},
     "output_type": "execute_result"
    }
   ],
   "source": [
    "eqvs1, douts1"
   ]
  },
  {
   "cell_type": "code",
   "execution_count": 80,
   "id": "cc85a246",
   "metadata": {
    "execution": {
     "iopub.execute_input": "2021-09-27T15:33:16.487972Z",
     "iopub.status.busy": "2021-09-27T15:33:16.487972Z",
     "iopub.status.idle": "2021-09-27T15:33:16.493970Z",
     "shell.execute_reply": "2021-09-27T15:33:16.492972Z",
     "shell.execute_reply.started": "2021-09-27T15:33:16.487972Z"
    }
   },
   "outputs": [],
   "source": [
    "D1, edges = digraph_repr(eqvs1, douts1, intermediary=True)"
   ]
  },
  {
   "cell_type": "code",
   "execution_count": 81,
   "id": "86060e66",
   "metadata": {
    "execution": {
     "iopub.execute_input": "2021-09-27T15:33:16.930129Z",
     "iopub.status.busy": "2021-09-27T15:33:16.929129Z",
     "iopub.status.idle": "2021-09-27T15:33:18.019268Z",
     "shell.execute_reply": "2021-09-27T15:33:18.018267Z",
     "shell.execute_reply.started": "2021-09-27T15:33:16.930129Z"
    }
   },
   "outputs": [
    {
     "data": {
      "image/png": "[encoded data removed]",
      "text/plain": [
       "<Figure size 432x432 with 1 Axes>"
      ]
     },
     "metadata": {},
     "output_type": "display_data"
    }
   ],
   "source": [
    "draw(D1, node_shape='o')"
   ]
  },
  {
   "cell_type": "code",
   "execution_count": 82,
   "id": "39487e20",
   "metadata": {
    "execution": {
     "iopub.execute_input": "2021-09-27T15:33:28.408638Z",
     "iopub.status.busy": "2021-09-27T15:33:28.407648Z",
     "iopub.status.idle": "2021-09-27T15:33:28.425453Z",
     "shell.execute_reply": "2021-09-27T15:33:28.424457Z",
     "shell.execute_reply.started": "2021-09-27T15:33:28.408638Z"
    }
   },
   "outputs": [],
   "source": [
    "s2 = (0,3)\n",
    "eqvs2 = sel(eqv, s2)\n",
    "douts2 = default_out(sel(eqs, s2))\n",
    "D2, edges = digraph_repr(eqvs2, douts2, intermediary=True)"
   ]
  },
  {
   "cell_type": "code",
   "execution_count": 83,
   "id": "77e9de92",
   "metadata": {
    "execution": {
     "iopub.execute_input": "2021-09-27T15:33:28.826033Z",
     "iopub.status.busy": "2021-09-27T15:33:28.826033Z",
     "iopub.status.idle": "2021-09-27T15:33:28.832033Z",
     "shell.execute_reply": "2021-09-27T15:33:28.831034Z",
     "shell.execute_reply.started": "2021-09-27T15:33:28.826033Z"
    }
   },
   "outputs": [],
   "source": [
    "edges = merge(eq_list, [eq0, eq1], 'p_1')\n",
    "edges += merge(eq_list, [eq2, eq3], 'p_2')"
   ]
  },
  {
   "cell_type": "code",
   "execution_count": 84,
   "id": "17bb98a2",
   "metadata": {
    "execution": {
     "iopub.execute_input": "2021-09-27T15:33:29.171041Z",
     "iopub.status.busy": "2021-09-27T15:33:29.170036Z",
     "iopub.status.idle": "2021-09-27T15:33:30.052150Z",
     "shell.execute_reply": "2021-09-27T15:33:30.051144Z",
     "shell.execute_reply.started": "2021-09-27T15:33:29.171041Z"
    }
   },
   "outputs": [
    {
     "data": {
      "image/png": "[encoded data removed]",
      "text/plain": [
       "<Figure size 432x432 with 1 Axes>"
      ]
     },
     "metadata": {},
     "output_type": "display_data"
    }
   ],
   "source": [
    "draw(D2, node_shape='o')"
   ]
  },
  {
   "cell_type": "code",
   "execution_count": 71,
   "id": "89847ba9",
   "metadata": {
    "execution": {
     "iopub.execute_input": "2021-09-27T15:30:11.945240Z",
     "iopub.status.busy": "2021-09-27T15:30:11.944247Z",
     "iopub.status.idle": "2021-09-27T15:30:11.962241Z",
     "shell.execute_reply": "2021-09-27T15:30:11.961242Z",
     "shell.execute_reply.started": "2021-09-27T15:30:11.945240Z"
    }
   },
   "outputs": [
    {
     "data": {
      "text/plain": [
       "((a_3, 'p_1'),\n",
       " (x_2, 'p_1'),\n",
       " (x_1, 'p_1'),\n",
       " ('p_1', a_2),\n",
       " ('p_1', a_1),\n",
       " (x_2, 'p_2'),\n",
       " (a_1, 'p_2'),\n",
       " (x_1, 'p_2'),\n",
       " (a_2, 'p_2'),\n",
       " (x_3, 'p_2'),\n",
       " ('p_2', a_3))"
      ]
     },
     "execution_count": 71,
     "metadata": {},
     "output_type": "execute_result"
    }
   ],
   "source": [
    "edges"
   ]
  },
  {
   "cell_type": "code",
   "execution_count": 61,
   "id": "bedaf9af",
   "metadata": {
    "execution": {
     "iopub.execute_input": "2021-09-27T15:27:50.600496Z",
     "iopub.status.busy": "2021-09-27T15:27:50.599499Z",
     "iopub.status.idle": "2021-09-27T15:27:50.617492Z",
     "shell.execute_reply": "2021-09-27T15:27:50.616493Z",
     "shell.execute_reply.started": "2021-09-27T15:27:50.599499Z"
    }
   },
   "outputs": [],
   "source": [
    "DG = nx.DiGraph(edges)"
   ]
  },
  {
   "cell_type": "code",
   "execution_count": 62,
   "id": "d9cc310d",
   "metadata": {
    "execution": {
     "iopub.execute_input": "2021-09-27T15:27:51.229502Z",
     "iopub.status.busy": "2021-09-27T15:27:51.228501Z",
     "iopub.status.idle": "2021-09-27T15:27:51.265031Z",
     "shell.execute_reply": "2021-09-27T15:27:51.264027Z",
     "shell.execute_reply.started": "2021-09-27T15:27:51.229502Z"
    }
   },
   "outputs": [
    {
     "data": {
      "text/plain": [
       "OutEdgeView([(a_3, 'p_1'), ('p_1', a_2), ('p_1', a_1), (x_2, 'p_1'), (x_2, 'p_2'), (x_1, 'p_1'), (x_1, 'p_2'), (a_2, 'p_2'), (a_1, 'p_2'), ('p_2', a_3), (x_3, 'p_2')])"
      ]
     },
     "execution_count": 62,
     "metadata": {},
     "output_type": "execute_result"
    }
   ],
   "source": [
    "DG.edges()"
   ]
  },
  {
   "cell_type": "code",
   "execution_count": 63,
   "id": "439ebcee",
   "metadata": {
    "execution": {
     "iopub.execute_input": "2021-09-27T15:27:52.719587Z",
     "iopub.status.busy": "2021-09-27T15:27:52.718592Z",
     "iopub.status.idle": "2021-09-27T15:27:53.692487Z",
     "shell.execute_reply": "2021-09-27T15:27:53.691483Z",
     "shell.execute_reply.started": "2021-09-27T15:27:52.719587Z"
    }
   },
   "outputs": [
    {
     "data": {
      "image/png": "[encoded data removed]",
      "text/plain": [
       "<Figure size 432x432 with 1 Axes>"
      ]
     },
     "metadata": {},
     "output_type": "display_data"
    }
   ],
   "source": [
    "draw(DG, node_shape='b', prog='fdp')"
   ]
  },
  {
   "cell_type": "code",
   "execution_count": null,
   "id": "d42168fb",
   "metadata": {},
   "outputs": [],
   "source": []
  }
 ],
 "metadata": {
  "kernelspec": {
   "display_name": "Python [conda env:mdo]",
   "language": "python",
   "name": "conda-env-mdo-py"
  },
  "language_info": {
   "codemirror_mode": {
    "name": "ipython",
    "version": 3
   },
   "file_extension": ".py",
   "mimetype": "text/x-python",
   "name": "python",
   "nbconvert_exporter": "python",
   "pygments_lexer": "ipython3",
   "version": "3.9.7"
  }
 },
 "nbformat": 4,
 "nbformat_minor": 5
}
