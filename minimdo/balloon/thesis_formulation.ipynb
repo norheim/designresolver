{
 "cells": [
  {
   "cell_type": "code",
   "execution_count": 1,
   "id": "5036d3c8-3055-4518-9a7a-0ac7c6a02c8a",
   "metadata": {
    "execution": {
     "iopub.execute_input": "2022-06-23T00:33:21.815927Z",
     "iopub.status.busy": "2022-06-23T00:33:21.815927Z",
     "iopub.status.idle": "2022-06-23T00:33:23.462487Z",
     "shell.execute_reply": "2022-06-23T00:33:23.462487Z",
     "shell.execute_reply.started": "2022-06-23T00:33:21.815927Z"
    },
    "tags": []
   },
   "outputs": [
    {
     "name": "stderr",
     "output_type": "stream",
     "text": [
      "WARNING:absl:No GPU/TPU found, falling back to CPU. (Set TF_CPP_MIN_LOG_LEVEL=0 and rerun for more info.)\n"
     ]
    }
   ],
   "source": [
    "from constants_balloon import ρinterp, Pinterp, Ginterp, Tinterp\n",
    "from scipy import interpolate\n",
    "import numpy as np"
   ]
  },
  {
   "cell_type": "code",
   "execution_count": 2,
   "id": "c76e502f-e0e9-4ee3-b59d-836f459eeacc",
   "metadata": {
    "execution": {
     "iopub.execute_input": "2022-06-23T00:33:23.462487Z",
     "iopub.status.busy": "2022-06-23T00:33:23.462487Z",
     "iopub.status.idle": "2022-06-23T00:33:24.013026Z",
     "shell.execute_reply": "2022-06-23T00:33:24.012428Z",
     "shell.execute_reply.started": "2022-06-23T00:33:23.462487Z"
    },
    "tags": []
   },
   "outputs": [],
   "source": [
    "from compute import Var, Par\n",
    "from datastructures.api import Model, adda, addf, addsolver, setsolvefor\n",
    "from datastructures.execution import edges_from_components\n",
    "from datastructures.graphutils import namefromsympy, dfs_tree, SOLVER, VAR, COMP, nested_sources, sources, edges_to_Ein_Eout, flat_graph_formulation, root_solver\n",
    "from datastructures.nestedgraph import root_sources\n",
    "from datastructures.execution import generate_components_and_residuals\n",
    "from datastructures.workflow import get_f, order_from_tree, default_solver_options, mdao_workflow, implicit_comp_name\n",
    "from datastructures.workflow_mdao import mdao_workflow_with_args\n",
    "from datastructures.operators import sort_scc, reorder_merge_solve\n",
    "from datastructures.assembly import build_archi\n",
    "import openmdao.api as om\n",
    "from datastructures.api import evalexpr"
   ]
  },
  {
   "attachments": {
    "ce1cab48-84ab-44b5-b327-90f0dbce4791.png": {
     "image/png": "[encoded data removed]"
    }
   },
   "cell_type": "markdown",
   "id": "37dac2c3-8637-454b-bcd5-2cce224fa7cb",
   "metadata": {},
   "source": [
    "![phdthesis - balloon.png](attachment:ce1cab48-84ab-44b5-b327-90f0dbce4791.png)"
   ]
  },
  {
   "cell_type": "markdown",
   "id": "96ff78ec-77be-4e8d-84e9-aa10cba2a2a7",
   "metadata": {},
   "source": [
    "# General"
   ]
  },
  {
   "cell_type": "code",
   "execution_count": 3,
   "id": "1a59d5d6-05f6-49af-a0e5-c8e89b5120f9",
   "metadata": {
    "execution": {
     "iopub.execute_input": "2022-06-23T00:33:24.013026Z",
     "iopub.status.busy": "2022-06-23T00:33:24.013026Z",
     "iopub.status.idle": "2022-06-23T00:33:24.020529Z",
     "shell.execute_reply": "2022-06-23T00:33:24.020529Z",
     "shell.execute_reply.started": "2022-06-23T00:33:24.013026Z"
    },
    "tags": []
   },
   "outputs": [],
   "source": [
    "model = Model(rootname='root')\n",
    "m = model.root\n",
    "idbyname = True\n",
    "#m = addsolver(r)\n",
    "z = Var('z', 30, unit='km')\n",
    "R = Par('R', 287.05, 'J/kg/K')\n",
    "alpha = Par(r'\\alpha', 1)"
   ]
  },
  {
   "cell_type": "markdown",
   "id": "c8600ee3-0e73-4a54-b722-c5b460de614c",
   "metadata": {},
   "source": [
    "# Apogee"
   ]
  },
  {
   "cell_type": "code",
   "execution_count": 4,
   "id": "d7be3196-1c06-4ba4-ba84-b3659449a580",
   "metadata": {
    "execution": {
     "iopub.execute_input": "2022-06-23T00:33:24.022753Z",
     "iopub.status.busy": "2022-06-23T00:33:24.022753Z",
     "iopub.status.idle": "2022-06-23T00:33:24.463112Z",
     "shell.execute_reply": "2022-06-23T00:33:24.462598Z",
     "shell.execute_reply.started": "2022-06-23T00:33:24.022753Z"
    },
    "tags": []
   },
   "outputs": [],
   "source": [
    "apogee = addsolver(m, name='apogee', idbyname=idbyname)\n",
    "pz = adda(apogee, 'p_z', lambda z: Pinterp(z), (z,), unit='Pa') # input assumed to be SI base (i.e. meter)\n",
    "Tz = adda(apogee, 'T_z', lambda z: Tinterp(z), (z,), unit='K') # is in Kelvin already\n",
    "gz = adda(apogee, 'g_z', lambda z: Ginterp(z), (z,), unit='m/s^2') # is in Kelvin already\n",
    "rhoz = adda(apogee, r'\\rho_z', pz/(R*Tz))\n",
    "k = Par('k', 1.38064852e-23, 'J/K')\n",
    "mm_He = Par('M_{He}', 6.64e-27, 'kg')\n",
    "mm_H2 = Par('M_{H2}', 1.66e-27, 'kg')\n",
    "rho_LGz = adda(apogee, r'\\rho_{LGz}', pz*(alpha*mm_He+(1-alpha)*mm_H2)/(k*Tz))\n",
    "m_t = Var('m_t', unit='kg')\n",
    "W_z = adda(apogee, 'W_z', gz*m_t, unit='N')\n",
    "L_z = adda(apogee, 'L_z', W_z, unit='N')\n",
    "V_z = adda(apogee, 'V_z', L_z/(gz*rhoz))\n",
    "mrz = adda(apogee, 'm_{rz}', V_z*rho_LGz)"
   ]
  },
  {
   "cell_type": "markdown",
   "id": "4a6f627e-104f-4e21-a8ba-0744726949f4",
   "metadata": {},
   "source": [
    "# Materials"
   ]
  },
  {
   "cell_type": "code",
   "execution_count": 5,
   "id": "601a193c-5b10-4b73-ad55-be10c7e44599",
   "metadata": {
    "execution": {
     "iopub.execute_input": "2022-06-23T00:33:24.463112Z",
     "iopub.status.busy": "2022-06-23T00:33:24.463112Z",
     "iopub.status.idle": "2022-06-23T00:33:24.579732Z",
     "shell.execute_reply": "2022-06-23T00:33:24.579328Z",
     "shell.execute_reply.started": "2022-06-23T00:33:24.463112Z"
    },
    "tags": []
   },
   "outputs": [],
   "source": [
    "materials = addsolver(m, name='materials', idbyname=idbyname)\n",
    "rz = adda(materials, 'r_z', (3*V_z/(4*np.pi))**(1/3), unit='m', forceunit=True)\n",
    "hz = adda(materials, 'h_z', 2*(3/2)*rz)\n",
    "p = Par('p', 8/5) #some parameter\n",
    "S = adda(materials, 'S', 4*np.pi*(((rz**2)**p+2*abs(rz)**p*(abs(hz)/2)**p)/3)**(1/p))\n",
    "t_LLDPE = Par('t_S', 25.4e-6*1, 'm')\n",
    "rho_LLDPE = Par(r'\\rho_S', 925, 'kg/m^3')\n",
    "m_b = adda(materials, 'm_b', 2*(3/2)*S*t_LLDPE*rho_LLDPE)"
   ]
  },
  {
   "cell_type": "markdown",
   "id": "1923ee22-f6d6-45bd-9f55-559c52b8afb5",
   "metadata": {},
   "source": [
    "# Mass budget"
   ]
  },
  {
   "cell_type": "code",
   "execution_count": 6,
   "id": "6474cb28-7f49-496e-88a8-16024c059e97",
   "metadata": {
    "execution": {
     "iopub.execute_input": "2022-06-23T00:33:24.579732Z",
     "iopub.status.busy": "2022-06-23T00:33:24.579732Z",
     "iopub.status.idle": "2022-06-23T00:33:24.591863Z",
     "shell.execute_reply": "2022-06-23T00:33:24.591863Z",
     "shell.execute_reply.started": "2022-06-23T00:33:24.579732Z"
    },
    "tags": []
   },
   "outputs": [],
   "source": [
    "m_b = Var('m_b', unit='kg')"
   ]
  },
  {
   "cell_type": "code",
   "execution_count": 7,
   "id": "f33fb5ba-ba7e-4f62-8ce4-5d6c501b0f78",
   "metadata": {
    "execution": {
     "iopub.execute_input": "2022-06-23T00:33:24.593907Z",
     "iopub.status.busy": "2022-06-23T00:33:24.593907Z",
     "iopub.status.idle": "2022-06-23T00:33:24.663360Z",
     "shell.execute_reply": "2022-06-23T00:33:24.662288Z",
     "shell.execute_reply.started": "2022-06-23T00:33:24.593907Z"
    },
    "tags": []
   },
   "outputs": [],
   "source": [
    "mass = addsolver(m, name='mass', idbyname=idbyname)\n",
    "m_vhc = Par('m_v', 4545, 'kg')\n",
    "m_parafoil = Par('m_p', 500., 'kg')\n",
    "mr0 = Var('m_{r0}', unit='kg')\n",
    "m_l = adda(mass, 'm_l', lambda m1,m2: max(m1,m2), (mrz, mr0), unit='kg')\n",
    "adda(mass, m_t, m_vhc+m_parafoil+m_l+m_b);"
   ]
  },
  {
   "cell_type": "markdown",
   "id": "1d830def-2b9e-48e0-9bb2-82d4fdac2a82",
   "metadata": {},
   "source": [
    "# Balloon at STP"
   ]
  },
  {
   "cell_type": "markdown",
   "id": "d0e69347-7a40-4b86-a844-7e455cde1cf6",
   "metadata": {},
   "source": [
    "## Aerodynamics"
   ]
  },
  {
   "cell_type": "code",
   "execution_count": 8,
   "id": "18d3d3ae-2541-496e-ad25-2ebbcb18a837",
   "metadata": {
    "execution": {
     "iopub.execute_input": "2022-06-23T00:33:24.663360Z",
     "iopub.status.busy": "2022-06-23T00:33:24.663360Z",
     "iopub.status.idle": "2022-06-23T00:33:24.892835Z",
     "shell.execute_reply": "2022-06-23T00:33:24.892410Z",
     "shell.execute_reply.started": "2022-06-23T00:33:24.663360Z"
    },
    "tags": []
   },
   "outputs": [],
   "source": [
    "aero = addsolver(m, name='aerodynamics', idbyname=idbyname)\n",
    "V_0 = Var('V_0', unit='m^3')\n",
    "g = Par('g', Ginterp(0), unit='m/s^2')\n",
    "rho_0 = Par(r'\\rho_0', ρinterp(0), 'kg/m^3')\n",
    "W_0 = adda(aero, 'W_0', g*m_t, unit='N')\n",
    "L_0 = adda(aero, 'L_0', g*rho_0*V_0, unit='N')\n",
    "D = adda(aero, 'D', lambda L_0, W_0: max(L_0-W_0,0), (L_0,W_0), unit='N') \n",
    "C_D = Par('C_D', 0.47)\n",
    "vr = Var('v', 6, 'm/s')\n",
    "A_0 = adda(aero, 'A_0', 2*D/(C_D*rho_0*vr**2))"
   ]
  },
  {
   "cell_type": "markdown",
   "id": "9d4b1340-bee6-4987-a83a-a20fb5f401ae",
   "metadata": {},
   "source": [
    "## Geometry"
   ]
  },
  {
   "cell_type": "code",
   "execution_count": 9,
   "id": "ae21b598-c6ba-4fcc-a996-e34fcc2d2c9a",
   "metadata": {
    "execution": {
     "iopub.execute_input": "2022-06-23T00:33:24.894052Z",
     "iopub.status.busy": "2022-06-23T00:33:24.894052Z",
     "iopub.status.idle": "2022-06-23T00:33:24.952114Z",
     "shell.execute_reply": "2022-06-23T00:33:24.951891Z",
     "shell.execute_reply.started": "2022-06-23T00:33:24.894052Z"
    },
    "tags": []
   },
   "outputs": [
    {
     "data": {
      "text/latex": [
       "$m_{r0}=0\\ \\mathrm{kg}\\ (V_0=0 )$"
      ],
      "text/plain": [
       "m_{r0}"
      ]
     },
     "execution_count": 9,
     "metadata": {},
     "output_type": "execute_result"
    }
   ],
   "source": [
    "geom = addsolver(m, name='geometry', idbyname=idbyname)\n",
    "r_0 = adda(geom, 'r_0', 1/np.pi*A_0**0.5, unit='m')\n",
    "adda(geom, V_0, 4/3*np.pi*r_0**3, unit='m^3')\n",
    "rho_He = Par(r'\\rho_{He}', 0.1786, 'kg/m^3')\n",
    "rho_H2 = Par(r'\\rho_{H2}', 0.08988, 'kg/m^3')\n",
    "rho_LG0 = adda(geom, r'\\rho_{LG0}', alpha*rho_He+(1-alpha)*rho_H2)\n",
    "adda(geom, mr0, V_0*rho_LG0)           "
   ]
  },
  {
   "cell_type": "markdown",
   "id": "d800e912-76b3-44a2-8f2b-af15e7911501",
   "metadata": {},
   "source": [
    "# Visualize model"
   ]
  },
  {
   "cell_type": "code",
   "execution_count": 10,
   "id": "f7bd1c11-2d2c-4277-bac7-34389f6c9e1d",
   "metadata": {
    "execution": {
     "iopub.execute_input": "2022-06-23T00:33:24.952114Z",
     "iopub.status.busy": "2022-06-23T00:33:24.952114Z",
     "iopub.status.idle": "2022-06-23T00:33:24.962407Z",
     "shell.execute_reply": "2022-06-23T00:33:24.962138Z",
     "shell.execute_reply.started": "2022-06-23T00:33:24.952114Z"
    },
    "tags": []
   },
   "outputs": [],
   "source": [
    "nodetyperepr = {VAR: '{}', COMP: 'f_{{{}}}', SOLVER: '{}'}\n",
    "edges, tree = model.generate_formulation()"
   ]
  },
  {
   "cell_type": "code",
   "execution_count": 11,
   "id": "e44fedf8-9255-46c9-8ab3-fc3ead2c3564",
   "metadata": {
    "execution": {
     "iopub.execute_input": "2022-06-23T00:33:24.962407Z",
     "iopub.status.busy": "2022-06-23T00:33:24.962407Z",
     "iopub.status.idle": "2022-06-23T00:33:24.971916Z",
     "shell.execute_reply": "2022-06-23T00:33:24.971854Z",
     "shell.execute_reply.started": "2022-06-23T00:33:24.962407Z"
    },
    "tags": []
   },
   "outputs": [],
   "source": [
    "from datastructures.graphutils import draw_graph_graphical_props, Node\n",
    "from datastructures.nestedgraph import build_typedgraph"
   ]
  },
  {
   "cell_type": "code",
   "execution_count": 12,
   "id": "0941a1ae-e4fc-4cd7-95e5-2ae67bb05333",
   "metadata": {
    "execution": {
     "iopub.execute_input": "2022-06-23T00:33:24.973334Z",
     "iopub.status.busy": "2022-06-23T00:33:24.973334Z",
     "iopub.status.idle": "2022-06-23T00:33:24.982254Z",
     "shell.execute_reply": "2022-06-23T00:33:24.981745Z",
     "shell.execute_reply.started": "2022-06-23T00:33:24.973334Z"
    },
    "tags": []
   },
   "outputs": [],
   "source": [
    "from representations import draw"
   ]
  },
  {
   "cell_type": "code",
   "execution_count": 13,
   "id": "6ea9e71d-41c7-4525-b830-ff1b4d13273b",
   "metadata": {
    "execution": {
     "iopub.execute_input": "2022-06-23T00:33:24.982254Z",
     "iopub.status.busy": "2022-06-23T00:33:24.982254Z",
     "iopub.status.idle": "2022-06-23T00:33:25.002315Z",
     "shell.execute_reply": "2022-06-23T00:33:25.002001Z",
     "shell.execute_reply.started": "2022-06-23T00:33:24.982254Z"
    },
    "tags": []
   },
   "outputs": [],
   "source": [
    "G = flat_graph_formulation(*edges, nodetyperepr=nodetyperepr)"
   ]
  },
  {
   "cell_type": "code",
   "execution_count": 14,
   "id": "687ca5b4-5e22-4591-81f4-5d4d88fdfc7a",
   "metadata": {
    "execution": {
     "iopub.execute_input": "2022-06-23T00:33:25.002315Z",
     "iopub.status.busy": "2022-06-23T00:33:25.002315Z",
     "iopub.status.idle": "2022-06-23T00:33:25.012552Z",
     "shell.execute_reply": "2022-06-23T00:33:25.012032Z",
     "shell.execute_reply.started": "2022-06-23T00:33:25.002315Z"
    },
    "tags": []
   },
   "outputs": [],
   "source": [
    "graphs = build_typedgraph(edges, tree, nodetyperepr)"
   ]
  },
  {
   "cell_type": "code",
   "execution_count": 16,
   "id": "b5ffa702-e6ef-418c-a916-edd6f8a08084",
   "metadata": {
    "execution": {
     "iopub.execute_input": "2022-06-23T00:33:25.023774Z",
     "iopub.status.busy": "2022-06-23T00:33:25.023774Z",
     "iopub.status.idle": "2022-06-23T00:33:25.042396Z",
     "shell.execute_reply": "2022-06-23T00:33:25.042014Z",
     "shell.execute_reply.started": "2022-06-23T00:33:25.023774Z"
    },
    "tags": []
   },
   "outputs": [],
   "source": [
    "# node = Node('geometry', SOLVER)\n",
    "# (list(graphs['root'].predecessors(node)), list(graphs['root'].neighbors(node)))"
   ]
  },
  {
   "cell_type": "code",
   "execution_count": 17,
   "id": "7d9a672f-75b5-45ce-930b-d4bd8641d0cb",
   "metadata": {
    "execution": {
     "iopub.execute_input": "2022-06-23T00:33:25.152354Z",
     "iopub.status.busy": "2022-06-23T00:33:25.152354Z",
     "iopub.status.idle": "2022-06-23T00:33:25.169811Z",
     "shell.execute_reply": "2022-06-23T00:33:25.169674Z",
     "shell.execute_reply.started": "2022-06-23T00:33:25.152354Z"
    },
    "tags": []
   },
   "outputs": [],
   "source": [
    "# var_names = [elt for elt in G.nodes() if elt.nodetype==VAR]\n",
    "# node_shapes = {elt:'o' if elt in var_names else 's' for elt in G.nodes()}\n",
    "# draw(graphs['root'], node_shape='b', prog='circo', latexlabels=False, figsize=(10,10));"
   ]
  },
  {
   "cell_type": "code",
   "execution_count": 18,
   "id": "0d326530-3619-46d0-be9b-24836d261113",
   "metadata": {
    "execution": {
     "iopub.execute_input": "2022-06-23T00:33:25.422291Z",
     "iopub.status.busy": "2022-06-23T00:33:25.415121Z",
     "iopub.status.idle": "2022-06-23T00:33:25.438581Z",
     "shell.execute_reply": "2022-06-23T00:33:25.438387Z",
     "shell.execute_reply.started": "2022-06-23T00:33:25.422291Z"
    },
    "tags": []
   },
   "outputs": [],
   "source": [
    "from datastructures.rendering import render_incidence"
   ]
  },
  {
   "cell_type": "code",
   "execution_count": 19,
   "id": "2fd8972f-830b-4575-82fd-d8411f5afea9",
   "metadata": {
    "execution": {
     "iopub.execute_input": "2022-06-23T00:33:25.673548Z",
     "iopub.status.busy": "2022-06-23T00:33:25.673548Z",
     "iopub.status.idle": "2022-06-23T00:33:25.682216Z",
     "shell.execute_reply": "2022-06-23T00:33:25.682097Z",
     "shell.execute_reply.started": "2022-06-23T00:33:25.673548Z"
    },
    "tags": []
   },
   "outputs": [],
   "source": [
    "from datastructures.graphutils import namefromid"
   ]
  },
  {
   "cell_type": "code",
   "execution_count": 20,
   "id": "c24e5b68-a9da-4996-9a63-8efa46af39ce",
   "metadata": {
    "execution": {
     "iopub.execute_input": "2022-06-23T00:33:25.964020Z",
     "iopub.status.busy": "2022-06-23T00:33:25.964020Z",
     "iopub.status.idle": "2022-06-23T00:33:25.979471Z",
     "shell.execute_reply": "2022-06-23T00:33:25.979302Z",
     "shell.execute_reply.started": "2022-06-23T00:33:25.964020Z"
    },
    "tags": []
   },
   "outputs": [],
   "source": [
    "nodetyperepr2 = {VAR: '{}', COMP: 'f_{{{}}}', SOLVER: '{}'}\n",
    "namingfunc2 = namefromid(nodetyperepr2)"
   ]
  },
  {
   "cell_type": "code",
   "execution_count": 21,
   "id": "cf6f960f-14a5-4580-ba85-6ada88c3df04",
   "metadata": {
    "execution": {
     "iopub.execute_input": "2022-06-23T00:33:26.212129Z",
     "iopub.status.busy": "2022-06-23T00:33:26.212129Z",
     "iopub.status.idle": "2022-06-23T00:33:26.220076Z",
     "shell.execute_reply": "2022-06-23T00:33:26.220076Z",
     "shell.execute_reply.started": "2022-06-23T00:33:26.212129Z"
    },
    "tags": []
   },
   "outputs": [],
   "source": [
    "Ein, Eout, Rin = edges"
   ]
  },
  {
   "cell_type": "code",
   "execution_count": 22,
   "id": "5e31746a-e0a9-474b-85f4-a4eba1317a94",
   "metadata": {
    "execution": {
     "iopub.execute_input": "2022-06-23T00:33:26.432480Z",
     "iopub.status.busy": "2022-06-23T00:33:26.432480Z",
     "iopub.status.idle": "2022-06-23T00:33:26.442530Z",
     "shell.execute_reply": "2022-06-23T00:33:26.441398Z",
     "shell.execute_reply.started": "2022-06-23T00:33:26.432480Z"
    },
    "tags": []
   },
   "outputs": [],
   "source": [
    "Ein_noparam = {comp:tuple(var for var in compvars if not model.idmapping[var].always_input) for comp,compvars in Ein.items()}\n",
    "edges_noparam = Ein_noparam, Eout, Rin"
   ]
  },
  {
   "cell_type": "code",
   "execution_count": 23,
   "id": "b555fce1-a6a1-4f34-a176-97f7795d3d0b",
   "metadata": {
    "execution": {
     "iopub.execute_input": "2022-06-23T00:33:26.877840Z",
     "iopub.status.busy": "2022-06-23T00:33:26.877840Z",
     "iopub.status.idle": "2022-06-23T00:33:27.948078Z",
     "shell.execute_reply": "2022-06-23T00:33:27.947391Z",
     "shell.execute_reply.started": "2022-06-23T00:33:26.877840Z"
    },
    "tags": []
   },
   "outputs": [
    {
     "data": {
      "image/png": "[encoded data removed]",
      "text/plain": [
       "<Figure size 936x936 with 1 Axes>"
      ]
     },
     "metadata": {
      "needs_background": "light"
     },
     "output_type": "display_data"
    }
   ],
   "source": [
    "_, ax = render_incidence(edges_noparam, tree, namingfunc2, figsize=(13,13))"
   ]
  },
  {
   "cell_type": "code",
   "execution_count": 24,
   "id": "7c2d93ac-4e5d-48a5-9023-3b7217d0439a",
   "metadata": {
    "execution": {
     "iopub.execute_input": "2022-06-23T00:33:27.952166Z",
     "iopub.status.busy": "2022-06-23T00:33:27.949587Z",
     "iopub.status.idle": "2022-06-23T00:33:27.964363Z",
     "shell.execute_reply": "2022-06-23T00:33:27.962926Z",
     "shell.execute_reply.started": "2022-06-23T00:33:27.952166Z"
    },
    "tags": []
   },
   "outputs": [],
   "source": [
    "import matplotlib.pyplot as plt"
   ]
  },
  {
   "cell_type": "code",
   "execution_count": 25,
   "id": "664109c6-58b4-46ec-a8c9-cbf440ff442c",
   "metadata": {
    "execution": {
     "iopub.execute_input": "2022-06-23T00:33:28.156940Z",
     "iopub.status.busy": "2022-06-23T00:33:28.156940Z",
     "iopub.status.idle": "2022-06-23T00:33:28.169979Z",
     "shell.execute_reply": "2022-06-23T00:33:28.168036Z",
     "shell.execute_reply.started": "2022-06-23T00:33:28.156940Z"
    },
    "tags": []
   },
   "outputs": [],
   "source": [
    "# plt.sca(ax)\n",
    "# plt.savefig('balloon_naive.png', dpi=600, bbox_inches='tight')"
   ]
  },
  {
   "cell_type": "code",
   "execution_count": 168,
   "id": "09e66466-8997-4447-88a4-3a2bd452d9d3",
   "metadata": {
    "execution": {
     "iopub.execute_input": "2022-06-23T01:14:42.481744Z",
     "iopub.status.busy": "2022-06-23T01:14:42.481744Z",
     "iopub.status.idle": "2022-06-23T01:14:42.503254Z",
     "shell.execute_reply": "2022-06-23T01:14:42.501828Z",
     "shell.execute_reply.started": "2022-06-23T01:14:42.481744Z"
    },
    "tags": []
   },
   "outputs": [],
   "source": [
    "from datastructures.tearing import min_arc_set, min_arc_set_assign, dir_graph\n",
    "import networkx as nx\n",
    "from collections import OrderedDict"
   ]
  },
  {
   "cell_type": "code",
   "execution_count": 28,
   "id": "eb2503e8-a1d6-4c74-925b-39e9a499c213",
   "metadata": {
    "execution": {
     "iopub.execute_input": "2022-06-23T00:34:38.464945Z",
     "iopub.status.busy": "2022-06-23T00:34:38.464945Z",
     "iopub.status.idle": "2022-06-23T00:34:38.474860Z",
     "shell.execute_reply": "2022-06-23T00:34:38.473949Z",
     "shell.execute_reply.started": "2022-06-23T00:34:38.464945Z"
    },
    "tags": []
   },
   "outputs": [],
   "source": [
    "nodetyperepr3 = {VAR: '{}', COMP: '{}', SOLVER: '{}'}"
   ]
  },
  {
   "cell_type": "code",
   "execution_count": 29,
   "id": "fafc6b48-ec92-4695-a295-ee62d47e1a96",
   "metadata": {
    "execution": {
     "iopub.execute_input": "2022-06-23T00:34:38.735155Z",
     "iopub.status.busy": "2022-06-23T00:34:38.735155Z",
     "iopub.status.idle": "2022-06-23T00:34:38.759098Z",
     "shell.execute_reply": "2022-06-23T00:34:38.758115Z",
     "shell.execute_reply.started": "2022-06-23T00:34:38.735155Z"
    },
    "tags": []
   },
   "outputs": [],
   "source": [
    "G = flat_graph_formulation(*edges, nodetyperepr=nodetyperepr3)"
   ]
  },
  {
   "cell_type": "code",
   "execution_count": 116,
   "id": "d8ad887f-4334-4392-af2a-5e738ab400a0",
   "metadata": {
    "execution": {
     "iopub.execute_input": "2022-06-23T00:55:08.686833Z",
     "iopub.status.busy": "2022-06-23T00:55:08.686833Z",
     "iopub.status.idle": "2022-06-23T00:55:08.698666Z",
     "shell.execute_reply": "2022-06-23T00:55:08.698666Z",
     "shell.execute_reply.started": "2022-06-23T00:55:08.686833Z"
    },
    "tags": []
   },
   "outputs": [],
   "source": [
    "eqns = {node.name for node in G.nodes() if node.nodetype == COMP}\n",
    "neqns = max(eqns)+1"
   ]
  },
  {
   "cell_type": "code",
   "execution_count": 117,
   "id": "cae47a95-d6d6-45e2-ab72-11244faedc27",
   "metadata": {
    "execution": {
     "iopub.execute_input": "2022-06-23T00:55:09.161793Z",
     "iopub.status.busy": "2022-06-23T00:55:09.161793Z",
     "iopub.status.idle": "2022-06-23T00:55:09.171067Z",
     "shell.execute_reply": "2022-06-23T00:55:09.170163Z",
     "shell.execute_reply.started": "2022-06-23T00:55:09.161793Z"
    },
    "tags": []
   },
   "outputs": [],
   "source": [
    "vars_no_pars = {var for key,var in model.idmapping.items() if not var.always_input}"
   ]
  },
  {
   "cell_type": "code",
   "execution_count": 118,
   "id": "b43b296c-9d48-46d9-a3e9-9cb322386a77",
   "metadata": {
    "execution": {
     "iopub.execute_input": "2022-06-23T00:55:09.483329Z",
     "iopub.status.busy": "2022-06-23T00:55:09.483329Z",
     "iopub.status.idle": "2022-06-23T00:55:09.502779Z",
     "shell.execute_reply": "2022-06-23T00:55:09.501185Z",
     "shell.execute_reply.started": "2022-06-23T00:55:09.483329Z"
    },
    "tags": []
   },
   "outputs": [],
   "source": [
    "vrs2idx = {str(var):idx+neqns for idx,var in enumerate(vars_no_pars)}"
   ]
  },
  {
   "cell_type": "code",
   "execution_count": 119,
   "id": "d57150b1-56b3-44c6-854f-804f4a73665f",
   "metadata": {
    "execution": {
     "iopub.execute_input": "2022-06-23T00:55:10.002060Z",
     "iopub.status.busy": "2022-06-23T00:55:10.002060Z",
     "iopub.status.idle": "2022-06-23T00:55:10.015477Z",
     "shell.execute_reply": "2022-06-23T00:55:10.014282Z",
     "shell.execute_reply.started": "2022-06-23T00:55:10.002060Z"
    },
    "tags": []
   },
   "outputs": [],
   "source": [
    "avrs = vrs2idx.values()"
   ]
  },
  {
   "cell_type": "code",
   "execution_count": 120,
   "id": "9e89651c-4f5e-4412-84c0-ca82e07fc5d5",
   "metadata": {
    "execution": {
     "iopub.execute_input": "2022-06-23T00:55:10.649201Z",
     "iopub.status.busy": "2022-06-23T00:55:10.649201Z",
     "iopub.status.idle": "2022-06-23T00:55:10.674240Z",
     "shell.execute_reply": "2022-06-23T00:55:10.672736Z",
     "shell.execute_reply.started": "2022-06-23T00:55:10.649201Z"
    },
    "tags": []
   },
   "outputs": [],
   "source": [
    "graph_edges_minassign = [(key.name, vrs2idx[str(var)]) if key.nodetype==COMP else (vrs2idx[str(key)], var.name) for key,var in G.edges() if str(key) in vrs2idx or str(var) in vrs2idx]"
   ]
  },
  {
   "cell_type": "code",
   "execution_count": 30,
   "id": "ba891259-1c4c-4f92-9e7e-7147258af5b3",
   "metadata": {
    "execution": {
     "iopub.execute_input": "2022-06-23T00:34:38.908461Z",
     "iopub.status.busy": "2022-06-23T00:34:38.908461Z",
     "iopub.status.idle": "2022-06-23T00:34:38.921027Z",
     "shell.execute_reply": "2022-06-23T00:34:38.919540Z",
     "shell.execute_reply.started": "2022-06-23T00:34:38.908461Z"
    },
    "tags": []
   },
   "outputs": [],
   "source": [
    "outset = {nodetyperepr3[COMP].format(key): var[0] for key,var in Eout.items()}"
   ]
  },
  {
   "cell_type": "code",
   "execution_count": 31,
   "id": "fba41833-d04c-492e-a849-90f2d099a266",
   "metadata": {
    "execution": {
     "iopub.execute_input": "2022-06-23T00:34:39.064593Z",
     "iopub.status.busy": "2022-06-23T00:34:39.064593Z",
     "iopub.status.idle": "2022-06-23T00:34:39.075407Z",
     "shell.execute_reply": "2022-06-23T00:34:39.074560Z",
     "shell.execute_reply.started": "2022-06-23T00:34:39.064593Z"
    },
    "tags": []
   },
   "outputs": [],
   "source": [
    "from datastructures.graphutils import all_variables"
   ]
  },
  {
   "cell_type": "code",
   "execution_count": 108,
   "id": "1ab3b728-92c6-4a9d-86be-fafb917ccf09",
   "metadata": {
    "execution": {
     "iopub.execute_input": "2022-06-23T00:52:48.746473Z",
     "iopub.status.busy": "2022-06-23T00:52:48.744074Z",
     "iopub.status.idle": "2022-06-23T00:52:48.753527Z",
     "shell.execute_reply": "2022-06-23T00:52:48.752317Z",
     "shell.execute_reply.started": "2022-06-23T00:52:48.745819Z"
    },
    "tags": []
   },
   "outputs": [],
   "source": [
    "vrs = {str(node) for node in G.nodes() if node.nodetype == VAR}\n",
    "eqns = {str(node) for node in G.nodes() if node.nodetype == COMP}"
   ]
  },
  {
   "cell_type": "code",
   "execution_count": 109,
   "id": "4afb5371-dbcc-4c91-b1fd-0edd1d7ccdb8",
   "metadata": {
    "execution": {
     "iopub.execute_input": "2022-06-23T00:52:50.004303Z",
     "iopub.status.busy": "2022-06-23T00:52:50.004303Z",
     "iopub.status.idle": "2022-06-23T00:52:50.029404Z",
     "shell.execute_reply": "2022-06-23T00:52:50.028401Z",
     "shell.execute_reply.started": "2022-06-23T00:52:50.004303Z"
    },
    "tags": []
   },
   "outputs": [],
   "source": [
    "graph_edges = [(str(key), str(var)) for key,var in G.edges()]"
   ]
  },
  {
   "cell_type": "code",
   "execution_count": 34,
   "id": "48e0eb7c-f4b6-48f7-9e8d-cff4dc89894a",
   "metadata": {
    "execution": {
     "iopub.execute_input": "2022-06-23T00:34:39.934775Z",
     "iopub.status.busy": "2022-06-23T00:34:39.934775Z",
     "iopub.status.idle": "2022-06-23T00:34:39.994816Z",
     "shell.execute_reply": "2022-06-23T00:34:39.993191Z",
     "shell.execute_reply.started": "2022-06-23T00:34:39.934775Z"
    },
    "tags": []
   },
   "outputs": [
    {
     "name": "stdout",
     "output_type": "stream",
     "text": [
      "Set parameter Username\n",
      "Academic license - for non-commercial use only - expires 2023-02-25\n"
     ]
    }
   ],
   "source": [
    "_, elimset = min_arc_set(graph_edges, outset, vrs, eqns)"
   ]
  },
  {
   "cell_type": "code",
   "execution_count": 134,
   "id": "4279398f-817c-4f66-a57f-37d7640063a2",
   "metadata": {
    "execution": {
     "iopub.execute_input": "2022-06-23T01:00:09.759665Z",
     "iopub.status.busy": "2022-06-23T01:00:09.759665Z",
     "iopub.status.idle": "2022-06-23T01:00:09.899589Z",
     "shell.execute_reply": "2022-06-23T01:00:09.898839Z",
     "shell.execute_reply.started": "2022-06-23T01:00:09.759665Z"
    },
    "tags": []
   },
   "outputs": [],
   "source": [
    "edges_left_right = list(dir_graph(graph_edges_minassign, eqns, {}))\n",
    "xsol,m = min_arc_set_assign(edges_left_right, avrs, eqns)"
   ]
  },
  {
   "cell_type": "code",
   "execution_count": 158,
   "id": "c971d9d5-2bbe-4551-91a4-f9c8fb7d7e4d",
   "metadata": {
    "execution": {
     "iopub.execute_input": "2022-06-23T01:10:05.360918Z",
     "iopub.status.busy": "2022-06-23T01:10:05.360918Z",
     "iopub.status.idle": "2022-06-23T01:10:05.371694Z",
     "shell.execute_reply": "2022-06-23T01:10:05.370233Z",
     "shell.execute_reply.started": "2022-06-23T01:10:05.360918Z"
    },
    "tags": []
   },
   "outputs": [],
   "source": [
    "selected = tuple((right, left) for left, right in edges_left_right if xsol[left, right] > 0.5)\n",
    "D = nx.DiGraph(dir_graph(edges_left_right, eqns, selected))"
   ]
  },
  {
   "cell_type": "code",
   "execution_count": 163,
   "id": "efc70365-a8f4-47c8-84aa-97eebf299801",
   "metadata": {
    "execution": {
     "iopub.execute_input": "2022-06-23T01:12:28.871600Z",
     "iopub.status.busy": "2022-06-23T01:12:28.870569Z",
     "iopub.status.idle": "2022-06-23T01:12:28.886117Z",
     "shell.execute_reply": "2022-06-23T01:12:28.885990Z",
     "shell.execute_reply.started": "2022-06-23T01:12:28.871600Z"
    },
    "tags": []
   },
   "outputs": [],
   "source": [
    "minassign_order = sort_scc(D, lambda x: x in eqns)"
   ]
  },
  {
   "cell_type": "code",
   "execution_count": 170,
   "id": "fd92dfa9-65a4-4b3e-be51-7ca182414364",
   "metadata": {
    "execution": {
     "iopub.execute_input": "2022-06-23T01:14:55.981387Z",
     "iopub.status.busy": "2022-06-23T01:14:55.981387Z",
     "iopub.status.idle": "2022-06-23T01:14:55.991847Z",
     "shell.execute_reply": "2022-06-23T01:14:55.990433Z",
     "shell.execute_reply.started": "2022-06-23T01:14:55.981387Z"
    },
    "tags": []
   },
   "outputs": [],
   "source": [
    "Ftree_mina = OrderedDict([(next(iter(comp)),'root') for comp in minassign_order])"
   ]
  },
  {
   "cell_type": "code",
   "execution_count": 202,
   "id": "7c50e134-f238-443d-a7e8-24241144969a",
   "metadata": {
    "execution": {
     "iopub.execute_input": "2022-06-23T01:25:28.780475Z",
     "iopub.status.busy": "2022-06-23T01:25:28.779977Z",
     "iopub.status.idle": "2022-06-23T01:25:28.794095Z",
     "shell.execute_reply": "2022-06-23T01:25:28.794095Z",
     "shell.execute_reply.started": "2022-06-23T01:25:28.780475Z"
    },
    "tags": []
   },
   "outputs": [],
   "source": [
    "tree_mina = Ftree_mina, dict(), tree[2]"
   ]
  },
  {
   "cell_type": "code",
   "execution_count": 135,
   "id": "b7c21f4c-35ee-4653-8f3b-3e05b70af111",
   "metadata": {
    "execution": {
     "iopub.execute_input": "2022-06-23T01:00:10.143380Z",
     "iopub.status.busy": "2022-06-23T01:00:10.142640Z",
     "iopub.status.idle": "2022-06-23T01:00:10.160851Z",
     "shell.execute_reply": "2022-06-23T01:00:10.159511Z",
     "shell.execute_reply.started": "2022-06-23T01:00:10.143380Z"
    },
    "tags": []
   },
   "outputs": [
    {
     "data": {
      "text/plain": [
       "23.0"
      ]
     },
     "execution_count": 135,
     "metadata": {},
     "output_type": "execute_result"
    }
   ],
   "source": [
    "sum(xsol.values())"
   ]
  },
  {
   "cell_type": "code",
   "execution_count": 142,
   "id": "b78a2eb4-a568-4e86-a03a-ac491b6ffee7",
   "metadata": {
    "execution": {
     "iopub.execute_input": "2022-06-23T01:02:25.014946Z",
     "iopub.status.busy": "2022-06-23T01:02:25.014484Z",
     "iopub.status.idle": "2022-06-23T01:02:25.023833Z",
     "shell.execute_reply": "2022-06-23T01:02:25.022532Z",
     "shell.execute_reply.started": "2022-06-23T01:02:25.014946Z"
    }
   },
   "outputs": [],
   "source": [
    "idx2vrs = {var:key for key,var in vrs2idx.items()}"
   ]
  },
  {
   "cell_type": "code",
   "execution_count": 145,
   "id": "f46110b4-6464-4a40-8ae7-58dd4418be80",
   "metadata": {
    "execution": {
     "iopub.execute_input": "2022-06-23T01:02:41.144965Z",
     "iopub.status.busy": "2022-06-23T01:02:41.144965Z",
     "iopub.status.idle": "2022-06-23T01:02:41.169748Z",
     "shell.execute_reply": "2022-06-23T01:02:41.168256Z",
     "shell.execute_reply.started": "2022-06-23T01:02:41.144965Z"
    },
    "tags": []
   },
   "outputs": [
    {
     "data": {
      "text/plain": [
       "{0: ('p_z',),\n",
       " 1: ('T_z',),\n",
       " 2: ('g_z',),\n",
       " 3: ('\\\\rho_z',),\n",
       " 4: ('\\\\rho_{LGz}',),\n",
       " 5: ('W_z',),\n",
       " 6: ('L_z',),\n",
       " 7: ('V_z',),\n",
       " 8: ('m_{rz}',),\n",
       " 9: ('r_z',),\n",
       " 10: ('h_z',),\n",
       " 11: ('S',),\n",
       " 12: ('m_b',),\n",
       " 13: ('m_l',),\n",
       " 14: ('m_t',),\n",
       " 15: ('W_0',),\n",
       " 16: ('L_0',),\n",
       " 17: ('D',),\n",
       " 18: ('A_0',),\n",
       " 19: ('r_0',),\n",
       " 20: ('V_0',),\n",
       " 21: ('\\\\rho_{LG0}',),\n",
       " 22: ('m_{r0}',)}"
      ]
     },
     "execution_count": 145,
     "metadata": {},
     "output_type": "execute_result"
    }
   ],
   "source": [
    "Eout"
   ]
  },
  {
   "cell_type": "code",
   "execution_count": 154,
   "id": "3ec54373-403c-407a-a7b1-2a7a2291eae9",
   "metadata": {
    "execution": {
     "iopub.execute_input": "2022-06-23T01:08:19.676826Z",
     "iopub.status.busy": "2022-06-23T01:08:19.676826Z",
     "iopub.status.idle": "2022-06-23T01:08:19.684799Z",
     "shell.execute_reply": "2022-06-23T01:08:19.684799Z",
     "shell.execute_reply.started": "2022-06-23T01:08:19.676826Z"
    },
    "tags": []
   },
   "outputs": [],
   "source": [
    "from itertools import chain"
   ]
  },
  {
   "cell_type": "code",
   "execution_count": 199,
   "id": "50c34dce-60dd-4261-9f58-8eb8aa8c420a",
   "metadata": {
    "execution": {
     "iopub.execute_input": "2022-06-23T01:21:52.830330Z",
     "iopub.status.busy": "2022-06-23T01:21:52.830234Z",
     "iopub.status.idle": "2022-06-23T01:21:52.854493Z",
     "shell.execute_reply": "2022-06-23T01:21:52.853475Z",
     "shell.execute_reply.started": "2022-06-23T01:21:52.830330Z"
    },
    "tags": []
   },
   "outputs": [],
   "source": [
    "Eout_minassign = {}\n",
    "Ein_minassign = {}\n",
    "for comp,var in selected:\n",
    "    varname = idx2vrs[var]\n",
    "    Eout_minassign[comp] = (varname,)\n",
    "    Ein_minassign[comp] = tuple(elt for elt in chain(Ein[comp],Eout[comp]) if elt!=varname)\n",
    "Ein_minassign_np = {comp:tuple(var for var in compvars if not model.idmapping[var].always_input) for comp,compvars in Ein_minassign.items()}"
   ]
  },
  {
   "cell_type": "code",
   "execution_count": 203,
   "id": "cde5bba5-5cbc-484e-820e-32999cc94f2d",
   "metadata": {
    "execution": {
     "iopub.execute_input": "2022-06-23T01:25:35.474076Z",
     "iopub.status.busy": "2022-06-23T01:25:35.474076Z",
     "iopub.status.idle": "2022-06-23T01:25:36.604282Z",
     "shell.execute_reply": "2022-06-23T01:25:36.603811Z",
     "shell.execute_reply.started": "2022-06-23T01:25:35.474076Z"
    },
    "tags": []
   },
   "outputs": [
    {
     "data": {
      "image/png": "[encoded data removed]",
      "text/plain": [
       "<Figure size 936x936 with 1 Axes>"
      ]
     },
     "metadata": {
      "needs_background": "light"
     },
     "output_type": "display_data"
    }
   ],
   "source": [
    "_, ax = render_incidence((Ein_minassign_np, Eout_minassign, dict()), tree_mina, namingfunc2, figsize=(13,13))"
   ]
  },
  {
   "cell_type": "code",
   "execution_count": 204,
   "id": "ea523686-4187-4f36-80ea-d3e212794cba",
   "metadata": {
    "execution": {
     "iopub.execute_input": "2022-06-23T01:25:42.596495Z",
     "iopub.status.busy": "2022-06-23T01:25:42.596495Z",
     "iopub.status.idle": "2022-06-23T01:25:48.905033Z",
     "shell.execute_reply": "2022-06-23T01:25:48.904556Z",
     "shell.execute_reply.started": "2022-06-23T01:25:42.596495Z"
    },
    "tags": []
   },
   "outputs": [
    {
     "data": {
      "image/png": "[encoded data removed]",
      "text/plain": [
       "<Figure size 936x936 with 1 Axes>"
      ]
     },
     "metadata": {
      "needs_background": "light"
     },
     "output_type": "display_data"
    }
   ],
   "source": [
    "plt.sca(ax)\n",
    "plt.savefig('balloon_restructured.png', dpi=600, bbox_inches='tight')"
   ]
  },
  {
   "cell_type": "code",
   "execution_count": 34,
   "id": "8f79e98e-019f-4471-a8a4-5a8e8bdf7623",
   "metadata": {
    "execution": {
     "iopub.execute_input": "2022-06-23T00:32:51.661209Z",
     "iopub.status.busy": "2022-06-23T00:32:51.661209Z",
     "iopub.status.idle": "2022-06-23T00:32:51.676226Z",
     "shell.execute_reply": "2022-06-23T00:32:51.674828Z",
     "shell.execute_reply.started": "2022-06-23T00:32:51.661209Z"
    },
    "tags": []
   },
   "outputs": [
    {
     "data": {
      "text/plain": [
       "{'20', '5'}"
      ]
     },
     "execution_count": 34,
     "metadata": {},
     "output_type": "execute_result"
    }
   ],
   "source": [
    "elimset"
   ]
  },
  {
   "cell_type": "code",
   "execution_count": 49,
   "id": "70506467-6a03-4848-838a-1b9bd6a435ca",
   "metadata": {
    "execution": {
     "iopub.execute_input": "2022-06-23T00:08:55.241869Z",
     "iopub.status.busy": "2022-06-23T00:08:55.241869Z",
     "iopub.status.idle": "2022-06-23T00:08:55.255427Z",
     "shell.execute_reply": "2022-06-23T00:08:55.255427Z",
     "shell.execute_reply.started": "2022-06-23T00:08:55.241869Z"
    },
    "tags": []
   },
   "outputs": [],
   "source": [
    "edges, tree = model.generate_formulation()"
   ]
  },
  {
   "cell_type": "code",
   "execution_count": 50,
   "id": "8ea5cfa2-5017-4839-b88f-e1738366c9dd",
   "metadata": {
    "execution": {
     "iopub.execute_input": "2022-06-23T00:08:55.697053Z",
     "iopub.status.busy": "2022-06-23T00:08:55.696040Z",
     "iopub.status.idle": "2022-06-23T00:08:55.710611Z",
     "shell.execute_reply": "2022-06-23T00:08:55.710611Z",
     "shell.execute_reply.started": "2022-06-23T00:08:55.697053Z"
    },
    "tags": []
   },
   "outputs": [],
   "source": [
    "nodetyperepr4 = {VAR: '{}', COMP: 'f{}', SOLVER: '{}'}\n",
    "G2 = flat_graph_formulation(*edges, nodetyperepr=nodetyperepr4)"
   ]
  },
  {
   "cell_type": "code",
   "execution_count": 51,
   "id": "f2353f4b-476b-4be2-9f1c-05728eca5f20",
   "metadata": {
    "execution": {
     "iopub.execute_input": "2022-06-23T00:08:55.896290Z",
     "iopub.status.busy": "2022-06-23T00:08:55.896290Z",
     "iopub.status.idle": "2022-06-23T00:08:55.913662Z",
     "shell.execute_reply": "2022-06-23T00:08:55.912685Z",
     "shell.execute_reply.started": "2022-06-23T00:08:55.896290Z"
    },
    "tags": []
   },
   "outputs": [],
   "source": [
    "elimedges = [(Node(int(elt),COMP,nodetyperepr4), Node(outset[elt], VAR,nodetyperepr4)) for elt in elimset]"
   ]
  },
  {
   "cell_type": "code",
   "execution_count": 52,
   "id": "3dea84c1-14cf-40c7-8294-fbb819ab7eb4",
   "metadata": {
    "execution": {
     "iopub.execute_input": "2022-06-23T00:08:56.070102Z",
     "iopub.status.busy": "2022-06-23T00:08:56.070102Z",
     "iopub.status.idle": "2022-06-23T00:08:56.083238Z",
     "shell.execute_reply": "2022-06-23T00:08:56.082337Z",
     "shell.execute_reply.started": "2022-06-23T00:08:56.070102Z"
    },
    "tags": []
   },
   "outputs": [
    {
     "data": {
      "text/plain": [
       "[(f17, D), (f14, m_t)]"
      ]
     },
     "execution_count": 52,
     "metadata": {},
     "output_type": "execute_result"
    }
   ],
   "source": [
    "elimedges"
   ]
  },
  {
   "cell_type": "code",
   "execution_count": 53,
   "id": "4823b5dc-0d33-4217-85c8-3ad54fe9af8d",
   "metadata": {
    "execution": {
     "iopub.execute_input": "2022-06-23T00:08:56.233398Z",
     "iopub.status.busy": "2022-06-23T00:08:56.233398Z",
     "iopub.status.idle": "2022-06-23T00:08:56.239384Z",
     "shell.execute_reply": "2022-06-23T00:08:56.238403Z",
     "shell.execute_reply.started": "2022-06-23T00:08:56.233398Z"
    },
    "tags": []
   },
   "outputs": [],
   "source": [
    "G2.remove_edges_from(elimedges)"
   ]
  },
  {
   "cell_type": "code",
   "execution_count": 54,
   "id": "6e269468-cdd1-4dbc-8358-9b96632dcfd0",
   "metadata": {
    "execution": {
     "iopub.execute_input": "2022-06-23T00:08:56.636391Z",
     "iopub.status.busy": "2022-06-23T00:08:56.636391Z",
     "iopub.status.idle": "2022-06-23T00:08:56.644295Z",
     "shell.execute_reply": "2022-06-23T00:08:56.644209Z",
     "shell.execute_reply.started": "2022-06-23T00:08:56.636391Z"
    },
    "tags": []
   },
   "outputs": [],
   "source": [
    "merge_order = sort_scc(G2)"
   ]
  },
  {
   "cell_type": "code",
   "execution_count": 55,
   "id": "0bb73588-94f6-4ba8-8ad2-ac7d6ea87c03",
   "metadata": {
    "execution": {
     "iopub.execute_input": "2022-06-23T00:08:57.140623Z",
     "iopub.status.busy": "2022-06-23T00:08:57.140623Z",
     "iopub.status.idle": "2022-06-23T00:08:57.157255Z",
     "shell.execute_reply": "2022-06-23T00:08:57.156573Z",
     "shell.execute_reply.started": "2022-06-23T00:08:57.140623Z"
    },
    "tags": []
   },
   "outputs": [],
   "source": [
    "nedges, ntree = reorder_merge_solve(edges, tree, merge_order, 2)"
   ]
  },
  {
   "cell_type": "code",
   "execution_count": 56,
   "id": "47fe73f0-c511-4e65-8cfe-ecc48438a35e",
   "metadata": {
    "execution": {
     "iopub.execute_input": "2022-06-23T00:08:57.382654Z",
     "iopub.status.busy": "2022-06-23T00:08:57.381655Z",
     "iopub.status.idle": "2022-06-23T00:08:57.391486Z",
     "shell.execute_reply": "2022-06-23T00:08:57.391109Z",
     "shell.execute_reply.started": "2022-06-23T00:08:57.382654Z"
    },
    "tags": []
   },
   "outputs": [],
   "source": [
    "from collections import OrderedDict"
   ]
  },
  {
   "cell_type": "code",
   "execution_count": 57,
   "id": "03781ff9-c84b-4862-bc3a-8e3ba85aad34",
   "metadata": {
    "execution": {
     "iopub.execute_input": "2022-06-23T00:08:57.590659Z",
     "iopub.status.busy": "2022-06-23T00:08:57.589655Z",
     "iopub.status.idle": "2022-06-23T00:08:57.610090Z",
     "shell.execute_reply": "2022-06-23T00:08:57.609095Z",
     "shell.execute_reply.started": "2022-06-23T00:08:57.590659Z"
    },
    "tags": []
   },
   "outputs": [],
   "source": [
    "Ftree, Stree, Vtree = ntree\n",
    "Ftree = OrderedDict([(key, 'solver') for key,var in Ftree.items()])"
   ]
  },
  {
   "cell_type": "code",
   "execution_count": 62,
   "id": "f37250fe-dd7a-4cb1-bd21-8372be8b4bc1",
   "metadata": {
    "execution": {
     "iopub.execute_input": "2022-06-23T00:09:41.624556Z",
     "iopub.status.busy": "2022-06-23T00:09:41.624556Z",
     "iopub.status.idle": "2022-06-23T00:09:41.630282Z",
     "shell.execute_reply": "2022-06-23T00:09:41.630282Z",
     "shell.execute_reply.started": "2022-06-23T00:09:41.624556Z"
    },
    "tags": []
   },
   "outputs": [],
   "source": [
    "Einn, Eoutn, Rinn = nedges\n",
    "Ein_noparamn = {comp:tuple(var for var in compvars if not model.idmapping[var].always_input) for comp,compvars in Einn.items()}\n",
    "for comp,out in elimedges:\n",
    "    Eoutn[comp.name] = (None,) \n",
    "    Rinn[comp.name] = (str(out),)\n",
    "    Vtree[str(out)] = 'solver'\n",
    "    Stree = {'solver':'root'}\n",
    "edges_noparamn = Ein_noparamn, Eoutn, Rinn\n",
    "ntree = Ftree, Stree, Vtree"
   ]
  },
  {
   "cell_type": "code",
   "execution_count": 63,
   "id": "c5d76f92-1ed9-4db9-8106-dee02c69f0d9",
   "metadata": {
    "execution": {
     "iopub.execute_input": "2022-06-23T00:09:42.039022Z",
     "iopub.status.busy": "2022-06-23T00:09:42.039022Z",
     "iopub.status.idle": "2022-06-23T00:09:42.050318Z",
     "shell.execute_reply": "2022-06-23T00:09:42.049329Z",
     "shell.execute_reply.started": "2022-06-23T00:09:42.039022Z"
    },
    "tags": []
   },
   "outputs": [],
   "source": [
    "order = order_from_tree(Ftree, Stree, Eoutn, includesolver=False, mergeendcomp=False)"
   ]
  },
  {
   "cell_type": "code",
   "execution_count": 64,
   "id": "6507796d-0e9c-4029-beee-a0a85f798be6",
   "metadata": {
    "execution": {
     "iopub.execute_input": "2022-06-23T00:09:42.198442Z",
     "iopub.status.busy": "2022-06-23T00:09:42.198442Z",
     "iopub.status.idle": "2022-06-23T00:09:42.630690Z",
     "shell.execute_reply": "2022-06-23T00:09:42.629777Z",
     "shell.execute_reply.started": "2022-06-23T00:09:42.198442Z"
    },
    "tags": []
   },
   "outputs": [
    {
     "data": {
      "image/png": "[encoded data removed]",
      "text/plain": [
       "<Figure size 936x936 with 1 Axes>"
      ]
     },
     "metadata": {
      "needs_background": "light"
     },
     "output_type": "display_data"
    }
   ],
   "source": [
    "_, ax = render_incidence(edges_noparamn, ntree, namingfunc2, figsize=(13,13), displaysolver=True)"
   ]
  },
  {
   "cell_type": "markdown",
   "id": "87a9d2d6-0d1f-40e6-8118-9dc939f26222",
   "metadata": {},
   "source": [
    "# Solve"
   ]
  },
  {
   "cell_type": "code",
   "execution_count": 18,
   "id": "d9127657-99db-4037-9ea0-47f3192a8611",
   "metadata": {
    "execution": {
     "iopub.execute_input": "2022-06-21T20:47:07.317547Z",
     "iopub.status.busy": "2022-06-21T20:47:07.317547Z",
     "iopub.status.idle": "2022-06-21T20:47:07.333036Z",
     "shell.execute_reply": "2022-06-21T20:47:07.332629Z",
     "shell.execute_reply.started": "2022-06-21T20:47:07.317547Z"
    },
    "tags": []
   },
   "outputs": [],
   "source": [
    "from datastructures.graphutils import namefromsympy"
   ]
  },
  {
   "cell_type": "code",
   "execution_count": 19,
   "id": "cdb0f7d6-6c2a-44ec-be0d-f0ff79d8052b",
   "metadata": {
    "execution": {
     "iopub.execute_input": "2022-06-21T20:47:07.708627Z",
     "iopub.status.busy": "2022-06-21T20:47:07.708627Z",
     "iopub.status.idle": "2022-06-21T20:47:07.714148Z",
     "shell.execute_reply": "2022-06-21T20:47:07.713522Z",
     "shell.execute_reply.started": "2022-06-21T20:47:07.708627Z"
    },
    "tags": []
   },
   "outputs": [],
   "source": [
    "ordered_tree = tree\n",
    "ordered_edges = edges"
   ]
  },
  {
   "cell_type": "code",
   "execution_count": 20,
   "id": "5586dd55-cc88-4adf-a98b-8a7dbbba2958",
   "metadata": {
    "execution": {
     "iopub.execute_input": "2022-06-21T20:47:08.110126Z",
     "iopub.status.busy": "2022-06-21T20:47:08.101580Z",
     "iopub.status.idle": "2022-06-21T20:47:08.126913Z",
     "shell.execute_reply": "2022-06-21T20:47:08.126861Z",
     "shell.execute_reply.started": "2022-06-21T20:47:08.110126Z"
    },
    "tags": []
   },
   "outputs": [],
   "source": [
    "comp_options = model.comp_options\n",
    "var_options = model.var_options\n",
    "solvers_options = model.solvers_options\n",
    "solvers_options['root'] = {'solver': 'N', 'maxiter':20}\n",
    "# solvers_options['apogee'] = {'solver': 'GS', 'maxiter':20}\n",
    "# solvers_options['materials'] = {'solver': 'GS', 'maxiter':20}\n",
    "# solvers_options['mass'] = {'solver': 'GS', 'maxiter':20}\n",
    "# solvers_options['aerodynamics'] = {'solver': 'GS', 'maxiter':20}\n",
    "# solvers_options['geometry'] = {'solver': 'GS', 'maxiter':20}\n",
    "sequence = order_from_tree(ordered_tree[0], ordered_tree[1], ordered_edges[1])\n",
    "solvers_options = default_solver_options(ordered_tree, solvers_options)\n",
    "wf = mdao_workflow(sequence, solvers_options, comp_options, var_options)"
   ]
  },
  {
   "cell_type": "code",
   "execution_count": 22,
   "id": "0e823735-7655-4884-b2a1-04349d8825d8",
   "metadata": {
    "execution": {
     "iopub.execute_input": "2022-06-21T20:47:12.005302Z",
     "iopub.status.busy": "2022-06-21T20:47:12.005302Z",
     "iopub.status.idle": "2022-06-21T20:47:12.030255Z",
     "shell.execute_reply": "2022-06-21T20:47:12.029244Z",
     "shell.execute_reply.started": "2022-06-21T20:47:12.005302Z"
    },
    "tags": []
   },
   "outputs": [],
   "source": [
    "components = model.components\n",
    "lookup_f = get_f(components, ordered_edges)\n",
    "wfmdao = mdao_workflow_with_args(wf, lookup_f, namingfunc)"
   ]
  },
  {
   "cell_type": "code",
   "execution_count": 23,
   "id": "383f22ef-93af-43be-b5a1-9f71208ef575",
   "metadata": {
    "execution": {
     "iopub.execute_input": "2022-06-21T20:47:12.197275Z",
     "iopub.status.busy": "2022-06-21T20:47:12.197275Z",
     "iopub.status.idle": "2022-06-21T20:47:12.222113Z",
     "shell.execute_reply": "2022-06-21T20:47:12.221363Z",
     "shell.execute_reply.started": "2022-06-21T20:47:12.197275Z"
    },
    "tags": []
   },
   "outputs": [],
   "source": [
    "prob, mdao_in, groups = build_archi(ordered_edges, ordered_tree, wfmdao, namingfunc, model.idmapping)"
   ]
  },
  {
   "cell_type": "code",
   "execution_count": 25,
   "id": "40f3aae9-9c41-4d14-ad96-d9a18627b9d8",
   "metadata": {
    "execution": {
     "iopub.execute_input": "2022-06-21T20:47:16.950919Z",
     "iopub.status.busy": "2022-06-21T20:47:16.949890Z",
     "iopub.status.idle": "2022-06-21T20:47:16.963493Z",
     "shell.execute_reply": "2022-06-21T20:47:16.963244Z",
     "shell.execute_reply.started": "2022-06-21T20:47:16.950919Z"
    },
    "tags": []
   },
   "outputs": [],
   "source": [
    "prob.set_val('V_0', 10000)"
   ]
  },
  {
   "cell_type": "code",
   "execution_count": 26,
   "id": "5dc70ed4-28bc-43e9-986b-c720c9fb8310",
   "metadata": {
    "execution": {
     "iopub.execute_input": "2022-06-21T20:47:17.137332Z",
     "iopub.status.busy": "2022-06-21T20:47:17.137332Z",
     "iopub.status.idle": "2022-06-21T20:47:18.929323Z",
     "shell.execute_reply": "2022-06-21T20:47:18.928136Z",
     "shell.execute_reply.started": "2022-06-21T20:47:17.137332Z"
    },
    "tags": []
   },
   "outputs": [
    {
     "name": "stdout",
     "output_type": "stream",
     "text": [
      "\n",
      "====\n",
      "root\n",
      "====\n",
      "NL: Newton Converged in 5 iterations\n"
     ]
    }
   ],
   "source": [
    "prob.run_model()"
   ]
  },
  {
   "cell_type": "markdown",
   "id": "a575f704-c92e-4d2f-9087-b5d1c435f1e0",
   "metadata": {},
   "source": [
    "# Show results"
   ]
  },
  {
   "cell_type": "code",
   "execution_count": 27,
   "id": "90dd6488-5091-4fe8-86a0-8d1ef52360c3",
   "metadata": {
    "execution": {
     "iopub.execute_input": "2022-06-21T20:47:19.525038Z",
     "iopub.status.busy": "2022-06-21T20:47:19.525038Z",
     "iopub.status.idle": "2022-06-21T20:47:19.536823Z",
     "shell.execute_reply": "2022-06-21T20:47:19.536583Z",
     "shell.execute_reply.started": "2022-06-21T20:47:19.525038Z"
    },
    "tags": []
   },
   "outputs": [],
   "source": [
    "from datastructures.postprocess import print_inputs, print_outputs"
   ]
  },
  {
   "cell_type": "code",
   "execution_count": 28,
   "id": "43bdd8e5-0ff5-4f84-9514-31b454ca3d67",
   "metadata": {
    "execution": {
     "iopub.execute_input": "2022-06-21T20:47:20.035451Z",
     "iopub.status.busy": "2022-06-21T20:47:20.035451Z",
     "iopub.status.idle": "2022-06-21T20:47:20.059074Z",
     "shell.execute_reply": "2022-06-21T20:47:20.058753Z",
     "shell.execute_reply.started": "2022-06-21T20:47:20.035451Z"
    },
    "tags": []
   },
   "outputs": [
    {
     "data": {
      "text/html": [
       "<div>\n",
       "<style scoped>\n",
       "    .dataframe tbody tr th:only-of-type {\n",
       "        vertical-align: middle;\n",
       "    }\n",
       "\n",
       "    .dataframe tbody tr th {\n",
       "        vertical-align: top;\n",
       "    }\n",
       "\n",
       "    .dataframe thead th {\n",
       "        text-align: right;\n",
       "    }\n",
       "</style>\n",
       "<table border=\"1\" class=\"dataframe\">\n",
       "  <thead>\n",
       "    <tr style=\"text-align: right;\">\n",
       "      <th></th>\n",
       "      <th>0</th>\n",
       "      <th>1</th>\n",
       "      <th>2</th>\n",
       "    </tr>\n",
       "  </thead>\n",
       "  <tbody>\n",
       "    <tr>\n",
       "      <th>0</th>\n",
       "      <td>p_z</td>\n",
       "      <td>1197</td>\n",
       "      <td>Pa</td>\n",
       "    </tr>\n",
       "    <tr>\n",
       "      <th>1</th>\n",
       "      <td>T_z</td>\n",
       "      <td>226.51</td>\n",
       "      <td>K</td>\n",
       "    </tr>\n",
       "    <tr>\n",
       "      <th>2</th>\n",
       "      <td>g_z</td>\n",
       "      <td>9.715</td>\n",
       "      <td>m/s²</td>\n",
       "    </tr>\n",
       "    <tr>\n",
       "      <th>3</th>\n",
       "      <td>\\rho_z</td>\n",
       "      <td>0.018</td>\n",
       "      <td>kg/m³</td>\n",
       "    </tr>\n",
       "    <tr>\n",
       "      <th>4</th>\n",
       "      <td>\\rho_{LGz}</td>\n",
       "      <td>0.003</td>\n",
       "      <td>kg/m³</td>\n",
       "    </tr>\n",
       "    <tr>\n",
       "      <th>5</th>\n",
       "      <td>W_z</td>\n",
       "      <td>9.443×10⁴</td>\n",
       "      <td>N</td>\n",
       "    </tr>\n",
       "    <tr>\n",
       "      <th>6</th>\n",
       "      <td>L_z</td>\n",
       "      <td>9.443×10⁴</td>\n",
       "      <td>N</td>\n",
       "    </tr>\n",
       "    <tr>\n",
       "      <th>7</th>\n",
       "      <td>V_z</td>\n",
       "      <td>5.280×10⁵</td>\n",
       "      <td>m³</td>\n",
       "    </tr>\n",
       "    <tr>\n",
       "      <th>8</th>\n",
       "      <td>m_{rz}</td>\n",
       "      <td>1341.833</td>\n",
       "      <td>kg</td>\n",
       "    </tr>\n",
       "    <tr>\n",
       "      <th>9</th>\n",
       "      <td>r_z</td>\n",
       "      <td>50.139</td>\n",
       "      <td>m</td>\n",
       "    </tr>\n",
       "    <tr>\n",
       "      <th>10</th>\n",
       "      <td>h_z</td>\n",
       "      <td>150.416</td>\n",
       "      <td>m</td>\n",
       "    </tr>\n",
       "    <tr>\n",
       "      <th>11</th>\n",
       "      <td>S</td>\n",
       "      <td>4.252×10⁴</td>\n",
       "      <td>m²</td>\n",
       "    </tr>\n",
       "    <tr>\n",
       "      <th>12</th>\n",
       "      <td>m_b</td>\n",
       "      <td>2997.151</td>\n",
       "      <td>kg</td>\n",
       "    </tr>\n",
       "    <tr>\n",
       "      <th>13</th>\n",
       "      <td>m_l</td>\n",
       "      <td>1677.616</td>\n",
       "      <td>kg</td>\n",
       "    </tr>\n",
       "    <tr>\n",
       "      <th>14</th>\n",
       "      <td>m_t</td>\n",
       "      <td>9719.767</td>\n",
       "      <td>kg</td>\n",
       "    </tr>\n",
       "    <tr>\n",
       "      <th>15</th>\n",
       "      <td>W_0</td>\n",
       "      <td>9.532×10⁴</td>\n",
       "      <td>N</td>\n",
       "    </tr>\n",
       "    <tr>\n",
       "      <th>16</th>\n",
       "      <td>L_0</td>\n",
       "      <td>1.128×10⁵</td>\n",
       "      <td>N</td>\n",
       "    </tr>\n",
       "    <tr>\n",
       "      <th>17</th>\n",
       "      <td>D</td>\n",
       "      <td>1.752×10⁴</td>\n",
       "      <td>N</td>\n",
       "    </tr>\n",
       "    <tr>\n",
       "      <th>18</th>\n",
       "      <td>A_0</td>\n",
       "      <td>1690.888</td>\n",
       "      <td>m²</td>\n",
       "    </tr>\n",
       "    <tr>\n",
       "      <th>19</th>\n",
       "      <td>r_0</td>\n",
       "      <td>13.089</td>\n",
       "      <td>m</td>\n",
       "    </tr>\n",
       "    <tr>\n",
       "      <th>20</th>\n",
       "      <td>V_0</td>\n",
       "      <td>9393.146</td>\n",
       "      <td>m³</td>\n",
       "    </tr>\n",
       "    <tr>\n",
       "      <th>21</th>\n",
       "      <td>\\rho_{LG0}</td>\n",
       "      <td>0.179</td>\n",
       "      <td>kg/m³</td>\n",
       "    </tr>\n",
       "    <tr>\n",
       "      <th>22</th>\n",
       "      <td>m_{r0}</td>\n",
       "      <td>1677.616</td>\n",
       "      <td>kg</td>\n",
       "    </tr>\n",
       "  </tbody>\n",
       "</table>\n",
       "</div>"
      ],
      "text/plain": [
       "             0          1      2\n",
       "0          p_z       1197     Pa\n",
       "1          T_z     226.51      K\n",
       "2          g_z      9.715   m/s²\n",
       "3       \\rho_z      0.018  kg/m³\n",
       "4   \\rho_{LGz}      0.003  kg/m³\n",
       "5          W_z  9.443×10⁴      N\n",
       "6          L_z  9.443×10⁴      N\n",
       "7          V_z  5.280×10⁵     m³\n",
       "8       m_{rz}   1341.833     kg\n",
       "9          r_z     50.139      m\n",
       "10         h_z    150.416      m\n",
       "11           S  4.252×10⁴     m²\n",
       "12         m_b   2997.151     kg\n",
       "13         m_l   1677.616     kg\n",
       "14         m_t   9719.767     kg\n",
       "15         W_0  9.532×10⁴      N\n",
       "16         L_0  1.128×10⁵      N\n",
       "17           D  1.752×10⁴      N\n",
       "18         A_0   1690.888     m²\n",
       "19         r_0     13.089      m\n",
       "20         V_0   9393.146     m³\n",
       "21  \\rho_{LG0}      0.179  kg/m³\n",
       "22      m_{r0}   1677.616     kg"
      ]
     },
     "execution_count": 28,
     "metadata": {},
     "output_type": "execute_result"
    }
   ],
   "source": [
    "print_outputs(model, prob, namingfunc)"
   ]
  },
  {
   "cell_type": "code",
   "execution_count": 29,
   "id": "792ffce7-041c-4dea-88af-f48a1a736747",
   "metadata": {
    "execution": {
     "iopub.execute_input": "2022-06-21T20:47:20.472945Z",
     "iopub.status.busy": "2022-06-21T20:47:20.472945Z",
     "iopub.status.idle": "2022-06-21T20:47:20.489123Z",
     "shell.execute_reply": "2022-06-21T20:47:20.488245Z",
     "shell.execute_reply.started": "2022-06-21T20:47:20.472945Z"
    },
    "tags": []
   },
   "outputs": [],
   "source": [
    "for key,var in model.comp_by_var.items():\n",
    "    key.varval = prob.get_val(namingfunc(key.varid, VAR))[0]\n",
    "    key.assumed = {key2: prob.get_val(namingfunc(key2.varid, VAR))[0] for key2,var2 in key.assumed.items()}"
   ]
  },
  {
   "cell_type": "code",
   "execution_count": 35,
   "id": "481e876c-38e8-4ef2-ba76-63fc8d4411d6",
   "metadata": {
    "execution": {
     "iopub.execute_input": "2022-06-21T20:48:22.864813Z",
     "iopub.status.busy": "2022-06-21T20:48:22.864813Z",
     "iopub.status.idle": "2022-06-21T20:48:22.887785Z",
     "shell.execute_reply": "2022-06-21T20:48:22.886806Z",
     "shell.execute_reply.started": "2022-06-21T20:48:22.864813Z"
    },
    "tags": []
   },
   "outputs": [
    {
     "data": {
      "text/latex": [
       "$9719.767 \\ (m_l=1677.616 )$"
      ],
      "text/plain": [
       "dummy"
      ]
     },
     "execution_count": 35,
     "metadata": {},
     "output_type": "execute_result"
    }
   ],
   "source": [
    "evalexpr(m_b+m_vhc+m_l+m_parafoil)"
   ]
  },
  {
   "cell_type": "code",
   "execution_count": 34,
   "id": "e29c0054-34d1-49ed-a79e-3cb0ee6527fc",
   "metadata": {
    "execution": {
     "iopub.execute_input": "2022-06-21T20:48:03.331147Z",
     "iopub.status.busy": "2022-06-21T20:48:03.331147Z",
     "iopub.status.idle": "2022-06-21T20:48:03.355743Z",
     "shell.execute_reply": "2022-06-21T20:48:03.354421Z",
     "shell.execute_reply.started": "2022-06-21T20:48:03.331147Z"
    }
   },
   "outputs": [
    {
     "data": {
      "text/latex": [
       "$m_t=9719.767\\ \\mathrm{kg}\\ (m_b=2997.151 ,m_l=1677.616 )$"
      ],
      "text/plain": [
       "m_t"
      ]
     },
     "execution_count": 34,
     "metadata": {},
     "output_type": "execute_result"
    }
   ],
   "source": [
    "m_t"
   ]
  },
  {
   "cell_type": "code",
   "execution_count": 38,
   "id": "752ce47d-76a3-4a84-b096-fa15f35e83c1",
   "metadata": {
    "execution": {
     "iopub.execute_input": "2022-06-21T23:36:38.846299Z",
     "iopub.status.busy": "2022-06-21T23:36:38.846299Z",
     "iopub.status.idle": "2022-06-21T23:36:38.864568Z",
     "shell.execute_reply": "2022-06-21T23:36:38.864302Z",
     "shell.execute_reply.started": "2022-06-21T23:36:38.846299Z"
    },
    "tags": []
   },
   "outputs": [
    {
     "data": {
      "text/plain": [
       "'W_0'"
      ]
     },
     "execution_count": 38,
     "metadata": {},
     "output_type": "execute_result"
    }
   ],
   "source": [
    "namingfunc('W_0', VAR)"
   ]
  },
  {
   "cell_type": "code",
   "execution_count": null,
   "id": "5ff63dd0-905d-4e25-b9ab-5c6568af6ba3",
   "metadata": {},
   "outputs": [],
   "source": []
  }
 ],
 "metadata": {
  "kernelspec": {
   "display_name": "Python [conda env:mdo]",
   "language": "python",
   "name": "conda-env-mdo-py"
  },
  "language_info": {
   "codemirror_mode": {
    "name": "ipython",
    "version": 3
   },
   "file_extension": ".py",
   "mimetype": "text/x-python",
   "name": "python",
   "nbconvert_exporter": "python",
   "pygments_lexer": "ipython3",
   "version": "3.9.7"
  }
 },
 "nbformat": 4,
 "nbformat_minor": 5
}
