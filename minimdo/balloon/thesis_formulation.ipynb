{
 "cells": [
  {
   "cell_type": "code",
   "execution_count": 1,
   "id": "c76e502f-e0e9-4ee3-b59d-836f459eeacc",
   "metadata": {
    "execution": {
     "iopub.execute_input": "2022-07-08T03:20:16.666510Z",
     "iopub.status.busy": "2022-07-08T03:20:16.665510Z",
     "iopub.status.idle": "2022-07-08T03:20:19.457729Z",
     "shell.execute_reply": "2022-07-08T03:20:19.457729Z",
     "shell.execute_reply.started": "2022-07-08T03:20:16.666510Z"
    },
    "tags": []
   },
   "outputs": [],
   "source": [
    "from compute import Var, Par\n",
    "from datastructures.api import Model, adda, addf, addsolver, setsolvefor, edges_no_param\n",
    "from datastructures.execution import edges_from_components\n",
    "from datastructures.graphutils import (namefromsympy, namefromid, dfs_tree, SOLVER, VAR, COMP, \n",
    "nested_sources, sources, edges_to_Ein_Eout, flat_graph_formulation, root_solver, \n",
    "all_edges, all_variables, copy_dicts, Node)\n",
    "from datastructures.nestedgraph import build_typedgraph, root_sources\n",
    "from datastructures.mergegraph import get_edges\n",
    "from datastructures.execution import generate_components_and_residuals\n",
    "from datastructures.workflow import get_f, order_from_tree, default_solver_options, mdao_workflow, implicit_comp_name\n",
    "from datastructures.workflow_mdao import mdao_workflow_with_args\n",
    "from datastructures.operators import sort_scc, reorder_merge_solve\n",
    "from datastructures.assembly import build_archi\n",
    "from datastructures.rendering import render_incidence\n",
    "import openmdao.api as om\n",
    "from datastructures.api import evalexpr\n",
    "from constants_balloon import ρinterp, Pinterp, Ginterp, Tinterp\n",
    "import numpy as np\n",
    "from datastructures.postprocess import print_values_static, print_inputs, print_outputs\n",
    "from datastructures.tearing import dir_graph, min_arc_set_assign, min_arc_set, min_max_scc, min_max_scc2\n",
    "from itertools import chain\n",
    "from collections import OrderedDict\n",
    "import networkx as nx"
   ]
  },
  {
   "attachments": {
    "ce1cab48-84ab-44b5-b327-90f0dbce4791.png": {
     "image/png": "[encoded data removed]"
    }
   },
   "cell_type": "markdown",
   "id": "37dac2c3-8637-454b-bcd5-2cce224fa7cb",
   "metadata": {},
   "source": [
    "![phdthesis - balloon.png](attachment:ce1cab48-84ab-44b5-b327-90f0dbce4791.png)"
   ]
  },
  {
   "cell_type": "markdown",
   "id": "96ff78ec-77be-4e8d-84e9-aa10cba2a2a7",
   "metadata": {},
   "source": [
    "# General"
   ]
  },
  {
   "cell_type": "code",
   "execution_count": 2,
   "id": "1a59d5d6-05f6-49af-a0e5-c8e89b5120f9",
   "metadata": {
    "execution": {
     "iopub.execute_input": "2022-07-08T03:20:19.457729Z",
     "iopub.status.busy": "2022-07-08T03:20:19.457729Z",
     "iopub.status.idle": "2022-07-08T03:20:19.473835Z",
     "shell.execute_reply": "2022-07-08T03:20:19.473548Z",
     "shell.execute_reply.started": "2022-07-08T03:20:19.457729Z"
    },
    "tags": []
   },
   "outputs": [],
   "source": [
    "model = Model(rootname='root')\n",
    "m = model.root\n",
    "idbyname = True\n",
    "#m = addsolver(r)\n",
    "z = Var('z', 30, unit='km')\n",
    "R = Par('R', 287.05, 'J/kg/K')\n",
    "alpha = Par(r'\\alpha', 1)"
   ]
  },
  {
   "cell_type": "markdown",
   "id": "c8600ee3-0e73-4a54-b722-c5b460de614c",
   "metadata": {},
   "source": [
    "# Apogee"
   ]
  },
  {
   "cell_type": "code",
   "execution_count": 3,
   "id": "d7be3196-1c06-4ba4-ba84-b3659449a580",
   "metadata": {
    "execution": {
     "iopub.execute_input": "2022-07-08T03:20:19.474967Z",
     "iopub.status.busy": "2022-07-08T03:20:19.474967Z",
     "iopub.status.idle": "2022-07-08T03:20:19.960814Z",
     "shell.execute_reply": "2022-07-08T03:20:19.960814Z",
     "shell.execute_reply.started": "2022-07-08T03:20:19.474967Z"
    },
    "tags": []
   },
   "outputs": [],
   "source": [
    "apogee = addsolver(m, name='apogee', idbyname=idbyname)\n",
    "pz = adda(apogee, 'p_z', lambda z: Pinterp(z), (z,), unit='Pa') # input assumed to be SI base (i.e. meter)\n",
    "Tz = adda(apogee, 'T_z', lambda z: Tinterp(z), (z,), unit='K') # is in Kelvin already\n",
    "gz = adda(apogee, 'g_z', lambda z: Ginterp(z), (z,), unit='m/s^2') # is in Kelvin already\n",
    "rhoz = adda(apogee, r'\\rho_z', pz/(R*Tz))\n",
    "k = Par('k', 1.38064852e-23, 'J/K')\n",
    "mm_He = Par('M_{He}', 6.64e-27, 'kg')\n",
    "mm_H2 = Par('M_{H2}', 1.66e-27, 'kg')\n",
    "rho_LGz = adda(apogee, r'\\rho_{LGz}', pz*(alpha*mm_He+(1-alpha)*mm_H2)/(k*Tz))\n",
    "m_t = Var('m_t', unit='kg')\n",
    "W_z = adda(apogee, 'W_z', gz*m_t, unit='N')\n",
    "L_z = adda(apogee, 'L_z', W_z, unit='N')\n",
    "V_z = adda(apogee, 'V_z', L_z/(gz*rhoz))\n",
    "mrz = adda(apogee, 'm_{rz}', V_z*rho_LGz)"
   ]
  },
  {
   "cell_type": "markdown",
   "id": "4a6f627e-104f-4e21-a8ba-0744726949f4",
   "metadata": {},
   "source": [
    "# Materials"
   ]
  },
  {
   "cell_type": "code",
   "execution_count": 4,
   "id": "601a193c-5b10-4b73-ad55-be10c7e44599",
   "metadata": {
    "execution": {
     "iopub.execute_input": "2022-07-08T03:20:19.962179Z",
     "iopub.status.busy": "2022-07-08T03:20:19.962179Z",
     "iopub.status.idle": "2022-07-08T03:20:20.131561Z",
     "shell.execute_reply": "2022-07-08T03:20:20.131561Z",
     "shell.execute_reply.started": "2022-07-08T03:20:19.962179Z"
    },
    "tags": []
   },
   "outputs": [],
   "source": [
    "materials = addsolver(m, name='materials', idbyname=idbyname)\n",
    "rz = adda(materials, 'r_z', (3*abs(V_z)/(4*np.pi))**(1/3), unit='m', forceunit=True)\n",
    "hz = adda(materials, 'h_z', 2*(3/2)*rz)\n",
    "p = Par('p', 8/5) #some parameter\n",
    "S = adda(materials, 'S', 4*np.pi*(((rz**2)**p+2*abs(rz)**p*(abs(hz)/2)**p)/3)**(1/p))\n",
    "t_LLDPE = Par('t_S', 25.4e-6*1, 'm')\n",
    "rho_LLDPE = Par(r'\\rho_S', 925, 'kg/m^3')\n",
    "m_b = adda(materials, 'm_b', 2*(3/2)*S*t_LLDPE*rho_LLDPE)"
   ]
  },
  {
   "cell_type": "markdown",
   "id": "1923ee22-f6d6-45bd-9f55-559c52b8afb5",
   "metadata": {},
   "source": [
    "# Mass budget"
   ]
  },
  {
   "cell_type": "code",
   "execution_count": 5,
   "id": "6474cb28-7f49-496e-88a8-16024c059e97",
   "metadata": {
    "execution": {
     "iopub.execute_input": "2022-07-08T03:20:20.133558Z",
     "iopub.status.busy": "2022-07-08T03:20:20.132560Z",
     "iopub.status.idle": "2022-07-08T03:20:20.147820Z",
     "shell.execute_reply": "2022-07-08T03:20:20.147820Z",
     "shell.execute_reply.started": "2022-07-08T03:20:20.133558Z"
    },
    "tags": []
   },
   "outputs": [],
   "source": [
    "m_b = Var('m_b', unit='kg')"
   ]
  },
  {
   "cell_type": "code",
   "execution_count": 6,
   "id": "f33fb5ba-ba7e-4f62-8ce4-5d6c501b0f78",
   "metadata": {
    "execution": {
     "iopub.execute_input": "2022-07-08T03:20:20.148966Z",
     "iopub.status.busy": "2022-07-08T03:20:20.148966Z",
     "iopub.status.idle": "2022-07-08T03:20:20.210535Z",
     "shell.execute_reply": "2022-07-08T03:20:20.210288Z",
     "shell.execute_reply.started": "2022-07-08T03:20:20.148966Z"
    },
    "tags": []
   },
   "outputs": [],
   "source": [
    "mass = addsolver(m, name='mass', idbyname=idbyname)\n",
    "m_vhc = Par('m_v', 4545, 'kg')\n",
    "m_parafoil = Par('m_p', 500., 'kg')\n",
    "mr0 = Var('m_{r0}', unit='kg')\n",
    "m_l = adda(mass, 'm_l', lambda m1,m2: max(m1,m2), (mrz, mr0), unit='kg')#adda(mass, 'm_l', mr0, unit='kg')\n",
    "adda(mass, m_t, m_vhc+m_parafoil+m_l+m_b);"
   ]
  },
  {
   "cell_type": "markdown",
   "id": "1d830def-2b9e-48e0-9bb2-82d4fdac2a82",
   "metadata": {},
   "source": [
    "# Balloon at STP"
   ]
  },
  {
   "cell_type": "markdown",
   "id": "d0e69347-7a40-4b86-a844-7e455cde1cf6",
   "metadata": {},
   "source": [
    "## Aerodynamics"
   ]
  },
  {
   "cell_type": "code",
   "execution_count": 7,
   "id": "18d3d3ae-2541-496e-ad25-2ebbcb18a837",
   "metadata": {
    "execution": {
     "iopub.execute_input": "2022-07-08T03:20:20.212837Z",
     "iopub.status.busy": "2022-07-08T03:20:20.211838Z",
     "iopub.status.idle": "2022-07-08T03:20:20.524599Z",
     "shell.execute_reply": "2022-07-08T03:20:20.523676Z",
     "shell.execute_reply.started": "2022-07-08T03:20:20.212837Z"
    },
    "tags": []
   },
   "outputs": [],
   "source": [
    "aero = addsolver(m, name='aerodynamics', idbyname=idbyname)\n",
    "V_0 = Var('V_0', unit='m^3')\n",
    "g = Par('g', Ginterp(0), unit='m/s^2')\n",
    "rho_0 = Par(r'\\rho_0', ρinterp(0), 'kg/m^3')\n",
    "W_0 = adda(aero, 'W_0', g*m_t, unit='N')\n",
    "L_0 = adda(aero, 'L_0', g*rho_0*V_0, unit='N')\n",
    "D = adda(aero, 'D', lambda L_0, W_0: max(L_0-W_0,0), (L_0,W_0), unit='N') #adda(aero, 'D', L_0-W_0, unit='N')\n",
    "C_D = Par('C_D', 0.47)\n",
    "vr = Var('v', 6, 'm/s')\n",
    "A_0 = adda(aero, 'A_0', 2*D/(C_D*rho_0*vr**2))"
   ]
  },
  {
   "cell_type": "markdown",
   "id": "9d4b1340-bee6-4987-a83a-a20fb5f401ae",
   "metadata": {},
   "source": [
    "## Geometry"
   ]
  },
  {
   "cell_type": "code",
   "execution_count": 8,
   "id": "ae21b598-c6ba-4fcc-a996-e34fcc2d2c9a",
   "metadata": {
    "execution": {
     "iopub.execute_input": "2022-07-08T03:20:20.525683Z",
     "iopub.status.busy": "2022-07-08T03:20:20.525683Z",
     "iopub.status.idle": "2022-07-08T03:20:20.587673Z",
     "shell.execute_reply": "2022-07-08T03:20:20.587673Z",
     "shell.execute_reply.started": "2022-07-08T03:20:20.525683Z"
    },
    "tags": []
   },
   "outputs": [
    {
     "data": {
      "text/latex": [
       "$m_{r0}=0\\ \\mathrm{kg}\\ (V_0=0 )$"
      ],
      "text/plain": [
       "m_{r0}"
      ]
     },
     "execution_count": 8,
     "metadata": {},
     "output_type": "execute_result"
    }
   ],
   "source": [
    "geom = addsolver(m, name='geometry', idbyname=idbyname)\n",
    "r_0 = adda(geom, 'r_0', 1/np.pi*abs(A_0)**0.5, unit='m')\n",
    "adda(geom, V_0, 4/3*np.pi*r_0**3, unit='m^3')\n",
    "rho_He = Par(r'\\rho_{He}', 0.1786, 'kg/m^3')\n",
    "rho_H2 = Par(r'\\rho_{H2}', 0.08988, 'kg/m^3')\n",
    "rho_LG0 = adda(geom, r'\\rho_{LG0}', alpha*rho_He+(1-alpha)*rho_H2)\n",
    "adda(geom, mr0, V_0*rho_LG0)           "
   ]
  },
  {
   "cell_type": "markdown",
   "id": "d800e912-76b3-44a2-8f2b-af15e7911501",
   "metadata": {},
   "source": [
    "# Visualize model"
   ]
  },
  {
   "cell_type": "code",
   "execution_count": 9,
   "id": "f7bd1c11-2d2c-4277-bac7-34389f6c9e1d",
   "metadata": {
    "execution": {
     "iopub.execute_input": "2022-07-08T03:20:20.589598Z",
     "iopub.status.busy": "2022-07-08T03:20:20.589598Z",
     "iopub.status.idle": "2022-07-08T03:20:20.603709Z",
     "shell.execute_reply": "2022-07-08T03:20:20.603709Z",
     "shell.execute_reply.started": "2022-07-08T03:20:20.589598Z"
    },
    "tags": []
   },
   "outputs": [],
   "source": [
    "nodetyperepr = {VAR: '{}', COMP: 'f_{{{}}}', SOLVER: '{}'}\n",
    "edges, tree = model.generate_formulation()\n",
    "edges_nopar = edges_no_param(model, edges) # filter out variables that are parameters"
   ]
  },
  {
   "cell_type": "markdown",
   "id": "79a3fb25-0f15-4092-9e8f-b73a0514b0d1",
   "metadata": {},
   "source": [
    "## HSM"
   ]
  },
  {
   "cell_type": "code",
   "execution_count": 10,
   "id": "d9387a83-298d-4bdf-8bc5-69a2146ee3fa",
   "metadata": {
    "execution": {
     "iopub.execute_input": "2022-07-08T03:20:20.605753Z",
     "iopub.status.busy": "2022-07-08T03:20:20.605753Z",
     "iopub.status.idle": "2022-07-08T03:20:20.619481Z",
     "shell.execute_reply": "2022-07-08T03:20:20.618748Z",
     "shell.execute_reply.started": "2022-07-08T03:20:20.605753Z"
    },
    "tags": []
   },
   "outputs": [],
   "source": [
    "nodetyperepr_hsm = {VAR: '{}', COMP: 'f_{{{}}}', SOLVER: '{}'}\n",
    "namingfunc_hsm = namefromid(nodetyperepr_hsm)"
   ]
  },
  {
   "cell_type": "code",
   "execution_count": 11,
   "id": "b555fce1-a6a1-4f34-a176-97f7795d3d0b",
   "metadata": {
    "execution": {
     "iopub.execute_input": "2022-07-08T03:20:20.958007Z",
     "iopub.status.busy": "2022-07-08T03:20:20.958007Z",
     "iopub.status.idle": "2022-07-08T03:20:21.826773Z",
     "shell.execute_reply": "2022-07-08T03:20:21.825771Z",
     "shell.execute_reply.started": "2022-07-08T03:20:20.958007Z"
    },
    "tags": []
   },
   "outputs": [
    {
     "data": {
      "image/png": "[encoded data removed]",
      "text/plain": [
       "<Figure size 576x576 with 1 Axes>"
      ]
     },
     "metadata": {
      "needs_background": "light"
     },
     "output_type": "display_data"
    }
   ],
   "source": [
    "_, ax = render_incidence(edges_nopar, tree, namingfunc_hsm, figsize=(8,8))"
   ]
  },
  {
   "cell_type": "markdown",
   "id": "6fd92daa-9820-40c5-87bd-82d4c8fc48f8",
   "metadata": {},
   "source": [
    "## Graph of partitions (level 1) "
   ]
  },
  {
   "cell_type": "code",
   "execution_count": 12,
   "id": "0941a1ae-e4fc-4cd7-95e5-2ae67bb05333",
   "metadata": {
    "execution": {
     "iopub.execute_input": "2022-07-08T03:20:21.827774Z",
     "iopub.status.busy": "2022-07-08T03:20:21.827774Z",
     "iopub.status.idle": "2022-07-08T03:20:21.841778Z",
     "shell.execute_reply": "2022-07-08T03:20:21.841778Z",
     "shell.execute_reply.started": "2022-07-08T03:20:21.827774Z"
    },
    "tags": []
   },
   "outputs": [],
   "source": [
    "from representations import draw"
   ]
  },
  {
   "cell_type": "code",
   "execution_count": 13,
   "id": "687ca5b4-5e22-4591-81f4-5d4d88fdfc7a",
   "metadata": {
    "execution": {
     "iopub.execute_input": "2022-07-03T01:06:15.501215Z",
     "iopub.status.busy": "2022-07-03T01:06:15.500803Z",
     "iopub.status.idle": "2022-07-03T01:06:15.515079Z",
     "shell.execute_reply": "2022-07-03T01:06:15.514063Z",
     "shell.execute_reply.started": "2022-07-03T01:06:15.501215Z"
    },
    "tags": []
   },
   "outputs": [],
   "source": [
    "graphs = build_typedgraph(edges_nopar, tree, nodetyperepr, exclude_unique_sources=False)"
   ]
  },
  {
   "cell_type": "code",
   "execution_count": 14,
   "id": "7d9a672f-75b5-45ce-930b-d4bd8641d0cb",
   "metadata": {
    "execution": {
     "iopub.execute_input": "2022-07-03T01:06:15.515079Z",
     "iopub.status.busy": "2022-07-03T01:06:15.515079Z",
     "iopub.status.idle": "2022-07-03T01:06:16.057549Z",
     "shell.execute_reply": "2022-07-03T01:06:16.056963Z",
     "shell.execute_reply.started": "2022-07-03T01:06:15.515079Z"
    },
    "tags": []
   },
   "outputs": [
    {
     "data": {
      "image/png": "[encoded data removed]",
      "text/plain": [
       "<Figure size 576x576 with 1 Axes>"
      ]
     },
     "metadata": {},
     "output_type": "display_data"
    }
   ],
   "source": [
    "level = 'root'\n",
    "G = graphs[level]\n",
    "var_names = [elt for elt in G.nodes() if elt.nodetype==VAR]\n",
    "node_shapes = {elt:'o' if elt in var_names else 's' for elt in G.nodes()}\n",
    "draw(G, node_shape='b', prog='neato', latexlabels=False, figsize=(8,8));"
   ]
  },
  {
   "cell_type": "markdown",
   "id": "98b3b5c3-52cd-4922-9c17-8703d8a484f5",
   "metadata": {},
   "source": [
    "# Rearrange for feasability"
   ]
  },
  {
   "cell_type": "code",
   "execution_count": 13,
   "id": "11a7354a-a325-47bd-8a80-f0aa0b81a450",
   "metadata": {
    "execution": {
     "iopub.execute_input": "2022-07-08T03:20:34.611166Z",
     "iopub.status.busy": "2022-07-08T03:20:34.611166Z",
     "iopub.status.idle": "2022-07-08T03:20:34.627218Z",
     "shell.execute_reply": "2022-07-08T03:20:34.626274Z",
     "shell.execute_reply.started": "2022-07-08T03:20:34.611166Z"
    },
    "tags": []
   },
   "outputs": [],
   "source": [
    "#l1_edges = get_edges(graphs['root'])"
   ]
  },
  {
   "cell_type": "code",
   "execution_count": 14,
   "id": "2c5991da-663c-40fb-b9bd-61e7d44c45e8",
   "metadata": {
    "execution": {
     "iopub.execute_input": "2022-07-08T03:20:34.826050Z",
     "iopub.status.busy": "2022-07-08T03:20:34.826050Z",
     "iopub.status.idle": "2022-07-08T03:20:34.846542Z",
     "shell.execute_reply": "2022-07-08T03:20:34.845569Z",
     "shell.execute_reply.started": "2022-07-08T03:20:34.826050Z"
    },
    "tags": []
   },
   "outputs": [],
   "source": [
    "edges_for_solving = copy_dicts(edges_nopar)"
   ]
  },
  {
   "cell_type": "code",
   "execution_count": 15,
   "id": "849d02b8-2e35-4d0f-90bb-a5f5b8ff401c",
   "metadata": {
    "execution": {
     "iopub.execute_input": "2022-07-08T03:20:35.011438Z",
     "iopub.status.busy": "2022-07-08T03:20:35.010351Z",
     "iopub.status.idle": "2022-07-08T03:20:35.017817Z",
     "shell.execute_reply": "2022-07-08T03:20:35.017612Z",
     "shell.execute_reply.started": "2022-07-08T03:20:35.011438Z"
    },
    "tags": []
   },
   "outputs": [],
   "source": [
    "eqns = list(edges_for_solving[1].keys())\n",
    "allvrs = all_variables(*edges_for_solving)"
   ]
  },
  {
   "cell_type": "code",
   "execution_count": 16,
   "id": "0ba9342e-8d21-4198-ad24-e94ef8fbdfbf",
   "metadata": {
    "execution": {
     "iopub.execute_input": "2022-07-08T03:20:35.194881Z",
     "iopub.status.busy": "2022-07-08T03:20:35.194881Z",
     "iopub.status.idle": "2022-07-08T03:20:35.206119Z",
     "shell.execute_reply": "2022-07-08T03:20:35.205876Z",
     "shell.execute_reply.started": "2022-07-08T03:20:35.194881Z"
    },
    "tags": []
   },
   "outputs": [],
   "source": [
    "graph_edges_minassign = all_edges(*edges_for_solving)"
   ]
  },
  {
   "cell_type": "code",
   "execution_count": 17,
   "id": "26017544-c844-48fd-89a8-2daf929c2d07",
   "metadata": {
    "execution": {
     "iopub.execute_input": "2022-07-08T03:20:35.370608Z",
     "iopub.status.busy": "2022-07-08T03:20:35.370608Z",
     "iopub.status.idle": "2022-07-08T03:20:35.376737Z",
     "shell.execute_reply": "2022-07-08T03:20:35.376605Z",
     "shell.execute_reply.started": "2022-07-08T03:20:35.370608Z"
    },
    "tags": []
   },
   "outputs": [],
   "source": [
    "edges_left_right = list(dir_graph(graph_edges_minassign, eqns, {}))"
   ]
  },
  {
   "cell_type": "markdown",
   "id": "b8858d61-c6d0-4609-9f6c-17dba407a485",
   "metadata": {
    "tags": []
   },
   "source": [
    "## Conventional tearing"
   ]
  },
  {
   "cell_type": "code",
   "execution_count": 18,
   "id": "f715b657-86f8-4201-898f-35626378fdaa",
   "metadata": {
    "execution": {
     "iopub.execute_input": "2022-07-08T03:20:37.690299Z",
     "iopub.status.busy": "2022-07-08T03:20:37.690299Z",
     "iopub.status.idle": "2022-07-08T03:20:37.706804Z",
     "shell.execute_reply": "2022-07-08T03:20:37.705799Z",
     "shell.execute_reply.started": "2022-07-08T03:20:37.690299Z"
    },
    "tags": []
   },
   "outputs": [],
   "source": [
    "dout = {comp: var[0] for comp,var in edges[1].items()}"
   ]
  },
  {
   "cell_type": "code",
   "execution_count": 19,
   "id": "2c645da0-ff0e-4bae-9dd8-8b3d814333b6",
   "metadata": {
    "execution": {
     "iopub.execute_input": "2022-07-08T03:20:37.926602Z",
     "iopub.status.busy": "2022-07-08T03:20:37.925594Z",
     "iopub.status.idle": "2022-07-08T03:20:37.956289Z",
     "shell.execute_reply": "2022-07-08T03:20:37.956103Z",
     "shell.execute_reply.started": "2022-07-08T03:20:37.926602Z"
    },
    "tags": []
   },
   "outputs": [
    {
     "name": "stdout",
     "output_type": "stream",
     "text": [
      "Set parameter Username\n",
      "Academic license - for non-commercial use only - expires 2023-02-25\n"
     ]
    }
   ],
   "source": [
    "cycles, elimset = min_arc_set(edges_left_right, dout, allvrs, eqns)"
   ]
  },
  {
   "cell_type": "code",
   "execution_count": 20,
   "id": "c2003b93-5b5d-421b-a7f4-99a591324df3",
   "metadata": {
    "execution": {
     "iopub.execute_input": "2022-07-08T03:20:38.524639Z",
     "iopub.status.busy": "2022-07-08T03:20:38.524639Z",
     "iopub.status.idle": "2022-07-08T03:20:38.537643Z",
     "shell.execute_reply": "2022-07-08T03:20:38.537589Z",
     "shell.execute_reply.started": "2022-07-08T03:20:38.524639Z"
    },
    "tags": []
   },
   "outputs": [],
   "source": [
    "Ein, Eout, Rin = copy_dicts(edges)\n",
    "Eout_tear = {}\n",
    "Ein_tear = {}\n",
    "newVout = {}\n",
    "output_set = {key:var for key,var in dout.items() if key not in elimset}\n",
    "for comp in Eout:\n",
    "    outputvar = output_set.get(comp, None)\n",
    "    Eout_tear[comp] = (outputvar,)\n",
    "    reversedvar = None\n",
    "    if comp not in output_set:\n",
    "        Rin[comp] = Eout[comp]\n",
    "        reversedvar = Eout[comp][0]\n",
    "        newVout[reversedvar] ='root'\n",
    "    Ein_tear[comp] = tuple(varn for varn in chain(Ein[comp],Eout[comp]) if varn!=[outputvar,reversedvar])\n",
    "edges_tear = edges_no_param(model, (Ein_tear, Eout_tear, Rin))"
   ]
  },
  {
   "cell_type": "code",
   "execution_count": 21,
   "id": "56cbae7f-3bfd-41ff-be18-3842033b36f1",
   "metadata": {
    "execution": {
     "iopub.execute_input": "2022-07-08T03:20:39.003598Z",
     "iopub.status.busy": "2022-07-08T03:20:39.002597Z",
     "iopub.status.idle": "2022-07-08T03:20:39.010594Z",
     "shell.execute_reply": "2022-07-08T03:20:39.010594Z",
     "shell.execute_reply.started": "2022-07-08T03:20:39.003598Z"
    },
    "tags": []
   },
   "outputs": [],
   "source": [
    "G = flat_graph_formulation(*edges)"
   ]
  },
  {
   "cell_type": "code",
   "execution_count": 22,
   "id": "76275625-be2d-47ad-90bb-a3f92f8cc9c1",
   "metadata": {
    "execution": {
     "iopub.execute_input": "2022-07-08T03:20:39.395252Z",
     "iopub.status.busy": "2022-07-08T03:20:39.395252Z",
     "iopub.status.idle": "2022-07-08T03:20:39.404004Z",
     "shell.execute_reply": "2022-07-08T03:20:39.404004Z",
     "shell.execute_reply.started": "2022-07-08T03:20:39.395252Z"
    },
    "tags": []
   },
   "outputs": [],
   "source": [
    "for elt in elimset:\n",
    "    G.remove_edge(Node(elt, COMP),Node(dout[elt], VAR))"
   ]
  },
  {
   "cell_type": "code",
   "execution_count": 23,
   "id": "aed13690-70e7-4918-9c99-9419c4ef2b93",
   "metadata": {
    "execution": {
     "iopub.execute_input": "2022-07-08T03:20:39.602776Z",
     "iopub.status.busy": "2022-07-08T03:20:39.602776Z",
     "iopub.status.idle": "2022-07-08T03:20:39.623131Z",
     "shell.execute_reply": "2022-07-08T03:20:39.622977Z",
     "shell.execute_reply.started": "2022-07-08T03:20:39.602776Z"
    },
    "tags": []
   },
   "outputs": [],
   "source": [
    "tearing_order = sort_scc(G)"
   ]
  },
  {
   "cell_type": "code",
   "execution_count": 24,
   "id": "f4073672-f79f-403e-a50c-e534158dacda",
   "metadata": {
    "execution": {
     "iopub.execute_input": "2022-07-08T03:20:39.987398Z",
     "iopub.status.busy": "2022-07-08T03:20:39.987398Z",
     "iopub.status.idle": "2022-07-08T03:20:39.999326Z",
     "shell.execute_reply": "2022-07-08T03:20:39.998815Z",
     "shell.execute_reply.started": "2022-07-08T03:20:39.987398Z"
    },
    "tags": []
   },
   "outputs": [],
   "source": [
    "Ftree_minscc = OrderedDict([(next(iter(comp)).name,'root') for comp in tearing_order])\n",
    "tree_tear = Ftree_minscc, dict(), newVout"
   ]
  },
  {
   "cell_type": "code",
   "execution_count": 25,
   "id": "f57c0dba-0dfa-41ea-92a2-9fd4485a8d4d",
   "metadata": {
    "execution": {
     "iopub.execute_input": "2022-07-08T03:20:40.396612Z",
     "iopub.status.busy": "2022-07-08T03:20:40.395626Z",
     "iopub.status.idle": "2022-07-08T03:20:41.023027Z",
     "shell.execute_reply": "2022-07-08T03:20:41.022028Z",
     "shell.execute_reply.started": "2022-07-08T03:20:40.395626Z"
    },
    "tags": []
   },
   "outputs": [
    {
     "data": {
      "image/png": "[encoded data removed]",
      "text/plain": [
       "<Figure size 576x576 with 1 Axes>"
      ]
     },
     "metadata": {
      "needs_background": "light"
     },
     "output_type": "display_data"
    }
   ],
   "source": [
    "_, ax = render_incidence(edges_tear, tree_tear, namingfunc_hsm, figsize=(8,8))"
   ]
  },
  {
   "cell_type": "markdown",
   "id": "af10edbb-11bc-4558-bcff-23b9cc030000",
   "metadata": {},
   "source": [
    "## Min tear assign"
   ]
  },
  {
   "cell_type": "code",
   "execution_count": 26,
   "id": "ee017f27-68f6-4748-b6c5-1c13a51711be",
   "metadata": {
    "execution": {
     "iopub.execute_input": "2022-07-08T03:20:50.162781Z",
     "iopub.status.busy": "2022-07-08T03:20:50.162781Z",
     "iopub.status.idle": "2022-07-08T03:20:50.178269Z",
     "shell.execute_reply": "2022-07-08T03:20:50.177724Z",
     "shell.execute_reply.started": "2022-07-08T03:20:50.162781Z"
    },
    "tags": []
   },
   "outputs": [],
   "source": [
    "not_input = ['T_z','p_z','g_z',r'\\rho_z', r'm_{rz}', 'm_{r0}', 'h_z', 'r_z', 'V_z', 'L_z', 'W_z', 'W_0']\n",
    "not_output = []#[r'm_{rz}', 'm_{r0}']"
   ]
  },
  {
   "cell_type": "code",
   "execution_count": 27,
   "id": "2ef71f0c-4c39-4eff-aedf-65cc8e0f1bec",
   "metadata": {
    "execution": {
     "iopub.execute_input": "2022-07-08T03:20:50.394645Z",
     "iopub.status.busy": "2022-07-08T03:20:50.393648Z",
     "iopub.status.idle": "2022-07-08T03:20:50.413286Z",
     "shell.execute_reply": "2022-07-08T03:20:50.412627Z",
     "shell.execute_reply.started": "2022-07-08T03:20:50.394645Z"
    },
    "tags": []
   },
   "outputs": [],
   "source": [
    "min_assign_edges = edges_left_right #[(left,right) for left,right in edges_left_right if left not in varexclude and right not in compexclude]"
   ]
  },
  {
   "cell_type": "code",
   "execution_count": 28,
   "id": "3d8a01d7-aa9d-420e-ae18-8f75ebf3a515",
   "metadata": {
    "execution": {
     "iopub.execute_input": "2022-07-08T03:20:50.634482Z",
     "iopub.status.busy": "2022-07-08T03:20:50.633490Z",
     "iopub.status.idle": "2022-07-08T03:20:50.694446Z",
     "shell.execute_reply": "2022-07-08T03:20:50.693440Z",
     "shell.execute_reply.started": "2022-07-08T03:20:50.634482Z"
    },
    "tags": []
   },
   "outputs": [],
   "source": [
    "xsol,m = min_arc_set_assign(min_assign_edges, allvrs, eqns, not_input, not_output)"
   ]
  },
  {
   "cell_type": "code",
   "execution_count": 29,
   "id": "ab3e2a8f-46c1-49b2-9ae7-ef36f0259ae6",
   "metadata": {
    "execution": {
     "iopub.execute_input": "2022-07-08T03:20:50.825484Z",
     "iopub.status.busy": "2022-07-08T03:20:50.825484Z",
     "iopub.status.idle": "2022-07-08T03:20:50.834391Z",
     "shell.execute_reply": "2022-07-08T03:20:50.833474Z",
     "shell.execute_reply.started": "2022-07-08T03:20:50.825484Z"
    },
    "tags": []
   },
   "outputs": [],
   "source": [
    "selected = tuple((right, left) for left, right in edges_left_right if (left,right) in min_assign_edges and xsol[left, right] > 0.5)"
   ]
  },
  {
   "cell_type": "code",
   "execution_count": 30,
   "id": "a58f3daf-1d21-4b24-84e7-c8d9f6b8304e",
   "metadata": {
    "execution": {
     "iopub.execute_input": "2022-07-08T03:20:51.127701Z",
     "iopub.status.busy": "2022-07-08T03:20:51.127701Z",
     "iopub.status.idle": "2022-07-08T03:20:51.132983Z",
     "shell.execute_reply": "2022-07-08T03:20:51.132105Z",
     "shell.execute_reply.started": "2022-07-08T03:20:51.127701Z"
    },
    "tags": []
   },
   "outputs": [],
   "source": [
    "# For topological sorting\n",
    "D = nx.DiGraph(dir_graph(edges_left_right, eqns, selected))\n",
    "minassign_order = sort_scc(D, lambda x: x in eqns)"
   ]
  },
  {
   "cell_type": "code",
   "execution_count": 31,
   "id": "fd92dfa9-65a4-4b3e-be51-7ca182414364",
   "metadata": {
    "execution": {
     "iopub.execute_input": "2022-07-08T03:20:51.809406Z",
     "iopub.status.busy": "2022-07-08T03:20:51.809406Z",
     "iopub.status.idle": "2022-07-08T03:20:51.817993Z",
     "shell.execute_reply": "2022-07-08T03:20:51.817406Z",
     "shell.execute_reply.started": "2022-07-08T03:20:51.809406Z"
    },
    "tags": []
   },
   "outputs": [],
   "source": [
    "Ftree_mina = OrderedDict([(next(iter(comp)),'root') for comp in minassign_order])\n",
    "tree_mina = Ftree_mina, dict(), tree[2]"
   ]
  },
  {
   "cell_type": "code",
   "execution_count": 32,
   "id": "84411181-8a53-4b07-9706-fcaebe6f1199",
   "metadata": {
    "execution": {
     "iopub.execute_input": "2022-07-08T03:20:52.219440Z",
     "iopub.status.busy": "2022-07-08T03:20:52.219440Z",
     "iopub.status.idle": "2022-07-08T03:20:52.226573Z",
     "shell.execute_reply": "2022-07-08T03:20:52.226495Z",
     "shell.execute_reply.started": "2022-07-08T03:20:52.219440Z"
    },
    "tags": []
   },
   "outputs": [],
   "source": [
    "Ein, Eout, Rin = edges\n",
    "Eout_minassign = {}\n",
    "Ein_minassign = {}\n",
    "for comp,varname in selected:\n",
    "    Eout_minassign[comp] = (varname,)\n",
    "    Ein_minassign[comp] = tuple(varn for varn in chain(Ein[comp],Eout[comp]) if varn!=varname)\n",
    "edges_minassign = (Ein_minassign, Eout_minassign, Rin)\n",
    "edges_minassign_nopar = edges_no_param(model, edges_minassign)"
   ]
  },
  {
   "cell_type": "code",
   "execution_count": 34,
   "id": "0aefe310-c551-4a4b-9461-3ca8b368507a",
   "metadata": {
    "execution": {
     "iopub.execute_input": "2022-07-08T03:21:11.937190Z",
     "iopub.status.busy": "2022-07-08T03:21:11.936187Z",
     "iopub.status.idle": "2022-07-08T03:21:13.256874Z",
     "shell.execute_reply": "2022-07-08T03:21:13.256765Z",
     "shell.execute_reply.started": "2022-07-08T03:21:11.937190Z"
    },
    "tags": []
   },
   "outputs": [
    {
     "data": {
      "image/png": "[encoded data removed]",
      "text/plain": [
       "<Figure size 576x576 with 1 Axes>"
      ]
     },
     "metadata": {
      "needs_background": "light"
     },
     "output_type": "display_data"
    }
   ],
   "source": [
    "_, ax = render_incidence(edges_minassign_nopar, tree_mina, namingfunc_hsm, figsize=(8,8), figname='balloon_minassign_hsm.png', save=True)"
   ]
  },
  {
   "cell_type": "markdown",
   "id": "e9618dcd-14a7-4355-b494-b26e4ef18c24",
   "metadata": {},
   "source": [
    "### Execute"
   ]
  },
  {
   "cell_type": "code",
   "execution_count": 94,
   "id": "0d49cce1-405f-4d0f-9d66-ab3b1051b2bf",
   "metadata": {
    "execution": {
     "iopub.execute_input": "2022-07-02T23:59:08.211612Z",
     "iopub.status.busy": "2022-07-02T23:59:08.211612Z",
     "iopub.status.idle": "2022-07-02T23:59:08.218462Z",
     "shell.execute_reply": "2022-07-02T23:59:08.218322Z",
     "shell.execute_reply.started": "2022-07-02T23:59:08.211612Z"
    },
    "tags": []
   },
   "outputs": [],
   "source": [
    "from datastructures.transformations import transform_components, partial_inversion, Component"
   ]
  },
  {
   "cell_type": "code",
   "execution_count": 95,
   "id": "b99a33a0-4d60-4e7e-bce3-97f0ad9fdb53",
   "metadata": {
    "execution": {
     "iopub.execute_input": "2022-07-02T23:59:08.392937Z",
     "iopub.status.busy": "2022-07-02T23:59:08.392937Z",
     "iopub.status.idle": "2022-07-02T23:59:08.408347Z",
     "shell.execute_reply": "2022-07-02T23:59:08.407130Z",
     "shell.execute_reply.started": "2022-07-02T23:59:08.392937Z"
    },
    "tags": []
   },
   "outputs": [],
   "source": [
    "components = model.components"
   ]
  },
  {
   "cell_type": "code",
   "execution_count": 96,
   "id": "71a46b33-b09a-4284-9560-a3c2611351b5",
   "metadata": {
    "execution": {
     "iopub.execute_input": "2022-07-02T23:59:08.585053Z",
     "iopub.status.busy": "2022-07-02T23:59:08.585053Z",
     "iopub.status.idle": "2022-07-02T23:59:08.808710Z",
     "shell.execute_reply": "2022-07-02T23:59:08.808210Z",
     "shell.execute_reply.started": "2022-07-02T23:59:08.585053Z"
    },
    "tags": []
   },
   "outputs": [],
   "source": [
    "newcomps = transform_components(edges, edges_minassign, components, model.idmapping)"
   ]
  },
  {
   "cell_type": "code",
   "execution_count": 97,
   "id": "87cc0e5c-107a-47c5-af2e-f997b99c2e91",
   "metadata": {
    "execution": {
     "iopub.execute_input": "2022-07-02T23:59:08.809723Z",
     "iopub.status.busy": "2022-07-02T23:59:08.809723Z",
     "iopub.status.idle": "2022-07-02T23:59:08.823075Z",
     "shell.execute_reply": "2022-07-02T23:59:08.823075Z",
     "shell.execute_reply.started": "2022-07-02T23:59:08.809723Z"
    },
    "tags": []
   },
   "outputs": [],
   "source": [
    "ordered_tree = tree_mina\n",
    "ordered_edges = edges_minassign\n",
    "comp_options = model.comp_options\n",
    "var_options = model.var_options\n",
    "solvers_options = model.solvers_options\n",
    "#solvers_options['root'] = {'solver': 'GS', 'maxiter':20}\n",
    "sequence = order_from_tree(ordered_tree[0], ordered_tree[1], ordered_edges[1])\n",
    "solvers_options = default_solver_options(ordered_tree, solvers_options)\n",
    "wf = mdao_workflow(sequence, solvers_options, comp_options, var_options)"
   ]
  },
  {
   "cell_type": "code",
   "execution_count": 98,
   "id": "d4880faa-f9ad-450f-b019-1d1457eec85a",
   "metadata": {
    "execution": {
     "iopub.execute_input": "2022-07-02T23:59:09.005076Z",
     "iopub.status.busy": "2022-07-02T23:59:09.004078Z",
     "iopub.status.idle": "2022-07-02T23:59:09.010133Z",
     "shell.execute_reply": "2022-07-02T23:59:09.009633Z",
     "shell.execute_reply.started": "2022-07-02T23:59:09.005076Z"
    },
    "tags": []
   },
   "outputs": [],
   "source": [
    "nodetyperepr = model.nametyperepr\n",
    "nodetyperepr[SOLVER] = '{}'\n",
    "namingfunc = namefromsympy(nodetyperepr)"
   ]
  },
  {
   "cell_type": "code",
   "execution_count": 115,
   "id": "9c71de23-16c9-4fab-a3da-aa2728c8e321",
   "metadata": {
    "execution": {
     "iopub.execute_input": "2022-07-03T00:02:13.832246Z",
     "iopub.status.busy": "2022-07-03T00:02:13.832246Z",
     "iopub.status.idle": "2022-07-03T00:02:13.845332Z",
     "shell.execute_reply": "2022-07-03T00:02:13.845332Z",
     "shell.execute_reply.started": "2022-07-03T00:02:13.832246Z"
    },
    "tags": []
   },
   "outputs": [
    {
     "data": {
      "text/plain": [
       "[(('m_l',), 13, ('m_{r0}',), 'm_l'),\n",
       " (('m_v', 'm_b', 'm_p', 'm_t'), 14, ('m_l',), '-m_p - m_v - m_b + m_t'),\n",
       " (('C_D', 'A_0', 'D', '\\\\rho_0'), 18, ('v',), 'sqrt(2)*sqrt(D/(C_D*\\\\rho_0*A_0))'),\n",
       " (('r_0',), 19, ('A_0',), '9.86960440108934*r_0**2'),\n",
       " (('V_0',), 20, ('r_0',), '0.620350490899399*V_0**(1/3)'),\n",
       " (('\\\\rho_{LG0}', 'm_{r0}'), 22, ('V_0',), 'm_{r0}/\\\\rho_{LG0}')]"
      ]
     },
     "execution_count": 115,
     "metadata": {},
     "output_type": "execute_result"
    }
   ],
   "source": [
    "newcomps"
   ]
  },
  {
   "cell_type": "code",
   "execution_count": 105,
   "id": "4778821a-4e6b-423b-8cd0-97e4a7018a50",
   "metadata": {
    "execution": {
     "iopub.execute_input": "2022-07-02T23:59:30.758019Z",
     "iopub.status.busy": "2022-07-02T23:59:30.758019Z",
     "iopub.status.idle": "2022-07-02T23:59:30.775995Z",
     "shell.execute_reply": "2022-07-02T23:59:30.775359Z",
     "shell.execute_reply.started": "2022-07-02T23:59:30.758019Z"
    },
    "tags": []
   },
   "outputs": [],
   "source": [
    "mina_components = components+newcomps\n",
    "lookup_f = get_f(mina_components, ordered_edges)\n",
    "wfmdao = mdao_workflow_with_args(wf, lookup_f, namingfunc)"
   ]
  },
  {
   "cell_type": "code",
   "execution_count": 106,
   "id": "34198436-6ceb-42c0-863d-2d44862e5536",
   "metadata": {
    "execution": {
     "iopub.execute_input": "2022-07-02T23:59:30.945381Z",
     "iopub.status.busy": "2022-07-02T23:59:30.945381Z",
     "iopub.status.idle": "2022-07-02T23:59:30.962298Z",
     "shell.execute_reply": "2022-07-02T23:59:30.961793Z",
     "shell.execute_reply.started": "2022-07-02T23:59:30.945381Z"
    },
    "tags": []
   },
   "outputs": [],
   "source": [
    "prob, mdao_in, groups = build_archi(ordered_edges, ordered_tree, wfmdao, namingfunc, model.idmapping)"
   ]
  },
  {
   "cell_type": "code",
   "execution_count": 116,
   "id": "f6821222-13cd-4a75-9636-cf6c9502a8c2",
   "metadata": {
    "execution": {
     "iopub.execute_input": "2022-07-03T00:03:43.575826Z",
     "iopub.status.busy": "2022-07-03T00:03:43.575826Z",
     "iopub.status.idle": "2022-07-03T00:03:43.579448Z",
     "shell.execute_reply": "2022-07-03T00:03:43.578844Z",
     "shell.execute_reply.started": "2022-07-03T00:03:43.575826Z"
    }
   },
   "outputs": [],
   "source": [
    "prob.set_val('m_t', 10000)"
   ]
  },
  {
   "cell_type": "code",
   "execution_count": 117,
   "id": "7e261839-8276-4c0f-aa52-e21e698869f0",
   "metadata": {
    "execution": {
     "iopub.execute_input": "2022-07-03T00:03:47.016433Z",
     "iopub.status.busy": "2022-07-03T00:03:47.016433Z",
     "iopub.status.idle": "2022-07-03T00:03:47.055118Z",
     "shell.execute_reply": "2022-07-03T00:03:47.054421Z",
     "shell.execute_reply.started": "2022-07-03T00:03:47.016433Z"
    },
    "tags": []
   },
   "outputs": [
    {
     "name": "stdout",
     "output_type": "stream",
     "text": [
      "\n",
      "====\n",
      "root\n",
      "====\n",
      "NL: Newton Converged in 0 iterations\n"
     ]
    }
   ],
   "source": [
    "prob.run_model()"
   ]
  },
  {
   "cell_type": "code",
   "execution_count": 121,
   "id": "1be34b79-e74e-469f-aada-70568330a703",
   "metadata": {
    "execution": {
     "iopub.execute_input": "2022-07-03T00:05:45.575296Z",
     "iopub.status.busy": "2022-07-03T00:05:45.575296Z",
     "iopub.status.idle": "2022-07-03T00:05:45.645558Z",
     "shell.execute_reply": "2022-07-03T00:05:45.645558Z",
     "shell.execute_reply.started": "2022-07-03T00:05:45.575296Z"
    },
    "tags": []
   },
   "outputs": [
    {
     "data": {
      "text/html": [
       "<style type=\"text/css\">\n",
       "</style>\n",
       "<table id=\"T_b946a\">\n",
       "  <thead>\n",
       "  </thead>\n",
       "  <tbody>\n",
       "    <tr>\n",
       "      <td id=\"T_b946a_row0_col0\" class=\"data row0 col0\" >$$p_z$$</td>\n",
       "      <td id=\"T_b946a_row0_col1\" class=\"data row0 col1\" >1197</td>\n",
       "      <td id=\"T_b946a_row0_col2\" class=\"data row0 col2\" >Pa</td>\n",
       "    </tr>\n",
       "    <tr>\n",
       "      <td id=\"T_b946a_row1_col0\" class=\"data row1 col0\" >$$T_z$$</td>\n",
       "      <td id=\"T_b946a_row1_col1\" class=\"data row1 col1\" >226.51</td>\n",
       "      <td id=\"T_b946a_row1_col2\" class=\"data row1 col2\" >K</td>\n",
       "    </tr>\n",
       "    <tr>\n",
       "      <td id=\"T_b946a_row2_col0\" class=\"data row2 col0\" >$$g_z$$</td>\n",
       "      <td id=\"T_b946a_row2_col1\" class=\"data row2 col1\" >9.715</td>\n",
       "      <td id=\"T_b946a_row2_col2\" class=\"data row2 col2\" >m/s²</td>\n",
       "    </tr>\n",
       "    <tr>\n",
       "      <td id=\"T_b946a_row3_col0\" class=\"data row3 col0\" >$$\\rho_z$$</td>\n",
       "      <td id=\"T_b946a_row3_col1\" class=\"data row3 col1\" >0.018</td>\n",
       "      <td id=\"T_b946a_row3_col2\" class=\"data row3 col2\" >kg/m³</td>\n",
       "    </tr>\n",
       "    <tr>\n",
       "      <td id=\"T_b946a_row4_col0\" class=\"data row4 col0\" >$$\\rho_{LGz}$$</td>\n",
       "      <td id=\"T_b946a_row4_col1\" class=\"data row4 col1\" >0.003</td>\n",
       "      <td id=\"T_b946a_row4_col2\" class=\"data row4 col2\" >kg/m³</td>\n",
       "    </tr>\n",
       "    <tr>\n",
       "      <td id=\"T_b946a_row5_col0\" class=\"data row5 col0\" >$$W_z$$</td>\n",
       "      <td id=\"T_b946a_row5_col1\" class=\"data row5 col1\" >9.715×10⁴</td>\n",
       "      <td id=\"T_b946a_row5_col2\" class=\"data row5 col2\" >N</td>\n",
       "    </tr>\n",
       "    <tr>\n",
       "      <td id=\"T_b946a_row6_col0\" class=\"data row6 col0\" >$$L_z$$</td>\n",
       "      <td id=\"T_b946a_row6_col1\" class=\"data row6 col1\" >9.715×10⁴</td>\n",
       "      <td id=\"T_b946a_row6_col2\" class=\"data row6 col2\" >N</td>\n",
       "    </tr>\n",
       "    <tr>\n",
       "      <td id=\"T_b946a_row7_col0\" class=\"data row7 col0\" >$$V_z$$</td>\n",
       "      <td id=\"T_b946a_row7_col1\" class=\"data row7 col1\" >5.432×10⁵</td>\n",
       "      <td id=\"T_b946a_row7_col2\" class=\"data row7 col2\" >m³</td>\n",
       "    </tr>\n",
       "    <tr>\n",
       "      <td id=\"T_b946a_row8_col0\" class=\"data row8 col0\" >$$m_{rz}$$</td>\n",
       "      <td id=\"T_b946a_row8_col1\" class=\"data row8 col1\" >1380.519</td>\n",
       "      <td id=\"T_b946a_row8_col2\" class=\"data row8 col2\" >kg</td>\n",
       "    </tr>\n",
       "    <tr>\n",
       "      <td id=\"T_b946a_row9_col0\" class=\"data row9 col0\" >$$r_z$$</td>\n",
       "      <td id=\"T_b946a_row9_col1\" class=\"data row9 col1\" >50.616</td>\n",
       "      <td id=\"T_b946a_row9_col2\" class=\"data row9 col2\" >m</td>\n",
       "    </tr>\n",
       "    <tr>\n",
       "      <td id=\"T_b946a_row10_col0\" class=\"data row10 col0\" >$$h_z$$</td>\n",
       "      <td id=\"T_b946a_row10_col1\" class=\"data row10 col1\" >151.848</td>\n",
       "      <td id=\"T_b946a_row10_col2\" class=\"data row10 col2\" >m</td>\n",
       "    </tr>\n",
       "    <tr>\n",
       "      <td id=\"T_b946a_row11_col0\" class=\"data row11 col0\" >$$S$$</td>\n",
       "      <td id=\"T_b946a_row11_col1\" class=\"data row11 col1\" >4.334×10⁴</td>\n",
       "      <td id=\"T_b946a_row11_col2\" class=\"data row11 col2\" >m²</td>\n",
       "    </tr>\n",
       "    <tr>\n",
       "      <td id=\"T_b946a_row12_col0\" class=\"data row12 col0\" >$$m_b$$</td>\n",
       "      <td id=\"T_b946a_row12_col1\" class=\"data row12 col1\" >3054.485</td>\n",
       "      <td id=\"T_b946a_row12_col2\" class=\"data row12 col2\" >kg</td>\n",
       "    </tr>\n",
       "    <tr>\n",
       "      <td id=\"T_b946a_row13_col0\" class=\"data row13 col0\" >$$m_l$$</td>\n",
       "      <td id=\"T_b946a_row13_col1\" class=\"data row13 col1\" >1900.515</td>\n",
       "      <td id=\"T_b946a_row13_col2\" class=\"data row13 col2\" >kg</td>\n",
       "    </tr>\n",
       "    <tr>\n",
       "      <td id=\"T_b946a_row14_col0\" class=\"data row14 col0\" >$$m_t$$</td>\n",
       "      <td id=\"T_b946a_row14_col1\" class=\"data row14 col1\" >10000</td>\n",
       "      <td id=\"T_b946a_row14_col2\" class=\"data row14 col2\" >kg</td>\n",
       "    </tr>\n",
       "    <tr>\n",
       "      <td id=\"T_b946a_row15_col0\" class=\"data row15 col0\" >$$W_0$$</td>\n",
       "      <td id=\"T_b946a_row15_col1\" class=\"data row15 col1\" >9.807×10⁴</td>\n",
       "      <td id=\"T_b946a_row15_col2\" class=\"data row15 col2\" >N</td>\n",
       "    </tr>\n",
       "    <tr>\n",
       "      <td id=\"T_b946a_row16_col0\" class=\"data row16 col0\" >$$L_0$$</td>\n",
       "      <td id=\"T_b946a_row16_col1\" class=\"data row16 col1\" >1.278×10⁵</td>\n",
       "      <td id=\"T_b946a_row16_col2\" class=\"data row16 col2\" >N</td>\n",
       "    </tr>\n",
       "    <tr>\n",
       "      <td id=\"T_b946a_row17_col0\" class=\"data row17 col0\" >$$D$$</td>\n",
       "      <td id=\"T_b946a_row17_col1\" class=\"data row17 col1\" >2.977×10⁴</td>\n",
       "      <td id=\"T_b946a_row17_col2\" class=\"data row17 col2\" >N</td>\n",
       "    </tr>\n",
       "    <tr>\n",
       "      <td id=\"T_b946a_row18_col0\" class=\"data row18 col0\" >$$A_0$$</td>\n",
       "      <td id=\"T_b946a_row18_col1\" class=\"data row18 col1\" >1837.528</td>\n",
       "      <td id=\"T_b946a_row18_col2\" class=\"data row18 col2\" >m²</td>\n",
       "    </tr>\n",
       "    <tr>\n",
       "      <td id=\"T_b946a_row19_col0\" class=\"data row19 col0\" >$$r_0$$</td>\n",
       "      <td id=\"T_b946a_row19_col1\" class=\"data row19 col1\" >13.645</td>\n",
       "      <td id=\"T_b946a_row19_col2\" class=\"data row19 col2\" >m</td>\n",
       "    </tr>\n",
       "    <tr>\n",
       "      <td id=\"T_b946a_row20_col0\" class=\"data row20 col0\" >$$V_0$$</td>\n",
       "      <td id=\"T_b946a_row20_col1\" class=\"data row20 col1\" >1.064×10⁴</td>\n",
       "      <td id=\"T_b946a_row20_col2\" class=\"data row20 col2\" >m³</td>\n",
       "    </tr>\n",
       "    <tr>\n",
       "      <td id=\"T_b946a_row21_col0\" class=\"data row21 col0\" >$$\\rho_{LG0}$$</td>\n",
       "      <td id=\"T_b946a_row21_col1\" class=\"data row21 col1\" >0.179</td>\n",
       "      <td id=\"T_b946a_row21_col2\" class=\"data row21 col2\" >kg/m³</td>\n",
       "    </tr>\n",
       "    <tr>\n",
       "      <td id=\"T_b946a_row22_col0\" class=\"data row22 col0\" >$$m_{r0}$$</td>\n",
       "      <td id=\"T_b946a_row22_col1\" class=\"data row22 col1\" >1900.515</td>\n",
       "      <td id=\"T_b946a_row22_col2\" class=\"data row22 col2\" >kg</td>\n",
       "    </tr>\n",
       "  </tbody>\n",
       "</table>\n"
      ],
      "text/plain": [
       "<pandas.io.formats.style.Styler at 0x18969846670>"
      ]
     },
     "execution_count": 121,
     "metadata": {},
     "output_type": "execute_result"
    }
   ],
   "source": [
    "print_outputs(model, prob, namingfunc)"
   ]
  },
  {
   "cell_type": "markdown",
   "id": "77fe9acd-a263-46aa-90b8-e0e3df18481b",
   "metadata": {},
   "source": [
    "## min scc is the same (because there is no feedback)"
   ]
  },
  {
   "cell_type": "markdown",
   "id": "87a9d2d6-0d1f-40e6-8118-9dc939f26222",
   "metadata": {},
   "source": [
    "# Solve"
   ]
  },
  {
   "cell_type": "code",
   "execution_count": 155,
   "id": "cdb0f7d6-6c2a-44ec-be0d-f0ff79d8052b",
   "metadata": {
    "execution": {
     "iopub.execute_input": "2022-07-03T01:35:23.893439Z",
     "iopub.status.busy": "2022-07-03T01:35:23.892464Z",
     "iopub.status.idle": "2022-07-03T01:35:23.910697Z",
     "shell.execute_reply": "2022-07-03T01:35:23.910269Z",
     "shell.execute_reply.started": "2022-07-03T01:35:23.893439Z"
    },
    "tags": []
   },
   "outputs": [],
   "source": [
    "ordered_tree = tree\n",
    "ordered_edges = edges"
   ]
  },
  {
   "cell_type": "code",
   "execution_count": 156,
   "id": "5586dd55-cc88-4adf-a98b-8a7dbbba2958",
   "metadata": {
    "execution": {
     "iopub.execute_input": "2022-07-03T01:35:24.068241Z",
     "iopub.status.busy": "2022-07-03T01:35:24.068241Z",
     "iopub.status.idle": "2022-07-03T01:35:24.081260Z",
     "shell.execute_reply": "2022-07-03T01:35:24.081260Z",
     "shell.execute_reply.started": "2022-07-03T01:35:24.068241Z"
    },
    "tags": []
   },
   "outputs": [],
   "source": [
    "comp_options = model.comp_options\n",
    "var_options = model.var_options\n",
    "solvers_options = model.solvers_options\n",
    "solvers_options['root'] = {'solver': 'N', 'maxiter':20, 'iprint': True}\n",
    "#for elt in ['apogee', 'materials', 'mass', 'aerodynamics', 'geometry']:\n",
    "#    solvers_options[elt]={'iprint': False}\n",
    "sequence = order_from_tree(ordered_tree[0], ordered_tree[1], ordered_edges[1])\n",
    "solvers_options = default_solver_options(ordered_tree, solvers_options)\n",
    "wf = mdao_workflow(sequence, solvers_options, comp_options, var_options)"
   ]
  },
  {
   "cell_type": "code",
   "execution_count": 157,
   "id": "ebffbdcf-f771-4712-aa15-f1b3bf9fa89c",
   "metadata": {
    "execution": {
     "iopub.execute_input": "2022-07-03T01:35:24.251813Z",
     "iopub.status.busy": "2022-07-03T01:35:24.251813Z",
     "iopub.status.idle": "2022-07-03T01:35:24.269251Z",
     "shell.execute_reply": "2022-07-03T01:35:24.268592Z",
     "shell.execute_reply.started": "2022-07-03T01:35:24.251813Z"
    },
    "tags": []
   },
   "outputs": [],
   "source": [
    "nodetyperepr = model.nametyperepr\n",
    "nodetyperepr[SOLVER] = '{}'\n",
    "namingfunc = namefromsympy(nodetyperepr)"
   ]
  },
  {
   "cell_type": "code",
   "execution_count": 158,
   "id": "0e823735-7655-4884-b2a1-04349d8825d8",
   "metadata": {
    "execution": {
     "iopub.execute_input": "2022-07-03T01:35:25.660229Z",
     "iopub.status.busy": "2022-07-03T01:35:25.660229Z",
     "iopub.status.idle": "2022-07-03T01:35:25.672299Z",
     "shell.execute_reply": "2022-07-03T01:35:25.671450Z",
     "shell.execute_reply.started": "2022-07-03T01:35:25.660229Z"
    },
    "tags": []
   },
   "outputs": [],
   "source": [
    "components = model.components\n",
    "lookup_f = get_f(components, ordered_edges)\n",
    "wfmdao = mdao_workflow_with_args(wf, lookup_f, namingfunc)"
   ]
  },
  {
   "cell_type": "code",
   "execution_count": 159,
   "id": "383f22ef-93af-43be-b5a1-9f71208ef575",
   "metadata": {
    "execution": {
     "iopub.execute_input": "2022-07-03T01:35:25.852219Z",
     "iopub.status.busy": "2022-07-03T01:35:25.852219Z",
     "iopub.status.idle": "2022-07-03T01:35:25.873394Z",
     "shell.execute_reply": "2022-07-03T01:35:25.872883Z",
     "shell.execute_reply.started": "2022-07-03T01:35:25.852219Z"
    },
    "tags": []
   },
   "outputs": [],
   "source": [
    "prob, mdao_in, groups = build_archi(ordered_edges, ordered_tree, wfmdao, namingfunc, model.idmapping)"
   ]
  },
  {
   "cell_type": "code",
   "execution_count": 160,
   "id": "390d4b09-e558-43d7-8974-3b6cb3e3a3ac",
   "metadata": {
    "execution": {
     "iopub.execute_input": "2022-07-03T01:35:26.011521Z",
     "iopub.status.busy": "2022-07-03T01:35:26.011521Z",
     "iopub.status.idle": "2022-07-03T01:35:26.030736Z",
     "shell.execute_reply": "2022-07-03T01:35:26.030210Z",
     "shell.execute_reply.started": "2022-07-03T01:35:26.011521Z"
    },
    "tags": []
   },
   "outputs": [],
   "source": [
    "prob.set_solver_print(level=0)\n",
    "prob.set_solver_print(level=1, depth=1)\n",
    "prob.setup();"
   ]
  },
  {
   "cell_type": "code",
   "execution_count": 161,
   "id": "40f3aae9-9c41-4d14-ad96-d9a18627b9d8",
   "metadata": {
    "execution": {
     "iopub.execute_input": "2022-07-03T01:35:26.195838Z",
     "iopub.status.busy": "2022-07-03T01:35:26.195838Z",
     "iopub.status.idle": "2022-07-03T01:35:26.201049Z",
     "shell.execute_reply": "2022-07-03T01:35:26.200836Z",
     "shell.execute_reply.started": "2022-07-03T01:35:26.195838Z"
    },
    "tags": []
   },
   "outputs": [],
   "source": [
    "prob.set_val('V_0', 10000)"
   ]
  },
  {
   "cell_type": "code",
   "execution_count": 163,
   "id": "1cdf1ca1-d507-473c-ad6d-813f8d9a0d10",
   "metadata": {
    "execution": {
     "iopub.execute_input": "2022-07-03T01:36:31.226402Z",
     "iopub.status.busy": "2022-07-03T01:36:31.225402Z",
     "iopub.status.idle": "2022-07-03T01:36:31.238858Z",
     "shell.execute_reply": "2022-07-03T01:36:31.238219Z",
     "shell.execute_reply.started": "2022-07-03T01:36:31.226402Z"
    }
   },
   "outputs": [],
   "source": [
    "prob.set_val('V_0', 10000)"
   ]
  },
  {
   "cell_type": "code",
   "execution_count": 164,
   "id": "5dc70ed4-28bc-43e9-986b-c720c9fb8310",
   "metadata": {
    "execution": {
     "iopub.execute_input": "2022-07-03T01:36:31.765800Z",
     "iopub.status.busy": "2022-07-03T01:36:31.765609Z",
     "iopub.status.idle": "2022-07-03T01:36:33.598719Z",
     "shell.execute_reply": "2022-07-03T01:36:33.597829Z",
     "shell.execute_reply.started": "2022-07-03T01:36:31.765800Z"
    },
    "tags": []
   },
   "outputs": [
    {
     "name": "stdout",
     "output_type": "stream",
     "text": [
      "\n",
      "====\n",
      "root\n",
      "====\n",
      "NL: Newton Converged in 5 iterations\n"
     ]
    }
   ],
   "source": [
    "prob.run_model()"
   ]
  },
  {
   "cell_type": "markdown",
   "id": "a575f704-c92e-4d2f-9087-b5d1c435f1e0",
   "metadata": {},
   "source": [
    "## Results"
   ]
  },
  {
   "cell_type": "code",
   "execution_count": 165,
   "id": "90dd6488-5091-4fe8-86a0-8d1ef52360c3",
   "metadata": {
    "execution": {
     "iopub.execute_input": "2022-07-03T01:36:35.417367Z",
     "iopub.status.busy": "2022-07-03T01:36:35.416368Z",
     "iopub.status.idle": "2022-07-03T01:36:35.434715Z",
     "shell.execute_reply": "2022-07-03T01:36:35.434087Z",
     "shell.execute_reply.started": "2022-07-03T01:36:35.417367Z"
    },
    "tags": []
   },
   "outputs": [
    {
     "data": {
      "text/html": [
       "<style type=\"text/css\">\n",
       "</style>\n",
       "<table id=\"T_11870\">\n",
       "  <thead>\n",
       "  </thead>\n",
       "  <tbody>\n",
       "    <tr>\n",
       "      <td id=\"T_11870_row0_col0\" class=\"data row0 col0\" >$$p_z$$</td>\n",
       "      <td id=\"T_11870_row0_col1\" class=\"data row0 col1\" >1197</td>\n",
       "      <td id=\"T_11870_row0_col2\" class=\"data row0 col2\" >Pa</td>\n",
       "    </tr>\n",
       "    <tr>\n",
       "      <td id=\"T_11870_row1_col0\" class=\"data row1 col0\" >$$T_z$$</td>\n",
       "      <td id=\"T_11870_row1_col1\" class=\"data row1 col1\" >226.51</td>\n",
       "      <td id=\"T_11870_row1_col2\" class=\"data row1 col2\" >K</td>\n",
       "    </tr>\n",
       "    <tr>\n",
       "      <td id=\"T_11870_row2_col0\" class=\"data row2 col0\" >$$g_z$$</td>\n",
       "      <td id=\"T_11870_row2_col1\" class=\"data row2 col1\" >9.715</td>\n",
       "      <td id=\"T_11870_row2_col2\" class=\"data row2 col2\" >m/s²</td>\n",
       "    </tr>\n",
       "    <tr>\n",
       "      <td id=\"T_11870_row3_col0\" class=\"data row3 col0\" >$$\\rho_z$$</td>\n",
       "      <td id=\"T_11870_row3_col1\" class=\"data row3 col1\" >0.018</td>\n",
       "      <td id=\"T_11870_row3_col2\" class=\"data row3 col2\" >kg/m³</td>\n",
       "    </tr>\n",
       "    <tr>\n",
       "      <td id=\"T_11870_row4_col0\" class=\"data row4 col0\" >$$\\rho_{LGz}$$</td>\n",
       "      <td id=\"T_11870_row4_col1\" class=\"data row4 col1\" >0.003</td>\n",
       "      <td id=\"T_11870_row4_col2\" class=\"data row4 col2\" >kg/m³</td>\n",
       "    </tr>\n",
       "    <tr>\n",
       "      <td id=\"T_11870_row5_col0\" class=\"data row5 col0\" >$$W_z$$</td>\n",
       "      <td id=\"T_11870_row5_col1\" class=\"data row5 col1\" >9.443×10⁴</td>\n",
       "      <td id=\"T_11870_row5_col2\" class=\"data row5 col2\" >N</td>\n",
       "    </tr>\n",
       "    <tr>\n",
       "      <td id=\"T_11870_row6_col0\" class=\"data row6 col0\" >$$L_z$$</td>\n",
       "      <td id=\"T_11870_row6_col1\" class=\"data row6 col1\" >9.443×10⁴</td>\n",
       "      <td id=\"T_11870_row6_col2\" class=\"data row6 col2\" >N</td>\n",
       "    </tr>\n",
       "    <tr>\n",
       "      <td id=\"T_11870_row7_col0\" class=\"data row7 col0\" >$$V_z$$</td>\n",
       "      <td id=\"T_11870_row7_col1\" class=\"data row7 col1\" >5.280×10⁵</td>\n",
       "      <td id=\"T_11870_row7_col2\" class=\"data row7 col2\" >m³</td>\n",
       "    </tr>\n",
       "    <tr>\n",
       "      <td id=\"T_11870_row8_col0\" class=\"data row8 col0\" >$$m_{rz}$$</td>\n",
       "      <td id=\"T_11870_row8_col1\" class=\"data row8 col1\" >1341.833</td>\n",
       "      <td id=\"T_11870_row8_col2\" class=\"data row8 col2\" >kg</td>\n",
       "    </tr>\n",
       "    <tr>\n",
       "      <td id=\"T_11870_row9_col0\" class=\"data row9 col0\" >$$r_z$$</td>\n",
       "      <td id=\"T_11870_row9_col1\" class=\"data row9 col1\" >50.139</td>\n",
       "      <td id=\"T_11870_row9_col2\" class=\"data row9 col2\" >m</td>\n",
       "    </tr>\n",
       "    <tr>\n",
       "      <td id=\"T_11870_row10_col0\" class=\"data row10 col0\" >$$h_z$$</td>\n",
       "      <td id=\"T_11870_row10_col1\" class=\"data row10 col1\" >150.416</td>\n",
       "      <td id=\"T_11870_row10_col2\" class=\"data row10 col2\" >m</td>\n",
       "    </tr>\n",
       "    <tr>\n",
       "      <td id=\"T_11870_row11_col0\" class=\"data row11 col0\" >$$S$$</td>\n",
       "      <td id=\"T_11870_row11_col1\" class=\"data row11 col1\" >4.252×10⁴</td>\n",
       "      <td id=\"T_11870_row11_col2\" class=\"data row11 col2\" >m²</td>\n",
       "    </tr>\n",
       "    <tr>\n",
       "      <td id=\"T_11870_row12_col0\" class=\"data row12 col0\" >$$m_b$$</td>\n",
       "      <td id=\"T_11870_row12_col1\" class=\"data row12 col1\" >2997.151</td>\n",
       "      <td id=\"T_11870_row12_col2\" class=\"data row12 col2\" >kg</td>\n",
       "    </tr>\n",
       "    <tr>\n",
       "      <td id=\"T_11870_row13_col0\" class=\"data row13 col0\" >$$m_l$$</td>\n",
       "      <td id=\"T_11870_row13_col1\" class=\"data row13 col1\" >1677.616</td>\n",
       "      <td id=\"T_11870_row13_col2\" class=\"data row13 col2\" >kg</td>\n",
       "    </tr>\n",
       "    <tr>\n",
       "      <td id=\"T_11870_row14_col0\" class=\"data row14 col0\" >$$m_t$$</td>\n",
       "      <td id=\"T_11870_row14_col1\" class=\"data row14 col1\" >9719.767</td>\n",
       "      <td id=\"T_11870_row14_col2\" class=\"data row14 col2\" >kg</td>\n",
       "    </tr>\n",
       "    <tr>\n",
       "      <td id=\"T_11870_row15_col0\" class=\"data row15 col0\" >$$W_0$$</td>\n",
       "      <td id=\"T_11870_row15_col1\" class=\"data row15 col1\" >9.532×10⁴</td>\n",
       "      <td id=\"T_11870_row15_col2\" class=\"data row15 col2\" >N</td>\n",
       "    </tr>\n",
       "    <tr>\n",
       "      <td id=\"T_11870_row16_col0\" class=\"data row16 col0\" >$$L_0$$</td>\n",
       "      <td id=\"T_11870_row16_col1\" class=\"data row16 col1\" >1.128×10⁵</td>\n",
       "      <td id=\"T_11870_row16_col2\" class=\"data row16 col2\" >N</td>\n",
       "    </tr>\n",
       "    <tr>\n",
       "      <td id=\"T_11870_row17_col0\" class=\"data row17 col0\" >$$D$$</td>\n",
       "      <td id=\"T_11870_row17_col1\" class=\"data row17 col1\" >1.752×10⁴</td>\n",
       "      <td id=\"T_11870_row17_col2\" class=\"data row17 col2\" >N</td>\n",
       "    </tr>\n",
       "    <tr>\n",
       "      <td id=\"T_11870_row18_col0\" class=\"data row18 col0\" >$$A_0$$</td>\n",
       "      <td id=\"T_11870_row18_col1\" class=\"data row18 col1\" >1690.888</td>\n",
       "      <td id=\"T_11870_row18_col2\" class=\"data row18 col2\" >m²</td>\n",
       "    </tr>\n",
       "    <tr>\n",
       "      <td id=\"T_11870_row19_col0\" class=\"data row19 col0\" >$$r_0$$</td>\n",
       "      <td id=\"T_11870_row19_col1\" class=\"data row19 col1\" >13.089</td>\n",
       "      <td id=\"T_11870_row19_col2\" class=\"data row19 col2\" >m</td>\n",
       "    </tr>\n",
       "    <tr>\n",
       "      <td id=\"T_11870_row20_col0\" class=\"data row20 col0\" >$$V_0$$</td>\n",
       "      <td id=\"T_11870_row20_col1\" class=\"data row20 col1\" >9393.146</td>\n",
       "      <td id=\"T_11870_row20_col2\" class=\"data row20 col2\" >m³</td>\n",
       "    </tr>\n",
       "    <tr>\n",
       "      <td id=\"T_11870_row21_col0\" class=\"data row21 col0\" >$$\\rho_{LG0}$$</td>\n",
       "      <td id=\"T_11870_row21_col1\" class=\"data row21 col1\" >0.179</td>\n",
       "      <td id=\"T_11870_row21_col2\" class=\"data row21 col2\" >kg/m³</td>\n",
       "    </tr>\n",
       "    <tr>\n",
       "      <td id=\"T_11870_row22_col0\" class=\"data row22 col0\" >$$m_{r0}$$</td>\n",
       "      <td id=\"T_11870_row22_col1\" class=\"data row22 col1\" >1677.616</td>\n",
       "      <td id=\"T_11870_row22_col2\" class=\"data row22 col2\" >kg</td>\n",
       "    </tr>\n",
       "  </tbody>\n",
       "</table>\n"
      ],
      "text/plain": [
       "<pandas.io.formats.style.Styler at 0x2a364bd6790>"
      ]
     },
     "execution_count": 165,
     "metadata": {},
     "output_type": "execute_result"
    }
   ],
   "source": [
    "print_outputs(model, prob, namingfunc)"
   ]
  },
  {
   "cell_type": "code",
   "execution_count": null,
   "id": "5ff63dd0-905d-4e25-b9ab-5c6568af6ba3",
   "metadata": {},
   "outputs": [],
   "source": []
  }
 ],
 "metadata": {
  "kernelspec": {
   "display_name": "Python [conda env:mdo]",
   "language": "python",
   "name": "conda-env-mdo-py"
  },
  "language_info": {
   "codemirror_mode": {
    "name": "ipython",
    "version": 3
   },
   "file_extension": ".py",
   "mimetype": "text/x-python",
   "name": "python",
   "nbconvert_exporter": "python",
   "pygments_lexer": "ipython3",
   "version": "3.9.13"
  }
 },
 "nbformat": 4,
 "nbformat_minor": 5
}
