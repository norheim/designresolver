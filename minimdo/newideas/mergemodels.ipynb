{
 "cells": [
  {
   "cell_type": "code",
   "execution_count": 1,
   "id": "fa33f852-d0d8-43bc-8c01-8cdd358c181d",
   "metadata": {
    "execution": {
     "iopub.execute_input": "2022-07-16T22:37:35.399954Z",
     "iopub.status.busy": "2022-07-16T22:37:35.399954Z",
     "iopub.status.idle": "2022-07-16T22:37:37.659528Z",
     "shell.execute_reply": "2022-07-16T22:37:37.659200Z",
     "shell.execute_reply.started": "2022-07-16T22:37:35.399954Z"
    },
    "tags": []
   },
   "outputs": [],
   "source": [
    "from datastructures.api import Model, adda, addobj, addsolver\n",
    "from compute import Var\n",
    "from datastructures.execution import Component, component_hash\n",
    "from datastructures.graphutils import copy_dicts"
   ]
  },
  {
   "cell_type": "code",
   "execution_count": 2,
   "id": "6b549fa3-8f2f-46bb-bfbf-14a40eeaa7ad",
   "metadata": {
    "execution": {
     "iopub.execute_input": "2022-07-16T22:37:37.661549Z",
     "iopub.status.busy": "2022-07-16T22:37:37.660551Z",
     "iopub.status.idle": "2022-07-16T22:37:37.707175Z",
     "shell.execute_reply": "2022-07-16T22:37:37.706221Z",
     "shell.execute_reply.started": "2022-07-16T22:37:37.661549Z"
    },
    "tags": []
   },
   "outputs": [],
   "source": [
    "x = Var('x')\n",
    "y = Var('y')\n",
    "model = Model()\n",
    "m = model.root\n",
    "addobj(m, x+y)"
   ]
  },
  {
   "cell_type": "code",
   "execution_count": 3,
   "id": "6edea8db-4c2c-4803-81a3-0cb6ea85afd5",
   "metadata": {
    "execution": {
     "iopub.execute_input": "2022-07-16T22:37:37.708186Z",
     "iopub.status.busy": "2022-07-16T22:37:37.708186Z",
     "iopub.status.idle": "2022-07-16T22:37:37.722289Z",
     "shell.execute_reply": "2022-07-16T22:37:37.722289Z",
     "shell.execute_reply.started": "2022-07-16T22:37:37.708186Z"
    },
    "tags": []
   },
   "outputs": [],
   "source": [
    "addobj(m, x+y)"
   ]
  },
  {
   "cell_type": "code",
   "execution_count": 4,
   "id": "9381985d-08fe-4baa-a72d-19bc1a1513d7",
   "metadata": {
    "execution": {
     "iopub.execute_input": "2022-07-16T22:37:38.152506Z",
     "iopub.status.busy": "2022-07-16T22:37:38.152506Z",
     "iopub.status.idle": "2022-07-16T22:37:38.266496Z",
     "shell.execute_reply": "2022-07-16T22:37:38.265657Z",
     "shell.execute_reply.started": "2022-07-16T22:37:38.152506Z"
    },
    "tags": []
   },
   "outputs": [
    {
     "data": {
      "text/latex": [
       "$a=2 \\ (x=1 ,y=1 )$"
      ],
      "text/plain": [
       "a"
      ]
     },
     "execution_count": 4,
     "metadata": {},
     "output_type": "execute_result"
    }
   ],
   "source": [
    "adda(m, 'a', x+y)"
   ]
  },
  {
   "cell_type": "code",
   "execution_count": 5,
   "id": "56c2e18c-c323-4737-97bb-47e0777f2c29",
   "metadata": {
    "execution": {
     "iopub.execute_input": "2022-07-16T22:37:38.650252Z",
     "iopub.status.busy": "2022-07-16T22:37:38.650252Z",
     "iopub.status.idle": "2022-07-16T22:37:38.656746Z",
     "shell.execute_reply": "2022-07-16T22:37:38.656276Z",
     "shell.execute_reply.started": "2022-07-16T22:37:38.650252Z"
    },
    "tags": []
   },
   "outputs": [],
   "source": [
    "edges,tree = model.generate_formulation()"
   ]
  },
  {
   "cell_type": "code",
   "execution_count": 6,
   "id": "5f6988b2-81cb-4c20-869c-3ab580a33062",
   "metadata": {
    "execution": {
     "iopub.execute_input": "2022-07-16T22:37:39.079946Z",
     "iopub.status.busy": "2022-07-16T22:37:39.079946Z",
     "iopub.status.idle": "2022-07-16T22:37:39.092046Z",
     "shell.execute_reply": "2022-07-16T22:37:39.090947Z",
     "shell.execute_reply.started": "2022-07-16T22:37:39.079946Z"
    },
    "tags": []
   },
   "outputs": [],
   "source": [
    "edges_new = {0: ('x',), 1: ('x', 'y')}, {0:(1,),1:('a',)}"
   ]
  },
  {
   "cell_type": "code",
   "execution_count": 7,
   "id": "93bf3897-6b5a-47aa-b35e-923273899295",
   "metadata": {
    "execution": {
     "iopub.execute_input": "2022-07-16T22:37:39.464260Z",
     "iopub.status.busy": "2022-07-16T22:37:39.464260Z",
     "iopub.status.idle": "2022-07-16T22:37:39.468699Z",
     "shell.execute_reply": "2022-07-16T22:37:39.468129Z",
     "shell.execute_reply.started": "2022-07-16T22:37:39.464260Z"
    },
    "tags": []
   },
   "outputs": [],
   "source": [
    "s1 = addsolver(m)"
   ]
  },
  {
   "cell_type": "code",
   "execution_count": 8,
   "id": "ade325fa-c3a3-40ee-b970-0be866929354",
   "metadata": {
    "execution": {
     "iopub.execute_input": "2022-07-16T22:37:39.952893Z",
     "iopub.status.busy": "2022-07-16T22:37:39.952893Z",
     "iopub.status.idle": "2022-07-16T22:37:39.981635Z",
     "shell.execute_reply": "2022-07-16T22:37:39.981635Z",
     "shell.execute_reply.started": "2022-07-16T22:37:39.952893Z"
    },
    "tags": []
   },
   "outputs": [
    {
     "data": {
      "text/latex": [
       "$b=1 \\ (x=1 ,y=1 )$"
      ],
      "text/plain": [
       "b"
      ]
     },
     "execution_count": 8,
     "metadata": {},
     "output_type": "execute_result"
    }
   ],
   "source": [
    "adda(s1, 'b', x*y)"
   ]
  },
  {
   "cell_type": "code",
   "execution_count": 9,
   "id": "2bade12a-b912-436e-94f8-487727bb7f2f",
   "metadata": {
    "execution": {
     "iopub.execute_input": "2022-07-16T22:37:40.261454Z",
     "iopub.status.busy": "2022-07-16T22:37:40.260317Z",
     "iopub.status.idle": "2022-07-16T22:37:40.276798Z",
     "shell.execute_reply": "2022-07-16T22:37:40.276493Z",
     "shell.execute_reply.started": "2022-07-16T22:37:40.261454Z"
    },
    "tags": []
   },
   "outputs": [
    {
     "data": {
      "text/plain": [
       "OrderedDict([(0, 1), (1, 1), (2, 2)])"
      ]
     },
     "execution_count": 9,
     "metadata": {},
     "output_type": "execute_result"
    }
   ],
   "source": [
    "model.Ftree"
   ]
  },
  {
   "cell_type": "code",
   "execution_count": 12,
   "id": "85f89a7c-ff7d-4a6e-a8a6-4f392d614a93",
   "metadata": {
    "execution": {
     "iopub.execute_input": "2022-07-16T22:41:54.909216Z",
     "iopub.status.busy": "2022-07-16T22:41:54.908175Z",
     "iopub.status.idle": "2022-07-16T22:41:54.917729Z",
     "shell.execute_reply": "2022-07-16T22:41:54.917488Z",
     "shell.execute_reply.started": "2022-07-16T22:41:54.908175Z"
    },
    "tags": []
   },
   "outputs": [],
   "source": [
    "from collections import OrderedDict\n",
    "def merge(model, edges, tree):\n",
    "    medges,mtree = model.generate_formulation()\n",
    "    new_edges = tuple(E | {key:val for key,val in mE.items() if key not in E} for mE,E in zip(medges, edges))\n",
    "    Ftree,Vtree,Stree = copy_dicts(mtree)\n",
    "    new_Ftree = OrderedDict(tree[0])\n",
    "    for key,val in Ftree.items():\n",
    "        if key not in edges[0]:\n",
    "            new_Ftree[key] = val\n",
    "    new_treeSV = tuple(E | {key:val for key,val in mE.items() if key not in E} for mE,E in zip(mtree[1:3], tree[1:3]))\n",
    "    return new_edges, (new_Ftree, new_treeSV[0], new_treeSV[1]), model.components"
   ]
  },
  {
   "cell_type": "code",
   "execution_count": 13,
   "id": "838e8a01-0a55-49e0-a2cb-abac989efce5",
   "metadata": {
    "execution": {
     "iopub.execute_input": "2022-07-16T22:41:55.486739Z",
     "iopub.status.busy": "2022-07-16T22:41:55.486739Z",
     "iopub.status.idle": "2022-07-16T22:41:55.495349Z",
     "shell.execute_reply": "2022-07-16T22:41:55.495008Z",
     "shell.execute_reply.started": "2022-07-16T22:41:55.486739Z"
    },
    "tags": []
   },
   "outputs": [
    {
     "data": {
      "text/plain": [
       "(({0: ('x',), 1: ('x', 'y'), 2: ('x', 'y')}, {0: (1,), 1: ('a',), 2: ('b',)}),\n",
       " (OrderedDict([(0, 1), (1, 1), (2, 2)]), {2: 1}, {}),\n",
       " [(('x', 'y'), 0, (None,), 'x + y'),\n",
       "  (('x', 'y'), 1, ('a',), 'x + y'),\n",
       "  (('x', 'y'), 2, ('b',), 'x*y')])"
      ]
     },
     "execution_count": 13,
     "metadata": {},
     "output_type": "execute_result"
    }
   ],
   "source": [
    "merge(model, edges_new, tree)"
   ]
  },
  {
   "cell_type": "code",
   "execution_count": null,
   "id": "1e2db73e-7cda-4722-9f81-56ce8e94a166",
   "metadata": {},
   "outputs": [],
   "source": []
  }
 ],
 "metadata": {
  "kernelspec": {
   "display_name": "Python [conda env:minimdo]",
   "language": "python",
   "name": "conda-env-minimdo-py"
  },
  "language_info": {
   "codemirror_mode": {
    "name": "ipython",
    "version": 3
   },
   "file_extension": ".py",
   "mimetype": "text/x-python",
   "name": "python",
   "nbconvert_exporter": "python",
   "pygments_lexer": "ipython3",
   "version": "3.9.12"
  }
 },
 "nbformat": 4,
 "nbformat_minor": 5
}
