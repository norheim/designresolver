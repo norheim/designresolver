{
 "cells": [
  {
   "cell_type": "code",
   "execution_count": 1,
   "id": "be29e181-532c-4cab-964d-c4acae654188",
   "metadata": {
    "execution": {
     "iopub.execute_input": "2022-07-15T13:52:05.654493Z",
     "iopub.status.busy": "2022-07-15T13:52:05.654493Z",
     "iopub.status.idle": "2022-07-15T13:52:07.607048Z",
     "shell.execute_reply": "2022-07-15T13:52:07.607048Z",
     "shell.execute_reply.started": "2022-07-15T13:52:05.654493Z"
    },
    "tags": []
   },
   "outputs": [],
   "source": [
    "from compute import Var, Par\n",
    "from datastructures.api import Model, adda, addf, addsolver, edges_no_param, evalexpr, OPT, addineq, setsolvefor, addobj\n",
    "from anytree import Node\n",
    "from constants import μ, R, Q, k, c, G, H_int, ρ_int\n",
    "from representations import render_tree, digraph_repr, drawfull, tree_incidence\n",
    "from notation import graphs_from_incidence, make_acyclic, solvers_bottom_up, generate_execution, default_sequence\n",
    "import numpy as np\n",
    "import sympy as sp\n",
    "import networkx as nx\n",
    "from sympy.utilities.lambdify import implemented_function\n",
    "import matplotlib.pyplot as plt\n",
    "from collections import OrderedDict\n",
    "from datastructures.graphutils import (namefromsympy, namefromid, flat_graph_formulation, Node, COMP, VAR, SOLVER,\n",
    "merge_edges, all_varnodes, all_variables, all_edges, sources, copy_dicts)\n",
    "from datastructures.operators import sort_scc, reorder_merge_solve, reformulate\n",
    "from datastructures.execution import Component\n",
    "from datastructures.workflow import order_from_tree, get_f, mdao_workflow, default_solver_options\n",
    "from datastructures.workflow_mdao import mdao_workflow_with_args\n",
    "from datastructures.assembly import build_archi\n",
    "from executeformulations import extractvals\n",
    "import pandas as pd\n",
    "from datastructures.postprocess import print_outputs, print_inputs, update_varval\n",
    "from datastructures.rendering import render_incidence\n",
    "from datastructures.tearing import dir_graph, min_arc_set_assign, min_arc_set, min_max_scc, min_max_scc2\n",
    "from datastructures.transformations import transform_components\n",
    "from itertools import chain\n",
    "import openmdao.api as om"
   ]
  },
  {
   "cell_type": "markdown",
   "id": "63bfda93-3029-4b49-91a3-e7fd5fbec2c6",
   "metadata": {},
   "source": [
    "# Sizing equations"
   ]
  },
  {
   "cell_type": "markdown",
   "id": "266adce2-75d1-4106-a28c-767dbfe86e85",
   "metadata": {},
   "source": [
    "## Parameters"
   ]
  },
  {
   "cell_type": "code",
   "execution_count": 2,
   "id": "f1c212a7-9963-4b07-a6e9-7f0ea1217b52",
   "metadata": {
    "execution": {
     "iopub.execute_input": "2022-07-15T13:52:07.607048Z",
     "iopub.status.busy": "2022-07-15T13:52:07.607048Z",
     "iopub.status.idle": "2022-07-15T13:52:07.623463Z",
     "shell.execute_reply": "2022-07-15T13:52:07.622461Z",
     "shell.execute_reply.started": "2022-07-15T13:52:07.607048Z"
    },
    "tags": []
   },
   "outputs": [],
   "source": [
    "dBtoLinear = lambda db: 10**(db/10)\n",
    "D_r = Par('D_r', 5.3, 'm')\n",
    "L = Par('L', dBtoLinear(1+8.5+0.3+0.1)) #based on SMAD page 567\n",
    "T_s = Par('T_s', 135, 'K')\n",
    "B = Par('B', 8, 'bit')\n",
    "N = Par('N', 2e3, '')\n",
    "eta = Par(r'\\eta_c', 0.55)\n",
    "l_v = Par('l_v', 500, 'nm')\n",
    "f = Par('f', 2.2, 'GHz')\n",
    "rho_T = Par(r'\\rho_T', 500e3, 'kg*m')\n",
    "rho_P = Par(r'\\rho_P', 0.002e-3, 'kg/J')\n",
    "P_l = Par('P_l', 12, 'W')\n",
    "m_c = Par('m_c', 0.2, 'kg')\n",
    "C_D = Par('C_D', 2.2)\n",
    "I_sp = Par('Isp', 70, 's')\n",
    "w_W = Par('w_W', 1000, 'rad/s')\n",
    "c_W = Par('c_W', 1)\n",
    "rho_M = Par(r'\\rho_M', 11.4)\n",
    "rho_P2 = Par(r'\\rho_P2', 9/0.1)\n",
    "M_B = Par('M_B', 7.96e15)\n",
    "kp = Par('kp', 0.0002)"
   ]
  },
  {
   "cell_type": "code",
   "execution_count": 3,
   "id": "c3d73208-2030-40c0-b4fb-c06eaf97a423",
   "metadata": {
    "execution": {
     "iopub.execute_input": "2022-07-15T13:52:07.624461Z",
     "iopub.status.busy": "2022-07-15T13:52:07.624461Z",
     "iopub.status.idle": "2022-07-15T13:52:07.639515Z",
     "shell.execute_reply": "2022-07-15T13:52:07.638561Z",
     "shell.execute_reply.started": "2022-07-15T13:52:07.624461Z"
    },
    "tags": []
   },
   "outputs": [],
   "source": [
    "#model = Model()\n",
    "model = Model(solver=OPT)\n",
    "m = model.root"
   ]
  },
  {
   "cell_type": "markdown",
   "id": "63f99e9e-8233-4653-ac64-fedde7039039",
   "metadata": {},
   "source": [
    "## Orbit / mission design"
   ]
  },
  {
   "cell_type": "code",
   "execution_count": 4,
   "id": "cfe79c9c-ccea-4219-b15e-086023c02b96",
   "metadata": {
    "execution": {
     "iopub.execute_input": "2022-07-15T13:52:07.640528Z",
     "iopub.status.busy": "2022-07-15T13:52:07.640528Z",
     "iopub.status.idle": "2022-07-15T13:52:07.655397Z",
     "shell.execute_reply": "2022-07-15T13:52:07.654525Z",
     "shell.execute_reply.started": "2022-07-15T13:52:07.640528Z"
    },
    "tags": []
   },
   "outputs": [],
   "source": [
    "orbit = m#addsolver(m, name='orbit')"
   ]
  },
  {
   "cell_type": "code",
   "execution_count": 5,
   "id": "66dc9e13-a363-46d9-a9d8-0c40a9410eac",
   "metadata": {
    "execution": {
     "iopub.execute_input": "2022-07-15T13:52:07.724848Z",
     "iopub.status.busy": "2022-07-15T13:52:07.724848Z",
     "iopub.status.idle": "2022-07-15T13:52:08.002282Z",
     "shell.execute_reply": "2022-07-15T13:52:08.002098Z",
     "shell.execute_reply.started": "2022-07-15T13:52:07.724848Z"
    },
    "tags": []
   },
   "outputs": [],
   "source": [
    "h = Var('h', 400, 'km') #\n",
    "a = adda(orbit, 'a', h + R, unit='km')\n",
    "T = adda(orbit, 'T', 2*np.pi*(a**3/μ)**0.5, unit='min')\n",
    "g = adda(orbit, 'g', 1/np.pi*sp.acos(R/a), unit='')\n",
    "d = adda(orbit, 'd', g+0.5)\n",
    "r = adda(orbit, 'r', (h**2+2*R*h)**0.5, unit='km')"
   ]
  },
  {
   "cell_type": "markdown",
   "id": "62fbeca4-cfd3-44c4-9b11-fb74ec1f0b59",
   "metadata": {
    "tags": []
   },
   "source": [
    "## Power"
   ]
  },
  {
   "cell_type": "code",
   "execution_count": 6,
   "id": "441cc243-69d4-4299-b64f-19e89c363694",
   "metadata": {
    "execution": {
     "iopub.execute_input": "2022-07-15T13:52:08.545282Z",
     "iopub.status.busy": "2022-07-15T13:52:08.545282Z",
     "iopub.status.idle": "2022-07-15T13:52:08.563385Z",
     "shell.execute_reply": "2022-07-15T13:52:08.562360Z",
     "shell.execute_reply.started": "2022-07-15T13:52:08.545282Z"
    },
    "tags": []
   },
   "outputs": [],
   "source": [
    "power = m#addsolver(m, name='power')"
   ]
  },
  {
   "cell_type": "code",
   "execution_count": 7,
   "id": "72ede195-4fe3-4d48-9740-e7657f94f92a",
   "metadata": {
    "execution": {
     "iopub.execute_input": "2022-07-15T13:52:08.773139Z",
     "iopub.status.busy": "2022-07-15T13:52:08.773139Z",
     "iopub.status.idle": "2022-07-15T13:52:08.875381Z",
     "shell.execute_reply": "2022-07-15T13:52:08.874382Z",
     "shell.execute_reply.started": "2022-07-15T13:52:08.773139Z"
    },
    "tags": []
   },
   "outputs": [],
   "source": [
    "eta_A = Par(r'\\eta_A', 0.3)\n",
    "rho_A = Par(r'\\rho_A', 10, 'kg/m^2') #\n",
    "#ρ_A, η_A = ρ_Ai[solar], η_Ai[solar]\n",
    "A = Var('A', 0.05, unit='m^2')\n",
    "m_A = adda(power, 'm_A', rho_A*A, unit='kg')\n",
    "P_c = adda(power, 'P_c', d*A*Q*eta_A, unit='W')\n",
    "P_T = adda(power, 'P_T', P_c-P_l, unit='W') #hack\n",
    "E_b = adda(power, 'E_b', P_c*T/d, unit='kJ')\n",
    "rho_b = Par(r'\\rho_b', 0.002, 'kg/kJ')\n",
    "m_b = adda(power, 'm_b', rho_b*E_b, unit='kg')\n",
    "#E_b, m_b = E_bi[bat], m_bi[bat]"
   ]
  },
  {
   "cell_type": "markdown",
   "id": "51855427-b668-42eb-beb4-cf99cfeff29b",
   "metadata": {},
   "source": [
    "## Payload"
   ]
  },
  {
   "cell_type": "code",
   "execution_count": 8,
   "id": "d877b307-a9de-4109-931b-c1172a151495",
   "metadata": {
    "execution": {
     "iopub.execute_input": "2022-07-15T13:52:09.206092Z",
     "iopub.status.busy": "2022-07-15T13:52:09.206092Z",
     "iopub.status.idle": "2022-07-15T13:52:09.219494Z",
     "shell.execute_reply": "2022-07-15T13:52:09.218337Z",
     "shell.execute_reply.started": "2022-07-15T13:52:09.206092Z"
    },
    "tags": []
   },
   "outputs": [],
   "source": [
    "payload = m#addsolver(m, name='payload')"
   ]
  },
  {
   "cell_type": "code",
   "execution_count": 9,
   "id": "47b296c5-43f3-4575-aafc-16548576cd88",
   "metadata": {
    "execution": {
     "iopub.execute_input": "2022-07-15T13:52:09.470337Z",
     "iopub.status.busy": "2022-07-15T13:52:09.470337Z",
     "iopub.status.idle": "2022-07-15T13:52:09.535340Z",
     "shell.execute_reply": "2022-07-15T13:52:09.534338Z",
     "shell.execute_reply.started": "2022-07-15T13:52:09.470337Z"
    },
    "tags": []
   },
   "outputs": [],
   "source": [
    "X_r = Var('X_r', 5, 'm')\n",
    "D_p = adda(payload, 'D_p', 1.22*l_v*h/X_r)\n",
    "D = adda(payload, 'D', 2*np.pi*R*B*N/X_r, unit='GB')\n",
    "rho_p = Par(r'\\rho_p', 2, 'kg/m^1.5') \n",
    "#D_p, m_p = D_pi[payload], m_pi[payload]\n",
    "m_p = adda(payload, 'm_p', rho_p*D_p**1.5, unit='kg')"
   ]
  },
  {
   "cell_type": "code",
   "execution_count": 10,
   "id": "827027db-fe00-4f17-9c5b-fc323673b0c1",
   "metadata": {
    "execution": {
     "iopub.execute_input": "2022-07-15T13:52:09.973841Z",
     "iopub.status.busy": "2022-07-15T13:52:09.973841Z",
     "iopub.status.idle": "2022-07-15T13:52:09.984567Z",
     "shell.execute_reply": "2022-07-15T13:52:09.984567Z",
     "shell.execute_reply.started": "2022-07-15T13:52:09.973841Z"
    },
    "tags": []
   },
   "outputs": [],
   "source": [
    "#payload = addsolver(m, geteqs(m, [D_p, D, m_p]), [], name='payload')"
   ]
  },
  {
   "cell_type": "markdown",
   "id": "87cbc428-558e-449a-88c5-2f6d0b802cce",
   "metadata": {},
   "source": [
    "## Comms"
   ]
  },
  {
   "cell_type": "code",
   "execution_count": 11,
   "id": "56565f50-461e-44e2-b9cc-694b1cbfc609",
   "metadata": {
    "execution": {
     "iopub.execute_input": "2022-07-15T13:52:10.358494Z",
     "iopub.status.busy": "2022-07-15T13:52:10.358494Z",
     "iopub.status.idle": "2022-07-15T13:52:10.375571Z",
     "shell.execute_reply": "2022-07-15T13:52:10.374859Z",
     "shell.execute_reply.started": "2022-07-15T13:52:10.358494Z"
    },
    "tags": []
   },
   "outputs": [],
   "source": [
    "comms = m#addsolver(m, name='comms')"
   ]
  },
  {
   "cell_type": "code",
   "execution_count": 12,
   "id": "38eecc0d-6b88-4d03-8221-457d361a5052",
   "metadata": {
    "execution": {
     "iopub.execute_input": "2022-07-15T13:52:10.525943Z",
     "iopub.status.busy": "2022-07-15T13:52:10.525943Z",
     "iopub.status.idle": "2022-07-15T13:52:10.627138Z",
     "shell.execute_reply": "2022-07-15T13:52:10.626995Z",
     "shell.execute_reply.started": "2022-07-15T13:52:10.525943Z"
    },
    "tags": []
   },
   "outputs": [],
   "source": [
    "b = adda(comms, 'b', D/T, unit='MB/s')\n",
    "λ_c = adda(comms, r'\\lambda_c', c/f, unit='cm')\n",
    "G_T = Par('G_T', dBtoLinear(16.5), '')\n",
    "D_T = adda(comms, 'D_T', λ_c*(G_T/eta)**0.5/np.pi, unit='m')\n",
    "rho_T = Par(r'\\rho_T', 0.2, 'kg/m^1.5')\n",
    "m_T = adda(comms, 'm_T', rho_T*D_T**1.5, unit='kg')\n",
    "#m_T, P_T, G_T = m_Ti[comms], P_Ti[comms], G_Ti[comms]\n",
    "G_r = adda(comms, 'G_r', eta*(np.pi*D_r/λ_c)**2)\n",
    "EN = adda(comms, 'EN', P_T*G_r*G_T/(L*k*T_s*b)*(λ_c/(4*np.pi*r))**2, unit='')"
   ]
  },
  {
   "cell_type": "code",
   "execution_count": 13,
   "id": "a6e2e8e7-9227-4e62-bc03-8d6801afc7a7",
   "metadata": {
    "execution": {
     "iopub.execute_input": "2022-07-15T13:52:10.685313Z",
     "iopub.status.busy": "2022-07-15T13:52:10.685313Z",
     "iopub.status.idle": "2022-07-15T13:52:10.703312Z",
     "shell.execute_reply": "2022-07-15T13:52:10.703312Z",
     "shell.execute_reply.started": "2022-07-15T13:52:10.685313Z"
    },
    "tags": []
   },
   "outputs": [],
   "source": [
    "#comms = addsolver(m, geteqs(m, [b, λ_c, D_T, m_T, G_r, EN]), [], name='comms')"
   ]
  },
  {
   "cell_type": "markdown",
   "id": "9d167992-9c25-4a84-9e66-fd9428ae0e3d",
   "metadata": {},
   "source": [
    "## Mass and struct"
   ]
  },
  {
   "cell_type": "code",
   "execution_count": 14,
   "id": "31b1491a-8558-4ee6-a3c1-0ea6f7aa0a19",
   "metadata": {
    "execution": {
     "iopub.execute_input": "2022-07-15T13:52:11.420310Z",
     "iopub.status.busy": "2022-07-15T13:52:11.420310Z",
     "iopub.status.idle": "2022-07-15T13:52:11.438618Z",
     "shell.execute_reply": "2022-07-15T13:52:11.438618Z",
     "shell.execute_reply.started": "2022-07-15T13:52:11.420310Z"
    },
    "tags": []
   },
   "outputs": [],
   "source": [
    "struct = m#addsolver(m, name='struct')\n",
    "mt = Var('m_t', unit='kg')\n",
    "eta_S = Par(r'\\eta_S', 0.2)\n",
    "m_s = adda(struct, 'm_s', eta_S*mt, unit='kg')"
   ]
  },
  {
   "cell_type": "code",
   "execution_count": 15,
   "id": "bcb17d1a-9dbf-4281-a65f-0d976ee914ee",
   "metadata": {
    "execution": {
     "iopub.execute_input": "2022-07-15T13:52:11.628137Z",
     "iopub.status.busy": "2022-07-15T13:52:11.628137Z",
     "iopub.status.idle": "2022-07-15T13:52:11.674462Z",
     "shell.execute_reply": "2022-07-15T13:52:11.674462Z",
     "shell.execute_reply.started": "2022-07-15T13:52:11.628137Z"
    },
    "tags": []
   },
   "outputs": [
    {
     "data": {
      "text/latex": [
       "$m_t=1.498\\ \\mathrm{kg}\\ (m_s=0.2 )$"
      ],
      "text/plain": [
       "m_t"
      ]
     },
     "execution_count": 15,
     "metadata": {},
     "output_type": "execute_result"
    }
   ],
   "source": [
    "mass = m #addsolver(m, name='mass')\n",
    "m_pr = Var('m_{pr}', 0.5, unit='kg')\n",
    "adda(mass, mt, m_T+m_p+m_b+m_A+m_s+m_pr)"
   ]
  },
  {
   "cell_type": "code",
   "execution_count": 16,
   "id": "268607d8-ba96-43ac-a703-c03a04df4c2c",
   "metadata": {
    "execution": {
     "iopub.execute_input": "2022-07-15T13:52:11.818543Z",
     "iopub.status.busy": "2022-07-15T13:52:11.818543Z",
     "iopub.status.idle": "2022-07-15T13:52:11.832444Z",
     "shell.execute_reply": "2022-07-15T13:52:11.831528Z",
     "shell.execute_reply.started": "2022-07-15T13:52:11.818543Z"
    },
    "tags": []
   },
   "outputs": [],
   "source": [
    "# struct = addsolver(m, geteqs(m, [m_s]), [], name='struct')\n",
    "# mass = addsolver(m, geteqs(m, [mt]), [], name='mass')"
   ]
  },
  {
   "cell_type": "markdown",
   "id": "b5363441-ceca-4883-a9a1-ffd6ef5448b7",
   "metadata": {
    "tags": []
   },
   "source": [
    "## Propulsion"
   ]
  },
  {
   "cell_type": "code",
   "execution_count": 17,
   "id": "ab5f6150-c141-4d6f-9237-9ba7bc21336a",
   "metadata": {
    "execution": {
     "iopub.execute_input": "2022-07-15T13:52:12.828997Z",
     "iopub.status.busy": "2022-07-15T13:52:12.828997Z",
     "iopub.status.idle": "2022-07-15T13:52:12.847012Z",
     "shell.execute_reply": "2022-07-15T13:52:12.846010Z",
     "shell.execute_reply.started": "2022-07-15T13:52:12.828997Z"
    },
    "tags": []
   },
   "outputs": [],
   "source": [
    "prop = m#addsolver(m, name='prop')"
   ]
  },
  {
   "cell_type": "code",
   "execution_count": 18,
   "id": "36319b2c-b387-4bd7-8833-c8bb838a42a8",
   "metadata": {
    "execution": {
     "iopub.execute_input": "2022-07-15T13:52:13.029147Z",
     "iopub.status.busy": "2022-07-15T13:52:13.028227Z",
     "iopub.status.idle": "2022-07-15T13:52:13.050191Z",
     "shell.execute_reply": "2022-07-15T13:52:13.049191Z",
     "shell.execute_reply.started": "2022-07-15T13:52:13.029147Z"
    },
    "tags": []
   },
   "outputs": [],
   "source": [
    "H = implemented_function(sp.Function('H'), H_int)\n",
    "rho = implemented_function(sp.Function('rho'),  ρ_int)"
   ]
  },
  {
   "cell_type": "code",
   "execution_count": 19,
   "id": "235ea58f-2d31-41af-954f-bc24b1fb1f21",
   "metadata": {
    "execution": {
     "iopub.execute_input": "2022-07-15T13:52:13.203423Z",
     "iopub.status.busy": "2022-07-15T13:52:13.202414Z",
     "iopub.status.idle": "2022-07-15T13:52:13.455291Z",
     "shell.execute_reply": "2022-07-15T13:52:13.455291Z",
     "shell.execute_reply.started": "2022-07-15T13:52:13.203423Z"
    },
    "tags": []
   },
   "outputs": [],
   "source": [
    "L_min = Par('L_{min}', 10, 'yr')\n",
    "m_pr = Var('m_{pr}', 0.5, unit='kg')\n",
    "Hval = adda(prop, 'H_{val}', H(h*1e3), unit='m', forceunit=True)\n",
    "rhoval= adda(prop, r'\\rho_{val}', rho(h*1e3), unit='kg/m**3', forceunit=True)\n",
    "Ln = adda(prop, 'L_n', Hval*mt/(2*np.pi*C_D*A*rhoval*a**2)*T, unit='yr')\n",
    "Lp = adda(prop, 'L_p', m_pr*I_sp*G*a/(0.5*C_D*A*rhoval*μ), unit='yr')\n",
    "Lt = adda(prop, 'L_t', Ln+Lp, unit='yr')"
   ]
  },
  {
   "cell_type": "markdown",
   "id": "f049e59b-8b0a-42cc-8436-28d7c8fa7add",
   "metadata": {
    "jp-MarkdownHeadingCollapsed": true,
    "tags": []
   },
   "source": [
    "# Optimization"
   ]
  },
  {
   "cell_type": "code",
   "execution_count": 20,
   "id": "5a30c56c-295d-4822-b622-45130a21e3eb",
   "metadata": {
    "execution": {
     "iopub.execute_input": "2022-07-15T13:39:52.860232Z",
     "iopub.status.busy": "2022-07-15T13:39:52.860232Z",
     "iopub.status.idle": "2022-07-15T13:39:52.872253Z",
     "shell.execute_reply": "2022-07-15T13:39:52.871251Z",
     "shell.execute_reply.started": "2022-07-15T13:39:52.860232Z"
    },
    "tags": []
   },
   "outputs": [],
   "source": [
    "ENreq = Par('EN_r', 14.125)\n",
    "addineq(m, -Lt+L_min)\n",
    "addineq(m, -EN+ENreq)\n",
    "addobj(m, mt)\n",
    "setsolvefor(m, [A,m_pr], {A:[0,10], m_pr:[0,10]})"
   ]
  },
  {
   "cell_type": "markdown",
   "id": "4085a9d3-1b17-4351-895c-014c075983b5",
   "metadata": {
    "execution": {
     "iopub.execute_input": "2022-06-15T14:51:14.747642Z",
     "iopub.status.busy": "2022-06-15T14:51:14.747642Z",
     "iopub.status.idle": "2022-06-15T14:51:14.758669Z",
     "shell.execute_reply": "2022-06-15T14:51:14.758669Z",
     "shell.execute_reply.started": "2022-06-15T14:51:14.747642Z"
    }
   },
   "source": [
    "# Run"
   ]
  },
  {
   "cell_type": "code",
   "execution_count": 22,
   "id": "5b55702f-6efe-4d30-96fa-56caee479c4e",
   "metadata": {
    "execution": {
     "iopub.execute_input": "2022-07-15T13:52:34.947321Z",
     "iopub.status.busy": "2022-07-15T13:52:34.947321Z",
     "iopub.status.idle": "2022-07-15T13:52:34.958093Z",
     "shell.execute_reply": "2022-07-15T13:52:34.957597Z",
     "shell.execute_reply.started": "2022-07-15T13:52:34.947321Z"
    },
    "tags": []
   },
   "outputs": [],
   "source": [
    "edges, tree = model.generate_formulation()\n",
    "edges_nopar = edges_no_param(model, edges) # filter out variables that are parameters\n",
    "outset_initial = {comp: var[0] for comp,var in edges[1].items()}"
   ]
  },
  {
   "cell_type": "code",
   "execution_count": 53,
   "id": "8aa0a9c9-52b0-47f1-a21b-35a04bf6f025",
   "metadata": {
    "execution": {
     "iopub.execute_input": "2022-07-15T13:27:04.117631Z",
     "iopub.status.busy": "2022-07-15T13:27:04.116633Z",
     "iopub.status.idle": "2022-07-15T13:27:04.130161Z",
     "shell.execute_reply": "2022-07-15T13:27:04.129646Z",
     "shell.execute_reply.started": "2022-07-15T13:27:04.117631Z"
    },
    "tags": []
   },
   "outputs": [],
   "source": [
    "#tree_nomod = ({key:'root' for key,val in tree[0].items()}, {},{}) # tree with no modules"
   ]
  },
  {
   "cell_type": "code",
   "execution_count": 54,
   "id": "1daa6a89-cbec-41f7-bdde-39b99450fbe3",
   "metadata": {
    "execution": {
     "iopub.execute_input": "2022-07-15T13:27:04.598879Z",
     "iopub.status.busy": "2022-07-15T13:27:04.598879Z",
     "iopub.status.idle": "2022-07-15T13:27:04.612510Z",
     "shell.execute_reply": "2022-07-15T13:27:04.612283Z",
     "shell.execute_reply.started": "2022-07-15T13:27:04.598879Z"
    },
    "tags": []
   },
   "outputs": [],
   "source": [
    "#DG = flat_graph_formulation(*edges)\n",
    "#merge_order = sort_scc(DG)\n",
    "#nedges, ntree = reorder_merge_solve(edges, tree, merge_order, 1, True)\n",
    "# to use this we also need to create residual components!"
   ]
  },
  {
   "cell_type": "code",
   "execution_count": 87,
   "id": "ae8c2c38-ec5a-4fb3-86b7-e8fa6a778005",
   "metadata": {
    "execution": {
     "iopub.execute_input": "2022-07-15T13:31:49.604234Z",
     "iopub.status.busy": "2022-07-15T13:31:49.604234Z",
     "iopub.status.idle": "2022-07-15T13:31:49.625293Z",
     "shell.execute_reply": "2022-07-15T13:31:49.624294Z",
     "shell.execute_reply.started": "2022-07-15T13:31:49.604234Z"
    },
    "tags": []
   },
   "outputs": [],
   "source": [
    "outset_initial = {comp: var[0] for comp,var in edges[1].items()}\n",
    "edges_feedback, tree_feedback = reformulate(edges, tree, outset_initial, root_solver_name=1, mdf=False)\n",
    "edges_feedback_noparam = edges_no_param(model, edges_feedback)"
   ]
  },
  {
   "cell_type": "code",
   "execution_count": 88,
   "id": "5deabc2b-4836-4b6a-8297-56b948ef9a83",
   "metadata": {
    "execution": {
     "iopub.execute_input": "2022-07-15T13:31:56.733088Z",
     "iopub.status.busy": "2022-07-15T13:31:56.732068Z",
     "iopub.status.idle": "2022-07-15T13:31:57.612824Z",
     "shell.execute_reply": "2022-07-15T13:31:57.612824Z",
     "shell.execute_reply.started": "2022-07-15T13:31:56.733088Z"
    },
    "tags": []
   },
   "outputs": [
    {
     "data": {
      "image/png": "[encoded data removed]",
      "text/plain": [
       "<Figure size 648x648 with 1 Axes>"
      ]
     },
     "metadata": {
      "needs_background": "light"
     },
     "output_type": "display_data"
    }
   ],
   "source": [
    "nodetyperepr_hsm = {VAR: '{}', COMP: 'f_{{{}}}', SOLVER: '{}'}\n",
    "namingfunc_hsm = namefromid(nodetyperepr_hsm)\n",
    "render_incidence(edges_feedback_noparam, tree_feedback, namingfunc_hsm, figsize=(9,9));"
   ]
  },
  {
   "cell_type": "code",
   "execution_count": 89,
   "id": "f3f2beac-cf18-47f0-91ba-8cef7bfb461a",
   "metadata": {
    "execution": {
     "iopub.execute_input": "2022-07-15T13:32:00.454645Z",
     "iopub.status.busy": "2022-07-15T13:32:00.453665Z",
     "iopub.status.idle": "2022-07-15T13:32:00.462862Z",
     "shell.execute_reply": "2022-07-15T13:32:00.462354Z",
     "shell.execute_reply.started": "2022-07-15T13:32:00.454645Z"
    },
    "tags": []
   },
   "outputs": [],
   "source": [
    "#components = [Component.fromsympy(right, tovar=left, component=key) for key,(left,right) in eqs.items()]\n",
    "#components += [Component.fromsympy(left-right, component=key, tovar=left if not left.forceunit else None, ignoretovar=True) for key,(left,right) in eqs.items()]"
   ]
  },
  {
   "cell_type": "code",
   "execution_count": 103,
   "id": "c684af64-0fda-49eb-9292-433e66b29e66",
   "metadata": {
    "execution": {
     "iopub.execute_input": "2022-07-15T13:34:40.068000Z",
     "iopub.status.busy": "2022-07-15T13:34:40.067071Z",
     "iopub.status.idle": "2022-07-15T13:34:40.072990Z",
     "shell.execute_reply": "2022-07-15T13:34:40.072290Z",
     "shell.execute_reply.started": "2022-07-15T13:34:40.068000Z"
    },
    "tags": []
   },
   "outputs": [],
   "source": [
    "# for now we are not using the generated ordering\n",
    "ordered_tree = tree_feedback \n",
    "ordered_edges = edges_feedback\n",
    "comp_options = model.comp_options\n",
    "comp_options = comp_options\n",
    "var_options = model.var_options| {'m_s': [0,10], 'm_t':[0,10]}\n",
    "solvers_options = model.solvers_options\n",
    "#solvers_options[1] = {'solver': 'GS', 'maxiter':20} #without derivatives\n",
    "solvers_options[1] = {'type': OPT, 'disp':True, 'optimizer': 'SLSQP'}\n",
    "sequence = order_from_tree(ordered_tree[0], ordered_tree[1], ordered_edges[1])\n",
    "solvers_options = default_solver_options(ordered_tree, solvers_options)\n",
    "wf = mdao_workflow(sequence, solvers_options, comp_options, var_options)"
   ]
  },
  {
   "cell_type": "code",
   "execution_count": 104,
   "id": "8bed2136-0280-4fae-890c-e180919fc4db",
   "metadata": {
    "execution": {
     "iopub.execute_input": "2022-07-15T13:34:40.862708Z",
     "iopub.status.busy": "2022-07-15T13:34:40.861706Z",
     "iopub.status.idle": "2022-07-15T13:34:40.887331Z",
     "shell.execute_reply": "2022-07-15T13:34:40.886393Z",
     "shell.execute_reply.started": "2022-07-15T13:34:40.862708Z"
    }
   },
   "outputs": [],
   "source": [
    "newcomps = transform_components(edges, edges_feedback, components, model.idmapping)"
   ]
  },
  {
   "cell_type": "code",
   "execution_count": 107,
   "id": "d13b50ba-4e48-4f8f-9394-e66f84d1e85d",
   "metadata": {
    "execution": {
     "iopub.execute_input": "2022-07-15T13:35:00.170717Z",
     "iopub.status.busy": "2022-07-15T13:35:00.170717Z",
     "iopub.status.idle": "2022-07-15T13:35:00.186716Z",
     "shell.execute_reply": "2022-07-15T13:35:00.185714Z",
     "shell.execute_reply.started": "2022-07-15T13:35:00.170717Z"
    },
    "tags": []
   },
   "outputs": [],
   "source": [
    "components = model.components+newcomps\n",
    "lookup_f = get_f(components, ordered_edges)\n",
    "wfmdao = mdao_workflow_with_args(wf, lookup_f, namingfunc)"
   ]
  },
  {
   "cell_type": "code",
   "execution_count": 108,
   "id": "2f4ea384-350a-4b76-a95a-2649dabb7f46",
   "metadata": {
    "execution": {
     "iopub.execute_input": "2022-07-15T13:35:01.335812Z",
     "iopub.status.busy": "2022-07-15T13:35:01.335660Z",
     "iopub.status.idle": "2022-07-15T13:35:01.363550Z",
     "shell.execute_reply": "2022-07-15T13:35:01.362561Z",
     "shell.execute_reply.started": "2022-07-15T13:35:01.335812Z"
    },
    "tags": []
   },
   "outputs": [],
   "source": [
    "prob, mdao_in0, groups = build_archi(ordered_edges, ordered_tree, wfmdao, namingfunc, model.idmapping)"
   ]
  },
  {
   "cell_type": "code",
   "execution_count": 109,
   "id": "d3f6997e-0266-460a-a6cd-894016ff77ee",
   "metadata": {
    "execution": {
     "iopub.execute_input": "2022-07-15T13:35:02.393481Z",
     "iopub.status.busy": "2022-07-15T13:35:02.393481Z",
     "iopub.status.idle": "2022-07-15T13:35:02.400282Z",
     "shell.execute_reply": "2022-07-15T13:35:02.399659Z",
     "shell.execute_reply.started": "2022-07-15T13:35:02.393481Z"
    },
    "tags": []
   },
   "outputs": [],
   "source": [
    "#prob.set_solver_print(level=0)\n",
    "#prob.set_solver_print(level=1, depth=1)\n",
    "#prob.setup();"
   ]
  },
  {
   "cell_type": "code",
   "execution_count": 110,
   "id": "19161278-ef80-4bd9-938b-18640379df9f",
   "metadata": {
    "execution": {
     "iopub.execute_input": "2022-07-15T13:35:02.648409Z",
     "iopub.status.busy": "2022-07-15T13:35:02.647410Z",
     "iopub.status.idle": "2022-07-15T13:35:02.651409Z",
     "shell.execute_reply": "2022-07-15T13:35:02.650987Z",
     "shell.execute_reply.started": "2022-07-15T13:35:02.648409Z"
    },
    "tags": []
   },
   "outputs": [],
   "source": [
    "#prob.final_setup()"
   ]
  },
  {
   "cell_type": "code",
   "execution_count": 111,
   "id": "f1caa779-6cde-4fed-bb5d-7ade7f4934cc",
   "metadata": {
    "execution": {
     "iopub.execute_input": "2022-07-15T13:35:02.824415Z",
     "iopub.status.busy": "2022-07-15T13:35:02.824026Z",
     "iopub.status.idle": "2022-07-15T13:35:02.837960Z",
     "shell.execute_reply": "2022-07-15T13:35:02.837387Z",
     "shell.execute_reply.started": "2022-07-15T13:35:02.824415Z"
    },
    "tags": []
   },
   "outputs": [],
   "source": [
    "# prob.set_val('X_r', 0.5)\n",
    "# prob.set_val('m_pr', 6)\n",
    "# prob.set_val('A', 0.078)"
   ]
  },
  {
   "cell_type": "code",
   "execution_count": 112,
   "id": "025046fd-27f4-4695-986e-e94c2b4feae6",
   "metadata": {
    "execution": {
     "iopub.execute_input": "2022-07-15T13:35:03.000999Z",
     "iopub.status.busy": "2022-07-15T13:35:03.000999Z",
     "iopub.status.idle": "2022-07-15T13:35:03.009885Z",
     "shell.execute_reply": "2022-07-15T13:35:03.009777Z",
     "shell.execute_reply.started": "2022-07-15T13:35:03.000999Z"
    },
    "tags": []
   },
   "outputs": [],
   "source": [
    "#prob.set_val('m_s',prob.get_val('m_s'))\n",
    "#prob.set_val('m_s',0.1)\n",
    "#prob.set_val('m_t',0.1)"
   ]
  },
  {
   "cell_type": "code",
   "execution_count": 113,
   "id": "39e1af44-f4b6-4d58-a834-f8ba64d70afe",
   "metadata": {
    "execution": {
     "iopub.execute_input": "2022-07-15T13:35:04.593318Z",
     "iopub.status.busy": "2022-07-15T13:35:04.593318Z",
     "iopub.status.idle": "2022-07-15T13:35:07.991390Z",
     "shell.execute_reply": "2022-07-15T13:35:07.990571Z",
     "shell.execute_reply.started": "2022-07-15T13:35:04.593318Z"
    },
    "tags": []
   },
   "outputs": [
    {
     "name": "stdout",
     "output_type": "stream",
     "text": [
      "Optimization terminated successfully    (Exit mode 0)\n",
      "            Current function value: [5.80754331]\n",
      "            Iterations: 7\n",
      "            Function evaluations: 26\n",
      "            Gradient evaluations: 6\n",
      "Optimization Complete\n",
      "-----------------------------------\n"
     ]
    },
    {
     "data": {
      "text/plain": [
       "False"
      ]
     },
     "execution_count": 113,
     "metadata": {},
     "output_type": "execute_result"
    }
   ],
   "source": [
    "prob.run_driver()"
   ]
  },
  {
   "cell_type": "code",
   "execution_count": 86,
   "id": "24380c5b-7daa-4f15-9d35-ef1c589a8a11",
   "metadata": {
    "execution": {
     "iopub.execute_input": "2022-07-15T13:30:48.539039Z",
     "iopub.status.busy": "2022-07-15T13:30:48.538812Z",
     "iopub.status.idle": "2022-07-15T13:30:48.554783Z",
     "shell.execute_reply": "2022-07-15T13:30:48.554783Z",
     "shell.execute_reply.started": "2022-07-15T13:30:48.539039Z"
    },
    "tags": []
   },
   "outputs": [
    {
     "data": {
      "text/plain": [
       "16"
      ]
     },
     "execution_count": 86,
     "metadata": {},
     "output_type": "execute_result"
    }
   ],
   "source": [
    "groups['s2'].iter_count"
   ]
  },
  {
   "cell_type": "code",
   "execution_count": 32,
   "id": "0020e7f5-4770-4fd0-830d-99648528b928",
   "metadata": {
    "execution": {
     "iopub.execute_input": "2022-07-06T19:50:03.301435Z",
     "iopub.status.busy": "2022-07-06T19:50:03.301435Z",
     "iopub.status.idle": "2022-07-06T19:50:03.315626Z",
     "shell.execute_reply": "2022-07-06T19:50:03.315626Z",
     "shell.execute_reply.started": "2022-07-06T19:50:03.301435Z"
    },
    "tags": []
   },
   "outputs": [],
   "source": [
    "update_varval(model, prob, namingfunc, mdao_in0)"
   ]
  },
  {
   "cell_type": "code",
   "execution_count": 33,
   "id": "474b2a0c-3251-47f6-807e-9b2494d28efe",
   "metadata": {
    "execution": {
     "iopub.execute_input": "2022-07-06T19:50:03.317792Z",
     "iopub.status.busy": "2022-07-06T19:50:03.317048Z",
     "iopub.status.idle": "2022-07-06T19:50:03.332022Z",
     "shell.execute_reply": "2022-07-06T19:50:03.331113Z",
     "shell.execute_reply.started": "2022-07-06T19:50:03.317792Z"
    },
    "tags": []
   },
   "outputs": [],
   "source": [
    "update_varval(model, prob, namingfunc)"
   ]
  },
  {
   "cell_type": "code",
   "execution_count": 34,
   "id": "8943e748-1835-4783-8e14-5fb2ac9f295e",
   "metadata": {
    "execution": {
     "iopub.execute_input": "2022-07-06T19:50:03.333889Z",
     "iopub.status.busy": "2022-07-06T19:50:03.333889Z",
     "iopub.status.idle": "2022-07-06T19:50:03.347644Z",
     "shell.execute_reply": "2022-07-06T19:50:03.347139Z",
     "shell.execute_reply.started": "2022-07-06T19:50:03.333889Z"
    },
    "tags": []
   },
   "outputs": [],
   "source": [
    "#prob.run_model()"
   ]
  },
  {
   "cell_type": "markdown",
   "id": "b65eda87-55c0-43de-acd7-94b15b98f269",
   "metadata": {},
   "source": [
    "# Results"
   ]
  },
  {
   "cell_type": "code",
   "execution_count": 35,
   "id": "ed0e36f9-e5f2-4e46-9048-fec28181c0c3",
   "metadata": {
    "execution": {
     "iopub.execute_input": "2022-07-06T19:50:03.348829Z",
     "iopub.status.busy": "2022-07-06T19:50:03.347644Z",
     "iopub.status.idle": "2022-07-06T19:50:03.426199Z",
     "shell.execute_reply": "2022-07-06T19:50:03.425677Z",
     "shell.execute_reply.started": "2022-07-06T19:50:03.348829Z"
    },
    "tags": []
   },
   "outputs": [
    {
     "data": {
      "text/html": [
       "<style type=\"text/css\">\n",
       "</style>\n",
       "<table id=\"T_0d163\">\n",
       "  <thead>\n",
       "  </thead>\n",
       "  <tbody>\n",
       "    <tr>\n",
       "      <td id=\"T_0d163_row0_col0\" class=\"data row0 col0\" >$$h$$</td>\n",
       "      <td id=\"T_0d163_row0_col1\" class=\"data row0 col1\" >400</td>\n",
       "      <td id=\"T_0d163_row0_col2\" class=\"data row0 col2\" >km</td>\n",
       "    </tr>\n",
       "    <tr>\n",
       "      <td id=\"T_0d163_row1_col0\" class=\"data row1 col0\" >$$X_r$$</td>\n",
       "      <td id=\"T_0d163_row1_col1\" class=\"data row1 col1\" >5</td>\n",
       "      <td id=\"T_0d163_row1_col2\" class=\"data row1 col2\" >m</td>\n",
       "    </tr>\n",
       "    <tr>\n",
       "      <td id=\"T_0d163_row2_col0\" class=\"data row2 col0\" >$$A$$</td>\n",
       "      <td id=\"T_0d163_row2_col1\" class=\"data row2 col1\" >0.051</td>\n",
       "      <td id=\"T_0d163_row2_col2\" class=\"data row2 col2\" >m²</td>\n",
       "    </tr>\n",
       "    <tr>\n",
       "      <td id=\"T_0d163_row3_col0\" class=\"data row3 col0\" >$$m_{pr}$$</td>\n",
       "      <td id=\"T_0d163_row3_col1\" class=\"data row3 col1\" >3.836</td>\n",
       "      <td id=\"T_0d163_row3_col2\" class=\"data row3 col2\" >kg</td>\n",
       "    </tr>\n",
       "  </tbody>\n",
       "</table>\n"
      ],
      "text/plain": [
       "<pandas.io.formats.style.Styler at 0x1eef73c0f70>"
      ]
     },
     "execution_count": 35,
     "metadata": {},
     "output_type": "execute_result"
    }
   ],
   "source": [
    "print_inputs(model, prob, namingfunc, mdao_in0)"
   ]
  },
  {
   "cell_type": "code",
   "execution_count": 36,
   "id": "0ffc794a-bcc8-48e7-8b55-fe4c74fb5c17",
   "metadata": {
    "execution": {
     "iopub.execute_input": "2022-07-06T19:50:03.427205Z",
     "iopub.status.busy": "2022-07-06T19:50:03.427205Z",
     "iopub.status.idle": "2022-07-06T19:50:03.441883Z",
     "shell.execute_reply": "2022-07-06T19:50:03.441883Z",
     "shell.execute_reply.started": "2022-07-06T19:50:03.427205Z"
    },
    "tags": []
   },
   "outputs": [
    {
     "data": {
      "text/html": [
       "<style type=\"text/css\">\n",
       "</style>\n",
       "<table id=\"T_6b2e0\">\n",
       "  <thead>\n",
       "  </thead>\n",
       "  <tbody>\n",
       "    <tr>\n",
       "      <td id=\"T_6b2e0_row0_col0\" class=\"data row0 col0\" >$$a$$</td>\n",
       "      <td id=\"T_6b2e0_row0_col1\" class=\"data row0 col1\" >6778</td>\n",
       "      <td id=\"T_6b2e0_row0_col2\" class=\"data row0 col2\" >km</td>\n",
       "    </tr>\n",
       "    <tr>\n",
       "      <td id=\"T_6b2e0_row1_col0\" class=\"data row1 col0\" >$$T$$</td>\n",
       "      <td id=\"T_6b2e0_row1_col1\" class=\"data row1 col1\" >92.558</td>\n",
       "      <td id=\"T_6b2e0_row1_col2\" class=\"data row1 col2\" >min</td>\n",
       "    </tr>\n",
       "    <tr>\n",
       "      <td id=\"T_6b2e0_row2_col0\" class=\"data row2 col0\" >$$g$$</td>\n",
       "      <td id=\"T_6b2e0_row2_col1\" class=\"data row2 col1\" >0.11</td>\n",
       "      <td id=\"T_6b2e0_row2_col2\" class=\"data row2 col2\" ></td>\n",
       "    </tr>\n",
       "    <tr>\n",
       "      <td id=\"T_6b2e0_row3_col0\" class=\"data row3 col0\" >$$d$$</td>\n",
       "      <td id=\"T_6b2e0_row3_col1\" class=\"data row3 col1\" >0.61</td>\n",
       "      <td id=\"T_6b2e0_row3_col2\" class=\"data row3 col2\" ></td>\n",
       "    </tr>\n",
       "    <tr>\n",
       "      <td id=\"T_6b2e0_row4_col0\" class=\"data row4 col0\" >$$r$$</td>\n",
       "      <td id=\"T_6b2e0_row4_col1\" class=\"data row4 col1\" >2293.992</td>\n",
       "      <td id=\"T_6b2e0_row4_col2\" class=\"data row4 col2\" >km</td>\n",
       "    </tr>\n",
       "    <tr>\n",
       "      <td id=\"T_6b2e0_row5_col0\" class=\"data row5 col0\" >$$m_A$$</td>\n",
       "      <td id=\"T_6b2e0_row5_col1\" class=\"data row5 col1\" >0.509</td>\n",
       "      <td id=\"T_6b2e0_row5_col2\" class=\"data row5 col2\" >kg</td>\n",
       "    </tr>\n",
       "    <tr>\n",
       "      <td id=\"T_6b2e0_row6_col0\" class=\"data row6 col0\" >$$P_c$$</td>\n",
       "      <td id=\"T_6b2e0_row6_col1\" class=\"data row6 col1\" >12.725</td>\n",
       "      <td id=\"T_6b2e0_row6_col2\" class=\"data row6 col2\" >W</td>\n",
       "    </tr>\n",
       "    <tr>\n",
       "      <td id=\"T_6b2e0_row7_col0\" class=\"data row7 col0\" >$$P_T$$</td>\n",
       "      <td id=\"T_6b2e0_row7_col1\" class=\"data row7 col1\" >0.725</td>\n",
       "      <td id=\"T_6b2e0_row7_col2\" class=\"data row7 col2\" >W</td>\n",
       "    </tr>\n",
       "    <tr>\n",
       "      <td id=\"T_6b2e0_row8_col0\" class=\"data row8 col0\" >$$E_b$$</td>\n",
       "      <td id=\"T_6b2e0_row8_col1\" class=\"data row8 col1\" >115.866</td>\n",
       "      <td id=\"T_6b2e0_row8_col2\" class=\"data row8 col2\" >kJ</td>\n",
       "    </tr>\n",
       "    <tr>\n",
       "      <td id=\"T_6b2e0_row9_col0\" class=\"data row9 col0\" >$$m_b$$</td>\n",
       "      <td id=\"T_6b2e0_row9_col1\" class=\"data row9 col1\" >0.232</td>\n",
       "      <td id=\"T_6b2e0_row9_col2\" class=\"data row9 col2\" >kg</td>\n",
       "    </tr>\n",
       "    <tr>\n",
       "      <td id=\"T_6b2e0_row10_col0\" class=\"data row10 col0\" >$$D_p$$</td>\n",
       "      <td id=\"T_6b2e0_row10_col1\" class=\"data row10 col1\" >0.049</td>\n",
       "      <td id=\"T_6b2e0_row10_col2\" class=\"data row10 col2\" >m</td>\n",
       "    </tr>\n",
       "    <tr>\n",
       "      <td id=\"T_6b2e0_row11_col0\" class=\"data row11 col0\" >$$D$$</td>\n",
       "      <td id=\"T_6b2e0_row11_col1\" class=\"data row11 col1\" >16.03</td>\n",
       "      <td id=\"T_6b2e0_row11_col2\" class=\"data row11 col2\" >GB</td>\n",
       "    </tr>\n",
       "    <tr>\n",
       "      <td id=\"T_6b2e0_row12_col0\" class=\"data row12 col0\" >$$m_p$$</td>\n",
       "      <td id=\"T_6b2e0_row12_col1\" class=\"data row12 col1\" >0.022</td>\n",
       "      <td id=\"T_6b2e0_row12_col2\" class=\"data row12 col2\" >kg</td>\n",
       "    </tr>\n",
       "    <tr>\n",
       "      <td id=\"T_6b2e0_row13_col0\" class=\"data row13 col0\" >$$b$$</td>\n",
       "      <td id=\"T_6b2e0_row13_col1\" class=\"data row13 col1\" >2.886</td>\n",
       "      <td id=\"T_6b2e0_row13_col2\" class=\"data row13 col2\" >MB/s</td>\n",
       "    </tr>\n",
       "    <tr>\n",
       "      <td id=\"T_6b2e0_row14_col0\" class=\"data row14 col0\" >$$\\lambda_c$$</td>\n",
       "      <td id=\"T_6b2e0_row14_col1\" class=\"data row14 col1\" >13.591</td>\n",
       "      <td id=\"T_6b2e0_row14_col2\" class=\"data row14 col2\" >cm</td>\n",
       "    </tr>\n",
       "    <tr>\n",
       "      <td id=\"T_6b2e0_row15_col0\" class=\"data row15 col0\" >$$D_T$$</td>\n",
       "      <td id=\"T_6b2e0_row15_col1\" class=\"data row15 col1\" >0.39</td>\n",
       "      <td id=\"T_6b2e0_row15_col2\" class=\"data row15 col2\" >m</td>\n",
       "    </tr>\n",
       "    <tr>\n",
       "      <td id=\"T_6b2e0_row16_col0\" class=\"data row16 col0\" >$$m_T$$</td>\n",
       "      <td id=\"T_6b2e0_row16_col1\" class=\"data row16 col1\" >0.049</td>\n",
       "      <td id=\"T_6b2e0_row16_col2\" class=\"data row16 col2\" >kg</td>\n",
       "    </tr>\n",
       "    <tr>\n",
       "      <td id=\"T_6b2e0_row17_col0\" class=\"data row17 col0\" >$$G_r$$</td>\n",
       "      <td id=\"T_6b2e0_row17_col1\" class=\"data row17 col1\" >8255.002</td>\n",
       "      <td id=\"T_6b2e0_row17_col2\" class=\"data row17 col2\" ></td>\n",
       "    </tr>\n",
       "    <tr>\n",
       "      <td id=\"T_6b2e0_row18_col0\" class=\"data row18 col0\" >$$EN$$</td>\n",
       "      <td id=\"T_6b2e0_row18_col1\" class=\"data row18 col1\" >14.125</td>\n",
       "      <td id=\"T_6b2e0_row18_col2\" class=\"data row18 col2\" ></td>\n",
       "    </tr>\n",
       "    <tr>\n",
       "      <td id=\"T_6b2e0_row19_col0\" class=\"data row19 col0\" >$$m_s$$</td>\n",
       "      <td id=\"T_6b2e0_row19_col1\" class=\"data row19 col1\" >1.157</td>\n",
       "      <td id=\"T_6b2e0_row19_col2\" class=\"data row19 col2\" >kg</td>\n",
       "    </tr>\n",
       "    <tr>\n",
       "      <td id=\"T_6b2e0_row20_col0\" class=\"data row20 col0\" >$$m_t$$</td>\n",
       "      <td id=\"T_6b2e0_row20_col1\" class=\"data row20 col1\" >5.803</td>\n",
       "      <td id=\"T_6b2e0_row20_col2\" class=\"data row20 col2\" >kg</td>\n",
       "    </tr>\n",
       "    <tr>\n",
       "      <td id=\"T_6b2e0_row21_col0\" class=\"data row21 col0\" >$$H_{val}$$</td>\n",
       "      <td id=\"T_6b2e0_row21_col1\" class=\"data row21 col1\" >5.820×10⁴</td>\n",
       "      <td id=\"T_6b2e0_row21_col2\" class=\"data row21 col2\" >m</td>\n",
       "    </tr>\n",
       "    <tr>\n",
       "      <td id=\"T_6b2e0_row22_col0\" class=\"data row22 col0\" >$$\\rho_{val}$$</td>\n",
       "      <td id=\"T_6b2e0_row22_col1\" class=\"data row22 col1\" >2.720×10⁻¹²</td>\n",
       "      <td id=\"T_6b2e0_row22_col2\" class=\"data row22 col2\" >kg/m³</td>\n",
       "    </tr>\n",
       "    <tr>\n",
       "      <td id=\"T_6b2e0_row23_col0\" class=\"data row23 col0\" >$$L_n$$</td>\n",
       "      <td id=\"T_6b2e0_row23_col1\" class=\"data row23 col1\" >0.676</td>\n",
       "      <td id=\"T_6b2e0_row23_col2\" class=\"data row23 col2\" >yr</td>\n",
       "    </tr>\n",
       "    <tr>\n",
       "      <td id=\"T_6b2e0_row24_col0\" class=\"data row24 col0\" >$$L_p$$</td>\n",
       "      <td id=\"T_6b2e0_row24_col1\" class=\"data row24 col1\" >9.324</td>\n",
       "      <td id=\"T_6b2e0_row24_col2\" class=\"data row24 col2\" >yr</td>\n",
       "    </tr>\n",
       "    <tr>\n",
       "      <td id=\"T_6b2e0_row25_col0\" class=\"data row25 col0\" >$$L_t$$</td>\n",
       "      <td id=\"T_6b2e0_row25_col1\" class=\"data row25 col1\" >10</td>\n",
       "      <td id=\"T_6b2e0_row25_col2\" class=\"data row25 col2\" >yr</td>\n",
       "    </tr>\n",
       "  </tbody>\n",
       "</table>\n"
      ],
      "text/plain": [
       "<pandas.io.formats.style.Styler at 0x1eefae76970>"
      ]
     },
     "execution_count": 36,
     "metadata": {},
     "output_type": "execute_result"
    }
   ],
   "source": [
    "print_outputs(model, prob, namingfunc, rounding=3)"
   ]
  },
  {
   "cell_type": "markdown",
   "id": "ef02d4b8-d2eb-4e84-9491-f1b0e39aae18",
   "metadata": {},
   "source": [
    "## Visualize structure"
   ]
  },
  {
   "cell_type": "code",
   "execution_count": 38,
   "id": "9fdad441-9f64-4d04-9a7a-b5b309ac92d6",
   "metadata": {
    "execution": {
     "iopub.execute_input": "2022-07-06T19:50:03.458577Z",
     "iopub.status.busy": "2022-07-06T19:50:03.458577Z",
     "iopub.status.idle": "2022-07-06T19:50:03.473069Z",
     "shell.execute_reply": "2022-07-06T19:50:03.472651Z",
     "shell.execute_reply.started": "2022-07-06T19:50:03.458577Z"
    },
    "tags": []
   },
   "outputs": [],
   "source": [
    "from datastructures.graphutils import SOLVER, namefromid, copy_dicts\n",
    "nodetyperepr_hsm = {VAR: '{}', COMP: 'f_{{{}}}', SOLVER: '{}'}\n",
    "namingfunc_hsm = namefromid(nodetyperepr_hsm)"
   ]
  },
  {
   "cell_type": "code",
   "execution_count": 39,
   "id": "c5f2865b-8f54-4fcd-92e9-2c025d986660",
   "metadata": {
    "execution": {
     "iopub.execute_input": "2022-07-06T19:50:03.475100Z",
     "iopub.status.busy": "2022-07-06T19:50:03.475100Z",
     "iopub.status.idle": "2022-07-06T19:50:03.488125Z",
     "shell.execute_reply": "2022-07-06T19:50:03.488125Z",
     "shell.execute_reply.started": "2022-07-06T19:50:03.475100Z"
    },
    "tags": []
   },
   "outputs": [],
   "source": [
    "tree2 = copy_dicts(tree)\n",
    "#tree2[1].update({6: 9, 7: 9, 9:1})"
   ]
  },
  {
   "cell_type": "code",
   "execution_count": 40,
   "id": "d8758f97-81be-4065-a13f-ea5dba142dea",
   "metadata": {
    "execution": {
     "iopub.execute_input": "2022-07-06T19:50:03.490493Z",
     "iopub.status.busy": "2022-07-06T19:50:03.490493Z",
     "iopub.status.idle": "2022-07-06T19:50:05.265230Z",
     "shell.execute_reply": "2022-07-06T19:50:05.264323Z",
     "shell.execute_reply.started": "2022-07-06T19:50:03.490493Z"
    },
    "tags": []
   },
   "outputs": [
    {
     "data": {
      "image/png": "[encoded data removed]",
      "text/plain": [
       "<Figure size 648x648 with 1 Axes>"
      ]
     },
     "metadata": {
      "needs_background": "light"
     },
     "output_type": "display_data"
    }
   ],
   "source": [
    "_, ax = render_incidence(edges_nopar, tree2, namingfunc_hsm, figsize=(9,9))"
   ]
  },
  {
   "cell_type": "code",
   "execution_count": 36,
   "id": "293e595d-e349-41bf-a987-751ef95805fc",
   "metadata": {
    "execution": {
     "iopub.execute_input": "2022-07-06T02:40:25.215138Z",
     "iopub.status.busy": "2022-07-06T02:40:25.214062Z",
     "iopub.status.idle": "2022-07-06T02:40:25.227595Z",
     "shell.execute_reply": "2022-07-06T02:40:25.226962Z",
     "shell.execute_reply.started": "2022-07-06T02:40:25.214062Z"
    },
    "tags": []
   },
   "outputs": [],
   "source": [
    "#plt.sca(ax)\n",
    "#plt.savefig('satellite_default_hsm.png', dpi=200, bbox_inches='tight')"
   ]
  },
  {
   "cell_type": "markdown",
   "id": "bc3cffd1-f948-45ec-9b60-e1ac57512d99",
   "metadata": {
    "tags": []
   },
   "source": [
    "### Tree & Graph"
   ]
  },
  {
   "cell_type": "code",
   "execution_count": 92,
   "id": "f3624b2d-6f7a-458e-bcfa-b7cd77bf5b26",
   "metadata": {
    "execution": {
     "iopub.execute_input": "2022-07-01T23:17:46.189867Z",
     "iopub.status.busy": "2022-07-01T23:17:46.189867Z",
     "iopub.status.idle": "2022-07-01T23:17:46.207789Z",
     "shell.execute_reply": "2022-07-01T23:17:46.207287Z",
     "shell.execute_reply.started": "2022-07-01T23:17:46.189867Z"
    },
    "tags": []
   },
   "outputs": [],
   "source": [
    "from datastructures.nestedgraph import build_typedgraph\n",
    "from datastructures.graphutils import draw_graph_graphical_props, all_solvers"
   ]
  },
  {
   "cell_type": "code",
   "execution_count": 90,
   "id": "e621bda9-b9ce-4902-92e1-59c2755214a6",
   "metadata": {
    "execution": {
     "iopub.execute_input": "2022-07-01T23:17:10.180524Z",
     "iopub.status.busy": "2022-07-01T23:17:10.179435Z",
     "iopub.status.idle": "2022-07-01T23:17:10.187337Z",
     "shell.execute_reply": "2022-07-01T23:17:10.186522Z",
     "shell.execute_reply.started": "2022-07-01T23:17:10.180524Z"
    }
   },
   "outputs": [],
   "source": [
    "from collections import defaultdict"
   ]
  },
  {
   "cell_type": "code",
   "execution_count": 108,
   "id": "7323caaa-d33e-43a0-9368-ffa0a1825d23",
   "metadata": {
    "execution": {
     "iopub.execute_input": "2022-07-01T23:22:06.480605Z",
     "iopub.status.busy": "2022-07-01T23:22:06.480605Z",
     "iopub.status.idle": "2022-07-01T23:22:06.492607Z",
     "shell.execute_reply": "2022-07-01T23:22:06.491695Z",
     "shell.execute_reply.started": "2022-07-01T23:22:06.480605Z"
    },
    "tags": []
   },
   "outputs": [],
   "source": [
    "graphs = build_typedgraph(edges, tree, nodetyperepr2)"
   ]
  },
  {
   "cell_type": "code",
   "execution_count": 156,
   "id": "fa8bbb98-1dc3-400b-b92f-da59c89a76ce",
   "metadata": {
    "execution": {
     "iopub.execute_input": "2022-07-01T23:35:41.663476Z",
     "iopub.status.busy": "2022-07-01T23:35:41.663476Z",
     "iopub.status.idle": "2022-07-01T23:35:41.682144Z",
     "shell.execute_reply": "2022-07-01T23:35:41.681225Z",
     "shell.execute_reply.started": "2022-07-01T23:35:41.663476Z"
    },
    "tags": []
   },
   "outputs": [],
   "source": [
    "Ein = defaultdict(list)\n",
    "Eout = defaultdict(list)\n",
    "Eout2 = dict()\n",
    "solvers = all_solvers(tree2)\n",
    "for key,var in graphs[1].edges():\n",
    "    if key.name in solvers:\n",
    "        Eout[key.name].append(var.name)\n",
    "    else:\n",
    "        Ein[var.name].append(key.name)\n",
    "Eout2 = dict({idx:(idx,) for idx in range(2,9)})\n",
    "for comp,varnames in Ein.items():\n",
    "    Ein2[comp] = tuple(set(outcomp for var in varnames for outcomp,outvar in Eout.items() if var in outvar))\n",
    "nodetyperepr3 = {VAR: 'x_{{{}}}', COMP: 'f_{{{}}}', SOLVER: '{}'}\n",
    "namingfunc3 = namefromid(nodetyperepr3)"
   ]
  },
  {
   "cell_type": "code",
   "execution_count": 161,
   "id": "f642cb53-db80-446a-b635-a6d63981b62e",
   "metadata": {
    "execution": {
     "iopub.execute_input": "2022-07-01T23:37:06.614655Z",
     "iopub.status.busy": "2022-07-01T23:37:06.614655Z",
     "iopub.status.idle": "2022-07-01T23:37:06.628657Z",
     "shell.execute_reply": "2022-07-01T23:37:06.628657Z",
     "shell.execute_reply.started": "2022-07-01T23:37:06.614655Z"
    }
   },
   "outputs": [],
   "source": [
    "tree3 = OrderedDict([(elt,1) for elt in range(2,9)])\n",
    "tree3[6] = 9\n",
    "tree3[7] = 9"
   ]
  },
  {
   "cell_type": "code",
   "execution_count": 163,
   "id": "2d6a0066-64db-48a9-8a26-f92b7f8413ea",
   "metadata": {
    "execution": {
     "iopub.execute_input": "2022-07-01T23:37:17.071996Z",
     "iopub.status.busy": "2022-07-01T23:37:17.071996Z",
     "iopub.status.idle": "2022-07-01T23:37:17.224939Z",
     "shell.execute_reply": "2022-07-01T23:37:17.224435Z",
     "shell.execute_reply.started": "2022-07-01T23:37:17.071996Z"
    },
    "tags": []
   },
   "outputs": [
    {
     "data": {
      "image/png": "[encoded data removed]",
      "text/plain": [
       "<Figure size 432x288 with 1 Axes>"
      ]
     },
     "metadata": {
      "needs_background": "light"
     },
     "output_type": "display_data"
    }
   ],
   "source": [
    "_, ax = render_incidence((Ein2, Eout2, dict()), (tree3,{9:1},dict()), namingfunc3)"
   ]
  },
  {
   "cell_type": "code",
   "execution_count": 104,
   "id": "dd35d8b9-5ba5-4cad-ab5c-a6300d9e2166",
   "metadata": {
    "execution": {
     "iopub.execute_input": "2022-07-01T23:19:45.927695Z",
     "iopub.status.busy": "2022-07-01T23:19:45.927695Z",
     "iopub.status.idle": "2022-07-01T23:19:45.931693Z",
     "shell.execute_reply": "2022-07-01T23:19:45.931693Z",
     "shell.execute_reply.started": "2022-07-01T23:19:45.927695Z"
    },
    "tags": []
   },
   "outputs": [
    {
     "data": {
      "text/plain": [
       "defaultdict(list,\n",
       "            {9: [m_A, m_b, m_T, m_p],\n",
       "             8: [m_t, a, A, h, \\mu, T],\n",
       "             3: [A, T, d],\n",
       "             4: [h, R],\n",
       "             2: [h, \\mu, R],\n",
       "             5: [T, r, D, P_T]})"
      ]
     },
     "execution_count": 104,
     "metadata": {},
     "output_type": "execute_result"
    }
   ],
   "source": [
    "Ein"
   ]
  },
  {
   "cell_type": "code",
   "execution_count": 89,
   "id": "db7542cc-f8da-484d-9b44-2b05c3719a69",
   "metadata": {
    "execution": {
     "iopub.execute_input": "2022-07-01T23:15:00.080664Z",
     "iopub.status.busy": "2022-07-01T23:15:00.079997Z",
     "iopub.status.idle": "2022-07-01T23:15:00.094541Z",
     "shell.execute_reply": "2022-07-01T23:15:00.093632Z",
     "shell.execute_reply.started": "2022-07-01T23:15:00.080664Z"
    },
    "tags": []
   },
   "outputs": [
    {
     "data": {
      "text/plain": [
       "OutEdgeView([(m_A, 9), (9, m_t), (m_b, 9), (m_T, 9), (m_p, 9), (m_t, 8), (a, 8), (A, 8), (A, 3), (h, 8), (h, 4), (h, 2), (\\mu, 8), (\\mu, 2), (T, 8), (T, 5), (T, 3), (r, 5), (5, m_T), (D, 5), (P_T, 5), (R, 4), (R, 2), (4, D), (4, m_p), (3, m_A), (3, m_b), (3, P_T), (d, 3), (2, r), (2, T), (2, a), (2, d)])"
      ]
     },
     "execution_count": 89,
     "metadata": {},
     "output_type": "execute_result"
    }
   ],
   "source": [
    "graphs[1].edges()"
   ]
  },
  {
   "cell_type": "code",
   "execution_count": 168,
   "id": "875b520c-7612-47dd-9091-fc296b0324ed",
   "metadata": {
    "execution": {
     "iopub.execute_input": "2022-07-01T23:38:34.269367Z",
     "iopub.status.busy": "2022-07-01T23:38:34.269367Z",
     "iopub.status.idle": "2022-07-01T23:38:34.883837Z",
     "shell.execute_reply": "2022-07-01T23:38:34.882835Z",
     "shell.execute_reply.started": "2022-07-01T23:38:34.269367Z"
    },
    "tags": []
   },
   "outputs": [
    {
     "data": {
      "image/png": "[encoded data removed]",
      "text/plain": [
       "<Figure size 720x720 with 1 Axes>"
      ]
     },
     "metadata": {},
     "output_type": "display_data"
    }
   ],
   "source": [
    "draw_graph_graphical_props(graphs[1], {}, prog='dot', figsize=(10,10))"
   ]
  },
  {
   "cell_type": "code",
   "execution_count": 19,
   "id": "6d5c113e-b5e4-43cc-be51-579a11d0bd27",
   "metadata": {
    "execution": {
     "iopub.execute_input": "2022-01-31T21:03:17.810666Z",
     "iopub.status.busy": "2022-01-31T21:03:17.810666Z",
     "iopub.status.idle": "2022-01-31T21:03:21.919668Z",
     "shell.execute_reply": "2022-01-31T21:03:21.917665Z",
     "shell.execute_reply.started": "2022-01-31T21:03:17.810666Z"
    },
    "tags": []
   },
   "outputs": [
    {
     "data": {
      "image/png": "[encoded data removed]",
      "text/plain": [
       "<Figure size 720x720 with 1 Axes>"
      ]
     },
     "metadata": {},
     "output_type": "display_data"
    }
   ],
   "source": [
    "drawfull(graphs[m], model.eqs, figsize=(10,10))"
   ]
  },
  {
   "cell_type": "markdown",
   "id": "2ce5d0b1-7cb7-4d9c-b853-4be9136544f6",
   "metadata": {},
   "source": [
    "# Min tear assign"
   ]
  },
  {
   "cell_type": "code",
   "execution_count": 20,
   "id": "daf3718e-c5a8-4cff-9bea-20b004b1b820",
   "metadata": {
    "execution": {
     "iopub.execute_input": "2022-07-15T13:52:24.743358Z",
     "iopub.status.busy": "2022-07-15T13:52:24.742350Z",
     "iopub.status.idle": "2022-07-15T13:52:24.751345Z",
     "shell.execute_reply": "2022-07-15T13:52:24.751345Z",
     "shell.execute_reply.started": "2022-07-15T13:52:24.743358Z"
    },
    "tags": []
   },
   "outputs": [],
   "source": [
    "not_input = ['H_{val}', r'\\rho_{val}', 'm_p']#['m_p']#'d', r'\\rho_{val}', 'L_p', 'H_{val}']\n",
    "not_output = ['L_t','X_r','EN','h', 'm_s']#['h']#[r'm_{rz}', 'm_{r0}']"
   ]
  },
  {
   "cell_type": "code",
   "execution_count": 23,
   "id": "cf430122-f973-4cb3-bd59-6c6c3d0adfd7",
   "metadata": {
    "execution": {
     "iopub.execute_input": "2022-07-15T13:52:40.205218Z",
     "iopub.status.busy": "2022-07-15T13:52:40.204300Z",
     "iopub.status.idle": "2022-07-15T13:52:40.223625Z",
     "shell.execute_reply": "2022-07-15T13:52:40.223625Z",
     "shell.execute_reply.started": "2022-07-15T13:52:40.205218Z"
    },
    "tags": []
   },
   "outputs": [],
   "source": [
    "edges_for_solving = copy_dicts(edges_nopar)\n",
    "eqns = list(edges_for_solving[1].keys())\n",
    "allvrs = all_variables(*edges_for_solving)\n",
    "graph_edges_minassign = all_edges(*edges_for_solving)\n",
    "edges_left_right = list(dir_graph(graph_edges_minassign, eqns, {}))"
   ]
  },
  {
   "cell_type": "code",
   "execution_count": 24,
   "id": "9f1250c8-5c32-4fe7-b1a2-e2a3bbd6bf65",
   "metadata": {
    "execution": {
     "iopub.execute_input": "2022-07-15T13:52:40.727937Z",
     "iopub.status.busy": "2022-07-15T13:52:40.726912Z",
     "iopub.status.idle": "2022-07-15T13:52:40.740829Z",
     "shell.execute_reply": "2022-07-15T13:52:40.739873Z",
     "shell.execute_reply.started": "2022-07-15T13:52:40.727937Z"
    },
    "tags": []
   },
   "outputs": [],
   "source": [
    "min_assign_edges = edges_left_right "
   ]
  },
  {
   "cell_type": "code",
   "execution_count": 38,
   "id": "6e52e4c1-155c-4b8c-87ad-bedac64e0491",
   "metadata": {
    "execution": {
     "iopub.execute_input": "2022-07-15T13:55:37.440283Z",
     "iopub.status.busy": "2022-07-15T13:55:37.439253Z",
     "iopub.status.idle": "2022-07-15T13:55:37.453416Z",
     "shell.execute_reply": "2022-07-15T13:55:37.453314Z",
     "shell.execute_reply.started": "2022-07-15T13:55:37.440283Z"
    },
    "tags": []
   },
   "outputs": [],
   "source": [
    "#xsol,m = min_arc_set_assign(min_assign_edges, allvrs, eqns, not_input, not_output)\n",
    "xsol, m = min_max_scc2(min_assign_edges, allvrs, eqns)"
   ]
  },
  {
   "cell_type": "code",
   "execution_count": 39,
   "id": "d6cc37f5-2346-4066-adf1-2239d7c19280",
   "metadata": {
    "execution": {
     "iopub.execute_input": "2022-07-15T13:55:42.060628Z",
     "iopub.status.busy": "2022-07-15T13:55:42.059630Z",
     "iopub.status.idle": "2022-07-15T13:55:42.072623Z",
     "shell.execute_reply": "2022-07-15T13:55:42.072623Z",
     "shell.execute_reply.started": "2022-07-15T13:55:42.060628Z"
    },
    "tags": []
   },
   "outputs": [],
   "source": [
    "selected = dict((right, left) for left, right in edges_left_right if (left,right) in min_assign_edges and xsol[left, right] > 0.5)"
   ]
  },
  {
   "cell_type": "code",
   "execution_count": 42,
   "id": "ef069d9d-7c6f-41a8-bd30-3ec0d241cbe6",
   "metadata": {
    "execution": {
     "iopub.execute_input": "2022-07-15T13:55:59.201099Z",
     "iopub.status.busy": "2022-07-15T13:55:59.201099Z",
     "iopub.status.idle": "2022-07-15T13:55:59.219469Z",
     "shell.execute_reply": "2022-07-15T13:55:59.219469Z",
     "shell.execute_reply.started": "2022-07-15T13:55:59.201099Z"
    },
    "tags": []
   },
   "outputs": [],
   "source": [
    "edges_minassign, tree_minassign = reformulate(edges, tree, outset_initial, selected, root_solver_name=1, mdf=True)\n",
    "edges_minassign_noparam = edges_no_param(model, edges_minassign)"
   ]
  },
  {
   "cell_type": "code",
   "execution_count": 43,
   "id": "0d00827a-05d7-4d8f-9f43-a4a4f80cc63b",
   "metadata": {
    "execution": {
     "iopub.execute_input": "2022-07-15T13:56:02.540796Z",
     "iopub.status.busy": "2022-07-15T13:56:02.540796Z",
     "iopub.status.idle": "2022-07-15T13:56:02.544216Z",
     "shell.execute_reply": "2022-07-15T13:56:02.543797Z",
     "shell.execute_reply.started": "2022-07-15T13:56:02.540796Z"
    },
    "tags": []
   },
   "outputs": [],
   "source": [
    "#tree_minassign = tree_minassign[0], tree_minassign[1], {'m_s': 1}"
   ]
  },
  {
   "cell_type": "code",
   "execution_count": 44,
   "id": "c43d9df0-d3cf-44bb-ac05-c25d5da3c71a",
   "metadata": {
    "execution": {
     "iopub.execute_input": "2022-07-15T13:56:03.394173Z",
     "iopub.status.busy": "2022-07-15T13:56:03.393174Z",
     "iopub.status.idle": "2022-07-15T13:56:03.397168Z",
     "shell.execute_reply": "2022-07-15T13:56:03.397168Z",
     "shell.execute_reply.started": "2022-07-15T13:56:03.394173Z"
    },
    "tags": []
   },
   "outputs": [],
   "source": [
    "# For topological sorting\n",
    "#D = nx.DiGraph(dir_graph(edges_left_right, eqns, selected.items()))\n",
    "#minassign_order = sort_scc(D, lambda x: x in eqns)"
   ]
  },
  {
   "cell_type": "code",
   "execution_count": 45,
   "id": "a0a75367-4ba1-4e3d-b6d3-07640d3de376",
   "metadata": {
    "execution": {
     "iopub.execute_input": "2022-07-15T13:56:07.174070Z",
     "iopub.status.busy": "2022-07-15T13:56:07.174070Z",
     "iopub.status.idle": "2022-07-15T13:56:07.192064Z",
     "shell.execute_reply": "2022-07-15T13:56:07.191062Z",
     "shell.execute_reply.started": "2022-07-15T13:56:07.174070Z"
    }
   },
   "outputs": [
    {
     "data": {
      "text/plain": [
       "(OrderedDict([(4, 1),\n",
       "              (5, 1),\n",
       "              (12, 1),\n",
       "              (14, 1),\n",
       "              (19, 1),\n",
       "              (0, 1),\n",
       "              (10, 1),\n",
       "              (21, 1),\n",
       "              (22, 1),\n",
       "              (15, 1),\n",
       "              (17, 1),\n",
       "              (1, 1),\n",
       "              (2, 1),\n",
       "              (11, 1),\n",
       "              (16, 1),\n",
       "              (23, 1),\n",
       "              (3, 1),\n",
       "              (13, 1),\n",
       "              (6, 1),\n",
       "              (7, 1),\n",
       "              (8, 1),\n",
       "              (18, 1),\n",
       "              (9, 1),\n",
       "              (20, 1),\n",
       "              (24, 1),\n",
       "              (25, 1)]),\n",
       " {},\n",
       " {})"
      ]
     },
     "execution_count": 45,
     "metadata": {},
     "output_type": "execute_result"
    }
   ],
   "source": [
    "tree_minassign"
   ]
  },
  {
   "cell_type": "markdown",
   "id": "a77e097c-6240-4840-9741-091aca1f721d",
   "metadata": {
    "tags": []
   },
   "source": [
    "### For designtree_mina only"
   ]
  },
  {
   "cell_type": "code",
   "execution_count": 48,
   "id": "67dca1dc-e39e-459c-8d2a-a24b200798f5",
   "metadata": {
    "execution": {
     "iopub.execute_input": "2022-07-06T19:50:09.566596Z",
     "iopub.status.busy": "2022-07-06T19:50:09.566596Z",
     "iopub.status.idle": "2022-07-06T19:50:09.575457Z",
     "shell.execute_reply": "2022-07-06T19:50:09.575268Z",
     "shell.execute_reply.started": "2022-07-06T19:50:09.566596Z"
    },
    "tags": []
   },
   "outputs": [],
   "source": [
    "var_tree = {'m_s': 'root'}\n",
    "solver_tree = {}"
   ]
  },
  {
   "cell_type": "code",
   "execution_count": 49,
   "id": "9fee3a10-e38a-4310-908c-5ba73e224299",
   "metadata": {
    "execution": {
     "iopub.execute_input": "2022-07-06T19:50:10.231857Z",
     "iopub.status.busy": "2022-07-06T19:50:10.231857Z",
     "iopub.status.idle": "2022-07-06T19:50:10.242871Z",
     "shell.execute_reply": "2022-07-06T19:50:10.241906Z",
     "shell.execute_reply.started": "2022-07-06T19:50:10.231857Z"
    },
    "tags": []
   },
   "outputs": [],
   "source": [
    "Ftree_mina = OrderedDict([(next(iter(comp)),'root') for comp in minassign_order])\n",
    "tree_mina = Ftree_mina, solver_tree, var_tree"
   ]
  },
  {
   "cell_type": "code",
   "execution_count": 50,
   "id": "a7e5713e-b30b-43f1-95c5-0ac99679ade0",
   "metadata": {
    "execution": {
     "iopub.execute_input": "2022-07-06T19:50:10.938857Z",
     "iopub.status.busy": "2022-07-06T19:50:10.938703Z",
     "iopub.status.idle": "2022-07-06T19:50:10.958112Z",
     "shell.execute_reply": "2022-07-06T19:50:10.957806Z",
     "shell.execute_reply.started": "2022-07-06T19:50:10.938857Z"
    },
    "tags": []
   },
   "outputs": [],
   "source": [
    "Ein, Eout, Rin = edges\n",
    "Eout_minassign = {}\n",
    "Ein_minassign = {}\n",
    "for comp in Eout.keys():\n",
    "    if comp in selected:\n",
    "        varname = selected[comp]\n",
    "    else:\n",
    "        varname = None\n",
    "    Eout_minassign[comp] = (varname,)\n",
    "    Ein_minassign[comp] = tuple(varn for varn in chain(Ein[comp],Eout[comp]) if varn!=varname)\n",
    "edges_minassign = (Ein_minassign, Eout_minassign, Rin)\n",
    "edges_minassign_nopar = edges_no_param(model, edges_minassign)"
   ]
  },
  {
   "cell_type": "code",
   "execution_count": 35,
   "id": "95781318-4781-4783-8a44-2c349c944533",
   "metadata": {
    "execution": {
     "iopub.execute_input": "2022-07-15T13:53:46.407724Z",
     "iopub.status.busy": "2022-07-15T13:53:46.407724Z",
     "iopub.status.idle": "2022-07-15T13:53:47.511843Z",
     "shell.execute_reply": "2022-07-15T13:53:47.511843Z",
     "shell.execute_reply.started": "2022-07-15T13:53:46.407724Z"
    },
    "tags": []
   },
   "outputs": [
    {
     "data": {
      "image/png": "[encoded data removed]",
      "text/plain": [
       "<Figure size 648x648 with 1 Axes>"
      ]
     },
     "metadata": {
      "needs_background": "light"
     },
     "output_type": "display_data"
    }
   ],
   "source": [
    "nodetyperepr_hsm = {VAR: '{}', COMP: 'f_{{{}}}', SOLVER: '{}'}\n",
    "namingfunc_hsm = namefromid(nodetyperepr_hsm)\n",
    "render_incidence(edges_minassign_noparam, tree_minassign, namingfunc_hsm, figsize=(9,9));"
   ]
  },
  {
   "cell_type": "code",
   "execution_count": 52,
   "id": "32c04c11-dc35-4592-81d0-257bafac31f2",
   "metadata": {
    "execution": {
     "iopub.execute_input": "2022-07-06T19:50:12.729380Z",
     "iopub.status.busy": "2022-07-06T19:50:12.729380Z",
     "iopub.status.idle": "2022-07-06T19:50:12.743685Z",
     "shell.execute_reply": "2022-07-06T19:50:12.743583Z",
     "shell.execute_reply.started": "2022-07-06T19:50:12.729380Z"
    },
    "tags": []
   },
   "outputs": [],
   "source": [
    "# plt.sca(ax)\n",
    "# #'satellite_minassign_hsm.png' <- for analysis\n",
    "# plt.savefig('satellite_design_minassign_hsm.png', dpi=200, bbox_inches='tight')"
   ]
  },
  {
   "cell_type": "code",
   "execution_count": 53,
   "id": "3c4df2ec-40d3-44f2-9e3e-5b40c925cd5a",
   "metadata": {
    "execution": {
     "iopub.execute_input": "2022-07-06T19:50:12.745706Z",
     "iopub.status.busy": "2022-07-06T19:50:12.744724Z",
     "iopub.status.idle": "2022-07-06T19:50:12.759318Z",
     "shell.execute_reply": "2022-07-06T19:50:12.758817Z",
     "shell.execute_reply.started": "2022-07-06T19:50:12.745706Z"
    },
    "tags": []
   },
   "outputs": [],
   "source": [
    "components = model.components"
   ]
  },
  {
   "cell_type": "code",
   "execution_count": 54,
   "id": "84a53748-a3fd-4d5b-9010-5ce68acd2d10",
   "metadata": {
    "execution": {
     "iopub.execute_input": "2022-07-06T19:50:13.622965Z",
     "iopub.status.busy": "2022-07-06T19:50:13.622965Z",
     "iopub.status.idle": "2022-07-06T19:50:14.003265Z",
     "shell.execute_reply": "2022-07-06T19:50:14.002749Z",
     "shell.execute_reply.started": "2022-07-06T19:50:13.622965Z"
    },
    "tags": []
   },
   "outputs": [],
   "source": [
    "newcomps = transform_components(edges, edges_minassign, components, model.idmapping)"
   ]
  },
  {
   "cell_type": "code",
   "execution_count": 55,
   "id": "b84a0c82-6ba6-4ea6-a72f-e894a1017adf",
   "metadata": {
    "execution": {
     "iopub.execute_input": "2022-07-06T19:50:15.024679Z",
     "iopub.status.busy": "2022-07-06T19:50:15.024679Z",
     "iopub.status.idle": "2022-07-06T19:50:15.047004Z",
     "shell.execute_reply": "2022-07-06T19:50:15.046834Z",
     "shell.execute_reply.started": "2022-07-06T19:50:15.024679Z"
    },
    "tags": []
   },
   "outputs": [
    {
     "data": {
      "text/plain": [
       "[(('Q', 'd', '\\\\eta_A', 'P_c'), 6, ('A',), 'P_c/(Q*\\\\eta_A*d)'),\n",
       " (('P_T', 'P_l'), 7, ('P_c',), 'P_l + P_T'),\n",
       " (('L', 'G_T', 'b', 'G_r', '\\\\lambda_c', 'k', 'T_s', 'r', 'EN'), 18, ('P_T',), '157.91367041743*L*T_s*k*EN*b*r**2/(G_T*G_r*\\\\lambda_c**2)'),\n",
       " (('\\\\eta_S', 'm_s'), 19, ('m_t',), 'm_s/\\\\eta_S'),\n",
       " (('m_s', 'm_T', 'm_t', 'm_A', 'm_b', 'm_p'), 20, ('m_{pr}',), '-m_A - m_T - m_b - m_p - m_s + m_t'),\n",
       " (('H_{val}', 'h'), 21, (None,), 'H_{val} - H(1000.0*h)'),\n",
       " (('C_D', 'T', 'A', 'a', 'L_n', '\\\\rho_{val}', 'm_t'), 23, ('H_{val}',), '6.2831853071796*C_D*A*L_n*\\\\rho_{val}*a**2/(T*m_t)'),\n",
       " (('L_p', 'L_t'), 25, ('L_n',), '-L_p + L_t')]"
      ]
     },
     "execution_count": 55,
     "metadata": {},
     "output_type": "execute_result"
    }
   ],
   "source": [
    "newcomps"
   ]
  },
  {
   "cell_type": "code",
   "execution_count": 63,
   "id": "1b0d7cd2-70b7-44d7-84d4-50dd0cf97222",
   "metadata": {
    "execution": {
     "iopub.execute_input": "2022-07-06T19:51:14.426559Z",
     "iopub.status.busy": "2022-07-06T19:51:14.426559Z",
     "iopub.status.idle": "2022-07-06T19:51:14.435981Z",
     "shell.execute_reply": "2022-07-06T19:51:14.435981Z",
     "shell.execute_reply.started": "2022-07-06T19:51:14.426559Z"
    },
    "tags": []
   },
   "outputs": [
    {
     "data": {
      "text/latex": [
       "$0.676\\ \\mathrm{yr}\\ (L_t=10 )$"
      ],
      "text/plain": [
       "dummy"
      ]
     },
     "execution_count": 63,
     "metadata": {},
     "output_type": "execute_result"
    }
   ],
   "source": [
    "evalexpr(lookup_f(25).fxdisp, 'year')"
   ]
  },
  {
   "cell_type": "code",
   "execution_count": 57,
   "id": "1d0c28ce-f530-4ea8-a6f2-682361fec087",
   "metadata": {
    "execution": {
     "iopub.execute_input": "2022-07-06T19:50:33.493909Z",
     "iopub.status.busy": "2022-07-06T19:50:33.493909Z",
     "iopub.status.idle": "2022-07-06T19:50:33.504362Z",
     "shell.execute_reply": "2022-07-06T19:50:33.503812Z",
     "shell.execute_reply.started": "2022-07-06T19:50:33.493909Z"
    },
    "tags": []
   },
   "outputs": [
    {
     "data": {
      "text/plain": [
       "[DeviceArray(2341.60491035, dtype=float64)]"
      ]
     },
     "execution_count": 57,
     "metadata": {},
     "output_type": "execute_result"
    }
   ],
   "source": [
    "lookup_f(1).evaldict({'a':1, r'\\mu':2})"
   ]
  },
  {
   "cell_type": "code",
   "execution_count": 58,
   "id": "5eea2fce-0931-432e-b5b1-c9fe4670e771",
   "metadata": {
    "execution": {
     "iopub.execute_input": "2022-07-06T19:50:46.983722Z",
     "iopub.status.busy": "2022-07-06T19:50:46.982730Z",
     "iopub.status.idle": "2022-07-06T19:50:46.994707Z",
     "shell.execute_reply": "2022-07-06T19:50:46.994461Z",
     "shell.execute_reply.started": "2022-07-06T19:50:46.983722Z"
    },
    "tags": []
   },
   "outputs": [],
   "source": [
    "ordered_tree = tree_mina\n",
    "ordered_edges = edges_minassign\n",
    "comp_options = model.comp_options\n",
    "var_options = model.var_options\n",
    "solvers_options = model.solvers_options\n",
    "#solvers_options['root2'] = {'solver': 'GS', 'maxiter':20}\n",
    "#solvers_options['root'] = {'solver': 'GS', 'maxiter':20}\n",
    "solvers_options['root'] = {'type': OPT, 'disp':True, 'optimizer': 'SLSQP'}\n",
    "sequence = order_from_tree(ordered_tree[0], ordered_tree[1], ordered_edges[1])\n",
    "solvers_options = default_solver_options(ordered_tree, solvers_options)\n",
    "wf = mdao_workflow(sequence, solvers_options, comp_options, var_options)"
   ]
  },
  {
   "cell_type": "code",
   "execution_count": 66,
   "id": "ce2cffde-1025-4c73-91e8-d81018474f91",
   "metadata": {
    "execution": {
     "iopub.execute_input": "2022-07-06T19:52:00.467182Z",
     "iopub.status.busy": "2022-07-06T19:52:00.467182Z",
     "iopub.status.idle": "2022-07-06T19:52:00.471962Z",
     "shell.execute_reply": "2022-07-06T19:52:00.470740Z",
     "shell.execute_reply.started": "2022-07-06T19:52:00.467182Z"
    },
    "tags": []
   },
   "outputs": [],
   "source": [
    "nodetyperepr = model.nametyperepr\n",
    "nodetyperepr[SOLVER] = '{}'\n",
    "namingfunc = namefromsympy(nodetyperepr)"
   ]
  },
  {
   "cell_type": "code",
   "execution_count": 67,
   "id": "aaaa44e3-5dc8-4f03-b4e4-6d8fd4265c65",
   "metadata": {
    "execution": {
     "iopub.execute_input": "2022-07-06T19:52:00.472991Z",
     "iopub.status.busy": "2022-07-06T19:52:00.472991Z",
     "iopub.status.idle": "2022-07-06T19:52:00.487563Z",
     "shell.execute_reply": "2022-07-06T19:52:00.486629Z",
     "shell.execute_reply.started": "2022-07-06T19:52:00.472991Z"
    },
    "tags": []
   },
   "outputs": [],
   "source": [
    "mina_components = components+newcomps\n",
    "lookup_f = get_f(mina_components, ordered_edges)\n",
    "wfmdao = mdao_workflow_with_args(wf, lookup_f, namingfunc)"
   ]
  },
  {
   "cell_type": "code",
   "execution_count": 68,
   "id": "71d30846-ea19-4621-b763-d8177b732d09",
   "metadata": {
    "execution": {
     "iopub.execute_input": "2022-07-06T19:52:00.582585Z",
     "iopub.status.busy": "2022-07-06T19:52:00.581576Z",
     "iopub.status.idle": "2022-07-06T19:52:00.611413Z",
     "shell.execute_reply": "2022-07-06T19:52:00.611413Z",
     "shell.execute_reply.started": "2022-07-06T19:52:00.582585Z"
    },
    "tags": []
   },
   "outputs": [],
   "source": [
    "prob, mdao_in, groups = build_archi(ordered_edges, ordered_tree, wfmdao, namingfunc, model.idmapping, opt=False)"
   ]
  },
  {
   "cell_type": "markdown",
   "id": "61946a28-bcf6-4e43-9438-cee64117baf8",
   "metadata": {},
   "source": [
    "### Analysis"
   ]
  },
  {
   "cell_type": "code",
   "execution_count": 69,
   "id": "b4d9a1c8-ae5c-41c8-b7c4-e084686662e3",
   "metadata": {
    "execution": {
     "iopub.execute_input": "2022-07-06T19:52:01.497112Z",
     "iopub.status.busy": "2022-07-06T19:52:01.497112Z",
     "iopub.status.idle": "2022-07-06T19:52:01.515429Z",
     "shell.execute_reply": "2022-07-06T19:52:01.515040Z",
     "shell.execute_reply.started": "2022-07-06T19:52:01.497112Z"
    },
    "tags": []
   },
   "outputs": [],
   "source": [
    "# prob.set_val('L_t', 1.4)\n",
    "# prob.set_val('m_s', 300)\n",
    "# prob.set_val('m_b', 300)\n",
    "# prob.set_val('h', 400)"
   ]
  },
  {
   "cell_type": "markdown",
   "id": "79fa9056-467e-41d2-ac1c-a32a997d8487",
   "metadata": {},
   "source": [
    "### Design"
   ]
  },
  {
   "cell_type": "code",
   "execution_count": 70,
   "id": "910c04f2-55cd-4291-927a-607348650855",
   "metadata": {
    "execution": {
     "iopub.execute_input": "2022-07-06T19:52:03.618500Z",
     "iopub.status.busy": "2022-07-06T19:52:03.618500Z",
     "iopub.status.idle": "2022-07-06T19:52:03.632554Z",
     "shell.execute_reply": "2022-07-06T19:52:03.632385Z",
     "shell.execute_reply.started": "2022-07-06T19:52:03.618500Z"
    },
    "tags": []
   },
   "outputs": [],
   "source": [
    "prob.set_val('L_t', 10)\n",
    "prob.set_val('h', 400)\n",
    "prob.set_val('EN', 10**(11.5/10))\n",
    "prob.set_val('X_r', 5)\n",
    "prob.set_val('m_s', 5)"
   ]
  },
  {
   "cell_type": "code",
   "execution_count": 71,
   "id": "46e519cc-085d-44fd-86f9-ef02dadbb86a",
   "metadata": {
    "execution": {
     "iopub.execute_input": "2022-07-06T19:52:05.166926Z",
     "iopub.status.busy": "2022-07-06T19:52:05.165980Z",
     "iopub.status.idle": "2022-07-06T19:52:08.876773Z",
     "shell.execute_reply": "2022-07-06T19:52:08.876540Z",
     "shell.execute_reply.started": "2022-07-06T19:52:05.166926Z"
    },
    "tags": []
   },
   "outputs": [
    {
     "name": "stderr",
     "output_type": "stream",
     "text": [
      "C:\\Users\\johan\\miniconda3\\envs\\mdo\\lib\\site-packages\\openmdao\\core\\total_jac.py:1539: DerivativesWarning:Constraints or objectives [('f26.neq26', inds=[0]), ('f27.neq27', inds=[0])] cannot be impacted by the design variables of the problem.\n"
     ]
    },
    {
     "name": "stdout",
     "output_type": "stream",
     "text": [
      "Optimization terminated successfully    (Exit mode 0)\n",
      "            Current function value: [5.80755198]\n",
      "            Iterations: 7\n",
      "            Function evaluations: 12\n",
      "            Gradient evaluations: 7\n",
      "Optimization Complete\n",
      "-----------------------------------\n"
     ]
    },
    {
     "data": {
      "text/plain": [
       "False"
      ]
     },
     "execution_count": 71,
     "metadata": {},
     "output_type": "execute_result"
    }
   ],
   "source": [
    "prob.run_driver()"
   ]
  },
  {
   "cell_type": "code",
   "execution_count": 64,
   "id": "525f8c4b-9c26-4060-a2ed-f6571375a7d7",
   "metadata": {
    "execution": {
     "iopub.execute_input": "2022-07-06T18:22:47.264937Z",
     "iopub.status.busy": "2022-07-06T18:22:47.264937Z",
     "iopub.status.idle": "2022-07-06T18:22:47.280273Z",
     "shell.execute_reply": "2022-07-06T18:22:47.279761Z",
     "shell.execute_reply.started": "2022-07-06T18:22:47.264937Z"
    },
    "tags": []
   },
   "outputs": [],
   "source": [
    "prob.run_model()"
   ]
  },
  {
   "cell_type": "code",
   "execution_count": 65,
   "id": "63f4c0ad-2b17-49c3-8be3-6a49c029846b",
   "metadata": {
    "execution": {
     "iopub.execute_input": "2022-07-06T18:22:47.665850Z",
     "iopub.status.busy": "2022-07-06T18:22:47.665850Z",
     "iopub.status.idle": "2022-07-06T18:22:47.684382Z",
     "shell.execute_reply": "2022-07-06T18:22:47.683860Z",
     "shell.execute_reply.started": "2022-07-06T18:22:47.665850Z"
    },
    "tags": []
   },
   "outputs": [],
   "source": [
    "update_varval(model, prob, namingfunc)"
   ]
  },
  {
   "cell_type": "code",
   "execution_count": 66,
   "id": "47754162-25c1-4ece-a584-b990555eaa46",
   "metadata": {
    "execution": {
     "iopub.execute_input": "2022-07-06T18:22:47.915911Z",
     "iopub.status.busy": "2022-07-06T18:22:47.915911Z",
     "iopub.status.idle": "2022-07-06T18:22:47.934146Z",
     "shell.execute_reply": "2022-07-06T18:22:47.933946Z",
     "shell.execute_reply.started": "2022-07-06T18:22:47.915911Z"
    },
    "tags": []
   },
   "outputs": [],
   "source": [
    "#evalexpr(Ln)"
   ]
  },
  {
   "cell_type": "code",
   "execution_count": 67,
   "id": "032534b5-4079-417c-9a60-842e1e1ff4a7",
   "metadata": {
    "execution": {
     "iopub.execute_input": "2022-07-06T18:22:48.106352Z",
     "iopub.status.busy": "2022-07-06T18:22:48.106352Z",
     "iopub.status.idle": "2022-07-06T18:22:48.119975Z",
     "shell.execute_reply": "2022-07-06T18:22:48.119401Z",
     "shell.execute_reply.started": "2022-07-06T18:22:48.106352Z"
    },
    "tags": []
   },
   "outputs": [],
   "source": [
    "#evalexpr(Hval*mt/(2*np.pi*C_D*A*rhoval*a**2)*T)"
   ]
  },
  {
   "cell_type": "code",
   "execution_count": 68,
   "id": "10748055-5653-432a-b7c8-c0be8e6db4e8",
   "metadata": {
    "execution": {
     "iopub.execute_input": "2022-07-06T18:22:48.279308Z",
     "iopub.status.busy": "2022-07-06T18:22:48.278320Z",
     "iopub.status.idle": "2022-07-06T18:22:48.291245Z",
     "shell.execute_reply": "2022-07-06T18:22:48.290343Z",
     "shell.execute_reply.started": "2022-07-06T18:22:48.279308Z"
    },
    "tags": []
   },
   "outputs": [],
   "source": [
    "#evalexpr(Hval*mt/(2*np.pi)*T-Ln*C_D*A*rhoval*a**2)"
   ]
  },
  {
   "cell_type": "code",
   "execution_count": 72,
   "id": "8441591e-8cda-45f3-9d5d-701f4b6732eb",
   "metadata": {
    "execution": {
     "iopub.execute_input": "2022-07-06T21:54:18.539876Z",
     "iopub.status.busy": "2022-07-06T21:54:18.539876Z",
     "iopub.status.idle": "2022-07-06T21:54:18.563702Z",
     "shell.execute_reply": "2022-07-06T21:54:18.563055Z",
     "shell.execute_reply.started": "2022-07-06T21:54:18.539876Z"
    },
    "tags": []
   },
   "outputs": [
    {
     "data": {
      "text/html": [
       "<style type=\"text/css\">\n",
       "</style>\n",
       "<table id=\"T_0111d\">\n",
       "  <thead>\n",
       "  </thead>\n",
       "  <tbody>\n",
       "    <tr>\n",
       "      <td id=\"T_0111d_row0_col0\" class=\"data row0 col0\" >$$h$$</td>\n",
       "      <td id=\"T_0111d_row0_col1\" class=\"data row0 col1\" >400</td>\n",
       "      <td id=\"T_0111d_row0_col2\" class=\"data row0 col2\" >km</td>\n",
       "    </tr>\n",
       "    <tr>\n",
       "      <td id=\"T_0111d_row1_col0\" class=\"data row1 col0\" >$$X_r$$</td>\n",
       "      <td id=\"T_0111d_row1_col1\" class=\"data row1 col1\" >5</td>\n",
       "      <td id=\"T_0111d_row1_col2\" class=\"data row1 col2\" >m</td>\n",
       "    </tr>\n",
       "    <tr>\n",
       "      <td id=\"T_0111d_row2_col0\" class=\"data row2 col0\" >$$A$$</td>\n",
       "      <td id=\"T_0111d_row2_col1\" class=\"data row2 col1\" >0.051</td>\n",
       "      <td id=\"T_0111d_row2_col2\" class=\"data row2 col2\" >m²</td>\n",
       "    </tr>\n",
       "    <tr>\n",
       "      <td id=\"T_0111d_row3_col0\" class=\"data row3 col0\" >$$m_{pr}$$</td>\n",
       "      <td id=\"T_0111d_row3_col1\" class=\"data row3 col1\" >3.835</td>\n",
       "      <td id=\"T_0111d_row3_col2\" class=\"data row3 col2\" >kg</td>\n",
       "    </tr>\n",
       "  </tbody>\n",
       "</table>\n"
      ],
      "text/plain": [
       "<pandas.io.formats.style.Styler at 0x1eefb24ecd0>"
      ]
     },
     "execution_count": 72,
     "metadata": {},
     "output_type": "execute_result"
    }
   ],
   "source": [
    "print_inputs(model, prob, namingfunc, mdao_in0)"
   ]
  },
  {
   "cell_type": "code",
   "execution_count": 74,
   "id": "15aa2a79-d5ea-4602-aaea-133155f38e24",
   "metadata": {
    "execution": {
     "iopub.execute_input": "2022-07-06T21:54:28.860420Z",
     "iopub.status.busy": "2022-07-06T21:54:28.860420Z",
     "iopub.status.idle": "2022-07-06T21:54:28.883925Z",
     "shell.execute_reply": "2022-07-06T21:54:28.883302Z",
     "shell.execute_reply.started": "2022-07-06T21:54:28.860420Z"
    },
    "tags": []
   },
   "outputs": [
    {
     "data": {
      "text/html": [
       "<style type=\"text/css\">\n",
       "</style>\n",
       "<table id=\"T_034e8\">\n",
       "  <thead>\n",
       "  </thead>\n",
       "  <tbody>\n",
       "    <tr>\n",
       "      <td id=\"T_034e8_row0_col0\" class=\"data row0 col0\" >$$a$$</td>\n",
       "      <td id=\"T_034e8_row0_col1\" class=\"data row0 col1\" >6778</td>\n",
       "      <td id=\"T_034e8_row0_col2\" class=\"data row0 col2\" >km</td>\n",
       "    </tr>\n",
       "    <tr>\n",
       "      <td id=\"T_034e8_row1_col0\" class=\"data row1 col0\" >$$T$$</td>\n",
       "      <td id=\"T_034e8_row1_col1\" class=\"data row1 col1\" >92.558</td>\n",
       "      <td id=\"T_034e8_row1_col2\" class=\"data row1 col2\" >min</td>\n",
       "    </tr>\n",
       "    <tr>\n",
       "      <td id=\"T_034e8_row2_col0\" class=\"data row2 col0\" >$$g$$</td>\n",
       "      <td id=\"T_034e8_row2_col1\" class=\"data row2 col1\" >0.11</td>\n",
       "      <td id=\"T_034e8_row2_col2\" class=\"data row2 col2\" ></td>\n",
       "    </tr>\n",
       "    <tr>\n",
       "      <td id=\"T_034e8_row3_col0\" class=\"data row3 col0\" >$$d$$</td>\n",
       "      <td id=\"T_034e8_row3_col1\" class=\"data row3 col1\" >0.61</td>\n",
       "      <td id=\"T_034e8_row3_col2\" class=\"data row3 col2\" ></td>\n",
       "    </tr>\n",
       "    <tr>\n",
       "      <td id=\"T_034e8_row4_col0\" class=\"data row4 col0\" >$$r$$</td>\n",
       "      <td id=\"T_034e8_row4_col1\" class=\"data row4 col1\" >2293.992</td>\n",
       "      <td id=\"T_034e8_row4_col2\" class=\"data row4 col2\" >km</td>\n",
       "    </tr>\n",
       "    <tr>\n",
       "      <td id=\"T_034e8_row5_col0\" class=\"data row5 col0\" >$$m_A$$</td>\n",
       "      <td id=\"T_034e8_row5_col1\" class=\"data row5 col1\" >0.509</td>\n",
       "      <td id=\"T_034e8_row5_col2\" class=\"data row5 col2\" >kg</td>\n",
       "    </tr>\n",
       "    <tr>\n",
       "      <td id=\"T_034e8_row6_col0\" class=\"data row6 col0\" >$$P_c$$</td>\n",
       "      <td id=\"T_034e8_row6_col1\" class=\"data row6 col1\" >12.725</td>\n",
       "      <td id=\"T_034e8_row6_col2\" class=\"data row6 col2\" >W</td>\n",
       "    </tr>\n",
       "    <tr>\n",
       "      <td id=\"T_034e8_row7_col0\" class=\"data row7 col0\" >$$P_T$$</td>\n",
       "      <td id=\"T_034e8_row7_col1\" class=\"data row7 col1\" >0.725</td>\n",
       "      <td id=\"T_034e8_row7_col2\" class=\"data row7 col2\" >W</td>\n",
       "    </tr>\n",
       "    <tr>\n",
       "      <td id=\"T_034e8_row8_col0\" class=\"data row8 col0\" >$$E_b$$</td>\n",
       "      <td id=\"T_034e8_row8_col1\" class=\"data row8 col1\" >115.866</td>\n",
       "      <td id=\"T_034e8_row8_col2\" class=\"data row8 col2\" >kJ</td>\n",
       "    </tr>\n",
       "    <tr>\n",
       "      <td id=\"T_034e8_row9_col0\" class=\"data row9 col0\" >$$m_b$$</td>\n",
       "      <td id=\"T_034e8_row9_col1\" class=\"data row9 col1\" >0.232</td>\n",
       "      <td id=\"T_034e8_row9_col2\" class=\"data row9 col2\" >kg</td>\n",
       "    </tr>\n",
       "    <tr>\n",
       "      <td id=\"T_034e8_row10_col0\" class=\"data row10 col0\" >$$D_p$$</td>\n",
       "      <td id=\"T_034e8_row10_col1\" class=\"data row10 col1\" >0.049</td>\n",
       "      <td id=\"T_034e8_row10_col2\" class=\"data row10 col2\" >m</td>\n",
       "    </tr>\n",
       "    <tr>\n",
       "      <td id=\"T_034e8_row11_col0\" class=\"data row11 col0\" >$$D$$</td>\n",
       "      <td id=\"T_034e8_row11_col1\" class=\"data row11 col1\" >16.03</td>\n",
       "      <td id=\"T_034e8_row11_col2\" class=\"data row11 col2\" >GB</td>\n",
       "    </tr>\n",
       "    <tr>\n",
       "      <td id=\"T_034e8_row12_col0\" class=\"data row12 col0\" >$$m_p$$</td>\n",
       "      <td id=\"T_034e8_row12_col1\" class=\"data row12 col1\" >0.022</td>\n",
       "      <td id=\"T_034e8_row12_col2\" class=\"data row12 col2\" >kg</td>\n",
       "    </tr>\n",
       "    <tr>\n",
       "      <td id=\"T_034e8_row13_col0\" class=\"data row13 col0\" >$$b$$</td>\n",
       "      <td id=\"T_034e8_row13_col1\" class=\"data row13 col1\" >2.886</td>\n",
       "      <td id=\"T_034e8_row13_col2\" class=\"data row13 col2\" >MB/s</td>\n",
       "    </tr>\n",
       "    <tr>\n",
       "      <td id=\"T_034e8_row14_col0\" class=\"data row14 col0\" >$$\\lambda_c$$</td>\n",
       "      <td id=\"T_034e8_row14_col1\" class=\"data row14 col1\" >13.591</td>\n",
       "      <td id=\"T_034e8_row14_col2\" class=\"data row14 col2\" >cm</td>\n",
       "    </tr>\n",
       "    <tr>\n",
       "      <td id=\"T_034e8_row15_col0\" class=\"data row15 col0\" >$$D_T$$</td>\n",
       "      <td id=\"T_034e8_row15_col1\" class=\"data row15 col1\" >0.39</td>\n",
       "      <td id=\"T_034e8_row15_col2\" class=\"data row15 col2\" >m</td>\n",
       "    </tr>\n",
       "    <tr>\n",
       "      <td id=\"T_034e8_row16_col0\" class=\"data row16 col0\" >$$m_T$$</td>\n",
       "      <td id=\"T_034e8_row16_col1\" class=\"data row16 col1\" >0.049</td>\n",
       "      <td id=\"T_034e8_row16_col2\" class=\"data row16 col2\" >kg</td>\n",
       "    </tr>\n",
       "    <tr>\n",
       "      <td id=\"T_034e8_row17_col0\" class=\"data row17 col0\" >$$G_r$$</td>\n",
       "      <td id=\"T_034e8_row17_col1\" class=\"data row17 col1\" >8255.002</td>\n",
       "      <td id=\"T_034e8_row17_col2\" class=\"data row17 col2\" ></td>\n",
       "    </tr>\n",
       "    <tr>\n",
       "      <td id=\"T_034e8_row18_col0\" class=\"data row18 col0\" >$$EN$$</td>\n",
       "      <td id=\"T_034e8_row18_col1\" class=\"data row18 col1\" >14.125</td>\n",
       "      <td id=\"T_034e8_row18_col2\" class=\"data row18 col2\" ></td>\n",
       "    </tr>\n",
       "    <tr>\n",
       "      <td id=\"T_034e8_row19_col0\" class=\"data row19 col0\" >$$m_s$$</td>\n",
       "      <td id=\"T_034e8_row19_col1\" class=\"data row19 col1\" >1.162</td>\n",
       "      <td id=\"T_034e8_row19_col2\" class=\"data row19 col2\" >kg</td>\n",
       "    </tr>\n",
       "    <tr>\n",
       "      <td id=\"T_034e8_row20_col0\" class=\"data row20 col0\" >$$m_t$$</td>\n",
       "      <td id=\"T_034e8_row20_col1\" class=\"data row20 col1\" >5.808</td>\n",
       "      <td id=\"T_034e8_row20_col2\" class=\"data row20 col2\" >kg</td>\n",
       "    </tr>\n",
       "    <tr>\n",
       "      <td id=\"T_034e8_row21_col0\" class=\"data row21 col0\" >$$H_{val}$$</td>\n",
       "      <td id=\"T_034e8_row21_col1\" class=\"data row21 col1\" >5.820×10⁴</td>\n",
       "      <td id=\"T_034e8_row21_col2\" class=\"data row21 col2\" >m</td>\n",
       "    </tr>\n",
       "    <tr>\n",
       "      <td id=\"T_034e8_row22_col0\" class=\"data row22 col0\" >$$\\rho_{val}$$</td>\n",
       "      <td id=\"T_034e8_row22_col1\" class=\"data row22 col1\" >2.720×10⁻¹²</td>\n",
       "      <td id=\"T_034e8_row22_col2\" class=\"data row22 col2\" >kg/m³</td>\n",
       "    </tr>\n",
       "    <tr>\n",
       "      <td id=\"T_034e8_row23_col0\" class=\"data row23 col0\" >$$L_n$$</td>\n",
       "      <td id=\"T_034e8_row23_col1\" class=\"data row23 col1\" >0.677</td>\n",
       "      <td id=\"T_034e8_row23_col2\" class=\"data row23 col2\" >yr</td>\n",
       "    </tr>\n",
       "    <tr>\n",
       "      <td id=\"T_034e8_row24_col0\" class=\"data row24 col0\" >$$L_p$$</td>\n",
       "      <td id=\"T_034e8_row24_col1\" class=\"data row24 col1\" >9.323</td>\n",
       "      <td id=\"T_034e8_row24_col2\" class=\"data row24 col2\" >yr</td>\n",
       "    </tr>\n",
       "    <tr>\n",
       "      <td id=\"T_034e8_row25_col0\" class=\"data row25 col0\" >$$L_t$$</td>\n",
       "      <td id=\"T_034e8_row25_col1\" class=\"data row25 col1\" >10</td>\n",
       "      <td id=\"T_034e8_row25_col2\" class=\"data row25 col2\" >yr</td>\n",
       "    </tr>\n",
       "  </tbody>\n",
       "</table>\n"
      ],
      "text/plain": [
       "<pandas.io.formats.style.Styler at 0x1eefb232610>"
      ]
     },
     "execution_count": 74,
     "metadata": {},
     "output_type": "execute_result"
    }
   ],
   "source": [
    "print_outputs(model, prob, namingfunc, rounding=3)"
   ]
  },
  {
   "cell_type": "code",
   "execution_count": null,
   "id": "e94a901d-4f90-4042-a194-7e3fa518883f",
   "metadata": {},
   "outputs": [],
   "source": []
  }
 ],
 "metadata": {
  "kernelspec": {
   "display_name": "Python [conda env:minimdo]",
   "language": "python",
   "name": "conda-env-minimdo-py"
  },
  "language_info": {
   "codemirror_mode": {
    "name": "ipython",
    "version": 3
   },
   "file_extension": ".py",
   "mimetype": "text/x-python",
   "name": "python",
   "nbconvert_exporter": "python",
   "pygments_lexer": "ipython3",
   "version": "3.9.12"
  },
  "toc-autonumbering": false,
  "toc-showmarkdowntxt": false
 },
 "nbformat": 4,
 "nbformat_minor": 5
}
