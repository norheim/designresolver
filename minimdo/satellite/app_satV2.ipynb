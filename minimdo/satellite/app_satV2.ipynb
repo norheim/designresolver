{
 "cells": [
  {
   "cell_type": "code",
   "execution_count": 1,
   "id": "be29e181-532c-4cab-964d-c4acae654188",
   "metadata": {
    "execution": {
     "iopub.execute_input": "2022-06-15T15:45:48.553111Z",
     "iopub.status.busy": "2022-06-15T15:45:48.553111Z",
     "iopub.status.idle": "2022-06-15T15:45:50.699691Z",
     "shell.execute_reply": "2022-06-15T15:45:50.699271Z",
     "shell.execute_reply.started": "2022-06-15T15:45:48.553111Z"
    },
    "tags": []
   },
   "outputs": [],
   "source": [
    "#from compute import Var, Par, Model, adda, addf, ureg, Evaluable, buildidpvars\n",
    "from compute import Var, Par\n",
    "from datastructures.api import Model, adda, addf, addsolver\n",
    "#from compute import RefNode, SolverNode, addsolver, geteqs\n",
    "from anytree import Node\n",
    "from constants import μ, R, Q, k, c, G, H_int, ρ_int\n",
    "from representations import render_tree, digraph_repr, drawfull, tree_incidence\n",
    "from notation import graphs_from_incidence, make_acyclic, solvers_bottom_up, generate_execution, default_sequence\n",
    "import numpy as np\n",
    "import sympy as sp\n",
    "import networkx as nx\n",
    "from sympy.utilities.lambdify import implemented_function\n",
    "import matplotlib.pyplot as plt\n",
    "from collections import OrderedDict\n",
    "from datastructures.graphutils import namefromsympy, flat_graph_formulation, Node, COMP, merge_edges, all_varnodes, all_variables, sources\n",
    "from datastructures.operators import sort_scc, reorder_merge_solve\n",
    "from datastructures.execution import Component\n",
    "from datastructures.workflow import order_from_tree, get_f, mdao_workflow, default_solver_options\n",
    "from datastructures.workflow_mdao import mdao_workflow_with_args\n",
    "from datastructures.assembly import build_archi\n",
    "from executeformulations import extractvals"
   ]
  },
  {
   "cell_type": "code",
   "execution_count": 2,
   "id": "4405e0d8-b00e-4cae-9390-33c3a4f5484c",
   "metadata": {
    "execution": {
     "iopub.execute_input": "2022-06-15T15:45:50.700715Z",
     "iopub.status.busy": "2022-06-15T15:45:50.700715Z",
     "iopub.status.idle": "2022-06-15T15:45:50.716340Z",
     "shell.execute_reply": "2022-06-15T15:45:50.715612Z",
     "shell.execute_reply.started": "2022-06-15T15:45:50.700715Z"
    },
    "tags": []
   },
   "outputs": [],
   "source": [
    "#from polycasebuilder import eqv_to_edges_tree"
   ]
  },
  {
   "cell_type": "markdown",
   "id": "63bfda93-3029-4b49-91a3-e7fd5fbec2c6",
   "metadata": {},
   "source": [
    "# Sizing equations"
   ]
  },
  {
   "cell_type": "markdown",
   "id": "266adce2-75d1-4106-a28c-767dbfe86e85",
   "metadata": {},
   "source": [
    "## Parameters"
   ]
  },
  {
   "cell_type": "code",
   "execution_count": 3,
   "id": "f1c212a7-9963-4b07-a6e9-7f0ea1217b52",
   "metadata": {
    "execution": {
     "iopub.execute_input": "2022-06-15T15:45:50.717728Z",
     "iopub.status.busy": "2022-06-15T15:45:50.717728Z",
     "iopub.status.idle": "2022-06-15T15:45:50.731240Z",
     "shell.execute_reply": "2022-06-15T15:45:50.730737Z",
     "shell.execute_reply.started": "2022-06-15T15:45:50.717728Z"
    },
    "tags": []
   },
   "outputs": [],
   "source": [
    "dBtoLinear = lambda db: 10**(db/10)\n",
    "#EN = Var('EN', 10) #\n",
    "D_r = Par('D_r', 5.3, 'm')\n",
    "L = Par('L', dBtoLinear(1+8.5+0.3+0.1)) #based on SMAD page 567\n",
    "T_s = Par('T_s', 135, 'K')\n",
    "B = Par('B', 8, 'bit')\n",
    "N = Par('N', 2e3, '')\n",
    "eta = Par('eta', 0.55)\n",
    "l_v = Par('l_v', 500, 'nm')\n",
    "f = Par('f', 2.2, 'GHz')\n",
    "rho_T = Par('rho_T', 500e3, 'kg*m')\n",
    "rho_P = Par('rho_P', 0.002e-3, 'kg/J')\n",
    "P_l = Par('P_l', 12, 'W')\n",
    "m_c = Par('m_c', 0.2, 'kg')\n",
    "C_D = Par('C_D', 2.2)\n",
    "I_sp = Par('Isp', 70, 's')\n",
    "w_W = Par('w_W', 1000, 'rad/s')\n",
    "c_W = Par('c_W', 1)\n",
    "rho_M = Par('rho_M', 11.4)\n",
    "rho_P2 = Par('rho_P2', 9/0.1)\n",
    "M_B = Par('M_B', 7.96e15)\n",
    "kp = Par('kp', 0.0002)"
   ]
  },
  {
   "cell_type": "code",
   "execution_count": 4,
   "id": "c3d73208-2030-40c0-b4fb-c06eaf97a423",
   "metadata": {
    "execution": {
     "iopub.execute_input": "2022-06-15T15:45:50.944835Z",
     "iopub.status.busy": "2022-06-15T15:45:50.944835Z",
     "iopub.status.idle": "2022-06-15T15:45:50.948357Z",
     "shell.execute_reply": "2022-06-15T15:45:50.948099Z",
     "shell.execute_reply.started": "2022-06-15T15:45:50.944835Z"
    },
    "tags": []
   },
   "outputs": [],
   "source": [
    "model = Model()\n",
    "m = model.root"
   ]
  },
  {
   "cell_type": "markdown",
   "id": "63f99e9e-8233-4653-ac64-fedde7039039",
   "metadata": {},
   "source": [
    "## Orbit"
   ]
  },
  {
   "cell_type": "code",
   "execution_count": 5,
   "id": "cfe79c9c-ccea-4219-b15e-086023c02b96",
   "metadata": {
    "execution": {
     "iopub.execute_input": "2022-06-15T15:45:51.534159Z",
     "iopub.status.busy": "2022-06-15T15:45:51.533159Z",
     "iopub.status.idle": "2022-06-15T15:45:51.551065Z",
     "shell.execute_reply": "2022-06-15T15:45:51.550107Z",
     "shell.execute_reply.started": "2022-06-15T15:45:51.534159Z"
    },
    "tags": []
   },
   "outputs": [],
   "source": [
    "orbit = m#addsolver(m, name='orbit')"
   ]
  },
  {
   "cell_type": "code",
   "execution_count": 6,
   "id": "66dc9e13-a363-46d9-a9d8-0c40a9410eac",
   "metadata": {
    "execution": {
     "iopub.execute_input": "2022-06-15T15:45:51.787993Z",
     "iopub.status.busy": "2022-06-15T15:45:51.787993Z",
     "iopub.status.idle": "2022-06-15T15:45:51.923594Z",
     "shell.execute_reply": "2022-06-15T15:45:51.923594Z",
     "shell.execute_reply.started": "2022-06-15T15:45:51.787993Z"
    },
    "tags": []
   },
   "outputs": [],
   "source": [
    "h = Var('h', 400, 'km') #\n",
    "a = adda(orbit, 'a', h + R, unit='km')\n",
    "T = adda(orbit, 'T', 2*np.pi*(a**3/μ)**0.5, unit='min')\n",
    "g = adda(orbit, 'g', 1/np.pi*sp.acos(R/a))\n",
    "d = adda(orbit, 'd', g+0.5)\n",
    "r = adda(orbit, 'r', (h**2+2*R*h)**0.5, unit='km')"
   ]
  },
  {
   "cell_type": "markdown",
   "id": "62fbeca4-cfd3-44c4-9b11-fb74ec1f0b59",
   "metadata": {
    "tags": []
   },
   "source": [
    "## Power"
   ]
  },
  {
   "cell_type": "code",
   "execution_count": 10,
   "id": "441cc243-69d4-4299-b64f-19e89c363694",
   "metadata": {
    "execution": {
     "iopub.execute_input": "2022-06-15T15:46:07.878284Z",
     "iopub.status.busy": "2022-06-15T15:46:07.878284Z",
     "iopub.status.idle": "2022-06-15T15:46:07.891914Z",
     "shell.execute_reply": "2022-06-15T15:46:07.891341Z",
     "shell.execute_reply.started": "2022-06-15T15:46:07.878284Z"
    },
    "tags": []
   },
   "outputs": [],
   "source": [
    "power = m#addsolver(m, name='power')"
   ]
  },
  {
   "cell_type": "code",
   "execution_count": 11,
   "id": "72ede195-4fe3-4d48-9740-e7657f94f92a",
   "metadata": {
    "execution": {
     "iopub.execute_input": "2022-06-15T15:46:08.062900Z",
     "iopub.status.busy": "2022-06-15T15:46:08.062900Z",
     "iopub.status.idle": "2022-06-15T15:46:08.094093Z",
     "shell.execute_reply": "2022-06-15T15:46:08.093504Z",
     "shell.execute_reply.started": "2022-06-15T15:46:08.062900Z"
    },
    "tags": []
   },
   "outputs": [],
   "source": [
    "eta_A = Par('eta_A', 0.3)\n",
    "rho_A = Par('rho_A', 10, 'kg/m^2') #\n",
    "#ρ_A, η_A = ρ_Ai[solar], η_Ai[solar]\n",
    "A = Var('A', 0.05, unit='m^2')\n",
    "m_A = adda(power, 'm_A', rho_A*A)\n",
    "P_c = adda(power, 'P_c', d*A*Q*eta_A, unit='W')\n",
    "P_T = adda(power, 'P_T', P_c-P_l) #hack\n",
    "E_b = adda(power, 'E_b', P_c*T/d)\n",
    "rho_b = Par('rho_b', 0.002, 'kg/kJ')\n",
    "m_b = adda(power, 'm_b', rho_b*E_b, unit='kg')\n",
    "#E_b, m_b = E_bi[bat], m_bi[bat]"
   ]
  },
  {
   "cell_type": "markdown",
   "id": "51855427-b668-42eb-beb4-cf99cfeff29b",
   "metadata": {},
   "source": [
    "## Payload"
   ]
  },
  {
   "cell_type": "code",
   "execution_count": 12,
   "id": "d877b307-a9de-4109-931b-c1172a151495",
   "metadata": {
    "execution": {
     "iopub.execute_input": "2022-06-15T15:46:08.553216Z",
     "iopub.status.busy": "2022-06-15T15:46:08.552296Z",
     "iopub.status.idle": "2022-06-15T15:46:08.559404Z",
     "shell.execute_reply": "2022-06-15T15:46:08.559404Z",
     "shell.execute_reply.started": "2022-06-15T15:46:08.552296Z"
    },
    "tags": []
   },
   "outputs": [],
   "source": [
    "payload = m#addsolver(m, name='payload')"
   ]
  },
  {
   "cell_type": "code",
   "execution_count": 13,
   "id": "47b296c5-43f3-4575-aafc-16548576cd88",
   "metadata": {
    "execution": {
     "iopub.execute_input": "2022-06-15T15:46:08.848774Z",
     "iopub.status.busy": "2022-06-15T15:46:08.848774Z",
     "iopub.status.idle": "2022-06-15T15:46:08.873026Z",
     "shell.execute_reply": "2022-06-15T15:46:08.873026Z",
     "shell.execute_reply.started": "2022-06-15T15:46:08.848774Z"
    },
    "tags": []
   },
   "outputs": [],
   "source": [
    "X_r = Var('X_r', 5, 'm')\n",
    "D_p = adda(payload, 'D_p', 1.22*l_v*h/X_r)\n",
    "D = adda(payload, 'D', 2*np.pi*R*B*N/X_r, unit='MB')\n",
    "rho_p = Par('rho_p', 2, 'kg/m^1.5') \n",
    "#D_p, m_p = D_pi[payload], m_pi[payload]\n",
    "m_p = adda(payload, 'm_p', rho_p*D_p**1.5, unit='kg')"
   ]
  },
  {
   "cell_type": "code",
   "execution_count": 14,
   "id": "827027db-fe00-4f17-9c5b-fc323673b0c1",
   "metadata": {
    "execution": {
     "iopub.execute_input": "2022-06-15T15:46:09.072541Z",
     "iopub.status.busy": "2022-06-15T15:46:09.072541Z",
     "iopub.status.idle": "2022-06-15T15:46:09.090366Z",
     "shell.execute_reply": "2022-06-15T15:46:09.090218Z",
     "shell.execute_reply.started": "2022-06-15T15:46:09.072541Z"
    },
    "tags": []
   },
   "outputs": [],
   "source": [
    "#payload = addsolver(m, geteqs(m, [D_p, D, m_p]), [], name='payload')"
   ]
  },
  {
   "cell_type": "markdown",
   "id": "87cbc428-558e-449a-88c5-2f6d0b802cce",
   "metadata": {},
   "source": [
    "## Comms"
   ]
  },
  {
   "cell_type": "code",
   "execution_count": 15,
   "id": "56565f50-461e-44e2-b9cc-694b1cbfc609",
   "metadata": {
    "execution": {
     "iopub.execute_input": "2022-06-15T15:46:10.013885Z",
     "iopub.status.busy": "2022-06-15T15:46:10.012874Z",
     "iopub.status.idle": "2022-06-15T15:46:10.028791Z",
     "shell.execute_reply": "2022-06-15T15:46:10.027900Z",
     "shell.execute_reply.started": "2022-06-15T15:46:10.012874Z"
    },
    "tags": []
   },
   "outputs": [],
   "source": [
    "comms = m#addsolver(m, name='comms')"
   ]
  },
  {
   "cell_type": "code",
   "execution_count": 16,
   "id": "38eecc0d-6b88-4d03-8221-457d361a5052",
   "metadata": {
    "execution": {
     "iopub.execute_input": "2022-06-15T15:46:10.328710Z",
     "iopub.status.busy": "2022-06-15T15:46:10.328710Z",
     "iopub.status.idle": "2022-06-15T15:46:10.386619Z",
     "shell.execute_reply": "2022-06-15T15:46:10.386195Z",
     "shell.execute_reply.started": "2022-06-15T15:46:10.328710Z"
    },
    "tags": []
   },
   "outputs": [],
   "source": [
    "b = adda(comms, 'b', D/T, unit='MB/s')\n",
    "λ_c = adda(comms, 'l_c', c/f, unit='cm')\n",
    "G_T = Par('G_T', dBtoLinear(16.5), '')\n",
    "D_T = adda(comms, 'D_T', λ_c*(G_T/eta)**0.5/np.pi, unit='m')\n",
    "rho_T = Par('rho_T', 0.2, 'kg/m^1.5')\n",
    "m_T = adda(comms, 'm_T', rho_T*D_T**1.5, unit='kg')\n",
    "#m_T, P_T, G_T = m_Ti[comms], P_Ti[comms], G_Ti[comms]\n",
    "G_r = adda(comms, 'G_r', eta*(np.pi*D_r/λ_c)**2)\n",
    "EN = adda(comms, 'EN', P_T*G_r*G_T/(L*k*T_s*b)*(λ_c/(4*np.pi*r))**2, unit='')"
   ]
  },
  {
   "cell_type": "code",
   "execution_count": 17,
   "id": "a6e2e8e7-9227-4e62-bc03-8d6801afc7a7",
   "metadata": {
    "execution": {
     "iopub.execute_input": "2022-06-15T15:46:10.766202Z",
     "iopub.status.busy": "2022-06-15T15:46:10.766202Z",
     "iopub.status.idle": "2022-06-15T15:46:10.775518Z",
     "shell.execute_reply": "2022-06-15T15:46:10.775351Z",
     "shell.execute_reply.started": "2022-06-15T15:46:10.766202Z"
    },
    "tags": []
   },
   "outputs": [],
   "source": [
    "#comms = addsolver(m, geteqs(m, [b, λ_c, D_T, m_T, G_r, EN]), [], name='comms')"
   ]
  },
  {
   "cell_type": "code",
   "execution_count": 18,
   "id": "ce02ed4b-bc22-416a-b0aa-27eee64444de",
   "metadata": {
    "execution": {
     "iopub.execute_input": "2022-06-15T15:46:11.070085Z",
     "iopub.status.busy": "2022-06-15T15:46:11.070085Z",
     "iopub.status.idle": "2022-06-15T15:46:11.087079Z",
     "shell.execute_reply": "2022-06-15T15:46:11.086670Z",
     "shell.execute_reply.started": "2022-06-15T15:46:11.070085Z"
    },
    "tags": []
   },
   "outputs": [],
   "source": [
    "# For verification against budget in SMAD\n",
    "# model = Model()\n",
    "# m = RefNode(name='/', ref=model)\n",
    "# dBtoLinear = lambda db: 10**(db/10)\n",
    "# r = Par('r', 2831, 'km')\n",
    "# P_T = Par('P_T', 20, 'W')\n",
    "# D_r = Par('D_r', 5.3, 'm')\n",
    "# D_T = Par('D_T', 0.3, 'm')\n",
    "# L = Par('L', 9.77)\n",
    "# T_s = Par('T_s', 135, 'K')\n",
    "# eta = Par('eta', 0.55)\n",
    "# f = Par('f', 2.2, 'GHz')\n",
    "# b = Par('b', 85, unit='Mbit/s')\n",
    "# λ_c = adda(m, 'l_c', c/f, unit='cm')\n",
    "# G_T = adda(m, 'G_T', eta*(np.pi*D_T/λ_c)**2)\n",
    "# #D_T = adda(m, 'D_T', λ_c*(G_T/eta)**0.5/np.pi, unit='m')\n",
    "# G_r = adda(m, 'G_r', eta*(np.pi*D_r/λ_c)**2)\n",
    "# L_a = adda(m, 'L_a', (λ_c/(4*np.pi*r))**2, unit='')\n",
    "# EN = adda(m, 'EN', P_T*G_r*G_T/(L*k*T_s*b)*L_a, unit='')"
   ]
  },
  {
   "cell_type": "markdown",
   "id": "9d167992-9c25-4a84-9e66-fd9428ae0e3d",
   "metadata": {},
   "source": [
    "## Mass and struct"
   ]
  },
  {
   "cell_type": "code",
   "execution_count": 19,
   "id": "31b1491a-8558-4ee6-a3c1-0ea6f7aa0a19",
   "metadata": {
    "execution": {
     "iopub.execute_input": "2022-06-15T15:46:11.796782Z",
     "iopub.status.busy": "2022-06-15T15:46:11.795819Z",
     "iopub.status.idle": "2022-06-15T15:46:11.804781Z",
     "shell.execute_reply": "2022-06-15T15:46:11.803805Z",
     "shell.execute_reply.started": "2022-06-15T15:46:11.796782Z"
    },
    "tags": []
   },
   "outputs": [],
   "source": [
    "struct = m#addsolver(m, name='struct')\n",
    "mt = Var('mt', unit='kg')\n",
    "eta_S = Par('eta_S', 0.2)\n",
    "m_s = adda(struct, 'm_s', eta_S*mt)"
   ]
  },
  {
   "cell_type": "code",
   "execution_count": 20,
   "id": "bcb17d1a-9dbf-4281-a65f-0d976ee914ee",
   "metadata": {
    "execution": {
     "iopub.execute_input": "2022-06-15T15:46:12.011049Z",
     "iopub.status.busy": "2022-06-15T15:46:12.011049Z",
     "iopub.status.idle": "2022-06-15T15:46:12.023265Z",
     "shell.execute_reply": "2022-06-15T15:46:12.022660Z",
     "shell.execute_reply.started": "2022-06-15T15:46:12.011049Z"
    },
    "tags": []
   },
   "outputs": [
    {
     "data": {
      "text/latex": [
       "$mt=0.9979939602365098\\ \\mathrm{kg}\\ (m_s=0.2)$"
      ],
      "text/plain": [
       "mt"
      ]
     },
     "execution_count": 20,
     "metadata": {},
     "output_type": "execute_result"
    }
   ],
   "source": [
    "mass = m#addsolver(m, name='mass')\n",
    "adda(mass, mt, m_T+m_p+m_b+m_A+m_s)"
   ]
  },
  {
   "cell_type": "code",
   "execution_count": 21,
   "id": "268607d8-ba96-43ac-a703-c03a04df4c2c",
   "metadata": {
    "execution": {
     "iopub.execute_input": "2022-06-15T15:46:13.711229Z",
     "iopub.status.busy": "2022-06-15T15:46:13.710234Z",
     "iopub.status.idle": "2022-06-15T15:46:13.724392Z",
     "shell.execute_reply": "2022-06-15T15:46:13.723483Z",
     "shell.execute_reply.started": "2022-06-15T15:46:13.711229Z"
    },
    "tags": []
   },
   "outputs": [],
   "source": [
    "# struct = addsolver(m, geteqs(m, [m_s]), [], name='struct')\n",
    "# mass = addsolver(m, geteqs(m, [mt]), [], name='mass')"
   ]
  },
  {
   "cell_type": "markdown",
   "id": "b5363441-ceca-4883-a9a1-ffd6ef5448b7",
   "metadata": {
    "tags": []
   },
   "source": [
    "## Propulsion"
   ]
  },
  {
   "cell_type": "code",
   "execution_count": 22,
   "id": "ab5f6150-c141-4d6f-9237-9ba7bc21336a",
   "metadata": {
    "execution": {
     "iopub.execute_input": "2022-06-15T15:46:14.091748Z",
     "iopub.status.busy": "2022-06-15T15:46:14.091748Z",
     "iopub.status.idle": "2022-06-15T15:46:14.096084Z",
     "shell.execute_reply": "2022-06-15T15:46:14.095744Z",
     "shell.execute_reply.started": "2022-06-15T15:46:14.091748Z"
    },
    "tags": []
   },
   "outputs": [],
   "source": [
    "prop = m#addsolver(m, name='prop')"
   ]
  },
  {
   "cell_type": "code",
   "execution_count": 23,
   "id": "36319b2c-b387-4bd7-8833-c8bb838a42a8",
   "metadata": {
    "execution": {
     "iopub.execute_input": "2022-06-15T15:46:14.352138Z",
     "iopub.status.busy": "2022-06-15T15:46:14.352138Z",
     "iopub.status.idle": "2022-06-15T15:46:14.359361Z",
     "shell.execute_reply": "2022-06-15T15:46:14.359361Z",
     "shell.execute_reply.started": "2022-06-15T15:46:14.352138Z"
    },
    "tags": []
   },
   "outputs": [],
   "source": [
    "H = implemented_function(sp.Function('H'), H_int)\n",
    "rho = implemented_function(sp.Function('rho'),  ρ_int)"
   ]
  },
  {
   "cell_type": "code",
   "execution_count": 24,
   "id": "235ea58f-2d31-41af-954f-bc24b1fb1f21",
   "metadata": {
    "execution": {
     "iopub.execute_input": "2022-06-15T15:46:14.587197Z",
     "iopub.status.busy": "2022-06-15T15:46:14.587197Z",
     "iopub.status.idle": "2022-06-15T15:46:14.625043Z",
     "shell.execute_reply": "2022-06-15T15:46:14.624275Z",
     "shell.execute_reply.started": "2022-06-15T15:46:14.587197Z"
    },
    "tags": []
   },
   "outputs": [],
   "source": [
    "L_min = Var('L_{min}', 5, 'yr')\n",
    "m_pr = Var('m_{pr}', 0.5, unit='kg')\n",
    "Hval = adda(prop, 'H_{val}', H(h*1e3), unit='m', forceunit=True)\n",
    "rhoval= adda(prop, r'\\rho_{val}', rho(h*1e3), unit='kg/m**3', forceunit=True)\n",
    "Ln = adda(prop, 'L_n', Hval*mt/(2*np.pi*C_D*A*rhoval*a**2)*T, unit='yr')\n",
    "Lp = adda(prop, 'L_p', m_pr*I_sp*G*a/(0.5*C_D*A*rhoval*μ), unit='yr')\n",
    "Lt = adda(prop, 'L_t', Ln+Lp, unit='yr')"
   ]
  },
  {
   "cell_type": "markdown",
   "id": "4085a9d3-1b17-4351-895c-014c075983b5",
   "metadata": {
    "execution": {
     "iopub.execute_input": "2022-06-15T14:51:14.747642Z",
     "iopub.status.busy": "2022-06-15T14:51:14.747642Z",
     "iopub.status.idle": "2022-06-15T14:51:14.758669Z",
     "shell.execute_reply": "2022-06-15T14:51:14.758669Z",
     "shell.execute_reply.started": "2022-06-15T14:51:14.747642Z"
    }
   },
   "source": [
    "# Run"
   ]
  },
  {
   "cell_type": "code",
   "execution_count": 25,
   "id": "5b55702f-6efe-4d30-96fa-56caee479c4e",
   "metadata": {
    "execution": {
     "iopub.execute_input": "2022-06-15T15:46:16.451625Z",
     "iopub.status.busy": "2022-06-15T15:46:16.450635Z",
     "iopub.status.idle": "2022-06-15T15:46:16.460388Z",
     "shell.execute_reply": "2022-06-15T15:46:16.460388Z",
     "shell.execute_reply.started": "2022-06-15T15:46:16.450635Z"
    },
    "tags": []
   },
   "outputs": [],
   "source": [
    "edges, tree = model.generate_formulation()"
   ]
  },
  {
   "cell_type": "code",
   "execution_count": 26,
   "id": "1daa6a89-cbec-41f7-bdde-39b99450fbe3",
   "metadata": {
    "execution": {
     "iopub.execute_input": "2022-06-15T15:46:16.614712Z",
     "iopub.status.busy": "2022-06-15T15:46:16.614712Z",
     "iopub.status.idle": "2022-06-15T15:46:16.632889Z",
     "shell.execute_reply": "2022-06-15T15:46:16.632889Z",
     "shell.execute_reply.started": "2022-06-15T15:46:16.614712Z"
    },
    "tags": []
   },
   "outputs": [],
   "source": [
    "DG = flat_graph_formulation(*edges)\n",
    "merge_order = sort_scc(DG)\n",
    "nedges, ntree = reorder_merge_solve(edges, tree, merge_order, 1, True)\n",
    "# to use this we also need to create residual components!"
   ]
  },
  {
   "cell_type": "code",
   "execution_count": 31,
   "id": "c684af64-0fda-49eb-9292-433e66b29e66",
   "metadata": {
    "execution": {
     "iopub.execute_input": "2022-06-15T15:47:40.259711Z",
     "iopub.status.busy": "2022-06-15T15:47:40.259711Z",
     "iopub.status.idle": "2022-06-15T15:47:40.267836Z",
     "shell.execute_reply": "2022-06-15T15:47:40.267717Z",
     "shell.execute_reply.started": "2022-06-15T15:47:40.259711Z"
    },
    "tags": []
   },
   "outputs": [],
   "source": [
    "ordered_tree = tree \n",
    "ordered_edges = edges\n",
    "comp_options = model.comp_options\n",
    "var_options = model.var_options\n",
    "solvers_options = model.solvers_options\n",
    "solvers_options[1] = {'solver': 'GS', 'maxiter':20}\n",
    "nodetyperepr = model.nametyperepr\n",
    "namingfunc = namefromsympy(nodetyperepr)\n",
    "sequence = order_from_tree(ordered_tree[0], ordered_tree[1], ordered_edges[1])\n",
    "solvers_options = default_solver_options(ordered_tree, solvers_options)\n",
    "wf = mdao_workflow(sequence, solvers_options, comp_options, var_options)"
   ]
  },
  {
   "cell_type": "code",
   "execution_count": 32,
   "id": "d13b50ba-4e48-4f8f-9394-e66f84d1e85d",
   "metadata": {
    "execution": {
     "iopub.execute_input": "2022-06-15T15:47:40.698720Z",
     "iopub.status.busy": "2022-06-15T15:47:40.698720Z",
     "iopub.status.idle": "2022-06-15T15:47:40.719240Z",
     "shell.execute_reply": "2022-06-15T15:47:40.719011Z",
     "shell.execute_reply.started": "2022-06-15T15:47:40.698720Z"
    },
    "tags": []
   },
   "outputs": [],
   "source": [
    "components = model.components\n",
    "lookup_f = get_f(components, ordered_edges)\n",
    "wfmdao = mdao_workflow_with_args(wf, lookup_f, namingfunc)"
   ]
  },
  {
   "cell_type": "code",
   "execution_count": 33,
   "id": "2f4ea384-350a-4b76-a95a-2649dabb7f46",
   "metadata": {
    "execution": {
     "iopub.execute_input": "2022-06-15T15:47:40.888730Z",
     "iopub.status.busy": "2022-06-15T15:47:40.888730Z",
     "iopub.status.idle": "2022-06-15T15:47:40.905407Z",
     "shell.execute_reply": "2022-06-15T15:47:40.905205Z",
     "shell.execute_reply.started": "2022-06-15T15:47:40.888730Z"
    },
    "tags": []
   },
   "outputs": [],
   "source": [
    "prob, mdao_in, groups = build_archi(ordered_edges, ordered_tree, wfmdao, namingfunc, model.idmapping)"
   ]
  },
  {
   "cell_type": "code",
   "execution_count": 34,
   "id": "8943e748-1835-4783-8e14-5fb2ac9f295e",
   "metadata": {
    "execution": {
     "iopub.execute_input": "2022-06-15T15:47:41.164830Z",
     "iopub.status.busy": "2022-06-15T15:47:41.164830Z",
     "iopub.status.idle": "2022-06-15T15:47:41.186027Z",
     "shell.execute_reply": "2022-06-15T15:47:41.186027Z",
     "shell.execute_reply.started": "2022-06-15T15:47:41.164830Z"
    },
    "tags": []
   },
   "outputs": [
    {
     "name": "stdout",
     "output_type": "stream",
     "text": [
      "\n",
      "==\n",
      "s1\n",
      "==\n",
      "NL: NLBGS Converged in 5 iterations\n"
     ]
    }
   ],
   "source": [
    "prob.run_model()"
   ]
  },
  {
   "cell_type": "markdown",
   "id": "b65eda87-55c0-43de-acd7-94b15b98f269",
   "metadata": {},
   "source": [
    "# Visualize"
   ]
  },
  {
   "cell_type": "code",
   "execution_count": null,
   "id": "2d256eb6-dd96-4aae-b53b-7335f26d8a91",
   "metadata": {},
   "outputs": [],
   "source": []
  },
  {
   "cell_type": "markdown",
   "id": "ef02d4b8-d2eb-4e84-9491-f1b0e39aae18",
   "metadata": {},
   "source": [
    "# Run"
   ]
  },
  {
   "cell_type": "code",
   "execution_count": 20,
   "id": "c4996937-e0b8-430f-aee9-4d270a312a33",
   "metadata": {
    "execution": {
     "iopub.execute_input": "2022-03-31T16:38:56.282528Z",
     "iopub.status.busy": "2022-03-31T16:38:56.282528Z",
     "iopub.status.idle": "2022-03-31T16:38:56.300084Z",
     "shell.execute_reply": "2022-03-31T16:38:56.298876Z",
     "shell.execute_reply.started": "2022-03-31T16:38:56.282528Z"
    },
    "tags": []
   },
   "outputs": [
    {
     "name": "stdout",
     "output_type": "stream",
     "text": [
      "/               \n",
      "├── orbit       \n",
      "│   ├── 0       \n",
      "│   ├── 1       \n",
      "│   ├── 2       \n",
      "│   ├── 3       \n",
      "│   └── 4       \n",
      "├── power       \n",
      "│   ├── 5       \n",
      "│   ├── 6       \n",
      "│   ├── 7       \n",
      "│   ├── 8       \n",
      "│   └── 9       \n",
      "├── payload     \n",
      "│   ├── 10      \n",
      "│   ├── 11      \n",
      "│   └── 12      \n",
      "├── comms       \n",
      "│   ├── 13      \n",
      "│   ├── 14      \n",
      "│   ├── 15      \n",
      "│   ├── 16      \n",
      "│   ├── 17      \n",
      "│   └── 18      \n",
      "├── struct      \n",
      "│   └── 19      \n",
      "├── mass        \n",
      "│   └── 20      \n",
      "└── prop        \n",
      "    ├── 21      \n",
      "    ├── 22      \n",
      "    ├── 23      \n",
      "    ├── 24      \n",
      "    └── 25      \n"
     ]
    }
   ],
   "source": [
    "render_tree(m)"
   ]
  },
  {
   "cell_type": "code",
   "execution_count": 5,
   "id": "5b347d67-1ff7-4b75-bcaf-9483154274e9",
   "metadata": {
    "execution": {
     "iopub.execute_input": "2022-03-31T23:24:44.860482Z",
     "iopub.status.busy": "2022-03-31T23:24:44.859465Z",
     "iopub.status.idle": "2022-03-31T23:24:44.871242Z",
     "shell.execute_reply": "2022-03-31T23:24:44.870260Z",
     "shell.execute_reply.started": "2022-03-31T23:24:44.860482Z"
    },
    "tags": []
   },
   "outputs": [],
   "source": [
    "eqs, eqv, dout, dins = model.data_structures()"
   ]
  },
  {
   "cell_type": "code",
   "execution_count": 6,
   "id": "3175a817-f8d4-4a38-a510-b5b85ec9e7b1",
   "metadata": {
    "execution": {
     "iopub.execute_input": "2022-03-31T23:24:45.249634Z",
     "iopub.status.busy": "2022-03-31T23:24:45.249634Z",
     "iopub.status.idle": "2022-03-31T23:24:45.256586Z",
     "shell.execute_reply": "2022-03-31T23:24:45.256042Z",
     "shell.execute_reply.started": "2022-03-31T23:24:45.249634Z"
    },
    "tags": []
   },
   "outputs": [],
   "source": [
    "edges, tree = eqv_to_edges_tree(eqv, dout, len(eqv), offset=False)"
   ]
  },
  {
   "cell_type": "code",
   "execution_count": 7,
   "id": "5f4db3a2-d4b1-41b8-a121-2be3bea7b768",
   "metadata": {
    "execution": {
     "iopub.execute_input": "2022-03-31T23:24:45.398344Z",
     "iopub.status.busy": "2022-03-31T23:24:45.398344Z",
     "iopub.status.idle": "2022-03-31T23:24:45.410511Z",
     "shell.execute_reply": "2022-03-31T23:24:45.410347Z",
     "shell.execute_reply.started": "2022-03-31T23:24:45.398344Z"
    },
    "tags": []
   },
   "outputs": [],
   "source": [
    "DG = flat_graph_formulation(*edges)\n",
    "merge_order = sort_scc(DG)\n",
    "nedges, ntree = reorder_merge_solve(edges, tree, merge_order, 1, True)"
   ]
  },
  {
   "cell_type": "code",
   "execution_count": 8,
   "id": "2063d85f-5e46-4884-abb1-021ae4f14897",
   "metadata": {
    "execution": {
     "iopub.execute_input": "2022-03-31T23:24:45.541513Z",
     "iopub.status.busy": "2022-03-31T23:24:45.541513Z",
     "iopub.status.idle": "2022-03-31T23:24:45.613119Z",
     "shell.execute_reply": "2022-03-31T23:24:45.612594Z",
     "shell.execute_reply.started": "2022-03-31T23:24:45.541513Z"
    },
    "tags": []
   },
   "outputs": [],
   "source": [
    "components = [Component.fromsympy(right, tovar=left, component=key) for key,(left,right) in eqs.items()]\n",
    "components += [Component.fromsympy(left-right, component=key, tovar=left if not left.forceunit else None, ignoretovar=True) for key,(left,right) in eqs.items()]"
   ]
  },
  {
   "cell_type": "code",
   "execution_count": 9,
   "id": "afb21bc1-ea3f-4829-994d-422e9d0be602",
   "metadata": {
    "execution": {
     "iopub.execute_input": "2022-03-31T23:24:45.691117Z",
     "iopub.status.busy": "2022-03-31T23:24:45.691117Z",
     "iopub.status.idle": "2022-03-31T23:24:45.705713Z",
     "shell.execute_reply": "2022-03-31T23:24:45.705546Z",
     "shell.execute_reply.started": "2022-03-31T23:24:45.691117Z"
    },
    "tags": []
   },
   "outputs": [],
   "source": [
    "# we need to convert variable names to strings because this is what is used in the functions\n",
    "nedgesstr = [{key: tuple(str(vr) if vr else vr for vr in vrs) for key, vrs in elt.items()} for elt in nedges]"
   ]
  },
  {
   "cell_type": "code",
   "execution_count": 10,
   "id": "be4e010a-67d5-482a-9c11-049504a1896b",
   "metadata": {
    "execution": {
     "iopub.execute_input": "2022-03-31T23:24:45.808564Z",
     "iopub.status.busy": "2022-03-31T23:24:45.807588Z",
     "iopub.status.idle": "2022-03-31T23:24:45.814535Z",
     "shell.execute_reply": "2022-03-31T23:24:45.813967Z",
     "shell.execute_reply.started": "2022-03-31T23:24:45.808564Z"
    },
    "tags": []
   },
   "outputs": [],
   "source": [
    "lookup_f = get_f(components, nedgesstr)"
   ]
  },
  {
   "cell_type": "code",
   "execution_count": 11,
   "id": "c2457a1d-2186-4bd9-a862-263552c8912a",
   "metadata": {
    "execution": {
     "iopub.execute_input": "2022-03-31T23:24:46.042183Z",
     "iopub.status.busy": "2022-03-31T23:24:46.042183Z",
     "iopub.status.idle": "2022-03-31T23:24:46.048658Z",
     "shell.execute_reply": "2022-03-31T23:24:46.048292Z",
     "shell.execute_reply.started": "2022-03-31T23:24:46.042183Z"
    },
    "tags": []
   },
   "outputs": [],
   "source": [
    "workflow = generate_workflow(lookup_f, nedges, ntree, {2: {'maxiter':20}})"
   ]
  },
  {
   "cell_type": "code",
   "execution_count": 12,
   "id": "9f91d719-09f7-4c56-b996-4490a05beb18",
   "metadata": {
    "execution": {
     "iopub.execute_input": "2022-03-31T23:24:46.347590Z",
     "iopub.status.busy": "2022-03-31T23:24:46.347590Z",
     "iopub.status.idle": "2022-03-31T23:24:46.374639Z",
     "shell.execute_reply": "2022-03-31T23:24:46.374639Z",
     "shell.execute_reply.started": "2022-03-31T23:24:46.347590Z"
    },
    "tags": []
   },
   "outputs": [],
   "source": [
    "prob, mdao_in, groups = build_archi(nedges, ntree, workflow, transform_inputs=False)"
   ]
  },
  {
   "cell_type": "code",
   "execution_count": 13,
   "id": "ab2a00e9-56a4-4e53-8fac-95379e2a2faf",
   "metadata": {
    "execution": {
     "iopub.execute_input": "2022-03-31T23:24:46.671319Z",
     "iopub.status.busy": "2022-03-31T23:24:46.670440Z",
     "iopub.status.idle": "2022-03-31T23:24:46.685645Z",
     "shell.execute_reply": "2022-03-31T23:24:46.685581Z",
     "shell.execute_reply.started": "2022-03-31T23:24:46.671319Z"
    },
    "tags": []
   },
   "outputs": [],
   "source": [
    "prob.setup();"
   ]
  },
  {
   "cell_type": "code",
   "execution_count": 14,
   "id": "92ad0d9e-4865-4847-abb7-14838ff7f919",
   "metadata": {
    "execution": {
     "iopub.execute_input": "2022-03-31T23:24:47.126433Z",
     "iopub.status.busy": "2022-03-31T23:24:47.125425Z",
     "iopub.status.idle": "2022-03-31T23:24:47.152945Z",
     "shell.execute_reply": "2022-03-31T23:24:47.151862Z",
     "shell.execute_reply.started": "2022-03-31T23:24:47.126433Z"
    },
    "tags": []
   },
   "outputs": [
    {
     "name": "stdout",
     "output_type": "stream",
     "text": [
      "\n",
      "===\n",
      "s_1\n",
      "===\n",
      "+  \n",
      "+  =======\n",
      "+  s_1.s_2\n",
      "+  =======\n",
      "+  NL: Newton Converged in 1 iterations\n",
      "NL: Newton Converged in 0 iterations\n"
     ]
    }
   ],
   "source": [
    "prob.run_model()"
   ]
  },
  {
   "cell_type": "code",
   "execution_count": 15,
   "id": "9cafbab2-17e5-44c5-889f-f28dc7f5258f",
   "metadata": {
    "execution": {
     "iopub.execute_input": "2022-03-31T23:24:51.598986Z",
     "iopub.status.busy": "2022-03-31T23:24:51.598986Z",
     "iopub.status.idle": "2022-03-31T23:24:51.621006Z",
     "shell.execute_reply": "2022-03-31T23:24:51.620415Z",
     "shell.execute_reply.started": "2022-03-31T23:24:51.598986Z"
    },
    "tags": []
   },
   "outputs": [],
   "source": [
    "all_vars = all_variables(merge_edges(nedges[0], nedges[2]), nedges[1])"
   ]
  },
  {
   "cell_type": "code",
   "execution_count": 16,
   "id": "5de43567-81c5-4d9b-9452-acc903388a7f",
   "metadata": {
    "execution": {
     "iopub.execute_input": "2022-03-31T23:24:52.425454Z",
     "iopub.status.busy": "2022-03-31T23:24:52.425454Z",
     "iopub.status.idle": "2022-03-31T23:24:52.436166Z",
     "shell.execute_reply": "2022-03-31T23:24:52.435561Z",
     "shell.execute_reply.started": "2022-03-31T23:24:52.425454Z"
    },
    "tags": []
   },
   "outputs": [],
   "source": [
    "outs = extractvals(prob, all_vars)"
   ]
  },
  {
   "cell_type": "code",
   "execution_count": 17,
   "id": "f24ce0b3-f631-41a1-b1bb-144ec1db1e38",
   "metadata": {
    "execution": {
     "iopub.execute_input": "2022-03-31T23:24:52.904027Z",
     "iopub.status.busy": "2022-03-31T23:24:52.904027Z",
     "iopub.status.idle": "2022-03-31T23:24:52.917730Z",
     "shell.execute_reply": "2022-03-31T23:24:52.917046Z",
     "shell.execute_reply.started": "2022-03-31T23:24:52.904027Z"
    },
    "tags": []
   },
   "outputs": [],
   "source": [
    "fcomps_res = [comp for comp in components if comp.outputs == (None,)]"
   ]
  },
  {
   "cell_type": "code",
   "execution_count": 18,
   "id": "2a9f465e-5a4c-472c-be50-4861cbfeadaf",
   "metadata": {
    "execution": {
     "iopub.execute_input": "2022-03-31T23:24:53.512982Z",
     "iopub.status.busy": "2022-03-31T23:24:53.512982Z",
     "iopub.status.idle": "2022-03-31T23:24:53.528367Z",
     "shell.execute_reply": "2022-03-31T23:24:53.527725Z",
     "shell.execute_reply.started": "2022-03-31T23:24:53.512982Z"
    },
    "tags": []
   },
   "outputs": [
    {
     "data": {
      "text/plain": [
       "{'Delta_1': 1320.9667474823073,\n",
       " 'm_s3': 35.555555555555564,\n",
       " 'm_f1': 255.5555555555556,\n",
       " 'm_i2': 245.5555555555556,\n",
       " 'm_t': 355.5555555555556,\n",
       " 'm_i3': 135.5555555555556,\n",
       " 'Delta_v': 8765.968828482828,\n",
       " 'Delta_3': 5353.140567734116,\n",
       " 'Delta_2': 2091.8615132664045,\n",
       " 'm_i1': 355.5555555555556,\n",
       " 'm_f2': 145.5555555555556,\n",
       " 'm_f3': 35.5555555555556}"
      ]
     },
     "execution_count": 18,
     "metadata": {},
     "output_type": "execute_result"
    }
   ],
   "source": [
    "extractvals(prob, (vr for vr in all_vars if not vr.always_input))"
   ]
  },
  {
   "cell_type": "code",
   "execution_count": 35,
   "id": "13c6943b-74a3-4fd0-b1fa-a203105e4c2e",
   "metadata": {
    "execution": {
     "iopub.execute_input": "2022-03-31T16:39:42.863918Z",
     "iopub.status.busy": "2022-03-31T16:39:42.863918Z",
     "iopub.status.idle": "2022-03-31T16:39:42.875273Z",
     "shell.execute_reply": "2022-03-31T16:39:42.874557Z",
     "shell.execute_reply.started": "2022-03-31T16:39:42.863918Z"
    },
    "tags": []
   },
   "outputs": [
    {
     "data": {
      "text/plain": [
       "9.938769149412112"
      ]
     },
     "execution_count": 35,
     "metadata": {},
     "output_type": "execute_result"
    }
   ],
   "source": [
    "10*np.log10(9.86)"
   ]
  },
  {
   "cell_type": "code",
   "execution_count": 36,
   "id": "13248a46-d59f-4216-a0bd-094a64821fce",
   "metadata": {
    "execution": {
     "iopub.execute_input": "2022-03-31T15:25:16.873428Z",
     "iopub.status.busy": "2022-03-31T15:25:16.873428Z",
     "iopub.status.idle": "2022-03-31T15:25:16.882596Z",
     "shell.execute_reply": "2022-03-31T15:25:16.881921Z",
     "shell.execute_reply.started": "2022-03-31T15:25:16.873428Z"
    },
    "tags": []
   },
   "outputs": [
    {
     "data": {
      "text/plain": [
       "[0.0,\n",
       " 0.0,\n",
       " 0.0,\n",
       " 0.0,\n",
       " 0.0,\n",
       " 0.0,\n",
       " 0.0,\n",
       " 0.0,\n",
       " 0.0,\n",
       " 0.0,\n",
       " 0.0,\n",
       " 0.0,\n",
       " 0.0,\n",
       " 0.0,\n",
       " 0.0,\n",
       " 0.0,\n",
       " 0.0,\n",
       " 0.0,\n",
       " 0.0,\n",
       " -1.1102230246251565e-16,\n",
       " 2.220446049250313e-16,\n",
       " 0.0,\n",
       " 0.0,\n",
       " 0.0,\n",
       " 0.0,\n",
       " 0.0]"
      ]
     },
     "execution_count": 36,
     "metadata": {},
     "output_type": "execute_result"
    }
   ],
   "source": [
    "[elt.evaldict(outs) for elt in fcomps_res]"
   ]
  },
  {
   "cell_type": "code",
   "execution_count": 50,
   "id": "c6f5640f-06e4-4ba4-b1ff-c188f27db84b",
   "metadata": {
    "execution": {
     "iopub.execute_input": "2022-03-31T14:53:03.390345Z",
     "iopub.status.busy": "2022-03-31T14:53:03.390345Z",
     "iopub.status.idle": "2022-03-31T14:53:03.397921Z",
     "shell.execute_reply": "2022-03-31T14:53:03.397330Z",
     "shell.execute_reply.started": "2022-03-31T14:53:03.390345Z"
    },
    "tags": []
   },
   "outputs": [],
   "source": [
    "sequence_m = default_sequence(m)"
   ]
  },
  {
   "cell_type": "code",
   "execution_count": 24,
   "id": "103f9654-4960-4b39-b89d-869c994baf7b",
   "metadata": {
    "execution": {
     "iopub.execute_input": "2022-03-30T22:37:00.295255Z",
     "iopub.status.busy": "2022-03-30T22:37:00.295255Z",
     "iopub.status.idle": "2022-03-30T22:37:05.871171Z",
     "shell.execute_reply": "2022-03-30T22:37:05.871019Z",
     "shell.execute_reply.started": "2022-03-30T22:37:00.295255Z"
    },
    "tags": []
   },
   "outputs": [
    {
     "data": {
      "image/png": "[encoded data removed]",
      "text/plain": [
       "<Figure size 864x864 with 1 Axes>"
      ]
     },
     "metadata": {
      "needs_background": "light"
     },
     "output_type": "display_data"
    }
   ],
   "source": [
    "fig, ax = tree_incidence(m, eqv, model.outset, sequence_m, figsize=(12,12), showtree=False, pad=0);\n",
    "plt.sca(ax)\n",
    "plt.savefig('figures/sat.png', dpi=600, bbox_inches='tight')"
   ]
  },
  {
   "cell_type": "markdown",
   "id": "bc3cffd1-f948-45ec-9b60-e1ac57512d99",
   "metadata": {},
   "source": [
    "### Tree & Graph"
   ]
  },
  {
   "cell_type": "code",
   "execution_count": 18,
   "id": "aec3d81c-dd81-4612-8649-6c098bf5ad02",
   "metadata": {
    "execution": {
     "iopub.execute_input": "2022-01-31T21:03:17.614678Z",
     "iopub.status.busy": "2022-01-31T21:03:17.613668Z",
     "iopub.status.idle": "2022-01-31T21:03:17.802667Z",
     "shell.execute_reply": "2022-01-31T21:03:17.801665Z",
     "shell.execute_reply.started": "2022-01-31T21:03:17.614678Z"
    },
    "tags": []
   },
   "outputs": [],
   "source": [
    "G, graphs = graphs_from_incidence(m, from_root=True)"
   ]
  },
  {
   "cell_type": "code",
   "execution_count": 19,
   "id": "6d5c113e-b5e4-43cc-be51-579a11d0bd27",
   "metadata": {
    "execution": {
     "iopub.execute_input": "2022-01-31T21:03:17.810666Z",
     "iopub.status.busy": "2022-01-31T21:03:17.810666Z",
     "iopub.status.idle": "2022-01-31T21:03:21.919668Z",
     "shell.execute_reply": "2022-01-31T21:03:21.917665Z",
     "shell.execute_reply.started": "2022-01-31T21:03:17.810666Z"
    },
    "tags": []
   },
   "outputs": [
    {
     "data": {
      "image/png": "[encoded data removed]",
      "text/plain": [
       "<Figure size 720x720 with 1 Axes>"
      ]
     },
     "metadata": {},
     "output_type": "display_data"
    }
   ],
   "source": [
    "drawfull(graphs[m], model.eqs, figsize=(10,10))"
   ]
  },
  {
   "cell_type": "code",
   "execution_count": 20,
   "id": "20d8472b-f2f8-45d8-b03e-3914df6c57ab",
   "metadata": {
    "execution": {
     "iopub.execute_input": "2022-01-31T21:03:28.196670Z",
     "iopub.status.busy": "2022-01-31T21:03:28.195666Z",
     "iopub.status.idle": "2022-01-31T21:03:28.233667Z",
     "shell.execute_reply": "2022-01-31T21:03:28.232665Z",
     "shell.execute_reply.started": "2022-01-31T21:03:28.196670Z"
    },
    "tags": []
   },
   "outputs": [],
   "source": [
    "m2 = make_acyclic(m, graphs)"
   ]
  },
  {
   "cell_type": "code",
   "execution_count": 21,
   "id": "9c5dc26d-9d89-4a89-9649-aa335bca43d3",
   "metadata": {
    "execution": {
     "iopub.execute_input": "2022-01-31T21:03:28.954670Z",
     "iopub.status.busy": "2022-01-31T21:03:28.954670Z",
     "iopub.status.idle": "2022-01-31T21:03:28.972671Z",
     "shell.execute_reply": "2022-01-31T21:03:28.971666Z",
     "shell.execute_reply.started": "2022-01-31T21:03:28.954670Z"
    },
    "tags": []
   },
   "outputs": [
    {
     "name": "stdout",
     "output_type": "stream",
     "text": [
      "/               \n",
      "├── orbit, SOLVER\n",
      "│   ├── f_0, INTER\n",
      "│   ├── f_4, INTER\n",
      "│   ├── f_1, INTER\n",
      "│   ├── f_2, INTER\n",
      "│   └── f_3, INTER\n",
      "├── power, SOLVER\n",
      "│   ├── f_5, INTER\n",
      "│   ├── f_6, INTER\n",
      "│   ├── f_7, INTER\n",
      "│   ├── f_8, INTER\n",
      "│   └── f_9, INTER\n",
      "├── payload, SOLVER\n",
      "│   ├── f_10, INTER\n",
      "│   ├── f_11, INTER\n",
      "│   └── f_12, INTER\n",
      "├── payload, SOLVER\n",
      "│   ├── f_13, INTER\n",
      "│   ├── f_14, INTER\n",
      "│   ├── f_15, INTER\n",
      "│   ├── f_17, INTER\n",
      "│   ├── f_16, INTER\n",
      "│   └── f_18, INTER\n",
      "├── prop, SOLVER\n",
      "│   ├── f_21, INTER\n",
      "│   ├── f_22, INTER\n",
      "│   ├── f_23, INTER\n",
      "│   ├── f_24, INTER\n",
      "│   └── f_25, INTER\n",
      "└── ., SOLVER   \n",
      "    ├── f_19, END\n",
      "    └── f_20, END\n"
     ]
    }
   ],
   "source": [
    "render_tree(m2, display_type=True)"
   ]
  },
  {
   "cell_type": "code",
   "execution_count": 29,
   "id": "7fb361d2-cea2-49e8-83e5-6ec7a7561e35",
   "metadata": {
    "execution": {
     "iopub.execute_input": "2022-01-31T21:06:25.374729Z",
     "iopub.status.busy": "2022-01-31T21:06:25.373730Z",
     "iopub.status.idle": "2022-01-31T21:06:25.380726Z",
     "shell.execute_reply": "2022-01-31T21:06:25.379722Z",
     "shell.execute_reply.started": "2022-01-31T21:06:25.374729Z"
    },
    "tags": []
   },
   "outputs": [],
   "source": [
    "notation = notation_from_tree(m2, model.outset)"
   ]
  },
  {
   "cell_type": "markdown",
   "id": "82de8fb7-2ea2-4fdd-8794-f7821ca09f79",
   "metadata": {},
   "source": [
    "# Execution order"
   ]
  },
  {
   "cell_type": "code",
   "execution_count": 33,
   "id": "7117004d-1eba-4d09-be05-3ad9b6b01499",
   "metadata": {
    "execution": {
     "iopub.execute_input": "2022-01-31T21:07:47.817259Z",
     "iopub.status.busy": "2022-01-31T21:07:47.816252Z",
     "iopub.status.idle": "2022-01-31T21:07:47.846251Z",
     "shell.execute_reply": "2022-01-31T21:07:47.845252Z",
     "shell.execute_reply.started": "2022-01-31T21:07:47.817259Z"
    },
    "tags": []
   },
   "outputs": [
    {
     "data": {
      "text/plain": [
       "[('exp', 0, a, 'f_0'),\n",
       " ('exp', 0, r, 'f_4'),\n",
       " ('exp', 0, T, 'f_1'),\n",
       " ('exp', 0, g, 'f_2'),\n",
       " ('exp', 0, d, 'f_3'),\n",
       " ('exp', 0, m_A, 'f_5'),\n",
       " ('exp', 0, P_c, 'f_6'),\n",
       " ('exp', 0, P_T, 'f_7'),\n",
       " ('exp', 0, E_b, 'f_8'),\n",
       " ('exp', 0, m_b, 'f_9'),\n",
       " ('exp', 0, D_p, 'f_10'),\n",
       " ('exp', 0, D, 'f_11'),\n",
       " ('exp', 0, m_p, 'f_12'),\n",
       " ('exp', 0, b, 'f_13'),\n",
       " ('exp', 0, l_c, 'f_14'),\n",
       " ('exp', 0, D_T, 'f_15'),\n",
       " ('exp', 0, G_r, 'f_17'),\n",
       " ('exp', 0, m_T, 'f_16'),\n",
       " ('exp', 0, EN, 'f_18'),\n",
       " ('exp', 0, H_val, 'f_21'),\n",
       " ('exp', 0, rho_val, 'f_22'),\n",
       " ('exp', 0, L_n, 'f_23'),\n",
       " ('exp', 0, L_p, 'f_24'),\n",
       " ('exp', 0, L_t, 'f_25'),\n",
       " ('solver', 0, 1, [m_s, mt], ['f_19', 'f_20'])]"
      ]
     },
     "execution_count": 33,
     "metadata": {},
     "output_type": "execute_result"
    }
   ],
   "source": [
    "execorder = generate_execution([notation])\n",
    "execorder"
   ]
  }
 ],
 "metadata": {
  "kernelspec": {
   "display_name": "Python [conda env:mdo]",
   "language": "python",
   "name": "conda-env-mdo-py"
  },
  "language_info": {
   "codemirror_mode": {
    "name": "ipython",
    "version": 3
   },
   "file_extension": ".py",
   "mimetype": "text/x-python",
   "name": "python",
   "nbconvert_exporter": "python",
   "pygments_lexer": "ipython3",
   "version": "3.9.7"
  }
 },
 "nbformat": 4,
 "nbformat_minor": 5
}
