{
 "cells": [
  {
   "cell_type": "code",
   "execution_count": 31,
   "id": "be29e181-532c-4cab-964d-c4acae654188",
   "metadata": {
    "execution": {
     "iopub.execute_input": "2022-07-01T20:21:20.608216Z",
     "iopub.status.busy": "2022-07-01T20:21:20.608216Z",
     "iopub.status.idle": "2022-07-01T20:21:20.665027Z",
     "shell.execute_reply": "2022-07-01T20:21:20.664494Z",
     "shell.execute_reply.started": "2022-07-01T20:21:20.608216Z"
    },
    "tags": []
   },
   "outputs": [],
   "source": [
    "from compute import Var, Par\n",
    "from datastructures.api import Model, adda, addf, addsolver\n",
    "from anytree import Node\n",
    "from constants import μ, R, Q, k, c, G, H_int, ρ_int\n",
    "from representations import render_tree, digraph_repr, drawfull, tree_incidence\n",
    "from notation import graphs_from_incidence, make_acyclic, solvers_bottom_up, generate_execution, default_sequence\n",
    "import numpy as np\n",
    "import sympy as sp\n",
    "import networkx as nx\n",
    "from sympy.utilities.lambdify import implemented_function\n",
    "import matplotlib.pyplot as plt\n",
    "from collections import OrderedDict\n",
    "from datastructures.graphutils import namefromsympy, flat_graph_formulation, Node, COMP, VAR, merge_edges, all_varnodes, all_variables, sources\n",
    "from datastructures.operators import sort_scc, reorder_merge_solve\n",
    "from datastructures.execution import Component\n",
    "from datastructures.workflow import order_from_tree, get_f, mdao_workflow, default_solver_options\n",
    "from datastructures.workflow_mdao import mdao_workflow_with_args\n",
    "from datastructures.assembly import build_archi\n",
    "from executeformulations import extractvals\n",
    "import pandas as pd\n",
    "from datastructures.postprocess import print_values_static\n",
    "from datastructures.rendering import render_incidence"
   ]
  },
  {
   "cell_type": "markdown",
   "id": "63bfda93-3029-4b49-91a3-e7fd5fbec2c6",
   "metadata": {},
   "source": [
    "# Sizing equations"
   ]
  },
  {
   "cell_type": "markdown",
   "id": "266adce2-75d1-4106-a28c-767dbfe86e85",
   "metadata": {},
   "source": [
    "## Parameters"
   ]
  },
  {
   "cell_type": "code",
   "execution_count": 2,
   "id": "f1c212a7-9963-4b07-a6e9-7f0ea1217b52",
   "metadata": {
    "execution": {
     "iopub.execute_input": "2022-07-01T20:17:47.946229Z",
     "iopub.status.busy": "2022-07-01T20:17:47.946229Z",
     "iopub.status.idle": "2022-07-01T20:17:47.955256Z",
     "shell.execute_reply": "2022-07-01T20:17:47.955256Z",
     "shell.execute_reply.started": "2022-07-01T20:17:47.946229Z"
    },
    "tags": []
   },
   "outputs": [],
   "source": [
    "dBtoLinear = lambda db: 10**(db/10)\n",
    "D_r = Par('D_r', 5.3, 'm')\n",
    "L = Par('L', dBtoLinear(1+8.5+0.3+0.1)) #based on SMAD page 567\n",
    "T_s = Par('T_s', 135, 'K')\n",
    "B = Par('B', 8, 'bit')\n",
    "N = Par('N', 2e3, '')\n",
    "eta = Par(r'\\eta_c', 0.55)\n",
    "l_v = Par('l_v', 500, 'nm')\n",
    "f = Par('f', 2.2, 'GHz')\n",
    "rho_T = Par(r'\\rho_T', 500e3, 'kg*m')\n",
    "rho_P = Par(r'\\rho_P', 0.002e-3, 'kg/J')\n",
    "P_l = Par('P_l', 12, 'W')\n",
    "m_c = Par('m_c', 0.2, 'kg')\n",
    "C_D = Par('C_D', 2.2)\n",
    "I_sp = Par('Isp', 70, 's')\n",
    "w_W = Par('w_W', 1000, 'rad/s')\n",
    "c_W = Par('c_W', 1)\n",
    "rho_M = Par(r'\\rho_M', 11.4)\n",
    "rho_P2 = Par(r'\\rho_P2', 9/0.1)\n",
    "M_B = Par('M_B', 7.96e15)\n",
    "kp = Par('kp', 0.0002)"
   ]
  },
  {
   "cell_type": "code",
   "execution_count": 41,
   "id": "c3d73208-2030-40c0-b4fb-c06eaf97a423",
   "metadata": {
    "execution": {
     "iopub.execute_input": "2022-07-01T20:24:34.555135Z",
     "iopub.status.busy": "2022-07-01T20:24:34.555135Z",
     "iopub.status.idle": "2022-07-01T20:24:34.565031Z",
     "shell.execute_reply": "2022-07-01T20:24:34.565031Z",
     "shell.execute_reply.started": "2022-07-01T20:24:34.555135Z"
    },
    "tags": []
   },
   "outputs": [],
   "source": [
    "model = Model()\n",
    "m = model.root"
   ]
  },
  {
   "cell_type": "markdown",
   "id": "63f99e9e-8233-4653-ac64-fedde7039039",
   "metadata": {},
   "source": [
    "## Orbit / mission design"
   ]
  },
  {
   "cell_type": "code",
   "execution_count": 42,
   "id": "cfe79c9c-ccea-4219-b15e-086023c02b96",
   "metadata": {
    "execution": {
     "iopub.execute_input": "2022-07-01T20:24:35.274816Z",
     "iopub.status.busy": "2022-07-01T20:24:35.274816Z",
     "iopub.status.idle": "2022-07-01T20:24:35.300509Z",
     "shell.execute_reply": "2022-07-01T20:24:35.299948Z",
     "shell.execute_reply.started": "2022-07-01T20:24:35.274816Z"
    },
    "tags": []
   },
   "outputs": [],
   "source": [
    "orbit = addsolver(m, name='orbit')"
   ]
  },
  {
   "cell_type": "code",
   "execution_count": 43,
   "id": "66dc9e13-a363-46d9-a9d8-0c40a9410eac",
   "metadata": {
    "execution": {
     "iopub.execute_input": "2022-07-01T20:24:35.579805Z",
     "iopub.status.busy": "2022-07-01T20:24:35.579805Z",
     "iopub.status.idle": "2022-07-01T20:24:35.607284Z",
     "shell.execute_reply": "2022-07-01T20:24:35.607128Z",
     "shell.execute_reply.started": "2022-07-01T20:24:35.579805Z"
    },
    "tags": []
   },
   "outputs": [],
   "source": [
    "h = Var('h', 400, 'km') #\n",
    "a = adda(orbit, 'a', h + R, unit='km')\n",
    "T = adda(orbit, 'T', 2*np.pi*(a**3/μ)**0.5, unit='min')\n",
    "g = adda(orbit, 'g', 1/np.pi*sp.acos(R/a), unit='')\n",
    "d = adda(orbit, 'd', g+0.5)\n",
    "r = adda(orbit, 'r', (h**2+2*R*h)**0.5, unit='km')"
   ]
  },
  {
   "cell_type": "markdown",
   "id": "62fbeca4-cfd3-44c4-9b11-fb74ec1f0b59",
   "metadata": {
    "tags": []
   },
   "source": [
    "## Power"
   ]
  },
  {
   "cell_type": "code",
   "execution_count": 44,
   "id": "441cc243-69d4-4299-b64f-19e89c363694",
   "metadata": {
    "execution": {
     "iopub.execute_input": "2022-07-01T20:24:38.718846Z",
     "iopub.status.busy": "2022-07-01T20:24:38.718846Z",
     "iopub.status.idle": "2022-07-01T20:24:38.731602Z",
     "shell.execute_reply": "2022-07-01T20:24:38.731153Z",
     "shell.execute_reply.started": "2022-07-01T20:24:38.718846Z"
    },
    "tags": []
   },
   "outputs": [],
   "source": [
    "power = addsolver(m, name='power')"
   ]
  },
  {
   "cell_type": "code",
   "execution_count": 45,
   "id": "72ede195-4fe3-4d48-9740-e7657f94f92a",
   "metadata": {
    "execution": {
     "iopub.execute_input": "2022-07-01T20:24:39.014835Z",
     "iopub.status.busy": "2022-07-01T20:24:39.014835Z",
     "iopub.status.idle": "2022-07-01T20:24:39.044343Z",
     "shell.execute_reply": "2022-07-01T20:24:39.044343Z",
     "shell.execute_reply.started": "2022-07-01T20:24:39.014835Z"
    },
    "tags": []
   },
   "outputs": [],
   "source": [
    "eta_A = Par(r'\\eta_A', 0.3)\n",
    "rho_A = Par(r'\\rho_A', 10, 'kg/m^2') #\n",
    "#ρ_A, η_A = ρ_Ai[solar], η_Ai[solar]\n",
    "A = Var('A', 0.05, unit='m^2')\n",
    "m_A = adda(power, 'm_A', rho_A*A, unit='g')\n",
    "P_c = adda(power, 'P_c', d*A*Q*eta_A, unit='W')\n",
    "P_T = adda(power, 'P_T', P_c-P_l, unit='W') #hack\n",
    "E_b = adda(power, 'E_b', P_c*T/d, unit='kJ')\n",
    "rho_b = Par(r'\\rho_b', 0.002, 'kg/kJ')\n",
    "m_b = adda(power, 'm_b', rho_b*E_b, unit='g')\n",
    "#E_b, m_b = E_bi[bat], m_bi[bat]"
   ]
  },
  {
   "cell_type": "markdown",
   "id": "51855427-b668-42eb-beb4-cf99cfeff29b",
   "metadata": {},
   "source": [
    "## Payload"
   ]
  },
  {
   "cell_type": "code",
   "execution_count": 46,
   "id": "d877b307-a9de-4109-931b-c1172a151495",
   "metadata": {
    "execution": {
     "iopub.execute_input": "2022-07-01T20:24:45.634957Z",
     "iopub.status.busy": "2022-07-01T20:24:45.634957Z",
     "iopub.status.idle": "2022-07-01T20:24:45.643093Z",
     "shell.execute_reply": "2022-07-01T20:24:45.643093Z",
     "shell.execute_reply.started": "2022-07-01T20:24:45.634957Z"
    },
    "tags": []
   },
   "outputs": [],
   "source": [
    "payload = addsolver(m, name='payload')"
   ]
  },
  {
   "cell_type": "code",
   "execution_count": 47,
   "id": "47b296c5-43f3-4575-aafc-16548576cd88",
   "metadata": {
    "execution": {
     "iopub.execute_input": "2022-07-01T20:24:46.154167Z",
     "iopub.status.busy": "2022-07-01T20:24:46.154167Z",
     "iopub.status.idle": "2022-07-01T20:24:46.178348Z",
     "shell.execute_reply": "2022-07-01T20:24:46.178348Z",
     "shell.execute_reply.started": "2022-07-01T20:24:46.154167Z"
    },
    "tags": []
   },
   "outputs": [],
   "source": [
    "X_r = Var('X_r', 5, 'm')\n",
    "D_p = adda(payload, 'D_p', 1.22*l_v*h/X_r)\n",
    "D = adda(payload, 'D', 2*np.pi*R*B*N/X_r, unit='GB')\n",
    "rho_p = Par(r'\\rho_p', 2, 'kg/m^1.5') \n",
    "#D_p, m_p = D_pi[payload], m_pi[payload]\n",
    "m_p = adda(payload, 'm_p', rho_p*D_p**1.5, unit='g')"
   ]
  },
  {
   "cell_type": "code",
   "execution_count": 48,
   "id": "827027db-fe00-4f17-9c5b-fc323673b0c1",
   "metadata": {
    "execution": {
     "iopub.execute_input": "2022-07-01T20:24:46.394970Z",
     "iopub.status.busy": "2022-07-01T20:24:46.394970Z",
     "iopub.status.idle": "2022-07-01T20:24:46.408852Z",
     "shell.execute_reply": "2022-07-01T20:24:46.408238Z",
     "shell.execute_reply.started": "2022-07-01T20:24:46.394970Z"
    },
    "tags": []
   },
   "outputs": [],
   "source": [
    "#payload = addsolver(m, geteqs(m, [D_p, D, m_p]), [], name='payload')"
   ]
  },
  {
   "cell_type": "markdown",
   "id": "87cbc428-558e-449a-88c5-2f6d0b802cce",
   "metadata": {},
   "source": [
    "## Comms"
   ]
  },
  {
   "cell_type": "code",
   "execution_count": 49,
   "id": "56565f50-461e-44e2-b9cc-694b1cbfc609",
   "metadata": {
    "execution": {
     "iopub.execute_input": "2022-07-01T20:24:50.035158Z",
     "iopub.status.busy": "2022-07-01T20:24:50.035158Z",
     "iopub.status.idle": "2022-07-01T20:24:50.043481Z",
     "shell.execute_reply": "2022-07-01T20:24:50.043174Z",
     "shell.execute_reply.started": "2022-07-01T20:24:50.035158Z"
    },
    "tags": []
   },
   "outputs": [],
   "source": [
    "comms = addsolver(m, name='comms')"
   ]
  },
  {
   "cell_type": "code",
   "execution_count": 50,
   "id": "38eecc0d-6b88-4d03-8221-457d361a5052",
   "metadata": {
    "execution": {
     "iopub.execute_input": "2022-07-01T20:24:50.295119Z",
     "iopub.status.busy": "2022-07-01T20:24:50.295119Z",
     "iopub.status.idle": "2022-07-01T20:24:50.344997Z",
     "shell.execute_reply": "2022-07-01T20:24:50.344105Z",
     "shell.execute_reply.started": "2022-07-01T20:24:50.295119Z"
    },
    "tags": []
   },
   "outputs": [],
   "source": [
    "b = adda(comms, 'b', D/T, unit='MB/s')\n",
    "λ_c = adda(comms, r'\\lambda_c', c/f, unit='cm')\n",
    "G_T = Par('G_T', dBtoLinear(16.5), '')\n",
    "D_T = adda(comms, 'D_T', λ_c*(G_T/eta)**0.5/np.pi, unit='m')\n",
    "rho_T = Par(r'\\rho_T', 0.2, 'kg/m^1.5')\n",
    "m_T = adda(comms, 'm_T', rho_T*D_T**1.5, unit='g')\n",
    "#m_T, P_T, G_T = m_Ti[comms], P_Ti[comms], G_Ti[comms]\n",
    "G_r = adda(comms, 'G_r', eta*(np.pi*D_r/λ_c)**2)\n",
    "EN = adda(comms, 'EN', P_T*G_r*G_T/(L*k*T_s*b)*(λ_c/(4*np.pi*r))**2, unit='')"
   ]
  },
  {
   "cell_type": "code",
   "execution_count": 51,
   "id": "a6e2e8e7-9227-4e62-bc03-8d6801afc7a7",
   "metadata": {
    "execution": {
     "iopub.execute_input": "2022-07-01T20:24:50.716214Z",
     "iopub.status.busy": "2022-07-01T20:24:50.716214Z",
     "iopub.status.idle": "2022-07-01T20:24:50.724588Z",
     "shell.execute_reply": "2022-07-01T20:24:50.724588Z",
     "shell.execute_reply.started": "2022-07-01T20:24:50.716214Z"
    },
    "tags": []
   },
   "outputs": [],
   "source": [
    "#comms = addsolver(m, geteqs(m, [b, λ_c, D_T, m_T, G_r, EN]), [], name='comms')"
   ]
  },
  {
   "cell_type": "markdown",
   "id": "9d167992-9c25-4a84-9e66-fd9428ae0e3d",
   "metadata": {},
   "source": [
    "## Mass and struct"
   ]
  },
  {
   "cell_type": "code",
   "execution_count": 52,
   "id": "31b1491a-8558-4ee6-a3c1-0ea6f7aa0a19",
   "metadata": {
    "execution": {
     "iopub.execute_input": "2022-07-01T20:24:55.289857Z",
     "iopub.status.busy": "2022-07-01T20:24:55.289857Z",
     "iopub.status.idle": "2022-07-01T20:24:55.304718Z",
     "shell.execute_reply": "2022-07-01T20:24:55.304363Z",
     "shell.execute_reply.started": "2022-07-01T20:24:55.289857Z"
    },
    "tags": []
   },
   "outputs": [],
   "source": [
    "struct = addsolver(m, name='struct')\n",
    "mt = Var('m_t', unit='kg')\n",
    "eta_S = Par(r'\\eta_S', 0.2)\n",
    "m_s = adda(struct, 'm_s', eta_S*mt, unit='g')"
   ]
  },
  {
   "cell_type": "code",
   "execution_count": 53,
   "id": "bcb17d1a-9dbf-4281-a65f-0d976ee914ee",
   "metadata": {
    "execution": {
     "iopub.execute_input": "2022-07-01T20:24:58.150120Z",
     "iopub.status.busy": "2022-07-01T20:24:58.150120Z",
     "iopub.status.idle": "2022-07-01T20:24:58.171702Z",
     "shell.execute_reply": "2022-07-01T20:24:58.170697Z",
     "shell.execute_reply.started": "2022-07-01T20:24:58.150120Z"
    },
    "tags": []
   },
   "outputs": [
    {
     "data": {
      "text/latex": [
       "$m_t=0.998\\ \\mathrm{kg}\\ (m_s=200 )$"
      ],
      "text/plain": [
       "m_t"
      ]
     },
     "execution_count": 53,
     "metadata": {},
     "output_type": "execute_result"
    }
   ],
   "source": [
    "mass = addsolver(m, name='mass')\n",
    "adda(mass, mt, m_T+m_p+m_b+m_A+m_s)"
   ]
  },
  {
   "cell_type": "code",
   "execution_count": 54,
   "id": "268607d8-ba96-43ac-a703-c03a04df4c2c",
   "metadata": {
    "execution": {
     "iopub.execute_input": "2022-07-01T20:25:01.117867Z",
     "iopub.status.busy": "2022-07-01T20:25:01.117867Z",
     "iopub.status.idle": "2022-07-01T20:25:01.126843Z",
     "shell.execute_reply": "2022-07-01T20:25:01.126843Z",
     "shell.execute_reply.started": "2022-07-01T20:25:01.117867Z"
    },
    "tags": []
   },
   "outputs": [],
   "source": [
    "# struct = addsolver(m, geteqs(m, [m_s]), [], name='struct')\n",
    "# mass = addsolver(m, geteqs(m, [mt]), [], name='mass')"
   ]
  },
  {
   "cell_type": "markdown",
   "id": "b5363441-ceca-4883-a9a1-ffd6ef5448b7",
   "metadata": {
    "tags": []
   },
   "source": [
    "## Propulsion"
   ]
  },
  {
   "cell_type": "code",
   "execution_count": 55,
   "id": "ab5f6150-c141-4d6f-9237-9ba7bc21336a",
   "metadata": {
    "execution": {
     "iopub.execute_input": "2022-07-01T20:25:03.470593Z",
     "iopub.status.busy": "2022-07-01T20:25:03.470593Z",
     "iopub.status.idle": "2022-07-01T20:25:03.478850Z",
     "shell.execute_reply": "2022-07-01T20:25:03.478850Z",
     "shell.execute_reply.started": "2022-07-01T20:25:03.470593Z"
    },
    "tags": []
   },
   "outputs": [],
   "source": [
    "prop = addsolver(m, name='prop')"
   ]
  },
  {
   "cell_type": "code",
   "execution_count": 56,
   "id": "36319b2c-b387-4bd7-8833-c8bb838a42a8",
   "metadata": {
    "execution": {
     "iopub.execute_input": "2022-07-01T20:25:03.835984Z",
     "iopub.status.busy": "2022-07-01T20:25:03.835984Z",
     "iopub.status.idle": "2022-07-01T20:25:03.843145Z",
     "shell.execute_reply": "2022-07-01T20:25:03.843145Z",
     "shell.execute_reply.started": "2022-07-01T20:25:03.835984Z"
    },
    "tags": []
   },
   "outputs": [],
   "source": [
    "H = implemented_function(sp.Function('H'), H_int)\n",
    "rho = implemented_function(sp.Function('rho'),  ρ_int)"
   ]
  },
  {
   "cell_type": "code",
   "execution_count": 57,
   "id": "235ea58f-2d31-41af-954f-bc24b1fb1f21",
   "metadata": {
    "execution": {
     "iopub.execute_input": "2022-07-01T20:25:04.104820Z",
     "iopub.status.busy": "2022-07-01T20:25:04.104820Z",
     "iopub.status.idle": "2022-07-01T20:25:04.134063Z",
     "shell.execute_reply": "2022-07-01T20:25:04.134063Z",
     "shell.execute_reply.started": "2022-07-01T20:25:04.104820Z"
    },
    "tags": []
   },
   "outputs": [],
   "source": [
    "L_min = Var('L_{min}', 5, 'yr')\n",
    "m_pr = Var('m_{pr}', 0.5, unit='kg')\n",
    "Hval = adda(prop, 'H_{val}', H(h*1e3), unit='m', forceunit=True)\n",
    "rhoval= adda(prop, r'\\rho_{val}', rho(h*1e3), unit='kg/m**3', forceunit=True)\n",
    "Ln = adda(prop, 'L_n', Hval*mt/(2*np.pi*C_D*A*rhoval*a**2)*T, unit='yr')\n",
    "Lp = adda(prop, 'L_p', m_pr*I_sp*G*a/(0.5*C_D*A*rhoval*μ), unit='yr')\n",
    "Lt = adda(prop, 'L_t', Ln+Lp, unit='yr')"
   ]
  },
  {
   "cell_type": "markdown",
   "id": "4085a9d3-1b17-4351-895c-014c075983b5",
   "metadata": {
    "execution": {
     "iopub.execute_input": "2022-06-15T14:51:14.747642Z",
     "iopub.status.busy": "2022-06-15T14:51:14.747642Z",
     "iopub.status.idle": "2022-06-15T14:51:14.758669Z",
     "shell.execute_reply": "2022-06-15T14:51:14.758669Z",
     "shell.execute_reply.started": "2022-06-15T14:51:14.747642Z"
    }
   },
   "source": [
    "# Run"
   ]
  },
  {
   "cell_type": "code",
   "execution_count": 58,
   "id": "5b55702f-6efe-4d30-96fa-56caee479c4e",
   "metadata": {
    "execution": {
     "iopub.execute_input": "2022-07-01T20:25:11.127032Z",
     "iopub.status.busy": "2022-07-01T20:25:11.127032Z",
     "iopub.status.idle": "2022-07-01T20:25:11.130936Z",
     "shell.execute_reply": "2022-07-01T20:25:11.130326Z",
     "shell.execute_reply.started": "2022-07-01T20:25:11.127032Z"
    },
    "tags": []
   },
   "outputs": [],
   "source": [
    "edges, tree = model.generate_formulation()"
   ]
  },
  {
   "cell_type": "code",
   "execution_count": 61,
   "id": "1daa6a89-cbec-41f7-bdde-39b99450fbe3",
   "metadata": {
    "execution": {
     "iopub.execute_input": "2022-07-01T20:25:18.920925Z",
     "iopub.status.busy": "2022-07-01T20:25:18.920925Z",
     "iopub.status.idle": "2022-07-01T20:25:18.937751Z",
     "shell.execute_reply": "2022-07-01T20:25:18.937450Z",
     "shell.execute_reply.started": "2022-07-01T20:25:18.920925Z"
    },
    "tags": []
   },
   "outputs": [],
   "source": [
    "DG = flat_graph_formulation(*edges)\n",
    "#merge_order = sort_scc(DG)\n",
    "#nedges, ntree = reorder_merge_solve(edges, tree, merge_order, 1, True)\n",
    "# to use this we also need to create residual components!"
   ]
  },
  {
   "cell_type": "code",
   "execution_count": 62,
   "id": "f3f2beac-cf18-47f0-91ba-8cef7bfb461a",
   "metadata": {
    "execution": {
     "iopub.execute_input": "2022-07-01T20:25:19.881687Z",
     "iopub.status.busy": "2022-07-01T20:25:19.881687Z",
     "iopub.status.idle": "2022-07-01T20:25:19.886931Z",
     "shell.execute_reply": "2022-07-01T20:25:19.886931Z",
     "shell.execute_reply.started": "2022-07-01T20:25:19.881687Z"
    },
    "tags": []
   },
   "outputs": [],
   "source": [
    "#components = [Component.fromsympy(right, tovar=left, component=key) for key,(left,right) in eqs.items()]\n",
    "#components += [Component.fromsympy(left-right, component=key, tovar=left if not left.forceunit else None, ignoretovar=True) for key,(left,right) in eqs.items()]"
   ]
  },
  {
   "cell_type": "code",
   "execution_count": 22,
   "id": "c684af64-0fda-49eb-9292-433e66b29e66",
   "metadata": {
    "execution": {
     "iopub.execute_input": "2022-07-01T20:17:51.124672Z",
     "iopub.status.busy": "2022-07-01T20:17:51.124672Z",
     "iopub.status.idle": "2022-07-01T20:17:51.140788Z",
     "shell.execute_reply": "2022-07-01T20:17:51.140562Z",
     "shell.execute_reply.started": "2022-07-01T20:17:51.124672Z"
    },
    "tags": []
   },
   "outputs": [],
   "source": [
    "# for now we are not using the generated ordering\n",
    "ordered_tree = tree \n",
    "ordered_edges = edges\n",
    "comp_options = model.comp_options\n",
    "var_options = model.var_options\n",
    "solvers_options = model.solvers_options\n",
    "solvers_options[1] = {'solver': 'GS', 'maxiter':20} #without derivatives\n",
    "nodetyperepr = model.nametyperepr\n",
    "namingfunc = namefromsympy(nodetyperepr)\n",
    "sequence = order_from_tree(ordered_tree[0], ordered_tree[1], ordered_edges[1])\n",
    "solvers_options = default_solver_options(ordered_tree, solvers_options)\n",
    "wf = mdao_workflow(sequence, solvers_options, comp_options, var_options)"
   ]
  },
  {
   "cell_type": "code",
   "execution_count": 23,
   "id": "d13b50ba-4e48-4f8f-9394-e66f84d1e85d",
   "metadata": {
    "execution": {
     "iopub.execute_input": "2022-07-01T20:17:51.304416Z",
     "iopub.status.busy": "2022-07-01T20:17:51.304416Z",
     "iopub.status.idle": "2022-07-01T20:17:51.312605Z",
     "shell.execute_reply": "2022-07-01T20:17:51.312414Z",
     "shell.execute_reply.started": "2022-07-01T20:17:51.304416Z"
    },
    "tags": []
   },
   "outputs": [],
   "source": [
    "components = model.components\n",
    "lookup_f = get_f(components, ordered_edges)\n",
    "wfmdao = mdao_workflow_with_args(wf, lookup_f, namingfunc)"
   ]
  },
  {
   "cell_type": "code",
   "execution_count": 24,
   "id": "2f4ea384-350a-4b76-a95a-2649dabb7f46",
   "metadata": {
    "execution": {
     "iopub.execute_input": "2022-07-01T20:17:51.492540Z",
     "iopub.status.busy": "2022-07-01T20:17:51.492540Z",
     "iopub.status.idle": "2022-07-01T20:17:51.519720Z",
     "shell.execute_reply": "2022-07-01T20:17:51.519519Z",
     "shell.execute_reply.started": "2022-07-01T20:17:51.492540Z"
    },
    "tags": []
   },
   "outputs": [],
   "source": [
    "prob, mdao_in, groups = build_archi(ordered_edges, ordered_tree, wfmdao, namingfunc, model.idmapping)"
   ]
  },
  {
   "cell_type": "code",
   "execution_count": 25,
   "id": "8943e748-1835-4783-8e14-5fb2ac9f295e",
   "metadata": {
    "execution": {
     "iopub.execute_input": "2022-07-01T20:17:51.725223Z",
     "iopub.status.busy": "2022-07-01T20:17:51.725223Z",
     "iopub.status.idle": "2022-07-01T20:17:51.924632Z",
     "shell.execute_reply": "2022-07-01T20:17:51.924632Z",
     "shell.execute_reply.started": "2022-07-01T20:17:51.725223Z"
    },
    "tags": []
   },
   "outputs": [
    {
     "name": "stdout",
     "output_type": "stream",
     "text": [
      "\n",
      "==\n",
      "s1\n",
      "==\n",
      "NL: NLBGS Converged in 9 iterations\n"
     ]
    }
   ],
   "source": [
    "prob.run_model()"
   ]
  },
  {
   "cell_type": "markdown",
   "id": "b65eda87-55c0-43de-acd7-94b15b98f269",
   "metadata": {},
   "source": [
    "# Results"
   ]
  },
  {
   "cell_type": "code",
   "execution_count": 26,
   "id": "e2aaf88d-a1ec-4a6b-9fe9-a41b345611c9",
   "metadata": {
    "execution": {
     "iopub.execute_input": "2022-07-01T20:17:52.265690Z",
     "iopub.status.busy": "2022-07-01T20:17:52.265690Z",
     "iopub.status.idle": "2022-07-01T20:17:52.274427Z",
     "shell.execute_reply": "2022-07-01T20:17:52.273387Z",
     "shell.execute_reply.started": "2022-07-01T20:17:52.265690Z"
    },
    "tags": []
   },
   "outputs": [],
   "source": [
    "from datastructures.postprocess import print_outputs, print_inputs"
   ]
  },
  {
   "cell_type": "code",
   "execution_count": 27,
   "id": "ed0e36f9-e5f2-4e46-9048-fec28181c0c3",
   "metadata": {
    "execution": {
     "iopub.execute_input": "2022-07-01T20:17:52.495194Z",
     "iopub.status.busy": "2022-07-01T20:17:52.495194Z",
     "iopub.status.idle": "2022-07-01T20:17:52.529070Z",
     "shell.execute_reply": "2022-07-01T20:17:52.529070Z",
     "shell.execute_reply.started": "2022-07-01T20:17:52.495194Z"
    },
    "tags": []
   },
   "outputs": [
    {
     "data": {
      "text/html": [
       "<div>\n",
       "<style scoped>\n",
       "    .dataframe tbody tr th:only-of-type {\n",
       "        vertical-align: middle;\n",
       "    }\n",
       "\n",
       "    .dataframe tbody tr th {\n",
       "        vertical-align: top;\n",
       "    }\n",
       "\n",
       "    .dataframe thead th {\n",
       "        text-align: right;\n",
       "    }\n",
       "</style>\n",
       "<table border=\"1\" class=\"dataframe\">\n",
       "  <thead>\n",
       "    <tr style=\"text-align: right;\">\n",
       "      <th></th>\n",
       "      <th>0</th>\n",
       "      <th>1</th>\n",
       "      <th>2</th>\n",
       "    </tr>\n",
       "  </thead>\n",
       "  <tbody>\n",
       "    <tr>\n",
       "      <th>0</th>\n",
       "      <td>$$k$$</td>\n",
       "      <td>1.381×10⁻²³</td>\n",
       "      <td>J/K</td>\n",
       "    </tr>\n",
       "    <tr>\n",
       "      <th>1</th>\n",
       "      <td>$$\\eta_c$$</td>\n",
       "      <td>0.55</td>\n",
       "      <td></td>\n",
       "    </tr>\n",
       "    <tr>\n",
       "      <th>2</th>\n",
       "      <td>$$\\rho_A$$</td>\n",
       "      <td>10</td>\n",
       "      <td>kg/m²</td>\n",
       "    </tr>\n",
       "    <tr>\n",
       "      <th>3</th>\n",
       "      <td>$$\\eta_S$$</td>\n",
       "      <td>0.2</td>\n",
       "      <td></td>\n",
       "    </tr>\n",
       "    <tr>\n",
       "      <th>4</th>\n",
       "      <td>$$N$$</td>\n",
       "      <td>2000</td>\n",
       "      <td></td>\n",
       "    </tr>\n",
       "    <tr>\n",
       "      <th>5</th>\n",
       "      <td>$$\\rho_b$$</td>\n",
       "      <td>0.002</td>\n",
       "      <td>kg/kJ</td>\n",
       "    </tr>\n",
       "    <tr>\n",
       "      <th>6</th>\n",
       "      <td>$$Isp$$</td>\n",
       "      <td>70</td>\n",
       "      <td>s</td>\n",
       "    </tr>\n",
       "    <tr>\n",
       "      <th>7</th>\n",
       "      <td>$$D_r$$</td>\n",
       "      <td>5.3</td>\n",
       "      <td>m</td>\n",
       "    </tr>\n",
       "    <tr>\n",
       "      <th>8</th>\n",
       "      <td>$$C_D$$</td>\n",
       "      <td>2.2</td>\n",
       "      <td></td>\n",
       "    </tr>\n",
       "    <tr>\n",
       "      <th>9</th>\n",
       "      <td>$$P_l$$</td>\n",
       "      <td>12</td>\n",
       "      <td>W</td>\n",
       "    </tr>\n",
       "    <tr>\n",
       "      <th>10</th>\n",
       "      <td>$$l_v$$</td>\n",
       "      <td>500</td>\n",
       "      <td>nm</td>\n",
       "    </tr>\n",
       "    <tr>\n",
       "      <th>11</th>\n",
       "      <td>$$m_{pr}$$</td>\n",
       "      <td>0.5</td>\n",
       "      <td>kg</td>\n",
       "    </tr>\n",
       "    <tr>\n",
       "      <th>12</th>\n",
       "      <td>$$B$$</td>\n",
       "      <td>8</td>\n",
       "      <td>bit</td>\n",
       "    </tr>\n",
       "    <tr>\n",
       "      <th>13</th>\n",
       "      <td>$$\\mu$$</td>\n",
       "      <td>3.986×10¹⁴</td>\n",
       "      <td>m³/s²</td>\n",
       "    </tr>\n",
       "    <tr>\n",
       "      <th>14</th>\n",
       "      <td>$$Q$$</td>\n",
       "      <td>1367</td>\n",
       "      <td>W/m²</td>\n",
       "    </tr>\n",
       "    <tr>\n",
       "      <th>15</th>\n",
       "      <td>$$G_T$$</td>\n",
       "      <td>44.668</td>\n",
       "      <td></td>\n",
       "    </tr>\n",
       "    <tr>\n",
       "      <th>16</th>\n",
       "      <td>$$c$$</td>\n",
       "      <td>2.990×10⁸</td>\n",
       "      <td>m/s</td>\n",
       "    </tr>\n",
       "    <tr>\n",
       "      <th>17</th>\n",
       "      <td>$$T_s$$</td>\n",
       "      <td>135</td>\n",
       "      <td>K</td>\n",
       "    </tr>\n",
       "    <tr>\n",
       "      <th>18</th>\n",
       "      <td>$$X_r$$</td>\n",
       "      <td>5</td>\n",
       "      <td>m</td>\n",
       "    </tr>\n",
       "    <tr>\n",
       "      <th>19</th>\n",
       "      <td>$$\\rho_p$$</td>\n",
       "      <td>2</td>\n",
       "      <td>kg/m¹⋅⁵</td>\n",
       "    </tr>\n",
       "    <tr>\n",
       "      <th>20</th>\n",
       "      <td>$$R$$</td>\n",
       "      <td>6378</td>\n",
       "      <td>km</td>\n",
       "    </tr>\n",
       "    <tr>\n",
       "      <th>21</th>\n",
       "      <td>$$\\eta_A$$</td>\n",
       "      <td>0.3</td>\n",
       "      <td></td>\n",
       "    </tr>\n",
       "    <tr>\n",
       "      <th>22</th>\n",
       "      <td>$$\\rho_T$$</td>\n",
       "      <td>0.2</td>\n",
       "      <td>kg/m¹⋅⁵</td>\n",
       "    </tr>\n",
       "    <tr>\n",
       "      <th>23</th>\n",
       "      <td>$$h$$</td>\n",
       "      <td>400</td>\n",
       "      <td>km</td>\n",
       "    </tr>\n",
       "    <tr>\n",
       "      <th>24</th>\n",
       "      <td>$$f$$</td>\n",
       "      <td>2.2</td>\n",
       "      <td>GHz</td>\n",
       "    </tr>\n",
       "    <tr>\n",
       "      <th>25</th>\n",
       "      <td>$$L$$</td>\n",
       "      <td>9.772</td>\n",
       "      <td></td>\n",
       "    </tr>\n",
       "    <tr>\n",
       "      <th>26</th>\n",
       "      <td>$$A$$</td>\n",
       "      <td>0.05</td>\n",
       "      <td>m²</td>\n",
       "    </tr>\n",
       "    <tr>\n",
       "      <th>27</th>\n",
       "      <td>$$G$$</td>\n",
       "      <td>9.81</td>\n",
       "      <td>m/s²</td>\n",
       "    </tr>\n",
       "  </tbody>\n",
       "</table>\n",
       "</div>"
      ],
      "text/plain": [
       "             0            1        2\n",
       "0        $$k$$  1.381×10⁻²³      J/K\n",
       "1   $$\\eta_c$$         0.55         \n",
       "2   $$\\rho_A$$           10    kg/m²\n",
       "3   $$\\eta_S$$          0.2         \n",
       "4        $$N$$         2000         \n",
       "5   $$\\rho_b$$        0.002    kg/kJ\n",
       "6      $$Isp$$           70        s\n",
       "7      $$D_r$$          5.3        m\n",
       "8      $$C_D$$          2.2         \n",
       "9      $$P_l$$           12        W\n",
       "10     $$l_v$$          500       nm\n",
       "11  $$m_{pr}$$          0.5       kg\n",
       "12       $$B$$            8      bit\n",
       "13     $$\\mu$$   3.986×10¹⁴    m³/s²\n",
       "14       $$Q$$         1367     W/m²\n",
       "15     $$G_T$$       44.668         \n",
       "16       $$c$$    2.990×10⁸      m/s\n",
       "17     $$T_s$$          135        K\n",
       "18     $$X_r$$            5        m\n",
       "19  $$\\rho_p$$            2  kg/m¹⋅⁵\n",
       "20       $$R$$         6378       km\n",
       "21  $$\\eta_A$$          0.3         \n",
       "22  $$\\rho_T$$          0.2  kg/m¹⋅⁵\n",
       "23       $$h$$          400       km\n",
       "24       $$f$$          2.2      GHz\n",
       "25       $$L$$        9.772         \n",
       "26       $$A$$         0.05       m²\n",
       "27       $$G$$         9.81     m/s²"
      ]
     },
     "execution_count": 27,
     "metadata": {},
     "output_type": "execute_result"
    }
   ],
   "source": [
    "print_inputs(model, prob, namingfunc, mdao_in, False, False)"
   ]
  },
  {
   "cell_type": "code",
   "execution_count": 28,
   "id": "0ffc794a-bcc8-48e7-8b55-fe4c74fb5c17",
   "metadata": {
    "execution": {
     "iopub.execute_input": "2022-07-01T20:17:53.589122Z",
     "iopub.status.busy": "2022-07-01T20:17:53.589122Z",
     "iopub.status.idle": "2022-07-01T20:17:53.611127Z",
     "shell.execute_reply": "2022-07-01T20:17:53.610875Z",
     "shell.execute_reply.started": "2022-07-01T20:17:53.589122Z"
    },
    "tags": []
   },
   "outputs": [
    {
     "data": {
      "text/html": [
       "<div>\n",
       "<style scoped>\n",
       "    .dataframe tbody tr th:only-of-type {\n",
       "        vertical-align: middle;\n",
       "    }\n",
       "\n",
       "    .dataframe tbody tr th {\n",
       "        vertical-align: top;\n",
       "    }\n",
       "\n",
       "    .dataframe thead th {\n",
       "        text-align: right;\n",
       "    }\n",
       "</style>\n",
       "<table border=\"1\" class=\"dataframe\">\n",
       "  <thead>\n",
       "    <tr style=\"text-align: right;\">\n",
       "      <th></th>\n",
       "      <th>0</th>\n",
       "      <th>1</th>\n",
       "      <th>2</th>\n",
       "    </tr>\n",
       "  </thead>\n",
       "  <tbody>\n",
       "    <tr>\n",
       "      <th>0</th>\n",
       "      <td>$$a$$</td>\n",
       "      <td>6778</td>\n",
       "      <td>km</td>\n",
       "    </tr>\n",
       "    <tr>\n",
       "      <th>1</th>\n",
       "      <td>$$T$$</td>\n",
       "      <td>92.558</td>\n",
       "      <td>min</td>\n",
       "    </tr>\n",
       "    <tr>\n",
       "      <th>2</th>\n",
       "      <td>$$g$$</td>\n",
       "      <td>0.11</td>\n",
       "      <td></td>\n",
       "    </tr>\n",
       "    <tr>\n",
       "      <th>3</th>\n",
       "      <td>$$d$$</td>\n",
       "      <td>0.61</td>\n",
       "      <td></td>\n",
       "    </tr>\n",
       "    <tr>\n",
       "      <th>4</th>\n",
       "      <td>$$r$$</td>\n",
       "      <td>2293.992</td>\n",
       "      <td>km</td>\n",
       "    </tr>\n",
       "    <tr>\n",
       "      <th>5</th>\n",
       "      <td>$$m_A$$</td>\n",
       "      <td>500</td>\n",
       "      <td>g</td>\n",
       "    </tr>\n",
       "    <tr>\n",
       "      <th>6</th>\n",
       "      <td>$$P_c$$</td>\n",
       "      <td>12.506</td>\n",
       "      <td>W</td>\n",
       "    </tr>\n",
       "    <tr>\n",
       "      <th>7</th>\n",
       "      <td>$$P_T$$</td>\n",
       "      <td>0.506</td>\n",
       "      <td>W</td>\n",
       "    </tr>\n",
       "    <tr>\n",
       "      <th>8</th>\n",
       "      <td>$$E_b$$</td>\n",
       "      <td>113.874</td>\n",
       "      <td>kJ</td>\n",
       "    </tr>\n",
       "    <tr>\n",
       "      <th>9</th>\n",
       "      <td>$$m_b$$</td>\n",
       "      <td>227.747</td>\n",
       "      <td>g</td>\n",
       "    </tr>\n",
       "    <tr>\n",
       "      <th>10</th>\n",
       "      <td>$$D_p$$</td>\n",
       "      <td>0.049</td>\n",
       "      <td>m</td>\n",
       "    </tr>\n",
       "    <tr>\n",
       "      <th>11</th>\n",
       "      <td>$$D$$</td>\n",
       "      <td>16.03</td>\n",
       "      <td>GB</td>\n",
       "    </tr>\n",
       "    <tr>\n",
       "      <th>12</th>\n",
       "      <td>$$m_p$$</td>\n",
       "      <td>21.561</td>\n",
       "      <td>g</td>\n",
       "    </tr>\n",
       "    <tr>\n",
       "      <th>13</th>\n",
       "      <td>$$b$$</td>\n",
       "      <td>2.886</td>\n",
       "      <td>MB/s</td>\n",
       "    </tr>\n",
       "    <tr>\n",
       "      <th>14</th>\n",
       "      <td>$$\\lambda_c$$</td>\n",
       "      <td>13.591</td>\n",
       "      <td>cm</td>\n",
       "    </tr>\n",
       "    <tr>\n",
       "      <th>15</th>\n",
       "      <td>$$D_T$$</td>\n",
       "      <td>0.39</td>\n",
       "      <td>m</td>\n",
       "    </tr>\n",
       "    <tr>\n",
       "      <th>16</th>\n",
       "      <td>$$m_T$$</td>\n",
       "      <td>48.686</td>\n",
       "      <td>g</td>\n",
       "    </tr>\n",
       "    <tr>\n",
       "      <th>17</th>\n",
       "      <td>$$G_r$$</td>\n",
       "      <td>8255.002</td>\n",
       "      <td></td>\n",
       "    </tr>\n",
       "    <tr>\n",
       "      <th>18</th>\n",
       "      <td>$$EN$$</td>\n",
       "      <td>9.861</td>\n",
       "      <td></td>\n",
       "    </tr>\n",
       "    <tr>\n",
       "      <th>19</th>\n",
       "      <td>$$m_s$$</td>\n",
       "      <td>199.498</td>\n",
       "      <td>g</td>\n",
       "    </tr>\n",
       "    <tr>\n",
       "      <th>20</th>\n",
       "      <td>$$m_t$$</td>\n",
       "      <td>0.997</td>\n",
       "      <td>kg</td>\n",
       "    </tr>\n",
       "    <tr>\n",
       "      <th>21</th>\n",
       "      <td>$$H_{val}$$</td>\n",
       "      <td>5.820×10⁴</td>\n",
       "      <td>m</td>\n",
       "    </tr>\n",
       "    <tr>\n",
       "      <th>22</th>\n",
       "      <td>$$\\rho_{val}$$</td>\n",
       "      <td>2.720×10⁻¹²</td>\n",
       "      <td>kg/m³</td>\n",
       "    </tr>\n",
       "    <tr>\n",
       "      <th>23</th>\n",
       "      <td>$$L_n$$</td>\n",
       "      <td>0.118</td>\n",
       "      <td>yr</td>\n",
       "    </tr>\n",
       "    <tr>\n",
       "      <th>24</th>\n",
       "      <td>$$L_p$$</td>\n",
       "      <td>1.237</td>\n",
       "      <td>yr</td>\n",
       "    </tr>\n",
       "    <tr>\n",
       "      <th>25</th>\n",
       "      <td>$$L_t$$</td>\n",
       "      <td>1.355</td>\n",
       "      <td>yr</td>\n",
       "    </tr>\n",
       "  </tbody>\n",
       "</table>\n",
       "</div>"
      ],
      "text/plain": [
       "                 0            1      2\n",
       "0            $$a$$         6778     km\n",
       "1            $$T$$       92.558    min\n",
       "2            $$g$$         0.11       \n",
       "3            $$d$$         0.61       \n",
       "4            $$r$$     2293.992     km\n",
       "5          $$m_A$$          500      g\n",
       "6          $$P_c$$       12.506      W\n",
       "7          $$P_T$$        0.506      W\n",
       "8          $$E_b$$      113.874     kJ\n",
       "9          $$m_b$$      227.747      g\n",
       "10         $$D_p$$        0.049      m\n",
       "11           $$D$$        16.03     GB\n",
       "12         $$m_p$$       21.561      g\n",
       "13           $$b$$        2.886   MB/s\n",
       "14   $$\\lambda_c$$       13.591     cm\n",
       "15         $$D_T$$         0.39      m\n",
       "16         $$m_T$$       48.686      g\n",
       "17         $$G_r$$     8255.002       \n",
       "18          $$EN$$        9.861       \n",
       "19         $$m_s$$      199.498      g\n",
       "20         $$m_t$$        0.997     kg\n",
       "21     $$H_{val}$$    5.820×10⁴      m\n",
       "22  $$\\rho_{val}$$  2.720×10⁻¹²  kg/m³\n",
       "23         $$L_n$$        0.118     yr\n",
       "24         $$L_p$$        1.237     yr\n",
       "25         $$L_t$$        1.355     yr"
      ]
     },
     "execution_count": 28,
     "metadata": {},
     "output_type": "execute_result"
    }
   ],
   "source": [
    "print_outputs(model, prob, namingfunc, display=False)"
   ]
  },
  {
   "cell_type": "markdown",
   "id": "ef02d4b8-d2eb-4e84-9491-f1b0e39aae18",
   "metadata": {},
   "source": [
    "# Visualize structure"
   ]
  },
  {
   "cell_type": "code",
   "execution_count": 63,
   "id": "98f4b45d-64a4-4053-81f4-e5d85f1a7128",
   "metadata": {
    "execution": {
     "iopub.execute_input": "2022-07-01T20:25:32.627576Z",
     "iopub.status.busy": "2022-07-01T20:25:32.627576Z",
     "iopub.status.idle": "2022-07-01T20:25:32.641521Z",
     "shell.execute_reply": "2022-07-01T20:25:32.641434Z",
     "shell.execute_reply.started": "2022-07-01T20:25:32.627576Z"
    },
    "tags": []
   },
   "outputs": [],
   "source": [
    "Ein, Eout, Rin = edges\n",
    "Ein_noparam = {comp:tuple(var for var in compvars if not model.idmapping[var].always_input) for comp,compvars in Ein.items()}\n",
    "edges_noparam = Ein_noparam, Eout, Rin"
   ]
  },
  {
   "cell_type": "code",
   "execution_count": 66,
   "id": "9fdad441-9f64-4d04-9a7a-b5b309ac92d6",
   "metadata": {
    "execution": {
     "iopub.execute_input": "2022-07-01T20:25:59.877211Z",
     "iopub.status.busy": "2022-07-01T20:25:59.877211Z",
     "iopub.status.idle": "2022-07-01T20:25:59.895986Z",
     "shell.execute_reply": "2022-07-01T20:25:59.894961Z",
     "shell.execute_reply.started": "2022-07-01T20:25:59.877211Z"
    },
    "tags": []
   },
   "outputs": [],
   "source": [
    "from datastructures.graphutils import SOLVER, namefromid, copy_dicts\n",
    "nodetyperepr2 = {VAR: '{}', COMP: 'f_{{{}}}', SOLVER: '{}'}\n",
    "namingfunc2 = namefromid(nodetyperepr2)"
   ]
  },
  {
   "cell_type": "code",
   "execution_count": 73,
   "id": "c5f2865b-8f54-4fcd-92e9-2c025d986660",
   "metadata": {
    "execution": {
     "iopub.execute_input": "2022-07-01T20:28:28.426528Z",
     "iopub.status.busy": "2022-07-01T20:28:28.426528Z",
     "iopub.status.idle": "2022-07-01T20:28:28.435006Z",
     "shell.execute_reply": "2022-07-01T20:28:28.434334Z",
     "shell.execute_reply.started": "2022-07-01T20:28:28.426528Z"
    },
    "tags": []
   },
   "outputs": [],
   "source": [
    "tree2 = copy_dicts(tree)\n",
    "tree2[1].update({6: 9, 7: 9, 9:1})"
   ]
  },
  {
   "cell_type": "code",
   "execution_count": 74,
   "id": "d8758f97-81be-4065-a13f-ea5dba142dea",
   "metadata": {
    "execution": {
     "iopub.execute_input": "2022-07-01T20:28:30.882834Z",
     "iopub.status.busy": "2022-07-01T20:28:30.881836Z",
     "iopub.status.idle": "2022-07-01T20:28:31.770302Z",
     "shell.execute_reply": "2022-07-01T20:28:31.769744Z",
     "shell.execute_reply.started": "2022-07-01T20:28:30.882834Z"
    },
    "tags": []
   },
   "outputs": [
    {
     "data": {
      "image/png": "[encoded data removed]",
      "text/plain": [
       "<Figure size 864x864 with 1 Axes>"
      ]
     },
     "metadata": {
      "needs_background": "light"
     },
     "output_type": "display_data"
    }
   ],
   "source": [
    "_, ax = render_incidence(edges_noparam, tree2, namingfunc2, figsize=(12,12))"
   ]
  },
  {
   "cell_type": "markdown",
   "id": "bc3cffd1-f948-45ec-9b60-e1ac57512d99",
   "metadata": {},
   "source": [
    "### Tree & Graph"
   ]
  },
  {
   "cell_type": "code",
   "execution_count": 92,
   "id": "f3624b2d-6f7a-458e-bcfa-b7cd77bf5b26",
   "metadata": {
    "execution": {
     "iopub.execute_input": "2022-07-01T23:17:46.189867Z",
     "iopub.status.busy": "2022-07-01T23:17:46.189867Z",
     "iopub.status.idle": "2022-07-01T23:17:46.207789Z",
     "shell.execute_reply": "2022-07-01T23:17:46.207287Z",
     "shell.execute_reply.started": "2022-07-01T23:17:46.189867Z"
    },
    "tags": []
   },
   "outputs": [],
   "source": [
    "from datastructures.nestedgraph import build_typedgraph\n",
    "from datastructures.graphutils import draw_graph_graphical_props, all_solvers"
   ]
  },
  {
   "cell_type": "code",
   "execution_count": 90,
   "id": "e621bda9-b9ce-4902-92e1-59c2755214a6",
   "metadata": {
    "execution": {
     "iopub.execute_input": "2022-07-01T23:17:10.180524Z",
     "iopub.status.busy": "2022-07-01T23:17:10.179435Z",
     "iopub.status.idle": "2022-07-01T23:17:10.187337Z",
     "shell.execute_reply": "2022-07-01T23:17:10.186522Z",
     "shell.execute_reply.started": "2022-07-01T23:17:10.180524Z"
    }
   },
   "outputs": [],
   "source": [
    "from collections import defaultdict"
   ]
  },
  {
   "cell_type": "code",
   "execution_count": 108,
   "id": "7323caaa-d33e-43a0-9368-ffa0a1825d23",
   "metadata": {
    "execution": {
     "iopub.execute_input": "2022-07-01T23:22:06.480605Z",
     "iopub.status.busy": "2022-07-01T23:22:06.480605Z",
     "iopub.status.idle": "2022-07-01T23:22:06.492607Z",
     "shell.execute_reply": "2022-07-01T23:22:06.491695Z",
     "shell.execute_reply.started": "2022-07-01T23:22:06.480605Z"
    },
    "tags": []
   },
   "outputs": [],
   "source": [
    "graphs = build_typedgraph(edges, tree, nodetyperepr2)"
   ]
  },
  {
   "cell_type": "code",
   "execution_count": 156,
   "id": "fa8bbb98-1dc3-400b-b92f-da59c89a76ce",
   "metadata": {
    "execution": {
     "iopub.execute_input": "2022-07-01T23:35:41.663476Z",
     "iopub.status.busy": "2022-07-01T23:35:41.663476Z",
     "iopub.status.idle": "2022-07-01T23:35:41.682144Z",
     "shell.execute_reply": "2022-07-01T23:35:41.681225Z",
     "shell.execute_reply.started": "2022-07-01T23:35:41.663476Z"
    },
    "tags": []
   },
   "outputs": [],
   "source": [
    "Ein = defaultdict(list)\n",
    "Eout = defaultdict(list)\n",
    "Eout2 = dict()\n",
    "solvers = all_solvers(tree2)\n",
    "for key,var in graphs[1].edges():\n",
    "    if key.name in solvers:\n",
    "        Eout[key.name].append(var.name)\n",
    "    else:\n",
    "        Ein[var.name].append(key.name)\n",
    "Eout2 = dict({idx:(idx,) for idx in range(2,9)})\n",
    "for comp,varnames in Ein.items():\n",
    "    Ein2[comp] = tuple(set(outcomp for var in varnames for outcomp,outvar in Eout.items() if var in outvar))\n",
    "nodetyperepr3 = {VAR: 'x_{{{}}}', COMP: 'f_{{{}}}', SOLVER: '{}'}\n",
    "namingfunc3 = namefromid(nodetyperepr3)"
   ]
  },
  {
   "cell_type": "code",
   "execution_count": 161,
   "id": "f642cb53-db80-446a-b635-a6d63981b62e",
   "metadata": {
    "execution": {
     "iopub.execute_input": "2022-07-01T23:37:06.614655Z",
     "iopub.status.busy": "2022-07-01T23:37:06.614655Z",
     "iopub.status.idle": "2022-07-01T23:37:06.628657Z",
     "shell.execute_reply": "2022-07-01T23:37:06.628657Z",
     "shell.execute_reply.started": "2022-07-01T23:37:06.614655Z"
    }
   },
   "outputs": [],
   "source": [
    "tree3 = OrderedDict([(elt,1) for elt in range(2,9)])\n",
    "tree3[6] = 9\n",
    "tree3[7] = 9"
   ]
  },
  {
   "cell_type": "code",
   "execution_count": 163,
   "id": "2d6a0066-64db-48a9-8a26-f92b7f8413ea",
   "metadata": {
    "execution": {
     "iopub.execute_input": "2022-07-01T23:37:17.071996Z",
     "iopub.status.busy": "2022-07-01T23:37:17.071996Z",
     "iopub.status.idle": "2022-07-01T23:37:17.224939Z",
     "shell.execute_reply": "2022-07-01T23:37:17.224435Z",
     "shell.execute_reply.started": "2022-07-01T23:37:17.071996Z"
    },
    "tags": []
   },
   "outputs": [
    {
     "data": {
      "image/png": "[encoded data removed]",
      "text/plain": [
       "<Figure size 432x288 with 1 Axes>"
      ]
     },
     "metadata": {
      "needs_background": "light"
     },
     "output_type": "display_data"
    }
   ],
   "source": [
    "_, ax = render_incidence((Ein2, Eout2, dict()), (tree3,{9:1},dict()), namingfunc3)"
   ]
  },
  {
   "cell_type": "code",
   "execution_count": 104,
   "id": "dd35d8b9-5ba5-4cad-ab5c-a6300d9e2166",
   "metadata": {
    "execution": {
     "iopub.execute_input": "2022-07-01T23:19:45.927695Z",
     "iopub.status.busy": "2022-07-01T23:19:45.927695Z",
     "iopub.status.idle": "2022-07-01T23:19:45.931693Z",
     "shell.execute_reply": "2022-07-01T23:19:45.931693Z",
     "shell.execute_reply.started": "2022-07-01T23:19:45.927695Z"
    },
    "tags": []
   },
   "outputs": [
    {
     "data": {
      "text/plain": [
       "defaultdict(list,\n",
       "            {9: [m_A, m_b, m_T, m_p],\n",
       "             8: [m_t, a, A, h, \\mu, T],\n",
       "             3: [A, T, d],\n",
       "             4: [h, R],\n",
       "             2: [h, \\mu, R],\n",
       "             5: [T, r, D, P_T]})"
      ]
     },
     "execution_count": 104,
     "metadata": {},
     "output_type": "execute_result"
    }
   ],
   "source": [
    "Ein"
   ]
  },
  {
   "cell_type": "code",
   "execution_count": 89,
   "id": "db7542cc-f8da-484d-9b44-2b05c3719a69",
   "metadata": {
    "execution": {
     "iopub.execute_input": "2022-07-01T23:15:00.080664Z",
     "iopub.status.busy": "2022-07-01T23:15:00.079997Z",
     "iopub.status.idle": "2022-07-01T23:15:00.094541Z",
     "shell.execute_reply": "2022-07-01T23:15:00.093632Z",
     "shell.execute_reply.started": "2022-07-01T23:15:00.080664Z"
    },
    "tags": []
   },
   "outputs": [
    {
     "data": {
      "text/plain": [
       "OutEdgeView([(m_A, 9), (9, m_t), (m_b, 9), (m_T, 9), (m_p, 9), (m_t, 8), (a, 8), (A, 8), (A, 3), (h, 8), (h, 4), (h, 2), (\\mu, 8), (\\mu, 2), (T, 8), (T, 5), (T, 3), (r, 5), (5, m_T), (D, 5), (P_T, 5), (R, 4), (R, 2), (4, D), (4, m_p), (3, m_A), (3, m_b), (3, P_T), (d, 3), (2, r), (2, T), (2, a), (2, d)])"
      ]
     },
     "execution_count": 89,
     "metadata": {},
     "output_type": "execute_result"
    }
   ],
   "source": [
    "graphs[1].edges()"
   ]
  },
  {
   "cell_type": "code",
   "execution_count": 168,
   "id": "875b520c-7612-47dd-9091-fc296b0324ed",
   "metadata": {
    "execution": {
     "iopub.execute_input": "2022-07-01T23:38:34.269367Z",
     "iopub.status.busy": "2022-07-01T23:38:34.269367Z",
     "iopub.status.idle": "2022-07-01T23:38:34.883837Z",
     "shell.execute_reply": "2022-07-01T23:38:34.882835Z",
     "shell.execute_reply.started": "2022-07-01T23:38:34.269367Z"
    },
    "tags": []
   },
   "outputs": [
    {
     "data": {
      "image/png": "[encoded data removed]",
      "text/plain": [
       "<Figure size 720x720 with 1 Axes>"
      ]
     },
     "metadata": {},
     "output_type": "display_data"
    }
   ],
   "source": [
    "draw_graph_graphical_props(graphs[1], {}, prog='dot', figsize=(10,10))"
   ]
  },
  {
   "cell_type": "code",
   "execution_count": 19,
   "id": "6d5c113e-b5e4-43cc-be51-579a11d0bd27",
   "metadata": {
    "execution": {
     "iopub.execute_input": "2022-01-31T21:03:17.810666Z",
     "iopub.status.busy": "2022-01-31T21:03:17.810666Z",
     "iopub.status.idle": "2022-01-31T21:03:21.919668Z",
     "shell.execute_reply": "2022-01-31T21:03:21.917665Z",
     "shell.execute_reply.started": "2022-01-31T21:03:17.810666Z"
    },
    "tags": []
   },
   "outputs": [
    {
     "data": {
      "image/png": "[encoded data removed]",
      "text/plain": [
       "<Figure size 720x720 with 1 Axes>"
      ]
     },
     "metadata": {},
     "output_type": "display_data"
    }
   ],
   "source": [
    "drawfull(graphs[m], model.eqs, figsize=(10,10))"
   ]
  }
 ],
 "metadata": {
  "kernelspec": {
   "display_name": "Python [conda env:mdo]",
   "language": "python",
   "name": "conda-env-mdo-py"
  },
  "language_info": {
   "codemirror_mode": {
    "name": "ipython",
    "version": 3
   },
   "file_extension": ".py",
   "mimetype": "text/x-python",
   "name": "python",
   "nbconvert_exporter": "python",
   "pygments_lexer": "ipython3",
   "version": "3.9.7"
  }
 },
 "nbformat": 4,
 "nbformat_minor": 5
}
