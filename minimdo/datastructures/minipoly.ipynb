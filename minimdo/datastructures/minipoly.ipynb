{
 "cells": [
  {
   "cell_type": "code",
   "execution_count": 1,
   "id": "9b45856e-2b84-49e0-8105-78ea6c9034da",
   "metadata": {
    "execution": {
     "iopub.execute_input": "2022-05-04T03:49:02.273456Z",
     "iopub.status.busy": "2022-05-04T03:49:02.273456Z",
     "iopub.status.idle": "2022-05-04T03:49:03.971237Z",
     "shell.execute_reply": "2022-05-04T03:49:03.971237Z",
     "shell.execute_reply.started": "2022-05-04T03:49:02.273456Z"
    },
    "tags": []
   },
   "outputs": [],
   "source": [
    "from polycasebuilder import generate_random_polynomials, get_arg_mapping, directed_poly_executables, eqv_to_edges_tree\n",
    "from testproblems import generate_random_prob\n",
    "from graphutils import VAR, COMP, SOLVER, edges_to_Ein_Eout, sinks, sources, namefromid, all_components, nested_sources, path\n",
    "from workflow import OBJ, NEQ, EQ, OPT\n",
    "from runpipeline import nestedform_to_mdao\n",
    "import numpy as np\n",
    "from execution import Component\n",
    "from operators import sort_scc, reorder_merge_solve\n",
    "from representations import bipartite_repr\n",
    "from inputresolver import getallvars, direct_eqs, invert_edges\n",
    "from tearing import min_max_scc, outset_from_solution\n",
    "from compute import Var\n",
    "import openmdao.api as om\n",
    "import pandas as pd\n",
    "from functools import partial\n",
    "from collections import defaultdict"
   ]
  },
  {
   "cell_type": "code",
   "execution_count": 2,
   "id": "ff870d0a-9e45-48b1-8aba-8e5aa07df908",
   "metadata": {
    "execution": {
     "iopub.execute_input": "2022-05-04T03:49:03.971237Z",
     "iopub.status.busy": "2022-05-04T03:49:03.971237Z",
     "iopub.status.idle": "2022-05-04T03:49:03.987296Z",
     "shell.execute_reply": "2022-05-04T03:49:03.986375Z",
     "shell.execute_reply.started": "2022-05-04T03:49:03.971237Z"
    },
    "tags": []
   },
   "outputs": [],
   "source": [
    "from numpy import random"
   ]
  },
  {
   "cell_type": "code",
   "execution_count": 3,
   "id": "263ffb2b-3f5e-4973-97a0-4d7a6204502f",
   "metadata": {
    "execution": {
     "iopub.execute_input": "2022-05-04T03:49:03.988291Z",
     "iopub.status.busy": "2022-05-04T03:49:03.988291Z",
     "iopub.status.idle": "2022-05-04T03:49:04.002290Z",
     "shell.execute_reply": "2022-05-04T03:49:04.002290Z",
     "shell.execute_reply.started": "2022-05-04T03:49:03.988291Z"
    },
    "tags": []
   },
   "outputs": [],
   "source": [
    "nodetyperepr = {VAR: 'x_{{{}}}', COMP: 'f_{}', SOLVER: 's_{}'}\n",
    "namefunc = namefromid(nodetyperepr)"
   ]
  },
  {
   "cell_type": "code",
   "execution_count": 4,
   "id": "f544aa80-1da7-4d2c-a2d0-358c2c4dce96",
   "metadata": {
    "execution": {
     "iopub.execute_input": "2022-05-04T03:49:04.004292Z",
     "iopub.status.busy": "2022-05-04T03:49:04.003290Z",
     "iopub.status.idle": "2022-05-04T03:49:04.018293Z",
     "shell.execute_reply": "2022-05-04T03:49:04.017291Z",
     "shell.execute_reply.started": "2022-05-04T03:49:04.004292Z"
    },
    "tags": []
   },
   "outputs": [],
   "source": [
    "def generate_var(varids):\n",
    "    return [Var(namefunc(varid, VAR)) for varid in varids]"
   ]
  },
  {
   "cell_type": "code",
   "execution_count": 5,
   "id": "0b5c3be0-53f1-4f09-ba05-cae88a4f06c6",
   "metadata": {
    "execution": {
     "iopub.execute_input": "2022-05-04T03:49:04.083224Z",
     "iopub.status.busy": "2022-05-04T03:49:04.083224Z",
     "iopub.status.idle": "2022-05-04T03:49:04.095724Z",
     "shell.execute_reply": "2022-05-04T03:49:04.094810Z",
     "shell.execute_reply.started": "2022-05-04T03:49:04.083224Z"
    },
    "tags": []
   },
   "outputs": [],
   "source": [
    "#(5,10,7,1.7 no numerical issues)\n",
    "n_eqs = 5\n",
    "n_vars = 10\n",
    "seed = 9#8 is triang#seed 10 is nice 42 \n",
    "sparsity = 1.7#0.8 1.1 #1.7 1.3\n",
    "eqv, varinc, output_set = generate_random_prob(n_eqs, n_vars, seed, sparsity)\n",
    "#polynomials, var_mapping, edges, tree, components = generate_random_polynomials(eqv, output_set, n_eqs)"
   ]
  },
  {
   "cell_type": "code",
   "execution_count": 6,
   "id": "8f6515d9-7e89-4d8c-857d-0c9cf528075c",
   "metadata": {
    "execution": {
     "iopub.execute_input": "2022-05-04T03:49:04.445710Z",
     "iopub.status.busy": "2022-05-04T03:49:04.445710Z",
     "iopub.status.idle": "2022-05-04T03:49:04.465686Z",
     "shell.execute_reply": "2022-05-04T03:49:04.464766Z",
     "shell.execute_reply.started": "2022-05-04T03:49:04.445710Z"
    },
    "tags": []
   },
   "outputs": [
    {
     "data": {
      "text/plain": [
       "{0: (5, 6, 7, 10, 11, 12),\n",
       " 1: (6, 7, 9, 11, 12, 13, 5),\n",
       " 2: (5, 6, 8, 9, 10, 11, 12),\n",
       " 3: (6, 8, 11, 12, 14),\n",
       " 4: (5, 6, 8, 10, 11, 12, 13, 14, 7)}"
      ]
     },
     "execution_count": 6,
     "metadata": {},
     "output_type": "execute_result"
    }
   ],
   "source": [
    "eqv"
   ]
  },
  {
   "cell_type": "code",
   "execution_count": 7,
   "id": "fe09cfef-33e1-47c9-8eeb-8a952182ecee",
   "metadata": {
    "execution": {
     "iopub.execute_input": "2022-05-04T03:49:04.646184Z",
     "iopub.status.busy": "2022-05-04T03:49:04.645705Z",
     "iopub.status.idle": "2022-05-04T03:49:04.653184Z",
     "shell.execute_reply": "2022-05-04T03:49:04.653184Z",
     "shell.execute_reply.started": "2022-05-04T03:49:04.645705Z"
    },
    "tags": []
   },
   "outputs": [],
   "source": [
    "def optimal_formulation(eqv, output_set):\n",
    "    n_eqs = len(eqv)\n",
    "    _, edges_original = bipartite_repr(eqv)\n",
    "    eqs=direct_eqs(eqv, output_set)\n",
    "    avrs = getallvars(eqs, sympy=False)\n",
    "    eqns = eqs.keys()\n",
    "    graph_edges = invert_edges(edges_original)\n",
    "    maxl, m = min_max_scc(graph_edges, avrs, eqns, len(eqns))\n",
    "    best_outset = dict(outset_from_solution(m))\n",
    "    return best_outset"
   ]
  },
  {
   "cell_type": "code",
   "execution_count": 8,
   "id": "599f89e8-14cc-4e0e-b58a-01b9cde3b7d4",
   "metadata": {
    "execution": {
     "iopub.execute_input": "2022-05-04T03:49:04.999686Z",
     "iopub.status.busy": "2022-05-04T03:49:04.999686Z",
     "iopub.status.idle": "2022-05-04T03:49:05.009611Z",
     "shell.execute_reply": "2022-05-04T03:49:05.009401Z",
     "shell.execute_reply.started": "2022-05-04T03:49:04.999686Z"
    },
    "tags": []
   },
   "outputs": [],
   "source": [
    "def generate(g, limit=2):\n",
    "    def generator(*args):\n",
    "        for i in range(limit):\n",
    "            for elt in g(*args):\n",
    "                yield elt\n",
    "    return generator"
   ]
  },
  {
   "cell_type": "code",
   "execution_count": 9,
   "id": "c269ddfc-effd-48c3-9ec2-6f37cc1ec81b",
   "metadata": {
    "execution": {
     "iopub.execute_input": "2022-05-04T03:49:05.860361Z",
     "iopub.status.busy": "2022-05-04T03:49:05.860361Z",
     "iopub.status.idle": "2022-05-04T03:49:05.875359Z",
     "shell.execute_reply": "2022-05-04T03:49:05.874357Z",
     "shell.execute_reply.started": "2022-05-04T03:49:05.860361Z"
    },
    "tags": []
   },
   "outputs": [],
   "source": [
    "rng1 = np.random.default_rng(0);\n",
    "rng2 = np.random.default_rng(1);"
   ]
  },
  {
   "cell_type": "code",
   "execution_count": 10,
   "id": "7d3fbf90-81d4-4ca7-8609-ea481af4080c",
   "metadata": {
    "execution": {
     "iopub.execute_input": "2022-05-04T03:49:07.709588Z",
     "iopub.status.busy": "2022-05-04T03:49:07.709089Z",
     "iopub.status.idle": "2022-05-04T03:49:07.723589Z",
     "shell.execute_reply": "2022-05-04T03:49:07.723088Z",
     "shell.execute_reply.started": "2022-05-04T03:49:07.709588Z"
    },
    "tags": []
   },
   "outputs": [],
   "source": [
    "def g1(m,n,c,eqvs=None,outsets=None,randstruct=None):\n",
    "    s = int(rng1.integers(0, 2**16))\n",
    "    randstruct[(m,n,c)].append(s)\n",
    "    eqv, _, output_set = generate_random_prob(m, n, s, c)\n",
    "    output_set_opt = optimal_formulation(eqv, output_set)\n",
    "    eqvs[(m,n,c,s)] = eqv\n",
    "    outsets[(m,n,c,s,1)] = output_set\n",
    "    outsets[(m,n,c,s,2)] = output_set_opt\n",
    "    yield (m, n, c, s)"
   ]
  },
  {
   "cell_type": "code",
   "execution_count": 11,
   "id": "7e54318d-20a3-46fc-aaf3-9b3cf747113d",
   "metadata": {
    "execution": {
     "iopub.execute_input": "2022-05-04T03:49:08.053218Z",
     "iopub.status.busy": "2022-05-04T03:49:08.053218Z",
     "iopub.status.idle": "2022-05-04T03:49:08.063046Z",
     "shell.execute_reply": "2022-05-04T03:49:08.062429Z",
     "shell.execute_reply.started": "2022-05-04T03:49:08.053218Z"
    },
    "tags": []
   },
   "outputs": [],
   "source": [
    "def g2(m, n, c, s, randpoly=None):\n",
    "    r = int(rng2.integers(0, 2**31))\n",
    "    randpoly[(m,n,c,s)].append(r)\n",
    "    yield (m, n, c, s, 1, r)\n",
    "    yield (m, n, c, s, 2, r)"
   ]
  },
  {
   "cell_type": "code",
   "execution_count": 12,
   "id": "ae9d5177-49a0-499a-90c2-6fca47eb36c5",
   "metadata": {
    "execution": {
     "iopub.execute_input": "2022-05-04T03:49:09.437445Z",
     "iopub.status.busy": "2022-05-04T03:49:09.437445Z",
     "iopub.status.idle": "2022-05-04T03:49:09.443262Z",
     "shell.execute_reply": "2022-05-04T03:49:09.442506Z",
     "shell.execute_reply.started": "2022-05-04T03:49:09.437445Z"
    },
    "tags": []
   },
   "outputs": [],
   "source": [
    "def g3(*args):\n",
    "    yield tuple(args) + (True,)\n",
    "    yield tuple(args) + (False,)"
   ]
  },
  {
   "cell_type": "code",
   "execution_count": 13,
   "id": "bab7882e-5c4d-49a9-9bd6-6d78c5d109c5",
   "metadata": {
    "execution": {
     "iopub.execute_input": "2022-05-04T03:49:11.080793Z",
     "iopub.status.busy": "2022-05-04T03:49:11.079742Z",
     "iopub.status.idle": "2022-05-04T03:49:11.090486Z",
     "shell.execute_reply": "2022-05-04T03:49:11.089218Z",
     "shell.execute_reply.started": "2022-05-04T03:49:11.080793Z"
    },
    "tags": []
   },
   "outputs": [],
   "source": [
    "outsets = dict()\n",
    "eqvs = dict()\n",
    "randstruct = defaultdict(list)\n",
    "randpoly = defaultdict(list)"
   ]
  },
  {
   "cell_type": "code",
   "execution_count": 14,
   "id": "120900d5-2727-4602-9779-a9bba792c60e",
   "metadata": {
    "execution": {
     "iopub.execute_input": "2022-05-04T03:49:33.174723Z",
     "iopub.status.busy": "2022-05-04T03:49:33.174723Z",
     "iopub.status.idle": "2022-05-04T03:49:33.181287Z",
     "shell.execute_reply": "2022-05-04T03:49:33.180721Z",
     "shell.execute_reply.started": "2022-05-04T03:49:33.174723Z"
    },
    "tags": []
   },
   "outputs": [],
   "source": [
    "funtable = {\n",
    "    1: (generate(partial(g1, eqvs=eqvs,outsets=outsets, randstruct=randstruct), limit=10), 2),\n",
    "    2: (generate(partial(g2, randpoly=randpoly), limit=10), 3),\n",
    "    3: (g3, None)\n",
    "}"
   ]
  },
  {
   "cell_type": "code",
   "execution_count": 15,
   "id": "91256279-04a5-4e17-9ef3-fde3ab43ae1d",
   "metadata": {
    "execution": {
     "iopub.execute_input": "2022-05-04T03:49:35.872312Z",
     "iopub.status.busy": "2022-05-04T03:49:35.870316Z",
     "iopub.status.idle": "2022-05-04T03:49:35.938738Z",
     "shell.execute_reply": "2022-05-04T03:49:35.938738Z",
     "shell.execute_reply.started": "2022-05-04T03:49:35.871315Z"
    },
    "tags": []
   },
   "outputs": [
    {
     "name": "stdout",
     "output_type": "stream",
     "text": [
      "Set parameter Username\n",
      "Academic license - for non-commercial use only - expires 2023-02-25\n"
     ]
    }
   ],
   "source": [
    "q = [(1, (10, 15, 1))]\n",
    "output = []\n",
    "while q:\n",
    "    fid, args = q.pop()\n",
    "    if fid:\n",
    "        f, nextfid  = funtable[fid]\n",
    "        for elt in f(*args):\n",
    "            q.append((nextfid,elt))\n",
    "    else:\n",
    "        output.append(args)"
   ]
  },
  {
   "cell_type": "code",
   "execution_count": 16,
   "id": "69c55d41-604c-4013-bb98-fb95ab8bdd66",
   "metadata": {
    "execution": {
     "iopub.execute_input": "2022-05-04T03:49:36.333386Z",
     "iopub.status.busy": "2022-05-04T03:49:36.333386Z",
     "iopub.status.idle": "2022-05-04T03:49:36.345112Z",
     "shell.execute_reply": "2022-05-04T03:49:36.345112Z",
     "shell.execute_reply.started": "2022-05-04T03:49:36.333386Z"
    },
    "tags": []
   },
   "outputs": [],
   "source": [
    "def add_obj(inputids, var_mapping, edges, tree, components):\n",
    "    inputvars = [var_mapping[elt][0] for elt in inputids]\n",
    "    fobj = sum([(elt-1)**2 for elt in inputvars])\n",
    "    newidx = 'obj'\n",
    "    c = Component.fromsympy(fobj, component=newidx)\n",
    "    edges[0][newidx] = c.inputs\n",
    "    edges[1][newidx] = c.outputs\n",
    "    tree[0][newidx] = 1\n",
    "    return components+[c], newidx"
   ]
  },
  {
   "cell_type": "code",
   "execution_count": 17,
   "id": "0feeadfc-707a-4fdd-94cf-eeef8ee64378",
   "metadata": {
    "execution": {
     "iopub.execute_input": "2022-05-04T03:49:36.606146Z",
     "iopub.status.busy": "2022-05-04T03:49:36.606146Z",
     "iopub.status.idle": "2022-05-04T03:49:36.625161Z",
     "shell.execute_reply": "2022-05-04T03:49:36.625161Z",
     "shell.execute_reply.started": "2022-05-04T03:49:36.606146Z"
    },
    "tags": []
   },
   "outputs": [],
   "source": [
    "def generate_mdao_prob(inputids, var_mapping, edges, tree, components, mdf=True):\n",
    "    components, newidx = add_obj(inputids, var_mapping, edges, tree, components)\n",
    "    solvers_options = {1: {'type': OPT, 'disp':False}, 2:{'maxiter':200}}\n",
    "    comp_options = {newidx:OBJ}\n",
    "    dv = nested_sources(edges, tree, 1)\n",
    "    for elt in dv:\n",
    "        tree[2][elt] = 1\n",
    "    var_options = {}\n",
    "    nodetyperepr = {VAR: 'x{}', COMP: 'f_{}', SOLVER: 's_{}'}\n",
    "    prob, mdao_in, groups, formulation,merge_order = nestedform_to_mdao(edges, tree, components, solvers_options, comp_options, var_options, nodetyperepr, mdf)\n",
    "    return prob, groups, formulation, merge_order"
   ]
  },
  {
   "cell_type": "code",
   "execution_count": 40,
   "id": "269e5f50-8e0b-42b3-9ed4-63a64da65cda",
   "metadata": {
    "execution": {
     "iopub.execute_input": "2022-05-04T04:02:07.235308Z",
     "iopub.status.busy": "2022-05-04T04:02:07.235308Z",
     "iopub.status.idle": "2022-05-04T04:02:07.242655Z",
     "shell.execute_reply": "2022-05-04T04:02:07.242523Z",
     "shell.execute_reply.started": "2022-05-04T04:02:07.235308Z"
    }
   },
   "outputs": [],
   "source": [
    "def get_mdaoprobargs(outsets, eqvs, m, n, c, r1, M, r2, mdf):\n",
    "    outset = outsets[(m,n,c,r1,M)]\n",
    "    eqv = eqvs[(m,n,c,r1)]\n",
    "    n_eqs = len(eqv)\n",
    "    rng = np.random.default_rng(r2)\n",
    "    _, var_mapping, edges, tree, components = generate_random_polynomials(eqv, outset, n_eqs, rng)\n",
    "    inputids = sources(*edges_to_Ein_Eout(edges))\n",
    "    return inputids, var_mapping, edges, tree, components"
   ]
  },
  {
   "cell_type": "code",
   "execution_count": 41,
   "id": "67d11d99-4bf4-44c6-9b5d-bd5815cf79a1",
   "metadata": {
    "execution": {
     "iopub.execute_input": "2022-05-04T04:02:34.244748Z",
     "iopub.status.busy": "2022-05-04T04:02:34.243662Z",
     "iopub.status.idle": "2022-05-04T04:02:34.261658Z",
     "shell.execute_reply": "2022-05-04T04:02:34.260661Z",
     "shell.execute_reply.started": "2022-05-04T04:02:34.244748Z"
    },
    "tags": []
   },
   "outputs": [],
   "source": [
    "def generate_prob(outsets, eqvs, m, n, c, r1, M, r2, mdf):\n",
    "    inputids, var_mapping, edges, tree, components = get_mdaoprobargs(outsets, eqvs, m, n, c, r1, M, r2, mdf)\n",
    "    prob, groups, formulation,merge_order = generate_mdao_prob(inputids, var_mapping, edges, tree, components, mdf)\n",
    "    scc = [len(elt) for elt in merge_order if len(elt)>1]\n",
    "    try:\n",
    "        prob.set_solver_print(-1)\n",
    "        prob.run_driver()\n",
    "        Stree=formulation[1][1]\n",
    "        total_iters = 0\n",
    "        for key,var in Stree.items():\n",
    "            parent = groups['s_{}'.format(var)]\n",
    "            total_iters += getattr(parent, 's_{}'.format(key)).iter_count_apply\n",
    "        return prob.driver.result.fun, total_iters, scc\n",
    "    except:\n",
    "        return 9999, True, scc"
   ]
  },
  {
   "cell_type": "code",
   "execution_count": 19,
   "id": "817e8a88-4fdb-49e3-aaad-4c5affb3285e",
   "metadata": {
    "execution": {
     "iopub.execute_input": "2022-05-04T03:49:38.742094Z",
     "iopub.status.busy": "2022-05-04T03:49:38.742094Z",
     "iopub.status.idle": "2022-05-04T03:49:38.760170Z",
     "shell.execute_reply": "2022-05-04T03:49:38.760170Z",
     "shell.execute_reply.started": "2022-05-04T03:49:38.742094Z"
    },
    "tags": []
   },
   "outputs": [],
   "source": [
    "df = pd.DataFrame(output)\n",
    "df.set_axis(['m', 'n', 'c', 'r1', 'M', 'r2', 'mdf'], axis=1, inplace=True)"
   ]
  },
  {
   "cell_type": "code",
   "execution_count": 39,
   "id": "ece45303-cb55-4403-9c34-b8df3b13c7ed",
   "metadata": {
    "execution": {
     "iopub.execute_input": "2022-05-04T04:00:48.072083Z",
     "iopub.status.busy": "2022-05-04T04:00:48.072083Z",
     "iopub.status.idle": "2022-05-04T04:00:48.088661Z",
     "shell.execute_reply": "2022-05-04T04:00:48.087554Z",
     "shell.execute_reply.started": "2022-05-04T04:00:48.072083Z"
    },
    "tags": []
   },
   "outputs": [],
   "source": [
    "# for idx,elt in enumerate(df.iloc):\n",
    "#     if idx <= 1000:\n",
    "#         kwargs = {key:var for key,var in elt.items() if key not in ['fobj', 'niter', 'scc']}\n",
    "#         fobj, niter, scc = generate_prob(outsets, eqvs, **kwargs)\n",
    "#         df.loc[idx, 'fobj'] = np.round(fobj,2)\n",
    "#         df.loc[idx, 'niter'] = niter\n",
    "#         df.loc[idx, 'scc'] = str(scc)"
   ]
  },
  {
   "cell_type": "code",
   "execution_count": 31,
   "id": "d8104fee-f00d-4ffa-8855-63a0db4f676c",
   "metadata": {
    "execution": {
     "iopub.execute_input": "2022-05-04T03:58:27.564821Z",
     "iopub.status.busy": "2022-05-04T03:58:27.564821Z",
     "iopub.status.idle": "2022-05-04T03:58:27.586347Z",
     "shell.execute_reply": "2022-05-04T03:58:27.585932Z",
     "shell.execute_reply.started": "2022-05-04T03:58:27.564821Z"
    },
    "tags": []
   },
   "outputs": [
    {
     "data": {
      "text/plain": [
       "10"
      ]
     },
     "execution_count": 31,
     "metadata": {},
     "output_type": "execute_result"
    }
   ],
   "source": [
    "sum(df[(df[\"M\"]==1) & (df[\"r1\"]==53298) & (df[\"mdf\"]==True)]['niter']>=0.1)"
   ]
  },
  {
   "cell_type": "code",
   "execution_count": 34,
   "id": "85513750-293a-4aee-96c8-62dfa994e7c7",
   "metadata": {
    "execution": {
     "iopub.execute_input": "2022-05-04T03:59:29.646304Z",
     "iopub.status.busy": "2022-05-04T03:59:29.646304Z",
     "iopub.status.idle": "2022-05-04T03:59:29.666268Z",
     "shell.execute_reply": "2022-05-04T03:59:29.666268Z",
     "shell.execute_reply.started": "2022-05-04T03:59:29.646304Z"
    }
   },
   "outputs": [
    {
     "data": {
      "text/plain": [
       "defaultdict(list,\n",
       "            {(10, 15, 1): [55746,\n",
       "              41743,\n",
       "              33497,\n",
       "              17680,\n",
       "              20173,\n",
       "              2685,\n",
       "              4930,\n",
       "              1083,\n",
       "              11486,\n",
       "              53298]})"
      ]
     },
     "execution_count": 34,
     "metadata": {},
     "output_type": "execute_result"
    }
   ],
   "source": [
    "randstruct"
   ]
  },
  {
   "cell_type": "code",
   "execution_count": 61,
   "id": "2b37818f-4a4f-46d5-bc03-03e92d82f039",
   "metadata": {
    "execution": {
     "iopub.execute_input": "2022-05-04T12:50:42.376617Z",
     "iopub.status.busy": "2022-05-04T12:50:42.376617Z",
     "iopub.status.idle": "2022-05-04T12:50:42.399847Z",
     "shell.execute_reply": "2022-05-04T12:50:42.399847Z",
     "shell.execute_reply.started": "2022-05-04T12:50:42.376617Z"
    },
    "tags": []
   },
   "outputs": [
    {
     "data": {
      "text/html": [
       "<div>\n",
       "<style scoped>\n",
       "    .dataframe tbody tr th:only-of-type {\n",
       "        vertical-align: middle;\n",
       "    }\n",
       "\n",
       "    .dataframe tbody tr th {\n",
       "        vertical-align: top;\n",
       "    }\n",
       "\n",
       "    .dataframe thead th {\n",
       "        text-align: right;\n",
       "    }\n",
       "</style>\n",
       "<table border=\"1\" class=\"dataframe\">\n",
       "  <thead>\n",
       "    <tr style=\"text-align: right;\">\n",
       "      <th></th>\n",
       "      <th>m</th>\n",
       "      <th>n</th>\n",
       "      <th>c</th>\n",
       "      <th>r1</th>\n",
       "      <th>M</th>\n",
       "      <th>r2</th>\n",
       "      <th>mdf</th>\n",
       "      <th>fobj</th>\n",
       "      <th>niter</th>\n",
       "      <th>scc</th>\n",
       "    </tr>\n",
       "  </thead>\n",
       "  <tbody>\n",
       "    <tr>\n",
       "      <th>201</th>\n",
       "      <td>10</td>\n",
       "      <td>15</td>\n",
       "      <td>1</td>\n",
       "      <td>20173</td>\n",
       "      <td>2</td>\n",
       "      <td>2082898964</td>\n",
       "      <td>True</td>\n",
       "      <td>0.0</td>\n",
       "      <td>15</td>\n",
       "      <td>[2]</td>\n",
       "    </tr>\n",
       "    <tr>\n",
       "      <th>205</th>\n",
       "      <td>10</td>\n",
       "      <td>15</td>\n",
       "      <td>1</td>\n",
       "      <td>20173</td>\n",
       "      <td>2</td>\n",
       "      <td>692725761</td>\n",
       "      <td>True</td>\n",
       "      <td>0.0</td>\n",
       "      <td>21</td>\n",
       "      <td>[2]</td>\n",
       "    </tr>\n",
       "    <tr>\n",
       "      <th>209</th>\n",
       "      <td>10</td>\n",
       "      <td>15</td>\n",
       "      <td>1</td>\n",
       "      <td>20173</td>\n",
       "      <td>2</td>\n",
       "      <td>344997561</td>\n",
       "      <td>True</td>\n",
       "      <td>9999.0</td>\n",
       "      <td>True</td>\n",
       "      <td>[2]</td>\n",
       "    </tr>\n",
       "    <tr>\n",
       "      <th>213</th>\n",
       "      <td>10</td>\n",
       "      <td>15</td>\n",
       "      <td>1</td>\n",
       "      <td>20173</td>\n",
       "      <td>2</td>\n",
       "      <td>1558804748</td>\n",
       "      <td>True</td>\n",
       "      <td>0.0</td>\n",
       "      <td>804</td>\n",
       "      <td>[2]</td>\n",
       "    </tr>\n",
       "    <tr>\n",
       "      <th>217</th>\n",
       "      <td>10</td>\n",
       "      <td>15</td>\n",
       "      <td>1</td>\n",
       "      <td>20173</td>\n",
       "      <td>2</td>\n",
       "      <td>594619332</td>\n",
       "      <td>True</td>\n",
       "      <td>0.0</td>\n",
       "      <td>7</td>\n",
       "      <td>[2]</td>\n",
       "    </tr>\n",
       "    <tr>\n",
       "      <th>221</th>\n",
       "      <td>10</td>\n",
       "      <td>15</td>\n",
       "      <td>1</td>\n",
       "      <td>20173</td>\n",
       "      <td>2</td>\n",
       "      <td>1986274268</td>\n",
       "      <td>True</td>\n",
       "      <td>0.0</td>\n",
       "      <td>725</td>\n",
       "      <td>[2]</td>\n",
       "    </tr>\n",
       "    <tr>\n",
       "      <th>225</th>\n",
       "      <td>10</td>\n",
       "      <td>15</td>\n",
       "      <td>1</td>\n",
       "      <td>20173</td>\n",
       "      <td>2</td>\n",
       "      <td>1162275822</td>\n",
       "      <td>True</td>\n",
       "      <td>0.0</td>\n",
       "      <td>804</td>\n",
       "      <td>[2]</td>\n",
       "    </tr>\n",
       "    <tr>\n",
       "      <th>229</th>\n",
       "      <td>10</td>\n",
       "      <td>15</td>\n",
       "      <td>1</td>\n",
       "      <td>20173</td>\n",
       "      <td>2</td>\n",
       "      <td>629526661</td>\n",
       "      <td>True</td>\n",
       "      <td>0.0</td>\n",
       "      <td>475</td>\n",
       "      <td>[2]</td>\n",
       "    </tr>\n",
       "    <tr>\n",
       "      <th>233</th>\n",
       "      <td>10</td>\n",
       "      <td>15</td>\n",
       "      <td>1</td>\n",
       "      <td>20173</td>\n",
       "      <td>2</td>\n",
       "      <td>1556474546</td>\n",
       "      <td>True</td>\n",
       "      <td>0.0</td>\n",
       "      <td>15</td>\n",
       "      <td>[2]</td>\n",
       "    </tr>\n",
       "    <tr>\n",
       "      <th>237</th>\n",
       "      <td>10</td>\n",
       "      <td>15</td>\n",
       "      <td>1</td>\n",
       "      <td>20173</td>\n",
       "      <td>2</td>\n",
       "      <td>197792239</td>\n",
       "      <td>True</td>\n",
       "      <td>0.0</td>\n",
       "      <td>217</td>\n",
       "      <td>[2]</td>\n",
       "    </tr>\n",
       "  </tbody>\n",
       "</table>\n",
       "</div>"
      ],
      "text/plain": [
       "      m   n  c     r1  M          r2   mdf    fobj niter  scc\n",
       "201  10  15  1  20173  2  2082898964  True     0.0    15  [2]\n",
       "205  10  15  1  20173  2   692725761  True     0.0    21  [2]\n",
       "209  10  15  1  20173  2   344997561  True  9999.0  True  [2]\n",
       "213  10  15  1  20173  2  1558804748  True     0.0   804  [2]\n",
       "217  10  15  1  20173  2   594619332  True     0.0     7  [2]\n",
       "221  10  15  1  20173  2  1986274268  True     0.0   725  [2]\n",
       "225  10  15  1  20173  2  1162275822  True     0.0   804  [2]\n",
       "229  10  15  1  20173  2   629526661  True     0.0   475  [2]\n",
       "233  10  15  1  20173  2  1556474546  True     0.0    15  [2]\n",
       "237  10  15  1  20173  2   197792239  True     0.0   217  [2]"
      ]
     },
     "execution_count": 61,
     "metadata": {},
     "output_type": "execute_result"
    }
   ],
   "source": [
    "df[(df[\"M\"]==2) & (df[\"r1\"]==20173)& (df[\"mdf\"]==True)]"
   ]
  },
  {
   "cell_type": "code",
   "execution_count": 50,
   "id": "01d8f50e-3617-4268-bbf0-90ff831a95a5",
   "metadata": {
    "execution": {
     "iopub.execute_input": "2022-05-04T04:12:24.803296Z",
     "iopub.status.busy": "2022-05-04T04:12:24.803296Z",
     "iopub.status.idle": "2022-05-04T04:12:24.823461Z",
     "shell.execute_reply": "2022-05-04T04:12:24.822550Z",
     "shell.execute_reply.started": "2022-05-04T04:12:24.803296Z"
    }
   },
   "outputs": [
    {
     "data": {
      "text/html": [
       "<div>\n",
       "<style scoped>\n",
       "    .dataframe tbody tr th:only-of-type {\n",
       "        vertical-align: middle;\n",
       "    }\n",
       "\n",
       "    .dataframe tbody tr th {\n",
       "        vertical-align: top;\n",
       "    }\n",
       "\n",
       "    .dataframe thead th {\n",
       "        text-align: right;\n",
       "    }\n",
       "</style>\n",
       "<table border=\"1\" class=\"dataframe\">\n",
       "  <thead>\n",
       "    <tr style=\"text-align: right;\">\n",
       "      <th></th>\n",
       "      <th>m</th>\n",
       "      <th>n</th>\n",
       "      <th>c</th>\n",
       "      <th>r1</th>\n",
       "      <th>M</th>\n",
       "      <th>r2</th>\n",
       "      <th>mdf</th>\n",
       "      <th>fobj</th>\n",
       "      <th>niter</th>\n",
       "      <th>scc</th>\n",
       "    </tr>\n",
       "  </thead>\n",
       "  <tbody>\n",
       "    <tr>\n",
       "      <th>0</th>\n",
       "      <td>10</td>\n",
       "      <td>15</td>\n",
       "      <td>1</td>\n",
       "      <td>53298</td>\n",
       "      <td>2</td>\n",
       "      <td>669652944</td>\n",
       "      <td>False</td>\n",
       "      <td>0.0</td>\n",
       "      <td>0.0</td>\n",
       "      <td>[2]</td>\n",
       "    </tr>\n",
       "    <tr>\n",
       "      <th>1</th>\n",
       "      <td>10</td>\n",
       "      <td>15</td>\n",
       "      <td>1</td>\n",
       "      <td>53298</td>\n",
       "      <td>2</td>\n",
       "      <td>669652944</td>\n",
       "      <td>True</td>\n",
       "      <td>0.0</td>\n",
       "      <td>804.0</td>\n",
       "      <td>[2]</td>\n",
       "    </tr>\n",
       "    <tr>\n",
       "      <th>2</th>\n",
       "      <td>10</td>\n",
       "      <td>15</td>\n",
       "      <td>1</td>\n",
       "      <td>53298</td>\n",
       "      <td>1</td>\n",
       "      <td>669652944</td>\n",
       "      <td>False</td>\n",
       "      <td>0.0</td>\n",
       "      <td>0.0</td>\n",
       "      <td>[6]</td>\n",
       "    </tr>\n",
       "    <tr>\n",
       "      <th>3</th>\n",
       "      <td>10</td>\n",
       "      <td>15</td>\n",
       "      <td>1</td>\n",
       "      <td>53298</td>\n",
       "      <td>1</td>\n",
       "      <td>669652944</td>\n",
       "      <td>True</td>\n",
       "      <td>9999.0</td>\n",
       "      <td>True</td>\n",
       "      <td>[6]</td>\n",
       "    </tr>\n",
       "    <tr>\n",
       "      <th>4</th>\n",
       "      <td>10</td>\n",
       "      <td>15</td>\n",
       "      <td>1</td>\n",
       "      <td>53298</td>\n",
       "      <td>2</td>\n",
       "      <td>535214420</td>\n",
       "      <td>False</td>\n",
       "      <td>0.0</td>\n",
       "      <td>0</td>\n",
       "      <td>[2]</td>\n",
       "    </tr>\n",
       "    <tr>\n",
       "      <th>...</th>\n",
       "      <td>...</td>\n",
       "      <td>...</td>\n",
       "      <td>...</td>\n",
       "      <td>...</td>\n",
       "      <td>...</td>\n",
       "      <td>...</td>\n",
       "      <td>...</td>\n",
       "      <td>...</td>\n",
       "      <td>...</td>\n",
       "      <td>...</td>\n",
       "    </tr>\n",
       "    <tr>\n",
       "      <th>395</th>\n",
       "      <td>10</td>\n",
       "      <td>15</td>\n",
       "      <td>1</td>\n",
       "      <td>55746</td>\n",
       "      <td>1</td>\n",
       "      <td>1094134074</td>\n",
       "      <td>True</td>\n",
       "      <td>0.0</td>\n",
       "      <td>264</td>\n",
       "      <td>[9]</td>\n",
       "    </tr>\n",
       "    <tr>\n",
       "      <th>396</th>\n",
       "      <td>10</td>\n",
       "      <td>15</td>\n",
       "      <td>1</td>\n",
       "      <td>55746</td>\n",
       "      <td>2</td>\n",
       "      <td>1248920238</td>\n",
       "      <td>False</td>\n",
       "      <td>0.0</td>\n",
       "      <td>0</td>\n",
       "      <td>[]</td>\n",
       "    </tr>\n",
       "    <tr>\n",
       "      <th>397</th>\n",
       "      <td>10</td>\n",
       "      <td>15</td>\n",
       "      <td>1</td>\n",
       "      <td>55746</td>\n",
       "      <td>2</td>\n",
       "      <td>1248920238</td>\n",
       "      <td>True</td>\n",
       "      <td>0.0</td>\n",
       "      <td>0</td>\n",
       "      <td>[]</td>\n",
       "    </tr>\n",
       "    <tr>\n",
       "      <th>398</th>\n",
       "      <td>10</td>\n",
       "      <td>15</td>\n",
       "      <td>1</td>\n",
       "      <td>55746</td>\n",
       "      <td>1</td>\n",
       "      <td>1248920238</td>\n",
       "      <td>False</td>\n",
       "      <td>0.0</td>\n",
       "      <td>0</td>\n",
       "      <td>[9]</td>\n",
       "    </tr>\n",
       "    <tr>\n",
       "      <th>399</th>\n",
       "      <td>10</td>\n",
       "      <td>15</td>\n",
       "      <td>1</td>\n",
       "      <td>55746</td>\n",
       "      <td>1</td>\n",
       "      <td>1248920238</td>\n",
       "      <td>True</td>\n",
       "      <td>0.0</td>\n",
       "      <td>404</td>\n",
       "      <td>[9]</td>\n",
       "    </tr>\n",
       "  </tbody>\n",
       "</table>\n",
       "<p>400 rows × 10 columns</p>\n",
       "</div>"
      ],
      "text/plain": [
       "      m   n  c     r1  M          r2    mdf    fobj  niter  scc\n",
       "0    10  15  1  53298  2   669652944  False     0.0    0.0  [2]\n",
       "1    10  15  1  53298  2   669652944   True     0.0  804.0  [2]\n",
       "2    10  15  1  53298  1   669652944  False     0.0    0.0  [6]\n",
       "3    10  15  1  53298  1   669652944   True  9999.0   True  [6]\n",
       "4    10  15  1  53298  2   535214420  False     0.0      0  [2]\n",
       "..   ..  .. ..    ... ..         ...    ...     ...    ...  ...\n",
       "395  10  15  1  55746  1  1094134074   True     0.0    264  [9]\n",
       "396  10  15  1  55746  2  1248920238  False     0.0      0   []\n",
       "397  10  15  1  55746  2  1248920238   True     0.0      0   []\n",
       "398  10  15  1  55746  1  1248920238  False     0.0      0  [9]\n",
       "399  10  15  1  55746  1  1248920238   True     0.0    404  [9]\n",
       "\n",
       "[400 rows x 10 columns]"
      ]
     },
     "execution_count": 50,
     "metadata": {},
     "output_type": "execute_result"
    }
   ],
   "source": [
    "df"
   ]
  },
  {
   "cell_type": "code",
   "execution_count": 44,
   "id": "9e90dff1-b58b-426a-9296-97614a65a8a0",
   "metadata": {
    "execution": {
     "iopub.execute_input": "2022-05-04T04:03:29.243970Z",
     "iopub.status.busy": "2022-05-04T04:03:29.243970Z",
     "iopub.status.idle": "2022-05-04T04:03:29.560693Z",
     "shell.execute_reply": "2022-05-04T04:03:29.560693Z",
     "shell.execute_reply.started": "2022-05-04T04:03:29.243970Z"
    },
    "tags": []
   },
   "outputs": [],
   "source": [
    "elt = df.iloc[10]\n",
    "kwargs = {key:var for key,var in elt.items() if key not in ['fobj', 'niter', 'scc']}\n",
    "inputids, var_mapping, edges, tree, components = get_mdaoprobargs(outsets, eqvs, **kwargs)"
   ]
  },
  {
   "cell_type": "code",
   "execution_count": 45,
   "id": "ac2dcb10-8459-407b-a345-7e9bed6d2ba3",
   "metadata": {
    "execution": {
     "iopub.execute_input": "2022-05-04T04:03:32.289239Z",
     "iopub.status.busy": "2022-05-04T04:03:32.288739Z",
     "iopub.status.idle": "2022-05-04T04:03:32.307240Z",
     "shell.execute_reply": "2022-05-04T04:03:32.306337Z",
     "shell.execute_reply.started": "2022-05-04T04:03:32.289239Z"
    }
   },
   "outputs": [
    {
     "data": {
      "text/plain": [
       "[((11, 0), 0, (None,), '-0.1*x_0*x_11 + 0.3'),\n",
       " ((3, 14, 8, 5, 10), 1, (None,), '-0.6*x_10*x_3*x_5 - 0.4*x_14*x_8 - 0.4'),\n",
       " ((2, 6), 2, (None,), '-0.9*x_2*x_6 + 0.2'),\n",
       " ((11, 13, 4, 12), 3, (None,), '-0.2*x_11*x_13 - 0.5*x_12*x_4 - 0.3'),\n",
       " ((11, 0, 12), 4, (None,), '0.3*x_0*x_11*x_12 + 0.8'),\n",
       " ((11, 7, 8, 13), 5, (None,), '0.7*x_11*x_13*x_8 - 0.1*x_7 - 0.2'),\n",
       " ((3, 4), 6, (None,), '-0.4*x_3*x_4 - 0.9'),\n",
       " ((0, 4, 7, 8, 10), 7, (None,), '0.4*x_0*x_10*x_8 - 0.2*x_4*x_7 + 0.8'),\n",
       " ((7, 9), 8, (None,), '0.9*x_7*x_9 - 0.9'),\n",
       " ((11, 0, 4, 12), 9, (None,), '-0.5*x_0*x_12 + 0.3*x_11*x_4 - 0.6'),\n",
       " ((0,), 0, (11,), '3.0/x_0'),\n",
       " ((3, 8, 5, 10), 1, (14,), '-(1.5*x_10*x_3*x_5 + 1.0)/x_8'),\n",
       " ((2,), 2, (6,), '0.222222222222222/x_2'),\n",
       " ((11, 4, 12), 3, (13,), '-(2.5*x_12*x_4 + 1.5)/x_11'),\n",
       " ((11, 12), 4, (0,), '-2.66666666666667/(x_11*x_12)'),\n",
       " ((11, 8, 13), 5, (7,), '7.0*x_11*x_13*x_8 - 2.0'),\n",
       " ((4,), 6, (3,), '-2.25/x_4'),\n",
       " ((7, 8, 10, 0), 7, (4,), '(2.0*x_0*x_10*x_8 + 4.0)/x_7'),\n",
       " ((7,), 8, (9,), '1/x_7'),\n",
       " ((11, 0, 4), 9, (12,), '(0.6*x_11*x_4 - 1.2)/x_0')]"
      ]
     },
     "execution_count": 45,
     "metadata": {},
     "output_type": "execute_result"
    }
   ],
   "source": [
    "components"
   ]
  },
  {
   "cell_type": "code",
   "execution_count": 95,
   "id": "c2fcaed5-4b04-4dc8-b178-7b7ff764cd78",
   "metadata": {
    "execution": {
     "iopub.execute_input": "2022-05-04T02:57:38.553523Z",
     "iopub.status.busy": "2022-05-04T02:57:38.553523Z",
     "iopub.status.idle": "2022-05-04T02:57:38.792939Z",
     "shell.execute_reply": "2022-05-04T02:57:38.792939Z",
     "shell.execute_reply.started": "2022-05-04T02:57:38.553523Z"
    },
    "tags": []
   },
   "outputs": [],
   "source": [
    "inputids, var_mapping, edges, tree, components = generate_prob(outsets, eqvs, **df.iloc[10])\n",
    "prob,formulation = generate_mdao_prob(inputids, var_mapping, edges, tree, components)"
   ]
  },
  {
   "cell_type": "code",
   "execution_count": 96,
   "id": "9e259927-8237-422a-9d3d-9d1a26f8cc67",
   "metadata": {
    "execution": {
     "iopub.execute_input": "2022-05-04T02:57:38.948535Z",
     "iopub.status.busy": "2022-05-04T02:57:38.948535Z",
     "iopub.status.idle": "2022-05-04T02:57:38.966524Z",
     "shell.execute_reply": "2022-05-04T02:57:38.966524Z",
     "shell.execute_reply.started": "2022-05-04T02:57:38.948535Z"
    },
    "tags": []
   },
   "outputs": [
    {
     "data": {
      "text/plain": [
       "(OrderedDict([(3, 2), (1, 2), ('obj', 1), (0, 1), (2, 1), (4, 1)]),\n",
       " {2: 1},\n",
       " {8: 1, 1: 1, 3: 1, 6: 1, 7: 2, 5: 2})"
      ]
     },
     "execution_count": 96,
     "metadata": {},
     "output_type": "execute_result"
    }
   ],
   "source": [
    "formulation[1]"
   ]
  },
  {
   "cell_type": "code",
   "execution_count": 97,
   "id": "db92bf21-1d4a-4741-956f-4beedf3be990",
   "metadata": {
    "execution": {
     "iopub.execute_input": "2022-05-04T02:57:40.770993Z",
     "iopub.status.busy": "2022-05-04T02:57:40.770495Z",
     "iopub.status.idle": "2022-05-04T02:57:40.783490Z",
     "shell.execute_reply": "2022-05-04T02:57:40.782495Z",
     "shell.execute_reply.started": "2022-05-04T02:57:40.770993Z"
    },
    "tags": []
   },
   "outputs": [],
   "source": [
    "#prob.set_solver_print(-1)"
   ]
  },
  {
   "cell_type": "code",
   "execution_count": 98,
   "id": "ec50e80d-e7c7-4af9-836b-c717d6950db2",
   "metadata": {
    "execution": {
     "iopub.execute_input": "2022-05-04T02:57:41.104218Z",
     "iopub.status.busy": "2022-05-04T02:57:41.104218Z",
     "iopub.status.idle": "2022-05-04T02:57:41.234326Z",
     "shell.execute_reply": "2022-05-04T02:57:41.234146Z",
     "shell.execute_reply.started": "2022-05-04T02:57:41.104218Z"
    },
    "tags": []
   },
   "outputs": [
    {
     "name": "stdout",
     "output_type": "stream",
     "text": [
      "\n",
      "=======\n",
      "s_1.s_2\n",
      "=======\n",
      "NL: Newton Converged in 7 iterations\n",
      "\n",
      "=======\n",
      "s_1.s_2\n",
      "=======\n",
      "NL: Newton Converged in 1 iterations\n",
      "\n",
      "=======\n",
      "s_1.s_2\n",
      "=======\n",
      "NL: Newton Converged in 5 iterations\n",
      "\n",
      "=======\n",
      "s_1.s_2\n",
      "=======\n",
      "NL: Newton Converged in 4 iterations\n"
     ]
    }
   ],
   "source": [
    "prob.run_driver();"
   ]
  },
  {
   "cell_type": "code",
   "execution_count": 99,
   "id": "a6635c43-731d-4faa-aa1a-8e49f43c0bdf",
   "metadata": {
    "execution": {
     "iopub.execute_input": "2022-05-04T02:57:46.190360Z",
     "iopub.status.busy": "2022-05-04T02:57:46.190360Z",
     "iopub.status.idle": "2022-05-04T02:57:46.205936Z",
     "shell.execute_reply": "2022-05-04T02:57:46.205463Z",
     "shell.execute_reply.started": "2022-05-04T02:57:46.190360Z"
    },
    "tags": []
   },
   "outputs": [],
   "source": [
    "#prob.model.s_1.s_2.iter_count_apply"
   ]
  },
  {
   "cell_type": "code",
   "execution_count": 100,
   "id": "15261ec0-6f03-47da-9f14-bed4711620e9",
   "metadata": {
    "execution": {
     "iopub.execute_input": "2022-05-04T02:57:46.325167Z",
     "iopub.status.busy": "2022-05-04T02:57:46.325167Z",
     "iopub.status.idle": "2022-05-04T02:57:46.344233Z",
     "shell.execute_reply": "2022-05-04T02:57:46.344233Z",
     "shell.execute_reply.started": "2022-05-04T02:57:46.325167Z"
    },
    "tags": []
   },
   "outputs": [
    {
     "data": {
      "text/plain": [
       "array([0.])"
      ]
     },
     "execution_count": 100,
     "metadata": {},
     "output_type": "execute_result"
    }
   ],
   "source": [
    "prob.driver.result.fun"
   ]
  },
  {
   "cell_type": "code",
   "execution_count": 212,
   "id": "1ad6b9d2-e415-485a-a22d-8a5522cb805b",
   "metadata": {
    "execution": {
     "iopub.execute_input": "2022-05-04T02:13:05.203311Z",
     "iopub.status.busy": "2022-05-04T02:13:05.203311Z",
     "iopub.status.idle": "2022-05-04T02:13:05.213255Z",
     "shell.execute_reply": "2022-05-04T02:13:05.213090Z",
     "shell.execute_reply.started": "2022-05-04T02:13:05.203311Z"
    },
    "tags": []
   },
   "outputs": [],
   "source": [
    "components, newidx = add_obj(inputids, var_mapping, edges, tree, components)\n",
    "solvers_options = {1: {'type': OPT}, 2:{'maxiter':100}}\n",
    "comp_options = {newidx:OBJ}\n",
    "var_options = {}\n",
    "nodetyperepr = {VAR: 'x{}', COMP: 'f_{}', SOLVER: 's_{}'}\n",
    "#prob, mdao_in, groups = nestedform_to_mdao(edges, tree, components, solvers_options, comp_options, var_options, nodetyperepr, mdf=True)"
   ]
  },
  {
   "cell_type": "code",
   "execution_count": 171,
   "id": "3c5f74a4-db13-4f90-b29e-7de46a83b1ec",
   "metadata": {
    "execution": {
     "iopub.execute_input": "2022-05-04T02:07:48.510491Z",
     "iopub.status.busy": "2022-05-04T02:07:48.509991Z",
     "iopub.status.idle": "2022-05-04T02:07:48.528487Z",
     "shell.execute_reply": "2022-05-04T02:07:48.528487Z",
     "shell.execute_reply.started": "2022-05-04T02:07:48.510491Z"
    },
    "tags": []
   },
   "outputs": [
    {
     "data": {
      "text/plain": [
       "[((1, 5, 0, 6, 2), 0, (None,), '0.4*x_0*x_2*x_6 - 0.5*x_1*x_5 + 0.1'),\n",
       " ((8, 5), 1, (None,), '0.6*x_5*x_8 + 0.5'),\n",
       " ((8, 6, 5, 0), 2, (None,), '0.3*x_0*x_6 + 0.8*x_5*x_8 - 0.2'),\n",
       " ((6, 4), 3, (None,), '-0.2*x_4*x_6 - 0.3'),\n",
       " ((1, 2), 4, (None,), '1.0*x_1*x_2 + 0.4'),\n",
       " ((5, 1, 2, 0), 0, (6,), '(1.25*x_1*x_5 - 0.25)/(x_0*x_2)'),\n",
       " ((5,), 1, (8,), '-0.833333333333333/x_5'),\n",
       " ((8, 6, 5), 2, (0,), '(-2.66666666666667*x_5*x_8 + 0.666666666666667)/x_6'),\n",
       " ((6,), 3, (4,), '-1.5/x_6'),\n",
       " ((1,), 4, (2,), '-0.4/x_1'),\n",
       " ((1, 5), 'obj', (None,), '(x_1 - 1)**2 + (x_5 - 1)**2')]"
      ]
     },
     "execution_count": 171,
     "metadata": {},
     "output_type": "execute_result"
    }
   ],
   "source": [
    "components"
   ]
  },
  {
   "cell_type": "code",
   "execution_count": 57,
   "id": "71da62ae-83c0-425a-86e2-92695205dc17",
   "metadata": {
    "execution": {
     "iopub.execute_input": "2022-05-04T01:44:25.387325Z",
     "iopub.status.busy": "2022-05-04T01:44:25.387325Z",
     "iopub.status.idle": "2022-05-04T01:44:25.404424Z",
     "shell.execute_reply": "2022-05-04T01:44:25.404424Z",
     "shell.execute_reply.started": "2022-05-04T01:44:25.387325Z"
    },
    "tags": []
   },
   "outputs": [],
   "source": [
    "eqv = eqvs[(5,10,1,5546)]"
   ]
  },
  {
   "cell_type": "code",
   "execution_count": 58,
   "id": "2f03c673-a520-4289-ae76-7c6e7f0a4ac6",
   "metadata": {
    "execution": {
     "iopub.execute_input": "2022-05-04T01:44:26.892184Z",
     "iopub.status.busy": "2022-05-04T01:44:26.891181Z",
     "iopub.status.idle": "2022-05-04T01:44:26.911238Z",
     "shell.execute_reply": "2022-05-04T01:44:26.910240Z",
     "shell.execute_reply.started": "2022-05-04T01:44:26.891181Z"
    },
    "tags": []
   },
   "outputs": [
    {
     "data": {
      "text/plain": [
       "{0: (6, 12, 13, 7), 1: (6, 10, 8), 2: (9, 13, 14, 5), 3: (6, 9, 13), 4: (12,)}"
      ]
     },
     "execution_count": 58,
     "metadata": {},
     "output_type": "execute_result"
    }
   ],
   "source": [
    "eqv"
   ]
  },
  {
   "cell_type": "code",
   "execution_count": 59,
   "id": "b6a56081-6af4-4085-a5f4-de504c95c715",
   "metadata": {
    "execution": {
     "iopub.execute_input": "2022-05-04T01:44:32.137152Z",
     "iopub.status.busy": "2022-05-04T01:44:32.136153Z",
     "iopub.status.idle": "2022-05-04T01:44:32.149191Z",
     "shell.execute_reply": "2022-05-04T01:44:32.149191Z",
     "shell.execute_reply.started": "2022-05-04T01:44:32.137152Z"
    },
    "tags": []
   },
   "outputs": [],
   "source": [
    "outset = outsets[(5,10,1,5546,2)]"
   ]
  },
  {
   "cell_type": "code",
   "execution_count": 60,
   "id": "cd10b1a2-a090-47ea-85d0-bae5b4e58907",
   "metadata": {
    "execution": {
     "iopub.execute_input": "2022-05-04T01:44:32.947866Z",
     "iopub.status.busy": "2022-05-04T01:44:32.947866Z",
     "iopub.status.idle": "2022-05-04T01:44:32.959361Z",
     "shell.execute_reply": "2022-05-04T01:44:32.958859Z",
     "shell.execute_reply.started": "2022-05-04T01:44:32.947866Z"
    },
    "tags": []
   },
   "outputs": [
    {
     "data": {
      "text/plain": [
       "{0: 2, 1: 3, 2: 0, 3: 8, 4: 7}"
      ]
     },
     "execution_count": 60,
     "metadata": {},
     "output_type": "execute_result"
    }
   ],
   "source": [
    "outset"
   ]
  },
  {
   "cell_type": "code",
   "execution_count": 56,
   "id": "d379c49a-c783-4e9d-8e00-4dae13702af8",
   "metadata": {
    "execution": {
     "iopub.execute_input": "2022-05-04T01:44:18.738248Z",
     "iopub.status.busy": "2022-05-04T01:44:18.737248Z",
     "iopub.status.idle": "2022-05-04T01:44:18.754334Z",
     "shell.execute_reply": "2022-05-04T01:44:18.754334Z",
     "shell.execute_reply.started": "2022-05-04T01:44:18.738248Z"
    },
    "tags": []
   },
   "outputs": [
    {
     "data": {
      "text/html": [
       "<div>\n",
       "<style scoped>\n",
       "    .dataframe tbody tr th:only-of-type {\n",
       "        vertical-align: middle;\n",
       "    }\n",
       "\n",
       "    .dataframe tbody tr th {\n",
       "        vertical-align: top;\n",
       "    }\n",
       "\n",
       "    .dataframe thead th {\n",
       "        text-align: right;\n",
       "    }\n",
       "</style>\n",
       "<table border=\"1\" class=\"dataframe\">\n",
       "  <thead>\n",
       "    <tr style=\"text-align: right;\">\n",
       "      <th></th>\n",
       "      <th>m</th>\n",
       "      <th>n</th>\n",
       "      <th>c</th>\n",
       "      <th>r1</th>\n",
       "      <th>M</th>\n",
       "      <th>r2</th>\n",
       "      <th>mdf</th>\n",
       "    </tr>\n",
       "  </thead>\n",
       "  <tbody>\n",
       "    <tr>\n",
       "      <th>0</th>\n",
       "      <td>5</td>\n",
       "      <td>10</td>\n",
       "      <td>1</td>\n",
       "      <td>5546</td>\n",
       "      <td>2</td>\n",
       "      <td>74845286</td>\n",
       "      <td>False</td>\n",
       "    </tr>\n",
       "    <tr>\n",
       "      <th>1</th>\n",
       "      <td>5</td>\n",
       "      <td>10</td>\n",
       "      <td>1</td>\n",
       "      <td>5546</td>\n",
       "      <td>2</td>\n",
       "      <td>74845286</td>\n",
       "      <td>True</td>\n",
       "    </tr>\n",
       "  </tbody>\n",
       "</table>\n",
       "</div>"
      ],
      "text/plain": [
       "   m   n  c    r1  M        r2    mdf\n",
       "0  5  10  1  5546  2  74845286  False\n",
       "1  5  10  1  5546  2  74845286   True"
      ]
     },
     "execution_count": 56,
     "metadata": {},
     "output_type": "execute_result"
    }
   ],
   "source": [
    "args=df.iloc[0:2]\n",
    "args"
   ]
  },
  {
   "cell_type": "markdown",
   "id": "bf515917-5f68-4534-8e4f-9f6edcae6ccd",
   "metadata": {},
   "source": [
    "# -----"
   ]
  },
  {
   "cell_type": "code",
   "execution_count": null,
   "id": "26a2ecef-a2dc-4eed-83c4-a62610c8f65d",
   "metadata": {},
   "outputs": [],
   "source": [
    "def run_incidence_case(eqv, output_set, n_eqs, inputids):\n",
    "    polynomials, var_mapping, edges, tree, components = generate_random_polynomials(eqv, output_set, n_eqs)\n",
    "    optimal_formulation(eqv, output_set)\n",
    "    generate_mdao_prob(inputids, var_mapping, edges, tree, components):"
   ]
  },
  {
   "cell_type": "code",
   "execution_count": 143,
   "id": "8176c24b-bab6-4db7-b15d-fe3eb2ab5f7d",
   "metadata": {
    "execution": {
     "iopub.execute_input": "2022-05-03T02:21:44.559042Z",
     "iopub.status.busy": "2022-05-03T02:21:44.559042Z",
     "iopub.status.idle": "2022-05-03T02:21:44.573976Z",
     "shell.execute_reply": "2022-05-03T02:21:44.572975Z",
     "shell.execute_reply.started": "2022-05-03T02:21:44.559042Z"
    },
    "tags": []
   },
   "outputs": [],
   "source": [
    "_, edges_original = bipartite_repr(eqv)\n",
    "eqs=direct_eqs(eqv, output_set)\n",
    "avrs = getallvars(eqs, sympy=False)\n",
    "eqns = eqs.keys()\n",
    "graph_edges = invert_edges(edges_original)"
   ]
  },
  {
   "cell_type": "code",
   "execution_count": 144,
   "id": "349307b2-1bc9-4ca4-9113-cd2475802646",
   "metadata": {
    "execution": {
     "iopub.execute_input": "2022-05-03T02:21:44.637196Z",
     "iopub.status.busy": "2022-05-03T02:21:44.637196Z",
     "iopub.status.idle": "2022-05-03T02:21:44.684245Z",
     "shell.execute_reply": "2022-05-03T02:21:44.683278Z",
     "shell.execute_reply.started": "2022-05-03T02:21:44.637196Z"
    },
    "tags": []
   },
   "outputs": [],
   "source": [
    "maxl, m = min_max_scc(graph_edges, avrs, eqns, len(eqns))"
   ]
  },
  {
   "cell_type": "code",
   "execution_count": 145,
   "id": "901a1049-c54b-45a5-8caa-722e3464e1bc",
   "metadata": {
    "execution": {
     "iopub.execute_input": "2022-05-03T02:21:44.792643Z",
     "iopub.status.busy": "2022-05-03T02:21:44.792643Z",
     "iopub.status.idle": "2022-05-03T02:21:44.809644Z",
     "shell.execute_reply": "2022-05-03T02:21:44.808717Z",
     "shell.execute_reply.started": "2022-05-03T02:21:44.792643Z"
    },
    "tags": []
   },
   "outputs": [
    {
     "data": {
      "text/plain": [
       "3.0"
      ]
     },
     "execution_count": 145,
     "metadata": {},
     "output_type": "execute_result"
    }
   ],
   "source": [
    "maxl"
   ]
  },
  {
   "cell_type": "code",
   "execution_count": 146,
   "id": "4decc64b-a05a-44d6-8968-01ae3ad305ff",
   "metadata": {
    "execution": {
     "iopub.execute_input": "2022-05-03T02:21:46.432629Z",
     "iopub.status.busy": "2022-05-03T02:21:46.432629Z",
     "iopub.status.idle": "2022-05-03T02:21:46.449894Z",
     "shell.execute_reply": "2022-05-03T02:21:46.448967Z",
     "shell.execute_reply.started": "2022-05-03T02:21:46.432629Z"
    },
    "tags": []
   },
   "outputs": [],
   "source": [
    "output_set2 = dict(outset_from_solution(m))"
   ]
  },
  {
   "cell_type": "code",
   "execution_count": 147,
   "id": "3dbe3845-9f95-43ba-a9df-da42a8e95a11",
   "metadata": {
    "execution": {
     "iopub.execute_input": "2022-05-03T02:21:46.878849Z",
     "iopub.status.busy": "2022-05-03T02:21:46.877851Z",
     "iopub.status.idle": "2022-05-03T02:21:46.887364Z",
     "shell.execute_reply": "2022-05-03T02:21:46.887364Z",
     "shell.execute_reply.started": "2022-05-03T02:21:46.878849Z"
    },
    "tags": []
   },
   "outputs": [],
   "source": [
    "output_set2 = {key:var-n_eqs for key,var in output_set2.items()}"
   ]
  },
  {
   "cell_type": "code",
   "execution_count": 148,
   "id": "b7e89dc3-5a05-4f1d-8bdc-494b7b8814eb",
   "metadata": {
    "execution": {
     "iopub.execute_input": "2022-05-03T02:21:47.091428Z",
     "iopub.status.busy": "2022-05-03T02:21:47.091428Z",
     "iopub.status.idle": "2022-05-03T02:21:47.418179Z",
     "shell.execute_reply": "2022-05-03T02:21:47.418179Z",
     "shell.execute_reply.started": "2022-05-03T02:21:47.091428Z"
    },
    "tags": []
   },
   "outputs": [],
   "source": [
    "components2 = directed_poly_executables(var_mapping, polynomials, output_set2)"
   ]
  },
  {
   "cell_type": "code",
   "execution_count": 149,
   "id": "4a7f628e-de15-4385-be2f-bd424d8cc389",
   "metadata": {
    "execution": {
     "iopub.execute_input": "2022-05-03T02:21:47.519270Z",
     "iopub.status.busy": "2022-05-03T02:21:47.519270Z",
     "iopub.status.idle": "2022-05-03T02:21:47.529267Z",
     "shell.execute_reply": "2022-05-03T02:21:47.528268Z",
     "shell.execute_reply.started": "2022-05-03T02:21:47.519270Z"
    },
    "tags": []
   },
   "outputs": [],
   "source": [
    "edges2, tree2 = eqv_to_edges_tree(eqv, output_set2, n_eqs)"
   ]
  },
  {
   "cell_type": "code",
   "execution_count": 150,
   "id": "f012d553-c63f-48d4-a209-b70fd27e4bed",
   "metadata": {
    "execution": {
     "iopub.execute_input": "2022-05-03T02:21:47.817269Z",
     "iopub.status.busy": "2022-05-03T02:21:47.817269Z",
     "iopub.status.idle": "2022-05-03T02:21:47.837682Z",
     "shell.execute_reply": "2022-05-03T02:21:47.836680Z",
     "shell.execute_reply.started": "2022-05-03T02:21:47.817269Z"
    },
    "tags": []
   },
   "outputs": [
    {
     "data": {
      "text/plain": [
       "{0, 1, 6, 8, 9}"
      ]
     },
     "execution_count": 150,
     "metadata": {},
     "output_type": "execute_result"
    }
   ],
   "source": [
    "sources(*edges_to_Ein_Eout(edges2))"
   ]
  },
  {
   "cell_type": "code",
   "execution_count": 151,
   "id": "4190ac06-6afe-4d7e-b01b-57a4b1ad4d94",
   "metadata": {
    "execution": {
     "iopub.execute_input": "2022-05-03T02:21:48.426112Z",
     "iopub.status.busy": "2022-05-03T02:21:48.426112Z",
     "iopub.status.idle": "2022-05-03T02:21:48.445214Z",
     "shell.execute_reply": "2022-05-03T02:21:48.445214Z",
     "shell.execute_reply.started": "2022-05-03T02:21:48.426112Z"
    },
    "tags": []
   },
   "outputs": [],
   "source": [
    "inputids = sources(*edges_to_Ein_Eout(edges2))"
   ]
  },
  {
   "cell_type": "code",
   "execution_count": 153,
   "id": "90797960-ebef-4643-94a5-82eb5fadc692",
   "metadata": {
    "execution": {
     "iopub.execute_input": "2022-05-03T02:21:49.272985Z",
     "iopub.status.busy": "2022-05-03T02:21:49.272985Z",
     "iopub.status.idle": "2022-05-03T02:21:49.286330Z",
     "shell.execute_reply": "2022-05-03T02:21:49.285711Z",
     "shell.execute_reply.started": "2022-05-03T02:21:49.272985Z"
    },
    "tags": []
   },
   "outputs": [],
   "source": [
    "components1 = add_obj(inputids, var_mapping, edges, tree, components)"
   ]
  },
  {
   "cell_type": "code",
   "execution_count": 154,
   "id": "effa4f96-3a56-44e4-9af5-b60ea5f11637",
   "metadata": {
    "execution": {
     "iopub.execute_input": "2022-05-03T02:21:49.536878Z",
     "iopub.status.busy": "2022-05-03T02:21:49.536878Z",
     "iopub.status.idle": "2022-05-03T02:21:49.551771Z",
     "shell.execute_reply": "2022-05-03T02:21:49.551266Z",
     "shell.execute_reply.started": "2022-05-03T02:21:49.536878Z"
    },
    "tags": []
   },
   "outputs": [],
   "source": [
    "dv = nested_sources(edges, tree, 1)\n",
    "for elt in dv:\n",
    "    tree[2][elt] = 1"
   ]
  },
  {
   "cell_type": "code",
   "execution_count": 155,
   "id": "426d5139-c30b-4b6d-916a-24d1da529e3e",
   "metadata": {
    "execution": {
     "iopub.execute_input": "2022-05-03T02:21:49.774453Z",
     "iopub.status.busy": "2022-05-03T02:21:49.774453Z",
     "iopub.status.idle": "2022-05-03T02:21:49.784172Z",
     "shell.execute_reply": "2022-05-03T02:21:49.784172Z",
     "shell.execute_reply.started": "2022-05-03T02:21:49.774453Z"
    },
    "tags": []
   },
   "outputs": [],
   "source": [
    "components22 = add_obj(inputids, var_mapping, edges2, tree2, components2)"
   ]
  },
  {
   "cell_type": "code",
   "execution_count": 156,
   "id": "7b9aab8d-707e-447e-9318-060773ba5a3f",
   "metadata": {
    "execution": {
     "iopub.execute_input": "2022-05-03T02:21:50.225797Z",
     "iopub.status.busy": "2022-05-03T02:21:50.225797Z",
     "iopub.status.idle": "2022-05-03T02:21:50.237706Z",
     "shell.execute_reply": "2022-05-03T02:21:50.236827Z",
     "shell.execute_reply.started": "2022-05-03T02:21:50.225797Z"
    },
    "tags": []
   },
   "outputs": [],
   "source": [
    "dv = nested_sources(edges2, tree2, 1)\n",
    "for elt in dv:\n",
    "    tree2[2][elt] = 1"
   ]
  },
  {
   "cell_type": "code",
   "execution_count": 157,
   "id": "84ed5745-dc3f-4ead-b7a3-331ae64160f9",
   "metadata": {
    "execution": {
     "iopub.execute_input": "2022-05-03T02:21:50.681687Z",
     "iopub.status.busy": "2022-05-03T02:21:50.680687Z",
     "iopub.status.idle": "2022-05-03T02:21:50.689681Z",
     "shell.execute_reply": "2022-05-03T02:21:50.689681Z",
     "shell.execute_reply.started": "2022-05-03T02:21:50.681687Z"
    },
    "tags": []
   },
   "outputs": [
    {
     "data": {
      "text/plain": [
       "{0, 1, 6, 8, 9}"
      ]
     },
     "execution_count": 157,
     "metadata": {},
     "output_type": "execute_result"
    }
   ],
   "source": [
    "dv"
   ]
  },
  {
   "cell_type": "code",
   "execution_count": 158,
   "id": "7233a71a-9b61-4ebf-aa35-25c062eb33e3",
   "metadata": {
    "execution": {
     "iopub.execute_input": "2022-05-03T02:21:53.144582Z",
     "iopub.status.busy": "2022-05-03T02:21:53.143586Z",
     "iopub.status.idle": "2022-05-03T02:21:53.150390Z",
     "shell.execute_reply": "2022-05-03T02:21:53.149573Z",
     "shell.execute_reply.started": "2022-05-03T02:21:53.144582Z"
    },
    "tags": []
   },
   "outputs": [],
   "source": [
    "# from graphutils import flat_graph_formulation, root_solver\n",
    "# from operators import sort_scc, reorder_merge_solve\n",
    "# from workflow import order_from_tree, mdao_workflow, default_solver_options\n",
    "# G = flat_graph_formulation(*edges)\n",
    "# merge_order = sort_scc(G)\n",
    "# merge_parent = root_solver(tree) # all merged components will have this solver as the parent\n",
    "# ordered_edges, ordered_tree = reorder_merge_solve(edges, tree, merge_order, merge_parent, False)\n",
    "# sequence = order_from_tree(ordered_tree[0], ordered_tree[1], ordered_edges[1])\n",
    "# solvers_options = default_solver_options(ordered_tree, solvers_options)\n",
    "# wf = mdao_workflow(sequence, solvers_options, comp_options, var_options)"
   ]
  },
  {
   "cell_type": "code",
   "execution_count": 159,
   "id": "709ec0af-b84f-416b-89b3-6a41c7c88e81",
   "metadata": {
    "execution": {
     "iopub.execute_input": "2022-05-03T02:21:53.498442Z",
     "iopub.status.busy": "2022-05-03T02:21:53.498442Z",
     "iopub.status.idle": "2022-05-03T02:21:53.511640Z",
     "shell.execute_reply": "2022-05-03T02:21:53.510718Z",
     "shell.execute_reply.started": "2022-05-03T02:21:53.498442Z"
    },
    "tags": []
   },
   "outputs": [],
   "source": [
    "solvers_options = {1: {'type': OPT}, 2:{'maxiter':100}}\n",
    "comp_options = {newidx:OBJ}\n",
    "var_options = {}"
   ]
  },
  {
   "cell_type": "code",
   "execution_count": 164,
   "id": "aedf37cd-1bff-4d32-8675-50e1ce17310a",
   "metadata": {
    "execution": {
     "iopub.execute_input": "2022-05-03T02:22:17.057450Z",
     "iopub.status.busy": "2022-05-03T02:22:17.056949Z",
     "iopub.status.idle": "2022-05-03T02:22:17.067947Z",
     "shell.execute_reply": "2022-05-03T02:22:17.067446Z",
     "shell.execute_reply.started": "2022-05-03T02:22:17.057450Z"
    },
    "tags": []
   },
   "outputs": [],
   "source": [
    "nodetyperepr = {VAR: 'x{}', COMP: 'f_{}', SOLVER: 's_{}'}\n",
    "prob, mdao_in, groups = nestedform_to_mdao(edges2, tree2, components22, solvers_options, comp_options, var_options, nodetyperepr, mdf=True)"
   ]
  },
  {
   "cell_type": "code",
   "execution_count": 165,
   "id": "96d90bde-9aa7-4d0e-83c8-ea6f529bb1a9",
   "metadata": {
    "execution": {
     "iopub.execute_input": "2022-05-03T02:22:17.877154Z",
     "iopub.status.busy": "2022-05-03T02:22:17.877154Z",
     "iopub.status.idle": "2022-05-03T02:22:17.924235Z",
     "shell.execute_reply": "2022-05-03T02:22:17.923235Z",
     "shell.execute_reply.started": "2022-05-03T02:22:17.877154Z"
    },
    "tags": []
   },
   "outputs": [
    {
     "data": {
      "text/html": [
       "\n",
       "        <iframe\n",
       "            width=\"100%\"\n",
       "            height=\"700\"\n",
       "            src=\"n2.html\"\n",
       "            frameborder=\"0\"\n",
       "            allowfullscreen\n",
       "            \n",
       "        ></iframe>\n",
       "        "
      ],
      "text/plain": [
       "<IPython.lib.display.IFrame at 0x1d95c1feca0>"
      ]
     },
     "metadata": {},
     "output_type": "display_data"
    }
   ],
   "source": [
    "om.n2(prob.model)"
   ]
  },
  {
   "cell_type": "code",
   "execution_count": 166,
   "id": "4ec3b47f-41a4-4a9b-9e7b-c2e311c33545",
   "metadata": {
    "execution": {
     "iopub.execute_input": "2022-05-03T02:22:20.385011Z",
     "iopub.status.busy": "2022-05-03T02:22:20.385011Z",
     "iopub.status.idle": "2022-05-03T02:22:20.405091Z",
     "shell.execute_reply": "2022-05-03T02:22:20.404067Z",
     "shell.execute_reply.started": "2022-05-03T02:22:20.385011Z"
    },
    "tags": []
   },
   "outputs": [],
   "source": [
    "for elt in mdao_in:\n",
    "    prob.set_val(elt, 0.1)"
   ]
  },
  {
   "cell_type": "code",
   "execution_count": 167,
   "id": "a46e297f-3298-4a4d-ace1-686b303083a8",
   "metadata": {
    "execution": {
     "iopub.execute_input": "2022-05-03T02:22:21.172493Z",
     "iopub.status.busy": "2022-05-03T02:22:21.172493Z",
     "iopub.status.idle": "2022-05-03T02:22:21.215839Z",
     "shell.execute_reply": "2022-05-03T02:22:21.215839Z",
     "shell.execute_reply.started": "2022-05-03T02:22:21.172493Z"
    },
    "tags": []
   },
   "outputs": [
    {
     "name": "stdout",
     "output_type": "stream",
     "text": [
      "\n",
      "=======\n",
      "s_1.s_2\n",
      "=======\n",
      "NL: Newton Converged in 1 iterations\n",
      "\n",
      "=======\n",
      "s_1.s_2\n",
      "=======\n",
      "NL: Newton Converged in 0 iterations\n",
      "\n",
      "=======\n",
      "s_1.s_2\n",
      "=======\n",
      "NL: Newton Converged in 1 iterations\n",
      "\n",
      "=======\n",
      "s_1.s_2\n",
      "=======\n",
      "NL: Newton Converged in 1 iterations\n",
      "Optimization terminated successfully    (Exit mode 0)\n",
      "            Current function value: [0.]\n",
      "            Iterations: 2\n",
      "            Function evaluations: 3\n",
      "            Gradient evaluations: 2\n",
      "Optimization Complete\n",
      "-----------------------------------\n"
     ]
    }
   ],
   "source": [
    "prob.run_driver();"
   ]
  },
  {
   "cell_type": "code",
   "execution_count": null,
   "id": "61eb45ef-599d-4e83-8400-21078e3a8b05",
   "metadata": {},
   "outputs": [],
   "source": []
  },
  {
   "cell_type": "code",
   "execution_count": 27,
   "id": "73391b04-6b8a-4468-a43e-fc3fd496f3aa",
   "metadata": {
    "execution": {
     "iopub.execute_input": "2022-05-03T01:20:19.449552Z",
     "iopub.status.busy": "2022-05-03T01:20:19.449552Z",
     "iopub.status.idle": "2022-05-03T01:20:19.456829Z",
     "shell.execute_reply": "2022-05-03T01:20:19.456550Z",
     "shell.execute_reply.started": "2022-05-03T01:20:19.449552Z"
    },
    "tags": []
   },
   "outputs": [
    {
     "name": "stdout",
     "output_type": "stream",
     "text": [
      "11 Explicit Output(s) in 'model'\n",
      "\n",
      "varname   val          \n",
      "--------  -------------\n",
      "inp\n",
      "  x3      [1.]         \n",
      "  x5      [1.]         \n",
      "  x6      [1.]         \n",
      "  x7      [1.]         \n",
      "  x9      [1.]         \n",
      "s_1\n",
      "  f_2\n",
      "    x2    [-0.33333333]\n",
      "  f_5\n",
      "    obj5  [0.]         \n",
      "  f_1\n",
      "    x4    [-1.66666667]\n",
      "  f_3\n",
      "    x0    [1.26666667] \n",
      "  f_0\n",
      "    x8    [-0.24444444]\n",
      "  f_4\n",
      "    x1    [7.07792208] \n",
      "\n",
      "\n",
      "0 Implicit Output(s) in 'model'\n",
      "\n",
      "\n"
     ]
    }
   ],
   "source": [
    "prob.model.list_outputs();"
   ]
  },
  {
   "cell_type": "code",
   "execution_count": 39,
   "id": "76762be6-1616-4c76-980c-d7cca373163b",
   "metadata": {
    "execution": {
     "iopub.execute_input": "2022-05-02T19:26:51.281793Z",
     "iopub.status.busy": "2022-05-02T19:26:51.280795Z",
     "iopub.status.idle": "2022-05-02T19:26:51.301894Z",
     "shell.execute_reply": "2022-05-02T19:26:51.301894Z",
     "shell.execute_reply.started": "2022-05-02T19:26:51.281793Z"
    },
    "tags": []
   },
   "outputs": [
    {
     "data": {
      "text/plain": [
       "[{f_0}, {f_3}, {f_1}, {f_2, f_4}]"
      ]
     },
     "execution_count": 39,
     "metadata": {},
     "output_type": "execute_result"
    }
   ],
   "source": [
    "merge_order"
   ]
  },
  {
   "cell_type": "code",
   "execution_count": 42,
   "id": "81a6ee94-748f-4a5c-9f24-a830998090ce",
   "metadata": {
    "execution": {
     "iopub.execute_input": "2022-05-02T19:27:42.498991Z",
     "iopub.status.busy": "2022-05-02T19:27:42.498470Z",
     "iopub.status.idle": "2022-05-02T19:27:42.513991Z",
     "shell.execute_reply": "2022-05-02T19:27:42.513490Z",
     "shell.execute_reply.started": "2022-05-02T19:27:42.498991Z"
    }
   },
   "outputs": [
    {
     "data": {
      "text/plain": [
       "{1, 4, 5, 6}"
      ]
     },
     "execution_count": 42,
     "metadata": {},
     "output_type": "execute_result"
    }
   ],
   "source": [
    "sources(*edges_to_Ein_Eout(edges))"
   ]
  },
  {
   "cell_type": "code",
   "execution_count": 10,
   "id": "46601f42-0c02-4d77-9927-5bcdd8cf93a3",
   "metadata": {
    "execution": {
     "iopub.execute_input": "2022-05-02T19:16:28.528612Z",
     "iopub.status.busy": "2022-05-02T19:16:28.528612Z",
     "iopub.status.idle": "2022-05-02T19:16:28.536689Z",
     "shell.execute_reply": "2022-05-02T19:16:28.535726Z",
     "shell.execute_reply.started": "2022-05-02T19:16:28.528612Z"
    },
    "tags": []
   },
   "outputs": [
    {
     "data": {
      "text/plain": [
       "{0: 9, 1: 6, 2: 10, 3: 13, 4: 12}"
      ]
     },
     "execution_count": 10,
     "metadata": {},
     "output_type": "execute_result"
    }
   ],
   "source": [
    "output_set2"
   ]
  },
  {
   "cell_type": "code",
   "execution_count": 27,
   "id": "e1a640d9-0119-4079-b756-362423d07870",
   "metadata": {
    "execution": {
     "iopub.execute_input": "2022-05-02T19:23:32.128908Z",
     "iopub.status.busy": "2022-05-02T19:23:32.127910Z",
     "iopub.status.idle": "2022-05-02T19:23:32.145957Z",
     "shell.execute_reply": "2022-05-02T19:23:32.145957Z",
     "shell.execute_reply.started": "2022-05-02T19:23:32.128908Z"
    },
    "tags": []
   },
   "outputs": [
    {
     "data": {
      "text/plain": [
       "2.0"
      ]
     },
     "execution_count": 27,
     "metadata": {},
     "output_type": "execute_result"
    }
   ],
   "source": [
    "maxl"
   ]
  },
  {
   "cell_type": "code",
   "execution_count": 26,
   "id": "9e202716-b222-4667-807b-16a7392df10c",
   "metadata": {
    "execution": {
     "iopub.execute_input": "2022-05-02T19:22:16.738601Z",
     "iopub.status.busy": "2022-05-02T19:22:16.738601Z",
     "iopub.status.idle": "2022-05-02T19:22:17.213017Z",
     "shell.execute_reply": "2022-05-02T19:22:17.212017Z",
     "shell.execute_reply.started": "2022-05-02T19:22:16.738601Z"
    },
    "tags": []
   },
   "outputs": [
    {
     "data": {
      "image/png": "[encoded data removed]",
      "text/plain": [
       "<Figure size 432x432 with 1 Axes>"
      ]
     },
     "metadata": {},
     "output_type": "display_data"
    }
   ],
   "source": [
    "from graphutils import flat_graph_formulation, draw_graph_graphical_props\n",
    "G = flat_graph_formulation(*edges2, nodetyperepr=default_nodetyperepr)\n",
    "draw_graph_graphical_props(G, {}, prog='neato', figsize=(6,6))"
   ]
  },
  {
   "cell_type": "code",
   "execution_count": 16,
   "id": "a6909dfb-e4d4-489c-b9f1-6aa555cfcaf8",
   "metadata": {
    "execution": {
     "iopub.execute_input": "2022-05-02T18:45:50.087738Z",
     "iopub.status.busy": "2022-05-02T18:45:50.087738Z",
     "iopub.status.idle": "2022-05-02T18:45:50.093836Z",
     "shell.execute_reply": "2022-05-02T18:45:50.093836Z",
     "shell.execute_reply.started": "2022-05-02T18:45:50.087738Z"
    }
   },
   "outputs": [
    {
     "data": {
      "text/plain": [
       "{0: 0.6*x_1*x_3*x_4 + 0.4,\n",
       " 1: -0.5*x_0 + 0.9*x_1*x_3 + 0.3*x_2*x_4 + 0.9,\n",
       " 2: 0.4*x_0*x_2 - 0.3*x_1*x_3*x_4 + 0.5}"
      ]
     },
     "execution_count": 16,
     "metadata": {},
     "output_type": "execute_result"
    }
   ],
   "source": [
    "polynomials"
   ]
  },
  {
   "cell_type": "code",
   "execution_count": 11,
   "id": "059d5690-7ba2-417f-b80a-a18ce1ff844b",
   "metadata": {
    "execution": {
     "iopub.execute_input": "2022-05-02T18:44:05.682058Z",
     "iopub.status.busy": "2022-05-02T18:44:05.682058Z",
     "iopub.status.idle": "2022-05-02T18:44:05.689054Z",
     "shell.execute_reply": "2022-05-02T18:44:05.688057Z",
     "shell.execute_reply.started": "2022-05-02T18:44:05.682058Z"
    },
    "tags": []
   },
   "outputs": [],
   "source": [
    "output_set = {key:var-n_eqs for key,var in output_set.items()}\n",
    "edges, tree= eqv_to_edges_tree(eqv, output_set, n_eqs)"
   ]
  },
  {
   "cell_type": "code",
   "execution_count": 12,
   "id": "80915926-f38e-4977-aa85-9859cd817b74",
   "metadata": {
    "execution": {
     "iopub.execute_input": "2022-05-02T18:44:05.946951Z",
     "iopub.status.busy": "2022-05-02T18:44:05.946951Z",
     "iopub.status.idle": "2022-05-02T18:44:05.965874Z",
     "shell.execute_reply": "2022-05-02T18:44:05.964878Z",
     "shell.execute_reply.started": "2022-05-02T18:44:05.946951Z"
    },
    "tags": []
   },
   "outputs": [],
   "source": [
    "rng = np.random.default_rng(12345)"
   ]
  },
  {
   "cell_type": "code",
   "execution_count": 13,
   "id": "a53d950c-c6da-4b8e-9650-47b04c153136",
   "metadata": {
    "execution": {
     "iopub.execute_input": "2022-05-02T18:44:06.365424Z",
     "iopub.status.busy": "2022-05-02T18:44:06.365424Z",
     "iopub.status.idle": "2022-05-02T18:44:06.382846Z",
     "shell.execute_reply": "2022-05-02T18:44:06.381929Z",
     "shell.execute_reply.started": "2022-05-02T18:44:06.365424Z"
    },
    "tags": []
   },
   "outputs": [],
   "source": [
    "nodetyperepr = {VAR: '{}', COMP: 'f_{}', SOLVER: 's_{}'}\n",
    "solvers_options = {1: {'type': OPT}}\n",
    "comp_options = {3:OBJ, 4:NEQ, 5:NEQ}\n",
    "var_options = {}"
   ]
  },
  {
   "cell_type": "code",
   "execution_count": null,
   "id": "50b024da-f21b-4a6c-92fa-57f43416fee3",
   "metadata": {},
   "outputs": [],
   "source": [
    "prob, mdao_in, groups = nestedform_to_mdao(edges, tree, components, solvers_options, comp_options, var_options, nodetyperepr, mdf=True)"
   ]
  }
 ],
 "metadata": {
  "kernelspec": {
   "display_name": "Python [conda env:mdo]",
   "language": "python",
   "name": "conda-env-mdo-py"
  },
  "language_info": {
   "codemirror_mode": {
    "name": "ipython",
    "version": 3
   },
   "file_extension": ".py",
   "mimetype": "text/x-python",
   "name": "python",
   "nbconvert_exporter": "python",
   "pygments_lexer": "ipython3",
   "version": "3.9.7"
  }
 },
 "nbformat": 4,
 "nbformat_minor": 5
}
