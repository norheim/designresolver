{
 "cells": [
  {
   "cell_type": "code",
   "execution_count": 3,
   "id": "03df7bbb-ea23-4543-9859-a162c3c60080",
   "metadata": {
    "execution": {
     "iopub.execute_input": "2022-03-11T00:34:14.357603Z",
     "iopub.status.busy": "2022-03-11T00:34:14.356601Z",
     "iopub.status.idle": "2022-03-11T00:34:14.371594Z",
     "shell.execute_reply": "2022-03-11T00:34:14.371594Z",
     "shell.execute_reply.started": "2022-03-11T00:34:14.357603Z"
    }
   },
   "outputs": [
    {
     "name": "stdout",
     "output_type": "stream",
     "text": [
      "C:\\Users\\johan\\github\\designresolver\n"
     ]
    }
   ],
   "source": [
    "cd .."
   ]
  },
  {
   "cell_type": "code",
   "execution_count": 43,
   "id": "918eee7e-3878-417c-a8d0-5481582355f2",
   "metadata": {
    "execution": {
     "iopub.execute_input": "2022-03-11T00:56:55.743315Z",
     "iopub.status.busy": "2022-03-11T00:56:55.743315Z",
     "iopub.status.idle": "2022-03-11T00:56:55.749436Z",
     "shell.execute_reply": "2022-03-11T00:56:55.749333Z",
     "shell.execute_reply.started": "2022-03-11T00:56:55.743315Z"
    },
    "tags": []
   },
   "outputs": [],
   "source": [
    "from testgraph import Ein, Eout, Rin\n",
    "from graphutils import flat_graph_formulation, Node, VAR\n",
    "import matplotlib.pyplot as plt"
   ]
  },
  {
   "cell_type": "code",
   "execution_count": 44,
   "id": "e09e3418-e861-48a5-8345-330e32cd9e0b",
   "metadata": {
    "execution": {
     "iopub.execute_input": "2022-03-11T00:56:56.067559Z",
     "iopub.status.busy": "2022-03-11T00:56:56.067559Z",
     "iopub.status.idle": "2022-03-11T00:56:56.080144Z",
     "shell.execute_reply": "2022-03-11T00:56:56.080144Z",
     "shell.execute_reply.started": "2022-03-11T00:56:56.067559Z"
    },
    "tags": []
   },
   "outputs": [],
   "source": [
    "from collections import OrderedDict"
   ]
  },
  {
   "cell_type": "code",
   "execution_count": 54,
   "id": "52fbdee6-814d-4981-bdf4-f0a23400bdc9",
   "metadata": {
    "execution": {
     "iopub.execute_input": "2022-03-11T00:58:23.293450Z",
     "iopub.status.busy": "2022-03-11T00:58:23.292358Z",
     "iopub.status.idle": "2022-03-11T00:58:23.302932Z",
     "shell.execute_reply": "2022-03-11T00:58:23.302736Z",
     "shell.execute_reply.started": "2022-03-11T00:58:23.293450Z"
    },
    "tags": []
   },
   "outputs": [],
   "source": [
    "g = flat_graph_formulation(Ein, Eout, Rin)"
   ]
  },
  {
   "cell_type": "code",
   "execution_count": 55,
   "id": "6a826e9f-d8e7-4fa0-97ad-cb2d29fc40de",
   "metadata": {
    "execution": {
     "iopub.execute_input": "2022-03-11T00:58:23.583514Z",
     "iopub.status.busy": "2022-03-11T00:58:23.583514Z",
     "iopub.status.idle": "2022-03-11T00:58:23.600371Z",
     "shell.execute_reply": "2022-03-11T00:58:23.600371Z",
     "shell.execute_reply.started": "2022-03-11T00:58:23.583514Z"
    },
    "tags": []
   },
   "outputs": [],
   "source": [
    "g = nx.relabel_nodes(g, {Node(1,VAR): Node('longtest',VAR)})"
   ]
  },
  {
   "cell_type": "code",
   "execution_count": 56,
   "id": "e2e33603-88bc-466f-aab3-e7b6329b5bf5",
   "metadata": {
    "execution": {
     "iopub.execute_input": "2022-03-11T00:58:24.092387Z",
     "iopub.status.busy": "2022-03-11T00:58:24.092387Z",
     "iopub.status.idle": "2022-03-11T00:58:24.099021Z",
     "shell.execute_reply": "2022-03-11T00:58:24.098951Z",
     "shell.execute_reply.started": "2022-03-11T00:58:24.092387Z"
    },
    "tags": []
   },
   "outputs": [],
   "source": [
    "import sympy.printing as printing\n",
    "import networkx as nx"
   ]
  },
  {
   "cell_type": "code",
   "execution_count": 57,
   "id": "42c5bbfd-4e50-41a2-87d8-5fbcb16d9538",
   "metadata": {
    "execution": {
     "iopub.execute_input": "2022-03-11T00:58:24.282065Z",
     "iopub.status.busy": "2022-03-11T00:58:24.281297Z",
     "iopub.status.idle": "2022-03-11T00:58:24.287074Z",
     "shell.execute_reply": "2022-03-11T00:58:24.287074Z",
     "shell.execute_reply.started": "2022-03-11T00:58:24.282065Z"
    },
    "tags": []
   },
   "outputs": [],
   "source": [
    "def generate_label(elt, latexlabel=True):\n",
    "    if latexlabel:\n",
    "        return r'${}$'.format(elt if isinstance(elt, str) else printing.latex(elt))\n",
    "    else:\n",
    "        return r'${}$'.format(str(elt))"
   ]
  },
  {
   "cell_type": "code",
   "execution_count": 58,
   "id": "9f0929d4-b910-4d5d-94b4-120bdea6eeef",
   "metadata": {
    "execution": {
     "iopub.execute_input": "2022-03-11T00:58:24.473455Z",
     "iopub.status.busy": "2022-03-11T00:58:24.472656Z",
     "iopub.status.idle": "2022-03-11T00:58:24.490453Z",
     "shell.execute_reply": "2022-03-11T00:58:24.489453Z",
     "shell.execute_reply.started": "2022-03-11T00:58:24.473455Z"
    },
    "tags": []
   },
   "outputs": [],
   "source": [
    "pos=None\n",
    "edge_color='k'\n",
    "width=2\n",
    "arc=None\n",
    "figsize=(6,6) \n",
    "prog='neato'\n",
    "node_size=700\n",
    "node_shape='b'\n",
    "latexlabels=False\n",
    "node_color = 'w'\n",
    "linewidths=2\n",
    "kwargs=dict()"
   ]
  },
  {
   "cell_type": "code",
   "execution_count": 64,
   "id": "e8833947-43c7-4d9c-908e-77446d180cfb",
   "metadata": {
    "execution": {
     "iopub.execute_input": "2022-03-11T01:04:58.029941Z",
     "iopub.status.busy": "2022-03-11T01:04:58.029941Z",
     "iopub.status.idle": "2022-03-11T01:04:58.252270Z",
     "shell.execute_reply": "2022-03-11T01:04:58.252270Z",
     "shell.execute_reply.started": "2022-03-11T01:04:58.029941Z"
    },
    "tags": []
   },
   "outputs": [
    {
     "data": {
      "image/png": "[encoded data removed]",
      "text/plain": [
       "<Figure size 432x432 with 1 Axes>"
      ]
     },
     "metadata": {},
     "output_type": "display_data"
    }
   ],
   "source": [
    "node_actual_shape = node_shape\n",
    "label_kwargs = {\n",
    "    'font_size': 20\n",
    "}\n",
    "if node_shape == 'b':\n",
    "    node_actual_shape = 's'\n",
    "    node_color = 'none'\n",
    "    linewidths=0\n",
    "    label_kwargs['bbox'] = dict(facecolor=\"white\", edgecolor='black', boxstyle='square,pad=0.2')\n",
    "\n",
    "\n",
    "labels = OrderedDict([(elt,generate_label(elt, latexlabel=latexlabels)) for elt in g.nodes])\n",
    "if pos is None:\n",
    "    pos = nx.drawing.nx_pydot.graphviz_layout(g, prog=prog, **kwargs)\n",
    "fig = plt.figure(figsize=figsize)\n",
    "plt.margins(0.15)\n",
    "if isinstance(node_shape, dict):\n",
    "    for node, shape in node_shape.items():\n",
    "        nx.draw_networkx_nodes(g, pos=pos, node_size=node_size, node_color=node_color, linewidths=linewidths, edgecolors='k', node_shape=shape, nodelist=[node])\n",
    "else:\n",
    "    nx.draw_networkx_nodes(g, pos=pos, node_size=node_size, node_color=node_color, linewidths=linewidths, edgecolors='k', node_shape=node_actual_shape)\n",
    "#https://stackoverflow.com/questions/22785849/drawing-multiple-edges-between-two-nodes-with-networkx\n",
    "connectionstyle = 'arc3, rad = {}'.format(arc) if arc else 'arc3'\n",
    "nx.draw_networkx_edges(g, pos=pos, arrowsize=20, width=width, \n",
    "    edge_color=edge_color, node_size=node_size, connectionstyle=connectionstyle)\n",
    "nx.draw_networkx_labels(g, pos, labels, **label_kwargs)\n",
    "plt.gca().axis(\"off\");"
   ]
  },
  {
   "cell_type": "code",
   "execution_count": null,
   "id": "741fc4b5-1a5d-40d7-a386-c081cbd14bc1",
   "metadata": {},
   "outputs": [],
   "source": []
  }
 ],
 "metadata": {
  "kernelspec": {
   "display_name": "Python [conda env:mdo]",
   "language": "python",
   "name": "conda-env-mdo-py"
  },
  "language_info": {
   "codemirror_mode": {
    "name": "ipython",
    "version": 3
   },
   "file_extension": ".py",
   "mimetype": "text/x-python",
   "name": "python",
   "nbconvert_exporter": "python",
   "pygments_lexer": "ipython3",
   "version": "3.9.7"
  }
 },
 "nbformat": 4,
 "nbformat_minor": 5
}
