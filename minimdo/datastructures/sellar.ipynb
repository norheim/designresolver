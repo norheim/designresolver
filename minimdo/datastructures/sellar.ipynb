{
 "cells": [
  {
   "cell_type": "code",
   "execution_count": 1,
   "id": "d25dcda9-b501-4b7f-9238-e34f7ce3ccf6",
   "metadata": {
    "execution": {
     "iopub.execute_input": "2022-05-01T00:35:28.669766Z",
     "iopub.status.busy": "2022-05-01T00:35:28.669766Z",
     "iopub.status.idle": "2022-05-01T00:35:28.683761Z",
     "shell.execute_reply": "2022-05-01T00:35:28.683761Z",
     "shell.execute_reply.started": "2022-05-01T00:35:28.669766Z"
    }
   },
   "outputs": [
    {
     "name": "stdout",
     "output_type": "stream",
     "text": [
      "C:\\Users\\johan\\github\\designresolver\n"
     ]
    }
   ],
   "source": [
    "cd .."
   ]
  },
  {
   "cell_type": "code",
   "execution_count": 34,
   "id": "e336401a-88b1-4773-9224-8b53e59c4b13",
   "metadata": {
    "execution": {
     "iopub.execute_input": "2022-05-01T00:47:58.181198Z",
     "iopub.status.busy": "2022-05-01T00:47:58.180198Z",
     "iopub.status.idle": "2022-05-01T00:47:58.189415Z",
     "shell.execute_reply": "2022-05-01T00:47:58.189415Z",
     "shell.execute_reply.started": "2022-05-01T00:47:58.181198Z"
    },
    "tags": []
   },
   "outputs": [],
   "source": [
    "from graphutils import draw_graph_graphical_props, flat_graph_formulation, Node, VAR, COMP, SOLVER\n",
    "from nestedgraph import build_typedgraph\n",
    "from compute import Var\n",
    "from api import Model, adda, addf, addsolver, setsolvefor\n",
    "from execution import edges_from_components\n",
    "from operators import sort_scc, reorder_merge_solve\n",
    "from nestedgraph import build_typedgraph"
   ]
  },
  {
   "cell_type": "code",
   "execution_count": 13,
   "id": "d551ec33-c3b4-423f-a64b-cad382489eb1",
   "metadata": {
    "execution": {
     "iopub.execute_input": "2022-05-01T00:42:28.096356Z",
     "iopub.status.busy": "2022-05-01T00:42:28.096356Z",
     "iopub.status.idle": "2022-05-01T00:42:28.100104Z",
     "shell.execute_reply": "2022-05-01T00:42:28.099358Z",
     "shell.execute_reply.started": "2022-05-01T00:42:28.096356Z"
    },
    "tags": []
   },
   "outputs": [],
   "source": [
    "from sympy import exp"
   ]
  },
  {
   "cell_type": "code",
   "execution_count": 29,
   "id": "9a1938cd-7ad2-4748-ad60-5c9ab95573c9",
   "metadata": {
    "execution": {
     "iopub.execute_input": "2022-05-01T00:46:59.600597Z",
     "iopub.status.busy": "2022-05-01T00:46:59.599599Z",
     "iopub.status.idle": "2022-05-01T00:46:59.607120Z",
     "shell.execute_reply": "2022-05-01T00:46:59.607120Z",
     "shell.execute_reply.started": "2022-05-01T00:46:59.600597Z"
    },
    "tags": []
   },
   "outputs": [],
   "source": [
    "z1,z2,x,y2 = Var('z1'), Var('z2'), Var('x'), Var('y2')"
   ]
  },
  {
   "cell_type": "code",
   "execution_count": 43,
   "id": "2cf5f6bd-ebbb-46de-98c2-43070bda5371",
   "metadata": {
    "execution": {
     "iopub.execute_input": "2022-05-01T00:51:20.569915Z",
     "iopub.status.busy": "2022-05-01T00:51:20.569915Z",
     "iopub.status.idle": "2022-05-01T00:51:20.594480Z",
     "shell.execute_reply": "2022-05-01T00:51:20.594480Z",
     "shell.execute_reply.started": "2022-05-01T00:51:20.569915Z"
    },
    "tags": []
   },
   "outputs": [],
   "source": [
    "model = Model()\n",
    "m = model.root\n",
    "s = addsolver(m)\n",
    "y1 = adda(s, 'y1', z1**2+z2+x-0.2*y2)\n",
    "adda(s, y2, y1**0.5+z1+z2)\n",
    "addf(s, x**2+z1+y1+exp(-y2))\n",
    "addf(s, 3.16-y1)\n",
    "addf(s, y2-24)\n",
    "setsolvefor(s, [x,z1,z2])"
   ]
  },
  {
   "cell_type": "code",
   "execution_count": 44,
   "id": "781d6bce-28c9-482b-94c6-b8299a0765b7",
   "metadata": {
    "execution": {
     "iopub.execute_input": "2022-05-01T00:51:20.781008Z",
     "iopub.status.busy": "2022-05-01T00:51:20.780008Z",
     "iopub.status.idle": "2022-05-01T00:51:20.799499Z",
     "shell.execute_reply": "2022-05-01T00:51:20.798654Z",
     "shell.execute_reply.started": "2022-05-01T00:51:20.781008Z"
    },
    "tags": []
   },
   "outputs": [],
   "source": [
    "edges = edges_from_components(model.components)\n",
    "tree = model.Ftree, model.Stree, model.Vtree"
   ]
  },
  {
   "cell_type": "code",
   "execution_count": 45,
   "id": "9555ace9-02cd-4c0f-bf04-d90c8012274e",
   "metadata": {
    "execution": {
     "iopub.execute_input": "2022-05-01T00:51:21.171954Z",
     "iopub.status.busy": "2022-05-01T00:51:21.171954Z",
     "iopub.status.idle": "2022-05-01T00:51:21.188633Z",
     "shell.execute_reply": "2022-05-01T00:51:21.187632Z",
     "shell.execute_reply.started": "2022-05-01T00:51:21.171954Z"
    },
    "tags": []
   },
   "outputs": [
    {
     "data": {
      "text/plain": [
       "(OrderedDict([(0, 2), (1, 2), (2, 2), (3, 2), (4, 2)]),\n",
       " {2: 1},\n",
       " {'x': 2, 'z1': 2, 'z2': 2})"
      ]
     },
     "execution_count": 45,
     "metadata": {},
     "output_type": "execute_result"
    }
   ],
   "source": [
    "tree"
   ]
  },
  {
   "cell_type": "code",
   "execution_count": 46,
   "id": "4fddaf2e-b411-46d4-838a-21270e2a8ba0",
   "metadata": {
    "execution": {
     "iopub.execute_input": "2022-05-01T00:51:24.011107Z",
     "iopub.status.busy": "2022-05-01T00:51:24.011107Z",
     "iopub.status.idle": "2022-05-01T00:51:24.020398Z",
     "shell.execute_reply": "2022-05-01T00:51:24.020398Z",
     "shell.execute_reply.started": "2022-05-01T00:51:24.011107Z"
    },
    "tags": []
   },
   "outputs": [],
   "source": [
    "nodetyperepr = {VAR: '{}', COMP: 'f_{}', SOLVER: 's_{}'}"
   ]
  },
  {
   "cell_type": "code",
   "execution_count": 47,
   "id": "52f95c5b-4518-4ef9-8050-05056ad6281e",
   "metadata": {
    "execution": {
     "iopub.execute_input": "2022-05-01T00:51:24.243805Z",
     "iopub.status.busy": "2022-05-01T00:51:24.243805Z",
     "iopub.status.idle": "2022-05-01T00:51:24.257166Z",
     "shell.execute_reply": "2022-05-01T00:51:24.256655Z",
     "shell.execute_reply.started": "2022-05-01T00:51:24.243805Z"
    },
    "tags": []
   },
   "outputs": [],
   "source": [
    "graphs = build_typedgraph(edges, tree, nodetyperepr)"
   ]
  },
  {
   "cell_type": "code",
   "execution_count": 50,
   "id": "a9dccab4-3e3a-434b-9c14-1137c58ec9bb",
   "metadata": {
    "execution": {
     "iopub.execute_input": "2022-05-01T00:52:07.750529Z",
     "iopub.status.busy": "2022-05-01T00:52:07.749615Z",
     "iopub.status.idle": "2022-05-01T00:52:07.761950Z",
     "shell.execute_reply": "2022-05-01T00:52:07.761472Z",
     "shell.execute_reply.started": "2022-05-01T00:52:07.750529Z"
    },
    "tags": []
   },
   "outputs": [
    {
     "data": {
      "text/plain": [
       "OutEdgeView([(s_2, y2), (s_2, x_x), (s_2, x_z1), (s_2, x_z2), (s_2, y1)])"
      ]
     },
     "execution_count": 50,
     "metadata": {},
     "output_type": "execute_result"
    }
   ],
   "source": [
    "graphs[1].edges()"
   ]
  },
  {
   "cell_type": "code",
   "execution_count": 48,
   "id": "2964c14e-8247-4133-918c-85cf996d3b9d",
   "metadata": {
    "execution": {
     "iopub.execute_input": "2022-05-01T00:51:24.632465Z",
     "iopub.status.busy": "2022-05-01T00:51:24.632465Z",
     "iopub.status.idle": "2022-05-01T00:51:25.104513Z",
     "shell.execute_reply": "2022-05-01T00:51:25.104513Z",
     "shell.execute_reply.started": "2022-05-01T00:51:24.632465Z"
    },
    "tags": []
   },
   "outputs": [
    {
     "data": {
      "image/png": "[encoded data removed]",
      "text/plain": [
       "<Figure size 432x432 with 1 Axes>"
      ]
     },
     "metadata": {},
     "output_type": "display_data"
    },
    {
     "data": {
      "image/png": "[encoded data removed]",
      "text/plain": [
       "<Figure size 432x432 with 1 Axes>"
      ]
     },
     "metadata": {},
     "output_type": "display_data"
    }
   ],
   "source": [
    "for key,graph in graphs.items():\n",
    "    draw_graph_graphical_props(graph, {}, prog='neato', figsize=(6,6))"
   ]
  },
  {
   "cell_type": "code",
   "execution_count": 35,
   "id": "7c9e4f85-a1ed-43b0-9989-19e1948f925e",
   "metadata": {
    "execution": {
     "iopub.execute_input": "2022-05-01T00:48:00.822663Z",
     "iopub.status.busy": "2022-05-01T00:48:00.822663Z",
     "iopub.status.idle": "2022-05-01T00:48:00.835286Z",
     "shell.execute_reply": "2022-05-01T00:48:00.834280Z",
     "shell.execute_reply.started": "2022-05-01T00:48:00.822663Z"
    },
    "tags": []
   },
   "outputs": [],
   "source": [
    "G = flat_graph_formulation(*edges)\n",
    "merge_order = sort_scc(G)"
   ]
  },
  {
   "cell_type": "code",
   "execution_count": null,
   "id": "c942a51f-0c28-45a4-9264-ab4785842ce1",
   "metadata": {},
   "outputs": [],
   "source": [
    "for key,graph in graphs.items():\n",
    "    draw_graph_graphical_props(graph, {}, prog='neato', figsize=(6,6))"
   ]
  },
  {
   "cell_type": "code",
   "execution_count": 32,
   "id": "92f5062b-87a4-4dc5-ba28-2443886ee418",
   "metadata": {
    "execution": {
     "iopub.execute_input": "2022-05-01T00:47:00.813635Z",
     "iopub.status.busy": "2022-05-01T00:47:00.812637Z",
     "iopub.status.idle": "2022-05-01T00:47:00.826929Z",
     "shell.execute_reply": "2022-05-01T00:47:00.826456Z",
     "shell.execute_reply.started": "2022-05-01T00:47:00.813635Z"
    },
    "tags": []
   },
   "outputs": [
    {
     "data": {
      "text/plain": [
       "({0: ('z1', 'z2', 'x', 'y2'),\n",
       "  1: ('z1', 'z2', 'y1'),\n",
       "  2: ('z1', 'x', 'y1', 'y2'),\n",
       "  3: ('y1',),\n",
       "  4: ('y2',)},\n",
       " {0: ('y1',), 1: ('y2',), 2: (None,), 3: (None,), 4: (None,)},\n",
       " {})"
      ]
     },
     "execution_count": 32,
     "metadata": {},
     "output_type": "execute_result"
    }
   ],
   "source": [
    "nedges, ntree = reorder_merge_solve(edges, tree, merge_order, 1, True)"
   ]
  },
  {
   "cell_type": "code",
   "execution_count": null,
   "id": "26384eec-6d9a-456f-a626-67f3a762cb1c",
   "metadata": {},
   "outputs": [],
   "source": []
  }
 ],
 "metadata": {
  "kernelspec": {
   "display_name": "Python [conda env:mdo]",
   "language": "python",
   "name": "conda-env-mdo-py"
  },
  "language_info": {
   "codemirror_mode": {
    "name": "ipython",
    "version": 3
   },
   "file_extension": ".py",
   "mimetype": "text/x-python",
   "name": "python",
   "nbconvert_exporter": "python",
   "pygments_lexer": "ipython3",
   "version": "3.9.7"
  }
 },
 "nbformat": 4,
 "nbformat_minor": 5
}
