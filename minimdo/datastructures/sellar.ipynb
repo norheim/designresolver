{
 "cells": [
  {
   "cell_type": "code",
   "execution_count": 19,
   "id": "e336401a-88b1-4773-9224-8b53e59c4b13",
   "metadata": {
    "execution": {
     "iopub.execute_input": "2022-05-02T05:01:37.187866Z",
     "iopub.status.busy": "2022-05-02T05:01:37.187866Z",
     "iopub.status.idle": "2022-05-02T05:01:37.204371Z",
     "shell.execute_reply": "2022-05-02T05:01:37.203401Z",
     "shell.execute_reply.started": "2022-05-02T05:01:37.187866Z"
    },
    "tags": []
   },
   "outputs": [],
   "source": [
    "from graphutils import draw_graph_graphical_props, flat_graph_formulation, Node, VAR, COMP, SOLVER, merge_edges, sources\n",
    "from graphutils import nested_sources, all_variables, edges_to_Ein_Eout\n",
    "from nestedgraph import build_typedgraph\n",
    "from compute import Var\n",
    "from api import Model, adda, addf, addsolver, setsolvefor\n",
    "from execution import edges_from_components, generate_components_and_residuals, Component\n",
    "from operators import sort_scc, reorder_merge_solve\n",
    "from nestedgraph import build_typedgraph\n",
    "from workflow import get_f, generate_workflow, implicit_comp_name, SOLVE, OPT, EQ, NEQ, OBJ, IMPL, EXPL, order_from_tree, ENDCOMP, default_solver_options\n",
    "from workflow import order_from_tree, default_solver_options, mdao_workflow, namefromid\n",
    "from workflow_mdao import mdao_workflow_with_args\n",
    "from assembly import architecture_mappings, buildidpvars"
   ]
  },
  {
   "cell_type": "code",
   "execution_count": 2,
   "id": "37516d35-9368-4db2-a6b2-de63b8304ea7",
   "metadata": {
    "execution": {
     "iopub.execute_input": "2022-05-02T05:01:08.087327Z",
     "iopub.status.busy": "2022-05-02T05:01:08.087327Z",
     "iopub.status.idle": "2022-05-02T05:01:08.102440Z",
     "shell.execute_reply": "2022-05-02T05:01:08.101498Z",
     "shell.execute_reply.started": "2022-05-02T05:01:08.087327Z"
    },
    "tags": []
   },
   "outputs": [],
   "source": [
    "import openmdao.api as om"
   ]
  },
  {
   "cell_type": "code",
   "execution_count": 3,
   "id": "9eeb1eee-c015-457d-bea8-22a474c3b176",
   "metadata": {
    "execution": {
     "iopub.execute_input": "2022-05-02T05:01:08.103426Z",
     "iopub.status.busy": "2022-05-02T05:01:08.103426Z",
     "iopub.status.idle": "2022-05-02T05:01:08.117508Z",
     "shell.execute_reply": "2022-05-02T05:01:08.117508Z",
     "shell.execute_reply.started": "2022-05-02T05:01:08.103426Z"
    },
    "tags": []
   },
   "outputs": [],
   "source": [
    "import autograd.numpy as anp"
   ]
  },
  {
   "cell_type": "code",
   "execution_count": 4,
   "id": "d551ec33-c3b4-423f-a64b-cad382489eb1",
   "metadata": {
    "execution": {
     "iopub.execute_input": "2022-05-02T05:01:08.119423Z",
     "iopub.status.busy": "2022-05-02T05:01:08.118425Z",
     "iopub.status.idle": "2022-05-02T05:01:08.133498Z",
     "shell.execute_reply": "2022-05-02T05:01:08.133498Z",
     "shell.execute_reply.started": "2022-05-02T05:01:08.119423Z"
    },
    "tags": []
   },
   "outputs": [],
   "source": [
    "from sympy import exp"
   ]
  },
  {
   "cell_type": "code",
   "execution_count": 5,
   "id": "9a1938cd-7ad2-4748-ad60-5c9ab95573c9",
   "metadata": {
    "execution": {
     "iopub.execute_input": "2022-05-02T05:01:08.134425Z",
     "iopub.status.busy": "2022-05-02T05:01:08.134425Z",
     "iopub.status.idle": "2022-05-02T05:01:08.149524Z",
     "shell.execute_reply": "2022-05-02T05:01:08.149524Z",
     "shell.execute_reply.started": "2022-05-02T05:01:08.134425Z"
    },
    "tags": []
   },
   "outputs": [],
   "source": [
    "z1,z2,x,y2 = Var('z1'), Var('z2'), Var('x'), Var('y2')"
   ]
  },
  {
   "cell_type": "code",
   "execution_count": 6,
   "id": "2cf5f6bd-ebbb-46de-98c2-43070bda5371",
   "metadata": {
    "execution": {
     "iopub.execute_input": "2022-05-02T05:01:08.150637Z",
     "iopub.status.busy": "2022-05-02T05:01:08.150637Z",
     "iopub.status.idle": "2022-05-02T05:01:08.212273Z",
     "shell.execute_reply": "2022-05-02T05:01:08.211292Z",
     "shell.execute_reply.started": "2022-05-02T05:01:08.150637Z"
    },
    "tags": []
   },
   "outputs": [],
   "source": [
    "model = Model()\n",
    "m = model.root\n",
    "a = adda(m, 'a', z2+x-0.2*y2)\n",
    "y1 = adda(m, 'y1', z1**2+a)\n",
    "adda(m, y2, y1**0.5+z1+z2)\n",
    "addf(m, x**2+z2+y1+exp(-y2)) #addobj\n",
    "addf(m, 3.16-y1) #addineq\n",
    "addf(m, y2-24) #addineq\n",
    "setsolvefor(m, [x,z1,z2])"
   ]
  },
  {
   "cell_type": "code",
   "execution_count": 7,
   "id": "781d6bce-28c9-482b-94c6-b8299a0765b7",
   "metadata": {
    "execution": {
     "iopub.execute_input": "2022-05-02T05:01:08.213304Z",
     "iopub.status.busy": "2022-05-02T05:01:08.212273Z",
     "iopub.status.idle": "2022-05-02T05:01:08.228369Z",
     "shell.execute_reply": "2022-05-02T05:01:08.227443Z",
     "shell.execute_reply.started": "2022-05-02T05:01:08.213304Z"
    },
    "tags": []
   },
   "outputs": [],
   "source": [
    "edges = edges_from_components(model.components)\n",
    "tree = model.Ftree, model.Stree, model.Vtree\n",
    "#solvers_options = model.solver_options\n",
    "#comp_options = model.comp_options"
   ]
  },
  {
   "cell_type": "code",
   "execution_count": 8,
   "id": "4fddaf2e-b411-46d4-838a-21270e2a8ba0",
   "metadata": {
    "execution": {
     "iopub.execute_input": "2022-05-02T05:01:08.229350Z",
     "iopub.status.busy": "2022-05-02T05:01:08.229350Z",
     "iopub.status.idle": "2022-05-02T05:01:08.243940Z",
     "shell.execute_reply": "2022-05-02T05:01:08.243438Z",
     "shell.execute_reply.started": "2022-05-02T05:01:08.229350Z"
    },
    "tags": []
   },
   "outputs": [],
   "source": [
    "nodetyperepr = {VAR: '{}', COMP: 'f_{}', SOLVER: 's_{}'}"
   ]
  },
  {
   "cell_type": "code",
   "execution_count": 9,
   "id": "7c9e4f85-a1ed-43b0-9989-19e1948f925e",
   "metadata": {
    "execution": {
     "iopub.execute_input": "2022-05-02T05:01:08.245954Z",
     "iopub.status.busy": "2022-05-02T05:01:08.244954Z",
     "iopub.status.idle": "2022-05-02T05:01:08.260437Z",
     "shell.execute_reply": "2022-05-02T05:01:08.259435Z",
     "shell.execute_reply.started": "2022-05-02T05:01:08.245954Z"
    },
    "tags": []
   },
   "outputs": [],
   "source": [
    "G = flat_graph_formulation(*edges)\n",
    "merge_order = sort_scc(G)"
   ]
  },
  {
   "cell_type": "code",
   "execution_count": 10,
   "id": "158ba641-264c-403b-996c-2eeea9a23ca7",
   "metadata": {
    "execution": {
     "iopub.execute_input": "2022-05-02T05:01:08.261438Z",
     "iopub.status.busy": "2022-05-02T05:01:08.261438Z",
     "iopub.status.idle": "2022-05-02T05:01:08.275276Z",
     "shell.execute_reply": "2022-05-02T05:01:08.275276Z",
     "shell.execute_reply.started": "2022-05-02T05:01:08.261438Z"
    },
    "tags": []
   },
   "outputs": [
    {
     "data": {
      "text/plain": [
       "[{f_0, f_1, f_2}, {f_3}, {f_5}, {f_4}]"
      ]
     },
     "execution_count": 10,
     "metadata": {},
     "output_type": "execute_result"
    }
   ],
   "source": [
    "merge_order"
   ]
  },
  {
   "cell_type": "code",
   "execution_count": 11,
   "id": "92f5062b-87a4-4dc5-ba28-2443886ee418",
   "metadata": {
    "execution": {
     "iopub.execute_input": "2022-05-02T05:01:08.277220Z",
     "iopub.status.busy": "2022-05-02T05:01:08.277220Z",
     "iopub.status.idle": "2022-05-02T05:01:08.291297Z",
     "shell.execute_reply": "2022-05-02T05:01:08.291297Z",
     "shell.execute_reply.started": "2022-05-02T05:01:08.277220Z"
    },
    "tags": []
   },
   "outputs": [],
   "source": [
    "nedges, ntree = reorder_merge_solve(edges, tree, merge_order, 1, True)"
   ]
  },
  {
   "cell_type": "code",
   "execution_count": 12,
   "id": "7ce404d2-e7e8-4e8a-9d3c-e7294397448b",
   "metadata": {
    "execution": {
     "iopub.execute_input": "2022-05-02T05:01:08.294217Z",
     "iopub.status.busy": "2022-05-02T05:01:08.294217Z",
     "iopub.status.idle": "2022-05-02T05:01:08.308222Z",
     "shell.execute_reply": "2022-05-02T05:01:08.307323Z",
     "shell.execute_reply.started": "2022-05-02T05:01:08.294217Z"
    },
    "tags": []
   },
   "outputs": [],
   "source": [
    "sequence = order_from_tree(ntree[0], ntree[1], nedges[1])"
   ]
  },
  {
   "cell_type": "code",
   "execution_count": 13,
   "id": "c08016e7-c647-4cc1-82c6-b6087f53bbf6",
   "metadata": {
    "execution": {
     "iopub.execute_input": "2022-05-02T05:01:08.309232Z",
     "iopub.status.busy": "2022-05-02T05:01:08.308222Z",
     "iopub.status.idle": "2022-05-02T05:01:08.323235Z",
     "shell.execute_reply": "2022-05-02T05:01:08.323235Z",
     "shell.execute_reply.started": "2022-05-02T05:01:08.309232Z"
    },
    "tags": []
   },
   "outputs": [
    {
     "data": {
      "text/plain": [
       "[(SOLVER, 1, None),\n",
       " (SOLVER, 2, 1),\n",
       " (ENDCOMP, [0, 1, 2], 2),\n",
       " (ENDCOMP, [3, 5, 4], 1)]"
      ]
     },
     "execution_count": 13,
     "metadata": {},
     "output_type": "execute_result"
    }
   ],
   "source": [
    "sequence"
   ]
  },
  {
   "cell_type": "code",
   "execution_count": 14,
   "id": "9be05c12-27e5-422c-9a69-fea46f1db6fd",
   "metadata": {
    "execution": {
     "iopub.execute_input": "2022-05-02T05:01:08.324216Z",
     "iopub.status.busy": "2022-05-02T05:01:08.324216Z",
     "iopub.status.idle": "2022-05-02T05:01:08.339230Z",
     "shell.execute_reply": "2022-05-02T05:01:08.339230Z",
     "shell.execute_reply.started": "2022-05-02T05:01:08.324216Z"
    },
    "tags": []
   },
   "outputs": [],
   "source": [
    "solvers_options = default_solver_options(ntree, {1: {'type': OPT}})"
   ]
  },
  {
   "cell_type": "code",
   "execution_count": 15,
   "id": "13a4cac3-2c59-492c-b434-0e2fe9f73cc8",
   "metadata": {
    "execution": {
     "iopub.execute_input": "2022-05-02T05:01:08.341238Z",
     "iopub.status.busy": "2022-05-02T05:01:08.340220Z",
     "iopub.status.idle": "2022-05-02T05:01:08.355297Z",
     "shell.execute_reply": "2022-05-02T05:01:08.355297Z",
     "shell.execute_reply.started": "2022-05-02T05:01:08.341238Z"
    },
    "tags": []
   },
   "outputs": [],
   "source": [
    "var_options = {'x': [0,10], 'z1': [0,10], 'z2': [0,10]}"
   ]
  },
  {
   "cell_type": "code",
   "execution_count": 20,
   "id": "bfb3d25c-f879-473c-9625-25c9c773f652",
   "metadata": {
    "execution": {
     "iopub.execute_input": "2022-05-02T05:01:41.446081Z",
     "iopub.status.busy": "2022-05-02T05:01:41.445147Z",
     "iopub.status.idle": "2022-05-02T05:01:41.456867Z",
     "shell.execute_reply": "2022-05-02T05:01:41.456356Z",
     "shell.execute_reply.started": "2022-05-02T05:01:41.446081Z"
    },
    "tags": []
   },
   "outputs": [],
   "source": [
    "wf = mdao_workflow(sequence, solvers_options, {3:OBJ, 4:NEQ, 5:NEQ}, {'x': [0,10], 'z1': [0,10], 'z2': [0,10]})"
   ]
  },
  {
   "cell_type": "code",
   "execution_count": 22,
   "id": "fb9db907-74d5-45bd-9451-7ebae1239e07",
   "metadata": {
    "execution": {
     "iopub.execute_input": "2022-05-02T05:01:58.105676Z",
     "iopub.status.busy": "2022-05-02T05:01:58.105676Z",
     "iopub.status.idle": "2022-05-02T05:01:58.122627Z",
     "shell.execute_reply": "2022-05-02T05:01:58.122627Z",
     "shell.execute_reply.started": "2022-05-02T05:01:58.105676Z"
    },
    "tags": []
   },
   "outputs": [],
   "source": [
    "components = generate_components_and_residuals(model, nedges)"
   ]
  },
  {
   "cell_type": "code",
   "execution_count": 23,
   "id": "7e3ce34c-0197-46c5-8daf-41dfc1b53aad",
   "metadata": {
    "execution": {
     "iopub.execute_input": "2022-05-02T05:01:58.538099Z",
     "iopub.status.busy": "2022-05-02T05:01:58.538099Z",
     "iopub.status.idle": "2022-05-02T05:01:58.543237Z",
     "shell.execute_reply": "2022-05-02T05:01:58.543237Z",
     "shell.execute_reply.started": "2022-05-02T05:01:58.538099Z"
    },
    "tags": []
   },
   "outputs": [],
   "source": [
    "lookup_f = get_f(components, nedges)"
   ]
  },
  {
   "cell_type": "code",
   "execution_count": 24,
   "id": "6bf98729-20a5-450e-b77f-3e5b3a240cdb",
   "metadata": {
    "execution": {
     "iopub.execute_input": "2022-05-02T05:01:58.710056Z",
     "iopub.status.busy": "2022-05-02T05:01:58.710056Z",
     "iopub.status.idle": "2022-05-02T05:01:58.716157Z",
     "shell.execute_reply": "2022-05-02T05:01:58.716157Z",
     "shell.execute_reply.started": "2022-05-02T05:01:58.710056Z"
    },
    "tags": []
   },
   "outputs": [],
   "source": [
    "namingfunc = namefromid({VAR: '{}', COMP: 'f{}', SOLVER: 's{}'})"
   ]
  },
  {
   "cell_type": "code",
   "execution_count": 25,
   "id": "f16fa355-e2f8-44e9-9df8-9fefa417cec4",
   "metadata": {
    "execution": {
     "iopub.execute_input": "2022-05-02T05:01:59.020336Z",
     "iopub.status.busy": "2022-05-02T05:01:59.019702Z",
     "iopub.status.idle": "2022-05-02T05:01:59.032248Z",
     "shell.execute_reply": "2022-05-02T05:01:59.031348Z",
     "shell.execute_reply.started": "2022-05-02T05:01:59.020336Z"
    },
    "tags": []
   },
   "outputs": [],
   "source": [
    "wfmdao = mdao_workflow_with_args(wf, lookup_f, namingfunc)"
   ]
  },
  {
   "cell_type": "code",
   "execution_count": 26,
   "id": "e224022d-e33b-4132-b171-3093ef065a33",
   "metadata": {
    "execution": {
     "iopub.execute_input": "2022-05-02T05:02:01.137152Z",
     "iopub.status.busy": "2022-05-02T05:02:01.137152Z",
     "iopub.status.idle": "2022-05-02T05:02:01.147138Z",
     "shell.execute_reply": "2022-05-02T05:02:01.147138Z",
     "shell.execute_reply.started": "2022-05-02T05:02:01.137152Z"
    },
    "tags": []
   },
   "outputs": [],
   "source": [
    "Ftree, Stree, Vtree = ntree\n",
    "Ein, Eout, Rin = nedges\n",
    "Ein = merge_edges(Ein, Rin)\n",
    "# Build MDO model\n",
    "prob = om.Problem()\n",
    "mdo_model = prob.model\n",
    "groups = {None:mdo_model, 'prob':prob}\n",
    "mdao_in = nested_sources(nedges, ntree, 1)\n",
    "buildidpvars(mdao_in, mdo_model)"
   ]
  },
  {
   "cell_type": "code",
   "execution_count": 27,
   "id": "a155f0ae-717e-40e1-969a-bedabed3ea27",
   "metadata": {
    "execution": {
     "iopub.execute_input": "2022-05-02T05:02:01.710988Z",
     "iopub.status.busy": "2022-05-02T05:02:01.710988Z",
     "iopub.status.idle": "2022-05-02T05:02:01.728063Z",
     "shell.execute_reply": "2022-05-02T05:02:01.727387Z",
     "shell.execute_reply.started": "2022-05-02T05:02:01.710988Z"
    },
    "tags": []
   },
   "outputs": [
    {
     "data": {
      "text/plain": [
       "{'x', 'z1', 'z2'}"
      ]
     },
     "execution_count": 27,
     "metadata": {},
     "output_type": "execute_result"
    }
   ],
   "source": [
    "mdao_in"
   ]
  },
  {
   "cell_type": "code",
   "execution_count": 28,
   "id": "68dfe2a9-6854-40bd-b558-e3a5f493ab6a",
   "metadata": {
    "execution": {
     "iopub.execute_input": "2022-05-02T05:02:02.552322Z",
     "iopub.status.busy": "2022-05-02T05:02:02.551322Z",
     "iopub.status.idle": "2022-05-02T05:02:02.572189Z",
     "shell.execute_reply": "2022-05-02T05:02:02.572189Z",
     "shell.execute_reply.started": "2022-05-02T05:02:02.552322Z"
    },
    "tags": []
   },
   "outputs": [],
   "source": [
    "architecture_mappings[OPT](groups, *wfmdao[0][1:])"
   ]
  },
  {
   "cell_type": "code",
   "execution_count": 29,
   "id": "5c077d67-c1ff-4bec-8dec-1a79c5d28e4e",
   "metadata": {
    "execution": {
     "iopub.execute_input": "2022-05-02T05:02:02.802191Z",
     "iopub.status.busy": "2022-05-02T05:02:02.801194Z",
     "iopub.status.idle": "2022-05-02T05:02:02.805928Z",
     "shell.execute_reply": "2022-05-02T05:02:02.805192Z",
     "shell.execute_reply.started": "2022-05-02T05:02:02.802191Z"
    },
    "tags": []
   },
   "outputs": [],
   "source": [
    "architecture_mappings[SOLVE](groups, *wfmdao[1][1:])"
   ]
  },
  {
   "cell_type": "code",
   "execution_count": 30,
   "id": "13e02fb2-40d5-4d86-a1a8-d5a496d4d05d",
   "metadata": {
    "execution": {
     "iopub.execute_input": "2022-05-02T05:02:02.973012Z",
     "iopub.status.busy": "2022-05-02T05:02:02.972017Z",
     "iopub.status.idle": "2022-05-02T05:02:02.993008Z",
     "shell.execute_reply": "2022-05-02T05:02:02.992072Z",
     "shell.execute_reply.started": "2022-05-02T05:02:02.973012Z"
    },
    "tags": []
   },
   "outputs": [],
   "source": [
    "architecture_mappings[IMPL](groups, *wfmdao[2][1:])"
   ]
  },
  {
   "cell_type": "code",
   "execution_count": 31,
   "id": "05a5514a-a23a-4dcb-8909-1712742ffeca",
   "metadata": {
    "execution": {
     "iopub.execute_input": "2022-05-02T05:02:03.144345Z",
     "iopub.status.busy": "2022-05-02T05:02:03.144345Z",
     "iopub.status.idle": "2022-05-02T05:02:03.165335Z",
     "shell.execute_reply": "2022-05-02T05:02:03.164433Z",
     "shell.execute_reply.started": "2022-05-02T05:02:03.144345Z"
    },
    "tags": []
   },
   "outputs": [],
   "source": [
    "architecture_mappings[OBJ](groups, *wfmdao[3])"
   ]
  },
  {
   "cell_type": "code",
   "execution_count": 32,
   "id": "d5d680b1-6414-4c5b-8290-afcf32e6f949",
   "metadata": {
    "execution": {
     "iopub.execute_input": "2022-05-02T05:02:03.303520Z",
     "iopub.status.busy": "2022-05-02T05:02:03.302535Z",
     "iopub.status.idle": "2022-05-02T05:02:03.321523Z",
     "shell.execute_reply": "2022-05-02T05:02:03.320521Z",
     "shell.execute_reply.started": "2022-05-02T05:02:03.303520Z"
    },
    "tags": []
   },
   "outputs": [],
   "source": [
    "architecture_mappings[NEQ](groups, *wfmdao[4])"
   ]
  },
  {
   "cell_type": "code",
   "execution_count": 33,
   "id": "d2bbbb6f-a142-4d47-bb47-7e64e2617078",
   "metadata": {
    "execution": {
     "iopub.execute_input": "2022-05-02T05:02:03.640985Z",
     "iopub.status.busy": "2022-05-02T05:02:03.640985Z",
     "iopub.status.idle": "2022-05-02T05:02:03.647454Z",
     "shell.execute_reply": "2022-05-02T05:02:03.647454Z",
     "shell.execute_reply.started": "2022-05-02T05:02:03.640985Z"
    },
    "tags": []
   },
   "outputs": [],
   "source": [
    "architecture_mappings[NEQ](groups, *wfmdao[5])"
   ]
  },
  {
   "cell_type": "code",
   "execution_count": 34,
   "id": "1f6271b2-f4e8-4e54-b84f-8b86a23ea5e0",
   "metadata": {
    "execution": {
     "iopub.execute_input": "2022-05-02T05:02:04.249693Z",
     "iopub.status.busy": "2022-05-02T05:02:04.248694Z",
     "iopub.status.idle": "2022-05-02T05:02:04.270833Z",
     "shell.execute_reply": "2022-05-02T05:02:04.270833Z",
     "shell.execute_reply.started": "2022-05-02T05:02:04.249693Z"
    },
    "tags": []
   },
   "outputs": [
    {
     "data": {
      "text/plain": [
       "<openmdao.core.problem.Problem at 0x23275dc4d60>"
      ]
     },
     "execution_count": 34,
     "metadata": {},
     "output_type": "execute_result"
    }
   ],
   "source": [
    "prob.setup()"
   ]
  },
  {
   "cell_type": "code",
   "execution_count": 35,
   "id": "bd64a9a1-cccb-4260-b8a6-05cb9a415b39",
   "metadata": {
    "execution": {
     "iopub.execute_input": "2022-05-02T05:02:04.737203Z",
     "iopub.status.busy": "2022-05-02T05:02:04.737203Z",
     "iopub.status.idle": "2022-05-02T05:02:04.756334Z",
     "shell.execute_reply": "2022-05-02T05:02:04.756334Z",
     "shell.execute_reply.started": "2022-05-02T05:02:04.737203Z"
    },
    "tags": []
   },
   "outputs": [],
   "source": [
    "prob.set_val('x', 1.0)\n",
    "prob.set_val('z1', 1.0)\n",
    "prob.set_val('z2', 1.0)"
   ]
  },
  {
   "cell_type": "code",
   "execution_count": 36,
   "id": "07c72eaf-c23e-42c3-bf58-674cad75ce04",
   "metadata": {
    "execution": {
     "iopub.execute_input": "2022-05-02T05:02:05.198829Z",
     "iopub.status.busy": "2022-05-02T05:02:05.198829Z",
     "iopub.status.idle": "2022-05-02T05:02:05.210843Z",
     "shell.execute_reply": "2022-05-02T05:02:05.209872Z",
     "shell.execute_reply.started": "2022-05-02T05:02:05.198829Z"
    },
    "tags": []
   },
   "outputs": [],
   "source": [
    "#prob.run_model()"
   ]
  },
  {
   "cell_type": "code",
   "execution_count": 37,
   "id": "65e093bd-ca4a-4081-ae4d-3b3bbd906365",
   "metadata": {
    "execution": {
     "iopub.execute_input": "2022-05-02T05:02:05.750287Z",
     "iopub.status.busy": "2022-05-02T05:02:05.750287Z",
     "iopub.status.idle": "2022-05-02T05:02:05.865189Z",
     "shell.execute_reply": "2022-05-02T05:02:05.864350Z",
     "shell.execute_reply.started": "2022-05-02T05:02:05.750287Z"
    },
    "tags": []
   },
   "outputs": [
    {
     "name": "stdout",
     "output_type": "stream",
     "text": [
      "\n",
      "=====\n",
      "s1.s2\n",
      "=====\n",
      "NL: Newton Converged in 3 iterations\n",
      "\n",
      "=====\n",
      "s1.s2\n",
      "=====\n",
      "NL: Newton Converged in 0 iterations\n",
      "\n",
      "=====\n",
      "s1.s2\n",
      "=====\n",
      "NL: Newton Converged in 3 iterations\n",
      "\n",
      "=====\n",
      "s1.s2\n",
      "=====\n",
      "NL: Newton Converged in 3 iterations\n",
      "\n",
      "=====\n",
      "s1.s2\n",
      "=====\n",
      "NL: Newton Converged in 2 iterations\n",
      "\n",
      "=====\n",
      "s1.s2\n",
      "=====\n",
      "NL: Newton Converged in 2 iterations\n",
      "\n",
      "=====\n",
      "s1.s2\n",
      "=====\n",
      "NL: Newton Converged in 2 iterations\n",
      "Optimization terminated successfully    (Exit mode 0)\n",
      "            Current function value: [3.18339414]\n",
      "            Iterations: 6\n",
      "            Function evaluations: 6\n",
      "            Gradient evaluations: 6\n",
      "Optimization Complete\n",
      "-----------------------------------\n"
     ]
    }
   ],
   "source": [
    "prob.run_driver();"
   ]
  },
  {
   "cell_type": "code",
   "execution_count": 38,
   "id": "b3300006-16af-4db2-8b0e-6d93a33e6009",
   "metadata": {
    "execution": {
     "iopub.execute_input": "2022-05-02T05:02:09.695007Z",
     "iopub.status.busy": "2022-05-02T05:02:09.694064Z",
     "iopub.status.idle": "2022-05-02T05:02:09.710972Z",
     "shell.execute_reply": "2022-05-02T05:02:09.709972Z",
     "shell.execute_reply.started": "2022-05-02T05:02:09.695007Z"
    },
    "tags": []
   },
   "outputs": [],
   "source": [
    "allvars = all_variables(*edges_to_Ein_Eout(edges))"
   ]
  },
  {
   "cell_type": "code",
   "execution_count": 39,
   "id": "dc74ebb8-19e0-444e-bdc1-d4e98ac0d026",
   "metadata": {
    "execution": {
     "iopub.execute_input": "2022-05-02T05:02:10.236186Z",
     "iopub.status.busy": "2022-05-02T05:02:10.236186Z",
     "iopub.status.idle": "2022-05-02T05:02:10.241309Z",
     "shell.execute_reply": "2022-05-02T05:02:10.241035Z",
     "shell.execute_reply.started": "2022-05-02T05:02:10.236186Z"
    },
    "tags": []
   },
   "outputs": [],
   "source": [
    "xopt = {key: prob.get_val(namingfunc(key, VAR))[0] for key in allvars}"
   ]
  },
  {
   "cell_type": "code",
   "execution_count": 42,
   "id": "c93bd683-3ac1-432a-9852-2eedc0c1a457",
   "metadata": {
    "execution": {
     "iopub.execute_input": "2022-05-02T04:41:57.336884Z",
     "iopub.status.busy": "2022-05-02T04:41:57.335883Z",
     "iopub.status.idle": "2022-05-02T04:41:57.358680Z",
     "shell.execute_reply": "2022-05-02T04:41:57.357771Z",
     "shell.execute_reply.started": "2022-05-02T04:41:57.336884Z"
    }
   },
   "outputs": [
    {
     "data": {
      "text/plain": [
       "{'y2': -0.15853055396246019,\n",
       " 'a': -4.840311002552851,\n",
       " 'y1': 3.1600000194450577,\n",
       " 'z2': -4.764651548547751,\n",
       " 'z1': 2.8284821056527667,\n",
       " 'x': -0.10736556479759275}"
      ]
     },
     "execution_count": 42,
     "metadata": {},
     "output_type": "execute_result"
    }
   ],
   "source": [
    "xopt"
   ]
  },
  {
   "cell_type": "code",
   "execution_count": 41,
   "id": "95caac8f-926b-4b9d-aca5-5cc341a911b6",
   "metadata": {
    "execution": {
     "iopub.execute_input": "2022-05-02T04:41:45.560985Z",
     "iopub.status.busy": "2022-05-02T04:41:45.560985Z",
     "iopub.status.idle": "2022-05-02T04:41:45.566983Z",
     "shell.execute_reply": "2022-05-02T04:41:45.566983Z",
     "shell.execute_reply.started": "2022-05-02T04:41:45.560985Z"
    },
    "tags": []
   },
   "outputs": [
    {
     "data": {
      "text/plain": [
       "[[-4.840311002552852],\n",
       " [3.160000019445058],\n",
       " [-0.15853055396251658],\n",
       " -0.4213364381619351,\n",
       " -1.9445057564126955e-08,\n",
       " -24.15853055396246]"
      ]
     },
     "execution_count": 41,
     "metadata": {},
     "output_type": "execute_result"
    }
   ],
   "source": [
    "[comp.evaldict(xopt) for comp in components[0:6]]"
   ]
  },
  {
   "cell_type": "code",
   "execution_count": 39,
   "id": "8d030727-849b-4134-885a-4d27e29b9fc4",
   "metadata": {
    "execution": {
     "iopub.execute_input": "2022-05-02T04:13:58.475239Z",
     "iopub.status.busy": "2022-05-02T04:13:58.475239Z",
     "iopub.status.idle": "2022-05-02T04:13:58.524824Z",
     "shell.execute_reply": "2022-05-02T04:13:58.524824Z",
     "shell.execute_reply.started": "2022-05-02T04:13:58.475239Z"
    },
    "tags": []
   },
   "outputs": [
    {
     "data": {
      "text/html": [
       "\n",
       "        <iframe\n",
       "            width=\"100%\"\n",
       "            height=\"700\"\n",
       "            src=\"n2.html\"\n",
       "            frameborder=\"0\"\n",
       "            allowfullscreen\n",
       "            \n",
       "        ></iframe>\n",
       "        "
      ],
      "text/plain": [
       "<IPython.lib.display.IFrame at 0x21bb1685be0>"
      ]
     },
     "metadata": {},
     "output_type": "display_data"
    }
   ],
   "source": [
    "om.n2(prob)"
   ]
  },
  {
   "cell_type": "code",
   "execution_count": 40,
   "id": "01cbb184-419a-4213-867d-34acb6347a21",
   "metadata": {
    "execution": {
     "iopub.execute_input": "2022-05-02T02:57:57.474175Z",
     "iopub.status.busy": "2022-05-02T02:57:57.474175Z",
     "iopub.status.idle": "2022-05-02T02:57:57.487286Z",
     "shell.execute_reply": "2022-05-02T02:57:57.487174Z",
     "shell.execute_reply.started": "2022-05-02T02:57:57.474175Z"
    },
    "tags": []
   },
   "outputs": [
    {
     "data": {
      "text/plain": [
       "{'x': 1, 'z1': 1, 'z2': 1, 'y2': 2, 'a': 2, 'y1': 2}"
      ]
     },
     "execution_count": 40,
     "metadata": {},
     "output_type": "execute_result"
    }
   ],
   "source": [
    "Vtree"
   ]
  },
  {
   "cell_type": "code",
   "execution_count": 30,
   "id": "18b02a2c-1db1-499d-8269-4d83da5cdca6",
   "metadata": {
    "execution": {
     "iopub.execute_input": "2022-05-01T03:46:09.113434Z",
     "iopub.status.busy": "2022-05-01T03:46:09.113434Z",
     "iopub.status.idle": "2022-05-01T03:46:09.128211Z",
     "shell.execute_reply": "2022-05-01T03:46:09.127659Z",
     "shell.execute_reply.started": "2022-05-01T03:46:09.113434Z"
    },
    "tags": []
   },
   "outputs": [],
   "source": [
    "workflow = generate_workflow(lookup_f, nedges, ntree, solvers_options={1: {'type': OPT}}, comp_options={2:OBJ, 3:NEQ, 4:NEQ})"
   ]
  },
  {
   "cell_type": "code",
   "execution_count": 31,
   "id": "5f9c82dd-9a77-462f-8d75-24600f2450f4",
   "metadata": {
    "execution": {
     "iopub.execute_input": "2022-05-01T03:46:09.773529Z",
     "iopub.status.busy": "2022-05-01T03:46:09.773529Z",
     "iopub.status.idle": "2022-05-01T03:46:09.787514Z",
     "shell.execute_reply": "2022-05-01T03:46:09.786514Z",
     "shell.execute_reply.started": "2022-05-01T03:46:09.773529Z"
    },
    "tags": []
   },
   "outputs": [
    {
     "data": {
      "text/plain": [
       "[(OPT, None, 's_1', {'type': OPT, 'designvars': ('x', 'z1', 'z2')}),\n",
       " (SOLVE, 's_1', 's_2', {'type': SOLVE}),\n",
       " (IMPL,\n",
       "  's_2',\n",
       "  'res_f0_f1',\n",
       "  [(['x_y2', 'x_z1', 'x_z2', 'x_x', 'x_y1'],\n",
       "    ['x_y1'],\n",
       "    <bound method Component.evaldict of (('y2', 'z1', 'z2', 'x', 'y1'), 0, (None,), 'None')>,\n",
       "    <bound method Component.graddict of (('y2', 'z1', 'z2', 'x', 'y1'), 0, (None,), 'None')>,\n",
       "    1.0),\n",
       "   (['x_y1', 'x_z1', 'x_z2', 'x_y2'],\n",
       "    ['x_y2'],\n",
       "    <bound method Component.evaldict of (('y1', 'z1', 'z2', 'y2'), 1, (None,), 'None')>,\n",
       "    <bound method Component.graddict of (('y1', 'z1', 'z2', 'y2'), 1, (None,), 'None')>,\n",
       "    1.0)]),\n",
       " (OBJ,\n",
       "  s_1,\n",
       "  OBJ,\n",
       "  (('y1', 'y2', 'z1', 'x'), 2, (None,), 'x**2 + y1 + z1 + exp(-y2)')),\n",
       " (NEQ, s_1, NEQ, (('y2',), 4, (None,), 'y2 - 24')),\n",
       " (NEQ, s_1, NEQ, (('y1',), 3, (None,), '3.16 - y1'))]"
      ]
     },
     "execution_count": 31,
     "metadata": {},
     "output_type": "execute_result"
    }
   ],
   "source": [
    "workflow"
   ]
  },
  {
   "cell_type": "code",
   "execution_count": null,
   "id": "82d3a49f-bf7c-4819-bdfb-173939e00590",
   "metadata": {},
   "outputs": [],
   "source": []
  }
 ],
 "metadata": {
  "kernelspec": {
   "display_name": "Python [conda env:mdo]",
   "language": "python",
   "name": "conda-env-mdo-py"
  },
  "language_info": {
   "codemirror_mode": {
    "name": "ipython",
    "version": 3
   },
   "file_extension": ".py",
   "mimetype": "text/x-python",
   "name": "python",
   "nbconvert_exporter": "python",
   "pygments_lexer": "ipython3",
   "version": "3.9.7"
  }
 },
 "nbformat": 4,
 "nbformat_minor": 5
}
