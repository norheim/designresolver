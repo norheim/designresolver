{
 "cells": [
  {
   "cell_type": "code",
   "execution_count": 1,
   "id": "fd53cab4-15c1-48a0-9b43-2de43acc1ffa",
   "metadata": {
    "execution": {
     "iopub.execute_input": "2022-05-10T19:09:53.841825Z",
     "iopub.status.busy": "2022-05-10T19:09:53.841324Z",
     "iopub.status.idle": "2022-05-10T19:09:55.507985Z",
     "shell.execute_reply": "2022-05-10T19:09:55.506946Z",
     "shell.execute_reply.started": "2022-05-10T19:09:53.841324Z"
    },
    "tags": []
   },
   "outputs": [],
   "source": [
    "from compute import Var, eqvar\n",
    "#from inputresolver import reassigneq, eqvars, eqsonly, default_out, mdf_order, default_in, idx_eqlist\n",
    "import numpy as np\n",
    "import sympy as sp\n",
    "#import networkx as nx\n",
    "#from representations import draw, bipartite_repr, digraph_repr\n",
    "from api import Model, adda, addf, addsolver, setsolvefor, addobj, addineq\n",
    "from workflow import OPT\n",
    "from collections import OrderedDict\n",
    "from runpipeline import run_valid_formulation"
   ]
  },
  {
   "cell_type": "code",
   "execution_count": 2,
   "id": "95cb089b-a28b-47c5-aa26-7a39cbac8f9f",
   "metadata": {
    "execution": {
     "iopub.execute_input": "2022-05-10T19:09:55.508978Z",
     "iopub.status.busy": "2022-05-10T19:09:55.508978Z",
     "iopub.status.idle": "2022-05-10T19:09:55.523004Z",
     "shell.execute_reply": "2022-05-10T19:09:55.522004Z",
     "shell.execute_reply.started": "2022-05-10T19:09:55.508978Z"
    },
    "tags": []
   },
   "outputs": [],
   "source": [
    "import matplotlib.pyplot as plt"
   ]
  },
  {
   "cell_type": "code",
   "execution_count": 3,
   "id": "a198a02b-0d3f-4380-8872-0a27a2e240b4",
   "metadata": {
    "execution": {
     "iopub.execute_input": "2022-05-10T19:09:55.524004Z",
     "iopub.status.busy": "2022-05-10T19:09:55.524004Z",
     "iopub.status.idle": "2022-05-10T19:09:55.538005Z",
     "shell.execute_reply": "2022-05-10T19:09:55.538005Z",
     "shell.execute_reply.started": "2022-05-10T19:09:55.524004Z"
    },
    "tags": []
   },
   "outputs": [],
   "source": [
    "from graphutils import namefromid, dfs_tree, SOLVER, VAR, COMP\n",
    "from execution import generate_components_and_residuals\n",
    "from workflow import get_f, order_from_tree, default_solver_options, mdao_workflow, implicit_comp_name\n",
    "from workflow_mdao import mdao_workflow_with_args\n",
    "from assembly import build_archi\n",
    "import openmdao.api as om"
   ]
  },
  {
   "cell_type": "code",
   "execution_count": 4,
   "id": "4c5bf652-8329-4d3c-873d-bafb1cca5a60",
   "metadata": {
    "execution": {
     "iopub.execute_input": "2022-05-10T19:09:55.540006Z",
     "iopub.status.busy": "2022-05-10T19:09:55.539006Z",
     "iopub.status.idle": "2022-05-10T19:09:55.554005Z",
     "shell.execute_reply": "2022-05-10T19:09:55.554005Z",
     "shell.execute_reply.started": "2022-05-10T19:09:55.540006Z"
    },
    "tags": []
   },
   "outputs": [],
   "source": [
    "b = [2, 2.5, 3]\n",
    "w = np.array([1.3, 1.5, 1.2])\n",
    "a1e = 0.2"
   ]
  },
  {
   "cell_type": "code",
   "execution_count": 5,
   "id": "6cc932a6-7b12-4122-9e5e-ffdf38d8b01e",
   "metadata": {
    "execution": {
     "iopub.execute_input": "2022-05-10T19:09:55.556005Z",
     "iopub.status.busy": "2022-05-10T19:09:55.555004Z",
     "iopub.status.idle": "2022-05-10T19:09:55.569010Z",
     "shell.execute_reply": "2022-05-10T19:09:55.569010Z",
     "shell.execute_reply.started": "2022-05-10T19:09:55.556005Z"
    },
    "tags": []
   },
   "outputs": [],
   "source": [
    "model = Model(solver=OPT)\n",
    "m = model.root"
   ]
  },
  {
   "cell_type": "code",
   "execution_count": 6,
   "id": "3af6092f-bc30-4fef-8451-354a2c6a9cb8",
   "metadata": {
    "execution": {
     "iopub.execute_input": "2022-05-10T19:09:55.571003Z",
     "iopub.status.busy": "2022-05-10T19:09:55.570003Z",
     "iopub.status.idle": "2022-05-10T19:09:55.632929Z",
     "shell.execute_reply": "2022-05-10T19:09:55.632204Z",
     "shell.execute_reply.started": "2022-05-10T19:09:55.571003Z"
    },
    "tags": []
   },
   "outputs": [],
   "source": [
    "x1, x2, x3, a2, a3 = Var('x1'), Var('x2'), Var('x3'), Var('a2'), Var('a3')\n",
    "a1 = adda(m, 'a1', 0.1*x1*a2+0.8*x1*a3+b[0])\n",
    "adda(m, a2, x2*a3+b[1])\n",
    "adda(m, a3, 0.1*x3*a1+0.8*x3*a2+b[2])\n",
    "addobj(m, (a1-a1e)**2+sp.Matrix([x1**2,x2**2,x3**2]).dot(w**2))"
   ]
  },
  {
   "cell_type": "code",
   "execution_count": 7,
   "id": "77e2659e-87b4-4140-9946-117167ca999a",
   "metadata": {
    "execution": {
     "iopub.execute_input": "2022-05-10T19:09:55.633938Z",
     "iopub.status.busy": "2022-05-10T19:09:55.633938Z",
     "iopub.status.idle": "2022-05-10T19:09:55.649156Z",
     "shell.execute_reply": "2022-05-10T19:09:55.648137Z",
     "shell.execute_reply.started": "2022-05-10T19:09:55.633938Z"
    },
    "tags": []
   },
   "outputs": [],
   "source": [
    "setsolvefor(m, [x1,x2,x3])"
   ]
  },
  {
   "cell_type": "code",
   "execution_count": 8,
   "id": "a6e2d382-d8ad-4022-ad45-d8760a061382",
   "metadata": {
    "execution": {
     "iopub.execute_input": "2022-05-10T19:09:55.650155Z",
     "iopub.status.busy": "2022-05-10T19:09:55.649156Z",
     "iopub.status.idle": "2022-05-10T19:09:55.663151Z",
     "shell.execute_reply": "2022-05-10T19:09:55.663151Z",
     "shell.execute_reply.started": "2022-05-10T19:09:55.649156Z"
    },
    "tags": []
   },
   "outputs": [],
   "source": [
    "edges, tree = model.generate_formulation()"
   ]
  },
  {
   "cell_type": "code",
   "execution_count": 9,
   "id": "ace31bdd-9041-4555-ad7a-70b68809ae8d",
   "metadata": {
    "execution": {
     "iopub.execute_input": "2022-05-10T19:09:55.665158Z",
     "iopub.status.busy": "2022-05-10T19:09:55.665158Z",
     "iopub.status.idle": "2022-05-10T19:09:55.679459Z",
     "shell.execute_reply": "2022-05-10T19:09:55.679153Z",
     "shell.execute_reply.started": "2022-05-10T19:09:55.665158Z"
    },
    "tags": []
   },
   "outputs": [
    {
     "data": {
      "text/plain": [
       "({0: ('a2', 'x1', 'a3'),\n",
       "  1: ('x2', 'a3'),\n",
       "  2: ('x3', 'a1', 'a2'),\n",
       "  3: ('x3', 'x2', 'a1', 'x1')},\n",
       " {0: ('a1',), 1: ('a2',), 2: ('a3',), 3: (None,)},\n",
       " {})"
      ]
     },
     "execution_count": 9,
     "metadata": {},
     "output_type": "execute_result"
    }
   ],
   "source": [
    "edges"
   ]
  },
  {
   "cell_type": "code",
   "execution_count": 10,
   "id": "38b7b93d-de89-481f-a210-0f197f0892cf",
   "metadata": {
    "execution": {
     "iopub.execute_input": "2022-05-10T19:09:55.682485Z",
     "iopub.status.busy": "2022-05-10T19:09:55.681986Z",
     "iopub.status.idle": "2022-05-10T19:09:55.694672Z",
     "shell.execute_reply": "2022-05-10T19:09:55.694485Z",
     "shell.execute_reply.started": "2022-05-10T19:09:55.682485Z"
    },
    "tags": []
   },
   "outputs": [],
   "source": [
    "def reorder(tree, order):\n",
    "    d = OrderedDict()\n",
    "    Ftree = tree[0]\n",
    "    for elt in order:\n",
    "        d[elt] = Ftree[elt]\n",
    "    for key,var in Ftree.items():\n",
    "        if key not in d:\n",
    "            d[key]=var\n",
    "    return d, tree[1], tree[2]"
   ]
  },
  {
   "cell_type": "code",
   "execution_count": 52,
   "id": "f45f6178-dda2-427d-93fe-136c15cbc336",
   "metadata": {
    "execution": {
     "iopub.execute_input": "2022-05-10T19:12:33.801584Z",
     "iopub.status.busy": "2022-05-10T19:12:33.801584Z",
     "iopub.status.idle": "2022-05-10T19:12:33.812083Z",
     "shell.execute_reply": "2022-05-10T19:12:33.811583Z",
     "shell.execute_reply.started": "2022-05-10T19:12:33.801584Z"
    },
    "tags": []
   },
   "outputs": [],
   "source": [
    "order = [1,0,2]"
   ]
  },
  {
   "cell_type": "code",
   "execution_count": 53,
   "id": "bbb09ca5-b3ce-412d-8add-eebf5ca98e8f",
   "metadata": {
    "execution": {
     "iopub.execute_input": "2022-05-10T19:12:34.172306Z",
     "iopub.status.busy": "2022-05-10T19:12:34.172306Z",
     "iopub.status.idle": "2022-05-10T19:12:34.185513Z",
     "shell.execute_reply": "2022-05-10T19:12:34.184595Z",
     "shell.execute_reply.started": "2022-05-10T19:12:34.172306Z"
    },
    "tags": []
   },
   "outputs": [],
   "source": [
    "rtree = reorder(tree, order)\n",
    "for elt in order:\n",
    "    rtree[0][elt] = 2\n",
    "rtree[1][2] = 1\n",
    "rtree[2]['a1']=2\n",
    "rtree[2]['a2']=2\n",
    "rtree[2]['a3']=2"
   ]
  },
  {
   "cell_type": "code",
   "execution_count": 54,
   "id": "e9a219ce-10b5-4c19-9b55-e57ef6e1db2d",
   "metadata": {
    "execution": {
     "iopub.execute_input": "2022-05-10T19:12:34.359881Z",
     "iopub.status.busy": "2022-05-10T19:12:34.359881Z",
     "iopub.status.idle": "2022-05-10T19:12:34.374886Z",
     "shell.execute_reply": "2022-05-10T19:12:34.373956Z",
     "shell.execute_reply.started": "2022-05-10T19:12:34.359881Z"
    },
    "tags": []
   },
   "outputs": [],
   "source": [
    "ordered_tree = rtree\n",
    "ordered_edges = edges\n",
    "comp_options = model.comp_options\n",
    "var_options = model.var_options\n",
    "solvers_options = model.solvers_options\n",
    "solvers_options[1].update({'optimizer': 'L-BFGS-B', 'maxiter': 75})\n",
    "solvers_options[2] = {'solver': 'GS', 'maxiter':20}\n",
    "nodetyperepr = model.nametyperepr\n",
    "namingfunc = namefromid(nodetyperepr)\n",
    "sequence = order_from_tree(ordered_tree[0], ordered_tree[1], ordered_edges[1])\n",
    "solvers_options = default_solver_options(ordered_tree, solvers_options)\n",
    "wf = mdao_workflow(sequence, solvers_options, comp_options, var_options)"
   ]
  },
  {
   "cell_type": "code",
   "execution_count": 64,
   "id": "ef55b1e5-22b8-4395-8fb3-710407810e3d",
   "metadata": {
    "execution": {
     "iopub.execute_input": "2022-05-10T19:14:38.989494Z",
     "iopub.status.busy": "2022-05-10T19:14:38.989494Z",
     "iopub.status.idle": "2022-05-10T19:14:39.006765Z",
     "shell.execute_reply": "2022-05-10T19:14:39.006497Z",
     "shell.execute_reply.started": "2022-05-10T19:14:38.989494Z"
    },
    "tags": []
   },
   "outputs": [
    {
     "data": {
      "text/plain": [
       "[(('a2', 'x1', 'a3'), 0, ('a1',), '0.1*a2*x1 + 0.8*a3*x1 + 2'),\n",
       " (('x2', 'a3'), 1, ('a2',), 'a3*x2 + 2.5'),\n",
       " (('x3', 'a1', 'a2'), 2, ('a3',), '0.1*a1*x3 + 0.8*a2*x3 + 3'),\n",
       " (('x3', 'x2', 'a1', 'x1'), 3, (None,), '1.69*x1**2 + 2.25*x2**2 + 1.44*x3**2 + (a1 - 0.2)**2')]"
      ]
     },
     "execution_count": 64,
     "metadata": {},
     "output_type": "execute_result"
    }
   ],
   "source": [
    "model.components"
   ]
  },
  {
   "cell_type": "code",
   "execution_count": 56,
   "id": "036050e7-077a-4fb1-8b76-eeb036ee9419",
   "metadata": {
    "execution": {
     "iopub.execute_input": "2022-05-10T19:12:34.716081Z",
     "iopub.status.busy": "2022-05-10T19:12:34.716081Z",
     "iopub.status.idle": "2022-05-10T19:12:34.732870Z",
     "shell.execute_reply": "2022-05-10T19:12:34.732124Z",
     "shell.execute_reply.started": "2022-05-10T19:12:34.716081Z"
    },
    "tags": []
   },
   "outputs": [],
   "source": [
    "components = model.components\n",
    "all_components = generate_components_and_residuals(components, ordered_edges)"
   ]
  },
  {
   "cell_type": "code",
   "execution_count": 57,
   "id": "4cdaf2ef-0331-4c4b-b9dd-2110b79a5228",
   "metadata": {
    "execution": {
     "iopub.execute_input": "2022-05-10T19:12:36.925872Z",
     "iopub.status.busy": "2022-05-10T19:12:36.924832Z",
     "iopub.status.idle": "2022-05-10T19:12:36.944992Z",
     "shell.execute_reply": "2022-05-10T19:12:36.944789Z",
     "shell.execute_reply.started": "2022-05-10T19:12:36.925872Z"
    },
    "tags": []
   },
   "outputs": [
    {
     "data": {
      "text/plain": [
       "[(('a2', 'x1', 'a3'), 0, ('a1',), '0.1*a2*x1 + 0.8*a3*x1 + 2'),\n",
       " (('x2', 'a3'), 1, ('a2',), 'a3*x2 + 2.5'),\n",
       " (('x3', 'a1', 'a2'), 2, ('a3',), '0.1*a1*x3 + 0.8*a2*x3 + 3'),\n",
       " (('x3', 'x2', 'a1', 'x1'), 3, (None,), '1.69*x1**2 + 2.25*x2**2 + 1.44*x3**2 + (a1 - 0.2)**2')]"
      ]
     },
     "execution_count": 57,
     "metadata": {},
     "output_type": "execute_result"
    }
   ],
   "source": [
    "all_components"
   ]
  },
  {
   "cell_type": "code",
   "execution_count": 58,
   "id": "17444c4c-9421-4468-803a-30acdc07cfa7",
   "metadata": {
    "execution": {
     "iopub.execute_input": "2022-05-10T19:12:37.232479Z",
     "iopub.status.busy": "2022-05-10T19:12:37.232479Z",
     "iopub.status.idle": "2022-05-10T19:12:37.242012Z",
     "shell.execute_reply": "2022-05-10T19:12:37.242012Z",
     "shell.execute_reply.started": "2022-05-10T19:12:37.232479Z"
    },
    "tags": []
   },
   "outputs": [],
   "source": [
    "lookup_f = get_f(all_components, ordered_edges)\n",
    "wfmdao = mdao_workflow_with_args(wf, lookup_f, namingfunc)\n",
    "prob, mdao_in, groups = build_archi(ordered_edges, ordered_tree, wfmdao, namingfunc)"
   ]
  },
  {
   "cell_type": "code",
   "execution_count": 59,
   "id": "ea997b27-15e1-45f5-ac1f-74028daf24cd",
   "metadata": {
    "execution": {
     "iopub.execute_input": "2022-05-10T19:12:37.447617Z",
     "iopub.status.busy": "2022-05-10T19:12:37.447114Z",
     "iopub.status.idle": "2022-05-10T19:12:37.460398Z",
     "shell.execute_reply": "2022-05-10T19:12:37.460130Z",
     "shell.execute_reply.started": "2022-05-10T19:12:37.447617Z"
    },
    "tags": []
   },
   "outputs": [],
   "source": [
    "recorder = om.SqliteRecorder(\"cases.sqlite\")\n",
    "solver = prob.model.s2.nonlinear_solver\n",
    "solver.add_recorder(recorder)\n",
    "#solver.recording_options['includes'] = ['*']\n",
    "#solver.recording_options['record_outputs'] = True\n",
    "#solver.options['use_apply_nonlinear'] = True"
   ]
  },
  {
   "cell_type": "code",
   "execution_count": 60,
   "id": "3ec04f0d-8506-41e9-85a0-944cea1cae48",
   "metadata": {
    "execution": {
     "iopub.execute_input": "2022-05-10T19:12:37.733719Z",
     "iopub.status.busy": "2022-05-10T19:12:37.733719Z",
     "iopub.status.idle": "2022-05-10T19:12:37.741719Z",
     "shell.execute_reply": "2022-05-10T19:12:37.739718Z",
     "shell.execute_reply.started": "2022-05-10T19:12:37.733719Z"
    },
    "tags": []
   },
   "outputs": [],
   "source": [
    "#prob.model.s1.f3.add_recorder(recorder)"
   ]
  },
  {
   "cell_type": "code",
   "execution_count": 61,
   "id": "13c11445-d62b-4134-ab96-2ca9d9c8cdd6",
   "metadata": {
    "execution": {
     "iopub.execute_input": "2022-05-10T19:12:39.237017Z",
     "iopub.status.busy": "2022-05-10T19:12:39.237017Z",
     "iopub.status.idle": "2022-05-10T19:12:39.245742Z",
     "shell.execute_reply": "2022-05-10T19:12:39.244843Z",
     "shell.execute_reply.started": "2022-05-10T19:12:39.237017Z"
    },
    "tags": []
   },
   "outputs": [],
   "source": [
    "for key,val in ordered_tree[0].items():\n",
    "    s = groups[namingfunc(val, SOLVER)]\n",
    "    f = getattr(s, namingfunc(key, COMP))\n",
    "    f.recording_options['options_excludes'] = ['component']"
   ]
  },
  {
   "cell_type": "code",
   "execution_count": 62,
   "id": "be3a0b68-bfed-4ccd-ad54-23a63d2d0d7b",
   "metadata": {
    "execution": {
     "iopub.execute_input": "2022-05-10T19:12:39.422480Z",
     "iopub.status.busy": "2022-05-10T19:12:39.422480Z",
     "iopub.status.idle": "2022-05-10T19:12:39.431477Z",
     "shell.execute_reply": "2022-05-10T19:12:39.431477Z",
     "shell.execute_reply.started": "2022-05-10T19:12:39.422480Z"
    },
    "tags": []
   },
   "outputs": [],
   "source": [
    "#prob.setup();"
   ]
  },
  {
   "cell_type": "code",
   "execution_count": 63,
   "id": "fa140f60-b1cc-4617-be34-de52b771cb99",
   "metadata": {
    "execution": {
     "iopub.execute_input": "2022-05-10T19:12:39.620621Z",
     "iopub.status.busy": "2022-05-10T19:12:39.620621Z",
     "iopub.status.idle": "2022-05-10T19:12:39.870459Z",
     "shell.execute_reply": "2022-05-10T19:12:39.870224Z",
     "shell.execute_reply.started": "2022-05-10T19:12:39.620621Z"
    },
    "tags": []
   },
   "outputs": [
    {
     "name": "stdout",
     "output_type": "stream",
     "text": [
      "\n",
      "==\n",
      "s2\n",
      "==\n",
      "NL: NLBGS Converged in 14 iterations\n",
      "\n",
      "==\n",
      "s2\n",
      "==\n",
      "NL: NLBGS Converged in 1 iterations\n",
      "\n",
      "==\n",
      "s2\n",
      "==\n",
      "NL: NLBGSSolver 'NL: NLBGS' on system 's2' failed to converge in 20 iterations.\n",
      "\n",
      "==\n",
      "s2\n",
      "==\n",
      "NL: NLBGS Converged in 14 iterations\n",
      "Optimization Complete\n",
      "-----------------------------------\n"
     ]
    }
   ],
   "source": [
    "prob.run_driver();"
   ]
  },
  {
   "cell_type": "code",
   "execution_count": 50,
   "id": "4f273b8d-38ed-46b1-9420-4fb9036699a6",
   "metadata": {
    "execution": {
     "iopub.execute_input": "2022-05-10T19:11:46.817406Z",
     "iopub.status.busy": "2022-05-10T19:11:46.817406Z",
     "iopub.status.idle": "2022-05-10T19:11:46.929454Z",
     "shell.execute_reply": "2022-05-10T19:11:46.929082Z",
     "shell.execute_reply.started": "2022-05-10T19:11:46.817406Z"
    },
    "tags": []
   },
   "outputs": [],
   "source": [
    "prob.cleanup();"
   ]
  },
  {
   "cell_type": "code",
   "execution_count": 24,
   "id": "b7f60327-ac58-42e6-bed7-5346a402c4fb",
   "metadata": {
    "execution": {
     "iopub.execute_input": "2022-05-10T19:10:01.022035Z",
     "iopub.status.busy": "2022-05-10T19:10:01.021031Z",
     "iopub.status.idle": "2022-05-10T19:10:01.052575Z",
     "shell.execute_reply": "2022-05-10T19:10:01.051650Z",
     "shell.execute_reply.started": "2022-05-10T19:10:01.022035Z"
    },
    "tags": []
   },
   "outputs": [],
   "source": [
    "cr = om.CaseReader(\"cases.sqlite\")\n",
    "solver_cases = cr.list_cases(out_stream=None);"
   ]
  },
  {
   "cell_type": "code",
   "execution_count": 25,
   "id": "1fd0ba14-adea-4dea-8ec0-07e2bd940dd7",
   "metadata": {
    "execution": {
     "iopub.execute_input": "2022-05-10T19:10:01.242803Z",
     "iopub.status.busy": "2022-05-10T19:10:01.242243Z",
     "iopub.status.idle": "2022-05-10T19:10:01.364973Z",
     "shell.execute_reply": "2022-05-10T19:10:01.364973Z",
     "shell.execute_reply.started": "2022-05-10T19:10:01.242243Z"
    },
    "tags": []
   },
   "outputs": [
    {
     "data": {
      "image/png": "[encoded data removed]",
      "text/plain": [
       "<Figure size 432x288 with 1 Axes>"
      ]
     },
     "metadata": {
      "needs_background": "light"
     },
     "output_type": "display_data"
    }
   ],
   "source": [
    "plt.plot([cr.get_case(elt).get_val('a3') for elt in solver_cases], '.--');"
   ]
  },
  {
   "cell_type": "code",
   "execution_count": 44,
   "id": "d657e3c9-78e0-4006-bd1f-9852350a6a7f",
   "metadata": {
    "execution": {
     "iopub.execute_input": "2022-05-10T16:53:24.578752Z",
     "iopub.status.busy": "2022-05-10T16:53:24.578256Z",
     "iopub.status.idle": "2022-05-10T16:53:24.584751Z",
     "shell.execute_reply": "2022-05-10T16:53:24.584250Z",
     "shell.execute_reply.started": "2022-05-10T16:53:24.578752Z"
    },
    "tags": []
   },
   "outputs": [],
   "source": [
    "last_case = cr.get_case(solver_cases[1])"
   ]
  },
  {
   "cell_type": "code",
   "execution_count": 27,
   "id": "b4e6220b-5380-4f62-a550-73c95e092071",
   "metadata": {
    "execution": {
     "iopub.execute_input": "2022-05-10T16:48:56.220875Z",
     "iopub.status.busy": "2022-05-10T16:48:56.220875Z",
     "iopub.status.idle": "2022-05-10T16:48:56.228685Z",
     "shell.execute_reply": "2022-05-10T16:48:56.227870Z",
     "shell.execute_reply.started": "2022-05-10T16:48:56.220875Z"
    },
    "tags": []
   },
   "outputs": [
    {
     "name": "stdout",
     "output_type": "stream",
     "text": [
      "4 Explicit Output(s) in 's1'\n",
      "\n",
      "varname  val         \n",
      "-------  ------------\n",
      "s2\n",
      "  f1\n",
      "    a2   [6.11164591]\n",
      "  f2\n",
      "    a3   [4.14782579]\n",
      "  f0\n",
      "    a1   [2.81228746]\n",
      "f3\n",
      "  obj3   [8.67312201]\n",
      "\n",
      "\n",
      "0 Implicit Output(s) in 's1'\n",
      "\n",
      "\n"
     ]
    }
   ],
   "source": [
    "last_case.list_outputs();"
   ]
  },
  {
   "cell_type": "code",
   "execution_count": 75,
   "id": "ed53f970-58fa-4e94-9acd-df9760759cc3",
   "metadata": {
    "execution": {
     "iopub.execute_input": "2022-05-04T17:19:07.849295Z",
     "iopub.status.busy": "2022-05-04T17:19:07.849295Z",
     "iopub.status.idle": "2022-05-04T17:19:07.859039Z",
     "shell.execute_reply": "2022-05-04T17:19:07.858947Z",
     "shell.execute_reply.started": "2022-05-04T17:19:07.849295Z"
    },
    "tags": []
   },
   "outputs": [
    {
     "data": {
      "text/plain": [
       "[]"
      ]
     },
     "execution_count": 75,
     "metadata": {},
     "output_type": "execute_result"
    }
   ],
   "source": [
    "list(solver_cases)"
   ]
  },
  {
   "cell_type": "code",
   "execution_count": 54,
   "id": "66949fcf-00b6-4f51-8468-53daf00335b8",
   "metadata": {
    "execution": {
     "iopub.execute_input": "2022-05-04T16:30:11.439645Z",
     "iopub.status.busy": "2022-05-04T16:30:11.439645Z",
     "iopub.status.idle": "2022-05-04T16:30:11.455638Z",
     "shell.execute_reply": "2022-05-04T16:30:11.454715Z",
     "shell.execute_reply.started": "2022-05-04T16:30:11.439645Z"
    },
    "tags": []
   },
   "outputs": [
    {
     "name": "stdout",
     "output_type": "stream",
     "text": [
      "7 Explicit Output(s) in 'model'\n",
      "\n",
      "varname   val          \n",
      "--------  -------------\n",
      "inp\n",
      "  x1      [-0.50713742]\n",
      "  x3      [0.17880901] \n",
      "  x2      [0.0474264]  \n",
      "s1\n",
      "  s2\n",
      "    f0\n",
      "      a1  [0.48996124] \n",
      "    f1\n",
      "      a2  [2.66074577] \n",
      "    f2\n",
      "      a3  [3.3893732]  \n",
      "  f3\n",
      "    obj3  [0.56982733] \n",
      "\n",
      "\n",
      "0 Implicit Output(s) in 'model'\n",
      "\n",
      "\n"
     ]
    }
   ],
   "source": [
    "prob.model.list_outputs();"
   ]
  },
  {
   "cell_type": "code",
   "execution_count": 90,
   "id": "006e32df-b03a-4d8e-b816-302abcfe43f9",
   "metadata": {
    "execution": {
     "iopub.execute_input": "2022-05-04T16:09:30.312811Z",
     "iopub.status.busy": "2022-05-04T16:09:30.312811Z",
     "iopub.status.idle": "2022-05-04T16:09:30.323047Z",
     "shell.execute_reply": "2022-05-04T16:09:30.322045Z",
     "shell.execute_reply.started": "2022-05-04T16:09:30.312811Z"
    },
    "tags": []
   },
   "outputs": [
    {
     "data": {
      "text/plain": [
       "35"
      ]
     },
     "execution_count": 90,
     "metadata": {},
     "output_type": "execute_result"
    }
   ],
   "source": [
    "prob.model.s1.s2.iter_count_apply"
   ]
  },
  {
   "cell_type": "code",
   "execution_count": 55,
   "id": "d175e7ab-23f8-4e2b-8c54-3de47fa992d2",
   "metadata": {
    "execution": {
     "iopub.execute_input": "2022-05-04T16:04:51.841864Z",
     "iopub.status.busy": "2022-05-04T16:04:51.841864Z",
     "iopub.status.idle": "2022-05-04T16:04:51.861415Z",
     "shell.execute_reply": "2022-05-04T16:04:51.861415Z",
     "shell.execute_reply.started": "2022-05-04T16:04:51.841864Z"
    },
    "tags": []
   },
   "outputs": [],
   "source": [
    "prob, mdao_in, groups = run_valid_formulation(edges, rtree, model.components, model.solvers_options, model.comp_options, model.var_options, \n",
    "                                            model.nametyperepr)"
   ]
  },
  {
   "cell_type": "code",
   "execution_count": null,
   "id": "df036f6a-5f0a-46bc-897e-a9912f426d8a",
   "metadata": {},
   "outputs": [],
   "source": []
  },
  {
   "cell_type": "code",
   "execution_count": null,
   "id": "046dba10-ede8-4fb4-8a09-891d892875dc",
   "metadata": {},
   "outputs": [],
   "source": [
    "setsolvefor(m, [x,z1,z2], {x:[0,10], z1:[0,10], z2:[0,10]})"
   ]
  }
 ],
 "metadata": {
  "kernelspec": {
   "display_name": "Python [conda env:mdo]",
   "language": "python",
   "name": "conda-env-mdo-py"
  },
  "language_info": {
   "codemirror_mode": {
    "name": "ipython",
    "version": 3
   },
   "file_extension": ".py",
   "mimetype": "text/x-python",
   "name": "python",
   "nbconvert_exporter": "python",
   "pygments_lexer": "ipython3",
   "version": "3.9.7"
  }
 },
 "nbformat": 4,
 "nbformat_minor": 5
}
