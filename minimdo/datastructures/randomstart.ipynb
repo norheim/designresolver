{
 "cells": [
  {
   "cell_type": "code",
   "execution_count": 5,
   "id": "c173232e-ea45-4234-a7bf-1aa9665037fc",
   "metadata": {
    "execution": {
     "iopub.execute_input": "2022-04-18T15:56:21.628830Z",
     "iopub.status.busy": "2022-04-18T15:56:21.628830Z",
     "iopub.status.idle": "2022-04-18T15:56:21.640617Z",
     "shell.execute_reply": "2022-04-18T15:56:21.639694Z",
     "shell.execute_reply.started": "2022-04-18T15:56:21.628830Z"
    }
   },
   "outputs": [
    {
     "name": "stdout",
     "output_type": "stream",
     "text": [
      "C:\\Users\\johan\\github\\designresolver\n"
     ]
    }
   ],
   "source": [
    "cd .."
   ]
  },
  {
   "cell_type": "code",
   "execution_count": 6,
   "id": "9762ff38-38e2-482e-bdea-c6e8b2a02dbf",
   "metadata": {
    "execution": {
     "iopub.execute_input": "2022-04-18T15:56:21.894168Z",
     "iopub.status.busy": "2022-04-18T15:56:21.894168Z",
     "iopub.status.idle": "2022-04-18T15:56:23.099609Z",
     "shell.execute_reply": "2022-04-18T15:56:23.098997Z",
     "shell.execute_reply.started": "2022-04-18T15:56:21.894168Z"
    },
    "tags": []
   },
   "outputs": [],
   "source": [
    "from executeformulations import generate_x0"
   ]
  },
  {
   "cell_type": "code",
   "execution_count": 7,
   "id": "4d1e2bc2-955a-4d2a-98c0-dae1da6ef99e",
   "metadata": {
    "execution": {
     "iopub.execute_input": "2022-04-18T15:56:23.789310Z",
     "iopub.status.busy": "2022-04-18T15:56:23.789226Z",
     "iopub.status.idle": "2022-04-18T15:56:23.803510Z",
     "shell.execute_reply": "2022-04-18T15:56:23.803239Z",
     "shell.execute_reply.started": "2022-04-18T15:56:23.789310Z"
    },
    "tags": []
   },
   "outputs": [],
   "source": [
    "def perturb_inputs(root_ins, root_rand_range, solver_ins, solver_rand_range, xref=None):\n",
    "    if xref:\n",
    "        xref = dict(xref) # copy for immutability\n",
    "        x0_solvers = {key:xref[key] for key in solver_ins} \n",
    "        x0_solvers = generate_x0(optres=x0_solvers, rand_range=solver_rand_range)\n",
    "    else:\n",
    "        xref = generate_x0(root_ins, rand_range=root_rand_range)\n",
    "        x0_solvers = generate_x0(solver_ins, rand_range=solver_rand_range)\n",
    "    xref.update(x0_solvers)\n",
    "    return xref"
   ]
  },
  {
   "cell_type": "code",
   "execution_count": 30,
   "id": "bfea2094-ce4e-4a26-a48f-d6beaf16ee6c",
   "metadata": {
    "execution": {
     "iopub.execute_input": "2022-04-18T17:36:02.346960Z",
     "iopub.status.busy": "2022-04-18T17:36:02.345963Z",
     "iopub.status.idle": "2022-04-18T17:36:02.352794Z",
     "shell.execute_reply": "2022-04-18T17:36:02.352045Z",
     "shell.execute_reply.started": "2022-04-18T17:36:02.346960Z"
    },
    "tags": []
   },
   "outputs": [],
   "source": [
    "x0 = {'x0': 10, 'x1': 10, 'x2':0, 'x3':0}"
   ]
  },
  {
   "cell_type": "code",
   "execution_count": 32,
   "id": "80344b6a-978e-424b-824a-8cbc9680aa4e",
   "metadata": {
    "execution": {
     "iopub.execute_input": "2022-04-18T17:36:21.245292Z",
     "iopub.status.busy": "2022-04-18T17:36:21.245292Z",
     "iopub.status.idle": "2022-04-18T17:36:21.259607Z",
     "shell.execute_reply": "2022-04-18T17:36:21.259607Z",
     "shell.execute_reply.started": "2022-04-18T17:36:21.245292Z"
    },
    "tags": []
   },
   "outputs": [
    {
     "data": {
      "text/plain": [
       "{'x0': 10, 'x1': 7.047488532005123, 'x2': -8.690654712291412, 'x3': 0}"
      ]
     },
     "execution_count": 32,
     "metadata": {},
     "output_type": "execute_result"
    }
   ],
   "source": [
    "perturb_inputs(['x0'], (1,2), ['x2','x1'], (0,10), x0)"
   ]
  },
  {
   "cell_type": "code",
   "execution_count": null,
   "id": "f78bedf1-a252-4244-beaf-16129a975212",
   "metadata": {},
   "outputs": [],
   "source": []
  }
 ],
 "metadata": {
  "kernelspec": {
   "display_name": "Python [conda env:mdo]",
   "language": "python",
   "name": "conda-env-mdo-py"
  },
  "language_info": {
   "codemirror_mode": {
    "name": "ipython",
    "version": 3
   },
   "file_extension": ".py",
   "mimetype": "text/x-python",
   "name": "python",
   "nbconvert_exporter": "python",
   "pygments_lexer": "ipython3",
   "version": "3.9.7"
  }
 },
 "nbformat": 4,
 "nbformat_minor": 5
}
