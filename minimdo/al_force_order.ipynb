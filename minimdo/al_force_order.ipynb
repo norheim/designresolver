{
 "cells": [
  {
   "cell_type": "code",
   "execution_count": 1,
   "id": "36c8c3db-73f1-40c6-99de-01a69da6332c",
   "metadata": {
    "execution": {
     "iopub.execute_input": "2022-02-02T13:48:41.318012Z",
     "iopub.status.busy": "2022-02-02T13:48:41.317012Z",
     "iopub.status.idle": "2022-02-02T13:48:48.210503Z",
     "shell.execute_reply": "2022-02-02T13:48:48.209501Z",
     "shell.execute_reply.started": "2022-02-02T13:48:41.318012Z"
    },
    "tags": []
   },
   "outputs": [],
   "source": [
    "from compute import Var, Par, Model, adda, addf, ureg, Evaluable, buildidpvars\n",
    "from compute import RefNode, SolverNode, addsolver, geteqs, END\n",
    "from representations import render_tree, digraph_repr, drawfull, tree_incidence\n",
    "from notation import graphs_from_incidence, make_acyclic, solvers_bottom_up, generate_execution, default_sequence\n",
    "from datastructures import notation_from_tree\n",
    "from operators import merge_pure\n",
    "from anytree import LevelOrderIter\n",
    "import networkx as nx\n",
    "import matplotlib.pyplot as plt"
   ]
  },
  {
   "cell_type": "code",
   "execution_count": 2,
   "id": "335dc0cb-9433-4755-9746-bbe1721de8cc",
   "metadata": {
    "execution": {
     "iopub.execute_input": "2022-02-02T13:48:48.214503Z",
     "iopub.status.busy": "2022-02-02T13:48:48.213503Z",
     "iopub.status.idle": "2022-02-02T13:48:48.227509Z",
     "shell.execute_reply": "2022-02-02T13:48:48.225503Z",
     "shell.execute_reply.started": "2022-02-02T13:48:48.214503Z"
    },
    "tags": []
   },
   "outputs": [],
   "source": [
    "x,c,d,a,b = Var('x'), Var('c'), Var('d'), Var('a'), Var('b')"
   ]
  },
  {
   "cell_type": "code",
   "execution_count": 19,
   "id": "6655f23c-201c-4174-8c00-e67308c2404a",
   "metadata": {
    "execution": {
     "iopub.execute_input": "2022-02-02T13:57:00.691951Z",
     "iopub.status.busy": "2022-02-02T13:57:00.690915Z",
     "iopub.status.idle": "2022-02-02T13:57:00.715912Z",
     "shell.execute_reply": "2022-02-02T13:57:00.714936Z",
     "shell.execute_reply.started": "2022-02-02T13:57:00.691951Z"
    },
    "tags": []
   },
   "outputs": [],
   "source": [
    "model = Model()\n",
    "m = RefNode(name='/', ref=model)\n",
    "f0 = addf(m, -y+x, name='f_{0}')\n",
    "f1 = addf(m, -a+c+y, name='f_{1}')\n",
    "b = adda(m, 'b', a)\n",
    "#r_3 = addf(m, b+d)\n",
    "#r_4 = addf(m, a+d)\n",
    "#s2 = addsolver(m, [], [(r_4, d)], name='s2')\n",
    "e = adda(m, 'e', c+b)"
   ]
  },
  {
   "cell_type": "code",
   "execution_count": 20,
   "id": "a229df83-cbe4-428e-8b99-bd9de309d2ba",
   "metadata": {
    "execution": {
     "iopub.execute_input": "2022-02-02T13:57:01.586933Z",
     "iopub.status.busy": "2022-02-02T13:57:01.584977Z",
     "iopub.status.idle": "2022-02-02T13:57:01.608921Z",
     "shell.execute_reply": "2022-02-02T13:57:01.605926Z",
     "shell.execute_reply.started": "2022-02-02T13:57:01.586933Z"
    },
    "tags": []
   },
   "outputs": [],
   "source": [
    "#f_0, f_1, f_2, f_5 = geteqs(m, [y,a,b, e])\n",
    "f_2, f_3 = geteqs(m, [b, e])"
   ]
  },
  {
   "cell_type": "code",
   "execution_count": 11,
   "id": "b67565e6-0736-4cec-bc5d-88a114497443",
   "metadata": {
    "execution": {
     "iopub.execute_input": "2022-02-02T13:49:23.566687Z",
     "iopub.status.busy": "2022-02-02T13:49:23.566687Z",
     "iopub.status.idle": "2022-02-02T13:49:23.574683Z",
     "shell.execute_reply": "2022-02-02T13:49:23.573683Z",
     "shell.execute_reply.started": "2022-02-02T13:49:23.566687Z"
    },
    "tags": []
   },
   "outputs": [
    {
     "data": {
      "text/plain": [
       "<f_{3}>"
      ]
     },
     "execution_count": 11,
     "metadata": {},
     "output_type": "execute_result"
    }
   ],
   "source": [
    "f_5"
   ]
  },
  {
   "cell_type": "code",
   "execution_count": 21,
   "id": "91b49488-6dbc-42c6-8c2c-0a2d0f561f61",
   "metadata": {
    "execution": {
     "iopub.execute_input": "2022-02-02T13:57:19.151496Z",
     "iopub.status.busy": "2022-02-02T13:57:19.150453Z",
     "iopub.status.idle": "2022-02-02T13:57:19.173453Z",
     "shell.execute_reply": "2022-02-02T13:57:19.172453Z",
     "shell.execute_reply.started": "2022-02-02T13:57:19.151496Z"
    },
    "tags": []
   },
   "outputs": [],
   "source": [
    "s1 = addsolver(m, [f_2, f_3], [(f1, a), (f0, y)], name='s1') # could still be cyclic at this point\n",
    "#f_1.node_type = END\n",
    "#f_2.node_type = END\n",
    "#s1 = addsolver(m, [f_0, f_1, f_2, s2], [(r_3, c)], name='s1') # could still be cyclic at this point"
   ]
  },
  {
   "cell_type": "code",
   "execution_count": 22,
   "id": "e9be6fbf-ec0c-4f46-9086-89d0c0c7e8f5",
   "metadata": {
    "execution": {
     "iopub.execute_input": "2022-02-02T13:57:19.668843Z",
     "iopub.status.busy": "2022-02-02T13:57:19.667850Z",
     "iopub.status.idle": "2022-02-02T13:57:19.675849Z",
     "shell.execute_reply": "2022-02-02T13:57:19.674845Z",
     "shell.execute_reply.started": "2022-02-02T13:57:19.667850Z"
    },
    "tags": []
   },
   "outputs": [
    {
     "name": "stdout",
     "output_type": "stream",
     "text": [
      "/               \n",
      "└── s1, SOLVER  \n",
      "    ├── f_{2}, INTER\n",
      "    ├── f_{3}, INTER\n",
      "    ├── f_{1}, END\n",
      "    └── f_{0}, END\n"
     ]
    }
   ],
   "source": [
    "render_tree(m, True)"
   ]
  },
  {
   "cell_type": "code",
   "execution_count": 14,
   "id": "2310b56f-e78c-435c-870f-bfe7d0617471",
   "metadata": {
    "execution": {
     "iopub.execute_input": "2022-02-02T13:49:26.696094Z",
     "iopub.status.busy": "2022-02-02T13:49:26.695096Z",
     "iopub.status.idle": "2022-02-02T13:49:26.711088Z",
     "shell.execute_reply": "2022-02-02T13:49:26.710091Z",
     "shell.execute_reply.started": "2022-02-02T13:49:26.696094Z"
    },
    "tags": []
   },
   "outputs": [],
   "source": [
    "G, graphs = graphs_from_incidence(m, True)"
   ]
  },
  {
   "cell_type": "code",
   "execution_count": 7,
   "id": "520445b4-0b8e-4e1b-8125-a42272bb3025",
   "metadata": {
    "execution": {
     "iopub.execute_input": "2022-02-02T13:38:35.307037Z",
     "iopub.status.busy": "2022-02-02T13:38:35.306039Z",
     "iopub.status.idle": "2022-02-02T13:38:35.327037Z",
     "shell.execute_reply": "2022-02-02T13:38:35.326034Z",
     "shell.execute_reply.started": "2022-02-02T13:38:35.307037Z"
    },
    "tags": []
   },
   "outputs": [],
   "source": [
    "m2 = make_acyclic(m, graphs)"
   ]
  },
  {
   "cell_type": "code",
   "execution_count": 8,
   "id": "115a0282-66c9-4e90-9559-3eefe29cf289",
   "metadata": {
    "execution": {
     "iopub.execute_input": "2022-02-02T13:38:35.568039Z",
     "iopub.status.busy": "2022-02-02T13:38:35.567035Z",
     "iopub.status.idle": "2022-02-02T13:38:35.579035Z",
     "shell.execute_reply": "2022-02-02T13:38:35.578039Z",
     "shell.execute_reply.started": "2022-02-02T13:38:35.568039Z"
    },
    "tags": []
   },
   "outputs": [
    {
     "name": "stdout",
     "output_type": "stream",
     "text": [
      "/               \n",
      "├── f_{0}, INTER\n",
      "├── f_{1}, INTER\n",
      "├── f_{2}, INTER\n",
      "└── f_{3}, INTER\n"
     ]
    }
   ],
   "source": [
    "render_tree(m2, True)"
   ]
  },
  {
   "cell_type": "markdown",
   "id": "9a451af7-153a-4a68-90d1-b916f68f661f",
   "metadata": {},
   "source": [
    "# Force order"
   ]
  },
  {
   "cell_type": "code",
   "execution_count": 9,
   "id": "8979ae40-ff4a-4fe6-8f57-96faf88d9e63",
   "metadata": {
    "execution": {
     "iopub.execute_input": "2022-02-02T13:38:37.442034Z",
     "iopub.status.busy": "2022-02-02T13:38:37.441036Z",
     "iopub.status.idle": "2022-02-02T13:38:37.451035Z",
     "shell.execute_reply": "2022-02-02T13:38:37.450064Z",
     "shell.execute_reply.started": "2022-02-02T13:38:37.442034Z"
    },
    "tags": []
   },
   "outputs": [],
   "source": [
    "#order=[f_2,f_1,s2,f_0]"
   ]
  },
  {
   "cell_type": "code",
   "execution_count": 15,
   "id": "87e1f8c8-0d8e-4421-a958-746785ee9b19",
   "metadata": {
    "execution": {
     "iopub.execute_input": "2022-02-02T13:49:30.352916Z",
     "iopub.status.busy": "2022-02-02T13:49:30.352916Z",
     "iopub.status.idle": "2022-02-02T13:49:30.370922Z",
     "shell.execute_reply": "2022-02-02T13:49:30.369917Z",
     "shell.execute_reply.started": "2022-02-02T13:49:30.352916Z"
    },
    "tags": []
   },
   "outputs": [],
   "source": [
    "G, graphs = graphs_from_incidence(m)"
   ]
  },
  {
   "cell_type": "code",
   "execution_count": 16,
   "id": "890febda-9fc1-4d76-bf92-505b5a7dccd7",
   "metadata": {
    "execution": {
     "iopub.execute_input": "2022-02-02T13:49:31.120995Z",
     "iopub.status.busy": "2022-02-02T13:49:31.120995Z",
     "iopub.status.idle": "2022-02-02T13:49:31.129988Z",
     "shell.execute_reply": "2022-02-02T13:49:31.128990Z",
     "shell.execute_reply.started": "2022-02-02T13:49:31.120995Z"
    },
    "tags": []
   },
   "outputs": [],
   "source": [
    "G_order = G"
   ]
  },
  {
   "cell_type": "code",
   "execution_count": 12,
   "id": "0a855aed-64ee-4521-896d-aa5cde56b3af",
   "metadata": {
    "execution": {
     "iopub.execute_input": "2022-02-02T13:38:38.566036Z",
     "iopub.status.busy": "2022-02-02T13:38:38.566036Z",
     "iopub.status.idle": "2022-02-02T13:38:40.056035Z",
     "shell.execute_reply": "2022-02-02T13:38:40.055034Z",
     "shell.execute_reply.started": "2022-02-02T13:38:38.566036Z"
    },
    "tags": []
   },
   "outputs": [
    {
     "data": {
      "image/png": "[encoded data removed]",
      "text/plain": [
       "<Figure size 432x432 with 1 Axes>"
      ]
     },
     "metadata": {},
     "output_type": "display_data"
    }
   ],
   "source": [
    "drawfull(G_order, model.eqs)"
   ]
  },
  {
   "cell_type": "code",
   "execution_count": 32,
   "id": "777661ab-fac2-47f5-93c3-99f9aba168d4",
   "metadata": {
    "execution": {
     "iopub.execute_input": "2022-02-02T13:43:02.194248Z",
     "iopub.status.busy": "2022-02-02T13:43:02.193249Z",
     "iopub.status.idle": "2022-02-02T13:43:02.209248Z",
     "shell.execute_reply": "2022-02-02T13:43:02.208256Z",
     "shell.execute_reply.started": "2022-02-02T13:43:02.194248Z"
    },
    "tags": []
   },
   "outputs": [],
   "source": [
    "sequence_m = [f_2,f_1,f_0,f_5]"
   ]
  },
  {
   "cell_type": "code",
   "execution_count": 23,
   "id": "115bc0ea-5276-4c9a-a60b-eed01e3a6dbd",
   "metadata": {
    "execution": {
     "iopub.execute_input": "2022-02-02T13:57:29.667456Z",
     "iopub.status.busy": "2022-02-02T13:57:29.667456Z",
     "iopub.status.idle": "2022-02-02T13:57:31.431417Z",
     "shell.execute_reply": "2022-02-02T13:57:31.430412Z",
     "shell.execute_reply.started": "2022-02-02T13:57:29.667456Z"
    },
    "tags": []
   },
   "outputs": [
    {
     "data": {
      "image/png": "[encoded data removed]",
      "text/plain": [
       "<Figure size 720x720 with 1 Axes>"
      ]
     },
     "metadata": {
      "needs_background": "light"
     },
     "output_type": "display_data"
    }
   ],
   "source": [
    "eqs, eqv, dout, dins = model.data_structures()\n",
    "sequence_m = default_sequence(m)\n",
    "fig, ax = tree_incidence(m, eqv, model.outset, sequence_m, figsize=(10,10));\n",
    "plt.sca(ax)\n",
    "plt.savefig('figures/order_tear_equiv.png', dpi=600, bbox_inches='tight')"
   ]
  },
  {
   "cell_type": "code",
   "execution_count": 18,
   "id": "3015c899-f627-48ab-936f-edce2020a077",
   "metadata": {
    "execution": {
     "iopub.execute_input": "2022-02-02T13:40:14.822035Z",
     "iopub.status.busy": "2022-02-02T13:40:14.821036Z",
     "iopub.status.idle": "2022-02-02T13:40:14.828043Z",
     "shell.execute_reply": "2022-02-02T13:40:14.827186Z",
     "shell.execute_reply.started": "2022-02-02T13:40:14.822035Z"
    },
    "tags": []
   },
   "outputs": [],
   "source": [
    "G_order = G"
   ]
  },
  {
   "cell_type": "code",
   "execution_count": 19,
   "id": "bf1014b1-5a9e-4d2f-9199-1e2536d1fc5d",
   "metadata": {
    "execution": {
     "iopub.execute_input": "2022-02-02T13:40:15.275695Z",
     "iopub.status.busy": "2022-02-02T13:40:15.274724Z",
     "iopub.status.idle": "2022-02-02T13:40:15.294698Z",
     "shell.execute_reply": "2022-02-02T13:40:15.293696Z",
     "shell.execute_reply.started": "2022-02-02T13:40:15.275695Z"
    },
    "tags": []
   },
   "outputs": [],
   "source": [
    "order = [f_2,f_1,f_0,f_5]"
   ]
  },
  {
   "cell_type": "code",
   "execution_count": 20,
   "id": "01b73400-ce3f-4b69-8c75-14d02834cccb",
   "metadata": {
    "execution": {
     "iopub.execute_input": "2022-02-02T13:40:15.820265Z",
     "iopub.status.busy": "2022-02-02T13:40:15.820265Z",
     "iopub.status.idle": "2022-02-02T13:40:15.828267Z",
     "shell.execute_reply": "2022-02-02T13:40:15.827266Z",
     "shell.execute_reply.started": "2022-02-02T13:40:15.820265Z"
    },
    "tags": []
   },
   "outputs": [],
   "source": [
    "solvefor = dict()\n",
    "while order:\n",
    "    fx = order.pop(0)\n",
    "    outs = [node for elt in order for node in G_order.successors(elt)]\n",
    "    for var in G_order.predecessors(fx):\n",
    "        if var in outs:\n",
    "            solvefor[fx] = var"
   ]
  },
  {
   "cell_type": "code",
   "execution_count": 21,
   "id": "ea7aa833-6e9a-48b8-857a-64a1c15c5bd2",
   "metadata": {
    "execution": {
     "iopub.execute_input": "2022-02-02T13:40:16.637405Z",
     "iopub.status.busy": "2022-02-02T13:40:16.636405Z",
     "iopub.status.idle": "2022-02-02T13:40:16.647401Z",
     "shell.execute_reply": "2022-02-02T13:40:16.646406Z",
     "shell.execute_reply.started": "2022-02-02T13:40:16.637405Z"
    },
    "tags": []
   },
   "outputs": [
    {
     "data": {
      "text/plain": [
       "{<f_{2}>: a, <f_{1}>: y}"
      ]
     },
     "execution_count": 21,
     "metadata": {},
     "output_type": "execute_result"
    }
   ],
   "source": [
    "solvefor"
   ]
  },
  {
   "cell_type": "code",
   "execution_count": 40,
   "id": "ac195f9a-40bb-4907-b735-7f2dda67ca64",
   "metadata": {
    "execution": {
     "iopub.execute_input": "2022-01-31T22:27:00.566540Z",
     "iopub.status.busy": "2022-01-31T22:27:00.565539Z",
     "iopub.status.idle": "2022-01-31T22:27:00.586541Z",
     "shell.execute_reply": "2022-01-31T22:27:00.585542Z",
     "shell.execute_reply.started": "2022-01-31T22:27:00.565539Z"
    }
   },
   "outputs": [],
   "source": [
    "# need to convert these to end components"
   ]
  },
  {
   "cell_type": "code",
   "execution_count": null,
   "id": "59c3a1a9-884c-4904-86aa-d5da0ffb3a7e",
   "metadata": {},
   "outputs": [],
   "source": []
  }
 ],
 "metadata": {
  "kernelspec": {
   "display_name": "Python 3 (ipykernel)",
   "language": "python",
   "name": "python3"
  },
  "language_info": {
   "codemirror_mode": {
    "name": "ipython",
    "version": 3
   },
   "file_extension": ".py",
   "mimetype": "text/x-python",
   "name": "python",
   "nbconvert_exporter": "python",
   "pygments_lexer": "ipython3",
   "version": "3.9.7"
  }
 },
 "nbformat": 4,
 "nbformat_minor": 5
}
