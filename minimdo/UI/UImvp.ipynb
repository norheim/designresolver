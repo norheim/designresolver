{
 "cells": [
  {
   "cell_type": "code",
   "execution_count": 13,
   "id": "4bdef963-6714-46da-86aa-bf3402d92825",
   "metadata": {
    "execution": {
     "iopub.execute_input": "2022-06-12T01:13:43.651658Z",
     "iopub.status.busy": "2022-06-12T01:13:43.651658Z",
     "iopub.status.idle": "2022-06-12T01:13:43.659811Z",
     "shell.execute_reply": "2022-06-12T01:13:43.659736Z",
     "shell.execute_reply.started": "2022-06-12T01:13:43.651658Z"
    },
    "tags": []
   },
   "outputs": [],
   "source": [
    "from IPython.display import display, HTML, Javascript"
   ]
  },
  {
   "cell_type": "code",
   "execution_count": 30,
   "id": "ea3e7e10-486f-4d16-ae1b-3090cdb40bae",
   "metadata": {
    "execution": {
     "iopub.execute_input": "2022-06-12T01:18:31.136363Z",
     "iopub.status.busy": "2022-06-12T01:18:31.136363Z",
     "iopub.status.idle": "2022-06-12T01:18:31.151558Z",
     "shell.execute_reply": "2022-06-12T01:18:31.150800Z",
     "shell.execute_reply.started": "2022-06-12T01:18:31.136363Z"
    },
    "tags": []
   },
   "outputs": [],
   "source": [
    "htmlcode = \"\"\"<!DOCTYPE html>\n",
    "<html lang=\"en\">\n",
    "  <head>\n",
    "    <meta charset=\"UTF-8\" />\n",
    "    <meta http-equiv=\"X-UA-Compatible\" content=\"IE=edge\" />\n",
    "    <meta\n",
    "      name=\"viewport\"\n",
    "      content=\"width=device-width, initial-scale=1.0\"\n",
    "    />\n",
    "    <title>Ag Grid App</title>\n",
    "    <script src=\"https://unpkg.com/ag-grid-community/dist/ag-grid-community.min.noStyle.js\"></script>\n",
    "    <link\n",
    "      rel=\"stylesheet\"\n",
    "      href=\"https://unpkg.com/ag-grid-community/dist/styles/ag-grid.css\"\n",
    "    />\n",
    "    <link\n",
    "      rel=\"stylesheet\"\n",
    "      href=\"https://unpkg.com/ag-grid-community/dist/styles/ag-theme-alpine.css\"\n",
    "    />\n",
    "  </head>\n",
    "  <body>\n",
    "    <h1>Hello from Ag Grid 2</h1>\n",
    "    <button onclick=\"deselect()\">Deselect Rows</button>\n",
    "    <div\n",
    "      id=\"myGrid2\"\n",
    "      class=\"ag-theme-alpine\"\n",
    "      style=\"height: 500px\"\n",
    "    ></div>\n",
    "    <script type=\"text/javascript\">\n",
    "        function deselect(){\n",
    "            gridOptions.api.deselectAll()\n",
    "        }\n",
    "      let eGridDiv3 = document.getElementById(\"myGrid2\");\n",
    "      let gridOptions3 = {\n",
    "        columnDefs: [\n",
    "          { field: \"make\",  },\n",
    "          { field: \"model\",  },\n",
    "          { field: \"price\",  },\n",
    "        ],\n",
    "        defaultColDef: {sortable: true, filter: true},\n",
    "        rowData: [\n",
    "          {\n",
    "            make: \"Vauxhall\",\n",
    "            model: \"Corsa\",\n",
    "            price: 17300,\n",
    "          },\n",
    "          { make: \"Ford\", model: \"Fiesta\", price: 18000 },\n",
    "          {\n",
    "            make: \"Volkswagen\",\n",
    "            model: \"Golf\",\n",
    "            price: 26000,\n",
    "          },\n",
    "        ],\n",
    "        rowSelection:'multiple',\n",
    "        animateRows: true,\n",
    "        onCellClicked: params => {\n",
    "            console.log('cell was clicked', params)\n",
    "        }\n",
    "      };\n",
    "      new agGrid.Grid(eGridDiv3, gridOptions3);\n",
    "    </script>\n",
    "  </body>\n",
    "</html>\"\"\""
   ]
  },
  {
   "cell_type": "code",
   "execution_count": 31,
   "id": "2fc63c3c-51d4-4742-8f30-bc594d344ffc",
   "metadata": {
    "execution": {
     "iopub.execute_input": "2022-06-12T01:18:31.779316Z",
     "iopub.status.busy": "2022-06-12T01:18:31.779316Z",
     "iopub.status.idle": "2022-06-12T01:18:31.793332Z",
     "shell.execute_reply": "2022-06-12T01:18:31.792354Z",
     "shell.execute_reply.started": "2022-06-12T01:18:31.779316Z"
    },
    "tags": []
   },
   "outputs": [
    {
     "data": {
      "text/html": [
       "<!DOCTYPE html>\n",
       "<html lang=\"en\">\n",
       "  <head>\n",
       "    <meta charset=\"UTF-8\" />\n",
       "    <meta http-equiv=\"X-UA-Compatible\" content=\"IE=edge\" />\n",
       "    <meta\n",
       "      name=\"viewport\"\n",
       "      content=\"width=device-width, initial-scale=1.0\"\n",
       "    />\n",
       "    <title>Ag Grid App</title>\n",
       "    <script src=\"https://unpkg.com/ag-grid-community/dist/ag-grid-community.min.noStyle.js\"></script>\n",
       "    <link\n",
       "      rel=\"stylesheet\"\n",
       "      href=\"https://unpkg.com/ag-grid-community/dist/styles/ag-grid.css\"\n",
       "    />\n",
       "    <link\n",
       "      rel=\"stylesheet\"\n",
       "      href=\"https://unpkg.com/ag-grid-community/dist/styles/ag-theme-alpine.css\"\n",
       "    />\n",
       "  </head>\n",
       "  <body>\n",
       "    <h1>Hello from Ag Grid 2</h1>\n",
       "    <button onclick=\"deselect()\">Deselect Rows</button>\n",
       "    <div\n",
       "      id=\"myGrid2\"\n",
       "      class=\"ag-theme-alpine\"\n",
       "      style=\"height: 500px\"\n",
       "    ></div>\n",
       "    <script type=\"text/javascript\">\n",
       "        function deselect(){\n",
       "            gridOptions.api.deselectAll()\n",
       "        }\n",
       "      let eGridDiv3 = document.getElementById(\"myGrid2\");\n",
       "      let gridOptions3 = {\n",
       "        columnDefs: [\n",
       "          { field: \"make\",  },\n",
       "          { field: \"model\",  },\n",
       "          { field: \"price\",  },\n",
       "        ],\n",
       "        defaultColDef: {sortable: true, filter: true},\n",
       "        rowData: [\n",
       "          {\n",
       "            make: \"Vauxhall\",\n",
       "            model: \"Corsa\",\n",
       "            price: 17300,\n",
       "          },\n",
       "          { make: \"Ford\", model: \"Fiesta\", price: 18000 },\n",
       "          {\n",
       "            make: \"Volkswagen\",\n",
       "            model: \"Golf\",\n",
       "            price: 26000,\n",
       "          },\n",
       "        ],\n",
       "        rowSelection:'multiple',\n",
       "        animateRows: true,\n",
       "        onCellClicked: params => {\n",
       "            console.log('cell was clicked', params)\n",
       "        }\n",
       "      };\n",
       "      new agGrid.Grid(eGridDiv3, gridOptions3);\n",
       "    </script>\n",
       "  </body>\n",
       "</html>"
      ],
      "text/plain": [
       "<IPython.core.display.HTML object>"
      ]
     },
     "metadata": {},
     "output_type": "display_data"
    }
   ],
   "source": [
    "display(HTML(htmlcode))"
   ]
  },
  {
   "cell_type": "code",
   "execution_count": null,
   "id": "c9e26e42-6193-402b-b5ec-8e5e80c50ea9",
   "metadata": {},
   "outputs": [],
   "source": []
  }
 ],
 "metadata": {
  "kernelspec": {
   "display_name": "Python [conda env:mdo]",
   "language": "python",
   "name": "conda-env-mdo-py"
  },
  "language_info": {
   "codemirror_mode": {
    "name": "ipython",
    "version": 3
   },
   "file_extension": ".py",
   "mimetype": "text/x-python",
   "name": "python",
   "nbconvert_exporter": "python",
   "pygments_lexer": "ipython3",
   "version": "3.9.7"
  }
 },
 "nbformat": 4,
 "nbformat_minor": 5
}
