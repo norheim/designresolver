{
 "cells": [
  {
   "cell_type": "code",
   "execution_count": 1,
   "id": "eb70c916-9c1b-45b2-8b61-46349eea6342",
   "metadata": {
    "execution": {
     "iopub.execute_input": "2022-07-05T18:06:14.749678Z",
     "iopub.status.busy": "2022-07-05T18:06:14.749678Z",
     "iopub.status.idle": "2022-07-05T18:06:16.739774Z",
     "shell.execute_reply": "2022-07-05T18:06:16.739774Z",
     "shell.execute_reply.started": "2022-07-05T18:06:14.749678Z"
    },
    "tags": []
   },
   "outputs": [],
   "source": [
    "from datastructures.rendering import render_incidence, incidence_artifacts, sequence_permutation_from_order, edges_to_Ein_Eout, all_comps_below\n",
    "from datastructures.graphutils import namefromid, VAR, COMP, SOLVER\n",
    "import matplotlib.pyplot as plt\n",
    "from collections import OrderedDict\n",
    "from datastructures.workflow import order_from_tree"
   ]
  },
  {
   "cell_type": "code",
   "execution_count": 48,
   "id": "a1a4bf0a-8b7f-4a61-9dcd-05894ff5b4dd",
   "metadata": {
    "execution": {
     "iopub.execute_input": "2022-07-05T17:51:31.151411Z",
     "iopub.status.busy": "2022-07-05T17:51:31.151411Z",
     "iopub.status.idle": "2022-07-05T17:51:31.169782Z",
     "shell.execute_reply": "2022-07-05T17:51:31.169664Z",
     "shell.execute_reply.started": "2022-07-05T17:51:31.151411Z"
    },
    "tags": []
   },
   "outputs": [],
   "source": [
    "Ein = ({\n",
    "    1: (2,4),\n",
    "    2: (1,),\n",
    "    3: (1,6),\n",
    "    4: (4,5)\n",
    "})\n",
    "Eout = ({\n",
    "    1: (1,),\n",
    "    2: (2,),\n",
    "    3: (3,),\n",
    "    4: (None,)\n",
    "})\n",
    "edges = (Ein, Eout, {})\n",
    "comp_tree = OrderedDict({3:1,1:1,2:1,4:1})\n",
    "#comp_tree = OrderedDict({1:2,2:2,3:1,4:1})\n",
    "comp_tree_ordered = OrderedDict({1:2,2:2,3:1,4:1})\n",
    "solver_tree = {}\n",
    "var_tree = {4:1}\n",
    "tree = (comp_tree, solver_tree, var_tree)\n",
    "tree_ordered = (comp_tree_ordered, solver_tree, var_tree)"
   ]
  },
  {
   "cell_type": "code",
   "execution_count": 49,
   "id": "f995f443-4935-4c33-a96b-69ffc1405a1f",
   "metadata": {
    "execution": {
     "iopub.execute_input": "2022-07-05T17:51:31.664582Z",
     "iopub.status.busy": "2022-07-05T17:51:31.664582Z",
     "iopub.status.idle": "2022-07-05T17:51:31.668649Z",
     "shell.execute_reply": "2022-07-05T17:51:31.668649Z",
     "shell.execute_reply.started": "2022-07-05T17:51:31.664582Z"
    },
    "tags": []
   },
   "outputs": [],
   "source": [
    "order = order_from_tree(comp_tree, solver_tree, Eout, False, False)"
   ]
  },
  {
   "cell_type": "code",
   "execution_count": 50,
   "id": "b0d09e0d-b42e-4dc6-b0ee-18c4db546a82",
   "metadata": {
    "execution": {
     "iopub.execute_input": "2022-07-05T17:51:31.844885Z",
     "iopub.status.busy": "2022-07-05T17:51:31.844885Z",
     "iopub.status.idle": "2022-07-05T17:51:31.856076Z",
     "shell.execute_reply": "2022-07-05T17:51:31.855886Z",
     "shell.execute_reply.started": "2022-07-05T17:51:31.844885Z"
    },
    "tags": []
   },
   "outputs": [],
   "source": [
    "sequence, permutation, Ein, Eout, solver_iterator = incidence_artifacts(edges, tree, True)"
   ]
  },
  {
   "cell_type": "code",
   "execution_count": 51,
   "id": "3c4db876-5d7a-4f93-8ab0-92023c1b2f92",
   "metadata": {
    "execution": {
     "iopub.execute_input": "2022-07-05T17:51:32.029740Z",
     "iopub.status.busy": "2022-07-05T17:51:32.029740Z",
     "iopub.status.idle": "2022-07-05T17:51:32.042928Z",
     "shell.execute_reply": "2022-07-05T17:51:32.041830Z",
     "shell.execute_reply.started": "2022-07-05T17:51:32.029740Z"
    },
    "tags": []
   },
   "outputs": [
    {
     "data": {
      "text/plain": [
       "[(COMP, 3, 1), (COMP, 1, 1), (COMP, 2, 1), (ENDCOMP, 4, 1)]"
      ]
     },
     "execution_count": 51,
     "metadata": {},
     "output_type": "execute_result"
    }
   ],
   "source": [
    "order"
   ]
  },
  {
   "cell_type": "code",
   "execution_count": 9,
   "id": "c3496abe-96cf-4000-82e9-856c51962d3f",
   "metadata": {
    "execution": {
     "iopub.execute_input": "2022-07-05T18:06:44.137376Z",
     "iopub.status.busy": "2022-07-05T18:06:44.137376Z",
     "iopub.status.idle": "2022-07-05T18:06:44.150865Z",
     "shell.execute_reply": "2022-07-05T18:06:44.150865Z",
     "shell.execute_reply.started": "2022-07-05T18:06:44.137376Z"
    },
    "tags": []
   },
   "outputs": [],
   "source": [
    "nodetyperepr_hdsm = {VAR: 'x_{{{}}}', COMP: 'f_{{{}}}', SOLVER: '{}'}\n",
    "namingfunc_hdsm = namefromid(nodetyperepr_hdsm)"
   ]
  },
  {
   "cell_type": "code",
   "execution_count": 54,
   "id": "aa98450d-d89f-4640-a758-2a216667e9f9",
   "metadata": {
    "execution": {
     "iopub.execute_input": "2022-07-05T17:51:36.846688Z",
     "iopub.status.busy": "2022-07-05T17:51:36.846688Z",
     "iopub.status.idle": "2022-07-05T17:51:36.961669Z",
     "shell.execute_reply": "2022-07-05T17:51:36.961544Z",
     "shell.execute_reply.started": "2022-07-05T17:51:36.846688Z"
    },
    "tags": []
   },
   "outputs": [
    {
     "data": {
      "image/png": "[encoded data removed]",
      "text/plain": [
       "<Figure size 216x216 with 1 Axes>"
      ]
     },
     "metadata": {
      "needs_background": "light"
     },
     "output_type": "display_data"
    }
   ],
   "source": [
    "_, ax = render_incidence(edges, tree, namingfunc_hdsm, figsize=(3,3))"
   ]
  },
  {
   "cell_type": "code",
   "execution_count": 55,
   "id": "d033c72d-37d0-4544-b1e9-dd73971f622c",
   "metadata": {
    "execution": {
     "iopub.execute_input": "2022-07-05T17:51:43.712151Z",
     "iopub.status.busy": "2022-07-05T17:51:43.712151Z",
     "iopub.status.idle": "2022-07-05T17:51:43.896536Z",
     "shell.execute_reply": "2022-07-05T17:51:43.895636Z",
     "shell.execute_reply.started": "2022-07-05T17:51:43.712151Z"
    },
    "tags": []
   },
   "outputs": [
    {
     "data": {
      "image/png": "[encoded data removed]",
      "text/plain": [
       "<Figure size 216x216 with 1 Axes>"
      ]
     },
     "metadata": {
      "needs_background": "light"
     },
     "output_type": "display_data"
    }
   ],
   "source": [
    "plt.sca(ax)\n",
    "plt.savefig('hdsm_flat_example_inputs.png', dpi=200, bbox_inches='tight')"
   ]
  },
  {
   "cell_type": "markdown",
   "id": "8ce2d214-c5ab-4995-839e-011b1995d7b2",
   "metadata": {},
   "source": [
    "## More complex"
   ]
  },
  {
   "cell_type": "code",
   "execution_count": 2,
   "id": "1084f6d1-b368-4128-ae72-931855a0e7fb",
   "metadata": {
    "execution": {
     "iopub.execute_input": "2022-07-05T18:06:19.847328Z",
     "iopub.status.busy": "2022-07-05T18:06:19.847328Z",
     "iopub.status.idle": "2022-07-05T18:06:19.862423Z",
     "shell.execute_reply": "2022-07-05T18:06:19.861922Z",
     "shell.execute_reply.started": "2022-07-05T18:06:19.847328Z"
    },
    "tags": []
   },
   "outputs": [],
   "source": [
    "from datastructures.polycasebuilder import generate_random_prob, eqv_to_edges_tree"
   ]
  },
  {
   "cell_type": "code",
   "execution_count": 55,
   "id": "8ce5460b-ae2c-443b-8f35-66f2c65f2d70",
   "metadata": {
    "execution": {
     "iopub.execute_input": "2022-07-05T18:11:48.166054Z",
     "iopub.status.busy": "2022-07-05T18:11:48.166054Z",
     "iopub.status.idle": "2022-07-05T18:11:48.185427Z",
     "shell.execute_reply": "2022-07-05T18:11:48.185283Z",
     "shell.execute_reply.started": "2022-07-05T18:11:48.166054Z"
    },
    "tags": []
   },
   "outputs": [],
   "source": [
    "n_eqs = 9\n",
    "n_vars = 12\n",
    "seed = 9#8 is triang#seed 10 is nice 42 \n",
    "sparsity = 0.5#0.8 1.1 #1.7 1.3\n",
    "eqv, varinc, output_set = generate_random_prob(n_eqs, n_vars, seed, sparsity)\n",
    "edges, tree= eqv_to_edges_tree(eqv, output_set, n_eqs, offset=True)"
   ]
  },
  {
   "cell_type": "code",
   "execution_count": 56,
   "id": "11e94b40-9b65-4837-bd29-819c56316676",
   "metadata": {
    "execution": {
     "iopub.execute_input": "2022-07-05T18:11:48.382202Z",
     "iopub.status.busy": "2022-07-05T18:11:48.381198Z",
     "iopub.status.idle": "2022-07-05T18:11:48.403193Z",
     "shell.execute_reply": "2022-07-05T18:11:48.402258Z",
     "shell.execute_reply.started": "2022-07-05T18:11:48.382202Z"
    },
    "tags": []
   },
   "outputs": [],
   "source": [
    "Ftree = OrderedDict([(0,0), (1,1),(2,2),(3,2),(4,1,),(5,1),(6,1),(7,0),(8,0)])\n",
    "Stree = {2:1, 1:0}\n",
    "endcomponents = [0,2,5,7]\n",
    "Eout = {comp: (None,) if comp in endcomponents else outvar for comp,outvar in edges[1].items()}"
   ]
  },
  {
   "cell_type": "code",
   "execution_count": 67,
   "id": "ed941ad7-9ed3-42c6-a45f-4baf10d5601d",
   "metadata": {
    "execution": {
     "iopub.execute_input": "2022-07-05T18:13:31.670689Z",
     "iopub.status.busy": "2022-07-05T18:13:31.670689Z",
     "iopub.status.idle": "2022-07-05T18:13:31.683611Z",
     "shell.execute_reply": "2022-07-05T18:13:31.683260Z",
     "shell.execute_reply.started": "2022-07-05T18:13:31.670689Z"
    },
    "tags": []
   },
   "outputs": [],
   "source": [
    "edges = (edges[0], Eout, {})\n",
    "tree = (Ftree, Stree, {10:2, 5:1, 0:0, 1:0})"
   ]
  },
  {
   "cell_type": "code",
   "execution_count": 68,
   "id": "931bb2f8-ed4d-4916-a7cf-7f747bfff44c",
   "metadata": {
    "execution": {
     "iopub.execute_input": "2022-07-05T18:13:31.886657Z",
     "iopub.status.busy": "2022-07-05T18:13:31.886657Z",
     "iopub.status.idle": "2022-07-05T18:13:31.904122Z",
     "shell.execute_reply": "2022-07-05T18:13:31.903114Z",
     "shell.execute_reply.started": "2022-07-05T18:13:31.886657Z"
    },
    "tags": []
   },
   "outputs": [],
   "source": [
    "#order = order_from_tree(Ftree, Stree, Eout, False, False)"
   ]
  },
  {
   "cell_type": "code",
   "execution_count": 69,
   "id": "f37a28ea-9a21-4bff-81d5-159e7b97dff0",
   "metadata": {
    "execution": {
     "iopub.execute_input": "2022-07-05T18:13:32.082375Z",
     "iopub.status.busy": "2022-07-05T18:13:32.082375Z",
     "iopub.status.idle": "2022-07-05T18:13:32.092536Z",
     "shell.execute_reply": "2022-07-05T18:13:32.091374Z",
     "shell.execute_reply.started": "2022-07-05T18:13:32.082375Z"
    },
    "tags": []
   },
   "outputs": [
    {
     "data": {
      "text/plain": [
       "{5: (None,),\n",
       " 2: (None,),\n",
       " 8: (3,),\n",
       " 7: (None,),\n",
       " 3: (6,),\n",
       " 4: (4,),\n",
       " 0: (None,),\n",
       " 6: (7,),\n",
       " 1: (9,)}"
      ]
     },
     "execution_count": 69,
     "metadata": {},
     "output_type": "execute_result"
    }
   ],
   "source": [
    "Eout"
   ]
  },
  {
   "cell_type": "code",
   "execution_count": 70,
   "id": "0a01742a-9bb2-4571-919f-c0e63105047a",
   "metadata": {
    "execution": {
     "iopub.execute_input": "2022-07-05T18:13:32.232954Z",
     "iopub.status.busy": "2022-07-05T18:13:32.231446Z",
     "iopub.status.idle": "2022-07-05T18:13:32.262685Z",
     "shell.execute_reply": "2022-07-05T18:13:32.261620Z",
     "shell.execute_reply.started": "2022-07-05T18:13:32.232954Z"
    },
    "tags": []
   },
   "outputs": [
    {
     "data": {
      "text/plain": [
       "[(COMP, 1, 1),\n",
       " (COMP, 3, 2),\n",
       " (ENDCOMP, 2, 2),\n",
       " (COMP, 4, 1),\n",
       " (COMP, 6, 1),\n",
       " (ENDCOMP, 5, 1),\n",
       " (COMP, 8, 0),\n",
       " (ENDCOMP, 0, 0),\n",
       " (ENDCOMP, 7, 0)]"
      ]
     },
     "execution_count": 70,
     "metadata": {},
     "output_type": "execute_result"
    }
   ],
   "source": [
    "order"
   ]
  },
  {
   "cell_type": "code",
   "execution_count": 71,
   "id": "c00e2614-4696-4a7c-9c71-d20312644842",
   "metadata": {
    "execution": {
     "iopub.execute_input": "2022-07-05T18:13:32.756393Z",
     "iopub.status.busy": "2022-07-05T18:13:32.756393Z",
     "iopub.status.idle": "2022-07-05T18:13:32.994063Z",
     "shell.execute_reply": "2022-07-05T18:13:32.994063Z",
     "shell.execute_reply.started": "2022-07-05T18:13:32.756393Z"
    },
    "tags": []
   },
   "outputs": [
    {
     "data": {
      "image/png": "[encoded data removed]",
      "text/plain": [
       "<Figure size 432x432 with 1 Axes>"
      ]
     },
     "metadata": {
      "needs_background": "light"
     },
     "output_type": "display_data"
    }
   ],
   "source": [
    "_, ax = render_incidence(edges, tree, namingfunc_hdsm, figsize=(6,6))"
   ]
  },
  {
   "cell_type": "code",
   "execution_count": 72,
   "id": "213d1922-50a3-4d9e-94c1-bf9353ba91b2",
   "metadata": {
    "execution": {
     "iopub.execute_input": "2022-07-05T18:14:04.455317Z",
     "iopub.status.busy": "2022-07-05T18:14:04.455317Z",
     "iopub.status.idle": "2022-07-05T18:14:04.912106Z",
     "shell.execute_reply": "2022-07-05T18:14:04.911105Z",
     "shell.execute_reply.started": "2022-07-05T18:14:04.455317Z"
    }
   },
   "outputs": [
    {
     "data": {
      "image/png": "[encoded data removed]",
      "text/plain": [
       "<Figure size 432x432 with 1 Axes>"
      ]
     },
     "metadata": {
      "needs_background": "light"
     },
     "output_type": "display_data"
    }
   ],
   "source": [
    "plt.sca(ax)\n",
    "plt.savefig('hdsm_complex_example.png', dpi=200, bbox_inches='tight')"
   ]
  },
  {
   "cell_type": "markdown",
   "id": "5a64f2fc-411f-4ce2-8c2b-b93e7fab8b13",
   "metadata": {},
   "source": [
    "# Affine functions"
   ]
  },
  {
   "cell_type": "code",
   "execution_count": 74,
   "id": "0aa442f6-09c5-474b-b32c-7465708a5067",
   "metadata": {
    "execution": {
     "iopub.execute_input": "2022-07-05T18:44:06.965340Z",
     "iopub.status.busy": "2022-07-05T18:44:06.964348Z",
     "iopub.status.idle": "2022-07-05T18:44:06.981294Z",
     "shell.execute_reply": "2022-07-05T18:44:06.980599Z",
     "shell.execute_reply.started": "2022-07-05T18:44:06.965340Z"
    },
    "tags": []
   },
   "outputs": [],
   "source": [
    "Ein = {1: (1,3),\n",
    "       2: (1,2,3)}\n",
    "Eout = {1: (None,),\n",
    "        2: (None,)}"
   ]
  },
  {
   "cell_type": "code",
   "execution_count": null,
   "id": "416724fc-6ad0-4762-901a-6a5c8006b74a",
   "metadata": {},
   "outputs": [],
   "source": []
  },
  {
   "cell_type": "code",
   "execution_count": null,
   "id": "fe83e9eb-62c4-4784-90ed-6a9b3d9e5dde",
   "metadata": {},
   "outputs": [],
   "source": []
  }
 ],
 "metadata": {
  "kernelspec": {
   "display_name": "Python [conda env:mdo]",
   "language": "python",
   "name": "conda-env-mdo-py"
  },
  "language_info": {
   "codemirror_mode": {
    "name": "ipython",
    "version": 3
   },
   "file_extension": ".py",
   "mimetype": "text/x-python",
   "name": "python",
   "nbconvert_exporter": "python",
   "pygments_lexer": "ipython3",
   "version": "3.9.13"
  }
 },
 "nbformat": 4,
 "nbformat_minor": 5
}
