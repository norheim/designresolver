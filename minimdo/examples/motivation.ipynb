{
 "cells": [
  {
   "cell_type": "code",
   "execution_count": 1,
   "id": "77dec3d5-d6e2-4d51-b93c-115732b8cf89",
   "metadata": {
    "execution": {
     "iopub.execute_input": "2022-06-30T02:19:43.718134Z",
     "iopub.status.busy": "2022-06-30T02:19:43.718134Z",
     "iopub.status.idle": "2022-06-30T02:19:45.619137Z",
     "shell.execute_reply": "2022-06-30T02:19:45.619137Z",
     "shell.execute_reply.started": "2022-06-30T02:19:43.718134Z"
    },
    "tags": []
   },
   "outputs": [],
   "source": [
    "from compute import Var, Par\n",
    "from datastructures.api import Model, adda, addf, addsolver, setsolvefor, addobj, addeq, addineq, OPT\n",
    "from datastructures.execution import edges_from_components\n",
    "from datastructures.graphutils import namefromsympy, dfs_tree, SOLVER, VAR, COMP, nested_sources, sources, edges_to_Ein_Eout, flat_graph_formulation, root_solver\n",
    "from datastructures.nestedgraph import root_sources\n",
    "from datastructures.execution import generate_components_and_residuals\n",
    "from datastructures.workflow import get_f, order_from_tree, default_solver_options, mdao_workflow, implicit_comp_name\n",
    "from datastructures.workflow_mdao import mdao_workflow_with_args\n",
    "from datastructures.operators import sort_scc, reorder_merge_solve\n",
    "from datastructures.assembly import build_archi\n",
    "from datastructures.api import evalexpr\n",
    "from datastructures.postprocess import print_inputs, print_outputs, update_varval\n",
    "from datastructures.rendering import render_incidence\n",
    "import openmdao.api as om\n",
    "import numpy as np\n",
    "from sympy import cos\n",
    "import matplotlib.pyplot as plt"
   ]
  },
  {
   "cell_type": "code",
   "execution_count": 2,
   "id": "02dd0f1b-1071-4868-abc6-005971f2ede3",
   "metadata": {
    "execution": {
     "iopub.execute_input": "2022-06-30T02:19:45.619137Z",
     "iopub.status.busy": "2022-06-30T02:19:45.619137Z",
     "iopub.status.idle": "2022-06-30T02:19:45.634621Z",
     "shell.execute_reply": "2022-06-30T02:19:45.634621Z",
     "shell.execute_reply.started": "2022-06-30T02:19:45.619137Z"
    },
    "tags": []
   },
   "outputs": [],
   "source": [
    "from compute import ureg\n",
    "ureg.define('USD = [currency] ')"
   ]
  },
  {
   "cell_type": "markdown",
   "id": "3ba11fda-d9e0-4300-ab11-b234fe382f34",
   "metadata": {},
   "source": [
    "# Variables and parameters \n",
    "They are shared accross models"
   ]
  },
  {
   "cell_type": "code",
   "execution_count": 51,
   "id": "84115034-3775-45c3-b226-d17deea6e62d",
   "metadata": {
    "execution": {
     "iopub.execute_input": "2022-06-30T02:23:15.000659Z",
     "iopub.status.busy": "2022-06-30T02:23:15.000659Z",
     "iopub.status.idle": "2022-06-30T02:23:15.024846Z",
     "shell.execute_reply": "2022-06-30T02:23:15.024231Z",
     "shell.execute_reply.started": "2022-06-30T02:23:15.000659Z"
    },
    "tags": []
   },
   "outputs": [],
   "source": [
    "P_t = Var('P_c', unit='W')\n",
    "P_t.forceunit=True\n",
    "Pbus = Var('P_b', unit='W')\n",
    "Pbus.forceunit=True\n",
    "S = Var('h', 400, unit='km')\n",
    "D = Var('D', 0.1, unit='m')\n",
    "A = Var('A', 0.5, unit='m^2')\n",
    "eta_t = Par(r'\\eta_t', 0.16)\n",
    "eta_a = Par(r'\\eta', 0.5)\n",
    "alpha = Par(r'\\alpha', 1e20, 'bits/W')\n",
    "th = Par(r'\\theta', np.pi/4)\n",
    "W0 = Par('W_0', 1367, 'W/m^2')\n",
    "Re = Par('Re', 6378, 'km')\n",
    "μ = Par('mu', 3.986005e14, 'm^3/s^2')\n",
    "c1 = Par('c_1', 2500, 'USD/m^2')\n",
    "c2 = Par('c_2', 12000, 'USD/m^2')\n",
    "c3 = Par('c_3', 100, 'USD/W')\n",
    "c4 = Par('c_4', 12000, 'USD')"
   ]
  },
  {
   "cell_type": "markdown",
   "id": "a6c08d02-545f-49a1-afc1-8d7e814fadb1",
   "metadata": {},
   "source": [
    "# Formulation 1"
   ]
  },
  {
   "cell_type": "code",
   "execution_count": 52,
   "id": "2fa59afd-a0cc-4371-b0d4-33f12ea3cf18",
   "metadata": {
    "execution": {
     "iopub.execute_input": "2022-06-30T02:23:15.329127Z",
     "iopub.status.busy": "2022-06-30T02:23:15.322999Z",
     "iopub.status.idle": "2022-06-30T02:23:15.389825Z",
     "shell.execute_reply": "2022-06-30T02:23:15.388313Z",
     "shell.execute_reply.started": "2022-06-30T02:23:15.329127Z"
    },
    "tags": []
   },
   "outputs": [],
   "source": [
    "model = Model(solver=OPT)\n",
    "m = model.root\n",
    "s2 = addsolver(m)#, solvefor=['Pbus', 'P_t'])\n",
    "adda(s2, P_t, A*eta_a*W0*cos(th)-Pbus)\n",
    "adda(s2, Pbus, 10*abs(P_t)**0.5)\n",
    "R = adda(m, 'R', alpha*P_t*D**2*eta_t/(16*S**2), unit='MB')\n",
    "C = adda(m, 'C', c1*D**2+c2*A+c3*Pbus+c4, unit='kUSD')\n",
    "addeq(m, -R+1) # == 0\n",
    "addobj(m, C)"
   ]
  },
  {
   "cell_type": "code",
   "execution_count": 53,
   "id": "516883b8-495b-40ce-b5f2-d3de5d18f498",
   "metadata": {
    "execution": {
     "iopub.execute_input": "2022-06-30T02:23:15.459137Z",
     "iopub.status.busy": "2022-06-30T02:23:15.459137Z",
     "iopub.status.idle": "2022-06-30T02:23:15.480329Z",
     "shell.execute_reply": "2022-06-30T02:23:15.478967Z",
     "shell.execute_reply.started": "2022-06-30T02:23:15.459137Z"
    },
    "tags": []
   },
   "outputs": [],
   "source": [
    "setsolvefor(m, [D,A], {D:[0.5,10], A:[0.04,1]})"
   ]
  },
  {
   "cell_type": "code",
   "execution_count": 54,
   "id": "bdf0b7a9-9483-4c86-8aea-fc0b7dc1fe41",
   "metadata": {
    "execution": {
     "iopub.execute_input": "2022-06-30T02:23:15.604407Z",
     "iopub.status.busy": "2022-06-30T02:23:15.604407Z",
     "iopub.status.idle": "2022-06-30T02:23:15.617804Z",
     "shell.execute_reply": "2022-06-30T02:23:15.616926Z",
     "shell.execute_reply.started": "2022-06-30T02:23:15.604407Z"
    },
    "tags": []
   },
   "outputs": [],
   "source": [
    "edges, tree = model.generate_formulation()"
   ]
  },
  {
   "cell_type": "code",
   "execution_count": 55,
   "id": "5697883f-455d-4276-b16d-eb1ed7fcd649",
   "metadata": {
    "execution": {
     "iopub.execute_input": "2022-06-30T02:23:15.749019Z",
     "iopub.status.busy": "2022-06-30T02:23:15.741933Z",
     "iopub.status.idle": "2022-06-30T02:23:15.754575Z",
     "shell.execute_reply": "2022-06-30T02:23:15.753996Z",
     "shell.execute_reply.started": "2022-06-30T02:23:15.749019Z"
    },
    "tags": []
   },
   "outputs": [],
   "source": [
    "Ein, Eout, Rin = edges"
   ]
  },
  {
   "cell_type": "code",
   "execution_count": 56,
   "id": "52ee1659-8020-4077-935c-619e616578f7",
   "metadata": {
    "execution": {
     "iopub.execute_input": "2022-06-30T02:23:15.877943Z",
     "iopub.status.busy": "2022-06-30T02:23:15.869777Z",
     "iopub.status.idle": "2022-06-30T02:23:15.894760Z",
     "shell.execute_reply": "2022-06-30T02:23:15.893545Z",
     "shell.execute_reply.started": "2022-06-30T02:23:15.877943Z"
    },
    "tags": []
   },
   "outputs": [],
   "source": [
    "# Ein_noparam = {comp:tuple(var for var in compvars if not model.idmapping[var].always_input) for comp,compvars in Ein.items()}\n",
    "# edges_noparam = Ein_noparam, Eout, Rin\n",
    "#_, ax = render_incidence(edges_noparam, tree, namingfunc)"
   ]
  },
  {
   "cell_type": "code",
   "execution_count": 57,
   "id": "c2b1eeda-135d-4d3d-af17-ac5627f52573",
   "metadata": {
    "execution": {
     "iopub.execute_input": "2022-06-30T02:23:16.026467Z",
     "iopub.status.busy": "2022-06-30T02:23:16.026467Z",
     "iopub.status.idle": "2022-06-30T02:23:16.042506Z",
     "shell.execute_reply": "2022-06-30T02:23:16.042506Z",
     "shell.execute_reply.started": "2022-06-30T02:23:16.026467Z"
    },
    "tags": []
   },
   "outputs": [],
   "source": [
    "ordered_tree = tree\n",
    "ordered_edges = edges\n",
    "comp_options = model.comp_options\n",
    "var_options = model.var_options\n",
    "solvers_options = model.solvers_options\n",
    "solvers_options[1].update({'optimizer': 'SLSQP'})\n",
    "solvers_options[2] = {'solver': 'N', 'maxiter':20}\n",
    "nodetyperepr = model.nametyperepr\n",
    "namingfunc = namefromsympy(nodetyperepr)\n",
    "sequence = order_from_tree(ordered_tree[0], ordered_tree[1], ordered_edges[1])\n",
    "solvers_options = default_solver_options(ordered_tree, solvers_options)\n",
    "wf = mdao_workflow(sequence, solvers_options, comp_options, var_options)\n",
    "components = model.components\n",
    "lookup_f = get_f(components, ordered_edges)\n",
    "wfmdao = mdao_workflow_with_args(wf, lookup_f, namingfunc)"
   ]
  },
  {
   "cell_type": "code",
   "execution_count": 58,
   "id": "0f26fcf3-b46d-45eb-b530-ee76056c8d9d",
   "metadata": {
    "execution": {
     "iopub.execute_input": "2022-06-30T02:23:16.182046Z",
     "iopub.status.busy": "2022-06-30T02:23:16.182046Z",
     "iopub.status.idle": "2022-06-30T02:23:16.197382Z",
     "shell.execute_reply": "2022-06-30T02:23:16.197382Z",
     "shell.execute_reply.started": "2022-06-30T02:23:16.182046Z"
    },
    "tags": []
   },
   "outputs": [],
   "source": [
    "#evalexpr(A*eta_a*W0*cos(th))"
   ]
  },
  {
   "cell_type": "code",
   "execution_count": 59,
   "id": "8f1ff29a-c5bd-4014-b1cb-973544523574",
   "metadata": {
    "execution": {
     "iopub.execute_input": "2022-06-30T02:23:16.548563Z",
     "iopub.status.busy": "2022-06-30T02:23:16.539524Z",
     "iopub.status.idle": "2022-06-30T02:23:16.564426Z",
     "shell.execute_reply": "2022-06-30T02:23:16.564298Z",
     "shell.execute_reply.started": "2022-06-30T02:23:16.548563Z"
    },
    "tags": []
   },
   "outputs": [],
   "source": [
    "prob, mdao_in, groups = build_archi(ordered_edges, ordered_tree, wfmdao, namingfunc, model.idmapping)"
   ]
  },
  {
   "cell_type": "code",
   "execution_count": 60,
   "id": "8efd2af9-31e2-4bdc-a4af-fba1d4165f20",
   "metadata": {
    "execution": {
     "iopub.execute_input": "2022-06-30T02:23:16.979472Z",
     "iopub.status.busy": "2022-06-30T02:23:16.979472Z",
     "iopub.status.idle": "2022-06-30T02:23:16.988710Z",
     "shell.execute_reply": "2022-06-30T02:23:16.987227Z",
     "shell.execute_reply.started": "2022-06-30T02:23:16.979472Z"
    },
    "tags": []
   },
   "outputs": [],
   "source": [
    "#prob.set_val('D', 0.67)\n",
    "#prob.set_val('A', 0.04)"
   ]
  },
  {
   "cell_type": "code",
   "execution_count": 61,
   "id": "bed64e3e-ab5d-4f0d-b2a0-4224f4a4945a",
   "metadata": {
    "execution": {
     "iopub.execute_input": "2022-06-30T02:23:17.146739Z",
     "iopub.status.busy": "2022-06-30T02:23:17.146739Z",
     "iopub.status.idle": "2022-06-30T02:23:17.153468Z",
     "shell.execute_reply": "2022-06-30T02:23:17.152148Z",
     "shell.execute_reply.started": "2022-06-30T02:23:17.146739Z"
    },
    "tags": []
   },
   "outputs": [],
   "source": [
    "#prob.run_model();"
   ]
  },
  {
   "cell_type": "code",
   "execution_count": 62,
   "id": "1da1a248-c8e0-4851-ae93-16e35010ad4d",
   "metadata": {
    "execution": {
     "iopub.execute_input": "2022-06-30T02:23:18.189061Z",
     "iopub.status.busy": "2022-06-30T02:23:18.189061Z",
     "iopub.status.idle": "2022-06-30T02:23:42.089383Z",
     "shell.execute_reply": "2022-06-30T02:23:42.089228Z",
     "shell.execute_reply.started": "2022-06-30T02:23:18.189061Z"
    },
    "tags": []
   },
   "outputs": [
    {
     "name": "stdout",
     "output_type": "stream",
     "text": [
      "\n",
      "==\n",
      "s2\n",
      "==\n",
      "NL: Newton Converged in 4 iterations\n",
      "\n",
      "==\n",
      "s2\n",
      "==\n",
      "NL: Newton Converged in 0 iterations\n",
      "\n",
      "==\n",
      "s2\n",
      "==\n",
      "NL: Newton Converged in 4 iterations\n",
      "\n",
      "==\n",
      "s2\n",
      "==\n",
      "NL: Newton Converged in 3 iterations\n",
      "\n",
      "==\n",
      "s2\n",
      "==\n",
      "NL: Newton Converged in 5 iterations\n",
      "\n",
      "==\n",
      "s2\n",
      "==\n",
      "NL: Newton Converged in 3 iterations\n",
      "\n",
      "==\n",
      "s2\n",
      "==\n",
      "NL: Newton Converged in 11 iterations\n",
      "\n",
      "==\n",
      "s2\n",
      "==\n",
      "NL: Newton Converged in 4 iterations\n",
      "\n",
      "==\n",
      "s2\n",
      "==\n",
      "NL: Newton Converged in 4 iterations\n",
      "\n",
      "==\n",
      "s2\n",
      "==\n",
      "NL: Newton Converged in 5 iterations\n",
      "\n",
      "==\n",
      "s2\n",
      "==\n",
      "NL: Newton Converged in 4 iterations\n",
      "\n",
      "==\n",
      "s2\n",
      "==\n",
      "NL: Newton Converged in 5 iterations\n",
      "\n",
      "==\n",
      "s2\n",
      "==\n",
      "NL: Newton Converged in 5 iterations\n",
      "\n",
      "==\n",
      "s2\n",
      "==\n",
      "NL: Newton Converged in 5 iterations\n",
      "\n",
      "==\n",
      "s2\n",
      "==\n",
      "NL: NewtonSolver 'NL: Newton' on system 's2' failed to converge in 20 iterations.\n",
      "\n",
      "==\n",
      "s2\n",
      "==\n",
      "NL: Newton Converged in 19 iterations\n",
      "\n",
      "==\n",
      "s2\n",
      "==\n",
      "NL: Newton Converged in 5 iterations\n",
      "\n",
      "==\n",
      "s2\n",
      "==\n",
      "NL: NewtonSolver 'NL: Newton' on system 's2' failed to converge in 20 iterations.\n",
      "\n",
      "==\n",
      "s2\n",
      "==\n",
      "NL: NewtonSolver 'NL: Newton' on system 's2' failed to converge in 20 iterations.\n",
      "\n",
      "==\n",
      "s2\n",
      "==\n",
      "NL: Newton Converged in 18 iterations\n",
      "\n",
      "==\n",
      "s2\n",
      "==\n",
      "NL: Newton Converged in 5 iterations\n",
      "\n",
      "==\n",
      "s2\n",
      "==\n",
      "NL: NewtonSolver 'NL: Newton' on system 's2' failed to converge in 20 iterations.\n",
      "\n",
      "==\n",
      "s2\n",
      "==\n",
      "NL: Newton Converged in 6 iterations\n",
      "\n",
      "==\n",
      "s2\n",
      "==\n",
      "NL: Newton Converged in 7 iterations\n",
      "\n",
      "==\n",
      "s2\n",
      "==\n",
      "NL: Newton Converged in 6 iterations\n",
      "\n",
      "==\n",
      "s2\n",
      "==\n",
      "NL: Newton Converged in 4 iterations\n",
      "\n",
      "==\n",
      "s2\n",
      "==\n",
      "NL: Newton Converged in 4 iterations\n",
      "\n",
      "==\n",
      "s2\n",
      "==\n",
      "NL: Newton Converged in 4 iterations\n",
      "\n",
      "==\n",
      "s2\n",
      "==\n",
      "NL: Newton Converged in 3 iterations\n",
      "\n",
      "==\n",
      "s2\n",
      "==\n",
      "NL: Newton Converged in 2 iterations\n",
      "Optimization terminated successfully    (Exit mode 0)\n",
      "            Current function value: [15.30092308]\n",
      "            Iterations: 17\n",
      "            Function evaluations: 29\n",
      "            Gradient evaluations: 17\n",
      "Optimization Complete\n",
      "-----------------------------------\n"
     ]
    },
    {
     "data": {
      "text/plain": [
       "False"
      ]
     },
     "execution_count": 62,
     "metadata": {},
     "output_type": "execute_result"
    }
   ],
   "source": [
    "prob.run_driver()"
   ]
  },
  {
   "cell_type": "code",
   "execution_count": 17,
   "id": "61d4c9da-9713-47c7-b51b-db79943443e9",
   "metadata": {
    "execution": {
     "iopub.execute_input": "2022-06-30T02:13:16.249753Z",
     "iopub.status.busy": "2022-06-30T02:13:16.249753Z",
     "iopub.status.idle": "2022-06-30T02:13:16.259809Z",
     "shell.execute_reply": "2022-06-30T02:13:16.259809Z",
     "shell.execute_reply.started": "2022-06-30T02:13:16.249753Z"
    },
    "tags": []
   },
   "outputs": [],
   "source": [
    "import numpy as np"
   ]
  },
  {
   "cell_type": "code",
   "execution_count": 28,
   "id": "3c00af30-1836-404b-97dc-e484bcea9d26",
   "metadata": {
    "execution": {
     "iopub.execute_input": "2022-06-30T02:14:51.232037Z",
     "iopub.status.busy": "2022-06-30T02:14:51.232037Z",
     "iopub.status.idle": "2022-06-30T02:14:51.241095Z",
     "shell.execute_reply": "2022-06-30T02:14:51.239793Z",
     "shell.execute_reply.started": "2022-06-30T02:14:51.232037Z"
    },
    "tags": []
   },
   "outputs": [],
   "source": [
    "Pc, Pb = 18.32, 42.80186912"
   ]
  },
  {
   "cell_type": "code",
   "execution_count": 38,
   "id": "47c55d7a-84c1-48d1-8534-7d9d0fedced4",
   "metadata": {
    "execution": {
     "iopub.execute_input": "2022-06-30T02:18:02.050931Z",
     "iopub.status.busy": "2022-06-30T02:18:02.050931Z",
     "iopub.status.idle": "2022-06-30T02:18:02.076129Z",
     "shell.execute_reply": "2022-06-30T02:18:02.075000Z",
     "shell.execute_reply.started": "2022-06-30T02:18:02.050931Z"
    },
    "tags": []
   },
   "outputs": [
    {
     "name": "stderr",
     "output_type": "stream",
     "text": [
      "C:\\Users\\johan\\AppData\\Local\\Temp/ipykernel_16872/3458300415.py:1: RuntimeWarning: invalid value encountered in sqrt\n",
      "  np.array([Pc,Pb])-np.linalg.solve(np.array([[1,1],[-10/(2*np.sqrt(Pc)), 1]]), [Pc+Pb-19.332,Pb-10*np.sqrt(Pc)])\n"
     ]
    },
    {
     "data": {
      "text/plain": [
       "array([nan, nan])"
      ]
     },
     "execution_count": 38,
     "metadata": {},
     "output_type": "execute_result"
    }
   ],
   "source": [
    "np.array([Pc,Pb])-np.linalg.solve(np.array([[1,1],[-10/(2*np.sqrt(Pc)), 1]]), [Pc+Pb-19.332,Pb-10*np.sqrt(Pc)])"
   ]
  },
  {
   "cell_type": "code",
   "execution_count": 30,
   "id": "57a8ace6-ef51-479e-870f-e6dc6bfac0e6",
   "metadata": {
    "execution": {
     "iopub.execute_input": "2022-06-30T02:15:28.565225Z",
     "iopub.status.busy": "2022-06-30T02:15:28.564656Z",
     "iopub.status.idle": "2022-06-30T02:15:28.578217Z",
     "shell.execute_reply": "2022-06-30T02:15:28.578217Z",
     "shell.execute_reply.started": "2022-06-30T02:15:28.565225Z"
    },
    "tags": []
   },
   "outputs": [],
   "source": [
    "Pc, Pb = -0.95422934, 20.28622934"
   ]
  },
  {
   "cell_type": "code",
   "execution_count": 49,
   "id": "db73f912-f492-4112-ad22-cfc24c5b8dc2",
   "metadata": {
    "execution": {
     "iopub.execute_input": "2022-06-30T02:18:59.889489Z",
     "iopub.status.busy": "2022-06-30T02:18:59.889489Z",
     "iopub.status.idle": "2022-06-30T02:19:00.430740Z",
     "shell.execute_reply": "2022-06-30T02:19:00.429424Z",
     "shell.execute_reply.started": "2022-06-30T02:18:59.889489Z"
    },
    "tags": []
   },
   "outputs": [
    {
     "name": "stdout",
     "output_type": "stream",
     "text": [
      "\n",
      "==\n",
      "s1\n",
      "==\n",
      "P_c Pbus {'Pbus': array([42.80186912]), 'P_0': array([19.32])} -1.0\n",
      "P_c P_0 {'Pbus': array([42.80186912]), 'P_0': array([19.32])} 1.0\n",
      "Pbus P_c {'P_c': array([18.32])} 1.1681732837899945\n",
      "P_c Pbus {'Pbus': array([9.79675432]), 'P_0': array([19.32])} -1.0\n",
      "P_c P_0 {'Pbus': array([9.79675432]), 'P_0': array([19.32])} 1.0\n",
      "Pbus P_c {'P_c': array([-0.95976395])} -5.103731131122634\n",
      "P_c Pbus {'Pbus': array([18.74638868]), 'P_0': array([19.32])} -1.0\n",
      "P_c P_0 {'Pbus': array([18.74638868]), 'P_0': array([19.32])} 1.0\n",
      "Pbus P_c {'P_c': array([-3.51427089])} -2.6671803751021677\n",
      "P_c Pbus {'Pbus': array([24.42589701]), 'P_0': array([19.32])} -1.0\n",
      "P_c P_0 {'Pbus': array([24.42589701]), 'P_0': array([19.32])} 1.0\n",
      "Pbus P_c {'P_c': array([-5.96624445])} -2.0470077300787213\n",
      "P_c Pbus {'Pbus': array([26.05372273]), 'P_0': array([19.32])} -1.0\n",
      "P_c P_0 {'Pbus': array([26.05372273]), 'P_0': array([19.32])} 1.0\n",
      "Pbus P_c {'P_c': array([-6.78796468])} -1.9191115417404778\n",
      "P_c Pbus {'Pbus': array([26.16673521]), 'P_0': array([19.32])} -1.0\n",
      "P_c P_0 {'Pbus': array([26.16673521]), 'P_0': array([19.32])} 1.0\n",
      "Pbus P_c {'P_c': array([-6.84698032])} -1.910823020091016\n",
      "P_c Pbus {'Pbus': array([26.16724941]), 'P_0': array([19.32])} -1.0\n",
      "P_c P_0 {'Pbus': array([26.16724941]), 'P_0': array([19.32])} 1.0\n",
      "Pbus P_c {'P_c': array([-6.84724942])} -1.9107854711576944\n",
      "NL: Newton Converged in 7 iterations\n"
     ]
    }
   ],
   "source": [
    "prob.run_model()"
   ]
  },
  {
   "cell_type": "code",
   "execution_count": 18,
   "id": "76472d77-0c4c-4c50-82be-118f7171b833",
   "metadata": {
    "execution": {
     "iopub.execute_input": "2022-06-30T01:26:50.969124Z",
     "iopub.status.busy": "2022-06-30T01:26:50.969124Z",
     "iopub.status.idle": "2022-06-30T01:26:50.972832Z",
     "shell.execute_reply": "2022-06-30T01:26:50.972714Z",
     "shell.execute_reply.started": "2022-06-30T01:26:50.969124Z"
    },
    "tags": []
   },
   "outputs": [],
   "source": [
    "recorder = om.SqliteRecorder('cases2.sqlite')"
   ]
  },
  {
   "cell_type": "code",
   "execution_count": 19,
   "id": "e41c0154-32b5-4df7-b8c5-d89c4ba7369e",
   "metadata": {
    "execution": {
     "iopub.execute_input": "2022-06-30T01:26:53.534981Z",
     "iopub.status.busy": "2022-06-30T01:26:53.534981Z",
     "iopub.status.idle": "2022-06-30T01:26:53.545753Z",
     "shell.execute_reply": "2022-06-30T01:26:53.545753Z",
     "shell.execute_reply.started": "2022-06-30T01:26:53.534981Z"
    },
    "tags": []
   },
   "outputs": [],
   "source": [
    "prob.model.s2.add_recorder(recorder)\n",
    "for key,val in ordered_tree[0].items():\n",
    "    s = groups[namingfunc(val, SOLVER)]\n",
    "    f = getattr(s, namingfunc(key, COMP))\n",
    "    f.recording_options['options_excludes'] = ['component']"
   ]
  },
  {
   "cell_type": "code",
   "execution_count": 21,
   "id": "4bf3a934-d032-4ea3-8671-3792dac0f22e",
   "metadata": {
    "execution": {
     "iopub.execute_input": "2022-06-30T01:27:02.962617Z",
     "iopub.status.busy": "2022-06-30T01:27:02.962617Z",
     "iopub.status.idle": "2022-06-30T01:27:03.040655Z",
     "shell.execute_reply": "2022-06-30T01:27:03.040655Z",
     "shell.execute_reply.started": "2022-06-30T01:27:02.962617Z"
    },
    "tags": []
   },
   "outputs": [],
   "source": [
    "prob.cleanup();"
   ]
  },
  {
   "cell_type": "code",
   "execution_count": 22,
   "id": "af3200a1-d390-4361-81ea-08aaeb4211c0",
   "metadata": {
    "execution": {
     "iopub.execute_input": "2022-06-30T01:27:03.794415Z",
     "iopub.status.busy": "2022-06-30T01:27:03.794415Z",
     "iopub.status.idle": "2022-06-30T01:27:03.821330Z",
     "shell.execute_reply": "2022-06-30T01:27:03.821330Z",
     "shell.execute_reply.started": "2022-06-30T01:27:03.794415Z"
    },
    "tags": []
   },
   "outputs": [],
   "source": [
    "cr = om.CaseReader(\"cases2.sqlite\")\n",
    "solver_cases = cr.list_cases(out_stream=None);"
   ]
  },
  {
   "cell_type": "code",
   "execution_count": 25,
   "id": "877b96cf-f785-412c-a129-b0a990501d05",
   "metadata": {
    "execution": {
     "iopub.execute_input": "2022-06-30T01:27:18.673393Z",
     "iopub.status.busy": "2022-06-30T01:27:18.673393Z",
     "iopub.status.idle": "2022-06-30T01:27:18.683466Z",
     "shell.execute_reply": "2022-06-30T01:27:18.683466Z",
     "shell.execute_reply.started": "2022-06-30T01:27:18.673393Z"
    },
    "tags": []
   },
   "outputs": [
    {
     "data": {
      "text/plain": [
       "array([nan])"
      ]
     },
     "execution_count": 25,
     "metadata": {},
     "output_type": "execute_result"
    }
   ],
   "source": [
    "cr.get_case(solver_cases[0]).get_val('P_b')"
   ]
  },
  {
   "cell_type": "code",
   "execution_count": 166,
   "id": "061a1940-7061-453c-af96-e67b00f8786a",
   "metadata": {
    "execution": {
     "iopub.execute_input": "2022-06-30T00:46:59.021850Z",
     "iopub.status.busy": "2022-06-30T00:46:59.020774Z",
     "iopub.status.idle": "2022-06-30T00:46:59.028870Z",
     "shell.execute_reply": "2022-06-30T00:46:59.028870Z",
     "shell.execute_reply.started": "2022-06-30T00:46:59.021850Z"
    },
    "tags": []
   },
   "outputs": [],
   "source": [
    "#print_outputs(model, prob, namingfunc)"
   ]
  },
  {
   "cell_type": "code",
   "execution_count": 140,
   "id": "54919976-d4a2-40d0-989f-f61e253c4f3d",
   "metadata": {
    "execution": {
     "iopub.execute_input": "2022-06-30T00:44:38.871631Z",
     "iopub.status.busy": "2022-06-30T00:44:38.871631Z",
     "iopub.status.idle": "2022-06-30T00:44:40.610965Z",
     "shell.execute_reply": "2022-06-30T00:44:40.610061Z",
     "shell.execute_reply.started": "2022-06-30T00:44:38.871631Z"
    },
    "tags": []
   },
   "outputs": [
    {
     "name": "stdout",
     "output_type": "stream",
     "text": [
      "\n",
      "==\n",
      "s2\n",
      "==\n",
      "NL: Newton Converged in 3 iterations\n",
      "\n",
      "==\n",
      "s2\n",
      "==\n",
      "NL: Newton Converged in 1 iterations\n",
      "\n",
      "==\n",
      "s2\n",
      "==\n",
      "NL: Newton Converged in 1 iterations\n",
      "\n",
      "==\n",
      "s2\n",
      "==\n",
      "NL: Newton Converged in 1 iterations\n",
      "\n",
      "==\n",
      "s2\n",
      "==\n",
      "NL: Newton Converged in 1 iterations\n",
      "\n",
      "==\n",
      "s2\n",
      "==\n",
      "NL: Newton Converged in 1 iterations\n",
      "\n",
      "==\n",
      "s2\n",
      "==\n",
      "NL: Newton Converged in 1 iterations\n",
      "\n",
      "==\n",
      "s2\n",
      "==\n",
      "NL: Newton Converged in 1 iterations\n",
      "\n",
      "==\n",
      "s2\n",
      "==\n",
      "NL: Newton Converged in 4 iterations\n",
      "\n",
      "==\n",
      "s2\n",
      "==\n",
      "NL: Newton Converged in 4 iterations\n",
      "\n",
      "==\n",
      "s2\n",
      "==\n",
      "NL: Newton Converged in 3 iterations\n",
      "\n",
      "==\n",
      "s2\n",
      "==\n",
      "NL: Newton Converged in 3 iterations\n",
      "\n",
      "==\n",
      "s2\n",
      "==\n",
      "NL: Newton Converged in 3 iterations\n",
      "\n",
      "==\n",
      "s2\n",
      "==\n",
      "NL: Newton Converged in 2 iterations\n",
      "Optimization terminated successfully    (Exit mode 0)\n",
      "            Current function value: [15.30092333]\n",
      "            Iterations: 12\n",
      "            Function evaluations: 13\n",
      "            Gradient evaluations: 9\n",
      "Optimization Complete\n",
      "-----------------------------------\n"
     ]
    }
   ],
   "source": [
    "prob.run_driver();"
   ]
  },
  {
   "cell_type": "code",
   "execution_count": 16,
   "id": "ba98013c-ecb6-41eb-929c-b170cb3b57c0",
   "metadata": {
    "execution": {
     "iopub.execute_input": "2022-06-24T18:42:33.470920Z",
     "iopub.status.busy": "2022-06-24T18:42:33.470920Z",
     "iopub.status.idle": "2022-06-24T18:42:33.474915Z",
     "shell.execute_reply": "2022-06-24T18:42:33.474915Z",
     "shell.execute_reply.started": "2022-06-24T18:42:33.470920Z"
    },
    "tags": []
   },
   "outputs": [],
   "source": [
    "mdao_in_dv = mdao_in.union({'D','A'})"
   ]
  },
  {
   "cell_type": "code",
   "execution_count": 54,
   "id": "f1f0cd80-8cd2-490e-a97f-abc7ab44d637",
   "metadata": {
    "execution": {
     "iopub.execute_input": "2022-06-30T01:47:44.297606Z",
     "iopub.status.busy": "2022-06-30T01:47:44.296674Z",
     "iopub.status.idle": "2022-06-30T01:47:44.316134Z",
     "shell.execute_reply": "2022-06-30T01:47:44.313119Z",
     "shell.execute_reply.started": "2022-06-30T01:47:44.296674Z"
    },
    "tags": []
   },
   "outputs": [
    {
     "ename": "NameError",
     "evalue": "name 'mdao_in_dv' is not defined",
     "output_type": "error",
     "traceback": [
      "\u001b[1;31m---------------------------------------------------------------------------\u001b[0m",
      "\u001b[1;31mNameError\u001b[0m                                 Traceback (most recent call last)",
      "\u001b[1;32m~\\AppData\\Local\\Temp/ipykernel_16668/731382826.py\u001b[0m in \u001b[0;36m<module>\u001b[1;34m\u001b[0m\n\u001b[1;32m----> 1\u001b[1;33m \u001b[0mprint_inputs\u001b[0m\u001b[1;33m(\u001b[0m\u001b[0mmodel\u001b[0m\u001b[1;33m,\u001b[0m \u001b[0mprob\u001b[0m\u001b[1;33m,\u001b[0m \u001b[0mmdao_in_dv\u001b[0m\u001b[1;33m)\u001b[0m\u001b[1;33m\u001b[0m\u001b[1;33m\u001b[0m\u001b[0m\n\u001b[0m",
      "\u001b[1;31mNameError\u001b[0m: name 'mdao_in_dv' is not defined"
     ]
    }
   ],
   "source": [
    "print_inputs(model, prob, mdao_in_dv)"
   ]
  },
  {
   "cell_type": "code",
   "execution_count": 55,
   "id": "6c4527c9-dd6a-4a8b-84a6-5967f8de9be7",
   "metadata": {
    "execution": {
     "iopub.execute_input": "2022-06-30T01:47:46.479947Z",
     "iopub.status.busy": "2022-06-30T01:47:46.479947Z",
     "iopub.status.idle": "2022-06-30T01:47:46.495484Z",
     "shell.execute_reply": "2022-06-30T01:47:46.494478Z",
     "shell.execute_reply.started": "2022-06-30T01:47:46.479947Z"
    },
    "tags": []
   },
   "outputs": [
    {
     "data": {
      "text/html": [
       "<div>\n",
       "<style scoped>\n",
       "    .dataframe tbody tr th:only-of-type {\n",
       "        vertical-align: middle;\n",
       "    }\n",
       "\n",
       "    .dataframe tbody tr th {\n",
       "        vertical-align: top;\n",
       "    }\n",
       "\n",
       "    .dataframe thead th {\n",
       "        text-align: right;\n",
       "    }\n",
       "</style>\n",
       "<table border=\"1\" class=\"dataframe\">\n",
       "  <thead>\n",
       "    <tr style=\"text-align: right;\">\n",
       "      <th></th>\n",
       "      <th>0</th>\n",
       "      <th>1</th>\n",
       "      <th>2</th>\n",
       "    </tr>\n",
       "  </thead>\n",
       "  <tbody>\n",
       "    <tr>\n",
       "      <th>0</th>\n",
       "      <td>P_c</td>\n",
       "      <td>2.75</td>\n",
       "      <td>W</td>\n",
       "    </tr>\n",
       "    <tr>\n",
       "      <th>1</th>\n",
       "      <td>P_b</td>\n",
       "      <td>16.583</td>\n",
       "      <td>W</td>\n",
       "    </tr>\n",
       "    <tr>\n",
       "      <th>2</th>\n",
       "      <td>R</td>\n",
       "      <td>0.908</td>\n",
       "      <td>MB</td>\n",
       "    </tr>\n",
       "    <tr>\n",
       "      <th>3</th>\n",
       "      <td>C</td>\n",
       "      <td>15.195</td>\n",
       "      <td>kUSD</td>\n",
       "    </tr>\n",
       "  </tbody>\n",
       "</table>\n",
       "</div>"
      ],
      "text/plain": [
       "     0       1     2\n",
       "0  P_c    2.75     W\n",
       "1  P_b  16.583     W\n",
       "2    R   0.908    MB\n",
       "3    C  15.195  kUSD"
      ]
     },
     "execution_count": 55,
     "metadata": {},
     "output_type": "execute_result"
    }
   ],
   "source": [
    "print_outputs(model, prob, namingfunc)"
   ]
  },
  {
   "cell_type": "code",
   "execution_count": 15,
   "id": "4a81d424-43c3-48c0-9df3-5bc672030783",
   "metadata": {
    "execution": {
     "iopub.execute_input": "2022-06-24T03:29:59.248040Z",
     "iopub.status.busy": "2022-06-24T03:29:59.248040Z",
     "iopub.status.idle": "2022-06-24T03:29:59.454071Z",
     "shell.execute_reply": "2022-06-24T03:29:59.454071Z",
     "shell.execute_reply.started": "2022-06-24T03:29:59.248040Z"
    },
    "tags": []
   },
   "outputs": [
    {
     "name": "stdout",
     "output_type": "stream",
     "text": [
      "\\begin{tabular}{llr}\n",
      " & 0 & 1 \\\\\n",
      "0 & A & 0.500000 \\\\\n",
      "1 & D & 0.100000 \\\\\n",
      "2 & S & 400.000000 \\\\\n",
      "\\end{tabular}\n",
      "\n"
     ]
    }
   ],
   "source": [
    "print(print_inputs(model, mdao_in).style.to_latex())"
   ]
  },
  {
   "cell_type": "code",
   "execution_count": 16,
   "id": "cdc974fc-e403-47be-a9fc-479216cf42a5",
   "metadata": {
    "execution": {
     "iopub.execute_input": "2022-06-24T03:30:10.394756Z",
     "iopub.status.busy": "2022-06-24T03:30:10.393737Z",
     "iopub.status.idle": "2022-06-24T03:30:10.409441Z",
     "shell.execute_reply": "2022-06-24T03:30:10.408037Z",
     "shell.execute_reply.started": "2022-06-24T03:30:10.394756Z"
    },
    "tags": []
   },
   "outputs": [
    {
     "name": "stdout",
     "output_type": "stream",
     "text": [
      "\\begin{tabular}{llll}\n",
      " & 0 & 1 & 2 \\\\\n",
      "0 & C & 26.063 & kUSD \\\\\n",
      "1 & P_b & 80.381 & W \\\\\n",
      "2 & P_t & 64.611 & W \\\\\n",
      "3 & R & 0.946 & MB \\\\\n",
      "\\end{tabular}\n",
      "\n"
     ]
    }
   ],
   "source": [
    "print(print_outputs(model, prob, namingfunc).style.to_latex())"
   ]
  },
  {
   "cell_type": "code",
   "execution_count": 10,
   "id": "76d258d1-a4d0-4746-abee-a0ca52d04e58",
   "metadata": {
    "execution": {
     "iopub.execute_input": "2022-06-24T03:27:04.041535Z",
     "iopub.status.busy": "2022-06-24T03:27:04.041535Z",
     "iopub.status.idle": "2022-06-24T03:27:04.056535Z",
     "shell.execute_reply": "2022-06-24T03:27:04.055118Z",
     "shell.execute_reply.started": "2022-06-24T03:27:04.041535Z"
    }
   },
   "outputs": [],
   "source": [
    "update_varval(model, prob, namingfunc)"
   ]
  },
  {
   "cell_type": "code",
   "execution_count": 11,
   "id": "567ff902-1bea-4fa5-945d-78f5d8d511af",
   "metadata": {
    "execution": {
     "iopub.execute_input": "2022-06-24T03:27:05.196793Z",
     "iopub.status.busy": "2022-06-24T03:27:05.196793Z",
     "iopub.status.idle": "2022-06-24T03:27:05.256440Z",
     "shell.execute_reply": "2022-06-24T03:27:05.256440Z",
     "shell.execute_reply.started": "2022-06-24T03:27:05.196793Z"
    },
    "tags": []
   },
   "outputs": [
    {
     "data": {
      "text/latex": [
       "$80.381 \\ (P_t=64.611 )$"
      ],
      "text/plain": [
       "dummy"
      ]
     },
     "execution_count": 11,
     "metadata": {},
     "output_type": "execute_result"
    }
   ],
   "source": [
    "evalexpr(10*P_t**0.5)"
   ]
  },
  {
   "cell_type": "markdown",
   "id": "f11d28b4-f3ce-423d-8e23-f2c340b10ae4",
   "metadata": {},
   "source": [
    "# Restructured"
   ]
  },
  {
   "cell_type": "code",
   "execution_count": 17,
   "id": "f9c69df3-660d-4396-8a51-d1f749580080",
   "metadata": {
    "execution": {
     "iopub.execute_input": "2022-06-30T00:13:03.760167Z",
     "iopub.status.busy": "2022-06-30T00:13:03.760167Z",
     "iopub.status.idle": "2022-06-30T00:13:03.825318Z",
     "shell.execute_reply": "2022-06-30T00:13:03.825318Z",
     "shell.execute_reply.started": "2022-06-30T00:13:03.760167Z"
    },
    "tags": []
   },
   "outputs": [],
   "source": [
    "modelrstr = Model(solver=OPT)\n",
    "mrstr = modelrstr.root\n",
    "R = Var('R', unit='MB')\n",
    "adda(mrstr, P_t, R/(alpha*D**2*eta_t)*(16*S**2))\n",
    "adda(mrstr, Pbus, 10*P_t**0.5)\n",
    "adda(mrstr, A, (Pbus+P_t)/(eta_a*W0*cos(th)))\n",
    "C = adda(mrstr, 'C', c1*D**2+c2*A+c3*Pbus+c4, unit='kUSD')\n",
    "addobj(mrstr, C)"
   ]
  },
  {
   "cell_type": "code",
   "execution_count": 18,
   "id": "216f2356-3d55-40f8-a794-f53159bd249e",
   "metadata": {
    "execution": {
     "iopub.execute_input": "2022-06-30T00:13:04.331151Z",
     "iopub.status.busy": "2022-06-30T00:13:04.331151Z",
     "iopub.status.idle": "2022-06-30T00:13:04.342240Z",
     "shell.execute_reply": "2022-06-30T00:13:04.342240Z",
     "shell.execute_reply.started": "2022-06-30T00:13:04.331151Z"
    },
    "tags": []
   },
   "outputs": [],
   "source": [
    "setsolvefor(mrstr, [D], {D:[0,10]})"
   ]
  },
  {
   "cell_type": "code",
   "execution_count": 19,
   "id": "16337481-a192-42c0-bc52-f24687832b74",
   "metadata": {
    "execution": {
     "iopub.execute_input": "2022-06-30T00:13:04.824660Z",
     "iopub.status.busy": "2022-06-30T00:13:04.824660Z",
     "iopub.status.idle": "2022-06-30T00:13:04.838584Z",
     "shell.execute_reply": "2022-06-30T00:13:04.838584Z",
     "shell.execute_reply.started": "2022-06-30T00:13:04.824660Z"
    },
    "tags": []
   },
   "outputs": [],
   "source": [
    "edges, tree = modelrstr.generate_formulation()"
   ]
  },
  {
   "cell_type": "code",
   "execution_count": 20,
   "id": "5f262cb7-4bf3-4e56-801e-0ee7e69867da",
   "metadata": {
    "execution": {
     "iopub.execute_input": "2022-06-30T00:13:05.272690Z",
     "iopub.status.busy": "2022-06-30T00:13:05.272690Z",
     "iopub.status.idle": "2022-06-30T00:13:05.288687Z",
     "shell.execute_reply": "2022-06-30T00:13:05.287686Z",
     "shell.execute_reply.started": "2022-06-30T00:13:05.272690Z"
    },
    "tags": []
   },
   "outputs": [],
   "source": [
    "ordered_tree = tree\n",
    "ordered_edges = edges\n",
    "comp_options = modelrstr.comp_options\n",
    "var_options = modelrstr.var_options\n",
    "solvers_options = modelrstr.solvers_options\n",
    "#solvers_options[1] = {'solver': 'N', 'maxiter':20}\n",
    "nodetyperepr = modelrstr.nametyperepr\n",
    "namingfunc = namefromsympy(nodetyperepr)\n",
    "sequence = order_from_tree(ordered_tree[0], ordered_tree[1], ordered_edges[1])\n",
    "solvers_options = default_solver_options(ordered_tree, solvers_options)\n",
    "wf = mdao_workflow(sequence, solvers_options, comp_options, var_options)\n",
    "components = modelrstr.components\n",
    "lookup_f = get_f(components, ordered_edges)\n",
    "wfmdao = mdao_workflow_with_args(wf, lookup_f, namingfunc)"
   ]
  },
  {
   "cell_type": "code",
   "execution_count": 21,
   "id": "868901c4-b7ab-4af7-acf0-33c73c88d1bc",
   "metadata": {
    "execution": {
     "iopub.execute_input": "2022-06-30T00:13:06.153331Z",
     "iopub.status.busy": "2022-06-30T00:13:06.152332Z",
     "iopub.status.idle": "2022-06-30T00:13:06.163323Z",
     "shell.execute_reply": "2022-06-30T00:13:06.163323Z",
     "shell.execute_reply.started": "2022-06-30T00:13:06.153331Z"
    },
    "tags": []
   },
   "outputs": [],
   "source": [
    "prob, mdao_in, groups = build_archi(ordered_edges, ordered_tree, wfmdao, namingfunc, modelrstr.idmapping)"
   ]
  },
  {
   "cell_type": "code",
   "execution_count": 22,
   "id": "6fb4987c-07b3-46a1-91c7-082b03c702d1",
   "metadata": {
    "execution": {
     "iopub.execute_input": "2022-06-30T00:13:11.031402Z",
     "iopub.status.busy": "2022-06-30T00:13:11.031402Z",
     "iopub.status.idle": "2022-06-30T00:13:11.049430Z",
     "shell.execute_reply": "2022-06-30T00:13:11.049430Z",
     "shell.execute_reply.started": "2022-06-30T00:13:11.031402Z"
    },
    "tags": []
   },
   "outputs": [],
   "source": [
    "R.varval = 1\n",
    "prob.set_val('R', 1)\n",
    "#D.varval = 0.001\n",
    "prob.set_val('D', 0.43057)"
   ]
  },
  {
   "cell_type": "code",
   "execution_count": 23,
   "id": "47c1b5c1-fe35-411c-bd47-c380ce8423c0",
   "metadata": {
    "execution": {
     "iopub.execute_input": "2022-06-30T00:13:11.485995Z",
     "iopub.status.busy": "2022-06-30T00:13:11.485995Z",
     "iopub.status.idle": "2022-06-30T00:13:11.500260Z",
     "shell.execute_reply": "2022-06-30T00:13:11.500260Z",
     "shell.execute_reply.started": "2022-06-30T00:13:11.485995Z"
    },
    "tags": []
   },
   "outputs": [],
   "source": [
    "prob.run_model()"
   ]
  },
  {
   "cell_type": "code",
   "execution_count": 24,
   "id": "260c92e5-8e9e-4f14-92a9-cd411ad1c0c5",
   "metadata": {
    "execution": {
     "iopub.execute_input": "2022-06-30T00:13:12.105988Z",
     "iopub.status.busy": "2022-06-30T00:13:12.105988Z",
     "iopub.status.idle": "2022-06-30T00:13:12.551444Z",
     "shell.execute_reply": "2022-06-30T00:13:12.551444Z",
     "shell.execute_reply.started": "2022-06-30T00:13:12.105988Z"
    },
    "tags": []
   },
   "outputs": [
    {
     "name": "stdout",
     "output_type": "stream",
     "text": [
      "Optimization terminated successfully    (Exit mode 0)\n",
      "            Current function value: [15.30092326]\n",
      "            Iterations: 5\n",
      "            Function evaluations: 8\n",
      "            Gradient evaluations: 5\n",
      "Optimization Complete\n",
      "-----------------------------------\n"
     ]
    }
   ],
   "source": [
    "prob.run_driver();"
   ]
  },
  {
   "cell_type": "code",
   "execution_count": 25,
   "id": "e002a449-4307-4ad1-b4c4-05d7fca26a8b",
   "metadata": {
    "execution": {
     "iopub.execute_input": "2022-06-30T00:13:28.045749Z",
     "iopub.status.busy": "2022-06-30T00:13:28.045749Z",
     "iopub.status.idle": "2022-06-30T00:13:28.061668Z",
     "shell.execute_reply": "2022-06-30T00:13:28.060667Z",
     "shell.execute_reply.started": "2022-06-30T00:13:28.045749Z"
    },
    "tags": []
   },
   "outputs": [],
   "source": [
    "mdao_in_dv = mdao_in.union({'D'})"
   ]
  },
  {
   "cell_type": "code",
   "execution_count": 26,
   "id": "c630390c-8d59-4468-b1dd-f914c73ac8c2",
   "metadata": {
    "execution": {
     "iopub.execute_input": "2022-06-30T00:13:28.221689Z",
     "iopub.status.busy": "2022-06-30T00:13:28.221689Z",
     "iopub.status.idle": "2022-06-30T00:13:28.231708Z",
     "shell.execute_reply": "2022-06-30T00:13:28.231708Z",
     "shell.execute_reply.started": "2022-06-30T00:13:28.221689Z"
    },
    "tags": []
   },
   "outputs": [
    {
     "data": {
      "text/html": [
       "<div>\n",
       "<style scoped>\n",
       "    .dataframe tbody tr th:only-of-type {\n",
       "        vertical-align: middle;\n",
       "    }\n",
       "\n",
       "    .dataframe tbody tr th {\n",
       "        vertical-align: top;\n",
       "    }\n",
       "\n",
       "    .dataframe thead th {\n",
       "        text-align: right;\n",
       "    }\n",
       "</style>\n",
       "<table border=\"1\" class=\"dataframe\">\n",
       "  <thead>\n",
       "    <tr style=\"text-align: right;\">\n",
       "      <th></th>\n",
       "      <th>0</th>\n",
       "      <th>1</th>\n",
       "      <th>2</th>\n",
       "    </tr>\n",
       "  </thead>\n",
       "  <tbody>\n",
       "    <tr>\n",
       "      <th>0</th>\n",
       "      <td>R</td>\n",
       "      <td>1</td>\n",
       "      <td>MB</td>\n",
       "    </tr>\n",
       "    <tr>\n",
       "      <th>1</th>\n",
       "      <td>D</td>\n",
       "      <td>0.67</td>\n",
       "      <td>m</td>\n",
       "    </tr>\n",
       "    <tr>\n",
       "      <th>2</th>\n",
       "      <td>h</td>\n",
       "      <td>400</td>\n",
       "      <td>km</td>\n",
       "    </tr>\n",
       "  </tbody>\n",
       "</table>\n",
       "</div>"
      ],
      "text/plain": [
       "   0     1   2\n",
       "0  R     1  MB\n",
       "1  D  0.67   m\n",
       "2  h   400  km"
      ]
     },
     "execution_count": 26,
     "metadata": {},
     "output_type": "execute_result"
    }
   ],
   "source": [
    "print_inputs(modelrstr, prob, mdao_in_dv)"
   ]
  },
  {
   "cell_type": "code",
   "execution_count": 27,
   "id": "937ab032-af4d-4243-9d5b-71ceb04f4101",
   "metadata": {
    "execution": {
     "iopub.execute_input": "2022-06-30T00:13:29.359434Z",
     "iopub.status.busy": "2022-06-30T00:13:29.359434Z",
     "iopub.status.idle": "2022-06-30T00:13:29.368991Z",
     "shell.execute_reply": "2022-06-30T00:13:29.368430Z",
     "shell.execute_reply.started": "2022-06-30T00:13:29.359434Z"
    },
    "tags": []
   },
   "outputs": [
    {
     "data": {
      "text/html": [
       "<div>\n",
       "<style scoped>\n",
       "    .dataframe tbody tr th:only-of-type {\n",
       "        vertical-align: middle;\n",
       "    }\n",
       "\n",
       "    .dataframe tbody tr th {\n",
       "        vertical-align: top;\n",
       "    }\n",
       "\n",
       "    .dataframe thead th {\n",
       "        text-align: right;\n",
       "    }\n",
       "</style>\n",
       "<table border=\"1\" class=\"dataframe\">\n",
       "  <thead>\n",
       "    <tr style=\"text-align: right;\">\n",
       "      <th></th>\n",
       "      <th>0</th>\n",
       "      <th>1</th>\n",
       "      <th>2</th>\n",
       "    </tr>\n",
       "  </thead>\n",
       "  <tbody>\n",
       "    <tr>\n",
       "      <th>0</th>\n",
       "      <td>P_{{{comms}}}</td>\n",
       "      <td>2.847</td>\n",
       "      <td>W</td>\n",
       "    </tr>\n",
       "    <tr>\n",
       "      <th>1</th>\n",
       "      <td>P_{{{bus}}}</td>\n",
       "      <td>16.874</td>\n",
       "      <td>W</td>\n",
       "    </tr>\n",
       "    <tr>\n",
       "      <th>2</th>\n",
       "      <td>A</td>\n",
       "      <td>0.041</td>\n",
       "      <td>m²</td>\n",
       "    </tr>\n",
       "    <tr>\n",
       "      <th>3</th>\n",
       "      <td>C</td>\n",
       "      <td>15.301</td>\n",
       "      <td>kUSD</td>\n",
       "    </tr>\n",
       "  </tbody>\n",
       "</table>\n",
       "</div>"
      ],
      "text/plain": [
       "               0       1     2\n",
       "0  P_{{{comms}}}   2.847     W\n",
       "1    P_{{{bus}}}  16.874     W\n",
       "2              A   0.041    m²\n",
       "3              C  15.301  kUSD"
      ]
     },
     "execution_count": 27,
     "metadata": {},
     "output_type": "execute_result"
    }
   ],
   "source": [
    "print_outputs(modelrstr, prob, namingfunc)"
   ]
  },
  {
   "cell_type": "code",
   "execution_count": 81,
   "id": "534086d3-80b8-4612-b21a-168a3e70f2fb",
   "metadata": {
    "execution": {
     "iopub.execute_input": "2022-06-24T14:22:18.968058Z",
     "iopub.status.busy": "2022-06-24T14:22:18.967058Z",
     "iopub.status.idle": "2022-06-24T14:22:18.975119Z",
     "shell.execute_reply": "2022-06-24T14:22:18.975119Z",
     "shell.execute_reply.started": "2022-06-24T14:22:18.968058Z"
    },
    "tags": []
   },
   "outputs": [],
   "source": [
    "update_varval(modelrstr, prob, namingfunc)"
   ]
  },
  {
   "cell_type": "code",
   "execution_count": null,
   "id": "5a658110-4717-4b42-b375-359bd75ccb9f",
   "metadata": {},
   "outputs": [],
   "source": []
  }
 ],
 "metadata": {
  "kernelspec": {
   "display_name": "Python [conda env:mdo]",
   "language": "python",
   "name": "conda-env-mdo-py"
  },
  "language_info": {
   "codemirror_mode": {
    "name": "ipython",
    "version": 3
   },
   "file_extension": ".py",
   "mimetype": "text/x-python",
   "name": "python",
   "nbconvert_exporter": "python",
   "pygments_lexer": "ipython3",
   "version": "3.9.7"
  }
 },
 "nbformat": 4,
 "nbformat_minor": 5
}
