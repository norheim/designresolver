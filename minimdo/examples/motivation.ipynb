{
 "cells": [
  {
   "cell_type": "code",
   "execution_count": 1,
   "id": "77dec3d5-d6e2-4d51-b93c-115732b8cf89",
   "metadata": {
    "execution": {
     "iopub.execute_input": "2022-06-24T18:41:43.896816Z",
     "iopub.status.busy": "2022-06-24T18:41:43.896816Z",
     "iopub.status.idle": "2022-06-24T18:41:45.770215Z",
     "shell.execute_reply": "2022-06-24T18:41:45.769343Z",
     "shell.execute_reply.started": "2022-06-24T18:41:43.896816Z"
    },
    "tags": []
   },
   "outputs": [],
   "source": [
    "from compute import Var, Par\n",
    "from datastructures.api import Model, adda, addf, addsolver, setsolvefor, addobj, addeq, addineq, OPT\n",
    "from datastructures.execution import edges_from_components\n",
    "from datastructures.graphutils import namefromsympy, dfs_tree, SOLVER, VAR, COMP, nested_sources, sources, edges_to_Ein_Eout, flat_graph_formulation, root_solver\n",
    "from datastructures.nestedgraph import root_sources\n",
    "from datastructures.execution import generate_components_and_residuals\n",
    "from datastructures.workflow import get_f, order_from_tree, default_solver_options, mdao_workflow, implicit_comp_name\n",
    "from datastructures.workflow_mdao import mdao_workflow_with_args\n",
    "from datastructures.operators import sort_scc, reorder_merge_solve\n",
    "from datastructures.assembly import build_archi\n",
    "from datastructures.api import evalexpr\n",
    "from datastructures.postprocess import print_inputs, print_outputs, update_varval\n",
    "import openmdao.api as om\n",
    "import numpy as np\n",
    "from sympy import cos"
   ]
  },
  {
   "cell_type": "code",
   "execution_count": 2,
   "id": "02dd0f1b-1071-4868-abc6-005971f2ede3",
   "metadata": {
    "execution": {
     "iopub.execute_input": "2022-06-24T18:41:45.771709Z",
     "iopub.status.busy": "2022-06-24T18:41:45.771214Z",
     "iopub.status.idle": "2022-06-24T18:41:45.785684Z",
     "shell.execute_reply": "2022-06-24T18:41:45.784752Z",
     "shell.execute_reply.started": "2022-06-24T18:41:45.771214Z"
    },
    "tags": []
   },
   "outputs": [],
   "source": [
    "from compute import ureg\n",
    "ureg.define('USD = [currency] ')"
   ]
  },
  {
   "cell_type": "markdown",
   "id": "3ba11fda-d9e0-4300-ab11-b234fe382f34",
   "metadata": {},
   "source": [
    "# Variables and parameters \n",
    "They are shared accross models"
   ]
  },
  {
   "cell_type": "code",
   "execution_count": null,
   "id": "84115034-3775-45c3-b226-d17deea6e62d",
   "metadata": {},
   "outputs": [],
   "source": [
    "P_t = Var('P_t', unit='W')\n",
    "P_t.forceunit=True\n",
    "Pbus = Var('P_b', unit='W')\n",
    "Pbus.forceunit=True\n",
    "S = Var('S', 400, unit='km')\n",
    "D = Var('D', 0.1, unit='m')\n",
    "A = Var('A', 0.5, unit='m^2')\n",
    "eta_t = Par(r'\\eta_t', 0.16)\n",
    "eta_a = Par(r'\\eta', 0.5)\n",
    "alpha = Par(r'\\alpha', 1e20, 'bits/W')\n",
    "th = Par(r'\\theta', np.pi/4)\n",
    "W0 = Par('W_0', 1367, 'W/m^2')\n",
    "Re = Par('Re', 6378, 'km')\n",
    "μ = Par('mu', 3.986005e14, 'm^3/s^2')\n",
    "c1 = Par('c_1', 2500, 'USD/m^2')\n",
    "c2 = Par('c_2', 12000, 'USD/m^2')\n",
    "c3 = Par('c_3', 100, 'USD/W')\n",
    "c4 = Par('c_4', 12000, 'USD')"
   ]
  },
  {
   "cell_type": "markdown",
   "id": "a6c08d02-545f-49a1-afc1-8d7e814fadb1",
   "metadata": {},
   "source": [
    "# Formulation 1"
   ]
  },
  {
   "cell_type": "code",
   "execution_count": 3,
   "id": "2fa59afd-a0cc-4371-b0d4-33f12ea3cf18",
   "metadata": {
    "execution": {
     "iopub.execute_input": "2022-06-24T18:41:45.786692Z",
     "iopub.status.busy": "2022-06-24T18:41:45.785684Z",
     "iopub.status.idle": "2022-06-24T18:41:46.101612Z",
     "shell.execute_reply": "2022-06-24T18:41:46.100655Z",
     "shell.execute_reply.started": "2022-06-24T18:41:45.786692Z"
    },
    "tags": []
   },
   "outputs": [],
   "source": [
    "model = Model(solver=OPT)\n",
    "m = model.root\n",
    "s2 = addsolver(m)#, solvefor=['Pbus', 'P_t'])\n",
    "adda(s2, Pbus, 10*P_t**0.5)\n",
    "adda(s2, P_t, A*eta_a*W0*cos(th)-Pbus)\n",
    "R = adda(m, 'R', alpha*P_t*D**2*eta_t/(16*S**2), unit='MB')\n",
    "C = adda(m, 'C', c1*D**2+c2*A+c3*Pbus+c4, unit='kUSD')\n",
    "addeq(m, -R+1)\n",
    "addobj(m, C)"
   ]
  },
  {
   "cell_type": "code",
   "execution_count": 4,
   "id": "516883b8-495b-40ce-b5f2-d3de5d18f498",
   "metadata": {
    "execution": {
     "iopub.execute_input": "2022-06-24T18:41:46.102604Z",
     "iopub.status.busy": "2022-06-24T18:41:46.102604Z",
     "iopub.status.idle": "2022-06-24T18:41:46.116819Z",
     "shell.execute_reply": "2022-06-24T18:41:46.115922Z",
     "shell.execute_reply.started": "2022-06-24T18:41:46.102604Z"
    },
    "tags": []
   },
   "outputs": [],
   "source": [
    "setsolvefor(m, [D,A], {D:[0.5,10], A:[0.04,1]})"
   ]
  },
  {
   "cell_type": "code",
   "execution_count": 5,
   "id": "bdf0b7a9-9483-4c86-8aea-fc0b7dc1fe41",
   "metadata": {
    "execution": {
     "iopub.execute_input": "2022-06-24T18:41:46.408247Z",
     "iopub.status.busy": "2022-06-24T18:41:46.407157Z",
     "iopub.status.idle": "2022-06-24T18:41:46.417378Z",
     "shell.execute_reply": "2022-06-24T18:41:46.417148Z",
     "shell.execute_reply.started": "2022-06-24T18:41:46.408247Z"
    },
    "tags": []
   },
   "outputs": [],
   "source": [
    "edges, tree = model.generate_formulation()"
   ]
  },
  {
   "cell_type": "code",
   "execution_count": 6,
   "id": "c2b1eeda-135d-4d3d-af17-ac5627f52573",
   "metadata": {
    "execution": {
     "iopub.execute_input": "2022-06-24T18:41:46.623176Z",
     "iopub.status.busy": "2022-06-24T18:41:46.623176Z",
     "iopub.status.idle": "2022-06-24T18:41:46.637218Z",
     "shell.execute_reply": "2022-06-24T18:41:46.637084Z",
     "shell.execute_reply.started": "2022-06-24T18:41:46.623176Z"
    },
    "tags": []
   },
   "outputs": [],
   "source": [
    "ordered_tree = tree\n",
    "ordered_edges = edges\n",
    "comp_options = model.comp_options\n",
    "var_options = model.var_options\n",
    "solvers_options = model.solvers_options\n",
    "solvers_options[1].update({'optimizer': 'SLSQP'})\n",
    "solvers_options[2] = {'solver': 'N', 'maxiter':20}\n",
    "nodetyperepr = model.nametyperepr\n",
    "namingfunc = namefromsympy(nodetyperepr)\n",
    "sequence = order_from_tree(ordered_tree[0], ordered_tree[1], ordered_edges[1])\n",
    "solvers_options = default_solver_options(ordered_tree, solvers_options)\n",
    "wf = mdao_workflow(sequence, solvers_options, comp_options, var_options)\n",
    "components = model.components\n",
    "lookup_f = get_f(components, ordered_edges)\n",
    "wfmdao = mdao_workflow_with_args(wf, lookup_f, namingfunc)"
   ]
  },
  {
   "cell_type": "code",
   "execution_count": 13,
   "id": "8f1ff29a-c5bd-4014-b1cb-973544523574",
   "metadata": {
    "execution": {
     "iopub.execute_input": "2022-06-24T18:42:14.290061Z",
     "iopub.status.busy": "2022-06-24T18:42:14.290061Z",
     "iopub.status.idle": "2022-06-24T18:42:14.303996Z",
     "shell.execute_reply": "2022-06-24T18:42:14.303996Z",
     "shell.execute_reply.started": "2022-06-24T18:42:14.290061Z"
    },
    "tags": []
   },
   "outputs": [
    {
     "name": "stdout",
     "output_type": "stream",
     "text": [
      "bounds {'upper': 0.0, 'lower': 0.0}\n"
     ]
    }
   ],
   "source": [
    "prob, mdao_in, groups = build_archi(ordered_edges, ordered_tree, wfmdao, namingfunc, model.idmapping)"
   ]
  },
  {
   "cell_type": "code",
   "execution_count": 14,
   "id": "e5781879-5fac-45df-a689-5b2e3865f27f",
   "metadata": {
    "execution": {
     "iopub.execute_input": "2022-06-24T18:42:14.464976Z",
     "iopub.status.busy": "2022-06-24T18:42:14.464976Z",
     "iopub.status.idle": "2022-06-24T18:42:14.472884Z",
     "shell.execute_reply": "2022-06-24T18:42:14.471890Z",
     "shell.execute_reply.started": "2022-06-24T18:42:14.464976Z"
    },
    "tags": []
   },
   "outputs": [],
   "source": [
    "prob.set_val('D', 0.67)\n",
    "prob.set_val('A', 0.03)"
   ]
  },
  {
   "cell_type": "code",
   "execution_count": 15,
   "id": "54919976-d4a2-40d0-989f-f61e253c4f3d",
   "metadata": {
    "execution": {
     "iopub.execute_input": "2022-06-24T18:42:15.020341Z",
     "iopub.status.busy": "2022-06-24T18:42:15.019357Z",
     "iopub.status.idle": "2022-06-24T18:42:18.066019Z",
     "shell.execute_reply": "2022-06-24T18:42:18.066019Z",
     "shell.execute_reply.started": "2022-06-24T18:42:15.020341Z"
    },
    "tags": []
   },
   "outputs": [
    {
     "name": "stdout",
     "output_type": "stream",
     "text": [
      "\n",
      "==\n",
      "s2\n",
      "==\n",
      "NL: Newton Converged in 7 iterations\n",
      "\n",
      "==\n",
      "s2\n",
      "==\n",
      "NL: Newton Converged in 6 iterations\n",
      "\n",
      "==\n",
      "s2\n",
      "==\n",
      "NL: Newton Converged in 5 iterations\n",
      "\n",
      "==\n",
      "s2\n",
      "==\n",
      "NL: Newton Converged in 5 iterations\n",
      "\n",
      "==\n",
      "s2\n",
      "==\n",
      "NL: Newton Converged in 3 iterations\n",
      "\n",
      "==\n",
      "s2\n",
      "==\n",
      "NL: Newton Converged in 2 iterations\n",
      "\n",
      "==\n",
      "s2\n",
      "==\n",
      "NL: Newton Converged in 3 iterations\n",
      "\n",
      "==\n",
      "s2\n",
      "==\n",
      "NL: Newton Converged in 2 iterations\n",
      "\n",
      "==\n",
      "s2\n",
      "==\n",
      "NL: Newton Converged in 1 iterations\n",
      "\n",
      "==\n",
      "s2\n",
      "==\n",
      "NL: Newton Converged in 1 iterations\n",
      "\n",
      "==\n",
      "s2\n",
      "==\n",
      "NL: Newton Converged in 1 iterations\n",
      "\n",
      "==\n",
      "s2\n",
      "==\n",
      "NL: Newton Converged in 1 iterations\n",
      "\n",
      "==\n",
      "s2\n",
      "==\n",
      "NL: Newton Converged in 1 iterations\n",
      "\n",
      "==\n",
      "s2\n",
      "==\n",
      "NL: Newton Converged in 1 iterations\n",
      "\n",
      "==\n",
      "s2\n",
      "==\n",
      "NL: Newton Converged in 1 iterations\n",
      "\n",
      "==\n",
      "s2\n",
      "==\n",
      "NL: Newton Converged in 1 iterations\n",
      "\n",
      "==\n",
      "s2\n",
      "==\n",
      "NL: Newton Converged in 1 iterations\n",
      "\n",
      "==\n",
      "s2\n",
      "==\n",
      "NL: Newton Converged in 1 iterations\n",
      "\n",
      "==\n",
      "s2\n",
      "==\n",
      "NL: Newton Converged in 1 iterations\n",
      "\n",
      "==\n",
      "s2\n",
      "==\n",
      "NL: Newton Converged in 2 iterations\n",
      "\n",
      "==\n",
      "s2\n",
      "==\n",
      "NL: Newton Converged in 2 iterations\n",
      "\n",
      "==\n",
      "s2\n",
      "==\n",
      "NL: Newton Converged in 2 iterations\n",
      "\n",
      "==\n",
      "s2\n",
      "==\n",
      "NL: Newton Converged in 2 iterations\n",
      "\n",
      "==\n",
      "s2\n",
      "==\n",
      "NL: Newton Converged in 2 iterations\n",
      "\n",
      "==\n",
      "s2\n",
      "==\n",
      "NL: Newton Converged in 2 iterations\n",
      "\n",
      "==\n",
      "s2\n",
      "==\n",
      "NL: Newton Converged in 2 iterations\n",
      "\n",
      "==\n",
      "s2\n",
      "==\n",
      "NL: Newton Converged in 1 iterations\n",
      "\n",
      "==\n",
      "s2\n",
      "==\n",
      "NL: Newton Converged in 1 iterations\n",
      "\n",
      "==\n",
      "s2\n",
      "==\n",
      "NL: Newton Converged in 1 iterations\n",
      "\n",
      "==\n",
      "s2\n",
      "==\n",
      "NL: Newton Converged in 1 iterations\n",
      "\n",
      "==\n",
      "s2\n",
      "==\n",
      "NL: Newton Converged in 2 iterations\n",
      "Optimization terminated successfully    (Exit mode 0)\n",
      "            Current function value: [15.30092326]\n",
      "            Iterations: 10\n",
      "            Function evaluations: 30\n",
      "            Gradient evaluations: 9\n",
      "Optimization Complete\n",
      "-----------------------------------\n"
     ]
    }
   ],
   "source": [
    "prob.run_driver();"
   ]
  },
  {
   "cell_type": "code",
   "execution_count": 16,
   "id": "ba98013c-ecb6-41eb-929c-b170cb3b57c0",
   "metadata": {
    "execution": {
     "iopub.execute_input": "2022-06-24T18:42:33.470920Z",
     "iopub.status.busy": "2022-06-24T18:42:33.470920Z",
     "iopub.status.idle": "2022-06-24T18:42:33.474915Z",
     "shell.execute_reply": "2022-06-24T18:42:33.474915Z",
     "shell.execute_reply.started": "2022-06-24T18:42:33.470920Z"
    },
    "tags": []
   },
   "outputs": [],
   "source": [
    "mdao_in_dv = mdao_in.union({'D','A'})"
   ]
  },
  {
   "cell_type": "code",
   "execution_count": 17,
   "id": "f1f0cd80-8cd2-490e-a97f-abc7ab44d637",
   "metadata": {
    "execution": {
     "iopub.execute_input": "2022-06-24T18:42:33.855250Z",
     "iopub.status.busy": "2022-06-24T18:42:33.855250Z",
     "iopub.status.idle": "2022-06-24T18:42:33.869091Z",
     "shell.execute_reply": "2022-06-24T18:42:33.868854Z",
     "shell.execute_reply.started": "2022-06-24T18:42:33.855250Z"
    },
    "tags": []
   },
   "outputs": [
    {
     "data": {
      "text/html": [
       "<div>\n",
       "<style scoped>\n",
       "    .dataframe tbody tr th:only-of-type {\n",
       "        vertical-align: middle;\n",
       "    }\n",
       "\n",
       "    .dataframe tbody tr th {\n",
       "        vertical-align: top;\n",
       "    }\n",
       "\n",
       "    .dataframe thead th {\n",
       "        text-align: right;\n",
       "    }\n",
       "</style>\n",
       "<table border=\"1\" class=\"dataframe\">\n",
       "  <thead>\n",
       "    <tr style=\"text-align: right;\">\n",
       "      <th></th>\n",
       "      <th>0</th>\n",
       "      <th>1</th>\n",
       "      <th>2</th>\n",
       "    </tr>\n",
       "  </thead>\n",
       "  <tbody>\n",
       "    <tr>\n",
       "      <th>0</th>\n",
       "      <td>S</td>\n",
       "      <td>400</td>\n",
       "      <td>km</td>\n",
       "    </tr>\n",
       "    <tr>\n",
       "      <th>1</th>\n",
       "      <td>D</td>\n",
       "      <td>0.67</td>\n",
       "      <td>m</td>\n",
       "    </tr>\n",
       "    <tr>\n",
       "      <th>2</th>\n",
       "      <td>A</td>\n",
       "      <td>0.041</td>\n",
       "      <td>m²</td>\n",
       "    </tr>\n",
       "  </tbody>\n",
       "</table>\n",
       "</div>"
      ],
      "text/plain": [
       "   0      1   2\n",
       "0  S    400  km\n",
       "1  D   0.67   m\n",
       "2  A  0.041  m²"
      ]
     },
     "execution_count": 17,
     "metadata": {},
     "output_type": "execute_result"
    }
   ],
   "source": [
    "print_inputs(model, prob, mdao_in_dv)"
   ]
  },
  {
   "cell_type": "code",
   "execution_count": 18,
   "id": "6c4527c9-dd6a-4a8b-84a6-5967f8de9be7",
   "metadata": {
    "execution": {
     "iopub.execute_input": "2022-06-24T18:42:36.312695Z",
     "iopub.status.busy": "2022-06-24T18:42:36.312695Z",
     "iopub.status.idle": "2022-06-24T18:42:36.334170Z",
     "shell.execute_reply": "2022-06-24T18:42:36.333626Z",
     "shell.execute_reply.started": "2022-06-24T18:42:36.312695Z"
    },
    "tags": []
   },
   "outputs": [
    {
     "data": {
      "text/html": [
       "<div>\n",
       "<style scoped>\n",
       "    .dataframe tbody tr th:only-of-type {\n",
       "        vertical-align: middle;\n",
       "    }\n",
       "\n",
       "    .dataframe tbody tr th {\n",
       "        vertical-align: top;\n",
       "    }\n",
       "\n",
       "    .dataframe thead th {\n",
       "        text-align: right;\n",
       "    }\n",
       "</style>\n",
       "<table border=\"1\" class=\"dataframe\">\n",
       "  <thead>\n",
       "    <tr style=\"text-align: right;\">\n",
       "      <th></th>\n",
       "      <th>0</th>\n",
       "      <th>1</th>\n",
       "      <th>2</th>\n",
       "    </tr>\n",
       "  </thead>\n",
       "  <tbody>\n",
       "    <tr>\n",
       "      <th>0</th>\n",
       "      <td>P_b</td>\n",
       "      <td>16.874</td>\n",
       "      <td>W</td>\n",
       "    </tr>\n",
       "    <tr>\n",
       "      <th>1</th>\n",
       "      <td>P_t</td>\n",
       "      <td>2.847</td>\n",
       "      <td>W</td>\n",
       "    </tr>\n",
       "    <tr>\n",
       "      <th>2</th>\n",
       "      <td>R</td>\n",
       "      <td>1</td>\n",
       "      <td>MB</td>\n",
       "    </tr>\n",
       "    <tr>\n",
       "      <th>3</th>\n",
       "      <td>C</td>\n",
       "      <td>15.301</td>\n",
       "      <td>kUSD</td>\n",
       "    </tr>\n",
       "  </tbody>\n",
       "</table>\n",
       "</div>"
      ],
      "text/plain": [
       "     0       1     2\n",
       "0  P_b  16.874     W\n",
       "1  P_t   2.847     W\n",
       "2    R       1    MB\n",
       "3    C  15.301  kUSD"
      ]
     },
     "execution_count": 18,
     "metadata": {},
     "output_type": "execute_result"
    }
   ],
   "source": [
    "print_outputs(model, prob, namingfunc)"
   ]
  },
  {
   "cell_type": "code",
   "execution_count": 15,
   "id": "4a81d424-43c3-48c0-9df3-5bc672030783",
   "metadata": {
    "execution": {
     "iopub.execute_input": "2022-06-24T03:29:59.248040Z",
     "iopub.status.busy": "2022-06-24T03:29:59.248040Z",
     "iopub.status.idle": "2022-06-24T03:29:59.454071Z",
     "shell.execute_reply": "2022-06-24T03:29:59.454071Z",
     "shell.execute_reply.started": "2022-06-24T03:29:59.248040Z"
    },
    "tags": []
   },
   "outputs": [
    {
     "name": "stdout",
     "output_type": "stream",
     "text": [
      "\\begin{tabular}{llr}\n",
      " & 0 & 1 \\\\\n",
      "0 & A & 0.500000 \\\\\n",
      "1 & D & 0.100000 \\\\\n",
      "2 & S & 400.000000 \\\\\n",
      "\\end{tabular}\n",
      "\n"
     ]
    }
   ],
   "source": [
    "print(print_inputs(model, mdao_in).style.to_latex())"
   ]
  },
  {
   "cell_type": "code",
   "execution_count": 16,
   "id": "cdc974fc-e403-47be-a9fc-479216cf42a5",
   "metadata": {
    "execution": {
     "iopub.execute_input": "2022-06-24T03:30:10.394756Z",
     "iopub.status.busy": "2022-06-24T03:30:10.393737Z",
     "iopub.status.idle": "2022-06-24T03:30:10.409441Z",
     "shell.execute_reply": "2022-06-24T03:30:10.408037Z",
     "shell.execute_reply.started": "2022-06-24T03:30:10.394756Z"
    },
    "tags": []
   },
   "outputs": [
    {
     "name": "stdout",
     "output_type": "stream",
     "text": [
      "\\begin{tabular}{llll}\n",
      " & 0 & 1 & 2 \\\\\n",
      "0 & C & 26.063 & kUSD \\\\\n",
      "1 & P_b & 80.381 & W \\\\\n",
      "2 & P_t & 64.611 & W \\\\\n",
      "3 & R & 0.946 & MB \\\\\n",
      "\\end{tabular}\n",
      "\n"
     ]
    }
   ],
   "source": [
    "print(print_outputs(model, prob, namingfunc).style.to_latex())"
   ]
  },
  {
   "cell_type": "code",
   "execution_count": 10,
   "id": "76d258d1-a4d0-4746-abee-a0ca52d04e58",
   "metadata": {
    "execution": {
     "iopub.execute_input": "2022-06-24T03:27:04.041535Z",
     "iopub.status.busy": "2022-06-24T03:27:04.041535Z",
     "iopub.status.idle": "2022-06-24T03:27:04.056535Z",
     "shell.execute_reply": "2022-06-24T03:27:04.055118Z",
     "shell.execute_reply.started": "2022-06-24T03:27:04.041535Z"
    }
   },
   "outputs": [],
   "source": [
    "update_varval(model, prob, namingfunc)"
   ]
  },
  {
   "cell_type": "code",
   "execution_count": 11,
   "id": "567ff902-1bea-4fa5-945d-78f5d8d511af",
   "metadata": {
    "execution": {
     "iopub.execute_input": "2022-06-24T03:27:05.196793Z",
     "iopub.status.busy": "2022-06-24T03:27:05.196793Z",
     "iopub.status.idle": "2022-06-24T03:27:05.256440Z",
     "shell.execute_reply": "2022-06-24T03:27:05.256440Z",
     "shell.execute_reply.started": "2022-06-24T03:27:05.196793Z"
    },
    "tags": []
   },
   "outputs": [
    {
     "data": {
      "text/latex": [
       "$80.381 \\ (P_t=64.611 )$"
      ],
      "text/plain": [
       "dummy"
      ]
     },
     "execution_count": 11,
     "metadata": {},
     "output_type": "execute_result"
    }
   ],
   "source": [
    "evalexpr(10*P_t**0.5)"
   ]
  },
  {
   "cell_type": "markdown",
   "id": "f11d28b4-f3ce-423d-8e23-f2c340b10ae4",
   "metadata": {},
   "source": [
    "# Restructured"
   ]
  },
  {
   "cell_type": "code",
   "execution_count": 19,
   "id": "f9c69df3-660d-4396-8a51-d1f749580080",
   "metadata": {
    "execution": {
     "iopub.execute_input": "2022-06-24T19:05:37.611908Z",
     "iopub.status.busy": "2022-06-24T19:05:37.611908Z",
     "iopub.status.idle": "2022-06-24T19:05:37.680286Z",
     "shell.execute_reply": "2022-06-24T19:05:37.679417Z",
     "shell.execute_reply.started": "2022-06-24T19:05:37.611908Z"
    },
    "tags": []
   },
   "outputs": [],
   "source": [
    "modelrstr = Model(solver=OPT)\n",
    "mrstr = modelrstr.root\n",
    "R = Var('R', unit='MB')\n",
    "adda(mrstr, P_t, R/(alpha*D**2*eta_t)*(16*S**2))\n",
    "adda(mrstr, Pbus, 10*P_t**0.5)\n",
    "adda(mrstr, A, (Pbus+P_t)/(eta_a*W0*cos(th)))\n",
    "C = adda(mrstr, 'C', c1*D**2+c2*A+c3*Pbus+c4, unit='kUSD')\n",
    "addobj(mrstr, C)"
   ]
  },
  {
   "cell_type": "code",
   "execution_count": 20,
   "id": "216f2356-3d55-40f8-a794-f53159bd249e",
   "metadata": {
    "execution": {
     "iopub.execute_input": "2022-06-24T19:05:37.892695Z",
     "iopub.status.busy": "2022-06-24T19:05:37.892695Z",
     "iopub.status.idle": "2022-06-24T19:05:37.906334Z",
     "shell.execute_reply": "2022-06-24T19:05:37.905321Z",
     "shell.execute_reply.started": "2022-06-24T19:05:37.892695Z"
    },
    "tags": []
   },
   "outputs": [],
   "source": [
    "setsolvefor(mrstr, [D], {D:[0,10]})"
   ]
  },
  {
   "cell_type": "code",
   "execution_count": 21,
   "id": "16337481-a192-42c0-bc52-f24687832b74",
   "metadata": {
    "execution": {
     "iopub.execute_input": "2022-06-24T19:05:38.211017Z",
     "iopub.status.busy": "2022-06-24T19:05:38.211017Z",
     "iopub.status.idle": "2022-06-24T19:05:38.224125Z",
     "shell.execute_reply": "2022-06-24T19:05:38.223212Z",
     "shell.execute_reply.started": "2022-06-24T19:05:38.211017Z"
    },
    "tags": []
   },
   "outputs": [],
   "source": [
    "edges, tree = modelrstr.generate_formulation()"
   ]
  },
  {
   "cell_type": "code",
   "execution_count": 22,
   "id": "5f262cb7-4bf3-4e56-801e-0ee7e69867da",
   "metadata": {
    "execution": {
     "iopub.execute_input": "2022-06-24T19:05:38.570935Z",
     "iopub.status.busy": "2022-06-24T19:05:38.570935Z",
     "iopub.status.idle": "2022-06-24T19:05:38.583926Z",
     "shell.execute_reply": "2022-06-24T19:05:38.582962Z",
     "shell.execute_reply.started": "2022-06-24T19:05:38.570935Z"
    },
    "tags": []
   },
   "outputs": [],
   "source": [
    "ordered_tree = tree\n",
    "ordered_edges = edges\n",
    "comp_options = modelrstr.comp_options\n",
    "var_options = modelrstr.var_options\n",
    "solvers_options = modelrstr.solvers_options\n",
    "#solvers_options[1] = {'solver': 'N', 'maxiter':20}\n",
    "nodetyperepr = modelrstr.nametyperepr\n",
    "namingfunc = namefromsympy(nodetyperepr)\n",
    "sequence = order_from_tree(ordered_tree[0], ordered_tree[1], ordered_edges[1])\n",
    "solvers_options = default_solver_options(ordered_tree, solvers_options)\n",
    "wf = mdao_workflow(sequence, solvers_options, comp_options, var_options)\n",
    "components = modelrstr.components\n",
    "lookup_f = get_f(components, ordered_edges)\n",
    "wfmdao = mdao_workflow_with_args(wf, lookup_f, namingfunc)"
   ]
  },
  {
   "cell_type": "code",
   "execution_count": 48,
   "id": "868901c4-b7ab-4af7-acf0-33c73c88d1bc",
   "metadata": {
    "execution": {
     "iopub.execute_input": "2022-06-24T19:14:15.170411Z",
     "iopub.status.busy": "2022-06-24T19:14:15.169411Z",
     "iopub.status.idle": "2022-06-24T19:14:15.187158Z",
     "shell.execute_reply": "2022-06-24T19:14:15.186423Z",
     "shell.execute_reply.started": "2022-06-24T19:14:15.170411Z"
    },
    "tags": []
   },
   "outputs": [],
   "source": [
    "prob, mdao_in, groups = build_archi(ordered_edges, ordered_tree, wfmdao, namingfunc, modelrstr.idmapping)"
   ]
  },
  {
   "cell_type": "code",
   "execution_count": 49,
   "id": "6fb4987c-07b3-46a1-91c7-082b03c702d1",
   "metadata": {
    "execution": {
     "iopub.execute_input": "2022-06-24T19:14:15.415659Z",
     "iopub.status.busy": "2022-06-24T19:14:15.414707Z",
     "iopub.status.idle": "2022-06-24T19:14:15.427717Z",
     "shell.execute_reply": "2022-06-24T19:14:15.426324Z",
     "shell.execute_reply.started": "2022-06-24T19:14:15.415659Z"
    },
    "tags": []
   },
   "outputs": [],
   "source": [
    "R.varval = 1\n",
    "prob.set_val('R', 1)\n",
    "#D.varval = 0.001\n",
    "prob.set_val('D', 0.43057)"
   ]
  },
  {
   "cell_type": "code",
   "execution_count": 50,
   "id": "47c1b5c1-fe35-411c-bd47-c380ce8423c0",
   "metadata": {
    "execution": {
     "iopub.execute_input": "2022-06-24T19:14:15.904631Z",
     "iopub.status.busy": "2022-06-24T19:14:15.903628Z",
     "iopub.status.idle": "2022-06-24T19:14:15.925393Z",
     "shell.execute_reply": "2022-06-24T19:14:15.924371Z",
     "shell.execute_reply.started": "2022-06-24T19:14:15.904631Z"
    },
    "tags": []
   },
   "outputs": [],
   "source": [
    "prob.run_model()"
   ]
  },
  {
   "cell_type": "code",
   "execution_count": 150,
   "id": "260c92e5-8e9e-4f14-92a9-cd411ad1c0c5",
   "metadata": {
    "execution": {
     "iopub.execute_input": "2022-06-24T18:19:28.593067Z",
     "iopub.status.busy": "2022-06-24T18:19:28.593067Z",
     "iopub.status.idle": "2022-06-24T18:19:29.161447Z",
     "shell.execute_reply": "2022-06-24T18:19:29.160606Z",
     "shell.execute_reply.started": "2022-06-24T18:19:28.593067Z"
    },
    "tags": []
   },
   "outputs": [
    {
     "name": "stdout",
     "output_type": "stream",
     "text": [
      "Optimization terminated successfully    (Exit mode 0)\n",
      "            Current function value: [15.30092326]\n",
      "            Iterations: 5\n",
      "            Function evaluations: 9\n",
      "            Gradient evaluations: 5\n",
      "Optimization Complete\n",
      "-----------------------------------\n"
     ]
    }
   ],
   "source": [
    "prob.run_driver();"
   ]
  },
  {
   "cell_type": "code",
   "execution_count": 51,
   "id": "e002a449-4307-4ad1-b4c4-05d7fca26a8b",
   "metadata": {
    "execution": {
     "iopub.execute_input": "2022-06-24T19:14:18.954876Z",
     "iopub.status.busy": "2022-06-24T19:14:18.954876Z",
     "iopub.status.idle": "2022-06-24T19:14:18.962895Z",
     "shell.execute_reply": "2022-06-24T19:14:18.962895Z",
     "shell.execute_reply.started": "2022-06-24T19:14:18.954876Z"
    },
    "tags": []
   },
   "outputs": [],
   "source": [
    "mdao_in_dv = mdao_in.union({'D'})"
   ]
  },
  {
   "cell_type": "code",
   "execution_count": 52,
   "id": "c630390c-8d59-4468-b1dd-f914c73ac8c2",
   "metadata": {
    "execution": {
     "iopub.execute_input": "2022-06-24T19:14:19.148448Z",
     "iopub.status.busy": "2022-06-24T19:14:19.147466Z",
     "iopub.status.idle": "2022-06-24T19:14:19.159451Z",
     "shell.execute_reply": "2022-06-24T19:14:19.158460Z",
     "shell.execute_reply.started": "2022-06-24T19:14:19.148448Z"
    },
    "tags": []
   },
   "outputs": [
    {
     "data": {
      "text/html": [
       "<div>\n",
       "<style scoped>\n",
       "    .dataframe tbody tr th:only-of-type {\n",
       "        vertical-align: middle;\n",
       "    }\n",
       "\n",
       "    .dataframe tbody tr th {\n",
       "        vertical-align: top;\n",
       "    }\n",
       "\n",
       "    .dataframe thead th {\n",
       "        text-align: right;\n",
       "    }\n",
       "</style>\n",
       "<table border=\"1\" class=\"dataframe\">\n",
       "  <thead>\n",
       "    <tr style=\"text-align: right;\">\n",
       "      <th></th>\n",
       "      <th>0</th>\n",
       "      <th>1</th>\n",
       "      <th>2</th>\n",
       "    </tr>\n",
       "  </thead>\n",
       "  <tbody>\n",
       "    <tr>\n",
       "      <th>0</th>\n",
       "      <td>S</td>\n",
       "      <td>400</td>\n",
       "      <td>km</td>\n",
       "    </tr>\n",
       "    <tr>\n",
       "      <th>1</th>\n",
       "      <td>R</td>\n",
       "      <td>1</td>\n",
       "      <td>MB</td>\n",
       "    </tr>\n",
       "    <tr>\n",
       "      <th>2</th>\n",
       "      <td>D</td>\n",
       "      <td>0.431</td>\n",
       "      <td>m</td>\n",
       "    </tr>\n",
       "  </tbody>\n",
       "</table>\n",
       "</div>"
      ],
      "text/plain": [
       "   0      1   2\n",
       "0  S    400  km\n",
       "1  R      1  MB\n",
       "2  D  0.431   m"
      ]
     },
     "execution_count": 52,
     "metadata": {},
     "output_type": "execute_result"
    }
   ],
   "source": [
    "print_inputs(modelrstr, prob, mdao_in_dv)"
   ]
  },
  {
   "cell_type": "code",
   "execution_count": 53,
   "id": "937ab032-af4d-4243-9d5b-71ceb04f4101",
   "metadata": {
    "execution": {
     "iopub.execute_input": "2022-06-24T19:14:20.054087Z",
     "iopub.status.busy": "2022-06-24T19:14:20.053600Z",
     "iopub.status.idle": "2022-06-24T19:14:20.077145Z",
     "shell.execute_reply": "2022-06-24T19:14:20.077145Z",
     "shell.execute_reply.started": "2022-06-24T19:14:20.054087Z"
    },
    "tags": []
   },
   "outputs": [
    {
     "data": {
      "text/html": [
       "<div>\n",
       "<style scoped>\n",
       "    .dataframe tbody tr th:only-of-type {\n",
       "        vertical-align: middle;\n",
       "    }\n",
       "\n",
       "    .dataframe tbody tr th {\n",
       "        vertical-align: top;\n",
       "    }\n",
       "\n",
       "    .dataframe thead th {\n",
       "        text-align: right;\n",
       "    }\n",
       "</style>\n",
       "<table border=\"1\" class=\"dataframe\">\n",
       "  <thead>\n",
       "    <tr style=\"text-align: right;\">\n",
       "      <th></th>\n",
       "      <th>0</th>\n",
       "      <th>1</th>\n",
       "      <th>2</th>\n",
       "    </tr>\n",
       "  </thead>\n",
       "  <tbody>\n",
       "    <tr>\n",
       "      <th>0</th>\n",
       "      <td>P_t</td>\n",
       "      <td>6.904</td>\n",
       "      <td>W</td>\n",
       "    </tr>\n",
       "    <tr>\n",
       "      <th>1</th>\n",
       "      <td>P_b</td>\n",
       "      <td>26.276</td>\n",
       "      <td>W</td>\n",
       "    </tr>\n",
       "    <tr>\n",
       "      <th>2</th>\n",
       "      <td>A</td>\n",
       "      <td>0.069</td>\n",
       "      <td>m²</td>\n",
       "    </tr>\n",
       "    <tr>\n",
       "      <th>3</th>\n",
       "      <td>C</td>\n",
       "      <td>15.915</td>\n",
       "      <td>kUSD</td>\n",
       "    </tr>\n",
       "  </tbody>\n",
       "</table>\n",
       "</div>"
      ],
      "text/plain": [
       "     0       1     2\n",
       "0  P_t   6.904     W\n",
       "1  P_b  26.276     W\n",
       "2    A   0.069    m²\n",
       "3    C  15.915  kUSD"
      ]
     },
     "execution_count": 53,
     "metadata": {},
     "output_type": "execute_result"
    }
   ],
   "source": [
    "print_outputs(modelrstr, prob, namingfunc)"
   ]
  },
  {
   "cell_type": "code",
   "execution_count": 81,
   "id": "534086d3-80b8-4612-b21a-168a3e70f2fb",
   "metadata": {
    "execution": {
     "iopub.execute_input": "2022-06-24T14:22:18.968058Z",
     "iopub.status.busy": "2022-06-24T14:22:18.967058Z",
     "iopub.status.idle": "2022-06-24T14:22:18.975119Z",
     "shell.execute_reply": "2022-06-24T14:22:18.975119Z",
     "shell.execute_reply.started": "2022-06-24T14:22:18.968058Z"
    },
    "tags": []
   },
   "outputs": [],
   "source": [
    "update_varval(modelrstr, prob, namingfunc)"
   ]
  },
  {
   "cell_type": "code",
   "execution_count": null,
   "id": "5a658110-4717-4b42-b375-359bd75ccb9f",
   "metadata": {},
   "outputs": [],
   "source": []
  }
 ],
 "metadata": {
  "kernelspec": {
   "display_name": "Python [conda env:mdo]",
   "language": "python",
   "name": "conda-env-mdo-py"
  },
  "language_info": {
   "codemirror_mode": {
    "name": "ipython",
    "version": 3
   },
   "file_extension": ".py",
   "mimetype": "text/x-python",
   "name": "python",
   "nbconvert_exporter": "python",
   "pygments_lexer": "ipython3",
   "version": "3.9.7"
  }
 },
 "nbformat": 4,
 "nbformat_minor": 5
}
