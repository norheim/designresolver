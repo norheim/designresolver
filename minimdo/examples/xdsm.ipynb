{
 "cells": [
  {
   "cell_type": "code",
   "execution_count": 21,
   "id": "d9ea8f7e-0f83-40d0-8c37-1123b71dd71c",
   "metadata": {
    "execution": {
     "iopub.execute_input": "2022-07-14T22:19:55.160652Z",
     "iopub.status.busy": "2022-07-14T22:19:55.159652Z",
     "iopub.status.idle": "2022-07-14T22:19:56.720158Z",
     "shell.execute_reply": "2022-07-14T22:19:56.719655Z",
     "shell.execute_reply.started": "2022-07-14T22:19:55.160652Z"
    },
    "tags": []
   },
   "outputs": [],
   "source": [
    "from pyxdsm.XDSM import XDSM, OPT, SOLVER, FUNC, LEFT\n",
    "\n",
    "# Change `use_sfmath` to False to use computer modern\n",
    "x = XDSM(use_sfmath=False)\n",
    "\n",
    "#x.add_system(\"opt\", OPT, r\"\\text{Optimizer}\")\n",
    "x.add_system(\"MDA\", SOLVER, (r\"0,4 \\to 1:\", r\"\\text{MDA}\"))\n",
    "x.add_system(\"A1\", FUNC, (\"1:\", r\"\\text{Analysis 1}\"))\n",
    "x.add_system(\"A2\", FUNC, (\"2:\", r\"\\text{Analysis 2}\"))\n",
    "x.add_system(\"A3\", FUNC, (\"3:\", r\"\\text{Analysis 3}\"))\n",
    "\n",
    "x.connect(\"MDA\", \"A1\", \"y_2^t, y_3^t\")\n",
    "x.connect(\"MDA\", \"A2\", \"y_3^t\")\n",
    "x.connect(\"A1\", \"A2\", \"y_1\")\n",
    "x.connect(\"A1\", \"A3\", \"y_1\")\n",
    "x.connect(\"A2\", \"A3\", \"y_2\")\n",
    "x.connect(\"A1\", \"MDA\", \"y_1\")\n",
    "x.connect(\"A2\", \"MDA\", \"y_2\")\n",
    "x.connect(\"A3\", \"MDA\", \"y_3\")\n",
    "\n",
    "x.add_input(\"MDA\", \"y^t\")\n",
    "x.add_input(\"A1\", \"x_0, x_1\")\n",
    "x.add_input(\"A2\", \"x_0, x_2\")\n",
    "x.add_input(\"A3\", \"x_0, x_3\")\n",
    "\n",
    "x.add_output(\"MDA\", r\"\\text{(no data)}\", side=LEFT)\n",
    "x.add_output(\"A1\", \"y_1\", side=LEFT)\n",
    "x.add_output(\"A2\", \"y_2\", side=LEFT)\n",
    "x.add_output(\"A3\", \"y_2\", side=LEFT)\n",
    "\n",
    "x.add_process(\n",
    "    [\"MDA\", \"A1\", \"A2\", \"A3\", \"MDA\"],\n",
    "    arrow=False,\n",
    ")\n",
    "\n",
    "x.write(\"mdf\")"
   ]
  },
  {
   "cell_type": "code",
   "execution_count": 27,
   "id": "ac290ebe-ab52-42a7-94c3-80f778b11d9a",
   "metadata": {
    "execution": {
     "iopub.execute_input": "2022-07-14T22:50:04.128265Z",
     "iopub.status.busy": "2022-07-14T22:50:04.127264Z",
     "iopub.status.idle": "2022-07-14T22:50:05.485829Z",
     "shell.execute_reply": "2022-07-14T22:50:05.485327Z",
     "shell.execute_reply.started": "2022-07-14T22:50:04.128265Z"
    },
    "tags": []
   },
   "outputs": [],
   "source": [
    "x = XDSM(use_sfmath=False)\n",
    "\n",
    "#x.add_system(\"opt\", OPT, r\"\\text{Optimizer}\")\n",
    "x.add_system(\"In\", FUNC, r\"\\text{Input}\")\n",
    "x.add_system(\"A1\", FUNC, r\"\\text{Component 1}\")\n",
    "x.add_system(\"A2\", FUNC, r\"\\text{Component 2}\")\n",
    "x.add_system(\"A3\", FUNC, r\"\\text{Component 3}\")\n",
    "\n",
    "x.connect(\"In\", \"A1\", \"x\")\n",
    "x.connect(\"In\", \"A3\", \"x\")\n",
    "x.connect(\"A1\", \"A2\", \"y_{11}\")\n",
    "x.connect(\"A1\", \"A3\", \"y_{11}, y_{12}\")\n",
    "x.connect(\"A2\", \"A3\", \"y_{21}\")\n",
    "x.connect(\"A2\", \"A1\", \"y_{22}\")\n",
    "x.connect(\"A3\", \"A1\", \"y_3\")\n",
    "\n",
    "x.write(\"nsquare_ex\")"
   ]
  },
  {
   "cell_type": "code",
   "execution_count": null,
   "id": "7365e555-521c-4d29-bbf2-27495b2add09",
   "metadata": {},
   "outputs": [],
   "source": []
  }
 ],
 "metadata": {
  "kernelspec": {
   "display_name": "Python [conda env:minimdo]",
   "language": "python",
   "name": "conda-env-minimdo-py"
  },
  "language_info": {
   "codemirror_mode": {
    "name": "ipython",
    "version": 3
   },
   "file_extension": ".py",
   "mimetype": "text/x-python",
   "name": "python",
   "nbconvert_exporter": "python",
   "pygments_lexer": "ipython3",
   "version": "3.9.12"
  }
 },
 "nbformat": 4,
 "nbformat_minor": 5
}
