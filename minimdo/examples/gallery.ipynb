{
 "cells": [
  {
   "cell_type": "code",
   "execution_count": 1,
   "id": "8f054005-45c7-4d12-9030-806283526b75",
   "metadata": {
    "execution": {
     "iopub.execute_input": "2022-07-22T14:49:17.834940Z",
     "iopub.status.busy": "2022-07-22T14:49:17.834940Z",
     "iopub.status.idle": "2022-07-22T14:49:20.558054Z",
     "shell.execute_reply": "2022-07-22T14:49:20.557180Z",
     "shell.execute_reply.started": "2022-07-22T14:49:17.834940Z"
    },
    "tags": []
   },
   "outputs": [],
   "source": [
    "from testproblems import generate_random_prob, random_problem_with_artifacts"
   ]
  },
  {
   "cell_type": "code",
   "execution_count": 2,
   "id": "88bd40ca-27e3-405f-9332-34f1aae4336b",
   "metadata": {
    "execution": {
     "iopub.execute_input": "2022-07-22T14:49:20.559050Z",
     "iopub.status.busy": "2022-07-22T14:49:20.559050Z",
     "iopub.status.idle": "2022-07-22T14:49:20.572968Z",
     "shell.execute_reply": "2022-07-22T14:49:20.572968Z",
     "shell.execute_reply.started": "2022-07-22T14:49:20.559050Z"
    },
    "tags": []
   },
   "outputs": [],
   "source": [
    "from datastructures.operators import eqv_to_edges_tree, reformulate, invert_edges\n",
    "from datastructures.graphutils import (default_tree, flat_graph_formulation, Node, COMP, VAR, sources, \n",
    "                                       draw_graph_graphical_props)\n",
    "from datastructures.rendering import render_incidence\n",
    "import networkx as nx\n",
    "from datastructures.tearing import min_max_scc2, min_arc_set_assign, min_arc_set"
   ]
  },
  {
   "cell_type": "code",
   "execution_count": 3,
   "id": "92d2f612-598e-47a1-9f7a-f6fc5425500a",
   "metadata": {
    "execution": {
     "iopub.execute_input": "2022-07-22T14:49:20.574969Z",
     "iopub.status.busy": "2022-07-22T14:49:20.574969Z",
     "iopub.status.idle": "2022-07-22T14:49:20.588343Z",
     "shell.execute_reply": "2022-07-22T14:49:20.588343Z",
     "shell.execute_reply.started": "2022-07-22T14:49:20.574969Z"
    },
    "tags": []
   },
   "outputs": [],
   "source": [
    "from ipywidgets import interact, interactive, fixed, interact_manual"
   ]
  },
  {
   "cell_type": "code",
   "execution_count": 19,
   "id": "038207b8-eb77-4369-8e1b-1819deb26ea9",
   "metadata": {
    "execution": {
     "iopub.execute_input": "2022-07-22T14:51:32.359177Z",
     "iopub.status.busy": "2022-07-22T14:51:32.358162Z",
     "iopub.status.idle": "2022-07-22T14:51:32.375173Z",
     "shell.execute_reply": "2022-07-22T14:51:32.374107Z",
     "shell.execute_reply.started": "2022-07-22T14:51:32.359177Z"
    }
   },
   "outputs": [],
   "source": [
    "import matplotlib.pyplot as plt\n",
    "plt.rcParams['text.usetex'] = True"
   ]
  },
  {
   "cell_type": "markdown",
   "id": "0f614995-1ec1-4eff-bfa4-dcc14c826fbc",
   "metadata": {},
   "source": [
    "# Exploration"
   ]
  },
  {
   "cell_type": "code",
   "execution_count": 49,
   "id": "e9541802-2221-4856-ac08-c1cb09799443",
   "metadata": {
    "execution": {
     "iopub.execute_input": "2022-07-22T14:57:20.483167Z",
     "iopub.status.busy": "2022-07-22T14:57:20.483167Z",
     "iopub.status.idle": "2022-07-22T14:57:20.878438Z",
     "shell.execute_reply": "2022-07-22T14:57:20.878438Z",
     "shell.execute_reply.started": "2022-07-22T14:57:20.483167Z"
    },
    "tags": []
   },
   "outputs": [
    {
     "data": {
      "application/vnd.jupyter.widget-view+json": {
       "model_id": "39ec597f072a43619ea7af47d6f17659",
       "version_major": 2,
       "version_minor": 0
      },
      "text/plain": [
       "interactive(children=(IntSlider(value=229, description='seed', max=300, min=200), Output()), _dom_classes=('wi…"
      ]
     },
     "metadata": {},
     "output_type": "display_data"
    }
   ],
   "source": [
    "m = 4\n",
    "n = 5\n",
    "#seed 229 does not behave correctly\n",
    "def func1(seed=229):\n",
    "    sparsity = 1.\n",
    "    kwargs = random_problem_with_artifacts(m,n,seed,sparsity)\n",
    "    eq_incidence,outset,eqnidxs,edges_varonleft,varidxs = map(kwargs.get, [\"eq_incidence\",\"outset\",\"eqnidxs\",\"edges_varonleft\",\"varidxs\"])\n",
    "    edges_dir,tree_dir,outset_adj = eqv_to_edges_tree(eq_incidence, outset, n_eqs=m)\n",
    "    edges_undir,tree_undir,_ = eqv_to_edges_tree(eq_incidence, n_eqs=m)\n",
    "    formulation_scc = reformulate(edges_dir, tree_dir, root_solver_name=1)\n",
    "    render_incidence(*formulation_scc, figsize=((4,4)), patchwidth=3);\n",
    "    xsol, model = min_arc_set_assign(edges_varonleft, varidxs, eqnidxs)\n",
    "    outset_minassign = dict((right, left-m) for left, right in edges_varonleft if xsol[left, right] > 0.5)\n",
    "    edges_minassign=invert_edges(edges_undir[0], edges_undir[1], outset_minassign) \n",
    "    formulation_minassign = reformulate(edges_undir, tree_dir, outset_adj, outset_minassign, root_solver_name=1)\n",
    "    render_incidence(*formulation_minassign, figsize=((4,4)));\n",
    "    xsol, model = min_max_scc2(edges_varonleft, varidxs, eqnidxs)\n",
    "    outset_minscc = dict((right, left-m) for left, right in edges_varonleft if xsol[left, right] > 0.5)\n",
    "    formulation_minscc = reformulate(edges_dir, tree_dir, outset_adj, outset_minscc, root_solver_name=1)\n",
    "    render_incidence(*formulation_minscc, figsize=((4,4)));\n",
    "interact(func1, seed=(200,300)); # 20 looks good"
   ]
  },
  {
   "cell_type": "code",
   "execution_count": 84,
   "id": "f50dafc1-c860-46f9-8e6a-cdf04c6d9d5b",
   "metadata": {
    "execution": {
     "iopub.execute_input": "2022-07-22T14:59:54.304193Z",
     "iopub.status.busy": "2022-07-22T14:59:54.304193Z",
     "iopub.status.idle": "2022-07-22T14:59:54.310394Z",
     "shell.execute_reply": "2022-07-22T14:59:54.310394Z",
     "shell.execute_reply.started": "2022-07-22T14:59:54.304193Z"
    },
    "tags": []
   },
   "outputs": [],
   "source": [
    "m = 4\n",
    "n = 5\n",
    "seed = 221#257#23\n",
    "runs = (\n",
    "    (0.5, 'sparsity_half.png'),\n",
    "    (1., 'sparsity_one.png'),\n",
    "    (1.5, 'sparsity_one_and_half.png')\n",
    ")\n",
    "sparsity, figname = 1., ''"
   ]
  },
  {
   "cell_type": "code",
   "execution_count": 85,
   "id": "39aa590c-2b3b-495f-9c39-bc4af997ef5e",
   "metadata": {
    "execution": {
     "iopub.execute_input": "2022-07-22T14:59:54.667976Z",
     "iopub.status.busy": "2022-07-22T14:59:54.667976Z",
     "iopub.status.idle": "2022-07-22T14:59:54.687843Z",
     "shell.execute_reply": "2022-07-22T14:59:54.686978Z",
     "shell.execute_reply.started": "2022-07-22T14:59:54.667976Z"
    },
    "tags": []
   },
   "outputs": [],
   "source": [
    "kwargs = random_problem_with_artifacts(m,n,seed,sparsity)"
   ]
  },
  {
   "cell_type": "code",
   "execution_count": 86,
   "id": "4931a100-9484-475c-b2ac-6786db64e619",
   "metadata": {
    "execution": {
     "iopub.execute_input": "2022-07-22T14:59:54.848912Z",
     "iopub.status.busy": "2022-07-22T14:59:54.847857Z",
     "iopub.status.idle": "2022-07-22T14:59:54.858728Z",
     "shell.execute_reply": "2022-07-22T14:59:54.857736Z",
     "shell.execute_reply.started": "2022-07-22T14:59:54.848912Z"
    },
    "tags": []
   },
   "outputs": [],
   "source": [
    "eq_incidence,outset,eqnidxs,edges_varonleft,varidxs = map(kwargs.get, [\"eq_incidence\",\"outset\",\"eqnidxs\",\"edges_varonleft\",\"varidxs\"])"
   ]
  },
  {
   "cell_type": "markdown",
   "id": "16ea5943-027f-4b62-849c-2ccb0dea1c0f",
   "metadata": {},
   "source": [
    "## Undirected formulation"
   ]
  },
  {
   "cell_type": "code",
   "execution_count": 87,
   "id": "b3ec84d4-70dd-427c-aeaf-f2d23cc3c1cb",
   "metadata": {
    "execution": {
     "iopub.execute_input": "2022-07-22T14:59:55.225390Z",
     "iopub.status.busy": "2022-07-22T14:59:55.224875Z",
     "iopub.status.idle": "2022-07-22T14:59:55.233660Z",
     "shell.execute_reply": "2022-07-22T14:59:55.233531Z",
     "shell.execute_reply.started": "2022-07-22T14:59:55.225390Z"
    },
    "tags": []
   },
   "outputs": [],
   "source": [
    "edges_undir,tree_undir,_ = eqv_to_edges_tree(eq_incidence, n_eqs=m)\n",
    "edges_dir,tree_dir,outset_adj = eqv_to_edges_tree(eq_incidence, outset, n_eqs=m)\n",
    "tree_undir[2].update({val:1 for val in outset_adj.values()})"
   ]
  },
  {
   "cell_type": "code",
   "execution_count": 88,
   "id": "7d6799a9-8c4a-4fd3-9ec5-e810da435cec",
   "metadata": {
    "execution": {
     "iopub.execute_input": "2022-07-22T14:59:55.409203Z",
     "iopub.status.busy": "2022-07-22T14:59:55.408172Z",
     "iopub.status.idle": "2022-07-22T14:59:55.513995Z",
     "shell.execute_reply": "2022-07-22T14:59:55.513241Z",
     "shell.execute_reply.started": "2022-07-22T14:59:55.409203Z"
    },
    "tags": []
   },
   "outputs": [
    {
     "data": {
      "image/png": "[encoded data removed]",
      "text/plain": [
       "<Figure size 288x288 with 1 Axes>"
      ]
     },
     "metadata": {
      "needs_background": "light"
     },
     "output_type": "display_data"
    }
   ],
   "source": [
    "render_incidence(edges_undir, tree_undir, rotation=0, hideticks=True, figsize=((4,4)));"
   ]
  },
  {
   "cell_type": "code",
   "execution_count": 89,
   "id": "24a2fc0b-e2af-426a-b9a8-8ffafa033a0d",
   "metadata": {
    "execution": {
     "iopub.execute_input": "2022-07-22T14:59:55.700213Z",
     "iopub.status.busy": "2022-07-22T14:59:55.700213Z",
     "iopub.status.idle": "2022-07-22T14:59:55.716663Z",
     "shell.execute_reply": "2022-07-22T14:59:55.715667Z",
     "shell.execute_reply.started": "2022-07-22T14:59:55.700213Z"
    },
    "tags": []
   },
   "outputs": [],
   "source": [
    "# from scipy.sparse import csc_matrix\n",
    "# from scipy.sparse.linalg import splu\n",
    "# from datastructures.rendering import generate_incidence_matrix, plot_incidence_matrix\n",
    "# from scipy.sparse.csgraph import reverse_cuthill_mckee"
   ]
  },
  {
   "cell_type": "code",
   "execution_count": 90,
   "id": "d848a9ff-bd29-48d0-9eb1-1322e3c88312",
   "metadata": {
    "execution": {
     "iopub.execute_input": "2022-07-22T14:59:56.059522Z",
     "iopub.status.busy": "2022-07-22T14:59:56.058510Z",
     "iopub.status.idle": "2022-07-22T14:59:56.075408Z",
     "shell.execute_reply": "2022-07-22T14:59:56.074729Z",
     "shell.execute_reply.started": "2022-07-22T14:59:56.059522Z"
    },
    "tags": []
   },
   "outputs": [],
   "source": [
    "#A = generate_incidence_matrix(edges_dir[0], edges_dir[1], list(eqnidxs), [elt-m for elt in varidxs], diagonalgray=False)"
   ]
  },
  {
   "cell_type": "code",
   "execution_count": 91,
   "id": "618beda9-0a85-467f-aaf5-bad0e7d90dad",
   "metadata": {
    "execution": {
     "iopub.execute_input": "2022-07-22T14:59:56.288805Z",
     "iopub.status.busy": "2022-07-22T14:59:56.288805Z",
     "iopub.status.idle": "2022-07-22T14:59:56.294266Z",
     "shell.execute_reply": "2022-07-22T14:59:56.293851Z",
     "shell.execute_reply.started": "2022-07-22T14:59:56.288805Z"
    },
    "tags": []
   },
   "outputs": [],
   "source": [
    "# Asq = csc_matrix(A[:,list(outset_adj.values())], dtype=float)\n",
    "# p = reverse_cuthill_mckee(Asq)"
   ]
  },
  {
   "cell_type": "code",
   "execution_count": 92,
   "id": "e9bfbf1d-df9b-4857-bb43-f7c4b2d4ae70",
   "metadata": {
    "execution": {
     "iopub.execute_input": "2022-07-22T14:59:56.508433Z",
     "iopub.status.busy": "2022-07-22T14:59:56.508433Z",
     "iopub.status.idle": "2022-07-22T14:59:56.527193Z",
     "shell.execute_reply": "2022-07-22T14:59:56.526534Z",
     "shell.execute_reply.started": "2022-07-22T14:59:56.508433Z"
    },
    "tags": []
   },
   "outputs": [],
   "source": [
    "# Acm = (Asq.toarray()[p,:])[:,p]"
   ]
  },
  {
   "cell_type": "code",
   "execution_count": 93,
   "id": "ac56393d-d6b2-46d8-9631-e7bab6182014",
   "metadata": {
    "execution": {
     "iopub.execute_input": "2022-07-22T14:59:56.716235Z",
     "iopub.status.busy": "2022-07-22T14:59:56.716235Z",
     "iopub.status.idle": "2022-07-22T14:59:56.730222Z",
     "shell.execute_reply": "2022-07-22T14:59:56.729305Z",
     "shell.execute_reply.started": "2022-07-22T14:59:56.716235Z"
    },
    "tags": []
   },
   "outputs": [],
   "source": [
    "# column_labels = ['$x_{}$'.format(var) for var in p]\n",
    "# row_labels = ['$f_{}$'.format(fx) for fx in p]\n",
    "# plot_incidence_matrix(Acm, column_labels, row_labels, **kwargs);"
   ]
  },
  {
   "cell_type": "code",
   "execution_count": 94,
   "id": "a797a7d8-d683-4dd2-9120-b65beb4fc254",
   "metadata": {
    "execution": {
     "iopub.execute_input": "2022-07-22T14:59:57.056749Z",
     "iopub.status.busy": "2022-07-22T14:59:57.055771Z",
     "iopub.status.idle": "2022-07-22T14:59:57.073078Z",
     "shell.execute_reply": "2022-07-22T14:59:57.071991Z",
     "shell.execute_reply.started": "2022-07-22T14:59:57.056749Z"
    },
    "tags": []
   },
   "outputs": [],
   "source": [
    "# column_labels = ['$x_{}$'.format(var) for var in range(10)]\n",
    "# row_labels = ['$f_{}$'.format(fx) for fx in range(10)]\n",
    "# plot_incidence_matrix(Asq.toarray(), column_labels, row_labels, **kwargs);"
   ]
  },
  {
   "cell_type": "markdown",
   "id": "d27f0574-3bcd-451b-a85c-c0bc384c39ac",
   "metadata": {},
   "source": [
    "## Directed formulation\n",
    "Based on initial formulation"
   ]
  },
  {
   "cell_type": "code",
   "execution_count": 95,
   "id": "9a2b7754-7492-4e4b-b56f-7913d8fe0489",
   "metadata": {
    "execution": {
     "iopub.execute_input": "2022-07-22T14:59:58.063515Z",
     "iopub.status.busy": "2022-07-22T14:59:58.063515Z",
     "iopub.status.idle": "2022-07-22T14:59:58.269767Z",
     "shell.execute_reply": "2022-07-22T14:59:58.268962Z",
     "shell.execute_reply.started": "2022-07-22T14:59:58.063515Z"
    },
    "tags": []
   },
   "outputs": [
    {
     "data": {
      "image/png": "[encoded data removed]",
      "text/plain": [
       "<Figure size 216x216 with 1 Axes>"
      ]
     },
     "metadata": {
      "needs_background": "light"
     },
     "output_type": "display_data"
    }
   ],
   "source": [
    "render_incidence(edges_dir, tree_dir, figsize=((3,3)), figname=\"defense_fac_init.png\", save=True, fontsize=22, rotation=0, hideticks=True, patchwidth=4);"
   ]
  },
  {
   "cell_type": "markdown",
   "id": "b4d05252-854b-4bde-9e31-32ffd75cd3e1",
   "metadata": {},
   "source": [
    "## Condensation"
   ]
  },
  {
   "cell_type": "code",
   "execution_count": 96,
   "id": "bc060feb-e154-460d-833d-e36a817d6806",
   "metadata": {
    "execution": {
     "iopub.execute_input": "2022-07-22T15:00:04.152629Z",
     "iopub.status.busy": "2022-07-22T15:00:04.151605Z",
     "iopub.status.idle": "2022-07-22T15:00:04.265662Z",
     "shell.execute_reply": "2022-07-22T15:00:04.264661Z",
     "shell.execute_reply.started": "2022-07-22T15:00:04.152629Z"
    },
    "tags": []
   },
   "outputs": [
    {
     "data": {
      "image/png": "[encoded data removed]",
      "text/plain": [
       "<Figure size 288x288 with 1 Axes>"
      ]
     },
     "metadata": {
      "needs_background": "light"
     },
     "output_type": "display_data"
    }
   ],
   "source": [
    "formulation_scc = reformulate(edges_dir, tree_dir, root_solver_name=1)\n",
    "render_incidence(*formulation_scc, figsize=((4,4)), rotation=0, hideticks=True,);"
   ]
  },
  {
   "cell_type": "code",
   "execution_count": 97,
   "id": "bdbba028-a126-4c0a-b580-29bf379bb871",
   "metadata": {
    "execution": {
     "iopub.execute_input": "2022-07-22T15:00:04.309120Z",
     "iopub.status.busy": "2022-07-22T15:00:04.309120Z",
     "iopub.status.idle": "2022-07-22T15:00:04.421712Z",
     "shell.execute_reply": "2022-07-22T15:00:04.420743Z",
     "shell.execute_reply.started": "2022-07-22T15:00:04.309120Z"
    },
    "tags": []
   },
   "outputs": [
    {
     "data": {
      "image/png": "[encoded data removed]",
      "text/plain": [
       "<Figure size 288x288 with 1 Axes>"
      ]
     },
     "metadata": {
      "needs_background": "light"
     },
     "output_type": "display_data"
    }
   ],
   "source": [
    "formulation_scc = reformulate(edges_dir, tree_dir, root_solver_name=1, mdf=False)\n",
    "render_incidence(*formulation_scc, figsize=((4,4)), rotation=0, hideticks=True,);"
   ]
  },
  {
   "cell_type": "markdown",
   "id": "33158b92-ff27-4ee7-a999-a383348f078b",
   "metadata": {},
   "source": [
    "## DM fine"
   ]
  },
  {
   "cell_type": "code",
   "execution_count": 98,
   "id": "b6644493-a5d5-4e3a-9858-b1e20bf4d7da",
   "metadata": {
    "execution": {
     "iopub.execute_input": "2022-07-22T15:00:04.817903Z",
     "iopub.status.busy": "2022-07-22T15:00:04.817903Z",
     "iopub.status.idle": "2022-07-22T15:00:04.827623Z",
     "shell.execute_reply": "2022-07-22T15:00:04.826339Z",
     "shell.execute_reply.started": "2022-07-22T15:00:04.817903Z"
    },
    "tags": []
   },
   "outputs": [],
   "source": [
    "#draw_graph_graphical_props(G, prog='neato', figsize=(11,4))"
   ]
  },
  {
   "cell_type": "code",
   "execution_count": 99,
   "id": "df3cf86d-6441-49a0-8cef-ff9f66fb1603",
   "metadata": {
    "execution": {
     "iopub.execute_input": "2022-07-22T15:00:05.270245Z",
     "iopub.status.busy": "2022-07-22T15:00:05.270245Z",
     "iopub.status.idle": "2022-07-22T15:00:05.291989Z",
     "shell.execute_reply": "2022-07-22T15:00:05.291395Z",
     "shell.execute_reply.started": "2022-07-22T15:00:05.270245Z"
    },
    "tags": []
   },
   "outputs": [],
   "source": [
    "Ein_no_source = {comp:tuple(var for var in allvars if var in outset.values()) for comp,allvars in eq_incidence.items()}\n",
    "G = flat_graph_formulation(Ein_no_source,{},{},{VAR: 'x_{{{}}}', COMP: 'f_{{{}}}'})\n",
    "matching = nx.bipartite.maximum_matching(G)\n",
    "m_out = {key: matching[Node(key, COMP)].name for key in eqnidxs}\n",
    "edges_dir_m,tree_dir_m,_ = eqv_to_edges_tree(eq_incidence, m_out, n_eqs=m)"
   ]
  },
  {
   "cell_type": "code",
   "execution_count": 100,
   "id": "84645a8e-beb7-4af4-8f3e-b23b88c1b387",
   "metadata": {
    "execution": {
     "iopub.execute_input": "2022-07-22T15:00:05.475073Z",
     "iopub.status.busy": "2022-07-22T15:00:05.475073Z",
     "iopub.status.idle": "2022-07-22T15:00:05.584707Z",
     "shell.execute_reply": "2022-07-22T15:00:05.583794Z",
     "shell.execute_reply.started": "2022-07-22T15:00:05.475073Z"
    },
    "tags": []
   },
   "outputs": [
    {
     "data": {
      "image/png": "[encoded data removed]",
      "text/plain": [
       "<Figure size 288x288 with 1 Axes>"
      ]
     },
     "metadata": {
      "needs_background": "light"
     },
     "output_type": "display_data"
    }
   ],
   "source": [
    "formulation_scc_m = reformulate(edges_dir_m, tree_dir_m, root_solver_name=1)\n",
    "render_incidence(*formulation_scc_m, figsize=((4,4)));"
   ]
  },
  {
   "cell_type": "code",
   "execution_count": 101,
   "id": "863c9f97-faea-4fca-b304-f4e15f558fc2",
   "metadata": {
    "execution": {
     "iopub.execute_input": "2022-07-22T15:00:06.360330Z",
     "iopub.status.busy": "2022-07-22T15:00:06.359332Z",
     "iopub.status.idle": "2022-07-22T15:00:06.471884Z",
     "shell.execute_reply": "2022-07-22T15:00:06.470760Z",
     "shell.execute_reply.started": "2022-07-22T15:00:06.360330Z"
    },
    "tags": []
   },
   "outputs": [
    {
     "data": {
      "image/png": "[encoded data removed]",
      "text/plain": [
       "<Figure size 288x288 with 1 Axes>"
      ]
     },
     "metadata": {
      "needs_background": "light"
     },
     "output_type": "display_data"
    }
   ],
   "source": [
    "formulation_scc_m = reformulate(edges_dir_m, tree_dir_m, root_solver_name=1, mdf=False)\n",
    "render_incidence(*formulation_scc_m, figsize=((4,4)));"
   ]
  },
  {
   "cell_type": "markdown",
   "id": "1ad5b558-5a0a-46db-bff9-084273f21b1d",
   "metadata": {},
   "source": [
    "## MFA"
   ]
  },
  {
   "cell_type": "code",
   "execution_count": 102,
   "id": "657ffa4b-e4c8-4baa-a5ea-6e43dd56e863",
   "metadata": {
    "execution": {
     "iopub.execute_input": "2022-07-22T15:00:09.432858Z",
     "iopub.status.busy": "2022-07-22T15:00:09.431455Z",
     "iopub.status.idle": "2022-07-22T15:00:09.441563Z",
     "shell.execute_reply": "2022-07-22T15:00:09.441283Z",
     "shell.execute_reply.started": "2022-07-22T15:00:09.432630Z"
    },
    "tags": []
   },
   "outputs": [],
   "source": [
    "cycles, elimset, model = min_arc_set(edges_varonleft, outset, varidxs, eqnidxs)"
   ]
  },
  {
   "cell_type": "code",
   "execution_count": 103,
   "id": "3d09447d-cfb6-4f71-9001-b2841d57ce09",
   "metadata": {
    "execution": {
     "iopub.execute_input": "2022-07-22T15:00:09.680185Z",
     "iopub.status.busy": "2022-07-22T15:00:09.679183Z",
     "iopub.status.idle": "2022-07-22T15:00:09.692708Z",
     "shell.execute_reply": "2022-07-22T15:00:09.691806Z",
     "shell.execute_reply.started": "2022-07-22T15:00:09.680185Z"
    },
    "tags": []
   },
   "outputs": [
    {
     "data": {
      "text/plain": [
       "({0, 1}, {1, 2})"
      ]
     },
     "execution_count": 103,
     "metadata": {},
     "output_type": "execute_result"
    }
   ],
   "source": [
    "elimset, {outset_adj[elt] for elt in elimset}"
   ]
  },
  {
   "cell_type": "code",
   "execution_count": 104,
   "id": "fc070d78-1a96-4f94-ae94-21ded2a5497a",
   "metadata": {
    "execution": {
     "iopub.execute_input": "2022-07-22T15:00:10.222397Z",
     "iopub.status.busy": "2022-07-22T15:00:10.221397Z",
     "iopub.status.idle": "2022-07-22T15:00:10.235957Z",
     "shell.execute_reply": "2022-07-22T15:00:10.234961Z",
     "shell.execute_reply.started": "2022-07-22T15:00:10.222397Z"
    },
    "tags": []
   },
   "outputs": [],
   "source": [
    "outset_mfa = {key:val for key,val in outset_adj.items() if key not in elimset}"
   ]
  },
  {
   "cell_type": "markdown",
   "id": "fc38a1b0-a247-49f3-8f51-5ec307007541",
   "metadata": {},
   "source": [
    "### There is no IDF/MDF"
   ]
  },
  {
   "cell_type": "code",
   "execution_count": 109,
   "id": "b22a0423-9463-4078-b763-7efa0c9dc330",
   "metadata": {
    "execution": {
     "iopub.execute_input": "2022-07-22T15:00:39.332318Z",
     "iopub.status.busy": "2022-07-22T15:00:39.332318Z",
     "iopub.status.idle": "2022-07-22T15:00:39.555906Z",
     "shell.execute_reply": "2022-07-22T15:00:39.555428Z",
     "shell.execute_reply.started": "2022-07-22T15:00:39.332318Z"
    },
    "tags": []
   },
   "outputs": [
    {
     "data": {
      "image/png": "[encoded data removed]",
      "text/plain": [
       "<Figure size 216x216 with 1 Axes>"
      ]
     },
     "metadata": {
      "needs_background": "light"
     },
     "output_type": "display_data"
    }
   ],
   "source": [
    "formulation_mfa = reformulate(edges_dir, tree_dir, outset_adj, outset_mfa, root_solver_name=1)\n",
    "render_incidence(*formulation_mfa, figsize=((3,3)), figname=\"defense_fac_opt.png\", save=True, fontsize=22, rotation=0, hideticks=True, patchwidth=4);"
   ]
  },
  {
   "cell_type": "markdown",
   "id": "533fc8eb-89f3-4210-9ecf-ad7bd9202ec5",
   "metadata": {},
   "source": [
    "## Tearing"
   ]
  },
  {
   "cell_type": "code",
   "execution_count": 106,
   "id": "1f7e8916-3654-4d88-90bc-8580938512fe",
   "metadata": {
    "execution": {
     "iopub.execute_input": "2022-07-22T15:00:22.352621Z",
     "iopub.status.busy": "2022-07-22T15:00:22.352621Z",
     "iopub.status.idle": "2022-07-22T15:00:22.365476Z",
     "shell.execute_reply": "2022-07-22T15:00:22.364459Z",
     "shell.execute_reply.started": "2022-07-22T15:00:22.352621Z"
    },
    "tags": []
   },
   "outputs": [],
   "source": [
    "fixed_inputs = set(varidxs)-set(outset.values())"
   ]
  },
  {
   "cell_type": "code",
   "execution_count": 110,
   "id": "389b7fd5-de5a-4bb6-9156-f077e91c8ab1",
   "metadata": {
    "execution": {
     "iopub.execute_input": "2022-07-22T15:00:46.880482Z",
     "iopub.status.busy": "2022-07-22T15:00:46.880035Z",
     "iopub.status.idle": "2022-07-22T15:00:47.114583Z",
     "shell.execute_reply": "2022-07-22T15:00:47.113583Z",
     "shell.execute_reply.started": "2022-07-22T15:00:46.880035Z"
    },
    "tags": []
   },
   "outputs": [
    {
     "data": {
      "image/png": "[encoded data removed]",
      "text/plain": [
       "<Figure size 216x216 with 1 Axes>"
      ]
     },
     "metadata": {
      "needs_background": "light"
     },
     "output_type": "display_data"
    }
   ],
   "source": [
    "xsol, model = min_arc_set_assign(edges_varonleft, varidxs, eqnidxs, not_output=fixed_inputs)\n",
    "outset_tear = dict((right, left-m) for left, right in edges_varonleft if xsol[left, right] > 0.5)\n",
    "formulation_tear = reformulate(edges_dir, tree_dir, outset_adj, outset_tear, \n",
    "                               not_outputs={elt-m for elt in fixed_inputs},\n",
    "                               root_solver_name=1)\n",
    "render_incidence(*formulation_tear, figsize=((3,3)), figname=\"defense_tear_opt.png\", save=True, fontsize=22, rotation=0, hideticks=True, patchwidth=4);"
   ]
  },
  {
   "cell_type": "markdown",
   "id": "7b4ee40c-5606-46d2-8765-b8ce3528dc96",
   "metadata": {},
   "source": [
    "## Tearing with input"
   ]
  },
  {
   "cell_type": "code",
   "execution_count": 111,
   "id": "f9b4098f-272a-4245-b29f-362a5acc8198",
   "metadata": {
    "execution": {
     "iopub.execute_input": "2022-07-22T15:02:55.003646Z",
     "iopub.status.busy": "2022-07-22T15:02:55.002723Z",
     "iopub.status.idle": "2022-07-22T15:02:55.030374Z",
     "shell.execute_reply": "2022-07-22T15:02:55.029488Z",
     "shell.execute_reply.started": "2022-07-22T15:02:55.003646Z"
    },
    "tags": []
   },
   "outputs": [],
   "source": [
    "xsol, model = min_arc_set_assign(edges_varonleft, varidxs, eqnidxs)\n",
    "outset_minassign = dict((right, left-m) for left, right in edges_varonleft if xsol[left, right] > 0.5)"
   ]
  },
  {
   "cell_type": "code",
   "execution_count": 112,
   "id": "3917ec9e-9f05-4d79-9975-b707a73878a8",
   "metadata": {
    "execution": {
     "iopub.execute_input": "2022-07-22T15:02:55.208234Z",
     "iopub.status.busy": "2022-07-22T15:02:55.208234Z",
     "iopub.status.idle": "2022-07-22T15:02:55.216051Z",
     "shell.execute_reply": "2022-07-22T15:02:55.216051Z",
     "shell.execute_reply.started": "2022-07-22T15:02:55.208234Z"
    },
    "tags": []
   },
   "outputs": [],
   "source": [
    "edges_minassign=invert_edges(edges_undir[0], edges_undir[1], outset_minassign) "
   ]
  },
  {
   "cell_type": "code",
   "execution_count": 114,
   "id": "f7dd7e47-6bc0-4b73-bb20-6aa900933d41",
   "metadata": {
    "execution": {
     "iopub.execute_input": "2022-07-22T15:03:14.012288Z",
     "iopub.status.busy": "2022-07-22T15:03:14.012288Z",
     "iopub.status.idle": "2022-07-22T15:03:14.235297Z",
     "shell.execute_reply": "2022-07-22T15:03:14.234880Z",
     "shell.execute_reply.started": "2022-07-22T15:03:14.012288Z"
    },
    "tags": []
   },
   "outputs": [
    {
     "data": {
      "image/png": "[encoded data removed]",
      "text/plain": [
       "<Figure size 216x216 with 1 Axes>"
      ]
     },
     "metadata": {
      "needs_background": "light"
     },
     "output_type": "display_data"
    }
   ],
   "source": [
    "formulation_minassign = reformulate(edges_undir, tree_dir, outset_adj, outset_minassign, root_solver_name=1)\n",
    "render_incidence(*formulation_minassign, figsize=((3,3)), figname=\"defense_assign_opt.png\", save=True, fontsize=22, rotation=0, hideticks=True, patchwidth=4);"
   ]
  },
  {
   "cell_type": "markdown",
   "id": "290ee4e7-8cb7-4c4e-b265-0dee4a439c0e",
   "metadata": {},
   "source": [
    "## Min scc"
   ]
  },
  {
   "cell_type": "code",
   "execution_count": 30,
   "id": "6df80577-6240-4727-9a4a-e224dad41c50",
   "metadata": {
    "execution": {
     "iopub.execute_input": "2022-07-19T03:19:30.785960Z",
     "iopub.status.busy": "2022-07-19T03:19:30.785960Z",
     "iopub.status.idle": "2022-07-19T03:19:31.017882Z",
     "shell.execute_reply": "2022-07-19T03:19:31.016966Z",
     "shell.execute_reply.started": "2022-07-19T03:19:30.785960Z"
    },
    "tags": []
   },
   "outputs": [
    {
     "data": {
      "image/png": "[encoded data removed]",
      "text/plain": [
       "<Figure size 288x288 with 1 Axes>"
      ]
     },
     "metadata": {
      "needs_background": "light"
     },
     "output_type": "display_data"
    }
   ],
   "source": [
    "xsol, model = min_max_scc2(edges_varonleft, varidxs, eqnidxs)\n",
    "outset_minscc = dict((right, left-m) for left, right in edges_varonleft if xsol[left, right] > 0.5)\n",
    "formulation_minscc = reformulate(edges_dir, tree_dir, outset_adj, outset_minscc, root_solver_name=1)\n",
    "render_incidence(*formulation_minscc, figsize=((4,4)));"
   ]
  },
  {
   "cell_type": "code",
   "execution_count": null,
   "id": "c59fe9b7-3ab6-4a03-b606-980e33291e11",
   "metadata": {},
   "outputs": [],
   "source": []
  }
 ],
 "metadata": {
  "kernelspec": {
   "display_name": "Python [conda env:minimdo]",
   "language": "python",
   "name": "conda-env-minimdo-py"
  },
  "language_info": {
   "codemirror_mode": {
    "name": "ipython",
    "version": 3
   },
   "file_extension": ".py",
   "mimetype": "text/x-python",
   "name": "python",
   "nbconvert_exporter": "python",
   "pygments_lexer": "ipython3",
   "version": "3.9.12"
  }
 },
 "nbformat": 4,
 "nbformat_minor": 5
}
