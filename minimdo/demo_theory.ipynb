{
 "cells": [
  {
   "cell_type": "code",
   "execution_count": 1,
   "id": "78c437a3-a4b2-4d42-b187-ae055be6da87",
   "metadata": {
    "execution": {
     "iopub.execute_input": "2022-02-07T21:35:02.660929Z",
     "iopub.status.busy": "2022-02-07T21:35:02.632930Z",
     "iopub.status.idle": "2022-02-07T21:35:32.734396Z",
     "shell.execute_reply": "2022-02-07T21:35:32.732518Z",
     "shell.execute_reply.started": "2022-02-07T21:35:02.644930Z"
    },
    "tags": []
   },
   "outputs": [],
   "source": [
    "from compute import Var, Par, Model, adda, addf, addsolver\n",
    "from compute import RefNode, SolverNode, geteqs\n",
    "from automations import auto_incidence_tree\n",
    "import numpy as np\n",
    "from scipy.sparse import coo_matrix"
   ]
  },
  {
   "cell_type": "code",
   "execution_count": 2,
   "id": "f96f69bf-4290-4c14-8ab5-027693794b03",
   "metadata": {
    "execution": {
     "iopub.execute_input": "2022-02-07T21:35:32.738435Z",
     "iopub.status.busy": "2022-02-07T21:35:32.738435Z",
     "iopub.status.idle": "2022-02-07T21:35:32.752397Z",
     "shell.execute_reply": "2022-02-07T21:35:32.749394Z",
     "shell.execute_reply.started": "2022-02-07T21:35:32.738435Z"
    },
    "tags": []
   },
   "outputs": [],
   "source": [
    "model = Model()\n",
    "m = RefNode(name='/', ref=model)"
   ]
  },
  {
   "cell_type": "code",
   "execution_count": 3,
   "id": "96280239-4049-436b-868a-cff5dd5f4839",
   "metadata": {
    "execution": {
     "iopub.execute_input": "2022-02-07T21:35:32.758398Z",
     "iopub.status.busy": "2022-02-07T21:35:32.757401Z",
     "iopub.status.idle": "2022-02-07T21:35:32.801398Z",
     "shell.execute_reply": "2022-02-07T21:35:32.797399Z",
     "shell.execute_reply.started": "2022-02-07T21:35:32.758398Z"
    },
    "tags": []
   },
   "outputs": [],
   "source": [
    "x1,x2,x3 = Var('x_1'), Var('x_2'), Var('x_3')"
   ]
  },
  {
   "cell_type": "code",
   "execution_count": 4,
   "id": "ad9a1da2-930a-48ef-b4df-8d5b29f7025e",
   "metadata": {
    "execution": {
     "iopub.execute_input": "2022-02-07T21:35:32.807398Z",
     "iopub.status.busy": "2022-02-07T21:35:32.806396Z",
     "iopub.status.idle": "2022-02-07T21:35:33.393401Z",
     "shell.execute_reply": "2022-02-07T21:35:33.390437Z",
     "shell.execute_reply.started": "2022-02-07T21:35:32.807398Z"
    },
    "tags": []
   },
   "outputs": [
    {
     "data": {
      "text/plain": [
       "<f_2>"
      ]
     },
     "execution_count": 4,
     "metadata": {},
     "output_type": "execute_result"
    }
   ],
   "source": [
    "addf(m, x1+x2, name='f_1')\n",
    "addf(m, x3/x2, name='f_2')"
   ]
  },
  {
   "cell_type": "code",
   "execution_count": 5,
   "id": "8d34a758-4472-48e6-95ec-3e7bde848fd0",
   "metadata": {
    "execution": {
     "iopub.execute_input": "2022-02-07T21:35:34.330547Z",
     "iopub.status.busy": "2022-02-07T21:35:34.329551Z",
     "iopub.status.idle": "2022-02-07T21:35:37.379607Z",
     "shell.execute_reply": "2022-02-07T21:35:37.377600Z",
     "shell.execute_reply.started": "2022-02-07T21:35:34.330547Z"
    },
    "tags": []
   },
   "outputs": [
    {
     "data": {
      "image/png": "[encoded data removed]",
      "text/plain": [
       "<Figure size 432x288 with 1 Axes>"
      ]
     },
     "metadata": {
      "needs_background": "light"
     },
     "output_type": "display_data"
    }
   ],
   "source": [
    "auto_incidence_tree(m, savefig='figures/incidence_demo.png', permutation=[x1,x2,x3],\n",
    "                    display_subsolves=False, fontsize=48, showtree=False)"
   ]
  },
  {
   "cell_type": "markdown",
   "id": "33566b8a-4610-49de-b531-607e327860a7",
   "metadata": {},
   "source": [
    "Next example"
   ]
  },
  {
   "attachments": {
    "32bf0a1f-641f-4dae-865f-c8b1ac9f2b81.png": {
     "image/png": "[encoded data removed]"
    }
   },
   "cell_type": "markdown",
   "id": "b6cee18f-7887-48ae-bee2-141d29de69b6",
   "metadata": {},
   "source": [
    "![image.png](attachment:32bf0a1f-641f-4dae-865f-c8b1ac9f2b81.png)"
   ]
  },
  {
   "cell_type": "code",
   "execution_count": 6,
   "id": "21ce199c-da91-40e8-bb8b-867d352ae5a1",
   "metadata": {
    "execution": {
     "iopub.execute_input": "2022-02-02T23:32:42.726132Z",
     "iopub.status.busy": "2022-02-02T23:32:42.725131Z",
     "iopub.status.idle": "2022-02-02T23:32:42.735134Z",
     "shell.execute_reply": "2022-02-02T23:32:42.734133Z",
     "shell.execute_reply.started": "2022-02-02T23:32:42.725131Z"
    },
    "tags": []
   },
   "outputs": [],
   "source": [
    "a1,a2,a3,a4,a5,a6= Par('a_1'), Par('a_2'), Par('a_3'), Par('a_4'), Par('a_5'), Par('a_6')\n",
    "A, mt = Var('A'), Var('m_t')"
   ]
  },
  {
   "cell_type": "code",
   "execution_count": 7,
   "id": "2a203f3e-f2f7-4d84-8d01-ecd7fbbd570e",
   "metadata": {
    "execution": {
     "iopub.execute_input": "2022-02-02T23:32:43.256131Z",
     "iopub.status.busy": "2022-02-02T23:32:43.256131Z",
     "iopub.status.idle": "2022-02-02T23:32:43.317130Z",
     "shell.execute_reply": "2022-02-02T23:32:43.316129Z",
     "shell.execute_reply.started": "2022-02-02T23:32:43.256131Z"
    },
    "tags": []
   },
   "outputs": [],
   "source": [
    "model = Model()\n",
    "m = RefNode(name='/', ref=model)\n",
    "Ps = adda(m, 'P_s', a1*A)\n",
    "Pd = adda(m, 'P_d', a2*mt)\n",
    "addf(m, Ps-Pd, name='f_3')\n",
    "ms = adda(m, 'm_s', a3*mt)\n",
    "adda(m, mt, a4*A+ms)"
   ]
  },
  {
   "cell_type": "code",
   "execution_count": 8,
   "id": "58e57477-46c9-4d3d-b1e3-c6191baf6d3d",
   "metadata": {
    "execution": {
     "iopub.execute_input": "2022-02-02T23:32:43.888490Z",
     "iopub.status.busy": "2022-02-02T23:32:43.888490Z",
     "iopub.status.idle": "2022-02-02T23:32:44.729485Z",
     "shell.execute_reply": "2022-02-02T23:32:44.727488Z",
     "shell.execute_reply.started": "2022-02-02T23:32:43.888490Z"
    },
    "tags": []
   },
   "outputs": [
    {
     "data": {
      "image/png": "[encoded data removed]",
      "text/plain": [
       "<Figure size 432x288 with 1 Axes>"
      ]
     },
     "metadata": {
      "needs_background": "light"
     },
     "output_type": "display_data"
    }
   ],
   "source": [
    "auto_incidence_tree(m, savefig='figures/incidence_demo2.png', permutation=[A,Ps,Pd,ms,mt], \n",
    "                    display_subsolves=False, fontsize=24, diagonalgray=False, showtree=False)"
   ]
  },
  {
   "cell_type": "code",
   "execution_count": 6,
   "id": "a5ab3750-c51e-4ede-8130-d96bd3735302",
   "metadata": {
    "execution": {
     "iopub.execute_input": "2022-02-02T22:50:20.322210Z",
     "iopub.status.busy": "2022-02-02T22:50:20.321237Z",
     "iopub.status.idle": "2022-02-02T22:50:20.337731Z",
     "shell.execute_reply": "2022-02-02T22:50:20.336730Z",
     "shell.execute_reply.started": "2022-02-02T22:50:20.322210Z"
    }
   },
   "outputs": [],
   "source": [
    "A = np.round(np.random.rand(4,5))"
   ]
  },
  {
   "cell_type": "code",
   "execution_count": 8,
   "id": "029b9327-37f4-4235-a14a-9da562f01d72",
   "metadata": {
    "execution": {
     "iopub.execute_input": "2022-02-02T22:50:38.057730Z",
     "iopub.status.busy": "2022-02-02T22:50:38.056731Z",
     "iopub.status.idle": "2022-02-02T22:50:38.068732Z",
     "shell.execute_reply": "2022-02-02T22:50:38.067732Z",
     "shell.execute_reply.started": "2022-02-02T22:50:38.057730Z"
    }
   },
   "outputs": [],
   "source": [
    "import matplotlib.pyplot as plt"
   ]
  },
  {
   "cell_type": "code",
   "execution_count": 34,
   "id": "42f76382-9c2a-4ebb-847d-e1dd22a932f7",
   "metadata": {
    "execution": {
     "iopub.execute_input": "2022-02-02T23:08:35.063004Z",
     "iopub.status.busy": "2022-02-02T23:08:35.062001Z",
     "iopub.status.idle": "2022-02-02T23:08:35.088002Z",
     "shell.execute_reply": "2022-02-02T23:08:35.087005Z",
     "shell.execute_reply.started": "2022-02-02T23:08:35.063004Z"
    },
    "tags": []
   },
   "outputs": [],
   "source": [
    "def plot_incidence_matrix(A, column_labels, row_labels, pad=None):\n",
    "    fig, ax = plt.subplots()\n",
    "    ax.pcolormesh(A, cmap='Greys', edgecolors='lightgray', linewidth=1, vmin=0, vmax=1.2)\n",
    "    fontsize = 16\n",
    "    xtickidx, xtags = zip(*enumerate(column_labels))\n",
    "    kwargs = {'ha': 'left'} if pad else dict()\n",
    "    plt.xticks(np.array(xtickidx)+0.5, xtags, rotation = 60, fontsize=fontsize, **kwargs)\n",
    "    ax.xaxis.tick_top()\n",
    "    ytickidx, ytags = zip(*enumerate(row_labels))\n",
    "    plt.yticks(np.array(ytickidx)+0.5, ytags, fontsize=fontsize);\n",
    "    ax.invert_yaxis()\n",
    "    ax.set_aspect('equal')\n",
    "    if pad:\n",
    "        yax = ax.get_yaxis()\n",
    "        yax.set_tick_params(pad=pad)"
   ]
  },
  {
   "cell_type": "code",
   "execution_count": 35,
   "id": "50b41a45-dd33-4da2-a784-178852a3856a",
   "metadata": {
    "execution": {
     "iopub.execute_input": "2022-02-02T23:08:35.551821Z",
     "iopub.status.busy": "2022-02-02T23:08:35.551821Z",
     "iopub.status.idle": "2022-02-02T23:08:35.809811Z",
     "shell.execute_reply": "2022-02-02T23:08:35.806814Z",
     "shell.execute_reply.started": "2022-02-02T23:08:35.551821Z"
    },
    "tags": []
   },
   "outputs": [
    {
     "data": {
      "image/png": "[encoded data removed]",
      "text/plain": [
       "<Figure size 432x288 with 1 Axes>"
      ]
     },
     "metadata": {
      "needs_background": "light"
     },
     "output_type": "display_data"
    }
   ],
   "source": [
    "row_labels = ['a','b','c','d']\n",
    "column_labels = ['1','2','3','4','5']\n",
    "plot_incidence_matrix(A, column_labels, row_labels, pad=100)"
   ]
  },
  {
   "cell_type": "code",
   "execution_count": null,
   "id": "5e82c32f-ac04-466a-af2f-399a06e3669e",
   "metadata": {},
   "outputs": [],
   "source": []
  }
 ],
 "metadata": {
  "kernelspec": {
   "display_name": "Python [conda env:jupyter] *",
   "language": "python",
   "name": "conda-env-jupyter-py"
  },
  "language_info": {
   "codemirror_mode": {
    "name": "ipython",
    "version": 3
   },
   "file_extension": ".py",
   "mimetype": "text/x-python",
   "name": "python",
   "nbconvert_exporter": "python",
   "pygments_lexer": "ipython3",
   "version": "3.9.7"
  }
 },
 "nbformat": 4,
 "nbformat_minor": 5
}
