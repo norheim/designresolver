{
 "cells": [
  {
   "cell_type": "code",
   "execution_count": 1,
   "id": "fa3f5b5a-3761-4930-96d7-a19d8f521fd1",
   "metadata": {
    "execution": {
     "iopub.execute_input": "2022-04-02T19:54:41.494845Z",
     "iopub.status.busy": "2022-04-02T19:54:41.494845Z",
     "iopub.status.idle": "2022-04-02T19:54:41.519866Z",
     "shell.execute_reply": "2022-04-02T19:54:41.519866Z",
     "shell.execute_reply.started": "2022-04-02T19:54:41.494845Z"
    },
    "tags": []
   },
   "outputs": [
    {
     "name": "stdout",
     "output_type": "stream",
     "text": [
      "C:\\Users\\johan\\github\\designresolver\n"
     ]
    }
   ],
   "source": [
    "cd .."
   ]
  },
  {
   "cell_type": "code",
   "execution_count": 2,
   "id": "159f00e2-9acd-490f-9dc9-3d9272d9503b",
   "metadata": {
    "execution": {
     "iopub.execute_input": "2022-04-02T19:54:41.520867Z",
     "iopub.status.busy": "2022-04-02T19:54:41.520867Z",
     "iopub.status.idle": "2022-04-02T19:54:43.122394Z",
     "shell.execute_reply": "2022-04-02T19:54:43.122394Z",
     "shell.execute_reply.started": "2022-04-02T19:54:41.520867Z"
    },
    "tags": []
   },
   "outputs": [],
   "source": [
    "from execution import Component"
   ]
  },
  {
   "cell_type": "code",
   "execution_count": 3,
   "id": "752e7676-c30e-45b9-9ff2-c963e68fceb4",
   "metadata": {
    "execution": {
     "iopub.execute_input": "2022-04-02T19:54:43.124252Z",
     "iopub.status.busy": "2022-04-02T19:54:43.124252Z",
     "iopub.status.idle": "2022-04-02T19:54:43.137322Z",
     "shell.execute_reply": "2022-04-02T19:54:43.137322Z",
     "shell.execute_reply.started": "2022-04-02T19:54:43.124252Z"
    },
    "tags": []
   },
   "outputs": [],
   "source": [
    "from autograd import jacobian, grad\n",
    "import autograd.numpy as anp\n",
    "import numpy as np"
   ]
  },
  {
   "cell_type": "code",
   "execution_count": 74,
   "id": "4520449e-68c3-4686-86bd-547a6914c3ce",
   "metadata": {
    "execution": {
     "iopub.execute_input": "2022-04-02T19:46:41.859889Z",
     "iopub.status.busy": "2022-04-02T19:46:41.858871Z",
     "iopub.status.idle": "2022-04-02T19:46:41.871580Z",
     "shell.execute_reply": "2022-04-02T19:46:41.871033Z",
     "shell.execute_reply.started": "2022-04-02T19:46:41.858871Z"
    }
   },
   "outputs": [],
   "source": [
    "fx = lambda x: x[0]+x[1]+x[2]\n",
    "g = grad(fx)"
   ]
  },
  {
   "cell_type": "code",
   "execution_count": 75,
   "id": "c72c0498-2004-4e53-bdf3-965cd91f4c67",
   "metadata": {
    "execution": {
     "iopub.execute_input": "2022-04-02T19:46:46.555376Z",
     "iopub.status.busy": "2022-04-02T19:46:46.554879Z",
     "iopub.status.idle": "2022-04-02T19:46:46.565815Z",
     "shell.execute_reply": "2022-04-02T19:46:46.564815Z",
     "shell.execute_reply.started": "2022-04-02T19:46:46.555376Z"
    }
   },
   "outputs": [
    {
     "data": {
      "text/plain": [
       "array([1., 1., 1.])"
      ]
     },
     "execution_count": 75,
     "metadata": {},
     "output_type": "execute_result"
    }
   ],
   "source": [
    "g(x)"
   ]
  },
  {
   "cell_type": "code",
   "execution_count": 87,
   "id": "d420a4c6-a98f-4541-bc0f-f85085139aa6",
   "metadata": {
    "execution": {
     "iopub.execute_input": "2022-04-02T19:49:52.228862Z",
     "iopub.status.busy": "2022-04-02T19:49:52.227865Z",
     "iopub.status.idle": "2022-04-02T19:49:52.247664Z",
     "shell.execute_reply": "2022-04-02T19:49:52.247664Z",
     "shell.execute_reply.started": "2022-04-02T19:49:52.228862Z"
    },
    "tags": []
   },
   "outputs": [],
   "source": [
    "vector_fun = lambda x: anp.array([x[0]+x[1]+x[2], x[0]+x[2]])\n",
    "\n",
    "x = np.random.randn(3)\n",
    "jac = jacobian(vector_fun)(x)"
   ]
  },
  {
   "cell_type": "code",
   "execution_count": 88,
   "id": "cdcbdc40-fbf0-4b55-835a-aed0550a17aa",
   "metadata": {
    "execution": {
     "iopub.execute_input": "2022-04-02T19:49:52.633474Z",
     "iopub.status.busy": "2022-04-02T19:49:52.632474Z",
     "iopub.status.idle": "2022-04-02T19:49:52.654161Z",
     "shell.execute_reply": "2022-04-02T19:49:52.653527Z",
     "shell.execute_reply.started": "2022-04-02T19:49:52.633474Z"
    },
    "tags": []
   },
   "outputs": [
    {
     "data": {
      "text/plain": [
       "array([[1., 1., 1.],\n",
       "       [1., 0., 1.]])"
      ]
     },
     "execution_count": 88,
     "metadata": {},
     "output_type": "execute_result"
    }
   ],
   "source": [
    "jac"
   ]
  },
  {
   "cell_type": "markdown",
   "id": "5ca1ec7c-bfa1-4e78-b5e3-2fd604c7af83",
   "metadata": {},
   "source": [
    "# Components\n",
    "Different examples of using components"
   ]
  },
  {
   "cell_type": "markdown",
   "id": "f4682de0-c0ba-4aa3-8fa3-1330a95f309e",
   "metadata": {},
   "source": [
    "## Plain"
   ]
  },
  {
   "cell_type": "code",
   "execution_count": 4,
   "id": "4bc948e3-9d42-4c7d-9cb8-a24b015ffe9d",
   "metadata": {
    "execution": {
     "iopub.execute_input": "2022-04-02T19:54:45.046637Z",
     "iopub.status.busy": "2022-04-02T19:54:45.046637Z",
     "iopub.status.idle": "2022-04-02T19:54:45.057615Z",
     "shell.execute_reply": "2022-04-02T19:54:45.057416Z",
     "shell.execute_reply.started": "2022-04-02T19:54:45.046637Z"
    },
    "tags": []
   },
   "outputs": [],
   "source": [
    "vector_fun = lambda *x: anp.array([x[0]+x[1]+x[2], x[0]+x[2]])"
   ]
  },
  {
   "cell_type": "code",
   "execution_count": 9,
   "id": "c232ecfa-9877-4be6-8921-373245be7632",
   "metadata": {
    "execution": {
     "iopub.execute_input": "2022-04-02T20:03:08.363489Z",
     "iopub.status.busy": "2022-04-02T20:03:08.363489Z",
     "iopub.status.idle": "2022-04-02T20:03:08.382456Z",
     "shell.execute_reply": "2022-04-02T20:03:08.382456Z",
     "shell.execute_reply.started": "2022-04-02T20:03:08.363489Z"
    },
    "tags": []
   },
   "outputs": [],
   "source": [
    "# Inputs should not be same as outputs!\n",
    "inputs = (1,2,3)\n",
    "outputs = (4,5)\n",
    "c1 = Component(vector_fun, inputs, outputs, 1)"
   ]
  },
  {
   "cell_type": "code",
   "execution_count": 6,
   "id": "fa2f37bf-1364-41c4-b585-9dbde948fedd",
   "metadata": {
    "execution": {
     "iopub.execute_input": "2022-04-02T19:54:45.632827Z",
     "iopub.status.busy": "2022-04-02T19:54:45.632827Z",
     "iopub.status.idle": "2022-04-02T19:54:45.638966Z",
     "shell.execute_reply": "2022-04-02T19:54:45.638819Z",
     "shell.execute_reply.started": "2022-04-02T19:54:45.632827Z"
    },
    "tags": []
   },
   "outputs": [
    {
     "data": {
      "text/plain": [
       "array([[1., 1., 1.],\n",
       "       [1., 0., 1.]])"
      ]
     },
     "execution_count": 6,
     "metadata": {},
     "output_type": "execute_result"
    }
   ],
   "source": [
    "c1.jacobian(np.array([2.,4.,3.]))"
   ]
  },
  {
   "cell_type": "code",
   "execution_count": 7,
   "id": "82fbd138-af3a-44a3-b13a-a94f1151a537",
   "metadata": {
    "execution": {
     "iopub.execute_input": "2022-04-02T19:54:51.870768Z",
     "iopub.status.busy": "2022-04-02T19:54:51.870768Z",
     "iopub.status.idle": "2022-04-02T19:54:51.881108Z",
     "shell.execute_reply": "2022-04-02T19:54:51.880757Z",
     "shell.execute_reply.started": "2022-04-02T19:54:51.870768Z"
    },
    "tags": []
   },
   "outputs": [
    {
     "data": {
      "text/plain": [
       "array([9, 5])"
      ]
     },
     "execution_count": 7,
     "metadata": {},
     "output_type": "execute_result"
    }
   ],
   "source": [
    "c1.evaldict({1: 2, 2:4, 3:3})"
   ]
  },
  {
   "cell_type": "markdown",
   "id": "c1282fd1-9063-411c-9a77-195e881c1836",
   "metadata": {},
   "source": [
    "## Inputs and outputs with units"
   ]
  },
  {
   "cell_type": "code",
   "execution_count": 24,
   "id": "fd93557a-6fe6-4184-a193-4ba3513d3061",
   "metadata": {
    "execution": {
     "iopub.execute_input": "2022-04-02T20:16:12.878040Z",
     "iopub.status.busy": "2022-04-02T20:16:12.878040Z",
     "iopub.status.idle": "2022-04-02T20:16:12.898754Z",
     "shell.execute_reply": "2022-04-02T20:16:12.898143Z",
     "shell.execute_reply.started": "2022-04-02T20:16:12.878040Z"
    },
    "tags": []
   },
   "outputs": [],
   "source": [
    "inputs = (1,2,3) #The order is critical\n",
    "# we describe inunits as a dictionary to decouple from inputs\n",
    "inunits = {1:'kg', 2: 'g', 3:'m/s^2'}\n",
    "outputs = (4,5)\n",
    "outunits = {4:'N', 5:'g'}"
   ]
  },
  {
   "cell_type": "code",
   "execution_count": 37,
   "id": "60ed0233-e05b-4e82-adbc-feac6ea657b8",
   "metadata": {
    "execution": {
     "iopub.execute_input": "2022-04-02T20:28:11.657461Z",
     "iopub.status.busy": "2022-04-02T20:28:11.657461Z",
     "iopub.status.idle": "2022-04-02T20:28:11.675444Z",
     "shell.execute_reply": "2022-04-02T20:28:11.674757Z",
     "shell.execute_reply.started": "2022-04-02T20:28:11.657461Z"
    },
    "tags": []
   },
   "outputs": [],
   "source": [
    "from compute import ureg\n",
    "from unitutils import get_unit_multiplier"
   ]
  },
  {
   "cell_type": "code",
   "execution_count": 34,
   "id": "d9fd5ecd-a8fb-438c-b8e7-58ed1cee329e",
   "metadata": {
    "execution": {
     "iopub.execute_input": "2022-04-02T20:24:25.030455Z",
     "iopub.status.busy": "2022-04-02T20:24:25.030455Z",
     "iopub.status.idle": "2022-04-02T20:24:25.045809Z",
     "shell.execute_reply": "2022-04-02T20:24:25.044787Z",
     "shell.execute_reply.started": "2022-04-02T20:24:25.030455Z"
    },
    "tags": []
   },
   "outputs": [],
   "source": [
    "def expression_conversion_unit(expr_unit, tounit=None):\n",
    "    unit = tounit if tounit else ureg('')\n",
    "    if tounit:\n",
    "        assert(unit.dimensionality == expr_unit.dimensionality)\n",
    "        conversion_unit = unit\n",
    "    else: # tounit was not given\n",
    "        if not hasattr(expr_unit, 'units'):\n",
    "            conversion_unit = ureg('')\n",
    "        else:\n",
    "            # if we evaluate an expression and get some crazy unit \n",
    "            # we bring it back to it's base dimensionality\n",
    "            conversion_unit = ureg.Quantity(1, \n",
    "                expr_unit.to_base_units().units)\n",
    "    return conversion_unit"
   ]
  },
  {
   "cell_type": "code",
   "execution_count": 127,
   "id": "733bac3d-ab49-4a7a-897b-56073206340c",
   "metadata": {
    "execution": {
     "iopub.execute_input": "2022-04-02T21:50:44.465463Z",
     "iopub.status.busy": "2022-04-02T21:50:44.465463Z",
     "iopub.status.idle": "2022-04-02T21:50:44.483051Z",
     "shell.execute_reply": "2022-04-02T21:50:44.483051Z",
     "shell.execute_reply.started": "2022-04-02T21:50:44.465463Z"
    },
    "tags": []
   },
   "outputs": [],
   "source": [
    "def unit_conversion_factors(outunitpairs, inunits):\n",
    "    convert = np.array([get_unit_multiplier(inp) for \n",
    "            inp in inunits])\n",
    "    factors = []\n",
    "    for outunit, tounit in outunitpairs:\n",
    "        conversion_unit = expression_conversion_unit(outunit, tounit)\n",
    "        factor = get_unit_multiplier(conversion_unit)\n",
    "        factors.append(factor)\n",
    "    return convert, factors"
   ]
  },
  {
   "cell_type": "code",
   "execution_count": 128,
   "id": "84ca6ddc-9691-4060-93fd-ed68e8d84a3e",
   "metadata": {
    "execution": {
     "iopub.execute_input": "2022-04-02T21:50:46.005905Z",
     "iopub.status.busy": "2022-04-02T21:50:46.005905Z",
     "iopub.status.idle": "2022-04-02T21:50:46.012825Z",
     "shell.execute_reply": "2022-04-02T21:50:46.011924Z",
     "shell.execute_reply.started": "2022-04-02T21:50:46.005905Z"
    },
    "tags": []
   },
   "outputs": [
    {
     "data": {
      "text/html": [
       "1 meter"
      ],
      "text/latex": [
       "$1\\ \\mathrm{meter}$"
      ],
      "text/plain": [
       "1 <Unit('meter')>"
      ]
     },
     "execution_count": 128,
     "metadata": {},
     "output_type": "execute_result"
    }
   ],
   "source": [
    "expression_conversion_unit(ureg.Quantity(1, 'km'))"
   ]
  },
  {
   "cell_type": "code",
   "execution_count": 129,
   "id": "9bccd4cc-7b29-43a5-b943-2b8036261844",
   "metadata": {
    "execution": {
     "iopub.execute_input": "2022-04-02T21:50:46.554718Z",
     "iopub.status.busy": "2022-04-02T21:50:46.553723Z",
     "iopub.status.idle": "2022-04-02T21:50:46.563101Z",
     "shell.execute_reply": "2022-04-02T21:50:46.562715Z",
     "shell.execute_reply.started": "2022-04-02T21:50:46.554718Z"
    },
    "tags": []
   },
   "outputs": [
    {
     "data": {
      "text/plain": [
       "(array([1000.,    1.]), [0.001])"
      ]
     },
     "execution_count": 129,
     "metadata": {},
     "output_type": "execute_result"
    }
   ],
   "source": [
    "unit_conversion_factors([(ureg.Quantity(1, 'g*m/s^2'), ureg.Quantity(1, 'mN'))], [ureg.Quantity(1, 'km'), ureg.Quantity(1, 'kg')])"
   ]
  },
  {
   "cell_type": "code",
   "execution_count": 60,
   "id": "f3299f19-c1c3-47c0-b8d5-c1c03ef8efe4",
   "metadata": {
    "execution": {
     "iopub.execute_input": "2022-04-02T21:22:48.736198Z",
     "iopub.status.busy": "2022-04-02T21:22:48.736198Z",
     "iopub.status.idle": "2022-04-02T21:22:48.752788Z",
     "shell.execute_reply": "2022-04-02T21:22:48.752355Z",
     "shell.execute_reply.started": "2022-04-02T21:22:48.736198Z"
    },
    "tags": []
   },
   "outputs": [],
   "source": [
    "from unitutils import MockFloat\n",
    "import sympy as sp"
   ]
  },
  {
   "cell_type": "code",
   "execution_count": 134,
   "id": "36cef5cb-3f2c-4525-aa72-e4d517936608",
   "metadata": {
    "execution": {
     "iopub.execute_input": "2022-04-02T21:55:50.017967Z",
     "iopub.status.busy": "2022-04-02T21:55:50.017967Z",
     "iopub.status.idle": "2022-04-02T21:55:50.034867Z",
     "shell.execute_reply": "2022-04-02T21:55:50.033983Z",
     "shell.execute_reply.started": "2022-04-02T21:55:50.017967Z"
    },
    "tags": []
   },
   "outputs": [],
   "source": [
    "def get_unit(fx, inputunits):\n",
    "    args = (ureg.Quantity(MockFloat(1), inputunit) for inputunit in inputunits)\n",
    "    dim = fx(*args)\n",
    "    dims = listify(dim)\n",
    "    # need this case if output is a float, which can happen when we have powers, e.g. 10^x:\n",
    "    dims = [dim if isinstance(dim, ureg.Quantity) else ureg('') for dim in dims]\n",
    "    return dims"
   ]
  },
  {
   "cell_type": "code",
   "execution_count": 55,
   "id": "430c4aa5-54f8-46bb-a0c4-22e323b97633",
   "metadata": {
    "execution": {
     "iopub.execute_input": "2022-04-02T21:19:20.505508Z",
     "iopub.status.busy": "2022-04-02T21:19:20.505508Z",
     "iopub.status.idle": "2022-04-02T21:19:20.516126Z",
     "shell.execute_reply": "2022-04-02T21:19:20.515507Z",
     "shell.execute_reply.started": "2022-04-02T21:19:20.505508Z"
    },
    "tags": []
   },
   "outputs": [
    {
     "data": {
      "text/html": [
       "1.0 gram meter/second<sup>2</sup>"
      ],
      "text/latex": [
       "$1.0\\ \\frac{\\mathrm{gram} \\cdot \\mathrm{meter}}{\\mathrm{second}^{2}}$"
      ],
      "text/plain": [
       "1.0 <Unit('gram * meter / second ** 2')>"
      ]
     },
     "execution_count": 55,
     "metadata": {},
     "output_type": "execute_result"
    }
   ],
   "source": [
    "get_unit(lambda *x: (x[0]+x[1])*x[2], ('g', 'kg', 'm/s^2'))"
   ]
  },
  {
   "cell_type": "code",
   "execution_count": 133,
   "id": "fd3d2e89-1097-4ec7-8b3d-339587ac6354",
   "metadata": {
    "execution": {
     "iopub.execute_input": "2022-04-02T21:54:23.476702Z",
     "iopub.status.busy": "2022-04-02T21:54:23.476702Z",
     "iopub.status.idle": "2022-04-02T21:54:23.479972Z",
     "shell.execute_reply": "2022-04-02T21:54:23.479705Z",
     "shell.execute_reply.started": "2022-04-02T21:54:23.476702Z"
    }
   },
   "outputs": [],
   "source": [
    "def listify(out):\n",
    "    return out if isinstance(out, list) else [out]"
   ]
  },
  {
   "cell_type": "code",
   "execution_count": 185,
   "id": "6bdcacc2-7d97-4018-b0e0-97bb80aeed27",
   "metadata": {
    "execution": {
     "iopub.execute_input": "2022-04-02T22:10:45.852844Z",
     "iopub.status.busy": "2022-04-02T22:10:45.852680Z",
     "iopub.status.idle": "2022-04-02T22:10:45.860435Z",
     "shell.execute_reply": "2022-04-02T22:10:45.859431Z",
     "shell.execute_reply.started": "2022-04-02T22:10:45.852844Z"
    },
    "tags": []
   },
   "outputs": [],
   "source": [
    "def flatten_list(ls):\n",
    "    return ls if np.isscalar(ls)==1 else list(ls)"
   ]
  },
  {
   "cell_type": "code",
   "execution_count": 186,
   "id": "7ee2187f-9611-4d2b-8d42-ffd6d5e3747f",
   "metadata": {
    "execution": {
     "iopub.execute_input": "2022-04-02T22:10:47.410059Z",
     "iopub.status.busy": "2022-04-02T22:10:47.409060Z",
     "iopub.status.idle": "2022-04-02T22:10:47.420729Z",
     "shell.execute_reply": "2022-04-02T22:10:47.420587Z",
     "shell.execute_reply.started": "2022-04-02T22:10:47.410059Z"
    },
    "tags": []
   },
   "outputs": [],
   "source": [
    "def executable_with_conversion(convert, factors, fx):\n",
    "    def scaled_fx(*args):\n",
    "        return flatten_list(np.array(fx(*(convert*np.array(args).flatten())))/factor)\n",
    "    return scaled_fx"
   ]
  },
  {
   "cell_type": "code",
   "execution_count": 62,
   "id": "f81eabb3-b6e0-4042-894d-bc3e6d8983bb",
   "metadata": {
    "execution": {
     "iopub.execute_input": "2022-04-02T21:22:50.360281Z",
     "iopub.status.busy": "2022-04-02T21:22:50.359281Z",
     "iopub.status.idle": "2022-04-02T21:22:50.378778Z",
     "shell.execute_reply": "2022-04-02T21:22:50.378212Z",
     "shell.execute_reply.started": "2022-04-02T21:22:50.360281Z"
    },
    "tags": []
   },
   "outputs": [],
   "source": [
    "from compute import Var"
   ]
  },
  {
   "cell_type": "code",
   "execution_count": 63,
   "id": "14858253-ca56-40e5-b364-3ad84c1333b3",
   "metadata": {
    "execution": {
     "iopub.execute_input": "2022-04-02T21:22:50.552312Z",
     "iopub.status.busy": "2022-04-02T21:22:50.551305Z",
     "iopub.status.idle": "2022-04-02T21:22:50.565696Z",
     "shell.execute_reply": "2022-04-02T21:22:50.565130Z",
     "shell.execute_reply.started": "2022-04-02T21:22:50.552312Z"
    },
    "tags": []
   },
   "outputs": [],
   "source": [
    "a = Var('a', 1, 'g')\n",
    "b = Var('b', 2, 'kg')\n",
    "c = Var('c', 3, 'm/s^2')"
   ]
  },
  {
   "cell_type": "code",
   "execution_count": 159,
   "id": "e686501f-0d65-4511-8132-f781db8566e1",
   "metadata": {
    "execution": {
     "iopub.execute_input": "2022-04-02T22:06:29.919084Z",
     "iopub.status.busy": "2022-04-02T22:06:29.919084Z",
     "iopub.status.idle": "2022-04-02T22:06:29.923080Z",
     "shell.execute_reply": "2022-04-02T22:06:29.922574Z",
     "shell.execute_reply.started": "2022-04-02T22:06:29.919084Z"
    },
    "tags": []
   },
   "outputs": [],
   "source": [
    "expr1 = (a+b)*c\n",
    "expr2 = a-b"
   ]
  },
  {
   "cell_type": "code",
   "execution_count": 190,
   "id": "391375f5-110a-4588-8d4f-33fb5d40b15b",
   "metadata": {
    "execution": {
     "iopub.execute_input": "2022-04-02T22:11:03.409829Z",
     "iopub.status.busy": "2022-04-02T22:11:03.409829Z",
     "iopub.status.idle": "2022-04-02T22:11:03.417843Z",
     "shell.execute_reply": "2022-04-02T22:11:03.416849Z",
     "shell.execute_reply.started": "2022-04-02T22:11:03.409829Z"
    },
    "tags": []
   },
   "outputs": [],
   "source": [
    "inputs = (a,b,c)\n",
    "inpunitsflat = tuple(inpvar.varunit for inpvar in inputs)\n",
    "fx = sp.lambdify(inputs, [expr1, expr2], anp) #anp_math\n",
    "#outputs = (None,)\n",
    "outunitsflat = (ureg.Quantity('N'),ureg.Quantity('g'))"
   ]
  },
  {
   "cell_type": "code",
   "execution_count": 191,
   "id": "4f258128-1f57-4f12-8489-91107ff29718",
   "metadata": {
    "execution": {
     "iopub.execute_input": "2022-04-02T22:11:03.825532Z",
     "iopub.status.busy": "2022-04-02T22:11:03.824529Z",
     "iopub.status.idle": "2022-04-02T22:11:03.838576Z",
     "shell.execute_reply": "2022-04-02T22:11:03.838114Z",
     "shell.execute_reply.started": "2022-04-02T22:11:03.825532Z"
    },
    "tags": []
   },
   "outputs": [],
   "source": [
    "def fx_with_units(fx, inunitsflat, outunitsflat):\n",
    "    expr_units = get_unit(fx, inunitsflat)\n",
    "    outunitpairs = ((outunit, outunitsflat[idx]) for idx, outunit in enumerate(expr_units))\n",
    "    convert, factors = unit_conversion_factors(outunitpairs, inunitsflat)\n",
    "    fx_scaled = executable_with_conversion(convert, factors, fx)\n",
    "    return fx_scaled"
   ]
  },
  {
   "cell_type": "code",
   "execution_count": 192,
   "id": "3d4a4ca1-a254-4ade-aa69-4f27496b8a30",
   "metadata": {
    "execution": {
     "iopub.execute_input": "2022-04-02T22:11:04.200119Z",
     "iopub.status.busy": "2022-04-02T22:11:04.200119Z",
     "iopub.status.idle": "2022-04-02T22:11:04.213392Z",
     "shell.execute_reply": "2022-04-02T22:11:04.212894Z",
     "shell.execute_reply.started": "2022-04-02T22:11:04.200119Z"
    },
    "tags": []
   },
   "outputs": [],
   "source": [
    "fx_scaled = fx_with_units(fx, inpunitsflat, outunitsflat)"
   ]
  },
  {
   "cell_type": "code",
   "execution_count": 193,
   "id": "18344e67-faa1-4b0d-89f4-55dc93896b48",
   "metadata": {
    "execution": {
     "iopub.execute_input": "2022-04-02T22:11:04.534921Z",
     "iopub.status.busy": "2022-04-02T22:11:04.533993Z",
     "iopub.status.idle": "2022-04-02T22:11:04.556085Z",
     "shell.execute_reply": "2022-04-02T22:11:04.555173Z",
     "shell.execute_reply.started": "2022-04-02T22:11:04.534921Z"
    },
    "tags": []
   },
   "outputs": [
    {
     "data": {
      "text/plain": [
       "[6.003, -1.999]"
      ]
     },
     "execution_count": 193,
     "metadata": {},
     "output_type": "execute_result"
    }
   ],
   "source": [
    "fx_scaled(1,2,3)"
   ]
  },
  {
   "cell_type": "code",
   "execution_count": null,
   "id": "cd798334-c708-4ec8-940c-5d7979c4e3cc",
   "metadata": {},
   "outputs": [],
   "source": []
  }
 ],
 "metadata": {
  "kernelspec": {
   "display_name": "Python [conda env:mdo]",
   "language": "python",
   "name": "conda-env-mdo-py"
  },
  "language_info": {
   "codemirror_mode": {
    "name": "ipython",
    "version": 3
   },
   "file_extension": ".py",
   "mimetype": "text/x-python",
   "name": "python",
   "nbconvert_exporter": "python",
   "pygments_lexer": "ipython3",
   "version": "3.9.7"
  }
 },
 "nbformat": 4,
 "nbformat_minor": 5
}
