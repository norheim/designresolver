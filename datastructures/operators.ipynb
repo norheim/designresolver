{
 "cells": [
  {
   "cell_type": "code",
   "execution_count": 1,
   "id": "9f3baf33-dec0-44cc-a3e0-f3f0512162ab",
   "metadata": {
    "execution": {
     "iopub.execute_input": "2022-03-12T00:08:51.993790Z",
     "iopub.status.busy": "2022-03-12T00:08:51.992789Z",
     "iopub.status.idle": "2022-03-12T00:08:52.019760Z",
     "shell.execute_reply": "2022-03-12T00:08:52.018851Z",
     "shell.execute_reply.started": "2022-03-12T00:08:51.993790Z"
    },
    "tags": []
   },
   "outputs": [
    {
     "name": "stdout",
     "output_type": "stream",
     "text": [
      "C:\\Users\\johan\\github\\designresolver\n"
     ]
    }
   ],
   "source": [
    "cd .."
   ]
  },
  {
   "cell_type": "code",
   "execution_count": 2,
   "id": "299cac01-ae16-4718-873f-c1405f41268b",
   "metadata": {
    "execution": {
     "iopub.execute_input": "2022-03-12T00:08:52.020748Z",
     "iopub.status.busy": "2022-03-12T00:08:52.019760Z",
     "iopub.status.idle": "2022-03-12T00:08:53.584914Z",
     "shell.execute_reply": "2022-03-12T00:08:53.584914Z",
     "shell.execute_reply.started": "2022-03-12T00:08:52.020748Z"
    },
    "tags": []
   },
   "outputs": [],
   "source": [
    "from collections import OrderedDict\n",
    "from graphutils import draw_graph_graphical_props, flat_graph_formulation, Node, COMP, VAR, SOLVER, sources, all_varnodes\n",
    "from nestedgraph import build_typedgraph, level_order_tree, typed_solver_children\n",
    "from mergegraph import merge_graph, split_graph, get_edges\n",
    "from operators import standardize_comp, standardize_solver, merge_and_standardize, reorder_merge_solve"
   ]
  },
  {
   "cell_type": "markdown",
   "id": "bc9c2388-538f-4783-9447-0d59eab5deb1",
   "metadata": {},
   "source": [
    "# Reduce a component"
   ]
  },
  {
   "cell_type": "code",
   "execution_count": 3,
   "id": "92505307-0bf1-4ce9-b9b0-01154b597d14",
   "metadata": {
    "execution": {
     "iopub.execute_input": "2022-03-12T00:08:53.586926Z",
     "iopub.status.busy": "2022-03-12T00:08:53.585918Z",
     "iopub.status.idle": "2022-03-12T00:08:53.601098Z",
     "shell.execute_reply": "2022-03-12T00:08:53.600978Z",
     "shell.execute_reply.started": "2022-03-12T00:08:53.586926Z"
    },
    "tags": []
   },
   "outputs": [],
   "source": [
    "Ein = {\n",
    "    1: (2,),\n",
    "    2: (1,),\n",
    "}\n",
    "Eout = {\n",
    "    1: (1,),\n",
    "    2: (2,)\n",
    "}\n",
    "Rin = {\n",
    "}\n",
    "Vtree=dict()\n",
    "Ftree=OrderedDict(((1,1),(2,1)))"
   ]
  },
  {
   "cell_type": "code",
   "execution_count": 4,
   "id": "1d7ac2bf-99c8-4493-9fd5-a0ebff8cb91d",
   "metadata": {
    "execution": {
     "iopub.execute_input": "2022-03-12T00:08:53.602169Z",
     "iopub.status.busy": "2022-03-12T00:08:53.602169Z",
     "iopub.status.idle": "2022-03-12T00:08:54.081759Z",
     "shell.execute_reply": "2022-03-12T00:08:54.081759Z",
     "shell.execute_reply.started": "2022-03-12T00:08:53.602169Z"
    },
    "tags": []
   },
   "outputs": [
    {
     "data": {
      "image/png": "[encoded data removed]",
      "text/plain": [
       "<Figure size 144x144 with 1 Axes>"
      ]
     },
     "metadata": {},
     "output_type": "display_data"
    }
   ],
   "source": [
    "G = flat_graph_formulation(Ein, Eout, Rin)\n",
    "draw_graph_graphical_props(G, {}, prog='sfdp', figsize=(2,2))"
   ]
  },
  {
   "cell_type": "code",
   "execution_count": 5,
   "id": "aae1bb4a-23a1-4688-ba39-e01180607709",
   "metadata": {
    "execution": {
     "iopub.execute_input": "2022-03-12T00:08:54.082677Z",
     "iopub.status.busy": "2022-03-12T00:08:54.082677Z",
     "iopub.status.idle": "2022-03-12T00:08:54.097681Z",
     "shell.execute_reply": "2022-03-12T00:08:54.097524Z",
     "shell.execute_reply.started": "2022-03-12T00:08:54.082677Z"
    },
    "tags": []
   },
   "outputs": [],
   "source": [
    "edges = (Ein, Eout, Rin)\n",
    "tree = (Vtree, Ftree)\n",
    "edges, Vtree = standardize_comp(edges, Vtree, Ftree, 1)\n",
    "edges, Vtree = standardize_comp(edges, Vtree, Ftree, 2)"
   ]
  },
  {
   "cell_type": "code",
   "execution_count": 6,
   "id": "10fd5317-6dd8-48f3-b427-ac1c2e688cb1",
   "metadata": {
    "execution": {
     "iopub.execute_input": "2022-03-12T00:08:54.098720Z",
     "iopub.status.busy": "2022-03-12T00:08:54.098720Z",
     "iopub.status.idle": "2022-03-12T00:08:54.268747Z",
     "shell.execute_reply": "2022-03-12T00:08:54.267821Z",
     "shell.execute_reply.started": "2022-03-12T00:08:54.098720Z"
    },
    "tags": []
   },
   "outputs": [
    {
     "data": {
      "image/png": "[encoded data removed]",
      "text/plain": [
       "<Figure size 144x144 with 1 Axes>"
      ]
     },
     "metadata": {},
     "output_type": "display_data"
    }
   ],
   "source": [
    "G_reduced = flat_graph_formulation(*edges)\n",
    "draw_graph_graphical_props(G_reduced, {}, prog='sfdp', figsize=(2,2))"
   ]
  },
  {
   "cell_type": "markdown",
   "id": "2d8c38da-463f-43f9-a85e-ab2170dff342",
   "metadata": {},
   "source": [
    "# Reduce a solver"
   ]
  },
  {
   "cell_type": "code",
   "execution_count": 7,
   "id": "fb4496b9-a34c-477d-b57f-1ccd9ad10a98",
   "metadata": {
    "execution": {
     "iopub.execute_input": "2022-03-12T00:08:54.269736Z",
     "iopub.status.busy": "2022-03-12T00:08:54.269736Z",
     "iopub.status.idle": "2022-03-12T00:08:54.283755Z",
     "shell.execute_reply": "2022-03-12T00:08:54.283755Z",
     "shell.execute_reply.started": "2022-03-12T00:08:54.269736Z"
    },
    "tags": []
   },
   "outputs": [],
   "source": [
    "Ein = {\n",
    "    1: (1,2),\n",
    "    2: (2,1,3),\n",
    "    3: (2,),\n",
    "}\n",
    "Eout = {\n",
    "    1: (None,),\n",
    "    2: (None,),\n",
    "    3: (3,)\n",
    "}\n",
    "Rin = {\n",
    "}\n",
    "Vtree=dict()\n",
    "Ftree=OrderedDict(((1,2),(2,2),(3,1)))\n",
    "Stree={2:1}"
   ]
  },
  {
   "cell_type": "code",
   "execution_count": 8,
   "id": "fb5a79a9-0b00-4014-83c0-04fa40cc7e15",
   "metadata": {
    "execution": {
     "iopub.execute_input": "2022-03-12T00:08:54.284733Z",
     "iopub.status.busy": "2022-03-12T00:08:54.284733Z",
     "iopub.status.idle": "2022-03-12T00:08:54.299768Z",
     "shell.execute_reply": "2022-03-12T00:08:54.299768Z",
     "shell.execute_reply.started": "2022-03-12T00:08:54.284733Z"
    },
    "tags": []
   },
   "outputs": [],
   "source": [
    "graphs = build_typedgraph((Ein, Eout, Rin), (Ftree, Stree, Vtree))"
   ]
  },
  {
   "cell_type": "code",
   "execution_count": 9,
   "id": "fb3abc93-6374-4862-84db-b8fc3e25d5d1",
   "metadata": {
    "execution": {
     "iopub.execute_input": "2022-03-12T00:08:54.300691Z",
     "iopub.status.busy": "2022-03-12T00:08:54.300691Z",
     "iopub.status.idle": "2022-03-12T00:08:54.662145Z",
     "shell.execute_reply": "2022-03-12T00:08:54.661261Z",
     "shell.execute_reply.started": "2022-03-12T00:08:54.300691Z"
    },
    "tags": []
   },
   "outputs": [
    {
     "data": {
      "image/png": "[encoded data removed]",
      "text/plain": [
       "<Figure size 216x144 with 1 Axes>"
      ]
     },
     "metadata": {},
     "output_type": "display_data"
    },
    {
     "data": {
      "image/png": "[encoded data removed]",
      "text/plain": [
       "<Figure size 216x144 with 1 Axes>"
      ]
     },
     "metadata": {},
     "output_type": "display_data"
    }
   ],
   "source": [
    "for key,graph in graphs.items():\n",
    "    draw_graph_graphical_props(graph, {}, prog='sfdp', figsize=(3,2))"
   ]
  },
  {
   "cell_type": "code",
   "execution_count": 10,
   "id": "679ebe82-2067-4fb1-a73b-833829e10c29",
   "metadata": {
    "execution": {
     "iopub.execute_input": "2022-03-12T00:08:54.664153Z",
     "iopub.status.busy": "2022-03-12T00:08:54.663142Z",
     "iopub.status.idle": "2022-03-12T00:08:54.677411Z",
     "shell.execute_reply": "2022-03-12T00:08:54.677141Z",
     "shell.execute_reply.started": "2022-03-12T00:08:54.664153Z"
    },
    "tags": []
   },
   "outputs": [],
   "source": [
    "Ftree_r, Stree_r = standardize_solver((Ftree, Stree), 2)"
   ]
  },
  {
   "cell_type": "code",
   "execution_count": 11,
   "id": "e695b2ac-e6ce-4406-91c1-05f7282e960d",
   "metadata": {
    "execution": {
     "iopub.execute_input": "2022-03-12T00:08:54.678526Z",
     "iopub.status.busy": "2022-03-12T00:08:54.678526Z",
     "iopub.status.idle": "2022-03-12T00:08:54.692525Z",
     "shell.execute_reply": "2022-03-12T00:08:54.692525Z",
     "shell.execute_reply.started": "2022-03-12T00:08:54.678526Z"
    },
    "tags": []
   },
   "outputs": [],
   "source": [
    "graphs = build_typedgraph((Ein, Eout, Rin), (Ftree_r, Stree_r, Vtree))"
   ]
  },
  {
   "cell_type": "code",
   "execution_count": 12,
   "id": "f99b770a-8424-4081-9bd2-cadd2be58e40",
   "metadata": {
    "execution": {
     "iopub.execute_input": "2022-03-12T00:08:54.693527Z",
     "iopub.status.busy": "2022-03-12T00:08:54.693527Z",
     "iopub.status.idle": "2022-03-12T00:08:54.971847Z",
     "shell.execute_reply": "2022-03-12T00:08:54.971602Z",
     "shell.execute_reply.started": "2022-03-12T00:08:54.693527Z"
    },
    "tags": []
   },
   "outputs": [
    {
     "data": {
      "image/png": "[encoded data removed]",
      "text/plain": [
       "<Figure size 216x144 with 1 Axes>"
      ]
     },
     "metadata": {},
     "output_type": "display_data"
    }
   ],
   "source": [
    "for key,graph in graphs.items():\n",
    "    draw_graph_graphical_props(graph, {}, prog='sfdp', figsize=(3,2))"
   ]
  },
  {
   "cell_type": "markdown",
   "id": "b45a17e9-8a23-411d-b7d3-4d774ef44476",
   "metadata": {},
   "source": [
    "# Merge and reduce"
   ]
  },
  {
   "cell_type": "code",
   "execution_count": 26,
   "id": "dc2b6cdd-e30d-4163-8ce9-d2b8d5781aa5",
   "metadata": {
    "execution": {
     "iopub.execute_input": "2022-03-12T00:10:20.689728Z",
     "iopub.status.busy": "2022-03-12T00:10:20.689728Z",
     "iopub.status.idle": "2022-03-12T00:10:20.703409Z",
     "shell.execute_reply": "2022-03-12T00:10:20.702902Z",
     "shell.execute_reply.started": "2022-03-12T00:10:20.689728Z"
    },
    "tags": []
   },
   "outputs": [],
   "source": [
    "Ein = {\n",
    "    1: (2,),\n",
    "    2: (1,),\n",
    "    3: (2,),\n",
    "}\n",
    "Eout = {\n",
    "    1: (1,),\n",
    "    2: (2,),\n",
    "    3: (3,)\n",
    "}\n",
    "Rin = {\n",
    "}\n",
    "Vtree={} #3:1\n",
    "Ftree=OrderedDict(((1,1),(2,1),(3,1)))\n",
    "Stree=dict()"
   ]
  },
  {
   "cell_type": "code",
   "execution_count": 27,
   "id": "95ea8518-344c-4356-8d11-c1df44196af8",
   "metadata": {
    "execution": {
     "iopub.execute_input": "2022-03-12T00:10:20.903760Z",
     "iopub.status.busy": "2022-03-12T00:10:20.903760Z",
     "iopub.status.idle": "2022-03-12T00:10:20.921231Z",
     "shell.execute_reply": "2022-03-12T00:10:20.921231Z",
     "shell.execute_reply.started": "2022-03-12T00:10:20.903760Z"
    },
    "tags": []
   },
   "outputs": [],
   "source": [
    "edges = Ein, Eout, Rin\n",
    "tree = Ftree,Stree,Vtree"
   ]
  },
  {
   "cell_type": "code",
   "execution_count": 28,
   "id": "f372d349-426b-4c81-bf2b-260564cb8a44",
   "metadata": {
    "execution": {
     "iopub.execute_input": "2022-03-12T00:10:21.160543Z",
     "iopub.status.busy": "2022-03-12T00:10:21.160543Z",
     "iopub.status.idle": "2022-03-12T00:10:21.391648Z",
     "shell.execute_reply": "2022-03-12T00:10:21.390736Z",
     "shell.execute_reply.started": "2022-03-12T00:10:21.160543Z"
    },
    "tags": []
   },
   "outputs": [
    {
     "data": {
      "image/png": "[encoded data removed]",
      "text/plain": [
       "<Figure size 360x144 with 1 Axes>"
      ]
     },
     "metadata": {},
     "output_type": "display_data"
    }
   ],
   "source": [
    "graphs = build_typedgraph(edges, tree)\n",
    "for key,graph in graphs.items():\n",
    "    draw_graph_graphical_props(graph, {}, prog='sfdp', figsize=(5,2))"
   ]
  },
  {
   "cell_type": "code",
   "execution_count": 29,
   "id": "fd1ff4c9-1b41-4565-9985-f8c148d86dd6",
   "metadata": {
    "execution": {
     "iopub.execute_input": "2022-03-12T00:10:23.737375Z",
     "iopub.status.busy": "2022-03-12T00:10:23.736874Z",
     "iopub.status.idle": "2022-03-12T00:10:23.755291Z",
     "shell.execute_reply": "2022-03-12T00:10:23.754796Z",
     "shell.execute_reply.started": "2022-03-12T00:10:23.737375Z"
    },
    "tags": []
   },
   "outputs": [],
   "source": [
    "nedges, ntree = merge_and_standardize(edges, tree, {Node(1,COMP),Node(2,COMP)}, 1, 2, False)"
   ]
  },
  {
   "cell_type": "code",
   "execution_count": 30,
   "id": "c52b38c4-7021-4a1d-a5f9-9441657e23e1",
   "metadata": {
    "execution": {
     "iopub.execute_input": "2022-03-12T00:10:24.124355Z",
     "iopub.status.busy": "2022-03-12T00:10:24.124355Z",
     "iopub.status.idle": "2022-03-12T00:10:24.142273Z",
     "shell.execute_reply": "2022-03-12T00:10:24.141273Z",
     "shell.execute_reply.started": "2022-03-12T00:10:24.124355Z"
    },
    "tags": []
   },
   "outputs": [
    {
     "data": {
      "text/plain": [
       "(({1: (2,), 2: (1,), 3: (2,)},\n",
       "  {1: (None,), 2: (None,), 3: (3,)},\n",
       "  {2: (2,), 1: (1,)}),\n",
       " (OrderedDict([(1, 1), (2, 1), (3, 1)]), {}, {2: 1, 1: 1}))"
      ]
     },
     "execution_count": 30,
     "metadata": {},
     "output_type": "execute_result"
    }
   ],
   "source": [
    "nedges, ntree"
   ]
  },
  {
   "cell_type": "code",
   "execution_count": 32,
   "id": "1f13986f-28b8-4ebb-8282-2992f3606a3c",
   "metadata": {
    "execution": {
     "iopub.execute_input": "2022-03-12T00:10:37.578490Z",
     "iopub.status.busy": "2022-03-12T00:10:37.578490Z",
     "iopub.status.idle": "2022-03-12T00:10:37.879761Z",
     "shell.execute_reply": "2022-03-12T00:10:37.879761Z",
     "shell.execute_reply.started": "2022-03-12T00:10:37.578490Z"
    },
    "tags": []
   },
   "outputs": [
    {
     "data": {
      "image/png": "[encoded data removed]",
      "text/plain": [
       "<Figure size 360x144 with 1 Axes>"
      ]
     },
     "metadata": {},
     "output_type": "display_data"
    }
   ],
   "source": [
    "graphs = build_typedgraph(nedges, ntree)\n",
    "for key,graph in graphs.items():\n",
    "    draw_graph_graphical_props(graph, {}, prog='sfdp', figsize=(5,2))"
   ]
  },
  {
   "cell_type": "markdown",
   "id": "11dd2a77-918a-4739-94b7-ff8add2778f7",
   "metadata": {},
   "source": [
    "# Merge and reorder"
   ]
  },
  {
   "cell_type": "code",
   "execution_count": 33,
   "id": "bbe25d7e-9136-4956-a40b-edb2295c5f75",
   "metadata": {
    "execution": {
     "iopub.execute_input": "2022-03-12T00:11:04.893068Z",
     "iopub.status.busy": "2022-03-12T00:11:04.893068Z",
     "iopub.status.idle": "2022-03-12T00:11:04.906212Z",
     "shell.execute_reply": "2022-03-12T00:11:04.906212Z",
     "shell.execute_reply.started": "2022-03-12T00:11:04.893068Z"
    },
    "tags": []
   },
   "outputs": [],
   "source": [
    "merge_order = [{Node(1,COMP),Node(2,COMP)}, {Node(3,COMP)}]"
   ]
  },
  {
   "cell_type": "code",
   "execution_count": 38,
   "id": "a2f3b3e7-dc22-46ff-b0d3-7655511da8c2",
   "metadata": {
    "execution": {
     "iopub.execute_input": "2022-03-12T00:11:29.057711Z",
     "iopub.status.busy": "2022-03-12T00:11:29.057711Z",
     "iopub.status.idle": "2022-03-12T00:11:29.067716Z",
     "shell.execute_reply": "2022-03-12T00:11:29.066730Z",
     "shell.execute_reply.started": "2022-03-12T00:11:29.057711Z"
    },
    "tags": []
   },
   "outputs": [],
   "source": [
    "nedges, ntree = reorder_merge_solve(edges, tree, merge_order, 1, False)"
   ]
  },
  {
   "cell_type": "code",
   "execution_count": 39,
   "id": "3cc814c0-f502-4c8e-b2ef-d55a6894595f",
   "metadata": {
    "execution": {
     "iopub.execute_input": "2022-03-12T00:11:29.471280Z",
     "iopub.status.busy": "2022-03-12T00:11:29.471280Z",
     "iopub.status.idle": "2022-03-12T00:11:29.490284Z",
     "shell.execute_reply": "2022-03-12T00:11:29.489367Z",
     "shell.execute_reply.started": "2022-03-12T00:11:29.471280Z"
    },
    "tags": []
   },
   "outputs": [
    {
     "data": {
      "text/plain": [
       "(OrderedDict([(2, 1), (1, 1), (3, 1)]), {}, {2: 1, 1: 1})"
      ]
     },
     "execution_count": 39,
     "metadata": {},
     "output_type": "execute_result"
    }
   ],
   "source": [
    "ntree"
   ]
  },
  {
   "cell_type": "code",
   "execution_count": 40,
   "id": "bbca823c-69d7-4770-b0bd-f10b8d44dafe",
   "metadata": {
    "execution": {
     "iopub.execute_input": "2022-03-12T00:11:30.114324Z",
     "iopub.status.busy": "2022-03-12T00:11:30.114324Z",
     "iopub.status.idle": "2022-03-12T00:11:30.330932Z",
     "shell.execute_reply": "2022-03-12T00:11:30.329976Z",
     "shell.execute_reply.started": "2022-03-12T00:11:30.114324Z"
    },
    "tags": []
   },
   "outputs": [
    {
     "data": {
      "image/png": "[encoded data removed]",
      "text/plain": [
       "<Figure size 360x144 with 1 Axes>"
      ]
     },
     "metadata": {},
     "output_type": "display_data"
    }
   ],
   "source": [
    "graphs = build_typedgraph(nedges, ntree)\n",
    "for key,graph in graphs.items():\n",
    "    draw_graph_graphical_props(graph, {}, prog='sfdp', figsize=(5,2))"
   ]
  },
  {
   "cell_type": "code",
   "execution_count": null,
   "id": "4f4659a1-a487-464c-be34-7b7747a4e0ca",
   "metadata": {},
   "outputs": [],
   "source": []
  }
 ],
 "metadata": {
  "kernelspec": {
   "display_name": "Python [conda env:mdo]",
   "language": "python",
   "name": "conda-env-mdo-py"
  },
  "language_info": {
   "codemirror_mode": {
    "name": "ipython",
    "version": 3
   },
   "file_extension": ".py",
   "mimetype": "text/x-python",
   "name": "python",
   "nbconvert_exporter": "python",
   "pygments_lexer": "ipython3",
   "version": "3.9.7"
  }
 },
 "nbformat": 4,
 "nbformat_minor": 5
}
