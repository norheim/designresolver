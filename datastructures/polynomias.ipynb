{
 "cells": [
  {
   "cell_type": "code",
   "execution_count": 1,
   "id": "46fec1cb-3c1c-4929-82a6-346d5ba275b6",
   "metadata": {
    "execution": {
     "iopub.execute_input": "2022-04-01T18:50:28.630110Z",
     "iopub.status.busy": "2022-04-01T18:50:28.630110Z",
     "iopub.status.idle": "2022-04-01T18:50:28.640828Z",
     "shell.execute_reply": "2022-04-01T18:50:28.640222Z",
     "shell.execute_reply.started": "2022-04-01T18:50:28.630110Z"
    },
    "tags": []
   },
   "outputs": [
    {
     "name": "stdout",
     "output_type": "stream",
     "text": [
      "C:\\Users\\johan\\github\\designresolver\n"
     ]
    }
   ],
   "source": [
    "cd .."
   ]
  },
  {
   "cell_type": "code",
   "execution_count": 2,
   "id": "a03ed024-e5b5-4f0b-9635-d10bf4dc6037",
   "metadata": {
    "execution": {
     "iopub.execute_input": "2022-04-01T18:50:28.641856Z",
     "iopub.status.busy": "2022-04-01T18:50:28.641856Z",
     "iopub.status.idle": "2022-04-01T18:50:30.606456Z",
     "shell.execute_reply": "2022-04-01T18:50:30.605842Z",
     "shell.execute_reply.started": "2022-04-01T18:50:28.641856Z"
    },
    "tags": []
   },
   "outputs": [],
   "source": [
    "from polycasebuilder import generate_random_polynomials, get_arg_mapping, directed_poly_executables, eqv_to_edges_tree\n",
    "from testproblems import generate_random_prob\n",
    "from graphutils import flat_graph_formulation, draw_graph_graphical_props, intermediary_variables, edges_to_Ein_Eout, Node, VAR, COMP, SOLVER, solver_children\n",
    "from nestedgraph import build_typedgraph\n",
    "from operators import sort_scc, reorder_merge_solve\n",
    "from workflow import get_f, generate_workflow, implicit_comp_name\n",
    "from assembly import build_archi\n",
    "from executeformulations import extractvals, generate_x0, run_and_save_archi\n",
    "import pandas as pd\n",
    "from representations import bipartite_repr\n",
    "from inputresolver import resolve,invert_edges,getallvars,direct_eqs"
   ]
  },
  {
   "cell_type": "code",
   "execution_count": 12,
   "id": "868dafef-3e6b-4729-8d85-1cc53a74ba47",
   "metadata": {
    "execution": {
     "iopub.execute_input": "2022-04-01T18:55:50.277383Z",
     "iopub.status.busy": "2022-04-01T18:55:50.277383Z",
     "iopub.status.idle": "2022-04-01T18:55:50.316382Z",
     "shell.execute_reply": "2022-04-01T18:55:50.316249Z",
     "shell.execute_reply.started": "2022-04-01T18:55:50.277383Z"
    },
    "tags": []
   },
   "outputs": [
    {
     "ename": "KeyError",
     "evalue": "'x_0'",
     "output_type": "error",
     "traceback": [
      "\u001b[1;31m---------------------------------------------------------------------------\u001b[0m",
      "\u001b[1;31mKeyError\u001b[0m                                  Traceback (most recent call last)",
      "\u001b[1;32m~\\AppData\\Local\\Temp/ipykernel_20208/940291132.py\u001b[0m in \u001b[0;36m<module>\u001b[1;34m\u001b[0m\n\u001b[0;32m      4\u001b[0m \u001b[0msparsity\u001b[0m \u001b[1;33m=\u001b[0m \u001b[1;36m1.3\u001b[0m\u001b[1;31m#0.8 1.1 #1.7\u001b[0m\u001b[1;33m\u001b[0m\u001b[1;33m\u001b[0m\u001b[0m\n\u001b[0;32m      5\u001b[0m \u001b[0meqv\u001b[0m\u001b[1;33m,\u001b[0m \u001b[0mvarinc\u001b[0m\u001b[1;33m,\u001b[0m \u001b[0mdout\u001b[0m \u001b[1;33m=\u001b[0m \u001b[0mgenerate_random_prob\u001b[0m\u001b[1;33m(\u001b[0m\u001b[0mn_eqs\u001b[0m\u001b[1;33m,\u001b[0m \u001b[0mn_vars\u001b[0m\u001b[1;33m,\u001b[0m \u001b[0mseed\u001b[0m\u001b[1;33m,\u001b[0m \u001b[0msparsity\u001b[0m\u001b[1;33m)\u001b[0m\u001b[1;33m\u001b[0m\u001b[1;33m\u001b[0m\u001b[0m\n\u001b[1;32m----> 6\u001b[1;33m \u001b[0mpolynomials\u001b[0m\u001b[1;33m,\u001b[0m \u001b[0mvar_mapping\u001b[0m\u001b[1;33m,\u001b[0m \u001b[0medges\u001b[0m\u001b[1;33m,\u001b[0m \u001b[0mtree\u001b[0m\u001b[1;33m,\u001b[0m \u001b[0mcomponents\u001b[0m \u001b[1;33m=\u001b[0m \u001b[0mgenerate_random_polynomials\u001b[0m\u001b[1;33m(\u001b[0m\u001b[0meqv\u001b[0m\u001b[1;33m,\u001b[0m \u001b[0mdout\u001b[0m\u001b[1;33m,\u001b[0m \u001b[0mn_eqs\u001b[0m\u001b[1;33m)\u001b[0m\u001b[1;33m\u001b[0m\u001b[1;33m\u001b[0m\u001b[0m\n\u001b[0m\u001b[0;32m      7\u001b[0m \u001b[1;31m#symb_mapping = get_arg_mapping(var_mapping, symbol_map=True)\u001b[0m\u001b[1;33m\u001b[0m\u001b[1;33m\u001b[0m\u001b[0m\n",
      "\u001b[1;32m~\\github\\designresolver\\datastructures\\polycasebuilder.py\u001b[0m in \u001b[0;36mgenerate_random_polynomials\u001b[1;34m(eqv, output_set, n_eqs)\u001b[0m\n\u001b[0;32m     47\u001b[0m     \u001b[0mrng\u001b[0m \u001b[1;33m=\u001b[0m \u001b[0mnp\u001b[0m\u001b[1;33m.\u001b[0m\u001b[0mrandom\u001b[0m\u001b[1;33m.\u001b[0m\u001b[0mdefault_rng\u001b[0m\u001b[1;33m(\u001b[0m\u001b[1;36m12345\u001b[0m\u001b[1;33m)\u001b[0m\u001b[1;33m\u001b[0m\u001b[1;33m\u001b[0m\u001b[0m\n\u001b[0;32m     48\u001b[0m     \u001b[0mpolynomials\u001b[0m \u001b[1;33m=\u001b[0m \u001b[1;33m{\u001b[0m\u001b[0midx\u001b[0m\u001b[1;33m:\u001b[0m \u001b[0mrandom_bijective_polynomial\u001b[0m\u001b[1;33m(\u001b[0m\u001b[0mrng\u001b[0m\u001b[1;33m,\u001b[0m \u001b[1;33m(\u001b[0m\u001b[0mvar_mapping\u001b[0m\u001b[1;33m[\u001b[0m\u001b[0melt\u001b[0m\u001b[1;33m-\u001b[0m\u001b[0mn_eqs\u001b[0m\u001b[1;33m]\u001b[0m\u001b[1;33m[\u001b[0m\u001b[1;36m0\u001b[0m\u001b[1;33m]\u001b[0m \u001b[1;32mfor\u001b[0m \u001b[0melt\u001b[0m \u001b[1;32min\u001b[0m \u001b[0mvrs\u001b[0m\u001b[1;33m)\u001b[0m\u001b[1;33m)\u001b[0m \u001b[1;32mfor\u001b[0m \u001b[0midx\u001b[0m\u001b[1;33m,\u001b[0m\u001b[0mvrs\u001b[0m \u001b[1;32min\u001b[0m \u001b[0meqv\u001b[0m\u001b[1;33m.\u001b[0m\u001b[0mitems\u001b[0m\u001b[1;33m(\u001b[0m\u001b[1;33m)\u001b[0m\u001b[1;33m}\u001b[0m\u001b[1;33m\u001b[0m\u001b[1;33m\u001b[0m\u001b[0m\n\u001b[1;32m---> 49\u001b[1;33m     \u001b[0mcomponents\u001b[0m \u001b[1;33m=\u001b[0m \u001b[0mresidual_poly_executables\u001b[0m\u001b[1;33m(\u001b[0m\u001b[0mvar_mapping\u001b[0m\u001b[1;33m,\u001b[0m \u001b[0mpolynomials\u001b[0m\u001b[1;33m)\u001b[0m\u001b[1;33m\u001b[0m\u001b[1;33m\u001b[0m\u001b[0m\n\u001b[0m\u001b[0;32m     50\u001b[0m     \u001b[0mdirected_components\u001b[0m \u001b[1;33m=\u001b[0m \u001b[0mdirected_poly_executables\u001b[0m\u001b[1;33m(\u001b[0m\u001b[0mvar_mapping\u001b[0m\u001b[1;33m,\u001b[0m \u001b[0mpolynomials\u001b[0m\u001b[1;33m,\u001b[0m \u001b[0moutput_set\u001b[0m\u001b[1;33m)\u001b[0m\u001b[1;33m\u001b[0m\u001b[1;33m\u001b[0m\u001b[0m\n\u001b[0;32m     51\u001b[0m     \u001b[1;32mreturn\u001b[0m \u001b[0mpolynomials\u001b[0m\u001b[1;33m,\u001b[0m \u001b[0mvar_mapping\u001b[0m\u001b[1;33m,\u001b[0m \u001b[0medges\u001b[0m\u001b[1;33m,\u001b[0m \u001b[0mtree\u001b[0m\u001b[1;33m,\u001b[0m \u001b[0mcomponents\u001b[0m\u001b[1;33m+\u001b[0m\u001b[0mdirected_components\u001b[0m\u001b[1;33m\u001b[0m\u001b[1;33m\u001b[0m\u001b[0m\n",
      "\u001b[1;32m~\\github\\designresolver\\datastructures\\polycasebuilder.py\u001b[0m in \u001b[0;36mresidual_poly_executables\u001b[1;34m(var_mapping, polynomials)\u001b[0m\n\u001b[0;32m     25\u001b[0m \u001b[1;32mdef\u001b[0m \u001b[0mresidual_poly_executables\u001b[0m\u001b[1;33m(\u001b[0m\u001b[0mvar_mapping\u001b[0m\u001b[1;33m,\u001b[0m \u001b[0mpolynomials\u001b[0m\u001b[1;33m)\u001b[0m\u001b[1;33m:\u001b[0m\u001b[1;33m\u001b[0m\u001b[1;33m\u001b[0m\u001b[0m\n\u001b[0;32m     26\u001b[0m     \u001b[0marg_mapping\u001b[0m \u001b[1;33m=\u001b[0m \u001b[0mget_arg_mapping\u001b[0m\u001b[1;33m(\u001b[0m\u001b[0mvar_mapping\u001b[0m\u001b[1;33m)\u001b[0m\u001b[1;33m\u001b[0m\u001b[1;33m\u001b[0m\u001b[0m\n\u001b[1;32m---> 27\u001b[1;33m     \u001b[1;32mreturn\u001b[0m \u001b[1;33m[\u001b[0m\u001b[0mComponent\u001b[0m\u001b[1;33m.\u001b[0m\u001b[0mfromsympy\u001b[0m\u001b[1;33m(\u001b[0m\u001b[0mfunction\u001b[0m\u001b[1;33m,\u001b[0m \u001b[0mcomponent\u001b[0m\u001b[1;33m=\u001b[0m\u001b[0mcomponent\u001b[0m\u001b[1;33m,\u001b[0m \u001b[0marg_mapping\u001b[0m\u001b[1;33m=\u001b[0m\u001b[0marg_mapping\u001b[0m\u001b[1;33m)\u001b[0m \u001b[1;32mfor\u001b[0m \u001b[0mcomponent\u001b[0m\u001b[1;33m,\u001b[0m\u001b[0mfunction\u001b[0m \u001b[1;32min\u001b[0m \u001b[0mpolynomials\u001b[0m\u001b[1;33m.\u001b[0m\u001b[0mitems\u001b[0m\u001b[1;33m(\u001b[0m\u001b[1;33m)\u001b[0m\u001b[1;33m]\u001b[0m\u001b[1;33m\u001b[0m\u001b[1;33m\u001b[0m\u001b[0m\n\u001b[0m\u001b[0;32m     28\u001b[0m \u001b[1;33m\u001b[0m\u001b[0m\n\u001b[0;32m     29\u001b[0m \u001b[1;32mdef\u001b[0m \u001b[0meqv_to_edges_tree\u001b[0m\u001b[1;33m(\u001b[0m\u001b[0meqv\u001b[0m\u001b[1;33m,\u001b[0m \u001b[0moutput_set\u001b[0m\u001b[1;33m,\u001b[0m \u001b[0mn_eqs\u001b[0m\u001b[1;33m,\u001b[0m \u001b[0moffset\u001b[0m\u001b[1;33m=\u001b[0m\u001b[1;32mTrue\u001b[0m\u001b[1;33m)\u001b[0m\u001b[1;33m:\u001b[0m\u001b[1;33m\u001b[0m\u001b[1;33m\u001b[0m\u001b[0m\n",
      "\u001b[1;32m~\\github\\designresolver\\datastructures\\polycasebuilder.py\u001b[0m in \u001b[0;36m<listcomp>\u001b[1;34m(.0)\u001b[0m\n\u001b[0;32m     25\u001b[0m \u001b[1;32mdef\u001b[0m \u001b[0mresidual_poly_executables\u001b[0m\u001b[1;33m(\u001b[0m\u001b[0mvar_mapping\u001b[0m\u001b[1;33m,\u001b[0m \u001b[0mpolynomials\u001b[0m\u001b[1;33m)\u001b[0m\u001b[1;33m:\u001b[0m\u001b[1;33m\u001b[0m\u001b[1;33m\u001b[0m\u001b[0m\n\u001b[0;32m     26\u001b[0m     \u001b[0marg_mapping\u001b[0m \u001b[1;33m=\u001b[0m \u001b[0mget_arg_mapping\u001b[0m\u001b[1;33m(\u001b[0m\u001b[0mvar_mapping\u001b[0m\u001b[1;33m)\u001b[0m\u001b[1;33m\u001b[0m\u001b[1;33m\u001b[0m\u001b[0m\n\u001b[1;32m---> 27\u001b[1;33m     \u001b[1;32mreturn\u001b[0m \u001b[1;33m[\u001b[0m\u001b[0mComponent\u001b[0m\u001b[1;33m.\u001b[0m\u001b[0mfromsympy\u001b[0m\u001b[1;33m(\u001b[0m\u001b[0mfunction\u001b[0m\u001b[1;33m,\u001b[0m \u001b[0mcomponent\u001b[0m\u001b[1;33m=\u001b[0m\u001b[0mcomponent\u001b[0m\u001b[1;33m,\u001b[0m \u001b[0marg_mapping\u001b[0m\u001b[1;33m=\u001b[0m\u001b[0marg_mapping\u001b[0m\u001b[1;33m)\u001b[0m \u001b[1;32mfor\u001b[0m \u001b[0mcomponent\u001b[0m\u001b[1;33m,\u001b[0m\u001b[0mfunction\u001b[0m \u001b[1;32min\u001b[0m \u001b[0mpolynomials\u001b[0m\u001b[1;33m.\u001b[0m\u001b[0mitems\u001b[0m\u001b[1;33m(\u001b[0m\u001b[1;33m)\u001b[0m\u001b[1;33m]\u001b[0m\u001b[1;33m\u001b[0m\u001b[1;33m\u001b[0m\u001b[0m\n\u001b[0m\u001b[0;32m     28\u001b[0m \u001b[1;33m\u001b[0m\u001b[0m\n\u001b[0;32m     29\u001b[0m \u001b[1;32mdef\u001b[0m \u001b[0meqv_to_edges_tree\u001b[0m\u001b[1;33m(\u001b[0m\u001b[0meqv\u001b[0m\u001b[1;33m,\u001b[0m \u001b[0moutput_set\u001b[0m\u001b[1;33m,\u001b[0m \u001b[0mn_eqs\u001b[0m\u001b[1;33m,\u001b[0m \u001b[0moffset\u001b[0m\u001b[1;33m=\u001b[0m\u001b[1;32mTrue\u001b[0m\u001b[1;33m)\u001b[0m\u001b[1;33m:\u001b[0m\u001b[1;33m\u001b[0m\u001b[1;33m\u001b[0m\u001b[0m\n",
      "\u001b[1;32m~\\github\\designresolver\\datastructures\\execution.py\u001b[0m in \u001b[0;36mfromsympy\u001b[1;34m(cls, expr, tovar, ignoretovar, component, arg_mapping)\u001b[0m\n\u001b[0;32m     62\u001b[0m             \u001b[0mfx\u001b[0m \u001b[1;33m=\u001b[0m \u001b[0munitify\u001b[0m\u001b[1;33m(\u001b[0m\u001b[0mfx\u001b[0m\u001b[1;33m)\u001b[0m\u001b[1;33m\u001b[0m\u001b[1;33m\u001b[0m\u001b[0m\n\u001b[0;32m     63\u001b[0m         \u001b[0minput_names\u001b[0m \u001b[1;33m=\u001b[0m \u001b[0mtuple\u001b[0m\u001b[1;33m(\u001b[0m\u001b[0minp\u001b[0m\u001b[1;33m.\u001b[0m\u001b[0mvarid\u001b[0m \u001b[1;32mfor\u001b[0m \u001b[0minp\u001b[0m \u001b[1;32min\u001b[0m \u001b[0minputs\u001b[0m\u001b[1;33m)\u001b[0m\u001b[1;33m\u001b[0m\u001b[1;33m\u001b[0m\u001b[0m\n\u001b[1;32m---> 64\u001b[1;33m         \u001b[1;32mreturn\u001b[0m \u001b[0mcls\u001b[0m\u001b[1;33m(\u001b[0m\u001b[0mfx\u001b[0m\u001b[1;33m,\u001b[0m \u001b[0minput_names\u001b[0m\u001b[1;33m,\u001b[0m \u001b[0moutput_names\u001b[0m\u001b[1;33m,\u001b[0m \u001b[0mcomponent\u001b[0m\u001b[1;33m,\u001b[0m \u001b[0mexpr\u001b[0m\u001b[1;33m,\u001b[0m \u001b[0marg_mapping\u001b[0m\u001b[1;33m)\u001b[0m\u001b[1;33m\u001b[0m\u001b[1;33m\u001b[0m\u001b[0m\n\u001b[0m\u001b[0;32m     65\u001b[0m \u001b[1;33m\u001b[0m\u001b[0m\n\u001b[0;32m     66\u001b[0m     \u001b[1;32mdef\u001b[0m \u001b[0mevaldict\u001b[0m\u001b[1;33m(\u001b[0m\u001b[0mself\u001b[0m\u001b[1;33m,\u001b[0m \u001b[0mindict\u001b[0m\u001b[1;33m)\u001b[0m\u001b[1;33m:\u001b[0m\u001b[1;33m\u001b[0m\u001b[1;33m\u001b[0m\u001b[0m\n",
      "\u001b[1;32m~\\github\\designresolver\\datastructures\\execution.py\u001b[0m in \u001b[0;36m__init__\u001b[1;34m(self, fx, inputs, outputs, component, fxdisp, arg_mapping)\u001b[0m\n\u001b[0;32m     48\u001b[0m         \u001b[0mself\u001b[0m\u001b[1;33m.\u001b[0m\u001b[0mgradient\u001b[0m \u001b[1;33m=\u001b[0m \u001b[0mgrad\u001b[0m\u001b[1;33m(\u001b[0m\u001b[0mwrapped_fx\u001b[0m\u001b[1;33m)\u001b[0m\u001b[1;33m\u001b[0m\u001b[1;33m\u001b[0m\u001b[0m\n\u001b[0;32m     49\u001b[0m         \u001b[0mself\u001b[0m\u001b[1;33m.\u001b[0m\u001b[0mnjfx\u001b[0m \u001b[1;33m=\u001b[0m \u001b[1;32mlambda\u001b[0m \u001b[1;33m*\u001b[0m\u001b[0margs\u001b[0m\u001b[1;33m:\u001b[0m \u001b[0mself\u001b[0m\u001b[1;33m.\u001b[0m\u001b[0mgradient\u001b[0m\u001b[1;33m(\u001b[0m\u001b[0mnp\u001b[0m\u001b[1;33m.\u001b[0m\u001b[0marray\u001b[0m\u001b[1;33m(\u001b[0m\u001b[0margs\u001b[0m\u001b[1;33m)\u001b[0m\u001b[1;33m.\u001b[0m\u001b[0mastype\u001b[0m\u001b[1;33m(\u001b[0m\u001b[0mfloat\u001b[0m\u001b[1;33m)\u001b[0m\u001b[1;33m)\u001b[0m\u001b[1;33m\u001b[0m\u001b[1;33m\u001b[0m\u001b[0m\n\u001b[1;32m---> 50\u001b[1;33m         \u001b[0mself\u001b[0m\u001b[1;33m.\u001b[0m\u001b[0mmapped_names\u001b[0m \u001b[1;33m=\u001b[0m \u001b[1;33m[\u001b[0m\u001b[0marg_mapping\u001b[0m\u001b[1;33m[\u001b[0m\u001b[0minp\u001b[0m\u001b[1;33m]\u001b[0m \u001b[1;32mfor\u001b[0m \u001b[0minp\u001b[0m \u001b[1;32min\u001b[0m \u001b[0minputs\u001b[0m\u001b[1;33m]\u001b[0m \u001b[1;32mif\u001b[0m \u001b[0marg_mapping\u001b[0m \u001b[1;32melse\u001b[0m \u001b[0mself\u001b[0m\u001b[1;33m.\u001b[0m\u001b[0minputs\u001b[0m\u001b[1;33m\u001b[0m\u001b[1;33m\u001b[0m\u001b[0m\n\u001b[0m\u001b[0;32m     51\u001b[0m \u001b[1;33m\u001b[0m\u001b[0m\n\u001b[0;32m     52\u001b[0m     \u001b[1;33m@\u001b[0m\u001b[0mclassmethod\u001b[0m\u001b[1;33m\u001b[0m\u001b[1;33m\u001b[0m\u001b[0m\n",
      "\u001b[1;32m~\\github\\designresolver\\datastructures\\execution.py\u001b[0m in \u001b[0;36m<listcomp>\u001b[1;34m(.0)\u001b[0m\n\u001b[0;32m     48\u001b[0m         \u001b[0mself\u001b[0m\u001b[1;33m.\u001b[0m\u001b[0mgradient\u001b[0m \u001b[1;33m=\u001b[0m \u001b[0mgrad\u001b[0m\u001b[1;33m(\u001b[0m\u001b[0mwrapped_fx\u001b[0m\u001b[1;33m)\u001b[0m\u001b[1;33m\u001b[0m\u001b[1;33m\u001b[0m\u001b[0m\n\u001b[0;32m     49\u001b[0m         \u001b[0mself\u001b[0m\u001b[1;33m.\u001b[0m\u001b[0mnjfx\u001b[0m \u001b[1;33m=\u001b[0m \u001b[1;32mlambda\u001b[0m \u001b[1;33m*\u001b[0m\u001b[0margs\u001b[0m\u001b[1;33m:\u001b[0m \u001b[0mself\u001b[0m\u001b[1;33m.\u001b[0m\u001b[0mgradient\u001b[0m\u001b[1;33m(\u001b[0m\u001b[0mnp\u001b[0m\u001b[1;33m.\u001b[0m\u001b[0marray\u001b[0m\u001b[1;33m(\u001b[0m\u001b[0margs\u001b[0m\u001b[1;33m)\u001b[0m\u001b[1;33m.\u001b[0m\u001b[0mastype\u001b[0m\u001b[1;33m(\u001b[0m\u001b[0mfloat\u001b[0m\u001b[1;33m)\u001b[0m\u001b[1;33m)\u001b[0m\u001b[1;33m\u001b[0m\u001b[1;33m\u001b[0m\u001b[0m\n\u001b[1;32m---> 50\u001b[1;33m         \u001b[0mself\u001b[0m\u001b[1;33m.\u001b[0m\u001b[0mmapped_names\u001b[0m \u001b[1;33m=\u001b[0m \u001b[1;33m[\u001b[0m\u001b[0marg_mapping\u001b[0m\u001b[1;33m[\u001b[0m\u001b[0minp\u001b[0m\u001b[1;33m]\u001b[0m \u001b[1;32mfor\u001b[0m \u001b[0minp\u001b[0m \u001b[1;32min\u001b[0m \u001b[0minputs\u001b[0m\u001b[1;33m]\u001b[0m \u001b[1;32mif\u001b[0m \u001b[0marg_mapping\u001b[0m \u001b[1;32melse\u001b[0m \u001b[0mself\u001b[0m\u001b[1;33m.\u001b[0m\u001b[0minputs\u001b[0m\u001b[1;33m\u001b[0m\u001b[1;33m\u001b[0m\u001b[0m\n\u001b[0m\u001b[0;32m     51\u001b[0m \u001b[1;33m\u001b[0m\u001b[0m\n\u001b[0;32m     52\u001b[0m     \u001b[1;33m@\u001b[0m\u001b[0mclassmethod\u001b[0m\u001b[1;33m\u001b[0m\u001b[1;33m\u001b[0m\u001b[0m\n",
      "\u001b[1;31mKeyError\u001b[0m: 'x_0'"
     ]
    }
   ],
   "source": [
    "n_eqs = 10\n",
    "n_vars = 13\n",
    "seed = 42#8 is triang#seed 10 is nice\n",
    "sparsity = 1.3#0.8 1.1 #1.7\n",
    "eqv, varinc, dout = generate_random_prob(n_eqs, n_vars, seed, sparsity)\n",
    "polynomials, var_mapping, edges, tree, components = generate_random_polynomials(eqv, dout, n_eqs)\n",
    "#symb_mapping = get_arg_mapping(var_mapping, symbol_map=True)"
   ]
  },
  {
   "cell_type": "code",
   "execution_count": 10,
   "id": "52ad93fa-bcd7-4ee3-bebe-29b313d21ebf",
   "metadata": {
    "execution": {
     "iopub.execute_input": "2022-04-01T18:55:03.713267Z",
     "iopub.status.busy": "2022-04-01T18:55:03.713267Z",
     "iopub.status.idle": "2022-04-01T18:55:03.728198Z",
     "shell.execute_reply": "2022-04-01T18:55:03.728139Z",
     "shell.execute_reply.started": "2022-04-01T18:55:03.713267Z"
    },
    "tags": []
   },
   "outputs": [],
   "source": [
    "from graphutils import all_variables\n",
    "from compute import Var\n",
    "import numpy as np\n",
    "output_set = dout\n",
    "output_set = {key:var-n_eqs for key,var in output_set.items()}\n",
    "edges, tree= eqv_to_edges_tree(eqv, output_set, n_eqs)\n",
    "Ein, Eout, _ = edges\n",
    "all_vars = all_variables(Ein,Eout)\n",
    "var_mapping = {idx: (Var(str(Node(idx,VAR)), varid=idx), str(Node(idx,VAR))) for idx in all_vars}\n",
    "rng = np.random.default_rng(12345)\n",
    "arg_mapping = get_arg_mapping(var_mapping)"
   ]
  },
  {
   "cell_type": "code",
   "execution_count": 11,
   "id": "f867a71d-b0b8-4a03-9790-f4756c901bba",
   "metadata": {
    "execution": {
     "iopub.execute_input": "2022-04-01T18:55:06.673434Z",
     "iopub.status.busy": "2022-04-01T18:55:06.673434Z",
     "iopub.status.idle": "2022-04-01T18:55:06.691191Z",
     "shell.execute_reply": "2022-04-01T18:55:06.691191Z",
     "shell.execute_reply.started": "2022-04-01T18:55:06.673434Z"
    }
   },
   "outputs": [
    {
     "data": {
      "text/plain": [
       "{0: 'x_0',\n",
       " 1: 'x_1',\n",
       " 2: 'x_2',\n",
       " 3: 'x_3',\n",
       " 4: 'x_4',\n",
       " 5: 'x_5',\n",
       " 6: 'x_6',\n",
       " 7: 'x_7',\n",
       " 8: 'x_8',\n",
       " 9: 'x_9',\n",
       " 10: 'x_10',\n",
       " 11: 'x_11',\n",
       " 12: 'x_12'}"
      ]
     },
     "execution_count": 11,
     "metadata": {},
     "output_type": "execute_result"
    }
   ],
   "source": [
    "arg_mapping"
   ]
  },
  {
   "cell_type": "code",
   "execution_count": 5,
   "id": "3c3490f5-05f7-4330-83d5-193a025f696f",
   "metadata": {
    "execution": {
     "iopub.execute_input": "2022-04-01T18:50:05.539733Z",
     "iopub.status.busy": "2022-04-01T18:50:05.539733Z",
     "iopub.status.idle": "2022-04-01T18:50:05.558479Z",
     "shell.execute_reply": "2022-04-01T18:50:05.557800Z",
     "shell.execute_reply.started": "2022-04-01T18:50:05.539733Z"
    }
   },
   "outputs": [
    {
     "data": {
      "text/plain": [
       "{0: (13, 14, 16, 17, 19),\n",
       " 1: (10, 15, 11),\n",
       " 2: (11, 12, 15, 16, 17, 20, 21, 22, 14),\n",
       " 3: (14, 18, 19, 10),\n",
       " 4: (10, 17, 18, 12),\n",
       " 5: (12, 17, 19, 20, 13),\n",
       " 6: (20, 22, 17),\n",
       " 7: (10, 11, 19, 15),\n",
       " 8: (10, 17, 18),\n",
       " 9: (10, 13, 20)}"
      ]
     },
     "execution_count": 5,
     "metadata": {},
     "output_type": "execute_result"
    }
   ],
   "source": [
    "eqv"
   ]
  },
  {
   "cell_type": "markdown",
   "id": "1cabcc8e-5ca4-46bf-862e-79ae540e8a92",
   "metadata": {},
   "source": [
    "Optimize/presolve structure"
   ]
  },
  {
   "cell_type": "code",
   "execution_count": 4,
   "id": "d4ec0923-2e18-4622-9553-921c72c33bea",
   "metadata": {
    "execution": {
     "iopub.execute_input": "2022-03-29T18:05:36.156996Z",
     "iopub.status.busy": "2022-03-29T18:05:36.156004Z",
     "iopub.status.idle": "2022-03-29T18:05:36.171306Z",
     "shell.execute_reply": "2022-03-29T18:05:36.170295Z",
     "shell.execute_reply.started": "2022-03-29T18:05:36.156996Z"
    },
    "tags": []
   },
   "outputs": [],
   "source": [
    "eqs=direct_eqs(eqv, dout)\n",
    "_, edges_original = bipartite_repr(eqv)\n",
    "avrs = getallvars(eqs, sympy=False)\n",
    "eqns = eqs.keys()\n",
    "graph_edges = invert_edges(edges_original)"
   ]
  },
  {
   "cell_type": "code",
   "execution_count": 5,
   "id": "908587e7-43cc-4d7c-a929-865c69d78f71",
   "metadata": {
    "execution": {
     "iopub.execute_input": "2022-03-29T18:05:37.211653Z",
     "iopub.status.busy": "2022-03-29T18:05:37.210750Z",
     "iopub.status.idle": "2022-03-29T18:05:37.383753Z",
     "shell.execute_reply": "2022-03-29T18:05:37.382849Z",
     "shell.execute_reply.started": "2022-03-29T18:05:37.210750Z"
    },
    "tags": []
   },
   "outputs": [
    {
     "name": "stdout",
     "output_type": "stream",
     "text": [
      "Set parameter Username\n",
      "Academic license - for non-commercial use only - expires 2023-02-25\n"
     ]
    }
   ],
   "source": [
    "output = resolve(eqns, avrs, graph_edges, 50)"
   ]
  },
  {
   "cell_type": "code",
   "execution_count": 6,
   "id": "4085a2d3-4392-46ab-8b2f-26f17e5ae0de",
   "metadata": {
    "execution": {
     "iopub.execute_input": "2022-03-29T18:05:37.616778Z",
     "iopub.status.busy": "2022-03-29T18:05:37.616778Z",
     "iopub.status.idle": "2022-03-29T18:05:37.633727Z",
     "shell.execute_reply": "2022-03-29T18:05:37.633727Z",
     "shell.execute_reply.started": "2022-03-29T18:05:37.616778Z"
    },
    "tags": []
   },
   "outputs": [],
   "source": [
    "soutput = sorted(output, key=lambda x: x['CLEN'])"
   ]
  },
  {
   "cell_type": "code",
   "execution_count": 7,
   "id": "34b7f512-8f28-467c-a2ea-e2522f4e67e3",
   "metadata": {
    "execution": {
     "iopub.execute_input": "2022-03-29T18:05:38.187221Z",
     "iopub.status.busy": "2022-03-29T18:05:38.187221Z",
     "iopub.status.idle": "2022-03-29T18:05:38.194397Z",
     "shell.execute_reply": "2022-03-29T18:05:38.194299Z",
     "shell.execute_reply.started": "2022-03-29T18:05:38.187221Z"
    },
    "tags": []
   },
   "outputs": [
    {
     "data": {
      "text/plain": [
       "[2.0]"
      ]
     },
     "execution_count": 7,
     "metadata": {},
     "output_type": "execute_result"
    }
   ],
   "source": [
    "soutput[0]['CLEN']"
   ]
  },
  {
   "cell_type": "code",
   "execution_count": 8,
   "id": "29d417a5-1f88-4a0b-a452-bd35fd3a45e1",
   "metadata": {
    "execution": {
     "iopub.execute_input": "2022-03-29T18:05:38.610629Z",
     "iopub.status.busy": "2022-03-29T18:05:38.609632Z",
     "iopub.status.idle": "2022-03-29T18:05:38.613679Z",
     "shell.execute_reply": "2022-03-29T18:05:38.613679Z",
     "shell.execute_reply.started": "2022-03-29T18:05:38.610629Z"
    },
    "tags": []
   },
   "outputs": [],
   "source": [
    "out_opt = {eq:var-n_eqs for eq,var in soutput[0]['SOL']}"
   ]
  },
  {
   "cell_type": "code",
   "execution_count": 9,
   "id": "d73b8be9-1580-40b6-99d0-5b4f650aaaaf",
   "metadata": {
    "execution": {
     "iopub.execute_input": "2022-03-29T18:05:39.045328Z",
     "iopub.status.busy": "2022-03-29T18:05:39.045328Z",
     "iopub.status.idle": "2022-03-29T18:05:39.052133Z",
     "shell.execute_reply": "2022-03-29T18:05:39.052133Z",
     "shell.execute_reply.started": "2022-03-29T18:05:39.045328Z"
    },
    "tags": []
   },
   "outputs": [],
   "source": [
    "edges_opt, tree_opt = eqv_to_edges_tree(eqv, out_opt, n_eqs)"
   ]
  },
  {
   "cell_type": "code",
   "execution_count": 10,
   "id": "f6104dc9-3fa2-4d91-9b6c-6e035301c8f3",
   "metadata": {
    "execution": {
     "iopub.execute_input": "2022-03-29T18:05:39.428271Z",
     "iopub.status.busy": "2022-03-29T18:05:39.427291Z",
     "iopub.status.idle": "2022-03-29T18:05:40.030723Z",
     "shell.execute_reply": "2022-03-29T18:05:40.028763Z",
     "shell.execute_reply.started": "2022-03-29T18:05:39.428271Z"
    },
    "tags": []
   },
   "outputs": [],
   "source": [
    "new_components = directed_poly_executables(var_mapping, polynomials, out_opt)"
   ]
  },
  {
   "cell_type": "code",
   "execution_count": 11,
   "id": "788c784f-8808-460b-b698-1fa70aba5b77",
   "metadata": {
    "execution": {
     "iopub.execute_input": "2022-03-29T18:05:40.460780Z",
     "iopub.status.busy": "2022-03-29T18:05:40.460780Z",
     "iopub.status.idle": "2022-03-29T18:05:40.468587Z",
     "shell.execute_reply": "2022-03-29T18:05:40.467782Z",
     "shell.execute_reply.started": "2022-03-29T18:05:40.460780Z"
    },
    "tags": []
   },
   "outputs": [],
   "source": [
    "components += new_components"
   ]
  },
  {
   "cell_type": "code",
   "execution_count": 129,
   "id": "9efbd093-251a-46f9-ae07-1dc42649173c",
   "metadata": {
    "execution": {
     "iopub.execute_input": "2022-03-31T12:13:37.917329Z",
     "iopub.status.busy": "2022-03-31T12:13:37.916326Z",
     "iopub.status.idle": "2022-03-31T12:13:37.996687Z",
     "shell.execute_reply": "2022-03-31T12:13:37.995680Z",
     "shell.execute_reply.started": "2022-03-31T12:13:37.917329Z"
    }
   },
   "outputs": [
    {
     "data": {
      "text/plain": [
       "[((7, 4, 6, 9, 3), 0, (None,), '-0.3*x_3*x_7*x_9 + 0.2*x_4*x_6 - 0.6'),\n",
       " ((5, 1, 0), 1, (None,), '0.9*x_0*x_1*x_5 - 0.5'),\n",
       " ((5, 10, 11, 2, 12, 7, 4, 1, 6), 2, (None,), '-0.3*x_1*x_11*x_4 - 0.7*x_10 - 0.8*x_12*x_2*x_6 - 0.6*x_5*x_7 - 0.3'),\n",
       " ((8, 4, 0, 9), 3, (None,), '-0.6*x_0*x_8 + 0.6*x_4*x_9 - 0.7'),\n",
       " ((7, 8, 0, 2), 4, (None,), '0.7*x_0*x_2*x_8 + 0.2*x_7 + 0.9'),\n",
       " ((7, 10, 9, 2, 3), 5, (None,), '0.1*x_10*x_2*x_3 + 0.9*x_7*x_9 - 0.5'),\n",
       " ((7, 12, 10), 6, (None,), '-0.3*x_10*x_12*x_7 + 0.8'),\n",
       " ((5, 1, 9, 0), 7, (None,), '-0.5*x_0*x_1 - 0.3*x_5*x_9 - 1.0'),\n",
       " ((7, 8, 0), 8, (None,), '-0.4*x_0*x_7*x_8 - 0.9'),\n",
       " ((10, 3, 0), 9, (None,), '-0.1*x_0 - 0.4*x_10*x_3 - 0.7'),\n",
       " ((7, 4, 6, 3), 0, (9,), '(0.666666666666667*x_4*x_6 - 2.0)/(x_3*x_7)'),\n",
       " ((5, 0), 1, (1,), '0.555555555555556/(x_0*x_5)'),\n",
       " ((5, 11, 10, 2, 12, 7, 1, 6), 2, (4,), '-(2.33333333333333*x_10 + 2.66666666666667*x_12*x_2*x_6 + 2.0*x_5*x_7 + 1.0)/(x_1*x_11)'),\n",
       " ((4, 8, 9), 3, (0,), '(x_4*x_9 - 1.16666666666667)/x_8'),\n",
       " ((7, 8, 0), 4, (2,), '-(0.285714285714286*x_7 + 1.28571428571429)/(x_0*x_8)'),\n",
       " ((7, 10, 9, 2), 5, (3,), '(-9.0*x_7*x_9 + 5.0)/(x_10*x_2)'),\n",
       " ((12, 10), 6, (7,), '2.66666666666667/(x_10*x_12)'),\n",
       " ((0, 1, 9), 7, (5,), '-(1.66666666666667*x_0*x_1 + 3.33333333333333)/x_9'),\n",
       " ((7, 0), 8, (8,), '-2.25/(x_0*x_7)'),\n",
       " ((3, 0), 9, (10,), '-(0.25*x_0 + 1.75)/x_3'),\n",
       " ((7, 4, 3, 9), 0, (6,), '(1.5*x_3*x_7*x_9 + 3.0)/x_4'),\n",
       " ((5, 1), 1, (0,), '0.555555555555556/(x_1*x_5)'),\n",
       " ((5, 10, 2, 12, 7, 4, 1, 6), 2, (11,), '-(2.33333333333333*x_10 + 2.66666666666667*x_12*x_2*x_6 + 2.0*x_5*x_7 + 1.0)/(x_1*x_4)'),\n",
       " ((0, 8, 9), 3, (4,), '(x_0*x_8 + 1.16666666666667)/x_9'),\n",
       " ((7, 8, 0), 4, (2,), '-(0.285714285714286*x_7 + 1.28571428571429)/(x_0*x_8)'),\n",
       " ((7, 10, 9, 2), 5, (3,), '(-9.0*x_7*x_9 + 5.0)/(x_10*x_2)'),\n",
       " ((7, 10), 6, (12,), '2.66666666666667/(x_10*x_7)'),\n",
       " ((5, 1, 0), 7, (9,), '-(1.66666666666667*x_0*x_1 + 3.33333333333333)/x_5'),\n",
       " ((7, 0), 8, (8,), '-2.25/(x_0*x_7)'),\n",
       " ((3, 0), 9, (10,), '-(0.25*x_0 + 1.75)/x_3')]"
      ]
     },
     "execution_count": 129,
     "metadata": {},
     "output_type": "execute_result"
    }
   ],
   "source": [
    "components"
   ]
  },
  {
   "cell_type": "code",
   "execution_count": 12,
   "id": "a5781728-c774-418e-9061-7c9ba09dcdf6",
   "metadata": {
    "execution": {
     "iopub.execute_input": "2022-03-29T18:05:40.913950Z",
     "iopub.status.busy": "2022-03-29T18:05:40.912940Z",
     "iopub.status.idle": "2022-03-29T18:05:40.934790Z",
     "shell.execute_reply": "2022-03-29T18:05:40.933676Z",
     "shell.execute_reply.started": "2022-03-29T18:05:40.913950Z"
    },
    "tags": []
   },
   "outputs": [],
   "source": [
    "G = flat_graph_formulation(*edges)\n",
    "merge_order = sort_scc(G)\n",
    "nedges, ntree = reorder_merge_solve(edges, tree, merge_order, 1, True)"
   ]
  },
  {
   "cell_type": "markdown",
   "id": "f521c4a3-0a09-4197-8765-8009d79952e5",
   "metadata": {},
   "source": [
    "# Find sources of a nested tree"
   ]
  },
  {
   "cell_type": "code",
   "execution_count": 13,
   "id": "c43dc407-9343-45e8-a9f4-ee8471d2f06c",
   "metadata": {
    "execution": {
     "iopub.execute_input": "2022-03-29T18:05:43.995145Z",
     "iopub.status.busy": "2022-03-29T18:05:43.995145Z",
     "iopub.status.idle": "2022-03-29T18:05:44.003432Z",
     "shell.execute_reply": "2022-03-29T18:05:44.002309Z",
     "shell.execute_reply.started": "2022-03-29T18:05:43.995145Z"
    },
    "tags": []
   },
   "outputs": [],
   "source": [
    "from collections import defaultdict"
   ]
  },
  {
   "cell_type": "code",
   "execution_count": 17,
   "id": "7f132b03-671a-474a-ab7b-29e334f15041",
   "metadata": {
    "execution": {
     "iopub.execute_input": "2022-03-29T18:06:00.559768Z",
     "iopub.status.busy": "2022-03-29T18:06:00.558769Z",
     "iopub.status.idle": "2022-03-29T18:06:00.569673Z",
     "shell.execute_reply": "2022-03-29T18:06:00.569143Z",
     "shell.execute_reply.started": "2022-03-29T18:06:00.558769Z"
    },
    "tags": []
   },
   "outputs": [],
   "source": [
    "def dfs_tree(tree, branch):\n",
    "    childrenmap = defaultdict(list)\n",
    "    for key,val in tree.items():\n",
    "        childrenmap[val].append(key)\n",
    "    visited = set()\n",
    "    q = [branch]\n",
    "    while q:\n",
    "        elt = q.pop()\n",
    "        visited.add(elt)\n",
    "        q.extend(childrenmap.get(elt, []))\n",
    "    return visited\n",
    "\n",
    "def nested_sources(edges, trees, branch):\n",
    "    Ein,Eout = edges_to_Ein_Eout(edges)\n",
    "    Ftree,_,Vtree=trees\n",
    "    descendants = dfs_tree(Vtree, branch)\n",
    "    inputs_strictly_below = solver_children(Vtree, descendants-{branch}, solverlist=True)\n",
    "    comps_below = solver_children(Ftree, descendants-{branch}, solverlist=True)\n",
    "    srcs = sources(Ein, Eout, filterto=comps_below)\n",
    "    return srcs - set(inputs_strictly_below)"
   ]
  },
  {
   "cell_type": "code",
   "execution_count": 18,
   "id": "c352940f-7439-4d9d-a67c-b4732d7690b8",
   "metadata": {
    "execution": {
     "iopub.execute_input": "2022-03-29T18:06:00.942811Z",
     "iopub.status.busy": "2022-03-29T18:06:00.941699Z",
     "iopub.status.idle": "2022-03-29T18:06:00.957481Z",
     "shell.execute_reply": "2022-03-29T18:06:00.956689Z",
     "shell.execute_reply.started": "2022-03-29T18:06:00.942811Z"
    },
    "tags": []
   },
   "outputs": [],
   "source": [
    "Stree = {\n",
    "    5: 3,\n",
    "    2: 1,\n",
    "    3: 2,\n",
    "    4: 2,\n",
    "    6: 1\n",
    "}"
   ]
  },
  {
   "cell_type": "code",
   "execution_count": 19,
   "id": "965cb5ca-d7da-4e25-bbe7-69ead34e2fa5",
   "metadata": {
    "execution": {
     "iopub.execute_input": "2022-03-29T18:06:01.214253Z",
     "iopub.status.busy": "2022-03-29T18:06:01.214253Z",
     "iopub.status.idle": "2022-03-29T18:06:01.237391Z",
     "shell.execute_reply": "2022-03-29T18:06:01.236079Z",
     "shell.execute_reply.started": "2022-03-29T18:06:01.214253Z"
    },
    "tags": []
   },
   "outputs": [
    {
     "data": {
      "text/plain": [
       "{1, 2, 3, 4, 5, 6}"
      ]
     },
     "execution_count": 19,
     "metadata": {},
     "output_type": "execute_result"
    }
   ],
   "source": [
    "dfs_tree(Stree, 1)"
   ]
  },
  {
   "cell_type": "markdown",
   "id": "af57ba40-650a-4805-a140-14c5a9f9dc7b",
   "metadata": {},
   "source": [
    "Added presolve structure\n",
    "# Build workflow"
   ]
  },
  {
   "cell_type": "code",
   "execution_count": 20,
   "id": "7564207f-c809-45b8-bc13-504b399cce6e",
   "metadata": {
    "execution": {
     "iopub.execute_input": "2022-03-29T18:10:00.050210Z",
     "iopub.status.busy": "2022-03-29T18:10:00.050210Z",
     "iopub.status.idle": "2022-03-29T18:10:00.062541Z",
     "shell.execute_reply": "2022-03-29T18:10:00.062040Z",
     "shell.execute_reply.started": "2022-03-29T18:10:00.050210Z"
    },
    "tags": []
   },
   "outputs": [],
   "source": [
    "def get_solver_implicit_system(groups, tree, solver_idx):\n",
    "    s = groups[str(Node(solver_idx, SOLVER))]\n",
    "    name = implicit_comp_name((Node(idx, COMP) for idx in solver_children(tree[0], solver_idx)))\n",
    "    return getattr(s, name)"
   ]
  },
  {
   "cell_type": "code",
   "execution_count": 25,
   "id": "889949e1-720a-4d86-b7f1-c18866b79d11",
   "metadata": {
    "execution": {
     "iopub.execute_input": "2022-03-29T18:15:33.512703Z",
     "iopub.status.busy": "2022-03-29T18:15:33.512703Z",
     "iopub.status.idle": "2022-03-29T18:15:33.544178Z",
     "shell.execute_reply": "2022-03-29T18:15:33.543374Z",
     "shell.execute_reply.started": "2022-03-29T18:15:33.512703Z"
    },
    "tags": []
   },
   "outputs": [],
   "source": [
    "G = flat_graph_formulation(*edges)\n",
    "merge_order = sort_scc(G)\n",
    "nedges, ntree = reorder_merge_solve(edges, tree, merge_order, 1, True)\n",
    "lookup_f = get_f(components, nedges)\n",
    "workflow = generate_workflow(lookup_f, nedges, ntree, {2: {'maxiter':100}})\n",
    "prob, mdao_in, groups = build_archi(nedges, ntree, workflow)\n",
    "solver_idx = 2\n",
    "impl_system = get_solver_implicit_system(groups, ntree, solver_idx) # we use this for counting\n",
    "scc_guess_vars = [str(Node(vr, VAR)) for vr in solver_children(ntree[2], solver_idx)]"
   ]
  },
  {
   "cell_type": "code",
   "execution_count": 27,
   "id": "a52f7ef2-d996-4475-bc33-41d980b7ea90",
   "metadata": {
    "execution": {
     "iopub.execute_input": "2022-03-29T18:15:46.305117Z",
     "iopub.status.busy": "2022-03-29T18:15:46.305117Z",
     "iopub.status.idle": "2022-03-29T18:15:46.319866Z",
     "shell.execute_reply": "2022-03-29T18:15:46.319866Z",
     "shell.execute_reply.started": "2022-03-29T18:15:46.305117Z"
    },
    "tags": []
   },
   "outputs": [
    {
     "data": {
      "text/plain": [
       "['x_10', 'x_2', 'x_9', 'x_5', 'x_4', 'x_8', 'x_0', 'x_3', 'x_7', 'x_1']"
      ]
     },
     "execution_count": 27,
     "metadata": {},
     "output_type": "execute_result"
    }
   ],
   "source": [
    "scc_guess_vars"
   ]
  },
  {
   "cell_type": "code",
   "execution_count": 51,
   "id": "655241c0-e696-41b5-8daf-2529786cc290",
   "metadata": {
    "execution": {
     "iopub.execute_input": "2022-03-29T19:01:55.181445Z",
     "iopub.status.busy": "2022-03-29T19:01:55.181445Z",
     "iopub.status.idle": "2022-03-29T19:01:55.190051Z",
     "shell.execute_reply": "2022-03-29T19:01:55.189024Z",
     "shell.execute_reply.started": "2022-03-29T19:01:55.181445Z"
    },
    "tags": []
   },
   "outputs": [],
   "source": [
    "import numpy as np\n",
    "def generate_x0(varnames=None, optres=None, rand_range=(10,20), fixed_direction=None):\n",
    "    direction = lambda : fixed_direction if fixed_direction else np.random.choice([-1,1]) \n",
    "    varnames = optres.keys() if optres else varnames\n",
    "    x0 = {name:(optres.get(name, None) if optres else 0.1)+np.random.uniform(*rand_range)*direction() for name in varnames}\n",
    "    return x0"
   ]
  },
  {
   "cell_type": "code",
   "execution_count": 75,
   "id": "3b6fb457-e4f0-4fa3-af8a-fdecac92afa6",
   "metadata": {
    "execution": {
     "iopub.execute_input": "2022-03-29T19:08:37.105873Z",
     "iopub.status.busy": "2022-03-29T19:08:37.105873Z",
     "iopub.status.idle": "2022-03-29T19:08:37.114602Z",
     "shell.execute_reply": "2022-03-29T19:08:37.114023Z",
     "shell.execute_reply.started": "2022-03-29T19:08:37.105873Z"
    },
    "tags": []
   },
   "outputs": [],
   "source": [
    "def perturb_inputs(root_ins, root_rand_range, solver_ins, solver_rand_range, xref=None):\n",
    "    if xref:\n",
    "        xref = dict(xref) # copy for immutability\n",
    "        x0_solvers = {key:xref[key] for key in solver_ins} \n",
    "        x0_solvers = generate_x0(optres=x0_solvers, rand_range=solver_rand_range)\n",
    "    else:\n",
    "        xref = generate_x0(root_ins, rand_range=root_rand_range)\n",
    "        x0_solvers = generate_x0(solver_ins, rand_range=solver_rand_range)\n",
    "    xref.update(x0_solvers)\n",
    "    return xref"
   ]
  },
  {
   "cell_type": "code",
   "execution_count": 76,
   "id": "6ee1e9f0-10bd-4209-88f3-379bef8065a5",
   "metadata": {
    "execution": {
     "iopub.execute_input": "2022-03-29T19:08:40.802879Z",
     "iopub.status.busy": "2022-03-29T19:08:40.801873Z",
     "iopub.status.idle": "2022-03-29T19:08:40.811325Z",
     "shell.execute_reply": "2022-03-29T19:08:40.809534Z",
     "shell.execute_reply.started": "2022-03-29T19:08:40.802879Z"
    },
    "tags": []
   },
   "outputs": [],
   "source": [
    "x0 = {'x0': 1, 'x1': 1, 'x2':1, 'x3':1}"
   ]
  },
  {
   "cell_type": "code",
   "execution_count": 77,
   "id": "f188e91b-941b-41f3-9315-745b13180710",
   "metadata": {
    "execution": {
     "iopub.execute_input": "2022-03-29T19:08:44.186650Z",
     "iopub.status.busy": "2022-03-29T19:08:44.186650Z",
     "iopub.status.idle": "2022-03-29T19:08:44.192452Z",
     "shell.execute_reply": "2022-03-29T19:08:44.191879Z",
     "shell.execute_reply.started": "2022-03-29T19:08:44.186650Z"
    },
    "tags": []
   },
   "outputs": [
    {
     "data": {
      "text/plain": [
       "{'x0': 1, 'x1': 4.5968487321092955, 'x2': -7.597068869881916, 'x3': 1}"
      ]
     },
     "execution_count": 77,
     "metadata": {},
     "output_type": "execute_result"
    }
   ],
   "source": [
    "perturb_inputs(['x0','x3'], (0,0), ['x2','x1'], (0,10), x0)"
   ]
  },
  {
   "cell_type": "code",
   "execution_count": 117,
   "id": "014a3bc2-f9e3-4c7f-97d7-d21cbb81189a",
   "metadata": {
    "execution": {
     "iopub.execute_input": "2022-03-29T19:19:15.862221Z",
     "iopub.status.busy": "2022-03-29T19:19:15.862221Z",
     "iopub.status.idle": "2022-03-29T19:19:15.886425Z",
     "shell.execute_reply": "2022-03-29T19:19:15.885821Z",
     "shell.execute_reply.started": "2022-03-29T19:19:15.862221Z"
    },
    "tags": []
   },
   "outputs": [],
   "source": [
    "def run_full(edges, tree, components, xref=None):\n",
    "    optres_all = []\n",
    "    solver_idx = 2\n",
    "    G = flat_graph_formulation(*edges)\n",
    "    merge_order = sort_scc(G)\n",
    "    nedges, ntree = reorder_merge_solve(edges, tree, merge_order, 1, True)\n",
    "    lookup_f = get_f(components, nedges)\n",
    "    workflow = generate_workflow(lookup_f, nedges, ntree, {2:{'maxiter':100}})\n",
    "    prob, mdao_in, groups = build_archi(nedges, ntree, workflow)\n",
    "    impl_system = get_solver_implicit_system(groups, ntree, solver_idx) # we use this for counting\n",
    "    scc_guess_vars = [str(Node(vr, VAR)) for vr in solver_children(ntree[2], solver_idx)]\n",
    "    prob.setup();\n",
    "    root_rand_range = (0,0)\n",
    "    solver_rand_range = (0,1)\n",
    "    x0_in = perturb_inputs(mdao_in, root_rand_range, scc_guess_vars, solver_rand_range, xref)\n",
    "    print(x0_in)\n",
    "    optres, optres_save = run_and_save_archi(prob, x0_in, symb_mapping)\n",
    "    optres_save.update({'count': impl_system.iter_count_apply}) \n",
    "    optres_all.append(optres_save)\n",
    "    return optres, x0_in, prob"
   ]
  },
  {
   "cell_type": "code",
   "execution_count": 118,
   "id": "a3383b78-baf7-4ee5-ac46-95e29583431c",
   "metadata": {
    "execution": {
     "iopub.execute_input": "2022-03-29T19:19:16.259401Z",
     "iopub.status.busy": "2022-03-29T19:19:16.258300Z",
     "iopub.status.idle": "2022-03-29T19:19:17.910294Z",
     "shell.execute_reply": "2022-03-29T19:19:17.909674Z",
     "shell.execute_reply.started": "2022-03-29T19:19:16.259401Z"
    },
    "tags": []
   },
   "outputs": [
    {
     "name": "stdout",
     "output_type": "stream",
     "text": [
      "{'x_11': 0.1, 'x_6': 0.1, 'x_12': 0.1, 'x_10': -0.3866379968583621, 'x_2': 0.2877212286612516, 'x_9': 0.7494588832440994, 'x_5': 0.5413092228959531, 'x_4': -0.6643726086611824, 'x_8': 0.3740864619922246, 'x_0': 0.2190953574782604, 'x_3': 0.7287879088794833, 'x_7': 0.5921359986061542, 'x_1': -0.16581911753550724}\n",
      "\n",
      "===\n",
      "s_1\n",
      "===\n",
      "+  \n",
      "+  =======\n",
      "+  s_1.s_2\n",
      "+  =======\n",
      "+  NL: NewtonSolver 'NL: Newton' on system 's_1.s_2' failed to converge in 100 iterations.\n",
      "+  \n",
      "+  =======\n",
      "+  s_1.s_2\n",
      "+  =======\n",
      "+  NL: NewtonSolver 'NL: Newton' on system 's_1.s_2' failed to converge in 100 iterations.\n",
      "+  \n",
      "+  =======\n",
      "+  s_1.s_2\n",
      "+  =======\n",
      "+  NL: Newton Converged in 56 iterations\n",
      "NL: Newton Converged in 2 iterations\n"
     ]
    }
   ],
   "source": [
    "optres, x0_in, prob = run_full(edges, tree, components)"
   ]
  },
  {
   "cell_type": "markdown",
   "id": "34096ea7-e88f-4e10-ba76-bd1f9fa1ebde",
   "metadata": {},
   "source": [
    "# Checking results"
   ]
  },
  {
   "cell_type": "code",
   "execution_count": 119,
   "id": "c761aac5-fb3e-42a6-aedb-0c9e4c2eae06",
   "metadata": {
    "execution": {
     "iopub.execute_input": "2022-03-29T19:19:19.359940Z",
     "iopub.status.busy": "2022-03-29T19:19:19.358935Z",
     "iopub.status.idle": "2022-03-29T19:19:19.381317Z",
     "shell.execute_reply": "2022-03-29T19:19:19.380891Z",
     "shell.execute_reply.started": "2022-03-29T19:19:19.359940Z"
    },
    "tags": []
   },
   "outputs": [],
   "source": [
    "outs = extractvals(prob, get_arg_mapping(var_mapping, symbol_map=True))"
   ]
  },
  {
   "cell_type": "code",
   "execution_count": 120,
   "id": "ce2b209b-ad57-4572-906d-742458ae0924",
   "metadata": {
    "execution": {
     "iopub.execute_input": "2022-03-29T19:19:19.723186Z",
     "iopub.status.busy": "2022-03-29T19:19:19.722189Z",
     "iopub.status.idle": "2022-03-29T19:19:19.736375Z",
     "shell.execute_reply": "2022-03-29T19:19:19.736233Z",
     "shell.execute_reply.started": "2022-03-29T19:19:19.723186Z"
    },
    "tags": []
   },
   "outputs": [],
   "source": [
    "comps_res = [comp for comp in components if comp.outputs == (None,)]"
   ]
  },
  {
   "cell_type": "code",
   "execution_count": 121,
   "id": "28c64854-09e5-47ab-aff8-463e26c2900f",
   "metadata": {
    "execution": {
     "iopub.execute_input": "2022-03-29T19:19:20.079951Z",
     "iopub.status.busy": "2022-03-29T19:19:20.078932Z",
     "iopub.status.idle": "2022-03-29T19:19:20.096189Z",
     "shell.execute_reply": "2022-03-29T19:19:20.096097Z",
     "shell.execute_reply.started": "2022-03-29T19:19:20.079951Z"
    },
    "tags": []
   },
   "outputs": [
    {
     "data": {
      "text/plain": [
       "[2.6210467130027837e-10,\n",
       " -3.426996020294837e-09,\n",
       " 1.7908147187384316e-10,\n",
       " 2.4409152477034013e-09,\n",
       " -1.7872260449358635e-08,\n",
       " 7.86056664203727e-10,\n",
       " 2.1685986340003183e-12,\n",
       " -6.848480338383922e-09,\n",
       " -1.6916194001126428e-08,\n",
       " 2.510305296965498e-10]"
      ]
     },
     "execution_count": 121,
     "metadata": {},
     "output_type": "execute_result"
    }
   ],
   "source": [
    "[elt.evaldict(outs) for elt in comps_res]"
   ]
  },
  {
   "cell_type": "code",
   "execution_count": 122,
   "id": "b2c0e084-c58e-4bdc-8d83-8ef951414e25",
   "metadata": {
    "execution": {
     "iopub.execute_input": "2022-03-29T19:19:20.545545Z",
     "iopub.status.busy": "2022-03-29T19:19:20.544558Z",
     "iopub.status.idle": "2022-03-29T19:19:20.562335Z",
     "shell.execute_reply": "2022-03-29T19:19:20.561836Z",
     "shell.execute_reply.started": "2022-03-29T19:19:20.545545Z"
    },
    "tags": []
   },
   "outputs": [
    {
     "data": {
      "text/plain": [
       "{'x_11': 0.1,\n",
       " 'x_6': 0.1,\n",
       " 'x_12': 0.1,\n",
       " 'x_10': -0.3866379968583621,\n",
       " 'x_2': 0.2877212286612516,\n",
       " 'x_9': 0.7494588832440994,\n",
       " 'x_5': 0.5413092228959531,\n",
       " 'x_4': -0.6643726086611824,\n",
       " 'x_8': 0.3740864619922246,\n",
       " 'x_0': 0.2190953574782604,\n",
       " 'x_3': 0.7287879088794833,\n",
       " 'x_7': 0.5921359986061542,\n",
       " 'x_1': -0.16581911753550724}"
      ]
     },
     "execution_count": 122,
     "metadata": {},
     "output_type": "execute_result"
    }
   ],
   "source": [
    "x0_in"
   ]
  },
  {
   "cell_type": "code",
   "execution_count": 123,
   "id": "c3dfa948-1510-478a-999e-04197612ca8b",
   "metadata": {
    "execution": {
     "iopub.execute_input": "2022-03-29T19:19:21.805246Z",
     "iopub.status.busy": "2022-03-29T19:19:21.804248Z",
     "iopub.status.idle": "2022-03-29T19:19:21.825208Z",
     "shell.execute_reply": "2022-03-29T19:19:21.825208Z",
     "shell.execute_reply.started": "2022-03-29T19:19:21.805246Z"
    },
    "tags": []
   },
   "outputs": [
    {
     "data": {
      "text/plain": [
       "{'x_0': -13.226201359630176,\n",
       " 'x_1': 0.15067652764667222,\n",
       " 'x_2': 5.475009162529712,\n",
       " 'x_3': -0.5364875426161012,\n",
       " 'x_4': 33.149295768146935,\n",
       " 'x_5': -0.27877046428001967,\n",
       " 'x_6': 0.1,\n",
       " 'x_7': -9.191051589338105,\n",
       " 'x_8': -0.018508966777741397,\n",
       " 'x_9': 0.042579184854124395,\n",
       " 'x_10': -2.9013727545092345,\n",
       " 'x_11': 0.1,\n",
       " 'x_12': 0.1}"
      ]
     },
     "execution_count": 123,
     "metadata": {},
     "output_type": "execute_result"
    }
   ],
   "source": [
    "optres"
   ]
  },
  {
   "cell_type": "code",
   "execution_count": 126,
   "id": "1f53c5a9-47fa-4ac1-bd53-80a7d3a7c1a0",
   "metadata": {
    "execution": {
     "iopub.execute_input": "2022-03-29T19:19:26.973624Z",
     "iopub.status.busy": "2022-03-29T19:19:26.973624Z",
     "iopub.status.idle": "2022-03-29T19:19:27.494400Z",
     "shell.execute_reply": "2022-03-29T19:19:27.494400Z",
     "shell.execute_reply.started": "2022-03-29T19:19:26.973624Z"
    },
    "tags": []
   },
   "outputs": [
    {
     "name": "stdout",
     "output_type": "stream",
     "text": [
      "{'x_0': -13.226201359630176, 'x_1': 0.15067652764667222, 'x_2': 5.475009162529712, 'x_3': -0.6263085803537081, 'x_4': 33.149295768146935, 'x_5': -0.27877046428001967, 'x_6': 0.1, 'x_7': -9.191051589338105, 'x_8': -0.018508966777741397, 'x_9': 0.042579184854124395, 'x_10': -3.819983662447156, 'x_11': 0.1, 'x_12': 0.1}\n",
      "\n",
      "===\n",
      "s_1\n",
      "===\n",
      "+  \n",
      "+  =======\n",
      "+  s_1.s_2\n",
      "+  =======\n",
      "+  NL: NewtonSolver 'NL: Newton' on system 's_1.s_2' failed to converge in 100 iterations.\n",
      "+  \n",
      "+  =======\n",
      "+  s_1.s_2\n",
      "+  =======\n",
      "+  NL: NewtonSolver 'NL: Newton' on system 's_1.s_2' failed to converge in 100 iterations.\n",
      "+  \n",
      "+  =======\n",
      "+  s_1.s_2\n",
      "+  =======\n",
      "+  NL: NewtonSolver 'NL: Newton' on system 's_1.s_2' failed to converge in 100 iterations.\n",
      "NL: Newton Converged in 2 iterations\n"
     ]
    }
   ],
   "source": [
    "optres2, x0_in2, prob2 = run_full(edges_opt, tree_opt, components, optres)"
   ]
  },
  {
   "cell_type": "code",
   "execution_count": 64,
   "id": "e8967044-794e-4677-8280-14191ad7164d",
   "metadata": {
    "execution": {
     "iopub.execute_input": "2022-03-17T17:39:51.225396Z",
     "iopub.status.busy": "2022-03-17T17:39:51.224394Z",
     "iopub.status.idle": "2022-03-17T17:39:51.231951Z",
     "shell.execute_reply": "2022-03-17T17:39:51.231448Z",
     "shell.execute_reply.started": "2022-03-17T17:39:51.225396Z"
    },
    "tags": []
   },
   "outputs": [],
   "source": [
    "def run_full(edges, tree, components, x0_in=None):\n",
    "    optres_all = []\n",
    "    solver_idx = 2\n",
    "    G = flat_graph_formulation(*edges)\n",
    "    merge_order = sort_scc(G)\n",
    "    nedges, ntree = reorder_merge_solve(edges, tree, merge_order, 1, True)\n",
    "    lookup_f = get_f(components, nedges)\n",
    "    workflow = generate_workflow(lookup_f, nedges, ntree, {2:{'maxiter':100}})\n",
    "    prob, mdao_in, groups = build_archi(nedges, ntree, workflow)\n",
    "    impl_system = get_solver_implicit_system(groups, ntree, solver_idx) # we use this for counting\n",
    "    scc_guess_vars = [str(Node(vr, VAR)) for vr in solver_children(ntree[2], solver_idx)]\n",
    "    prob.setup();\n",
    "    rand_range = (0,1)\n",
    "    if not x0_in:\n",
    "        x0_in = generate_x0(mdao_in, rand_range=(0,0))\n",
    "    for i in range(5):\n",
    "        x0 = dict(x0_in)\n",
    "        #x0_scc = generate_x0(scc_guess_vars, rand_range=rand_range)\n",
    "        #x0.update(x0_scc) # this could override x0 ins from scc but thats ok\n",
    "        #print(x0)\n",
    "        optres, optres_save = run_and_save_archi(prob, x0, symb_mapping)\n",
    "        optres_save.update({'count': impl_system.iter_count_apply}) \n",
    "        optres_all.append(optres_save)\n",
    "    return optres_all"
   ]
  },
  {
   "cell_type": "code",
   "execution_count": 62,
   "id": "91a629ec-e983-4125-a4da-911ee77e4c5c",
   "metadata": {
    "execution": {
     "iopub.execute_input": "2022-03-17T17:38:58.741100Z",
     "iopub.status.busy": "2022-03-17T17:38:58.740978Z",
     "iopub.status.idle": "2022-03-17T17:38:58.772800Z",
     "shell.execute_reply": "2022-03-17T17:38:58.772077Z",
     "shell.execute_reply.started": "2022-03-17T17:38:58.741100Z"
    },
    "tags": []
   },
   "outputs": [
    {
     "data": {
      "text/html": [
       "<div>\n",
       "<style scoped>\n",
       "    .dataframe tbody tr th:only-of-type {\n",
       "        vertical-align: middle;\n",
       "    }\n",
       "\n",
       "    .dataframe tbody tr th {\n",
       "        vertical-align: top;\n",
       "    }\n",
       "\n",
       "    .dataframe thead th {\n",
       "        text-align: right;\n",
       "    }\n",
       "</style>\n",
       "<table border=\"1\" class=\"dataframe\">\n",
       "  <thead>\n",
       "    <tr style=\"text-align: right;\">\n",
       "      <th></th>\n",
       "      <th>x_0</th>\n",
       "      <th>x_1</th>\n",
       "      <th>x_2</th>\n",
       "      <th>x_3</th>\n",
       "      <th>x_4</th>\n",
       "      <th>x_5</th>\n",
       "      <th>x_6</th>\n",
       "      <th>x_7</th>\n",
       "      <th>x_8</th>\n",
       "      <th>x_9</th>\n",
       "      <th>x_10</th>\n",
       "      <th>x_11</th>\n",
       "      <th>x_12</th>\n",
       "      <th>count</th>\n",
       "    </tr>\n",
       "  </thead>\n",
       "  <tbody>\n",
       "    <tr>\n",
       "      <th>0</th>\n",
       "      <td>-13.226201</td>\n",
       "      <td>0.150677</td>\n",
       "      <td>5.475009</td>\n",
       "      <td>-0.536488</td>\n",
       "      <td>33.149296</td>\n",
       "      <td>-0.278770</td>\n",
       "      <td>0.1</td>\n",
       "      <td>-9.191052</td>\n",
       "      <td>-0.018509</td>\n",
       "      <td>0.042579</td>\n",
       "      <td>-2.901373</td>\n",
       "      <td>0.1</td>\n",
       "      <td>0.1</td>\n",
       "      <td>262</td>\n",
       "    </tr>\n",
       "    <tr>\n",
       "      <th>1</th>\n",
       "      <td>-13.226205</td>\n",
       "      <td>0.150677</td>\n",
       "      <td>5.475003</td>\n",
       "      <td>-0.536488</td>\n",
       "      <td>33.149298</td>\n",
       "      <td>-0.278770</td>\n",
       "      <td>0.1</td>\n",
       "      <td>-9.191051</td>\n",
       "      <td>-0.018509</td>\n",
       "      <td>0.042579</td>\n",
       "      <td>-2.901373</td>\n",
       "      <td>0.1</td>\n",
       "      <td>0.1</td>\n",
       "      <td>181</td>\n",
       "    </tr>\n",
       "    <tr>\n",
       "      <th>2</th>\n",
       "      <td>46.392218</td>\n",
       "      <td>-0.000417</td>\n",
       "      <td>-0.454694</td>\n",
       "      <td>0.516928</td>\n",
       "      <td>29.078760</td>\n",
       "      <td>-28.693481</td>\n",
       "      <td>0.1</td>\n",
       "      <td>-1.032716</td>\n",
       "      <td>0.046963</td>\n",
       "      <td>0.115046</td>\n",
       "      <td>-25.821888</td>\n",
       "      <td>0.1</td>\n",
       "      <td>0.1</td>\n",
       "      <td>119</td>\n",
       "    </tr>\n",
       "    <tr>\n",
       "      <th>3</th>\n",
       "      <td>0.113836</td>\n",
       "      <td>-16.977890</td>\n",
       "      <td>13.821738</td>\n",
       "      <td>-0.561735</td>\n",
       "      <td>2.305145</td>\n",
       "      <td>-0.287451</td>\n",
       "      <td>0.1</td>\n",
       "      <td>8.422801</td>\n",
       "      <td>-2.346637</td>\n",
       "      <td>0.390229</td>\n",
       "      <td>3.166009</td>\n",
       "      <td>0.1</td>\n",
       "      <td>0.1</td>\n",
       "      <td>125</td>\n",
       "    </tr>\n",
       "    <tr>\n",
       "      <th>4</th>\n",
       "      <td>0.113836</td>\n",
       "      <td>-16.977890</td>\n",
       "      <td>13.821738</td>\n",
       "      <td>-0.561735</td>\n",
       "      <td>2.305145</td>\n",
       "      <td>-0.287451</td>\n",
       "      <td>0.1</td>\n",
       "      <td>8.422801</td>\n",
       "      <td>-2.346637</td>\n",
       "      <td>0.390229</td>\n",
       "      <td>3.166009</td>\n",
       "      <td>0.1</td>\n",
       "      <td>0.1</td>\n",
       "      <td>34</td>\n",
       "    </tr>\n",
       "  </tbody>\n",
       "</table>\n",
       "</div>"
      ],
      "text/plain": [
       "         x_0        x_1        x_2       x_3        x_4        x_5  x_6  \\\n",
       "0 -13.226201   0.150677   5.475009 -0.536488  33.149296  -0.278770  0.1   \n",
       "1 -13.226205   0.150677   5.475003 -0.536488  33.149298  -0.278770  0.1   \n",
       "2  46.392218  -0.000417  -0.454694  0.516928  29.078760 -28.693481  0.1   \n",
       "3   0.113836 -16.977890  13.821738 -0.561735   2.305145  -0.287451  0.1   \n",
       "4   0.113836 -16.977890  13.821738 -0.561735   2.305145  -0.287451  0.1   \n",
       "\n",
       "        x_7       x_8       x_9       x_10  x_11  x_12  count  \n",
       "0 -9.191052 -0.018509  0.042579  -2.901373   0.1   0.1    262  \n",
       "1 -9.191051 -0.018509  0.042579  -2.901373   0.1   0.1    181  \n",
       "2 -1.032716  0.046963  0.115046 -25.821888   0.1   0.1    119  \n",
       "3  8.422801 -2.346637  0.390229   3.166009   0.1   0.1    125  \n",
       "4  8.422801 -2.346637  0.390229   3.166009   0.1   0.1     34  "
      ]
     },
     "execution_count": 62,
     "metadata": {},
     "output_type": "execute_result"
    }
   ],
   "source": [
    "pd.DataFrame.from_dict(results_default_case)"
   ]
  },
  {
   "cell_type": "code",
   "execution_count": 61,
   "id": "fbba4a68-f32f-4fe5-b628-90c71c9cdcf2",
   "metadata": {
    "execution": {
     "iopub.execute_input": "2022-03-17T17:38:48.883205Z",
     "iopub.status.busy": "2022-03-17T17:38:48.883205Z",
     "iopub.status.idle": "2022-03-17T17:38:52.772028Z",
     "shell.execute_reply": "2022-03-17T17:38:52.771128Z",
     "shell.execute_reply.started": "2022-03-17T17:38:48.883205Z"
    },
    "tags": []
   },
   "outputs": [
    {
     "name": "stdout",
     "output_type": "stream",
     "text": [
      "{'x_12': 0.1, 'x_11': 0.1, 'x_6': 0.1, 'x_10': -0.3866379968583621, 'x_2': 0.2877212286612516, 'x_9': 0.7494588832440994, 'x_5': 0.5413092228959531, 'x_4': -0.6643726086611824, 'x_8': 0.3740864619922246, 'x_0': 0.2190953574782604, 'x_3': 0.7287879088794833, 'x_7': 0.5921359986061542, 'x_1': -0.16581911753550724}\n",
      "\n",
      "===\n",
      "s_1\n",
      "===\n",
      "+  \n",
      "+  =======\n",
      "+  s_1.s_2\n",
      "+  =======\n",
      "+  NL: NewtonSolver 'NL: Newton' on system 's_1.s_2' failed to converge in 100 iterations.\n",
      "+  \n",
      "+  =======\n",
      "+  s_1.s_2\n",
      "+  =======\n",
      "+  NL: NewtonSolver 'NL: Newton' on system 's_1.s_2' failed to converge in 100 iterations.\n",
      "+  \n",
      "+  =======\n",
      "+  s_1.s_2\n",
      "+  =======\n",
      "+  NL: Newton Converged in 56 iterations\n",
      "NL: Newton Converged in 2 iterations\n",
      "{'x_12': 0.1, 'x_11': 0.1, 'x_6': 0.1, 'x_10': 0.006636966365663716, 'x_2': -0.2275639476887341, 'x_9': 0.9924110171617034, 'x_5': 1.063930529067942, 'x_4': 0.009451304462442939, 'x_8': 0.12430656162948697, 'x_0': 0.784915607421425, 'x_3': -0.6795145855555298, 'x_7': -0.46318750662850483, 'x_1': 0.10164217271604528}\n",
      "\n",
      "===\n",
      "s_1\n",
      "===\n",
      "+  \n",
      "+  =======\n",
      "+  s_1.s_2\n",
      "+  =======\n",
      "+  NL: NewtonSolver 'NL: Newton' on system 's_1.s_2' failed to converge in 100 iterations.\n",
      "+  \n",
      "+  =======\n",
      "+  s_1.s_2\n",
      "+  =======\n",
      "+  NL: Newton Converged in 77 iterations\n",
      "NL: Newton Converged in 1 iterations\n",
      "{'x_12': 0.1, 'x_11': 0.1, 'x_6': 0.1, 'x_10': 0.9161676797255514, 'x_2': -0.8856244028041889, 'x_9': 0.8205595731921261, 'x_5': 0.9704830870014831, 'x_4': -0.5966649294064508, 'x_8': 0.5694883717575773, 'x_0': 0.035493101187461656, 'x_3': 0.9137324775869181, 'x_7': 0.7087025833938575, 'x_1': -0.384931074988458}\n",
      "\n",
      "===\n",
      "s_1\n",
      "===\n",
      "+  \n",
      "+  =======\n",
      "+  s_1.s_2\n",
      "+  =======\n",
      "+  NL: NewtonSolver 'NL: Newton' on system 's_1.s_2' failed to converge in 100 iterations.\n",
      "+  \n",
      "+  =======\n",
      "+  s_1.s_2\n",
      "+  =======\n",
      "+  NL: Newton Converged in 15 iterations\n",
      "NL: Newton Converged in 1 iterations\n",
      "{'x_12': 0.1, 'x_11': 0.1, 'x_6': 0.1, 'x_10': -0.8346795088538951, 'x_2': -0.011453812378023315, 'x_9': 0.03778844203863077, 'x_5': 0.7317660527377454, 'x_4': -0.8430535328841358, 'x_8': -0.5353562055818931, 'x_0': 0.402001967479904, 'x_3': 1.0126267637037831, 'x_7': -0.8273020557627285, 'x_1': -0.2610484184638091}\n",
      "\n",
      "===\n",
      "s_1\n",
      "===\n",
      "+  \n",
      "+  =======\n",
      "+  s_1.s_2\n",
      "+  =======\n",
      "+  NL: NewtonSolver 'NL: Newton' on system 's_1.s_2' failed to converge in 100 iterations.\n",
      "+  \n",
      "+  =======\n",
      "+  s_1.s_2\n",
      "+  =======\n",
      "+  NL: Newton Converged in 21 iterations\n",
      "NL: Newton Converged in 1 iterations\n",
      "{'x_12': 0.1, 'x_11': 0.1, 'x_6': 0.1, 'x_10': -0.46635137309401, 'x_2': -0.6961427208560043, 'x_9': 0.9358141644944826, 'x_5': 0.4654777679121648, 'x_4': -0.034240744971390596, 'x_8': -0.25209493576636854, 'x_0': -0.8560486040518809, 'x_3': -0.48349974372005655, 'x_7': -0.8325947310294217, 'x_1': 0.21169242718357142}\n",
      "\n",
      "===\n",
      "s_1\n",
      "===\n",
      "+  \n",
      "+  =======\n",
      "+  s_1.s_2\n",
      "+  =======\n",
      "+  NL: Newton Converged in 32 iterations\n",
      "NL: Newton Converged in 0 iterations\n"
     ]
    }
   ],
   "source": [
    "results_default_case = run_full(edges, tree, components)\n",
    "x0 = {key:var for key,var in results_default_case[0].items() if key != 'count'}"
   ]
  },
  {
   "cell_type": "code",
   "execution_count": 65,
   "id": "1e64c43a-0b93-4821-bc0f-20e0b3e8829b",
   "metadata": {
    "execution": {
     "iopub.execute_input": "2022-03-17T17:39:57.111117Z",
     "iopub.status.busy": "2022-03-17T17:39:57.111117Z",
     "iopub.status.idle": "2022-03-17T17:39:58.345216Z",
     "shell.execute_reply": "2022-03-17T17:39:58.344613Z",
     "shell.execute_reply.started": "2022-03-17T17:39:57.111117Z"
    },
    "tags": []
   },
   "outputs": [
    {
     "name": "stdout",
     "output_type": "stream",
     "text": [
      "\n",
      "===\n",
      "s_1\n",
      "===\n",
      "+  \n",
      "+  =======\n",
      "+  s_1.s_2\n",
      "+  =======\n",
      "+  NL: NewtonSolver 'NL: Newton' on system 's_1.s_2' failed to converge in 100 iterations.\n",
      "+  \n",
      "+  =======\n",
      "+  s_1.s_2\n",
      "+  =======\n",
      "+  NL: Newton Converged in 64 iterations\n",
      "NL: Newton Converged in 1 iterations\n",
      "\n",
      "===\n",
      "s_1\n",
      "===\n",
      "+  \n",
      "+  =======\n",
      "+  s_1.s_2\n",
      "+  =======\n",
      "+  NL: NewtonSolver 'NL: Newton' on system 's_1.s_2' failed to converge in 100 iterations.\n",
      "+  \n",
      "+  =======\n",
      "+  s_1.s_2\n",
      "+  =======\n",
      "+  NL: Newton Converged in 64 iterations\n",
      "NL: Newton Converged in 1 iterations\n",
      "\n",
      "===\n",
      "s_1\n",
      "===\n",
      "+  \n",
      "+  =======\n",
      "+  s_1.s_2\n",
      "+  =======\n",
      "+  NL: NewtonSolver 'NL: Newton' on system 's_1.s_2' failed to converge in 100 iterations.\n",
      "+  \n",
      "+  =======\n",
      "+  s_1.s_2\n",
      "+  =======\n",
      "+  NL: Newton Converged in 64 iterations\n",
      "NL: Newton Converged in 1 iterations\n",
      "\n",
      "===\n",
      "s_1\n",
      "===\n",
      "+  \n",
      "+  =======\n",
      "+  s_1.s_2\n",
      "+  =======\n",
      "+  NL: NewtonSolver 'NL: Newton' on system 's_1.s_2' failed to converge in 100 iterations.\n",
      "+  \n",
      "+  =======\n",
      "+  s_1.s_2\n",
      "+  =======\n",
      "+  NL: Newton Converged in 64 iterations\n",
      "NL: Newton Converged in 1 iterations\n",
      "\n",
      "===\n",
      "s_1\n",
      "===\n",
      "+  \n",
      "+  =======\n",
      "+  s_1.s_2\n",
      "+  =======\n",
      "+  NL: NewtonSolver 'NL: Newton' on system 's_1.s_2' failed to converge in 100 iterations.\n",
      "+  \n",
      "+  =======\n",
      "+  s_1.s_2\n",
      "+  =======\n",
      "+  NL: Newton Converged in 64 iterations\n",
      "NL: Newton Converged in 1 iterations\n"
     ]
    }
   ],
   "source": [
    "results_opt_case = run_full(edges_opt, tree_opt, components, x0_in=x0)"
   ]
  },
  {
   "cell_type": "code",
   "execution_count": 43,
   "id": "a688c791-e421-4b51-9a99-57ed9d6186c9",
   "metadata": {
    "execution": {
     "iopub.execute_input": "2022-03-17T17:25:20.481708Z",
     "iopub.status.busy": "2022-03-17T17:25:20.480708Z",
     "iopub.status.idle": "2022-03-17T17:25:20.493805Z",
     "shell.execute_reply": "2022-03-17T17:25:20.493805Z",
     "shell.execute_reply.started": "2022-03-17T17:25:20.481708Z"
    }
   },
   "outputs": [
    {
     "data": {
      "text/plain": [
       "{'x_0': 0.008958106779525476,\n",
       " 'x_1': -13.145086033480357,\n",
       " 'x_2': 0.7424238083735113,\n",
       " 'x_3': 12.148139891511779,\n",
       " 'x_4': -1.4592582797318507,\n",
       " 'x_5': -4.717890176820716,\n",
       " 'x_6': -10.79821037737607,\n",
       " 'x_7': 1.0528907779309629,\n",
       " 'x_8': -238.5519447614448,\n",
       " 'x_9': 0.6649317262384284,\n",
       " 'x_10': -0.14423932736560077,\n",
       " 'x_11': -19.086109079379213,\n",
       " 'x_12': -17.559078564803155,\n",
       " 'count': 106}"
      ]
     },
     "execution_count": 43,
     "metadata": {},
     "output_type": "execute_result"
    }
   ],
   "source": [
    "results_default_case[0]"
   ]
  },
  {
   "cell_type": "code",
   "execution_count": 41,
   "id": "c429e09f-308e-44ec-844d-e578f1889984",
   "metadata": {
    "execution": {
     "iopub.execute_input": "2022-03-17T17:24:59.201458Z",
     "iopub.status.busy": "2022-03-17T17:24:59.199448Z",
     "iopub.status.idle": "2022-03-17T17:24:59.219758Z",
     "shell.execute_reply": "2022-03-17T17:24:59.219533Z",
     "shell.execute_reply.started": "2022-03-17T17:24:59.200456Z"
    },
    "tags": []
   },
   "outputs": [
    {
     "data": {
      "text/html": [
       "<div>\n",
       "<style scoped>\n",
       "    .dataframe tbody tr th:only-of-type {\n",
       "        vertical-align: middle;\n",
       "    }\n",
       "\n",
       "    .dataframe tbody tr th {\n",
       "        vertical-align: top;\n",
       "    }\n",
       "\n",
       "    .dataframe thead th {\n",
       "        text-align: right;\n",
       "    }\n",
       "</style>\n",
       "<table border=\"1\" class=\"dataframe\">\n",
       "  <thead>\n",
       "    <tr style=\"text-align: right;\">\n",
       "      <th></th>\n",
       "      <th>x_0</th>\n",
       "      <th>x_1</th>\n",
       "      <th>x_2</th>\n",
       "      <th>x_3</th>\n",
       "      <th>x_4</th>\n",
       "      <th>x_5</th>\n",
       "      <th>x_6</th>\n",
       "      <th>x_7</th>\n",
       "      <th>x_8</th>\n",
       "      <th>x_9</th>\n",
       "      <th>x_10</th>\n",
       "      <th>x_11</th>\n",
       "      <th>x_12</th>\n",
       "      <th>count</th>\n",
       "    </tr>\n",
       "  </thead>\n",
       "  <tbody>\n",
       "    <tr>\n",
       "      <th>0</th>\n",
       "      <td>0.008958</td>\n",
       "      <td>-13.145086</td>\n",
       "      <td>0.742424</td>\n",
       "      <td>12.14814</td>\n",
       "      <td>-1.459258</td>\n",
       "      <td>-4.71789</td>\n",
       "      <td>-10.79821</td>\n",
       "      <td>1.052891</td>\n",
       "      <td>-238.551945</td>\n",
       "      <td>0.664932</td>\n",
       "      <td>-0.144239</td>\n",
       "      <td>-19.086109</td>\n",
       "      <td>-17.559079</td>\n",
       "      <td>106</td>\n",
       "    </tr>\n",
       "    <tr>\n",
       "      <th>1</th>\n",
       "      <td>0.008958</td>\n",
       "      <td>-13.145086</td>\n",
       "      <td>0.742424</td>\n",
       "      <td>12.14814</td>\n",
       "      <td>-1.459258</td>\n",
       "      <td>-4.71789</td>\n",
       "      <td>-10.79821</td>\n",
       "      <td>1.052891</td>\n",
       "      <td>-238.551945</td>\n",
       "      <td>0.664932</td>\n",
       "      <td>-0.144239</td>\n",
       "      <td>-19.086109</td>\n",
       "      <td>-17.559079</td>\n",
       "      <td>2</td>\n",
       "    </tr>\n",
       "    <tr>\n",
       "      <th>2</th>\n",
       "      <td>0.008958</td>\n",
       "      <td>-13.145086</td>\n",
       "      <td>0.742424</td>\n",
       "      <td>12.14814</td>\n",
       "      <td>-1.459258</td>\n",
       "      <td>-4.71789</td>\n",
       "      <td>-10.79821</td>\n",
       "      <td>1.052891</td>\n",
       "      <td>-238.551945</td>\n",
       "      <td>0.664932</td>\n",
       "      <td>-0.144239</td>\n",
       "      <td>-19.086109</td>\n",
       "      <td>-17.559079</td>\n",
       "      <td>2</td>\n",
       "    </tr>\n",
       "    <tr>\n",
       "      <th>3</th>\n",
       "      <td>0.008958</td>\n",
       "      <td>-13.145086</td>\n",
       "      <td>0.742424</td>\n",
       "      <td>12.14814</td>\n",
       "      <td>-1.459258</td>\n",
       "      <td>-4.71789</td>\n",
       "      <td>-10.79821</td>\n",
       "      <td>1.052891</td>\n",
       "      <td>-238.551945</td>\n",
       "      <td>0.664932</td>\n",
       "      <td>-0.144239</td>\n",
       "      <td>-19.086109</td>\n",
       "      <td>-17.559079</td>\n",
       "      <td>2</td>\n",
       "    </tr>\n",
       "    <tr>\n",
       "      <th>4</th>\n",
       "      <td>0.008958</td>\n",
       "      <td>-13.145086</td>\n",
       "      <td>0.742424</td>\n",
       "      <td>12.14814</td>\n",
       "      <td>-1.459258</td>\n",
       "      <td>-4.71789</td>\n",
       "      <td>-10.79821</td>\n",
       "      <td>1.052891</td>\n",
       "      <td>-238.551945</td>\n",
       "      <td>0.664932</td>\n",
       "      <td>-0.144239</td>\n",
       "      <td>-19.086109</td>\n",
       "      <td>-17.559079</td>\n",
       "      <td>2</td>\n",
       "    </tr>\n",
       "  </tbody>\n",
       "</table>\n",
       "</div>"
      ],
      "text/plain": [
       "        x_0        x_1       x_2       x_3       x_4      x_5       x_6  \\\n",
       "0  0.008958 -13.145086  0.742424  12.14814 -1.459258 -4.71789 -10.79821   \n",
       "1  0.008958 -13.145086  0.742424  12.14814 -1.459258 -4.71789 -10.79821   \n",
       "2  0.008958 -13.145086  0.742424  12.14814 -1.459258 -4.71789 -10.79821   \n",
       "3  0.008958 -13.145086  0.742424  12.14814 -1.459258 -4.71789 -10.79821   \n",
       "4  0.008958 -13.145086  0.742424  12.14814 -1.459258 -4.71789 -10.79821   \n",
       "\n",
       "        x_7         x_8       x_9      x_10       x_11       x_12  count  \n",
       "0  1.052891 -238.551945  0.664932 -0.144239 -19.086109 -17.559079    106  \n",
       "1  1.052891 -238.551945  0.664932 -0.144239 -19.086109 -17.559079      2  \n",
       "2  1.052891 -238.551945  0.664932 -0.144239 -19.086109 -17.559079      2  \n",
       "3  1.052891 -238.551945  0.664932 -0.144239 -19.086109 -17.559079      2  \n",
       "4  1.052891 -238.551945  0.664932 -0.144239 -19.086109 -17.559079      2  "
      ]
     },
     "execution_count": 41,
     "metadata": {},
     "output_type": "execute_result"
    }
   ],
   "source": [
    "pd.DataFrame.from_dict(results_default_case)"
   ]
  },
  {
   "cell_type": "code",
   "execution_count": 16,
   "id": "4e762cae-be82-4a40-a658-5bd63335f1c2",
   "metadata": {
    "execution": {
     "iopub.execute_input": "2022-03-17T16:55:15.781660Z",
     "iopub.status.busy": "2022-03-17T16:55:15.781660Z",
     "iopub.status.idle": "2022-03-17T16:55:15.795178Z",
     "shell.execute_reply": "2022-03-17T16:55:15.794245Z",
     "shell.execute_reply.started": "2022-03-17T16:55:15.781660Z"
    },
    "tags": []
   },
   "outputs": [],
   "source": [
    "G = flat_graph_formulation(*edges)\n",
    "merge_order = sort_scc(G)"
   ]
  },
  {
   "cell_type": "code",
   "execution_count": 17,
   "id": "75c40816-c001-420a-8664-36563e01783c",
   "metadata": {
    "execution": {
     "iopub.execute_input": "2022-03-17T16:55:16.243069Z",
     "iopub.status.busy": "2022-03-17T16:55:16.243069Z",
     "iopub.status.idle": "2022-03-17T16:55:16.261210Z",
     "shell.execute_reply": "2022-03-17T16:55:16.261210Z",
     "shell.execute_reply.started": "2022-03-17T16:55:16.243069Z"
    },
    "tags": []
   },
   "outputs": [
    {
     "data": {
      "text/plain": [
       "[{f_1, f_3, f_4, f_7, f_8, f_9}, {f_5}, {f_2}, {f_6}, {f_0}]"
      ]
     },
     "execution_count": 17,
     "metadata": {},
     "output_type": "execute_result"
    }
   ],
   "source": [
    "merge_order"
   ]
  },
  {
   "cell_type": "code",
   "execution_count": 6,
   "id": "76e91e6a-14d0-49ce-9e94-c067284d8778",
   "metadata": {
    "execution": {
     "iopub.execute_input": "2022-03-17T16:21:37.834970Z",
     "iopub.status.busy": "2022-03-17T16:21:37.834970Z",
     "iopub.status.idle": "2022-03-17T16:21:37.845706Z",
     "shell.execute_reply": "2022-03-17T16:21:37.845142Z",
     "shell.execute_reply.started": "2022-03-17T16:21:37.834970Z"
    },
    "tags": []
   },
   "outputs": [],
   "source": [
    "nedges, ntree = reorder_merge_solve(edges, tree, merge_order, 1, True)"
   ]
  },
  {
   "cell_type": "code",
   "execution_count": 7,
   "id": "360ebc7d-8a9f-4b88-9cb6-5d45efb0449f",
   "metadata": {
    "execution": {
     "iopub.execute_input": "2022-03-17T16:21:39.559929Z",
     "iopub.status.busy": "2022-03-17T16:21:39.558914Z",
     "iopub.status.idle": "2022-03-17T16:21:39.576054Z",
     "shell.execute_reply": "2022-03-17T16:21:39.576054Z",
     "shell.execute_reply.started": "2022-03-17T16:21:39.559929Z"
    },
    "tags": []
   },
   "outputs": [],
   "source": [
    "lookup_f = get_f(components, nedges)"
   ]
  },
  {
   "cell_type": "code",
   "execution_count": 8,
   "id": "c8e78998-b93b-40e5-b721-6b7d5e856d74",
   "metadata": {
    "execution": {
     "iopub.execute_input": "2022-03-17T16:21:39.887120Z",
     "iopub.status.busy": "2022-03-17T16:21:39.887120Z",
     "iopub.status.idle": "2022-03-17T16:21:39.902409Z",
     "shell.execute_reply": "2022-03-17T16:21:39.902138Z",
     "shell.execute_reply.started": "2022-03-17T16:21:39.887120Z"
    },
    "tags": []
   },
   "outputs": [],
   "source": [
    "workflow = generate_workflow(lookup_f, nedges, ntree, {2:{'maxiter':100}})"
   ]
  },
  {
   "cell_type": "code",
   "execution_count": 9,
   "id": "c20cd333-455b-4c17-a362-1c172fc247cf",
   "metadata": {
    "execution": {
     "iopub.execute_input": "2022-03-17T16:21:40.174386Z",
     "iopub.status.busy": "2022-03-17T16:21:40.174386Z",
     "iopub.status.idle": "2022-03-17T16:21:40.198861Z",
     "shell.execute_reply": "2022-03-17T16:21:40.198398Z",
     "shell.execute_reply.started": "2022-03-17T16:21:40.174386Z"
    },
    "tags": []
   },
   "outputs": [],
   "source": [
    "prob, mdao_in, groups = build_archi(nedges, ntree, workflow)"
   ]
  },
  {
   "cell_type": "code",
   "execution_count": 10,
   "id": "cdb6e8de-8f1b-4bb7-ab3b-260daf3ec03e",
   "metadata": {
    "execution": {
     "iopub.execute_input": "2022-03-17T16:21:40.404215Z",
     "iopub.status.busy": "2022-03-17T16:21:40.404215Z",
     "iopub.status.idle": "2022-03-17T16:21:40.416621Z",
     "shell.execute_reply": "2022-03-17T16:21:40.416023Z",
     "shell.execute_reply.started": "2022-03-17T16:21:40.404215Z"
    },
    "tags": []
   },
   "outputs": [],
   "source": [
    "prob.setup();"
   ]
  },
  {
   "cell_type": "code",
   "execution_count": 11,
   "id": "d837479e-f38b-42b9-abec-79892e811562",
   "metadata": {
    "execution": {
     "iopub.execute_input": "2022-03-17T16:21:40.606794Z",
     "iopub.status.busy": "2022-03-17T16:21:40.605743Z",
     "iopub.status.idle": "2022-03-17T16:21:40.616980Z",
     "shell.execute_reply": "2022-03-17T16:21:40.616383Z",
     "shell.execute_reply.started": "2022-03-17T16:21:40.606794Z"
    },
    "tags": []
   },
   "outputs": [],
   "source": [
    "symb_mapping = get_arg_mapping(var_mapping, symbol_map=True)"
   ]
  },
  {
   "cell_type": "code",
   "execution_count": 12,
   "id": "4ee29742-a82b-4ff9-8dcf-ed5418aba450",
   "metadata": {
    "execution": {
     "iopub.execute_input": "2022-03-17T16:21:40.901324Z",
     "iopub.status.busy": "2022-03-17T16:21:40.901324Z",
     "iopub.status.idle": "2022-03-17T16:21:40.910961Z",
     "shell.execute_reply": "2022-03-17T16:21:40.910031Z",
     "shell.execute_reply.started": "2022-03-17T16:21:40.901324Z"
    },
    "tags": []
   },
   "outputs": [],
   "source": [
    "scc_guess_vars = [str(Node(vr, VAR)) for vr in ntree[2].keys()]"
   ]
  },
  {
   "cell_type": "code",
   "execution_count": 43,
   "id": "f5b76612-f302-4193-95a8-9760116977d8",
   "metadata": {
    "execution": {
     "iopub.execute_input": "2022-03-17T16:28:48.682661Z",
     "iopub.status.busy": "2022-03-17T16:28:48.682661Z",
     "iopub.status.idle": "2022-03-17T16:28:48.700678Z",
     "shell.execute_reply": "2022-03-17T16:28:48.700678Z",
     "shell.execute_reply.started": "2022-03-17T16:28:48.682661Z"
    },
    "tags": []
   },
   "outputs": [],
   "source": [
    "x0_in = generate_x0(mdao_in, rand_range=(10,20))"
   ]
  },
  {
   "cell_type": "code",
   "execution_count": 48,
   "id": "f35822d1-7fd8-4c40-85e6-a79308aae7d7",
   "metadata": {
    "execution": {
     "iopub.execute_input": "2022-03-17T16:29:16.110607Z",
     "iopub.status.busy": "2022-03-17T16:29:16.110607Z",
     "iopub.status.idle": "2022-03-17T16:29:16.578800Z",
     "shell.execute_reply": "2022-03-17T16:29:16.578200Z",
     "shell.execute_reply.started": "2022-03-17T16:29:16.110607Z"
    },
    "tags": []
   },
   "outputs": [
    {
     "name": "stdout",
     "output_type": "stream",
     "text": [
      "\n",
      "===\n",
      "s_1\n",
      "===\n",
      "+  \n",
      "+  =======\n",
      "+  s_1.s_2\n",
      "+  =======\n",
      "+  NL: Newton Converged in 8 iterations\n",
      "+  \n",
      "+  =======\n",
      "+  s_1.s_2\n",
      "+  =======\n",
      "+  NL: Newton Converged in 0 iterations\n",
      "NL: Newton Converged in 1 iterations\n",
      "\n",
      "===\n",
      "s_1\n",
      "===\n",
      "+  \n",
      "+  =======\n",
      "+  s_1.s_2\n",
      "+  =======\n",
      "+  NL: Newton Converged in 32 iterations\n",
      "NL: Newton Converged in 0 iterations\n",
      "\n",
      "===\n",
      "s_1\n",
      "===\n",
      "+  \n",
      "+  =======\n",
      "+  s_1.s_2\n",
      "+  =======\n",
      "+  NL: Newton Converged in 38 iterations\n",
      "+  \n",
      "+  =======\n",
      "+  s_1.s_2\n",
      "+  =======\n",
      "+  NL: Newton Converged in 0 iterations\n",
      "NL: Newton Converged in 1 iterations\n",
      "\n",
      "===\n",
      "s_1\n",
      "===\n",
      "+  \n",
      "+  =======\n",
      "+  s_1.s_2\n",
      "+  =======\n",
      "+  NL: Newton Converged in 26 iterations\n",
      "+  \n",
      "+  =======\n",
      "+  s_1.s_2\n",
      "+  =======\n",
      "+  NL: Newton Converged in 0 iterations\n",
      "NL: Newton Converged in 1 iterations\n",
      "\n",
      "===\n",
      "s_1\n",
      "===\n",
      "+  \n",
      "+  =======\n",
      "+  s_1.s_2\n",
      "+  =======\n",
      "+  NL: Newton Converged in 50 iterations\n",
      "NL: Newton Converged in 0 iterations\n"
     ]
    }
   ],
   "source": [
    "rand_range = (100,200)\n",
    "optres_all=[]\n",
    "for i in range(5):\n",
    "    x0_scc = generate_x0(scc_guess_vars, rand_range=rand_range)\n",
    "    optres, optres_save = run_and_save_archi(prob, {**x0_in, **x0_scc}, symb_mapping)\n",
    "    optres_save.update({'count': impl_system.iter_count_apply}) \n",
    "    optres_all.append(optres_save)\n",
    "        #x0 = generate_x0(optres=optres, rand_range=rand_range)"
   ]
  }
 ],
 "metadata": {
  "kernelspec": {
   "display_name": "Python [conda env:mdo]",
   "language": "python",
   "name": "conda-env-mdo-py"
  },
  "language_info": {
   "codemirror_mode": {
    "name": "ipython",
    "version": 3
   },
   "file_extension": ".py",
   "mimetype": "text/x-python",
   "name": "python",
   "nbconvert_exporter": "python",
   "pygments_lexer": "ipython3",
   "version": "3.9.7"
  }
 },
 "nbformat": 4,
 "nbformat_minor": 5
}
