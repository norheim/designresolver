{
 "cells": [
  {
   "cell_type": "code",
   "execution_count": 1,
   "id": "0587f88c-d806-4d5f-99de-27d569a4ae9d",
   "metadata": {
    "execution": {
     "iopub.execute_input": "2022-03-17T01:54:24.620597Z",
     "iopub.status.busy": "2022-03-17T01:54:24.620597Z",
     "iopub.status.idle": "2022-03-17T01:54:24.628821Z",
     "shell.execute_reply": "2022-03-17T01:54:24.628639Z",
     "shell.execute_reply.started": "2022-03-17T01:54:24.620597Z"
    },
    "tags": []
   },
   "outputs": [
    {
     "name": "stdout",
     "output_type": "stream",
     "text": [
      "C:\\Users\\johan\\github\\designresolver\n"
     ]
    }
   ],
   "source": [
    "cd .."
   ]
  },
  {
   "cell_type": "code",
   "execution_count": 2,
   "id": "43435e37-8ee0-4506-b905-3c6c033c4b80",
   "metadata": {
    "execution": {
     "iopub.execute_input": "2022-03-17T01:54:24.629973Z",
     "iopub.status.busy": "2022-03-17T01:54:24.629973Z",
     "iopub.status.idle": "2022-03-17T01:54:26.226228Z",
     "shell.execute_reply": "2022-03-17T01:54:26.226228Z",
     "shell.execute_reply.started": "2022-03-17T01:54:24.629973Z"
    },
    "tags": []
   },
   "outputs": [],
   "source": [
    "from testgraph import Ein, Eout, Rin\n",
    "from graphutils import draw_graph_graphical_props, flat_graph_formulation, sources"
   ]
  },
  {
   "cell_type": "markdown",
   "id": "53e00095-1eeb-46ad-b846-4a85b088a213",
   "metadata": {},
   "source": [
    "# Typed Graph (Flat Formulation graph)"
   ]
  },
  {
   "cell_type": "markdown",
   "id": "91c34653-723e-4927-9f71-f9dbdd2f3758",
   "metadata": {},
   "source": [
    "This is a graph where each node is assigned the type of variable, component or solver"
   ]
  },
  {
   "cell_type": "code",
   "execution_count": 3,
   "id": "41f74d36-3346-4d03-852c-7937a25759ab",
   "metadata": {
    "execution": {
     "iopub.execute_input": "2022-03-17T01:54:26.228115Z",
     "iopub.status.busy": "2022-03-17T01:54:26.228115Z",
     "iopub.status.idle": "2022-03-17T01:54:26.817758Z",
     "shell.execute_reply": "2022-03-17T01:54:26.817671Z",
     "shell.execute_reply.started": "2022-03-17T01:54:26.228115Z"
    },
    "tags": []
   },
   "outputs": [
    {
     "data": {
      "image/png": "[encoded data removed]",
      "text/plain": [
       "<Figure size 792x288 with 1 Axes>"
      ]
     },
     "metadata": {},
     "output_type": "display_data"
    }
   ],
   "source": [
    "G = flat_graph_formulation(Ein, Eout, Rin)\n",
    "draw_graph_graphical_props(G, prog='sfdp', figsize=(11,4))"
   ]
  },
  {
   "cell_type": "markdown",
   "id": "833e801a-8ace-4418-8989-7b0336244b8f",
   "metadata": {},
   "source": [
    "# From random example"
   ]
  },
  {
   "cell_type": "code",
   "execution_count": 4,
   "id": "32f1f439-4d69-4226-a8a9-2b35ccf6461e",
   "metadata": {
    "execution": {
     "iopub.execute_input": "2022-03-17T01:54:26.818819Z",
     "iopub.status.busy": "2022-03-17T01:54:26.818819Z",
     "iopub.status.idle": "2022-03-17T01:54:26.833312Z",
     "shell.execute_reply": "2022-03-17T01:54:26.833041Z",
     "shell.execute_reply.started": "2022-03-17T01:54:26.818819Z"
    },
    "tags": []
   },
   "outputs": [],
   "source": [
    "from testproblems import generate_random_prob\n",
    "from collections import OrderedDict\n",
    "from operators import sort_scc, reorder_merge_solve\n",
    "from nestedgraph import build_typedgraph\n",
    "from workflow import generate_workflow\n",
    "from graphutils import merge_edges"
   ]
  },
  {
   "cell_type": "code",
   "execution_count": 5,
   "id": "62a6399e-1724-41b8-b417-6060ac22fb48",
   "metadata": {
    "execution": {
     "iopub.execute_input": "2022-03-17T01:54:26.834544Z",
     "iopub.status.busy": "2022-03-17T01:54:26.834544Z",
     "iopub.status.idle": "2022-03-17T01:54:26.849200Z",
     "shell.execute_reply": "2022-03-17T01:54:26.848626Z",
     "shell.execute_reply.started": "2022-03-17T01:54:26.834544Z"
    },
    "tags": []
   },
   "outputs": [],
   "source": [
    "n_eqs = 4\n",
    "n_vars = 8\n",
    "seed = 42#8 is triang#seed 10 is nice\n",
    "sparsity = .8#1.1 #1.7\n",
    "eqv, varinc, dout = generate_random_prob(n_eqs, n_vars, seed, sparsity)\n",
    "Ein = {key: tuple(vr-n_eqs for vr in var if vr !=dout[key]) for key,var in eqv.items()}\n",
    "Eout = {key: (var-n_eqs,) for key,var in dout.items()}\n",
    "Rin = dict()\n",
    "Ftree=OrderedDict((idx,1) for idx in range(n_eqs))\n",
    "Stree=dict()\n",
    "Vtree=dict()\n",
    "edges = Ein, Eout, Rin\n",
    "tree = Ftree, Stree, Vtree"
   ]
  },
  {
   "cell_type": "code",
   "execution_count": 6,
   "id": "f47b254f-5b6c-47e5-a6f2-067e5b50cdd9",
   "metadata": {
    "execution": {
     "iopub.execute_input": "2022-03-17T01:54:26.850144Z",
     "iopub.status.busy": "2022-03-17T01:54:26.849200Z",
     "iopub.status.idle": "2022-03-17T01:54:26.865108Z",
     "shell.execute_reply": "2022-03-17T01:54:26.864345Z",
     "shell.execute_reply.started": "2022-03-17T01:54:26.850144Z"
    },
    "tags": []
   },
   "outputs": [],
   "source": [
    "G = flat_graph_formulation(*edges)\n",
    "merge_order = sort_scc(G)"
   ]
  },
  {
   "cell_type": "code",
   "execution_count": 7,
   "id": "5fcce8a0-b90d-4dbc-a12c-ff2a7e839a40",
   "metadata": {
    "execution": {
     "iopub.execute_input": "2022-03-17T01:54:26.866338Z",
     "iopub.status.busy": "2022-03-17T01:54:26.865108Z",
     "iopub.status.idle": "2022-03-17T01:54:26.880274Z",
     "shell.execute_reply": "2022-03-17T01:54:26.879273Z",
     "shell.execute_reply.started": "2022-03-17T01:54:26.866338Z"
    },
    "tags": []
   },
   "outputs": [
    {
     "data": {
      "text/plain": [
       "[{f_2}, {f_0, f_3}, {f_1}]"
      ]
     },
     "execution_count": 7,
     "metadata": {},
     "output_type": "execute_result"
    }
   ],
   "source": [
    "merge_order"
   ]
  },
  {
   "cell_type": "code",
   "execution_count": 8,
   "id": "b80a6b1f-7884-42c6-aedf-e0e43bef1216",
   "metadata": {
    "execution": {
     "iopub.execute_input": "2022-03-17T01:54:26.880274Z",
     "iopub.status.busy": "2022-03-17T01:54:26.880274Z",
     "iopub.status.idle": "2022-03-17T01:54:26.895456Z",
     "shell.execute_reply": "2022-03-17T01:54:26.895358Z",
     "shell.execute_reply.started": "2022-03-17T01:54:26.880274Z"
    },
    "tags": []
   },
   "outputs": [],
   "source": [
    "nedges, ntree = reorder_merge_solve(edges, tree, merge_order, 1, True)"
   ]
  },
  {
   "cell_type": "code",
   "execution_count": 9,
   "id": "53367647-bb38-4abb-af4f-b0c2e488b9cb",
   "metadata": {
    "execution": {
     "iopub.execute_input": "2022-03-17T01:54:26.897493Z",
     "iopub.status.busy": "2022-03-17T01:54:26.896478Z",
     "iopub.status.idle": "2022-03-17T01:54:26.910503Z",
     "shell.execute_reply": "2022-03-17T01:54:26.910503Z",
     "shell.execute_reply.started": "2022-03-17T01:54:26.896478Z"
    },
    "tags": []
   },
   "outputs": [
    {
     "data": {
      "text/plain": [
       "(OrderedDict([(2, 1), (0, 2), (3, 2), (1, 1)]), {2: 1}, {1: 2, 3: 2})"
      ]
     },
     "execution_count": 9,
     "metadata": {},
     "output_type": "execute_result"
    }
   ],
   "source": [
    "ntree"
   ]
  },
  {
   "cell_type": "code",
   "execution_count": 10,
   "id": "69161899-47ad-48c0-91e3-8e3f9a166798",
   "metadata": {
    "execution": {
     "iopub.execute_input": "2022-03-17T01:54:26.911480Z",
     "iopub.status.busy": "2022-03-17T01:54:26.911480Z",
     "iopub.status.idle": "2022-03-17T01:54:27.528364Z",
     "shell.execute_reply": "2022-03-17T01:54:27.527449Z",
     "shell.execute_reply.started": "2022-03-17T01:54:26.911480Z"
    },
    "tags": []
   },
   "outputs": [
    {
     "data": {
      "image/png": "[encoded data removed]",
      "text/plain": [
       "<Figure size 288x288 with 1 Axes>"
      ]
     },
     "metadata": {},
     "output_type": "display_data"
    },
    {
     "data": {
      "image/png": "[encoded data removed]",
      "text/plain": [
       "<Figure size 288x288 with 1 Axes>"
      ]
     },
     "metadata": {},
     "output_type": "display_data"
    }
   ],
   "source": [
    "graphs = build_typedgraph(nedges, ntree)\n",
    "for key,graph in graphs.items():\n",
    "    draw_graph_graphical_props(graph, {}, prog='circo', figsize=(4,4))"
   ]
  },
  {
   "cell_type": "markdown",
   "id": "e5e5e41f-16c9-456d-89ee-adf233e379c0",
   "metadata": {},
   "source": [
    "## Workflow resolve"
   ]
  },
  {
   "cell_type": "code",
   "execution_count": 11,
   "id": "ee0f9f3d-0c5d-4ff8-b8d7-b0107779b03d",
   "metadata": {
    "execution": {
     "iopub.execute_input": "2022-03-17T01:54:27.529348Z",
     "iopub.status.busy": "2022-03-17T01:54:27.529348Z",
     "iopub.status.idle": "2022-03-17T01:54:27.544046Z",
     "shell.execute_reply": "2022-03-17T01:54:27.543544Z",
     "shell.execute_reply.started": "2022-03-17T01:54:27.529348Z"
    },
    "tags": []
   },
   "outputs": [],
   "source": [
    "# Interface:\n",
    "# addsolver(mdao, parent, solver_name) # adds a group and attaches a solver to it\n",
    "# addimpcomp(mdao, parent, component_name, [(input_names, output_name, fx, gradfx, guess_vars)]) # adds an implicit solver for residuals\n",
    "# addexpcomp(mdao, parent, component_name, (input_names, output_name, fx, gradfx)) # adds an explicit solver"
   ]
  },
  {
   "cell_type": "code",
   "execution_count": 12,
   "id": "f6267b78-e54b-4eeb-abdb-66bcae78fe25",
   "metadata": {
    "execution": {
     "iopub.execute_input": "2022-03-17T01:54:27.545059Z",
     "iopub.status.busy": "2022-03-17T01:54:27.545059Z",
     "iopub.status.idle": "2022-03-17T01:54:27.559299Z",
     "shell.execute_reply": "2022-03-17T01:54:27.559299Z",
     "shell.execute_reply.started": "2022-03-17T01:54:27.545059Z"
    },
    "tags": []
   },
   "outputs": [],
   "source": [
    "from graphutils import all_components, end_components, Node, COMP, SOLVER, VAR, solver_children, make_nodetype\n",
    "from workflow import path\n",
    "from enum import Enum\n",
    "from utils import normalize_name\n",
    "from collections import namedtuple"
   ]
  },
  {
   "cell_type": "code",
   "execution_count": 13,
   "id": "cdf7a82b-cd89-4b8e-bb3c-bad3fdfce080",
   "metadata": {
    "execution": {
     "iopub.execute_input": "2022-03-17T01:54:27.561350Z",
     "iopub.status.busy": "2022-03-17T01:54:27.560350Z",
     "iopub.status.idle": "2022-03-17T01:54:27.575391Z",
     "shell.execute_reply": "2022-03-17T01:54:27.574858Z",
     "shell.execute_reply.started": "2022-03-17T01:54:27.561350Z"
    },
    "tags": []
   },
   "outputs": [],
   "source": [
    "ExecutionTypes = Enum('ExecutionTypes', 'EXPL IMPL EQCST SOLVE OPT')\n",
    "ExecutionTypes.__repr__ = lambda x: x.name\n",
    "EXPL, IMPL, EQCST, SOLVE, OPT = ExecutionTypes.EXPL,ExecutionTypes.IMPL,ExecutionTypes.EQCST,ExecutionTypes.SOLVE,ExecutionTypes.OPT"
   ]
  },
  {
   "cell_type": "code",
   "execution_count": 14,
   "id": "dd7ec3ab-cd85-4413-ae8a-6c05d77b3c6e",
   "metadata": {
    "execution": {
     "iopub.execute_input": "2022-03-17T01:54:27.576401Z",
     "iopub.status.busy": "2022-03-17T01:54:27.576401Z",
     "iopub.status.idle": "2022-03-17T01:54:27.590553Z",
     "shell.execute_reply": "2022-03-17T01:54:27.590553Z",
     "shell.execute_reply.started": "2022-03-17T01:54:27.576401Z"
    },
    "tags": []
   },
   "outputs": [],
   "source": [
    "Component = namedtuple('COMPONENT', ['inputs', 'component', 'outputs', 'function']) "
   ]
  },
  {
   "cell_type": "code",
   "execution_count": 15,
   "id": "77ddb209-e1b3-4f52-bfdc-494adb51cd2d",
   "metadata": {
    "execution": {
     "iopub.execute_input": "2022-03-17T01:54:27.592626Z",
     "iopub.status.busy": "2022-03-17T01:54:27.591630Z",
     "iopub.status.idle": "2022-03-17T01:54:27.605851Z",
     "shell.execute_reply": "2022-03-17T01:54:27.605851Z",
     "shell.execute_reply.started": "2022-03-17T01:54:27.592626Z"
    },
    "tags": []
   },
   "outputs": [
    {
     "data": {
      "text/plain": [
       "{0: (6, 7, 8, 9, 5), 1: (5, 9, 10), 2: (8, 9, 11, 4), 3: (4, 5, 7, 8, 9)}"
      ]
     },
     "execution_count": 15,
     "metadata": {},
     "output_type": "execute_result"
    }
   ],
   "source": [
    "eqv"
   ]
  },
  {
   "cell_type": "code",
   "execution_count": 16,
   "id": "1a7024d6-b6e8-4ce3-b2f0-87176f1cf901",
   "metadata": {
    "execution": {
     "iopub.execute_input": "2022-03-17T01:54:27.687081Z",
     "iopub.status.busy": "2022-03-17T01:54:27.687081Z",
     "iopub.status.idle": "2022-03-17T01:54:27.699400Z",
     "shell.execute_reply": "2022-03-17T01:54:27.699400Z",
     "shell.execute_reply.started": "2022-03-17T01:54:27.687081Z"
    },
    "tags": []
   },
   "outputs": [],
   "source": [
    "from randompoly import random_bijective_polynomial\n",
    "from compute import Var, reassigneq\n",
    "import numpy as np\n",
    "import sympy as sp\n",
    "from execution import Component"
   ]
  },
  {
   "cell_type": "code",
   "execution_count": 17,
   "id": "d57d291c-3cf1-4c1c-9b30-cf281700da44",
   "metadata": {
    "execution": {
     "iopub.execute_input": "2022-03-17T01:54:27.982675Z",
     "iopub.status.busy": "2022-03-17T01:54:27.981732Z",
     "iopub.status.idle": "2022-03-17T01:54:27.995589Z",
     "shell.execute_reply": "2022-03-17T01:54:27.995589Z",
     "shell.execute_reply.started": "2022-03-17T01:54:27.981732Z"
    },
    "tags": []
   },
   "outputs": [],
   "source": [
    "varsympy = {idx: Var(str(Node(idx,VAR)), varid=idx) for idx in range(n_vars)}"
   ]
  },
  {
   "cell_type": "code",
   "execution_count": 18,
   "id": "fc2e8599-9913-4ff0-8603-fa8309bc67fc",
   "metadata": {
    "execution": {
     "iopub.execute_input": "2022-03-17T01:54:28.152083Z",
     "iopub.status.busy": "2022-03-17T01:54:28.152083Z",
     "iopub.status.idle": "2022-03-17T01:54:28.197736Z",
     "shell.execute_reply": "2022-03-17T01:54:28.197480Z",
     "shell.execute_reply.started": "2022-03-17T01:54:28.152083Z"
    },
    "tags": []
   },
   "outputs": [],
   "source": [
    "rng = np.random.default_rng(12345)\n",
    "polynomials = {idx: random_bijective_polynomial(rng, (varsympy[elt-n_eqs] for elt in vrs)) for idx,vrs in eqv.items()}"
   ]
  },
  {
   "cell_type": "code",
   "execution_count": 19,
   "id": "88107c27-8d33-4d6c-87e7-6378edb03b36",
   "metadata": {
    "execution": {
     "iopub.execute_input": "2022-03-17T01:54:28.333980Z",
     "iopub.status.busy": "2022-03-17T01:54:28.332979Z",
     "iopub.status.idle": "2022-03-17T01:54:28.353395Z",
     "shell.execute_reply": "2022-03-17T01:54:28.353395Z",
     "shell.execute_reply.started": "2022-03-17T01:54:28.333980Z"
    },
    "tags": []
   },
   "outputs": [
    {
     "data": {
      "text/plain": [
       "{0: -0.3*x_1*x_2*x_5 + 0.2*x_3*x_4 - 0.6,\n",
       " 1: 0.9*x_1*x_5*x_6 - 0.5,\n",
       " 2: -0.1*x_0 - 0.8*x_4*x_5*x_7 + 0.8,\n",
       " 3: -0.6*x_0*x_1*x_3 - 0.8*x_4*x_5 - 0.7}"
      ]
     },
     "execution_count": 19,
     "metadata": {},
     "output_type": "execute_result"
    }
   ],
   "source": [
    "polynomials"
   ]
  },
  {
   "cell_type": "code",
   "execution_count": 20,
   "id": "0b813815-30b5-4955-9843-c30e5bf98b87",
   "metadata": {
    "execution": {
     "iopub.execute_input": "2022-03-17T01:54:28.535818Z",
     "iopub.status.busy": "2022-03-17T01:54:28.535818Z",
     "iopub.status.idle": "2022-03-17T01:54:28.541108Z",
     "shell.execute_reply": "2022-03-17T01:54:28.540819Z",
     "shell.execute_reply.started": "2022-03-17T01:54:28.535818Z"
    },
    "tags": []
   },
   "outputs": [],
   "source": [
    "arg_mapping = {idx:str(Node(idx,VAR)) for idx in range(n_vars)}"
   ]
  },
  {
   "cell_type": "code",
   "execution_count": 21,
   "id": "b21b8110-15b5-46df-98b1-da4c5b578422",
   "metadata": {
    "execution": {
     "iopub.execute_input": "2022-03-17T01:54:28.730302Z",
     "iopub.status.busy": "2022-03-17T01:54:28.730302Z",
     "iopub.status.idle": "2022-03-17T01:54:28.757866Z",
     "shell.execute_reply": "2022-03-17T01:54:28.757636Z",
     "shell.execute_reply.started": "2022-03-17T01:54:28.730302Z"
    },
    "tags": []
   },
   "outputs": [],
   "source": [
    "fcomps = [Component.fromsympy(function, component=component, arg_mapping=arg_mapping) for component,function in polynomials.items()]"
   ]
  },
  {
   "cell_type": "code",
   "execution_count": 22,
   "id": "58e40a2d-9748-43fc-931d-bea4aa735586",
   "metadata": {
    "execution": {
     "iopub.execute_input": "2022-03-17T01:54:28.938679Z",
     "iopub.status.busy": "2022-03-17T01:54:28.938679Z",
     "iopub.status.idle": "2022-03-17T01:54:29.237289Z",
     "shell.execute_reply": "2022-03-17T01:54:29.237289Z",
     "shell.execute_reply.started": "2022-03-17T01:54:28.938679Z"
    },
    "tags": []
   },
   "outputs": [],
   "source": [
    "for idx, eq in polynomials.items():\n",
    "    left = dout[idx]-n_eqs\n",
    "    leftvar = varsympy[left]\n",
    "    function = sp.simplify(reassigneq(None, eq, leftvar))\n",
    "    new_comp = Component.fromsympy(function, leftvar, component=idx, arg_mapping=arg_mapping)\n",
    "    fcomps.append(new_comp)"
   ]
  },
  {
   "cell_type": "code",
   "execution_count": 23,
   "id": "e5ce39b6-23c5-474d-ab42-6d4987d25609",
   "metadata": {
    "execution": {
     "iopub.execute_input": "2022-03-17T01:54:29.239413Z",
     "iopub.status.busy": "2022-03-17T01:54:29.238417Z",
     "iopub.status.idle": "2022-03-17T01:54:29.253084Z",
     "shell.execute_reply": "2022-03-17T01:54:29.253084Z",
     "shell.execute_reply.started": "2022-03-17T01:54:29.239413Z"
    },
    "tags": []
   },
   "outputs": [
    {
     "data": {
      "text/plain": [
       "[((5, 3, 1, 2, 4), 0, (None,), '-0.3*x_1*x_2*x_5 + 0.2*x_3*x_4 - 0.6'),\n",
       " ((5, 6, 1), 1, (None,), '0.9*x_1*x_5*x_6 - 0.5'),\n",
       " ((0, 5, 7, 4), 2, (None,), '-0.1*x_0 - 0.8*x_4*x_5*x_7 + 0.8'),\n",
       " ((5, 3, 0, 1, 4), 3, (None,), '-0.6*x_0*x_1*x_3 - 0.8*x_4*x_5 - 0.7'),\n",
       " ((3, 5, 2, 4), 0, (1,), '(0.666666666666667*x_3*x_4 - 2.0)/(x_2*x_5)'),\n",
       " ((5, 1), 1, (6,), '0.555555555555556/(x_1*x_5)'),\n",
       " ((5, 7, 4), 2, (0,), '-8.0*x_4*x_5*x_7 + 8.0'),\n",
       " ((0, 4, 5, 1), 3, (3,), '-(1.33333333333333*x_4*x_5 + 1.16666666666667)/(x_0*x_1)')]"
      ]
     },
     "execution_count": 23,
     "metadata": {},
     "output_type": "execute_result"
    }
   ],
   "source": [
    "fcomps"
   ]
  },
  {
   "cell_type": "code",
   "execution_count": 24,
   "id": "38421b66-5f78-42fc-bffa-f44883db965e",
   "metadata": {
    "execution": {
     "iopub.execute_input": "2022-03-17T01:54:29.330134Z",
     "iopub.status.busy": "2022-03-17T01:54:29.330134Z",
     "iopub.status.idle": "2022-03-17T01:54:29.346888Z",
     "shell.execute_reply": "2022-03-17T01:54:29.346888Z",
     "shell.execute_reply.started": "2022-03-17T01:54:29.330134Z"
    },
    "tags": []
   },
   "outputs": [],
   "source": [
    "# f = {\n",
    "#     ((1,2,3,4,5),0,(None,),'eq0'),\n",
    "#     ((0,1,3,4,5),3,(None,),'eq3'),\n",
    "#     ((1,5,),1,(6,),'eq1'),\n",
    "#     ((4,5,7),2,(0,),'eq2')\n",
    "# }\n",
    "# f = {Component(*comp) for comp in f}"
   ]
  },
  {
   "cell_type": "code",
   "execution_count": 25,
   "id": "b575b59d-2473-498b-a788-24a1c6b8712f",
   "metadata": {
    "execution": {
     "iopub.execute_input": "2022-03-17T01:54:29.539272Z",
     "iopub.status.busy": "2022-03-17T01:54:29.538276Z",
     "iopub.status.idle": "2022-03-17T01:54:29.549602Z",
     "shell.execute_reply": "2022-03-17T01:54:29.549432Z",
     "shell.execute_reply.started": "2022-03-17T01:54:29.539272Z"
    },
    "tags": []
   },
   "outputs": [],
   "source": [
    "def get_f(f, edges):\n",
    "    f_lookup = {(frozenset(elt.inputs),elt.component,frozenset(elt.outputs)): elt for elt in f}\n",
    "    Ein = merge_edges(edges[0], edges[2])\n",
    "    Eout = edges[1]\n",
    "    def lookup(comp):\n",
    "        key = (frozenset(Ein[comp]),comp,frozenset(Eout[comp]))\n",
    "        return f_lookup[key] \n",
    "    return lookup"
   ]
  },
  {
   "cell_type": "code",
   "execution_count": 26,
   "id": "fb4e0a2d-b356-4528-897c-55357088ff73",
   "metadata": {
    "execution": {
     "iopub.execute_input": "2022-03-17T01:54:29.754023Z",
     "iopub.status.busy": "2022-03-17T01:54:29.752983Z",
     "iopub.status.idle": "2022-03-17T01:54:29.764780Z",
     "shell.execute_reply": "2022-03-17T01:54:29.764186Z",
     "shell.execute_reply.started": "2022-03-17T01:54:29.754023Z"
    },
    "tags": []
   },
   "outputs": [],
   "source": [
    "Fend = end_components(nedges[1])\n",
    "nFtree, nStree, nVtree = ntree\n",
    "nEin, nEout, nRin = nedges\n",
    "nEin = merge_edges(nEin, nRin)"
   ]
  },
  {
   "cell_type": "code",
   "execution_count": 27,
   "id": "f6fa92ce-e65e-48e0-959e-5781156af4f5",
   "metadata": {
    "execution": {
     "iopub.execute_input": "2022-03-17T01:54:29.993339Z",
     "iopub.status.busy": "2022-03-17T01:54:29.993339Z",
     "iopub.status.idle": "2022-03-17T01:54:29.997535Z",
     "shell.execute_reply": "2022-03-17T01:54:29.997535Z",
     "shell.execute_reply.started": "2022-03-17T01:54:29.993339Z"
    },
    "tags": []
   },
   "outputs": [],
   "source": [
    "x_4,x_5,x_7 = [varsympy[idx] for idx in [4,5,7]]"
   ]
  },
  {
   "cell_type": "code",
   "execution_count": 28,
   "id": "26f551b9-04bc-4da2-a813-823c3eba8d59",
   "metadata": {
    "execution": {
     "iopub.execute_input": "2022-03-17T01:54:30.215560Z",
     "iopub.status.busy": "2022-03-17T01:54:30.215560Z",
     "iopub.status.idle": "2022-03-17T01:54:30.245790Z",
     "shell.execute_reply": "2022-03-17T01:54:30.245790Z",
     "shell.execute_reply.started": "2022-03-17T01:54:30.215560Z"
    },
    "tags": []
   },
   "outputs": [],
   "source": [
    "right = -8.0*x_4*x_5*x_7 + 8.0\n",
    "tovar = varsympy[0]\n",
    "symb_order= list(right.free_symbols)\n",
    "fx = sp.lambdify(symb_order, right)"
   ]
  },
  {
   "cell_type": "code",
   "execution_count": 29,
   "id": "44580a50-86bf-4a56-a66f-07cd1ee30aab",
   "metadata": {
    "execution": {
     "iopub.execute_input": "2022-03-17T01:54:30.449499Z",
     "iopub.status.busy": "2022-03-17T01:54:30.448198Z",
     "iopub.status.idle": "2022-03-17T01:54:30.465987Z",
     "shell.execute_reply": "2022-03-17T01:54:30.465070Z",
     "shell.execute_reply.started": "2022-03-17T01:54:30.449499Z"
    },
    "tags": []
   },
   "outputs": [],
   "source": [
    "from unitutils import unit_conversion_factors"
   ]
  },
  {
   "cell_type": "code",
   "execution_count": 30,
   "id": "c3411068-747a-4433-a737-4e6ec195e743",
   "metadata": {
    "execution": {
     "iopub.execute_input": "2022-03-17T01:54:30.668733Z",
     "iopub.status.busy": "2022-03-17T01:54:30.667612Z",
     "iopub.status.idle": "2022-03-17T01:54:30.683347Z",
     "shell.execute_reply": "2022-03-17T01:54:30.682663Z",
     "shell.execute_reply.started": "2022-03-17T01:54:30.668733Z"
    },
    "tags": []
   },
   "outputs": [],
   "source": [
    "convert, factor = unit_conversion_factors(right, tovar.varunit, symb_order)"
   ]
  },
  {
   "cell_type": "code",
   "execution_count": 31,
   "id": "edf3e1ff-e66f-464e-a1be-ac36db065bda",
   "metadata": {
    "execution": {
     "iopub.execute_input": "2022-03-17T01:54:30.887557Z",
     "iopub.status.busy": "2022-03-17T01:54:30.887557Z",
     "iopub.status.idle": "2022-03-17T01:54:30.899585Z",
     "shell.execute_reply": "2022-03-17T01:54:30.899585Z",
     "shell.execute_reply.started": "2022-03-17T01:54:30.887557Z"
    },
    "tags": []
   },
   "outputs": [
    {
     "data": {
      "text/plain": [
       "-40.0"
      ]
     },
     "execution_count": 31,
     "metadata": {},
     "output_type": "execute_result"
    }
   ],
   "source": [
    "fx(*convert*np.array([1,2,3]).flatten())/factor"
   ]
  },
  {
   "cell_type": "code",
   "execution_count": 32,
   "id": "d0b889bb-4602-43d3-8081-b859c8eb4565",
   "metadata": {
    "execution": {
     "iopub.execute_input": "2022-03-17T01:54:31.087647Z",
     "iopub.status.busy": "2022-03-17T01:54:31.087647Z",
     "iopub.status.idle": "2022-03-17T01:54:31.101759Z",
     "shell.execute_reply": "2022-03-17T01:54:31.101759Z",
     "shell.execute_reply.started": "2022-03-17T01:54:31.087647Z"
    },
    "tags": []
   },
   "outputs": [
    {
     "data": {
      "text/plain": [
       "-8.0"
      ]
     },
     "execution_count": 32,
     "metadata": {},
     "output_type": "execute_result"
    }
   ],
   "source": [
    "lookup_f = get_f(fcomps, nedges)\n",
    "lookup_f(2).evaldict({'x_4':1.,'x_5':1., 'x_7': 2.})"
   ]
  },
  {
   "cell_type": "code",
   "execution_count": 33,
   "id": "471a144d-0104-4b63-bc1b-bad5d7db8c3a",
   "metadata": {
    "execution": {
     "iopub.execute_input": "2022-03-17T01:54:31.319512Z",
     "iopub.status.busy": "2022-03-17T01:54:31.319512Z",
     "iopub.status.idle": "2022-03-17T01:54:31.334779Z",
     "shell.execute_reply": "2022-03-17T01:54:31.334722Z",
     "shell.execute_reply.started": "2022-03-17T01:54:31.319512Z"
    },
    "tags": []
   },
   "outputs": [],
   "source": [
    "def addexpcomp_args(lookup_f, parent_solver_node, key):\n",
    "    component = lookup_f(key)\n",
    "    input_names = [str(Node(inputvar,VAR)) for inputvar in component.inputs]\n",
    "    output_names = [str(Node(outputvar, VAR)) for outputvar in component.outputs]\n",
    "    args = (EXPL, str(parent_solver_node), str(Node(key, COMP)), input_names, output_names[0], component.evaldict, component.graddict)\n",
    "    return args"
   ]
  },
  {
   "cell_type": "code",
   "execution_count": 34,
   "id": "48db2bd0-981b-451a-bffc-ef8ba747a942",
   "metadata": {
    "execution": {
     "iopub.execute_input": "2022-03-17T01:54:31.528803Z",
     "iopub.status.busy": "2022-03-17T01:54:31.528803Z",
     "iopub.status.idle": "2022-03-17T01:54:31.535929Z",
     "shell.execute_reply": "2022-03-17T01:54:31.535723Z",
     "shell.execute_reply.started": "2022-03-17T01:54:31.528803Z"
    },
    "tags": []
   },
   "outputs": [],
   "source": [
    "def implicit_comp_name(comps):\n",
    "    return \"res_{}\".format('_'.join(map(lambda x: normalize_name(str(x)),comps)))"
   ]
  },
  {
   "cell_type": "code",
   "execution_count": 35,
   "id": "e9be1091-fc93-47fb-9412-de1c1ff1942e",
   "metadata": {
    "execution": {
     "iopub.execute_input": "2022-03-17T01:54:31.749614Z",
     "iopub.status.busy": "2022-03-17T01:54:31.749614Z",
     "iopub.status.idle": "2022-03-17T01:54:31.767942Z",
     "shell.execute_reply": "2022-03-17T01:54:31.767740Z",
     "shell.execute_reply.started": "2022-03-17T01:54:31.749614Z"
    },
    "tags": []
   },
   "outputs": [],
   "source": [
    "def addimpcomp_args(lookup_f, parent_solver_node, fends, output_names):\n",
    "    impl_components = []\n",
    "    comps = []\n",
    "    for idx, comp_node in enumerate(fends):\n",
    "        component = lookup_f(comp_node)\n",
    "        input_names = [str(Node(inputvar,VAR)) for inputvar in component.inputs]\n",
    "        output_name = str(Node(output_names[idx], VAR)) #TODO: THIS IS VERY HACKY BUT WILL WORK FOR NOW\n",
    "        impl_components.append((input_names, output_name, component.evaldict, component.graddict, 1.))\n",
    "        comps.append(Node(comp_node, COMP))\n",
    "    args = (str(parent_solver_node), implicit_comp_name(comps), impl_components)\n",
    "    return args"
   ]
  },
  {
   "cell_type": "code",
   "execution_count": 36,
   "id": "bf368eb1-307b-40f0-a45b-be761eafea20",
   "metadata": {
    "execution": {
     "iopub.execute_input": "2022-03-17T01:54:31.963832Z",
     "iopub.status.busy": "2022-03-17T01:54:31.963832Z",
     "iopub.status.idle": "2022-03-17T01:54:31.969890Z",
     "shell.execute_reply": "2022-03-17T01:54:31.969890Z",
     "shell.execute_reply.started": "2022-03-17T01:54:31.963832Z"
    },
    "tags": []
   },
   "outputs": [],
   "source": [
    "visited = set()\n",
    "workflow = []\n",
    "nFtree_copy = OrderedDict(nFtree)\n",
    "flag = False\n",
    "while nFtree_copy:\n",
    "    key, parentsolver = nFtree_copy.popitem(last=False)\n",
    "    parent_solver_node = Node(parentsolver,SOLVER)\n",
    "    out = path(nStree, parentsolver, visited)\n",
    "    out_rev = out[::-1]\n",
    "    visited = visited.union(out)\n",
    "    f = [elt for elt in solver_children(nFtree_copy, parentsolver) if elt in Fend]\n",
    "    for solver_idx in out_rev:\n",
    "        parent_solver = nStree.get(solver_idx, None)\n",
    "        parent_solver_name = str(Node(parent_solver,SOLVER)) if parent_solver else None\n",
    "        workflow.append((SOLVE, parent_solver_name, str(Node(solver_idx, SOLVER))))\n",
    "    if key in Fend and not f: #the last one\n",
    "        fends = [elt for elt in solver_children(nFtree, parentsolver) if elt in Fend]\n",
    "        args = addimpcomp_args(lookup_f, parent_solver_node, fends, list(solver_children(nVtree, parentsolver)))\n",
    "        if not flag:\n",
    "            workflow.append((IMPL, *args))\n",
    "        else:\n",
    "            workflow.append((EQ_CST, *args)) #this would add them as design variable\n",
    "    elif key not in Fend: \n",
    "        args = addexpcomp_args(lookup_f, parent_solver_node, key)\n",
    "        workflow.append(args)"
   ]
  },
  {
   "cell_type": "code",
   "execution_count": 37,
   "id": "cd4ba665-e5b8-4694-8baf-5ab175fe77a6",
   "metadata": {
    "execution": {
     "iopub.execute_input": "2022-03-17T01:54:32.168854Z",
     "iopub.status.busy": "2022-03-17T01:54:32.168854Z",
     "iopub.status.idle": "2022-03-17T01:54:32.189394Z",
     "shell.execute_reply": "2022-03-17T01:54:32.189218Z",
     "shell.execute_reply.started": "2022-03-17T01:54:32.168854Z"
    },
    "tags": []
   },
   "outputs": [
    {
     "data": {
      "text/plain": [
       "[(SOLVE, None, 's_1'),\n",
       " (EXPL,\n",
       "  's_1',\n",
       "  'f_2',\n",
       "  ['x_5', 'x_7', 'x_4'],\n",
       "  'x_0',\n",
       "  <bound method Component.evaldict of ((5, 7, 4), 2, (0,), '-8.0*x_4*x_5*x_7 + 8.0')>,\n",
       "  <bound method Component.graddict of ((5, 7, 4), 2, (0,), '-8.0*x_4*x_5*x_7 + 8.0')>),\n",
       " (SOLVE, 's_1', 's_2'),\n",
       " (IMPL,\n",
       "  's_2',\n",
       "  'res_f0_f3',\n",
       "  [(['x_5', 'x_3', 'x_1', 'x_2', 'x_4'],\n",
       "    'x_1',\n",
       "    <bound method Component.evaldict of ((5, 3, 1, 2, 4), 0, (None,), '-0.3*x_1*x_2*x_5 + 0.2*x_3*x_4 - 0.6')>,\n",
       "    <bound method Component.graddict of ((5, 3, 1, 2, 4), 0, (None,), '-0.3*x_1*x_2*x_5 + 0.2*x_3*x_4 - 0.6')>,\n",
       "    1.0),\n",
       "   (['x_5', 'x_3', 'x_0', 'x_1', 'x_4'],\n",
       "    'x_3',\n",
       "    <bound method Component.evaldict of ((5, 3, 0, 1, 4), 3, (None,), '-0.6*x_0*x_1*x_3 - 0.8*x_4*x_5 - 0.7')>,\n",
       "    <bound method Component.graddict of ((5, 3, 0, 1, 4), 3, (None,), '-0.6*x_0*x_1*x_3 - 0.8*x_4*x_5 - 0.7')>,\n",
       "    1.0)]),\n",
       " (EXPL,\n",
       "  's_1',\n",
       "  'f_1',\n",
       "  ['x_5', 'x_1'],\n",
       "  'x_6',\n",
       "  <bound method Component.evaldict of ((5, 1), 1, (6,), '0.555555555555556/(x_1*x_5)')>,\n",
       "  <bound method Component.graddict of ((5, 1), 1, (6,), '0.555555555555556/(x_1*x_5)')>)]"
      ]
     },
     "execution_count": 37,
     "metadata": {},
     "output_type": "execute_result"
    }
   ],
   "source": [
    "workflow"
   ]
  },
  {
   "cell_type": "markdown",
   "id": "0e637ff4-3505-4f98-a6e8-57eb73ce7f52",
   "metadata": {},
   "source": [
    "# Build problem"
   ]
  },
  {
   "cell_type": "code",
   "execution_count": 38,
   "id": "cd10f753-1f80-49c6-97bb-96aa017d21ce",
   "metadata": {
    "execution": {
     "iopub.execute_input": "2022-03-17T01:54:33.102539Z",
     "iopub.status.busy": "2022-03-17T01:54:33.101611Z",
     "iopub.status.idle": "2022-03-17T01:54:33.124419Z",
     "shell.execute_reply": "2022-03-17T01:54:33.124419Z",
     "shell.execute_reply.started": "2022-03-17T01:54:33.101611Z"
    },
    "tags": []
   },
   "outputs": [],
   "source": [
    "from buildexecution import addexpcomp, addimpcomp, addsolver\n",
    "from compute import buildidpvars\n",
    "import openmdao.api as om"
   ]
  },
  {
   "cell_type": "code",
   "execution_count": 39,
   "id": "59434f7d-157d-4f5b-84a8-a1af1006e0c2",
   "metadata": {
    "execution": {
     "iopub.execute_input": "2022-03-17T01:54:33.355434Z",
     "iopub.status.busy": "2022-03-17T01:54:33.355434Z",
     "iopub.status.idle": "2022-03-17T01:54:33.374107Z",
     "shell.execute_reply": "2022-03-17T01:54:33.373615Z",
     "shell.execute_reply.started": "2022-03-17T01:54:33.355434Z"
    },
    "tags": []
   },
   "outputs": [],
   "source": [
    "architecture_mappings = {\n",
    "        EXPL: addexpcomp,\n",
    "        IMPL: addimpcomp,\n",
    "        SOLVE: addsolver\n",
    "    }"
   ]
  },
  {
   "cell_type": "code",
   "execution_count": 63,
   "id": "c17e43d1-b67f-4dbf-bd83-71ca1fd1b7f1",
   "metadata": {
    "execution": {
     "iopub.execute_input": "2022-03-17T01:57:17.395194Z",
     "iopub.status.busy": "2022-03-17T01:57:17.395194Z",
     "iopub.status.idle": "2022-03-17T01:57:17.406282Z",
     "shell.execute_reply": "2022-03-17T01:57:17.405392Z",
     "shell.execute_reply.started": "2022-03-17T01:57:17.395194Z"
    },
    "tags": []
   },
   "outputs": [],
   "source": [
    "prob = om.Problem()\n",
    "mdo_model = prob.model\n",
    "groups = {None:mdo_model}\n",
    "\n",
    "mdao_in = {Node(elt, VAR) for elt in sources(nEin, nEout)-nVtree.keys()}"
   ]
  },
  {
   "cell_type": "code",
   "execution_count": 64,
   "id": "e92fa6fa-62b3-4984-8ccf-8eff92bf0469",
   "metadata": {
    "execution": {
     "iopub.execute_input": "2022-03-17T01:57:21.784356Z",
     "iopub.status.busy": "2022-03-17T01:57:21.784356Z",
     "iopub.status.idle": "2022-03-17T01:57:21.795055Z",
     "shell.execute_reply": "2022-03-17T01:57:21.794359Z",
     "shell.execute_reply.started": "2022-03-17T01:57:21.784356Z"
    },
    "tags": []
   },
   "outputs": [],
   "source": [
    "buildidpvars(mdao_in, mdo_model)"
   ]
  },
  {
   "cell_type": "code",
   "execution_count": 65,
   "id": "20bdf3a6-571a-4c84-abca-558bf084f502",
   "metadata": {
    "execution": {
     "iopub.execute_input": "2022-03-17T01:57:21.977561Z",
     "iopub.status.busy": "2022-03-17T01:57:21.977561Z",
     "iopub.status.idle": "2022-03-17T01:57:21.995295Z",
     "shell.execute_reply": "2022-03-17T01:57:21.995295Z",
     "shell.execute_reply.started": "2022-03-17T01:57:21.977561Z"
    },
    "tags": []
   },
   "outputs": [],
   "source": [
    "# This next step actually builds all the openMDAO components\n",
    "for comp_type, *comp_args in workflow:\n",
    "    #print(comp_type, comp_args[:3])\n",
    "    architecture_mappings[comp_type](groups, *comp_args)"
   ]
  },
  {
   "cell_type": "code",
   "execution_count": 66,
   "id": "384ab559-d792-44c7-b5c5-166a694fda82",
   "metadata": {
    "execution": {
     "iopub.execute_input": "2022-03-17T01:57:22.150871Z",
     "iopub.status.busy": "2022-03-17T01:57:22.150871Z",
     "iopub.status.idle": "2022-03-17T01:57:22.166366Z",
     "shell.execute_reply": "2022-03-17T01:57:22.166312Z",
     "shell.execute_reply.started": "2022-03-17T01:57:22.150871Z"
    },
    "tags": []
   },
   "outputs": [],
   "source": [
    "prob.setup();"
   ]
  },
  {
   "cell_type": "code",
   "execution_count": 67,
   "id": "3fb6675c-83f1-43ed-8a03-8cce68f7e0c1",
   "metadata": {
    "execution": {
     "iopub.execute_input": "2022-03-17T01:57:24.550853Z",
     "iopub.status.busy": "2022-03-17T01:57:24.550853Z",
     "iopub.status.idle": "2022-03-17T01:57:24.554931Z",
     "shell.execute_reply": "2022-03-17T01:57:24.554424Z",
     "shell.execute_reply.started": "2022-03-17T01:57:24.550853Z"
    },
    "tags": []
   },
   "outputs": [],
   "source": [
    "#om.n2(mdo_model)"
   ]
  },
  {
   "cell_type": "code",
   "execution_count": 68,
   "id": "0791c480-6742-43de-b9ab-202094212b6c",
   "metadata": {
    "execution": {
     "iopub.execute_input": "2022-03-17T01:57:24.747165Z",
     "iopub.status.busy": "2022-03-17T01:57:24.747165Z",
     "iopub.status.idle": "2022-03-17T01:57:24.757107Z",
     "shell.execute_reply": "2022-03-17T01:57:24.756198Z",
     "shell.execute_reply.started": "2022-03-17T01:57:24.747165Z"
    },
    "tags": []
   },
   "outputs": [
    {
     "data": {
      "text/plain": [
       "array([0.20671916])"
      ]
     },
     "execution_count": 68,
     "metadata": {},
     "output_type": "execute_result"
    }
   ],
   "source": [
    "prob.get_val('x_2')"
   ]
  },
  {
   "cell_type": "code",
   "execution_count": 69,
   "id": "77936417-5f2d-4f3c-b2a1-ce017783ac5c",
   "metadata": {
    "execution": {
     "iopub.execute_input": "2022-03-17T01:57:27.998248Z",
     "iopub.status.busy": "2022-03-17T01:57:27.998248Z",
     "iopub.status.idle": "2022-03-17T01:57:28.031521Z",
     "shell.execute_reply": "2022-03-17T01:57:28.030996Z",
     "shell.execute_reply.started": "2022-03-17T01:57:27.998248Z"
    },
    "tags": []
   },
   "outputs": [
    {
     "name": "stdout",
     "output_type": "stream",
     "text": [
      "\n",
      "===\n",
      "s_1\n",
      "===\n",
      "+  \n",
      "+  =======\n",
      "+  s_1.s_2\n",
      "+  =======\n",
      "+  NL: Newton Converged in 10 iterations\n",
      "NL: Newton Converged in 0 iterations\n"
     ]
    }
   ],
   "source": [
    "prob.run_model();"
   ]
  },
  {
   "cell_type": "markdown",
   "id": "0dd920f9-d9f0-4c43-94d9-f8a693cf0a68",
   "metadata": {},
   "source": [
    "## Validate answer"
   ]
  },
  {
   "cell_type": "code",
   "execution_count": 70,
   "id": "e0817a45-a41d-4ced-b941-81c1f9f0b4f3",
   "metadata": {
    "execution": {
     "iopub.execute_input": "2022-03-17T01:57:35.180340Z",
     "iopub.status.busy": "2022-03-17T01:57:35.180340Z",
     "iopub.status.idle": "2022-03-17T01:57:35.187364Z",
     "shell.execute_reply": "2022-03-17T01:57:35.187364Z",
     "shell.execute_reply.started": "2022-03-17T01:57:35.180340Z"
    },
    "tags": []
   },
   "outputs": [],
   "source": [
    "from executeformulations import extractvals"
   ]
  },
  {
   "cell_type": "code",
   "execution_count": 71,
   "id": "bf031f20-6acd-4396-ac96-886d83a78cf2",
   "metadata": {
    "execution": {
     "iopub.execute_input": "2022-03-17T01:57:35.456564Z",
     "iopub.status.busy": "2022-03-17T01:57:35.455549Z",
     "iopub.status.idle": "2022-03-17T01:57:35.470321Z",
     "shell.execute_reply": "2022-03-17T01:57:35.470321Z",
     "shell.execute_reply.started": "2022-03-17T01:57:35.456564Z"
    },
    "tags": []
   },
   "outputs": [],
   "source": [
    "fcomps_res = [comp for comp in fcomps if comp.outputs == (None,)]"
   ]
  },
  {
   "cell_type": "code",
   "execution_count": 72,
   "id": "b2111670-3fb7-4618-aa88-574f2936d5d7",
   "metadata": {
    "execution": {
     "iopub.execute_input": "2022-03-17T01:57:35.675653Z",
     "iopub.status.busy": "2022-03-17T01:57:35.675653Z",
     "iopub.status.idle": "2022-03-17T01:57:35.688149Z",
     "shell.execute_reply": "2022-03-17T01:57:35.688149Z",
     "shell.execute_reply.started": "2022-03-17T01:57:35.675653Z"
    },
    "tags": []
   },
   "outputs": [],
   "source": [
    "outs = extractvals(prob, varsympy)"
   ]
  },
  {
   "cell_type": "code",
   "execution_count": 73,
   "id": "d75cc57d-a7cc-4739-b36d-6981db3ba22d",
   "metadata": {
    "execution": {
     "iopub.execute_input": "2022-03-17T01:57:36.095899Z",
     "iopub.status.busy": "2022-03-17T01:57:36.095899Z",
     "iopub.status.idle": "2022-03-17T01:57:36.106839Z",
     "shell.execute_reply": "2022-03-17T01:57:36.106629Z",
     "shell.execute_reply.started": "2022-03-17T01:57:36.095899Z"
    },
    "tags": []
   },
   "outputs": [
    {
     "data": {
      "text/plain": [
       "[1.1102230246251565e-16, 3.3306690738754696e-16, 0.0, -4.2676973066591017e-13]"
      ]
     },
     "execution_count": 73,
     "metadata": {},
     "output_type": "execute_result"
    }
   ],
   "source": [
    "[elt.evaldict(outs) for elt in fcomps_res]\n"
   ]
  },
  {
   "cell_type": "code",
   "execution_count": null,
   "id": "9f00134a-cb58-40f7-8b1d-15393febdb8d",
   "metadata": {},
   "outputs": [],
   "source": []
  }
 ],
 "metadata": {
  "kernelspec": {
   "display_name": "Python [conda env:mdo]",
   "language": "python",
   "name": "conda-env-mdo-py"
  },
  "language_info": {
   "codemirror_mode": {
    "name": "ipython",
    "version": 3
   },
   "file_extension": ".py",
   "mimetype": "text/x-python",
   "name": "python",
   "nbconvert_exporter": "python",
   "pygments_lexer": "ipython3",
   "version": "3.9.7"
  }
 },
 "nbformat": 4,
 "nbformat_minor": 5
}
