{
 "cells": [
  {
   "cell_type": "code",
   "execution_count": 1,
   "id": "0587f88c-d806-4d5f-99de-27d569a4ae9d",
   "metadata": {
    "execution": {
     "iopub.execute_input": "2022-03-12T00:38:36.815181Z",
     "iopub.status.busy": "2022-03-12T00:38:36.814683Z",
     "iopub.status.idle": "2022-03-12T00:38:36.828454Z",
     "shell.execute_reply": "2022-03-12T00:38:36.827581Z",
     "shell.execute_reply.started": "2022-03-12T00:38:36.814683Z"
    },
    "tags": []
   },
   "outputs": [
    {
     "name": "stdout",
     "output_type": "stream",
     "text": [
      "C:\\Users\\johan\\github\\designresolver\n"
     ]
    }
   ],
   "source": [
    "cd .."
   ]
  },
  {
   "cell_type": "code",
   "execution_count": 2,
   "id": "43435e37-8ee0-4506-b905-3c6c033c4b80",
   "metadata": {
    "execution": {
     "iopub.execute_input": "2022-03-12T00:38:36.829511Z",
     "iopub.status.busy": "2022-03-12T00:38:36.828454Z",
     "iopub.status.idle": "2022-03-12T00:38:38.178409Z",
     "shell.execute_reply": "2022-03-12T00:38:38.178409Z",
     "shell.execute_reply.started": "2022-03-12T00:38:36.829511Z"
    },
    "tags": []
   },
   "outputs": [],
   "source": [
    "from testgraph import Ein, Eout, Rin\n",
    "from graphutils import draw_graph_graphical_props, flat_graph_formulation"
   ]
  },
  {
   "cell_type": "markdown",
   "id": "53e00095-1eeb-46ad-b846-4a85b088a213",
   "metadata": {},
   "source": [
    "# Typed Graph (Flat Formulation graph)"
   ]
  },
  {
   "cell_type": "markdown",
   "id": "91c34653-723e-4927-9f71-f9dbdd2f3758",
   "metadata": {},
   "source": [
    "This is a graph where each node is assigned the type of variable, component or solver"
   ]
  },
  {
   "cell_type": "code",
   "execution_count": 3,
   "id": "41f74d36-3346-4d03-852c-7937a25759ab",
   "metadata": {
    "execution": {
     "iopub.execute_input": "2022-03-12T00:38:38.178409Z",
     "iopub.status.busy": "2022-03-12T00:38:38.178409Z",
     "iopub.status.idle": "2022-03-12T00:38:38.711486Z",
     "shell.execute_reply": "2022-03-12T00:38:38.710989Z",
     "shell.execute_reply.started": "2022-03-12T00:38:38.178409Z"
    },
    "tags": []
   },
   "outputs": [
    {
     "data": {
      "image/png": "[encoded data removed]",
      "text/plain": [
       "<Figure size 792x288 with 1 Axes>"
      ]
     },
     "metadata": {},
     "output_type": "display_data"
    }
   ],
   "source": [
    "G = flat_graph_formulation(Ein, Eout, Rin)\n",
    "draw_graph_graphical_props(G, prog='sfdp', figsize=(11,4))"
   ]
  },
  {
   "cell_type": "markdown",
   "id": "833e801a-8ace-4418-8989-7b0336244b8f",
   "metadata": {},
   "source": [
    "# From random example"
   ]
  },
  {
   "cell_type": "code",
   "execution_count": 16,
   "id": "32f1f439-4d69-4226-a8a9-2b35ccf6461e",
   "metadata": {
    "execution": {
     "iopub.execute_input": "2022-03-12T01:50:32.977969Z",
     "iopub.status.busy": "2022-03-12T01:50:32.977969Z",
     "iopub.status.idle": "2022-03-12T01:50:32.985966Z",
     "shell.execute_reply": "2022-03-12T01:50:32.985467Z",
     "shell.execute_reply.started": "2022-03-12T01:50:32.977969Z"
    },
    "tags": []
   },
   "outputs": [],
   "source": [
    "from testproblems import generate_random_prob\n",
    "from collections import OrderedDict\n",
    "from operators import sort_scc, reorder_merge_solve\n",
    "from nestedgraph import build_typedgraph\n",
    "from workflow import generate_workflow\n",
    "from graphutils import merge_edges"
   ]
  },
  {
   "cell_type": "code",
   "execution_count": 5,
   "id": "62a6399e-1724-41b8-b417-6060ac22fb48",
   "metadata": {
    "execution": {
     "iopub.execute_input": "2022-03-12T00:38:38.728487Z",
     "iopub.status.busy": "2022-03-12T00:38:38.727987Z",
     "iopub.status.idle": "2022-03-12T00:38:38.742992Z",
     "shell.execute_reply": "2022-03-12T00:38:38.742080Z",
     "shell.execute_reply.started": "2022-03-12T00:38:38.728487Z"
    },
    "tags": []
   },
   "outputs": [],
   "source": [
    "n_eqs = 4\n",
    "n_vars = 8\n",
    "seed = 42#8 is triang#seed 10 is nice\n",
    "sparsity = .8#1.1 #1.7\n",
    "eqv, varinc, dout = generate_random_prob(n_eqs, n_vars, seed, sparsity)\n",
    "Ein = {key: tuple(vr-n_eqs for vr in var if vr !=dout[key]) for key,var in eqv.items()}\n",
    "Eout = {key: (var-n_eqs,) for key,var in dout.items()}\n",
    "Rin = dict()\n",
    "Ftree=OrderedDict((idx,1) for idx in range(n_eqs))\n",
    "Stree=dict()\n",
    "Vtree=dict()\n",
    "edges = Ein, Eout, Rin\n",
    "tree = Ftree, Stree, Vtree"
   ]
  },
  {
   "cell_type": "code",
   "execution_count": 6,
   "id": "f47b254f-5b6c-47e5-a6f2-067e5b50cdd9",
   "metadata": {
    "execution": {
     "iopub.execute_input": "2022-03-12T00:38:38.744496Z",
     "iopub.status.busy": "2022-03-12T00:38:38.743987Z",
     "iopub.status.idle": "2022-03-12T00:38:38.757284Z",
     "shell.execute_reply": "2022-03-12T00:38:38.757284Z",
     "shell.execute_reply.started": "2022-03-12T00:38:38.744496Z"
    },
    "tags": []
   },
   "outputs": [],
   "source": [
    "G = flat_graph_formulation(*edges)\n",
    "merge_order = sort_scc(G)"
   ]
  },
  {
   "cell_type": "code",
   "execution_count": 7,
   "id": "5fcce8a0-b90d-4dbc-a12c-ff2a7e839a40",
   "metadata": {
    "execution": {
     "iopub.execute_input": "2022-03-12T00:38:39.220144Z",
     "iopub.status.busy": "2022-03-12T00:38:39.220144Z",
     "iopub.status.idle": "2022-03-12T00:38:39.239143Z",
     "shell.execute_reply": "2022-03-12T00:38:39.238227Z",
     "shell.execute_reply.started": "2022-03-12T00:38:39.220144Z"
    },
    "tags": []
   },
   "outputs": [
    {
     "data": {
      "text/plain": [
       "[{f_2}, {f_0, f_3}, {f_1}]"
      ]
     },
     "execution_count": 7,
     "metadata": {},
     "output_type": "execute_result"
    }
   ],
   "source": [
    "merge_order"
   ]
  },
  {
   "cell_type": "code",
   "execution_count": 8,
   "id": "b80a6b1f-7884-42c6-aedf-e0e43bef1216",
   "metadata": {
    "execution": {
     "iopub.execute_input": "2022-03-12T00:38:39.656621Z",
     "iopub.status.busy": "2022-03-12T00:38:39.655627Z",
     "iopub.status.idle": "2022-03-12T00:38:39.673623Z",
     "shell.execute_reply": "2022-03-12T00:38:39.672706Z",
     "shell.execute_reply.started": "2022-03-12T00:38:39.656621Z"
    },
    "tags": []
   },
   "outputs": [],
   "source": [
    "nedges, ntree = reorder_merge_solve(edges, tree, merge_order, 1, True)"
   ]
  },
  {
   "cell_type": "code",
   "execution_count": 9,
   "id": "53367647-bb38-4abb-af4f-b0c2e488b9cb",
   "metadata": {
    "execution": {
     "iopub.execute_input": "2022-03-12T00:38:39.843275Z",
     "iopub.status.busy": "2022-03-12T00:38:39.842262Z",
     "iopub.status.idle": "2022-03-12T00:38:39.860185Z",
     "shell.execute_reply": "2022-03-12T00:38:39.859276Z",
     "shell.execute_reply.started": "2022-03-12T00:38:39.842262Z"
    },
    "tags": []
   },
   "outputs": [
    {
     "data": {
      "text/plain": [
       "(OrderedDict([(2, 1), (0, 2), (3, 2), (1, 1)]), {2: 1}, {1: 2, 3: 2})"
      ]
     },
     "execution_count": 9,
     "metadata": {},
     "output_type": "execute_result"
    }
   ],
   "source": [
    "ntree"
   ]
  },
  {
   "cell_type": "code",
   "execution_count": 10,
   "id": "69161899-47ad-48c0-91e3-8e3f9a166798",
   "metadata": {
    "execution": {
     "iopub.execute_input": "2022-03-12T00:38:39.987812Z",
     "iopub.status.busy": "2022-03-12T00:38:39.987812Z",
     "iopub.status.idle": "2022-03-12T00:38:40.545745Z",
     "shell.execute_reply": "2022-03-12T00:38:40.545745Z",
     "shell.execute_reply.started": "2022-03-12T00:38:39.987812Z"
    },
    "tags": []
   },
   "outputs": [
    {
     "data": {
      "image/png": "[encoded data removed]",
      "text/plain": [
       "<Figure size 288x288 with 1 Axes>"
      ]
     },
     "metadata": {},
     "output_type": "display_data"
    },
    {
     "data": {
      "image/png": "[encoded data removed]",
      "text/plain": [
       "<Figure size 288x288 with 1 Axes>"
      ]
     },
     "metadata": {},
     "output_type": "display_data"
    }
   ],
   "source": [
    "graphs = build_typedgraph(nedges, ntree)\n",
    "for key,graph in graphs.items():\n",
    "    draw_graph_graphical_props(graph, {}, prog='circo', figsize=(4,4))"
   ]
  },
  {
   "cell_type": "markdown",
   "id": "e5e5e41f-16c9-456d-89ee-adf233e379c0",
   "metadata": {},
   "source": [
    "## Workflow resolve"
   ]
  },
  {
   "cell_type": "code",
   "execution_count": 13,
   "id": "4bc2ee14-9cc1-4e70-ae9e-3311b82830fd",
   "metadata": {
    "execution": {
     "iopub.execute_input": "2022-03-12T00:45:54.748252Z",
     "iopub.status.busy": "2022-03-12T00:45:54.748252Z",
     "iopub.status.idle": "2022-03-12T00:45:54.755887Z",
     "shell.execute_reply": "2022-03-12T00:45:54.755887Z",
     "shell.execute_reply.started": "2022-03-12T00:45:54.748252Z"
    }
   },
   "outputs": [
    {
     "data": {
      "text/plain": [
       "({0: (2, 3, 4, 5), 1: (1, 5), 2: (4, 5, 7), 3: (0, 1, 4, 5)},\n",
       " {3: (None,), 1: (6,), 2: (0,), 0: (None,)},\n",
       " {0: (1,), 3: (3,)})"
      ]
     },
     "execution_count": 13,
     "metadata": {},
     "output_type": "execute_result"
    }
   ],
   "source": [
    "nedges"
   ]
  },
  {
   "cell_type": "code",
   "execution_count": 56,
   "id": "501318cf-a4ec-4cf9-bb2a-afb289f8bd9b",
   "metadata": {
    "execution": {
     "iopub.execute_input": "2022-03-12T02:06:08.671526Z",
     "iopub.status.busy": "2022-03-12T02:06:08.671526Z",
     "iopub.status.idle": "2022-03-12T02:06:08.677527Z",
     "shell.execute_reply": "2022-03-12T02:06:08.676531Z",
     "shell.execute_reply.started": "2022-03-12T02:06:08.671526Z"
    },
    "tags": []
   },
   "outputs": [],
   "source": [
    "workflow = generate_workflow(nedges, ntree)"
   ]
  },
  {
   "cell_type": "code",
   "execution_count": 67,
   "id": "5ed0f68b-0e0e-4e54-b3f3-f388db6eb232",
   "metadata": {
    "execution": {
     "iopub.execute_input": "2022-03-12T02:11:28.129007Z",
     "iopub.status.busy": "2022-03-12T02:11:28.128008Z",
     "iopub.status.idle": "2022-03-12T02:11:28.145006Z",
     "shell.execute_reply": "2022-03-12T02:11:28.144004Z",
     "shell.execute_reply.started": "2022-03-12T02:11:28.129007Z"
    },
    "tags": []
   },
   "outputs": [
    {
     "data": {
      "text/plain": [
       "[('solver', 1, None, set(), set()),\n",
       " ('exec', 2, 1),\n",
       " ('solver', 2, 1, {1, 3}, {0, 3}),\n",
       " ('exec', 1, 1)]"
      ]
     },
     "execution_count": 67,
     "metadata": {},
     "output_type": "execute_result"
    }
   ],
   "source": [
    "workflow"
   ]
  },
  {
   "cell_type": "code",
   "execution_count": 97,
   "id": "13db049d-12e0-4fc6-bb08-37711c2fd90b",
   "metadata": {
    "execution": {
     "iopub.execute_input": "2022-03-12T02:34:13.041183Z",
     "iopub.status.busy": "2022-03-12T02:34:13.041183Z",
     "iopub.status.idle": "2022-03-12T02:34:13.044693Z",
     "shell.execute_reply": "2022-03-12T02:34:13.044149Z",
     "shell.execute_reply.started": "2022-03-12T02:34:13.041183Z"
    },
    "tags": []
   },
   "outputs": [],
   "source": [
    "def solver_workflow(a,b,c,d):\n",
    "    return [(fset[computation_map[elt]][0], f[fset[computation_map[elt]]]) for elt in d], c \n",
    "def exec_workflow(a,b):\n",
    "    edges = nedges\n",
    "    Ein = merge_edges(edges[0], edges[2])\n",
    "    Eout = edges[1]\n",
    "    return (Ein[a], f[fset[computation_map[a]]], Eout[a])"
   ]
  },
  {
   "cell_type": "code",
   "execution_count": 98,
   "id": "156671bf-7ad8-488c-8364-3e1318400314",
   "metadata": {
    "execution": {
     "iopub.execute_input": "2022-03-12T02:34:13.818722Z",
     "iopub.status.busy": "2022-03-12T02:34:13.818722Z",
     "iopub.status.idle": "2022-03-12T02:34:13.839934Z",
     "shell.execute_reply": "2022-03-12T02:34:13.839008Z",
     "shell.execute_reply.started": "2022-03-12T02:34:13.818722Z"
    },
    "tags": []
   },
   "outputs": [
    {
     "data": {
      "text/plain": [
       "[([], set()),\n",
       " ((4, 5, 7), 'eq2', (0,)),\n",
       " ([((1, 2, 3, 4, 5), 'eq0'), ((0, 1, 3, 4, 5), 'eq3')], {1, 3}),\n",
       " ((1, 5), 'eq1', (6,))]"
      ]
     },
     "execution_count": 98,
     "metadata": {},
     "output_type": "execute_result"
    }
   ],
   "source": [
    "[(solver_workflow(*elt[1:]) if elt[0] == 'solver' else exec_workflow(*elt[1:])) for elt in workflow]"
   ]
  },
  {
   "cell_type": "code",
   "execution_count": 35,
   "id": "e1ba640b-90a8-4a97-9d81-df36bd40fa96",
   "metadata": {
    "execution": {
     "iopub.execute_input": "2022-03-12T01:55:50.513314Z",
     "iopub.status.busy": "2022-03-12T01:55:50.511316Z",
     "iopub.status.idle": "2022-03-12T01:55:50.531031Z",
     "shell.execute_reply": "2022-03-12T01:55:50.530080Z",
     "shell.execute_reply.started": "2022-03-12T01:55:50.513314Z"
    }
   },
   "outputs": [],
   "source": [
    "comp = 0"
   ]
  },
  {
   "cell_type": "code",
   "execution_count": 70,
   "id": "4e92fe83-7602-4cd9-bfd6-175c78f1fb73",
   "metadata": {
    "execution": {
     "iopub.execute_input": "2022-03-12T02:26:44.362439Z",
     "iopub.status.busy": "2022-03-12T02:26:44.362439Z",
     "iopub.status.idle": "2022-03-12T02:26:44.367569Z",
     "shell.execute_reply": "2022-03-12T02:26:44.367445Z",
     "shell.execute_reply.started": "2022-03-12T02:26:44.362439Z"
    },
    "tags": []
   },
   "outputs": [],
   "source": [
    "f = {\n",
    "    ((1,2,3,4,5),0,(None,)): 'eq0',\n",
    "    ((0,1,3,4,5),3,(None,)): 'eq3',\n",
    "    ((1,5,),1,(6,)): 'eq1',\n",
    "    ((4,5,7),2,(0,)): 'eq2',\n",
    "}"
   ]
  },
  {
   "cell_type": "code",
   "execution_count": 71,
   "id": "c85fc4be-6319-4b1b-9f2f-618e0c43fe17",
   "metadata": {
    "execution": {
     "iopub.execute_input": "2022-03-12T02:26:46.837669Z",
     "iopub.status.busy": "2022-03-12T02:26:46.837091Z",
     "iopub.status.idle": "2022-03-12T02:26:46.849090Z",
     "shell.execute_reply": "2022-03-12T02:26:46.848589Z",
     "shell.execute_reply.started": "2022-03-12T02:26:46.837669Z"
    },
    "tags": []
   },
   "outputs": [],
   "source": [
    "fset = {(frozenset(ins),comp,frozenset(outs)): (ins,comp,outs) for ins,comp,outs in f.keys()}"
   ]
  },
  {
   "cell_type": "code",
   "execution_count": 72,
   "id": "df0cb3cb-597e-4841-8ed1-74916025937f",
   "metadata": {
    "execution": {
     "iopub.execute_input": "2022-03-12T02:26:49.139765Z",
     "iopub.status.busy": "2022-03-12T02:26:49.139765Z",
     "iopub.status.idle": "2022-03-12T02:26:49.151890Z",
     "shell.execute_reply": "2022-03-12T02:26:49.150982Z",
     "shell.execute_reply.started": "2022-03-12T02:26:49.139765Z"
    },
    "tags": []
   },
   "outputs": [],
   "source": [
    "def get_computation_map(edges):\n",
    "    Ein = merge_edges(edges[0], edges[2])\n",
    "    Eout = edges[1]\n",
    "    computation_map = dict()\n",
    "    for comp, ins in Ein.items():\n",
    "        key = (frozenset(ins),comp,frozenset(Eout[comp]))\n",
    "        computation_map[comp] = key\n",
    "    return computation_map"
   ]
  },
  {
   "cell_type": "code",
   "execution_count": 73,
   "id": "08ba86be-086a-4e84-b9b3-c0b7d3fb3f45",
   "metadata": {
    "execution": {
     "iopub.execute_input": "2022-03-12T02:26:49.410288Z",
     "iopub.status.busy": "2022-03-12T02:26:49.410288Z",
     "iopub.status.idle": "2022-03-12T02:26:49.414399Z",
     "shell.execute_reply": "2022-03-12T02:26:49.414399Z",
     "shell.execute_reply.started": "2022-03-12T02:26:49.410288Z"
    },
    "tags": []
   },
   "outputs": [],
   "source": [
    "computation_map = get_computation_map(nedges)"
   ]
  },
  {
   "cell_type": "code",
   "execution_count": 74,
   "id": "1e7907a9-0044-4369-a10a-c6699b557cc3",
   "metadata": {
    "execution": {
     "iopub.execute_input": "2022-03-12T02:26:50.044409Z",
     "iopub.status.busy": "2022-03-12T02:26:50.044409Z",
     "iopub.status.idle": "2022-03-12T02:26:50.051409Z",
     "shell.execute_reply": "2022-03-12T02:26:50.050910Z",
     "shell.execute_reply.started": "2022-03-12T02:26:50.044409Z"
    },
    "tags": []
   },
   "outputs": [
    {
     "data": {
      "text/plain": [
       "((1, 2, 3, 4, 5), 0, (None,))"
      ]
     },
     "execution_count": 74,
     "metadata": {},
     "output_type": "execute_result"
    }
   ],
   "source": [
    "fset[computation_map[0]]"
   ]
  },
  {
   "cell_type": "code",
   "execution_count": 18,
   "id": "3acb7f0e-b4c3-485c-9009-0e695b4be684",
   "metadata": {
    "execution": {
     "iopub.execute_input": "2022-03-12T01:50:58.038420Z",
     "iopub.status.busy": "2022-03-12T01:50:58.038420Z",
     "iopub.status.idle": "2022-03-12T01:50:58.054957Z",
     "shell.execute_reply": "2022-03-12T01:50:58.054419Z",
     "shell.execute_reply.started": "2022-03-12T01:50:58.038420Z"
    },
    "tags": []
   },
   "outputs": [],
   "source": [
    "Ein = merge_edges(nedges[0], nedges[2])"
   ]
  },
  {
   "cell_type": "code",
   "execution_count": 37,
   "id": "213483bb-b3d3-4512-b03a-979f5a951892",
   "metadata": {
    "execution": {
     "iopub.execute_input": "2022-03-12T01:56:25.558847Z",
     "iopub.status.busy": "2022-03-12T01:56:25.558348Z",
     "iopub.status.idle": "2022-03-12T01:56:25.575846Z",
     "shell.execute_reply": "2022-03-12T01:56:25.574851Z",
     "shell.execute_reply.started": "2022-03-12T01:56:25.558847Z"
    },
    "tags": []
   },
   "outputs": [],
   "source": [
    "key = frozenset(Ein[comp]),comp,frozenset(nedges[1][comp])"
   ]
  },
  {
   "cell_type": "code",
   "execution_count": 32,
   "id": "56331e57-ab99-4501-a3e7-5282cbbccbd3",
   "metadata": {
    "execution": {
     "iopub.execute_input": "2022-03-12T01:55:12.805051Z",
     "iopub.status.busy": "2022-03-12T01:55:12.805051Z",
     "iopub.status.idle": "2022-03-12T01:55:12.823162Z",
     "shell.execute_reply": "2022-03-12T01:55:12.823162Z",
     "shell.execute_reply.started": "2022-03-12T01:55:12.805051Z"
    },
    "tags": []
   },
   "outputs": [],
   "source": [
    "fset = {(frozenset(ins),comp,frozenset(outs)): (ins,comp,outs) for ins,comp,outs in f.keys()}"
   ]
  },
  {
   "cell_type": "code",
   "execution_count": 40,
   "id": "3617e491-104c-48df-8a28-68b177c40ea3",
   "metadata": {
    "execution": {
     "iopub.execute_input": "2022-03-12T01:56:37.374703Z",
     "iopub.status.busy": "2022-03-12T01:56:37.374703Z",
     "iopub.status.idle": "2022-03-12T01:56:37.378832Z",
     "shell.execute_reply": "2022-03-12T01:56:37.378708Z",
     "shell.execute_reply.started": "2022-03-12T01:56:37.374703Z"
    },
    "tags": []
   },
   "outputs": [
    {
     "data": {
      "text/plain": [
       "((1, 2, 3, 4, 5), 0, (None,))"
      ]
     },
     "execution_count": 40,
     "metadata": {},
     "output_type": "execute_result"
    }
   ],
   "source": [
    "fset[key]"
   ]
  },
  {
   "cell_type": "code",
   "execution_count": null,
   "id": "77936417-5f2d-4f3c-b2a1-ce017783ac5c",
   "metadata": {},
   "outputs": [],
   "source": []
  }
 ],
 "metadata": {
  "kernelspec": {
   "display_name": "Python [conda env:mdo]",
   "language": "python",
   "name": "conda-env-mdo-py"
  },
  "language_info": {
   "codemirror_mode": {
    "name": "ipython",
    "version": 3
   },
   "file_extension": ".py",
   "mimetype": "text/x-python",
   "name": "python",
   "nbconvert_exporter": "python",
   "pygments_lexer": "ipython3",
   "version": "3.9.7"
  }
 },
 "nbformat": 4,
 "nbformat_minor": 5
}
