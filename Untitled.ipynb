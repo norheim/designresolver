{
 "cells": [
  {
   "cell_type": "code",
   "execution_count": 6,
   "id": "ed7112a1-2133-4190-adb0-035673433fd7",
   "metadata": {},
   "outputs": [
    {
     "data": {
      "text/plain": [
       "''"
      ]
     },
     "execution_count": 6,
     "metadata": {},
     "output_type": "execute_result"
    }
   ],
   "source": [
    "import os\n",
    "stream = os.popen('dot -V')\n",
    "stream.read()"
   ]
  },
  {
   "cell_type": "code",
   "execution_count": 7,
   "id": "57eae5bb-5053-490d-b715-e5314c008764",
   "metadata": {},
   "outputs": [
    {
     "name": "stderr",
     "output_type": "stream",
     "text": [
      "dot - graphviz version 3.0.0 (20220226.1711)\n"
     ]
    }
   ],
   "source": [
    "!dot -V"
   ]
  },
  {
   "cell_type": "code",
   "execution_count": null,
   "id": "0cad8b6f-6e86-46b2-83fb-1578a2c96e09",
   "metadata": {},
   "outputs": [],
   "source": []
  }
 ],
 "metadata": {
  "kernelspec": {
   "display_name": "Python 3 (ipykernel)",
   "language": "python",
   "name": "python3"
  },
  "language_info": {
   "codemirror_mode": {
    "name": "ipython",
    "version": 3
   },
   "file_extension": ".py",
   "mimetype": "text/x-python",
   "name": "python",
   "nbconvert_exporter": "python",
   "pygments_lexer": "ipython3",
   "version": "3.9.7"
  }
 },
 "nbformat": 4,
 "nbformat_minor": 5
}
