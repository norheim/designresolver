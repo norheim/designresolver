{
 "cells": [
  {
   "cell_type": "code",
   "execution_count": 1,
   "id": "fb0f2787",
   "metadata": {
    "execution": {
     "iopub.execute_input": "2022-02-01T18:38:21.780632Z",
     "iopub.status.busy": "2022-02-01T18:38:21.779622Z",
     "iopub.status.idle": "2022-02-01T18:38:26.609076Z",
     "shell.execute_reply": "2022-02-01T18:38:26.608020Z",
     "shell.execute_reply.started": "2022-02-01T18:38:21.780632Z"
    },
    "tags": []
   },
   "outputs": [],
   "source": [
    "from compute import Var, Par, Model, adda, addf, addsolver, geteqs, ureg, Evaluable, buildidpvars, RefNode\n",
    "from compute import SOLVER, INTER, END, SolverNode\n",
    "from datastructures import notation_from_tree\n",
    "from notation import generate_execution, sort_scc, graphs_from_incidence, solvers_bottom_up, make_acyclic, default_sequence\n",
    "from operators import standardize\n",
    "from constants import ρinterp, Pinterp, Ginterp, Tinterp\n",
    "from scipy import interpolate\n",
    "import numpy as np\n",
    "import openmdao.api as om\n",
    "from representations import render_tree, digraph_repr, drawfull, tree_incidence, getpatchwindow\n",
    "from anytree import Node, PreOrderIter,LevelOrderIter,RenderTree\n",
    "from inputresolver import eqvars\n",
    "import networkx as nx"
   ]
  },
  {
   "cell_type": "code",
   "execution_count": 2,
   "id": "a6afa10b",
   "metadata": {
    "execution": {
     "iopub.execute_input": "2022-02-01T18:38:26.611029Z",
     "iopub.status.busy": "2022-02-01T18:38:26.611029Z",
     "iopub.status.idle": "2022-02-01T18:38:26.625030Z",
     "shell.execute_reply": "2022-02-01T18:38:26.624034Z",
     "shell.execute_reply.started": "2022-02-01T18:38:26.611029Z"
    },
    "tags": []
   },
   "outputs": [],
   "source": [
    "from notationcompute import optsolver, solver, explicit"
   ]
  },
  {
   "cell_type": "code",
   "execution_count": 3,
   "id": "ce17828c",
   "metadata": {
    "execution": {
     "iopub.execute_input": "2022-02-01T18:38:26.630029Z",
     "iopub.status.busy": "2022-02-01T18:38:26.629029Z",
     "iopub.status.idle": "2022-02-01T18:38:26.850059Z",
     "shell.execute_reply": "2022-02-01T18:38:26.846057Z",
     "shell.execute_reply.started": "2022-02-01T18:38:26.630029Z"
    },
    "tags": []
   },
   "outputs": [],
   "source": [
    "model = Model()\n",
    "m = RefNode(name='/', ref=model)\n",
    "rho0 = Par('\\\\rho_0', ρinterp(0), 'kg/m^3')\n",
    "T0 = Par('T_0', Tinterp(0), 'K')\n",
    "P0 = Par('P_0', Pinterp(0), 'Pa')\n",
    "G0 = Par('G_0', Ginterp(0), 'm/s^2')\n",
    "\n",
    "k = Par('k', 1.38064852e-23, 'J/K')\n",
    "mm_He = Par('M_{He}', 6.64e-27, 'kg')\n",
    "mm_H2 = Par('M_{H2}', 1.66e-27, 'kg')\n",
    "C_D = Par('C_D', 0.47)\n",
    "\n",
    "m_parafoil = Par('m_v', 500., 'kg')\n",
    "m_vhc = Par('m_p', 4624, 'kg')\n",
    "m_lg = Var('m_l', unit='kg')\n",
    "m_b = Var('m_b', unit='kg')\n",
    "m_t = Var('m_t', unit='kg')\n",
    "adda(m, m_t, m_vhc+m_parafoil+m_lg)\n",
    "\n",
    "alpha = Par('a', 1)\n",
    "v_rise = Par('v', 6, 'm/s')\n",
    "r0 = Var('r_0', unit='m')\n",
    "A0 = adda(m, 'A_0', np.pi*r0**2)\n",
    "V0 = adda(m, 'V_0', 4/3*np.pi*r0**3)\n",
    "rho_LG0 = adda(m, '\\\\rho_{LG0}', P0*(alpha*mm_He+(1-alpha)*mm_H2)/(k*T0))\n",
    "adda(m, m_lg, V0*rho_LG0)\n",
    "\n",
    "L0 = adda(m, 'L_0', rho0*V0*G0)\n",
    "W0 = adda(m, 'W_0', m_t*G0)\n",
    "D0 = adda(m, 'D_0', 1/2*C_D*rho0*v_rise**2*A0)\n",
    "R1 = addf(m, L0-D0-W0, name='R_2')\n",
    "s1 = addsolver(m, geteqs(m, [A0, V0, rho_LG0, m_lg, L0, W0, D0]), [(R1, r0)], name='s1')"
   ]
  },
  {
   "cell_type": "code",
   "execution_count": 4,
   "id": "451aea52-45d9-4a89-b291-f9ac43ffa760",
   "metadata": {
    "execution": {
     "iopub.execute_input": "2022-02-01T18:38:26.856063Z",
     "iopub.status.busy": "2022-02-01T18:38:26.856063Z",
     "iopub.status.idle": "2022-02-01T18:38:26.941059Z",
     "shell.execute_reply": "2022-02-01T18:38:26.939057Z",
     "shell.execute_reply.started": "2022-02-01T18:38:26.856063Z"
    },
    "tags": []
   },
   "outputs": [],
   "source": [
    "z = 30e3\n",
    "rhoval = Par('\\\\rho_z', ρinterp(z), 'kg/m^3')\n",
    "pval = Par('P_z', Pinterp(z), 'Pa')\n",
    "Tval = Par('T_z', Tinterp(z), 'K')\n",
    "gval = Par('G_z', Ginterp(z), 'm/s^2')\n",
    "rz = Var('r_z', unit='m')\n",
    "hz = adda(m, 'h_z', 2*(3/2)*rz)\n",
    "Vz = adda(m, 'V_z', 4/3*np.pi*rz**3)\n",
    "rho_LGz = adda(m, '\\\\rho_{LGz}', pval*(alpha*mm_He+(1-alpha)*mm_H2)/(k*Tval))\n",
    "R2 = addf(m, m_lg-Vz*rho_LGz, name='R_2') #needs to have same mass as balloon at STP\n",
    "s2 = addsolver(m, geteqs(m, [rz, hz, Vz, rho_LGz]), [(R2, rz)], name='s2')"
   ]
  },
  {
   "cell_type": "code",
   "execution_count": 5,
   "id": "ce59a58b-e5a3-4668-af34-098570b52763",
   "metadata": {
    "execution": {
     "iopub.execute_input": "2022-02-01T18:38:27.726107Z",
     "iopub.status.busy": "2022-02-01T18:38:27.726107Z",
     "iopub.status.idle": "2022-02-01T18:38:27.758071Z",
     "shell.execute_reply": "2022-02-01T18:38:27.757115Z",
     "shell.execute_reply.started": "2022-02-01T18:38:27.726107Z"
    },
    "tags": []
   },
   "outputs": [],
   "source": [
    "G, graphs = graphs_from_incidence(m, from_root=True)"
   ]
  },
  {
   "cell_type": "code",
   "execution_count": 6,
   "id": "c01a71e2-1a2b-40f2-a0c2-a4aa7c9f1483",
   "metadata": {
    "execution": {
     "iopub.execute_input": "2022-02-01T18:38:28.576929Z",
     "iopub.status.busy": "2022-02-01T18:38:28.576929Z",
     "iopub.status.idle": "2022-02-01T18:38:28.590926Z",
     "shell.execute_reply": "2022-02-01T18:38:28.589929Z",
     "shell.execute_reply.started": "2022-02-01T18:38:28.576929Z"
    },
    "tags": []
   },
   "outputs": [],
   "source": [
    "m2 = make_acyclic(m, graphs)"
   ]
  },
  {
   "cell_type": "code",
   "execution_count": 7,
   "id": "dcef4ff5-aa6d-4192-93ea-de0c192f9097",
   "metadata": {
    "execution": {
     "iopub.execute_input": "2022-02-01T18:38:30.842634Z",
     "iopub.status.busy": "2022-02-01T18:38:30.842634Z",
     "iopub.status.idle": "2022-02-01T18:38:30.861629Z",
     "shell.execute_reply": "2022-02-01T18:38:30.860628Z",
     "shell.execute_reply.started": "2022-02-01T18:38:30.842634Z"
    },
    "tags": []
   },
   "outputs": [
    {
     "name": "stdout",
     "output_type": "stream",
     "text": [
      "/               \n",
      "├── ., SOLVER   \n",
      "│   ├── f_{1}, END\n",
      "│   ├── f_{2}, END\n",
      "│   ├── f_{3}, END\n",
      "│   ├── f_{6}, END\n",
      "│   ├── f_{7}, END\n",
      "│   ├── f_{5}, END\n",
      "│   ├── f_{4}, END\n",
      "│   ├── R_2, END\n",
      "│   └── f_{0}, END\n",
      "└── s2, SOLVER  \n",
      "    ├── f_{9}, INTER\n",
      "    ├── f_{10}, INTER\n",
      "    ├── f_{11}, INTER\n",
      "    └── R_2, END\n"
     ]
    }
   ],
   "source": [
    "render_tree(m2, display_type=True)"
   ]
  },
  {
   "cell_type": "code",
   "execution_count": 10,
   "id": "efb4efbe-6f54-41b2-989e-89ec3b1cedff",
   "metadata": {
    "execution": {
     "iopub.execute_input": "2022-02-01T18:38:50.615806Z",
     "iopub.status.busy": "2022-02-01T18:38:50.614811Z",
     "iopub.status.idle": "2022-02-01T18:38:50.624811Z",
     "shell.execute_reply": "2022-02-01T18:38:50.623807Z",
     "shell.execute_reply.started": "2022-02-01T18:38:50.615806Z"
    },
    "tags": []
   },
   "outputs": [],
   "source": [
    "sequence_m2 = default_sequence(m2)\n",
    "sequence_m = default_sequence(m)"
   ]
  },
  {
   "cell_type": "code",
   "execution_count": 11,
   "id": "4400f9a2-31a6-4760-b989-77a7550689ee",
   "metadata": {
    "execution": {
     "iopub.execute_input": "2022-02-01T18:38:56.699734Z",
     "iopub.status.busy": "2022-02-01T18:38:56.698738Z",
     "iopub.status.idle": "2022-02-01T18:38:57.516697Z",
     "shell.execute_reply": "2022-02-01T18:38:57.515737Z",
     "shell.execute_reply.started": "2022-02-01T18:38:56.699734Z"
    },
    "tags": []
   },
   "outputs": [
    {
     "data": {
      "image/png": "[encoded data removed]",
      "text/plain": [
       "<Figure size 720x720 with 1 Axes>"
      ]
     },
     "metadata": {
      "needs_background": "light"
     },
     "output_type": "display_data"
    }
   ],
   "source": [
    "tree_incidence(m, eqvars(model.eqs), model.outset, sequence_m, figsize=(10,10));"
   ]
  },
  {
   "cell_type": "code",
   "execution_count": 11,
   "id": "9ea22788-9b3c-4336-847f-abf208e24b35",
   "metadata": {
    "execution": {
     "iopub.execute_input": "2022-02-01T18:30:00.297419Z",
     "iopub.status.busy": "2022-02-01T18:30:00.296424Z",
     "iopub.status.idle": "2022-02-01T18:30:00.317417Z",
     "shell.execute_reply": "2022-02-01T18:30:00.316414Z",
     "shell.execute_reply.started": "2022-02-01T18:30:00.297419Z"
    },
    "tags": []
   },
   "outputs": [
    {
     "name": "stdout",
     "output_type": "stream",
     "text": [
      "/               \n",
      "├── ., SOLVER   \n",
      "│   ├── f_{1}, END\n",
      "│   ├── f_{2}, END\n",
      "│   ├── f_{3}, END\n",
      "│   ├── f_{6}, END\n",
      "│   ├── f_{7}, END\n",
      "│   ├── f_{5}, END\n",
      "│   ├── f_{4}, END\n",
      "│   └── f_{0}, END\n",
      "└── s2, SOLVER  \n",
      "    ├── f_{9}, INTER\n",
      "    ├── f_{10}, INTER\n",
      "    ├── f_{11}, INTER\n",
      "    └── R_2, END\n"
     ]
    }
   ],
   "source": [
    "render_tree(m2, display_type=True)"
   ]
  },
  {
   "cell_type": "code",
   "execution_count": 20,
   "id": "e5502088-7cd1-417a-8544-45b67d76d91b",
   "metadata": {
    "execution": {
     "iopub.execute_input": "2022-02-01T16:26:02.464093Z",
     "iopub.status.busy": "2022-02-01T16:26:02.464093Z",
     "iopub.status.idle": "2022-02-01T16:26:02.496095Z",
     "shell.execute_reply": "2022-02-01T16:26:02.495094Z",
     "shell.execute_reply.started": "2022-02-01T16:26:02.464093Z"
    },
    "tags": []
   },
   "outputs": [],
   "source": [
    "G, graphs = graphs_from_incidence(m2, from_root=True)"
   ]
  },
  {
   "cell_type": "code",
   "execution_count": 23,
   "id": "a761aa78-c94e-499b-b0e7-9cf1d45de332",
   "metadata": {
    "execution": {
     "iopub.execute_input": "2022-02-01T16:26:35.756119Z",
     "iopub.status.busy": "2022-02-01T16:26:35.755117Z",
     "iopub.status.idle": "2022-02-01T16:26:35.767117Z",
     "shell.execute_reply": "2022-02-01T16:26:35.766117Z",
     "shell.execute_reply.started": "2022-02-01T16:26:35.756119Z"
    },
    "tags": []
   },
   "outputs": [],
   "source": [
    "newsolver = list(graphs.keys())[0]"
   ]
  },
  {
   "cell_type": "code",
   "execution_count": 24,
   "id": "53b860ef-a251-4de1-9cf1-0b234e4eacda",
   "metadata": {
    "execution": {
     "iopub.execute_input": "2022-02-01T16:26:36.335192Z",
     "iopub.status.busy": "2022-02-01T16:26:36.334193Z",
     "iopub.status.idle": "2022-02-01T16:26:37.476190Z",
     "shell.execute_reply": "2022-02-01T16:26:37.475195Z",
     "shell.execute_reply.started": "2022-02-01T16:26:36.335192Z"
    },
    "tags": []
   },
   "outputs": [
    {
     "data": {
      "image/png": "[encoded data removed]",
      "text/plain": [
       "<Figure size 720x720 with 1 Axes>"
      ]
     },
     "metadata": {},
     "output_type": "display_data"
    }
   ],
   "source": [
    "drawfull(graphs[newsolver], m2.ref.eqs, figsize=(10,10))"
   ]
  },
  {
   "cell_type": "code",
   "execution_count": 16,
   "id": "3483f8fa-2374-4337-9977-bfb55794f527",
   "metadata": {
    "execution": {
     "iopub.execute_input": "2022-02-01T16:22:31.208659Z",
     "iopub.status.busy": "2022-02-01T16:22:31.207646Z",
     "iopub.status.idle": "2022-02-01T16:22:31.338647Z",
     "shell.execute_reply": "2022-02-01T16:22:31.337647Z",
     "shell.execute_reply.started": "2022-02-01T16:22:31.208659Z"
    },
    "tags": []
   },
   "outputs": [],
   "source": [
    "branch_node = m"
   ]
  },
  {
   "cell_type": "code",
   "execution_count": 17,
   "id": "57d706fd-e4ca-4d93-b3c9-755a6d4b23e1",
   "metadata": {
    "execution": {
     "iopub.execute_input": "2022-02-01T16:22:31.348647Z",
     "iopub.status.busy": "2022-02-01T16:22:31.348647Z",
     "iopub.status.idle": "2022-02-01T16:22:31.370649Z",
     "shell.execute_reply": "2022-02-01T16:22:31.369647Z",
     "shell.execute_reply.started": "2022-02-01T16:22:31.348647Z"
    },
    "tags": []
   },
   "outputs": [],
   "source": [
    "#first copy all the leaves (from the m.tree)\n",
    "model = branch_node.ref\n",
    "m_new = RefNode(name='/', ref=model)"
   ]
  },
  {
   "cell_type": "code",
   "execution_count": 18,
   "id": "4f4f0c36-876e-4aaa-bafe-7bec18969062",
   "metadata": {
    "execution": {
     "iopub.execute_input": "2022-02-01T16:22:31.381646Z",
     "iopub.status.busy": "2022-02-01T16:22:31.381646Z",
     "iopub.status.idle": "2022-02-01T16:22:31.402646Z",
     "shell.execute_reply": "2022-02-01T16:22:31.401645Z",
     "shell.execute_reply.started": "2022-02-01T16:22:31.381646Z"
    },
    "tags": []
   },
   "outputs": [],
   "source": [
    "new_nodes = {elt: RefNode(elt.name, ref=elt.ref, node_type=elt.node_type) if elt.node_type !=SOLVER else SolverNode(elt.name, m_new, refonly=True) for elt in PreOrderIter(branch_node) if elt != branch_node}\n",
    "new_nodes[branch_node] = m_new"
   ]
  },
  {
   "cell_type": "code",
   "execution_count": 19,
   "id": "cbf66c30-85c3-462d-b7c4-211059f1850a",
   "metadata": {
    "execution": {
     "iopub.execute_input": "2022-02-01T16:22:31.411648Z",
     "iopub.status.busy": "2022-02-01T16:22:31.410649Z",
     "iopub.status.idle": "2022-02-01T16:22:31.435647Z",
     "shell.execute_reply": "2022-02-01T16:22:31.433650Z",
     "shell.execute_reply.started": "2022-02-01T16:22:31.411648Z"
    },
    "tags": []
   },
   "outputs": [],
   "source": [
    "from_root = True\n",
    "merge_order = solvers_bottom_up(branch_node, from_root)"
   ]
  },
  {
   "cell_type": "code",
   "execution_count": 28,
   "id": "a4f4c23c-e60a-49cd-9052-09c9cea9ce70",
   "metadata": {
    "execution": {
     "iopub.execute_input": "2022-02-01T16:22:47.390305Z",
     "iopub.status.busy": "2022-02-01T16:22:47.389312Z",
     "iopub.status.idle": "2022-02-01T16:22:47.398305Z",
     "shell.execute_reply": "2022-02-01T16:22:47.397303Z",
     "shell.execute_reply.started": "2022-02-01T16:22:47.390305Z"
    },
    "tags": []
   },
   "outputs": [],
   "source": [
    "solver_branch = merge_order[2]"
   ]
  },
  {
   "cell_type": "code",
   "execution_count": 29,
   "id": "b04a04dd-b766-4269-85a6-e4d727b9ed74",
   "metadata": {
    "execution": {
     "iopub.execute_input": "2022-02-01T16:22:47.837374Z",
     "iopub.status.busy": "2022-02-01T16:22:47.836370Z",
     "iopub.status.idle": "2022-02-01T16:22:47.857369Z",
     "shell.execute_reply": "2022-02-01T16:22:47.856370Z",
     "shell.execute_reply.started": "2022-02-01T16:22:47.837374Z"
    },
    "tags": []
   },
   "outputs": [],
   "source": [
    "mdf = True\n",
    "scc = sort_scc(graphs[solver_branch], [elt for elt in solver_branch.children])"
   ]
  },
  {
   "cell_type": "code",
   "execution_count": 30,
   "id": "903dc657-3ee8-4c59-abea-93769d9f00c4",
   "metadata": {
    "execution": {
     "iopub.execute_input": "2022-02-01T16:22:48.341252Z",
     "iopub.status.busy": "2022-02-01T16:22:48.340253Z",
     "iopub.status.idle": "2022-02-01T16:22:48.359252Z",
     "shell.execute_reply": "2022-02-01T16:22:48.358250Z",
     "shell.execute_reply.started": "2022-02-01T16:22:48.341252Z"
    },
    "tags": []
   },
   "outputs": [],
   "source": [
    "order = []\n",
    "for cc in scc:\n",
    "    if len(cc) == 1:\n",
    "        node = next(iter(cc))\n",
    "        new_nodes[node].parent = new_nodes[solver_branch]\n",
    "    else:\n",
    "        stcc = []\n",
    "        for node in cc:\n",
    "            stcc += standardize(new_nodes[node])\n",
    "            if node.node_type==SOLVER: #we \"delete' the solver node\n",
    "                new_nodes[node].parent = None\n",
    "        if mdf:\n",
    "            order += [addsolver(new_nodes[solver_branch], stcc)]\n",
    "        else:\n",
    "            order += stcc"
   ]
  },
  {
   "cell_type": "code",
   "execution_count": 31,
   "id": "f6ce8ec2-1300-4dfa-b9a3-53f9acc367a8",
   "metadata": {
    "execution": {
     "iopub.execute_input": "2022-02-01T16:22:48.717463Z",
     "iopub.status.busy": "2022-02-01T16:22:48.716454Z",
     "iopub.status.idle": "2022-02-01T16:22:48.733455Z",
     "shell.execute_reply": "2022-02-01T16:22:48.732459Z",
     "shell.execute_reply.started": "2022-02-01T16:22:48.717463Z"
    },
    "tags": []
   },
   "outputs": [
    {
     "name": "stdout",
     "output_type": "stream",
     "text": [
      "/               \n",
      "├── .           \n",
      "│   ├── f_0     \n",
      "│   ├── f_1     \n",
      "│   ├── f_2     \n",
      "│   ├── f_3     \n",
      "│   ├── f_6     \n",
      "│   ├── f_7     \n",
      "│   ├── f_5     \n",
      "│   └── f_4     \n",
      "└── s2          \n",
      "    ├── f_9     \n",
      "    ├── f_10    \n",
      "    ├── f_11    \n",
      "    └── r_12    \n"
     ]
    }
   ],
   "source": [
    "render_tree(m_new)"
   ]
  },
  {
   "cell_type": "code",
   "execution_count": 69,
   "id": "f628d49c-a446-4768-a9c1-f7f7c337877b",
   "metadata": {
    "execution": {
     "iopub.execute_input": "2022-01-27T22:05:37.768816Z",
     "iopub.status.busy": "2022-01-27T22:05:37.768816Z",
     "iopub.status.idle": "2022-01-27T22:05:37.782810Z",
     "shell.execute_reply": "2022-01-27T22:05:37.781809Z",
     "shell.execute_reply.started": "2022-01-27T22:05:37.768816Z"
    },
    "tags": []
   },
   "outputs": [
    {
     "name": "stdout",
     "output_type": "stream",
     "text": [
      "/None           \n",
      "└── s1NodeTypes.SOLVER\n",
      "    ├── f_1NodeTypes.INTER\n",
      "    ├── f_2NodeTypes.INTER\n",
      "    ├── f_3NodeTypes.INTER\n",
      "    ├── f_7NodeTypes.INTER\n",
      "    ├── f_5NodeTypes.INTER\n",
      "    ├── f_4NodeTypes.INTER\n",
      "    ├── f_0NodeTypes.INTER\n",
      "    ├── f_6NodeTypes.INTER\n",
      "    └── r_8NodeTypes.END\n"
     ]
    }
   ],
   "source": [
    "for pre, _, node in RenderTree(m2):\n",
    "        treestr = u\"{}{}{}\".format(pre, node.name, node.node_type)\n",
    "        print(treestr.ljust(16))"
   ]
  },
  {
   "cell_type": "code",
   "execution_count": 23,
   "id": "079e1d87-0331-4678-99b4-5491a5790661",
   "metadata": {
    "execution": {
     "iopub.execute_input": "2022-01-26T22:37:26.205831Z",
     "iopub.status.busy": "2022-01-26T22:37:26.204832Z",
     "iopub.status.idle": "2022-01-26T22:37:26.219831Z",
     "shell.execute_reply": "2022-01-26T22:37:26.218835Z",
     "shell.execute_reply.started": "2022-01-26T22:37:26.205831Z"
    }
   },
   "outputs": [],
   "source": [
    "scc = sort_scc(graphs[solver], eqs)"
   ]
  },
  {
   "cell_type": "code",
   "execution_count": 24,
   "id": "21d260d4-99b6-4b8d-a450-6ee22ee4beba",
   "metadata": {
    "execution": {
     "iopub.execute_input": "2022-01-26T22:37:29.302435Z",
     "iopub.status.busy": "2022-01-26T22:37:29.302435Z",
     "iopub.status.idle": "2022-01-26T22:37:29.321435Z",
     "shell.execute_reply": "2022-01-26T22:37:29.320429Z",
     "shell.execute_reply.started": "2022-01-26T22:37:29.302435Z"
    }
   },
   "outputs": [
    {
     "data": {
      "text/plain": [
       "[{f_1}, {f_2}, {f_6}, {f_7}, {f_4}, {f_5}, {r_8}]"
      ]
     },
     "execution_count": 24,
     "metadata": {},
     "output_type": "execute_result"
    }
   ],
   "source": [
    "scc"
   ]
  },
  {
   "cell_type": "code",
   "execution_count": null,
   "id": "96ca614e-7ef1-458d-905e-0ca1a163e1cd",
   "metadata": {},
   "outputs": [],
   "source": [
    "for solver in merge_order:\n",
    "    scc = sort_scc(graphs[solver], eqs)\n",
    "    order = []\n",
    "    for cc in scc:\n",
    "        if len(cc) == 1:\n",
    "            order += [next(iter(cc))]\n",
    "        else:\n",
    "            stcc = [elt for node in cc for elt in standardize(cc)]\n",
    "            if mdf:\n",
    "                order += [addsolver(solver, stcc)]\n",
    "            else:\n",
    "                order += stcc\n",
    "    for node in order: # to order things correctly\n",
    "        node.parent = solver"
   ]
  },
  {
   "cell_type": "code",
   "execution_count": 4,
   "id": "338998a9-a08f-493d-9d54-3b6e10aa20af",
   "metadata": {
    "execution": {
     "iopub.execute_input": "2022-01-22T16:43:51.485396Z",
     "iopub.status.busy": "2022-01-22T16:43:51.482393Z",
     "iopub.status.idle": "2022-01-22T16:43:51.496394Z",
     "shell.execute_reply": "2022-01-22T16:43:51.495397Z",
     "shell.execute_reply.started": "2022-01-22T16:43:51.485396Z"
    },
    "tags": []
   },
   "outputs": [],
   "source": [
    "eqs, eqv, dout, _ = m.data_structures()"
   ]
  },
  {
   "cell_type": "code",
   "execution_count": 5,
   "id": "df727a4c-c9cc-4362-9ba1-1bfc39272a20",
   "metadata": {
    "execution": {
     "iopub.execute_input": "2022-01-22T16:43:51.505404Z",
     "iopub.status.busy": "2022-01-22T16:43:51.503394Z",
     "iopub.status.idle": "2022-01-22T16:43:51.528394Z",
     "shell.execute_reply": "2022-01-22T16:43:51.527400Z",
     "shell.execute_reply.started": "2022-01-22T16:43:51.505404Z"
    },
    "tags": []
   },
   "outputs": [],
   "source": [
    "G, _ = digraph_repr(eqv, dout, intermediary=True)"
   ]
  },
  {
   "cell_type": "code",
   "execution_count": 6,
   "id": "a1ba2859-83c1-430e-8099-73a81e2b6733",
   "metadata": {
    "execution": {
     "iopub.execute_input": "2022-01-22T16:43:51.533394Z",
     "iopub.status.busy": "2022-01-22T16:43:51.532399Z",
     "iopub.status.idle": "2022-01-22T16:43:51.545394Z",
     "shell.execute_reply": "2022-01-22T16:43:51.543395Z",
     "shell.execute_reply.started": "2022-01-22T16:43:51.533394Z"
    },
    "tags": []
   },
   "outputs": [],
   "source": [
    "seq = [n for elt in sort_mdf(G, eqs) for n in elt]"
   ]
  },
  {
   "cell_type": "code",
   "execution_count": 7,
   "id": "2ca6504f-c8be-4e19-9e1e-79dfd8fac105",
   "metadata": {
    "execution": {
     "iopub.execute_input": "2022-01-22T16:43:51.548398Z",
     "iopub.status.busy": "2022-01-22T16:43:51.548398Z",
     "iopub.status.idle": "2022-01-22T16:43:51.561423Z",
     "shell.execute_reply": "2022-01-22T16:43:51.559395Z",
     "shell.execute_reply.started": "2022-01-22T16:43:51.548398Z"
    },
    "tags": []
   },
   "outputs": [],
   "source": [
    "s = addsolver(m, seq, [('r_8', r0)]) #states that everything else will be considered an input\n",
    "addsolver(s, otherseq) #<- otherseq could either be within seq or not\n",
    "# there should also be an option to declare which variables should be inputs"
   ]
  },
  {
   "cell_type": "code",
   "execution_count": 8,
   "id": "a9bd6bbc-7902-4aa1-b902-669f92acae8d",
   "metadata": {
    "execution": {
     "iopub.execute_input": "2022-01-22T16:43:51.565394Z",
     "iopub.status.busy": "2022-01-22T16:43:51.564395Z",
     "iopub.status.idle": "2022-01-22T16:43:51.576396Z",
     "shell.execute_reply": "2022-01-22T16:43:51.575399Z",
     "shell.execute_reply.started": "2022-01-22T16:43:51.565394Z"
    },
    "tags": []
   },
   "outputs": [],
   "source": [
    "_,_,_,dins = m.data_structures() #dins update because we added r0 to the outputset"
   ]
  },
  {
   "cell_type": "code",
   "execution_count": 11,
   "id": "b3c9c4d2-9200-4b34-bd32-8df09b2d8371",
   "metadata": {
    "execution": {
     "iopub.execute_input": "2022-01-22T16:42:27.551629Z",
     "iopub.status.busy": "2022-01-22T16:42:27.550628Z",
     "iopub.status.idle": "2022-01-22T16:42:27.560627Z",
     "shell.execute_reply": "2022-01-22T16:42:27.559629Z",
     "shell.execute_reply.started": "2022-01-22T16:42:27.551629Z"
    },
    "tags": []
   },
   "outputs": [],
   "source": [
    "# add all to a solver (which is technically a feasability solver, aka isoperf that we don't have)\n",
    "# which we further specialize into a projected feasability solver"
   ]
  },
  {
   "cell_type": "code",
   "execution_count": 9,
   "id": "4439a31e-d0b0-4f8b-bc10-212257529889",
   "metadata": {
    "execution": {
     "iopub.execute_input": "2022-01-22T16:43:51.580394Z",
     "iopub.status.busy": "2022-01-22T16:43:51.579395Z",
     "iopub.status.idle": "2022-01-22T16:43:51.611402Z",
     "shell.execute_reply": "2022-01-22T16:43:51.608399Z",
     "shell.execute_reply.started": "2022-01-22T16:43:51.580394Z"
    },
    "tags": []
   },
   "outputs": [],
   "source": [
    "notation = notation_from_tree(s, m.outset)"
   ]
  },
  {
   "cell_type": "code",
   "execution_count": 10,
   "id": "f09b3a11-60bc-46e6-87f6-97721695d4ee",
   "metadata": {
    "execution": {
     "iopub.execute_input": "2022-01-22T16:43:51.622408Z",
     "iopub.status.busy": "2022-01-22T16:43:51.621397Z",
     "iopub.status.idle": "2022-01-22T16:43:51.639399Z",
     "shell.execute_reply": "2022-01-22T16:43:51.638397Z",
     "shell.execute_reply.started": "2022-01-22T16:43:51.622408Z"
    },
    "tags": []
   },
   "outputs": [
    {
     "data": {
      "text/plain": [
       "([r0],\n",
       " [(A0, 'f_1'),\n",
       "  (V0, 'f_2'),\n",
       "  (rho_LG0, 'f_3'),\n",
       "  (D0, 'f_7'),\n",
       "  (L0, 'f_5'),\n",
       "  (m_l, 'f_4'),\n",
       "  (m_t, 'f_0'),\n",
       "  (W0, 'f_6'),\n",
       "  'r_8'])"
      ]
     },
     "execution_count": 10,
     "metadata": {},
     "output_type": "execute_result"
    }
   ],
   "source": [
    "notation"
   ]
  },
  {
   "cell_type": "markdown",
   "id": "1e6e7fc0-f2e9-4533-9fc7-ecbb1725d629",
   "metadata": {},
   "source": [
    "# Execution"
   ]
  },
  {
   "cell_type": "code",
   "execution_count": 11,
   "id": "861038f6",
   "metadata": {
    "execution": {
     "iopub.execute_input": "2022-01-22T16:43:51.644394Z",
     "iopub.status.busy": "2022-01-22T16:43:51.642397Z",
     "iopub.status.idle": "2022-01-22T16:43:51.655398Z",
     "shell.execute_reply": "2022-01-22T16:43:51.653395Z",
     "shell.execute_reply.started": "2022-01-22T16:43:51.643399Z"
    },
    "tags": []
   },
   "outputs": [],
   "source": [
    "prob = om.Problem()\n",
    "model = prob.model\n",
    "groups = {0:model}"
   ]
  },
  {
   "cell_type": "code",
   "execution_count": 12,
   "id": "010133ab",
   "metadata": {
    "execution": {
     "iopub.execute_input": "2022-01-22T16:43:51.661397Z",
     "iopub.status.busy": "2022-01-22T16:43:51.661397Z",
     "iopub.status.idle": "2022-01-22T16:43:51.688394Z",
     "shell.execute_reply": "2022-01-22T16:43:51.686402Z",
     "shell.execute_reply.started": "2022-01-22T16:43:51.661397Z"
    },
    "tags": []
   },
   "outputs": [
    {
     "data": {
      "text/plain": [
       "set()"
      ]
     },
     "execution_count": 12,
     "metadata": {},
     "output_type": "execute_result"
    }
   ],
   "source": [
    "{elt for elt in dins if not elt.always_input}"
   ]
  },
  {
   "cell_type": "code",
   "execution_count": 13,
   "id": "5c10b377-cf32-4021-b324-8c764edcbc1c",
   "metadata": {
    "execution": {
     "iopub.execute_input": "2022-01-22T16:43:58.228715Z",
     "iopub.status.busy": "2022-01-22T16:43:58.228715Z",
     "iopub.status.idle": "2022-01-22T16:43:58.249701Z",
     "shell.execute_reply": "2022-01-22T16:43:58.248699Z",
     "shell.execute_reply.started": "2022-01-22T16:43:58.228715Z"
    },
    "tags": []
   },
   "outputs": [
    {
     "data": {
      "text/plain": [
       "[C_D, a, v, T0, G0, mp, k, mm_H2, P0, mm_He, rho0, mv]"
      ]
     },
     "execution_count": 13,
     "metadata": {},
     "output_type": "execute_result"
    }
   ],
   "source": [
    "dins"
   ]
  },
  {
   "cell_type": "code",
   "execution_count": 14,
   "id": "1135783d",
   "metadata": {
    "execution": {
     "iopub.execute_input": "2022-01-22T16:44:04.019017Z",
     "iopub.status.busy": "2022-01-22T16:44:04.018023Z",
     "iopub.status.idle": "2022-01-22T16:44:04.032019Z",
     "shell.execute_reply": "2022-01-22T16:44:04.031024Z",
     "shell.execute_reply.started": "2022-01-22T16:44:04.019017Z"
    },
    "tags": []
   },
   "outputs": [],
   "source": [
    "buildidpvars(dins, model)"
   ]
  },
  {
   "cell_type": "code",
   "execution_count": null,
   "id": "e6b0e3ec",
   "metadata": {},
   "outputs": [],
   "source": [
    "[([r], [(A0, 1), (V0, 2), (rho_LG0, 3), (m_lg, 4), (m_t, 0), (L0, 0), (W0, 0), (D0, 0)])]"
   ]
  },
  {
   "cell_type": "code",
   "execution_count": 17,
   "id": "a7867a82-bcb2-4247-bd76-155769d15c5c",
   "metadata": {
    "execution": {
     "iopub.execute_input": "2022-01-22T16:47:40.273951Z",
     "iopub.status.busy": "2022-01-22T16:47:40.272955Z",
     "iopub.status.idle": "2022-01-22T16:47:40.295949Z",
     "shell.execute_reply": "2022-01-22T16:47:40.294946Z",
     "shell.execute_reply.started": "2022-01-22T16:47:40.273951Z"
    },
    "tags": []
   },
   "outputs": [
    {
     "data": {
      "text/plain": [
       "[('solver', 0, 1, [r0], ['r_8']),\n",
       " ('exp', 1, A0, 'f_1'),\n",
       " ('exp', 1, V0, 'f_2'),\n",
       " ('exp', 1, rho_LG0, 'f_3'),\n",
       " ('exp', 1, D0, 'f_7'),\n",
       " ('exp', 1, L0, 'f_5'),\n",
       " ('exp', 1, m_l, 'f_4'),\n",
       " ('exp', 1, m_t, 'f_0'),\n",
       " ('exp', 1, W0, 'f_6')]"
      ]
     },
     "execution_count": 17,
     "metadata": {},
     "output_type": "execute_result"
    }
   ],
   "source": [
    "execorder = generate_execution([notation])\n",
    "execorder"
   ]
  },
  {
   "cell_type": "code",
   "execution_count": 18,
   "id": "966e861f-1bea-4d7c-8b04-55aa4df6f1d3",
   "metadata": {
    "execution": {
     "iopub.execute_input": "2022-01-22T16:48:28.364063Z",
     "iopub.status.busy": "2022-01-22T16:48:28.363064Z",
     "iopub.status.idle": "2022-01-22T16:48:28.372062Z",
     "shell.execute_reply": "2022-01-22T16:48:28.371062Z",
     "shell.execute_reply.started": "2022-01-22T16:48:28.364063Z"
    }
   },
   "outputs": [],
   "source": [
    "mapping = {'solver': solver, 'exp':explicit}"
   ]
  },
  {
   "cell_type": "code",
   "execution_count": 20,
   "id": "88011a94-1729-481e-8ba5-c9b48744993c",
   "metadata": {
    "execution": {
     "iopub.execute_input": "2022-01-22T16:48:48.919545Z",
     "iopub.status.busy": "2022-01-22T16:48:48.919545Z",
     "iopub.status.idle": "2022-01-22T16:48:48.955522Z",
     "shell.execute_reply": "2022-01-22T16:48:48.954516Z",
     "shell.execute_reply.started": "2022-01-22T16:48:48.919545Z"
    },
    "tags": []
   },
   "outputs": [],
   "source": [
    "for fxname, *args in execorder:\n",
    "    mapping[fxname](groups, eqs, *args)"
   ]
  },
  {
   "cell_type": "code",
   "execution_count": 11,
   "id": "a5ad3161",
   "metadata": {
    "execution": {
     "iopub.execute_input": "2021-11-23T17:06:54.404721Z",
     "iopub.status.busy": "2021-11-23T17:06:54.403722Z",
     "iopub.status.idle": "2021-11-23T17:06:54.434722Z",
     "shell.execute_reply": "2021-11-23T17:06:54.433714Z",
     "shell.execute_reply.started": "2021-11-23T17:06:54.404721Z"
    }
   },
   "outputs": [],
   "source": [
    "solver(groups, eqs, 0, 1, [r0], [8])\n",
    "explicit(groups, eqs, 1, A0, 1)\n",
    "explicit(groups, eqs, 1, V0, 2)\n",
    "explicit(groups, eqs, 1, rho_LG0, 3)\n",
    "explicit(groups, eqs, 1, m_lg, 4)\n",
    "explicit(groups, eqs, 1, m_t, 0)\n",
    "explicit(groups, eqs, 1, L0, 5)\n",
    "explicit(groups, eqs, 1, W0, 6)\n",
    "explicit(groups, eqs, 1, D0, 7)"
   ]
  },
  {
   "cell_type": "code",
   "execution_count": 21,
   "id": "cef5beb5",
   "metadata": {
    "execution": {
     "iopub.execute_input": "2022-01-22T16:49:01.002930Z",
     "iopub.status.busy": "2022-01-22T16:49:01.002930Z",
     "iopub.status.idle": "2022-01-22T16:49:01.023445Z",
     "shell.execute_reply": "2022-01-22T16:49:01.022446Z",
     "shell.execute_reply.started": "2022-01-22T16:49:01.002930Z"
    },
    "tags": []
   },
   "outputs": [],
   "source": [
    "prob.setup();"
   ]
  },
  {
   "cell_type": "code",
   "execution_count": 22,
   "id": "dadac10f",
   "metadata": {
    "execution": {
     "iopub.execute_input": "2022-01-22T16:49:02.645092Z",
     "iopub.status.busy": "2022-01-22T16:49:02.645092Z",
     "iopub.status.idle": "2022-01-22T16:49:02.660092Z",
     "shell.execute_reply": "2022-01-22T16:49:02.659094Z",
     "shell.execute_reply.started": "2022-01-22T16:49:02.645092Z"
    },
    "tags": []
   },
   "outputs": [
    {
     "data": {
      "text/plain": [
       "array([1.])"
      ]
     },
     "execution_count": 22,
     "metadata": {},
     "output_type": "execute_result"
    }
   ],
   "source": [
    "prob.get_val('r0')"
   ]
  },
  {
   "cell_type": "code",
   "execution_count": 23,
   "id": "ab973cf1",
   "metadata": {
    "execution": {
     "iopub.execute_input": "2022-01-22T16:49:04.218742Z",
     "iopub.status.busy": "2022-01-22T16:49:04.218742Z",
     "iopub.status.idle": "2022-01-22T16:49:04.499266Z",
     "shell.execute_reply": "2022-01-22T16:49:04.498270Z",
     "shell.execute_reply.started": "2022-01-22T16:49:04.218742Z"
    },
    "tags": []
   },
   "outputs": [
    {
     "name": "stdout",
     "output_type": "stream",
     "text": [
      "\n",
      "======\n",
      "group1\n",
      "======\n",
      "NL: Newton Converged in 16 iterations\n"
     ]
    }
   ],
   "source": [
    "#prob.set_val('r0', 12)\n",
    "prob.run_model()"
   ]
  },
  {
   "cell_type": "code",
   "execution_count": 24,
   "id": "5c4cf216",
   "metadata": {
    "execution": {
     "iopub.execute_input": "2022-01-22T16:49:06.243860Z",
     "iopub.status.busy": "2022-01-22T16:49:06.243860Z",
     "iopub.status.idle": "2022-01-22T16:49:06.267849Z",
     "shell.execute_reply": "2022-01-22T16:49:06.266871Z",
     "shell.execute_reply.started": "2022-01-22T16:49:06.243860Z"
    },
    "tags": []
   },
   "outputs": [
    {
     "name": "stdout",
     "output_type": "stream",
     "text": [
      "20 Explicit Output(s) in 'model'\n",
      "\n",
      "varname      val             \n",
      "-----------  ----------------\n",
      "inp\n",
      "  C_D        [0.47]          \n",
      "  a          [1.]            \n",
      "  v          [6.]            \n",
      "  T0         [288.15]        \n",
      "  G0         [9.807]         \n",
      "  mp         [4624.]         \n",
      "  k          [1.38064852e-23]\n",
      "  mm_H2      [1.66e-27]      \n",
      "  P0         [101300.]       \n",
      "  mm_He      [6.64e-27]      \n",
      "  rho0       [1.225]         \n",
      "  mv         [500.]          \n",
      "group1\n",
      "  eqf_1\n",
      "    A0       [363.64624836]  \n",
      "  eqf_2\n",
      "    V0       [5216.53910562] \n",
      "  eqf_3\n",
      "    rho_LG0  [0.16907359]    \n",
      "  eqf_7\n",
      "    D0       [3768.64789486] \n",
      "  eqf_5\n",
      "    L0       [62669.28378577]\n",
      "  eqf_4\n",
      "    m_l      [881.97898347]  \n",
      "  eqf_0\n",
      "    m_t      [6005.97898347] \n",
      "  eqf_6\n",
      "    W0       [58900.63589091]\n",
      "\n",
      "\n",
      "1 Implicit Output(s) in 'model'\n",
      "\n",
      "varname   val          \n",
      "--------  -------------\n",
      "group1\n",
      "  resr_8\n",
      "    r0    [10.75881945]\n",
      "\n",
      "\n"
     ]
    }
   ],
   "source": [
    "model.list_outputs();"
   ]
  },
  {
   "cell_type": "code",
   "execution_count": null,
   "id": "1e0c2e8a",
   "metadata": {},
   "outputs": [],
   "source": []
  }
 ],
 "metadata": {
  "kernelspec": {
   "display_name": "mdo",
   "language": "python",
   "name": "mdo"
  },
  "language_info": {
   "codemirror_mode": {
    "name": "ipython",
    "version": 3
   },
   "file_extension": ".py",
   "mimetype": "text/x-python",
   "name": "python",
   "nbconvert_exporter": "python",
   "pygments_lexer": "ipython3",
   "version": "3.8.12"
  }
 },
 "nbformat": 4,
 "nbformat_minor": 5
}
